{
  "nbformat": 4,
  "nbformat_minor": 0,
  "metadata": {
    "kernelspec": {
      "display_name": "Python 3",
      "language": "python",
      "name": "python3"
    },
    "language_info": {
      "codemirror_mode": {
        "name": "ipython",
        "version": 3
      },
      "file_extension": ".py",
      "mimetype": "text/x-python",
      "name": "python",
      "nbconvert_exporter": "python",
      "pygments_lexer": "ipython3",
      "version": "3.6.9"
    },
    "colab": {
      "name": "European_Call_nstock_auto.ipynb",
      "provenance": [],
      "collapsed_sections": [
        "NwN6aLFDnwiy",
        "JIa4c_aHz15a",
        "u2_89jOknwjH",
        "rXT4Bg0wdL7l"
      ],
      "include_colab_link": true
    },
    "accelerator": "GPU"
  },
  "cells": [
    {
      "cell_type": "markdown",
      "metadata": {
        "id": "view-in-github",
        "colab_type": "text"
      },
      "source": [
        "<a href=\"https://colab.research.google.com/github/xinyanz-erin/Applied-Finance-Project/blob/Judy/European_Call_nstock_auto_3.ipynb\" target=\"_parent\"><img src=\"https://colab.research.google.com/assets/colab-badge.svg\" alt=\"Open In Colab\"/></a>"
      ]
    },
    {
      "cell_type": "code",
      "metadata": {
        "id": "9Xk52L4czj5x"
      },
      "source": [
        "nstock = 3"
      ],
      "execution_count": 1,
      "outputs": []
    },
    {
      "cell_type": "code",
      "metadata": {
        "id": "gCR6hhw5Xq_R"
      },
      "source": [
        "import warnings\n",
        "warnings.filterwarnings('ignore')"
      ],
      "execution_count": 2,
      "outputs": []
    },
    {
      "cell_type": "code",
      "metadata": {
        "colab": {
          "base_uri": "https://localhost:8080/"
        },
        "id": "gSxOZk3ls2XQ",
        "outputId": "54f35261-b9da-4e82-a09b-bae2c79fbd7d"
      },
      "source": [
        "!curl https://colab.chainer.org/install |sh -\n",
        "import cupy"
      ],
      "execution_count": 3,
      "outputs": [
        {
          "output_type": "stream",
          "text": [
            "  % Total    % Received % Xferd  Average Speed   Time    Time     Time  Current\n",
            "                                 Dload  Upload   Total   Spent    Left  Speed\n",
            "100  1580  100  1580    0     0   8926      0 --:--:-- --:--:-- --:--:--  8876\n",
            "+ apt -y -q install cuda-libraries-dev-10-0\n",
            "Reading package lists...\n",
            "Building dependency tree...\n",
            "Reading state information...\n",
            "cuda-libraries-dev-10-0 is already the newest version (10.0.130-1).\n",
            "0 upgraded, 0 newly installed, 0 to remove and 40 not upgraded.\n",
            "+ pip install -q cupy-cuda100  chainer \n",
            "\u001b[K     |████████████████████████████████| 58.9 MB 45 kB/s \n",
            "\u001b[K     |████████████████████████████████| 1.0 MB 60.8 MB/s \n",
            "\u001b[?25h  Building wheel for chainer (setup.py) ... \u001b[?25l\u001b[?25hdone\n",
            "+ set +ex\n",
            "Installation succeeded!\n"
          ],
          "name": "stdout"
        }
      ]
    },
    {
      "cell_type": "markdown",
      "metadata": {
        "id": "NwN6aLFDnwiy"
      },
      "source": [
        "### Deep Learning Barrier Option\n",
        "\n",
        "We used Numba and CuPy in the previous notebook to run Monte Carlo simulation to determine the price of the Asian Barrier option. A Monte Carlo simulation needs millions of paths to get an accurate answer which is computationally intensive. [Ryan et al (2018)](https://arxiv.org/abs/1809.02233) showed that a deep learning model can be trained to value derivatives. The deep learning model is accurate and very fast, capable of producing valuations a million times faster than traditional models. In the this notebook, we will use a fully connected network to learn the pricing mode of the Asian Barrier option. Monte Carlo simulation is used as pricing ground truth for the training. We use the same Asian Barrier Option model as last notebook with parameters listed as following:\n",
        "\n",
        "```\n",
        "T - Maturity (yrs.)\n",
        "S - Spot (usd)\n",
        "K - Strike (usd)\n",
        "sigma - Volatility (per.)\n",
        "r - Risk Free Rate (per.)\n",
        "mu - Stock Drift Rate (per.)\n",
        "B - Barrier (usd)\n",
        "```\n",
        "\n",
        "### Batched Data generation\n",
        "\n",
        "The dataset is an important part of the Deep learning training. We will modify the previous single Asian Barrier Option pricing code to handle a batch of Barrier Option pricing. "
      ]
    },
    {
      "cell_type": "code",
      "metadata": {
        "id": "cHYrh4iYfP-n",
        "cellView": "form"
      },
      "source": [
        "#@title\n",
        "###Test: Judy's new X code\n",
        "#N_STOCKS = 3"
      ],
      "execution_count": null,
      "outputs": []
    },
    {
      "cell_type": "code",
      "metadata": {
        "id": "hy7qGwT0jv4A",
        "cellView": "form"
      },
      "source": [
        "#@title\n",
        "#X = cupy.array([])\n",
        "#for i in range(0,N_STOCKS):\n",
        "  #X =  cupy.concatenate((X,cupy.array([1,1]), cupy.random.rand(3),cupy.array([1])))\n",
        "#X = X.reshape(N_STOCKS,6)\n",
        "#X"
      ],
      "execution_count": null,
      "outputs": []
    },
    {
      "cell_type": "code",
      "metadata": {
        "id": "9OHtAXC8hVae",
        "cellView": "form"
      },
      "source": [
        "#@title\n",
        "#X = X * ((cupy.array([200.0, 0, 200.0, 0.4, 0.2, 0.2] * N_STOCKS, dtype = cupy.float32)).reshape(N_STOCKS, 6))\n",
        "#X"
      ],
      "execution_count": null,
      "outputs": []
    },
    {
      "cell_type": "markdown",
      "metadata": {
        "id": "TY_9g3tbdLiY"
      },
      "source": [
        "### Train(Erin Version)"
      ]
    },
    {
      "cell_type": "code",
      "metadata": {
        "id": "qBxT9Eida-c_"
      },
      "source": [
        "# ################################# TEST ########################################\n",
        "# %%writefile cupy_dataset.py\n",
        "\n",
        "# import numba\n",
        "# from numba import cuda\n",
        "# import random\n",
        "# import cupy\n",
        "# import numpy as np\n",
        "# import math\n",
        "# import time\n",
        "# import torch\n",
        "# cupy.cuda.set_allocator(None)\n",
        "# from torch.utils.dlpack import from_dlpack\n",
        "\n",
        "# @cuda.jit\n",
        "# def batch_barrier_option(d_s, T, K, B, S0, sigma, mu, r, d_normals, N_STEPS, N_PATHS, N_BATCH):\n",
        "#     # ii - overall thread index\n",
        "#     ii = cuda.threadIdx.x + cuda.blockIdx.x * cuda.blockDim.x\n",
        "#     stride = cuda.gridDim.x * cuda.blockDim.x\n",
        "#     tmp3 = math.sqrt(T/N_STEPS)\n",
        "#     for i in range(ii, N_PATHS * N_BATCH, stride):\n",
        "#         batch_id = i // N_PATHS\n",
        "#         path_id = i % N_PATHS\n",
        "#         tmp1 = mu[batch_id]*T/N_STEPS\n",
        "#         tmp2 = math.exp(-r[batch_id]*T)\n",
        "#         running_average = 0.0\n",
        "#         s_curr = S0[batch_id]\n",
        "#         for n in range(N_STEPS):\n",
        "#             s_curr += tmp1 * s_curr + sigma[batch_id]*s_curr*tmp3*d_normals[path_id + batch_id * N_PATHS + n * N_PATHS * N_BATCH] # stock price\n",
        "#             running_average = running_average + 1.0/(n + 1.0) * (s_curr - running_average) # average of the path\n",
        "#             if i==0 and batch_id == 2:\n",
        "#                 print(s_curr)\n",
        "#             if running_average <= B[batch_id]: # if reach barrier, drop out the path\n",
        "#                 break\n",
        "#         payoff = running_average - K[batch_id] if running_average > K[batch_id] else 0\n",
        "#         d_s[i] = tmp2 * payoff\n",
        "\n",
        "# class NumbaOptionDataSet(object):\n",
        "    \n",
        "#     def __init__(self, max_len=10, number_path = 1000, batch=2, threads=512, seed=15, stocks=3):  # 3 stocks\n",
        "#         self.num = 0\n",
        "#         self.max_length = max_len\n",
        "#         self.N_PATHS = number_path\n",
        "#         self.N_STEPS = 365\n",
        "#         self.N_BATCH = batch\n",
        "#         self.N_STOCKS = stocks\n",
        "#         self.T = np.float32(1.0)\n",
        "#         self.output = cupy.zeros(self.N_STOCKS*self.N_PATHS, dtype=cupy.float32) \n",
        "#         self.number_of_blocks = (self.N_PATHS * self.N_STOCKS - 1) // threads + 1\n",
        "#         self.number_of_threads = threads\n",
        "#         cupy.random.seed(seed)\n",
        "        \n",
        "#     def __len__(self):\n",
        "#         return self.max_length\n",
        "        \n",
        "#     def __iter__(self):\n",
        "#         self.num = 0\n",
        "#         return self\n",
        "    \n",
        "#     def __next__(self):\n",
        "#         if self.num > self.max_length:\n",
        "#             raise StopIteration\n",
        "        \n",
        "#         Y = cupy.zeros(self.N_BATCH, dtype=cupy.float32)\n",
        "#         paras = cupy.zeros((self.N_BATCH, self.N_STOCKS * 6), dtype = cupy.float32)\n",
        "#         for op in range(self.N_BATCH):\n",
        "          \n",
        "#           X = cupy.array([])\n",
        "#           K_rand = cupy.random.rand(1)[0]\n",
        "#           B_rand = cupy.random.rand(1)[0]\n",
        "#           r_rand = cupy.random.rand(1)[0]\n",
        "#           for i in range(0,self.N_STOCKS):\n",
        "#             X =  cupy.concatenate((X,cupy.array([K_rand,B_rand]), cupy.random.rand(3),cupy.array([r_rand]))) #[K,B,S0,sigma,mu,r], K B r are shared\n",
        "#           X = X.reshape(self.N_STOCKS,6)\n",
        "#           X = X * ((cupy.array([200.0, 0.1, 200.0, 0.4, 0.2, 0.2] * self.N_STOCKS, dtype = cupy.float32)).reshape(self.N_STOCKS, 6))\n",
        "#           #X = cupy.random.rand(6 * self.N_STOCKS, dtype=cupy.float32)\n",
        "#           #X = 0.9 + cupy.random.rand(6 * self.N_STOCKS, dtype=cupy.float32)*0.1\n",
        "#           # scale the [0, 1) random numbers to the correct range for each of the option parameters\n",
        "#           #X = (X * cupy.array([200.0, 0.99, 200.0, 0.4, 0.2, 0.2] * self.N_STOCKS, dtype = cupy.float32)).reshape(self.N_STOCKS, 6)\n",
        "\n",
        "#           # make sure the Barrier is smaller than the Strike price\n",
        "#           # X[:, 1] = X[:, 0] * X[:, 1]\n",
        "#           for i in range(self.N_STOCKS):\n",
        "#             paras[op,i*6:(i+1)*6] = X[i,:]\n",
        "\n",
        "#           stocks_randoms_mean = cupy.zeros(self.N_STOCKS, dtype = cupy.float32)\n",
        "#           rho = cupy.random.normal(0, 1, self.N_STOCKS, dtype = cupy.float32)\n",
        "\n",
        "#           #stocks_randoms_cov = cupy.ones((self.N_STOCKS, self.N_STOCKS), dtype = cupy.float32)\n",
        "#           #cupy.fill_diagonal(stocks_randoms_cov, rho)\n",
        "\n",
        "#           #stocks_randoms_cov = (-0.99 + cupy.random.rand(self.N_STOCKS*self.N_STOCKS, dtype=cupy.float32)*2*0.99).reshape(self.N_STOCKS,self.N_STOCKS)\n",
        "#           stocks_randoms_cov = cupy.array([1] * self.N_STOCKS*self.N_STOCKS, dtype = cupy.float32).reshape(self.N_STOCKS,self.N_STOCKS)  #Covariance\n",
        "#           cupy.fill_diagonal(stocks_randoms_cov, 1)\n",
        "\n",
        "#           num_of_randoms_each_stock = self.N_PATHS * self.N_STEPS\n",
        "#           randoms_gpu = cupy.random.multivariate_normal(stocks_randoms_mean, stocks_randoms_cov,\n",
        "#                                                         num_of_randoms_each_stock, dtype=cupy.float32)\n",
        "#           b1_r = randoms_gpu[:,0]\n",
        "#           b2_r = randoms_gpu[:,1]\n",
        "#           randoms = cupy.zeros(self.N_STOCKS * self.N_PATHS * self.N_STEPS, dtype=cupy.float32)\n",
        "#           interval = int((self.N_PATHS * self.N_STEPS * self.N_STOCKS) / self.N_PATHS)\n",
        "#           for i in range(interval):\n",
        "#             if i % 2 == 0:\n",
        "#                 ind = int(i/2)\n",
        "#                 randoms[i*self.N_PATHS:(i+1)*self.N_PATHS] = b1_r[ind:(ind+self.N_PATHS)]\n",
        "#             else:\n",
        "#                 ind = int(i//2)\n",
        "#                 randoms[i*self.N_PATHS:(i+1)*self.N_PATHS] = b2_r[ind:(ind+self.N_PATHS)]\n",
        "\n",
        "#           randoms = cupy.random.normal(0, 1, self.N_STOCKS * self.N_PATHS * self.N_STEPS, dtype=cupy.float32)\n",
        "#           batch_barrier_option[(self.number_of_blocks,), (self.number_of_threads,)](self.output, self.T, X[:, 0], \n",
        "#                                 X[:, 1], X[:, 2], X[:, 3], X[:, 4], X[:, 5], randoms, self.N_STEPS, self.N_PATHS, self.N_STOCKS)\n",
        "          \n",
        "#           o = self.output.reshape(self.N_STOCKS, self.N_PATHS)\n",
        "#           Y[op] = o.mean(axis = 0).mean()\n",
        "\n",
        "#         self.num += 1\n",
        "#         return (from_dlpack(paras.toDlpack()), from_dlpack(Y.toDlpack()))\n",
        "\n",
        "\n",
        "\n",
        "# # ds = NumbaOptionDataSet(10, number_path=100000, batch=3, seed=random.randint(0,100), stocks=5)\n",
        "# # for i in ds:\n",
        "# #     print(i[0])\n",
        "# ################################# TEST ########################################"
      ],
      "execution_count": 4,
      "outputs": []
    },
    {
      "cell_type": "markdown",
      "metadata": {
        "id": "s6dZnWTTfbf1"
      },
      "source": [
        "### Train (European Call option)"
      ]
    },
    {
      "cell_type": "code",
      "metadata": {
        "colab": {
          "base_uri": "https://localhost:8080/"
        },
        "id": "CeREuPw0fguQ",
        "outputId": "6dac4ea9-3606-4d80-8c5c-d9d7572b155d"
      },
      "source": [
        "################################# TEST ########################################\n",
        "%%writefile cupy_dataset.py\n",
        "\n",
        "import numba\n",
        "from numba import cuda\n",
        "import random\n",
        "import cupy\n",
        "import numpy as np\n",
        "import math\n",
        "import time\n",
        "import torch\n",
        "cupy.cuda.set_allocator(None)\n",
        "from torch.utils.dlpack import from_dlpack\n",
        "\n",
        "@cuda.jit\n",
        "def European_call_option(d_s, T, K, S0, sigma, mu, r, d_normals, N_STEPS, N_PATHS, N_BATCH):\n",
        "    # ii - overall thread index\n",
        "    ii = cuda.threadIdx.x + cuda.blockIdx.x * cuda.blockDim.x\n",
        "    stride = cuda.gridDim.x * cuda.blockDim.x\n",
        "    #tmp3 = math.sqrt(T/N_STEPS)\n",
        "    for i in range(ii, N_PATHS * N_BATCH, stride):\n",
        "        batch_id = i // N_PATHS\n",
        "        path_id = i % N_PATHS\n",
        "        h = T[batch_id] / N_STEPS\n",
        "        tmp1 = r[batch_id]*T[batch_id]/N_STEPS \n",
        "        tmp2 = math.exp(-r[batch_id]*T[batch_id]) # discount\n",
        "        tmp3 = math.sqrt(T[batch_id]/N_STEPS)\n",
        "        #running_average = 0.0\n",
        "        s_curr = S0[batch_id]\n",
        "        for n in range(N_STEPS):\n",
        "          s_curr += tmp1 * s_curr + sigma[batch_id]*s_curr*tmp3*d_normals[path_id + batch_id * N_PATHS + n * N_PATHS * N_BATCH] # stock price\n",
        "          #s_curr = s_curr * math.exp((r[batch_id] - (1/2)*sigma[batch_id]**2)*h + sigma[batch_id] * tmp3 * d_normals[path_id + batch_id * N_PATHS + n * N_PATHS * N_BATCH])\n",
        "          #running_average = running_average + 1.0/(n + 1.0) * (s_curr - running_average) # average of the path\n",
        "          #if i==0 and batch_id == 2:\n",
        "          #    print(s_curr)\n",
        "          #if running_average <= B[batch_id]: # if reach barrier, drop out the path\n",
        "          #    break\n",
        "        #payoff = running_average - K[batch_id] if running_average > K[batch_id] else 0\n",
        "        #payoff = s_curr - K[batch_id] if s_curr > K[batch_id] else 0\n",
        "        #d_s[i] = tmp2 * payoff\n",
        "        d_s[i] = s_curr\n",
        "\n",
        "class NumbaOptionDataSet(object):\n",
        "    \n",
        "    def __init__(self, max_len=10, number_path = 1000, batch=2, threads=512, seed=15, stocks=3):  # 3 stocks\n",
        "        self.num = 0\n",
        "        self.max_length = max_len\n",
        "        self.N_PATHS = number_path\n",
        "        #self.N_STEPS = 365\n",
        "        self.N_STEPS = 10000\n",
        "        self.N_BATCH = batch\n",
        "        self.N_STOCKS = stocks\n",
        "        #self.T = np.float32(1.0)\n",
        "        self.output = cupy.zeros(self.N_STOCKS*self.N_PATHS, dtype=cupy.float32)\n",
        "        self.number_of_blocks = (self.N_PATHS * self.N_STOCKS - 1) // threads + 1\n",
        "        self.number_of_threads = threads\n",
        "        cupy.random.seed(seed)\n",
        "        \n",
        "    def __len__(self):\n",
        "        return self.max_length\n",
        "        \n",
        "    def __iter__(self):\n",
        "        self.num = 0\n",
        "        return self\n",
        "    \n",
        "    def __next__(self):\n",
        "        if self.num > self.max_length:\n",
        "            raise StopIteration\n",
        "        \n",
        "        Y = cupy.zeros(self.N_BATCH, dtype=cupy.float32)\n",
        "        paras = cupy.zeros((self.N_BATCH, self.N_STOCKS * 6), dtype = cupy.float32)\n",
        "        #paras = cupy.zeros((self.N_BATCH, self.N_STOCKS * 5), dtype = cupy.float32)\n",
        "\n",
        "        for op in range(self.N_BATCH):\n",
        "          \n",
        "          X = cupy.array([])\n",
        "          #T_rand = cupy.random.rand(1)[0]\n",
        "          K_rand = cupy.random.rand(1)\n",
        "          #B_rand = cupy.random.rand(1)[0]\n",
        "          r_rand = cupy.random.rand(1)\n",
        "          for i in range(0, self.N_STOCKS):\n",
        "            #X =  cupy.concatenate((X, cupy.array([K_rand,B_rand]), cupy.random.rand(3), cupy.array([r_rand]))) #[K,B,S0,sigma,mu,r], K B r are shared\n",
        "            X = cupy.concatenate((X, cupy.array([1.0]), K_rand, cupy.random.rand(3), r_rand))\n",
        "          \n",
        "          X = X.reshape(self.N_STOCKS, 6)\n",
        "          #X = X * ((cupy.array([200.0, 0.1, 200.0, 0.4, 0.2, 0.2] * self.N_STOCKS, dtype = cupy.float32)).reshape(self.N_STOCKS, 6))\n",
        "          #[T, K, S0, sigma, mu, r]\n",
        "          X = X * ((cupy.array([1, 150.0, 150.0, 0.4, 0.2, 0.2] * self.N_STOCKS, dtype = cupy.float32)).reshape(self.N_STOCKS, 6))\n",
        "          #X = cupy.random.rand(6 * self.N_STOCKS, dtype=cupy.float32)\n",
        "          #X = 0.9 + cupy.random.rand(6 * self.N_STOCKS, dtype=cupy.float32)*0.1\n",
        "          # scale the [0, 1) random numbers to the correct range for each of the option parameters\n",
        "          #X = (X * cupy.array([200.0, 0.99, 200.0, 0.4, 0.2, 0.2] * self.N_STOCKS, dtype = cupy.float32)).reshape(self.N_STOCKS, 6)\n",
        "\n",
        "          # make sure the Barrier is smaller than the Strike price\n",
        "          # X[:, 1] = X[:, 0] * X[:, 1]\n",
        "          for i in range(self.N_STOCKS):\n",
        "            paras[op,i*6:(i+1)*6] = X[i,:]\n",
        "            #paras[op, i*5:(i+1)*5] = X[i,:]\n",
        "\n",
        "          stocks_randoms_mean = cupy.zeros(self.N_STOCKS, dtype = cupy.float32)\n",
        "          rho = cupy.random.normal(0, 1, self.N_STOCKS, dtype = cupy.float32)\n",
        "\n",
        "          #stocks_randoms_cov = cupy.ones((self.N_STOCKS, self.N_STOCKS), dtype = cupy.float32)\n",
        "          #cupy.fill_diagonal(stocks_randoms_cov, rho)\n",
        "\n",
        "          #stocks_randoms_cov = (-0.99 + cupy.random.rand(self.N_STOCKS*self.N_STOCKS, dtype=cupy.float32)*2*0.99).reshape(self.N_STOCKS,self.N_STOCKS)\n",
        "          if self.N_STOCKS != 1:\n",
        "            randoms = cupy.random.normal(0, 1, self.N_STOCKS * self.N_PATHS * self.N_STEPS, dtype=cupy.float32)\n",
        "            # stocks_randoms_cov = cupy.array([0] * self.N_STOCKS*self.N_STOCKS, dtype = cupy.float32).reshape(self.N_STOCKS,self.N_STOCKS)  #Covariance\n",
        "            # cupy.fill_diagonal(stocks_randoms_cov, 1)\n",
        "\n",
        "            # num_of_randoms_each_stock = self.N_PATHS * self.N_STEPS\n",
        "            # randoms_gpu = cupy.random.multivariate_normal(stocks_randoms_mean, stocks_randoms_cov,\n",
        "            #                                               num_of_randoms_each_stock, dtype=cupy.float32)\n",
        "            # b1_r = randoms_gpu[:,0]\n",
        "            # b2_r = randoms_gpu[:,1]\n",
        "            # randoms = cupy.zeros(self.N_STOCKS * self.N_PATHS * self.N_STEPS, dtype=cupy.float32)\n",
        "            # interval = int((self.N_PATHS * self.N_STEPS * self.N_STOCKS) / self.N_PATHS)\n",
        "            # for i in range(interval):\n",
        "            #   if i % 2 == 0:\n",
        "            #       ind = int(i/2)\n",
        "            #       randoms[i*self.N_PATHS:(i+1)*self.N_PATHS] = b1_r[ind:(ind+self.N_PATHS)]\n",
        "            #   else:\n",
        "            #       ind = int(i//2)\n",
        "            #       randoms[i*self.N_PATHS:(i+1)*self.N_PATHS] = b2_r[ind:(ind+self.N_PATHS)]\n",
        "          if self.N_STOCKS == 1:\n",
        "            randoms = cupy.random.normal(0, 1, self.N_STOCKS * self.N_PATHS * self.N_STEPS, dtype=cupy.float32)\n",
        "          \n",
        "          European_call_option[(self.number_of_blocks,), (self.number_of_threads,)](self.output, X[:, 0], \n",
        "                                X[:, 1], X[:, 2], X[:, 3], X[:, 4], X[:, 5], randoms, self.N_STEPS, self.N_PATHS, self.N_STOCKS)\n",
        "          \n",
        "          o = self.output.reshape(self.N_STOCKS, self.N_PATHS) # this contains prices for each stock for each path at time T\n",
        "          K = K_rand * 150\n",
        "          r = r_rand * 0.2\n",
        "          o = o.mean(axis = 0) # average across stocks end prices\n",
        "          payoff = np.maximum(o - K, 0) # compute payoff\n",
        "          payoff = payoff * np.exp(-r*1) # T=1, discount\n",
        "          Y[op] = payoff.mean()\n",
        "\n",
        "        self.num += 1\n",
        "        return (from_dlpack(paras.toDlpack()), from_dlpack(Y.toDlpack()))\n",
        "\n",
        "\n",
        "# ds = NumbaOptionDataSet(1, number_path = 10000, batch = 3, seed = random.randint(0,100), stocks=nstock)\n",
        "# for i in ds:\n",
        "#     print(i)\n",
        "################################# TEST ########################################"
      ],
      "execution_count": 5,
      "outputs": [
        {
          "output_type": "stream",
          "text": [
            "Writing cupy_dataset.py\n"
          ],
          "name": "stdout"
        }
      ]
    },
    {
      "cell_type": "markdown",
      "metadata": {
        "id": "JIa4c_aHz15a"
      },
      "source": [
        "### For verification (Monte Carlo for n-stocks basket)"
      ]
    },
    {
      "cell_type": "code",
      "metadata": {
        "id": "4DTuXR1ANZPC"
      },
      "source": [
        "# def test(array):\n",
        "#   S1 = array[2]\n",
        "#   S2 = array[8]\n",
        "#   S3 = array[14]\n",
        "#   sigma1 = array[3]\n",
        "#   sigma2 = array[9]\n",
        "#   sigma3 = array[15]\n",
        "#   T = 1  \n",
        "#   K = array[1]\n",
        "#   r = array[5]\n",
        "\n",
        "#   dt = 1/1000\n",
        "#   N = round(T/dt)\n",
        "#   t = np.linspace(0, T, N)\n",
        "\n",
        "#   out = []\n",
        "\n",
        "#   for i in range(10000):\n",
        "#     W1 = np.random.standard_normal(size = N)\n",
        "#     W1 = np.cumsum(W1) * np.sqrt(dt)\n",
        "#     W2 = np.random.standard_normal(size = N)\n",
        "#     W2 = np.cumsum(W2) * np.sqrt(dt)\n",
        "#     W3 = np.random.standard_normal(size = N)\n",
        "#     W3 = np.cumsum(W3) * np.sqrt(dt)\n",
        "\n",
        "#     # W = np.random.standard_normal(size = N)\n",
        "#     # W = np.cumsum(W) * np.sqrt(dt)\n",
        "    \n",
        "#     P1_T = (S1 * np.exp((r - 0.5*sigma1**2) *t + sigma1 * W1))[-1]\n",
        "#     P2_T = (S2 * np.exp((r - 0.5*sigma2**2) *t + sigma2 * W2))[-1]\n",
        "#     P3_T = (S3 * np.exp((r - 0.5*sigma3**2) *t + sigma3 * W3))[-1]\n",
        "#     payoff = (P1_T+P2_T+P3_T)/3 - K if (P1_T+P2_T+P3_T)/3 > K else 0\n",
        "#     out.append(payoff * np.exp(-r*T))\n",
        "  \n",
        "#   return(np.array(out).mean())\n",
        "\n",
        "# print(test(np.array([1.0000e+00, 5.8549e+00, 3.6871e+01, 2.6866e-01, 1.9026e-01, 1.8305e-01,\n",
        "#          1.0000e+00, 5.8549e+00, 4.1110e+00, 2.3714e-01, 5.9547e-02, 1.8305e-01,\n",
        "#          1.0000e+00, 5.8549e+00, 1.6189e+01, 7.3936e-02, 1.1713e-01, 1.8305e-01])))\n",
        "# print(test(np.array([1.0000e+00, 1.1296e+02, 7.4318e+01, 2.0409e-01, 1.9133e-01, 5.3904e-02,\n",
        "#          1.0000e+00, 1.1296e+02, 5.3453e+01, 4.8439e-02, 5.8557e-02, 5.3904e-02,\n",
        "#          1.0000e+00, 1.1296e+02, 3.8721e+01, 2.0259e-01, 6.0423e-02, 5.3904e-02])))\n",
        "# print(test(np.array([1.0000e+00, 3.2307e+01, 3.8874e+01, 2.5820e-01, 1.9522e-01, 8.6353e-02,\n",
        "#          1.0000e+00, 3.2307e+01, 3.6077e+01, 3.7123e-01, 1.8810e-01, 8.6353e-02,\n",
        "#          1.0000e+00, 3.2307e+01, 6.9274e+01, 2.4100e-01, 1.9839e-01, 8.6353e-02])))\n",
        "# print(test(np.array([1.0000e+00, 2.4764e+01, 6.6956e+01, 2.0769e-01, 9.8127e-02, 1.7302e-01,\n",
        "#          1.0000e+00, 2.4764e+01, 3.6483e+01, 8.9075e-02, 1.9375e-01, 1.7302e-01,\n",
        "#          1.0000e+00, 2.4764e+01, 9.4748e+01, 2.6420e-01, 1.2015e-01, 1.7302e-01])))\n",
        "# print(test(np.array([1.0000e+00, 8.4591e+01, 1.2730e+02, 2.8949e-02, 1.0954e-01, 1.3706e-01,\n",
        "#          1.0000e+00, 8.4591e+01, 1.2859e+02, 1.5262e-01, 1.4064e-03, 1.3706e-01,\n",
        "#          1.0000e+00, 8.4591e+01, 4.6679e+01, 2.6688e-01, 1.5895e-01, 1.3706e-01])))\n",
        "# print(test(np.array([1.0000e+00, 6.8433e+01, 3.5593e+01, 6.5870e-02, 6.8068e-02, 1.3578e-02,\n",
        "#          1.0000e+00, 6.8433e+01, 2.3864e+01, 9.5815e-02, 1.6075e-01, 1.3578e-02,\n",
        "#          1.0000e+00, 6.8433e+01, 1.1863e+02, 3.0400e-01, 5.6958e-02, 1.3578e-02])))"
      ],
      "execution_count": null,
      "outputs": []
    },
    {
      "cell_type": "code",
      "metadata": {
        "id": "Bqx6hNuucM5U"
      },
      "source": [
        "# array = np.array([1.0000e+00, 8.3754e+01, 1.2787e+02, 2.7420e-01, 1.2507e-01, 1.7700e-01,\n",
        "#          1.0000e+00, 8.3754e+01, 4.0869e+01, 3.3302e-01, 1.7439e-01, 1.7700e-01,\n",
        "#          1.0000e+00, 8.3754e+01, 1.1031e+02, 3.5945e-01, 1.5382e-01, 1.7700e-01])\n",
        "\n",
        "# S1 = array[2]\n",
        "# S2 = array[8]\n",
        "# S3 = array[14]\n",
        "# sigma1 = array[3]\n",
        "# sigma2 = array[9]\n",
        "# sigma3 = array[15]\n",
        "# T = 1  \n",
        "# K = array[1]\n",
        "# r = array[5]\n",
        "\n",
        "# dt = 1/100\n",
        "# N = round(T/dt)\n",
        "# t = np.linspace(0, T, N)\n",
        "\n",
        "# out = []\n",
        "\n",
        "# #for i in range(1000):\n",
        "# W = np.random.standard_normal(size = N)\n",
        "# W = np.cumsum(W) * np.sqrt(dt)\n",
        "# P1_T = (S1 * np.exp((r - 0.5*sigma1**2) *t + sigma1 * W))\n",
        "# P2_T = (S2 * np.exp((r - 0.5*sigma2**2) *t + sigma2 * W))[-1]\n",
        "# P3_T = (S3 * np.exp((r - 0.5*sigma3**2) *t + sigma3 * W))[-1]\n",
        "# #ayoff = (P1_T+P2_T+P3_T)/3 - K if (P1_T+P2_T+P3_T)/3 > K else 0\n",
        "# #out.append(payoff * np.exp(-r*T))\n",
        "\n",
        "# #return(np.array(out).mean())\n",
        "# #P1_T\n",
        "# import matplotlib.pyplot as plt\n",
        "# plt.plot(t, P1_T)\n",
        "# plt.show()"
      ],
      "execution_count": null,
      "outputs": []
    },
    {
      "cell_type": "code",
      "metadata": {
        "id": "8tpLw9WDhx8b"
      },
      "source": [
        "# stocks_randoms_cov = cupy.array([0.99999] * 3 * 3, dtype = cupy.float32).reshape(3,3)  #Covariance\n",
        "# cupy.fill_diagonal(stocks_randoms_cov, 1)\n",
        "\n",
        "# stocks_randoms_mean = cupy.zeros(3, dtype = cupy.float32)\n",
        "\n",
        "# num_of_randoms_each_stock = 2 * 3\n",
        "# randoms_gpu = cupy.random.multivariate_normal(stocks_randoms_mean, stocks_randoms_cov,\n",
        "#                                               num_of_randoms_each_stock, dtype=cupy.float32)\n",
        "# randoms_gpu"
      ],
      "execution_count": null,
      "outputs": []
    },
    {
      "cell_type": "markdown",
      "metadata": {
        "id": "u2_89jOknwjH"
      },
      "source": [
        "### Model\n",
        "To map the option parameters to price, we use 6 layers of fully connected neural network with hidden dimension 512 as inspired by [this paper](https://arxiv.org/abs/1809.02233). Writing this DL price model into a file `model.py`:-"
      ]
    },
    {
      "cell_type": "markdown",
      "metadata": {
        "id": "NMHqzJycx8XH"
      },
      "source": [
        "### Modified Model"
      ]
    },
    {
      "cell_type": "code",
      "metadata": {
        "id": "ZTn7iJQryAIH",
        "colab": {
          "base_uri": "https://localhost:8080/"
        },
        "outputId": "21e0e46e-ef00-4d18-833a-9a765f6430f8"
      },
      "source": [
        "%%writefile model.py\n",
        "import torch.nn as nn\n",
        "import torch.nn.functional as F\n",
        "import torch\n",
        "import numpy as np\n",
        "\n",
        "\n",
        "class Net(nn.Module):\n",
        "\n",
        "    def __init__(self, hidden=1024, nstock=3):\n",
        "        super(Net, self).__init__()\n",
        "        self.nstock = nstock\n",
        "        self.fc1 = nn.Linear(6 * self.nstock, hidden)\n",
        "        self.fc2 = nn.Linear(hidden, hidden)\n",
        "        self.fc3 = nn.Linear(hidden, hidden)\n",
        "        self.fc4 = nn.Linear(hidden, hidden)\n",
        "        self.fc5 = nn.Linear(hidden, hidden)\n",
        "        self.fc6 = nn.Linear(hidden, 1)\n",
        "        self.register_buffer('norm',\n",
        "                             torch.tensor([1, 150.0, 150.0, 0.4, 0.2, 0.2] * self.nstock)) # don't use numpy here - will give error later\n",
        "\n",
        "    def forward(self, x):\n",
        "        # normalize the parameter to range [0-1] \n",
        "        x = x / self.norm\n",
        "        x = F.elu(self.fc1(x))\n",
        "        x = F.elu(self.fc2(x))\n",
        "        x = F.elu(self.fc3(x))\n",
        "        x = F.elu(self.fc4(x))\n",
        "        x = F.elu(self.fc5(x))\n",
        "        return self.fc6(x)"
      ],
      "execution_count": 6,
      "outputs": [
        {
          "output_type": "stream",
          "text": [
            "Writing model.py\n"
          ],
          "name": "stdout"
        }
      ]
    },
    {
      "cell_type": "markdown",
      "metadata": {
        "id": "hSPRFqyznwjI"
      },
      "source": [
        "As we know the random parameters' scaling factors, the input parameters are first scaled back to a range of (0-1) by dividing them by (200.0, 198.0, 200.0, 0.4, 0.2, 0.2). Then they are projected 5 times to the hidden dimension of 512 after the `ELu` activation function. `ELu` is chosen because we need to compute the second order differentiation of the parameters. If use ReLu, the second order differentiation will always be zero. The last layer is a linear layer that maps the hidden dimension to the predicted option price. "
      ]
    },
    {
      "cell_type": "markdown",
      "metadata": {
        "id": "AM8J2liPnwjJ"
      },
      "source": [
        "For training, we use [Ignite](https://github.com/pytorch/ignite) which is a high-level library to train neural networks in PyTorch. We use `MSELoss` as the loss function, `Adam` as the optimizer and `CosineAnnealingScheduler` as the learning rate scheduler. The following code is feeding the random option data to the pricing model to train it."
      ]
    },
    {
      "cell_type": "markdown",
      "metadata": {
        "id": "yACi4ge13_rd"
      },
      "source": [
        "### Train"
      ]
    },
    {
      "cell_type": "code",
      "metadata": {
        "id": "1TyZT8_AH35M",
        "colab": {
          "base_uri": "https://localhost:8080/"
        },
        "outputId": "bdf4a0ff-a711-424f-e1b2-e8a62d5b0fb1"
      },
      "source": [
        "!pip install pytorch-ignite"
      ],
      "execution_count": 7,
      "outputs": [
        {
          "output_type": "stream",
          "text": [
            "Collecting pytorch-ignite\n",
            "  Downloading pytorch_ignite-0.4.6-py3-none-any.whl (232 kB)\n",
            "\u001b[?25l\r\u001b[K     |█▍                              | 10 kB 31.3 MB/s eta 0:00:01\r\u001b[K     |██▉                             | 20 kB 18.9 MB/s eta 0:00:01\r\u001b[K     |████▎                           | 30 kB 10.4 MB/s eta 0:00:01\r\u001b[K     |█████▋                          | 40 kB 8.9 MB/s eta 0:00:01\r\u001b[K     |███████                         | 51 kB 5.0 MB/s eta 0:00:01\r\u001b[K     |████████▌                       | 61 kB 5.5 MB/s eta 0:00:01\r\u001b[K     |█████████▉                      | 71 kB 5.3 MB/s eta 0:00:01\r\u001b[K     |███████████▎                    | 81 kB 6.0 MB/s eta 0:00:01\r\u001b[K     |████████████▊                   | 92 kB 4.6 MB/s eta 0:00:01\r\u001b[K     |██████████████                  | 102 kB 5.0 MB/s eta 0:00:01\r\u001b[K     |███████████████▌                | 112 kB 5.0 MB/s eta 0:00:01\r\u001b[K     |█████████████████               | 122 kB 5.0 MB/s eta 0:00:01\r\u001b[K     |██████████████████▎             | 133 kB 5.0 MB/s eta 0:00:01\r\u001b[K     |███████████████████▊            | 143 kB 5.0 MB/s eta 0:00:01\r\u001b[K     |█████████████████████▏          | 153 kB 5.0 MB/s eta 0:00:01\r\u001b[K     |██████████████████████▌         | 163 kB 5.0 MB/s eta 0:00:01\r\u001b[K     |████████████████████████        | 174 kB 5.0 MB/s eta 0:00:01\r\u001b[K     |█████████████████████████▍      | 184 kB 5.0 MB/s eta 0:00:01\r\u001b[K     |██████████████████████████▊     | 194 kB 5.0 MB/s eta 0:00:01\r\u001b[K     |████████████████████████████▏   | 204 kB 5.0 MB/s eta 0:00:01\r\u001b[K     |█████████████████████████████▋  | 215 kB 5.0 MB/s eta 0:00:01\r\u001b[K     |███████████████████████████████ | 225 kB 5.0 MB/s eta 0:00:01\r\u001b[K     |████████████████████████████████| 232 kB 5.0 MB/s \n",
            "\u001b[?25hRequirement already satisfied: torch<2,>=1.3 in /usr/local/lib/python3.7/dist-packages (from pytorch-ignite) (1.9.0+cu102)\n",
            "Requirement already satisfied: typing-extensions in /usr/local/lib/python3.7/dist-packages (from torch<2,>=1.3->pytorch-ignite) (3.7.4.3)\n",
            "Installing collected packages: pytorch-ignite\n",
            "Successfully installed pytorch-ignite-0.4.6\n"
          ],
          "name": "stdout"
        }
      ]
    },
    {
      "cell_type": "code",
      "metadata": {
        "id": "G4Ej82G8nwjJ",
        "outputId": "5c5b3586-26dc-4208-88e7-c7d66d4ce8b2",
        "colab": {
          "base_uri": "https://localhost:8080/"
        }
      },
      "source": [
        "from ignite.engine import Engine, Events\n",
        "from ignite.handlers import Timer\n",
        "from torch.nn import MSELoss\n",
        "from torch.optim import Adam\n",
        "from ignite.contrib.handlers.param_scheduler import CosineAnnealingScheduler\n",
        "from ignite.handlers import ModelCheckpoint\n",
        "from model import Net\n",
        "from cupy_dataset import NumbaOptionDataSet\n",
        "timer = Timer(average=True)\n",
        "model = Net(nstock = nstock).cuda()\n",
        "loss_fn = MSELoss()\n",
        "optimizer = Adam(model.parameters(), lr=1e-3)\n",
        "# dataset = NumbaOptionDataSet(max_len = 10000, number_path = 1024, batch = 4800)\n",
        "# dataset = NumbaOptionDataSet(max_len = 100, number_path = 1024, batch = 32, stocks = 3)\n",
        "dataset = NumbaOptionDataSet(max_len = 100, number_path = 1024, batch = 32, stocks = nstock)\n",
        "\n",
        "\n",
        "def train_update(engine, batch):\n",
        "    model.train()\n",
        "    optimizer.zero_grad()\n",
        "    x = batch[0]\n",
        "    y = batch[1]\n",
        "    y_pred = model(x)\n",
        "    loss = loss_fn(y_pred[:,0], y)\n",
        "    loss.backward()\n",
        "    optimizer.step()\n",
        "    return loss.item()\n",
        "\n",
        "trainer = Engine(train_update)\n",
        "log_interval = 20\n",
        "\n",
        "scheduler = CosineAnnealingScheduler(optimizer, 'lr', 1e-4, 1e-6, len(dataset))\n",
        "trainer.add_event_handler(Events.ITERATION_STARTED, scheduler)\n",
        "timer.attach(trainer,\n",
        "             start=Events.EPOCH_STARTED,\n",
        "             resume=Events.ITERATION_STARTED,\n",
        "             pause=Events.ITERATION_COMPLETED,\n",
        "             step=Events.ITERATION_COMPLETED)    \n",
        "@trainer.on(Events.ITERATION_COMPLETED)\n",
        "def log_training_loss(engine):\n",
        "    iter = (engine.state.iteration - 1) % len(dataset) + 1\n",
        "    if iter % log_interval == 0:\n",
        "        print('loss', engine.state.output, 'average time', timer.value(), 'iter num', iter)\n",
        "        \n",
        "trainer.run(dataset, max_epochs = 100)"
      ],
      "execution_count": 8,
      "outputs": [
        {
          "output_type": "stream",
          "text": [
            "loss 984.1502685546875 average time 0.21660413655000071 iter num 20\n",
            "loss 661.5736694335938 average time 0.10976911209999826 iter num 40\n",
            "loss 520.1239013671875 average time 0.07415090386667107 iter num 60\n",
            "loss 359.0147705078125 average time 0.056373524137503496 iter num 80\n",
            "loss 406.924560546875 average time 0.04566421470000193 iter num 100\n",
            "loss 83.92861938476562 average time 0.020255835499989418 iter num 20\n",
            "loss 16.487810134887695 average time 0.011504250749993616 iter num 40\n",
            "loss 9.12835693359375 average time 0.00859569498332841 iter num 60\n",
            "loss 5.480504989624023 average time 0.0071351527249973404 iter num 80\n",
            "loss 4.4807634353637695 average time 0.006267318019998811 iter num 100\n",
            "loss 6.87709903717041 average time 0.019743426149989318 iter num 20\n",
            "loss 3.278848648071289 average time 0.011277842474987665 iter num 40\n",
            "loss 1.6427953243255615 average time 0.008461309316658117 iter num 60\n",
            "loss 1.1294200420379639 average time 0.007101953737490873 iter num 80\n",
            "loss 1.3919597864151 average time 0.006253171289991997 iter num 100\n",
            "loss 3.168361186981201 average time 0.02007764614998564 iter num 20\n",
            "loss 1.2647461891174316 average time 0.011414342524994936 iter num 40\n",
            "loss 1.2081464529037476 average time 0.008529957266661843 iter num 60\n",
            "loss 1.0268983840942383 average time 0.007083357349992525 iter num 80\n",
            "loss 0.7973417639732361 average time 0.006217292109997743 iter num 100\n",
            "loss 0.9420265555381775 average time 0.01955285940000522 iter num 20\n",
            "loss 1.974740982055664 average time 0.01120515645000637 iter num 40\n",
            "loss 2.0494587421417236 average time 0.008428873166669367 iter num 60\n",
            "loss 2.543633460998535 average time 0.0070314359125006835 iter num 80\n",
            "loss 1.3886204957962036 average time 0.006211962620000122 iter num 100\n",
            "loss 1.9009333848953247 average time 0.01996966530001032 iter num 20\n",
            "loss 1.3906712532043457 average time 0.011463100375004842 iter num 40\n",
            "loss 1.211014747619629 average time 0.00855016515000481 iter num 60\n",
            "loss 1.2705609798431396 average time 0.007097248650002541 iter num 80\n",
            "loss 2.4700121879577637 average time 0.006235154720002356 iter num 100\n",
            "loss 2.2555224895477295 average time 0.019855113399984248 iter num 20\n",
            "loss 2.2673707008361816 average time 0.011356214799991448 iter num 40\n",
            "loss 1.4869292974472046 average time 0.008508753483323517 iter num 60\n",
            "loss 1.2231724262237549 average time 0.007089655624994862 iter num 80\n",
            "loss 1.7178244590759277 average time 0.006272820659993386 iter num 100\n",
            "loss 2.0017857551574707 average time 0.019869471299995212 iter num 20\n",
            "loss 1.7151851654052734 average time 0.011308032549990799 iter num 40\n",
            "loss 0.45772185921669006 average time 0.008445036549992816 iter num 60\n",
            "loss 0.9845218062400818 average time 0.007051405574993908 iter num 80\n",
            "loss 0.37368205189704895 average time 0.0062086587899955244 iter num 100\n",
            "loss 2.4020166397094727 average time 0.019712677349986052 iter num 20\n",
            "loss 1.5396742820739746 average time 0.011557410699992943 iter num 40\n",
            "loss 1.6685107946395874 average time 0.00866997253332329 iter num 60\n",
            "loss 1.1361277103424072 average time 0.007220951712488955 iter num 80\n",
            "loss 1.4245893955230713 average time 0.006324524529991322 iter num 100\n",
            "loss 1.1643483638763428 average time 0.01951633615000219 iter num 20\n",
            "loss 1.80544912815094 average time 0.01120751759999905 iter num 40\n",
            "loss 1.2859265804290771 average time 0.00846179768333286 iter num 60\n",
            "loss 0.7615875005722046 average time 0.007060852937499362 iter num 80\n",
            "loss 1.4335925579071045 average time 0.006226881319997801 iter num 100\n",
            "loss 0.7048379182815552 average time 0.019764274399983607 iter num 20\n",
            "loss 1.0345464944839478 average time 0.01124096512499193 iter num 40\n",
            "loss 1.7440602779388428 average time 0.00839604436666453 iter num 60\n",
            "loss 0.8002970218658447 average time 0.006975640162498564 iter num 80\n",
            "loss 0.7300111055374146 average time 0.006123934649997409 iter num 100\n",
            "loss 0.7129581570625305 average time 0.019731138649996184 iter num 20\n",
            "loss 1.1282780170440674 average time 0.011287231574988255 iter num 40\n",
            "loss 1.1880948543548584 average time 0.00847467079998599 iter num 60\n",
            "loss 0.5581716299057007 average time 0.007052043649987638 iter num 80\n",
            "loss 1.1824156045913696 average time 0.006185839039990242 iter num 100\n",
            "loss 1.528679370880127 average time 0.019560995600039634 iter num 20\n",
            "loss 1.5276384353637695 average time 0.011217185100011306 iter num 40\n",
            "loss 1.5059115886688232 average time 0.008376195466680277 iter num 60\n",
            "loss 1.031491756439209 average time 0.007003036337509627 iter num 80\n",
            "loss 0.8506367802619934 average time 0.006154277010007263 iter num 100\n",
            "loss 0.8371902704238892 average time 0.020022905249993526 iter num 20\n",
            "loss 0.6673792004585266 average time 0.011411359399997423 iter num 40\n",
            "loss 1.2941780090332031 average time 0.008592447449999933 iter num 60\n",
            "loss 1.2560827732086182 average time 0.007138311225000393 iter num 80\n",
            "loss 0.6981399655342102 average time 0.006245749729999943 iter num 100\n",
            "loss 1.017309308052063 average time 0.019591679450007858 iter num 20\n",
            "loss 1.112668752670288 average time 0.011139619250002397 iter num 40\n",
            "loss 1.5661436319351196 average time 0.008330477883339427 iter num 60\n",
            "loss 0.7387360334396362 average time 0.006934379212503927 iter num 80\n",
            "loss 0.8492063283920288 average time 0.006093119390003494 iter num 100\n",
            "loss 1.8788344860076904 average time 0.02028090074999227 iter num 20\n",
            "loss 1.6547603607177734 average time 0.011547555874992099 iter num 40\n",
            "loss 0.5291227698326111 average time 0.008764632666662919 iter num 60\n",
            "loss 1.1580250263214111 average time 0.007275402274994747 iter num 80\n",
            "loss 0.6747087836265564 average time 0.006384420279990763 iter num 100\n",
            "loss 0.8818046450614929 average time 0.019913630650023606 iter num 20\n",
            "loss 0.5466151237487793 average time 0.0113705564749921 iter num 40\n",
            "loss 0.9688221216201782 average time 0.008515319699999207 iter num 60\n",
            "loss 1.0636509656906128 average time 0.007088401262495836 iter num 80\n",
            "loss 0.4468347430229187 average time 0.006252124879990788 iter num 100\n",
            "loss 1.6415667533874512 average time 0.020126478050008244 iter num 20\n",
            "loss 0.9901370406150818 average time 0.011558757099993499 iter num 40\n",
            "loss 0.7444994449615479 average time 0.008653683083328664 iter num 60\n",
            "loss 0.9310885071754456 average time 0.0072061899124918226 iter num 80\n",
            "loss 0.3536391854286194 average time 0.0063391782399889966 iter num 100\n",
            "loss 1.347770094871521 average time 0.020195068549992357 iter num 20\n",
            "loss 0.5379558801651001 average time 0.011543788699981405 iter num 40\n",
            "loss 0.8893569707870483 average time 0.008648363883325298 iter num 60\n",
            "loss 1.0444191694259644 average time 0.007179056987493482 iter num 80\n",
            "loss 0.6190134286880493 average time 0.00629265993999752 iter num 100\n",
            "loss 0.4927232265472412 average time 0.01973690849998775 iter num 20\n",
            "loss 0.7334434986114502 average time 0.01122008257498237 iter num 40\n",
            "loss 0.651137113571167 average time 0.008379530149996602 iter num 60\n",
            "loss 0.4845033884048462 average time 0.006961247437499196 iter num 80\n",
            "loss 0.46756696701049805 average time 0.00614809205999336 iter num 100\n",
            "loss 0.6457955837249756 average time 0.020050527050000256 iter num 20\n",
            "loss 0.8085887432098389 average time 0.011434861300017474 iter num 40\n",
            "loss 1.212623119354248 average time 0.008565174366678245 iter num 60\n",
            "loss 0.6231459379196167 average time 0.007113039350011263 iter num 80\n",
            "loss 0.6590971946716309 average time 0.006230153120009163 iter num 100\n",
            "loss 1.409533977508545 average time 0.01969740525000816 iter num 20\n",
            "loss 0.9424988627433777 average time 0.01118550245000165 iter num 40\n",
            "loss 0.6376560926437378 average time 0.008367680633337688 iter num 60\n",
            "loss 0.476689875125885 average time 0.006973572987507737 iter num 80\n",
            "loss 0.5233950018882751 average time 0.006134225020002759 iter num 100\n",
            "loss 1.1268584728240967 average time 0.020168959950001408 iter num 20\n",
            "loss 0.4129056930541992 average time 0.01152287090000641 iter num 40\n",
            "loss 0.8208910226821899 average time 0.00859853215001749 iter num 60\n",
            "loss 0.3537019193172455 average time 0.0072082414625242565 iter num 80\n",
            "loss 0.40602907538414 average time 0.006301410650023626 iter num 100\n",
            "loss 0.5163877010345459 average time 0.019700092000016413 iter num 20\n",
            "loss 0.6871604919433594 average time 0.011372424150005144 iter num 40\n",
            "loss 0.6021575331687927 average time 0.008517836066668375 iter num 60\n",
            "loss 0.6116535663604736 average time 0.007088893937503826 iter num 80\n",
            "loss 0.5767601728439331 average time 0.0062329380400001355 iter num 100\n",
            "loss 0.4716775715351105 average time 0.020236247800016826 iter num 20\n",
            "loss 0.9430345296859741 average time 0.011513568550020637 iter num 40\n",
            "loss 1.5422102212905884 average time 0.008580917683336036 iter num 60\n",
            "loss 0.520615816116333 average time 0.007131530774998396 iter num 80\n",
            "loss 0.47191038727760315 average time 0.006247148930003732 iter num 100\n",
            "loss 0.9218581914901733 average time 0.01996119824998459 iter num 20\n",
            "loss 1.2921110391616821 average time 0.011335010575004389 iter num 40\n",
            "loss 0.6658248901367188 average time 0.008495769166669713 iter num 60\n",
            "loss 0.41367220878601074 average time 0.007085044412508523 iter num 80\n",
            "loss 0.7334283590316772 average time 0.0062298750800141535 iter num 100\n",
            "loss 0.36518988013267517 average time 0.02011241439997775 iter num 20\n",
            "loss 1.2591116428375244 average time 0.011446294774981425 iter num 40\n",
            "loss 0.9852454662322998 average time 0.008530264049985211 iter num 60\n",
            "loss 0.5945428609848022 average time 0.00712781426248057 iter num 80\n",
            "loss 0.317160964012146 average time 0.006247551809988181 iter num 100\n",
            "loss 0.9202874302864075 average time 0.019599334950009963 iter num 20\n",
            "loss 0.923389732837677 average time 0.011134542149994786 iter num 40\n",
            "loss 0.6006313562393188 average time 0.008370027633327481 iter num 60\n",
            "loss 1.128265142440796 average time 0.006982776287495085 iter num 80\n",
            "loss 0.27023574709892273 average time 0.0061877677399957065 iter num 100\n",
            "loss 0.5211393237113953 average time 0.02017358784997896 iter num 20\n",
            "loss 0.31939205527305603 average time 0.011452549349979791 iter num 40\n",
            "loss 0.555161714553833 average time 0.008586126449980231 iter num 60\n",
            "loss 0.7268986701965332 average time 0.007141098249988431 iter num 80\n",
            "loss 0.18571731448173523 average time 0.006284163829989211 iter num 100\n",
            "loss 0.7394052743911743 average time 0.0201173317999519 iter num 20\n",
            "loss 0.7308536767959595 average time 0.011412488449968805 iter num 40\n",
            "loss 0.4514416456222534 average time 0.008498332183300287 iter num 60\n",
            "loss 0.6987056136131287 average time 0.007040636949980694 iter num 80\n",
            "loss 0.4343528747558594 average time 0.006171086619981452 iter num 100\n",
            "loss 0.7269779443740845 average time 0.019524133199968218 iter num 20\n",
            "loss 0.579372763633728 average time 0.011095915174990978 iter num 40\n",
            "loss 0.23633433878421783 average time 0.008335732733318462 iter num 60\n",
            "loss 0.46589013934135437 average time 0.0069456535125027585 iter num 80\n",
            "loss 0.4431160092353821 average time 0.006130245450001439 iter num 100\n",
            "loss 0.747410237789154 average time 0.020127385749992753 iter num 20\n",
            "loss 0.7624704837799072 average time 0.011457123899998579 iter num 40\n",
            "loss 0.1939696967601776 average time 0.008537518349999117 iter num 60\n",
            "loss 0.42417532205581665 average time 0.00707362119999857 iter num 80\n",
            "loss 0.6966685652732849 average time 0.006198133629993663 iter num 100\n",
            "loss 0.578392505645752 average time 0.019612201800009645 iter num 20\n",
            "loss 1.0089529752731323 average time 0.011227378099994212 iter num 40\n",
            "loss 0.3052014112472534 average time 0.00841938639999853 iter num 60\n",
            "loss 0.6265019178390503 average time 0.007020375074995399 iter num 80\n",
            "loss 0.3807865381240845 average time 0.006224516749998656 iter num 100\n",
            "loss 0.7691446542739868 average time 0.020074431700004426 iter num 20\n",
            "loss 0.7094275951385498 average time 0.01138057829999184 iter num 40\n",
            "loss 0.4655631184577942 average time 0.008479109116653187 iter num 60\n",
            "loss 0.4660757780075073 average time 0.007040128512485921 iter num 80\n",
            "loss 0.3447152078151703 average time 0.0061671830899922495 iter num 100\n",
            "loss 1.103285312652588 average time 0.019566094850006266 iter num 20\n",
            "loss 0.3183564245700836 average time 0.01113332242500178 iter num 40\n",
            "loss 0.7914789915084839 average time 0.008357008250000793 iter num 60\n",
            "loss 0.3109431266784668 average time 0.006960143887499726 iter num 80\n",
            "loss 0.23769323527812958 average time 0.0061280741499945175 iter num 100\n",
            "loss 0.9309017658233643 average time 0.019871038849998968 iter num 20\n",
            "loss 0.8255345225334167 average time 0.01130446844999824 iter num 40\n",
            "loss 0.8104186654090881 average time 0.008422413199999331 iter num 60\n",
            "loss 0.4041275978088379 average time 0.007000976612499698 iter num 80\n",
            "loss 0.20965182781219482 average time 0.006143040709998786 iter num 100\n",
            "loss 1.1067450046539307 average time 0.019986021199997595 iter num 20\n",
            "loss 0.6756631135940552 average time 0.011485560550005403 iter num 40\n",
            "loss 0.9922260046005249 average time 0.008614709066675157 iter num 60\n",
            "loss 0.2558167576789856 average time 0.007167413625009544 iter num 80\n",
            "loss 0.2803604006767273 average time 0.006297986490014864 iter num 100\n",
            "loss 0.6598458886146545 average time 0.02003355264999982 iter num 20\n",
            "loss 0.8599574565887451 average time 0.0114205952999896 iter num 40\n",
            "loss 0.5561767816543579 average time 0.0085609156999908 iter num 60\n",
            "loss 0.16081465780735016 average time 0.007124495599984471 iter num 80\n",
            "loss 0.3655613362789154 average time 0.006271592369980681 iter num 100\n",
            "loss 0.8335171937942505 average time 0.01962942599999451 iter num 20\n",
            "loss 0.5995694994926453 average time 0.011155440649991988 iter num 40\n",
            "loss 0.33507195115089417 average time 0.008344841366666363 iter num 60\n",
            "loss 0.29267293214797974 average time 0.006940616724997994 iter num 80\n",
            "loss 0.36467018723487854 average time 0.006097618759990837 iter num 100\n",
            "loss 0.288885235786438 average time 0.019680162650013246 iter num 20\n",
            "loss 0.5349316596984863 average time 0.011279141350001964 iter num 40\n",
            "loss 0.44111359119415283 average time 0.008459511800000048 iter num 60\n",
            "loss 0.4635494351387024 average time 0.007048184324995077 iter num 80\n",
            "loss 0.30083608627319336 average time 0.00618808342000193 iter num 100\n",
            "loss 0.5357449054718018 average time 0.019462017950002065 iter num 20\n",
            "loss 0.5561049580574036 average time 0.011072757575010427 iter num 40\n",
            "loss 1.4446704387664795 average time 0.008269644650014622 iter num 60\n",
            "loss 0.24512216448783875 average time 0.006863716675016463 iter num 80\n",
            "loss 0.6054075360298157 average time 0.0060327477900159465 iter num 100\n",
            "loss 0.26224011182785034 average time 0.019431597849995798 iter num 20\n",
            "loss 0.3983340263366699 average time 0.011099354200001698 iter num 40\n",
            "loss 0.5899192094802856 average time 0.00833192616667778 iter num 60\n",
            "loss 0.2682487368583679 average time 0.0069680066500041 iter num 80\n",
            "loss 0.45874160528182983 average time 0.006108269890005431 iter num 100\n",
            "loss 0.6862291097640991 average time 0.019927049650004847 iter num 20\n",
            "loss 0.3107781410217285 average time 0.011329570449981929 iter num 40\n",
            "loss 0.5688048005104065 average time 0.008446591716661563 iter num 60\n",
            "loss 0.6649056673049927 average time 0.007032054400002608 iter num 80\n",
            "loss 0.22327813506126404 average time 0.006169651560001057 iter num 100\n",
            "loss 0.47468116879463196 average time 0.019559178649979005 iter num 20\n",
            "loss 0.6625490784645081 average time 0.011173886499994979 iter num 40\n",
            "loss 0.3538578152656555 average time 0.008388446816665389 iter num 60\n",
            "loss 0.4266209006309509 average time 0.006983782799997585 iter num 80\n",
            "loss 0.2697601914405823 average time 0.006120987259996582 iter num 100\n",
            "loss 2.116180896759033 average time 0.01959716284998194 iter num 20\n",
            "loss 2.315796136856079 average time 0.011123629225005515 iter num 40\n",
            "loss 0.5349748134613037 average time 0.008356093366679336 iter num 60\n",
            "loss 0.30681976675987244 average time 0.006926640625010805 iter num 80\n",
            "loss 0.6798098087310791 average time 0.006096712860012303 iter num 100\n",
            "loss 0.35020917654037476 average time 0.02016051080001944 iter num 20\n",
            "loss 0.4109188914299011 average time 0.01146974882499876 iter num 40\n",
            "loss 0.51112961769104 average time 0.008572531450022325 iter num 60\n",
            "loss 0.2565902769565582 average time 0.007163893837497426 iter num 80\n",
            "loss 0.15640565752983093 average time 0.006315795329992397 iter num 100\n",
            "loss 0.35798215866088867 average time 0.019620362300088345 iter num 20\n",
            "loss 0.7777177095413208 average time 0.011262825375047214 iter num 40\n",
            "loss 0.26865434646606445 average time 0.008406886083359192 iter num 60\n",
            "loss 0.2190292626619339 average time 0.0070075102875193805 iter num 80\n",
            "loss 0.2752108573913574 average time 0.006139528660019096 iter num 100\n",
            "loss 0.6096998453140259 average time 0.019974313649981923 iter num 20\n",
            "loss 0.4760741591453552 average time 0.011432137749977755 iter num 40\n",
            "loss 0.521873414516449 average time 0.008552940833298332 iter num 60\n",
            "loss 0.8506797552108765 average time 0.007116699537459681 iter num 80\n",
            "loss 0.18908795714378357 average time 0.006240936449962646 iter num 100\n",
            "loss 0.8071653842926025 average time 0.020133577599926865 iter num 20\n",
            "loss 0.6306619644165039 average time 0.011466109674984182 iter num 40\n",
            "loss 0.2720149755477905 average time 0.008564418483319968 iter num 60\n",
            "loss 0.8425377607345581 average time 0.007099990612493912 iter num 80\n",
            "loss 0.19878576695919037 average time 0.0062179192599933234 iter num 100\n",
            "loss 0.41875410079956055 average time 0.01930362809998769 iter num 20\n",
            "loss 0.17288118600845337 average time 0.010977123074985684 iter num 40\n",
            "loss 0.40811237692832947 average time 0.00822705008331468 iter num 60\n",
            "loss 0.14490258693695068 average time 0.006856271674973868 iter num 80\n",
            "loss 0.5285512208938599 average time 0.006060303619997285 iter num 100\n",
            "loss 0.8162775039672852 average time 0.01997679514995525 iter num 20\n",
            "loss 0.7356928586959839 average time 0.011378177375001996 iter num 40\n",
            "loss 0.47517308592796326 average time 0.008527898599997268 iter num 60\n",
            "loss 0.5951939225196838 average time 0.007062773524990007 iter num 80\n",
            "loss 0.32753056287765503 average time 0.006184276039980432 iter num 100\n",
            "loss 1.563254714012146 average time 0.0195800149500883 iter num 20\n",
            "loss 1.4290519952774048 average time 0.011102769200033436 iter num 40\n",
            "loss 0.44157201051712036 average time 0.008303721050030315 iter num 60\n",
            "loss 0.2456129640340805 average time 0.007059436275011421 iter num 80\n",
            "loss 0.3241274058818817 average time 0.006218477700022049 iter num 100\n",
            "loss 0.47520166635513306 average time 0.020125316199937515 iter num 20\n",
            "loss 0.9974825382232666 average time 0.011436936299969603 iter num 40\n",
            "loss 0.2755005955696106 average time 0.0085405944166799 iter num 60\n",
            "loss 0.20002146065235138 average time 0.007074709262502666 iter num 80\n",
            "loss 0.5793673992156982 average time 0.0061942805200123985 iter num 100\n",
            "loss 0.4966570734977722 average time 0.019599952700014002 iter num 20\n",
            "loss 0.42351028323173523 average time 0.011130459624985179 iter num 40\n",
            "loss 0.8831436038017273 average time 0.008338708416658847 iter num 60\n",
            "loss 0.4823843240737915 average time 0.006928102612505427 iter num 80\n",
            "loss 0.06402980536222458 average time 0.006097154700019019 iter num 100\n",
            "loss 0.29491502046585083 average time 0.020214506550041735 iter num 20\n",
            "loss 0.4081454575061798 average time 0.01150737704997482 iter num 40\n",
            "loss 0.6981035470962524 average time 0.008621644149987636 iter num 60\n",
            "loss 0.30918583273887634 average time 0.007143181824994826 iter num 80\n",
            "loss 0.24974791705608368 average time 0.006253523109999151 iter num 100\n",
            "loss 1.8966937065124512 average time 0.019520752850098688 iter num 20\n",
            "loss 1.7568976879119873 average time 0.011070073400071578 iter num 40\n",
            "loss 0.17914363741874695 average time 0.00832700870004525 iter num 60\n",
            "loss 0.17158782482147217 average time 0.00693001590003064 iter num 80\n",
            "loss 0.39688318967819214 average time 0.00611385365003116 iter num 100\n",
            "loss 0.4378824234008789 average time 0.019907421500033707 iter num 20\n",
            "loss 0.23429915308952332 average time 0.01134219500004292 iter num 40\n",
            "loss 0.38077837228775024 average time 0.008465798583370088 iter num 60\n",
            "loss 0.2502990961074829 average time 0.007032394525043628 iter num 80\n",
            "loss 0.5609380602836609 average time 0.006188625770018916 iter num 100\n",
            "loss 0.27597862482070923 average time 0.020015288250056072 iter num 20\n",
            "loss 0.23631273210048676 average time 0.011394815200014818 iter num 40\n",
            "loss 0.5547085404396057 average time 0.008491263600035381 iter num 60\n",
            "loss 0.3234107792377472 average time 0.007045084962516057 iter num 80\n",
            "loss 0.20793099701404572 average time 0.006177040630018382 iter num 100\n",
            "loss 0.41304293274879456 average time 0.019681797649991496 iter num 20\n",
            "loss 0.30178481340408325 average time 0.011162869900033456 iter num 40\n",
            "loss 0.31145843863487244 average time 0.008343594816672824 iter num 60\n",
            "loss 0.1728912591934204 average time 0.006952458200009915 iter num 80\n",
            "loss 0.21250122785568237 average time 0.006114736920012547 iter num 100\n",
            "loss 0.3307027518749237 average time 0.020195680999950127 iter num 20\n",
            "loss 0.28036969900131226 average time 0.01146266014993671 iter num 40\n",
            "loss 0.184711754322052 average time 0.008527898633277194 iter num 60\n",
            "loss 0.26806244254112244 average time 0.007070671699949571 iter num 80\n",
            "loss 0.22002460062503815 average time 0.006205203299964523 iter num 100\n",
            "loss 0.4706483781337738 average time 0.0195073454999374 iter num 20\n",
            "loss 0.5243515372276306 average time 0.011086816974989233 iter num 40\n",
            "loss 0.16706596314907074 average time 0.008285808666672285 iter num 60\n",
            "loss 0.3991411626338959 average time 0.006907895137504738 iter num 80\n",
            "loss 0.3276281952857971 average time 0.0061436699999921985 iter num 100\n",
            "loss 0.4135454595088959 average time 0.02014045865000753 iter num 20\n",
            "loss 0.43822717666625977 average time 0.011432106274992294 iter num 40\n",
            "loss 0.24364976584911346 average time 0.008524784033314366 iter num 60\n",
            "loss 0.5567373037338257 average time 0.007068840749991523 iter num 80\n",
            "loss 0.200892373919487 average time 0.006214701940016312 iter num 100\n",
            "loss 0.605378270149231 average time 0.019769994449984552 iter num 20\n",
            "loss 0.40031862258911133 average time 0.011224223950023315 iter num 40\n",
            "loss 0.4834604263305664 average time 0.008408848050006175 iter num 60\n",
            "loss 0.38156867027282715 average time 0.0070118601750095875 iter num 80\n",
            "loss 0.10943269729614258 average time 0.006168203450015426 iter num 100\n",
            "loss 0.1697196513414383 average time 0.020250587650048148 iter num 20\n",
            "loss 0.8724782466888428 average time 0.01152836940001407 iter num 40\n",
            "loss 0.4377591013908386 average time 0.008584698433355697 iter num 60\n",
            "loss 0.12040234357118607 average time 0.007100745975009204 iter num 80\n",
            "loss 0.4494600296020508 average time 0.006214788680008496 iter num 100\n",
            "loss 0.6766210794448853 average time 0.019449376849911458 iter num 20\n",
            "loss 1.2422791719436646 average time 0.01114370579991828 iter num 40\n",
            "loss 0.3945217728614807 average time 0.008375002549928467 iter num 60\n",
            "loss 0.14036424458026886 average time 0.006980179749956505 iter num 80\n",
            "loss 0.30894190073013306 average time 0.006203057769967018 iter num 100\n",
            "loss 6.712252140045166 average time 0.020119572449948463 iter num 20\n",
            "loss 0.5860017538070679 average time 0.011411182749952786 iter num 40\n",
            "loss 0.3483521342277527 average time 0.008529967466627871 iter num 60\n",
            "loss 0.31066060066223145 average time 0.007105911899981265 iter num 80\n",
            "loss 0.18419964611530304 average time 0.006244182089981223 iter num 100\n",
            "loss 0.8038233518600464 average time 0.020283092899944677 iter num 20\n",
            "loss 0.581798791885376 average time 0.011483628274947932 iter num 40\n",
            "loss 1.023998498916626 average time 0.008649948699993122 iter num 60\n",
            "loss 0.13913270831108093 average time 0.0072520571749919325 iter num 80\n",
            "loss 0.35337698459625244 average time 0.006339356970001973 iter num 100\n",
            "loss 1.5097497701644897 average time 0.019463096449976548 iter num 20\n",
            "loss 0.9179199934005737 average time 0.011089789200002542 iter num 40\n",
            "loss 0.20211288332939148 average time 0.008409253283328628 iter num 60\n",
            "loss 0.3676697015762329 average time 0.0069995371000004525 iter num 80\n",
            "loss 0.25479856133461 average time 0.006151304259997232 iter num 100\n",
            "loss 0.41272884607315063 average time 0.01978780150000148 iter num 20\n",
            "loss 0.22985988855361938 average time 0.011307451724997008 iter num 40\n",
            "loss 0.27115899324417114 average time 0.008436622249981459 iter num 60\n",
            "loss 0.08913164585828781 average time 0.006992039962483432 iter num 80\n",
            "loss 0.321750670671463 average time 0.006131498449981336 iter num 100\n",
            "loss 0.24619904160499573 average time 0.019436494949991355 iter num 20\n",
            "loss 0.6951659917831421 average time 0.011093828199989275 iter num 40\n",
            "loss 0.1751539409160614 average time 0.008329972483314426 iter num 60\n",
            "loss 0.2339581549167633 average time 0.006964838724985612 iter num 80\n",
            "loss 0.35966628789901733 average time 0.006132736569988992 iter num 100\n",
            "loss 0.629713773727417 average time 0.01972127054998509 iter num 20\n",
            "loss 2.28045392036438 average time 0.011230653799975699 iter num 40\n",
            "loss 1.6753007173538208 average time 0.008382233949964757 iter num 60\n",
            "loss 0.45137637853622437 average time 0.006953545612464041 iter num 80\n",
            "loss 0.19870702922344208 average time 0.006101795019976635 iter num 100\n",
            "loss 0.379627525806427 average time 0.019421325749954123 iter num 20\n",
            "loss 0.15834298729896545 average time 0.011119045649968485 iter num 40\n",
            "loss 0.13530473411083221 average time 0.008345984749954976 iter num 60\n",
            "loss 0.2578441798686981 average time 0.006962887849971367 iter num 80\n",
            "loss 0.31442791223526 average time 0.006127449829982652 iter num 100\n",
            "loss 0.3305482268333435 average time 0.019670106200010196 iter num 20\n",
            "loss 0.2165946662425995 average time 0.011296835299992836 iter num 40\n",
            "loss 0.2538260221481323 average time 0.00843678968332521 iter num 60\n",
            "loss 0.26385146379470825 average time 0.007001902362509327 iter num 80\n",
            "loss 0.11374524235725403 average time 0.00615062057000614 iter num 100\n",
            "loss 0.25031566619873047 average time 0.01964672824997251 iter num 20\n",
            "loss 0.5221852660179138 average time 0.011210222600004727 iter num 40\n",
            "loss 0.5233012437820435 average time 0.008386747916658048 iter num 60\n",
            "loss 0.19101625680923462 average time 0.006995778912494188 iter num 80\n",
            "loss 0.23689793050289154 average time 0.006138596969999526 iter num 100\n",
            "loss 0.2189740687608719 average time 0.019644527949958503 iter num 20\n",
            "loss 0.15484988689422607 average time 0.011153313124987107 iter num 40\n",
            "loss 0.29949939250946045 average time 0.008394922383316347 iter num 60\n",
            "loss 0.5499560832977295 average time 0.006980915387475761 iter num 80\n",
            "loss 0.41368961334228516 average time 0.006130178389989851 iter num 100\n",
            "loss 0.5890833735466003 average time 0.019800331999954325 iter num 20\n",
            "loss 0.47907525300979614 average time 0.011280749799959721 iter num 40\n",
            "loss 0.403362512588501 average time 0.00844714889995733 iter num 60\n",
            "loss 0.19816353917121887 average time 0.007030862412466377 iter num 80\n",
            "loss 0.2894535958766937 average time 0.006166288889976386 iter num 100\n",
            "loss 0.604559600353241 average time 0.019573647499964864 iter num 20\n",
            "loss 0.4898621439933777 average time 0.011155151099933392 iter num 40\n",
            "loss 0.2772926688194275 average time 0.008371363699954297 iter num 60\n",
            "loss 0.2693701386451721 average time 0.006984608774968137 iter num 80\n",
            "loss 0.3979751467704773 average time 0.006118075199965461 iter num 100\n",
            "loss 0.4826229214668274 average time 0.019316576150026778 iter num 20\n",
            "loss 0.5567981004714966 average time 0.01101773895001088 iter num 40\n",
            "loss 0.7595053911209106 average time 0.00823227749998902 iter num 60\n",
            "loss 0.2104760706424713 average time 0.006872483387502371 iter num 80\n",
            "loss 0.16086345911026 average time 0.006112021719995937 iter num 100\n",
            "loss 0.19560815393924713 average time 0.01977959635003117 iter num 20\n",
            "loss 0.5666062831878662 average time 0.011278622925010496 iter num 40\n",
            "loss 0.4246356785297394 average time 0.008463845100012198 iter num 60\n",
            "loss 0.23079892992973328 average time 0.007042099850013983 iter num 80\n",
            "loss 0.4468299448490143 average time 0.0061894857800234605 iter num 100\n",
            "loss 0.41264307498931885 average time 0.019842055399999482 iter num 20\n",
            "loss 0.22373774647712708 average time 0.011238870400018187 iter num 40\n",
            "loss 0.09483954310417175 average time 0.008391083916687117 iter num 60\n",
            "loss 0.14505453407764435 average time 0.006947971587499069 iter num 80\n",
            "loss 0.35939380526542664 average time 0.006099001389993646 iter num 100\n",
            "loss 0.3883717656135559 average time 0.02019598435001626 iter num 20\n",
            "loss 0.20839723944664001 average time 0.011463585050000802 iter num 40\n",
            "loss 0.27575793862342834 average time 0.008556856833342863 iter num 60\n",
            "loss 0.1985069215297699 average time 0.007090043025004889 iter num 80\n",
            "loss 0.2720491886138916 average time 0.006203130330004569 iter num 100\n",
            "loss 0.9217454195022583 average time 0.019681169999967097 iter num 20\n",
            "loss 0.2933942675590515 average time 0.011180378424990067 iter num 40\n",
            "loss 0.14554157853126526 average time 0.008387671299980562 iter num 60\n",
            "loss 0.2750738859176636 average time 0.006975316549994659 iter num 80\n",
            "loss 0.5631532669067383 average time 0.006128993349989287 iter num 100\n",
            "loss 0.2999897003173828 average time 0.020267849399988335 iter num 20\n",
            "loss 0.4676479399204254 average time 0.011536718900026699 iter num 40\n",
            "loss 0.807352602481842 average time 0.008611028066676832 iter num 60\n",
            "loss 0.1446419060230255 average time 0.00713068126248686 iter num 80\n",
            "loss 0.305974543094635 average time 0.00624322794001273 iter num 100\n",
            "loss 0.43512409925460815 average time 0.01995897084993885 iter num 20\n",
            "loss 1.4182915687561035 average time 0.011470560149962238 iter num 40\n",
            "loss 0.2629745900630951 average time 0.008615315083329734 iter num 60\n",
            "loss 0.22856014966964722 average time 0.00714003408750159 iter num 80\n",
            "loss 0.20903581380844116 average time 0.006257440180002049 iter num 100\n",
            "loss 0.5062994956970215 average time 0.020069484399959946 iter num 20\n",
            "loss 0.3607434630393982 average time 0.011444531899940102 iter num 40\n",
            "loss 0.1576641947031021 average time 0.0085590506166227 iter num 60\n",
            "loss 0.2695298492908478 average time 0.007117638762468914 iter num 80\n",
            "loss 0.2026585340499878 average time 0.0062944668299678595 iter num 100\n",
            "loss 0.37542393803596497 average time 0.020069511299948318 iter num 20\n",
            "loss 0.6753016114234924 average time 0.011458112900015749 iter num 40\n",
            "loss 0.15487025678157806 average time 0.008574384666674935 iter num 60\n",
            "loss 0.4695271849632263 average time 0.007092432887498034 iter num 80\n",
            "loss 0.585089385509491 average time 0.0062258383599964875 iter num 100\n",
            "loss 0.4000946283340454 average time 0.019821879050005008 iter num 20\n",
            "loss 0.3753598928451538 average time 0.011292674974981765 iter num 40\n",
            "loss 0.4058741331100464 average time 0.008404127666653948 iter num 60\n",
            "loss 0.23965175449848175 average time 0.006963510587485189 iter num 80\n",
            "loss 0.33583641052246094 average time 0.006145178619995022 iter num 100\n",
            "loss 0.5035803318023682 average time 0.020112423499972464 iter num 20\n",
            "loss 0.4683290421962738 average time 0.011457067699973322 iter num 40\n",
            "loss 0.3656395971775055 average time 0.00855322873330806 iter num 60\n",
            "loss 0.1977209448814392 average time 0.007073611249990108 iter num 80\n",
            "loss 0.3363173007965088 average time 0.0061985377699920715 iter num 100\n",
            "loss 0.6130704879760742 average time 0.019634723699982714 iter num 20\n",
            "loss 0.37207263708114624 average time 0.011135843949955416 iter num 40\n",
            "loss 0.2741585373878479 average time 0.008323525216633243 iter num 60\n",
            "loss 0.31495964527130127 average time 0.006924778862475023 iter num 80\n",
            "loss 0.28081345558166504 average time 0.006086928439972325 iter num 100\n",
            "loss 1.4440784454345703 average time 0.01992112874995655 iter num 20\n",
            "loss 0.6085500717163086 average time 0.011332292999964012 iter num 40\n",
            "loss 0.20470544695854187 average time 0.00842889136664174 iter num 60\n",
            "loss 0.12014125287532806 average time 0.006983749574999365 iter num 80\n",
            "loss 0.18973200023174286 average time 0.0061083387799953925 iter num 100\n",
            "loss 0.91704261302948 average time 0.019548825500032764 iter num 20\n",
            "loss 0.9371782541275024 average time 0.011074322575018414 iter num 40\n",
            "loss 0.4925207197666168 average time 0.008272222800019335 iter num 60\n",
            "loss 0.4035325050354004 average time 0.006909296337505566 iter num 80\n",
            "loss 0.11215047538280487 average time 0.006089501390006262 iter num 100\n",
            "loss 0.6204220652580261 average time 0.020047420299988516 iter num 20\n",
            "loss 0.500504732131958 average time 0.01140587425003332 iter num 40\n",
            "loss 0.20918592810630798 average time 0.00848905771669403 iter num 60\n",
            "loss 0.22391608357429504 average time 0.0070249383625082375 iter num 80\n",
            "loss 0.1014208048582077 average time 0.006137834300006944 iter num 100\n",
            "loss 0.2904141843318939 average time 0.019573888150011952 iter num 20\n",
            "loss 0.18236392736434937 average time 0.011139703049991567 iter num 40\n",
            "loss 0.3358970284461975 average time 0.008303152016659017 iter num 60\n",
            "loss 0.3517807722091675 average time 0.006903670525019834 iter num 80\n",
            "loss 0.4101741909980774 average time 0.006063435070009291 iter num 100\n",
            "loss 0.5530983209609985 average time 0.019921422699962932 iter num 20\n",
            "loss 0.527313232421875 average time 0.011335489074951965 iter num 40\n",
            "loss 0.32264000177383423 average time 0.008430735483322375 iter num 60\n",
            "loss 0.1568501591682434 average time 0.006985248412468082 iter num 80\n",
            "loss 0.11563889682292938 average time 0.006108729819979999 iter num 100\n",
            "loss 2.0654754638671875 average time 0.019450163499936935 iter num 20\n",
            "loss 0.602441132068634 average time 0.011093754649982657 iter num 40\n",
            "loss 0.28198015689849854 average time 0.008415009616669522 iter num 60\n",
            "loss 0.16068720817565918 average time 0.006992854612502697 iter num 80\n",
            "loss 0.28060466051101685 average time 0.00613874331000261 iter num 100\n",
            "loss 0.4384712278842926 average time 0.020000585950015193 iter num 20\n",
            "loss 0.20197834074497223 average time 0.011327000624999074 iter num 40\n",
            "loss 0.4882371723651886 average time 0.008445014849962717 iter num 60\n",
            "loss 0.3161832094192505 average time 0.007037345049957367 iter num 80\n",
            "loss 0.39304569363594055 average time 0.00619074068997179 iter num 100\n",
            "loss 2.516315460205078 average time 0.02022209829995063 iter num 20\n",
            "loss 3.5940656661987305 average time 0.01144217264998133 iter num 40\n",
            "loss 0.3360787332057953 average time 0.0085548749999892 iter num 60\n",
            "loss 0.12956616282463074 average time 0.007081492462486949 iter num 80\n",
            "loss 0.4343891441822052 average time 0.006185224409987314 iter num 100\n",
            "loss 0.3456335663795471 average time 0.01964407259995369 iter num 20\n",
            "loss 0.13691236078739166 average time 0.01114237157497655 iter num 40\n",
            "loss 0.3972594141960144 average time 0.008310767633308085 iter num 60\n",
            "loss 0.1477339118719101 average time 0.00695357702498427 iter num 80\n",
            "loss 0.21627745032310486 average time 0.006108705730002839 iter num 100\n",
            "loss 0.1914832890033722 average time 0.01998723049991895 iter num 20\n",
            "loss 0.2211439311504364 average time 0.011330677299974922 iter num 40\n",
            "loss 0.15992200374603271 average time 0.00843632164999993 iter num 60\n",
            "loss 0.20928716659545898 average time 0.006987351700001909 iter num 80\n",
            "loss 0.220120370388031 average time 0.006119173150009374 iter num 100\n",
            "loss 0.18987393379211426 average time 0.02003823890008789 iter num 20\n",
            "loss 0.349866658449173 average time 0.011353439900062767 iter num 40\n",
            "loss 0.5186618566513062 average time 0.008495540916730231 iter num 60\n",
            "loss 0.2992408275604248 average time 0.007060535537539181 iter num 80\n",
            "loss 0.3577321767807007 average time 0.006203985360029946 iter num 100\n"
          ],
          "name": "stdout"
        },
        {
          "output_type": "execute_result",
          "data": {
            "text/plain": [
              "State:\n",
              "\titeration: 10000\n",
              "\tepoch: 100\n",
              "\tepoch_length: 100\n",
              "\tmax_epochs: 100\n",
              "\toutput: 0.3577321767807007\n",
              "\tbatch: <class 'tuple'>\n",
              "\tmetrics: <class 'dict'>\n",
              "\tdataloader: <class 'cupy_dataset.NumbaOptionDataSet'>\n",
              "\tseed: <class 'NoneType'>\n",
              "\ttimes: <class 'dict'>"
            ]
          },
          "metadata": {
            "tags": []
          },
          "execution_count": 8
        }
      ]
    },
    {
      "cell_type": "markdown",
      "metadata": {
        "id": "vU1EpGuInwjJ"
      },
      "source": [
        "$2365$ seconds The loss is keeping decreasing which means the pricing model can predict the option prices better. It takes about $12ms$ to compute one mini-batch in average, In the following sections, we will try to expore the full potentials of the GPU to accelerate the training."
      ]
    },
    {
      "cell_type": "markdown",
      "metadata": {
        "id": "A8McNtejRNFT"
      },
      "source": [
        "**Save Model**"
      ]
    },
    {
      "cell_type": "code",
      "metadata": {
        "id": "YRtOr1XIPOvF",
        "colab": {
          "base_uri": "https://localhost:8080/"
        },
        "outputId": "4263f164-4f59-45d6-fe74-18a14717126b"
      },
      "source": [
        "from google.colab import drive\n",
        "drive.mount('/content/drive')"
      ],
      "execution_count": 9,
      "outputs": [
        {
          "output_type": "stream",
          "text": [
            "Mounted at /content/drive\n"
          ],
          "name": "stdout"
        }
      ]
    },
    {
      "cell_type": "code",
      "metadata": {
        "id": "ndftly2yPEaM"
      },
      "source": [
        "import torch\n",
        "model_save_name = f'EuCall_3.pth'\n",
        "path = F\"/content/drive/MyDrive/AFP Project/Judy/{model_save_name}\" \n",
        "torch.save(model.state_dict(), path)"
      ],
      "execution_count": 10,
      "outputs": []
    },
    {
      "cell_type": "markdown",
      "metadata": {
        "id": "y6DRO9K2RQoJ"
      },
      "source": [
        "**Load Model**"
      ]
    },
    {
      "cell_type": "code",
      "metadata": {
        "id": "HGXZSV_YRT8v",
        "colab": {
          "base_uri": "https://localhost:8080/"
        },
        "outputId": "40171f24-a05b-43db-84c1-534f96212f9b"
      },
      "source": [
        "from google.colab import drive\n",
        "drive.mount('/content/drive')"
      ],
      "execution_count": null,
      "outputs": [
        {
          "output_type": "stream",
          "text": [
            "Drive already mounted at /content/drive; to attempt to forcibly remount, call drive.mount(\"/content/drive\", force_remount=True).\n"
          ],
          "name": "stdout"
        }
      ]
    },
    {
      "cell_type": "code",
      "metadata": {
        "id": "3ntY-N5bOqdq",
        "colab": {
          "base_uri": "https://localhost:8080/"
        },
        "outputId": "33f5d672-4f4e-489e-c6b3-d2e40e8f7fa0"
      },
      "source": [
        "import torch\n",
        "model_save_name = f'EuCall_{str(nstock)}.pth'\n",
        "path = F\"/content/drive/MyDrive/AFP/Save_Models/{model_save_name}\" \n",
        "state_dict = torch.load(path)\n",
        "print(state_dict.keys())"
      ],
      "execution_count": null,
      "outputs": [
        {
          "output_type": "stream",
          "text": [
            "odict_keys(['norm', 'fc1.weight', 'fc1.bias', 'fc2.weight', 'fc2.bias', 'fc3.weight', 'fc3.bias', 'fc4.weight', 'fc4.bias', 'fc5.weight', 'fc5.bias', 'fc6.weight', 'fc6.bias'])\n"
          ],
          "name": "stdout"
        }
      ]
    },
    {
      "cell_type": "code",
      "metadata": {
        "id": "j0GAGPAgPmgh",
        "colab": {
          "base_uri": "https://localhost:8080/"
        },
        "outputId": "f459b476-32eb-4d1e-9b5e-b71a2a7b9bc9"
      },
      "source": [
        "# need to run 'Writing cupy_dataset.py' and 'Writing model.py' above before this\n",
        "from model import Net\n",
        "model = Net(nstock = nstock).cuda()\n",
        "\n",
        "model.load_state_dict(state_dict)\n",
        "print(model)"
      ],
      "execution_count": null,
      "outputs": [
        {
          "output_type": "stream",
          "text": [
            "Net(\n",
            "  (fc1): Linear(in_features=30, out_features=1024, bias=True)\n",
            "  (fc2): Linear(in_features=1024, out_features=1024, bias=True)\n",
            "  (fc3): Linear(in_features=1024, out_features=1024, bias=True)\n",
            "  (fc4): Linear(in_features=1024, out_features=1024, bias=True)\n",
            "  (fc5): Linear(in_features=1024, out_features=1024, bias=True)\n",
            "  (fc6): Linear(in_features=1024, out_features=1, bias=True)\n",
            ")\n"
          ],
          "name": "stdout"
        }
      ]
    },
    {
      "cell_type": "markdown",
      "metadata": {
        "id": "rXT4Bg0wdL7l"
      },
      "source": [
        "### Continue to train model"
      ]
    },
    {
      "cell_type": "code",
      "metadata": {
        "id": "Zfa9cp6CdG8T"
      },
      "source": [
        "# from ignite.engine import Engine, Events\n",
        "# from ignite.handlers import Timer\n",
        "# from torch.nn import MSELoss\n",
        "# from torch.optim import Adam\n",
        "# from ignite.contrib.handlers.param_scheduler import CosineAnnealingScheduler\n",
        "# from ignite.handlers import ModelCheckpoint\n",
        "# from model import Net\n",
        "# from cupy_dataset import NumbaOptionDataSet\n",
        "# timer = Timer(average=True)\n",
        "# #model = Net().cuda()\n",
        "# loss_fn = MSELoss()\n",
        "# optimizer = Adam(model.parameters(), lr=1e-3)\n",
        "# # dataset = NumbaOptionDataSet(max_len=10000, number_path = 1024, batch=4800)\n",
        "# dataset = NumbaOptionDataSet(max_len=500, number_path = 1024, batch=32, stocks=3)\n",
        "\n",
        "# def train_update(engine, batch):\n",
        "#     model.train()\n",
        "#     optimizer.zero_grad()\n",
        "#     x = batch[0]\n",
        "#     y = batch[1]\n",
        "#     y_pred = model(x)\n",
        "#     loss = loss_fn(y_pred[:,0], y)\n",
        "#     loss.backward()\n",
        "#     optimizer.step()\n",
        "#     return loss.item()\n",
        "\n",
        "# trainer = Engine(train_update)\n",
        "# log_interval = 20\n",
        "\n",
        "# scheduler = CosineAnnealingScheduler(optimizer, 'lr', 1e-4, 1e-6, len(dataset))\n",
        "# trainer.add_event_handler(Events.ITERATION_STARTED, scheduler)\n",
        "# timer.attach(trainer,\n",
        "#              start=Events.EPOCH_STARTED,\n",
        "#              resume=Events.ITERATION_STARTED,\n",
        "#              pause=Events.ITERATION_COMPLETED,\n",
        "#              step=Events.ITERATION_COMPLETED)    \n",
        "# @trainer.on(Events.ITERATION_COMPLETED)\n",
        "# def log_training_loss(engine):\n",
        "#     iter = (engine.state.iteration - 1) % len(dataset) + 1\n",
        "#     if iter % log_interval == 0:\n",
        "#         print('loss', engine.state.output, 'average time', timer.value(), 'iter num', iter)\n",
        "        \n",
        "# trainer.run(dataset, max_epochs=20)\n",
        "\n",
        "# model_save_name = 'checkpoint15.pth'\n",
        "# path = F\"/content/drive/MyDrive/AFP/Save_Models/{model_save_name}\" \n",
        "# torch.save(model.state_dict(), path)"
      ],
      "execution_count": null,
      "outputs": []
    },
    {
      "cell_type": "markdown",
      "metadata": {
        "id": "ehmhDw8BUtLi"
      },
      "source": [
        "### Inference and Greeks"
      ]
    },
    {
      "cell_type": "markdown",
      "metadata": {
        "id": "Uiro43mOU0Ro"
      },
      "source": [
        "We can load the model parameters and use it to do inference"
      ]
    },
    {
      "cell_type": "code",
      "metadata": {
        "id": "svlu6tGTRx1F",
        "colab": {
          "base_uri": "https://localhost:8080/"
        },
        "outputId": "0b24dc97-23ce-439c-ed48-7da0c2b1d6e2"
      },
      "source": [
        "import torch\n",
        "\n",
        "inputs = torch.tensor([[1, 110.0, 110.0, 0.35, 0.1, 0.05] * nstock]).cuda()\n",
        "model(inputs.float())"
      ],
      "execution_count": 11,
      "outputs": [
        {
          "output_type": "execute_result",
          "data": {
            "text/plain": [
              "tensor([[11.7829]], device='cuda:0', grad_fn=<AddmmBackward>)"
            ]
          },
          "metadata": {
            "tags": []
          },
          "execution_count": 11
        }
      ]
    },
    {
      "cell_type": "markdown",
      "metadata": {
        "id": "M1Iy-9pWVRDO"
      },
      "source": [
        "One of the benefits of building a deep learning model is that the [Greeks](<https://en.wikipedia.org/wiki/Greeks_(finance)#First-order_Greeks>) can be easily computed. \n",
        "We just need to take advantage of the auto-grad feature in Pytorch. We can use `grad` function to compute the first order differentiation for parameters 'K, B, S0, sigma, mu, r'"
      ]
    },
    {
      "cell_type": "code",
      "metadata": {
        "id": "ytBZaYHKSnDu",
        "colab": {
          "base_uri": "https://localhost:8080/"
        },
        "outputId": "6d9f44b6-c4be-48cc-f7e4-eb2863f12288"
      },
      "source": [
        "inputs = torch.tensor([[1, 110.0, 110.0, 0.35, 0.1, 0.05] * nstock]).cuda()\n",
        "inputs.requires_grad = True\n",
        "x = model(inputs.float())\n",
        "x.backward()\n",
        "first_order_gradient = inputs.grad\n",
        "first_order_gradient"
      ],
      "execution_count": 12,
      "outputs": [
        {
          "output_type": "execute_result",
          "data": {
            "text/plain": [
              "tensor([[ 2.3253, -0.1790,  0.2028,  7.4706, -0.8729, 20.9888, -3.5664, -0.1502,\n",
              "          0.2041,  7.0782, -0.2708, 31.1303, -4.4975, -0.1953,  0.2041,  7.0496,\n",
              "         -0.7875,  6.4095]], device='cuda:0')"
            ]
          },
          "metadata": {
            "tags": []
          },
          "execution_count": 12
        }
      ]
    },
    {
      "cell_type": "markdown",
      "metadata": {
        "id": "8KeijaDDVZGd"
      },
      "source": [
        "Here we are going to plot the Delta graph:-"
      ]
    },
    {
      "cell_type": "markdown",
      "metadata": {
        "id": "skwgeVDsA_Mr"
      },
      "source": [
        "# Delta"
      ]
    },
    {
      "cell_type": "markdown",
      "metadata": {
        "id": "Bi_2Dqnx3_oP"
      },
      "source": [
        "#### Using gradient, Change only 1 S0 at a time"
      ]
    },
    {
      "cell_type": "code",
      "metadata": {
        "id": "USh3qaADSYQp"
      },
      "source": [
        "#### Using gradient, Change only 1 S0 at a time\n",
        "%matplotlib inline\n",
        "from torch.autograd import grad\n",
        "import pylab\n",
        "import numpy as np\n",
        "def compute_delta(S, ith):\n",
        "    inputs = torch.tensor([[1, 110.0, 110.0, 0.35, 0.1, 0.05]*(ith-1)\\\n",
        "                           + [1, 110.0, S, 0.35, 0.1, 0.05]\\\n",
        "                           + ([1, 110.0, 110.0, 0.35, 0.1, 0.05]*(nstock-ith))]).cuda()\n",
        "    inputs.requires_grad = True\n",
        "    x = model(inputs.float())\n",
        "    #x = model(inputs)\n",
        "    x.backward()\n",
        "    first_order_gradient = inputs.grad\n",
        "    return first_order_gradient[0][2]"
      ],
      "execution_count": 21,
      "outputs": []
    },
    {
      "cell_type": "code",
      "metadata": {
        "colab": {
          "base_uri": "https://localhost:8080/",
          "height": 279
        },
        "id": "4MfZKJlv13SC",
        "outputId": "a163f6df-0353-463e-89b4-f28000a12bee"
      },
      "source": [
        "for i in range(1, nstock+1):\n",
        "  prices = np.arange(0, 150, 0.1)\n",
        "  deltas = []\n",
        "  for p in prices:\n",
        "      deltas.append(compute_delta(p, i).item())\n",
        "  fig = pylab.plot(prices, deltas, label = f'{i}th stock')\n",
        "  pylab.legend(loc = 'lower right')\n",
        "  pylab.xlabel('prices')\n",
        "  pylab.ylabel('Delta')\n",
        "  fig"
      ],
      "execution_count": 22,
      "outputs": [
        {
          "output_type": "display_data",
          "data": {
            "image/png": "[encoded data removed]",
            "text/plain": [
              "<Figure size 432x288 with 1 Axes>"
            ]
          },
          "metadata": {
            "tags": [],
            "needs_background": "light"
          }
        }
      ]
    },
    {
      "cell_type": "markdown",
      "metadata": {
        "id": "iXixHQic35iI"
      },
      "source": [
        "#### Using Finite Difference, Change only 1 S0 at a time"
      ]
    },
    {
      "cell_type": "code",
      "metadata": {
        "colab": {
          "base_uri": "https://localhost:8080/",
          "height": 279
        },
        "id": "VGk5Hw64fMdh",
        "outputId": "20e096a5-35f2-4276-caeb-e5d22413ed31"
      },
      "source": [
        "## Using Finite Difference, Change only 1 S0 at a time\n",
        "%matplotlib inline\n",
        "import numpy as np\n",
        "def compute_delta(S, ith):\n",
        "    epsilon = 0.01\n",
        "    inputs1 = torch.tensor([[1, 110.0, 110.0, 0.35, 0.1, 0.05]*(ith-1)\\\n",
        "                           + [1, 110.0, S, 0.35, 0.1, 0.05]\\\n",
        "                           + ([1, 110.0, 110.0, 0.35, 0.1, 0.05]*(nstock-ith))]).cuda()\n",
        "    inputs2 = torch.tensor([[1, 110.0, 110.0, 0.35, 0.1, 0.05]*(ith-1)\\\n",
        "                           + [1, 110.0, S + epsilon, 0.35, 0.1, 0.05]\\\n",
        "                           + ([1, 110.0, 110.0, 0.35, 0.1, 0.05]*(nstock-ith))]).cuda()\n",
        "    delta = (model(inputs2.float()) - model(inputs1.float()))/epsilon\n",
        "    return delta\n",
        "\n",
        "for i in range(1, nstock+1):\n",
        "  prices = np.arange(0, 150, 0.1)\n",
        "  deltas = []\n",
        "  for p in prices:\n",
        "      deltas.append(compute_delta(p, i).item())\n",
        "  fig = pylab.plot(prices, deltas, label = f'{i}th stock')\n",
        "  pylab.legend(loc = 'lower right')\n",
        "  pylab.xlabel('prices')\n",
        "  pylab.ylabel('Delta')\n",
        "  fig"
      ],
      "execution_count": 23,
      "outputs": [
        {
          "output_type": "display_data",
          "data": {
            "image/png": "[encoded data removed]",
            "text/plain": [
              "<Figure size 432x288 with 1 Axes>"
            ]
          },
          "metadata": {
            "tags": [],
            "needs_background": "light"
          }
        }
      ]
    },
    {
      "cell_type": "markdown",
      "metadata": {
        "id": "fIJe36fJ4JFO"
      },
      "source": [
        "#### Using Finite Difference, Change 3 S0 at a time"
      ]
    },
    {
      "cell_type": "code",
      "metadata": {
        "colab": {
          "base_uri": "https://localhost:8080/",
          "height": 296
        },
        "id": "4O1I8COnUxnz",
        "outputId": "087f15a7-2870-4038-ee90-29dd0051a1cb"
      },
      "source": [
        "##Using Finite Difference, Change 3 S0 at a time\n",
        "%matplotlib inline\n",
        "import numpy as np\n",
        "def compute_delta(S):\n",
        "    epsilon = 0.01\n",
        "    inputs1 = torch.tensor([[1, 110.0, S, 0.35, 0.1, 0.05]*nstock]).cuda()\n",
        "    inputs2 = torch.tensor([[1, 110.0, S + epsilon, 0.35, 0.1, 0.05]*nstock]).cuda()\n",
        "    delta = (model(inputs2.float()) - model(inputs1.float()))/epsilon\n",
        "    return delta\n",
        "\n",
        "\n",
        "prices = np.arange(0, 200, 0.1)\n",
        "deltas = []\n",
        "for p in prices:\n",
        "    deltas.append(compute_delta(p).item())\n",
        "fig = pylab.plot(prices, deltas)\n",
        "pylab.xlabel('prices')\n",
        "pylab.ylabel('Delta')\n",
        "fig"
      ],
      "execution_count": 17,
      "outputs": [
        {
          "output_type": "execute_result",
          "data": {
            "text/plain": [
              "[<matplotlib.lines.Line2D at 0x7f61a386e650>]"
            ]
          },
          "metadata": {
            "tags": []
          },
          "execution_count": 17
        },
        {
          "output_type": "display_data",
          "data": {
            "image/png": "[encoded data removed]",
            "text/plain": [
              "<Figure size 432x288 with 1 Axes>"
            ]
          },
          "metadata": {
            "tags": [],
            "needs_background": "light"
          }
        }
      ]
    },
    {
      "cell_type": "markdown",
      "metadata": {
        "id": "yNB8LPwfBMHQ"
      },
      "source": [
        "# Gamma"
      ]
    },
    {
      "cell_type": "markdown",
      "metadata": {
        "id": "oLO_5nEGVcEc"
      },
      "source": [
        "Calculating the second order derivative is easy in PyTorch too. We just need to apply the `grad` function twice. Use this mechanism, we can calculate the second order derivatives $\\frac{\\partial^2 P}{\\partial K \\partial S_0}$, $\\frac{\\partial^2 P}{\\partial B \\partial S_0}$, $\\frac{\\partial^2 P}{\\partial S_0^2}$, $\\frac{\\partial^2 P}{\\partial \\sigma \\partial S_0}$, $\\frac{\\partial^2 P}{\\partial \\mu \\partial S_0}$, $\\frac{\\partial^2 P}{\\partial r \\partial S_0}$ in the following example."
      ]
    },
    {
      "cell_type": "code",
      "metadata": {
        "id": "nGzj7A3sThZK",
        "colab": {
          "base_uri": "https://localhost:8080/"
        },
        "outputId": "8e87cf1c-c758-4039-a765-9855b3060038"
      },
      "source": [
        "import torch\n",
        "from torch import Tensor\n",
        "from torch.autograd import Variable\n",
        "from torch.autograd import grad\n",
        "from torch import nn\n",
        "\n",
        "inputs = torch.tensor([[1, 110.0, 110.0, 0.35, 0.1, 0.05]*nstock]).cuda()\n",
        "inputs.requires_grad = True\n",
        "x = model(inputs)\n",
        "\n",
        "# instead of using loss.backward(), use torch.autograd.grad() to compute gradients\n",
        "# https://pytorch.org/docs/stable/autograd.html#torch.autograd.grad\n",
        "loss_grads = grad(x, inputs, create_graph=True)\n",
        "drv = grad(loss_grads[0][0][2], inputs)\n",
        "drv"
      ],
      "execution_count": 24,
      "outputs": [
        {
          "output_type": "execute_result",
          "data": {
            "text/plain": [
              "(tensor([[ 0.0276, -0.0021,  0.0020, -0.0219, -0.0066,  0.2083, -0.0326, -0.0018,\n",
              "           0.0020, -0.0288,  0.0161,  0.3432, -0.0413, -0.0022,  0.0020, -0.0324,\n",
              "           0.0087,  0.1013]], device='cuda:0'),)"
            ]
          },
          "metadata": {
            "tags": []
          },
          "execution_count": 24
        }
      ]
    },
    {
      "cell_type": "markdown",
      "metadata": {
        "id": "WJbZYtvhVmSo"
      },
      "source": [
        "Gamma is the second order differenation of `S`. We can plot the the Gamma curve as a function of the stock price"
      ]
    },
    {
      "cell_type": "markdown",
      "metadata": {
        "id": "dlXVePiK4UH5"
      },
      "source": [
        "#### Using gradient, Change only 1 S0 at a time"
      ]
    },
    {
      "cell_type": "code",
      "metadata": {
        "id": "3JpQa3EJToA0",
        "colab": {
          "base_uri": "https://localhost:8080/",
          "height": 279
        },
        "outputId": "9ac07760-be6b-4233-e116-9f7d39c0da35"
      },
      "source": [
        "##Using gradient, Change only 1 S0 at a time\n",
        "import pylab\n",
        "import numpy as np\n",
        "def compute_gamma(S, ith):\n",
        "  inputs = torch.tensor([[1, 110.0, 110.0, 0.35, 0.1, 0.05]*(ith-1)\\\n",
        "                           + [1, 110.0, S, 0.35, 0.1, 0.05]\\\n",
        "                           + ([1, 110.0, 110.0, 0.35, 0.1, 0.05]*(nstock-ith))]).cuda()\n",
        "  # inputs = torch.tensor([[1, 110.0, S, 0.35, 0.1, 0.05] + ([1, 110.0, 110.0, 0.35, 0.1, 0.05]*2)]).cuda()\n",
        "  inputs.requires_grad = True\n",
        "  x = model(inputs.float())\n",
        "  #x = model(inputs)\n",
        "  loss_grads = grad(x, inputs, create_graph=True)\n",
        "  drv = grad(loss_grads[0][0][2], inputs)\n",
        "  return drv[0][0][2]\n",
        "\n",
        "for i in range(1, nstock+1):\n",
        "  prices = np.arange(0, 150, 0.1)\n",
        "  gammas = []\n",
        "  for p in prices:\n",
        "      gammas.append(compute_gamma(p, i).item())\n",
        "  fig2 = pylab.plot(prices, gammas, label = f'{i}th stock')\n",
        "  pylab.legend(loc = 'upper right')\n",
        "  pylab.xlabel('prices')\n",
        "  pylab.ylabel('Gamma')\n",
        "  fig2"
      ],
      "execution_count": 26,
      "outputs": [
        {
          "output_type": "display_data",
          "data": {
            "image/png": "[encoded data removed]",
            "text/plain": [
              "<Figure size 432x288 with 1 Axes>"
            ]
          },
          "metadata": {
            "tags": [],
            "needs_background": "light"
          }
        }
      ]
    },
    {
      "cell_type": "markdown",
      "metadata": {
        "id": "RDEmn97t4xxJ"
      },
      "source": [
        "#### Using Finite Difference, Change only 1 S0 at a time"
      ]
    },
    {
      "cell_type": "code",
      "metadata": {
        "id": "BsoaOyCDxQy0",
        "colab": {
          "base_uri": "https://localhost:8080/",
          "height": 282
        },
        "outputId": "f8447446-9742-452c-ae13-5a387941c81e"
      },
      "source": [
        "##Using Finite Difference, Change only 1 S0 at a time\n",
        "%matplotlib inline\n",
        "import numpy as np\n",
        "def compute_gamma(S, ith):\n",
        "    epsilon = 0.5\n",
        "    inputs1 = torch.tensor([[1, 110.0, 110.0, 0.35, 0.1, 0.05]*(ith-1)\\\n",
        "                           + [1, 110.0, S, 0.35, 0.1, 0.05]\\\n",
        "                           + ([1, 110.0, 110.0, 0.35, 0.1, 0.05]*(nstock-ith))]).cuda()\n",
        "    inputs2 = torch.tensor([[1, 110.0, 110.0, 0.35, 0.1, 0.05]*(ith-1)\\\n",
        "                           + [1, 110.0, S+epsilon, 0.35, 0.1, 0.05]\\\n",
        "                           + ([1, 110.0, 110.0, 0.35, 0.1, 0.05]*(nstock-ith))]).cuda()\n",
        "    inputs3 = torch.tensor([[1, 110.0, 110.0, 0.35, 0.1, 0.05]*(ith-1)\\\n",
        "                           + [1, 110.0, S-epsilon, 0.35, 0.1, 0.05]\\\n",
        "                           + ([1, 110.0, 110.0, 0.35, 0.1, 0.05]*(nstock-ith))]).cuda()\n",
        "    # inputs1 = torch.tensor([[1, 110.0, S, 0.35, 0.1, 0.05]  + ([1, 110.0, 110.0, 0.35, 0.1, 0.05]*2)]).cuda()\n",
        "    # inputs2 = torch.tensor([[1, 110.0, S + epsilon, 0.35, 0.1, 0.05]  + ([1, 110.0, 110.0, 0.35, 0.1, 0.05]*2)]).cuda()\n",
        "    # inputs3 = torch.tensor([[1, 110.0, S - epsilon, 0.35, 0.1, 0.05]  + ([1, 110.0, 110.0, 0.35, 0.1, 0.05]*2)]).cuda()\n",
        "    gamma = (model(inputs2.float()) - 2*model(inputs1.float()) + model(inputs3.float()))/(epsilon**2)\n",
        "    return gamma\n",
        "\n",
        "for i in range(1, nstock+1):\n",
        "  prices = np.arange(0, 200, 0.1)\n",
        "  gammas = []\n",
        "  for p in prices:\n",
        "      gammas.append(compute_gamma(p, i).item())\n",
        "  fig = pylab.plot(prices, gammas, label = f'{i}th stock')\n",
        "  pylab.legend(loc = 'upper right')\n",
        "  pylab.xlabel('prices')\n",
        "  pylab.ylabel('Gamma')\n",
        "  fig"
      ],
      "execution_count": 27,
      "outputs": [
        {
          "output_type": "display_data",
          "data": {
            "image/png": "[encoded data removed]",
            "text/plain": [
              "<Figure size 432x288 with 1 Axes>"
            ]
          },
          "metadata": {
            "tags": [],
            "needs_background": "light"
          }
        }
      ]
    },
    {
      "cell_type": "markdown",
      "metadata": {
        "id": "SnRaSM685NCq"
      },
      "source": [
        "#### Using Finite Difference, Change 3 S0 at a time"
      ]
    },
    {
      "cell_type": "code",
      "metadata": {
        "colab": {
          "base_uri": "https://localhost:8080/",
          "height": 296
        },
        "id": "aOsXgOwWZ_ru",
        "outputId": "abfcc896-0029-4d7b-e085-03a474e77552"
      },
      "source": [
        "##Using Finite Difference, Change 3 S0 at a time\n",
        "%matplotlib inline\n",
        "import numpy as np\n",
        "def compute_gamma(S):\n",
        "    epsilon = 0.5\n",
        "    inputs1 = torch.tensor([[1, 110.0, S, 0.35, 0.1, 0.05]*nstock]).cuda()\n",
        "    inputs2 = torch.tensor([[1, 110.0, S + epsilon, 0.35, 0.1, 0.05]*nstock]).cuda()\n",
        "    inputs3 = torch.tensor([[1, 110.0, S - epsilon, 0.35, 0.1, 0.05]*nstock]).cuda()\n",
        "    gamma = (model(inputs2.float()) - 2*model(inputs1.float()) + model(inputs3.float()))/(epsilon**2)\n",
        "    return gamma\n",
        "\n",
        "prices = np.arange(0, 200, 0.1)\n",
        "gammas = []\n",
        "for p in prices:\n",
        "    gammas.append(compute_gamma(p).item())\n",
        "fig = pylab.plot(prices, gammas)\n",
        "pylab.xlabel('prices')\n",
        "pylab.ylabel('Gamma')\n",
        "fig"
      ],
      "execution_count": 28,
      "outputs": [
        {
          "output_type": "execute_result",
          "data": {
            "text/plain": [
              "[<matplotlib.lines.Line2D at 0x7f61a5a9e810>]"
            ]
          },
          "metadata": {
            "tags": []
          },
          "execution_count": 28
        },
        {
          "output_type": "display_data",
          "data": {
            "image/png": "[encoded data removed]",
            "text/plain": [
              "<Figure size 432x288 with 1 Axes>"
            ]
          },
          "metadata": {
            "tags": [],
            "needs_background": "light"
          }
        }
      ]
    },
    {
      "cell_type": "markdown",
      "metadata": {
        "id": "67lca2xrBh9a"
      },
      "source": [
        "# Vega"
      ]
    },
    {
      "cell_type": "markdown",
      "metadata": {
        "id": "iuETeg-e53wz"
      },
      "source": [
        "#### Using finite difference, Change only 1 S0 at a time"
      ]
    },
    {
      "cell_type": "code",
      "metadata": {
        "id": "muozc-hzhSGA",
        "colab": {
          "base_uri": "https://localhost:8080/",
          "height": 279
        },
        "outputId": "1f04ba33-3d06-42fd-8484-522d532f8955"
      },
      "source": [
        "##Using finite difference, Change only 1 S0 at a time\n",
        "# vega\n",
        "%matplotlib inline\n",
        "import numpy as np\n",
        "def compute_vega(S, ith):\n",
        "    epsilon = 0.5\n",
        "\n",
        "    inputs1 = torch.tensor([[1, 110.0, 110.0, 0.35, 0.1, 0.05]*(ith-1)\\\n",
        "                           + [1, 110.0, S, 0.35, 0.1, 0.05]\\\n",
        "                           + ([1, 110.0, 110.0, 0.35, 0.1, 0.05]*(nstock-ith))]).cuda()\n",
        "    inputs2 = torch.tensor([[1, 110.0, 110.0, 0.35, 0.1, 0.05]*(ith-1)\\\n",
        "                           + [1, 110.0, S, 0.35+epsilon, 0.1, 0.05]\\\n",
        "                           + ([1, 110.0, 110.0, 0.35, 0.1, 0.05]*(nstock-ith))]).cuda()\n",
        "\n",
        "    vega = (model(inputs2.float()) - model(inputs1.float()))/epsilon\n",
        "    return vega\n",
        "\n",
        "for i in range(1, nstock+1):\n",
        "  prices = np.arange(0, 200, 0.1)\n",
        "  vegas = []\n",
        "  for p in prices:\n",
        "      vegas.append(compute_vega(p, i).item())\n",
        "  fig = pylab.plot(prices, vegas, label = f'{i}th stock')\n",
        "  pylab.legend(loc = 'upper right')\n",
        "  pylab.xlabel('prices')\n",
        "  pylab.ylabel('Vega')\n",
        "  fig"
      ],
      "execution_count": 29,
      "outputs": [
        {
          "output_type": "display_data",
          "data": {
            "image/png": "[encoded data removed]",
            "text/plain": [
              "<Figure size 432x288 with 1 Axes>"
            ]
          },
          "metadata": {
            "tags": [],
            "needs_background": "light"
          }
        }
      ]
    },
    {
      "cell_type": "markdown",
      "metadata": {
        "id": "y_BYyL9d584w"
      },
      "source": [
        "#### Using Finite Difference, Change 3 S0 at a time"
      ]
    },
    {
      "cell_type": "code",
      "metadata": {
        "colab": {
          "base_uri": "https://localhost:8080/",
          "height": 296
        },
        "id": "0KATxBCAdlFt",
        "outputId": "751a1b98-1084-4229-cee2-725ef3109933"
      },
      "source": [
        "##Using Finite Difference, Change 3 S0 at a time\n",
        "# vega\n",
        "%matplotlib inline\n",
        "import numpy as np\n",
        "def compute_vega(S):\n",
        "    epsilon = 0.5\n",
        "    inputs1 = torch.tensor([[1, 110.0, S, 0.35, 0.1, 0.05]*nstock]).cuda()\n",
        "    inputs2 = torch.tensor([[1, 110.0, S, 0.35 + epsilon, 0.1, 0.05]*nstock]).cuda()\n",
        "    vega = (model(inputs2.float()) - model(inputs1.float()))/epsilon\n",
        "    return vega\n",
        "\n",
        "\n",
        "prices = np.arange(0, 200, 0.1)\n",
        "vegas = []\n",
        "for p in prices:\n",
        "    vegas.append(compute_vega(p).item())\n",
        "fig = pylab.plot(prices, vegas)\n",
        "pylab.xlabel('prices')\n",
        "pylab.ylabel('Vega')\n",
        "fig"
      ],
      "execution_count": 30,
      "outputs": [
        {
          "output_type": "execute_result",
          "data": {
            "text/plain": [
              "[<matplotlib.lines.Line2D at 0x7f61a5b9c690>]"
            ]
          },
          "metadata": {
            "tags": []
          },
          "execution_count": 30
        },
        {
          "output_type": "display_data",
          "data": {
            "image/png": "[encoded data removed]",
            "text/plain": [
              "<Figure size 432x288 with 1 Axes>"
            ]
          },
          "metadata": {
            "tags": [],
            "needs_background": "light"
          }
        }
      ]
    },
    {
      "cell_type": "markdown",
      "metadata": {
        "id": "Rj7NlW6GVqSA"
      },
      "source": [
        "[Implied volatility](https://en.wikipedia.org/wiki/Implied_volatility) is the forecasted volatility of the underlying asset based on the quoted prices of the option. It is the reverse mapping of price to the option parameter given the model which is hard to do with the Monte Carlo simulation approach. But if we have the deep learning pricing model, it is an easy task. We can first plot the relationship between volatility and the option price"
      ]
    },
    {
      "cell_type": "code",
      "metadata": {
        "id": "4yrCw5UNT07t"
      },
      "source": [
        "# import pylab\n",
        "# import numpy as np\n",
        "# def compute_price(sigma):\n",
        "#     inputs = torch.tensor([[1, 110.0, 110.0, sigma, 0.1, 0.05]]).cuda()\n",
        "#     x = model(inputs.float())\n",
        "#     #x = model(inputs)\n",
        "#     return x.item()\n",
        "# sigmas = np.arange(0, 0.5, 0.1)\n",
        "# prices = []\n",
        "# for s in sigmas:\n",
        "#     prices.append(compute_price(s))\n",
        "# fig3 = pylab.plot(sigmas, prices)\n",
        "# pylab.xlabel('Sigma')\n",
        "# pylab.ylabel('Price')\n",
        "# fig3"
      ],
      "execution_count": null,
      "outputs": []
    },
    {
      "cell_type": "markdown",
      "metadata": {
        "id": "EU25Cj29VtCa"
      },
      "source": [
        "Given the prices `P`, the implied volatility is the root of the function `compute_price`. We can use bisection to find the root."
      ]
    },
    {
      "cell_type": "code",
      "metadata": {
        "id": "ddHnwm_zUBYD"
      },
      "source": [
        "# def bisection_root(small, large, fun, target, EPS=1e-6):\n",
        "#     if fun(large) - target < 0:\n",
        "#         print('upper bound is too small')\n",
        "#         return None\n",
        "#     if fun(small) - target > 0:\n",
        "#         print('lower bound is too large')\n",
        "#         return None\n",
        "#     while large - small > EPS:\n",
        "#         mid = (large + small) / 2.0\n",
        "#         if fun(mid) - target >= 0:\n",
        "#             large = mid\n",
        "#         else:\n",
        "#             small = mid\n",
        "#     mid = (large + small) / 2.0\n",
        "#     return mid, abs(fun(mid) - target)\n",
        "# quoted_price = 16.0\n",
        "# sigma, err = bisection_root(0, 0.5, compute_price, quoted_price)\n",
        "# print('implied volativity', sigma, 'error', err)     "
      ],
      "execution_count": null,
      "outputs": []
    },
    {
      "cell_type": "code",
      "metadata": {
        "id": "DEiAredqQGxf"
      },
      "source": [
        ""
      ],
      "execution_count": null,
      "outputs": []
    }
  ]
}