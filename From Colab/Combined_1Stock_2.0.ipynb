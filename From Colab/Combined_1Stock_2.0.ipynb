{
  "nbformat": 4,
  "nbformat_minor": 0,
  "metadata": {
    "kernelspec": {
      "display_name": "Python 3",
      "language": "python",
      "name": "python3"
    },
    "language_info": {
      "codemirror_mode": {
        "name": "ipython",
        "version": 3
      },
      "file_extension": ".py",
      "mimetype": "text/x-python",
      "name": "python",
      "nbconvert_exporter": "python",
      "pygments_lexer": "ipython3",
      "version": "3.6.9"
    },
    "colab": {
      "name": "Combined.ipynb",
      "provenance": [],
      "collapsed_sections": [
        "NwN6aLFDnwiy",
        "dBOv_RiBsCWa",
        "u2_89jOknwjH"
      ],
      "include_colab_link": true
    },
    "accelerator": "GPU"
  },
  "cells": [
    {
      "cell_type": "markdown",
      "metadata": {
        "id": "view-in-github",
        "colab_type": "text"
      },
      "source": [
        "<a href=\"https://colab.research.google.com/github/xinyanz-erin/Applied-Finance-Project/blob/Lilian/From%20Colab/Combined_1Stock_2.0.ipynb\" target=\"_parent\"><img src=\"https://colab.research.google.com/assets/colab-badge.svg\" alt=\"Open In Colab\"/></a>"
      ]
    },
    {
      "cell_type": "code",
      "metadata": {
        "id": "gCR6hhw5Xq_R"
      },
      "source": [
        "import warnings\n",
        "warnings.filterwarnings('ignore')"
      ],
      "execution_count": 1,
      "outputs": []
    },
    {
      "cell_type": "code",
      "metadata": {
        "colab": {
          "base_uri": "https://localhost:8080/"
        },
        "id": "gSxOZk3ls2XQ",
        "outputId": "933aaf5c-f068-47c9-b702-bb12e6116428"
      },
      "source": [
        "!curl https://colab.chainer.org/install |sh -\n",
        "import cupy"
      ],
      "execution_count": 2,
      "outputs": [
        {
          "output_type": "stream",
          "text": [
            "  % Total    % Received % Xferd  Average Speed   Time    Time     Time  Current\n",
            "                                 Dload  Upload   Total   Spent    Left  Speed\n",
            "100  1580  100  1580    0     0   6007      0 --:--:-- --:--:-- --:--:--  6007\n",
            "+ apt -y -q install cuda-libraries-dev-10-0\n",
            "Reading package lists...\n",
            "Building dependency tree...\n",
            "Reading state information...\n",
            "cuda-libraries-dev-10-0 is already the newest version (10.0.130-1).\n",
            "0 upgraded, 0 newly installed, 0 to remove and 40 not upgraded.\n",
            "+ pip install -q cupy-cuda100  chainer \n",
            "\u001b[K     |████████████████████████████████| 58.9 MB 21 kB/s \n",
            "\u001b[K     |████████████████████████████████| 1.0 MB 56.1 MB/s \n",
            "\u001b[?25h  Building wheel for chainer (setup.py) ... \u001b[?25l\u001b[?25hdone\n",
            "+ set +ex\n",
            "Installation succeeded!\n"
          ],
          "name": "stdout"
        }
      ]
    },
    {
      "cell_type": "markdown",
      "metadata": {
        "id": "NwN6aLFDnwiy"
      },
      "source": [
        "### Deep Learning Barrier Option\n",
        "\n",
        "We used Numba and CuPy in the previous notebook to run Monte Carlo simulation to determine the price of the Asian Barrier option. A Monte Carlo simulation needs millions of paths to get an accurate answer which is computationally intensive. [Ryan et al (2018)](https://arxiv.org/abs/1809.02233) showed that a deep learning model can be trained to value derivatives. The deep learning model is accurate and very fast, capable of producing valuations a million times faster than traditional models. In the this notebook, we will use a fully connected network to learn the pricing mode of the Asian Barrier option. Monte Carlo simulation is used as pricing ground truth for the training. We use the same Asian Barrier Option model as last notebook with parameters listed as following:\n",
        "\n",
        "```\n",
        "T - Maturity (yrs.)\n",
        "S - Spot (usd)\n",
        "K - Strike (usd)\n",
        "sigma - Volatility (per.)\n",
        "r - Risk Free Rate (per.)\n",
        "mu - Stock Drift Rate (per.)\n",
        "B - Barrier (usd)\n",
        "```\n",
        "\n",
        "### Batched Data generation\n",
        "\n",
        "The dataset is an important part of the Deep learning training. We will modify the previous single Asian Barrier Option pricing code to handle a batch of Barrier Option pricing. "
      ]
    },
    {
      "cell_type": "code",
      "metadata": {
        "id": "cHYrh4iYfP-n",
        "cellView": "form"
      },
      "source": [
        "#@title\n",
        "###Test: Judy's new X code\n",
        "#N_STOCKS = 3"
      ],
      "execution_count": null,
      "outputs": []
    },
    {
      "cell_type": "code",
      "metadata": {
        "id": "hy7qGwT0jv4A",
        "colab": {
          "base_uri": "https://localhost:8080/"
        },
        "cellView": "form",
        "outputId": "ac958b42-0bd5-4600-d2b8-246276885438"
      },
      "source": [
        "#@title\n",
        "#X = cupy.array([])\n",
        "#for i in range(0,N_STOCKS):\n",
        "  #X =  cupy.concatenate((X,cupy.array([1,1]), cupy.random.rand(3),cupy.array([1])))\n",
        "#X = X.reshape(N_STOCKS,6)\n",
        "#X"
      ],
      "execution_count": null,
      "outputs": [
        {
          "output_type": "execute_result",
          "data": {
            "text/plain": [
              "array([[1.        , 1.        , 0.05103263, 0.0071633 , 0.52167781,\n",
              "        1.        ],\n",
              "       [1.        , 1.        , 0.64857557, 0.32324551, 0.39745689,\n",
              "        1.        ],\n",
              "       [1.        , 1.        , 0.82301291, 0.46666519, 0.8391176 ,\n",
              "        1.        ]])"
            ]
          },
          "metadata": {
            "tags": []
          },
          "execution_count": 4
        }
      ]
    },
    {
      "cell_type": "code",
      "metadata": {
        "id": "9OHtAXC8hVae",
        "colab": {
          "base_uri": "https://localhost:8080/"
        },
        "cellView": "form",
        "outputId": "264cef2d-1ead-43b8-e5fd-d8a131f38fda"
      },
      "source": [
        "#@title\n",
        "#X = X * ((cupy.array([200.0, 0, 200.0, 0.4, 0.2, 0.2] * N_STOCKS, dtype = cupy.float32)).reshape(N_STOCKS, 6))\n",
        "#X"
      ],
      "execution_count": null,
      "outputs": [
        {
          "output_type": "execute_result",
          "data": {
            "text/plain": [
              "array([[2.00000000e+02, 0.00000000e+00, 1.02065252e+01, 2.86532070e-03,\n",
              "        1.04335564e-01, 2.00000003e-01],\n",
              "       [2.00000000e+02, 0.00000000e+00, 1.29715113e+02, 1.29298207e-01,\n",
              "        7.94913799e-02, 2.00000003e-01],\n",
              "       [2.00000000e+02, 0.00000000e+00, 1.64602581e+02, 1.86666078e-01,\n",
              "        1.67823523e-01, 2.00000003e-01]])"
            ]
          },
          "metadata": {
            "tags": []
          },
          "execution_count": 5
        }
      ]
    },
    {
      "cell_type": "markdown",
      "metadata": {
        "id": "TY_9g3tbdLiY"
      },
      "source": [
        "# Train(Erin Version)"
      ]
    },
    {
      "cell_type": "code",
      "metadata": {
        "colab": {
          "base_uri": "https://localhost:8080/"
        },
        "id": "qBxT9Eida-c_",
        "outputId": "a6c4b380-eee1-4c6c-b01a-ccb074762090"
      },
      "source": [
        "################################# TEST ########################################\n",
        "%%writefile cupy_dataset.py\n",
        "\n",
        "import numba\n",
        "from numba import cuda\n",
        "import random\n",
        "import cupy\n",
        "import numpy as np\n",
        "import math\n",
        "import time\n",
        "import torch\n",
        "cupy.cuda.set_allocator(None)\n",
        "from torch.utils.dlpack import from_dlpack\n",
        "\n",
        "@cuda.jit\n",
        "def batch_barrier_option(d_s, T, K, B, S0, sigma, mu, r, d_normals, N_STEPS, N_PATHS, N_BATCH):\n",
        "    # ii - overall thread index\n",
        "    ii = cuda.threadIdx.x + cuda.blockIdx.x * cuda.blockDim.x\n",
        "    stride = cuda.gridDim.x * cuda.blockDim.x\n",
        "    tmp3 = math.sqrt(T/N_STEPS)\n",
        "    for i in range(ii, N_PATHS * N_BATCH, stride):\n",
        "        batch_id = i // N_PATHS\n",
        "        path_id = i % N_PATHS\n",
        "        tmp1 = mu[batch_id]*T/N_STEPS\n",
        "        tmp2 = math.exp(-r[batch_id]*T)\n",
        "        running_average = 0.0\n",
        "        s_curr = S0[batch_id]\n",
        "        for n in range(N_STEPS):\n",
        "            s_curr += tmp1 * s_curr + sigma[batch_id]*s_curr*tmp3*d_normals[path_id + batch_id * N_PATHS + n * N_PATHS * N_BATCH] # stock price\n",
        "            running_average = running_average + 1.0/(n + 1.0) * (s_curr - running_average) # average of the path\n",
        "            if i==0 and batch_id == 2:\n",
        "                print(s_curr)\n",
        "            if running_average <= B[batch_id]: # if reach barrier, drop out the path\n",
        "                break\n",
        "        payoff = running_average - K[batch_id] if running_average > K[batch_id] else 0\n",
        "        d_s[i] = tmp2 * payoff\n",
        "\n",
        "class NumbaOptionDataSet(object):\n",
        "    \n",
        "    def __init__(self, max_len=10, number_path = 1000, batch=2, threads=512, seed=15, stocks=3):  # 3 stocks\n",
        "        self.num = 0\n",
        "        self.max_length = max_len\n",
        "        self.N_PATHS = number_path\n",
        "        self.N_STEPS = 365\n",
        "        self.N_BATCH = batch\n",
        "        self.N_STOCKS = stocks\n",
        "        self.T = np.float32(1.0)\n",
        "        self.output = cupy.zeros(self.N_STOCKS*self.N_PATHS, dtype=cupy.float32) \n",
        "        self.number_of_blocks = (self.N_PATHS * self.N_STOCKS - 1) // threads + 1\n",
        "        self.number_of_threads = threads\n",
        "        cupy.random.seed(seed)\n",
        "        \n",
        "    def __len__(self):\n",
        "        return self.max_length\n",
        "        \n",
        "    def __iter__(self):\n",
        "        self.num = 0\n",
        "        return self\n",
        "    \n",
        "    def __next__(self):\n",
        "        if self.num > self.max_length:\n",
        "            raise StopIteration\n",
        "        \n",
        "        Y = cupy.zeros(self.N_BATCH, dtype=cupy.float32)\n",
        "        paras = cupy.zeros((self.N_BATCH, self.N_STOCKS * 6), dtype = cupy.float32)\n",
        "        for op in range(self.N_BATCH):\n",
        "          \n",
        "          X = cupy.array([])\n",
        "          K_rand = cupy.random.rand(1)[0]\n",
        "          B_rand = cupy.random.rand(1)[0]\n",
        "          r_rand = cupy.random.rand(1)[0]\n",
        "          for i in range(0,self.N_STOCKS):\n",
        "            X =  cupy.concatenate((X,cupy.array([K_rand,B_rand]), cupy.random.rand(3),cupy.array([r_rand]))) #[K,B,S0,sigma,mu,r], K B r are shared\n",
        "          X = X.reshape(self.N_STOCKS,6)\n",
        "          X = X * ((cupy.array([110.0, 100.0, 120.0, 0.35, 0.1, 0.05] * self.N_STOCKS, dtype = cupy.float32)).reshape(self.N_STOCKS, 6))\n",
        "          #X = cupy.random.rand(6 * self.N_STOCKS, dtype=cupy.float32)\n",
        "          #X = 0.9 + cupy.random.rand(6 * self.N_STOCKS, dtype=cupy.float32)*0.1\n",
        "          # scale the [0, 1) random numbers to the correct range for each of the option parameters\n",
        "          #X = (X * cupy.array([200.0, 0.99, 200.0, 0.4, 0.2, 0.2] * self.N_STOCKS, dtype = cupy.float32)).reshape(self.N_STOCKS, 6)\n",
        "\n",
        "          # make sure the Barrier is smaller than the Strike price\n",
        "          # X[:, 1] = X[:, 0] * X[:, 1]\n",
        "          for i in range(self.N_STOCKS):\n",
        "            paras[op,i*6:(i+1)*6] = X[i,:]\n",
        "\n",
        "          stocks_randoms_mean = cupy.zeros(self.N_STOCKS, dtype = cupy.float32)\n",
        "          rho = cupy.random.normal(0, 1, self.N_STOCKS, dtype = cupy.float32)\n",
        "\n",
        "          #stocks_randoms_cov = cupy.ones((self.N_STOCKS, self.N_STOCKS), dtype = cupy.float32)\n",
        "          #cupy.fill_diagonal(stocks_randoms_cov, rho)\n",
        "\n",
        "          #stocks_randoms_cov = (-0.99 + cupy.random.rand(self.N_STOCKS*self.N_STOCKS, dtype=cupy.float32)*2*0.99).reshape(self.N_STOCKS,self.N_STOCKS)\n",
        "          stocks_randoms_cov = cupy.array([1] * self.N_STOCKS*self.N_STOCKS, dtype = cupy.float32).reshape(self.N_STOCKS,self.N_STOCKS)  #Covariance\n",
        "          cupy.fill_diagonal(stocks_randoms_cov, 1)\n",
        "\n",
        "          num_of_randoms_each_stock = self.N_PATHS * self.N_STEPS\n",
        "          #randoms_gpu = cupy.random.multivariate_normal(stocks_randoms_mean, stocks_randoms_cov,\n",
        "          #                                              num_of_randoms_each_stock, dtype=cupy.float32)\n",
        "          randoms_gpu = cupy.random.normal(num_of_randoms_each_stock, dtype=cupy.float32)\n",
        "          #b1_r = randoms_gpu[:,0]\n",
        "          #b2_r = randoms_gpu[:,1]\n",
        "          #randoms = cupy.zeros(self.N_STOCKS * self.N_PATHS * self.N_STEPS, dtype=cupy.float32)\n",
        "          #interval = int((self.N_PATHS * self.N_STEPS * self.N_STOCKS) / self.N_PATHS)\n",
        "          #for i in range(interval):\n",
        "           # if i % 2 == 0:\n",
        "            #    ind = int(i/2)\n",
        "            #    randoms[i*self.N_PATHS:(i+1)*self.N_PATHS] = b1_r[ind:(ind+self.N_PATHS)]\n",
        "            #else:\n",
        "            #    ind = int(i//2)\n",
        "            #    randoms[i*self.N_PATHS:(i+1)*self.N_PATHS] = b2_r[ind:(ind+self.N_PATHS)]\n",
        "\n",
        "          randoms = cupy.random.normal(0, 1, self.N_STOCKS * self.N_PATHS * self.N_STEPS, dtype=cupy.float32)\n",
        "          batch_barrier_option[(self.number_of_blocks,), (self.number_of_threads,)](self.output, self.T, X[:, 0], \n",
        "                                X[:, 1], X[:, 2], X[:, 3], X[:, 4], X[:, 5], randoms, self.N_STEPS, self.N_PATHS, self.N_STOCKS)\n",
        "          \n",
        "          o = self.output.reshape(self.N_STOCKS, self.N_PATHS)\n",
        "          Y[op] = o.mean(axis = 0).mean()\n",
        "\n",
        "        self.num += 1\n",
        "        return (from_dlpack(paras.toDlpack()), from_dlpack(Y.toDlpack()))\n",
        "\n",
        "\n",
        "\n",
        "# ds = NumbaOptionDataSet(10, number_path=100000, batch=3, seed=random.randint(0,100), stocks=5)\n",
        "# for i in ds:\n",
        "#     print(i[0])\n",
        "################################# TEST ########################################"
      ],
      "execution_count": 3,
      "outputs": [
        {
          "output_type": "stream",
          "text": [
            "Writing cupy_dataset.py\n"
          ],
          "name": "stdout"
        }
      ]
    },
    {
      "cell_type": "markdown",
      "metadata": {
        "id": "u2_89jOknwjH"
      },
      "source": [
        "### Model\n",
        "To map the option parameters to price, we use 6 layers of fully connected neural network with hidden dimension 512 as inspired by [this paper](https://arxiv.org/abs/1809.02233). Writing this DL price model into a file `model.py`:-"
      ]
    },
    {
      "cell_type": "markdown",
      "metadata": {
        "id": "NMHqzJycx8XH"
      },
      "source": [
        "### Modified Model"
      ]
    },
    {
      "cell_type": "code",
      "metadata": {
        "id": "ZTn7iJQryAIH",
        "colab": {
          "base_uri": "https://localhost:8080/"
        },
        "outputId": "956eb8f3-5f40-49a0-dcc4-0074e2f5a618"
      },
      "source": [
        "%%writefile model.py\n",
        "import torch.nn as nn\n",
        "import torch.nn.functional as F\n",
        "import torch\n",
        "import numpy as np\n",
        "\n",
        "\n",
        "class Net(nn.Module):\n",
        "\n",
        "    def __init__(self, hidden=1024):\n",
        "        super(Net, self).__init__()\n",
        "        self.fc1 = nn.Linear(6, hidden) # remember to change this!\n",
        "        self.fc2 = nn.Linear(hidden, hidden)\n",
        "        self.fc3 = nn.Linear(hidden, hidden)\n",
        "        self.fc4 = nn.Linear(hidden, hidden)\n",
        "        self.fc5 = nn.Linear(hidden, hidden)\n",
        "        self.fc6 = nn.Linear(hidden, 1)\n",
        "        self.register_buffer('norm',\n",
        "                             torch.tensor([110.0, 100.0, 120.0, 0.35, 0.1, 0.05])) # don't use numpy here - will give error later\n",
        "\n",
        "    def forward(self, x):\n",
        "        # normalize the parameter to range [0-1] \n",
        "        x = x / self.norm\n",
        "        x = F.elu(self.fc1(x))\n",
        "        x = F.elu(self.fc2(x))\n",
        "        x = F.elu(self.fc3(x))\n",
        "        x = F.elu(self.fc4(x))\n",
        "        x = F.elu(self.fc5(x))\n",
        "        return self.fc6(x)"
      ],
      "execution_count": 4,
      "outputs": [
        {
          "output_type": "stream",
          "text": [
            "Writing model.py\n"
          ],
          "name": "stdout"
        }
      ]
    },
    {
      "cell_type": "markdown",
      "metadata": {
        "id": "hSPRFqyznwjI"
      },
      "source": [
        "As we know the random parameters' scaling factors, the input parameters are first scaled back to a range of (0-1) by dividing them by (200.0, 198.0, 200.0, 0.4, 0.2, 0.2). Then they are projected 5 times to the hidden dimension of 512 after the `ELu` activation function. `ELu` is chosen because we need to compute the second order differentiation of the parameters. If use ReLu, the second order differentiation will always be zero. The last layer is a linear layer that maps the hidden dimension to the predicted option price. "
      ]
    },
    {
      "cell_type": "markdown",
      "metadata": {
        "id": "AM8J2liPnwjJ"
      },
      "source": [
        "For training, we use [Ignite](https://github.com/pytorch/ignite) which is a high-level library to train neural networks in PyTorch. We use `MSELoss` as the loss function, `Adam` as the optimizer and `CosineAnnealingScheduler` as the learning rate scheduler. The following code is feeding the random option data to the pricing model to train it."
      ]
    },
    {
      "cell_type": "markdown",
      "metadata": {
        "id": "yACi4ge13_rd"
      },
      "source": [
        "### Train"
      ]
    },
    {
      "cell_type": "code",
      "metadata": {
        "id": "1TyZT8_AH35M",
        "colab": {
          "base_uri": "https://localhost:8080/"
        },
        "outputId": "da12df8d-48a3-41fd-82a3-8e5067a6f7ab"
      },
      "source": [
        "!pip install pytorch-ignite"
      ],
      "execution_count": 5,
      "outputs": [
        {
          "output_type": "stream",
          "text": [
            "Collecting pytorch-ignite\n",
            "  Downloading pytorch_ignite-0.4.6-py3-none-any.whl (232 kB)\n",
            "\u001b[?25l\r\u001b[K     |█▍                              | 10 kB 31.8 MB/s eta 0:00:01\r\u001b[K     |██▉                             | 20 kB 23.2 MB/s eta 0:00:01\r\u001b[K     |████▎                           | 30 kB 17.3 MB/s eta 0:00:01\r\u001b[K     |█████▋                          | 40 kB 15.1 MB/s eta 0:00:01\r\u001b[K     |███████                         | 51 kB 7.1 MB/s eta 0:00:01\r\u001b[K     |████████▌                       | 61 kB 7.1 MB/s eta 0:00:01\r\u001b[K     |█████████▉                      | 71 kB 7.4 MB/s eta 0:00:01\r\u001b[K     |███████████▎                    | 81 kB 8.3 MB/s eta 0:00:01\r\u001b[K     |████████████▊                   | 92 kB 8.8 MB/s eta 0:00:01\r\u001b[K     |██████████████                  | 102 kB 6.8 MB/s eta 0:00:01\r\u001b[K     |███████████████▌                | 112 kB 6.8 MB/s eta 0:00:01\r\u001b[K     |█████████████████               | 122 kB 6.8 MB/s eta 0:00:01\r\u001b[K     |██████████████████▎             | 133 kB 6.8 MB/s eta 0:00:01\r\u001b[K     |███████████████████▊            | 143 kB 6.8 MB/s eta 0:00:01\r\u001b[K     |█████████████████████▏          | 153 kB 6.8 MB/s eta 0:00:01\r\u001b[K     |██████████████████████▌         | 163 kB 6.8 MB/s eta 0:00:01\r\u001b[K     |████████████████████████        | 174 kB 6.8 MB/s eta 0:00:01\r\u001b[K     |█████████████████████████▍      | 184 kB 6.8 MB/s eta 0:00:01\r\u001b[K     |██████████████████████████▊     | 194 kB 6.8 MB/s eta 0:00:01\r\u001b[K     |████████████████████████████▏   | 204 kB 6.8 MB/s eta 0:00:01\r\u001b[K     |█████████████████████████████▋  | 215 kB 6.8 MB/s eta 0:00:01\r\u001b[K     |███████████████████████████████ | 225 kB 6.8 MB/s eta 0:00:01\r\u001b[K     |████████████████████████████████| 232 kB 6.8 MB/s \n",
            "\u001b[?25hRequirement already satisfied: torch<2,>=1.3 in /usr/local/lib/python3.7/dist-packages (from pytorch-ignite) (1.9.0+cu102)\n",
            "Requirement already satisfied: typing-extensions in /usr/local/lib/python3.7/dist-packages (from torch<2,>=1.3->pytorch-ignite) (3.7.4.3)\n",
            "Installing collected packages: pytorch-ignite\n",
            "Successfully installed pytorch-ignite-0.4.6\n"
          ],
          "name": "stdout"
        }
      ]
    },
    {
      "cell_type": "code",
      "metadata": {
        "id": "G4Ej82G8nwjJ",
        "colab": {
          "base_uri": "https://localhost:8080/"
        },
        "outputId": "25a98245-f36b-4706-e9cf-3fb658e9cde6"
      },
      "source": [
        "from ignite.engine import Engine, Events\n",
        "from ignite.handlers import Timer\n",
        "from torch.nn import MSELoss\n",
        "from torch.optim import Adam\n",
        "from ignite.contrib.handlers.param_scheduler import CosineAnnealingScheduler\n",
        "from ignite.handlers import ModelCheckpoint\n",
        "from model import Net\n",
        "from cupy_dataset import NumbaOptionDataSet\n",
        "timer = Timer(average=True)\n",
        "model = Net().cuda()\n",
        "loss_fn = MSELoss()\n",
        "optimizer = Adam(model.parameters(), lr=1e-3)\n",
        "# dataset = NumbaOptionDataSet(max_len=10000, number_path = 1024, batch=4800)\n",
        "dataset = NumbaOptionDataSet(max_len=100, number_path = 1024, batch=32, stocks=1)\n",
        "\n",
        "def train_update(engine, batch):\n",
        "    model.train()\n",
        "    optimizer.zero_grad()\n",
        "    x = batch[0]\n",
        "    y = batch[1]\n",
        "    y_pred = model(x)\n",
        "    loss = loss_fn(y_pred[:,0], y)\n",
        "    loss.backward()\n",
        "    optimizer.step()\n",
        "    return loss.item()\n",
        "\n",
        "trainer = Engine(train_update)\n",
        "log_interval = 20\n",
        "\n",
        "scheduler = CosineAnnealingScheduler(optimizer, 'lr', 1e-4, 1e-6, len(dataset))\n",
        "trainer.add_event_handler(Events.ITERATION_STARTED, scheduler)\n",
        "timer.attach(trainer,\n",
        "             start=Events.EPOCH_STARTED,\n",
        "             resume=Events.ITERATION_STARTED,\n",
        "             pause=Events.ITERATION_COMPLETED,\n",
        "             step=Events.ITERATION_COMPLETED)    \n",
        "@trainer.on(Events.ITERATION_COMPLETED)\n",
        "def log_training_loss(engine):\n",
        "    iter = (engine.state.iteration - 1) % len(dataset) + 1\n",
        "    if iter % log_interval == 0:\n",
        "        print('loss', engine.state.output, 'average time', timer.value(), 'iter num', iter)\n",
        "        \n",
        "trainer.run(dataset, max_epochs=300)"
      ],
      "execution_count": 6,
      "outputs": [
        {
          "output_type": "stream",
          "text": [
            "loss 933.1363525390625 average time 0.18297407934999513 iter num 20\n",
            "loss 689.5015258789062 average time 0.0934165715499958 iter num 40\n",
            "loss 193.6809844970703 average time 0.06350834688332914 iter num 60\n",
            "loss 243.77304077148438 average time 0.04856680086249625 iter num 80\n",
            "loss 124.23210144042969 average time 0.03964194166999675 iter num 100\n",
            "loss 17.824373245239258 average time 0.009557506950002903 iter num 20\n",
            "loss 3.6758334636688232 average time 0.006626095200000748 iter num 40\n",
            "loss 2.8551340103149414 average time 0.005645648816668351 iter num 60\n",
            "loss 2.569115400314331 average time 0.005132138012503162 iter num 80\n",
            "loss 1.8621571063995361 average time 0.004826226000002975 iter num 100\n",
            "loss 1.7767597436904907 average time 0.009698065450001537 iter num 20\n",
            "loss 1.6369009017944336 average time 0.006500363025000411 iter num 40\n",
            "loss 0.8097441792488098 average time 0.005459133833333378 iter num 60\n",
            "loss 0.4553510844707489 average time 0.004915250012501815 iter num 80\n",
            "loss 0.8779315948486328 average time 0.004590997900003799 iter num 100\n",
            "loss 0.6223431825637817 average time 0.009588510000003225 iter num 20\n",
            "loss 1.5256726741790771 average time 0.006491979925006319 iter num 40\n",
            "loss 1.622211217880249 average time 0.005457984133338793 iter num 60\n",
            "loss 0.8154517412185669 average time 0.0050256070000024525 iter num 80\n",
            "loss 0.7200412750244141 average time 0.004711778420001451 iter num 100\n",
            "loss 1.383528709411621 average time 0.010161052099994095 iter num 20\n",
            "loss 0.6010461449623108 average time 0.006860574774997019 iter num 40\n",
            "loss 0.45414072275161743 average time 0.005775157749999949 iter num 60\n",
            "loss 0.5735681056976318 average time 0.00527798912500046 iter num 80\n",
            "loss 1.5192210674285889 average time 0.0049618723299994375 iter num 100\n",
            "loss 0.9960864782333374 average time 0.011228631549994362 iter num 20\n",
            "loss 0.7349109649658203 average time 0.007433915700001137 iter num 40\n",
            "loss 0.5647035241127014 average time 0.006214982466666659 iter num 60\n",
            "loss 1.0538307428359985 average time 0.005599123362498659 iter num 80\n",
            "loss 0.6607143878936768 average time 0.005214040259999137 iter num 100\n",
            "loss 1.2819280624389648 average time 0.011442884800001708 iter num 20\n",
            "loss 1.5401335954666138 average time 0.007587618850001832 iter num 40\n",
            "loss 0.23811420798301697 average time 0.006251498750001853 iter num 60\n",
            "loss 1.683968186378479 average time 0.005599581612501936 iter num 80\n",
            "loss 0.9674522876739502 average time 0.005237596290002102 iter num 100\n",
            "loss 1.2734140157699585 average time 0.010942970099998206 iter num 20\n",
            "loss 0.7653502225875854 average time 0.007360218099999827 iter num 40\n",
            "loss 0.4965642988681793 average time 0.006172550666666628 iter num 60\n",
            "loss 1.064001202583313 average time 0.005562261687501291 iter num 80\n",
            "loss 0.8345884084701538 average time 0.00519604832000141 iter num 100\n",
            "loss 0.597598135471344 average time 0.011013946249997275 iter num 20\n",
            "loss 0.666124165058136 average time 0.00742254072500117 iter num 40\n",
            "loss 0.735327959060669 average time 0.0062036058000018105 iter num 60\n",
            "loss 1.0952328443527222 average time 0.005613230887497878 iter num 80\n",
            "loss 0.868465006351471 average time 0.0051903244599992605 iter num 100\n",
            "loss 0.5337568521499634 average time 0.009679198150004708 iter num 20\n",
            "loss 0.8843734860420227 average time 0.006589468975003854 iter num 40\n",
            "loss 0.5150667428970337 average time 0.005513585433331514 iter num 60\n",
            "loss 0.5316813588142395 average time 0.005013311599996939 iter num 80\n",
            "loss 0.6656676530838013 average time 0.0046663954999962695 iter num 100\n",
            "loss 1.164226770401001 average time 0.00976627549999307 iter num 20\n",
            "loss 0.9992810487747192 average time 0.006526379874999577 iter num 40\n",
            "loss 0.9113664627075195 average time 0.0054927524333341655 iter num 60\n",
            "loss 0.5427814722061157 average time 0.004945485225001533 iter num 80\n",
            "loss 1.283134937286377 average time 0.004609973340000692 iter num 100\n",
            "loss 1.161902904510498 average time 0.009002586649995693 iter num 20\n",
            "loss 0.6249656081199646 average time 0.006179509399994743 iter num 40\n",
            "loss 0.8292958736419678 average time 0.005211182883329949 iter num 60\n",
            "loss 0.4398438334465027 average time 0.0047217341624978815 iter num 80\n",
            "loss 0.5757563710212708 average time 0.004453009729995756 iter num 100\n",
            "loss 0.567875862121582 average time 0.01053638270001045 iter num 20\n",
            "loss 0.8371084928512573 average time 0.007061884225004178 iter num 40\n",
            "loss 0.6267693638801575 average time 0.005909762416669651 iter num 60\n",
            "loss 0.30958685278892517 average time 0.005360830762503354 iter num 80\n",
            "loss 0.9766495227813721 average time 0.005009622890001424 iter num 100\n",
            "loss 0.6708986163139343 average time 0.011235993550008061 iter num 20\n",
            "loss 0.5099244117736816 average time 0.007444431850001365 iter num 40\n",
            "loss 0.6808863282203674 average time 0.006172992750001072 iter num 60\n",
            "loss 0.3862995505332947 average time 0.005514599500002504 iter num 80\n",
            "loss 1.3456385135650635 average time 0.00512028670000177 iter num 100\n",
            "loss 0.6266574859619141 average time 0.010033483000003684 iter num 20\n",
            "loss 0.5305768847465515 average time 0.006750807449999741 iter num 40\n",
            "loss 0.5679640769958496 average time 0.0056820636833322165 iter num 60\n",
            "loss 0.6471869349479675 average time 0.005117546887499458 iter num 80\n",
            "loss 0.3794286847114563 average time 0.004796929229997886 iter num 100\n",
            "loss 0.8126522302627563 average time 0.010159694400005036 iter num 20\n",
            "loss 0.5073408484458923 average time 0.0068242091750036595 iter num 40\n",
            "loss 0.67151939868927 average time 0.005754014050003775 iter num 60\n",
            "loss 0.8913911581039429 average time 0.005201993175001007 iter num 80\n",
            "loss 0.5098953247070312 average time 0.004844734290002179 iter num 100\n",
            "loss 0.5864366292953491 average time 0.009979188749997547 iter num 20\n",
            "loss 0.6021353006362915 average time 0.006687205450000988 iter num 40\n",
            "loss 0.6719624996185303 average time 0.005609407583335724 iter num 60\n",
            "loss 0.2241700142621994 average time 0.005053933025003232 iter num 80\n",
            "loss 0.44907456636428833 average time 0.00472076084999685 iter num 100\n",
            "loss 0.6612914800643921 average time 0.01034234994998542 iter num 20\n",
            "loss 0.8893439769744873 average time 0.006902383324995753 iter num 40\n",
            "loss 1.0604829788208008 average time 0.0058376945166628506 iter num 60\n",
            "loss 0.7477478981018066 average time 0.005296906774998433 iter num 80\n",
            "loss 0.5647362470626831 average time 0.0050396523899996735 iter num 100\n",
            "loss 0.22865097224712372 average time 0.010611258200003703 iter num 20\n",
            "loss 0.473491907119751 average time 0.007118608175002805 iter num 40\n",
            "loss 1.0051939487457275 average time 0.005969078983338249 iter num 60\n",
            "loss 0.4328951835632324 average time 0.00534670162500106 iter num 80\n",
            "loss 0.47005587816238403 average time 0.004980820510000967 iter num 100\n",
            "loss 2.2042288780212402 average time 0.009544934599995258 iter num 20\n",
            "loss 1.4981482028961182 average time 0.006514945100002478 iter num 40\n",
            "loss 0.43896591663360596 average time 0.005459981766671262 iter num 60\n",
            "loss 0.4946422576904297 average time 0.004951092375006283 iter num 80\n",
            "loss 0.39207467436790466 average time 0.004620820570002024 iter num 100\n",
            "loss 1.3927509784698486 average time 0.010105213349987707 iter num 20\n",
            "loss 1.0836012363433838 average time 0.0067253826499921844 iter num 40\n",
            "loss 0.8361766338348389 average time 0.005617140566662708 iter num 60\n",
            "loss 0.13061055541038513 average time 0.005036068587493503 iter num 80\n",
            "loss 1.009683609008789 average time 0.004713648719995262 iter num 100\n",
            "loss 0.9342262148857117 average time 0.008972281650011382 iter num 20\n",
            "loss 1.2623822689056396 average time 0.0061826363500046 iter num 40\n",
            "loss 0.3379325866699219 average time 0.005252716750000748 iter num 60\n",
            "loss 0.9445412755012512 average time 0.004810274912502166 iter num 80\n",
            "loss 0.9505691528320312 average time 0.004537442650002959 iter num 100\n",
            "loss 1.7768827676773071 average time 0.01042489349999869 iter num 20\n",
            "loss 0.4595286250114441 average time 0.006965383149997706 iter num 40\n",
            "loss 1.005466103553772 average time 0.005804526883326844 iter num 60\n",
            "loss 0.19987303018569946 average time 0.0052291844624917875 iter num 80\n",
            "loss 0.28230375051498413 average time 0.004882054709992189 iter num 100\n",
            "loss 0.7143269181251526 average time 0.009915627299994867 iter num 20\n",
            "loss 0.3989025950431824 average time 0.006692225199995505 iter num 40\n",
            "loss 0.4532359540462494 average time 0.005676529216664979 iter num 60\n",
            "loss 0.3292628228664398 average time 0.005188676024998529 iter num 80\n",
            "loss 0.5319730043411255 average time 0.004830395039996347 iter num 100\n",
            "loss 1.1591155529022217 average time 0.0095682912000143 iter num 20\n",
            "loss 2.4636483192443848 average time 0.006496057325009019 iter num 40\n",
            "loss 0.6230465173721313 average time 0.005459491166677329 iter num 60\n",
            "loss 0.7947618961334229 average time 0.004967599400009704 iter num 80\n",
            "loss 0.41114214062690735 average time 0.004654806260008399 iter num 100\n",
            "loss 0.5376075506210327 average time 0.009255450650005059 iter num 20\n",
            "loss 0.5929948091506958 average time 0.006340577250003321 iter num 40\n",
            "loss 0.8115734457969666 average time 0.005336844450005174 iter num 60\n",
            "loss 0.5222504138946533 average time 0.004833994650005025 iter num 80\n",
            "loss 0.6243895292282104 average time 0.0045508603500036314 iter num 100\n",
            "loss 1.0854153633117676 average time 0.009758847849997209 iter num 20\n",
            "loss 1.4582539796829224 average time 0.006843795175004175 iter num 40\n",
            "loss 0.9900718331336975 average time 0.005723801416667129 iter num 60\n",
            "loss 0.2440284639596939 average time 0.0051660183375020095 iter num 80\n",
            "loss 0.2540300786495209 average time 0.004810046809999449 iter num 100\n",
            "loss 3.205009937286377 average time 0.01012462560000813 iter num 20\n",
            "loss 0.8972779512405396 average time 0.0068522502499945405 iter num 40\n",
            "loss 0.4745754897594452 average time 0.005751669083328655 iter num 60\n",
            "loss 0.4343603551387787 average time 0.00522505173749579 iter num 80\n",
            "loss 0.9404284954071045 average time 0.004879683269997485 iter num 100\n",
            "loss 1.6623390913009644 average time 0.00996473044999675 iter num 20\n",
            "loss 0.628715991973877 average time 0.006760536699997033 iter num 40\n",
            "loss 2.182427406311035 average time 0.005676747783333743 iter num 60\n",
            "loss 0.5559107661247253 average time 0.005152253799998618 iter num 80\n",
            "loss 0.4672513008117676 average time 0.0048620094299963055 iter num 100\n",
            "loss 2.3713998794555664 average time 0.010013539899983926 iter num 20\n",
            "loss 0.7709699869155884 average time 0.006640683324994257 iter num 40\n",
            "loss 0.4485815167427063 average time 0.0055189233833289105 iter num 60\n",
            "loss 0.9455987811088562 average time 0.0049478485499989235 iter num 80\n",
            "loss 0.6803804636001587 average time 0.00460484261999909 iter num 100\n",
            "loss 1.6519768238067627 average time 0.00903069034999362 iter num 20\n",
            "loss 0.9026134610176086 average time 0.006141953175011849 iter num 40\n",
            "loss 0.5555865168571472 average time 0.0051880614999997 iter num 60\n",
            "loss 0.5551021099090576 average time 0.00471779281249809 iter num 80\n",
            "loss 0.6197834014892578 average time 0.004426475659995504 iter num 100\n",
            "loss 0.971282422542572 average time 0.00963726104998841 iter num 20\n",
            "loss 0.5980690121650696 average time 0.006478792649991761 iter num 40\n",
            "loss 0.29104650020599365 average time 0.005420535483330014 iter num 60\n",
            "loss 0.1945706307888031 average time 0.004885462137497143 iter num 80\n",
            "loss 0.31518638134002686 average time 0.004587187000000767 iter num 100\n",
            "loss 3.9314517974853516 average time 0.009609356549998439 iter num 20\n",
            "loss 0.565835177898407 average time 0.006521834499997681 iter num 40\n",
            "loss 0.5017335414886475 average time 0.0055129110999966235 iter num 60\n",
            "loss 0.4372069835662842 average time 0.00502557621249764 iter num 80\n",
            "loss 0.5482724905014038 average time 0.004721801850000702 iter num 100\n",
            "loss 5.710554122924805 average time 0.010627888350006743 iter num 20\n",
            "loss 0.535388708114624 average time 0.0069763290000111056 iter num 40\n",
            "loss 0.6723058819770813 average time 0.005806823033344699 iter num 60\n",
            "loss 0.3402647376060486 average time 0.005238307462506952 iter num 80\n",
            "loss 0.417486310005188 average time 0.0048744012900044705 iter num 100\n",
            "loss 1.8154518604278564 average time 0.01074398844997404 iter num 20\n",
            "loss 0.2935226857662201 average time 0.007049523399982149 iter num 40\n",
            "loss 0.6167291402816772 average time 0.005806671249987024 iter num 60\n",
            "loss 0.5904391407966614 average time 0.005252962524987481 iter num 80\n",
            "loss 0.2843460142612457 average time 0.004873868869990475 iter num 100\n",
            "loss 0.8240543603897095 average time 0.010266295300004913 iter num 20\n",
            "loss 0.9248988032341003 average time 0.006853178050008069 iter num 40\n",
            "loss 0.9963093400001526 average time 0.005694891083332247 iter num 60\n",
            "loss 0.23504674434661865 average time 0.005120771299996818 iter num 80\n",
            "loss 0.6622273921966553 average time 0.004792769109994879 iter num 100\n",
            "loss 0.8314087986946106 average time 0.009853797049993318 iter num 20\n",
            "loss 0.7674619555473328 average time 0.006661613574993908 iter num 40\n",
            "loss 0.2111435979604721 average time 0.005569266049999063 iter num 60\n",
            "loss 1.188334584236145 average time 0.004996143749997373 iter num 80\n",
            "loss 0.2358972281217575 average time 0.004675436069998113 iter num 100\n",
            "loss 1.0638684034347534 average time 0.009833852149995437 iter num 20\n",
            "loss 0.44640251994132996 average time 0.006580180174995576 iter num 40\n",
            "loss 0.13424962759017944 average time 0.0054649214833318634 iter num 60\n",
            "loss 0.38120734691619873 average time 0.00493266021250065 iter num 80\n",
            "loss 0.4625341594219208 average time 0.004602109549999796 iter num 100\n",
            "loss 1.2878143787384033 average time 0.009670159449996163 iter num 20\n",
            "loss 1.1718082427978516 average time 0.006492858999999384 iter num 40\n",
            "loss 1.1198570728302002 average time 0.005458152383332996 iter num 60\n",
            "loss 0.6780307292938232 average time 0.0049196497999986375 iter num 80\n",
            "loss 0.8059816956520081 average time 0.004609112439999308 iter num 100\n",
            "loss 0.715556263923645 average time 0.009140116099990792 iter num 20\n",
            "loss 0.5868393182754517 average time 0.006202792749996888 iter num 40\n",
            "loss 0.49118679761886597 average time 0.005222288399998358 iter num 60\n",
            "loss 0.1710488349199295 average time 0.004792492037501006 iter num 80\n",
            "loss 0.6186716556549072 average time 0.004549661659998492 iter num 100\n",
            "loss 1.3070485591888428 average time 0.010413622850001048 iter num 20\n",
            "loss 2.880441188812256 average time 0.0069582177750078245 iter num 40\n",
            "loss 2.178135395050049 average time 0.00578475865000693 iter num 60\n",
            "loss 0.7765498161315918 average time 0.0051886456500000126 iter num 80\n",
            "loss 0.2095029652118683 average time 0.00484432879999872 iter num 100\n",
            "loss 1.67006254196167 average time 0.00994412790000183 iter num 20\n",
            "loss 0.3586347699165344 average time 0.006699441575000265 iter num 40\n",
            "loss 1.1485987901687622 average time 0.005592398183335945 iter num 60\n",
            "loss 0.3168535828590393 average time 0.005021299737497031 iter num 80\n",
            "loss 0.2797115743160248 average time 0.00468893189999676 iter num 100\n",
            "loss 0.42232248187065125 average time 0.00940955079998389 iter num 20\n",
            "loss 4.049475193023682 average time 0.0064211540249885955 iter num 40\n",
            "loss 1.8585937023162842 average time 0.00538237506666898 iter num 60\n",
            "loss 0.4076688885688782 average time 0.004877549312502083 iter num 80\n",
            "loss 0.2425967901945114 average time 0.00458659266000268 iter num 100\n",
            "loss 0.9087957143783569 average time 0.009278811500001894 iter num 20\n",
            "loss 0.4573824405670166 average time 0.0063132312750184385 iter num 40\n",
            "loss 0.7243940830230713 average time 0.005288651516677115 iter num 60\n",
            "loss 0.6845226287841797 average time 0.004803844362503184 iter num 80\n",
            "loss 0.9588279724121094 average time 0.004490632810008038 iter num 100\n",
            "loss 0.9489659070968628 average time 0.009491085949997568 iter num 20\n",
            "loss 1.2934441566467285 average time 0.006425549675000752 iter num 40\n",
            "loss 0.24115177989006042 average time 0.005387611400002849 iter num 60\n",
            "loss 0.7138615250587463 average time 0.00486309822500317 iter num 80\n",
            "loss 0.525180459022522 average time 0.004630289950000588 iter num 100\n",
            "loss 1.05697762966156 average time 0.009860758349998378 iter num 20\n",
            "loss 0.5056946873664856 average time 0.006684440250000989 iter num 40\n",
            "loss 0.29509544372558594 average time 0.0056709738000051855 iter num 60\n",
            "loss 0.39512789249420166 average time 0.0051110214875052405 iter num 80\n",
            "loss 0.5079549551010132 average time 0.004788109310003392 iter num 100\n",
            "loss 0.31256771087646484 average time 0.009848944100008339 iter num 20\n",
            "loss 0.4656042456626892 average time 0.006640046350008788 iter num 40\n",
            "loss 0.9673562049865723 average time 0.005611824400002282 iter num 60\n",
            "loss 1.294098973274231 average time 0.005051706062504024 iter num 80\n",
            "loss 0.09085211157798767 average time 0.004697299320000638 iter num 100\n",
            "loss 0.6775301694869995 average time 0.00967801395000265 iter num 20\n",
            "loss 0.6621866822242737 average time 0.006496160874993962 iter num 40\n",
            "loss 0.3278292417526245 average time 0.005449256349995342 iter num 60\n",
            "loss 0.1926872730255127 average time 0.004901029674998369 iter num 80\n",
            "loss 0.2897084951400757 average time 0.0045736484299993664 iter num 100\n",
            "loss 0.6759405136108398 average time 0.009238748249998707 iter num 20\n",
            "loss 0.4365236759185791 average time 0.006254055299996253 iter num 40\n",
            "loss 0.3065252900123596 average time 0.005299129699996759 iter num 60\n",
            "loss 0.3106193542480469 average time 0.004790344512494471 iter num 80\n",
            "loss 0.3479437232017517 average time 0.004491166039993004 iter num 100\n",
            "loss 0.6121498346328735 average time 0.00999572679999119 iter num 20\n",
            "loss 0.6382074356079102 average time 0.006684645875003526 iter num 40\n",
            "loss 0.41869258880615234 average time 0.005550247216670338 iter num 60\n",
            "loss 0.6507331728935242 average time 0.004974532887504779 iter num 80\n",
            "loss 0.4280344843864441 average time 0.004636760620002178 iter num 100\n",
            "loss 2.081449031829834 average time 0.010247292999986257 iter num 20\n",
            "loss 1.2024792432785034 average time 0.006811391024996283 iter num 40\n",
            "loss 0.210861474275589 average time 0.0057381220833292446 iter num 60\n",
            "loss 0.8279945850372314 average time 0.005183976762492648 iter num 80\n",
            "loss 0.24074018001556396 average time 0.004830635249994657 iter num 100\n",
            "loss 0.11959432065486908 average time 0.009695366850013442 iter num 20\n",
            "loss 0.8769055604934692 average time 0.006578992025012553 iter num 40\n",
            "loss 0.37029749155044556 average time 0.005515701450010132 iter num 60\n",
            "loss 0.8191491365432739 average time 0.004983030825007973 iter num 80\n",
            "loss 0.5218641757965088 average time 0.004684466610004847 iter num 100\n",
            "loss 0.5572215914726257 average time 0.009588543400002435 iter num 20\n",
            "loss 0.3715476393699646 average time 0.006511105950005458 iter num 40\n",
            "loss 0.7327344417572021 average time 0.005517383733331371 iter num 60\n",
            "loss 0.34894344210624695 average time 0.0049965525750025105 iter num 80\n",
            "loss 0.4491652548313141 average time 0.004686448800001699 iter num 100\n",
            "loss 2.800748825073242 average time 0.009259974900010093 iter num 20\n",
            "loss 1.162859559059143 average time 0.006452845724996337 iter num 40\n",
            "loss 0.65943843126297 average time 0.0054276707833309954 iter num 60\n",
            "loss 0.20143386721611023 average time 0.004942300499993735 iter num 80\n",
            "loss 0.48753196001052856 average time 0.004663304309993919 iter num 100\n",
            "loss 0.339252769947052 average time 0.00972020779999525 iter num 20\n",
            "loss 1.8537180423736572 average time 0.006581138575000978 iter num 40\n",
            "loss 0.4968681037425995 average time 0.005601021299999805 iter num 60\n",
            "loss 0.7201148271560669 average time 0.005082152574999554 iter num 80\n",
            "loss 0.15154315531253815 average time 0.0047819334999985585 iter num 100\n",
            "loss 0.450898677110672 average time 0.01082186989997922 iter num 20\n",
            "loss 0.32442110776901245 average time 0.007282451374990728 iter num 40\n",
            "loss 0.24825957417488098 average time 0.0061503545166620675 iter num 60\n",
            "loss 0.4595244526863098 average time 0.005545440487496478 iter num 80\n",
            "loss 0.27249211072921753 average time 0.005198299219999853 iter num 100\n",
            "loss 1.0886362791061401 average time 0.010592137500020726 iter num 20\n",
            "loss 0.5747177004814148 average time 0.007299365050016604 iter num 40\n",
            "loss 0.38526028394699097 average time 0.006191627766672051 iter num 60\n",
            "loss 0.28199702501296997 average time 0.005614056125006072 iter num 80\n",
            "loss 0.4045296609401703 average time 0.005253387090003798 iter num 100\n",
            "loss 0.8513453006744385 average time 0.010363077949989474 iter num 20\n",
            "loss 0.9894232153892517 average time 0.007118874924992724 iter num 40\n",
            "loss 0.34987401962280273 average time 0.005973689049991056 iter num 60\n",
            "loss 0.38386523723602295 average time 0.005393088599990392 iter num 80\n",
            "loss 0.23659731447696686 average time 0.005002002419992095 iter num 100\n",
            "loss 1.5790371894836426 average time 0.010026185000003806 iter num 20\n",
            "loss 1.0425047874450684 average time 0.006760067024993077 iter num 40\n",
            "loss 0.45950862765312195 average time 0.005666663499994229 iter num 60\n",
            "loss 0.5855303406715393 average time 0.005127521437489691 iter num 80\n",
            "loss 0.38039258122444153 average time 0.004802014839992807 iter num 100\n",
            "loss 0.988252580165863 average time 0.010955400950012972 iter num 20\n",
            "loss 2.261323928833008 average time 0.007159470475028229 iter num 40\n",
            "loss 0.28238165378570557 average time 0.005954595533338155 iter num 60\n",
            "loss 0.6450009346008301 average time 0.0053896580625036 iter num 80\n",
            "loss 0.6793113350868225 average time 0.004995398180008124 iter num 100\n",
            "loss 2.987095594406128 average time 0.009430259499993099 iter num 20\n",
            "loss 0.13624846935272217 average time 0.006463442999984181 iter num 40\n",
            "loss 0.9797012805938721 average time 0.005448745833329364 iter num 60\n",
            "loss 0.25172287225723267 average time 0.004925446462502236 iter num 80\n",
            "loss 0.6860171556472778 average time 0.004612020750009833 iter num 100\n",
            "loss 1.6075491905212402 average time 0.009432503300013195 iter num 20\n",
            "loss 0.3108002543449402 average time 0.006366074074998096 iter num 40\n",
            "loss 0.2683663070201874 average time 0.005353098200005965 iter num 60\n",
            "loss 0.28860941529273987 average time 0.004877380600004244 iter num 80\n",
            "loss 0.25845929980278015 average time 0.004573605880000287 iter num 100\n",
            "loss 0.37900257110595703 average time 0.009248316250011612 iter num 20\n",
            "loss 0.8260353803634644 average time 0.006384491650021573 iter num 40\n",
            "loss 0.5053998231887817 average time 0.005415242466684352 iter num 60\n",
            "loss 0.27034807205200195 average time 0.004935364775016637 iter num 80\n",
            "loss 0.40049028396606445 average time 0.004657139030016424 iter num 100\n",
            "loss 1.061137080192566 average time 0.010808861549969606 iter num 20\n",
            "loss 0.4681350290775299 average time 0.007164655174983636 iter num 40\n",
            "loss 1.5269877910614014 average time 0.0059354182166581875 iter num 60\n",
            "loss 0.505298376083374 average time 0.005310367199987809 iter num 80\n",
            "loss 0.21666431427001953 average time 0.0049424947499869636 iter num 100\n",
            "loss 0.7974693775177002 average time 0.009551963449996492 iter num 20\n",
            "loss 0.18599726259708405 average time 0.006500987175007822 iter num 40\n",
            "loss 0.5313519835472107 average time 0.0054800193666703 iter num 60\n",
            "loss 0.3454414904117584 average time 0.004987512412500905 iter num 80\n",
            "loss 0.19338321685791016 average time 0.00465272914000252 iter num 100\n",
            "loss 1.295440673828125 average time 0.009608560749973094 iter num 20\n",
            "loss 0.7644883394241333 average time 0.006468849549975175 iter num 40\n",
            "loss 0.40085533261299133 average time 0.0054036629333268135 iter num 60\n",
            "loss 0.3569311499595642 average time 0.0048717955749992825 iter num 80\n",
            "loss 0.32046741247177124 average time 0.004568407500005378 iter num 100\n",
            "loss 0.23591525852680206 average time 0.009208456850058156 iter num 20\n",
            "loss 0.3126954734325409 average time 0.0062765211250280116 iter num 40\n",
            "loss 0.620962381362915 average time 0.0053467932000065355 iter num 60\n",
            "loss 0.2354244887828827 average time 0.004824776862503199 iter num 80\n",
            "loss 0.13691920042037964 average time 0.004532704709999962 iter num 100\n",
            "loss 0.6915625333786011 average time 0.009520802849988286 iter num 20\n",
            "loss 0.21669167280197144 average time 0.006442953299978171 iter num 40\n",
            "loss 0.5520849823951721 average time 0.005487489949977468 iter num 60\n",
            "loss 0.3668425679206848 average time 0.00502516492498728 iter num 80\n",
            "loss 0.23080620169639587 average time 0.004729231629989954 iter num 100\n",
            "loss 0.3593093156814575 average time 0.00986300359999177 iter num 20\n",
            "loss 0.8218032121658325 average time 0.0066623470999843445 iter num 40\n",
            "loss 0.3114165663719177 average time 0.005590312749992184 iter num 60\n",
            "loss 0.6685993671417236 average time 0.005042208099999357 iter num 80\n",
            "loss 0.20707157254219055 average time 0.004739688029997069 iter num 100\n",
            "loss 0.7616968750953674 average time 0.010047114300004979 iter num 20\n",
            "loss 0.8299391269683838 average time 0.006719550950003849 iter num 40\n",
            "loss 0.4755590260028839 average time 0.005657329749999463 iter num 60\n",
            "loss 0.2901574671268463 average time 0.005077034712496697 iter num 80\n",
            "loss 0.19051051139831543 average time 0.004729467729994212 iter num 100\n",
            "loss 0.4383205771446228 average time 0.009595271250020687 iter num 20\n",
            "loss 0.25913023948669434 average time 0.006537133100005121 iter num 40\n",
            "loss 0.3141217827796936 average time 0.0055041685000029855 iter num 60\n",
            "loss 0.18899966776371002 average time 0.004958442675004449 iter num 80\n",
            "loss 0.44077247381210327 average time 0.004639287739998963 iter num 100\n",
            "loss 0.5917841196060181 average time 0.009395948599990333 iter num 20\n",
            "loss 0.7022209167480469 average time 0.00634882132499115 iter num 40\n",
            "loss 0.9202232360839844 average time 0.005339052899989838 iter num 60\n",
            "loss 0.3306218087673187 average time 0.0048431275124954706 iter num 80\n",
            "loss 0.5200611352920532 average time 0.004530412760002492 iter num 100\n",
            "loss 0.5277769565582275 average time 0.009742570349999369 iter num 20\n",
            "loss 0.4268196225166321 average time 0.006495196349982279 iter num 40\n",
            "loss 1.1663687229156494 average time 0.005456116266653529 iter num 60\n",
            "loss 0.1996774524450302 average time 0.004950680049989842 iter num 80\n",
            "loss 0.3423091769218445 average time 0.004648855799994181 iter num 100\n",
            "loss 1.0007364749908447 average time 0.010045519250002143 iter num 20\n",
            "loss 0.3741980493068695 average time 0.0067514453999990565 iter num 40\n",
            "loss 0.41421887278556824 average time 0.005698013633332266 iter num 60\n",
            "loss 0.4141826033592224 average time 0.005145483512504256 iter num 80\n",
            "loss 0.30636370182037354 average time 0.004819319609998729 iter num 100\n",
            "loss 0.7765288352966309 average time 0.010908422500017423 iter num 20\n",
            "loss 0.4690137803554535 average time 0.0072190218500168156 iter num 40\n",
            "loss 0.29240572452545166 average time 0.005981583016675055 iter num 60\n",
            "loss 0.5281875729560852 average time 0.005338396325004169 iter num 80\n",
            "loss 0.4707373380661011 average time 0.004977145850002671 iter num 100\n",
            "loss 0.5659292936325073 average time 0.009515806050012543 iter num 20\n",
            "loss 0.6073254346847534 average time 0.006581227775018306 iter num 40\n",
            "loss 0.28681227564811707 average time 0.005585585766675649 iter num 60\n",
            "loss 0.30060747265815735 average time 0.005095257875012749 iter num 80\n",
            "loss 0.4638482332229614 average time 0.004811986630013507 iter num 100\n",
            "loss 0.7728534936904907 average time 0.010138051100000212 iter num 20\n",
            "loss 0.25184744596481323 average time 0.006762487325016764 iter num 40\n",
            "loss 0.9673210382461548 average time 0.005656390566684877 iter num 60\n",
            "loss 0.20415109395980835 average time 0.005083443275015043 iter num 80\n",
            "loss 0.12101434916257858 average time 0.0047270961900153455 iter num 100\n",
            "loss 0.3603084683418274 average time 0.009276539600011801 iter num 20\n",
            "loss 0.39014214277267456 average time 0.00630850687500697 iter num 40\n",
            "loss 0.4918196201324463 average time 0.00537268136667232 iter num 60\n",
            "loss 0.24650995433330536 average time 0.004964764312501302 iter num 80\n",
            "loss 0.2633521854877472 average time 0.004673687679999147 iter num 100\n",
            "loss 0.5853104591369629 average time 0.010001704900003006 iter num 20\n",
            "loss 0.2795726954936981 average time 0.00672677092501317 iter num 40\n",
            "loss 0.9788452982902527 average time 0.0056496894166760585 iter num 60\n",
            "loss 0.44837063550949097 average time 0.005115115987507579 iter num 80\n",
            "loss 0.5281455516815186 average time 0.004787284410012944 iter num 100\n",
            "loss 0.5471491813659668 average time 0.010318211999981486 iter num 20\n",
            "loss 2.159097194671631 average time 0.006912109025012114 iter num 40\n",
            "loss 0.5210928916931152 average time 0.005736219499999607 iter num 60\n",
            "loss 0.7470420002937317 average time 0.005166255062499658 iter num 80\n",
            "loss 0.1712697446346283 average time 0.004849787200002993 iter num 100\n",
            "loss 0.3861750364303589 average time 0.009348728200006918 iter num 20\n",
            "loss 0.5899218320846558 average time 0.006380440324988967 iter num 40\n",
            "loss 0.8533933162689209 average time 0.005402820400009508 iter num 60\n",
            "loss 0.19768798351287842 average time 0.004880023750007467 iter num 80\n",
            "loss 0.29633286595344543 average time 0.004562164870008018 iter num 100\n",
            "loss 0.3222145438194275 average time 0.00958127730001479 iter num 20\n",
            "loss 0.5073778629302979 average time 0.006425570150014437 iter num 40\n",
            "loss 0.465177446603775 average time 0.005420107533351862 iter num 60\n",
            "loss 0.39233729243278503 average time 0.004892170787510963 iter num 80\n",
            "loss 0.367522656917572 average time 0.004622111670009872 iter num 100\n",
            "loss 0.3639073967933655 average time 0.009651848249984597 iter num 20\n",
            "loss 1.6431307792663574 average time 0.006512088825002138 iter num 40\n",
            "loss 0.16489166021347046 average time 0.0054205177666820726 iter num 60\n",
            "loss 0.4699767529964447 average time 0.004892033850001099 iter num 80\n",
            "loss 0.2734413743019104 average time 0.004607630740003969 iter num 100\n",
            "loss 0.29613709449768066 average time 0.010586011449970557 iter num 20\n",
            "loss 0.3171975910663605 average time 0.007020654274975868 iter num 40\n",
            "loss 0.3893558084964752 average time 0.005852879549979662 iter num 60\n",
            "loss 0.3886182904243469 average time 0.005261614349984711 iter num 80\n",
            "loss 1.0475106239318848 average time 0.004906947429988122 iter num 100\n",
            "loss 0.7791876792907715 average time 0.010031691300002876 iter num 20\n",
            "loss 0.3846944570541382 average time 0.006720174749995067 iter num 40\n",
            "loss 0.5157021284103394 average time 0.0056285961999947174 iter num 60\n",
            "loss 0.7303544282913208 average time 0.005061319050000179 iter num 80\n",
            "loss 0.3225734233856201 average time 0.004709265979997781 iter num 100\n",
            "loss 3.0674455165863037 average time 0.009391814699995393 iter num 20\n",
            "loss 0.37176841497421265 average time 0.00639660427497688 iter num 40\n",
            "loss 0.4986596703529358 average time 0.005406841849980993 iter num 60\n",
            "loss 0.27060991525650024 average time 0.004930132387494268 iter num 80\n",
            "loss 0.23113317787647247 average time 0.0047534290299995514 iter num 100\n",
            "loss 0.5781071782112122 average time 0.010584276999986741 iter num 20\n",
            "loss 0.4572521448135376 average time 0.007043815499974926 iter num 40\n",
            "loss 0.4878076910972595 average time 0.00584308101666314 iter num 60\n",
            "loss 0.42120805382728577 average time 0.005264183112498699 iter num 80\n",
            "loss 0.3167440891265869 average time 0.00491619219000313 iter num 100\n",
            "loss 0.2597481608390808 average time 0.009779836949996934 iter num 20\n",
            "loss 2.9880504608154297 average time 0.006554969250004206 iter num 40\n",
            "loss 1.2114646434783936 average time 0.005468152266678317 iter num 60\n",
            "loss 0.6323018074035645 average time 0.0049908207750121395 iter num 80\n",
            "loss 0.21105659008026123 average time 0.004718487600016487 iter num 100\n",
            "loss 0.4019705653190613 average time 0.009186103449997063 iter num 20\n",
            "loss 0.23559994995594025 average time 0.006234817999990127 iter num 40\n",
            "loss 0.3658043444156647 average time 0.005320869266662006 iter num 60\n",
            "loss 0.3793339431285858 average time 0.004812610549996066 iter num 80\n",
            "loss 0.16632354259490967 average time 0.004510005539993926 iter num 100\n",
            "loss 2.15736722946167 average time 0.009067205749977348 iter num 20\n",
            "loss 0.5858379602432251 average time 0.0061856522999960365 iter num 40\n",
            "loss 0.31476402282714844 average time 0.0052172142500012345 iter num 60\n",
            "loss 0.35984671115875244 average time 0.004738403387511881 iter num 80\n",
            "loss 0.3077943027019501 average time 0.004462803560008979 iter num 100\n",
            "loss 0.44838547706604004 average time 0.008934506499997497 iter num 20\n",
            "loss 0.5169143080711365 average time 0.006165950025007305 iter num 40\n",
            "loss 0.5757893919944763 average time 0.005270740033328517 iter num 60\n",
            "loss 0.37590834498405457 average time 0.004805117162499073 iter num 80\n",
            "loss 0.21067409217357635 average time 0.004521711220004363 iter num 100\n",
            "loss 0.8925448656082153 average time 0.010912559949997559 iter num 20\n",
            "loss 0.15501689910888672 average time 0.007180221324989589 iter num 40\n",
            "loss 0.2467913031578064 average time 0.005947157449982873 iter num 60\n",
            "loss 0.2673627436161041 average time 0.005321574224981873 iter num 80\n",
            "loss 0.24207079410552979 average time 0.0049429174399779185 iter num 100\n",
            "loss 0.3585328757762909 average time 0.010606499399966652 iter num 20\n",
            "loss 0.37856435775756836 average time 0.006969678824998482 iter num 40\n",
            "loss 0.1658552587032318 average time 0.005762393716656789 iter num 60\n",
            "loss 0.5892899036407471 average time 0.00515212627499011 iter num 80\n",
            "loss 0.11304916441440582 average time 0.0047844143599877495 iter num 100\n",
            "loss 0.6094356775283813 average time 0.009637054700010594 iter num 20\n",
            "loss 0.4138526916503906 average time 0.006559033000002046 iter num 40\n",
            "loss 0.3074694275856018 average time 0.005470599400014938 iter num 60\n",
            "loss 0.20878756046295166 average time 0.0049327781250070755 iter num 80\n",
            "loss 0.31105366349220276 average time 0.0046003524100046884 iter num 100\n",
            "loss 0.40041351318359375 average time 0.009435792149986355 iter num 20\n",
            "loss 1.5392026901245117 average time 0.00633758534998492 iter num 40\n",
            "loss 0.5258551836013794 average time 0.0053448008999869975 iter num 60\n",
            "loss 0.20810170471668243 average time 0.004859935662494763 iter num 80\n",
            "loss 0.4807361662387848 average time 0.004545336669998505 iter num 100\n",
            "loss 1.070688247680664 average time 0.009297839249995832 iter num 20\n",
            "loss 0.3055136203765869 average time 0.006395986499995843 iter num 40\n",
            "loss 0.42446887493133545 average time 0.005401664866667488 iter num 60\n",
            "loss 0.1818522959947586 average time 0.004914170087505454 iter num 80\n",
            "loss 0.25780004262924194 average time 0.004619129869997778 iter num 100\n",
            "loss 0.7226349711418152 average time 0.010452161250043446 iter num 20\n",
            "loss 0.4075643718242645 average time 0.006977283225023711 iter num 40\n",
            "loss 0.5870192646980286 average time 0.005805159700025797 iter num 60\n",
            "loss 0.4215659499168396 average time 0.005235000862523975 iter num 80\n",
            "loss 0.23907093703746796 average time 0.00488099057001591 iter num 100\n",
            "loss 0.4888903498649597 average time 0.010225917199988999 iter num 20\n",
            "loss 0.30853235721588135 average time 0.00686595824998335 iter num 40\n",
            "loss 0.40816304087638855 average time 0.005696716566649229 iter num 60\n",
            "loss 0.6979381442070007 average time 0.005096995174994845 iter num 80\n",
            "loss 0.14964236319065094 average time 0.004736715450001157 iter num 100\n",
            "loss 1.695237398147583 average time 0.009726334149968352 iter num 20\n",
            "loss 0.6920648813247681 average time 0.006577523724979528 iter num 40\n",
            "loss 0.3159937560558319 average time 0.005484832533299292 iter num 60\n",
            "loss 0.43902692198753357 average time 0.004935853649971023 iter num 80\n",
            "loss 0.3082560896873474 average time 0.004601050109984044 iter num 100\n",
            "loss 0.3906436860561371 average time 0.009870944500028145 iter num 20\n",
            "loss 1.4693400859832764 average time 0.0066203036000388234 iter num 40\n",
            "loss 0.6288389563560486 average time 0.005584589916694919 iter num 60\n",
            "loss 0.283184289932251 average time 0.0050498303250321895 iter num 80\n",
            "loss 0.228244811296463 average time 0.004721600840032352 iter num 100\n",
            "loss 0.2643846273422241 average time 0.009679469249988415 iter num 20\n",
            "loss 0.14653626084327698 average time 0.006541296824980236 iter num 40\n",
            "loss 0.20781590044498444 average time 0.005482535283310123 iter num 60\n",
            "loss 0.25472748279571533 average time 0.004977716412480504 iter num 80\n",
            "loss 0.29967200756073 average time 0.004681490429979931 iter num 100\n",
            "loss 0.9826546907424927 average time 0.010450636350014975 iter num 20\n",
            "loss 0.35680943727493286 average time 0.006937694225013047 iter num 40\n",
            "loss 0.466920405626297 average time 0.005868672100010978 iter num 60\n",
            "loss 0.25981539487838745 average time 0.005249099675009461 iter num 80\n",
            "loss 0.22996805608272552 average time 0.004887462450003568 iter num 100\n",
            "loss 0.5451122522354126 average time 0.009917952150010479 iter num 20\n",
            "loss 0.6537463068962097 average time 0.006703335000025845 iter num 40\n",
            "loss 0.9101372957229614 average time 0.0055770303166771855 iter num 60\n",
            "loss 0.712082028388977 average time 0.0050058198750036805 iter num 80\n",
            "loss 0.6105481386184692 average time 0.0046532049599977655 iter num 100\n",
            "loss 0.6883935928344727 average time 0.009942052099995635 iter num 20\n",
            "loss 0.5696297883987427 average time 0.006596207624983208 iter num 40\n",
            "loss 0.4452914893627167 average time 0.005516264983312643 iter num 60\n",
            "loss 0.1897859275341034 average time 0.005031901249984117 iter num 80\n",
            "loss 0.15349216759204865 average time 0.004714115339975251 iter num 100\n",
            "loss 0.5509151220321655 average time 0.009754873100007444 iter num 20\n",
            "loss 6.026438236236572 average time 0.006542528874990694 iter num 40\n",
            "loss 0.8953703045845032 average time 0.005480379849992308 iter num 60\n",
            "loss 0.22633624076843262 average time 0.0049361537499976295 iter num 80\n",
            "loss 0.14168544113636017 average time 0.004621484729998428 iter num 100\n",
            "loss 0.2747390866279602 average time 0.009949554450008691 iter num 20\n",
            "loss 0.49966371059417725 average time 0.006637135125004079 iter num 40\n",
            "loss 0.1039634570479393 average time 0.005512148566666989 iter num 60\n",
            "loss 0.15686991810798645 average time 0.004985169287493818 iter num 80\n",
            "loss 0.2944110929965973 average time 0.004680344839989629 iter num 100\n",
            "loss 0.32048922777175903 average time 0.010293735549987559 iter num 20\n",
            "loss 0.21295049786567688 average time 0.0069337977500083525 iter num 40\n",
            "loss 0.4703265428543091 average time 0.00583366673333785 iter num 60\n",
            "loss 0.24218258261680603 average time 0.005248200787499968 iter num 80\n",
            "loss 0.18558108806610107 average time 0.004897398700002213 iter num 100\n",
            "loss 0.27249085903167725 average time 0.010396132899995792 iter num 20\n",
            "loss 0.26359790563583374 average time 0.00699828907500546 iter num 40\n",
            "loss 0.4449206590652466 average time 0.005812342233332402 iter num 60\n",
            "loss 0.4149395525455475 average time 0.005194239487508412 iter num 80\n",
            "loss 0.16474351286888123 average time 0.004810666170008062 iter num 100\n",
            "loss 0.4643494784832001 average time 0.009635759050013348 iter num 20\n",
            "loss 0.7272893190383911 average time 0.0066532886750110265 iter num 40\n",
            "loss 0.17523333430290222 average time 0.0056076457500050005 iter num 60\n",
            "loss 0.43331095576286316 average time 0.005110822825000127 iter num 80\n",
            "loss 0.515638530254364 average time 0.004819349690001218 iter num 100\n",
            "loss 0.08812718093395233 average time 0.010644912749967261 iter num 20\n",
            "loss 0.150698721408844 average time 0.007098379199993588 iter num 40\n",
            "loss 0.2752487361431122 average time 0.005913573566670038 iter num 60\n",
            "loss 0.22121404111385345 average time 0.00540415671249832 iter num 80\n",
            "loss 0.23374740779399872 average time 0.005084016009998322 iter num 100\n",
            "loss 0.5133414268493652 average time 0.009517458000027545 iter num 20\n",
            "loss 0.2372036874294281 average time 0.0064311157000076944 iter num 40\n",
            "loss 0.7219923734664917 average time 0.005438396100006079 iter num 60\n",
            "loss 0.35845229029655457 average time 0.004929793400006588 iter num 80\n",
            "loss 0.531366229057312 average time 0.004619772080013717 iter num 100\n",
            "loss 2.357755184173584 average time 0.009784615750027115 iter num 20\n",
            "loss 0.05781742185354233 average time 0.006611806525029351 iter num 40\n",
            "loss 0.1456684172153473 average time 0.005612118650026332 iter num 60\n",
            "loss 0.17849645018577576 average time 0.005051138175019787 iter num 80\n",
            "loss 0.43062764406204224 average time 0.004719186840018211 iter num 100\n",
            "loss 0.9490305781364441 average time 0.009820953349969842 iter num 20\n",
            "loss 0.8412976861000061 average time 0.006649733249980727 iter num 40\n",
            "loss 0.3098669946193695 average time 0.005588540166657671 iter num 60\n",
            "loss 0.36982136964797974 average time 0.00507201297499762 iter num 80\n",
            "loss 0.1856273114681244 average time 0.004732688499993856 iter num 100\n",
            "loss 0.16594426333904266 average time 0.010105548449996605 iter num 20\n",
            "loss 0.43204861879348755 average time 0.00685906042497777 iter num 40\n",
            "loss 0.17047160863876343 average time 0.005759728766671894 iter num 60\n",
            "loss 0.0957077294588089 average time 0.005235557575008443 iter num 80\n",
            "loss 0.36057648062705994 average time 0.004903633360006552 iter num 100\n",
            "loss 0.2980045974254608 average time 0.009983350000015889 iter num 20\n",
            "loss 0.4893631041049957 average time 0.006887811900008955 iter num 40\n",
            "loss 0.31308650970458984 average time 0.005834627816674735 iter num 60\n",
            "loss 0.3245002031326294 average time 0.005278509525001596 iter num 80\n",
            "loss 0.3438546657562256 average time 0.004913678500001879 iter num 100\n",
            "loss 0.32766592502593994 average time 0.010148169299975507 iter num 20\n",
            "loss 0.260830283164978 average time 0.006737648374974014 iter num 40\n",
            "loss 0.7036334276199341 average time 0.005583931183309687 iter num 60\n",
            "loss 0.26554161310195923 average time 0.005014899412481099 iter num 80\n",
            "loss 0.2516055107116699 average time 0.004660273329984648 iter num 100\n",
            "loss 0.534535825252533 average time 0.009434632050022174 iter num 20\n",
            "loss 0.43281883001327515 average time 0.006357600074994707 iter num 40\n",
            "loss 0.6998715400695801 average time 0.005353677999998278 iter num 60\n",
            "loss 0.16238132119178772 average time 0.004845805275007819 iter num 80\n",
            "loss 0.23342016339302063 average time 0.00452612704000785 iter num 100\n",
            "loss 0.43863895535469055 average time 0.009511456000041107 iter num 20\n",
            "loss 1.0554124116897583 average time 0.006358367675022692 iter num 40\n",
            "loss 0.3095342516899109 average time 0.005307021400009641 iter num 60\n",
            "loss 0.2127304971218109 average time 0.004800180012506416 iter num 80\n",
            "loss 0.23957300186157227 average time 0.004495702120009355 iter num 100\n",
            "loss 0.3666706681251526 average time 0.009826104050000594 iter num 20\n",
            "loss 0.5264432430267334 average time 0.00655099547499276 iter num 40\n",
            "loss 0.4815205931663513 average time 0.005495900683335246 iter num 60\n",
            "loss 0.22924238443374634 average time 0.004973242824999602 iter num 80\n",
            "loss 0.14956215023994446 average time 0.00467286565999757 iter num 100\n",
            "loss 0.4997597634792328 average time 0.01028088624997281 iter num 20\n",
            "loss 0.20222961902618408 average time 0.006864387224993607 iter num 40\n",
            "loss 0.4594084620475769 average time 0.00571037654998842 iter num 60\n",
            "loss 0.13914284110069275 average time 0.0051439167124925685 iter num 80\n",
            "loss 0.3124896287918091 average time 0.004815718389991162 iter num 100\n",
            "loss 0.3620798587799072 average time 0.01055456894996496 iter num 20\n",
            "loss 0.44037437438964844 average time 0.00698741162495935 iter num 40\n",
            "loss 0.08657597750425339 average time 0.005753628199969777 iter num 60\n",
            "loss 0.15809054672718048 average time 0.005134303724983624 iter num 80\n",
            "loss 0.32337623834609985 average time 0.004761098459994173 iter num 100\n",
            "loss 1.091956377029419 average time 0.009374224049986423 iter num 20\n",
            "loss 0.4006423354148865 average time 0.006339806574999329 iter num 40\n",
            "loss 0.20670299232006073 average time 0.005308527766654455 iter num 60\n",
            "loss 0.28350234031677246 average time 0.004859514137496035 iter num 80\n",
            "loss 0.1941925585269928 average time 0.004537477860001218 iter num 100\n",
            "loss 0.6792622804641724 average time 0.00915031364997958 iter num 20\n",
            "loss 0.4199026823043823 average time 0.006189052549990493 iter num 40\n",
            "loss 1.1740261316299438 average time 0.0052047537666605114 iter num 60\n",
            "loss 0.5333625078201294 average time 0.004714364287488592 iter num 80\n",
            "loss 0.27402424812316895 average time 0.0044348524899987755 iter num 100\n",
            "loss 0.21056929230690002 average time 0.009280917000000954 iter num 20\n",
            "loss 0.6613612174987793 average time 0.0062999639750046296 iter num 40\n",
            "loss 0.5207424163818359 average time 0.005292282016671379 iter num 60\n",
            "loss 0.2646998167037964 average time 0.0048259827624974605 iter num 80\n",
            "loss 0.24996483325958252 average time 0.004544890759989357 iter num 100\n",
            "loss 0.7391669750213623 average time 0.010202526900025077 iter num 20\n",
            "loss 0.3870067000389099 average time 0.006788870775017131 iter num 40\n",
            "loss 0.4756491780281067 average time 0.005671114700021462 iter num 60\n",
            "loss 0.41445282101631165 average time 0.005101163700010148 iter num 80\n",
            "loss 0.26263427734375 average time 0.0047554302400158125 iter num 100\n",
            "loss 0.2698083519935608 average time 0.010063023799989423 iter num 20\n",
            "loss 2.9110500812530518 average time 0.0067245083499869905 iter num 40\n",
            "loss 0.37081021070480347 average time 0.005569036716663808 iter num 60\n",
            "loss 0.23192569613456726 average time 0.005015211162495347 iter num 80\n",
            "loss 0.1586296409368515 average time 0.004683378269999139 iter num 100\n",
            "loss 1.4176886081695557 average time 0.009010567050006557 iter num 20\n",
            "loss 1.068206548690796 average time 0.006153566775003583 iter num 40\n",
            "loss 0.4516183137893677 average time 0.005206612816668136 iter num 60\n",
            "loss 0.39580076932907104 average time 0.004745230775000664 iter num 80\n",
            "loss 0.3270646631717682 average time 0.004446715850003784 iter num 100\n",
            "loss 0.23659074306488037 average time 0.008973649400013528 iter num 20\n",
            "loss 0.1606081873178482 average time 0.006104881100014836 iter num 40\n",
            "loss 0.33601611852645874 average time 0.005154031916678529 iter num 60\n",
            "loss 0.25526919960975647 average time 0.004722279612508373 iter num 80\n",
            "loss 0.6023150086402893 average time 0.004432226460007769 iter num 100\n",
            "loss 0.5155330896377563 average time 0.009356218849995912 iter num 20\n",
            "loss 0.32988226413726807 average time 0.0063296816249931 iter num 40\n",
            "loss 0.22390440106391907 average time 0.005333746166653933 iter num 60\n",
            "loss 0.3171321153640747 average time 0.004830252762485543 iter num 80\n",
            "loss 0.13879048824310303 average time 0.004537683409989768 iter num 100\n",
            "loss 0.19439615309238434 average time 0.011036438949997774 iter num 20\n",
            "loss 1.404973030090332 average time 0.007284795874994643 iter num 40\n",
            "loss 0.35666605830192566 average time 0.005983337600014238 iter num 60\n",
            "loss 0.308449923992157 average time 0.005339793150008631 iter num 80\n",
            "loss 0.36443787813186646 average time 0.004964427740001156 iter num 100\n",
            "loss 0.9278623461723328 average time 0.010371244649979872 iter num 20\n",
            "loss 1.5104734897613525 average time 0.00687049927499288 iter num 40\n",
            "loss 0.4657546877861023 average time 0.005724597416656252 iter num 60\n",
            "loss 0.39152538776397705 average time 0.005114659424987167 iter num 80\n",
            "loss 0.24945783615112305 average time 0.004761397759996271 iter num 100\n",
            "loss 0.2705222964286804 average time 0.009432370999991235 iter num 20\n",
            "loss 0.35669946670532227 average time 0.0063341711749899336 iter num 40\n",
            "loss 0.5537200570106506 average time 0.005314331966663606 iter num 60\n",
            "loss 0.2480449676513672 average time 0.0048303654875041955 iter num 80\n",
            "loss 0.2872990369796753 average time 0.004520341820009435 iter num 100\n",
            "loss 0.43704667687416077 average time 0.010199631049977143 iter num 20\n",
            "loss 0.3385846018791199 average time 0.00672905954998555 iter num 40\n",
            "loss 0.41656240820884705 average time 0.005552860816646898 iter num 60\n",
            "loss 0.20175801217556 average time 0.00496511072499004 iter num 80\n",
            "loss 0.26982975006103516 average time 0.004627660609987743 iter num 100\n",
            "loss 0.9746382236480713 average time 0.009318087399992691 iter num 20\n",
            "loss 0.23597291111946106 average time 0.006340850374999718 iter num 40\n",
            "loss 0.35131433606147766 average time 0.005367404816661292 iter num 60\n",
            "loss 0.3008357286453247 average time 0.004855970874999116 iter num 80\n",
            "loss 0.22626054286956787 average time 0.0045875614700048575 iter num 100\n",
            "loss 1.0580028295516968 average time 0.010016430500013485 iter num 20\n",
            "loss 0.7539946436882019 average time 0.006796010500022476 iter num 40\n",
            "loss 0.652899980545044 average time 0.00574074643335886 iter num 60\n",
            "loss 0.4783313274383545 average time 0.005221314012538869 iter num 80\n",
            "loss 0.28808096051216125 average time 0.004879498570053329 iter num 100\n",
            "loss 0.7755828499794006 average time 0.0100633692999736 iter num 20\n",
            "loss 0.2960371971130371 average time 0.0067997211999681895 iter num 40\n",
            "loss 0.3828650712966919 average time 0.005671673766664753 iter num 60\n",
            "loss 0.22619453072547913 average time 0.005143868837501486 iter num 80\n",
            "loss 0.138429656624794 average time 0.004765419529994688 iter num 100\n",
            "loss 0.5105690956115723 average time 0.009377788900042105 iter num 20\n",
            "loss 0.4176056981086731 average time 0.006393736125028226 iter num 40\n",
            "loss 0.2887091040611267 average time 0.0054675841667100634 iter num 60\n",
            "loss 0.13211029767990112 average time 0.005001549837544417 iter num 80\n",
            "loss 0.11595471203327179 average time 0.004697443580053005 iter num 100\n",
            "loss 0.1876716911792755 average time 0.009564427449981849 iter num 20\n",
            "loss 0.44954437017440796 average time 0.006538399399971695 iter num 40\n",
            "loss 0.4576773941516876 average time 0.005513719233340453 iter num 60\n",
            "loss 0.18372288346290588 average time 0.004991351400002486 iter num 80\n",
            "loss 0.11213883012533188 average time 0.004708179439994638 iter num 100\n",
            "loss 0.5347321033477783 average time 0.009931003850033449 iter num 20\n",
            "loss 0.2198869287967682 average time 0.006660007225013942 iter num 40\n",
            "loss 0.08471782505512238 average time 0.005536657750023248 iter num 60\n",
            "loss 0.1764153242111206 average time 0.004955436662521606 iter num 80\n",
            "loss 0.16443395614624023 average time 0.004617509720005728 iter num 100\n",
            "loss 0.14929905533790588 average time 0.009416014099997483 iter num 20\n",
            "loss 0.21208976209163666 average time 0.006341383475000839 iter num 40\n",
            "loss 0.2579476833343506 average time 0.005315635400014192 iter num 60\n",
            "loss 0.12087389081716537 average time 0.0048090817374941254 iter num 80\n",
            "loss 0.19800002872943878 average time 0.004504668839995247 iter num 100\n",
            "loss 1.149274468421936 average time 0.00902591564990871 iter num 20\n",
            "loss 0.2923404574394226 average time 0.006125753349954266 iter num 40\n",
            "loss 0.2131340205669403 average time 0.005185185966661265 iter num 60\n",
            "loss 0.4736938774585724 average time 0.004691064337487205 iter num 80\n",
            "loss 0.3768801689147949 average time 0.004397157300008985 iter num 100\n",
            "loss 0.7124554514884949 average time 0.00924400020005578 iter num 20\n",
            "loss 0.15870635211467743 average time 0.006260518975022933 iter num 40\n",
            "loss 0.33485591411590576 average time 0.00527865556668227 iter num 60\n",
            "loss 0.5442559719085693 average time 0.004812956887496967 iter num 80\n",
            "loss 0.22603152692317963 average time 0.004525802320004004 iter num 100\n",
            "loss 0.484507292509079 average time 0.0099154776999967 iter num 20\n",
            "loss 0.4555337429046631 average time 0.006663151674990786 iter num 40\n",
            "loss 0.23475059866905212 average time 0.0055674618833336355 iter num 60\n",
            "loss 0.13128860294818878 average time 0.005023137362491071 iter num 80\n",
            "loss 0.37971818447113037 average time 0.004720554849991458 iter num 100\n",
            "loss 0.2165186107158661 average time 0.010117212600039237 iter num 20\n",
            "loss 0.18763229250907898 average time 0.006763728125019952 iter num 40\n",
            "loss 0.38192272186279297 average time 0.00561468401666995 iter num 60\n",
            "loss 0.35191860795021057 average time 0.005027322300014703 iter num 80\n",
            "loss 0.15716896951198578 average time 0.004674013180010661 iter num 100\n",
            "loss 0.676960289478302 average time 0.009229338450040814 iter num 20\n",
            "loss 0.4969474673271179 average time 0.006275387550010692 iter num 40\n",
            "loss 0.18658456206321716 average time 0.00531515320002048 iter num 60\n",
            "loss 0.19020295143127441 average time 0.004825639287508921 iter num 80\n",
            "loss 0.4211844205856323 average time 0.004522623980024037 iter num 100\n",
            "loss 4.175497055053711 average time 0.009326344099940797 iter num 20\n",
            "loss 0.482042521238327 average time 0.006296722824981771 iter num 40\n",
            "loss 0.5516542196273804 average time 0.005303154250001777 iter num 60\n",
            "loss 0.33442702889442444 average time 0.004785321437509538 iter num 80\n",
            "loss 0.08113721758127213 average time 0.0044719730300039374 iter num 100\n",
            "loss 0.4560241997241974 average time 0.00875279194997347 iter num 20\n",
            "loss 0.19480513036251068 average time 0.0060423926999874315 iter num 40\n",
            "loss 0.4316369295120239 average time 0.00510407403331404 iter num 60\n",
            "loss 0.2657666504383087 average time 0.004644807712492138 iter num 80\n",
            "loss 0.20394133031368256 average time 0.0043945094599939696 iter num 100\n",
            "loss 0.651518702507019 average time 0.009942357050044847 iter num 20\n",
            "loss 0.6290156245231628 average time 0.006684990474991537 iter num 40\n",
            "loss 0.1319362223148346 average time 0.005613590516653251 iter num 60\n",
            "loss 0.30902111530303955 average time 0.005065564624999297 iter num 80\n",
            "loss 0.1780955195426941 average time 0.004725539009987187 iter num 100\n",
            "loss 0.202899768948555 average time 0.009918337650037756 iter num 20\n",
            "loss 0.272922545671463 average time 0.006651700625036483 iter num 40\n",
            "loss 0.325441837310791 average time 0.0055628535000323606 iter num 60\n",
            "loss 0.20819786190986633 average time 0.005013102337534292 iter num 80\n",
            "loss 0.06339971721172333 average time 0.004662226940035907 iter num 100\n",
            "loss 0.5613042116165161 average time 0.009377659300025699 iter num 20\n",
            "loss 0.12128718197345734 average time 0.006321705900029428 iter num 40\n",
            "loss 0.22602114081382751 average time 0.005285705650021555 iter num 60\n",
            "loss 0.1544162780046463 average time 0.0047709552125013484 iter num 80\n",
            "loss 0.1793489158153534 average time 0.00447217276000174 iter num 100\n",
            "loss 0.1165943443775177 average time 0.00935150329996759 iter num 20\n",
            "loss 0.44137006998062134 average time 0.0063109725499998605 iter num 40\n",
            "loss 0.2770073413848877 average time 0.005292275716647055 iter num 60\n",
            "loss 0.09225839376449585 average time 0.00478319841248549 iter num 80\n",
            "loss 0.3172591030597687 average time 0.004481143579982927 iter num 100\n",
            "loss 1.5135860443115234 average time 0.009848666899983982 iter num 20\n",
            "loss 1.234666109085083 average time 0.006544234475006761 iter num 40\n",
            "loss 0.1750895082950592 average time 0.005463843900020038 iter num 60\n",
            "loss 0.4018924832344055 average time 0.004907960575013704 iter num 80\n",
            "loss 0.16227367520332336 average time 0.004575502630013943 iter num 100\n",
            "loss 0.638734757900238 average time 0.010051722449998125 iter num 20\n",
            "loss 0.14522452652454376 average time 0.006750131450019126 iter num 40\n",
            "loss 0.47806960344314575 average time 0.005657016033357346 iter num 60\n",
            "loss 0.11512425541877747 average time 0.0051186048500255765 iter num 80\n",
            "loss 0.11949305981397629 average time 0.004778065330019672 iter num 100\n",
            "loss 0.4489930272102356 average time 0.009848134100002426 iter num 20\n",
            "loss 0.7339857816696167 average time 0.006656625850007458 iter num 40\n",
            "loss 0.2776881158351898 average time 0.005585158716697455 iter num 60\n",
            "loss 0.33813241124153137 average time 0.00503845113752277 iter num 80\n",
            "loss 0.14744918048381805 average time 0.004776153399998293 iter num 100\n",
            "loss 0.17186200618743896 average time 0.009597506300019631 iter num 20\n",
            "loss 0.38618236780166626 average time 0.006498104175034314 iter num 40\n",
            "loss 0.14607739448547363 average time 0.005422749983351119 iter num 60\n",
            "loss 0.3331547975540161 average time 0.004872589624994816 iter num 80\n",
            "loss 0.13754478096961975 average time 0.004546970609994787 iter num 100\n",
            "loss 0.3062214255332947 average time 0.009183682850016339 iter num 20\n",
            "loss 0.29858431220054626 average time 0.006211435900002016 iter num 40\n",
            "loss 0.14581003785133362 average time 0.005220046383343894 iter num 60\n",
            "loss 0.4990766644477844 average time 0.004731442612501269 iter num 80\n",
            "loss 0.2605261504650116 average time 0.004429753599997639 iter num 100\n",
            "loss 0.1785396933555603 average time 0.00943782325000484 iter num 20\n",
            "loss 0.38031136989593506 average time 0.006327849000012975 iter num 40\n",
            "loss 0.1903267204761505 average time 0.005293446283333955 iter num 60\n",
            "loss 0.1909455955028534 average time 0.004774999912507382 iter num 80\n",
            "loss 0.2404988408088684 average time 0.004474875780015281 iter num 100\n",
            "loss 2.2792439460754395 average time 0.009371793649984283 iter num 20\n",
            "loss 0.4554661214351654 average time 0.006386496324989821 iter num 40\n",
            "loss 0.0754210352897644 average time 0.005380139649992089 iter num 60\n",
            "loss 0.3543602526187897 average time 0.004878137287488471 iter num 80\n",
            "loss 0.1300719678401947 average time 0.00457122919000085 iter num 100\n",
            "loss 0.1711498349905014 average time 0.010154991649937984 iter num 20\n",
            "loss 0.15963152050971985 average time 0.0067679602499651995 iter num 40\n",
            "loss 0.9309032559394836 average time 0.005651068999964082 iter num 60\n",
            "loss 0.437969446182251 average time 0.005093330249951578 iter num 80\n",
            "loss 0.16059133410453796 average time 0.004748798019963942 iter num 100\n",
            "loss 1.207500696182251 average time 0.010166554100010217 iter num 20\n",
            "loss 0.14557862281799316 average time 0.006811201625009744 iter num 40\n",
            "loss 0.3934513330459595 average time 0.0056283876166692915 iter num 60\n",
            "loss 0.2541022300720215 average time 0.005079282199989166 iter num 80\n",
            "loss 0.2815844416618347 average time 0.004738885920005487 iter num 100\n",
            "loss 0.3802003264427185 average time 0.010828366500027187 iter num 20\n",
            "loss 1.0035525560379028 average time 0.007148629100026937 iter num 40\n",
            "loss 0.2596898078918457 average time 0.005896906950033554 iter num 60\n",
            "loss 0.2641080617904663 average time 0.005275028050016317 iter num 80\n",
            "loss 0.21460391581058502 average time 0.004904830460018275 iter num 100\n",
            "loss 0.23687976598739624 average time 0.010683300950017838 iter num 20\n",
            "loss 0.320244699716568 average time 0.007053616474991031 iter num 40\n",
            "loss 0.22308063507080078 average time 0.005851579400026215 iter num 60\n",
            "loss 0.23978930711746216 average time 0.005215787612530676 iter num 80\n",
            "loss 0.15123364329338074 average time 0.004832082720022299 iter num 100\n",
            "loss 0.11930353939533234 average time 0.00915930210001079 iter num 20\n",
            "loss 0.6218677759170532 average time 0.006186905850006497 iter num 40\n",
            "loss 0.4106087386608124 average time 0.0052091504999907555 iter num 60\n",
            "loss 0.16741454601287842 average time 0.004738098599995055 iter num 80\n",
            "loss 0.1522171050310135 average time 0.0044407170100021175 iter num 100\n",
            "loss 0.3795134425163269 average time 0.009325762849903186 iter num 20\n",
            "loss 0.7915322780609131 average time 0.006292981274930299 iter num 40\n",
            "loss 0.07283791899681091 average time 0.005307880299983481 iter num 60\n",
            "loss 0.24573661386966705 average time 0.004790897087485746 iter num 80\n",
            "loss 0.1238759458065033 average time 0.004479435680004826 iter num 100\n",
            "loss 0.6726001501083374 average time 0.00948577799999839 iter num 20\n",
            "loss 0.5167936086654663 average time 0.006372153099982824 iter num 40\n",
            "loss 0.6861977577209473 average time 0.005326869166644125 iter num 60\n",
            "loss 0.19213324785232544 average time 0.0048039748749715725 iter num 80\n",
            "loss 0.2487260401248932 average time 0.0045072022799740805 iter num 100\n",
            "loss 0.17898054420948029 average time 0.0095960980500422 iter num 20\n",
            "loss 0.16675004363059998 average time 0.00646643022500939 iter num 40\n",
            "loss 0.1800030916929245 average time 0.005442810933338175 iter num 60\n",
            "loss 0.630531907081604 average time 0.004939046275012515 iter num 80\n",
            "loss 0.25871530175209045 average time 0.004622156270006599 iter num 100\n",
            "loss 0.6587445735931396 average time 0.01036063374999685 iter num 20\n",
            "loss 0.28594711422920227 average time 0.006876772924965735 iter num 40\n",
            "loss 0.11919109523296356 average time 0.005703460516648799 iter num 60\n",
            "loss 0.14836269617080688 average time 0.0051088265999851504 iter num 80\n",
            "loss 0.09078007936477661 average time 0.004735211749989503 iter num 100\n",
            "loss 0.3072211742401123 average time 0.009015926449978905 iter num 20\n",
            "loss 0.2471277266740799 average time 0.006146588599995085 iter num 40\n",
            "loss 0.34455642104148865 average time 0.005190304933315322 iter num 60\n",
            "loss 0.31179922819137573 average time 0.004740188049987637 iter num 80\n",
            "loss 0.28510934114456177 average time 0.004447419989987793 iter num 100\n",
            "loss 0.3621068596839905 average time 0.010215431950041421 iter num 20\n",
            "loss 0.3257652521133423 average time 0.006691509900031178 iter num 40\n",
            "loss 0.12654641270637512 average time 0.005552316400022998 iter num 60\n",
            "loss 0.14467158913612366 average time 0.004976601912511569 iter num 80\n",
            "loss 0.33089056611061096 average time 0.004634364550015562 iter num 100\n",
            "loss 0.6579179763793945 average time 0.008769372600022507 iter num 20\n",
            "loss 0.266476035118103 average time 0.005987556924969795 iter num 40\n",
            "loss 0.26162487268447876 average time 0.005080245383320896 iter num 60\n",
            "loss 0.34200575947761536 average time 0.004645578112467774 iter num 80\n",
            "loss 0.2354898452758789 average time 0.0043930233999890335 iter num 100\n",
            "loss 0.35960936546325684 average time 0.009851025599959939 iter num 20\n",
            "loss 0.6745946407318115 average time 0.006642254575024253 iter num 40\n",
            "loss 0.42450159788131714 average time 0.005566937916682946 iter num 60\n",
            "loss 0.1672268509864807 average time 0.005029410250011778 iter num 80\n",
            "loss 0.17074939608573914 average time 0.004718269219997637 iter num 100\n",
            "loss 0.24371695518493652 average time 0.010133168349966581 iter num 20\n",
            "loss 0.35739898681640625 average time 0.006788792674979049 iter num 40\n",
            "loss 0.36211463809013367 average time 0.005657612899957106 iter num 60\n",
            "loss 0.33819901943206787 average time 0.0050793950124671024 iter num 80\n",
            "loss 0.08591830730438232 average time 0.004723359259978679 iter num 100\n",
            "loss 0.38532736897468567 average time 0.009301579099951596 iter num 20\n",
            "loss 0.5356004238128662 average time 0.00624695737494676 iter num 40\n",
            "loss 0.32740598917007446 average time 0.005252796266646934 iter num 60\n",
            "loss 0.3683928847312927 average time 0.004755078925012412 iter num 80\n",
            "loss 0.2598962187767029 average time 0.004457482960019661 iter num 100\n",
            "loss 0.5615421533584595 average time 0.00900265250004395 iter num 20\n",
            "loss 0.091517373919487 average time 0.0061037250500476144 iter num 40\n",
            "loss 0.6590253114700317 average time 0.005131361716712491 iter num 60\n",
            "loss 0.23770049214363098 average time 0.004649970037530693 iter num 80\n",
            "loss 0.1264571249485016 average time 0.004367048510016502 iter num 100\n",
            "loss 0.26597723364830017 average time 0.009353348100034964 iter num 20\n",
            "loss 0.32180145382881165 average time 0.006329550975021902 iter num 40\n",
            "loss 0.19616729021072388 average time 0.005293078316700909 iter num 60\n",
            "loss 0.23566985130310059 average time 0.004784062412505818 iter num 80\n",
            "loss 0.16356180608272552 average time 0.004466292859992791 iter num 100\n",
            "loss 0.3544490337371826 average time 0.009530499600009535 iter num 20\n",
            "loss 0.1775631308555603 average time 0.0064210932750143005 iter num 40\n",
            "loss 0.2553415298461914 average time 0.0054126232833368705 iter num 60\n",
            "loss 0.6178762912750244 average time 0.004908747837481542 iter num 80\n",
            "loss 0.16338318586349487 average time 0.004609760479993384 iter num 100\n",
            "loss 0.76462322473526 average time 0.00963773860000856 iter num 20\n",
            "loss 0.7252175807952881 average time 0.006536943625053482 iter num 40\n",
            "loss 0.13832172751426697 average time 0.005517696900036147 iter num 60\n",
            "loss 0.23786085844039917 average time 0.005007901687537242 iter num 80\n",
            "loss 0.059406738728284836 average time 0.00469751401004487 iter num 100\n",
            "loss 0.596574068069458 average time 0.009860714899991763 iter num 20\n",
            "loss 0.3027447462081909 average time 0.006745406949971766 iter num 40\n",
            "loss 0.4286532998085022 average time 0.005591493349970733 iter num 60\n",
            "loss 0.23094213008880615 average time 0.005013398212469156 iter num 80\n",
            "loss 0.20925725996494293 average time 0.004696608339991144 iter num 100\n",
            "loss 0.2621869444847107 average time 0.009853684450035871 iter num 20\n",
            "loss 0.2911345362663269 average time 0.0065592632000289084 iter num 40\n",
            "loss 0.202897310256958 average time 0.005462739766683929 iter num 60\n",
            "loss 0.13884058594703674 average time 0.004899963962492393 iter num 80\n",
            "loss 0.05882323533296585 average time 0.004566145529979622 iter num 100\n",
            "loss 0.3398914933204651 average time 0.008945698600018658 iter num 20\n",
            "loss 0.32238972187042236 average time 0.006103288924987282 iter num 40\n",
            "loss 0.38103264570236206 average time 0.005161631399990559 iter num 60\n",
            "loss 0.14941304922103882 average time 0.004670398349986726 iter num 80\n",
            "loss 0.07062213122844696 average time 0.0044001221100052135 iter num 100\n",
            "loss 0.1299060881137848 average time 0.009797377650033922 iter num 20\n",
            "loss 0.32780152559280396 average time 0.006515696899975864 iter num 40\n",
            "loss 0.744219183921814 average time 0.005457074766665452 iter num 60\n",
            "loss 0.4558091163635254 average time 0.00495893793750497 iter num 80\n",
            "loss 0.14736145734786987 average time 0.004641475760017784 iter num 100\n",
            "loss 0.1560639888048172 average time 0.010326087049952548 iter num 20\n",
            "loss 0.06134805083274841 average time 0.00685616414997412 iter num 40\n",
            "loss 0.7836636900901794 average time 0.005709400049977375 iter num 60\n",
            "loss 0.20993101596832275 average time 0.005128250662494338 iter num 80\n",
            "loss 0.22344309091567993 average time 0.004773042159995384 iter num 100\n",
            "loss 0.3958677649497986 average time 0.010495842249997622 iter num 20\n",
            "loss 0.2635790705680847 average time 0.006926930024985722 iter num 40\n",
            "loss 0.05728061497211456 average time 0.005731387149982462 iter num 60\n",
            "loss 0.4520750939846039 average time 0.005117665599982502 iter num 80\n",
            "loss 0.19372916221618652 average time 0.004771052559995041 iter num 100\n",
            "loss 0.1605849415063858 average time 0.009423931100013761 iter num 20\n",
            "loss 0.06871405988931656 average time 0.0064065373250059565 iter num 40\n",
            "loss 0.2270500808954239 average time 0.005432567966681745 iter num 60\n",
            "loss 0.15905511379241943 average time 0.004925399500001504 iter num 80\n",
            "loss 0.3570423722267151 average time 0.004620030329988367 iter num 100\n",
            "loss 0.7232826352119446 average time 0.010094979899986357 iter num 20\n",
            "loss 1.1420097351074219 average time 0.006715769049969822 iter num 40\n",
            "loss 0.2919655442237854 average time 0.005608969199958362 iter num 60\n",
            "loss 0.37689289450645447 average time 0.005083777437459957 iter num 80\n",
            "loss 0.08339081704616547 average time 0.004727787989972967 iter num 100\n",
            "loss 0.18276700377464294 average time 0.00977862575000472 iter num 20\n",
            "loss 0.18864354491233826 average time 0.00652074212498519 iter num 40\n",
            "loss 0.31064873933792114 average time 0.005432863316627845 iter num 60\n",
            "loss 0.21999645233154297 average time 0.004878698949966065 iter num 80\n",
            "loss 0.060010503977537155 average time 0.00456201652998061 iter num 100\n",
            "loss 0.28631627559661865 average time 0.009178166149945354 iter num 20\n",
            "loss 0.9745831489562988 average time 0.006216047099962907 iter num 40\n",
            "loss 0.15031494200229645 average time 0.00522448933332574 iter num 60\n",
            "loss 0.2341577410697937 average time 0.004724999249998518 iter num 80\n",
            "loss 0.20622728765010834 average time 0.004442570259984677 iter num 100\n",
            "loss 1.227540373802185 average time 0.009421960249983385 iter num 20\n",
            "loss 0.5680139064788818 average time 0.006351189699955739 iter num 40\n",
            "loss 0.17617306113243103 average time 0.0053051089499679925 iter num 60\n",
            "loss 0.17683082818984985 average time 0.004778765412453367 iter num 80\n",
            "loss 0.18345855176448822 average time 0.004466110719981771 iter num 100\n",
            "loss 0.3002871572971344 average time 0.009485165849991973 iter num 20\n",
            "loss 0.3393349349498749 average time 0.00642729967496507 iter num 40\n",
            "loss 0.2650962471961975 average time 0.005411335899990869 iter num 60\n",
            "loss 0.17728161811828613 average time 0.004917911437502198 iter num 80\n",
            "loss 0.16283221542835236 average time 0.004613847600003282 iter num 100\n",
            "loss 0.4521934986114502 average time 0.009890907550038719 iter num 20\n",
            "loss 0.2820620834827423 average time 0.0067001888500271885 iter num 40\n",
            "loss 0.34597641229629517 average time 0.0056649865000281355 iter num 60\n",
            "loss 0.18299934267997742 average time 0.005102437500028145 iter num 80\n",
            "loss 0.1409912109375 average time 0.004798709560018324 iter num 100\n",
            "loss 0.648212194442749 average time 0.009412965600017743 iter num 20\n",
            "loss 0.42024335265159607 average time 0.006329929500043363 iter num 40\n",
            "loss 0.24465502798557281 average time 0.005306599750019814 iter num 60\n",
            "loss 0.14446574449539185 average time 0.004796751062514204 iter num 80\n",
            "loss 0.12296170741319656 average time 0.004484108340011517 iter num 100\n",
            "loss 0.2982597053050995 average time 0.009734269000023232 iter num 20\n",
            "loss 0.5780971646308899 average time 0.00649365455002453 iter num 40\n",
            "loss 0.30411115288734436 average time 0.0054438606833628 iter num 60\n",
            "loss 0.07257213443517685 average time 0.004890648612507676 iter num 80\n",
            "loss 0.17421501874923706 average time 0.004592297639997014 iter num 100\n",
            "loss 0.5524355173110962 average time 0.009305357050038765 iter num 20\n",
            "loss 0.15851028263568878 average time 0.0062674426250168835 iter num 40\n",
            "loss 0.23107606172561646 average time 0.005250413433335173 iter num 60\n",
            "loss 0.37047767639160156 average time 0.004742466100020692 iter num 80\n",
            "loss 0.07599282264709473 average time 0.004449878890018227 iter num 100\n",
            "loss 0.33853790163993835 average time 0.008955487649950555 iter num 20\n",
            "loss 0.38473305106163025 average time 0.006113656449997507 iter num 40\n",
            "loss 0.45704546570777893 average time 0.005197525199969277 iter num 60\n",
            "loss 0.3335226774215698 average time 0.004831837499966696 iter num 80\n",
            "loss 0.14128157496452332 average time 0.004544415469977139 iter num 100\n",
            "loss 0.13757917284965515 average time 0.010046113199973662 iter num 20\n",
            "loss 0.8506465554237366 average time 0.006678746024977045 iter num 40\n",
            "loss 0.2398214340209961 average time 0.005581308049977451 iter num 60\n",
            "loss 0.42945921421051025 average time 0.0050377995874896445 iter num 80\n",
            "loss 0.17258989810943604 average time 0.004710350569985167 iter num 100\n",
            "loss 0.4192814826965332 average time 0.010146732599991992 iter num 20\n",
            "loss 0.15178076922893524 average time 0.006694300350011418 iter num 40\n",
            "loss 0.15177446603775024 average time 0.005591469566676703 iter num 60\n",
            "loss 0.15255138278007507 average time 0.005002914012504789 iter num 80\n",
            "loss 0.057098694145679474 average time 0.0046401611400051475 iter num 100\n",
            "loss 0.6146082282066345 average time 0.00875871354994615 iter num 20\n",
            "loss 0.23612232506275177 average time 0.005990005049955016 iter num 40\n",
            "loss 0.2543165385723114 average time 0.005074768049970165 iter num 60\n",
            "loss 0.06399399042129517 average time 0.004613313724979662 iter num 80\n",
            "loss 0.2704520523548126 average time 0.004334822829991936 iter num 100\n",
            "loss 0.550669252872467 average time 0.00919230314991637 iter num 20\n",
            "loss 0.2324480563402176 average time 0.006201965699972334 iter num 40\n",
            "loss 0.08380372077226639 average time 0.005197096899996723 iter num 60\n",
            "loss 0.16171060502529144 average time 0.004697121287500749 iter num 80\n",
            "loss 0.32809239625930786 average time 0.0044058930500114005 iter num 100\n",
            "loss 0.5971323251724243 average time 0.009318062599982113 iter num 20\n",
            "loss 0.8528051376342773 average time 0.00629556642497846 iter num 40\n",
            "loss 0.2757231891155243 average time 0.005297481899985238 iter num 60\n",
            "loss 0.43631798028945923 average time 0.004812594762501021 iter num 80\n",
            "loss 0.05993174761533737 average time 0.004527915059993575 iter num 100\n",
            "loss 0.3007342219352722 average time 0.009437782950021756 iter num 20\n",
            "loss 0.3017507791519165 average time 0.00640157759999056 iter num 40\n",
            "loss 0.22467562556266785 average time 0.005395185216661958 iter num 60\n",
            "loss 0.3849380612373352 average time 0.004891545712496281 iter num 80\n",
            "loss 0.12531515955924988 average time 0.0045823047600015345 iter num 100\n",
            "loss 1.4573149681091309 average time 0.010032577599963588 iter num 20\n",
            "loss 0.2537555396556854 average time 0.006709646499984956 iter num 40\n",
            "loss 0.3793739676475525 average time 0.005568470900000951 iter num 60\n",
            "loss 0.19063818454742432 average time 0.004996711325003389 iter num 80\n",
            "loss 0.07675595581531525 average time 0.00465177075000156 iter num 100\n",
            "loss 0.29975205659866333 average time 0.00990644904995861 iter num 20\n",
            "loss 0.23703831434249878 average time 0.006809166925017962 iter num 40\n",
            "loss 0.16077755391597748 average time 0.005649494283344817 iter num 60\n",
            "loss 0.2404347062110901 average time 0.005046917662519945 iter num 80\n",
            "loss 0.11109986901283264 average time 0.004679532690015548 iter num 100\n",
            "loss 0.44124311208724976 average time 0.008986568849991272 iter num 20\n",
            "loss 0.24825018644332886 average time 0.0060992936749812545 iter num 40\n",
            "loss 0.24588006734848022 average time 0.005138342149977385 iter num 60\n",
            "loss 0.1504978984594345 average time 0.00465832171250895 iter num 80\n",
            "loss 0.09343446791172028 average time 0.004372998090002511 iter num 100\n",
            "loss 0.1651419997215271 average time 0.008813595849937883 iter num 20\n",
            "loss 0.07336299121379852 average time 0.006166520399972342 iter num 40\n",
            "loss 0.17662644386291504 average time 0.0051949381999899435 iter num 60\n",
            "loss 0.07678408175706863 average time 0.004702168062510737 iter num 80\n",
            "loss 0.09212784469127655 average time 0.004443361260009624 iter num 100\n",
            "loss 0.12458711862564087 average time 0.010242557499964278 iter num 20\n",
            "loss 0.13118207454681396 average time 0.006829787124956965 iter num 40\n",
            "loss 0.08370062708854675 average time 0.005700525983282508 iter num 60\n",
            "loss 0.4305053949356079 average time 0.00511685727495319 iter num 80\n",
            "loss 0.09700876474380493 average time 0.00477897577996373 iter num 100\n",
            "loss 0.536853015422821 average time 0.00996002804993168 iter num 20\n",
            "loss 0.38326525688171387 average time 0.006672473849948801 iter num 40\n",
            "loss 0.2700512409210205 average time 0.005569723749984708 iter num 60\n",
            "loss 0.139792338013649 average time 0.005006915549967061 iter num 80\n",
            "loss 0.177841916680336 average time 0.004693298609963676 iter num 100\n",
            "loss 0.4746442139148712 average time 0.009328146750021915 iter num 20\n",
            "loss 0.2776336073875427 average time 0.0062841850000040726 iter num 40\n",
            "loss 0.2949162721633911 average time 0.005291442949987868 iter num 60\n",
            "loss 0.17855693399906158 average time 0.00476895761249807 iter num 80\n",
            "loss 0.12506727874279022 average time 0.004460137900000518 iter num 100\n",
            "loss 1.160710096359253 average time 0.008896586550031315 iter num 20\n",
            "loss 0.4380848705768585 average time 0.0060932290249979815 iter num 40\n",
            "loss 0.18184497952461243 average time 0.00513905771666335 iter num 60\n",
            "loss 0.14006085693836212 average time 0.004659551412498786 iter num 80\n",
            "loss 0.18341964483261108 average time 0.004372834129999319 iter num 100\n",
            "loss 0.28508779406547546 average time 0.008613759099989692 iter num 20\n",
            "loss 0.2107471078634262 average time 0.005976122574963938 iter num 40\n",
            "loss 0.17592090368270874 average time 0.005108778566667146 iter num 60\n",
            "loss 0.1729028820991516 average time 0.004662458325009311 iter num 80\n",
            "loss 0.11883790791034698 average time 0.004384838850019151 iter num 100\n",
            "loss 0.13387487828731537 average time 0.010006364899982145 iter num 20\n",
            "loss 0.3030678629875183 average time 0.006672946175012839 iter num 40\n",
            "loss 0.48877644538879395 average time 0.0055700246166604 iter num 60\n",
            "loss 0.16871444880962372 average time 0.005014971937492873 iter num 80\n",
            "loss 0.19132980704307556 average time 0.0046815950799918935 iter num 100\n",
            "loss 0.4005858302116394 average time 0.009718906450007125 iter num 20\n",
            "loss 0.1476069986820221 average time 0.006553500849997817 iter num 40\n",
            "loss 0.11734052002429962 average time 0.005494103616645892 iter num 60\n",
            "loss 0.1497638076543808 average time 0.004969242687485576 iter num 80\n",
            "loss 0.22603242099285126 average time 0.004647492789986245 iter num 100\n",
            "loss 0.7243412733078003 average time 0.009456341349937248 iter num 20\n",
            "loss 0.16244100034236908 average time 0.0063552276999530475 iter num 40\n",
            "loss 0.14061012864112854 average time 0.00532671196664675 iter num 60\n",
            "loss 0.14293964207172394 average time 0.004841785212477134 iter num 80\n",
            "loss 0.1455533802509308 average time 0.0045461760499847514 iter num 100\n",
            "loss 0.6786041855812073 average time 0.010233477900055733 iter num 20\n",
            "loss 0.13294990360736847 average time 0.006851728525043654 iter num 40\n",
            "loss 0.3463843762874603 average time 0.00567866501668656 iter num 60\n",
            "loss 0.37547385692596436 average time 0.005103858612517343 iter num 80\n",
            "loss 0.17838971316814423 average time 0.004758843410008921 iter num 100\n",
            "loss 0.15502232313156128 average time 0.009951166099972398 iter num 20\n",
            "loss 0.26534926891326904 average time 0.006645894899986615 iter num 40\n",
            "loss 0.32993650436401367 average time 0.00550690070000807 iter num 60\n",
            "loss 0.26743096113204956 average time 0.004940725612499364 iter num 80\n",
            "loss 0.09797945618629456 average time 0.004609928510003556 iter num 100\n",
            "loss 0.4572921395301819 average time 0.009391184399987651 iter num 20\n",
            "loss 0.8577331304550171 average time 0.006437584474974755 iter num 40\n",
            "loss 0.777577817440033 average time 0.005454938149978261 iter num 60\n",
            "loss 0.1034252941608429 average time 0.004933262599985255 iter num 80\n",
            "loss 0.41176682710647583 average time 0.004626836129973526 iter num 100\n",
            "loss 0.5037331581115723 average time 0.00957757215003312 iter num 20\n",
            "loss 0.23239806294441223 average time 0.0064800918000401 iter num 40\n",
            "loss 0.11141646653413773 average time 0.0054592565333678065 iter num 60\n",
            "loss 0.20057669281959534 average time 0.00493962898754603 iter num 80\n",
            "loss 0.09371747076511383 average time 0.004628302530036308 iter num 100\n",
            "loss 2.887146234512329 average time 0.009423723550048635 iter num 20\n",
            "loss 0.39896610379219055 average time 0.006465146050015846 iter num 40\n",
            "loss 0.16156725585460663 average time 0.005447391466683864 iter num 60\n",
            "loss 0.14347143471240997 average time 0.004979093000008561 iter num 80\n",
            "loss 0.1121080219745636 average time 0.004732428700003765 iter num 100\n",
            "loss 0.17560674250125885 average time 0.010581140549993507 iter num 20\n",
            "loss 0.20689812302589417 average time 0.007111228624978594 iter num 40\n",
            "loss 0.07662147283554077 average time 0.005962101549948784 iter num 60\n",
            "loss 0.20467007160186768 average time 0.00536495237495842 iter num 80\n",
            "loss 0.14425626397132874 average time 0.00501332635997187 iter num 100\n",
            "loss 0.32916849851608276 average time 0.010441858149943074 iter num 20\n",
            "loss 0.1805519312620163 average time 0.006954054924972297 iter num 40\n",
            "loss 0.07458261400461197 average time 0.00579535414995765 iter num 60\n",
            "loss 0.36744630336761475 average time 0.005178887249968511 iter num 80\n",
            "loss 0.154381662607193 average time 0.004816134569987298 iter num 100\n",
            "loss 0.22893467545509338 average time 0.009434319899924049 iter num 20\n",
            "loss 0.33821550011634827 average time 0.006447734549942652 iter num 40\n",
            "loss 0.1276915967464447 average time 0.005415650533283648 iter num 60\n",
            "loss 0.05129373073577881 average time 0.004967366287445429 iter num 80\n",
            "loss 0.037524838000535965 average time 0.0046792491299493125 iter num 100\n",
            "loss 0.13800764083862305 average time 0.009832143350058687 iter num 20\n",
            "loss 0.12007910758256912 average time 0.006651156000009451 iter num 40\n",
            "loss 0.11834802478551865 average time 0.005530614500025876 iter num 60\n",
            "loss 0.2512243390083313 average time 0.004978732187521473 iter num 80\n",
            "loss 0.048925090581178665 average time 0.004633309500022733 iter num 100\n",
            "loss 0.2524479925632477 average time 0.009327065350021257 iter num 20\n",
            "loss 0.2708616554737091 average time 0.006265860275004797 iter num 40\n",
            "loss 0.2765394151210785 average time 0.005245117600012842 iter num 60\n",
            "loss 0.20685037970542908 average time 0.00472727883750963 iter num 80\n",
            "loss 0.0882796049118042 average time 0.004434859560010409 iter num 100\n",
            "loss 0.5325464010238647 average time 0.009910035599955336 iter num 20\n",
            "loss 0.1218707337975502 average time 0.006637847149943354 iter num 40\n",
            "loss 0.22440312802791595 average time 0.005536661549983061 iter num 60\n",
            "loss 0.08036789298057556 average time 0.0049965990124803735 iter num 80\n",
            "loss 0.142925426363945 average time 0.00466375031998723 iter num 100\n",
            "loss 0.23966452479362488 average time 0.010107041949981976 iter num 20\n",
            "loss 0.19389913976192474 average time 0.006723608049992435 iter num 40\n",
            "loss 0.22738933563232422 average time 0.005609469433352388 iter num 60\n",
            "loss 0.10796947777271271 average time 0.0050435899000092375 iter num 80\n",
            "loss 0.2933782637119293 average time 0.0046836425100127595 iter num 100\n",
            "loss 0.2400871366262436 average time 0.009125986999993074 iter num 20\n",
            "loss 0.1885848492383957 average time 0.006162549875000423 iter num 40\n",
            "loss 0.35821107029914856 average time 0.005197834083332964 iter num 60\n",
            "loss 0.15796665847301483 average time 0.004729754487499349 iter num 80\n",
            "loss 0.0940105989575386 average time 0.00443941249001 iter num 100\n",
            "loss 0.3341142237186432 average time 0.009113559349952994 iter num 20\n",
            "loss 0.224331796169281 average time 0.00617965172498316 iter num 40\n",
            "loss 0.12644550204277039 average time 0.005196878949959682 iter num 60\n",
            "loss 0.0366424098610878 average time 0.0047101143749614495 iter num 80\n",
            "loss 0.12041006237268448 average time 0.00442550722996657 iter num 100\n",
            "loss 0.239935040473938 average time 0.009586870300040573 iter num 20\n",
            "loss 0.13498491048812866 average time 0.006398791425033324 iter num 40\n",
            "loss 0.08412575721740723 average time 0.005353983250006422 iter num 60\n",
            "loss 0.19467265903949738 average time 0.004828932037491995 iter num 80\n",
            "loss 0.27952611446380615 average time 0.004527618270003586 iter num 100\n",
            "loss 0.09428255259990692 average time 0.009669118600004366 iter num 20\n",
            "loss 0.1378113329410553 average time 0.006525862025011975 iter num 40\n",
            "loss 0.22884908318519592 average time 0.005470766350003942 iter num 60\n",
            "loss 0.1574876606464386 average time 0.004942873799996051 iter num 80\n",
            "loss 0.13262897729873657 average time 0.004621155919990088 iter num 100\n",
            "loss 0.6632300615310669 average time 0.009789673799923548 iter num 20\n",
            "loss 0.1372813582420349 average time 0.0065589054499469055 iter num 40\n",
            "loss 0.2835012674331665 average time 0.005491431866623013 iter num 60\n",
            "loss 0.3084087371826172 average time 0.004953185687452333 iter num 80\n",
            "loss 0.05263752490282059 average time 0.004627293559951795 iter num 100\n",
            "loss 0.18643836677074432 average time 0.010047858800021459 iter num 20\n",
            "loss 0.09130576252937317 average time 0.006625806525005373 iter num 40\n",
            "loss 0.25852566957473755 average time 0.005491267033327555 iter num 60\n",
            "loss 0.13630038499832153 average time 0.004917901799984747 iter num 80\n",
            "loss 0.14237670600414276 average time 0.00457274019999204 iter num 100\n",
            "loss 0.25046661496162415 average time 0.009936159349990703 iter num 20\n",
            "loss 0.16242356598377228 average time 0.006583730500005913 iter num 40\n",
            "loss 0.2604336738586426 average time 0.005456722516669288 iter num 60\n",
            "loss 0.10672195255756378 average time 0.004937929837495858 iter num 80\n",
            "loss 0.10344452410936356 average time 0.004617503869981192 iter num 100\n",
            "loss 0.07194577157497406 average time 0.009463766149974618 iter num 20\n",
            "loss 0.13049332797527313 average time 0.006332521349986564 iter num 40\n",
            "loss 0.19845634698867798 average time 0.005290129383335322 iter num 60\n",
            "loss 0.1525595486164093 average time 0.004771745287496287 iter num 80\n",
            "loss 0.2181970328092575 average time 0.004455946780008162 iter num 100\n",
            "loss 0.32861173152923584 average time 0.009065313450014401 iter num 20\n",
            "loss 0.285271555185318 average time 0.006154592525012959 iter num 40\n",
            "loss 0.27196624875068665 average time 0.0052436618499844675 iter num 60\n",
            "loss 0.07690154761075974 average time 0.004772450074977996 iter num 80\n",
            "loss 0.10457718372344971 average time 0.004513216889963587 iter num 100\n",
            "loss 1.6724599599838257 average time 0.009945213350033556 iter num 20\n",
            "loss 0.40875810384750366 average time 0.0068291071749854385 iter num 40\n",
            "loss 0.3156067132949829 average time 0.005713887749993774 iter num 60\n",
            "loss 0.12641815841197968 average time 0.0051529815000037615 iter num 80\n",
            "loss 0.29890891909599304 average time 0.004831801920013277 iter num 100\n",
            "loss 0.24258819222450256 average time 0.01034401624997372 iter num 20\n",
            "loss 0.31175726652145386 average time 0.006846953599949757 iter num 40\n",
            "loss 0.11427333205938339 average time 0.0056419956666180346 iter num 60\n",
            "loss 0.06159184128046036 average time 0.005045430337446533 iter num 80\n",
            "loss 0.1351877897977829 average time 0.0047272654099560895 iter num 100\n",
            "loss 0.5076237916946411 average time 0.010170564249983726 iter num 20\n",
            "loss 0.24688765406608582 average time 0.00689811979998467 iter num 40\n",
            "loss 0.17467692494392395 average time 0.005817220233302578 iter num 60\n",
            "loss 0.17933866381645203 average time 0.005272741374966472 iter num 80\n",
            "loss 0.06222457438707352 average time 0.004906781319969014 iter num 100\n",
            "loss 0.0863557681441307 average time 0.00990349495011742 iter num 20\n",
            "loss 0.06859274208545685 average time 0.006616087125053127 iter num 40\n",
            "loss 0.1251082867383957 average time 0.005535672300031062 iter num 60\n",
            "loss 0.17385753989219666 average time 0.004971408725015181 iter num 80\n",
            "loss 0.16814471781253815 average time 0.004622828800020216 iter num 100\n",
            "loss 0.3097168803215027 average time 0.009291576199984775 iter num 20\n",
            "loss 0.05586564540863037 average time 0.0063196328250114675 iter num 40\n",
            "loss 0.11820711195468903 average time 0.005271221033331131 iter num 60\n",
            "loss 0.19948311150074005 average time 0.004763781812494016 iter num 80\n",
            "loss 0.1331137865781784 average time 0.004453447209984915 iter num 100\n",
            "loss 0.06601254642009735 average time 0.009421199599955798 iter num 20\n",
            "loss 0.2578875422477722 average time 0.0063096008999764305 iter num 40\n",
            "loss 0.19971132278442383 average time 0.005270433983340202 iter num 60\n",
            "loss 0.14773355424404144 average time 0.00476353623751038 iter num 80\n",
            "loss 0.14481621980667114 average time 0.004448690649996934 iter num 100\n",
            "loss 0.09643067419528961 average time 0.008998493750004855 iter num 20\n",
            "loss 0.15324634313583374 average time 0.006097331974990539 iter num 40\n",
            "loss 0.19712719321250916 average time 0.005142374249968876 iter num 60\n",
            "loss 0.25301241874694824 average time 0.004653462549981668 iter num 80\n",
            "loss 0.1439206451177597 average time 0.004368371759983347 iter num 100\n",
            "loss 0.2393045872449875 average time 0.009113268999976753 iter num 20\n",
            "loss 0.1094253659248352 average time 0.006260703925011058 iter num 40\n",
            "loss 0.11380691826343536 average time 0.005317973866673735 iter num 60\n",
            "loss 0.05806668847799301 average time 0.00481932913751848 iter num 80\n",
            "loss 0.06159921735525131 average time 0.004517717770017953 iter num 100\n",
            "loss 0.12004773318767548 average time 0.009790533649947974 iter num 20\n",
            "loss 0.3320317268371582 average time 0.006570922574996985 iter num 40\n",
            "loss 0.22207999229431152 average time 0.005484277333342409 iter num 60\n",
            "loss 0.15340697765350342 average time 0.004941913150008759 iter num 80\n",
            "loss 0.15411734580993652 average time 0.004654332600007365 iter num 100\n",
            "loss 0.3953503966331482 average time 0.009014043549950657 iter num 20\n",
            "loss 0.10850371420383453 average time 0.006128791600008299 iter num 40\n",
            "loss 0.08304505795240402 average time 0.005154162799984382 iter num 60\n",
            "loss 0.03809735178947449 average time 0.004663713899981303 iter num 80\n",
            "loss 0.058055195957422256 average time 0.004375523889980287 iter num 100\n",
            "loss 0.20319761335849762 average time 0.009301461450013449 iter num 20\n",
            "loss 0.33891499042510986 average time 0.00628541895005128 iter num 40\n",
            "loss 0.18246299028396606 average time 0.00526159115001974 iter num 60\n",
            "loss 0.2749794125556946 average time 0.004736464362514426 iter num 80\n",
            "loss 0.04629844054579735 average time 0.004431949070008159 iter num 100\n",
            "loss 0.39379334449768066 average time 0.00967494184997122 iter num 20\n",
            "loss 0.15171387791633606 average time 0.00649129799999173 iter num 40\n",
            "loss 0.18764014542102814 average time 0.0053917659166624315 iter num 60\n",
            "loss 0.14307886362075806 average time 0.004842594550001422 iter num 80\n",
            "loss 0.1048489362001419 average time 0.004504237390001435 iter num 100\n",
            "loss 0.06772717833518982 average time 0.009420411299993247 iter num 20\n",
            "loss 0.15829774737358093 average time 0.006394148699985181 iter num 40\n",
            "loss 0.1180102601647377 average time 0.005387477100005829 iter num 60\n",
            "loss 0.1536220908164978 average time 0.004892884874999481 iter num 80\n",
            "loss 0.16998650133609772 average time 0.004629198579996227 iter num 100\n",
            "loss 0.49913936853408813 average time 0.010066701399932754 iter num 20\n",
            "loss 0.18321405351161957 average time 0.00670872777494651 iter num 40\n",
            "loss 0.17786119878292084 average time 0.005577125216639918 iter num 60\n",
            "loss 0.035713814198970795 average time 0.005016539649989227 iter num 80\n",
            "loss 0.08464747667312622 average time 0.00467150008997578 iter num 100\n",
            "loss 0.5166040658950806 average time 0.009953467049922438 iter num 20\n",
            "loss 1.2070094347000122 average time 0.006620206149966635 iter num 40\n",
            "loss 0.24091438949108124 average time 0.005490087449978394 iter num 60\n",
            "loss 0.10140882432460785 average time 0.004919904062495562 iter num 80\n",
            "loss 0.10909636318683624 average time 0.00458741441998427 iter num 100\n",
            "loss 0.10221967846155167 average time 0.00917761669995798 iter num 20\n",
            "loss 0.021352970972657204 average time 0.006188685050005915 iter num 40\n",
            "loss 0.1033051460981369 average time 0.005188110516693693 iter num 60\n",
            "loss 0.09923359751701355 average time 0.004683628300006149 iter num 80\n",
            "loss 0.10828588157892227 average time 0.0043878379500074515 iter num 100\n",
            "loss 0.13249152898788452 average time 0.009391746949950175 iter num 20\n",
            "loss 0.3693481981754303 average time 0.0063357998999549634 iter num 40\n",
            "loss 0.1789940893650055 average time 0.005300410033282787 iter num 60\n",
            "loss 0.11661368608474731 average time 0.004781643274952785 iter num 80\n",
            "loss 0.09525974094867706 average time 0.004474887659957858 iter num 100\n",
            "loss 0.07149258255958557 average time 0.009452240399969013 iter num 20\n",
            "loss 1.1602015495300293 average time 0.0064336549750123595 iter num 40\n",
            "loss 0.6006602644920349 average time 0.005430433116657696 iter num 60\n",
            "loss 0.085428386926651 average time 0.004909876662486568 iter num 80\n",
            "loss 0.09019067138433456 average time 0.004601992379984949 iter num 100\n",
            "loss 0.15136167407035828 average time 0.010027355850002095 iter num 20\n",
            "loss 0.08693356812000275 average time 0.006683628675045838 iter num 40\n",
            "loss 0.29335901141166687 average time 0.005573202200055979 iter num 60\n",
            "loss 0.12115581333637238 average time 0.005019389100050375 iter num 80\n",
            "loss 0.10193163901567459 average time 0.004694623610043891 iter num 100\n",
            "loss 0.2268706113100052 average time 0.009946044199978132 iter num 20\n",
            "loss 0.8295149803161621 average time 0.006613975375000791 iter num 40\n",
            "loss 0.3444005846977234 average time 0.00549449128334345 iter num 60\n",
            "loss 0.08146747946739197 average time 0.004933868825025911 iter num 80\n",
            "loss 0.08370356261730194 average time 0.004599809530031962 iter num 100\n",
            "loss 0.07184536755084991 average time 0.009493204449995574 iter num 20\n",
            "loss 0.16995231807231903 average time 0.006340201824957603 iter num 40\n",
            "loss 0.08859910070896149 average time 0.0052961787333060785 iter num 60\n",
            "loss 0.17905759811401367 average time 0.004760605412474206 iter num 80\n",
            "loss 0.10895119607448578 average time 0.004448950209985014 iter num 100\n",
            "loss 0.1341582089662552 average time 0.00961000189997776 iter num 20\n",
            "loss 0.2562521696090698 average time 0.006414861124972049 iter num 40\n",
            "loss 0.07506480067968369 average time 0.005352610549994097 iter num 60\n",
            "loss 0.047067947685718536 average time 0.004816171562487171 iter num 80\n",
            "loss 0.0618864968419075 average time 0.004500459639980363 iter num 100\n",
            "loss 0.2832180857658386 average time 0.009757543849991635 iter num 20\n",
            "loss 0.42730215191841125 average time 0.006514887074979469 iter num 40\n",
            "loss 0.47572121024131775 average time 0.005438516366651432 iter num 60\n",
            "loss 0.10842062532901764 average time 0.0049263837874832465 iter num 80\n",
            "loss 0.08025719225406647 average time 0.0046044447200074504 iter num 100\n",
            "loss 0.17960608005523682 average time 0.009857135700008257 iter num 20\n",
            "loss 0.1564949005842209 average time 0.006587231949970374 iter num 40\n",
            "loss 0.22987273335456848 average time 0.005511934716651012 iter num 60\n",
            "loss 0.22563497722148895 average time 0.004974154587483781 iter num 80\n",
            "loss 0.12156146764755249 average time 0.004647352470001352 iter num 100\n",
            "loss 0.32542628049850464 average time 0.00961333674999878 iter num 20\n",
            "loss 0.12551376223564148 average time 0.006473872249989654 iter num 40\n",
            "loss 0.1576414853334427 average time 0.0054386826999916595 iter num 60\n",
            "loss 0.09400208294391632 average time 0.004893264112490669 iter num 80\n",
            "loss 0.03635214641690254 average time 0.004553843349981435 iter num 100\n",
            "loss 0.06363966315984726 average time 0.0091445767499863 iter num 20\n",
            "loss 0.3182646930217743 average time 0.006175316999963343 iter num 40\n",
            "loss 0.04960302636027336 average time 0.005237575916657989 iter num 60\n",
            "loss 0.15763640403747559 average time 0.0047341298125047615 iter num 80\n",
            "loss 0.15872761607170105 average time 0.00442534933000843 iter num 100\n",
            "loss 0.0772346705198288 average time 0.00931974780000928 iter num 20\n",
            "loss 0.1575939953327179 average time 0.00625840032502083 iter num 40\n",
            "loss 0.1678406000137329 average time 0.00524587423333287 iter num 60\n",
            "loss 0.13215535879135132 average time 0.004729052337495432 iter num 80\n",
            "loss 0.04802572354674339 average time 0.004431074899994201 iter num 100\n",
            "loss 0.22905834019184113 average time 0.009473131599975204 iter num 20\n",
            "loss 0.1508476287126541 average time 0.00633352044997082 iter num 40\n",
            "loss 0.10175624489784241 average time 0.005301212099978633 iter num 60\n",
            "loss 0.042085856199264526 average time 0.004764484937476254 iter num 80\n",
            "loss 0.07857924699783325 average time 0.0044732675399836806 iter num 100\n",
            "loss 0.7351533770561218 average time 0.009459912100010116 iter num 20\n",
            "loss 0.3409843444824219 average time 0.006375990650019503 iter num 40\n",
            "loss 0.13750503957271576 average time 0.005361126716684339 iter num 60\n",
            "loss 0.05317475646734238 average time 0.004861279800013563 iter num 80\n",
            "loss 0.06425899267196655 average time 0.004554784100023425 iter num 100\n",
            "loss 0.1623498797416687 average time 0.010319670750027399 iter num 20\n",
            "loss 0.24604904651641846 average time 0.006854199675001382 iter num 40\n",
            "loss 0.07203052192926407 average time 0.0056832545000133905 iter num 60\n",
            "loss 0.0907813012599945 average time 0.005078023550015587 iter num 80\n",
            "loss 0.06453660130500793 average time 0.004715769370018279 iter num 100\n",
            "loss 0.7136660814285278 average time 0.009680857100033791 iter num 20\n",
            "loss 0.5679091811180115 average time 0.0064685974499866464 iter num 40\n",
            "loss 0.23509515821933746 average time 0.005426621466661648 iter num 60\n",
            "loss 0.12233570218086243 average time 0.004897693662485381 iter num 80\n",
            "loss 0.09175877273082733 average time 0.004590367240007253 iter num 100\n",
            "loss 0.09795744717121124 average time 0.009552139899983558 iter num 20\n",
            "loss 0.027402635663747787 average time 0.006452135150004779 iter num 40\n",
            "loss 0.14304004609584808 average time 0.0054129144333425454 iter num 60\n",
            "loss 0.0789150595664978 average time 0.004892636687526419 iter num 80\n",
            "loss 0.138283833861351 average time 0.004601334290000523 iter num 100\n",
            "loss 0.21750810742378235 average time 0.00992474540000785 iter num 20\n",
            "loss 1.525155782699585 average time 0.006572885800039785 iter num 40\n",
            "loss 1.2123870849609375 average time 0.005459779833351301 iter num 60\n",
            "loss 0.2290945053100586 average time 0.004893458600002986 iter num 80\n",
            "loss 0.10512039065361023 average time 0.004552108030011368 iter num 100\n",
            "loss 0.20128566026687622 average time 0.009563846399987596 iter num 20\n",
            "loss 0.15496595203876495 average time 0.006395489875012572 iter num 40\n",
            "loss 0.2954366207122803 average time 0.005333758183329943 iter num 60\n",
            "loss 0.06268589943647385 average time 0.004810033737487629 iter num 80\n",
            "loss 0.029682952910661697 average time 0.004490198149983371 iter num 100\n",
            "loss 0.1799778938293457 average time 0.009368755349964886 iter num 20\n",
            "loss 0.7178407907485962 average time 0.006274896050001644 iter num 40\n",
            "loss 0.10082944482564926 average time 0.005245753449995997 iter num 60\n",
            "loss 0.0421999953687191 average time 0.004729477062505793 iter num 80\n",
            "loss 0.10699304193258286 average time 0.0044155268900112786 iter num 100\n",
            "loss 0.1761191189289093 average time 0.008956989650050673 iter num 20\n",
            "loss 0.3799229860305786 average time 0.006073131675032073 iter num 40\n",
            "loss 0.1555221676826477 average time 0.005140940483352096 iter num 60\n",
            "loss 0.09722170233726501 average time 0.004703856037525611 iter num 80\n",
            "loss 0.02512277103960514 average time 0.0044298183200180575 iter num 100\n",
            "loss 0.24192263185977936 average time 0.00963065080004526 iter num 20\n",
            "loss 0.4036463499069214 average time 0.006493786950034064 iter num 40\n",
            "loss 0.07801714539527893 average time 0.0054289239833375785 iter num 60\n",
            "loss 0.11253318935632706 average time 0.004909599525007025 iter num 80\n",
            "loss 0.07084851711988449 average time 0.004575051270003314 iter num 100\n",
            "loss 0.1923857480287552 average time 0.010020153900018158 iter num 20\n",
            "loss 0.11907979846000671 average time 0.006684104950022629 iter num 40\n",
            "loss 0.07204299420118332 average time 0.005552108133391205 iter num 60\n",
            "loss 0.04510817676782608 average time 0.004951542150053001 iter num 80\n",
            "loss 0.09635767340660095 average time 0.004604196200039041 iter num 100\n",
            "loss 0.19485193490982056 average time 0.009170940950070872 iter num 20\n",
            "loss 0.06502573192119598 average time 0.006252081150023514 iter num 40\n",
            "loss 0.10156137496232986 average time 0.00524914026669497 iter num 60\n",
            "loss 0.23637689650058746 average time 0.004834974837524442 iter num 80\n",
            "loss 0.09247802197933197 average time 0.004522039660027986 iter num 100\n",
            "loss 0.8340051174163818 average time 0.009263702250018468 iter num 20\n",
            "loss 0.257018119096756 average time 0.006252915575009866 iter num 40\n",
            "loss 0.14148582518100739 average time 0.005227715249967939 iter num 60\n",
            "loss 0.09025564044713974 average time 0.004710863487485994 iter num 80\n",
            "loss 0.06710270047187805 average time 0.004404805519998263 iter num 100\n",
            "loss 1.118373990058899 average time 0.00909245129998908 iter num 20\n",
            "loss 0.10431449115276337 average time 0.006161420550017738 iter num 40\n",
            "loss 0.2745407819747925 average time 0.005189176966678133 iter num 60\n",
            "loss 0.18354105949401855 average time 0.004711997687491021 iter num 80\n",
            "loss 0.0845298171043396 average time 0.004461719989990343 iter num 100\n",
            "loss 0.10787607729434967 average time 0.010134407200007444 iter num 20\n",
            "loss 0.04983127862215042 average time 0.006721036450005613 iter num 40\n",
            "loss 0.061513133347034454 average time 0.005625675583337398 iter num 60\n",
            "loss 0.18460030853748322 average time 0.005072219349995066 iter num 80\n",
            "loss 0.027306005358695984 average time 0.00472558412998751 iter num 100\n",
            "loss 0.08772484958171844 average time 0.01039535504989999 iter num 20\n",
            "loss 0.06125607341527939 average time 0.006857312349950462 iter num 40\n",
            "loss 0.13044682145118713 average time 0.005695015049976367 iter num 60\n",
            "loss 0.08129715919494629 average time 0.005114955187485748 iter num 80\n",
            "loss 0.09931990504264832 average time 0.0047333376700044024 iter num 100\n",
            "loss 0.4950459599494934 average time 0.009315922800078624 iter num 20\n",
            "loss 0.10562705248594284 average time 0.006281453800045256 iter num 40\n",
            "loss 0.12198445945978165 average time 0.00525902270004129 iter num 60\n",
            "loss 0.16865046322345734 average time 0.004744270550025931 iter num 80\n",
            "loss 0.10577721148729324 average time 0.004427497790020425 iter num 100\n",
            "loss 0.19181448221206665 average time 0.009358683849973204 iter num 20\n",
            "loss 0.1701376587152481 average time 0.006314165800006322 iter num 40\n",
            "loss 0.16458012163639069 average time 0.005285441766667039 iter num 60\n",
            "loss 0.04102441295981407 average time 0.004769852575003597 iter num 80\n",
            "loss 0.15844452381134033 average time 0.004474155460011389 iter num 100\n",
            "loss 0.21129658818244934 average time 0.00929234720003933 iter num 20\n",
            "loss 0.09248970448970795 average time 0.006292360175041267 iter num 40\n",
            "loss 0.07562249898910522 average time 0.0052569799500209536 iter num 60\n",
            "loss 0.09538185596466064 average time 0.004758428437531848 iter num 80\n",
            "loss 0.11632874608039856 average time 0.004464227160024165 iter num 100\n",
            "loss 0.21746325492858887 average time 0.00972562465003648 iter num 20\n",
            "loss 0.3742455840110779 average time 0.0065366430500148455 iter num 40\n",
            "loss 0.2450447529554367 average time 0.005481814333332598 iter num 60\n",
            "loss 0.11451070010662079 average time 0.004948846912492399 iter num 80\n",
            "loss 0.11060397326946259 average time 0.00464392030999079 iter num 100\n",
            "loss 1.8377143144607544 average time 0.010082147549951515 iter num 20\n",
            "loss 1.3240666389465332 average time 0.006714381149959081 iter num 40\n",
            "loss 0.24577170610427856 average time 0.005613559899999624 iter num 60\n",
            "loss 0.0608171783387661 average time 0.005039302837496961 iter num 80\n",
            "loss 0.0771682932972908 average time 0.004686204619983983 iter num 100\n",
            "loss 0.13100619614124298 average time 0.009521543649975683 iter num 20\n",
            "loss 0.11395804584026337 average time 0.0063607537499933645 iter num 40\n",
            "loss 0.14266613125801086 average time 0.005301749316648359 iter num 60\n",
            "loss 0.04570457711815834 average time 0.004771258787502575 iter num 80\n",
            "loss 0.08096544444561005 average time 0.0044559036900000135 iter num 100\n",
            "loss 0.053191520273685455 average time 0.00934239670000352 iter num 20\n",
            "loss 0.11860916763544083 average time 0.00626875152501043 iter num 40\n",
            "loss 0.097057044506073 average time 0.00525001664999157 iter num 60\n",
            "loss 0.1599361151456833 average time 0.004734156649999477 iter num 80\n",
            "loss 0.12823626399040222 average time 0.004433676080002442 iter num 100\n",
            "loss 0.09887155145406723 average time 0.008912821100034307 iter num 20\n",
            "loss 0.09479282796382904 average time 0.006030422975038618 iter num 40\n",
            "loss 0.08327463269233704 average time 0.00515492830002889 iter num 60\n",
            "loss 0.028591398149728775 average time 0.004666036962527187 iter num 80\n",
            "loss 0.0349244624376297 average time 0.004385550660022091 iter num 100\n",
            "loss 0.40771085023880005 average time 0.009398472649991163 iter num 20\n",
            "loss 0.3318988084793091 average time 0.00645026219999636 iter num 40\n",
            "loss 0.11793360859155655 average time 0.005417763416661122 iter num 60\n",
            "loss 0.2052002251148224 average time 0.0049106537000113805 iter num 80\n",
            "loss 0.07759442180395126 average time 0.004599969090008926 iter num 100\n",
            "loss 0.07465368509292603 average time 0.00964541064995501 iter num 20\n",
            "loss 0.1340939700603485 average time 0.006510628825003551 iter num 40\n",
            "loss 0.09296252578496933 average time 0.005465880883336164 iter num 60\n",
            "loss 0.13125775754451752 average time 0.004935210050018668 iter num 80\n",
            "loss 0.17416667938232422 average time 0.004629290980005862 iter num 100\n",
            "loss 0.18685199320316315 average time 0.010385682249943785 iter num 20\n",
            "loss 0.10324661433696747 average time 0.006808737249957631 iter num 40\n",
            "loss 0.10633566230535507 average time 0.005608419499988789 iter num 60\n",
            "loss 0.10134017467498779 average time 0.005039630399994621 iter num 80\n",
            "loss 0.04769645631313324 average time 0.004705821499987906 iter num 100\n",
            "loss 0.6874391436576843 average time 0.009771511849930904 iter num 20\n",
            "loss 0.7549788355827332 average time 0.006577637525003866 iter num 40\n",
            "loss 0.1824045479297638 average time 0.005510836333337465 iter num 60\n",
            "loss 0.1695125699043274 average time 0.004973692749990733 iter num 80\n",
            "loss 0.13387955725193024 average time 0.004652332139989994 iter num 100\n",
            "loss 0.07431364804506302 average time 0.01014187684997978 iter num 20\n",
            "loss 0.17372076213359833 average time 0.006802645449988631 iter num 40\n",
            "loss 0.20110352337360382 average time 0.005656515833356935 iter num 60\n",
            "loss 0.11157296597957611 average time 0.005044751712523521 iter num 80\n",
            "loss 0.11821014434099197 average time 0.004667414490008923 iter num 100\n",
            "loss 0.2694151997566223 average time 0.009456286749968967 iter num 20\n",
            "loss 0.23645246028900146 average time 0.006329613299988069 iter num 40\n",
            "loss 0.20413151383399963 average time 0.005291437666649775 iter num 60\n",
            "loss 0.08854971081018448 average time 0.00477735221248281 iter num 80\n",
            "loss 0.23185698688030243 average time 0.004460024069994688 iter num 100\n",
            "loss 0.09535433351993561 average time 0.009127170850047151 iter num 20\n",
            "loss 0.14491558074951172 average time 0.006172612750049211 iter num 40\n",
            "loss 0.12924863398075104 average time 0.005248767616702329 iter num 60\n",
            "loss 0.13698196411132812 average time 0.004732504262523207 iter num 80\n",
            "loss 0.10420446842908859 average time 0.004434790830009661 iter num 100\n",
            "loss 0.17855720221996307 average time 0.009483627000054184 iter num 20\n",
            "loss 0.14341109991073608 average time 0.006354523975016946 iter num 40\n",
            "loss 0.14777059853076935 average time 0.005291212549999121 iter num 60\n",
            "loss 0.09194496273994446 average time 0.004757429412512693 iter num 80\n",
            "loss 0.06974057108163834 average time 0.004463600670023879 iter num 100\n",
            "loss 0.1565195471048355 average time 0.009758166799997525 iter num 20\n",
            "loss 0.1808851957321167 average time 0.0066361860500251165 iter num 40\n",
            "loss 0.06097707152366638 average time 0.005526407733358004 iter num 60\n",
            "loss 0.08014050126075745 average time 0.004981492850009772 iter num 80\n",
            "loss 0.03689314424991608 average time 0.00465216005000002 iter num 100\n",
            "loss 0.7063872814178467 average time 0.009663714500015885 iter num 20\n",
            "loss 0.6344133615493774 average time 0.006503074525016928 iter num 40\n",
            "loss 0.224800705909729 average time 0.005446121783324998 iter num 60\n",
            "loss 0.12294067442417145 average time 0.004915572274990154 iter num 80\n",
            "loss 0.06193843483924866 average time 0.004574850209992292 iter num 100\n",
            "loss 1.0064092874526978 average time 0.00949945414990907 iter num 20\n",
            "loss 0.4339992105960846 average time 0.006388554774946442 iter num 40\n",
            "loss 0.2184193730354309 average time 0.005335354816649366 iter num 60\n",
            "loss 0.07953410595655441 average time 0.004798280374990327 iter num 80\n",
            "loss 0.04531963914632797 average time 0.0044879168599891274 iter num 100\n",
            "loss 0.11199870705604553 average time 0.008928079950010215 iter num 20\n",
            "loss 0.05748976767063141 average time 0.006082568950046152 iter num 40\n",
            "loss 0.035605017095804214 average time 0.005152195950025392 iter num 60\n",
            "loss 0.049567148089408875 average time 0.00469543211254404 iter num 80\n",
            "loss 0.10846838355064392 average time 0.004408611390017541 iter num 100\n",
            "loss 0.46450453996658325 average time 0.009396792300003653 iter num 20\n",
            "loss 0.11120059341192245 average time 0.006310379325009307 iter num 40\n",
            "loss 0.08409592509269714 average time 0.005281593183296233 iter num 60\n",
            "loss 0.07216203957796097 average time 0.0047681315499858105 iter num 80\n",
            "loss 0.05985323339700699 average time 0.004456387199988967 iter num 100\n",
            "loss 0.0695742815732956 average time 0.009940016049904443 iter num 20\n",
            "loss 0.13538599014282227 average time 0.006663868499890669 iter num 40\n",
            "loss 0.054913222789764404 average time 0.005546512183248827 iter num 60\n",
            "loss 0.13008661568164825 average time 0.004996842362436383 iter num 80\n",
            "loss 0.044294361025094986 average time 0.004669701199927659 iter num 100\n",
            "loss 0.28561097383499146 average time 0.009794812450081736 iter num 20\n",
            "loss 0.22769257426261902 average time 0.006590487175003545 iter num 40\n",
            "loss 0.22576361894607544 average time 0.005514402816652364 iter num 60\n",
            "loss 0.031197231262922287 average time 0.004995367987464761 iter num 80\n",
            "loss 0.04867443069815636 average time 0.004703588980000859 iter num 100\n",
            "loss 1.0418565273284912 average time 0.009885579450065051 iter num 20\n",
            "loss 0.20329418778419495 average time 0.006569588449997355 iter num 40\n",
            "loss 0.2108955830335617 average time 0.00544677768331591 iter num 60\n",
            "loss 0.09734171628952026 average time 0.0048933283125052185 iter num 80\n",
            "loss 0.09818721562623978 average time 0.004564702009975008 iter num 100\n"
          ],
          "name": "stdout"
        },
        {
          "output_type": "execute_result",
          "data": {
            "text/plain": [
              "State:\n",
              "\titeration: 30000\n",
              "\tepoch: 300\n",
              "\tepoch_length: 100\n",
              "\tmax_epochs: 300\n",
              "\toutput: 0.09818721562623978\n",
              "\tbatch: <class 'tuple'>\n",
              "\tmetrics: <class 'dict'>\n",
              "\tdataloader: <class 'cupy_dataset.NumbaOptionDataSet'>\n",
              "\tseed: <class 'NoneType'>\n",
              "\ttimes: <class 'dict'>"
            ]
          },
          "metadata": {
            "tags": []
          },
          "execution_count": 6
        }
      ]
    },
    {
      "cell_type": "markdown",
      "metadata": {
        "id": "vU1EpGuInwjJ"
      },
      "source": [
        "$2365$ seconds The loss is keeping decreasing which means the pricing model can predict the option prices better. It takes about $12ms$ to compute one mini-batch in average, In the following sections, we will try to expore the full potentials of the GPU to accelerate the training."
      ]
    },
    {
      "cell_type": "markdown",
      "metadata": {
        "id": "A8McNtejRNFT"
      },
      "source": [
        "**Save Model**"
      ]
    },
    {
      "cell_type": "code",
      "metadata": {
        "id": "YRtOr1XIPOvF",
        "colab": {
          "base_uri": "https://localhost:8080/"
        },
        "outputId": "2f5674c1-8ab8-4fd1-f3bb-1972184c3503"
      },
      "source": [
        "from google.colab import drive\n",
        "drive.mount('/content/drive')"
      ],
      "execution_count": 6,
      "outputs": [
        {
          "output_type": "stream",
          "text": [
            "Mounted at /content/drive\n"
          ],
          "name": "stdout"
        }
      ]
    },
    {
      "cell_type": "code",
      "metadata": {
        "id": "9UWrNr_-pa2G"
      },
      "source": [
        "import torch"
      ],
      "execution_count": 7,
      "outputs": []
    },
    {
      "cell_type": "code",
      "metadata": {
        "id": "ndftly2yPEaM"
      },
      "source": [
        "model_save_name = 'checkpoint_1Stock_Yidong.pth'\n",
        "path = F\"/content/drive/MyDrive/AFP Project/Lilian/{model_save_name}\" \n",
        "torch.save(model.state_dict(), path)"
      ],
      "execution_count": 10,
      "outputs": []
    },
    {
      "cell_type": "markdown",
      "metadata": {
        "id": "y6DRO9K2RQoJ"
      },
      "source": [
        "**Load Model**"
      ]
    },
    {
      "cell_type": "code",
      "metadata": {
        "id": "HGXZSV_YRT8v",
        "colab": {
          "base_uri": "https://localhost:8080/"
        },
        "outputId": "4419af5c-0234-4616-eddf-6e69630b17e6"
      },
      "source": [
        "from google.colab import drive\n",
        "drive.mount('/content/drive')"
      ],
      "execution_count": 8,
      "outputs": [
        {
          "output_type": "stream",
          "text": [
            "Drive already mounted at /content/drive; to attempt to forcibly remount, call drive.mount(\"/content/drive\", force_remount=True).\n"
          ],
          "name": "stdout"
        }
      ]
    },
    {
      "cell_type": "code",
      "metadata": {
        "id": "3ntY-N5bOqdq",
        "colab": {
          "base_uri": "https://localhost:8080/"
        },
        "outputId": "c6224d08-6928-4fac-b4fe-92e6db3e3e79"
      },
      "source": [
        "import torch\n",
        "model_save_name = 'checkpoint_1Stock_Yidong.pth'\n",
        "path = F\"/content/drive/MyDrive/AFP Project/Lilian/{model_save_name}\" \n",
        "#checkpoint15.pth\n",
        "#path = F\"/content/drive/MyDrive/AFP Project/Lilian/checkpoint15.pth\" \n",
        "state_dict = torch.load(path)\n",
        "print(state_dict.keys())"
      ],
      "execution_count": 9,
      "outputs": [
        {
          "output_type": "stream",
          "text": [
            "odict_keys(['norm', 'fc1.weight', 'fc1.bias', 'fc2.weight', 'fc2.bias', 'fc3.weight', 'fc3.bias', 'fc4.weight', 'fc4.bias', 'fc5.weight', 'fc5.bias', 'fc6.weight', 'fc6.bias'])\n"
          ],
          "name": "stdout"
        }
      ]
    },
    {
      "cell_type": "code",
      "metadata": {
        "id": "j0GAGPAgPmgh",
        "colab": {
          "base_uri": "https://localhost:8080/"
        },
        "outputId": "4487b253-4aa7-42ac-92d7-1a8403dfce52"
      },
      "source": [
        "# need to run 'Writing cupy_dataset.py' and 'Writing model.py' above before this\n",
        "from model import Net\n",
        "model = Net().cuda()\n",
        "\n",
        "model.load_state_dict(state_dict)\n",
        "print(model)"
      ],
      "execution_count": 10,
      "outputs": [
        {
          "output_type": "stream",
          "text": [
            "Net(\n",
            "  (fc1): Linear(in_features=6, out_features=1024, bias=True)\n",
            "  (fc2): Linear(in_features=1024, out_features=1024, bias=True)\n",
            "  (fc3): Linear(in_features=1024, out_features=1024, bias=True)\n",
            "  (fc4): Linear(in_features=1024, out_features=1024, bias=True)\n",
            "  (fc5): Linear(in_features=1024, out_features=1024, bias=True)\n",
            "  (fc6): Linear(in_features=1024, out_features=1, bias=True)\n",
            ")\n"
          ],
          "name": "stdout"
        }
      ]
    },
    {
      "cell_type": "markdown",
      "metadata": {
        "id": "rXT4Bg0wdL7l"
      },
      "source": [
        "**Continue to train model**"
      ]
    },
    {
      "cell_type": "code",
      "metadata": {
        "id": "Zfa9cp6CdG8T",
        "colab": {
          "base_uri": "https://localhost:8080/"
        },
        "outputId": "c84f281d-5cb1-4192-998b-9898f2e7ee98"
      },
      "source": [
        "from ignite.engine import Engine, Events\n",
        "from ignite.handlers import Timer\n",
        "from torch.nn import MSELoss\n",
        "from torch.optim import Adam\n",
        "from ignite.contrib.handlers.param_scheduler import CosineAnnealingScheduler\n",
        "from ignite.handlers import ModelCheckpoint\n",
        "from model import Net\n",
        "from cupy_dataset import NumbaOptionDataSet\n",
        "timer = Timer(average=True)\n",
        "#model = Net().cuda()\n",
        "loss_fn = MSELoss()\n",
        "optimizer = Adam(model.parameters(), lr=1e-3)\n",
        "# dataset = NumbaOptionDataSet(max_len=10000, number_path = 1024, batch=4800)\n",
        "dataset = NumbaOptionDataSet(max_len=500, number_path = 1024, batch=32, stocks=1)\n",
        "\n",
        "def train_update(engine, batch):\n",
        "    model.train()\n",
        "    optimizer.zero_grad()\n",
        "    x = batch[0]\n",
        "    y = batch[1]\n",
        "    y_pred = model(x)\n",
        "    loss = loss_fn(y_pred[:,0], y)\n",
        "    loss.backward()\n",
        "    optimizer.step()\n",
        "    return loss.item()\n",
        "\n",
        "trainer = Engine(train_update)\n",
        "log_interval = 20\n",
        "\n",
        "scheduler = CosineAnnealingScheduler(optimizer, 'lr', 1e-4, 1e-6, len(dataset))\n",
        "trainer.add_event_handler(Events.ITERATION_STARTED, scheduler)\n",
        "timer.attach(trainer,\n",
        "             start=Events.EPOCH_STARTED,\n",
        "             resume=Events.ITERATION_STARTED,\n",
        "             pause=Events.ITERATION_COMPLETED,\n",
        "             step=Events.ITERATION_COMPLETED)    \n",
        "@trainer.on(Events.ITERATION_COMPLETED)\n",
        "def log_training_loss(engine):\n",
        "    iter = (engine.state.iteration - 1) % len(dataset) + 1\n",
        "    if iter % log_interval == 0:\n",
        "        print('loss', engine.state.output, 'average time', timer.value(), 'iter num', iter)\n",
        "        \n",
        "trainer.run(dataset, max_epochs=300)\n",
        "\n",
        "model_save_name = 'checkpoint16.pth'\n",
        "path = F\"/content/drive/MyDrive/AFP Project/Lilian/{model_save_name}\" \n",
        "torch.save(model.state_dict(), path)"
      ],
      "execution_count": null,
      "outputs": [
        {
          "output_type": "stream",
          "text": [
            "loss 7.214704513549805 average time 0.015507421699976476 iter num 20\n",
            "loss 1.0778486728668213 average time 0.009840025049993529 iter num 40\n",
            "loss 0.37314093112945557 average time 0.007902153366671882 iter num 60\n",
            "loss 0.306063711643219 average time 0.006950461224994342 iter num 80\n",
            "loss 0.3060457706451416 average time 0.0063979668899946775 iter num 100\n",
            "loss 0.19354447722434998 average time 0.0060052794833268305 iter num 120\n",
            "loss 0.19129589200019836 average time 0.00572158151428539 iter num 140\n",
            "loss 0.1863013505935669 average time 0.005510465581252788 iter num 160\n",
            "loss 0.15241162478923798 average time 0.0053492253166647664 iter num 180\n",
            "loss 0.2375759482383728 average time 0.005228159155005869 iter num 200\n",
            "loss 0.3298381268978119 average time 0.005123763645457819 iter num 220\n",
            "loss 0.41137880086898804 average time 0.005033318275000435 iter num 240\n",
            "loss 0.14944978058338165 average time 0.0049600181653834 iter num 260\n",
            "loss 0.15932652354240417 average time 0.004895639089293777 iter num 280\n",
            "loss 0.15333381295204163 average time 0.004875555453343926 iter num 300\n",
            "loss 0.16098552942276 average time 0.0048263316875065245 iter num 320\n",
            "loss 0.5444318652153015 average time 0.004787780032357017 iter num 340\n",
            "loss 0.5010879039764404 average time 0.0047464697777829514 iter num 360\n",
            "loss 0.14413729310035706 average time 0.004712920626323131 iter num 380\n",
            "loss 0.3566768765449524 average time 0.004680095072507129 iter num 400\n",
            "loss 0.21139375865459442 average time 0.004650004123816741 iter num 420\n",
            "loss 0.25093874335289 average time 0.004626371618193885 iter num 440\n",
            "loss 0.08496526628732681 average time 0.004600666567399537 iter num 460\n",
            "loss 0.17688263952732086 average time 0.004581544022923367 iter num 480\n",
            "loss 0.13023924827575684 average time 0.0045605451880055626 iter num 500\n",
            "loss 0.4371236264705658 average time 0.012819691349932327 iter num 20\n",
            "loss 0.5790501236915588 average time 0.0084783915249659 iter num 40\n",
            "loss 0.24858808517456055 average time 0.007002534333287258 iter num 60\n",
            "loss 0.30499327182769775 average time 0.006261606987459345 iter num 80\n",
            "loss 0.30719542503356934 average time 0.0058210221699664545 iter num 100\n",
            "loss 0.4809126555919647 average time 0.005534481991651319 iter num 120\n",
            "loss 0.549069881439209 average time 0.005322743314283279 iter num 140\n",
            "loss 0.3416160047054291 average time 0.005174246981246711 iter num 160\n",
            "loss 0.3294905424118042 average time 0.0050686930222228616 iter num 180\n",
            "loss 0.21338370442390442 average time 0.004973254855001414 iter num 200\n",
            "loss 0.28984206914901733 average time 0.004898272827280049 iter num 220\n",
            "loss 0.2248842418193817 average time 0.004834723091674201 iter num 240\n",
            "loss 0.31428560614585876 average time 0.004792728976929958 iter num 260\n",
            "loss 0.20035526156425476 average time 0.004736816471431991 iter num 280\n",
            "loss 0.23274163901805878 average time 0.004689820126673112 iter num 300\n",
            "loss 0.14954392611980438 average time 0.004662609062506817 iter num 320\n",
            "loss 0.1149064153432846 average time 0.00462657075000366 iter num 340\n",
            "loss 0.3536792993545532 average time 0.004597242233337006 iter num 360\n",
            "loss 0.26343268156051636 average time 0.004568324189480527 iter num 380\n",
            "loss 0.2692575454711914 average time 0.004542401725009313 iter num 400\n",
            "loss 0.3054847717285156 average time 0.004518781376197824 iter num 420\n",
            "loss 0.24659612774848938 average time 0.004501598638643662 iter num 440\n",
            "loss 0.27977484464645386 average time 0.004480532489135484 iter num 460\n",
            "loss 0.16133897006511688 average time 0.004463277395838835 iter num 480\n",
            "loss 0.2289743274450302 average time 0.0044484950660034885 iter num 500\n",
            "loss 0.30859118700027466 average time 0.012906179449942101 iter num 20\n",
            "loss 1.1582106351852417 average time 0.008469221599978028 iter num 40\n",
            "loss 0.9867253303527832 average time 0.0069906366833265565 iter num 60\n",
            "loss 2.2873988151550293 average time 0.006272129074983468 iter num 80\n",
            "loss 0.3043178617954254 average time 0.005832669339997665 iter num 100\n",
            "loss 2.1449038982391357 average time 0.005583357691671153 iter num 120\n",
            "loss 0.6352052688598633 average time 0.00536537655000302 iter num 140\n",
            "loss 0.7132024765014648 average time 0.0051992192312468434 iter num 160\n",
            "loss 0.5518878102302551 average time 0.005069939161103321 iter num 180\n",
            "loss 0.2473783791065216 average time 0.004978734799994982 iter num 200\n",
            "loss 0.4992173910140991 average time 0.004917054468176667 iter num 220\n",
            "loss 0.5275574326515198 average time 0.004847425454166417 iter num 240\n",
            "loss 0.37251901626586914 average time 0.004784766007688072 iter num 260\n",
            "loss 0.15906192362308502 average time 0.0047343431857127275 iter num 280\n",
            "loss 0.8759022951126099 average time 0.004691274453331668 iter num 300\n",
            "loss 0.39416468143463135 average time 0.004652762865626414 iter num 320\n",
            "loss 0.043231572955846786 average time 0.0046265622852963454 iter num 340\n",
            "loss 0.10871338099241257 average time 0.004597445275001317 iter num 360\n",
            "loss 0.2526854872703552 average time 0.004576582047372157 iter num 380\n",
            "loss 0.20572781562805176 average time 0.004565253310003073 iter num 400\n",
            "loss 0.48124176263809204 average time 0.004541917204766746 iter num 420\n",
            "loss 0.3501541018486023 average time 0.004520226097731045 iter num 440\n",
            "loss 0.2753365635871887 average time 0.004501865982614538 iter num 460\n",
            "loss 0.49289876222610474 average time 0.0044836603708394785 iter num 480\n",
            "loss 0.18132929503917694 average time 0.004469611284007442 iter num 500\n",
            "loss 0.979407012462616 average time 0.013059857900043426 iter num 20\n",
            "loss 0.9922518730163574 average time 0.008593196375011302 iter num 40\n",
            "loss 0.8379126191139221 average time 0.007074917883323905 iter num 60\n",
            "loss 1.300997018814087 average time 0.006318855074988505 iter num 80\n",
            "loss 1.348501443862915 average time 0.005870438500001001 iter num 100\n",
            "loss 2.7960381507873535 average time 0.005563769283321562 iter num 120\n",
            "loss 1.517947793006897 average time 0.0053515484714223155 iter num 140\n",
            "loss 0.5065560936927795 average time 0.005193978400001242 iter num 160\n",
            "loss 0.43688756227493286 average time 0.005082366166670404 iter num 180\n",
            "loss 0.339716374874115 average time 0.005011863810004798 iter num 200\n",
            "loss 0.33903321623802185 average time 0.004947153327266691 iter num 220\n",
            "loss 0.47399210929870605 average time 0.004879623308333218 iter num 240\n",
            "loss 0.06243351101875305 average time 0.004819332180766021 iter num 260\n",
            "loss 0.2934645712375641 average time 0.004769919707137303 iter num 280\n",
            "loss 0.3517278730869293 average time 0.00472651779666497 iter num 300\n",
            "loss 0.14556318521499634 average time 0.004694948262498144 iter num 320\n",
            "loss 0.8023731708526611 average time 0.004670306723527146 iter num 340\n",
            "loss 0.3286616802215576 average time 0.004635041208329463 iter num 360\n",
            "loss 0.1965770721435547 average time 0.004608091636835429 iter num 380\n",
            "loss 0.16054633259773254 average time 0.004584884909993434 iter num 400\n",
            "loss 0.1601083129644394 average time 0.004561111569040847 iter num 420\n",
            "loss 0.4105948209762573 average time 0.004542368627264957 iter num 440\n",
            "loss 0.13620170950889587 average time 0.004525295297816742 iter num 460\n",
            "loss 0.1311618834733963 average time 0.004509789389575758 iter num 480\n",
            "loss 0.26874181628227234 average time 0.004492151185992043 iter num 500\n",
            "loss 7.268255233764648 average time 0.012667622999947526 iter num 20\n",
            "loss 0.5216573476791382 average time 0.008446418349979012 iter num 40\n",
            "loss 0.7280447483062744 average time 0.007021754283300652 iter num 60\n",
            "loss 1.6115362644195557 average time 0.006289250412470438 iter num 80\n",
            "loss 0.5219078660011292 average time 0.005843938279967915 iter num 100\n",
            "loss 1.0205763578414917 average time 0.005545855058297396 iter num 120\n",
            "loss 4.01356840133667 average time 0.005342950835672257 iter num 140\n",
            "loss 0.4996996521949768 average time 0.005206035337457138 iter num 160\n",
            "loss 0.5157113075256348 average time 0.005075674305516663 iter num 180\n",
            "loss 0.37310922145843506 average time 0.00500561164996725 iter num 200\n",
            "loss 0.2512030303478241 average time 0.004931492940876193 iter num 220\n",
            "loss 0.2098282277584076 average time 0.004859682541634432 iter num 240\n",
            "loss 0.4876079559326172 average time 0.004795845403808786 iter num 260\n",
            "loss 0.16131708025932312 average time 0.004745655610679478 iter num 280\n",
            "loss 0.3525291681289673 average time 0.00470177390329809 iter num 300\n",
            "loss 0.4952668249607086 average time 0.004667473584346738 iter num 320\n",
            "loss 0.23364640772342682 average time 0.004643865702916414 iter num 340\n",
            "loss 0.37578126788139343 average time 0.004612601047201932 iter num 360\n",
            "loss 0.1686909794807434 average time 0.004588162936824789 iter num 380\n",
            "loss 0.1202993243932724 average time 0.004569474824983218 iter num 400\n",
            "loss 0.22510480880737305 average time 0.004561069495222606 iter num 420\n",
            "loss 0.08898046612739563 average time 0.004548029270441393 iter num 440\n",
            "loss 0.2867492139339447 average time 0.004536367078251557 iter num 460\n",
            "loss 0.20591150224208832 average time 0.004521732585407297 iter num 480\n",
            "loss 0.1349083036184311 average time 0.004504592131993377 iter num 500\n",
            "loss 1.7706434726715088 average time 0.012982223549988703 iter num 20\n",
            "loss 2.988234519958496 average time 0.008572976749996996 iter num 40\n",
            "loss 0.7482503652572632 average time 0.007078382033334189 iter num 60\n",
            "loss 0.21748198568820953 average time 0.006353512524987082 iter num 80\n",
            "loss 0.7034395933151245 average time 0.005899739159995079 iter num 100\n",
            "loss 2.3626976013183594 average time 0.0055927881166515665 iter num 120\n",
            "loss 0.9020348787307739 average time 0.005373845842843496 iter num 140\n",
            "loss 1.5116877555847168 average time 0.005252350331227262 iter num 160\n",
            "loss 0.351081907749176 average time 0.005132104594430429 iter num 180\n",
            "loss 0.3991931080818176 average time 0.005035806699993373 iter num 200\n",
            "loss 0.4921343922615051 average time 0.004954305059081063 iter num 220\n",
            "loss 0.5164743661880493 average time 0.0048841613499917 iter num 240\n",
            "loss 0.23369374871253967 average time 0.004822904380760589 iter num 260\n",
            "loss 0.28068268299102783 average time 0.004767111117850423 iter num 280\n",
            "loss 0.30586332082748413 average time 0.004720686459992672 iter num 300\n",
            "loss 0.33319464325904846 average time 0.004680985212495159 iter num 320\n",
            "loss 0.45752161741256714 average time 0.00464599675587632 iter num 340\n",
            "loss 0.28826257586479187 average time 0.004611735772215929 iter num 360\n",
            "loss 0.29035255312919617 average time 0.004582486605255853 iter num 380\n",
            "loss 0.2873935103416443 average time 0.004589943767493878 iter num 400\n",
            "loss 0.08972771465778351 average time 0.004576786373802731 iter num 420\n",
            "loss 0.14087849855422974 average time 0.004552608297720698 iter num 440\n",
            "loss 0.37498411536216736 average time 0.004529902571733186 iter num 460\n",
            "loss 0.204315185546875 average time 0.004519175552078044 iter num 480\n",
            "loss 0.15983428061008453 average time 0.0045000156939941005 iter num 500\n",
            "loss 0.15204034745693207 average time 0.012711981450024723 iter num 20\n",
            "loss 1.2598429918289185 average time 0.00844096200007698 iter num 40\n",
            "loss 0.2855018675327301 average time 0.006975627333379937 iter num 60\n",
            "loss 1.472015619277954 average time 0.006264687662530832 iter num 80\n",
            "loss 0.3933188319206238 average time 0.005819096450027246 iter num 100\n",
            "loss 0.49345219135284424 average time 0.005541349916685098 iter num 120\n",
            "loss 0.2770841121673584 average time 0.0053315868928848435 iter num 140\n",
            "loss 0.307775616645813 average time 0.005185161418776829 iter num 160\n",
            "loss 0.3925909996032715 average time 0.005066681394466994 iter num 180\n",
            "loss 0.8205580115318298 average time 0.0049667665550168745 iter num 200\n",
            "loss 0.4165889620780945 average time 0.004885309563651803 iter num 220\n",
            "loss 0.5453365445137024 average time 0.004812726825017914 iter num 240\n",
            "loss 0.24960944056510925 average time 0.004755638061556056 iter num 260\n",
            "loss 0.4565732479095459 average time 0.004712825500015632 iter num 280\n",
            "loss 0.2487095594406128 average time 0.004675639430012477 iter num 300\n",
            "loss 0.2991848289966583 average time 0.0046395330125108105 iter num 320\n",
            "loss 0.1703956127166748 average time 0.004604980470598468 iter num 340\n",
            "loss 0.23674534261226654 average time 0.004587565216674092 iter num 360\n",
            "loss 0.3216919004917145 average time 0.004558156510528246 iter num 380\n",
            "loss 0.18497450649738312 average time 0.004541895949998888 iter num 400\n",
            "loss 0.41544997692108154 average time 0.004528714004761371 iter num 420\n",
            "loss 0.3260534107685089 average time 0.004514503338637868 iter num 440\n",
            "loss 0.4399295449256897 average time 0.004494603397826881 iter num 460\n",
            "loss 0.4286571741104126 average time 0.004479426064583928 iter num 480\n",
            "loss 0.09053236246109009 average time 0.004462275450000561 iter num 500\n",
            "loss 2.3642771244049072 average time 0.012942719599982411 iter num 20\n",
            "loss 0.566745400428772 average time 0.008492433424999035 iter num 40\n",
            "loss 0.48053833842277527 average time 0.0070059019666511325 iter num 60\n",
            "loss 0.6200450658798218 average time 0.00626826324998433 iter num 80\n",
            "loss 0.871403694152832 average time 0.00587071860998094 iter num 100\n",
            "loss 2.5800886154174805 average time 0.005569606216666519 iter num 120\n",
            "loss 0.7916594743728638 average time 0.005355206664281857 iter num 140\n",
            "loss 0.3367869257926941 average time 0.005195107068749394 iter num 160\n",
            "loss 0.32375916838645935 average time 0.005070378355551636 iter num 180\n",
            "loss 1.3353815078735352 average time 0.004967361259998597 iter num 200\n",
            "loss 0.2710444927215576 average time 0.004886984936363413 iter num 220\n",
            "loss 0.6383057832717896 average time 0.004819015766670039 iter num 240\n",
            "loss 0.21161288022994995 average time 0.004768857723080636 iter num 260\n",
            "loss 0.20736104249954224 average time 0.004725295385717995 iter num 280\n",
            "loss 0.5351988077163696 average time 0.004678738626671475 iter num 300\n",
            "loss 0.8869820833206177 average time 0.004646132081253996 iter num 320\n",
            "loss 0.34694838523864746 average time 0.004617149623530114 iter num 340\n",
            "loss 0.3282977342605591 average time 0.004593674030555424 iter num 360\n",
            "loss 0.3624413013458252 average time 0.004567440352627129 iter num 380\n",
            "loss 0.5481041073799133 average time 0.004544327027492728 iter num 400\n",
            "loss 0.2672625184059143 average time 0.00452431320237511 iter num 420\n",
            "loss 0.5383956432342529 average time 0.004517402015903826 iter num 440\n",
            "loss 0.14932800829410553 average time 0.004498672941303006 iter num 460\n",
            "loss 0.2154894918203354 average time 0.004485202802082237 iter num 480\n",
            "loss 0.08842049539089203 average time 0.00446914382599698 iter num 500\n",
            "loss 0.18661358952522278 average time 0.012709651399973154 iter num 20\n",
            "loss 0.3140319883823395 average time 0.008441816149991154 iter num 40\n",
            "loss 2.780080556869507 average time 0.006993652349994287 iter num 60\n",
            "loss 0.9628123641014099 average time 0.0063085283250131855 iter num 80\n",
            "loss 0.17212724685668945 average time 0.005882574280008157 iter num 100\n",
            "loss 1.329211950302124 average time 0.005579391899993879 iter num 120\n",
            "loss 1.8350183963775635 average time 0.005363994735713667 iter num 140\n",
            "loss 0.7282658815383911 average time 0.005197836231249653 iter num 160\n",
            "loss 0.06809544563293457 average time 0.00508358215000347 iter num 180\n",
            "loss 0.4899941682815552 average time 0.004993527955004993 iter num 200\n",
            "loss 0.7459791302680969 average time 0.0049118898863732535 iter num 220\n",
            "loss 0.5315127968788147 average time 0.004840461887505398 iter num 240\n",
            "loss 0.2358773797750473 average time 0.004784890788468706 iter num 260\n",
            "loss 0.232185959815979 average time 0.004738033625007379 iter num 280\n",
            "loss 0.4397108554840088 average time 0.0046932852533351855 iter num 300\n",
            "loss 0.44330647587776184 average time 0.004660002331249302 iter num 320\n",
            "loss 0.07439568638801575 average time 0.004633818085297957 iter num 340\n",
            "loss 0.12129287421703339 average time 0.004602901225003582 iter num 360\n",
            "loss 0.1498832404613495 average time 0.004578395002637368 iter num 380\n",
            "loss 0.5167726874351501 average time 0.0045663913550026795 iter num 400\n",
            "loss 0.09078748524188995 average time 0.004541451011907936 iter num 420\n",
            "loss 0.2331935614347458 average time 0.004520905052277158 iter num 440\n",
            "loss 0.06257465481758118 average time 0.004501173213048273 iter num 460\n",
            "loss 0.1450360268354416 average time 0.004484018735423471 iter num 480\n",
            "loss 0.35754191875457764 average time 0.004469954592004797 iter num 500\n",
            "loss 0.13563373684883118 average time 0.013077742749987919 iter num 20\n",
            "loss 0.5006903409957886 average time 0.008561576749991672 iter num 40\n",
            "loss 3.282756805419922 average time 0.007062821466661262 iter num 60\n",
            "loss 1.5280122756958008 average time 0.006298288162514609 iter num 80\n",
            "loss 0.5854157209396362 average time 0.005866136660001757 iter num 100\n",
            "loss 1.036301612854004 average time 0.005595871866660218 iter num 120\n",
            "loss 0.5925618410110474 average time 0.005393738985708297 iter num 140\n",
            "loss 0.2241363823413849 average time 0.00522609111249892 iter num 160\n",
            "loss 0.4981629252433777 average time 0.005097291633332033 iter num 180\n",
            "loss 0.08684219419956207 average time 0.004999368075002622 iter num 200\n",
            "loss 0.20466618239879608 average time 0.0049217754318202755 iter num 220\n",
            "loss 0.2503211200237274 average time 0.004852662233340273 iter num 240\n",
            "loss 0.6378870606422424 average time 0.004796672300013737 iter num 260\n",
            "loss 0.18916982412338257 average time 0.004744615621442401 iter num 280\n",
            "loss 0.05864185094833374 average time 0.004701804376675985 iter num 300\n",
            "loss 0.6296731233596802 average time 0.004664032975010457 iter num 320\n",
            "loss 0.5331299901008606 average time 0.00463646265883493 iter num 340\n",
            "loss 0.2156914472579956 average time 0.004606898788896766 iter num 360\n",
            "loss 0.22499412298202515 average time 0.004579891405270294 iter num 380\n",
            "loss 0.2828245759010315 average time 0.004555940577504316 iter num 400\n",
            "loss 0.22578179836273193 average time 0.004534295392860648 iter num 420\n",
            "loss 0.17512467503547668 average time 0.004512812856825638 iter num 440\n",
            "loss 0.1753711998462677 average time 0.0044939094760949325 iter num 460\n",
            "loss 0.2581075429916382 average time 0.004479458168755931 iter num 480\n",
            "loss 0.11465346813201904 average time 0.004463770946006662 iter num 500\n",
            "loss 0.4162404239177704 average time 0.013407401500012383 iter num 20\n",
            "loss 0.9959621429443359 average time 0.008735251299992797 iter num 40\n",
            "loss 0.8518539667129517 average time 0.007239461433308255 iter num 60\n",
            "loss 1.210893154144287 average time 0.006516941087460282 iter num 80\n",
            "loss 0.9111148118972778 average time 0.0060288164699795746 iter num 100\n",
            "loss 0.1435239613056183 average time 0.005701873124993048 iter num 120\n",
            "loss 0.2767358422279358 average time 0.005470130278575068 iter num 140\n",
            "loss 0.13259878754615784 average time 0.005294660218748959 iter num 160\n",
            "loss 0.8709834814071655 average time 0.005158689644450634 iter num 180\n",
            "loss 0.21418851613998413 average time 0.00506482998501724 iter num 200\n",
            "loss 0.8924506306648254 average time 0.004972467413658292 iter num 220\n",
            "loss 0.2019042819738388 average time 0.004893151950022911 iter num 240\n",
            "loss 0.3303642272949219 average time 0.004827546450024573 iter num 260\n",
            "loss 0.31764230132102966 average time 0.00477273841072799 iter num 280\n",
            "loss 0.5733291506767273 average time 0.00472480963333813 iter num 300\n",
            "loss 0.4596232771873474 average time 0.0046816469562656945 iter num 320\n",
            "loss 0.26675090193748474 average time 0.004654832147073595 iter num 340\n",
            "loss 0.0745297446846962 average time 0.004621320800012856 iter num 360\n",
            "loss 0.3980475962162018 average time 0.004591346144743032 iter num 380\n",
            "loss 0.2227029651403427 average time 0.004565043800002968 iter num 400\n",
            "loss 0.35644280910491943 average time 0.004543028371437599 iter num 420\n",
            "loss 0.08483576774597168 average time 0.004522767786372903 iter num 440\n",
            "loss 0.0769926905632019 average time 0.0045088990630495615 iter num 460\n",
            "loss 0.13953566551208496 average time 0.0044899555916780775 iter num 480\n",
            "loss 0.08924128115177155 average time 0.0044737415680083355 iter num 500\n",
            "loss 0.17400632798671722 average time 0.012787196550107183 iter num 20\n",
            "loss 0.6571136116981506 average time 0.008405251275075899 iter num 40\n",
            "loss 0.6950134038925171 average time 0.0069682497167074565 iter num 60\n",
            "loss 1.338577151298523 average time 0.0062383919625403905 iter num 80\n",
            "loss 0.641938328742981 average time 0.005797226410013536 iter num 100\n",
            "loss 0.40155255794525146 average time 0.005516886291676807 iter num 120\n",
            "loss 1.0855711698532104 average time 0.00531689977143677 iter num 140\n",
            "loss 2.9264979362487793 average time 0.005158405593761017 iter num 160\n",
            "loss 0.6995154619216919 average time 0.0050528469500224875 iter num 180\n",
            "loss 0.2011280357837677 average time 0.00497123993002333 iter num 200\n",
            "loss 0.3170052766799927 average time 0.004904633795471951 iter num 220\n",
            "loss 0.2515106797218323 average time 0.004838206208349524 iter num 240\n",
            "loss 0.32491716742515564 average time 0.00480290601539519 iter num 260\n",
            "loss 0.1826941967010498 average time 0.004753169460708965 iter num 280\n",
            "loss 0.3917781114578247 average time 0.004709377023330793 iter num 300\n",
            "loss 0.2584075927734375 average time 0.00467021261875118 iter num 320\n",
            "loss 0.09737714380025864 average time 0.004636882132356678 iter num 340\n",
            "loss 0.5755350589752197 average time 0.00460881541944218 iter num 360\n",
            "loss 0.10408947616815567 average time 0.0045800726947355114 iter num 380\n",
            "loss 0.19034534692764282 average time 0.004558230682505382 iter num 400\n",
            "loss 0.2652704119682312 average time 0.00453704756190789 iter num 420\n",
            "loss 0.20555853843688965 average time 0.0045277078454587765 iter num 440\n",
            "loss 0.22273565828800201 average time 0.004507835699996576 iter num 460\n",
            "loss 0.2263675332069397 average time 0.0044913966041633556 iter num 480\n",
            "loss 0.052067048847675323 average time 0.004478351862002455 iter num 500\n",
            "loss 0.46762651205062866 average time 0.012844508450052671 iter num 20\n",
            "loss 0.43128126859664917 average time 0.008499997674948644 iter num 40\n",
            "loss 19.958892822265625 average time 0.007017787266598437 iter num 60\n",
            "loss 0.9603829383850098 average time 0.006273360074965239 iter num 80\n",
            "loss 0.8183924555778503 average time 0.005833789459975378 iter num 100\n",
            "loss 0.5966689586639404 average time 0.005537134566664766 iter num 120\n",
            "loss 0.9526494145393372 average time 0.005366252285713407 iter num 140\n",
            "loss 0.3716049790382385 average time 0.00521167856250031 iter num 160\n",
            "loss 0.7159844636917114 average time 0.005082886572219851 iter num 180\n",
            "loss 0.3743499517440796 average time 0.004978422860003775 iter num 200\n",
            "loss 0.6888649463653564 average time 0.004898406095464287 iter num 220\n",
            "loss 0.17263638973236084 average time 0.004832707316662284 iter num 240\n",
            "loss 0.3747231960296631 average time 0.0047711371884606 iter num 260\n",
            "loss 0.1627238392829895 average time 0.004727366471417684 iter num 280\n",
            "loss 0.30918383598327637 average time 0.004681151526662385 iter num 300\n",
            "loss 0.5046930909156799 average time 0.00464676855937114 iter num 320\n",
            "loss 0.22484014928340912 average time 0.004621030526467461 iter num 340\n",
            "loss 0.21892455220222473 average time 0.004589178949989521 iter num 360\n",
            "loss 0.21158084273338318 average time 0.0045607167763017445 iter num 380\n",
            "loss 0.2970723807811737 average time 0.004535291204983877 iter num 400\n",
            "loss 0.16481183469295502 average time 0.004511211969035382 iter num 420\n",
            "loss 0.1940043866634369 average time 0.004488626943175818 iter num 440\n",
            "loss 0.22884777188301086 average time 0.004468868865205877 iter num 460\n",
            "loss 0.25080859661102295 average time 0.00445543220415819 iter num 480\n",
            "loss 0.3284313678741455 average time 0.004448350647990083 iter num 500\n",
            "loss 0.5489267110824585 average time 0.012614764049885707 iter num 20\n",
            "loss 0.5003153085708618 average time 0.0083188088749921 iter num 40\n",
            "loss 1.8522601127624512 average time 0.006893066583370455 iter num 60\n",
            "loss 1.0143638849258423 average time 0.00621708210004499 iter num 80\n",
            "loss 6.113116264343262 average time 0.005777985440026896 iter num 100\n",
            "loss 0.6845206022262573 average time 0.005483653033335637 iter num 120\n",
            "loss 0.32406026124954224 average time 0.005283485814275731 iter num 140\n",
            "loss 0.3435637950897217 average time 0.00512513494373934 iter num 160\n",
            "loss 0.1998666524887085 average time 0.005003631827781242 iter num 180\n",
            "loss 0.2153865396976471 average time 0.004913669420006954 iter num 200\n",
            "loss 0.5066472887992859 average time 0.004833200150005723 iter num 220\n",
            "loss 0.27956801652908325 average time 0.004769965287501539 iter num 240\n",
            "loss 0.19859452545642853 average time 0.004715656734609953 iter num 260\n",
            "loss 0.24779275059700012 average time 0.004666812210725116 iter num 280\n",
            "loss 0.3145553469657898 average time 0.004628855256681466 iter num 300\n",
            "loss 0.13909628987312317 average time 0.004590542909394912 iter num 320\n",
            "loss 0.299106240272522 average time 0.004561208202951949 iter num 340\n",
            "loss 0.17935895919799805 average time 0.004534968008344246 iter num 360\n",
            "loss 0.21194404363632202 average time 0.004523180202644844 iter num 380\n",
            "loss 0.12151488661766052 average time 0.0045027763250095635 iter num 400\n",
            "loss 0.2063889354467392 average time 0.00448608470239075 iter num 420\n",
            "loss 0.7430462837219238 average time 0.0044671792909163986 iter num 440\n",
            "loss 0.20482999086380005 average time 0.004455280732617726 iter num 460\n",
            "loss 0.1824904978275299 average time 0.004442403052089124 iter num 480\n",
            "loss 0.1659889668226242 average time 0.004426491154006726 iter num 500\n",
            "loss 0.3341885507106781 average time 0.012855756149974695 iter num 20\n",
            "loss 0.8133807182312012 average time 0.008448680574974787 iter num 40\n",
            "loss 0.33717405796051025 average time 0.006987746399939473 iter num 60\n",
            "loss 0.3235974907875061 average time 0.006311615574941243 iter num 80\n",
            "loss 0.8177978992462158 average time 0.0059032524299527725 iter num 100\n",
            "loss 0.2779337167739868 average time 0.005595687858294696 iter num 120\n",
            "loss 0.5002099275588989 average time 0.005385428528526453 iter num 140\n",
            "loss 1.1554361581802368 average time 0.005230395199953363 iter num 160\n",
            "loss 0.10021547973155975 average time 0.00509922038886038 iter num 180\n",
            "loss 0.414096474647522 average time 0.004992291664966615 iter num 200\n",
            "loss 0.2918599247932434 average time 0.0049172191636113315 iter num 220\n",
            "loss 0.232270285487175 average time 0.004844904116650165 iter num 240\n",
            "loss 0.4748014509677887 average time 0.004783155949983736 iter num 260\n",
            "loss 0.34002426266670227 average time 0.0047300923785672105 iter num 280\n",
            "loss 0.4876568913459778 average time 0.004683588096668245 iter num 300\n",
            "loss 0.13468149304389954 average time 0.004644193096882532 iter num 320\n",
            "loss 0.1749161183834076 average time 0.004622405561769269 iter num 340\n",
            "loss 0.581288754940033 average time 0.004591855316678246 iter num 360\n",
            "loss 0.17844538390636444 average time 0.004562202915803937 iter num 380\n",
            "loss 0.21257615089416504 average time 0.004546511927510437 iter num 400\n",
            "loss 0.3063070774078369 average time 0.0045252586214419785 iter num 420\n",
            "loss 0.09802953898906708 average time 0.00450553459092217 iter num 440\n",
            "loss 0.21240635216236115 average time 0.004487115454359177 iter num 460\n",
            "loss 0.08009664714336395 average time 0.004469812045842522 iter num 480\n",
            "loss 0.17279605567455292 average time 0.004466814872008399 iter num 500\n",
            "loss 0.6751859784126282 average time 0.01286864994995085 iter num 20\n",
            "loss 0.31505391001701355 average time 0.00846571239997047 iter num 40\n",
            "loss 0.17673470079898834 average time 0.007132920333303142 iter num 60\n",
            "loss 0.21526500582695007 average time 0.006432585149968873 iter num 80\n",
            "loss 0.36811351776123047 average time 0.005948146329983501 iter num 100\n",
            "loss 0.29099345207214355 average time 0.0056374276499961224 iter num 120\n",
            "loss 0.31060388684272766 average time 0.005442454521426043 iter num 140\n",
            "loss 1.8523058891296387 average time 0.005268411325022271 iter num 160\n",
            "loss 0.300296425819397 average time 0.005135226311136244 iter num 180\n",
            "loss 0.2646426856517792 average time 0.005034965795025528 iter num 200\n",
            "loss 0.1826120913028717 average time 0.004948692804575992 iter num 220\n",
            "loss 0.08598430454730988 average time 0.004873224470857925 iter num 240\n",
            "loss 0.43354853987693787 average time 0.004811879842334468 iter num 260\n",
            "loss 0.2933822274208069 average time 0.004767319053592343 iter num 280\n",
            "loss 0.13060857355594635 average time 0.004731873953345105 iter num 300\n",
            "loss 0.09254428744316101 average time 0.00468846061251611 iter num 320\n",
            "loss 0.2945859432220459 average time 0.00465663282648433 iter num 340\n",
            "loss 0.19840332865715027 average time 0.004623159238899967 iter num 360\n",
            "loss 0.556148886680603 average time 0.0045923505526412845 iter num 380\n",
            "loss 0.6762049794197083 average time 0.004564050680012315 iter num 400\n",
            "loss 0.2612001895904541 average time 0.004543914957152343 iter num 420\n",
            "loss 0.6006835699081421 average time 0.004522312052286411 iter num 440\n",
            "loss 0.08760930597782135 average time 0.004507766365227523 iter num 460\n",
            "loss 0.30054956674575806 average time 0.004497464054171966 iter num 480\n",
            "loss 0.20160827040672302 average time 0.004479695378009637 iter num 500\n",
            "loss 0.4053754210472107 average time 0.01286799464996875 iter num 20\n",
            "loss 0.0871315598487854 average time 0.008473324374995173 iter num 40\n",
            "loss 0.42553627490997314 average time 0.0070004914000340555 iter num 60\n",
            "loss 3.172652006149292 average time 0.0062563985750102805 iter num 80\n",
            "loss 0.45362526178359985 average time 0.005834178019995306 iter num 100\n",
            "loss 0.4922991394996643 average time 0.005541401291672325 iter num 120\n",
            "loss 0.23671311140060425 average time 0.0053289743500045 iter num 140\n",
            "loss 1.572262167930603 average time 0.005172685112489717 iter num 160\n",
            "loss 0.2329528033733368 average time 0.005058467888870331 iter num 180\n",
            "loss 0.6096104383468628 average time 0.004976016249988788 iter num 200\n",
            "loss 0.1461939662694931 average time 0.004897870268169672 iter num 220\n",
            "loss 0.44163569808006287 average time 0.004825941204156455 iter num 240\n",
            "loss 0.4594818949699402 average time 0.004766462126907264 iter num 260\n",
            "loss 0.17583006620407104 average time 0.0047157515356957445 iter num 280\n",
            "loss 0.07549821585416794 average time 0.004689044176642104 iter num 300\n",
            "loss 0.3873891532421112 average time 0.0046502057124740755 iter num 320\n",
            "loss 0.21844366192817688 average time 0.004614567017624187 iter num 340\n",
            "loss 0.46434566378593445 average time 0.004582093769421489 iter num 360\n",
            "loss 0.6075335741043091 average time 0.0045573670052386946 iter num 380\n",
            "loss 0.27374938130378723 average time 0.004548203509971245 iter num 400\n",
            "loss 0.12187087535858154 average time 0.004533372371400089 iter num 420\n",
            "loss 0.11591484397649765 average time 0.004523746036335813 iter num 440\n",
            "loss 0.15236234664916992 average time 0.004510827393454272 iter num 460\n",
            "loss 0.17841093242168427 average time 0.004491572743726617 iter num 480\n",
            "loss 0.15902814269065857 average time 0.004472983683981511 iter num 500\n",
            "loss 2.396146774291992 average time 0.013126356950078844 iter num 20\n",
            "loss 0.43887072801589966 average time 0.008597534850014198 iter num 40\n",
            "loss 1.9695045948028564 average time 0.007112040666667477 iter num 60\n",
            "loss 0.4736717939376831 average time 0.006369183112497012 iter num 80\n",
            "loss 0.3509266674518585 average time 0.005908068460012145 iter num 100\n",
            "loss 0.5900778770446777 average time 0.005602274308360696 iter num 120\n",
            "loss 0.7987769842147827 average time 0.005389586499995857 iter num 140\n",
            "loss 0.5638531446456909 average time 0.0052227023999932955 iter num 160\n",
            "loss 0.22367367148399353 average time 0.005092534499999602 iter num 180\n",
            "loss 0.36483651399612427 average time 0.005003687030007313 iter num 200\n",
            "loss 0.298686146736145 average time 0.004920522700012952 iter num 220\n",
            "loss 0.22734177112579346 average time 0.004847721233337173 iter num 240\n",
            "loss 0.24156665802001953 average time 0.004791199761547642 iter num 260\n",
            "loss 0.18017563223838806 average time 0.004739784639299874 iter num 280\n",
            "loss 0.12790057063102722 average time 0.004703916836682159 iter num 300\n",
            "loss 0.15516223013401031 average time 0.004666625512518863 iter num 320\n",
            "loss 0.4572768211364746 average time 0.004630765132367956 iter num 340\n",
            "loss 0.5035697221755981 average time 0.004606388194451938 iter num 360\n",
            "loss 0.3807547092437744 average time 0.004587276968430543 iter num 380\n",
            "loss 0.1564963161945343 average time 0.004564977825011738 iter num 400\n",
            "loss 0.2278471291065216 average time 0.004542107883344216 iter num 420\n",
            "loss 0.15897652506828308 average time 0.004520402911372333 iter num 440\n",
            "loss 0.2249651998281479 average time 0.0045015803869674804 iter num 460\n",
            "loss 0.230444073677063 average time 0.004499411360429425 iter num 480\n",
            "loss 0.33486685156822205 average time 0.004486758736013144 iter num 500\n",
            "loss 0.728119969367981 average time 0.012909779849951519 iter num 20\n",
            "loss 1.378815770149231 average time 0.008517563224995684 iter num 40\n",
            "loss 13.197453498840332 average time 0.007021469816648581 iter num 60\n",
            "loss 1.4704397916793823 average time 0.006274089450005249 iter num 80\n",
            "loss 0.6734488010406494 average time 0.005824758290045793 iter num 100\n",
            "loss 0.4136276841163635 average time 0.005531772416694973 iter num 120\n",
            "loss 0.0853617787361145 average time 0.005321483807191336 iter num 140\n",
            "loss 0.30591535568237305 average time 0.005163415731283294 iter num 160\n",
            "loss 0.31035614013671875 average time 0.005036804166694411 iter num 180\n",
            "loss 0.3952406048774719 average time 0.004940296095032864 iter num 200\n",
            "loss 0.47019779682159424 average time 0.004859859195481807 iter num 220\n",
            "loss 0.15311257541179657 average time 0.0047938006041893765 iter num 240\n",
            "loss 0.12604324519634247 average time 0.00474130004617319 iter num 260\n",
            "loss 0.5051425099372864 average time 0.004690648442864845 iter num 280\n",
            "loss 0.5432806015014648 average time 0.00465915062000325 iter num 300\n",
            "loss 0.29144155979156494 average time 0.004619591884386409 iter num 320\n",
            "loss 0.16190257668495178 average time 0.004585567900018277 iter num 340\n",
            "loss 0.22126305103302002 average time 0.004557272291685876 iter num 360\n",
            "loss 0.17670586705207825 average time 0.004535362750019837 iter num 380\n",
            "loss 0.17659598588943481 average time 0.004510222677520232 iter num 400\n",
            "loss 0.20472180843353271 average time 0.0044954817643017685 iter num 420\n",
            "loss 0.6532678604125977 average time 0.004474416872744769 iter num 440\n",
            "loss 0.27087053656578064 average time 0.004457988232622049 iter num 460\n",
            "loss 0.11652109026908875 average time 0.0044411941375111985 iter num 480\n",
            "loss 0.18742719292640686 average time 0.004428065650015924 iter num 500\n",
            "loss 0.9730748534202576 average time 0.012857242399923053 iter num 20\n",
            "loss 0.4325307309627533 average time 0.00845793944995421 iter num 40\n",
            "loss 1.3606096506118774 average time 0.006989073166702535 iter num 60\n",
            "loss 0.2343486249446869 average time 0.00625268840001354 iter num 80\n",
            "loss 0.9984114766120911 average time 0.005820745419987361 iter num 100\n",
            "loss 0.5450731515884399 average time 0.005526430108329805 iter num 120\n",
            "loss 0.6748066544532776 average time 0.005337561600000689 iter num 140\n",
            "loss 0.2734889090061188 average time 0.00517294450000918 iter num 160\n",
            "loss 0.33661049604415894 average time 0.0050439585277874555 iter num 180\n",
            "loss 0.24561037123203278 average time 0.004942870930021854 iter num 200\n",
            "loss 0.6073988676071167 average time 0.004861663036374673 iter num 220\n",
            "loss 0.440371572971344 average time 0.004793789520851988 iter num 240\n",
            "loss 0.3860856890678406 average time 0.004736485223090243 iter num 260\n",
            "loss 0.2222607135772705 average time 0.004687916521437988 iter num 280\n",
            "loss 0.0848301574587822 average time 0.0046476724800110485 iter num 300\n",
            "loss 0.10601520538330078 average time 0.004609097215634961 iter num 320\n",
            "loss 0.29758256673812866 average time 0.004576753714715832 iter num 340\n",
            "loss 0.08176565170288086 average time 0.00454745408057483 iter num 360\n",
            "loss 0.26916074752807617 average time 0.004523560002651625 iter num 380\n",
            "loss 0.42243003845214844 average time 0.004500858582518958 iter num 400\n",
            "loss 0.20176178216934204 average time 0.0044821577047795946 iter num 420\n",
            "loss 0.24603278934955597 average time 0.004462249959105561 iter num 440\n",
            "loss 0.24438852071762085 average time 0.00444552088914782 iter num 460\n",
            "loss 0.15585580468177795 average time 0.004428316843768698 iter num 480\n",
            "loss 0.2945903539657593 average time 0.0044147962520146395 iter num 500\n"
          ],
          "name": "stdout"
        }
      ]
    },
    {
      "cell_type": "code",
      "metadata": {
        "colab": {
          "base_uri": "https://localhost:8080/",
          "height": 392
        },
        "id": "9vkPlpcxeIKF",
        "outputId": "b21cb1d8-7d35-408d-d525-f8da45bfa89d"
      },
      "source": [
        "# Train 1 stock\n",
        "from ignite.engine import Engine, Events\n",
        "from ignite.handlers import Timer\n",
        "from torch.nn import MSELoss\n",
        "from torch.optim import Adam\n",
        "from ignite.contrib.handlers.param_scheduler import CosineAnnealingScheduler\n",
        "from ignite.handlers import ModelCheckpoint\n",
        "from model import Net\n",
        "from cupy_dataset import NumbaOptionDataSet\n",
        "timer = Timer(average=True)\n",
        "#model = Net().cuda()\n",
        "loss_fn = MSELoss()\n",
        "optimizer = Adam(model.parameters(), lr=1e-3)\n",
        "# dataset = NumbaOptionDataSet(max_len=10000, number_path = 1024, batch=4800)\n",
        "dataset = NumbaOptionDataSet(max_len=500, number_path = 1024, batch=32, stocks=1)\n",
        "\n",
        "def train_update(engine, batch):\n",
        "    model.train()\n",
        "    optimizer.zero_grad()\n",
        "    x = batch[0]\n",
        "    y = batch[1]\n",
        "    y_pred = model(x)\n",
        "    loss = loss_fn(y_pred[:,0], y)\n",
        "    loss.backward()\n",
        "    optimizer.step()\n",
        "    return loss.item()\n",
        "\n",
        "trainer = Engine(train_update)\n",
        "log_interval = 20\n",
        "\n",
        "scheduler = CosineAnnealingScheduler(optimizer, 'lr', 1e-4, 1e-6, len(dataset))\n",
        "trainer.add_event_handler(Events.ITERATION_STARTED, scheduler)\n",
        "timer.attach(trainer,\n",
        "             start=Events.EPOCH_STARTED,\n",
        "             resume=Events.ITERATION_STARTED,\n",
        "             pause=Events.ITERATION_COMPLETED,\n",
        "             step=Events.ITERATION_COMPLETED)    \n",
        "@trainer.on(Events.ITERATION_COMPLETED)\n",
        "def log_training_loss(engine):\n",
        "    iter = (engine.state.iteration - 1) % len(dataset) + 1\n",
        "    if iter % log_interval == 0:\n",
        "        print('loss', engine.state.output, 'average time', timer.value(), 'iter num', iter)\n",
        "        \n",
        "trainer.run(dataset, max_epochs=20)\n",
        "\n",
        "model_save_name = 'checkpoint16.pth'\n",
        "path = F\"/content/drive/MyDrive/AFP Project/Lilian/{model_save_name}\" \n",
        "torch.save(model.state_dict(), path)"
      ],
      "execution_count": null,
      "outputs": [
        {
          "output_type": "error",
          "ename": "ModuleNotFoundError",
          "evalue": "ignored",
          "traceback": [
            "\u001b[0;31m---------------------------------------------------------------------------\u001b[0m",
            "\u001b[0;31mModuleNotFoundError\u001b[0m                       Traceback (most recent call last)",
            "\u001b[0;32m<ipython-input-1-72a7d7ee923d>\u001b[0m in \u001b[0;36m<module>\u001b[0;34m()\u001b[0m\n\u001b[1;32m      1\u001b[0m \u001b[0;31m# Train 1 stock\u001b[0m\u001b[0;34m\u001b[0m\u001b[0;34m\u001b[0m\u001b[0;34m\u001b[0m\u001b[0m\n\u001b[0;32m----> 2\u001b[0;31m \u001b[0;32mfrom\u001b[0m \u001b[0mignite\u001b[0m\u001b[0;34m.\u001b[0m\u001b[0mengine\u001b[0m \u001b[0;32mimport\u001b[0m \u001b[0mEngine\u001b[0m\u001b[0;34m,\u001b[0m \u001b[0mEvents\u001b[0m\u001b[0;34m\u001b[0m\u001b[0;34m\u001b[0m\u001b[0m\n\u001b[0m\u001b[1;32m      3\u001b[0m \u001b[0;32mfrom\u001b[0m \u001b[0mignite\u001b[0m\u001b[0;34m.\u001b[0m\u001b[0mhandlers\u001b[0m \u001b[0;32mimport\u001b[0m \u001b[0mTimer\u001b[0m\u001b[0;34m\u001b[0m\u001b[0;34m\u001b[0m\u001b[0m\n\u001b[1;32m      4\u001b[0m \u001b[0;32mfrom\u001b[0m \u001b[0mtorch\u001b[0m\u001b[0;34m.\u001b[0m\u001b[0mnn\u001b[0m \u001b[0;32mimport\u001b[0m \u001b[0mMSELoss\u001b[0m\u001b[0;34m\u001b[0m\u001b[0;34m\u001b[0m\u001b[0m\n\u001b[1;32m      5\u001b[0m \u001b[0;32mfrom\u001b[0m \u001b[0mtorch\u001b[0m\u001b[0;34m.\u001b[0m\u001b[0moptim\u001b[0m \u001b[0;32mimport\u001b[0m \u001b[0mAdam\u001b[0m\u001b[0;34m\u001b[0m\u001b[0;34m\u001b[0m\u001b[0m\n",
            "\u001b[0;31mModuleNotFoundError\u001b[0m: No module named 'ignite'",
            "",
            "\u001b[0;31m---------------------------------------------------------------------------\u001b[0;32m\nNOTE: If your import is failing due to a missing package, you can\nmanually install dependencies using either !pip or !apt.\n\nTo view examples of installing some common dependencies, click the\n\"Open Examples\" button below.\n\u001b[0;31m---------------------------------------------------------------------------\u001b[0m\n"
          ]
        }
      ]
    },
    {
      "cell_type": "markdown",
      "metadata": {
        "id": "ehmhDw8BUtLi"
      },
      "source": [
        "### Inference and Greeks"
      ]
    },
    {
      "cell_type": "markdown",
      "metadata": {
        "id": "Uiro43mOU0Ro"
      },
      "source": [
        "We can load the model parameters and use it to do inference"
      ]
    },
    {
      "cell_type": "code",
      "metadata": {
        "id": "svlu6tGTRx1F",
        "colab": {
          "base_uri": "https://localhost:8080/"
        },
        "outputId": "9b1e5265-48c0-4d41-a3f3-4a4ca40d5ece"
      },
      "source": [
        "import torch\n",
        "inputs = torch.tensor([110.0, 100.0, 120.0, 0.35, 0.1, 0.05]).cuda()\n",
        "model(inputs.float())"
      ],
      "execution_count": 11,
      "outputs": [
        {
          "output_type": "execute_result",
          "data": {
            "text/plain": [
              "tensor([18.4788], device='cuda:0', grad_fn=<AddBackward0>)"
            ]
          },
          "metadata": {
            "tags": []
          },
          "execution_count": 11
        }
      ]
    },
    {
      "cell_type": "markdown",
      "metadata": {
        "id": "M1Iy-9pWVRDO"
      },
      "source": [
        "One of the benefits of building a deep learning model is that the [Greeks](<https://en.wikipedia.org/wiki/Greeks_(finance)#First-order_Greeks>) can be easily computed. \n",
        "We just need to take advantage of the auto-grad feature in Pytorch. We can use `grad` function to compute the first order differentiation for parameters 'K, B, S0, sigma, mu, r'"
      ]
    },
    {
      "cell_type": "markdown",
      "metadata": {
        "id": "N-yQhRfYTFgc"
      },
      "source": [
        "#Gradient Function 1(Lilian)"
      ]
    },
    {
      "cell_type": "code",
      "metadata": {
        "id": "ytBZaYHKSnDu",
        "colab": {
          "base_uri": "https://localhost:8080/"
        },
        "outputId": "ce40560a-c2b8-4fe1-add2-9d27288206da"
      },
      "source": [
        "#All\n",
        "inputs = torch.tensor([[110.0, 100.0, 120.0, 0.35, 0.1, 0.05]]).cuda()\n",
        "inputs.requires_grad = True\n",
        "x = model(inputs)\n",
        "x.backward()\n",
        "first_order_gradient = inputs.grad\n",
        "first_order_gradient"
      ],
      "execution_count": 30,
      "outputs": [
        {
          "output_type": "execute_result",
          "data": {
            "text/plain": [
              "tensor([[-7.0839e-01,  1.8378e-02,  7.8065e-01,  1.6033e+01,  4.7398e+01,\n",
              "         -1.6739e+01]], device='cuda:0')"
            ]
          },
          "metadata": {
            "tags": []
          },
          "execution_count": 30
        }
      ]
    },
    {
      "cell_type": "code",
      "metadata": {
        "id": "4NXZmffAQ0Nn",
        "outputId": "358029a5-5b87-4b32-cb11-154d55aabcf2",
        "colab": {
          "base_uri": "https://localhost:8080/"
        }
      },
      "source": [
        "# Delta\n",
        "inputs = torch.tensor([[110.0, 100.0, 120.0, 0.35, 0.1, 0.05]]).cuda()\n",
        "inputs.requires_grad = True\n",
        "x = model(inputs)\n",
        "x.backward()\n",
        "first_order_gradient = inputs.grad\n",
        "first_order_gradient[0][2]"
      ],
      "execution_count": 41,
      "outputs": [
        {
          "output_type": "execute_result",
          "data": {
            "text/plain": [
              "tensor(0.7807, device='cuda:0')"
            ]
          },
          "metadata": {
            "tags": []
          },
          "execution_count": 41
        }
      ]
    },
    {
      "cell_type": "markdown",
      "metadata": {
        "id": "53NahQIETODX"
      },
      "source": [
        "#Gradient Function 2(Lilian)"
      ]
    },
    {
      "cell_type": "code",
      "metadata": {
        "id": "g8khjk06P8jR",
        "outputId": "47219131-a752-4746-a48e-7c559af0647e",
        "colab": {
          "base_uri": "https://localhost:8080/"
        }
      },
      "source": [
        "from torch import Tensor\n",
        "from torch.autograd import Variable\n",
        "from torch.autograd import grad\n",
        "from torch import nn\n",
        " \n",
        "inputs = torch.tensor([[110.0, 100.0, 120.0, 0.35, 0.1, 0.05]]).cuda()\n",
        "inputs.requires_grad = True\n",
        "x = model(inputs)\n",
        " \n",
        "# instead of using loss.backward(), use torch.autograd.grad() to compute gradients\n",
        "# https://pytorch.org/docs/stable/autograd.html#torch.autograd.grad\n",
        "loss_grads = grad(x, inputs, create_graph=True)\n",
        "drv = grad(loss_grads[0][0][1], inputs)\n",
        "drv"
      ],
      "execution_count": 42,
      "outputs": [
        {
          "output_type": "execute_result",
          "data": {
            "text/plain": [
              "(tensor([[-0.0035,  0.0006,  0.0029,  0.0160, -0.1639,  0.0216]],\n",
              "        device='cuda:0'),)"
            ]
          },
          "metadata": {
            "tags": []
          },
          "execution_count": 42
        }
      ]
    },
    {
      "cell_type": "code",
      "metadata": {
        "id": "N3qIq63kKWa5"
      },
      "source": [
        "#from dask.distributed import Client\n",
        "\n",
        "#client = Client()  # start local workers as processes\n",
        "# or\n",
        "#client = Client(processes=False)  # start local workers as threads"
      ],
      "execution_count": 17,
      "outputs": []
    },
    {
      "cell_type": "code",
      "metadata": {
        "id": "XKr91Ou3KMxt",
        "outputId": "a4b7dcbb-dda6-4999-93dc-c6fd44a3040f",
        "colab": {
          "base_uri": "https://localhost:8080/"
        }
      },
      "source": [
        "#futures = []\n",
        "#for i in range(0, 100):\n",
        "#    future = client.submit(gen_data, 5, 16, i)\n",
        "#    futures.append(future)\n",
        "#results = client.gather(futures) "
      ],
      "execution_count": 18,
      "outputs": [
        {
          "output_type": "stream",
          "text": [
            "distributed.nanny - WARNING - Restarting worker\n"
          ],
          "name": "stderr"
        }
      ]
    },
    {
      "cell_type": "markdown",
      "metadata": {
        "id": "8KeijaDDVZGd"
      },
      "source": [
        "Here we are going to plot the Delta graph:-"
      ]
    },
    {
      "cell_type": "markdown",
      "metadata": {
        "id": "skwgeVDsA_Mr"
      },
      "source": [
        "# Delta (Original One)"
      ]
    },
    {
      "cell_type": "code",
      "metadata": {
        "id": "USh3qaADSYQp",
        "colab": {
          "base_uri": "https://localhost:8080/",
          "height": 283
        },
        "outputId": "b02bae5f-2aac-45c6-aa2e-5c993a8a2c72"
      },
      "source": [
        "##Using gradient, Change only 1 S0 at a time\n",
        "%matplotlib inline\n",
        "from torch.autograd import grad\n",
        "import pylab\n",
        "import numpy as np\n",
        "def compute_delta(S):\n",
        "    inputs = torch.tensor([[110.0, 100.0, 120.0, 0.35, 0.1, 0.05]]).cuda()\n",
        "    inputs.requires_grad = True\n",
        "    x = model(inputs.float())\n",
        "    #x = model(inputs)\n",
        "    x.backward()\n",
        "    first_order_gradient = inputs.grad\n",
        "    return first_order_gradient[0]\n",
        "\n",
        "print(compute_delta(110))\n",
        "prices = np.arange(10, 200, 0.1)\n",
        "deltas = []\n",
        "for p in prices:\n",
        "    deltas.append(compute_delta(p).item())\n",
        "fig = pylab.plot(prices, deltas)\n",
        "pylab.xlabel('prices')\n",
        "pylab.ylabel('Delta')\n",
        "fig"
      ],
      "execution_count": 22,
      "outputs": [
        {
          "output_type": "stream",
          "text": [
            "tensor([-7.0839e-01,  1.8378e-02,  7.8065e-01,  1.6033e+01,  4.7398e+01,\n",
            "        -1.6739e+01], device='cuda:0')\n"
          ],
          "name": "stdout"
        },
        {
          "output_type": "error",
          "ename": "ValueError",
          "evalue": "ignored",
          "traceback": [
            "\u001b[0;31m---------------------------------------------------------------------------\u001b[0m",
            "\u001b[0;31mValueError\u001b[0m                                Traceback (most recent call last)",
            "\u001b[0;32m<ipython-input-22-da6842f5986f>\u001b[0m in \u001b[0;36m<module>\u001b[0;34m()\u001b[0m\n\u001b[1;32m     17\u001b[0m \u001b[0mdeltas\u001b[0m \u001b[0;34m=\u001b[0m \u001b[0;34m[\u001b[0m\u001b[0;34m]\u001b[0m\u001b[0;34m\u001b[0m\u001b[0;34m\u001b[0m\u001b[0m\n\u001b[1;32m     18\u001b[0m \u001b[0;32mfor\u001b[0m \u001b[0mp\u001b[0m \u001b[0;32min\u001b[0m \u001b[0mprices\u001b[0m\u001b[0;34m:\u001b[0m\u001b[0;34m\u001b[0m\u001b[0;34m\u001b[0m\u001b[0m\n\u001b[0;32m---> 19\u001b[0;31m     \u001b[0mdeltas\u001b[0m\u001b[0;34m.\u001b[0m\u001b[0mappend\u001b[0m\u001b[0;34m(\u001b[0m\u001b[0mcompute_delta\u001b[0m\u001b[0;34m(\u001b[0m\u001b[0mp\u001b[0m\u001b[0;34m)\u001b[0m\u001b[0;34m.\u001b[0m\u001b[0mitem\u001b[0m\u001b[0;34m(\u001b[0m\u001b[0;34m)\u001b[0m\u001b[0;34m)\u001b[0m\u001b[0;34m\u001b[0m\u001b[0;34m\u001b[0m\u001b[0m\n\u001b[0m\u001b[1;32m     20\u001b[0m \u001b[0mfig\u001b[0m \u001b[0;34m=\u001b[0m \u001b[0mpylab\u001b[0m\u001b[0;34m.\u001b[0m\u001b[0mplot\u001b[0m\u001b[0;34m(\u001b[0m\u001b[0mprices\u001b[0m\u001b[0;34m,\u001b[0m \u001b[0mdeltas\u001b[0m\u001b[0;34m)\u001b[0m\u001b[0;34m\u001b[0m\u001b[0;34m\u001b[0m\u001b[0m\n\u001b[1;32m     21\u001b[0m \u001b[0mpylab\u001b[0m\u001b[0;34m.\u001b[0m\u001b[0mxlabel\u001b[0m\u001b[0;34m(\u001b[0m\u001b[0;34m'prices'\u001b[0m\u001b[0;34m)\u001b[0m\u001b[0;34m\u001b[0m\u001b[0;34m\u001b[0m\u001b[0m\n",
            "\u001b[0;31mValueError\u001b[0m: only one element tensors can be converted to Python scalars"
          ]
        }
      ]
    },
    {
      "cell_type": "code",
      "metadata": {
        "colab": {
          "base_uri": "https://localhost:8080/",
          "height": 297
        },
        "id": "VGk5Hw64fMdh",
        "outputId": "b7af026c-592b-4985-9308-059f41a5669d"
      },
      "source": [
        "## Using Finite Difference, Change only 1 S0 at a time\n",
        "%matplotlib inline\n",
        "import numpy as np\n",
        "def compute_delta(S):\n",
        "    epsilon = 0.01\n",
        "    inputs1 = torch.tensor([110.0, 0.0, S, 0.35, 0.1, 0.05]).cuda()\n",
        "    inputs2 = torch.tensor([110.0, 0.0, S + epsilon, 0.35, 0.1, 0.05]).cuda()\n",
        "    delta = (model(inputs2.float()) - model(inputs1.float()))/epsilon\n",
        "    return delta\n",
        "prices = np.arange(10, 200, 0.1)\n",
        "deltas = []\n",
        "for p in prices:\n",
        "    deltas.append(compute_delta(p).item())\n",
        "fig = pylab.plot(prices, deltas)\n",
        "pylab.xlabel('prices')\n",
        "pylab.ylabel('Delta')\n",
        "fig"
      ],
      "execution_count": null,
      "outputs": [
        {
          "output_type": "execute_result",
          "data": {
            "text/plain": [
              "[<matplotlib.lines.Line2D at 0x7fc736542550>]"
            ]
          },
          "metadata": {
            "tags": []
          },
          "execution_count": 46
        },
        {
          "output_type": "display_data",
          "data": {
            "image/png": "[encoded data removed]",
            "text/plain": [
              "<Figure size 432x288 with 1 Axes>"
            ]
          },
          "metadata": {
            "tags": [],
            "needs_background": "light"
          }
        }
      ]
    },
    {
      "cell_type": "code",
      "metadata": {
        "id": "tLStvS2qCSjm",
        "colab": {
          "base_uri": "https://localhost:8080/"
        },
        "outputId": "978b240e-2546-4993-f6a4-811fc60e3823"
      },
      "source": [
        "compute_delta(110)"
      ],
      "execution_count": null,
      "outputs": [
        {
          "output_type": "execute_result",
          "data": {
            "text/plain": [
              "tensor([0.6234], device='cuda:0', grad_fn=<DivBackward0>)"
            ]
          },
          "metadata": {
            "tags": []
          },
          "execution_count": 47
        }
      ]
    },
    {
      "cell_type": "code",
      "metadata": {
        "colab": {
          "base_uri": "https://localhost:8080/",
          "height": 297
        },
        "id": "4O1I8COnUxnz",
        "outputId": "a45c9555-96c6-4f70-c44d-11d3e4e3b78e"
      },
      "source": [
        "##Using Finite Difference, Change 3 S0 at a time\n",
        "%matplotlib inline\n",
        "import numpy as np\n",
        "def compute_delta(S):\n",
        "    #epsilon = 0.01\n",
        "    epsilon = 1\n",
        "    inputs1 = torch.tensor([[110.0, 0.0, S, 0.35, 0.1, 0.05]*3]).cuda()\n",
        "    inputs2 = torch.tensor([[110.0, 0.0, S + epsilon, 0.35, 0.1, 0.05]*3]).cuda()\n",
        "    delta = (model(inputs2.float()) - model(inputs1.float()))/epsilon\n",
        "    return delta\n",
        "prices = np.arange(10, 200, 0.1)\n",
        "deltas = []\n",
        "for p in prices:\n",
        "    deltas.append(compute_delta(p).item())\n",
        "fig = pylab.plot(prices, deltas)\n",
        "pylab.xlabel('prices')\n",
        "pylab.ylabel('Delta')\n",
        "fig"
      ],
      "execution_count": null,
      "outputs": [
        {
          "output_type": "execute_result",
          "data": {
            "text/plain": [
              "[<matplotlib.lines.Line2D at 0x7f3be004e110>]"
            ]
          },
          "metadata": {
            "tags": []
          },
          "execution_count": 60
        },
        {
          "output_type": "display_data",
          "data": {
            "image/png": "[encoded data removed]",
            "text/plain": [
              "<Figure size 432x288 with 1 Axes>"
            ]
          },
          "metadata": {
            "tags": [],
            "needs_background": "light"
          }
        }
      ]
    },
    {
      "cell_type": "markdown",
      "metadata": {
        "id": "rvU4uMtEc2g5"
      },
      "source": [
        "#Lilian_New"
      ]
    },
    {
      "cell_type": "code",
      "metadata": {
        "colab": {
          "base_uri": "https://localhost:8080/",
          "height": 297
        },
        "id": "0g5yeyilcsbt",
        "outputId": "6ddcc5f5-b513-4d80-c7a7-5698e936a92f"
      },
      "source": [
        "##Using Finite Difference, Change 2 S0 at a time\n",
        "%matplotlib inline\n",
        "import numpy as np\n",
        "def compute_delta(S):\n",
        "    #epsilon = 0.01\n",
        "    epsilon = 0.01\n",
        "    inputs1 = torch.tensor([[110.0, 0.0, S, 0.35, 0.1, 0.05]*2 + ([110.0, 0.0, 110.0, 0.35, 0.1, 0.05])]).cuda()\n",
        "    inputs2 = torch.tensor([[110.0, 0.0, S + epsilon, 0.35, 0.1, 0.05]*2 + ([110.0, 0.0, 110.0, 0.35, 0.1, 0.05])]).cuda()\n",
        "    delta = (model(inputs2.float()) - model(inputs1.float()))/epsilon\n",
        "    return delta\n",
        "prices = np.arange(10, 200, 0.1)\n",
        "deltas = []\n",
        "for p in prices:\n",
        "    deltas.append(compute_delta(p).item())\n",
        "fig = pylab.plot(prices, deltas)\n",
        "pylab.xlabel('prices')\n",
        "pylab.ylabel('Delta')\n",
        "fig"
      ],
      "execution_count": null,
      "outputs": [
        {
          "output_type": "execute_result",
          "data": {
            "text/plain": [
              "[<matplotlib.lines.Line2D at 0x7f3bd3fa8790>]"
            ]
          },
          "metadata": {
            "tags": []
          },
          "execution_count": 64
        },
        {
          "output_type": "display_data",
          "data": {
            "image/png": "[encoded data removed]",
            "text/plain": [
              "<Figure size 432x288 with 1 Axes>"
            ]
          },
          "metadata": {
            "tags": [],
            "needs_background": "light"
          }
        }
      ]
    },
    {
      "cell_type": "code",
      "metadata": {
        "id": "ySrey9KzB0AF",
        "colab": {
          "base_uri": "https://localhost:8080/"
        },
        "outputId": "8ed34012-ff7a-4cc6-deb3-a8dfbf533d2c"
      },
      "source": [
        "compute_delta(110).item()  # It's not 0.5!! SOS"
      ],
      "execution_count": null,
      "outputs": [
        {
          "output_type": "execute_result",
          "data": {
            "text/plain": [
              "0.4027366638183594"
            ]
          },
          "metadata": {
            "tags": []
          },
          "execution_count": 65
        }
      ]
    },
    {
      "cell_type": "code",
      "metadata": {
        "id": "YMyME_1WCGZz",
        "colab": {
          "base_uri": "https://localhost:8080/"
        },
        "outputId": "040d79b9-bc60-4d79-b120-910e8cd91bb0"
      },
      "source": [
        "compute_delta(102).item() # Close to 0.5"
      ],
      "execution_count": null,
      "outputs": [
        {
          "output_type": "execute_result",
          "data": {
            "text/plain": [
              "0.502777099609375"
            ]
          },
          "metadata": {
            "tags": []
          },
          "execution_count": 22
        }
      ]
    },
    {
      "cell_type": "markdown",
      "metadata": {
        "id": "yNB8LPwfBMHQ"
      },
      "source": [
        "# Gamma"
      ]
    },
    {
      "cell_type": "markdown",
      "metadata": {
        "id": "oLO_5nEGVcEc"
      },
      "source": [
        "Calculating the second order derivative is easy in PyTorch too. We just need to apply the `grad` function twice. Use this mechanism, we can calculate the second order derivatives $\\frac{\\partial^2 P}{\\partial K \\partial S_0}$, $\\frac{\\partial^2 P}{\\partial B \\partial S_0}$, $\\frac{\\partial^2 P}{\\partial S_0^2}$, $\\frac{\\partial^2 P}{\\partial \\sigma \\partial S_0}$, $\\frac{\\partial^2 P}{\\partial \\mu \\partial S_0}$, $\\frac{\\partial^2 P}{\\partial r \\partial S_0}$ in the following example."
      ]
    },
    {
      "cell_type": "code",
      "metadata": {
        "id": "nGzj7A3sThZK",
        "colab": {
          "base_uri": "https://localhost:8080/"
        },
        "outputId": "2f477244-2c9a-41e4-ab0e-a6b10a608b13"
      },
      "source": [
        "import torch\n",
        "from torch import Tensor\n",
        "from torch.autograd import Variable\n",
        "from torch.autograd import grad\n",
        "from torch import nn\n",
        "\n",
        "inputs = torch.tensor([[110.0, 0.0, 110.0, 0.35, 0.1, 0.05]*3]).cuda()\n",
        "inputs.requires_grad = True\n",
        "x = model(inputs)\n",
        "\n",
        "# instead of using loss.backward(), use torch.autograd.grad() to compute gradients\n",
        "# https://pytorch.org/docs/stable/autograd.html#torch.autograd.grad\n",
        "loss_grads = grad(x, inputs, create_graph=True)\n",
        "drv = grad(loss_grads[0][0][2], inputs)\n",
        "drv"
      ],
      "execution_count": null,
      "outputs": [
        {
          "output_type": "execute_result",
          "data": {
            "text/plain": [
              "(tensor([[-1.6023e-03, -2.3967e-01,  4.9180e-03, -8.3777e-02,  4.3252e-01,\n",
              "          -3.4538e-01, -1.6144e-03, -3.7401e-01, -4.7186e-05,  1.0418e-02,\n",
              "           1.3443e-02,  9.7121e-02, -1.6194e-03,  5.3559e-01, -8.4335e-05,\n",
              "           1.6220e-02, -4.6263e-03,  2.4582e-02]], device='cuda:0'),)"
            ]
          },
          "metadata": {
            "tags": []
          },
          "execution_count": 14
        }
      ]
    },
    {
      "cell_type": "markdown",
      "metadata": {
        "id": "WJbZYtvhVmSo"
      },
      "source": [
        "Gamma is the second order differenation of `S`. We can plot the the Gamma curve as a function of the stock price"
      ]
    },
    {
      "cell_type": "code",
      "metadata": {
        "id": "3JpQa3EJToA0",
        "colab": {
          "base_uri": "https://localhost:8080/",
          "height": 296
        },
        "outputId": "62b8c7a0-f5ae-4681-ba3b-b7c386f129aa"
      },
      "source": [
        "##Using gradient, Change only 1 S0 at a time\n",
        "import pylab\n",
        "import numpy as np\n",
        "def compute_gamma(S):\n",
        "    inputs = torch.tensor([[110.0, 0.0, S, 0.35, 0.1, 0.05] + ([110.0, 0.0, 110.0, 0.35, 0.1, 0.05]*2)]).cuda()\n",
        "    inputs.requires_grad = True\n",
        "    x = model(inputs.float())\n",
        "    #x = model(inputs)\n",
        "    loss_grads = grad(x, inputs, create_graph=True)\n",
        "    drv = grad(loss_grads[0][0][2], inputs)\n",
        "    return drv[0][0][2]\n",
        "\n",
        "prices = np.arange(10, 200, 0.1)\n",
        "gammas = []\n",
        "for p in prices:\n",
        "    gammas.append(compute_gamma(p).item())\n",
        "fig2 = pylab.plot(prices, gammas)\n",
        "pylab.xlabel('prices')\n",
        "pylab.ylabel('Gamma')\n",
        "fig2"
      ],
      "execution_count": null,
      "outputs": [
        {
          "output_type": "execute_result",
          "data": {
            "text/plain": [
              "[<matplotlib.lines.Line2D at 0x7fe4801c6cd0>]"
            ]
          },
          "metadata": {
            "tags": []
          },
          "execution_count": 15
        },
        {
          "output_type": "display_data",
          "data": {
            "image/png": "[encoded data removed]",
            "text/plain": [
              "<Figure size 432x288 with 1 Axes>"
            ]
          },
          "metadata": {
            "tags": [],
            "needs_background": "light"
          }
        }
      ]
    },
    {
      "cell_type": "code",
      "metadata": {
        "id": "BsoaOyCDxQy0",
        "colab": {
          "base_uri": "https://localhost:8080/",
          "height": 296
        },
        "outputId": "fa4f517b-b341-4643-cea4-0ee905784f40"
      },
      "source": [
        "##Using Finite Difference, Change only 1 S0 at a time\n",
        "%matplotlib inline\n",
        "import numpy as np\n",
        "def compute_gamma(S):\n",
        "    epsilon = 0.5\n",
        "    inputs1 = torch.tensor([[110.0, 0.0, S, 0.35, 0.1, 0.05]  + ([110.0, 0.0, 110.0, 0.35, 0.1, 0.05]*2)]).cuda()\n",
        "    inputs2 = torch.tensor([[110.0, 0.0, S + epsilon, 0.35, 0.1, 0.05]  + ([110.0, 0.0, 110.0, 0.35, 0.1, 0.05]*2)]).cuda()\n",
        "    inputs3 = torch.tensor([[110.0, 0.0, S - epsilon, 0.35, 0.1, 0.05]  + ([110.0, 0.0, 110.0, 0.35, 0.1, 0.05]*2)]).cuda()\n",
        "    gamma = (model(inputs2.float()) - 2*model(inputs1.float()) + model(inputs3.float()))/(epsilon**2)\n",
        "    return gamma\n",
        "prices = np.arange(10, 200, 0.1)\n",
        "gammas = []\n",
        "for p in prices:\n",
        "    gammas.append(compute_gamma(p).item())\n",
        "fig = pylab.plot(prices, gammas)\n",
        "pylab.xlabel('prices')\n",
        "pylab.ylabel('Gamma')\n",
        "fig"
      ],
      "execution_count": null,
      "outputs": [
        {
          "output_type": "execute_result",
          "data": {
            "text/plain": [
              "[<matplotlib.lines.Line2D at 0x7fe4801b8450>]"
            ]
          },
          "metadata": {
            "tags": []
          },
          "execution_count": 16
        },
        {
          "output_type": "display_data",
          "data": {
            "image/png": "[encoded data removed]",
            "text/plain": [
              "<Figure size 432x288 with 1 Axes>"
            ]
          },
          "metadata": {
            "tags": [],
            "needs_background": "light"
          }
        }
      ]
    },
    {
      "cell_type": "code",
      "metadata": {
        "colab": {
          "base_uri": "https://localhost:8080/",
          "height": 296
        },
        "id": "aOsXgOwWZ_ru",
        "outputId": "0e3893c5-a64c-4187-d350-b01c53751003"
      },
      "source": [
        "##Using Finite Difference, Change 3 S0 at a time\n",
        "%matplotlib inline\n",
        "import numpy as np\n",
        "def compute_gamma(S):\n",
        "    epsilon = 0.5\n",
        "    inputs1 = torch.tensor([[110.0, 0.0, S, 0.35, 0.1, 0.05]*3]).cuda()\n",
        "    inputs2 = torch.tensor([[110.0, 0.0, S + epsilon, 0.35, 0.1, 0.05]*3]).cuda()\n",
        "    inputs3 = torch.tensor([[110.0, 0.0, S - epsilon, 0.35, 0.1, 0.05]*3]).cuda()\n",
        "    gamma = (model(inputs2.float()) - 2*model(inputs1.float()) + model(inputs3.float()))/(epsilon**2)\n",
        "    return gamma\n",
        "prices = np.arange(10, 200, 0.1)\n",
        "gammas = []\n",
        "for p in prices:\n",
        "    gammas.append(compute_gamma(p).item())\n",
        "fig = pylab.plot(prices, gammas)\n",
        "pylab.xlabel('prices')\n",
        "pylab.ylabel('Gamma')\n",
        "fig"
      ],
      "execution_count": null,
      "outputs": [
        {
          "output_type": "execute_result",
          "data": {
            "text/plain": [
              "[<matplotlib.lines.Line2D at 0x7fe4801208d0>]"
            ]
          },
          "metadata": {
            "tags": []
          },
          "execution_count": 17
        },
        {
          "output_type": "display_data",
          "data": {
            "image/png": "[encoded data removed]",
            "text/plain": [
              "<Figure size 432x288 with 1 Axes>"
            ]
          },
          "metadata": {
            "tags": [],
            "needs_background": "light"
          }
        }
      ]
    },
    {
      "cell_type": "markdown",
      "metadata": {
        "id": "67lca2xrBh9a"
      },
      "source": [
        "# Vega"
      ]
    },
    {
      "cell_type": "code",
      "metadata": {
        "id": "muozc-hzhSGA",
        "colab": {
          "base_uri": "https://localhost:8080/",
          "height": 296
        },
        "outputId": "a141b74b-9e67-4f25-a3ae-389e6a42961e"
      },
      "source": [
        "##Using gradient, Change only 1 S0 at a time\n",
        "# vega\n",
        "%matplotlib inline\n",
        "import numpy as np\n",
        "def compute_vega(S):\n",
        "    epsilon = 0.5\n",
        "    inputs1 = torch.tensor([[110.0, 0.0, S, 0.35, 0.1, 0.05] + ([110.0, 0.0, 110.0, 0.35, 0.1, 0.05]*2)]).cuda()\n",
        "    inputs2 = torch.tensor([[110.0, 0.0, S, 0.35 + epsilon, 0.1, 0.05] + ([110.0, 0.0, 110.0, 0.35, 0.1, 0.05]*2)]).cuda()\n",
        "    vega = (model(inputs2.float()) - model(inputs1.float()))/epsilon\n",
        "    return vega\n",
        "prices = np.arange(10, 200, 0.1)\n",
        "vegas = []\n",
        "for p in prices:\n",
        "    vegas.append(compute_vega(p).item())\n",
        "fig = pylab.plot(prices, vegas)\n",
        "pylab.xlabel('prices')\n",
        "pylab.ylabel('Vega')\n",
        "fig"
      ],
      "execution_count": null,
      "outputs": [
        {
          "output_type": "execute_result",
          "data": {
            "text/plain": [
              "[<matplotlib.lines.Line2D at 0x7fb166b0d190>]"
            ]
          },
          "metadata": {
            "tags": []
          },
          "execution_count": 20
        },
        {
          "output_type": "display_data",
          "data": {
            "image/png": "[encoded data removed]",
            "text/plain": [
              "<Figure size 432x288 with 1 Axes>"
            ]
          },
          "metadata": {
            "tags": [],
            "needs_background": "light"
          }
        }
      ]
    },
    {
      "cell_type": "code",
      "metadata": {
        "colab": {
          "base_uri": "https://localhost:8080/",
          "height": 296
        },
        "id": "0KATxBCAdlFt",
        "outputId": "8ca0307a-932f-4b83-b3ee-976d9ddf74b2"
      },
      "source": [
        "##Using Finite Difference, Change 3 S0 at a timev\n",
        "# vega\n",
        "%matplotlib inline\n",
        "import numpy as np\n",
        "def compute_vega(S):\n",
        "    epsilon = 0.5\n",
        "    inputs1 = torch.tensor([[110.0, 0.0, S, 0.35, 0.1, 0.05]*3]).cuda()\n",
        "    inputs2 = torch.tensor([[110.0, 0.0, S, 0.35 + epsilon, 0.1, 0.05]*3]).cuda()\n",
        "    vega = (model(inputs2.float()) - model(inputs1.float()))/epsilon\n",
        "    return vega\n",
        "prices = np.arange(10, 200, 0.1)\n",
        "vegas = []\n",
        "for p in prices:\n",
        "    vegas.append(compute_vega(p).item())\n",
        "fig = pylab.plot(prices, vegas)\n",
        "pylab.xlabel('prices')\n",
        "pylab.ylabel('Vega')\n",
        "fig"
      ],
      "execution_count": null,
      "outputs": [
        {
          "output_type": "execute_result",
          "data": {
            "text/plain": [
              "[<matplotlib.lines.Line2D at 0x7fe4800b3c90>]"
            ]
          },
          "metadata": {
            "tags": []
          },
          "execution_count": 18
        },
        {
          "output_type": "display_data",
          "data": {
            "image/png": "[encoded data removed]",
            "text/plain": [
              "<Figure size 432x288 with 1 Axes>"
            ]
          },
          "metadata": {
            "tags": [],
            "needs_background": "light"
          }
        }
      ]
    },
    {
      "cell_type": "markdown",
      "metadata": {
        "id": "Rj7NlW6GVqSA"
      },
      "source": [
        "[Implied volatility](https://en.wikipedia.org/wiki/Implied_volatility) is the forecasted volatility of the underlying asset based on the quoted prices of the option. It is the reverse mapping of price to the option parameter given the model which is hard to do with the Monte Carlo simulation approach. But if we have the deep learning pricing model, it is an easy task. We can first plot the relationship between volatility and the option price"
      ]
    },
    {
      "cell_type": "code",
      "metadata": {
        "id": "4yrCw5UNT07t",
        "colab": {
          "base_uri": "https://localhost:8080/",
          "height": 296
        },
        "outputId": "190d5877-924a-44ce-ecdb-50d5438767ae"
      },
      "source": [
        "import pylab\n",
        "import numpy as np\n",
        "def compute_price(sigma):\n",
        "    inputs = torch.tensor([[110.0, 0.0, 110.0, sigma, 0.1, 0.05] + ([110.0, 0.0, 110.0, 0.35, 0.1, 0.05]*2)]).cuda()\n",
        "    x = model(inputs.float())\n",
        "    #x = model(inputs)\n",
        "    return x.item()\n",
        "sigmas = np.arange(0, 0.5, 0.1)\n",
        "prices = []\n",
        "for s in sigmas:\n",
        "    prices.append(compute_price(s))\n",
        "fig3 = pylab.plot(sigmas, prices)\n",
        "pylab.xlabel('Sigma')\n",
        "pylab.ylabel('Price')\n",
        "fig3"
      ],
      "execution_count": null,
      "outputs": [
        {
          "output_type": "execute_result",
          "data": {
            "text/plain": [
              "[<matplotlib.lines.Line2D at 0x7f21eccb09d0>]"
            ]
          },
          "metadata": {
            "tags": []
          },
          "execution_count": 34
        },
        {
          "output_type": "display_data",
          "data": {
            "image/png": "[encoded data removed]",
            "text/plain": [
              "<Figure size 432x288 with 1 Axes>"
            ]
          },
          "metadata": {
            "tags": [],
            "needs_background": "light"
          }
        }
      ]
    },
    {
      "cell_type": "markdown",
      "metadata": {
        "id": "EU25Cj29VtCa"
      },
      "source": [
        "Given the prices `P`, the implied volatility is the root of the function `compute_price`. We can use bisection to find the root."
      ]
    },
    {
      "cell_type": "code",
      "metadata": {
        "id": "ddHnwm_zUBYD",
        "colab": {
          "base_uri": "https://localhost:8080/",
          "height": 236
        },
        "outputId": "3b564d6a-8e79-48a5-d27e-80d7550f8e72"
      },
      "source": [
        "def bisection_root(small, large, fun, target, EPS=1e-6):\n",
        "    if fun(large) - target < 0:\n",
        "        print('upper bound is too small')\n",
        "        return None\n",
        "    if fun(small) - target > 0:\n",
        "        print('lower bound is too large')\n",
        "        return None\n",
        "    while large - small > EPS:\n",
        "        mid = (large + small) / 2.0\n",
        "        if fun(mid) - target >= 0:\n",
        "            large = mid\n",
        "        else:\n",
        "            small = mid\n",
        "    mid = (large + small) / 2.0\n",
        "    return mid, abs(fun(mid) - target)\n",
        "quoted_price = 16.0\n",
        "sigma, err = bisection_root(0, 0.5, compute_price, quoted_price)\n",
        "print('implied volativity', sigma, 'error', err)     "
      ],
      "execution_count": null,
      "outputs": [
        {
          "output_type": "stream",
          "text": [
            "upper bound is too small\n"
          ],
          "name": "stdout"
        },
        {
          "output_type": "error",
          "ename": "TypeError",
          "evalue": "ignored",
          "traceback": [
            "\u001b[0;31m---------------------------------------------------------------------------\u001b[0m",
            "\u001b[0;31mTypeError\u001b[0m                                 Traceback (most recent call last)",
            "\u001b[0;32m<ipython-input-14-ade689496c71>\u001b[0m in \u001b[0;36m<module>\u001b[0;34m()\u001b[0m\n\u001b[1;32m     15\u001b[0m     \u001b[0;32mreturn\u001b[0m \u001b[0mmid\u001b[0m\u001b[0;34m,\u001b[0m \u001b[0mabs\u001b[0m\u001b[0;34m(\u001b[0m\u001b[0mfun\u001b[0m\u001b[0;34m(\u001b[0m\u001b[0mmid\u001b[0m\u001b[0;34m)\u001b[0m \u001b[0;34m-\u001b[0m \u001b[0mtarget\u001b[0m\u001b[0;34m)\u001b[0m\u001b[0;34m\u001b[0m\u001b[0;34m\u001b[0m\u001b[0m\n\u001b[1;32m     16\u001b[0m \u001b[0mquoted_price\u001b[0m \u001b[0;34m=\u001b[0m \u001b[0;36m16.0\u001b[0m\u001b[0;34m\u001b[0m\u001b[0;34m\u001b[0m\u001b[0m\n\u001b[0;32m---> 17\u001b[0;31m \u001b[0msigma\u001b[0m\u001b[0;34m,\u001b[0m \u001b[0merr\u001b[0m \u001b[0;34m=\u001b[0m \u001b[0mbisection_root\u001b[0m\u001b[0;34m(\u001b[0m\u001b[0;36m0\u001b[0m\u001b[0;34m,\u001b[0m \u001b[0;36m0.5\u001b[0m\u001b[0;34m,\u001b[0m \u001b[0mcompute_price\u001b[0m\u001b[0;34m,\u001b[0m \u001b[0mquoted_price\u001b[0m\u001b[0;34m)\u001b[0m\u001b[0;34m\u001b[0m\u001b[0;34m\u001b[0m\u001b[0m\n\u001b[0m\u001b[1;32m     18\u001b[0m \u001b[0mprint\u001b[0m\u001b[0;34m(\u001b[0m\u001b[0;34m'implied volativity'\u001b[0m\u001b[0;34m,\u001b[0m \u001b[0msigma\u001b[0m\u001b[0;34m,\u001b[0m \u001b[0;34m'error'\u001b[0m\u001b[0;34m,\u001b[0m \u001b[0merr\u001b[0m\u001b[0;34m)\u001b[0m\u001b[0;34m\u001b[0m\u001b[0;34m\u001b[0m\u001b[0m\n",
            "\u001b[0;31mTypeError\u001b[0m: cannot unpack non-iterable NoneType object"
          ]
        }
      ]
    }
  ]
}