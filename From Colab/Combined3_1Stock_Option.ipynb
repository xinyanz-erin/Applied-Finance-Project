{
  "nbformat": 4,
  "nbformat_minor": 0,
  "metadata": {
    "kernelspec": {
      "display_name": "Python 3",
      "language": "python",
      "name": "python3"
    },
    "language_info": {
      "codemirror_mode": {
        "name": "ipython",
        "version": 3
      },
      "file_extension": ".py",
      "mimetype": "text/x-python",
      "name": "python",
      "nbconvert_exporter": "python",
      "pygments_lexer": "ipython3",
      "version": "3.6.9"
    },
    "colab": {
      "name": "Combined.ipynb",
      "provenance": [],
      "collapsed_sections": [
        "NwN6aLFDnwiy",
        "dBOv_RiBsCWa",
        "u2_89jOknwjH"
      ],
      "include_colab_link": true
    },
    "accelerator": "GPU"
  },
  "cells": [
    {
      "cell_type": "markdown",
      "metadata": {
        "id": "view-in-github",
        "colab_type": "text"
      },
      "source": [
        "<a href=\"https://colab.research.google.com/github/xinyanz-erin/Applied-Finance-Project/blob/Lilian/From%20Colab/Combined3_1Stock_Option.ipynb\" target=\"_parent\"><img src=\"https://colab.research.google.com/assets/colab-badge.svg\" alt=\"Open In Colab\"/></a>"
      ]
    },
    {
      "cell_type": "code",
      "metadata": {
        "id": "gCR6hhw5Xq_R"
      },
      "source": [
        "import warnings\n",
        "warnings.filterwarnings('ignore')"
      ],
      "execution_count": 19,
      "outputs": []
    },
    {
      "cell_type": "code",
      "metadata": {
        "colab": {
          "base_uri": "https://localhost:8080/"
        },
        "id": "gSxOZk3ls2XQ",
        "outputId": "a06e5dcc-6e47-41da-c53e-7a39df363d06"
      },
      "source": [
        "!curl https://colab.chainer.org/install |sh -\n",
        "import cupy"
      ],
      "execution_count": 20,
      "outputs": [
        {
          "output_type": "stream",
          "text": [
            "  % Total    % Received % Xferd  Average Speed   Time    Time     Time  Current\n",
            "                                 Dload  Upload   Total   Spent    Left  Speed\n",
            "\r  0     0    0     0    0     0      0      0 --:--:-- --:--:-- --:--:--     0\r100  1580  100  1580    0     0  25079      0 --:--:-- --:--:-- --:--:-- 25079\n",
            "+ apt -y -q install cuda-libraries-dev-10-0\n",
            "Reading package lists...\n",
            "Building dependency tree...\n",
            "Reading state information...\n",
            "cuda-libraries-dev-10-0 is already the newest version (10.0.130-1).\n",
            "0 upgraded, 0 newly installed, 0 to remove and 40 not upgraded.\n",
            "+ pip install -q cupy-cuda100  chainer \n",
            "+ set +ex\n",
            "Installation succeeded!\n"
          ],
          "name": "stdout"
        }
      ]
    },
    {
      "cell_type": "markdown",
      "metadata": {
        "id": "NwN6aLFDnwiy"
      },
      "source": [
        "### Deep Learning Barrier Option\n",
        "\n",
        "We used Numba and CuPy in the previous notebook to run Monte Carlo simulation to determine the price of the Asian Barrier option. A Monte Carlo simulation needs millions of paths to get an accurate answer which is computationally intensive. [Ryan et al (2018)](https://arxiv.org/abs/1809.02233) showed that a deep learning model can be trained to value derivatives. The deep learning model is accurate and very fast, capable of producing valuations a million times faster than traditional models. In the this notebook, we will use a fully connected network to learn the pricing mode of the Asian Barrier option. Monte Carlo simulation is used as pricing ground truth for the training. We use the same Asian Barrier Option model as last notebook with parameters listed as following:\n",
        "\n",
        "```\n",
        "T - Maturity (yrs.)\n",
        "S - Spot (usd)\n",
        "K - Strike (usd)\n",
        "sigma - Volatility (per.)\n",
        "r - Risk Free Rate (per.)\n",
        "mu - Stock Drift Rate (per.)\n",
        "B - Barrier (usd)\n",
        "```\n",
        "\n",
        "### Batched Data generation\n",
        "\n",
        "The dataset is an important part of the Deep learning training. We will modify the previous single Asian Barrier Option pricing code to handle a batch of Barrier Option pricing. "
      ]
    },
    {
      "cell_type": "code",
      "metadata": {
        "id": "cHYrh4iYfP-n",
        "cellView": "form"
      },
      "source": [
        "#@title\n",
        "###Test: Judy's new X code\n",
        "#N_STOCKS = 3"
      ],
      "execution_count": null,
      "outputs": []
    },
    {
      "cell_type": "code",
      "metadata": {
        "id": "hy7qGwT0jv4A",
        "colab": {
          "base_uri": "https://localhost:8080/"
        },
        "cellView": "form",
        "outputId": "ac958b42-0bd5-4600-d2b8-246276885438"
      },
      "source": [
        "#@title\n",
        "#X = cupy.array([])\n",
        "#for i in range(0,N_STOCKS):\n",
        "  #X =  cupy.concatenate((X,cupy.array([1,1]), cupy.random.rand(3),cupy.array([1])))\n",
        "#X = X.reshape(N_STOCKS,6)\n",
        "#X"
      ],
      "execution_count": null,
      "outputs": [
        {
          "output_type": "execute_result",
          "data": {
            "text/plain": [
              "array([[1.        , 1.        , 0.05103263, 0.0071633 , 0.52167781,\n",
              "        1.        ],\n",
              "       [1.        , 1.        , 0.64857557, 0.32324551, 0.39745689,\n",
              "        1.        ],\n",
              "       [1.        , 1.        , 0.82301291, 0.46666519, 0.8391176 ,\n",
              "        1.        ]])"
            ]
          },
          "metadata": {
            "tags": []
          },
          "execution_count": 4
        }
      ]
    },
    {
      "cell_type": "code",
      "metadata": {
        "id": "9OHtAXC8hVae",
        "colab": {
          "base_uri": "https://localhost:8080/"
        },
        "cellView": "form",
        "outputId": "264cef2d-1ead-43b8-e5fd-d8a131f38fda"
      },
      "source": [
        "#@title\n",
        "#X = X * ((cupy.array([200.0, 0, 200.0, 0.4, 0.2, 0.2] * N_STOCKS, dtype = cupy.float32)).reshape(N_STOCKS, 6))\n",
        "#X"
      ],
      "execution_count": null,
      "outputs": [
        {
          "output_type": "execute_result",
          "data": {
            "text/plain": [
              "array([[2.00000000e+02, 0.00000000e+00, 1.02065252e+01, 2.86532070e-03,\n",
              "        1.04335564e-01, 2.00000003e-01],\n",
              "       [2.00000000e+02, 0.00000000e+00, 1.29715113e+02, 1.29298207e-01,\n",
              "        7.94913799e-02, 2.00000003e-01],\n",
              "       [2.00000000e+02, 0.00000000e+00, 1.64602581e+02, 1.86666078e-01,\n",
              "        1.67823523e-01, 2.00000003e-01]])"
            ]
          },
          "metadata": {
            "tags": []
          },
          "execution_count": 5
        }
      ]
    },
    {
      "cell_type": "markdown",
      "metadata": {
        "id": "TY_9g3tbdLiY"
      },
      "source": [
        "# Train(Erin Version)"
      ]
    },
    {
      "cell_type": "code",
      "metadata": {
        "colab": {
          "base_uri": "https://localhost:8080/"
        },
        "id": "qBxT9Eida-c_",
        "outputId": "e0152103-00b9-4b2d-b360-4020275f7e60"
      },
      "source": [
        "################################# TEST ########################################\n",
        "%%writefile cupy_dataset.py\n",
        "\n",
        "import numba\n",
        "from numba import cuda\n",
        "import random\n",
        "import cupy\n",
        "import numpy as np\n",
        "import math\n",
        "import time\n",
        "import torch\n",
        "cupy.cuda.set_allocator(None)\n",
        "from torch.utils.dlpack import from_dlpack\n",
        "\n",
        "@cuda.jit\n",
        "def batch_barrier_option(d_s, T, K, B, S0, sigma, mu, r, d_normals, N_STEPS, N_PATHS, N_BATCH):\n",
        "    # ii - overall thread index\n",
        "    ii = cuda.threadIdx.x + cuda.blockIdx.x * cuda.blockDim.x\n",
        "    stride = cuda.gridDim.x * cuda.blockDim.x\n",
        "    tmp3 = math.sqrt(T/N_STEPS)\n",
        "    for i in range(ii, N_PATHS * N_BATCH, stride):\n",
        "        batch_id = i // N_PATHS\n",
        "        path_id = i % N_PATHS\n",
        "        tmp1 = mu[batch_id]*T/N_STEPS\n",
        "        tmp2 = math.exp(-r[batch_id]*T)\n",
        "        running_average = 0.0\n",
        "        s_curr = S0[batch_id]\n",
        "        for n in range(N_STEPS):\n",
        "            s_curr += tmp1 * s_curr + sigma[batch_id]*s_curr*tmp3*d_normals[path_id + batch_id * N_PATHS + n * N_PATHS * N_BATCH] # stock price\n",
        "            running_average = running_average + 1.0/(n + 1.0) * (s_curr - running_average) # average of the path\n",
        "            if i==0 and batch_id == 2:\n",
        "                print(s_curr)\n",
        "            if running_average <= B[batch_id]: # if reach barrier, drop out the path\n",
        "                break\n",
        "        payoff = running_average - K[batch_id] if running_average > K[batch_id] else 0\n",
        "        d_s[i] = tmp2 * payoff\n",
        "\n",
        "class NumbaOptionDataSet(object):\n",
        "    \n",
        "    def __init__(self, max_len=10, number_path = 1000, batch=2, threads=512, seed=15, stocks=3):  # 3 stocks\n",
        "        self.num = 0\n",
        "        self.max_length = max_len\n",
        "        self.N_PATHS = number_path\n",
        "        self.N_STEPS = 365\n",
        "        self.N_BATCH = batch\n",
        "        self.N_STOCKS = stocks\n",
        "        self.T = np.float32(1.0)\n",
        "        self.output = cupy.zeros(self.N_STOCKS*self.N_PATHS, dtype=cupy.float32) \n",
        "        self.number_of_blocks = (self.N_PATHS * self.N_STOCKS - 1) // threads + 1\n",
        "        self.number_of_threads = threads\n",
        "        cupy.random.seed(seed)\n",
        "        \n",
        "    def __len__(self):\n",
        "        return self.max_length\n",
        "        \n",
        "    def __iter__(self):\n",
        "        self.num = 0\n",
        "        return self\n",
        "    \n",
        "    def __next__(self):\n",
        "        if self.num > self.max_length:\n",
        "            raise StopIteration\n",
        "        \n",
        "        Y = cupy.zeros(self.N_BATCH, dtype=cupy.float32)\n",
        "        paras = cupy.zeros((self.N_BATCH, self.N_STOCKS * 6), dtype = cupy.float32)\n",
        "        for op in range(self.N_BATCH):\n",
        "          \n",
        "          X = cupy.array([])\n",
        "          K_rand = cupy.random.rand(1)[0]\n",
        "          B_rand = cupy.random.rand(1)[0]\n",
        "          r_rand = cupy.random.rand(1)[0]\n",
        "          for i in range(0,self.N_STOCKS):\n",
        "            X =  cupy.concatenate((X,cupy.array([K_rand,B_rand]), cupy.random.rand(3),cupy.array([r_rand]))) #[K,B,S0,sigma,mu,r], K B r are shared\n",
        "          X = X.reshape(self.N_STOCKS,6)\n",
        "          X = X * ((cupy.array([200.0, 0.1, 200.0, 0.4, 0.2, 0.2] * self.N_STOCKS, dtype = cupy.float32)).reshape(self.N_STOCKS, 6))\n",
        "          #X = cupy.random.rand(6 * self.N_STOCKS, dtype=cupy.float32)\n",
        "          #X = 0.9 + cupy.random.rand(6 * self.N_STOCKS, dtype=cupy.float32)*0.1\n",
        "          # scale the [0, 1) random numbers to the correct range for each of the option parameters\n",
        "          #X = (X * cupy.array([200.0, 0.99, 200.0, 0.4, 0.2, 0.2] * self.N_STOCKS, dtype = cupy.float32)).reshape(self.N_STOCKS, 6)\n",
        "\n",
        "          # make sure the Barrier is smaller than the Strike price\n",
        "          # X[:, 1] = X[:, 0] * X[:, 1]\n",
        "          for i in range(self.N_STOCKS):\n",
        "            paras[op,i*6:(i+1)*6] = X[i,:]\n",
        "\n",
        "          stocks_randoms_mean = cupy.zeros(self.N_STOCKS, dtype = cupy.float32)\n",
        "          rho = cupy.random.normal(0, 1, self.N_STOCKS, dtype = cupy.float32)\n",
        "\n",
        "          #stocks_randoms_cov = cupy.ones((self.N_STOCKS, self.N_STOCKS), dtype = cupy.float32)\n",
        "          #cupy.fill_diagonal(stocks_randoms_cov, rho)\n",
        "\n",
        "          #stocks_randoms_cov = (-0.99 + cupy.random.rand(self.N_STOCKS*self.N_STOCKS, dtype=cupy.float32)*2*0.99).reshape(self.N_STOCKS,self.N_STOCKS)\n",
        "          stocks_randoms_cov = cupy.array([1] * self.N_STOCKS*self.N_STOCKS, dtype = cupy.float32).reshape(self.N_STOCKS,self.N_STOCKS)  #Covariance\n",
        "          cupy.fill_diagonal(stocks_randoms_cov, 1)\n",
        "\n",
        "          num_of_randoms_each_stock = self.N_PATHS * self.N_STEPS\n",
        "          #randoms_gpu = cupy.random.multivariate_normal(stocks_randoms_mean, stocks_randoms_cov,\n",
        "          #                                              num_of_randoms_each_stock, dtype=cupy.float32)\n",
        "          randoms_gpu = cupy.random.normal(num_of_randoms_each_stock, dtype=cupy.float32)\n",
        "          #b1_r = randoms_gpu[:,0]\n",
        "          #b2_r = randoms_gpu[:,1]\n",
        "          #randoms = cupy.zeros(self.N_STOCKS * self.N_PATHS * self.N_STEPS, dtype=cupy.float32)\n",
        "          #interval = int((self.N_PATHS * self.N_STEPS * self.N_STOCKS) / self.N_PATHS)\n",
        "          #for i in range(interval):\n",
        "           # if i % 2 == 0:\n",
        "            #    ind = int(i/2)\n",
        "            #    randoms[i*self.N_PATHS:(i+1)*self.N_PATHS] = b1_r[ind:(ind+self.N_PATHS)]\n",
        "            #else:\n",
        "            #    ind = int(i//2)\n",
        "            #    randoms[i*self.N_PATHS:(i+1)*self.N_PATHS] = b2_r[ind:(ind+self.N_PATHS)]\n",
        "\n",
        "          randoms = cupy.random.normal(0, 1, self.N_STOCKS * self.N_PATHS * self.N_STEPS, dtype=cupy.float32)\n",
        "          batch_barrier_option[(self.number_of_blocks,), (self.number_of_threads,)](self.output, self.T, X[:, 0], \n",
        "                                X[:, 1], X[:, 2], X[:, 3], X[:, 4], X[:, 5], randoms, self.N_STEPS, self.N_PATHS, self.N_STOCKS)\n",
        "          \n",
        "          o = self.output.reshape(self.N_STOCKS, self.N_PATHS)\n",
        "          Y[op] = o.mean(axis = 0).mean()\n",
        "\n",
        "        self.num += 1\n",
        "        return (from_dlpack(paras.toDlpack()), from_dlpack(Y.toDlpack()))\n",
        "\n",
        "\n",
        "\n",
        "# ds = NumbaOptionDataSet(10, number_path=100000, batch=3, seed=random.randint(0,100), stocks=5)\n",
        "# for i in ds:\n",
        "#     print(i[0])\n",
        "################################# TEST ########################################"
      ],
      "execution_count": 21,
      "outputs": [
        {
          "output_type": "stream",
          "text": [
            "Overwriting cupy_dataset.py\n"
          ],
          "name": "stdout"
        }
      ]
    },
    {
      "cell_type": "markdown",
      "metadata": {
        "id": "u2_89jOknwjH"
      },
      "source": [
        "### Model\n",
        "To map the option parameters to price, we use 6 layers of fully connected neural network with hidden dimension 512 as inspired by [this paper](https://arxiv.org/abs/1809.02233). Writing this DL price model into a file `model.py`:-"
      ]
    },
    {
      "cell_type": "markdown",
      "metadata": {
        "id": "NMHqzJycx8XH"
      },
      "source": [
        "### Modified Model"
      ]
    },
    {
      "cell_type": "code",
      "metadata": {
        "id": "ZTn7iJQryAIH",
        "colab": {
          "base_uri": "https://localhost:8080/"
        },
        "outputId": "83340968-134e-4812-f127-bc69e0ad7bbd"
      },
      "source": [
        "%%writefile model.py\n",
        "import torch.nn as nn\n",
        "import torch.nn.functional as F\n",
        "import torch\n",
        "import numpy as np\n",
        "\n",
        "\n",
        "class Net(nn.Module):\n",
        "\n",
        "    def __init__(self, hidden=1024):\n",
        "        super(Net, self).__init__()\n",
        "        self.fc1 = nn.Linear(6, hidden) # remember to change this!\n",
        "        self.fc2 = nn.Linear(hidden, hidden)\n",
        "        self.fc3 = nn.Linear(hidden, hidden)\n",
        "        self.fc4 = nn.Linear(hidden, hidden)\n",
        "        self.fc5 = nn.Linear(hidden, hidden)\n",
        "        self.fc6 = nn.Linear(hidden, 1)\n",
        "        self.register_buffer('norm',\n",
        "                             torch.tensor([200.0, 0.1, 200.0, 0.4, 0.2, 0.2])) # don't use numpy here - will give error later\n",
        "\n",
        "    def forward(self, x):\n",
        "        # normalize the parameter to range [0-1] \n",
        "        x = x / self.norm\n",
        "        x = F.elu(self.fc1(x))\n",
        "        x = F.elu(self.fc2(x))\n",
        "        x = F.elu(self.fc3(x))\n",
        "        x = F.elu(self.fc4(x))\n",
        "        x = F.elu(self.fc5(x))\n",
        "        return self.fc6(x)"
      ],
      "execution_count": 22,
      "outputs": [
        {
          "output_type": "stream",
          "text": [
            "Overwriting model.py\n"
          ],
          "name": "stdout"
        }
      ]
    },
    {
      "cell_type": "markdown",
      "metadata": {
        "id": "hSPRFqyznwjI"
      },
      "source": [
        "As we know the random parameters' scaling factors, the input parameters are first scaled back to a range of (0-1) by dividing them by (200.0, 198.0, 200.0, 0.4, 0.2, 0.2). Then they are projected 5 times to the hidden dimension of 512 after the `ELu` activation function. `ELu` is chosen because we need to compute the second order differentiation of the parameters. If use ReLu, the second order differentiation will always be zero. The last layer is a linear layer that maps the hidden dimension to the predicted option price. "
      ]
    },
    {
      "cell_type": "markdown",
      "metadata": {
        "id": "AM8J2liPnwjJ"
      },
      "source": [
        "For training, we use [Ignite](https://github.com/pytorch/ignite) which is a high-level library to train neural networks in PyTorch. We use `MSELoss` as the loss function, `Adam` as the optimizer and `CosineAnnealingScheduler` as the learning rate scheduler. The following code is feeding the random option data to the pricing model to train it."
      ]
    },
    {
      "cell_type": "markdown",
      "metadata": {
        "id": "yACi4ge13_rd"
      },
      "source": [
        "### Train"
      ]
    },
    {
      "cell_type": "code",
      "metadata": {
        "id": "1TyZT8_AH35M",
        "colab": {
          "base_uri": "https://localhost:8080/"
        },
        "outputId": "6f1cbed6-8791-4815-a152-59c25c91d0f0"
      },
      "source": [
        "!pip install pytorch-ignite"
      ],
      "execution_count": 23,
      "outputs": [
        {
          "output_type": "stream",
          "text": [
            "Requirement already satisfied: pytorch-ignite in /usr/local/lib/python3.7/dist-packages (0.4.5)\n",
            "Requirement already satisfied: torch<2,>=1.3 in /usr/local/lib/python3.7/dist-packages (from pytorch-ignite) (1.9.0+cu102)\n",
            "Requirement already satisfied: typing-extensions in /usr/local/lib/python3.7/dist-packages (from torch<2,>=1.3->pytorch-ignite) (3.7.4.3)\n"
          ],
          "name": "stdout"
        }
      ]
    },
    {
      "cell_type": "code",
      "metadata": {
        "id": "G4Ej82G8nwjJ",
        "colab": {
          "base_uri": "https://localhost:8080/"
        },
        "outputId": "64bb848f-c566-4cb2-c7bd-effe7138b2b1"
      },
      "source": [
        "from ignite.engine import Engine, Events\n",
        "from ignite.handlers import Timer\n",
        "from torch.nn import MSELoss\n",
        "from torch.optim import Adam\n",
        "from ignite.contrib.handlers.param_scheduler import CosineAnnealingScheduler\n",
        "from ignite.handlers import ModelCheckpoint\n",
        "from model import Net\n",
        "from cupy_dataset import NumbaOptionDataSet\n",
        "timer = Timer(average=True)\n",
        "model = Net().cuda()\n",
        "loss_fn = MSELoss()\n",
        "optimizer = Adam(model.parameters(), lr=1e-3)\n",
        "# dataset = NumbaOptionDataSet(max_len=10000, number_path = 1024, batch=4800)\n",
        "dataset = NumbaOptionDataSet(max_len=100, number_path = 1024, batch=32, stocks=1)\n",
        "\n",
        "def train_update(engine, batch):\n",
        "    model.train()\n",
        "    optimizer.zero_grad()\n",
        "    x = batch[0]\n",
        "    y = batch[1]\n",
        "    y_pred = model(x)\n",
        "    loss = loss_fn(y_pred[:,0], y)\n",
        "    loss.backward()\n",
        "    optimizer.step()\n",
        "    return loss.item()\n",
        "\n",
        "trainer = Engine(train_update)\n",
        "log_interval = 20\n",
        "\n",
        "scheduler = CosineAnnealingScheduler(optimizer, 'lr', 1e-4, 1e-6, len(dataset))\n",
        "trainer.add_event_handler(Events.ITERATION_STARTED, scheduler)\n",
        "timer.attach(trainer,\n",
        "             start=Events.EPOCH_STARTED,\n",
        "             resume=Events.ITERATION_STARTED,\n",
        "             pause=Events.ITERATION_COMPLETED,\n",
        "             step=Events.ITERATION_COMPLETED)    \n",
        "@trainer.on(Events.ITERATION_COMPLETED)\n",
        "def log_training_loss(engine):\n",
        "    iter = (engine.state.iteration - 1) % len(dataset) + 1\n",
        "    if iter % log_interval == 0:\n",
        "        print('loss', engine.state.output, 'average time', timer.value(), 'iter num', iter)\n",
        "        \n",
        "trainer.run(dataset, max_epochs=100)"
      ],
      "execution_count": 6,
      "outputs": [
        {
          "output_type": "stream",
          "text": [
            "loss 2716.685546875 average time 0.19238506335000238 iter num 20\n",
            "loss 1902.93798828125 average time 0.09997008677500148 iter num 40\n",
            "loss 725.083251953125 average time 0.0691521585833352 iter num 60\n",
            "loss 1185.350830078125 average time 0.05381219412500045 iter num 80\n",
            "loss 558.18115234375 average time 0.044575172780000685 iter num 100\n",
            "loss 87.67296600341797 average time 0.015492435050002484 iter num 20\n",
            "loss 10.24462890625 average time 0.011514512300002621 iter num 40\n",
            "loss 13.671411514282227 average time 0.010220726566667318 iter num 60\n",
            "loss 12.84497356414795 average time 0.009575828662500641 iter num 80\n",
            "loss 9.365457534790039 average time 0.009183187410001493 iter num 100\n",
            "loss 7.392909526824951 average time 0.015233035950004137 iter num 20\n",
            "loss 8.356035232543945 average time 0.011405362600002179 iter num 40\n",
            "loss 7.687325477600098 average time 0.010119275666669125 iter num 60\n",
            "loss 4.548444747924805 average time 0.009490685562503032 iter num 80\n",
            "loss 6.212600231170654 average time 0.009116440240002532 iter num 100\n",
            "loss 4.885123252868652 average time 0.015383471500001633 iter num 20\n",
            "loss 5.710873603820801 average time 0.011455179075000644 iter num 40\n",
            "loss 9.09185791015625 average time 0.010157237166667225 iter num 60\n",
            "loss 4.531660556793213 average time 0.009568344000000551 iter num 80\n",
            "loss 2.7050623893737793 average time 0.009189709039999912 iter num 100\n",
            "loss 6.293391227722168 average time 0.015338914099994837 iter num 20\n",
            "loss 3.2338874340057373 average time 0.011511239174998166 iter num 40\n",
            "loss 2.826011896133423 average time 0.01020302014999904 iter num 60\n",
            "loss 4.502568244934082 average time 0.009557275912500884 iter num 80\n",
            "loss 6.345937728881836 average time 0.009193526180000333 iter num 100\n",
            "loss 5.13641357421875 average time 0.015558824699996875 iter num 20\n",
            "loss 3.7483739852905273 average time 0.011555991250000374 iter num 40\n",
            "loss 4.111852169036865 average time 0.010278960700002433 iter num 60\n",
            "loss 3.906125068664551 average time 0.009611611925003417 iter num 80\n",
            "loss 3.7442924976348877 average time 0.009212504550003473 iter num 100\n",
            "loss 7.723525524139404 average time 0.015393040849991735 iter num 20\n",
            "loss 5.196101188659668 average time 0.011483121624996784 iter num 40\n",
            "loss 1.832031488418579 average time 0.010175595066666194 iter num 60\n",
            "loss 8.183731079101562 average time 0.009553386037497802 iter num 80\n",
            "loss 2.1422410011291504 average time 0.009155527589998087 iter num 100\n",
            "loss 2.897441864013672 average time 0.015686171349997835 iter num 20\n",
            "loss 4.952276706695557 average time 0.011649131750000662 iter num 40\n",
            "loss 2.305391311645508 average time 0.010293470483333067 iter num 60\n",
            "loss 3.1494240760803223 average time 0.00961737296249936 iter num 80\n",
            "loss 3.041154384613037 average time 0.009210463469999012 iter num 100\n",
            "loss 1.8392484188079834 average time 0.015191506249996678 iter num 20\n",
            "loss 2.6490824222564697 average time 0.011399870224998665 iter num 40\n",
            "loss 1.1046833992004395 average time 0.010195738316668704 iter num 60\n",
            "loss 2.5811045169830322 average time 0.009559488162499718 iter num 80\n",
            "loss 2.5267844200134277 average time 0.00918667986999992 iter num 100\n",
            "loss 2.450824499130249 average time 0.0153736097000035 iter num 20\n",
            "loss 2.8742144107818604 average time 0.011568957850002448 iter num 40\n",
            "loss 2.5338313579559326 average time 0.010253653616667672 iter num 60\n",
            "loss 1.123870849609375 average time 0.009590234462500291 iter num 80\n",
            "loss 1.5500338077545166 average time 0.009191357980000134 iter num 100\n",
            "loss 1.8579413890838623 average time 0.01598899405000509 iter num 20\n",
            "loss 2.513817071914673 average time 0.011884040700002175 iter num 40\n",
            "loss 1.4626483917236328 average time 0.01047617818333606 iter num 60\n",
            "loss 1.1420204639434814 average time 0.009792681562499439 iter num 80\n",
            "loss 2.115901470184326 average time 0.009358936450000214 iter num 100\n",
            "loss 2.315730571746826 average time 0.015239290149992257 iter num 20\n",
            "loss 2.302762031555176 average time 0.01141168924999505 iter num 40\n",
            "loss 7.233665466308594 average time 0.010143750333331052 iter num 60\n",
            "loss 1.3369594812393188 average time 0.009539914849997898 iter num 80\n",
            "loss 0.8332855105400085 average time 0.009168898709997392 iter num 100\n",
            "loss 3.090033531188965 average time 0.015760877200006008 iter num 20\n",
            "loss 4.987318992614746 average time 0.011646596350004756 iter num 40\n",
            "loss 2.2154464721679688 average time 0.010297132883335773 iter num 60\n",
            "loss 0.5912409424781799 average time 0.009674425862498736 iter num 80\n",
            "loss 2.7965309619903564 average time 0.009254408469998907 iter num 100\n",
            "loss 2.2733304500579834 average time 0.015407692950003594 iter num 20\n",
            "loss 1.6777498722076416 average time 0.011533363000000917 iter num 40\n",
            "loss 1.9665640592575073 average time 0.010225892550001467 iter num 60\n",
            "loss 1.3424177169799805 average time 0.009597204550001237 iter num 80\n",
            "loss 1.0254437923431396 average time 0.009196748470000102 iter num 100\n",
            "loss 1.3989895582199097 average time 0.015641758850006227 iter num 20\n",
            "loss 2.6202850341796875 average time 0.011595366324999645 iter num 40\n",
            "loss 2.663235664367676 average time 0.010250895466667014 iter num 60\n",
            "loss 1.2592575550079346 average time 0.009623048800002466 iter num 80\n",
            "loss 1.3494043350219727 average time 0.009204746400002932 iter num 100\n",
            "loss 2.5356698036193848 average time 0.014949774100000469 iter num 20\n",
            "loss 0.9511153101921082 average time 0.011249561274999565 iter num 40\n",
            "loss 1.711944580078125 average time 0.010048930199999973 iter num 60\n",
            "loss 2.3571689128875732 average time 0.009446501050001643 iter num 80\n",
            "loss 1.0120062828063965 average time 0.009071162869999512 iter num 100\n",
            "loss 2.7150681018829346 average time 0.015561966350006173 iter num 20\n",
            "loss 0.9230485558509827 average time 0.011566931875006504 iter num 40\n",
            "loss 1.7163931131362915 average time 0.010242533566668991 iter num 60\n",
            "loss 1.0647633075714111 average time 0.00957762148750021 iter num 80\n",
            "loss 0.8368363380432129 average time 0.009184711410000546 iter num 100\n",
            "loss 5.524921417236328 average time 0.015100374350001288 iter num 20\n",
            "loss 2.2160682678222656 average time 0.011350478125000053 iter num 40\n",
            "loss 0.5069143176078796 average time 0.010151459700000486 iter num 60\n",
            "loss 1.6813275814056396 average time 0.009513568400000593 iter num 80\n",
            "loss 1.0462353229522705 average time 0.009110240960000055 iter num 100\n",
            "loss 1.4549304246902466 average time 0.015241641299999742 iter num 20\n",
            "loss 4.551541805267334 average time 0.01142657454999636 iter num 40\n",
            "loss 1.7922847270965576 average time 0.010174987316666299 iter num 60\n",
            "loss 0.9219402074813843 average time 0.00954331659999923 iter num 80\n",
            "loss 0.7113442420959473 average time 0.00913589856999863 iter num 100\n",
            "loss 3.7736990451812744 average time 0.01573459414999263 iter num 20\n",
            "loss 1.4628210067749023 average time 0.01166181367499206 iter num 40\n",
            "loss 2.022711753845215 average time 0.010409368866659937 iter num 60\n",
            "loss 0.8571304082870483 average time 0.009720395049996711 iter num 80\n",
            "loss 0.9440438747406006 average time 0.009295135819997994 iter num 100\n",
            "loss 2.6527957916259766 average time 0.015503263449988935 iter num 20\n",
            "loss 0.5062265992164612 average time 0.011537030475000164 iter num 40\n",
            "loss 1.2653454542160034 average time 0.010218719066669261 iter num 60\n",
            "loss 0.9968632459640503 average time 0.009569848574996343 iter num 80\n",
            "loss 2.080012321472168 average time 0.009161043519997065 iter num 100\n",
            "loss 4.3487043380737305 average time 0.014894476450012916 iter num 20\n",
            "loss 2.810286045074463 average time 0.011256910425007049 iter num 40\n",
            "loss 1.4925127029418945 average time 0.010027447650003296 iter num 60\n",
            "loss 2.1098034381866455 average time 0.00940886216250476 iter num 80\n",
            "loss 1.666377067565918 average time 0.009041327330005516 iter num 100\n",
            "loss 1.9661846160888672 average time 0.015478164349980261 iter num 20\n",
            "loss 0.6706173419952393 average time 0.011682126374986978 iter num 40\n",
            "loss 2.380527973175049 average time 0.010320179166658743 iter num 60\n",
            "loss 0.9220110177993774 average time 0.009633671374992048 iter num 80\n",
            "loss 0.4469689726829529 average time 0.009209035119995405 iter num 100\n",
            "loss 1.947043538093567 average time 0.015084938050006259 iter num 20\n",
            "loss 1.269691824913025 average time 0.011359496550011273 iter num 40\n",
            "loss 0.9991970062255859 average time 0.01010629360001 iter num 60\n",
            "loss 0.49401533603668213 average time 0.00950556180000035 iter num 80\n",
            "loss 0.6895759105682373 average time 0.009103764580002007 iter num 100\n",
            "loss 1.843233346939087 average time 0.01512943210000799 iter num 20\n",
            "loss 2.1880555152893066 average time 0.011348991950006848 iter num 40\n",
            "loss 1.0141847133636475 average time 0.010091760116671367 iter num 60\n",
            "loss 1.2358647584915161 average time 0.009466754062502502 iter num 80\n",
            "loss 0.7011231184005737 average time 0.009083075990002954 iter num 100\n",
            "loss 1.0809143781661987 average time 0.015337600250012429 iter num 20\n",
            "loss 1.292596459388733 average time 0.011479004399996029 iter num 40\n",
            "loss 1.4959100484848022 average time 0.010180285949996915 iter num 60\n",
            "loss 1.4501726627349854 average time 0.009524591512494851 iter num 80\n",
            "loss 0.7613652944564819 average time 0.00911791309999444 iter num 100\n",
            "loss 1.1107312440872192 average time 0.015349471199999697 iter num 20\n",
            "loss 1.2959063053131104 average time 0.011464979999996672 iter num 40\n",
            "loss 1.073256254196167 average time 0.010155951233332416 iter num 60\n",
            "loss 0.7034875750541687 average time 0.009506156937497678 iter num 80\n",
            "loss 0.4488224387168884 average time 0.009159469889999628 iter num 100\n",
            "loss 1.7042324542999268 average time 0.015444208799999614 iter num 20\n",
            "loss 1.2096896171569824 average time 0.01152923672499071 iter num 40\n",
            "loss 0.719883382320404 average time 0.010240804649996941 iter num 60\n",
            "loss 1.0482025146484375 average time 0.009569475237498182 iter num 80\n",
            "loss 0.7823199033737183 average time 0.009186344609995558 iter num 100\n",
            "loss 1.1172319650650024 average time 0.015441712750003944 iter num 20\n",
            "loss 1.5255038738250732 average time 0.011538034750006431 iter num 40\n",
            "loss 2.293126106262207 average time 0.010218726433337603 iter num 60\n",
            "loss 1.3504459857940674 average time 0.009551875475008843 iter num 80\n",
            "loss 0.41408824920654297 average time 0.00916223775000617 iter num 100\n",
            "loss 2.3756515979766846 average time 0.015552906650003705 iter num 20\n",
            "loss 0.5578017234802246 average time 0.011584020150010588 iter num 40\n",
            "loss 2.1296257972717285 average time 0.010296034383336898 iter num 60\n",
            "loss 1.2857087850570679 average time 0.009597914500002958 iter num 80\n",
            "loss 0.8980990052223206 average time 0.00918915998000557 iter num 100\n",
            "loss 0.5706213116645813 average time 0.015612476300003664 iter num 20\n",
            "loss 0.9521733522415161 average time 0.011652718224999603 iter num 40\n",
            "loss 0.8271818161010742 average time 0.010291861899999807 iter num 60\n",
            "loss 0.5921960473060608 average time 0.009608044600000198 iter num 80\n",
            "loss 1.0326405763626099 average time 0.009236424780001471 iter num 100\n",
            "loss 0.5446791648864746 average time 0.015205198550029308 iter num 20\n",
            "loss 8.444774627685547 average time 0.011385590100013587 iter num 40\n",
            "loss 0.9004710912704468 average time 0.010142323966681488 iter num 60\n",
            "loss 0.4584570527076721 average time 0.0095244340250062 iter num 80\n",
            "loss 0.43526211380958557 average time 0.009126705380000431 iter num 100\n",
            "loss 6.134251594543457 average time 0.015221668600003114 iter num 20\n",
            "loss 1.0445231199264526 average time 0.01140462432500442 iter num 40\n",
            "loss 0.568584680557251 average time 0.010136923649997697 iter num 60\n",
            "loss 0.9082444906234741 average time 0.009501060762492842 iter num 80\n",
            "loss 1.1553056240081787 average time 0.00910126631999674 iter num 100\n",
            "loss 0.5746746063232422 average time 0.015054760749978868 iter num 20\n",
            "loss 1.2759003639221191 average time 0.011326122124987136 iter num 40\n",
            "loss 0.32091349363327026 average time 0.010115684549991026 iter num 60\n",
            "loss 0.1978367120027542 average time 0.009463835199993298 iter num 80\n",
            "loss 0.7785783410072327 average time 0.009078450689997908 iter num 100\n",
            "loss 0.8559393882751465 average time 0.015475337350000017 iter num 20\n",
            "loss 1.0982182025909424 average time 0.01158754872500083 iter num 40\n",
            "loss 0.9019399881362915 average time 0.010290452533331518 iter num 60\n",
            "loss 1.184188723564148 average time 0.009599655112499762 iter num 80\n",
            "loss 0.37136924266815186 average time 0.009190936260000625 iter num 100\n",
            "loss 1.7258788347244263 average time 0.015463449199984325 iter num 20\n",
            "loss 0.4561042785644531 average time 0.011515689724990352 iter num 40\n",
            "loss 2.187091827392578 average time 0.010191708083328876 iter num 60\n",
            "loss 0.32204341888427734 average time 0.009547972362489077 iter num 80\n",
            "loss 1.1016690731048584 average time 0.009150587159989527 iter num 100\n",
            "loss 3.793224334716797 average time 0.015094331099987812 iter num 20\n",
            "loss 1.112541675567627 average time 0.011373386375004202 iter num 40\n",
            "loss 0.820738673210144 average time 0.010109977500002287 iter num 60\n",
            "loss 1.035016655921936 average time 0.00947908323750255 iter num 80\n",
            "loss 0.6606124043464661 average time 0.009106416290002244 iter num 100\n",
            "loss 1.2427597045898438 average time 0.015338091399996756 iter num 20\n",
            "loss 1.5496755838394165 average time 0.011457835049992583 iter num 40\n",
            "loss 0.912571370601654 average time 0.010168481266659531 iter num 60\n",
            "loss 0.4775426685810089 average time 0.009525584224996919 iter num 80\n",
            "loss 1.0881267786026 average time 0.009181374899998217 iter num 100\n",
            "loss 1.4005229473114014 average time 0.015243115200001966 iter num 20\n",
            "loss 0.7106205224990845 average time 0.01141821219999315 iter num 40\n",
            "loss 1.3742676973342896 average time 0.010191450999995293 iter num 60\n",
            "loss 1.140272855758667 average time 0.009538978512495078 iter num 80\n",
            "loss 0.9052156209945679 average time 0.009155669669995632 iter num 100\n",
            "loss 1.575178861618042 average time 0.015344439749998173 iter num 20\n",
            "loss 2.1637086868286133 average time 0.011483147774998769 iter num 40\n",
            "loss 0.4791557788848877 average time 0.010216463150002634 iter num 60\n",
            "loss 0.4744884967803955 average time 0.009576877212496981 iter num 80\n",
            "loss 0.5964657068252563 average time 0.009191041449997783 iter num 100\n",
            "loss 0.45814427733421326 average time 0.015212533500005065 iter num 20\n",
            "loss 1.0097919702529907 average time 0.01142356797499815 iter num 40\n",
            "loss 1.0254591703414917 average time 0.010192964300002435 iter num 60\n",
            "loss 0.5461139678955078 average time 0.00953592998750139 iter num 80\n",
            "loss 0.3526538014411926 average time 0.009145217679999859 iter num 100\n",
            "loss 1.0519685745239258 average time 0.015433143650000147 iter num 20\n",
            "loss 2.800948143005371 average time 0.011559175949992095 iter num 40\n",
            "loss 1.439306616783142 average time 0.010270300933329205 iter num 60\n",
            "loss 0.41426628828048706 average time 0.009596510562495553 iter num 80\n",
            "loss 0.8461199998855591 average time 0.00919398726999816 iter num 100\n",
            "loss 2.760740041732788 average time 0.01556121849999954 iter num 20\n",
            "loss 0.44086283445358276 average time 0.011574462524995966 iter num 40\n",
            "loss 0.9150860905647278 average time 0.010220868333334465 iter num 60\n",
            "loss 0.3505706787109375 average time 0.009536807775002386 iter num 80\n",
            "loss 0.2244674265384674 average time 0.009144022170002018 iter num 100\n",
            "loss 2.915926933288574 average time 0.015368782949980186 iter num 20\n",
            "loss 0.9992115497589111 average time 0.011479529624978113 iter num 40\n",
            "loss 0.5112439393997192 average time 0.01024856138332666 iter num 60\n",
            "loss 0.6227284669876099 average time 0.009570592812495704 iter num 80\n",
            "loss 1.203366994857788 average time 0.009195783139997502 iter num 100\n",
            "loss 3.4162418842315674 average time 0.015533310949996349 iter num 20\n",
            "loss 1.397507667541504 average time 0.011567549374998976 iter num 40\n",
            "loss 0.29206448793411255 average time 0.010227896966663744 iter num 60\n",
            "loss 0.594023585319519 average time 0.009565464924996547 iter num 80\n",
            "loss 0.7350058555603027 average time 0.009186343249999708 iter num 100\n",
            "loss 0.3764554262161255 average time 0.015343453649995809 iter num 20\n",
            "loss 0.3953748345375061 average time 0.011501549099997987 iter num 40\n",
            "loss 0.45807939767837524 average time 0.010176744749998079 iter num 60\n",
            "loss 0.4318181872367859 average time 0.00952028447499913 iter num 80\n",
            "loss 0.4859843850135803 average time 0.009163862529998141 iter num 100\n",
            "loss 0.5354403853416443 average time 0.015362807900015697 iter num 20\n",
            "loss 2.3472254276275635 average time 0.011480411900006971 iter num 40\n",
            "loss 1.4790124893188477 average time 0.010227335766675576 iter num 60\n",
            "loss 0.9192150831222534 average time 0.009626627237507535 iter num 80\n",
            "loss 0.1623559445142746 average time 0.00921951312000715 iter num 100\n",
            "loss 0.38639187812805176 average time 0.015312668999985134 iter num 20\n",
            "loss 1.1261922121047974 average time 0.011446934974998157 iter num 40\n",
            "loss 1.0783913135528564 average time 0.010135848933331696 iter num 60\n",
            "loss 0.9449391961097717 average time 0.009514404337501503 iter num 80\n",
            "loss 0.20398877561092377 average time 0.009139057120003145 iter num 100\n",
            "loss 1.3625930547714233 average time 0.015114700000003723 iter num 20\n",
            "loss 0.7411563992500305 average time 0.011354967175006437 iter num 40\n",
            "loss 1.0362143516540527 average time 0.01009460455000332 iter num 60\n",
            "loss 0.3288380801677704 average time 0.009476175725005476 iter num 80\n",
            "loss 0.26400792598724365 average time 0.009101547140004414 iter num 100\n",
            "loss 0.4880214035511017 average time 0.015356140299996924 iter num 20\n",
            "loss 0.2755280137062073 average time 0.01148391857500144 iter num 40\n",
            "loss 0.496013879776001 average time 0.010230845516673526 iter num 60\n",
            "loss 0.6144586801528931 average time 0.009578896787505186 iter num 80\n",
            "loss 0.5601880550384521 average time 0.00918048737000163 iter num 100\n",
            "loss 0.4179370701313019 average time 0.01570975445000613 iter num 20\n",
            "loss 0.39674073457717896 average time 0.011726331425015247 iter num 40\n",
            "loss 0.3565834164619446 average time 0.010388712516675013 iter num 60\n",
            "loss 0.8537634611129761 average time 0.009722727037507184 iter num 80\n",
            "loss 0.15198764204978943 average time 0.009304431070006558 iter num 100\n",
            "loss 0.6676409244537354 average time 0.015232036249989278 iter num 20\n",
            "loss 0.7060762643814087 average time 0.01140347289999113 iter num 40\n",
            "loss 0.14952696859836578 average time 0.010132781566661227 iter num 60\n",
            "loss 1.0618855953216553 average time 0.009514767762492226 iter num 80\n",
            "loss 0.4728770852088928 average time 0.00913400797998861 iter num 100\n",
            "loss 0.48690640926361084 average time 0.015319735650029998 iter num 20\n",
            "loss 0.7576900720596313 average time 0.011478404324998337 iter num 40\n",
            "loss 0.6336202621459961 average time 0.010193747049985784 iter num 60\n",
            "loss 0.6416959762573242 average time 0.00954766198748871 iter num 80\n",
            "loss 0.6153433322906494 average time 0.009165904409992437 iter num 100\n",
            "loss 1.4410573244094849 average time 0.015549590549983349 iter num 20\n",
            "loss 1.1622915267944336 average time 0.011541716424994774 iter num 40\n",
            "loss 0.3604587912559509 average time 0.010215621766675061 iter num 60\n",
            "loss 0.5777863264083862 average time 0.009582575100006352 iter num 80\n",
            "loss 0.3951098322868347 average time 0.009191148760010037 iter num 100\n",
            "loss 6.796878814697266 average time 0.015620993699997143 iter num 20\n",
            "loss 0.28637948632240295 average time 0.01161686847499368 iter num 40\n",
            "loss 0.44423356652259827 average time 0.01024867669999973 iter num 60\n",
            "loss 0.2941177785396576 average time 0.009578591625006539 iter num 80\n",
            "loss 0.24642881751060486 average time 0.009191997840007389 iter num 100\n",
            "loss 0.5828040838241577 average time 0.015494658850036558 iter num 20\n",
            "loss 0.7799550890922546 average time 0.01151514722499769 iter num 40\n",
            "loss 0.47228896617889404 average time 0.010261135233342126 iter num 60\n",
            "loss 0.3224882483482361 average time 0.009588032637515198 iter num 80\n",
            "loss 0.4005611836910248 average time 0.009189537510014816 iter num 100\n",
            "loss 0.5556689500808716 average time 0.015408290500033672 iter num 20\n",
            "loss 0.626456618309021 average time 0.011539845450027997 iter num 40\n",
            "loss 0.6836150288581848 average time 0.010226226433367932 iter num 60\n",
            "loss 0.18264514207839966 average time 0.00959346818753204 iter num 80\n",
            "loss 0.44070059061050415 average time 0.009219496790028642 iter num 100\n",
            "loss 3.107983112335205 average time 0.015375412950015743 iter num 20\n",
            "loss 0.4869815707206726 average time 0.011531098900013604 iter num 40\n",
            "loss 0.4183403551578522 average time 0.010226552716657504 iter num 60\n",
            "loss 0.4319603443145752 average time 0.009571493324992275 iter num 80\n",
            "loss 0.4192578196525574 average time 0.009178071389999331 iter num 100\n",
            "loss 1.5393781661987305 average time 0.015523723849980797 iter num 20\n",
            "loss 1.3775771856307983 average time 0.011537603349955817 iter num 40\n",
            "loss 0.5840960144996643 average time 0.010276570983330657 iter num 60\n",
            "loss 0.2505827248096466 average time 0.009601124550005124 iter num 80\n",
            "loss 0.41116195917129517 average time 0.00919827445000692 iter num 100\n",
            "loss 0.9361488819122314 average time 0.015153473699990627 iter num 20\n",
            "loss 4.357593536376953 average time 0.011339537149984836 iter num 40\n",
            "loss 0.6633669137954712 average time 0.010099894399987382 iter num 60\n",
            "loss 0.4331648647785187 average time 0.00948676808748985 iter num 80\n",
            "loss 0.31620150804519653 average time 0.009127152799983378 iter num 100\n",
            "loss 0.5647300481796265 average time 0.015602235749997816 iter num 20\n",
            "loss 0.6475241184234619 average time 0.011665109200004053 iter num 40\n",
            "loss 0.3681638240814209 average time 0.010337334966675372 iter num 60\n",
            "loss 0.1514636129140854 average time 0.009669295300014369 iter num 80\n",
            "loss 0.548238217830658 average time 0.009246430950013292 iter num 100\n",
            "loss 2.0786325931549072 average time 0.015442459150017384 iter num 20\n",
            "loss 3.0947110652923584 average time 0.011487766525004873 iter num 40\n",
            "loss 1.38946533203125 average time 0.010184856216668928 iter num 60\n",
            "loss 0.36754274368286133 average time 0.00954019764999714 iter num 80\n",
            "loss 0.3641276955604553 average time 0.009146206879986494 iter num 100\n",
            "loss 9.22264289855957 average time 0.015299958250034251 iter num 20\n",
            "loss 2.4606027603149414 average time 0.011403715500023281 iter num 40\n",
            "loss 1.1341612339019775 average time 0.010178161783350485 iter num 60\n",
            "loss 0.3479427397251129 average time 0.009583847175014171 iter num 80\n",
            "loss 0.4496239721775055 average time 0.009174232420009502 iter num 100\n",
            "loss 1.2096573114395142 average time 0.015390481049973915 iter num 20\n",
            "loss 0.14194713532924652 average time 0.011491331099983881 iter num 40\n",
            "loss 0.9304404854774475 average time 0.010189463483326715 iter num 60\n",
            "loss 0.20499110221862793 average time 0.009538735437487844 iter num 80\n",
            "loss 0.3321780860424042 average time 0.00914375946999371 iter num 100\n",
            "loss 0.35913413763046265 average time 0.01580366745000674 iter num 20\n",
            "loss 0.23796653747558594 average time 0.011666940625008237 iter num 40\n",
            "loss 0.33284151554107666 average time 0.010377181783341408 iter num 60\n",
            "loss 0.4090975522994995 average time 0.009705634375004024 iter num 80\n",
            "loss 0.4623882472515106 average time 0.009278747379999003 iter num 100\n",
            "loss 0.6424579620361328 average time 0.015369505900014246 iter num 20\n",
            "loss 0.27364522218704224 average time 0.011498646600006168 iter num 40\n",
            "loss 0.36529740691185 average time 0.010193421783329389 iter num 60\n",
            "loss 0.4306257367134094 average time 0.009539365499992413 iter num 80\n",
            "loss 0.2845349609851837 average time 0.009142238189992895 iter num 100\n",
            "loss 0.4258822798728943 average time 0.01522950554997351 iter num 20\n",
            "loss 0.3069271445274353 average time 0.01142361272496828 iter num 40\n",
            "loss 0.18916258215904236 average time 0.010145404433308159 iter num 60\n",
            "loss 0.20231285691261292 average time 0.009542380899978298 iter num 80\n",
            "loss 0.2592204809188843 average time 0.009139332279983137 iter num 100\n",
            "loss 0.5604218244552612 average time 0.015366006299984747 iter num 20\n",
            "loss 0.28314152359962463 average time 0.011435221775013816 iter num 40\n",
            "loss 0.34035250544548035 average time 0.010214873633348514 iter num 60\n",
            "loss 0.2701837420463562 average time 0.009567802212509946 iter num 80\n",
            "loss 0.4491722583770752 average time 0.009157353890016111 iter num 100\n",
            "loss 0.28621500730514526 average time 0.015222371649986143 iter num 20\n",
            "loss 0.9708905220031738 average time 0.01141278997500308 iter num 40\n",
            "loss 0.23368966579437256 average time 0.010222097566683411 iter num 60\n",
            "loss 0.3387894332408905 average time 0.009560436825009334 iter num 80\n",
            "loss 0.21881017088890076 average time 0.009169381980013895 iter num 100\n",
            "loss 1.9021084308624268 average time 0.015407916100025431 iter num 20\n",
            "loss 3.0552830696105957 average time 0.011578871875025242 iter num 40\n",
            "loss 0.3634909987449646 average time 0.010244050133348993 iter num 60\n",
            "loss 0.32130926847457886 average time 0.009576971812509782 iter num 80\n",
            "loss 0.21940511465072632 average time 0.009169707820014993 iter num 100\n",
            "loss 1.5748281478881836 average time 0.015451109900016035 iter num 20\n",
            "loss 2.391477108001709 average time 0.011645637075014292 iter num 40\n",
            "loss 0.3727126121520996 average time 0.010283103949996075 iter num 60\n",
            "loss 0.2053019106388092 average time 0.009638626087493662 iter num 80\n",
            "loss 0.11154299974441528 average time 0.009211587139993753 iter num 100\n",
            "loss 1.1677197217941284 average time 0.015746651449990167 iter num 20\n",
            "loss 4.375204086303711 average time 0.011674403074999872 iter num 40\n",
            "loss 0.865635871887207 average time 0.010311812583336178 iter num 60\n",
            "loss 0.22270315885543823 average time 0.009636971949998952 iter num 80\n",
            "loss 0.5055164098739624 average time 0.00921218345999705 iter num 100\n",
            "loss 0.4046568274497986 average time 0.015443455599961454 iter num 20\n",
            "loss 1.0324411392211914 average time 0.011551073549975399 iter num 40\n",
            "loss 1.0028836727142334 average time 0.010252321799991174 iter num 60\n",
            "loss 0.342571884393692 average time 0.009609565762494299 iter num 80\n",
            "loss 0.5536361932754517 average time 0.009198606660002042 iter num 100\n",
            "loss 0.9913656711578369 average time 0.015194778900001893 iter num 20\n",
            "loss 0.51068115234375 average time 0.0113914311000201 iter num 40\n",
            "loss 0.6643871068954468 average time 0.010115638516689765 iter num 60\n",
            "loss 0.15302564203739166 average time 0.009482227425016277 iter num 80\n",
            "loss 0.31078535318374634 average time 0.009216393760016216 iter num 100\n",
            "loss 0.8916966915130615 average time 0.01550358664999294 iter num 20\n",
            "loss 0.4213857650756836 average time 0.011569346225013533 iter num 40\n",
            "loss 0.30770236253738403 average time 0.010239173233355815 iter num 60\n",
            "loss 0.3031686544418335 average time 0.00958478936251197 iter num 80\n",
            "loss 0.38654232025146484 average time 0.009183244320008726 iter num 100\n",
            "loss 0.6872016191482544 average time 0.01521927360004156 iter num 20\n",
            "loss 0.5127978324890137 average time 0.011428586075021485 iter num 40\n",
            "loss 0.24332404136657715 average time 0.010155197633355328 iter num 60\n",
            "loss 0.25276726484298706 average time 0.009518090375019028 iter num 80\n",
            "loss 0.42299684882164 average time 0.009120453380016897 iter num 100\n",
            "loss 0.7844023704528809 average time 0.01586732474999053 iter num 20\n",
            "loss 0.34959352016448975 average time 0.011731259024981 iter num 40\n",
            "loss 0.7967573404312134 average time 0.010351743749985568 iter num 60\n",
            "loss 0.2980082035064697 average time 0.009701727462484655 iter num 80\n",
            "loss 0.1451614499092102 average time 0.00927155417998847 iter num 100\n",
            "loss 1.4275872707366943 average time 0.015908991799994963 iter num 20\n",
            "loss 0.2932821810245514 average time 0.011762024224987044 iter num 40\n",
            "loss 0.34860366582870483 average time 0.010356907033322689 iter num 60\n",
            "loss 0.36827996373176575 average time 0.009638155512490698 iter num 80\n",
            "loss 0.22216801345348358 average time 0.009222265149999203 iter num 100\n",
            "loss 0.5338435769081116 average time 0.0152744569500328 iter num 20\n",
            "loss 1.0384639501571655 average time 0.011432305125021002 iter num 40\n",
            "loss 1.0415654182434082 average time 0.010146259850012029 iter num 60\n",
            "loss 0.3120099604129791 average time 0.009477315687502142 iter num 80\n",
            "loss 0.7082744836807251 average time 0.009083191780005108 iter num 100\n",
            "loss 4.143221378326416 average time 0.015339424399974178 iter num 20\n",
            "loss 6.157096862792969 average time 0.011473078975006957 iter num 40\n",
            "loss 1.0441553592681885 average time 0.01026788278333394 iter num 60\n",
            "loss 0.48030903935432434 average time 0.00963272702500717 iter num 80\n",
            "loss 0.2978448271751404 average time 0.009227484750001623 iter num 100\n",
            "loss 0.9249063730239868 average time 0.015353226199977144 iter num 20\n",
            "loss 0.8557243347167969 average time 0.011527576099990711 iter num 40\n",
            "loss 0.14745646715164185 average time 0.010223929133326237 iter num 60\n",
            "loss 0.1972237527370453 average time 0.009581204624996075 iter num 80\n",
            "loss 0.21589311957359314 average time 0.009187562319996232 iter num 100\n",
            "loss 0.4161570072174072 average time 0.015197617049989277 iter num 20\n",
            "loss 0.6432105302810669 average time 0.011606611674989154 iter num 40\n",
            "loss 0.27784472703933716 average time 0.010264726683324928 iter num 60\n",
            "loss 0.40638166666030884 average time 0.00959537204999208 iter num 80\n",
            "loss 0.16176839172840118 average time 0.009220929599989632 iter num 100\n",
            "loss 0.42426586151123047 average time 0.015225409199990736 iter num 20\n",
            "loss 0.6809086203575134 average time 0.011423246300012124 iter num 40\n",
            "loss 0.3325660228729248 average time 0.010151633700013462 iter num 60\n",
            "loss 0.30368947982788086 average time 0.009513591550006594 iter num 80\n",
            "loss 0.15308864414691925 average time 0.00912802862000035 iter num 100\n",
            "loss 1.5767707824707031 average time 0.015587592999975187 iter num 20\n",
            "loss 1.0925558805465698 average time 0.011602063224978565 iter num 40\n",
            "loss 0.4244235157966614 average time 0.010260033933328335 iter num 60\n",
            "loss 0.7111259698867798 average time 0.009591382424991935 iter num 80\n",
            "loss 0.20600266754627228 average time 0.00919138326999473 iter num 100\n",
            "loss 0.5975521802902222 average time 0.015569844350022777 iter num 20\n",
            "loss 0.19669485092163086 average time 0.011611577650029403 iter num 40\n",
            "loss 0.5102142095565796 average time 0.010284028700031438 iter num 60\n",
            "loss 0.3149539530277252 average time 0.009643523837516455 iter num 80\n",
            "loss 0.22925719618797302 average time 0.009242492440012028 iter num 100\n",
            "loss 0.4411762058734894 average time 0.016460081949969663 iter num 20\n",
            "loss 0.3200189471244812 average time 0.012167319199988924 iter num 40\n",
            "loss 0.4112633168697357 average time 0.010673422099993482 iter num 60\n",
            "loss 0.17571738362312317 average time 0.00990472259999251 iter num 80\n",
            "loss 0.1282166987657547 average time 0.009432996439995804 iter num 100\n",
            "loss 1.9018828868865967 average time 0.015593006450001213 iter num 20\n",
            "loss 0.5008267164230347 average time 0.01158665292501837 iter num 40\n",
            "loss 0.5171661376953125 average time 0.010241865883354724 iter num 60\n",
            "loss 0.2314671277999878 average time 0.009573765675011715 iter num 80\n",
            "loss 0.5475695729255676 average time 0.009209057830003076 iter num 100\n",
            "loss 0.2859167456626892 average time 0.015298360349959239 iter num 20\n",
            "loss 1.0467338562011719 average time 0.011432823399974267 iter num 40\n",
            "loss 0.6969095468521118 average time 0.010155654883313521 iter num 60\n",
            "loss 0.13112345337867737 average time 0.009510545662482172 iter num 80\n",
            "loss 0.1036130040884018 average time 0.009122262339983535 iter num 100\n",
            "loss 0.20226584374904633 average time 0.01562486129997751 iter num 20\n",
            "loss 0.9290115833282471 average time 0.01164007042498838 iter num 40\n",
            "loss 0.6185371279716492 average time 0.010308642683332892 iter num 60\n",
            "loss 0.4210958778858185 average time 0.009606512749999751 iter num 80\n",
            "loss 0.13729384541511536 average time 0.009228174130000752 iter num 100\n",
            "loss 1.088862657546997 average time 0.015505863850012246 iter num 20\n",
            "loss 0.917061448097229 average time 0.011540484049999123 iter num 40\n",
            "loss 1.5733119249343872 average time 0.010237392483327312 iter num 60\n",
            "loss 0.5477362871170044 average time 0.009573537337487892 iter num 80\n",
            "loss 0.3162615895271301 average time 0.009174553599987121 iter num 100\n",
            "loss 0.6969320774078369 average time 0.015271000500024456 iter num 20\n",
            "loss 1.6751658916473389 average time 0.011461954300006027 iter num 40\n",
            "loss 0.22079625725746155 average time 0.010158595200008828 iter num 60\n",
            "loss 0.3563380837440491 average time 0.00950229021251232 iter num 80\n",
            "loss 0.18630874156951904 average time 0.009101527160005389 iter num 100\n",
            "loss 1.9822168350219727 average time 0.015428764850037168 iter num 20\n",
            "loss 0.5751452445983887 average time 0.011495449475029318 iter num 40\n",
            "loss 1.2888308763504028 average time 0.010187461283366398 iter num 60\n",
            "loss 0.6615662574768066 average time 0.009537584075022209 iter num 80\n",
            "loss 0.2290089875459671 average time 0.009149038780010414 iter num 100\n",
            "loss 0.694839358329773 average time 0.01538010924999753 iter num 20\n",
            "loss 0.22971639037132263 average time 0.011480595224998068 iter num 40\n",
            "loss 0.6509414911270142 average time 0.010183633850006875 iter num 60\n",
            "loss 0.4937099516391754 average time 0.009538824237512244 iter num 80\n",
            "loss 0.20172519981861115 average time 0.009147612670010402 iter num 100\n",
            "loss 0.4747377038002014 average time 0.015404479749975053 iter num 20\n",
            "loss 1.2305943965911865 average time 0.011526906274991689 iter num 40\n",
            "loss 0.138901948928833 average time 0.010201317716663046 iter num 60\n",
            "loss 0.22881633043289185 average time 0.00953161203750028 iter num 80\n",
            "loss 0.20837002992630005 average time 0.009132984459993167 iter num 100\n",
            "loss 0.8192282915115356 average time 0.015035161599996627 iter num 20\n",
            "loss 0.85753333568573 average time 0.01130051864998336 iter num 40\n",
            "loss 0.38221901655197144 average time 0.010034966349985552 iter num 60\n",
            "loss 0.1703609973192215 average time 0.009401385712484967 iter num 80\n",
            "loss 0.19617994129657745 average time 0.009034375079986603 iter num 100\n",
            "loss 0.34385624527931213 average time 0.015248078699994495 iter num 20\n",
            "loss 0.27957862615585327 average time 0.011423950949995288 iter num 40\n",
            "loss 0.2117263376712799 average time 0.010111924983323205 iter num 60\n",
            "loss 0.18077096343040466 average time 0.00947665526248329 iter num 80\n",
            "loss 0.2836754024028778 average time 0.009098377369984973 iter num 100\n",
            "loss 0.3087664246559143 average time 0.015193430899989835 iter num 20\n",
            "loss 4.644786357879639 average time 0.011376811574979228 iter num 40\n",
            "loss 0.6980944871902466 average time 0.010079060133314973 iter num 60\n",
            "loss 0.6438712477684021 average time 0.009458774824989292 iter num 80\n",
            "loss 0.2097253054380417 average time 0.009082531469987316 iter num 100\n",
            "loss 0.6280972957611084 average time 0.015211139050018118 iter num 20\n",
            "loss 0.5519653558731079 average time 0.011403697850010986 iter num 40\n",
            "loss 0.7521034479141235 average time 0.010108754883344773 iter num 60\n",
            "loss 0.17773482203483582 average time 0.0094501363250032 iter num 80\n",
            "loss 0.1344395875930786 average time 0.009055209800001194 iter num 100\n",
            "loss 0.9016149044036865 average time 0.015276182850016085 iter num 20\n",
            "loss 0.32348835468292236 average time 0.011420067550017166 iter num 40\n",
            "loss 0.1289529800415039 average time 0.010145814866685516 iter num 60\n",
            "loss 0.27604034543037415 average time 0.009488274750017922 iter num 80\n",
            "loss 0.41627010703086853 average time 0.009136976050012891 iter num 100\n",
            "loss 0.5716713666915894 average time 0.015130724900029691 iter num 20\n",
            "loss 1.1599899530410767 average time 0.01135646545001805 iter num 40\n",
            "loss 0.4044118821620941 average time 0.010070527483344449 iter num 60\n",
            "loss 0.3397429585456848 average time 0.009440037775007681 iter num 80\n",
            "loss 0.3529852032661438 average time 0.009095908460003556 iter num 100\n"
          ],
          "name": "stdout"
        },
        {
          "output_type": "execute_result",
          "data": {
            "text/plain": [
              "State:\n",
              "\titeration: 10000\n",
              "\tepoch: 100\n",
              "\tepoch_length: 100\n",
              "\tmax_epochs: 100\n",
              "\toutput: 0.3529852032661438\n",
              "\tbatch: <class 'tuple'>\n",
              "\tmetrics: <class 'dict'>\n",
              "\tdataloader: <class 'cupy_dataset.NumbaOptionDataSet'>\n",
              "\tseed: <class 'NoneType'>\n",
              "\ttimes: <class 'dict'>"
            ]
          },
          "metadata": {
            "tags": []
          },
          "execution_count": 6
        }
      ]
    },
    {
      "cell_type": "markdown",
      "metadata": {
        "id": "vU1EpGuInwjJ"
      },
      "source": [
        "$2365$ seconds The loss is keeping decreasing which means the pricing model can predict the option prices better. It takes about $12ms$ to compute one mini-batch in average, In the following sections, we will try to expore the full potentials of the GPU to accelerate the training."
      ]
    },
    {
      "cell_type": "markdown",
      "metadata": {
        "id": "A8McNtejRNFT"
      },
      "source": [
        "**Save Model**"
      ]
    },
    {
      "cell_type": "code",
      "metadata": {
        "id": "YRtOr1XIPOvF",
        "colab": {
          "base_uri": "https://localhost:8080/"
        },
        "outputId": "03313b29-e11c-4653-f589-9457eb6bfd2a"
      },
      "source": [
        "from google.colab import drive\n",
        "drive.mount('/content/drive')"
      ],
      "execution_count": 25,
      "outputs": [
        {
          "output_type": "stream",
          "text": [
            "Drive already mounted at /content/drive; to attempt to forcibly remount, call drive.mount(\"/content/drive\", force_remount=True).\n"
          ],
          "name": "stdout"
        }
      ]
    },
    {
      "cell_type": "code",
      "metadata": {
        "id": "9UWrNr_-pa2G"
      },
      "source": [
        "import torch"
      ],
      "execution_count": 24,
      "outputs": []
    },
    {
      "cell_type": "code",
      "metadata": {
        "id": "ndftly2yPEaM"
      },
      "source": [
        "model_save_name = 'checkpoint16.pth'\n",
        "path = F\"/content/drive/MyDrive/AFP Project/Lilian/{model_save_name}\" \n",
        "torch.save(model.state_dict(), path)"
      ],
      "execution_count": 13,
      "outputs": []
    },
    {
      "cell_type": "markdown",
      "metadata": {
        "id": "y6DRO9K2RQoJ"
      },
      "source": [
        "**Load Model**"
      ]
    },
    {
      "cell_type": "code",
      "metadata": {
        "id": "HGXZSV_YRT8v",
        "colab": {
          "base_uri": "https://localhost:8080/"
        },
        "outputId": "ac705cc5-5178-4233-f997-655c51c0bb22"
      },
      "source": [
        "from google.colab import drive\n",
        "drive.mount('/content/drive')"
      ],
      "execution_count": 26,
      "outputs": [
        {
          "output_type": "stream",
          "text": [
            "Drive already mounted at /content/drive; to attempt to forcibly remount, call drive.mount(\"/content/drive\", force_remount=True).\n"
          ],
          "name": "stdout"
        }
      ]
    },
    {
      "cell_type": "code",
      "metadata": {
        "id": "3ntY-N5bOqdq",
        "colab": {
          "base_uri": "https://localhost:8080/"
        },
        "outputId": "b5a617a4-21d5-4b36-8360-d1eefe629788"
      },
      "source": [
        "import torch\n",
        "model_save_name = 'checkpoint16.pth'\n",
        "path = F\"/content/drive/MyDrive/AFP Project/Lilian/{model_save_name}\" \n",
        "#checkpoint15.pth\n",
        "#path = F\"/content/drive/MyDrive/AFP Project/Lilian/checkpoint15.pth\" \n",
        "state_dict = torch.load(path)\n",
        "print(state_dict.keys())"
      ],
      "execution_count": 27,
      "outputs": [
        {
          "output_type": "stream",
          "text": [
            "odict_keys(['norm', 'fc1.weight', 'fc1.bias', 'fc2.weight', 'fc2.bias', 'fc3.weight', 'fc3.bias', 'fc4.weight', 'fc4.bias', 'fc5.weight', 'fc5.bias', 'fc6.weight', 'fc6.bias'])\n"
          ],
          "name": "stdout"
        }
      ]
    },
    {
      "cell_type": "code",
      "metadata": {
        "id": "j0GAGPAgPmgh",
        "colab": {
          "base_uri": "https://localhost:8080/"
        },
        "outputId": "8c22c1d1-8e3c-4c9c-e1b8-35f027ed4a12"
      },
      "source": [
        "# need to run 'Writing cupy_dataset.py' and 'Writing model.py' above before this\n",
        "from model import Net\n",
        "model = Net().cuda()\n",
        "\n",
        "model.load_state_dict(state_dict)\n",
        "print(model)"
      ],
      "execution_count": 28,
      "outputs": [
        {
          "output_type": "stream",
          "text": [
            "Net(\n",
            "  (fc1): Linear(in_features=6, out_features=1024, bias=True)\n",
            "  (fc2): Linear(in_features=1024, out_features=1024, bias=True)\n",
            "  (fc3): Linear(in_features=1024, out_features=1024, bias=True)\n",
            "  (fc4): Linear(in_features=1024, out_features=1024, bias=True)\n",
            "  (fc5): Linear(in_features=1024, out_features=1024, bias=True)\n",
            "  (fc6): Linear(in_features=1024, out_features=1, bias=True)\n",
            ")\n"
          ],
          "name": "stdout"
        }
      ]
    },
    {
      "cell_type": "markdown",
      "metadata": {
        "id": "rXT4Bg0wdL7l"
      },
      "source": [
        "**Continue to train model**"
      ]
    },
    {
      "cell_type": "code",
      "metadata": {
        "id": "Zfa9cp6CdG8T",
        "colab": {
          "base_uri": "https://localhost:8080/"
        },
        "outputId": "776e4750-6e97-4d49-e8a4-a0d94e034c42"
      },
      "source": [
        "from ignite.engine import Engine, Events\n",
        "from ignite.handlers import Timer\n",
        "from torch.nn import MSELoss\n",
        "from torch.optim import Adam\n",
        "from ignite.contrib.handlers.param_scheduler import CosineAnnealingScheduler\n",
        "from ignite.handlers import ModelCheckpoint\n",
        "from model import Net\n",
        "from cupy_dataset import NumbaOptionDataSet\n",
        "timer = Timer(average=True)\n",
        "#model = Net().cuda()\n",
        "loss_fn = MSELoss()\n",
        "optimizer = Adam(model.parameters(), lr=1e-3)\n",
        "# dataset = NumbaOptionDataSet(max_len=10000, number_path = 1024, batch=4800)\n",
        "dataset = NumbaOptionDataSet(max_len=500, number_path = 1024, batch=32, stocks=3)\n",
        "\n",
        "def train_update(engine, batch):\n",
        "    model.train()\n",
        "    optimizer.zero_grad()\n",
        "    x = batch[0]\n",
        "    y = batch[1]\n",
        "    y_pred = model(x)\n",
        "    loss = loss_fn(y_pred[:,0], y)\n",
        "    loss.backward()\n",
        "    optimizer.step()\n",
        "    return loss.item()\n",
        "\n",
        "trainer = Engine(train_update)\n",
        "log_interval = 20\n",
        "\n",
        "scheduler = CosineAnnealingScheduler(optimizer, 'lr', 1e-4, 1e-6, len(dataset))\n",
        "trainer.add_event_handler(Events.ITERATION_STARTED, scheduler)\n",
        "timer.attach(trainer,\n",
        "             start=Events.EPOCH_STARTED,\n",
        "             resume=Events.ITERATION_STARTED,\n",
        "             pause=Events.ITERATION_COMPLETED,\n",
        "             step=Events.ITERATION_COMPLETED)    \n",
        "@trainer.on(Events.ITERATION_COMPLETED)\n",
        "def log_training_loss(engine):\n",
        "    iter = (engine.state.iteration - 1) % len(dataset) + 1\n",
        "    if iter % log_interval == 0:\n",
        "        print('loss', engine.state.output, 'average time', timer.value(), 'iter num', iter)\n",
        "        \n",
        "trainer.run(dataset, max_epochs=20)\n",
        "\n",
        "model_save_name = 'checkpoint15.pth'\n",
        "path = F\"/content/drive/MyDrive/AFP Project/Lilian/{model_save_name}\" \n",
        "torch.save(model.state_dict(), path)"
      ],
      "execution_count": 12,
      "outputs": [
        {
          "output_type": "stream",
          "text": [
            "loss 0.13596370816230774 average time 0.031634866500007776 iter num 20\n",
            "loss 0.09756530821323395 average time 0.0178131913000243 iter num 40\n",
            "loss 0.13553810119628906 average time 0.013157595833399682 iter num 60\n",
            "loss 0.2018914818763733 average time 0.010850279787564431 iter num 80\n",
            "loss 0.12711942195892334 average time 0.009438664390036138 iter num 100\n",
            "loss 0.14672930538654327 average time 0.008489216300025268 iter num 120\n",
            "loss 0.07607821375131607 average time 0.007812428492863026 iter num 140\n",
            "loss 0.12769001722335815 average time 0.007313019725012282 iter num 160\n",
            "loss 0.14457634091377258 average time 0.006928970855561703 iter num 180\n",
            "loss 0.11159031093120575 average time 0.006621938929993121 iter num 200\n",
            "loss 0.07485510408878326 average time 0.006379281763615422 iter num 220\n",
            "loss 0.11645524948835373 average time 0.0061629068208162606 iter num 240\n",
            "loss 0.11999645084142685 average time 0.005979741869210697 iter num 260\n",
            "loss 0.13137134909629822 average time 0.005829821621409792 iter num 280\n",
            "loss 0.10654159635305405 average time 0.005697771276642622 iter num 300\n",
            "loss 0.09610599279403687 average time 0.0055813943531035195 iter num 320\n",
            "loss 0.13367384672164917 average time 0.0054804600235055494 iter num 340\n",
            "loss 0.09407417476177216 average time 0.005383487280535822 iter num 360\n",
            "loss 0.10769466310739517 average time 0.005298578221041489 iter num 380\n",
            "loss 0.12045516818761826 average time 0.005225105762488056 iter num 400\n",
            "loss 0.07038542628288269 average time 0.00516337205713171 iter num 420\n",
            "loss 0.045252710580825806 average time 0.00510253523635294 iter num 440\n",
            "loss 0.0831197202205658 average time 0.005047968234778281 iter num 460\n",
            "loss 0.08159156143665314 average time 0.004998983377085627 iter num 480\n",
            "loss 0.10673834383487701 average time 0.0049575188980034 iter num 500\n",
            "loss 0.09143483638763428 average time 0.030253419250084335 iter num 20\n",
            "loss 0.2912086248397827 average time 0.017028349425049782 iter num 40\n",
            "loss 0.34596315026283264 average time 0.012597868250062068 iter num 60\n",
            "loss 0.22926488518714905 average time 0.010392779037545097 iter num 80\n",
            "loss 0.21375957131385803 average time 0.009077655250021053 iter num 100\n",
            "loss 0.1062721461057663 average time 0.008197202183358362 iter num 120\n",
            "loss 0.05608736723661423 average time 0.007573152742881056 iter num 140\n",
            "loss 0.11707749217748642 average time 0.007106650393791369 iter num 160\n",
            "loss 0.1223781406879425 average time 0.006734507177821393 iter num 180\n",
            "loss 0.14227770268917084 average time 0.00643907084503553 iter num 200\n",
            "loss 0.20025691390037537 average time 0.006193256204580228 iter num 220\n",
            "loss 0.14314976334571838 average time 0.0059887416667038455 iter num 240\n",
            "loss 0.17831505835056305 average time 0.005820624480810903 iter num 260\n",
            "loss 0.18874716758728027 average time 0.005682022482187676 iter num 280\n",
            "loss 0.06882604956626892 average time 0.005557416916702399 iter num 300\n",
            "loss 0.1672946810722351 average time 0.005453410006285253 iter num 320\n",
            "loss 0.07879921793937683 average time 0.005351900000031867 iter num 340\n",
            "loss 0.04222807288169861 average time 0.005262722125035503 iter num 360\n",
            "loss 0.08705536276102066 average time 0.0051857331895031455 iter num 380\n",
            "loss 0.08275886625051498 average time 0.0051194895925209495 iter num 400\n",
            "loss 0.10434481501579285 average time 0.005058607828585168 iter num 420\n",
            "loss 0.07703067362308502 average time 0.004999209622742869 iter num 440\n",
            "loss 0.07677609473466873 average time 0.004945245743497056 iter num 460\n",
            "loss 0.056762948632240295 average time 0.00489487516043899 iter num 480\n",
            "loss 0.050636615604162216 average time 0.004851257388021622 iter num 500\n",
            "loss 0.20352044701576233 average time 0.02830983920007384 iter num 20\n",
            "loss 0.9018182158470154 average time 0.016070320724998054 iter num 40\n",
            "loss 0.2155456393957138 average time 0.011994843816698146 iter num 60\n",
            "loss 0.17975199222564697 average time 0.009943631025032573 iter num 80\n",
            "loss 0.21650350093841553 average time 0.008705367950014989 iter num 100\n",
            "loss 0.7990266680717468 average time 0.007878499858361466 iter num 120\n",
            "loss 0.31094712018966675 average time 0.007289867207165506 iter num 140\n",
            "loss 0.5828882455825806 average time 0.006859131693778409 iter num 160\n",
            "loss 0.4559551775455475 average time 0.006532629261129033 iter num 180\n",
            "loss 0.1461850255727768 average time 0.006262447770018298 iter num 200\n",
            "loss 0.24939140677452087 average time 0.006040918209104844 iter num 220\n",
            "loss 0.14530335366725922 average time 0.005861173650017312 iter num 240\n",
            "loss 0.28799915313720703 average time 0.005701231038479958 iter num 260\n",
            "loss 0.14359506964683533 average time 0.00556193512144156 iter num 280\n",
            "loss 0.07536016404628754 average time 0.005441313686678768 iter num 300\n",
            "loss 0.10987270623445511 average time 0.005336034425008051 iter num 320\n",
            "loss 0.0678662657737732 average time 0.005250060938249803 iter num 340\n",
            "loss 0.12891682982444763 average time 0.0051726563139052615 iter num 360\n",
            "loss 0.046028271317481995 average time 0.005102903397382282 iter num 380\n",
            "loss 0.12400989234447479 average time 0.005035032482517181 iter num 400\n",
            "loss 0.05936651676893234 average time 0.004972440254778121 iter num 420\n",
            "loss 0.07973095029592514 average time 0.0049144769409270915 iter num 440\n",
            "loss 0.08368822932243347 average time 0.0048708902913127215 iter num 460\n",
            "loss 0.06056026741862297 average time 0.004826720741669987 iter num 480\n",
            "loss 0.06484836339950562 average time 0.004787074334000863 iter num 500\n",
            "loss 0.058537937700748444 average time 0.0302112594000846 iter num 20\n",
            "loss 0.2153940349817276 average time 0.016964840775017365 iter num 40\n",
            "loss 0.07955010235309601 average time 0.012563439083366271 iter num 60\n",
            "loss 0.16039608418941498 average time 0.010369213262549692 iter num 80\n",
            "loss 0.09088741987943649 average time 0.009046420950053289 iter num 100\n",
            "loss 0.11664178222417831 average time 0.00817840006671607 iter num 120\n",
            "loss 0.06581874191761017 average time 0.007558289050042991 iter num 140\n",
            "loss 0.1188935935497284 average time 0.007089179212528052 iter num 160\n",
            "loss 0.419721394777298 average time 0.0067207200611291125 iter num 180\n",
            "loss 0.11369891464710236 average time 0.00642006960501476 iter num 200\n",
            "loss 0.12109631299972534 average time 0.006177501227297068 iter num 220\n",
            "loss 0.07835604250431061 average time 0.005976388412526982 iter num 240\n",
            "loss 0.08608890324831009 average time 0.005810157811562861 iter num 260\n",
            "loss 0.1251639425754547 average time 0.005669802632171793 iter num 280\n",
            "loss 0.07099828124046326 average time 0.005539901550024903 iter num 300\n",
            "loss 0.06391803920269012 average time 0.005431612890649262 iter num 320\n",
            "loss 0.05804213136434555 average time 0.005337687952961086 iter num 340\n",
            "loss 0.09672344475984573 average time 0.005246578500012018 iter num 360\n",
            "loss 0.12983646988868713 average time 0.005165858734220532 iter num 380\n",
            "loss 0.11253093928098679 average time 0.005091597152513714 iter num 400\n",
            "loss 0.056294046342372894 average time 0.005025700373826545 iter num 420\n",
            "loss 0.06181855499744415 average time 0.00497848317275136 iter num 440\n",
            "loss 0.08057647198438644 average time 0.004929079095672537 iter num 460\n",
            "loss 0.04236835241317749 average time 0.004884061135438363 iter num 480\n",
            "loss 0.04032481461763382 average time 0.004840867480019369 iter num 500\n",
            "loss 0.11105524748563766 average time 0.02898192784987259 iter num 20\n",
            "loss 0.366735577583313 average time 0.016353813450018607 iter num 40\n",
            "loss 0.17042236030101776 average time 0.012171415033329443 iter num 60\n",
            "loss 0.34274786710739136 average time 0.010092333900001905 iter num 80\n",
            "loss 0.39786720275878906 average time 0.00884280343001592 iter num 100\n",
            "loss 0.36284339427948 average time 0.007998171825018592 iter num 120\n",
            "loss 0.2709917426109314 average time 0.007399664314295608 iter num 140\n",
            "loss 0.09240804612636566 average time 0.006941402224998683 iter num 160\n",
            "loss 0.29432713985443115 average time 0.00658093160555432 iter num 180\n",
            "loss 0.14739687740802765 average time 0.006302051219990972 iter num 200\n",
            "loss 0.10872047394514084 average time 0.006080956036368496 iter num 220\n",
            "loss 0.08807070553302765 average time 0.005891317025005568 iter num 240\n",
            "loss 0.13222983479499817 average time 0.005724726553857041 iter num 260\n",
            "loss 0.09098033607006073 average time 0.005581206539289139 iter num 280\n",
            "loss 0.1469089686870575 average time 0.005453881583334806 iter num 300\n",
            "loss 0.049985453486442566 average time 0.005343445359386578 iter num 320\n",
            "loss 0.15012052655220032 average time 0.005250904373542653 iter num 340\n",
            "loss 0.08359874784946442 average time 0.005169844833340499 iter num 360\n",
            "loss 0.15910883247852325 average time 0.005096966973690685 iter num 380\n",
            "loss 0.048540666699409485 average time 0.005027837312509291 iter num 400\n",
            "loss 0.07644668221473694 average time 0.004970480480958594 iter num 420\n",
            "loss 0.08088058978319168 average time 0.004918406027282303 iter num 440\n",
            "loss 0.06096987798810005 average time 0.0048646786521816384 iter num 460\n",
            "loss 0.05821259692311287 average time 0.004822900843756391 iter num 480\n",
            "loss 0.06335145980119705 average time 0.004777273430006971 iter num 500\n",
            "loss 0.3795185983181 average time 0.02783868875008011 iter num 20\n",
            "loss 0.1350976526737213 average time 0.015840883900091286 iter num 40\n",
            "loss 0.2421523630619049 average time 0.01189619035008036 iter num 60\n",
            "loss 0.13292834162712097 average time 0.009874904262539985 iter num 80\n",
            "loss 0.13426658511161804 average time 0.008646378720040957 iter num 100\n",
            "loss 0.06869063526391983 average time 0.00781913976669178 iter num 120\n",
            "loss 0.2200322151184082 average time 0.007235622307130793 iter num 140\n",
            "loss 0.3307921290397644 average time 0.006796725062463338 iter num 160\n",
            "loss 0.6540377140045166 average time 0.006466051738859986 iter num 180\n",
            "loss 0.3408162295818329 average time 0.0062078279999605 iter num 200\n",
            "loss 0.2056976854801178 average time 0.005986774954528135 iter num 220\n",
            "loss 0.10131923109292984 average time 0.00579730955832171 iter num 240\n",
            "loss 0.07808706909418106 average time 0.005637723538445873 iter num 260\n",
            "loss 0.11034855991601944 average time 0.005501569789281088 iter num 280\n",
            "loss 0.13443252444267273 average time 0.005382622246652318 iter num 300\n",
            "loss 0.0767761617898941 average time 0.005295967809360036 iter num 320\n",
            "loss 0.07761804759502411 average time 0.005207318411756954 iter num 340\n",
            "loss 0.06747239828109741 average time 0.005123659941662279 iter num 360\n",
            "loss 0.06200362741947174 average time 0.005049055418418759 iter num 380\n",
            "loss 0.12016237527132034 average time 0.004980719592499554 iter num 400\n",
            "loss 0.1327228993177414 average time 0.004919457019037682 iter num 420\n",
            "loss 0.10718155652284622 average time 0.004865449568176866 iter num 440\n",
            "loss 0.04609985649585724 average time 0.004821032847805485 iter num 460\n",
            "loss 0.1217765286564827 average time 0.004783582099984566 iter num 480\n",
            "loss 0.0740852802991867 average time 0.00474152842399053 iter num 500\n",
            "loss 0.2477182149887085 average time 0.027637539750139696 iter num 20\n",
            "loss 0.2178783416748047 average time 0.015666175024944096 iter num 40\n",
            "loss 0.12112923711538315 average time 0.011671894633339737 iter num 60\n",
            "loss 0.14860884845256805 average time 0.009698372912544074 iter num 80\n",
            "loss 0.15302997827529907 average time 0.008522167890023412 iter num 100\n",
            "loss 0.17557528614997864 average time 0.007736774583327133 iter num 120\n",
            "loss 0.474277138710022 average time 0.007171359121418521 iter num 140\n",
            "loss 0.688957929611206 average time 0.00674480216248412 iter num 160\n",
            "loss 0.20926865935325623 average time 0.006414935433319139 iter num 180\n",
            "loss 0.28726720809936523 average time 0.006144074464964433 iter num 200\n",
            "loss 0.13186444342136383 average time 0.005922116245429524 iter num 220\n",
            "loss 0.13025426864624023 average time 0.0057353940833233235 iter num 240\n",
            "loss 0.0902319923043251 average time 0.005574531834617329 iter num 260\n",
            "loss 0.08018437027931213 average time 0.005450978582140513 iter num 280\n",
            "loss 0.1394525170326233 average time 0.00534218808001242 iter num 300\n",
            "loss 0.12600921094417572 average time 0.005244457468756991 iter num 320\n",
            "loss 0.06902489811182022 average time 0.005152493114693403 iter num 340\n",
            "loss 0.05648296698927879 average time 0.005071314661093614 iter num 360\n",
            "loss 0.052005961537361145 average time 0.004997965273684569 iter num 380\n",
            "loss 0.0881178006529808 average time 0.004932160162502442 iter num 400\n",
            "loss 0.03723197802901268 average time 0.004885463295241131 iter num 420\n",
            "loss 0.05945098027586937 average time 0.004835345813638593 iter num 440\n",
            "loss 0.12479676306247711 average time 0.00478717618260935 iter num 460\n",
            "loss 0.12883032858371735 average time 0.004741435197918993 iter num 480\n",
            "loss 0.08855143189430237 average time 0.004697904287997517 iter num 500\n",
            "loss 0.24763223528862 average time 0.027705785899706827 iter num 20\n",
            "loss 0.23509101569652557 average time 0.01574332127474918 iter num 40\n",
            "loss 0.3391733765602112 average time 0.011859306749768924 iter num 60\n",
            "loss 0.1779979169368744 average time 0.00984420107488404 iter num 80\n",
            "loss 0.13510367274284363 average time 0.008613325149963203 iter num 100\n",
            "loss 0.24981731176376343 average time 0.007789876766643526 iter num 120\n",
            "loss 0.11055532097816467 average time 0.007199948578584424 iter num 140\n",
            "loss 0.11261796951293945 average time 0.0067639805125168095 iter num 160\n",
            "loss 0.20381426811218262 average time 0.00642819867779407 iter num 180\n",
            "loss 0.15936066210269928 average time 0.006163941825043366 iter num 200\n",
            "loss 0.3532394468784332 average time 0.005970994640930175 iter num 220\n",
            "loss 0.09470195323228836 average time 0.005786693558343358 iter num 240\n",
            "loss 0.10854975134134293 average time 0.005637288688481372 iter num 260\n",
            "loss 0.08130301535129547 average time 0.005501838278600449 iter num 280\n",
            "loss 0.05548051744699478 average time 0.005381968410032035 iter num 300\n",
            "loss 0.05001680925488472 average time 0.005283926656267113 iter num 320\n",
            "loss 0.10549116879701614 average time 0.005196323555896122 iter num 340\n",
            "loss 0.156839519739151 average time 0.005113076705558544 iter num 360\n",
            "loss 0.11823748052120209 average time 0.005045915310534168 iter num 380\n",
            "loss 0.08716055750846863 average time 0.004983917107515481 iter num 400\n",
            "loss 0.048945099115371704 average time 0.004925989990464413 iter num 420\n",
            "loss 0.07608681172132492 average time 0.004870028045450619 iter num 440\n",
            "loss 0.08355726301670074 average time 0.004817861969557112 iter num 460\n",
            "loss 0.06990113854408264 average time 0.004772557833318084 iter num 480\n",
            "loss 0.11675432324409485 average time 0.004735844473994803 iter num 500\n",
            "loss 0.22322812676429749 average time 0.02738464100011697 iter num 20\n",
            "loss 0.12250819057226181 average time 0.015609735875113984 iter num 40\n",
            "loss 0.17790430784225464 average time 0.011668222983401696 iter num 60\n",
            "loss 0.13129228353500366 average time 0.009692498375034119 iter num 80\n",
            "loss 0.17501133680343628 average time 0.008496493539969379 iter num 100\n",
            "loss 0.26589006185531616 average time 0.007711767874964911 iter num 120\n",
            "loss 0.3946000337600708 average time 0.007147471592868117 iter num 140\n",
            "loss 0.3830956518650055 average time 0.006738881937496899 iter num 160\n",
            "loss 0.14873075485229492 average time 0.006424036455518945 iter num 180\n",
            "loss 0.10308808088302612 average time 0.006157849139954124 iter num 200\n",
            "loss 0.14376896619796753 average time 0.005933043227212858 iter num 220\n",
            "loss 0.10793988406658173 average time 0.005744781604130366 iter num 240\n",
            "loss 0.08095308393239975 average time 0.005588974619205636 iter num 260\n",
            "loss 0.13650035858154297 average time 0.005460656485697005 iter num 280\n",
            "loss 0.10028176009654999 average time 0.005349982439978097 iter num 300\n",
            "loss 0.08569933474063873 average time 0.005258347731233926 iter num 320\n",
            "loss 0.05645931884646416 average time 0.005167432326470589 iter num 340\n",
            "loss 0.11574055254459381 average time 0.005083703472215954 iter num 360\n",
            "loss 0.07863262295722961 average time 0.005011030615782817 iter num 380\n",
            "loss 0.13521841168403625 average time 0.004944407377483913 iter num 400\n",
            "loss 0.052788469940423965 average time 0.004891169497607604 iter num 420\n",
            "loss 0.11035483330488205 average time 0.004843835409081459 iter num 440\n",
            "loss 0.047333866357803345 average time 0.004801382780426692 iter num 460\n",
            "loss 0.06099441647529602 average time 0.004758321668737154 iter num 480\n",
            "loss 0.10628299415111542 average time 0.0047243513599860305 iter num 500\n",
            "loss 0.13874311745166779 average time 0.02968173255003421 iter num 20\n",
            "loss 0.15330341458320618 average time 0.0166871656249441 iter num 40\n",
            "loss 0.19292181730270386 average time 0.01236156606652609 iter num 60\n",
            "loss 0.11966544389724731 average time 0.010189008124916655 iter num 80\n",
            "loss 0.11806414276361465 average time 0.008888033919974987 iter num 100\n",
            "loss 0.30116939544677734 average time 0.008050306033298208 iter num 120\n",
            "loss 0.24070197343826294 average time 0.007440426107119233 iter num 140\n",
            "loss 0.1858232021331787 average time 0.006987114956223195 iter num 160\n",
            "loss 0.17540296912193298 average time 0.006648527799966865 iter num 180\n",
            "loss 0.2978767454624176 average time 0.006350079464964437 iter num 200\n",
            "loss 0.10879944264888763 average time 0.0061201848545021096 iter num 220\n",
            "loss 0.09864044189453125 average time 0.005918473366621887 iter num 240\n",
            "loss 0.13073833286762238 average time 0.005756232880713259 iter num 260\n",
            "loss 0.11364134401082993 average time 0.005617177582066039 iter num 280\n",
            "loss 0.24158364534378052 average time 0.005490878649931498 iter num 300\n",
            "loss 0.0657842606306076 average time 0.005383828878069608 iter num 320\n",
            "loss 0.11725417524576187 average time 0.005282893773469636 iter num 340\n",
            "loss 0.1059989333152771 average time 0.005192574616603452 iter num 360\n",
            "loss 0.05915210396051407 average time 0.00512231332624747 iter num 380\n",
            "loss 0.0830908715724945 average time 0.005056575592429908 iter num 400\n",
            "loss 0.08506198972463608 average time 0.004997311916607335 iter num 420\n",
            "loss 0.07995276898145676 average time 0.004943688393132107 iter num 440\n",
            "loss 0.09907927364110947 average time 0.004890370932555569 iter num 460\n",
            "loss 0.07923848927021027 average time 0.004841546966607287 iter num 480\n",
            "loss 0.08371399343013763 average time 0.004794708233952406 iter num 500\n",
            "loss 0.47051286697387695 average time 0.027748417900147614 iter num 20\n",
            "loss 0.19076964259147644 average time 0.015784537900117357 iter num 40\n",
            "loss 0.13180901110172272 average time 0.011779036466759863 iter num 60\n",
            "loss 0.1639733761548996 average time 0.009774374700054978 iter num 80\n",
            "loss 0.21009249985218048 average time 0.008588941120106029 iter num 100\n",
            "loss 0.43531832098960876 average time 0.00779486590840861 iter num 120\n",
            "loss 0.174998939037323 average time 0.007214292628668772 iter num 140\n",
            "loss 0.15014973282814026 average time 0.00677641342510924 iter num 160\n",
            "loss 0.18340730667114258 average time 0.006442620205628676 iter num 180\n",
            "loss 0.06831248104572296 average time 0.0061674789200878875 iter num 200\n",
            "loss 0.11746737360954285 average time 0.005949848927354073 iter num 220\n",
            "loss 0.043603524565696716 average time 0.005790178775070368 iter num 240\n",
            "loss 0.10636232793331146 average time 0.005636478977003907 iter num 260\n",
            "loss 0.08180302381515503 average time 0.005497572217934378 iter num 280\n",
            "loss 0.12187347561120987 average time 0.005375904713394751 iter num 300\n",
            "loss 0.13988909125328064 average time 0.005268639262567376 iter num 320\n",
            "loss 0.08520269393920898 average time 0.0051883598971097155 iter num 340\n",
            "loss 0.13731102645397186 average time 0.005111767013942073 iter num 360\n",
            "loss 0.09299831092357635 average time 0.005041073894785529 iter num 380\n",
            "loss 0.03789212927222252 average time 0.00497598975004621 iter num 400\n",
            "loss 0.03226122260093689 average time 0.004917083028612978 iter num 420\n",
            "loss 0.06085339933633804 average time 0.004860886143209923 iter num 440\n",
            "loss 0.10035412758588791 average time 0.004808400747843616 iter num 460\n",
            "loss 0.1247631385922432 average time 0.004763965306275016 iter num 480\n",
            "loss 0.10154455155134201 average time 0.004725141878017894 iter num 500\n",
            "loss 0.07819155603647232 average time 0.029851467499884165 iter num 20\n",
            "loss 0.20121334493160248 average time 0.016772997849966487 iter num 40\n",
            "loss 0.12382480502128601 average time 0.01241344684995056 iter num 60\n",
            "loss 0.2070050835609436 average time 0.010236692712464902 iter num 80\n",
            "loss 0.14959362149238586 average time 0.008923539529987465 iter num 100\n",
            "loss 0.1374386101961136 average time 0.008074274158313225 iter num 120\n",
            "loss 0.24510903656482697 average time 0.007473621785694767 iter num 140\n",
            "loss 0.31417402625083923 average time 0.00701596974373615 iter num 160\n",
            "loss 0.2745506763458252 average time 0.006645765544443647 iter num 180\n",
            "loss 0.07947845757007599 average time 0.00635082216000228 iter num 200\n",
            "loss 0.14912724494934082 average time 0.006113783227299957 iter num 220\n",
            "loss 0.11948906630277634 average time 0.005910603279191188 iter num 240\n",
            "loss 0.12967990338802338 average time 0.005748048046182073 iter num 260\n",
            "loss 0.11169826984405518 average time 0.005609553885746469 iter num 280\n",
            "loss 0.039152078330516815 average time 0.005491351900018344 iter num 300\n",
            "loss 0.07520974427461624 average time 0.005384326846910881 iter num 320\n",
            "loss 0.0842665433883667 average time 0.005290601208857612 iter num 340\n",
            "loss 0.07978536188602448 average time 0.005206583680577145 iter num 360\n",
            "loss 0.11500190198421478 average time 0.005129811860531749 iter num 380\n",
            "loss 0.1268615424633026 average time 0.005056786915010889 iter num 400\n",
            "loss 0.04881555587053299 average time 0.004991015745240258 iter num 420\n",
            "loss 0.08669736981391907 average time 0.004932568122731853 iter num 440\n",
            "loss 0.04890202730894089 average time 0.004885418452174591 iter num 460\n",
            "loss 0.06590522825717926 average time 0.004842100045830951 iter num 480\n",
            "loss 0.03496048226952553 average time 0.00479933067598904 iter num 500\n",
            "loss 0.542543888092041 average time 0.027542931849893648 iter num 20\n",
            "loss 0.22602710127830505 average time 0.015603772599979493 iter num 40\n",
            "loss 0.20475837588310242 average time 0.011625010983334506 iter num 60\n",
            "loss 0.2662123441696167 average time 0.009649620175036944 iter num 80\n",
            "loss 0.2951701581478119 average time 0.008479992090015003 iter num 100\n",
            "loss 0.34762099385261536 average time 0.00769573051666157 iter num 120\n",
            "loss 0.4383007287979126 average time 0.007128564328559151 iter num 140\n",
            "loss 0.18047116696834564 average time 0.006700080687494392 iter num 160\n",
            "loss 0.12186753749847412 average time 0.006367554055547468 iter num 180\n",
            "loss 0.08796302229166031 average time 0.006102772075028042 iter num 200\n",
            "loss 0.10621140152215958 average time 0.005891251286373683 iter num 220\n",
            "loss 0.06459713727235794 average time 0.005729096504160225 iter num 240\n",
            "loss 0.13535064458847046 average time 0.0055816151999911546 iter num 260\n",
            "loss 0.12666833400726318 average time 0.005444463117854476 iter num 280\n",
            "loss 0.166037917137146 average time 0.00532675419000346 iter num 300\n",
            "loss 0.11510451138019562 average time 0.0052235478781199165 iter num 320\n",
            "loss 0.08764894306659698 average time 0.005134398473498603 iter num 340\n",
            "loss 0.09510060399770737 average time 0.005058491222199438 iter num 360\n",
            "loss 0.02698497101664543 average time 0.004992625147343987 iter num 380\n",
            "loss 0.0490376353263855 average time 0.004935916752469893 iter num 400\n",
            "loss 0.14199405908584595 average time 0.00487859129283 iter num 420\n",
            "loss 0.07632191479206085 average time 0.004830533406795273 iter num 440\n",
            "loss 0.04242091625928879 average time 0.004784405786939833 iter num 460\n",
            "loss 0.04874185845255852 average time 0.004738099547902645 iter num 480\n",
            "loss 0.04950081557035446 average time 0.004695522681995499 iter num 500\n",
            "loss 0.1573709398508072 average time 0.027567978349543408 iter num 20\n",
            "loss 0.18477638065814972 average time 0.015620092899916926 iter num 40\n",
            "loss 0.09059712290763855 average time 0.011680015566647247 iter num 60\n",
            "loss 0.19070836901664734 average time 0.009713627637415812 iter num 80\n",
            "loss 0.13465866446495056 average time 0.008564827399968635 iter num 100\n",
            "loss 0.13700047135353088 average time 0.007750156158256989 iter num 120\n",
            "loss 0.14787134528160095 average time 0.007169409249945602 iter num 140\n",
            "loss 0.07949945330619812 average time 0.006740140918725501 iter num 160\n",
            "loss 0.16165053844451904 average time 0.006406790505520297 iter num 180\n",
            "loss 0.11388775706291199 average time 0.0061461876999510424 iter num 200\n",
            "loss 0.2841249406337738 average time 0.005933926309039221 iter num 220\n",
            "loss 0.0898161381483078 average time 0.005752314887445209 iter num 240\n",
            "loss 0.19443519413471222 average time 0.005601824161483539 iter num 260\n",
            "loss 0.12828463315963745 average time 0.005465330110674975 iter num 280\n",
            "loss 0.09872376918792725 average time 0.005346265633300693 iter num 300\n",
            "loss 0.07774384319782257 average time 0.005248169465590991 iter num 320\n",
            "loss 0.09888525307178497 average time 0.005162537999951704 iter num 340\n",
            "loss 0.050828393548727036 average time 0.005087638174952897 iter num 360\n",
            "loss 0.10277518630027771 average time 0.005017431855216465 iter num 380\n",
            "loss 0.12283045053482056 average time 0.004951370689950636 iter num 400\n",
            "loss 0.05632437765598297 average time 0.0048922819356578525 iter num 420\n",
            "loss 0.042976751923561096 average time 0.004845429118135639 iter num 440\n",
            "loss 0.054756663739681244 average time 0.004799033295619112 iter num 460\n",
            "loss 0.058417923748493195 average time 0.004760437339537778 iter num 480\n",
            "loss 0.05641729384660721 average time 0.004721672933952504 iter num 500\n",
            "loss 0.20222653448581696 average time 0.029196500650050437 iter num 20\n",
            "loss 0.07305529713630676 average time 0.01644318917497003 iter num 40\n",
            "loss 1.8247113227844238 average time 0.012186324466680769 iter num 60\n",
            "loss 0.4305763840675354 average time 0.010056381300023532 iter num 80\n",
            "loss 0.15125279128551483 average time 0.008811481019965867 iter num 100\n",
            "loss 0.19727055728435516 average time 0.007973545208308981 iter num 120\n",
            "loss 0.10599499195814133 average time 0.0073682362356781335 iter num 140\n",
            "loss 0.14750070869922638 average time 0.006918105387433116 iter num 160\n",
            "loss 0.05444466322660446 average time 0.006572873038819833 iter num 180\n",
            "loss 0.09631527960300446 average time 0.0062945851349195435 iter num 200\n",
            "loss 0.1282094269990921 average time 0.006058176768097341 iter num 220\n",
            "loss 0.16621527075767517 average time 0.0058608797707544605 iter num 240\n",
            "loss 0.0921597108244896 average time 0.005693397149934753 iter num 260\n",
            "loss 0.15610718727111816 average time 0.005547641739219346 iter num 280\n",
            "loss 0.1369333267211914 average time 0.005433137813282277 iter num 300\n",
            "loss 0.0757611095905304 average time 0.005330732756192447 iter num 320\n",
            "loss 0.10594041645526886 average time 0.005237505661711219 iter num 340\n",
            "loss 0.04000890627503395 average time 0.005153224669382123 iter num 360\n",
            "loss 0.05103641748428345 average time 0.005074794002566226 iter num 380\n",
            "loss 0.08168132603168488 average time 0.005004483959937716 iter num 400\n",
            "loss 0.09312985837459564 average time 0.004944999973745975 iter num 420\n",
            "loss 0.07708092033863068 average time 0.004893600338577512 iter num 440\n",
            "loss 0.037503715604543686 average time 0.004847279482557655 iter num 460\n",
            "loss 0.0694294422864914 average time 0.00480312184995455 iter num 480\n",
            "loss 0.052316341549158096 average time 0.00475874252194626 iter num 500\n",
            "loss 0.1618252545595169 average time 0.02808433939990209 iter num 20\n",
            "loss 0.31954848766326904 average time 0.015881369700036885 iter num 40\n",
            "loss 0.4161874055862427 average time 0.011835307999990618 iter num 60\n",
            "loss 0.21346047520637512 average time 0.009836252274931212 iter num 80\n",
            "loss 0.14992019534111023 average time 0.008641065799984061 iter num 100\n",
            "loss 0.24884556233882904 average time 0.00782345835829498 iter num 120\n",
            "loss 0.08501183986663818 average time 0.007231736264254453 iter num 140\n",
            "loss 0.11006402224302292 average time 0.006788801406264611 iter num 160\n",
            "loss 0.08118704706430435 average time 0.0064495409555699245 iter num 180\n",
            "loss 0.10671988874673843 average time 0.006181761099987852 iter num 200\n",
            "loss 0.09715814143419266 average time 0.005966037704530952 iter num 220\n",
            "loss 0.09618691354990005 average time 0.0057836442749930935 iter num 240\n",
            "loss 0.16636210680007935 average time 0.005626587996133681 iter num 260\n",
            "loss 0.09520155191421509 average time 0.005499415989243061 iter num 280\n",
            "loss 0.151609867811203 average time 0.005387387753283596 iter num 300\n",
            "loss 0.04975154995918274 average time 0.005281227934318622 iter num 320\n",
            "loss 0.08943705260753632 average time 0.005189479399974944 iter num 340\n",
            "loss 0.09266237914562225 average time 0.00510567965830483 iter num 360\n",
            "loss 0.08122572302818298 average time 0.005029928292084438 iter num 380\n",
            "loss 0.06414347887039185 average time 0.004967210404984144 iter num 400\n",
            "loss 0.07977626472711563 average time 0.004912123583328918 iter num 420\n",
            "loss 0.061280883848667145 average time 0.004862168811355746 iter num 440\n",
            "loss 0.09157021343708038 average time 0.00481436204346882 iter num 460\n",
            "loss 0.05461576208472252 average time 0.004766495849992225 iter num 480\n",
            "loss 0.06420084089040756 average time 0.004722191393993853 iter num 500\n",
            "loss 0.18008828163146973 average time 0.027544421249604056 iter num 20\n",
            "loss 0.2507138252258301 average time 0.01567994267479662 iter num 40\n",
            "loss 0.17036953568458557 average time 0.011721089783228915 iter num 60\n",
            "loss 0.42170488834381104 average time 0.009708824774929781 iter num 80\n",
            "loss 0.08400759100914001 average time 0.008526746509978693 iter num 100\n",
            "loss 0.13911128044128418 average time 0.0077242483833136555 iter num 120\n",
            "loss 0.24610835313796997 average time 0.007146867214253559 iter num 140\n",
            "loss 0.06681320071220398 average time 0.00671661654376976 iter num 160\n",
            "loss 0.22926683723926544 average time 0.00640154398888626 iter num 180\n",
            "loss 0.22056660056114197 average time 0.0061443568649883675 iter num 200\n",
            "loss 0.14046341180801392 average time 0.0059285773772981805 iter num 220\n",
            "loss 0.10730189830064774 average time 0.005752745970820191 iter num 240\n",
            "loss 0.07287073135375977 average time 0.005595544399987445 iter num 260\n",
            "loss 0.08840072154998779 average time 0.005457937132132429 iter num 280\n",
            "loss 0.04722803831100464 average time 0.005343868106641215 iter num 300\n",
            "loss 0.06859514862298965 average time 0.005263158312453697 iter num 320\n",
            "loss 0.03868617117404938 average time 0.005177696258760989 iter num 340\n",
            "loss 0.1298912614583969 average time 0.005096325127710265 iter num 360\n",
            "loss 0.11542278528213501 average time 0.005022247207819562 iter num 380\n",
            "loss 0.10823685675859451 average time 0.004955789272421498 iter num 400\n",
            "loss 0.07599762827157974 average time 0.004896565930885983 iter num 420\n",
            "loss 0.064536914229393 average time 0.004845927470407994 iter num 440\n",
            "loss 0.05020129308104515 average time 0.004802575862998745 iter num 460\n",
            "loss 0.058165594935417175 average time 0.004759622437446372 iter num 480\n",
            "loss 0.0859857052564621 average time 0.004720233889944211 iter num 500\n",
            "loss 0.22336715459823608 average time 0.02949430959979509 iter num 20\n",
            "loss 0.6496067047119141 average time 0.016643837024867027 iter num 40\n",
            "loss 0.2606387138366699 average time 0.01234742816650396 iter num 60\n",
            "loss 0.118824303150177 average time 0.010190619999866613 iter num 80\n",
            "loss 0.1875545233488083 average time 0.008892116019869717 iter num 100\n",
            "loss 0.27475863695144653 average time 0.008028642766582076 iter num 120\n",
            "loss 0.29739391803741455 average time 0.007420970528489436 iter num 140\n",
            "loss 0.6107410192489624 average time 0.0069734783874082495 iter num 160\n",
            "loss 0.12264127284288406 average time 0.006617913911041898 iter num 180\n",
            "loss 0.15443240106105804 average time 0.006327681214943368 iter num 200\n",
            "loss 0.07046431303024292 average time 0.006102653549938127 iter num 220\n",
            "loss 0.08613505214452744 average time 0.005900744524941122 iter num 240\n",
            "loss 0.11778834462165833 average time 0.005731443773045332 iter num 260\n",
            "loss 0.06786686182022095 average time 0.0055946868035464704 iter num 280\n",
            "loss 0.10793107748031616 average time 0.0054829596199730685 iter num 300\n",
            "loss 0.09404800832271576 average time 0.005375661718710489 iter num 320\n",
            "loss 0.10032802820205688 average time 0.00527566336465551 iter num 340\n",
            "loss 0.12175503373146057 average time 0.005188237177723446 iter num 360\n",
            "loss 0.09661918133497238 average time 0.005115119381528195 iter num 380\n",
            "loss 0.059321798384189606 average time 0.00504629025743725 iter num 400\n",
            "loss 0.07630573213100433 average time 0.00498752933803882 iter num 420\n",
            "loss 0.08918625116348267 average time 0.0049341020612990345 iter num 440\n",
            "loss 0.08873385936021805 average time 0.00488255120211682 iter num 460\n",
            "loss 0.10990612953901291 average time 0.004833646391618155 iter num 480\n",
            "loss 0.08690245449542999 average time 0.004786894645960274 iter num 500\n",
            "loss 0.1376323401927948 average time 0.02794784464995246 iter num 20\n",
            "loss 0.16300281882286072 average time 0.015841819999832297 iter num 40\n",
            "loss 0.24132652580738068 average time 0.011828639183264992 iter num 60\n",
            "loss 0.34637442231178284 average time 0.009897471987460448 iter num 80\n",
            "loss 0.17661750316619873 average time 0.00865309699987847 iter num 100\n",
            "loss 0.12621541321277618 average time 0.00785147898326007 iter num 120\n",
            "loss 0.1393824815750122 average time 0.007278004878480715 iter num 140\n",
            "loss 0.11972768604755402 average time 0.006833390349891033 iter num 160\n",
            "loss 0.0691518783569336 average time 0.0064851959332069475 iter num 180\n",
            "loss 0.14578405022621155 average time 0.006205065224885402 iter num 200\n",
            "loss 0.14129725098609924 average time 0.005982744672631022 iter num 220\n",
            "loss 0.09589523077011108 average time 0.005797947204086995 iter num 240\n",
            "loss 0.06842228025197983 average time 0.005645098476858178 iter num 260\n",
            "loss 0.08094318211078644 average time 0.005510411310634871 iter num 280\n",
            "loss 0.06425494700670242 average time 0.0053895536165631105 iter num 300\n",
            "loss 0.08735527098178864 average time 0.0052844726467924374 iter num 320\n",
            "loss 0.0954403430223465 average time 0.005189033732270165 iter num 340\n",
            "loss 0.10561135411262512 average time 0.005104212563810506 iter num 360\n",
            "loss 0.056908853352069855 average time 0.005034908194662229 iter num 380\n",
            "loss 0.03914163261651993 average time 0.0049756270699344895 iter num 400\n",
            "loss 0.06291456520557404 average time 0.00491697279041026 iter num 420\n",
            "loss 0.13209310173988342 average time 0.0048627114840325125 iter num 440\n",
            "loss 0.07395490258932114 average time 0.0048128510412504474 iter num 460\n",
            "loss 0.059526409953832626 average time 0.00476571029785949 iter num 480\n",
            "loss 0.04897633194923401 average time 0.0047323490279486576 iter num 500\n",
            "loss 0.1645723283290863 average time 0.029826038000101106 iter num 20\n",
            "loss 0.21929726004600525 average time 0.016801369600034376 iter num 40\n",
            "loss 0.28477954864501953 average time 0.012460830500064428 iter num 60\n",
            "loss 0.18918003141880035 average time 0.010274369350054258 iter num 80\n",
            "loss 0.23917251825332642 average time 0.008956967439971777 iter num 100\n",
            "loss 0.15130682289600372 average time 0.008078203533356525 iter num 120\n",
            "loss 0.21968582272529602 average time 0.007458732464328932 iter num 140\n",
            "loss 0.16389916837215424 average time 0.007001202562537401 iter num 160\n",
            "loss 0.16303205490112305 average time 0.006644996305597791 iter num 180\n",
            "loss 0.06056895852088928 average time 0.006364667020052366 iter num 200\n",
            "loss 0.09060078859329224 average time 0.0061335202818637215 iter num 220\n",
            "loss 0.15258291363716125 average time 0.005939435220898304 iter num 240\n",
            "loss 0.14050355553627014 average time 0.005769999919280403 iter num 260\n",
            "loss 0.13969071209430695 average time 0.00562792948218365 iter num 280\n",
            "loss 0.060931116342544556 average time 0.005497233546708837 iter num 300\n",
            "loss 0.08893425762653351 average time 0.0053836479125493495 iter num 320\n",
            "loss 0.11146446317434311 average time 0.0052857260912359755 iter num 340\n",
            "loss 0.04718021675944328 average time 0.0052044177639497015 iter num 360\n",
            "loss 0.044899195432662964 average time 0.0051401827263601405 iter num 380\n",
            "loss 0.1143861711025238 average time 0.005069106087553336 iter num 400\n",
            "loss 0.09969724714756012 average time 0.005003950292909091 iter num 420\n",
            "loss 0.0761784017086029 average time 0.004946020784146557 iter num 440\n",
            "loss 0.0961904525756836 average time 0.004891804454406235 iter num 460\n",
            "loss 0.07882729917764664 average time 0.004845295475058719 iter num 480\n",
            "loss 0.054766424000263214 average time 0.004803483546060306 iter num 500\n"
          ],
          "name": "stdout"
        }
      ]
    },
    {
      "cell_type": "code",
      "metadata": {
        "id": "9vkPlpcxeIKF",
        "outputId": "b21cb1d8-7d35-408d-d525-f8da45bfa89d",
        "colab": {
          "base_uri": "https://localhost:8080/",
          "height": 392
        }
      },
      "source": [
        "# Train 1 stock\n",
        "from ignite.engine import Engine, Events\n",
        "from ignite.handlers import Timer\n",
        "from torch.nn import MSELoss\n",
        "from torch.optim import Adam\n",
        "from ignite.contrib.handlers.param_scheduler import CosineAnnealingScheduler\n",
        "from ignite.handlers import ModelCheckpoint\n",
        "from model import Net\n",
        "from cupy_dataset import NumbaOptionDataSet\n",
        "timer = Timer(average=True)\n",
        "#model = Net().cuda()\n",
        "loss_fn = MSELoss()\n",
        "optimizer = Adam(model.parameters(), lr=1e-3)\n",
        "# dataset = NumbaOptionDataSet(max_len=10000, number_path = 1024, batch=4800)\n",
        "dataset = NumbaOptionDataSet(max_len=500, number_path = 1024, batch=32, stocks=1)\n",
        "\n",
        "def train_update(engine, batch):\n",
        "    model.train()\n",
        "    optimizer.zero_grad()\n",
        "    x = batch[0]\n",
        "    y = batch[1]\n",
        "    y_pred = model(x)\n",
        "    loss = loss_fn(y_pred[:,0], y)\n",
        "    loss.backward()\n",
        "    optimizer.step()\n",
        "    return loss.item()\n",
        "\n",
        "trainer = Engine(train_update)\n",
        "log_interval = 20\n",
        "\n",
        "scheduler = CosineAnnealingScheduler(optimizer, 'lr', 1e-4, 1e-6, len(dataset))\n",
        "trainer.add_event_handler(Events.ITERATION_STARTED, scheduler)\n",
        "timer.attach(trainer,\n",
        "             start=Events.EPOCH_STARTED,\n",
        "             resume=Events.ITERATION_STARTED,\n",
        "             pause=Events.ITERATION_COMPLETED,\n",
        "             step=Events.ITERATION_COMPLETED)    \n",
        "@trainer.on(Events.ITERATION_COMPLETED)\n",
        "def log_training_loss(engine):\n",
        "    iter = (engine.state.iteration - 1) % len(dataset) + 1\n",
        "    if iter % log_interval == 0:\n",
        "        print('loss', engine.state.output, 'average time', timer.value(), 'iter num', iter)\n",
        "        \n",
        "trainer.run(dataset, max_epochs=20)\n",
        "\n",
        "model_save_name = 'checkpoint16.pth'\n",
        "path = F\"/content/drive/MyDrive/AFP Project/Lilian/{model_save_name}\" \n",
        "torch.save(model.state_dict(), path)"
      ],
      "execution_count": 1,
      "outputs": [
        {
          "output_type": "error",
          "ename": "ModuleNotFoundError",
          "evalue": "ignored",
          "traceback": [
            "\u001b[0;31m---------------------------------------------------------------------------\u001b[0m",
            "\u001b[0;31mModuleNotFoundError\u001b[0m                       Traceback (most recent call last)",
            "\u001b[0;32m<ipython-input-1-72a7d7ee923d>\u001b[0m in \u001b[0;36m<module>\u001b[0;34m()\u001b[0m\n\u001b[1;32m      1\u001b[0m \u001b[0;31m# Train 1 stock\u001b[0m\u001b[0;34m\u001b[0m\u001b[0;34m\u001b[0m\u001b[0;34m\u001b[0m\u001b[0m\n\u001b[0;32m----> 2\u001b[0;31m \u001b[0;32mfrom\u001b[0m \u001b[0mignite\u001b[0m\u001b[0;34m.\u001b[0m\u001b[0mengine\u001b[0m \u001b[0;32mimport\u001b[0m \u001b[0mEngine\u001b[0m\u001b[0;34m,\u001b[0m \u001b[0mEvents\u001b[0m\u001b[0;34m\u001b[0m\u001b[0;34m\u001b[0m\u001b[0m\n\u001b[0m\u001b[1;32m      3\u001b[0m \u001b[0;32mfrom\u001b[0m \u001b[0mignite\u001b[0m\u001b[0;34m.\u001b[0m\u001b[0mhandlers\u001b[0m \u001b[0;32mimport\u001b[0m \u001b[0mTimer\u001b[0m\u001b[0;34m\u001b[0m\u001b[0;34m\u001b[0m\u001b[0m\n\u001b[1;32m      4\u001b[0m \u001b[0;32mfrom\u001b[0m \u001b[0mtorch\u001b[0m\u001b[0;34m.\u001b[0m\u001b[0mnn\u001b[0m \u001b[0;32mimport\u001b[0m \u001b[0mMSELoss\u001b[0m\u001b[0;34m\u001b[0m\u001b[0;34m\u001b[0m\u001b[0m\n\u001b[1;32m      5\u001b[0m \u001b[0;32mfrom\u001b[0m \u001b[0mtorch\u001b[0m\u001b[0;34m.\u001b[0m\u001b[0moptim\u001b[0m \u001b[0;32mimport\u001b[0m \u001b[0mAdam\u001b[0m\u001b[0;34m\u001b[0m\u001b[0;34m\u001b[0m\u001b[0m\n",
            "\u001b[0;31mModuleNotFoundError\u001b[0m: No module named 'ignite'",
            "",
            "\u001b[0;31m---------------------------------------------------------------------------\u001b[0;32m\nNOTE: If your import is failing due to a missing package, you can\nmanually install dependencies using either !pip or !apt.\n\nTo view examples of installing some common dependencies, click the\n\"Open Examples\" button below.\n\u001b[0;31m---------------------------------------------------------------------------\u001b[0m\n"
          ]
        }
      ]
    },
    {
      "cell_type": "markdown",
      "metadata": {
        "id": "ehmhDw8BUtLi"
      },
      "source": [
        "### Inference and Greeks"
      ]
    },
    {
      "cell_type": "markdown",
      "metadata": {
        "id": "Uiro43mOU0Ro"
      },
      "source": [
        "We can load the model parameters and use it to do inference"
      ]
    },
    {
      "cell_type": "code",
      "metadata": {
        "id": "svlu6tGTRx1F",
        "colab": {
          "base_uri": "https://localhost:8080/"
        },
        "outputId": "512da89b-ff59-47d0-879c-d8eb2e3bbf3f"
      },
      "source": [
        "import torch\n",
        "inputs = torch.tensor([110.0, 0.0, 110.0, 0.35, 0.1, 0.05]).cuda()\n",
        "model(inputs.float())"
      ],
      "execution_count": 29,
      "outputs": [
        {
          "output_type": "execute_result",
          "data": {
            "text/plain": [
              "tensor([12.1239], device='cuda:0', grad_fn=<AddBackward0>)"
            ]
          },
          "metadata": {
            "tags": []
          },
          "execution_count": 29
        }
      ]
    },
    {
      "cell_type": "markdown",
      "metadata": {
        "id": "M1Iy-9pWVRDO"
      },
      "source": [
        "One of the benefits of building a deep learning model is that the [Greeks](<https://en.wikipedia.org/wiki/Greeks_(finance)#First-order_Greeks>) can be easily computed. \n",
        "We just need to take advantage of the auto-grad feature in Pytorch. We can use `grad` function to compute the first order differentiation for parameters 'K, B, S0, sigma, mu, r'"
      ]
    },
    {
      "cell_type": "code",
      "metadata": {
        "id": "ytBZaYHKSnDu",
        "colab": {
          "base_uri": "https://localhost:8080/"
        },
        "outputId": "603a5a74-14cc-4044-ddf5-c8fce56fa196"
      },
      "source": [
        "inputs = torch.tensor([110.0, 0.0, 110.0, 0.35, 0.1, 0.05]).cuda()\n",
        "inputs.requires_grad = True\n",
        "x = model(inputs.float())\n",
        "x.backward()\n",
        "first_order_gradient = inputs.grad\n",
        "first_order_gradient"
      ],
      "execution_count": 30,
      "outputs": [
        {
          "output_type": "execute_result",
          "data": {
            "text/plain": [
              "tensor([ -0.5332,  -9.9865,   0.6335,  31.2530,  35.3420, -13.9158],\n",
              "       device='cuda:0')"
            ]
          },
          "metadata": {
            "tags": []
          },
          "execution_count": 30
        }
      ]
    },
    {
      "cell_type": "markdown",
      "metadata": {
        "id": "8KeijaDDVZGd"
      },
      "source": [
        "Here we are going to plot the Delta graph:-"
      ]
    },
    {
      "cell_type": "markdown",
      "metadata": {
        "id": "skwgeVDsA_Mr"
      },
      "source": [
        "# Delta"
      ]
    },
    {
      "cell_type": "code",
      "metadata": {
        "id": "USh3qaADSYQp",
        "colab": {
          "base_uri": "https://localhost:8080/",
          "height": 316
        },
        "outputId": "a33e1ed2-57bd-4016-d319-53f8390b6974"
      },
      "source": [
        "##Using gradient, Change only 1 S0 at a time\n",
        "%matplotlib inline\n",
        "from torch.autograd import grad\n",
        "import pylab\n",
        "import numpy as np\n",
        "def compute_delta(S):\n",
        "    inputs = torch.tensor([110.0, 0.0, S, 0.35, 0.1, 0.05]).cuda()\n",
        "    inputs.requires_grad = True\n",
        "    x = model(inputs.float())\n",
        "    #x = model(inputs)\n",
        "    x.backward()\n",
        "    first_order_gradient = inputs.grad\n",
        "    return first_order_gradient[2]\n",
        "\n",
        "print(compute_delta(110))\n",
        "prices = np.arange(10, 200, 0.1)\n",
        "deltas = []\n",
        "for p in prices:\n",
        "    deltas.append(compute_delta(p).item())\n",
        "fig = pylab.plot(prices, deltas)\n",
        "pylab.xlabel('prices')\n",
        "pylab.ylabel('Delta')\n",
        "fig"
      ],
      "execution_count": 34,
      "outputs": [
        {
          "output_type": "stream",
          "text": [
            "tensor(0.6335, device='cuda:0')\n"
          ],
          "name": "stdout"
        },
        {
          "output_type": "execute_result",
          "data": {
            "text/plain": [
              "[<matplotlib.lines.Line2D at 0x7fc7a1de3ed0>]"
            ]
          },
          "metadata": {
            "tags": []
          },
          "execution_count": 34
        },
        {
          "output_type": "display_data",
          "data": {
            "image/png": "[encoded data removed]",
            "text/plain": [
              "<Figure size 432x288 with 1 Axes>"
            ]
          },
          "metadata": {
            "tags": [],
            "needs_background": "light"
          }
        }
      ]
    },
    {
      "cell_type": "code",
      "metadata": {
        "colab": {
          "base_uri": "https://localhost:8080/",
          "height": 297
        },
        "id": "VGk5Hw64fMdh",
        "outputId": "1bf32571-03d4-463c-ef3c-59fe2543a10b"
      },
      "source": [
        "## Using Finite Difference, Change only 1 S0 at a time\n",
        "%matplotlib inline\n",
        "import numpy as np\n",
        "def compute_delta(S):\n",
        "    epsilon = 0.01\n",
        "    inputs1 = torch.tensor([110.0, 0.0, S, 0.35, 0.1, 0.05]).cuda()\n",
        "    inputs2 = torch.tensor([110.0, 0.0, S + epsilon, 0.35, 0.1, 0.05]).cuda()\n",
        "    delta = (model(inputs2.float()) - model(inputs1.float()))/epsilon\n",
        "    return delta\n",
        "prices = np.arange(10, 200, 0.1)\n",
        "deltas = []\n",
        "for p in prices:\n",
        "    deltas.append(compute_delta(p).item())\n",
        "fig = pylab.plot(prices, deltas)\n",
        "pylab.xlabel('prices')\n",
        "pylab.ylabel('Delta')\n",
        "fig"
      ],
      "execution_count": 35,
      "outputs": [
        {
          "output_type": "execute_result",
          "data": {
            "text/plain": [
              "[<matplotlib.lines.Line2D at 0x7fc7a1d5ab50>]"
            ]
          },
          "metadata": {
            "tags": []
          },
          "execution_count": 35
        },
        {
          "output_type": "display_data",
          "data": {
            "image/png": "[encoded data removed]",
            "text/plain": [
              "<Figure size 432x288 with 1 Axes>"
            ]
          },
          "metadata": {
            "tags": [],
            "needs_background": "light"
          }
        }
      ]
    },
    {
      "cell_type": "code",
      "metadata": {
        "id": "tLStvS2qCSjm",
        "colab": {
          "base_uri": "https://localhost:8080/"
        },
        "outputId": "458486d8-fe32-41c8-bb6c-1b9dcd79270f"
      },
      "source": [
        "compute_delta(110)"
      ],
      "execution_count": 36,
      "outputs": [
        {
          "output_type": "execute_result",
          "data": {
            "text/plain": [
              "tensor([0.6336], device='cuda:0', grad_fn=<DivBackward0>)"
            ]
          },
          "metadata": {
            "tags": []
          },
          "execution_count": 36
        }
      ]
    },
    {
      "cell_type": "code",
      "metadata": {
        "colab": {
          "base_uri": "https://localhost:8080/",
          "height": 297
        },
        "id": "4O1I8COnUxnz",
        "outputId": "a45c9555-96c6-4f70-c44d-11d3e4e3b78e"
      },
      "source": [
        "##Using Finite Difference, Change 3 S0 at a time\n",
        "%matplotlib inline\n",
        "import numpy as np\n",
        "def compute_delta(S):\n",
        "    #epsilon = 0.01\n",
        "    epsilon = 1\n",
        "    inputs1 = torch.tensor([[110.0, 0.0, S, 0.35, 0.1, 0.05]*3]).cuda()\n",
        "    inputs2 = torch.tensor([[110.0, 0.0, S + epsilon, 0.35, 0.1, 0.05]*3]).cuda()\n",
        "    delta = (model(inputs2.float()) - model(inputs1.float()))/epsilon\n",
        "    return delta\n",
        "prices = np.arange(10, 200, 0.1)\n",
        "deltas = []\n",
        "for p in prices:\n",
        "    deltas.append(compute_delta(p).item())\n",
        "fig = pylab.plot(prices, deltas)\n",
        "pylab.xlabel('prices')\n",
        "pylab.ylabel('Delta')\n",
        "fig"
      ],
      "execution_count": 60,
      "outputs": [
        {
          "output_type": "execute_result",
          "data": {
            "text/plain": [
              "[<matplotlib.lines.Line2D at 0x7f3be004e110>]"
            ]
          },
          "metadata": {
            "tags": []
          },
          "execution_count": 60
        },
        {
          "output_type": "display_data",
          "data": {
            "image/png": "[encoded data removed]",
            "text/plain": [
              "<Figure size 432x288 with 1 Axes>"
            ]
          },
          "metadata": {
            "tags": [],
            "needs_background": "light"
          }
        }
      ]
    },
    {
      "cell_type": "markdown",
      "metadata": {
        "id": "rvU4uMtEc2g5"
      },
      "source": [
        "#Lilian_New"
      ]
    },
    {
      "cell_type": "code",
      "metadata": {
        "id": "0g5yeyilcsbt",
        "outputId": "6ddcc5f5-b513-4d80-c7a7-5698e936a92f",
        "colab": {
          "base_uri": "https://localhost:8080/",
          "height": 297
        }
      },
      "source": [
        "##Using Finite Difference, Change 2 S0 at a time\n",
        "%matplotlib inline\n",
        "import numpy as np\n",
        "def compute_delta(S):\n",
        "    #epsilon = 0.01\n",
        "    epsilon = 0.01\n",
        "    inputs1 = torch.tensor([[110.0, 0.0, S, 0.35, 0.1, 0.05]*2 + ([110.0, 0.0, 110.0, 0.35, 0.1, 0.05])]).cuda()\n",
        "    inputs2 = torch.tensor([[110.0, 0.0, S + epsilon, 0.35, 0.1, 0.05]*2 + ([110.0, 0.0, 110.0, 0.35, 0.1, 0.05])]).cuda()\n",
        "    delta = (model(inputs2.float()) - model(inputs1.float()))/epsilon\n",
        "    return delta\n",
        "prices = np.arange(10, 200, 0.1)\n",
        "deltas = []\n",
        "for p in prices:\n",
        "    deltas.append(compute_delta(p).item())\n",
        "fig = pylab.plot(prices, deltas)\n",
        "pylab.xlabel('prices')\n",
        "pylab.ylabel('Delta')\n",
        "fig"
      ],
      "execution_count": 64,
      "outputs": [
        {
          "output_type": "execute_result",
          "data": {
            "text/plain": [
              "[<matplotlib.lines.Line2D at 0x7f3bd3fa8790>]"
            ]
          },
          "metadata": {
            "tags": []
          },
          "execution_count": 64
        },
        {
          "output_type": "display_data",
          "data": {
            "image/png": "[encoded data removed]",
            "text/plain": [
              "<Figure size 432x288 with 1 Axes>"
            ]
          },
          "metadata": {
            "tags": [],
            "needs_background": "light"
          }
        }
      ]
    },
    {
      "cell_type": "code",
      "metadata": {
        "id": "ySrey9KzB0AF",
        "colab": {
          "base_uri": "https://localhost:8080/"
        },
        "outputId": "8ed34012-ff7a-4cc6-deb3-a8dfbf533d2c"
      },
      "source": [
        "compute_delta(110).item()  # It's not 0.5!! SOS"
      ],
      "execution_count": 65,
      "outputs": [
        {
          "output_type": "execute_result",
          "data": {
            "text/plain": [
              "0.4027366638183594"
            ]
          },
          "metadata": {
            "tags": []
          },
          "execution_count": 65
        }
      ]
    },
    {
      "cell_type": "code",
      "metadata": {
        "id": "YMyME_1WCGZz",
        "colab": {
          "base_uri": "https://localhost:8080/"
        },
        "outputId": "040d79b9-bc60-4d79-b120-910e8cd91bb0"
      },
      "source": [
        "compute_delta(102).item() # Close to 0.5"
      ],
      "execution_count": 22,
      "outputs": [
        {
          "output_type": "execute_result",
          "data": {
            "text/plain": [
              "0.502777099609375"
            ]
          },
          "metadata": {
            "tags": []
          },
          "execution_count": 22
        }
      ]
    },
    {
      "cell_type": "markdown",
      "metadata": {
        "id": "yNB8LPwfBMHQ"
      },
      "source": [
        "# Gamma"
      ]
    },
    {
      "cell_type": "markdown",
      "metadata": {
        "id": "oLO_5nEGVcEc"
      },
      "source": [
        "Calculating the second order derivative is easy in PyTorch too. We just need to apply the `grad` function twice. Use this mechanism, we can calculate the second order derivatives $\\frac{\\partial^2 P}{\\partial K \\partial S_0}$, $\\frac{\\partial^2 P}{\\partial B \\partial S_0}$, $\\frac{\\partial^2 P}{\\partial S_0^2}$, $\\frac{\\partial^2 P}{\\partial \\sigma \\partial S_0}$, $\\frac{\\partial^2 P}{\\partial \\mu \\partial S_0}$, $\\frac{\\partial^2 P}{\\partial r \\partial S_0}$ in the following example."
      ]
    },
    {
      "cell_type": "code",
      "metadata": {
        "id": "nGzj7A3sThZK",
        "colab": {
          "base_uri": "https://localhost:8080/"
        },
        "outputId": "2f477244-2c9a-41e4-ab0e-a6b10a608b13"
      },
      "source": [
        "import torch\n",
        "from torch import Tensor\n",
        "from torch.autograd import Variable\n",
        "from torch.autograd import grad\n",
        "from torch import nn\n",
        "\n",
        "inputs = torch.tensor([[110.0, 0.0, 110.0, 0.35, 0.1, 0.05]*3]).cuda()\n",
        "inputs.requires_grad = True\n",
        "x = model(inputs)\n",
        "\n",
        "# instead of using loss.backward(), use torch.autograd.grad() to compute gradients\n",
        "# https://pytorch.org/docs/stable/autograd.html#torch.autograd.grad\n",
        "loss_grads = grad(x, inputs, create_graph=True)\n",
        "drv = grad(loss_grads[0][0][2], inputs)\n",
        "drv"
      ],
      "execution_count": null,
      "outputs": [
        {
          "output_type": "execute_result",
          "data": {
            "text/plain": [
              "(tensor([[-1.6023e-03, -2.3967e-01,  4.9180e-03, -8.3777e-02,  4.3252e-01,\n",
              "          -3.4538e-01, -1.6144e-03, -3.7401e-01, -4.7186e-05,  1.0418e-02,\n",
              "           1.3443e-02,  9.7121e-02, -1.6194e-03,  5.3559e-01, -8.4335e-05,\n",
              "           1.6220e-02, -4.6263e-03,  2.4582e-02]], device='cuda:0'),)"
            ]
          },
          "metadata": {
            "tags": []
          },
          "execution_count": 14
        }
      ]
    },
    {
      "cell_type": "markdown",
      "metadata": {
        "id": "WJbZYtvhVmSo"
      },
      "source": [
        "Gamma is the second order differenation of `S`. We can plot the the Gamma curve as a function of the stock price"
      ]
    },
    {
      "cell_type": "code",
      "metadata": {
        "id": "3JpQa3EJToA0",
        "colab": {
          "base_uri": "https://localhost:8080/",
          "height": 296
        },
        "outputId": "62b8c7a0-f5ae-4681-ba3b-b7c386f129aa"
      },
      "source": [
        "##Using gradient, Change only 1 S0 at a time\n",
        "import pylab\n",
        "import numpy as np\n",
        "def compute_gamma(S):\n",
        "    inputs = torch.tensor([[110.0, 0.0, S, 0.35, 0.1, 0.05] + ([110.0, 0.0, 110.0, 0.35, 0.1, 0.05]*2)]).cuda()\n",
        "    inputs.requires_grad = True\n",
        "    x = model(inputs.float())\n",
        "    #x = model(inputs)\n",
        "    loss_grads = grad(x, inputs, create_graph=True)\n",
        "    drv = grad(loss_grads[0][0][2], inputs)\n",
        "    return drv[0][0][2]\n",
        "\n",
        "prices = np.arange(10, 200, 0.1)\n",
        "gammas = []\n",
        "for p in prices:\n",
        "    gammas.append(compute_gamma(p).item())\n",
        "fig2 = pylab.plot(prices, gammas)\n",
        "pylab.xlabel('prices')\n",
        "pylab.ylabel('Gamma')\n",
        "fig2"
      ],
      "execution_count": null,
      "outputs": [
        {
          "output_type": "execute_result",
          "data": {
            "text/plain": [
              "[<matplotlib.lines.Line2D at 0x7fe4801c6cd0>]"
            ]
          },
          "metadata": {
            "tags": []
          },
          "execution_count": 15
        },
        {
          "output_type": "display_data",
          "data": {
            "image/png": "[encoded data removed]",
            "text/plain": [
              "<Figure size 432x288 with 1 Axes>"
            ]
          },
          "metadata": {
            "tags": [],
            "needs_background": "light"
          }
        }
      ]
    },
    {
      "cell_type": "code",
      "metadata": {
        "id": "BsoaOyCDxQy0",
        "colab": {
          "base_uri": "https://localhost:8080/",
          "height": 296
        },
        "outputId": "fa4f517b-b341-4643-cea4-0ee905784f40"
      },
      "source": [
        "##Using Finite Difference, Change only 1 S0 at a time\n",
        "%matplotlib inline\n",
        "import numpy as np\n",
        "def compute_gamma(S):\n",
        "    epsilon = 0.5\n",
        "    inputs1 = torch.tensor([[110.0, 0.0, S, 0.35, 0.1, 0.05]  + ([110.0, 0.0, 110.0, 0.35, 0.1, 0.05]*2)]).cuda()\n",
        "    inputs2 = torch.tensor([[110.0, 0.0, S + epsilon, 0.35, 0.1, 0.05]  + ([110.0, 0.0, 110.0, 0.35, 0.1, 0.05]*2)]).cuda()\n",
        "    inputs3 = torch.tensor([[110.0, 0.0, S - epsilon, 0.35, 0.1, 0.05]  + ([110.0, 0.0, 110.0, 0.35, 0.1, 0.05]*2)]).cuda()\n",
        "    gamma = (model(inputs2.float()) - 2*model(inputs1.float()) + model(inputs3.float()))/(epsilon**2)\n",
        "    return gamma\n",
        "prices = np.arange(10, 200, 0.1)\n",
        "gammas = []\n",
        "for p in prices:\n",
        "    gammas.append(compute_gamma(p).item())\n",
        "fig = pylab.plot(prices, gammas)\n",
        "pylab.xlabel('prices')\n",
        "pylab.ylabel('Gamma')\n",
        "fig"
      ],
      "execution_count": null,
      "outputs": [
        {
          "output_type": "execute_result",
          "data": {
            "text/plain": [
              "[<matplotlib.lines.Line2D at 0x7fe4801b8450>]"
            ]
          },
          "metadata": {
            "tags": []
          },
          "execution_count": 16
        },
        {
          "output_type": "display_data",
          "data": {
            "image/png": "[encoded data removed]",
            "text/plain": [
              "<Figure size 432x288 with 1 Axes>"
            ]
          },
          "metadata": {
            "tags": [],
            "needs_background": "light"
          }
        }
      ]
    },
    {
      "cell_type": "code",
      "metadata": {
        "colab": {
          "base_uri": "https://localhost:8080/",
          "height": 296
        },
        "id": "aOsXgOwWZ_ru",
        "outputId": "0e3893c5-a64c-4187-d350-b01c53751003"
      },
      "source": [
        "##Using Finite Difference, Change 3 S0 at a time\n",
        "%matplotlib inline\n",
        "import numpy as np\n",
        "def compute_gamma(S):\n",
        "    epsilon = 0.5\n",
        "    inputs1 = torch.tensor([[110.0, 0.0, S, 0.35, 0.1, 0.05]*3]).cuda()\n",
        "    inputs2 = torch.tensor([[110.0, 0.0, S + epsilon, 0.35, 0.1, 0.05]*3]).cuda()\n",
        "    inputs3 = torch.tensor([[110.0, 0.0, S - epsilon, 0.35, 0.1, 0.05]*3]).cuda()\n",
        "    gamma = (model(inputs2.float()) - 2*model(inputs1.float()) + model(inputs3.float()))/(epsilon**2)\n",
        "    return gamma\n",
        "prices = np.arange(10, 200, 0.1)\n",
        "gammas = []\n",
        "for p in prices:\n",
        "    gammas.append(compute_gamma(p).item())\n",
        "fig = pylab.plot(prices, gammas)\n",
        "pylab.xlabel('prices')\n",
        "pylab.ylabel('Gamma')\n",
        "fig"
      ],
      "execution_count": null,
      "outputs": [
        {
          "output_type": "execute_result",
          "data": {
            "text/plain": [
              "[<matplotlib.lines.Line2D at 0x7fe4801208d0>]"
            ]
          },
          "metadata": {
            "tags": []
          },
          "execution_count": 17
        },
        {
          "output_type": "display_data",
          "data": {
            "image/png": "[encoded data removed]",
            "text/plain": [
              "<Figure size 432x288 with 1 Axes>"
            ]
          },
          "metadata": {
            "tags": [],
            "needs_background": "light"
          }
        }
      ]
    },
    {
      "cell_type": "markdown",
      "metadata": {
        "id": "67lca2xrBh9a"
      },
      "source": [
        "# Vega"
      ]
    },
    {
      "cell_type": "code",
      "metadata": {
        "id": "muozc-hzhSGA",
        "colab": {
          "base_uri": "https://localhost:8080/",
          "height": 296
        },
        "outputId": "a141b74b-9e67-4f25-a3ae-389e6a42961e"
      },
      "source": [
        "##Using gradient, Change only 1 S0 at a time\n",
        "# vega\n",
        "%matplotlib inline\n",
        "import numpy as np\n",
        "def compute_vega(S):\n",
        "    epsilon = 0.5\n",
        "    inputs1 = torch.tensor([[110.0, 0.0, S, 0.35, 0.1, 0.05] + ([110.0, 0.0, 110.0, 0.35, 0.1, 0.05]*2)]).cuda()\n",
        "    inputs2 = torch.tensor([[110.0, 0.0, S, 0.35 + epsilon, 0.1, 0.05] + ([110.0, 0.0, 110.0, 0.35, 0.1, 0.05]*2)]).cuda()\n",
        "    vega = (model(inputs2.float()) - model(inputs1.float()))/epsilon\n",
        "    return vega\n",
        "prices = np.arange(10, 200, 0.1)\n",
        "vegas = []\n",
        "for p in prices:\n",
        "    vegas.append(compute_vega(p).item())\n",
        "fig = pylab.plot(prices, vegas)\n",
        "pylab.xlabel('prices')\n",
        "pylab.ylabel('Vega')\n",
        "fig"
      ],
      "execution_count": null,
      "outputs": [
        {
          "output_type": "execute_result",
          "data": {
            "text/plain": [
              "[<matplotlib.lines.Line2D at 0x7fb166b0d190>]"
            ]
          },
          "metadata": {
            "tags": []
          },
          "execution_count": 20
        },
        {
          "output_type": "display_data",
          "data": {
            "image/png": "[encoded data removed]",
            "text/plain": [
              "<Figure size 432x288 with 1 Axes>"
            ]
          },
          "metadata": {
            "tags": [],
            "needs_background": "light"
          }
        }
      ]
    },
    {
      "cell_type": "code",
      "metadata": {
        "colab": {
          "base_uri": "https://localhost:8080/",
          "height": 296
        },
        "id": "0KATxBCAdlFt",
        "outputId": "8ca0307a-932f-4b83-b3ee-976d9ddf74b2"
      },
      "source": [
        "##Using Finite Difference, Change 3 S0 at a timev\n",
        "# vega\n",
        "%matplotlib inline\n",
        "import numpy as np\n",
        "def compute_vega(S):\n",
        "    epsilon = 0.5\n",
        "    inputs1 = torch.tensor([[110.0, 0.0, S, 0.35, 0.1, 0.05]*3]).cuda()\n",
        "    inputs2 = torch.tensor([[110.0, 0.0, S, 0.35 + epsilon, 0.1, 0.05]*3]).cuda()\n",
        "    vega = (model(inputs2.float()) - model(inputs1.float()))/epsilon\n",
        "    return vega\n",
        "prices = np.arange(10, 200, 0.1)\n",
        "vegas = []\n",
        "for p in prices:\n",
        "    vegas.append(compute_vega(p).item())\n",
        "fig = pylab.plot(prices, vegas)\n",
        "pylab.xlabel('prices')\n",
        "pylab.ylabel('Vega')\n",
        "fig"
      ],
      "execution_count": null,
      "outputs": [
        {
          "output_type": "execute_result",
          "data": {
            "text/plain": [
              "[<matplotlib.lines.Line2D at 0x7fe4800b3c90>]"
            ]
          },
          "metadata": {
            "tags": []
          },
          "execution_count": 18
        },
        {
          "output_type": "display_data",
          "data": {
            "image/png": "[encoded data removed]",
            "text/plain": [
              "<Figure size 432x288 with 1 Axes>"
            ]
          },
          "metadata": {
            "tags": [],
            "needs_background": "light"
          }
        }
      ]
    },
    {
      "cell_type": "markdown",
      "metadata": {
        "id": "Rj7NlW6GVqSA"
      },
      "source": [
        "[Implied volatility](https://en.wikipedia.org/wiki/Implied_volatility) is the forecasted volatility of the underlying asset based on the quoted prices of the option. It is the reverse mapping of price to the option parameter given the model which is hard to do with the Monte Carlo simulation approach. But if we have the deep learning pricing model, it is an easy task. We can first plot the relationship between volatility and the option price"
      ]
    },
    {
      "cell_type": "code",
      "metadata": {
        "id": "4yrCw5UNT07t",
        "colab": {
          "base_uri": "https://localhost:8080/",
          "height": 296
        },
        "outputId": "190d5877-924a-44ce-ecdb-50d5438767ae"
      },
      "source": [
        "import pylab\n",
        "import numpy as np\n",
        "def compute_price(sigma):\n",
        "    inputs = torch.tensor([[110.0, 0.0, 110.0, sigma, 0.1, 0.05] + ([110.0, 0.0, 110.0, 0.35, 0.1, 0.05]*2)]).cuda()\n",
        "    x = model(inputs.float())\n",
        "    #x = model(inputs)\n",
        "    return x.item()\n",
        "sigmas = np.arange(0, 0.5, 0.1)\n",
        "prices = []\n",
        "for s in sigmas:\n",
        "    prices.append(compute_price(s))\n",
        "fig3 = pylab.plot(sigmas, prices)\n",
        "pylab.xlabel('Sigma')\n",
        "pylab.ylabel('Price')\n",
        "fig3"
      ],
      "execution_count": null,
      "outputs": [
        {
          "output_type": "execute_result",
          "data": {
            "text/plain": [
              "[<matplotlib.lines.Line2D at 0x7f21eccb09d0>]"
            ]
          },
          "metadata": {
            "tags": []
          },
          "execution_count": 34
        },
        {
          "output_type": "display_data",
          "data": {
            "image/png": "[encoded data removed]",
            "text/plain": [
              "<Figure size 432x288 with 1 Axes>"
            ]
          },
          "metadata": {
            "tags": [],
            "needs_background": "light"
          }
        }
      ]
    },
    {
      "cell_type": "markdown",
      "metadata": {
        "id": "EU25Cj29VtCa"
      },
      "source": [
        "Given the prices `P`, the implied volatility is the root of the function `compute_price`. We can use bisection to find the root."
      ]
    },
    {
      "cell_type": "code",
      "metadata": {
        "id": "ddHnwm_zUBYD",
        "colab": {
          "base_uri": "https://localhost:8080/",
          "height": 236
        },
        "outputId": "3b564d6a-8e79-48a5-d27e-80d7550f8e72"
      },
      "source": [
        "def bisection_root(small, large, fun, target, EPS=1e-6):\n",
        "    if fun(large) - target < 0:\n",
        "        print('upper bound is too small')\n",
        "        return None\n",
        "    if fun(small) - target > 0:\n",
        "        print('lower bound is too large')\n",
        "        return None\n",
        "    while large - small > EPS:\n",
        "        mid = (large + small) / 2.0\n",
        "        if fun(mid) - target >= 0:\n",
        "            large = mid\n",
        "        else:\n",
        "            small = mid\n",
        "    mid = (large + small) / 2.0\n",
        "    return mid, abs(fun(mid) - target)\n",
        "quoted_price = 16.0\n",
        "sigma, err = bisection_root(0, 0.5, compute_price, quoted_price)\n",
        "print('implied volativity', sigma, 'error', err)     "
      ],
      "execution_count": null,
      "outputs": [
        {
          "output_type": "stream",
          "text": [
            "upper bound is too small\n"
          ],
          "name": "stdout"
        },
        {
          "output_type": "error",
          "ename": "TypeError",
          "evalue": "ignored",
          "traceback": [
            "\u001b[0;31m---------------------------------------------------------------------------\u001b[0m",
            "\u001b[0;31mTypeError\u001b[0m                                 Traceback (most recent call last)",
            "\u001b[0;32m<ipython-input-14-ade689496c71>\u001b[0m in \u001b[0;36m<module>\u001b[0;34m()\u001b[0m\n\u001b[1;32m     15\u001b[0m     \u001b[0;32mreturn\u001b[0m \u001b[0mmid\u001b[0m\u001b[0;34m,\u001b[0m \u001b[0mabs\u001b[0m\u001b[0;34m(\u001b[0m\u001b[0mfun\u001b[0m\u001b[0;34m(\u001b[0m\u001b[0mmid\u001b[0m\u001b[0;34m)\u001b[0m \u001b[0;34m-\u001b[0m \u001b[0mtarget\u001b[0m\u001b[0;34m)\u001b[0m\u001b[0;34m\u001b[0m\u001b[0;34m\u001b[0m\u001b[0m\n\u001b[1;32m     16\u001b[0m \u001b[0mquoted_price\u001b[0m \u001b[0;34m=\u001b[0m \u001b[0;36m16.0\u001b[0m\u001b[0;34m\u001b[0m\u001b[0;34m\u001b[0m\u001b[0m\n\u001b[0;32m---> 17\u001b[0;31m \u001b[0msigma\u001b[0m\u001b[0;34m,\u001b[0m \u001b[0merr\u001b[0m \u001b[0;34m=\u001b[0m \u001b[0mbisection_root\u001b[0m\u001b[0;34m(\u001b[0m\u001b[0;36m0\u001b[0m\u001b[0;34m,\u001b[0m \u001b[0;36m0.5\u001b[0m\u001b[0;34m,\u001b[0m \u001b[0mcompute_price\u001b[0m\u001b[0;34m,\u001b[0m \u001b[0mquoted_price\u001b[0m\u001b[0;34m)\u001b[0m\u001b[0;34m\u001b[0m\u001b[0;34m\u001b[0m\u001b[0m\n\u001b[0m\u001b[1;32m     18\u001b[0m \u001b[0mprint\u001b[0m\u001b[0;34m(\u001b[0m\u001b[0;34m'implied volativity'\u001b[0m\u001b[0;34m,\u001b[0m \u001b[0msigma\u001b[0m\u001b[0;34m,\u001b[0m \u001b[0;34m'error'\u001b[0m\u001b[0;34m,\u001b[0m \u001b[0merr\u001b[0m\u001b[0;34m)\u001b[0m\u001b[0;34m\u001b[0m\u001b[0;34m\u001b[0m\u001b[0m\n",
            "\u001b[0;31mTypeError\u001b[0m: cannot unpack non-iterable NoneType object"
          ]
        }
      ]
    }
  ]
}