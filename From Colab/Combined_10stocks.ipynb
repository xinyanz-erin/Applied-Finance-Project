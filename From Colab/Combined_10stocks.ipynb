{
  "nbformat": 4,
  "nbformat_minor": 0,
  "metadata": {
    "kernelspec": {
      "display_name": "Python 3",
      "language": "python",
      "name": "python3"
    },
    "language_info": {
      "codemirror_mode": {
        "name": "ipython",
        "version": 3
      },
      "file_extension": ".py",
      "mimetype": "text/x-python",
      "name": "python",
      "nbconvert_exporter": "python",
      "pygments_lexer": "ipython3",
      "version": "3.6.9"
    },
    "colab": {
      "name": "Combined.ipynb",
      "provenance": [],
      "collapsed_sections": [
        "NwN6aLFDnwiy",
        "dBOv_RiBsCWa",
        "u2_89jOknwjH"
      ],
      "include_colab_link": true
    },
    "accelerator": "GPU"
  },
  "cells": [
    {
      "cell_type": "markdown",
      "metadata": {
        "id": "view-in-github",
        "colab_type": "text"
      },
      "source": [
        "<a href=\"https://colab.research.google.com/github/xinyanz-erin/Applied-Finance-Project/blob/Judy/From%20Colab/Combined_10stocks.ipynb\" target=\"_parent\"><img src=\"https://colab.research.google.com/assets/colab-badge.svg\" alt=\"Open In Colab\"/></a>"
      ]
    },
    {
      "cell_type": "code",
      "metadata": {
        "id": "gCR6hhw5Xq_R"
      },
      "source": [
        "import warnings\n",
        "warnings.filterwarnings('ignore')"
      ],
      "execution_count": 1,
      "outputs": []
    },
    {
      "cell_type": "code",
      "metadata": {
        "colab": {
          "base_uri": "https://localhost:8080/"
        },
        "id": "gSxOZk3ls2XQ",
        "outputId": "e770597c-258b-4a6c-f3df-4c7d48cf64dc"
      },
      "source": [
        "!curl https://colab.chainer.org/install |sh -\n",
        "import cupy"
      ],
      "execution_count": 2,
      "outputs": [
        {
          "output_type": "stream",
          "text": [
            "  % Total    % Received % Xferd  Average Speed   Time    Time     Time  Current\n",
            "                                 Dload  Upload   Total   Spent    Left  Speed\n",
            "100  1580  100  1580    0     0   4527      0 --:--:-- --:--:-- --:--:--  4514\n",
            "+ apt -y -q install cuda-libraries-dev-10-0\n",
            "Reading package lists...\n",
            "Building dependency tree...\n",
            "Reading state information...\n",
            "cuda-libraries-dev-10-0 is already the newest version (10.0.130-1).\n",
            "0 upgraded, 0 newly installed, 0 to remove and 40 not upgraded.\n",
            "+ pip install -q cupy-cuda100  chainer \n",
            "\u001b[K     |████████████████████████████████| 58.9 MB 36 kB/s \n",
            "\u001b[K     |████████████████████████████████| 1.0 MB 36.0 MB/s \n",
            "\u001b[?25h  Building wheel for chainer (setup.py) ... \u001b[?25l\u001b[?25hdone\n",
            "+ set +ex\n",
            "Installation succeeded!\n"
          ],
          "name": "stdout"
        }
      ]
    },
    {
      "cell_type": "markdown",
      "metadata": {
        "id": "NwN6aLFDnwiy"
      },
      "source": [
        "### Deep Learning Barrier Option\n",
        "\n",
        "We used Numba and CuPy in the previous notebook to run Monte Carlo simulation to determine the price of the Asian Barrier option. A Monte Carlo simulation needs millions of paths to get an accurate answer which is computationally intensive. [Ryan et al (2018)](https://arxiv.org/abs/1809.02233) showed that a deep learning model can be trained to value derivatives. The deep learning model is accurate and very fast, capable of producing valuations a million times faster than traditional models. In the this notebook, we will use a fully connected network to learn the pricing mode of the Asian Barrier option. Monte Carlo simulation is used as pricing ground truth for the training. We use the same Asian Barrier Option model as last notebook with parameters listed as following:\n",
        "\n",
        "```\n",
        "T - Maturity (yrs.)\n",
        "S - Spot (usd)\n",
        "K - Strike (usd)\n",
        "sigma - Volatility (per.)\n",
        "r - Risk Free Rate (per.)\n",
        "mu - Stock Drift Rate (per.)\n",
        "B - Barrier (usd)\n",
        "```\n",
        "\n",
        "### Batched Data generation\n",
        "\n",
        "The dataset is an important part of the Deep learning training. We will modify the previous single Asian Barrier Option pricing code to handle a batch of Barrier Option pricing. "
      ]
    },
    {
      "cell_type": "code",
      "metadata": {
        "id": "cHYrh4iYfP-n"
      },
      "source": [
        "#@title\n",
        "###Test: Judy's new X code\n",
        "#N_STOCKS = 3"
      ],
      "execution_count": null,
      "outputs": []
    },
    {
      "cell_type": "code",
      "metadata": {
        "id": "hy7qGwT0jv4A",
        "colab": {
          "base_uri": "https://localhost:8080/"
        },
        "outputId": "ac958b42-0bd5-4600-d2b8-246276885438"
      },
      "source": [
        "#@title\n",
        "#X = cupy.array([])\n",
        "#for i in range(0,N_STOCKS):\n",
        "  #X =  cupy.concatenate((X,cupy.array([1,1]), cupy.random.rand(3),cupy.array([1])))\n",
        "#X = X.reshape(N_STOCKS,6)\n",
        "#X"
      ],
      "execution_count": null,
      "outputs": [
        {
          "output_type": "execute_result",
          "data": {
            "text/plain": [
              "array([[1.        , 1.        , 0.05103263, 0.0071633 , 0.52167781,\n",
              "        1.        ],\n",
              "       [1.        , 1.        , 0.64857557, 0.32324551, 0.39745689,\n",
              "        1.        ],\n",
              "       [1.        , 1.        , 0.82301291, 0.46666519, 0.8391176 ,\n",
              "        1.        ]])"
            ]
          },
          "metadata": {
            "tags": []
          },
          "execution_count": 4
        }
      ]
    },
    {
      "cell_type": "code",
      "metadata": {
        "id": "9OHtAXC8hVae",
        "colab": {
          "base_uri": "https://localhost:8080/"
        },
        "cellView": "form",
        "outputId": "264cef2d-1ead-43b8-e5fd-d8a131f38fda"
      },
      "source": [
        "#@title\n",
        "#X = X * ((cupy.array([200.0, 0, 200.0, 0.4, 0.2, 0.2] * N_STOCKS, dtype = cupy.float32)).reshape(N_STOCKS, 6))\n",
        "#X"
      ],
      "execution_count": null,
      "outputs": [
        {
          "output_type": "execute_result",
          "data": {
            "text/plain": [
              "array([[2.00000000e+02, 0.00000000e+00, 1.02065252e+01, 2.86532070e-03,\n",
              "        1.04335564e-01, 2.00000003e-01],\n",
              "       [2.00000000e+02, 0.00000000e+00, 1.29715113e+02, 1.29298207e-01,\n",
              "        7.94913799e-02, 2.00000003e-01],\n",
              "       [2.00000000e+02, 0.00000000e+00, 1.64602581e+02, 1.86666078e-01,\n",
              "        1.67823523e-01, 2.00000003e-01]])"
            ]
          },
          "metadata": {
            "tags": []
          },
          "execution_count": 5
        }
      ]
    },
    {
      "cell_type": "markdown",
      "metadata": {
        "id": "TY_9g3tbdLiY"
      },
      "source": [
        "# Train (Erin Version)"
      ]
    },
    {
      "cell_type": "code",
      "metadata": {
        "colab": {
          "base_uri": "https://localhost:8080/"
        },
        "id": "qBxT9Eida-c_",
        "outputId": "dd50361d-16f4-4849-84cb-10e1234337c7"
      },
      "source": [
        "################################# TEST ########################################\n",
        "%%writefile cupy_dataset.py\n",
        "\n",
        "import numba\n",
        "from numba import cuda\n",
        "import random\n",
        "import cupy\n",
        "import numpy as np\n",
        "import math\n",
        "import time\n",
        "import torch\n",
        "cupy.cuda.set_allocator(None)\n",
        "from torch.utils.dlpack import from_dlpack\n",
        "\n",
        "@cuda.jit\n",
        "def batch_barrier_option(d_s, T, K, B, S0, sigma, mu, r, d_normals, N_STEPS, N_PATHS, N_BATCH):\n",
        "    # ii - overall thread index\n",
        "    ii = cuda.threadIdx.x + cuda.blockIdx.x * cuda.blockDim.x\n",
        "    stride = cuda.gridDim.x * cuda.blockDim.x\n",
        "    tmp3 = math.sqrt(T/N_STEPS)\n",
        "    for i in range(ii, N_PATHS * N_BATCH, stride):\n",
        "        batch_id = i // N_PATHS\n",
        "        path_id = i % N_PATHS\n",
        "        tmp1 = mu[batch_id]*T/N_STEPS\n",
        "        tmp2 = math.exp(-r[batch_id]*T)\n",
        "        running_average = 0.0\n",
        "        s_curr = S0[batch_id]\n",
        "        for n in range(N_STEPS):\n",
        "            s_curr += tmp1 * s_curr + sigma[batch_id]*s_curr*tmp3*d_normals[path_id + batch_id * N_PATHS + n * N_PATHS * N_BATCH] # stock price\n",
        "            running_average = running_average + 1.0/(n + 1.0) * (s_curr - running_average) # average of the path\n",
        "            if i==0 and batch_id == 2:\n",
        "                print(s_curr)\n",
        "            if running_average <= B[batch_id]: # if reach barrier, drop out the path\n",
        "                break\n",
        "        payoff = running_average - K[batch_id] if running_average > K[batch_id] else 0\n",
        "        d_s[i] = tmp2 * payoff\n",
        "\n",
        "class NumbaOptionDataSet(object):\n",
        "    \n",
        "    def __init__(self, max_len=10, number_path = 1000, batch=2, threads=512, seed=15, stocks=10): #We have 10 stocks  ### remember to change this 1!\n",
        "        self.num = 0\n",
        "        self.max_length = max_len\n",
        "        self.N_PATHS = number_path\n",
        "        self.N_STEPS = 365\n",
        "        self.N_BATCH = batch\n",
        "        self.N_STOCKS = stocks\n",
        "        self.T = np.float32(1.0)\n",
        "        self.output = cupy.zeros(self.N_STOCKS*self.N_PATHS, dtype=cupy.float32) \n",
        "        self.number_of_blocks = (self.N_PATHS * self.N_STOCKS - 1) // threads + 1\n",
        "        self.number_of_threads = threads\n",
        "        cupy.random.seed(seed)\n",
        "        \n",
        "    def __len__(self):\n",
        "        return self.max_length\n",
        "        \n",
        "    def __iter__(self):\n",
        "        self.num = 0\n",
        "        return self\n",
        "    \n",
        "    def __next__(self):\n",
        "        if self.num > self.max_length:\n",
        "            raise StopIteration\n",
        "        \n",
        "        Y = cupy.zeros(self.N_BATCH, dtype=cupy.float32)\n",
        "        paras = cupy.zeros((self.N_BATCH, self.N_STOCKS * 6), dtype = cupy.float32)\n",
        "        for op in range(self.N_BATCH):\n",
        "          X = cupy.array([])\n",
        "          K_rand = cupy.random.rand(1)[0]\n",
        "          B_rand = cupy.random.rand(1)[0]\n",
        "          r_rand = cupy.random.rand(1)[0]\n",
        "          for i in range(0,self.N_STOCKS):\n",
        "            X =  cupy.concatenate((X,cupy.array([K_rand,B_rand]), cupy.random.rand(3),cupy.array([r_rand])))  #[K,B,S0,sigma,mu,r](Each stock has 6 inputs)\n",
        "          X = X.reshape(self.N_STOCKS,6)\n",
        "          X = X * ((cupy.array([200.0, 0.1, 200.0, 0.4, 0.2, 0.2] * self.N_STOCKS, dtype = cupy.float32)).reshape(self.N_STOCKS, 6))\n",
        "          \n",
        "          for i in range(self.N_STOCKS):\n",
        "            paras[op,i*6:(i+1)*6] = X[i,:]\n",
        "\n",
        "          stocks_randoms_mean = cupy.zeros(self.N_STOCKS, dtype = cupy.float32)\n",
        "          rho = cupy.random.normal(0, 1, self.N_STOCKS, dtype = cupy.float32)\n",
        "\n",
        "          stocks_randoms_cov = cupy.array([1] * self.N_STOCKS*self.N_STOCKS, dtype = cupy.float32).reshape(self.N_STOCKS,self.N_STOCKS)  #Covariance\n",
        "          cupy.fill_diagonal(stocks_randoms_cov, 1)\n",
        "\n",
        "          num_of_randoms_each_stock = self.N_PATHS * self.N_STEPS\n",
        "          randoms_gpu = cupy.random.multivariate_normal(stocks_randoms_mean, stocks_randoms_cov,\n",
        "                                                        num_of_randoms_each_stock, dtype=cupy.float32)\n",
        "          b1_r = randoms_gpu[:,0]\n",
        "          b2_r = randoms_gpu[:,1]\n",
        "          randoms = cupy.zeros(self.N_STOCKS * self.N_PATHS * self.N_STEPS, dtype=cupy.float32)\n",
        "          interval = int((self.N_PATHS * self.N_STEPS * self.N_STOCKS) / self.N_PATHS)\n",
        "          for i in range(interval):\n",
        "            if i % 2 == 0:\n",
        "                ind = int(i/2)\n",
        "                randoms[i*self.N_PATHS:(i+1)*self.N_PATHS] = b1_r[ind:(ind+self.N_PATHS)]\n",
        "            else:\n",
        "                ind = int(i//2)\n",
        "                randoms[i*self.N_PATHS:(i+1)*self.N_PATHS] = b2_r[ind:(ind+self.N_PATHS)]\n",
        "\n",
        "          randoms = cupy.random.normal(0, 1, self.N_STOCKS * self.N_PATHS * self.N_STEPS, dtype=cupy.float32)\n",
        "          batch_barrier_option[(self.number_of_blocks,), (self.number_of_threads,)](self.output, self.T, X[:, 0], \n",
        "                                X[:, 1], X[:, 2], X[:, 3], X[:, 4], X[:, 5], randoms, self.N_STEPS, self.N_PATHS, self.N_STOCKS)\n",
        "          \n",
        "          o = self.output.reshape(self.N_STOCKS, self.N_PATHS)\n",
        "          Y[op] = o.mean(axis = 0).mean()\n",
        "\n",
        "        self.num += 1\n",
        "        return (from_dlpack(paras.toDlpack()), from_dlpack(Y.toDlpack()))\n",
        "\n",
        "\n",
        "\n",
        "# ds = NumbaOptionDataSet(10, number_path=100000, batch=3, seed=random.randint(0,100), stocks=5)\n",
        "# for i in ds:\n",
        "#     print(i[0])\n",
        "################################# TEST ########################################"
      ],
      "execution_count": 3,
      "outputs": [
        {
          "output_type": "stream",
          "text": [
            "Writing cupy_dataset.py\n"
          ],
          "name": "stdout"
        }
      ]
    },
    {
      "cell_type": "markdown",
      "metadata": {
        "id": "u2_89jOknwjH"
      },
      "source": [
        "### Model\n",
        "To map the option parameters to price, we use 6 layers of fully connected neural network with hidden dimension 512 as inspired by [this paper](https://arxiv.org/abs/1809.02233). Writing this DL price model into a file `model.py`:-"
      ]
    },
    {
      "cell_type": "markdown",
      "metadata": {
        "id": "NMHqzJycx8XH"
      },
      "source": [
        "### Modified Model"
      ]
    },
    {
      "cell_type": "code",
      "metadata": {
        "id": "ZTn7iJQryAIH",
        "colab": {
          "base_uri": "https://localhost:8080/"
        },
        "outputId": "0d44bdb2-b128-4fd8-81e3-4a668d629686"
      },
      "source": [
        "%%writefile model.py\n",
        "import torch.nn as nn\n",
        "import torch.nn.functional as F\n",
        "import torch\n",
        "import numpy as np\n",
        "\n",
        "\n",
        "class Net(nn.Module):\n",
        "\n",
        "    def __init__(self, hidden=1024):\n",
        "        super(Net, self).__init__()\n",
        "        self.fc1 = nn.Linear(60, hidden) ### remember to change this2!\n",
        "        self.fc2 = nn.Linear(hidden, hidden)\n",
        "        self.fc3 = nn.Linear(hidden, hidden)\n",
        "        self.fc4 = nn.Linear(hidden, hidden)\n",
        "        self.fc5 = nn.Linear(hidden, hidden)\n",
        "        self.fc6 = nn.Linear(hidden, 1)\n",
        "        \n",
        "        self.register_buffer('norm',\n",
        "                             torch.tensor([200.0, 0.1, 200.0, 0.4, 0.2, 0.2]*10)) #6 inputs * 10 stocks  ### remember to change this2!\n",
        "\n",
        "    def forward(self, x):\n",
        "        # normalize the parameter to range [0-1] \n",
        "        x = x / self.norm\n",
        "        x = F.elu(self.fc1(x))\n",
        "        x = F.elu(self.fc2(x))\n",
        "        x = F.elu(self.fc3(x))\n",
        "        x = F.elu(self.fc4(x))\n",
        "        x = F.elu(self.fc5(x))\n",
        "        return self.fc6(x)"
      ],
      "execution_count": 4,
      "outputs": [
        {
          "output_type": "stream",
          "text": [
            "Writing model.py\n"
          ],
          "name": "stdout"
        }
      ]
    },
    {
      "cell_type": "markdown",
      "metadata": {
        "id": "hSPRFqyznwjI"
      },
      "source": [
        "As we know the random parameters' scaling factors, the input parameters are first scaled back to a range of (0-1) by dividing them by (200.0, 198.0, 200.0, 0.4, 0.2, 0.2). Then they are projected 5 times to the hidden dimension of 512 after the `ELu` activation function. `ELu` is chosen because we need to compute the second order differentiation of the parameters. If use ReLu, the second order differentiation will always be zero. The last layer is a linear layer that maps the hidden dimension to the predicted option price. "
      ]
    },
    {
      "cell_type": "markdown",
      "metadata": {
        "id": "AM8J2liPnwjJ"
      },
      "source": [
        "For training, we use [Ignite](https://github.com/pytorch/ignite) which is a high-level library to train neural networks in PyTorch. We use `MSELoss` as the loss function, `Adam` as the optimizer and `CosineAnnealingScheduler` as the learning rate scheduler. The following code is feeding the random option data to the pricing model to train it."
      ]
    },
    {
      "cell_type": "markdown",
      "metadata": {
        "id": "yACi4ge13_rd"
      },
      "source": [
        "### Train"
      ]
    },
    {
      "cell_type": "code",
      "metadata": {
        "id": "1TyZT8_AH35M",
        "colab": {
          "base_uri": "https://localhost:8080/"
        },
        "outputId": "5dcffa83-b8ed-4620-8549-f39cd55c9026"
      },
      "source": [
        "!pip install pytorch-ignite"
      ],
      "execution_count": 5,
      "outputs": [
        {
          "output_type": "stream",
          "text": [
            "Collecting pytorch-ignite\n",
            "  Downloading pytorch_ignite-0.4.5-py3-none-any.whl (221 kB)\n",
            "\u001b[?25l\r\u001b[K     |█▌                              | 10 kB 36.1 MB/s eta 0:00:01\r\u001b[K     |███                             | 20 kB 8.8 MB/s eta 0:00:01\r\u001b[K     |████▍                           | 30 kB 7.7 MB/s eta 0:00:01\r\u001b[K     |██████                          | 40 kB 7.4 MB/s eta 0:00:01\r\u001b[K     |███████▍                        | 51 kB 4.0 MB/s eta 0:00:01\r\u001b[K     |████████▉                       | 61 kB 4.2 MB/s eta 0:00:01\r\u001b[K     |██████████▍                     | 71 kB 4.6 MB/s eta 0:00:01\r\u001b[K     |███████████▉                    | 81 kB 5.0 MB/s eta 0:00:01\r\u001b[K     |█████████████▎                  | 92 kB 5.0 MB/s eta 0:00:01\r\u001b[K     |██████████████▉                 | 102 kB 4.2 MB/s eta 0:00:01\r\u001b[K     |████████████████▎               | 112 kB 4.2 MB/s eta 0:00:01\r\u001b[K     |█████████████████▊              | 122 kB 4.2 MB/s eta 0:00:01\r\u001b[K     |███████████████████▏            | 133 kB 4.2 MB/s eta 0:00:01\r\u001b[K     |████████████████████▊           | 143 kB 4.2 MB/s eta 0:00:01\r\u001b[K     |██████████████████████▏         | 153 kB 4.2 MB/s eta 0:00:01\r\u001b[K     |███████████████████████▋        | 163 kB 4.2 MB/s eta 0:00:01\r\u001b[K     |█████████████████████████▏      | 174 kB 4.2 MB/s eta 0:00:01\r\u001b[K     |██████████████████████████▋     | 184 kB 4.2 MB/s eta 0:00:01\r\u001b[K     |████████████████████████████    | 194 kB 4.2 MB/s eta 0:00:01\r\u001b[K     |█████████████████████████████▋  | 204 kB 4.2 MB/s eta 0:00:01\r\u001b[K     |███████████████████████████████ | 215 kB 4.2 MB/s eta 0:00:01\r\u001b[K     |████████████████████████████████| 221 kB 4.2 MB/s \n",
            "\u001b[?25hRequirement already satisfied: torch<2,>=1.3 in /usr/local/lib/python3.7/dist-packages (from pytorch-ignite) (1.9.0+cu102)\n",
            "Requirement already satisfied: typing-extensions in /usr/local/lib/python3.7/dist-packages (from torch<2,>=1.3->pytorch-ignite) (3.7.4.3)\n",
            "Installing collected packages: pytorch-ignite\n",
            "Successfully installed pytorch-ignite-0.4.5\n"
          ],
          "name": "stdout"
        }
      ]
    },
    {
      "cell_type": "code",
      "metadata": {
        "id": "G4Ej82G8nwjJ",
        "colab": {
          "base_uri": "https://localhost:8080/"
        },
        "outputId": "36bd36eb-d7a2-4f81-c389-e2f9f37e5dfb"
      },
      "source": [
        "from ignite.engine import Engine, Events\n",
        "from ignite.handlers import Timer\n",
        "from torch.nn import MSELoss\n",
        "from torch.optim import Adam\n",
        "from ignite.contrib.handlers.param_scheduler import CosineAnnealingScheduler\n",
        "from ignite.handlers import ModelCheckpoint\n",
        "from model import Net\n",
        "from cupy_dataset import NumbaOptionDataSet\n",
        "timer = Timer(average=True)\n",
        "model = Net().cuda()\n",
        "loss_fn = MSELoss()\n",
        "optimizer = Adam(model.parameters(), lr=1e-3)\n",
        "dataset = NumbaOptionDataSet(max_len=100, number_path = 1024, batch=32, stocks=10)  # remember to change this4!\n",
        "\n",
        "def train_update(engine, batch):\n",
        "    model.train()\n",
        "    optimizer.zero_grad()\n",
        "    x = batch[0]\n",
        "    y = batch[1]\n",
        "    y_pred = model(x)\n",
        "    loss = loss_fn(y_pred[:,0], y)\n",
        "    loss.backward()\n",
        "    optimizer.step()\n",
        "    return loss.item()\n",
        "\n",
        "trainer = Engine(train_update)\n",
        "log_interval = 20\n",
        "\n",
        "scheduler = CosineAnnealingScheduler(optimizer, 'lr', 1e-4, 1e-6, len(dataset))\n",
        "trainer.add_event_handler(Events.ITERATION_STARTED, scheduler)\n",
        "timer.attach(trainer,\n",
        "             start=Events.EPOCH_STARTED,\n",
        "             resume=Events.ITERATION_STARTED,\n",
        "             pause=Events.ITERATION_COMPLETED,\n",
        "             step=Events.ITERATION_COMPLETED)    \n",
        "@trainer.on(Events.ITERATION_COMPLETED)\n",
        "def log_training_loss(engine):\n",
        "    iter = (engine.state.iteration - 1) % len(dataset) + 1\n",
        "    if iter % log_interval == 0:\n",
        "        print('loss', engine.state.output, 'average time', timer.value(), 'iter num', iter)\n",
        "        \n",
        "trainer.run(dataset, max_epochs=100)"
      ],
      "execution_count": null,
      "outputs": [
        {
          "output_type": "stream",
          "text": [
            "loss 756.2080078125 average time 0.46054010170000054 iter num 20\n",
            "loss 610.3045654296875 average time 0.2322537454500015 iter num 40\n",
            "loss 1349.194580078125 average time 0.15615080651666535 iter num 60\n",
            "loss 559.3448486328125 average time 0.11805885198749806 iter num 80\n",
            "loss 625.5225830078125 average time 0.09524226950999946 iter num 100\n",
            "loss 268.63336181640625 average time 0.06712234860001161 iter num 20\n",
            "loss 104.58335876464844 average time 0.03548245622500303 iter num 40\n",
            "loss 60.53202819824219 average time 0.024965869783333497 iter num 60\n",
            "loss 60.3089599609375 average time 0.019666976925000766 iter num 80\n",
            "loss 75.8586654663086 average time 0.016483265439999287 iter num 100\n",
            "loss 23.96868896484375 average time 0.06289682700000583 iter num 20\n",
            "loss 27.16643714904785 average time 0.03337579967500517 iter num 40\n",
            "loss 15.160030364990234 average time 0.023492455466674757 iter num 60\n",
            "loss 13.283747673034668 average time 0.018533703625008967 iter num 80\n",
            "loss 21.146249771118164 average time 0.015604332980008167 iter num 100\n",
            "loss 10.848830223083496 average time 0.06713658680000094 iter num 20\n",
            "loss 14.907787322998047 average time 0.03541387385000121 iter num 40\n",
            "loss 17.391193389892578 average time 0.02486342588333059 iter num 60\n",
            "loss 13.858989715576172 average time 0.019578684662495505 iter num 80\n",
            "loss 13.823136329650879 average time 0.016417754479996348 iter num 100\n",
            "loss 10.440216064453125 average time 0.06652079264998179 iter num 20\n",
            "loss 12.720901489257812 average time 0.035091169174987155 iter num 40\n",
            "loss 10.747089385986328 average time 0.024712934616657852 iter num 60\n",
            "loss 17.397754669189453 average time 0.019475046487495717 iter num 80\n",
            "loss 14.53548526763916 average time 0.01634581939999748 iter num 100\n",
            "loss 11.66816520690918 average time 0.06258647074998862 iter num 20\n",
            "loss 8.437277793884277 average time 0.03316780479999295 iter num 40\n",
            "loss 12.865774154663086 average time 0.023351170583335565 iter num 60\n",
            "loss 14.419353485107422 average time 0.01842852656250358 iter num 80\n",
            "loss 11.481366157531738 average time 0.015498801890007598 iter num 100\n",
            "loss 10.65997314453125 average time 0.06631999124997492 iter num 20\n",
            "loss 13.255313873291016 average time 0.03508894832498584 iter num 40\n",
            "loss 12.470968246459961 average time 0.02466568549998745 iter num 60\n",
            "loss 12.390527725219727 average time 0.019421405137491375 iter num 80\n",
            "loss 4.933422088623047 average time 0.016281852789990125 iter num 100\n",
            "loss 10.507279396057129 average time 0.06646006094996437 iter num 20\n",
            "loss 21.148727416992188 average time 0.03511920029999942 iter num 40\n",
            "loss 19.273605346679688 average time 0.02463170449999552 iter num 60\n",
            "loss 9.00284194946289 average time 0.019401592537499825 iter num 80\n",
            "loss 13.645086288452148 average time 0.016277455450001525 iter num 100\n",
            "loss 12.205438613891602 average time 0.0625187236499869 iter num 20\n",
            "loss 16.179035186767578 average time 0.03312443527499909 iter num 40\n",
            "loss 16.85905647277832 average time 0.023339756183342313 iter num 60\n",
            "loss 7.043838024139404 average time 0.01842214626250893 iter num 80\n",
            "loss 11.309868812561035 average time 0.015490004280011363 iter num 100\n",
            "loss 11.943603515625 average time 0.06783608445000482 iter num 20\n",
            "loss 14.836337089538574 average time 0.03574290662500061 iter num 40\n",
            "loss 14.183053016662598 average time 0.02508583344999806 iter num 60\n",
            "loss 6.968146800994873 average time 0.019768043274993374 iter num 80\n",
            "loss 15.065921783447266 average time 0.016550640250000016 iter num 100\n",
            "loss 13.536931037902832 average time 0.06207609659999207 iter num 20\n",
            "loss 9.552989959716797 average time 0.03292461189997766 iter num 40\n",
            "loss 9.789453506469727 average time 0.023169866999990064 iter num 60\n",
            "loss 17.973777770996094 average time 0.01833665718748705 iter num 80\n",
            "loss 7.580252647399902 average time 0.01542210410999587 iter num 100\n",
            "loss 7.57248592376709 average time 0.06223629295000137 iter num 20\n",
            "loss 21.43767738342285 average time 0.0329744984499996 iter num 40\n",
            "loss 11.911543846130371 average time 0.023252614866676898 iter num 60\n",
            "loss 8.553641319274902 average time 0.01837868506251823 iter num 80\n",
            "loss 9.662755966186523 average time 0.015466704570019373 iter num 100\n",
            "loss 14.577655792236328 average time 0.06666252784999642 iter num 20\n",
            "loss 12.686848640441895 average time 0.035199485924999864 iter num 40\n",
            "loss 11.861457824707031 average time 0.024725259516662844 iter num 60\n",
            "loss 9.270292282104492 average time 0.019490769574997558 iter num 80\n",
            "loss 13.949938774108887 average time 0.01635264550000329 iter num 100\n",
            "loss 11.775859832763672 average time 0.06229048369998509 iter num 20\n",
            "loss 8.152383804321289 average time 0.03310232817499923 iter num 40\n",
            "loss 20.136764526367188 average time 0.02347011393332347 iter num 60\n",
            "loss 9.367216110229492 average time 0.018520098812496145 iter num 80\n",
            "loss 7.293045997619629 average time 0.015578294839995123 iter num 100\n",
            "loss 9.275980949401855 average time 0.06562668510001686 iter num 20\n",
            "loss 10.90031623840332 average time 0.0346594967250212 iter num 40\n",
            "loss 15.587431907653809 average time 0.02436458531668677 iter num 60\n",
            "loss 10.580272674560547 average time 0.019192610375017693 iter num 80\n",
            "loss 9.013800621032715 average time 0.016103489170013745 iter num 100\n",
            "loss 12.939767837524414 average time 0.06641726059996245 iter num 20\n",
            "loss 12.764863967895508 average time 0.03511827939998398 iter num 40\n",
            "loss 4.822744846343994 average time 0.024660772816669882 iter num 60\n",
            "loss 14.819293975830078 average time 0.019420451787490835 iter num 80\n",
            "loss 18.519399642944336 average time 0.016282261859989832 iter num 100\n",
            "loss 15.981045722961426 average time 0.06235843475001275 iter num 20\n",
            "loss 8.853961944580078 average time 0.033046329374997185 iter num 40\n",
            "loss 11.627558708190918 average time 0.023287403650025833 iter num 60\n",
            "loss 13.758148193359375 average time 0.018395369225015657 iter num 80\n",
            "loss 8.194791793823242 average time 0.01547617352002817 iter num 100\n",
            "loss 8.004799842834473 average time 0.06712169079996784 iter num 20\n",
            "loss 15.746516227722168 average time 0.03539970427494836 iter num 40\n",
            "loss 12.71908187866211 average time 0.024849645283279643 iter num 60\n",
            "loss 5.452731132507324 average time 0.01961241737495243 iter num 80\n",
            "loss 7.179132461547852 average time 0.0164309318399728 iter num 100\n",
            "loss 7.076695919036865 average time 0.0668259492000061 iter num 20\n",
            "loss 12.0226469039917 average time 0.03545925947499882 iter num 40\n",
            "loss 11.879730224609375 average time 0.02487348675000855 iter num 60\n",
            "loss 8.55465316772461 average time 0.019582327237515074 iter num 80\n",
            "loss 12.534642219543457 average time 0.016411742079999386 iter num 100\n",
            "loss 5.727787971496582 average time 0.061407115300016815 iter num 20\n",
            "loss 9.641895294189453 average time 0.03256819017500447 iter num 40\n",
            "loss 10.931900024414062 average time 0.022977565916676213 iter num 60\n",
            "loss 10.048229217529297 average time 0.018137886875007326 iter num 80\n",
            "loss 14.453912734985352 average time 0.015280890200006069 iter num 100\n",
            "loss 12.958343505859375 average time 0.06550680634993569 iter num 20\n",
            "loss 8.637088775634766 average time 0.034589655124932506 iter num 40\n",
            "loss 5.775416851043701 average time 0.024331226816616435 iter num 60\n",
            "loss 8.80295181274414 average time 0.019195121699954142 iter num 80\n",
            "loss 15.264622688293457 average time 0.016110838749968933 iter num 100\n",
            "loss 7.337617874145508 average time 0.06185384195000552 iter num 20\n",
            "loss 8.7933349609375 average time 0.032796176349972936 iter num 40\n",
            "loss 6.533721923828125 average time 0.02309347106665124 iter num 60\n",
            "loss 9.065059661865234 average time 0.018236625099990533 iter num 80\n",
            "loss 15.049161911010742 average time 0.015341128069994738 iter num 100\n",
            "loss 13.625703811645508 average time 0.061577976099943046 iter num 20\n",
            "loss 13.768698692321777 average time 0.03263237567497299 iter num 40\n",
            "loss 14.806381225585938 average time 0.02301097843332324 iter num 60\n",
            "loss 13.292165756225586 average time 0.018178435600003696 iter num 80\n",
            "loss 12.535229682922363 average time 0.015283913940006642 iter num 100\n",
            "loss 10.516938209533691 average time 0.06658057855001971 iter num 20\n",
            "loss 11.306098937988281 average time 0.035110592325008835 iter num 40\n",
            "loss 14.152894020080566 average time 0.024661805316676087 iter num 60\n",
            "loss 8.31816291809082 average time 0.019434232700012898 iter num 80\n",
            "loss 11.751405715942383 average time 0.016287862050012335 iter num 100\n",
            "loss 10.22996711730957 average time 0.06186807405010768 iter num 20\n",
            "loss 6.923938751220703 average time 0.03282903687505723 iter num 40\n",
            "loss 8.424243927001953 average time 0.023118323216719243 iter num 60\n",
            "loss 11.085537910461426 average time 0.018277748487560076 iter num 80\n",
            "loss 17.547306060791016 average time 0.015379092280049918 iter num 100\n",
            "loss 10.213676452636719 average time 0.06691221365006186 iter num 20\n",
            "loss 10.982551574707031 average time 0.03534181445002105 iter num 40\n",
            "loss 7.439322471618652 average time 0.02481834368335664 iter num 60\n",
            "loss 9.578349113464355 average time 0.019559051187508204 iter num 80\n",
            "loss 6.887065887451172 average time 0.016401651919995857 iter num 100\n",
            "loss 7.319919586181641 average time 0.06619589824997547 iter num 20\n",
            "loss 10.964534759521484 average time 0.03508305245002248 iter num 40\n",
            "loss 8.503928184509277 average time 0.02459750855002009 iter num 60\n",
            "loss 6.954013824462891 average time 0.019367706225011716 iter num 80\n",
            "loss 7.2981696128845215 average time 0.016275732460017026 iter num 100\n",
            "loss 15.977961540222168 average time 0.061394188299982486 iter num 20\n",
            "loss 6.798612117767334 average time 0.032547567649942266 iter num 40\n",
            "loss 5.978974342346191 average time 0.022929845683309698 iter num 60\n",
            "loss 11.955766677856445 average time 0.018112090062476226 iter num 80\n",
            "loss 12.852489471435547 average time 0.015278196919980473 iter num 100\n",
            "loss 14.66731071472168 average time 0.06607126149999658 iter num 20\n",
            "loss 12.886726379394531 average time 0.03491284797499929 iter num 40\n",
            "loss 20.80460548400879 average time 0.024535178499983584 iter num 60\n",
            "loss 6.160178184509277 average time 0.01932780563751635 iter num 80\n",
            "loss 17.915668487548828 average time 0.016219314390018554 iter num 100\n",
            "loss 8.390542030334473 average time 0.06563630584996645 iter num 20\n",
            "loss 4.609394073486328 average time 0.03470955879993198 iter num 40\n",
            "loss 9.003174781799316 average time 0.02436431768328475 iter num 60\n",
            "loss 10.00432300567627 average time 0.01918723213747171 iter num 80\n",
            "loss 8.694588661193848 average time 0.016104934569984835 iter num 100\n",
            "loss 11.518463134765625 average time 0.06124353524999151 iter num 20\n",
            "loss 11.105328559875488 average time 0.03246748992501125 iter num 40\n",
            "loss 6.250664234161377 average time 0.022884973183348242 iter num 60\n",
            "loss 9.792010307312012 average time 0.01807080418749365 iter num 80\n",
            "loss 8.205854415893555 average time 0.015201005129997612 iter num 100\n",
            "loss 7.792055130004883 average time 0.06667970149999292 iter num 20\n",
            "loss 10.786737442016602 average time 0.035157944474997295 iter num 40\n",
            "loss 10.64480972290039 average time 0.02470605659997697 iter num 60\n",
            "loss 13.467641830444336 average time 0.01948040086247147 iter num 80\n",
            "loss 10.736852645874023 average time 0.01632918800999505 iter num 100\n",
            "loss 12.840316772460938 average time 0.060924060550087235 iter num 20\n",
            "loss 8.739639282226562 average time 0.03235452202504803 iter num 40\n",
            "loss 12.06067943572998 average time 0.022800924266736425 iter num 60\n",
            "loss 13.687392234802246 average time 0.018003382237554887 iter num 80\n",
            "loss 7.0138468742370605 average time 0.015169690030052151 iter num 100\n",
            "loss 7.872920036315918 average time 0.06547852605003754 iter num 20\n",
            "loss 10.538259506225586 average time 0.034600906850005234 iter num 40\n",
            "loss 7.771212577819824 average time 0.02433071790002638 iter num 60\n",
            "loss 7.802124977111816 average time 0.019158633525000822 iter num 80\n",
            "loss 12.314614295959473 average time 0.01605865152997467 iter num 100\n",
            "loss 17.09410285949707 average time 0.06684288854989973 iter num 20\n",
            "loss 14.562629699707031 average time 0.03529770917500628 iter num 40\n",
            "loss 9.336935043334961 average time 0.024777994983317817 iter num 60\n",
            "loss 6.518397808074951 average time 0.019546439574969553 iter num 80\n",
            "loss 8.941165924072266 average time 0.016438398879963644 iter num 100\n",
            "loss 13.431841850280762 average time 0.06206055450002168 iter num 20\n",
            "loss 5.533489227294922 average time 0.03287375177499143 iter num 40\n",
            "loss 9.552079200744629 average time 0.02316017666665478 iter num 60\n",
            "loss 10.031904220581055 average time 0.01832586980000315 iter num 80\n",
            "loss 14.0086030960083 average time 0.01540786176004076 iter num 100\n",
            "loss 10.981720924377441 average time 0.0655982308498551 iter num 20\n",
            "loss 5.526917457580566 average time 0.034610583774906445 iter num 40\n",
            "loss 15.688941955566406 average time 0.024317969766601284 iter num 60\n",
            "loss 5.982989311218262 average time 0.019177643737441484 iter num 80\n",
            "loss 11.543421745300293 average time 0.016082931939972695 iter num 100\n",
            "loss 8.488275527954102 average time 0.06192452379991664 iter num 20\n",
            "loss 18.32155990600586 average time 0.03282945904995813 iter num 40\n",
            "loss 11.508745193481445 average time 0.023155787516589043 iter num 60\n",
            "loss 8.416275024414062 average time 0.018331731862440394 iter num 80\n",
            "loss 8.724976539611816 average time 0.015409592339938171 iter num 100\n",
            "loss 24.507125854492188 average time 0.06585869860000457 iter num 20\n",
            "loss 16.237483978271484 average time 0.034746152474986046 iter num 40\n",
            "loss 8.55416488647461 average time 0.024420423800014152 iter num 60\n",
            "loss 4.996783256530762 average time 0.01922630393750069 iter num 80\n",
            "loss 14.54647445678711 average time 0.01611370751998038 iter num 100\n",
            "loss 13.718823432922363 average time 0.0663648582499718 iter num 20\n",
            "loss 9.346940994262695 average time 0.035011534449972716 iter num 40\n",
            "loss 14.269763946533203 average time 0.02457238059996598 iter num 60\n",
            "loss 14.817828178405762 average time 0.019385815024952534 iter num 80\n",
            "loss 9.089719772338867 average time 0.016249277569941115 iter num 100\n",
            "loss 10.7358980178833 average time 0.061161887050184306 iter num 20\n",
            "loss 14.413707733154297 average time 0.03251749562500663 iter num 40\n",
            "loss 8.166723251342773 average time 0.022974588733283476 iter num 60\n",
            "loss 12.465450286865234 average time 0.01814090928743326 iter num 80\n",
            "loss 9.178619384765625 average time 0.015256664709922915 iter num 100\n",
            "loss 10.182395935058594 average time 0.06549091569995653 iter num 20\n",
            "loss 7.0520429611206055 average time 0.03458006037492396 iter num 40\n",
            "loss 6.718593120574951 average time 0.024287239083287206 iter num 60\n",
            "loss 11.79774284362793 average time 0.01914275063744526 iter num 80\n",
            "loss 11.274864196777344 average time 0.01607701212997199 iter num 100\n",
            "loss 8.814114570617676 average time 0.06081443930006571 iter num 20\n",
            "loss 10.423680305480957 average time 0.032346678575027 iter num 40\n",
            "loss 7.085687637329102 average time 0.02277997311668211 iter num 60\n",
            "loss 10.721681594848633 average time 0.018038278437529698 iter num 80\n",
            "loss 8.716469764709473 average time 0.015197579160030728 iter num 100\n",
            "loss 7.814899921417236 average time 0.06525827355021648 iter num 20\n",
            "loss 7.824914455413818 average time 0.03444869215009021 iter num 40\n",
            "loss 16.443035125732422 average time 0.024202319483386723 iter num 60\n",
            "loss 9.497076988220215 average time 0.01907798796253246 iter num 80\n",
            "loss 5.514316558837891 average time 0.016004416430032507 iter num 100\n",
            "loss 8.005953788757324 average time 0.0658952027500618 iter num 20\n",
            "loss 8.546649932861328 average time 0.034765618250094124 iter num 40\n",
            "loss 8.8421049118042 average time 0.024403414566692542 iter num 60\n",
            "loss 11.89505386352539 average time 0.019245451100005084 iter num 80\n",
            "loss 6.748603343963623 average time 0.01612199639999744 iter num 100\n",
            "loss 6.43161153793335 average time 0.06140519099990342 iter num 20\n",
            "loss 11.290288925170898 average time 0.03258160384991697 iter num 40\n",
            "loss 7.713665008544922 average time 0.02297957461661705 iter num 60\n",
            "loss 6.432390213012695 average time 0.018141315299976667 iter num 80\n",
            "loss 18.472827911376953 average time 0.015253443899955527 iter num 100\n",
            "loss 11.117795944213867 average time 0.0655378648999431 iter num 20\n",
            "loss 11.361076354980469 average time 0.03459261512498415 iter num 40\n",
            "loss 6.6124677658081055 average time 0.02431673989999581 iter num 60\n",
            "loss 8.952648162841797 average time 0.019151624425012413 iter num 80\n",
            "loss 7.150914192199707 average time 0.016044729269997334 iter num 100\n",
            "loss 10.391632080078125 average time 0.06106592109999838 iter num 20\n",
            "loss 9.193920135498047 average time 0.032402933749881416 iter num 40\n",
            "loss 11.843315124511719 average time 0.022832283166599153 iter num 60\n",
            "loss 7.38572883605957 average time 0.018060093399947165 iter num 80\n",
            "loss 10.75056266784668 average time 0.015177627199964263 iter num 100\n",
            "loss 13.253951072692871 average time 0.061811813600115784 iter num 20\n",
            "loss 8.2554349899292 average time 0.032765823525073755 iter num 40\n",
            "loss 7.952901840209961 average time 0.02312135406670374 iter num 60\n",
            "loss 8.37309455871582 average time 0.01826501208756781 iter num 80\n",
            "loss 9.565361022949219 average time 0.015378135060063868 iter num 100\n",
            "loss 11.109655380249023 average time 0.06582979525005613 iter num 20\n",
            "loss 7.964150428771973 average time 0.03475087237502521 iter num 40\n",
            "loss 6.089771270751953 average time 0.02441593359997872 iter num 60\n",
            "loss 8.016487121582031 average time 0.019253929775004508 iter num 80\n",
            "loss 6.339698314666748 average time 0.01615241455996511 iter num 100\n",
            "loss 10.606786727905273 average time 0.061897855950064695 iter num 20\n",
            "loss 6.647590637207031 average time 0.03278594722503385 iter num 40\n",
            "loss 7.6672821044921875 average time 0.02315535581669792 iter num 60\n",
            "loss 9.030954360961914 average time 0.018301720725025915 iter num 80\n",
            "loss 6.227652549743652 average time 0.015402433830022346 iter num 100\n",
            "loss 8.19441032409668 average time 0.0662125755499801 iter num 20\n",
            "loss 7.539759635925293 average time 0.03493270862497866 iter num 40\n",
            "loss 11.966865539550781 average time 0.024536517083303504 iter num 60\n",
            "loss 7.021268844604492 average time 0.01932412570000679 iter num 80\n",
            "loss 8.008965492248535 average time 0.01618948147000083 iter num 100\n",
            "loss 8.20406723022461 average time 0.062151768950025145 iter num 20\n",
            "loss 13.578372955322266 average time 0.03294796500001666 iter num 40\n",
            "loss 12.274218559265137 average time 0.023228769666699615 iter num 60\n",
            "loss 8.33875846862793 average time 0.01837645592501076 iter num 80\n",
            "loss 5.645501136779785 average time 0.015450929830012682 iter num 100\n",
            "loss 16.404769897460938 average time 0.06308733155001392 iter num 20\n",
            "loss 7.524646759033203 average time 0.033402975299986794 iter num 40\n",
            "loss 8.228294372558594 average time 0.02353200316664091 iter num 60\n",
            "loss 6.479602336883545 average time 0.01858266896249461 iter num 80\n",
            "loss 10.364877700805664 average time 0.01564047365996885 iter num 100\n",
            "loss 8.136761665344238 average time 0.06685032840009626 iter num 20\n",
            "loss 14.611152648925781 average time 0.03527248402506302 iter num 40\n",
            "loss 14.838357925415039 average time 0.0247550674666248 iter num 60\n",
            "loss 5.929413795471191 average time 0.019496951637495385 iter num 80\n",
            "loss 8.297944068908691 average time 0.01632608541999616 iter num 100\n",
            "loss 8.418561935424805 average time 0.061934520250042625 iter num 20\n",
            "loss 17.225875854492188 average time 0.03278487015002156 iter num 40\n",
            "loss 10.184307098388672 average time 0.023073676233328417 iter num 60\n",
            "loss 7.499231815338135 average time 0.018301427575022445 iter num 80\n",
            "loss 2.3854339122772217 average time 0.01537417157001073 iter num 100\n",
            "loss 11.548585891723633 average time 0.06136082550019637 iter num 20\n",
            "loss 8.451665878295898 average time 0.0326348122251602 iter num 40\n",
            "loss 14.288214683532715 average time 0.023001693716802645 iter num 60\n",
            "loss 7.004832744598389 average time 0.01817750013759678 iter num 80\n",
            "loss 12.627180099487305 average time 0.015307485670082315 iter num 100\n",
            "loss 10.770273208618164 average time 0.06582345145002363 iter num 20\n",
            "loss 11.377791404724121 average time 0.03475981852493533 iter num 40\n",
            "loss 11.591424942016602 average time 0.024412065166628357 iter num 60\n",
            "loss 7.337278842926025 average time 0.01926651179999226 iter num 80\n",
            "loss 8.508943557739258 average time 0.016135260640021444 iter num 100\n",
            "loss 11.929048538208008 average time 0.06156508420008322 iter num 20\n",
            "loss 13.236286163330078 average time 0.03274783707502138 iter num 40\n",
            "loss 17.32569122314453 average time 0.023042584533292634 iter num 60\n",
            "loss 8.072754859924316 average time 0.018218865974949948 iter num 80\n",
            "loss 7.984151363372803 average time 0.015311295879964746 iter num 100\n",
            "loss 10.989749908447266 average time 0.06103367670007174 iter num 20\n",
            "loss 8.628915786743164 average time 0.03237944365000658 iter num 40\n",
            "loss 10.316261291503906 average time 0.022880170416707795 iter num 60\n",
            "loss 10.934612274169922 average time 0.018085999325046488 iter num 80\n",
            "loss 9.212667465209961 average time 0.0151928169599978 iter num 100\n",
            "loss 18.788272857666016 average time 0.06169404825004676 iter num 20\n",
            "loss 10.466327667236328 average time 0.032710703350016954 iter num 40\n",
            "loss 6.673335075378418 average time 0.0230192308666877 iter num 60\n",
            "loss 10.214715957641602 average time 0.01820121030000337 iter num 80\n",
            "loss 4.735179424285889 average time 0.01530830791999506 iter num 100\n",
            "loss 8.278520584106445 average time 0.061624059400037366 iter num 20\n",
            "loss 9.445518493652344 average time 0.03268617640005687 iter num 40\n",
            "loss 7.73887300491333 average time 0.02300241855001938 iter num 60\n",
            "loss 10.357706069946289 average time 0.0181994954875222 iter num 80\n",
            "loss 8.958821296691895 average time 0.015313137420016575 iter num 100\n",
            "loss 8.42278003692627 average time 0.06592214825000156 iter num 20\n",
            "loss 18.361087799072266 average time 0.0347958610750311 iter num 40\n",
            "loss 14.930526733398438 average time 0.024424137433349338 iter num 60\n",
            "loss 9.333616256713867 average time 0.019271302350023233 iter num 80\n",
            "loss 8.342794418334961 average time 0.016149567170032242 iter num 100\n",
            "loss 10.681905746459961 average time 0.06151733064994005 iter num 20\n",
            "loss 12.577102661132812 average time 0.03261046102488763 iter num 40\n",
            "loss 14.326299667358398 average time 0.023003018116575426 iter num 60\n",
            "loss 10.093151092529297 average time 0.01817775832495272 iter num 80\n",
            "loss 3.5504345893859863 average time 0.01528176689994325 iter num 100\n",
            "loss 14.776040077209473 average time 0.062044189749940415 iter num 20\n",
            "loss 13.836830139160156 average time 0.03290852107500086 iter num 40\n",
            "loss 5.70833158493042 average time 0.02317986363336786 iter num 60\n",
            "loss 10.644720077514648 average time 0.018309112012525476 iter num 80\n",
            "loss 6.966897964477539 average time 0.015394194860018615 iter num 100\n",
            "loss 8.097543716430664 average time 0.06112648789994637 iter num 20\n",
            "loss 11.462188720703125 average time 0.032441633149937844 iter num 40\n",
            "loss 10.809565544128418 average time 0.022849971049951515 iter num 60\n",
            "loss 7.59194803237915 average time 0.01813039721246241 iter num 80\n",
            "loss 6.510392665863037 average time 0.01525672452996332 iter num 100\n",
            "loss 29.704137802124023 average time 0.06214961979985674 iter num 20\n",
            "loss 10.682475090026855 average time 0.032955012449883726 iter num 40\n",
            "loss 2.761296033859253 average time 0.02318178621659778 iter num 60\n",
            "loss 7.8482346534729 average time 0.018340951599975598 iter num 80\n",
            "loss 16.563920974731445 average time 0.01541372839997166 iter num 100\n",
            "loss 15.050509452819824 average time 0.060961545050031415 iter num 20\n",
            "loss 14.135740280151367 average time 0.03241924847498012 iter num 40\n",
            "loss 12.277997016906738 average time 0.022842511999927713 iter num 60\n",
            "loss 6.644515514373779 average time 0.018066596049993677 iter num 80\n",
            "loss 5.547422409057617 average time 0.01518447718999596 iter num 100\n",
            "loss 9.06881046295166 average time 0.061826971649952614 iter num 20\n",
            "loss 6.078686714172363 average time 0.03277983732514258 iter num 40\n",
            "loss 10.514811515808105 average time 0.023073590033497262 iter num 60\n",
            "loss 11.89647102355957 average time 0.018245151912628897 iter num 80\n",
            "loss 10.20065975189209 average time 0.015330988300120226 iter num 100\n",
            "loss 12.6775541305542 average time 0.06230528425003286 iter num 20\n",
            "loss 12.45865249633789 average time 0.033061653949971515 iter num 40\n",
            "loss 4.2624735832214355 average time 0.023287127949970454 iter num 60\n",
            "loss 7.883352279663086 average time 0.018387299750020247 iter num 80\n",
            "loss 6.537986755371094 average time 0.015479199070050527 iter num 100\n",
            "loss 7.260252475738525 average time 0.06188429060002818 iter num 20\n",
            "loss 10.44792652130127 average time 0.03288225412493375 iter num 40\n",
            "loss 6.861961364746094 average time 0.023194004366572093 iter num 60\n",
            "loss 11.974639892578125 average time 0.018341482662458476 iter num 80\n",
            "loss 9.10373306274414 average time 0.015408933209946553 iter num 100\n",
            "loss 7.367892265319824 average time 0.06193422444994212 iter num 20\n",
            "loss 9.0775146484375 average time 0.03282722982503401 iter num 40\n",
            "loss 8.597658157348633 average time 0.0230994146500052 iter num 60\n",
            "loss 8.498926162719727 average time 0.0182911901749776 iter num 80\n",
            "loss 11.37380313873291 average time 0.015372355059989786 iter num 100\n",
            "loss 9.221853256225586 average time 0.06127625065009852 iter num 20\n",
            "loss 11.851685523986816 average time 0.03254727247494884 iter num 40\n",
            "loss 13.34769058227539 average time 0.02291048326666593 iter num 60\n",
            "loss 15.127805709838867 average time 0.018098765862441725 iter num 80\n",
            "loss 8.171297073364258 average time 0.015234009049945598 iter num 100\n",
            "loss 7.231097221374512 average time 0.062258630300038934 iter num 20\n",
            "loss 12.42424201965332 average time 0.0330399379499795 iter num 40\n",
            "loss 6.981086730957031 average time 0.0232802602665591 iter num 60\n",
            "loss 7.436176776885986 average time 0.01840075756240367 iter num 80\n",
            "loss 13.828842163085938 average time 0.015446214159910597 iter num 100\n",
            "loss 19.100631713867188 average time 0.06131241009998121 iter num 20\n",
            "loss 14.29662799835205 average time 0.032515379075039166 iter num 40\n",
            "loss 7.843734264373779 average time 0.022934145200027463 iter num 60\n",
            "loss 4.081764221191406 average time 0.01811399304999668 iter num 80\n",
            "loss 8.341470718383789 average time 0.015244427629986602 iter num 100\n",
            "loss 11.039806365966797 average time 0.061872595799923144 iter num 20\n",
            "loss 11.166966438293457 average time 0.03280475467495307 iter num 40\n",
            "loss 13.484737396240234 average time 0.023109443866663543 iter num 60\n",
            "loss 9.35556411743164 average time 0.018288219424994166 iter num 80\n",
            "loss 3.4733710289001465 average time 0.015354768240013073 iter num 100\n",
            "loss 6.2686309814453125 average time 0.06146083855010147 iter num 20\n",
            "loss 7.923802375793457 average time 0.032586798374995854 iter num 40\n",
            "loss 11.995002746582031 average time 0.02293761959999756 iter num 60\n",
            "loss 10.922595024108887 average time 0.018141340087549907 iter num 80\n",
            "loss 5.08627986907959 average time 0.01524795820005238 iter num 100\n",
            "loss 9.261235237121582 average time 0.06267343084973617 iter num 20\n",
            "loss 10.041776657104492 average time 0.033246754024958136 iter num 40\n",
            "loss 8.041781425476074 average time 0.023395426383225035 iter num 60\n",
            "loss 14.265052795410156 average time 0.018492049037377 iter num 80\n",
            "loss 7.99180269241333 average time 0.015552528539938066 iter num 100\n",
            "loss 8.653568267822266 average time 0.061269720650216186 iter num 20\n",
            "loss 10.291108131408691 average time 0.03248353102499095 iter num 40\n",
            "loss 8.511248588562012 average time 0.022916187500019683 iter num 60\n",
            "loss 13.197778701782227 average time 0.018126717112545522 iter num 80\n",
            "loss 8.60262393951416 average time 0.015229340810037684 iter num 100\n",
            "loss 14.336524963378906 average time 0.06148546164977233 iter num 20\n",
            "loss 14.13176441192627 average time 0.032625249949842325 iter num 40\n",
            "loss 10.310772895812988 average time 0.023022017749887404 iter num 60\n",
            "loss 7.571878433227539 average time 0.01818331692486481 iter num 80\n",
            "loss 10.21684455871582 average time 0.015318860029910866 iter num 100\n",
            "loss 9.974967002868652 average time 0.06150296270025137 iter num 20\n",
            "loss 10.125086784362793 average time 0.032694564050143524 iter num 40\n",
            "loss 4.997188568115234 average time 0.023035132133372827 iter num 60\n",
            "loss 5.594109058380127 average time 0.018226949325048737 iter num 80\n",
            "loss 8.746376991271973 average time 0.015330071200041857 iter num 100\n",
            "loss 14.418123245239258 average time 0.06553302080010326 iter num 20\n",
            "loss 9.51890754699707 average time 0.03463629914990633 iter num 40\n",
            "loss 10.609945297241211 average time 0.024310222883226137 iter num 60\n",
            "loss 10.029193878173828 average time 0.019156403462397976 iter num 80\n",
            "loss 8.405130386352539 average time 0.016067536839909736 iter num 100\n",
            "loss 12.152999877929688 average time 0.061907063399758044 iter num 20\n",
            "loss 10.52631950378418 average time 0.032842946124810625 iter num 40\n",
            "loss 13.304464340209961 average time 0.02313144779994521 iter num 60\n",
            "loss 6.175373077392578 average time 0.018276410524913446 iter num 80\n",
            "loss 9.966697692871094 average time 0.015375494209874887 iter num 100\n",
            "loss 10.127574920654297 average time 0.06126975275010409 iter num 20\n",
            "loss 10.197349548339844 average time 0.032539089174952095 iter num 40\n",
            "loss 12.187019348144531 average time 0.022957655749996773 iter num 60\n",
            "loss 12.508398056030273 average time 0.018136454825048533 iter num 80\n",
            "loss 9.933819770812988 average time 0.015253334579992952 iter num 100\n",
            "loss 13.764470100402832 average time 0.06510858715000722 iter num 20\n",
            "loss 25.11050796508789 average time 0.03446398349988158 iter num 40\n",
            "loss 9.038213729858398 average time 0.024189776966522913 iter num 60\n",
            "loss 12.498477935791016 average time 0.01907022316243001 iter num 80\n",
            "loss 8.862625122070312 average time 0.016000950779944106 iter num 100\n",
            "loss 12.321808815002441 average time 0.061244294899734084 iter num 20\n",
            "loss 7.4166741371154785 average time 0.03246747637504086 iter num 40\n",
            "loss 12.313045501708984 average time 0.022874139000092934 iter num 60\n",
            "loss 6.63817834854126 average time 0.018090723287605213 iter num 80\n",
            "loss 7.926199436187744 average time 0.015242229050109017 iter num 100\n",
            "loss 11.520076751708984 average time 0.06651773294997838 iter num 20\n",
            "loss 8.745649337768555 average time 0.03509356682488942 iter num 40\n",
            "loss 8.710440635681152 average time 0.02467234966664667 iter num 60\n",
            "loss 12.632461547851562 average time 0.019444547350030917 iter num 80\n",
            "loss 3.712972402572632 average time 0.016298793940040922 iter num 100\n",
            "loss 4.215433120727539 average time 0.0614420347500527 iter num 20\n",
            "loss 8.69176197052002 average time 0.032596495125062575 iter num 40\n",
            "loss 7.468325614929199 average time 0.022960041616715898 iter num 60\n",
            "loss 10.675134658813477 average time 0.01814783246254592 iter num 80\n",
            "loss 7.610326766967773 average time 0.015310411220034438 iter num 100\n",
            "loss 9.731593132019043 average time 0.06527742115004002 iter num 20\n",
            "loss 11.320734024047852 average time 0.03453520837483666 iter num 40\n",
            "loss 13.369280815124512 average time 0.024255841133223537 iter num 60\n",
            "loss 9.157798767089844 average time 0.019114420837377112 iter num 80\n",
            "loss 8.500516891479492 average time 0.016031259849914933 iter num 100\n",
            "loss 8.30543327331543 average time 0.06520322809992649 iter num 20\n",
            "loss 6.4884514808654785 average time 0.03441672279996055 iter num 40\n",
            "loss 11.91167163848877 average time 0.024208241916676344 iter num 60\n",
            "loss 8.007476806640625 average time 0.019103486562562465 iter num 80\n",
            "loss 9.976608276367188 average time 0.01602832747003049 iter num 100\n",
            "loss 9.362521171569824 average time 0.061382857849912396 iter num 20\n",
            "loss 8.291921615600586 average time 0.032593311574873954 iter num 40\n",
            "loss 5.787227153778076 average time 0.023015883599964582 iter num 60\n",
            "loss 6.528531074523926 average time 0.018240715249976346 iter num 80\n",
            "loss 7.640625953674316 average time 0.01534846665999794 iter num 100\n",
            "loss 9.859294891357422 average time 0.0654211750000286 iter num 20\n",
            "loss 9.465567588806152 average time 0.03457616204996157 iter num 40\n",
            "loss 5.582021713256836 average time 0.024345730983410856 iter num 60\n",
            "loss 9.435501098632812 average time 0.019186409475059917 iter num 80\n",
            "loss 9.805766105651855 average time 0.016073339840040717 iter num 100\n",
            "loss 11.620768547058105 average time 0.06543971434994092 iter num 20\n",
            "loss 11.544134140014648 average time 0.034576358024833095 iter num 40\n",
            "loss 9.125690460205078 average time 0.02429138624990325 iter num 60\n",
            "loss 11.01933765411377 average time 0.01916139911247683 iter num 80\n",
            "loss 7.394047260284424 average time 0.016076376479977627 iter num 100\n",
            "loss 8.151678085327148 average time 0.06566280709985221 iter num 20\n",
            "loss 10.918157577514648 average time 0.03465942669981814 iter num 40\n",
            "loss 9.018473625183105 average time 0.024396659199889353 iter num 60\n",
            "loss 7.053956985473633 average time 0.019206625374954454 iter num 80\n",
            "loss 12.10832405090332 average time 0.016087435049939813 iter num 100\n",
            "loss 6.804804801940918 average time 0.06620558800013895 iter num 20\n",
            "loss 8.625863075256348 average time 0.0349362680500235 iter num 40\n",
            "loss 10.66937255859375 average time 0.02455227709997416 iter num 60\n",
            "loss 6.728306293487549 average time 0.01934079650000058 iter num 80\n",
            "loss 6.39339542388916 average time 0.016203775279991534 iter num 100\n",
            "loss 14.342453956604004 average time 0.06145500169996012 iter num 20\n",
            "loss 6.622134208679199 average time 0.0326119356250274 iter num 40\n",
            "loss 9.9595947265625 average time 0.022964791149964487 iter num 60\n",
            "loss 6.275818824768066 average time 0.018166180837465618 iter num 80\n",
            "loss 12.412691116333008 average time 0.015299587540030189 iter num 100\n",
            "loss 8.990406036376953 average time 0.0659287451999262 iter num 20\n",
            "loss 5.884515762329102 average time 0.03481064444990807 iter num 40\n",
            "loss 8.608169555664062 average time 0.024468072266548308 iter num 60\n",
            "loss 7.114739418029785 average time 0.019266373037385164 iter num 80\n",
            "loss 4.330558776855469 average time 0.016142472919891588 iter num 100\n",
            "loss 7.884206295013428 average time 0.06526973304999047 iter num 20\n",
            "loss 8.681217193603516 average time 0.034536164075007036 iter num 40\n",
            "loss 7.989170551300049 average time 0.024260519700086056 iter num 60\n",
            "loss 8.98750114440918 average time 0.019148551862531348 iter num 80\n",
            "loss 4.713111877441406 average time 0.016114944490072957 iter num 100\n",
            "loss 10.681695938110352 average time 0.06698188325017326 iter num 20\n",
            "loss 10.175918579101562 average time 0.035325459250134375 iter num 40\n",
            "loss 12.693473815917969 average time 0.024796933733432523 iter num 60\n",
            "loss 7.25229549407959 average time 0.01953433475005113 iter num 80\n",
            "loss 2.76425838470459 average time 0.016417402290098835 iter num 100\n",
            "loss 7.076776504516602 average time 0.06562741439993261 iter num 20\n",
            "loss 11.694247245788574 average time 0.034642545300039275 iter num 40\n",
            "loss 12.13554573059082 average time 0.02432714536671483 iter num 60\n",
            "loss 10.094432830810547 average time 0.01919770160002372 iter num 80\n",
            "loss 10.245476722717285 average time 0.01609849333004604 iter num 100\n"
          ],
          "name": "stdout"
        },
        {
          "output_type": "execute_result",
          "data": {
            "text/plain": [
              "State:\n",
              "\titeration: 10000\n",
              "\tepoch: 100\n",
              "\tepoch_length: 100\n",
              "\tmax_epochs: 100\n",
              "\toutput: 10.245476722717285\n",
              "\tbatch: <class 'tuple'>\n",
              "\tmetrics: <class 'dict'>\n",
              "\tdataloader: <class 'cupy_dataset.NumbaOptionDataSet'>\n",
              "\tseed: <class 'NoneType'>\n",
              "\ttimes: <class 'dict'>"
            ]
          },
          "metadata": {
            "tags": []
          },
          "execution_count": 7
        }
      ]
    },
    {
      "cell_type": "markdown",
      "metadata": {
        "id": "vU1EpGuInwjJ"
      },
      "source": [
        "$2365$ seconds The loss is keeping decreasing which means the pricing model can predict the option prices better. It takes about $12ms$ to compute one mini-batch in average, In the following sections, we will try to expore the full potentials of the GPU to accelerate the training."
      ]
    },
    {
      "cell_type": "markdown",
      "metadata": {
        "id": "A8McNtejRNFT"
      },
      "source": [
        "**Save Model**"
      ]
    },
    {
      "cell_type": "code",
      "metadata": {
        "id": "YRtOr1XIPOvF",
        "colab": {
          "base_uri": "https://localhost:8080/"
        },
        "outputId": "a9462ed6-3b8a-470b-ffcb-ecc21a0441f4"
      },
      "source": [
        "from google.colab import drive\n",
        "drive.mount('/content/drive')"
      ],
      "execution_count": null,
      "outputs": [
        {
          "output_type": "stream",
          "text": [
            "Mounted at /content/drive\n"
          ],
          "name": "stdout"
        }
      ]
    },
    {
      "cell_type": "code",
      "metadata": {
        "id": "PGwWEyH-ezn3"
      },
      "source": [
        "import torch"
      ],
      "execution_count": null,
      "outputs": []
    },
    {
      "cell_type": "code",
      "metadata": {
        "id": "ndftly2yPEaM"
      },
      "source": [
        "model_save_name = 'checkpoint11.pth'\n",
        "path = F\"/content/drive/MyDrive/AFP/{model_save_name}\" \n",
        "torch.save(model.state_dict(), path)"
      ],
      "execution_count": null,
      "outputs": []
    },
    {
      "cell_type": "markdown",
      "metadata": {
        "id": "y6DRO9K2RQoJ"
      },
      "source": [
        "**Load Model**"
      ]
    },
    {
      "cell_type": "code",
      "metadata": {
        "id": "HGXZSV_YRT8v",
        "colab": {
          "base_uri": "https://localhost:8080/"
        },
        "outputId": "2365967f-537b-49d2-e46b-5fb9af7b9bc7"
      },
      "source": [
        "from google.colab import drive\n",
        "drive.mount('/content/drive')"
      ],
      "execution_count": 6,
      "outputs": [
        {
          "output_type": "stream",
          "text": [
            "Mounted at /content/drive\n"
          ],
          "name": "stdout"
        }
      ]
    },
    {
      "cell_type": "code",
      "metadata": {
        "id": "3ntY-N5bOqdq",
        "colab": {
          "base_uri": "https://localhost:8080/"
        },
        "outputId": "e182e370-6f51-4b54-fbb0-bf18f1d9ac7b"
      },
      "source": [
        "import torch\n",
        "model_save_name = 'checkpoint15.pth'\n",
        "path = F\"/content/drive/MyDrive/AFP/{model_save_name}\" \n",
        "state_dict = torch.load(path)\n",
        "print(state_dict.keys())"
      ],
      "execution_count": 7,
      "outputs": [
        {
          "output_type": "stream",
          "text": [
            "odict_keys(['norm', 'fc1.weight', 'fc1.bias', 'fc2.weight', 'fc2.bias', 'fc3.weight', 'fc3.bias', 'fc4.weight', 'fc4.bias', 'fc5.weight', 'fc5.bias', 'fc6.weight', 'fc6.bias'])\n"
          ],
          "name": "stdout"
        }
      ]
    },
    {
      "cell_type": "code",
      "metadata": {
        "id": "j0GAGPAgPmgh",
        "colab": {
          "base_uri": "https://localhost:8080/"
        },
        "outputId": "f5b88e5c-7f9c-4274-fdbe-454e83b47372"
      },
      "source": [
        "# need to run 'Writing cupy_dataset.py' and 'Writing model.py' above before this\n",
        "from model import Net\n",
        "model = Net().cuda()\n",
        "\n",
        "model.load_state_dict(state_dict)\n",
        "print(model)"
      ],
      "execution_count": 8,
      "outputs": [
        {
          "output_type": "stream",
          "text": [
            "Net(\n",
            "  (fc1): Linear(in_features=60, out_features=1024, bias=True)\n",
            "  (fc2): Linear(in_features=1024, out_features=1024, bias=True)\n",
            "  (fc3): Linear(in_features=1024, out_features=1024, bias=True)\n",
            "  (fc4): Linear(in_features=1024, out_features=1024, bias=True)\n",
            "  (fc5): Linear(in_features=1024, out_features=1024, bias=True)\n",
            "  (fc6): Linear(in_features=1024, out_features=1, bias=True)\n",
            ")\n"
          ],
          "name": "stdout"
        }
      ]
    },
    {
      "cell_type": "markdown",
      "metadata": {
        "id": "rXT4Bg0wdL7l"
      },
      "source": [
        "**Continue to train model**"
      ]
    },
    {
      "cell_type": "code",
      "metadata": {
        "id": "Zfa9cp6CdG8T",
        "colab": {
          "base_uri": "https://localhost:8080/"
        },
        "outputId": "37ff253a-3e85-4978-ccec-7ddd5dd3a7d2"
      },
      "source": [
        "from ignite.engine import Engine, Events\n",
        "from ignite.handlers import Timer\n",
        "from torch.nn import MSELoss\n",
        "from torch.optim import Adam\n",
        "from ignite.contrib.handlers.param_scheduler import CosineAnnealingScheduler\n",
        "from ignite.handlers import ModelCheckpoint\n",
        "from model import Net\n",
        "from cupy_dataset import NumbaOptionDataSet\n",
        "timer = Timer(average=True)\n",
        "#model = Net().cuda()\n",
        "loss_fn = MSELoss()\n",
        "optimizer = Adam(model.parameters(), lr=1e-3)\n",
        "# dataset = NumbaOptionDataSet(max_len=10000, number_path = 1024, batch=4800)\n",
        "dataset = NumbaOptionDataSet(max_len=500, number_path = 1024, batch=32, stocks=10)\n",
        "\n",
        "def train_update(engine, batch):\n",
        "    model.train()\n",
        "    optimizer.zero_grad()\n",
        "    x = batch[0]\n",
        "    y = batch[1]\n",
        "    y_pred = model(x)\n",
        "    loss = loss_fn(y_pred[:,0], y)\n",
        "    loss.backward()\n",
        "    optimizer.step()\n",
        "    return loss.item()\n",
        "\n",
        "trainer = Engine(train_update)\n",
        "log_interval = 20\n",
        "\n",
        "scheduler = CosineAnnealingScheduler(optimizer, 'lr', 1e-4, 1e-6, len(dataset))\n",
        "trainer.add_event_handler(Events.ITERATION_STARTED, scheduler)\n",
        "timer.attach(trainer,\n",
        "             start=Events.EPOCH_STARTED,\n",
        "             resume=Events.ITERATION_STARTED,\n",
        "             pause=Events.ITERATION_COMPLETED,\n",
        "             step=Events.ITERATION_COMPLETED)    \n",
        "@trainer.on(Events.ITERATION_COMPLETED)\n",
        "def log_training_loss(engine):\n",
        "    iter = (engine.state.iteration - 1) % len(dataset) + 1\n",
        "    if iter % log_interval == 0:\n",
        "        print('loss', engine.state.output, 'average time', timer.value(), 'iter num', iter)\n",
        "        \n",
        "trainer.run(dataset, max_epochs=10)\n",
        "\n",
        "model_save_name = 'checkpoint16.pth'\n",
        "path = F\"/content/drive/MyDrive/AFP/{model_save_name}\" \n",
        "torch.save(model.state_dict(), path)"
      ],
      "execution_count": 9,
      "outputs": [
        {
          "output_type": "stream",
          "text": [
            "loss 4.1348347663879395 average time 0.4026646554999928 iter num 20\n",
            "loss 1.435728907585144 average time 0.20279997324999927 iter num 40\n",
            "loss 1.6369260549545288 average time 0.1361864799999997 iter num 60\n",
            "loss 2.350376605987549 average time 0.10283448772500492 iter num 80\n",
            "loss 1.1851980686187744 average time 0.08285211490000051 iter num 100\n",
            "loss 4.4049482345581055 average time 0.06951202320833355 iter num 120\n",
            "loss 2.919016122817993 average time 0.059982411249999194 iter num 140\n",
            "loss 2.2285635471343994 average time 0.052847325499999445 iter num 160\n",
            "loss 2.0978405475616455 average time 0.047288375944442705 iter num 180\n",
            "loss 2.2506637573242188 average time 0.042840321884998506 iter num 200\n",
            "loss 2.5443248748779297 average time 0.03919653059090768 iter num 220\n",
            "loss 1.4530715942382812 average time 0.03616922999166595 iter num 240\n",
            "loss 1.1303216218948364 average time 0.03360102411923287 iter num 260\n",
            "loss 1.5339158773422241 average time 0.03140672964642956 iter num 280\n",
            "loss 1.8403620719909668 average time 0.02950605338666681 iter num 300\n",
            "loss 0.8912838697433472 average time 0.02783624019062394 iter num 320\n",
            "loss 1.8392443656921387 average time 0.02636226997646732 iter num 340\n",
            "loss 1.5864907503128052 average time 0.025064649652773913 iter num 360\n",
            "loss 1.3949958086013794 average time 0.02389397648157653 iter num 380\n",
            "loss 1.1526858806610107 average time 0.022848056217497685 iter num 400\n",
            "loss 1.39205801486969 average time 0.021893808878567848 iter num 420\n",
            "loss 0.9833438396453857 average time 0.021026262354542073 iter num 440\n",
            "loss 1.8861994743347168 average time 0.020233142273909883 iter num 460\n",
            "loss 1.429398536682129 average time 0.019509572302080138 iter num 480\n",
            "loss 1.542075276374817 average time 0.018841939155997578 iter num 500\n",
            "loss 2.6171791553497314 average time 0.13473259769997412 iter num 20\n",
            "loss 5.0379133224487305 average time 0.06877736639998488 iter num 40\n",
            "loss 3.573296070098877 average time 0.046780068266658266 iter num 60\n",
            "loss 3.74819016456604 average time 0.035792163724988765 iter num 80\n",
            "loss 1.9761223793029785 average time 0.02918416542998557 iter num 100\n",
            "loss 2.4671943187713623 average time 0.024780045558321716 iter num 120\n",
            "loss 2.01472806930542 average time 0.02163309253570885 iter num 140\n",
            "loss 4.096085548400879 average time 0.019285613962496485 iter num 160\n",
            "loss 2.5188522338867188 average time 0.017449080761105053 iter num 180\n",
            "loss 1.3730669021606445 average time 0.015976801089992707 iter num 200\n",
            "loss 0.9023253917694092 average time 0.014778511359084364 iter num 220\n",
            "loss 1.9938929080963135 average time 0.013780155004154911 iter num 240\n",
            "loss 3.1010892391204834 average time 0.012933032530760067 iter num 260\n",
            "loss 1.5623019933700562 average time 0.012209674082134013 iter num 280\n",
            "loss 1.652113914489746 average time 0.011597297809993658 iter num 300\n",
            "loss 1.2267827987670898 average time 0.01104769292811696 iter num 320\n",
            "loss 1.8242731094360352 average time 0.01055916500293292 iter num 340\n",
            "loss 1.83187735080719 average time 0.010124344047213501 iter num 360\n",
            "loss 1.744444727897644 average time 0.009737391907886878 iter num 380\n",
            "loss 1.4290627241134644 average time 0.009390104574992507 iter num 400\n",
            "loss 1.310215950012207 average time 0.009073985647612083 iter num 420\n",
            "loss 1.3432905673980713 average time 0.008786046818174886 iter num 440\n",
            "loss 1.7412497997283936 average time 0.00852620773042645 iter num 460\n",
            "loss 1.7375115156173706 average time 0.008286447339573991 iter num 480\n",
            "loss 2.014810085296631 average time 0.008067994131989054 iter num 500\n",
            "loss 2.217050790786743 average time 0.13643138800000543 iter num 20\n",
            "loss 1.9404598474502563 average time 0.06958229207494923 iter num 40\n",
            "loss 1.5900108814239502 average time 0.04731375453332021 iter num 60\n",
            "loss 2.6613450050354004 average time 0.03618358979998106 iter num 80\n",
            "loss 3.0403847694396973 average time 0.029493119639982978 iter num 100\n",
            "loss 2.082414388656616 average time 0.025041104283313114 iter num 120\n",
            "loss 2.318929672241211 average time 0.021879864807130747 iter num 140\n",
            "loss 2.3080852031707764 average time 0.019504712656245714 iter num 160\n",
            "loss 2.239713191986084 average time 0.017657548483324112 iter num 180\n",
            "loss 1.402402639389038 average time 0.01617246790998479 iter num 200\n",
            "loss 1.6547420024871826 average time 0.014959497413629338 iter num 220\n",
            "loss 2.37497878074646 average time 0.013946923595826395 iter num 240\n",
            "loss 2.4272308349609375 average time 0.013086345165379498 iter num 260\n",
            "loss 1.4929896593093872 average time 0.012352427607139102 iter num 280\n",
            "loss 1.3609775304794312 average time 0.011714999643328762 iter num 300\n",
            "loss 1.8921918869018555 average time 0.011159114987499663 iter num 320\n",
            "loss 1.2456715106964111 average time 0.01066885318235055 iter num 340\n",
            "loss 1.9872608184814453 average time 0.010234592291663427 iter num 360\n",
            "loss 2.1866185665130615 average time 0.009843683857891512 iter num 380\n",
            "loss 1.2731598615646362 average time 0.009492428629997676 iter num 400\n",
            "loss 1.2744181156158447 average time 0.009184095476187048 iter num 420\n",
            "loss 1.935642957687378 average time 0.00889504646136071 iter num 440\n",
            "loss 1.375654697418213 average time 0.00863075214347883 iter num 460\n",
            "loss 1.0927278995513916 average time 0.008390563391663856 iter num 480\n",
            "loss 1.185715913772583 average time 0.008168721357999858 iter num 500\n",
            "loss 1.782835602760315 average time 0.1385475793500973 iter num 20\n",
            "loss 2.686070203781128 average time 0.07071299690003344 iter num 40\n",
            "loss 1.827000379562378 average time 0.04805953151670413 iter num 60\n",
            "loss 2.035534143447876 average time 0.03672883316251045 iter num 80\n",
            "loss 2.6402623653411865 average time 0.02994233640998573 iter num 100\n",
            "loss 1.4058783054351807 average time 0.025418519724962608 iter num 120\n",
            "loss 2.541088342666626 average time 0.022206755985696092 iter num 140\n",
            "loss 2.408597230911255 average time 0.01978233806873959 iter num 160\n",
            "loss 1.2946866750717163 average time 0.01789425793332763 iter num 180\n",
            "loss 1.4200198650360107 average time 0.016384341259986286 iter num 200\n",
            "loss 1.2572734355926514 average time 0.015150836804526658 iter num 220\n",
            "loss 2.4106194972991943 average time 0.014122278920823798 iter num 240\n",
            "loss 1.2940914630889893 average time 0.01325197221538194 iter num 260\n",
            "loss 2.8298702239990234 average time 0.012504172439285607 iter num 280\n",
            "loss 1.4634373188018799 average time 0.011859087276676897 iter num 300\n",
            "loss 1.1866953372955322 average time 0.011292508806261026 iter num 320\n",
            "loss 1.5302613973617554 average time 0.010790701114718318 iter num 340\n",
            "loss 1.4293239116668701 average time 0.010345212575008292 iter num 360\n",
            "loss 1.6572473049163818 average time 0.00994813099210947 iter num 380\n",
            "loss 1.4237842559814453 average time 0.009590041855001346 iter num 400\n",
            "loss 1.4426310062408447 average time 0.009267261902375269 iter num 420\n",
            "loss 1.1815544366836548 average time 0.008971551449989916 iter num 440\n",
            "loss 0.9756995439529419 average time 0.008703541676075711 iter num 460\n",
            "loss 1.4389533996582031 average time 0.00845672567499302 iter num 480\n",
            "loss 1.2547521591186523 average time 0.008234812633996625 iter num 500\n",
            "loss 2.6688756942749023 average time 0.13734594340007789 iter num 20\n",
            "loss 3.493807792663574 average time 0.07007828922498902 iter num 40\n",
            "loss 2.750370740890503 average time 0.04768862876670331 iter num 60\n",
            "loss 2.606562376022339 average time 0.03649733785000535 iter num 80\n",
            "loss 3.7760636806488037 average time 0.029756898960022225 iter num 100\n",
            "loss 2.5969810485839844 average time 0.025274017683356458 iter num 120\n",
            "loss 1.9612221717834473 average time 0.02207150012144926 iter num 140\n",
            "loss 2.0047852993011475 average time 0.019668183168755606 iter num 160\n",
            "loss 2.3900811672210693 average time 0.01779075159443993 iter num 180\n",
            "loss 1.639046549797058 average time 0.016293234969994047 iter num 200\n",
            "loss 1.74480140209198 average time 0.015072612631828715 iter num 220\n",
            "loss 1.9941004514694214 average time 0.014050978579174018 iter num 240\n",
            "loss 2.0512542724609375 average time 0.01320055923846177 iter num 260\n",
            "loss 1.120386004447937 average time 0.012455110142851871 iter num 280\n",
            "loss 1.9690275192260742 average time 0.01180744930333276 iter num 300\n",
            "loss 1.4793609380722046 average time 0.011246311121874441 iter num 320\n",
            "loss 0.8302148580551147 average time 0.010748423120586428 iter num 340\n",
            "loss 1.920549750328064 average time 0.010307031472224379 iter num 360\n",
            "loss 1.0172163248062134 average time 0.009911456276318188 iter num 380\n",
            "loss 1.5388696193695068 average time 0.009565356407501896 iter num 400\n",
            "loss 1.2610430717468262 average time 0.009243911059524006 iter num 420\n",
            "loss 1.6628592014312744 average time 0.008952256972729215 iter num 440\n",
            "loss 1.769319772720337 average time 0.008685524819568103 iter num 460\n",
            "loss 1.378555178642273 average time 0.008442426731251847 iter num 480\n",
            "loss 1.2477748394012451 average time 0.008217179380002562 iter num 500\n",
            "loss 1.7625694274902344 average time 0.13972392794994448 iter num 20\n",
            "loss 2.5044779777526855 average time 0.07125992549988495 iter num 40\n",
            "loss 1.0790010690689087 average time 0.048437201166567925 iter num 60\n",
            "loss 1.2116862535476685 average time 0.03702448168741057 iter num 80\n",
            "loss 1.7228777408599854 average time 0.030170214289919384 iter num 100\n",
            "loss 1.8410840034484863 average time 0.025632563441581623 iter num 120\n",
            "loss 2.005075454711914 average time 0.022362900285627672 iter num 140\n",
            "loss 1.3484303951263428 average time 0.019930047993699417 iter num 160\n",
            "loss 1.0951951742172241 average time 0.01803217612216738 iter num 180\n",
            "loss 1.5638288259506226 average time 0.016510285324957293 iter num 200\n",
            "loss 1.68815016746521 average time 0.015265726718156326 iter num 220\n",
            "loss 1.309101939201355 average time 0.014226065412477359 iter num 240\n",
            "loss 1.3539998531341553 average time 0.013347869769208605 iter num 260\n",
            "loss 2.078742265701294 average time 0.012596586503556344 iter num 280\n",
            "loss 1.5748987197875977 average time 0.011942453539986672 iter num 300\n",
            "loss 0.857445478439331 average time 0.011381902587493187 iter num 320\n",
            "loss 1.7019270658493042 average time 0.010879566385282861 iter num 340\n",
            "loss 1.666710615158081 average time 0.010431766302768765 iter num 360\n",
            "loss 0.9537063837051392 average time 0.010033426094722879 iter num 380\n",
            "loss 2.5316572189331055 average time 0.00967540416248994 iter num 400\n",
            "loss 1.3465285301208496 average time 0.009360340861890325 iter num 420\n",
            "loss 1.1912078857421875 average time 0.009061787870442376 iter num 440\n",
            "loss 1.2987375259399414 average time 0.008790079239117957 iter num 460\n",
            "loss 1.2852931022644043 average time 0.00854856056665388 iter num 480\n",
            "loss 1.3678172826766968 average time 0.008318703809989529 iter num 500\n",
            "loss 1.3544769287109375 average time 0.13874824799995622 iter num 20\n",
            "loss 2.140214204788208 average time 0.07075448855002833 iter num 40\n",
            "loss 2.103219747543335 average time 0.0481287226166387 iter num 60\n",
            "loss 2.352846622467041 average time 0.03679533606255063 iter num 80\n",
            "loss 2.6929869651794434 average time 0.03002291562004757 iter num 100\n",
            "loss 2.3794474601745605 average time 0.025507475700048115 iter num 120\n",
            "loss 1.4641835689544678 average time 0.022279629450063763 iter num 140\n",
            "loss 2.312368869781494 average time 0.019837007331329915 iter num 160\n",
            "loss 1.949094295501709 average time 0.017957660861197332 iter num 180\n",
            "loss 0.8246493339538574 average time 0.016446074950072217 iter num 200\n",
            "loss 1.8972185850143433 average time 0.015209881318233701 iter num 220\n",
            "loss 1.2607719898223877 average time 0.014177283204230662 iter num 240\n",
            "loss 1.8396708965301514 average time 0.013298569515448505 iter num 260\n",
            "loss 1.807565450668335 average time 0.012551416325069502 iter num 280\n",
            "loss 2.061032295227051 average time 0.011901300620077866 iter num 300\n",
            "loss 0.8137688636779785 average time 0.011333214953202742 iter num 320\n",
            "loss 1.1151973009109497 average time 0.010828999873608743 iter num 340\n",
            "loss 1.135383129119873 average time 0.010385794786179759 iter num 360\n",
            "loss 1.0386931896209717 average time 0.009994590755324776 iter num 380\n",
            "loss 0.7457988262176514 average time 0.009638490040051692 iter num 400\n",
            "loss 1.7411651611328125 average time 0.009313990847671708 iter num 420\n",
            "loss 1.208324670791626 average time 0.009016011497785505 iter num 440\n",
            "loss 1.149834156036377 average time 0.00874842324353623 iter num 460\n",
            "loss 1.706183671951294 average time 0.008505931522968998 iter num 480\n",
            "loss 0.9697414040565491 average time 0.008283718480059179 iter num 500\n",
            "loss 2.561999797821045 average time 0.13419882340012917 iter num 20\n",
            "loss 1.631828784942627 average time 0.0685767392750222 iter num 40\n",
            "loss 3.046311378479004 average time 0.046707449233387405 iter num 60\n",
            "loss 1.0422905683517456 average time 0.03579374183752861 iter num 80\n",
            "loss 2.558173179626465 average time 0.029223724589992343 iter num 100\n",
            "loss 1.39993417263031 average time 0.02482023044996519 iter num 120\n",
            "loss 2.794647216796875 average time 0.021676425699973023 iter num 140\n",
            "loss 2.224217414855957 average time 0.01931332763123237 iter num 160\n",
            "loss 1.3810598850250244 average time 0.01747559450000659 iter num 180\n",
            "loss 0.9665240049362183 average time 0.016021811914988575 iter num 200\n",
            "loss 2.4399240016937256 average time 0.014821848304530828 iter num 220\n",
            "loss 2.1420726776123047 average time 0.013830235687487402 iter num 240\n",
            "loss 2.4086008071899414 average time 0.012980900703832258 iter num 260\n",
            "loss 1.5208680629730225 average time 0.01225485784285151 iter num 280\n",
            "loss 1.2534500360488892 average time 0.01162350113665525 iter num 300\n",
            "loss 1.5298364162445068 average time 0.01109522927499711 iter num 320\n",
            "loss 0.9102526903152466 average time 0.0106060888499943 iter num 340\n",
            "loss 2.2576496601104736 average time 0.010188711336099408 iter num 360\n",
            "loss 1.5304603576660156 average time 0.009799008371058 iter num 380\n",
            "loss 0.9977225661277771 average time 0.009449175274990012 iter num 400\n",
            "loss 1.052779197692871 average time 0.009130410076180678 iter num 420\n",
            "loss 1.0479716062545776 average time 0.008846099668186402 iter num 440\n",
            "loss 1.1813035011291504 average time 0.008584935065229492 iter num 460\n",
            "loss 1.2726352214813232 average time 0.008356225850013744 iter num 480\n",
            "loss 1.1375484466552734 average time 0.008135150460009755 iter num 500\n",
            "loss 1.5045477151870728 average time 0.1351753524500964 iter num 20\n",
            "loss 1.9812873601913452 average time 0.06899921980002546 iter num 40\n",
            "loss 2.231734037399292 average time 0.04693991233337632 iter num 60\n",
            "loss 1.6946463584899902 average time 0.035926987975017255 iter num 80\n",
            "loss 2.9368677139282227 average time 0.029367453920003755 iter num 100\n",
            "loss 2.109142780303955 average time 0.024937244249955862 iter num 120\n",
            "loss 2.8745028972625732 average time 0.02177508951429315 iter num 140\n",
            "loss 1.6935858726501465 average time 0.01942191227500416 iter num 160\n",
            "loss 1.6857006549835205 average time 0.01757474692220866 iter num 180\n",
            "loss 2.2346384525299072 average time 0.01609424751998631 iter num 200\n",
            "loss 1.7209361791610718 average time 0.014895944213615373 iter num 220\n",
            "loss 1.8283419609069824 average time 0.01388334693330459 iter num 240\n",
            "loss 1.2395999431610107 average time 0.013028794184566112 iter num 260\n",
            "loss 2.1323790550231934 average time 0.012294488217808716 iter num 280\n",
            "loss 0.726410984992981 average time 0.011661311576638885 iter num 300\n",
            "loss 1.2842605113983154 average time 0.011107134662483985 iter num 320\n",
            "loss 1.7518888711929321 average time 0.010626061520564263 iter num 340\n",
            "loss 1.1166852712631226 average time 0.010190052627750548 iter num 360\n",
            "loss 1.5242972373962402 average time 0.009806325802607095 iter num 380\n",
            "loss 2.86446213722229 average time 0.00945459555747675 iter num 400\n",
            "loss 0.6555848717689514 average time 0.009138734914267843 iter num 420\n",
            "loss 2.2122302055358887 average time 0.008849265856803288 iter num 440\n",
            "loss 0.9955265522003174 average time 0.008585733054330733 iter num 460\n",
            "loss 0.9657115340232849 average time 0.008343268154158067 iter num 480\n",
            "loss 1.2222968339920044 average time 0.008124226625994197 iter num 500\n",
            "loss 1.4928970336914062 average time 0.13419969279975702 iter num 20\n",
            "loss 1.3409026861190796 average time 0.06855043967475467 iter num 40\n",
            "loss 1.2335379123687744 average time 0.046648877299897626 iter num 60\n",
            "loss 3.5113601684570312 average time 0.03568369839988463 iter num 80\n",
            "loss 2.209824562072754 average time 0.02911159023991786 iter num 100\n",
            "loss 2.884492874145508 average time 0.024720134374941458 iter num 120\n",
            "loss 2.3962621688842773 average time 0.021586388664244234 iter num 140\n",
            "loss 3.7348084449768066 average time 0.019250559106217223 iter num 160\n",
            "loss 2.2301626205444336 average time 0.01742463286667165 iter num 180\n",
            "loss 1.2251415252685547 average time 0.015963659429971813 iter num 200\n",
            "loss 1.9282758235931396 average time 0.014767641195439038 iter num 220\n",
            "loss 1.1855545043945312 average time 0.01377570549164678 iter num 240\n",
            "loss 1.2325176000595093 average time 0.012931473019202363 iter num 260\n",
            "loss 1.1277191638946533 average time 0.01222556377140011 iter num 280\n",
            "loss 1.6318273544311523 average time 0.011602709693306679 iter num 300\n",
            "loss 2.0442280769348145 average time 0.011054986353116192 iter num 320\n",
            "loss 0.9560939073562622 average time 0.01056665457351889 iter num 340\n",
            "loss 1.36553955078125 average time 0.010139814449995456 iter num 360\n",
            "loss 1.152315378189087 average time 0.009764463468428929 iter num 380\n",
            "loss 0.9060626029968262 average time 0.009414802465021238 iter num 400\n",
            "loss 1.4379467964172363 average time 0.00909818252621335 iter num 420\n",
            "loss 1.1323679685592651 average time 0.008814231811373413 iter num 440\n",
            "loss 0.981241762638092 average time 0.00855781044131262 iter num 460\n",
            "loss 1.2122691869735718 average time 0.008322392331266807 iter num 480\n",
            "loss 1.407252311706543 average time 0.008100726024025789 iter num 500\n"
          ],
          "name": "stdout"
        }
      ]
    },
    {
      "cell_type": "code",
      "metadata": {
        "id": "I5xMwOWotogJ"
      },
      "source": [
        "## 3hr47m\n",
        "## 3hr 47m\n",
        "## 3hr 49m\n",
        "## 3hr 42m"
      ],
      "execution_count": null,
      "outputs": []
    },
    {
      "cell_type": "markdown",
      "metadata": {
        "id": "ehmhDw8BUtLi"
      },
      "source": [
        "### Inference and Greeks"
      ]
    },
    {
      "cell_type": "code",
      "metadata": {
        "id": "oMg0lT776oJr"
      },
      "source": [
        ""
      ],
      "execution_count": null,
      "outputs": []
    },
    {
      "cell_type": "markdown",
      "metadata": {
        "id": "Uiro43mOU0Ro"
      },
      "source": [
        "We can load the model parameters and use it to do inference"
      ]
    },
    {
      "cell_type": "code",
      "metadata": {
        "id": "svlu6tGTRx1F",
        "colab": {
          "base_uri": "https://localhost:8080/"
        },
        "outputId": "aab2e758-3f97-4129-f749-702d2293f56d"
      },
      "source": [
        "import torch\n",
        "inputs = torch.tensor([[110.0, 0.0, 110.0, 0.35, 0.1, 0.05]*10]).cuda()  ## remember to change this 5!\n",
        "model(inputs.float())"
      ],
      "execution_count": 10,
      "outputs": [
        {
          "output_type": "execute_result",
          "data": {
            "text/plain": [
              "tensor([[10.7239]], device='cuda:0', grad_fn=<AddmmBackward>)"
            ]
          },
          "metadata": {
            "tags": []
          },
          "execution_count": 10
        }
      ]
    },
    {
      "cell_type": "markdown",
      "metadata": {
        "id": "M1Iy-9pWVRDO"
      },
      "source": [
        "One of the benefits of building a deep learning model is that the [Greeks](<https://en.wikipedia.org/wiki/Greeks_(finance)#First-order_Greeks>) can be easily computed. \n",
        "We just need to take advantage of the auto-grad feature in Pytorch. We can use `grad` function to compute the first order differentiation for parameters 'K, B, S0, sigma, mu, r'"
      ]
    },
    {
      "cell_type": "code",
      "metadata": {
        "id": "ytBZaYHKSnDu",
        "colab": {
          "base_uri": "https://localhost:8080/"
        },
        "outputId": "c1782b0b-a16f-40e8-9977-76bc2e5d5784"
      },
      "source": [
        "inputs = torch.tensor([[110.0, 0.0, 110.0, 0.35, 0.1, 0.05]*10]).cuda() # remember to change this 6!\n",
        "inputs.requires_grad = True\n",
        "x = model(inputs.float())\n",
        "x.backward()\n",
        "first_order_gradient = inputs.grad\n",
        "first_order_gradient"
      ],
      "execution_count": 11,
      "outputs": [
        {
          "output_type": "execute_result",
          "data": {
            "text/plain": [
              "tensor([[ -0.0359, -27.4908,   0.0506,   1.4333,   1.6312,   6.9031,  -0.0575,\n",
              "           2.4944,   0.0534,   1.2431,   2.4081,   9.2225,  -0.0462,  -1.2656,\n",
              "           0.0476,   0.5115,   2.2357,  -1.5948,  -0.0324,   3.3159,   0.0521,\n",
              "           1.7701,   2.1807,  -7.9342,  -0.0322, -13.1789,   0.0507,   0.7038,\n",
              "           2.5402,  -3.9720,  -0.0426,  19.7333,   0.0510,   0.9745,   1.6752,\n",
              "          -6.5318,  -0.0338,   3.3756,   0.0518,   0.9676,   4.6513,   0.2500,\n",
              "          -0.0470,  -0.0701,   0.0525,   0.2207,   2.0688,   4.5880,  -0.0536,\n",
              "         -17.2467,   0.0502,   1.0526,   2.6291,  -9.7484,  -0.0388,  22.3192,\n",
              "           0.0476,   0.7967,   2.3806,  -9.0270]], device='cuda:0')"
            ]
          },
          "metadata": {
            "tags": []
          },
          "execution_count": 11
        }
      ]
    },
    {
      "cell_type": "markdown",
      "metadata": {
        "id": "8KeijaDDVZGd"
      },
      "source": [
        "Here we are going to plot the Delta graph:-"
      ]
    },
    {
      "cell_type": "markdown",
      "metadata": {
        "id": "tzFU0vPX94Tn"
      },
      "source": [
        "#Delta"
      ]
    },
    {
      "cell_type": "code",
      "metadata": {
        "id": "USh3qaADSYQp",
        "colab": {
          "base_uri": "https://localhost:8080/",
          "height": 296
        },
        "outputId": "f0f3188d-ff66-4bd5-c8ac-35ccc28ab583"
      },
      "source": [
        "##Using gradient, Change only 1 S0 at a time\n",
        "%matplotlib inline\n",
        "from torch.autograd import grad\n",
        "import pylab\n",
        "import numpy as np\n",
        "def compute_delta(S):\n",
        "    inputs = torch.tensor([[110.0, 0.0, S, 0.35, 0.1, 0.05] + ([110.0, 0.0, 110.0, 0.35, 0.1, 0.05]*9)]).cuda()  # remember to change this 7!\n",
        "    inputs.requires_grad = True\n",
        "    x = model(inputs.float())\n",
        "    #x = model(inputs)\n",
        "    x.backward()\n",
        "    first_order_gradient = inputs.grad\n",
        "    return first_order_gradient[0][2]\n",
        "prices = np.arange(10, 200, 0.1)\n",
        "deltas = []\n",
        "for p in prices:\n",
        "    deltas.append(compute_delta(p).item())\n",
        "fig = pylab.plot(prices, deltas)\n",
        "pylab.xlabel('prices')\n",
        "pylab.ylabel('Delta')\n",
        "fig"
      ],
      "execution_count": 12,
      "outputs": [
        {
          "output_type": "execute_result",
          "data": {
            "text/plain": [
              "[<matplotlib.lines.Line2D at 0x7fa061b2b410>]"
            ]
          },
          "metadata": {
            "tags": []
          },
          "execution_count": 12
        },
        {
          "output_type": "display_data",
          "data": {
            "image/png": "[encoded data removed]",
            "text/plain": [
              "<Figure size 432x288 with 1 Axes>"
            ]
          },
          "metadata": {
            "tags": [],
            "needs_background": "light"
          }
        }
      ]
    },
    {
      "cell_type": "code",
      "metadata": {
        "colab": {
          "base_uri": "https://localhost:8080/",
          "height": 296
        },
        "id": "VGk5Hw64fMdh",
        "outputId": "d5c796f4-eb3a-453e-a858-043b89219cc9"
      },
      "source": [
        "## Using Finite Difference, Change only 1 S0 at a time\n",
        "%matplotlib inline\n",
        "import numpy as np\n",
        "def compute_delta(S):\n",
        "    epsilon = 0.01\n",
        "    inputs1 = torch.tensor([[110.0, 0.0, S, 0.35, 0.1, 0.05] + ([110.0, 0.0, 110.0, 0.35, 0.1, 0.05]*9)]).cuda()\n",
        "    inputs2 = torch.tensor([[110.0, 0.0, S + epsilon, 0.35, 0.1, 0.05] + ([110.0, 0.0, 110.0, 0.35, 0.1, 0.05]*9)]).cuda()\n",
        "    delta = (model(inputs2.float()) - model(inputs1.float()))/epsilon\n",
        "    return delta\n",
        "prices = np.arange(10, 200, 0.1)\n",
        "deltas = []\n",
        "for p in prices:\n",
        "    deltas.append(compute_delta(p).item())\n",
        "fig = pylab.plot(prices, deltas)\n",
        "pylab.xlabel('prices')\n",
        "pylab.ylabel('Delta')\n",
        "fig"
      ],
      "execution_count": 13,
      "outputs": [
        {
          "output_type": "execute_result",
          "data": {
            "text/plain": [
              "[<matplotlib.lines.Line2D at 0x7fa01e17c290>]"
            ]
          },
          "metadata": {
            "tags": []
          },
          "execution_count": 13
        },
        {
          "output_type": "display_data",
          "data": {
            "image/png": "[encoded data removed]",
            "text/plain": [
              "<Figure size 432x288 with 1 Axes>"
            ]
          },
          "metadata": {
            "tags": [],
            "needs_background": "light"
          }
        }
      ]
    },
    {
      "cell_type": "code",
      "metadata": {
        "colab": {
          "base_uri": "https://localhost:8080/",
          "height": 296
        },
        "id": "4O1I8COnUxnz",
        "outputId": "2900950d-366c-4125-e2b9-23e40c0707b5"
      },
      "source": [
        "##Using Finite Difference, Change 10 S0 at a time\n",
        "%matplotlib inline\n",
        "import numpy as np\n",
        "def compute_delta(S):\n",
        "    epsilon = 0.01\n",
        "    inputs1 = torch.tensor([[110.0, 0.0, S, 0.35, 0.1, 0.05]*10]).cuda()\n",
        "    inputs2 = torch.tensor([[110.0, 0.0, S + epsilon, 0.35, 0.1, 0.05]*10]).cuda()\n",
        "    delta = (model(inputs2.float()) - model(inputs1.float()))/epsilon\n",
        "    return delta\n",
        "prices = np.arange(10, 200, 0.1)\n",
        "deltas = []\n",
        "for p in prices:\n",
        "    deltas.append(compute_delta(p).item())\n",
        "fig = pylab.plot(prices, deltas)\n",
        "pylab.xlabel('prices')\n",
        "pylab.ylabel('Delta')\n",
        "fig"
      ],
      "execution_count": 15,
      "outputs": [
        {
          "output_type": "execute_result",
          "data": {
            "text/plain": [
              "[<matplotlib.lines.Line2D at 0x7fa01e060a50>]"
            ]
          },
          "metadata": {
            "tags": []
          },
          "execution_count": 15
        },
        {
          "output_type": "display_data",
          "data": {
            "image/png": "[encoded data removed]",
            "text/plain": [
              "<Figure size 432x288 with 1 Axes>"
            ]
          },
          "metadata": {
            "tags": [],
            "needs_background": "light"
          }
        }
      ]
    },
    {
      "cell_type": "markdown",
      "metadata": {
        "id": "oLO_5nEGVcEc"
      },
      "source": [
        "Calculating the second order derivative is easy in PyTorch too. We just need to apply the `grad` function twice. Use this mechanism, we can calculate the second order derivatives $\\frac{\\partial^2 P}{\\partial K \\partial S_0}$, $\\frac{\\partial^2 P}{\\partial B \\partial S_0}$, $\\frac{\\partial^2 P}{\\partial S_0^2}$, $\\frac{\\partial^2 P}{\\partial \\sigma \\partial S_0}$, $\\frac{\\partial^2 P}{\\partial \\mu \\partial S_0}$, $\\frac{\\partial^2 P}{\\partial r \\partial S_0}$ in the following example."
      ]
    },
    {
      "cell_type": "markdown",
      "metadata": {
        "id": "u91riA2J-Tpz"
      },
      "source": [
        "# Gamma"
      ]
    },
    {
      "cell_type": "markdown",
      "metadata": {
        "id": "Q7otx6iy9-Fk"
      },
      "source": [
        ""
      ]
    },
    {
      "cell_type": "code",
      "metadata": {
        "id": "nGzj7A3sThZK",
        "colab": {
          "base_uri": "https://localhost:8080/"
        },
        "outputId": "09cf9d61-ad0b-42e3-9b5c-23943d6bf852"
      },
      "source": [
        "import torch\n",
        "from torch import Tensor\n",
        "from torch.autograd import Variable\n",
        "from torch.autograd import grad\n",
        "from torch import nn\n",
        "\n",
        "inputs = torch.tensor([[110.0, 0.0, 110.0, 0.35, 0.1, 0.05]*10]).cuda()\n",
        "inputs.requires_grad = True\n",
        "x = model(inputs)\n",
        "\n",
        "# instead of using loss.backward(), use torch.autograd.grad() to compute gradients\n",
        "# https://pytorch.org/docs/stable/autograd.html#torch.autograd.grad\n",
        "loss_grads = grad(x, inputs, create_graph=True)\n",
        "drv = grad(loss_grads[0][0][2], inputs)\n",
        "drv"
      ],
      "execution_count": 16,
      "outputs": [
        {
          "output_type": "execute_result",
          "data": {
            "text/plain": [
              "(tensor([[-1.6961e-04, -1.3031e-01,  1.3092e-03,  7.7830e-03,  1.0169e-01,\n",
              "           4.2482e-02, -1.4307e-04, -7.6294e-02,  4.0306e-05, -4.4477e-03,\n",
              "           4.5833e-03,  2.8588e-02, -1.1784e-04, -1.2514e-02,  7.1528e-05,\n",
              "          -1.1885e-03,  1.7626e-03,  5.6411e-03, -9.7218e-05,  3.4376e-02,\n",
              "           6.5678e-05, -8.9826e-04,  4.8157e-03, -1.4418e-02, -8.2261e-05,\n",
              "          -1.5146e-01,  2.6686e-05, -3.7225e-03, -3.7418e-03,  3.7795e-02,\n",
              "          -1.8930e-04,  1.7673e-01,  2.8169e-05,  2.1283e-03, -5.3568e-03,\n",
              "          -3.4843e-02, -1.2261e-04,  8.5315e-04,  3.9124e-05,  2.9197e-03,\n",
              "           1.1010e-02,  3.9710e-04, -1.6080e-04,  7.4378e-02,  3.4125e-05,\n",
              "          -2.9776e-03,  4.8121e-03, -3.3736e-02, -1.6368e-04,  3.6401e-04,\n",
              "           7.1493e-05, -2.0259e-03,  7.9119e-03, -3.0767e-02, -1.4566e-04,\n",
              "           3.5223e-02,  5.5643e-05, -2.4363e-03,  4.5123e-03, -9.9075e-02]],\n",
              "        device='cuda:0'),)"
            ]
          },
          "metadata": {
            "tags": []
          },
          "execution_count": 16
        }
      ]
    },
    {
      "cell_type": "markdown",
      "metadata": {
        "id": "WJbZYtvhVmSo"
      },
      "source": [
        "Gamma is the second order differenation of `S`. We can plot the the Gamma curve as a function of the stock price"
      ]
    },
    {
      "cell_type": "code",
      "metadata": {
        "id": "3JpQa3EJToA0",
        "colab": {
          "base_uri": "https://localhost:8080/",
          "height": 296
        },
        "outputId": "28b2d969-f125-4d2f-bcef-96834e2b406d"
      },
      "source": [
        "import pylab\n",
        "import numpy as np\n",
        "def compute_gamma(S):\n",
        "    inputs = torch.tensor([[110.0, 0.0, S, 0.35, 0.1, 0.05] + ([110.0, 0.0, 110.0, 0.35, 0.1, 0.05]*9)]).cuda()\n",
        "    inputs.requires_grad = True\n",
        "    x = model(inputs.float())\n",
        "    #x = model(inputs)\n",
        "    loss_grads = grad(x, inputs, create_graph=True)\n",
        "    drv = grad(loss_grads[0][0][2], inputs)\n",
        "    return drv[0][0][2]\n",
        "\n",
        "prices = np.arange(10, 200, 0.1)\n",
        "gammas = []\n",
        "for p in prices:\n",
        "    gammas.append(compute_gamma(p).item())\n",
        "fig2 = pylab.plot(prices, gammas)\n",
        "pylab.xlabel('prices')\n",
        "pylab.ylabel('Gamma')\n",
        "fig2"
      ],
      "execution_count": 17,
      "outputs": [
        {
          "output_type": "execute_result",
          "data": {
            "text/plain": [
              "[<matplotlib.lines.Line2D at 0x7fa01dff0bd0>]"
            ]
          },
          "metadata": {
            "tags": []
          },
          "execution_count": 17
        },
        {
          "output_type": "display_data",
          "data": {
            "image/png": "[encoded data removed]",
            "text/plain": [
              "<Figure size 432x288 with 1 Axes>"
            ]
          },
          "metadata": {
            "tags": [],
            "needs_background": "light"
          }
        }
      ]
    },
    {
      "cell_type": "code",
      "metadata": {
        "colab": {
          "base_uri": "https://localhost:8080/",
          "height": 296
        },
        "id": "aOsXgOwWZ_ru",
        "outputId": "e3e3333d-6558-499f-e077-c31702b73116"
      },
      "source": [
        "%matplotlib inline\n",
        "import numpy as np\n",
        "def compute_gamma(S):\n",
        "    epsilon = 0.5\n",
        "    inputs1 = torch.tensor([[110.0, 0.0, S, 0.35, 0.1, 0.05]*10]).cuda()\n",
        "    inputs2 = torch.tensor([[110.0, 0.0, S + epsilon, 0.35, 0.1, 0.05]*10]).cuda()\n",
        "    inputs3 = torch.tensor([[110.0, 0.0, S - epsilon, 0.35, 0.1, 0.05]*10]).cuda()\n",
        "    delta = (model(inputs2.float()) - 2*model(inputs1.float()) + model(inputs3.float()))/(epsilon**2)\n",
        "    return delta\n",
        "prices = np.arange(10, 200, 0.1)\n",
        "gammas = []\n",
        "for p in prices:\n",
        "    gammas.append(compute_gamma(p).item())\n",
        "fig = pylab.plot(prices, gammas)\n",
        "pylab.xlabel('prices')\n",
        "pylab.ylabel('Gamma')\n",
        "fig"
      ],
      "execution_count": 18,
      "outputs": [
        {
          "output_type": "execute_result",
          "data": {
            "text/plain": [
              "[<matplotlib.lines.Line2D at 0x7fa01df74510>]"
            ]
          },
          "metadata": {
            "tags": []
          },
          "execution_count": 18
        },
        {
          "output_type": "display_data",
          "data": {
            "image/png": "[encoded data removed]",
            "text/plain": [
              "<Figure size 432x288 with 1 Axes>"
            ]
          },
          "metadata": {
            "tags": [],
            "needs_background": "light"
          }
        }
      ]
    },
    {
      "cell_type": "markdown",
      "metadata": {
        "id": "buqz8nmg-t7C"
      },
      "source": [
        "# Vega"
      ]
    },
    {
      "cell_type": "code",
      "metadata": {
        "id": "muozc-hzhSGA",
        "colab": {
          "base_uri": "https://localhost:8080/",
          "height": 296
        },
        "outputId": "bb749428-6df8-4982-a9cd-ed6a51d87362"
      },
      "source": [
        "# vega\n",
        "%matplotlib inline\n",
        "import numpy as np\n",
        "def compute_vega(S):\n",
        "    epsilon = 0.5\n",
        "    inputs1 = torch.tensor([[110.0, 0.0, S, 0.35, 0.1, 0.05] + ([110.0, 0.0, 110.0, 0.35, 0.1, 0.05]*9)]).cuda()\n",
        "    inputs2 = torch.tensor([[110.0, 0.0, S, 0.35 + epsilon, 0.1, 0.05] + ([110.0, 0.0, 110.0, 0.35, 0.1, 0.05]*9)]).cuda()\n",
        "    vega = (model(inputs2.float()) - model(inputs1.float()))/epsilon\n",
        "    return vega\n",
        "prices = np.arange(10, 200, 0.1)\n",
        "vegas = []\n",
        "for p in prices:\n",
        "    vegas.append(compute_vega(p).item())\n",
        "fig = pylab.plot(prices, vegas)\n",
        "pylab.xlabel('prices')\n",
        "pylab.ylabel('Vega')\n",
        "fig"
      ],
      "execution_count": 19,
      "outputs": [
        {
          "output_type": "execute_result",
          "data": {
            "text/plain": [
              "[<matplotlib.lines.Line2D at 0x7fa01eef6e10>]"
            ]
          },
          "metadata": {
            "tags": []
          },
          "execution_count": 19
        },
        {
          "output_type": "display_data",
          "data": {
            "image/png": "[encoded data removed]",
            "text/plain": [
              "<Figure size 432x288 with 1 Axes>"
            ]
          },
          "metadata": {
            "tags": [],
            "needs_background": "light"
          }
        }
      ]
    },
    {
      "cell_type": "code",
      "metadata": {
        "colab": {
          "base_uri": "https://localhost:8080/",
          "height": 296
        },
        "id": "0KATxBCAdlFt",
        "outputId": "de82b0a0-b679-432b-c0ad-5ee111df6874"
      },
      "source": [
        "# vega\n",
        "%matplotlib inline\n",
        "import numpy as np\n",
        "def compute_vega(S):\n",
        "    epsilon = 0.5\n",
        "    inputs1 = torch.tensor([[110.0, 0.0, S, 0.35, 0.1, 0.05]*10]).cuda()\n",
        "    inputs2 = torch.tensor([[110.0, 0.0, S, 0.35 + epsilon, 0.1, 0.05]*10]).cuda()\n",
        "    vega = (model(inputs2.float()) - model(inputs1.float()))/epsilon\n",
        "    return vega\n",
        "prices = np.arange(10, 200, 0.1)\n",
        "vegas = []\n",
        "for p in prices:\n",
        "    vegas.append(compute_vega(p).item())\n",
        "fig = pylab.plot(prices, vegas)\n",
        "pylab.xlabel('prices')\n",
        "pylab.ylabel('Vega')\n",
        "fig"
      ],
      "execution_count": 20,
      "outputs": [
        {
          "output_type": "execute_result",
          "data": {
            "text/plain": [
              "[<matplotlib.lines.Line2D at 0x7fa0202ca410>]"
            ]
          },
          "metadata": {
            "tags": []
          },
          "execution_count": 20
        },
        {
          "output_type": "display_data",
          "data": {
            "image/png": "[encoded data removed]",
            "text/plain": [
              "<Figure size 432x288 with 1 Axes>"
            ]
          },
          "metadata": {
            "tags": [],
            "needs_background": "light"
          }
        }
      ]
    },
    {
      "cell_type": "markdown",
      "metadata": {
        "id": "Rj7NlW6GVqSA"
      },
      "source": [
        "[Implied volatility](https://en.wikipedia.org/wiki/Implied_volatility) is the forecasted volatility of the underlying asset based on the quoted prices of the option. It is the reverse mapping of price to the option parameter given the model which is hard to do with the Monte Carlo simulation approach. But if we have the deep learning pricing model, it is an easy task. We can first plot the relationship between volatility and the option price"
      ]
    },
    {
      "cell_type": "code",
      "metadata": {
        "id": "4yrCw5UNT07t",
        "colab": {
          "base_uri": "https://localhost:8080/",
          "height": 296
        },
        "outputId": "190d5877-924a-44ce-ecdb-50d5438767ae"
      },
      "source": [
        "import pylab\n",
        "import numpy as np\n",
        "def compute_price(sigma):\n",
        "    inputs = torch.tensor([[110.0, 0.0, 110.0, sigma, 0.1, 0.05] + ([110.0, 0.0, 110.0, 0.35, 0.1, 0.05]*2)]).cuda()\n",
        "    x = model(inputs.float())\n",
        "    #x = model(inputs)\n",
        "    return x.item()\n",
        "sigmas = np.arange(0, 0.5, 0.1)\n",
        "prices = []\n",
        "for s in sigmas:\n",
        "    prices.append(compute_price(s))\n",
        "fig3 = pylab.plot(sigmas, prices)\n",
        "pylab.xlabel('Sigma')\n",
        "pylab.ylabel('Price')\n",
        "fig3"
      ],
      "execution_count": null,
      "outputs": [
        {
          "output_type": "execute_result",
          "data": {
            "text/plain": [
              "[<matplotlib.lines.Line2D at 0x7f21eccb09d0>]"
            ]
          },
          "metadata": {
            "tags": []
          },
          "execution_count": 34
        },
        {
          "output_type": "display_data",
          "data": {
            "image/png": "[encoded data removed]",
            "text/plain": [
              "<Figure size 432x288 with 1 Axes>"
            ]
          },
          "metadata": {
            "tags": [],
            "needs_background": "light"
          }
        }
      ]
    },
    {
      "cell_type": "markdown",
      "metadata": {
        "id": "EU25Cj29VtCa"
      },
      "source": [
        "Given the prices `P`, the implied volatility is the root of the function `compute_price`. We can use bisection to find the root."
      ]
    },
    {
      "cell_type": "code",
      "metadata": {
        "id": "ddHnwm_zUBYD",
        "colab": {
          "base_uri": "https://localhost:8080/",
          "height": 236
        },
        "outputId": "3b564d6a-8e79-48a5-d27e-80d7550f8e72"
      },
      "source": [
        "def bisection_root(small, large, fun, target, EPS=1e-6):\n",
        "    if fun(large) - target < 0:\n",
        "        print('upper bound is too small')\n",
        "        return None\n",
        "    if fun(small) - target > 0:\n",
        "        print('lower bound is too large')\n",
        "        return None\n",
        "    while large - small > EPS:\n",
        "        mid = (large + small) / 2.0\n",
        "        if fun(mid) - target >= 0:\n",
        "            large = mid\n",
        "        else:\n",
        "            small = mid\n",
        "    mid = (large + small) / 2.0\n",
        "    return mid, abs(fun(mid) - target)\n",
        "quoted_price = 16.0\n",
        "sigma, err = bisection_root(0, 0.5, compute_price, quoted_price)\n",
        "print('implied volativity', sigma, 'error', err)     "
      ],
      "execution_count": null,
      "outputs": [
        {
          "output_type": "stream",
          "text": [
            "upper bound is too small\n"
          ],
          "name": "stdout"
        },
        {
          "output_type": "error",
          "ename": "TypeError",
          "evalue": "ignored",
          "traceback": [
            "\u001b[0;31m---------------------------------------------------------------------------\u001b[0m",
            "\u001b[0;31mTypeError\u001b[0m                                 Traceback (most recent call last)",
            "\u001b[0;32m<ipython-input-14-ade689496c71>\u001b[0m in \u001b[0;36m<module>\u001b[0;34m()\u001b[0m\n\u001b[1;32m     15\u001b[0m     \u001b[0;32mreturn\u001b[0m \u001b[0mmid\u001b[0m\u001b[0;34m,\u001b[0m \u001b[0mabs\u001b[0m\u001b[0;34m(\u001b[0m\u001b[0mfun\u001b[0m\u001b[0;34m(\u001b[0m\u001b[0mmid\u001b[0m\u001b[0;34m)\u001b[0m \u001b[0;34m-\u001b[0m \u001b[0mtarget\u001b[0m\u001b[0;34m)\u001b[0m\u001b[0;34m\u001b[0m\u001b[0;34m\u001b[0m\u001b[0m\n\u001b[1;32m     16\u001b[0m \u001b[0mquoted_price\u001b[0m \u001b[0;34m=\u001b[0m \u001b[0;36m16.0\u001b[0m\u001b[0;34m\u001b[0m\u001b[0;34m\u001b[0m\u001b[0m\n\u001b[0;32m---> 17\u001b[0;31m \u001b[0msigma\u001b[0m\u001b[0;34m,\u001b[0m \u001b[0merr\u001b[0m \u001b[0;34m=\u001b[0m \u001b[0mbisection_root\u001b[0m\u001b[0;34m(\u001b[0m\u001b[0;36m0\u001b[0m\u001b[0;34m,\u001b[0m \u001b[0;36m0.5\u001b[0m\u001b[0;34m,\u001b[0m \u001b[0mcompute_price\u001b[0m\u001b[0;34m,\u001b[0m \u001b[0mquoted_price\u001b[0m\u001b[0;34m)\u001b[0m\u001b[0;34m\u001b[0m\u001b[0;34m\u001b[0m\u001b[0m\n\u001b[0m\u001b[1;32m     18\u001b[0m \u001b[0mprint\u001b[0m\u001b[0;34m(\u001b[0m\u001b[0;34m'implied volativity'\u001b[0m\u001b[0;34m,\u001b[0m \u001b[0msigma\u001b[0m\u001b[0;34m,\u001b[0m \u001b[0;34m'error'\u001b[0m\u001b[0;34m,\u001b[0m \u001b[0merr\u001b[0m\u001b[0;34m)\u001b[0m\u001b[0;34m\u001b[0m\u001b[0;34m\u001b[0m\u001b[0m\n",
            "\u001b[0;31mTypeError\u001b[0m: cannot unpack non-iterable NoneType object"
          ]
        }
      ]
    }
  ]
}