{
  "nbformat": 4,
  "nbformat_minor": 0,
  "metadata": {
    "kernelspec": {
      "display_name": "Python 3",
      "language": "python",
      "name": "python3"
    },
    "language_info": {
      "codemirror_mode": {
        "name": "ipython",
        "version": 3
      },
      "file_extension": ".py",
      "mimetype": "text/x-python",
      "name": "python",
      "nbconvert_exporter": "python",
      "pygments_lexer": "ipython3",
      "version": "3.6.9"
    },
    "colab": {
      "name": "Combined.ipynb",
      "provenance": [],
      "collapsed_sections": [
        "NwN6aLFDnwiy",
        "dBOv_RiBsCWa",
        "u2_89jOknwjH"
      ],
      "include_colab_link": true
    },
    "accelerator": "GPU"
  },
  "cells": [
    {
      "cell_type": "markdown",
      "metadata": {
        "id": "view-in-github",
        "colab_type": "text"
      },
      "source": [
        "<a href=\"https://colab.research.google.com/github/xinyanz-erin/Applied-Finance-Project/blob/main/From%20Colab/Combined_1Stock.ipynb\" target=\"_parent\"><img src=\"https://colab.research.google.com/assets/colab-badge.svg\" alt=\"Open In Colab\"/></a>"
      ]
    },
    {
      "cell_type": "code",
      "metadata": {
        "id": "gCR6hhw5Xq_R"
      },
      "source": [
        "import warnings\n",
        "warnings.filterwarnings('ignore')"
      ],
      "execution_count": 19,
      "outputs": []
    },
    {
      "cell_type": "code",
      "metadata": {
        "colab": {
          "base_uri": "https://localhost:8080/"
        },
        "id": "gSxOZk3ls2XQ",
        "outputId": "a06e5dcc-6e47-41da-c53e-7a39df363d06"
      },
      "source": [
        "!curl https://colab.chainer.org/install |sh -\n",
        "import cupy"
      ],
      "execution_count": 20,
      "outputs": [
        {
          "output_type": "stream",
          "text": [
            "  % Total    % Received % Xferd  Average Speed   Time    Time     Time  Current\n",
            "                                 Dload  Upload   Total   Spent    Left  Speed\n",
            "\r  0     0    0     0    0     0      0      0 --:--:-- --:--:-- --:--:--     0\r100  1580  100  1580    0     0  25079      0 --:--:-- --:--:-- --:--:-- 25079\n",
            "+ apt -y -q install cuda-libraries-dev-10-0\n",
            "Reading package lists...\n",
            "Building dependency tree...\n",
            "Reading state information...\n",
            "cuda-libraries-dev-10-0 is already the newest version (10.0.130-1).\n",
            "0 upgraded, 0 newly installed, 0 to remove and 40 not upgraded.\n",
            "+ pip install -q cupy-cuda100  chainer \n",
            "+ set +ex\n",
            "Installation succeeded!\n"
          ],
          "name": "stdout"
        }
      ]
    },
    {
      "cell_type": "markdown",
      "metadata": {
        "id": "NwN6aLFDnwiy"
      },
      "source": [
        "### Deep Learning Barrier Option\n",
        "\n",
        "We used Numba and CuPy in the previous notebook to run Monte Carlo simulation to determine the price of the Asian Barrier option. A Monte Carlo simulation needs millions of paths to get an accurate answer which is computationally intensive. [Ryan et al (2018)](https://arxiv.org/abs/1809.02233) showed that a deep learning model can be trained to value derivatives. The deep learning model is accurate and very fast, capable of producing valuations a million times faster than traditional models. In the this notebook, we will use a fully connected network to learn the pricing mode of the Asian Barrier option. Monte Carlo simulation is used as pricing ground truth for the training. We use the same Asian Barrier Option model as last notebook with parameters listed as following:\n",
        "\n",
        "```\n",
        "T - Maturity (yrs.)\n",
        "S - Spot (usd)\n",
        "K - Strike (usd)\n",
        "sigma - Volatility (per.)\n",
        "r - Risk Free Rate (per.)\n",
        "mu - Stock Drift Rate (per.)\n",
        "B - Barrier (usd)\n",
        "```\n",
        "\n",
        "### Batched Data generation\n",
        "\n",
        "The dataset is an important part of the Deep learning training. We will modify the previous single Asian Barrier Option pricing code to handle a batch of Barrier Option pricing. "
      ]
    },
    {
      "cell_type": "code",
      "metadata": {
        "id": "cHYrh4iYfP-n",
        "cellView": "form"
      },
      "source": [
        "#@title\n",
        "###Test: Judy's new X code\n",
        "#N_STOCKS = 3"
      ],
      "execution_count": null,
      "outputs": []
    },
    {
      "cell_type": "code",
      "metadata": {
        "id": "hy7qGwT0jv4A",
        "colab": {
          "base_uri": "https://localhost:8080/"
        },
        "cellView": "form",
        "outputId": "ac958b42-0bd5-4600-d2b8-246276885438"
      },
      "source": [
        "#@title\n",
        "#X = cupy.array([])\n",
        "#for i in range(0,N_STOCKS):\n",
        "  #X =  cupy.concatenate((X,cupy.array([1,1]), cupy.random.rand(3),cupy.array([1])))\n",
        "#X = X.reshape(N_STOCKS,6)\n",
        "#X"
      ],
      "execution_count": null,
      "outputs": [
        {
          "output_type": "execute_result",
          "data": {
            "text/plain": [
              "array([[1.        , 1.        , 0.05103263, 0.0071633 , 0.52167781,\n",
              "        1.        ],\n",
              "       [1.        , 1.        , 0.64857557, 0.32324551, 0.39745689,\n",
              "        1.        ],\n",
              "       [1.        , 1.        , 0.82301291, 0.46666519, 0.8391176 ,\n",
              "        1.        ]])"
            ]
          },
          "metadata": {
            "tags": []
          },
          "execution_count": 4
        }
      ]
    },
    {
      "cell_type": "code",
      "metadata": {
        "id": "9OHtAXC8hVae",
        "colab": {
          "base_uri": "https://localhost:8080/"
        },
        "cellView": "form",
        "outputId": "264cef2d-1ead-43b8-e5fd-d8a131f38fda"
      },
      "source": [
        "#@title\n",
        "#X = X * ((cupy.array([200.0, 0, 200.0, 0.4, 0.2, 0.2] * N_STOCKS, dtype = cupy.float32)).reshape(N_STOCKS, 6))\n",
        "#X"
      ],
      "execution_count": null,
      "outputs": [
        {
          "output_type": "execute_result",
          "data": {
            "text/plain": [
              "array([[2.00000000e+02, 0.00000000e+00, 1.02065252e+01, 2.86532070e-03,\n",
              "        1.04335564e-01, 2.00000003e-01],\n",
              "       [2.00000000e+02, 0.00000000e+00, 1.29715113e+02, 1.29298207e-01,\n",
              "        7.94913799e-02, 2.00000003e-01],\n",
              "       [2.00000000e+02, 0.00000000e+00, 1.64602581e+02, 1.86666078e-01,\n",
              "        1.67823523e-01, 2.00000003e-01]])"
            ]
          },
          "metadata": {
            "tags": []
          },
          "execution_count": 5
        }
      ]
    },
    {
      "cell_type": "markdown",
      "metadata": {
        "id": "TY_9g3tbdLiY"
      },
      "source": [
        "# Train(Erin Version)"
      ]
    },
    {
      "cell_type": "code",
      "metadata": {
        "colab": {
          "base_uri": "https://localhost:8080/"
        },
        "id": "qBxT9Eida-c_",
        "outputId": "e0152103-00b9-4b2d-b360-4020275f7e60"
      },
      "source": [
        "################################# TEST ########################################\n",
        "%%writefile cupy_dataset.py\n",
        "\n",
        "import numba\n",
        "from numba import cuda\n",
        "import random\n",
        "import cupy\n",
        "import numpy as np\n",
        "import math\n",
        "import time\n",
        "import torch\n",
        "cupy.cuda.set_allocator(None)\n",
        "from torch.utils.dlpack import from_dlpack\n",
        "\n",
        "@cuda.jit\n",
        "def batch_barrier_option(d_s, T, K, B, S0, sigma, mu, r, d_normals, N_STEPS, N_PATHS, N_BATCH):\n",
        "    # ii - overall thread index\n",
        "    ii = cuda.threadIdx.x + cuda.blockIdx.x * cuda.blockDim.x\n",
        "    stride = cuda.gridDim.x * cuda.blockDim.x\n",
        "    tmp3 = math.sqrt(T/N_STEPS)\n",
        "    for i in range(ii, N_PATHS * N_BATCH, stride):\n",
        "        batch_id = i // N_PATHS\n",
        "        path_id = i % N_PATHS\n",
        "        tmp1 = mu[batch_id]*T/N_STEPS\n",
        "        tmp2 = math.exp(-r[batch_id]*T)\n",
        "        running_average = 0.0\n",
        "        s_curr = S0[batch_id]\n",
        "        for n in range(N_STEPS):\n",
        "            s_curr += tmp1 * s_curr + sigma[batch_id]*s_curr*tmp3*d_normals[path_id + batch_id * N_PATHS + n * N_PATHS * N_BATCH] # stock price\n",
        "            running_average = running_average + 1.0/(n + 1.0) * (s_curr - running_average) # average of the path\n",
        "            if i==0 and batch_id == 2:\n",
        "                print(s_curr)\n",
        "            if running_average <= B[batch_id]: # if reach barrier, drop out the path\n",
        "                break\n",
        "        payoff = running_average - K[batch_id] if running_average > K[batch_id] else 0\n",
        "        d_s[i] = tmp2 * payoff\n",
        "\n",
        "class NumbaOptionDataSet(object):\n",
        "    \n",
        "    def __init__(self, max_len=10, number_path = 1000, batch=2, threads=512, seed=15, stocks=3):  # 3 stocks\n",
        "        self.num = 0\n",
        "        self.max_length = max_len\n",
        "        self.N_PATHS = number_path\n",
        "        self.N_STEPS = 365\n",
        "        self.N_BATCH = batch\n",
        "        self.N_STOCKS = stocks\n",
        "        self.T = np.float32(1.0)\n",
        "        self.output = cupy.zeros(self.N_STOCKS*self.N_PATHS, dtype=cupy.float32) \n",
        "        self.number_of_blocks = (self.N_PATHS * self.N_STOCKS - 1) // threads + 1\n",
        "        self.number_of_threads = threads\n",
        "        cupy.random.seed(seed)\n",
        "        \n",
        "    def __len__(self):\n",
        "        return self.max_length\n",
        "        \n",
        "    def __iter__(self):\n",
        "        self.num = 0\n",
        "        return self\n",
        "    \n",
        "    def __next__(self):\n",
        "        if self.num > self.max_length:\n",
        "            raise StopIteration\n",
        "        \n",
        "        Y = cupy.zeros(self.N_BATCH, dtype=cupy.float32)\n",
        "        paras = cupy.zeros((self.N_BATCH, self.N_STOCKS * 6), dtype = cupy.float32)\n",
        "        for op in range(self.N_BATCH):\n",
        "          \n",
        "          X = cupy.array([])\n",
        "          K_rand = cupy.random.rand(1)[0]\n",
        "          B_rand = cupy.random.rand(1)[0]\n",
        "          r_rand = cupy.random.rand(1)[0]\n",
        "          for i in range(0,self.N_STOCKS):\n",
        "            X =  cupy.concatenate((X,cupy.array([K_rand,B_rand]), cupy.random.rand(3),cupy.array([r_rand]))) #[K,B,S0,sigma,mu,r], K B r are shared\n",
        "          X = X.reshape(self.N_STOCKS,6)\n",
        "          X = X * ((cupy.array([200.0, 0.1, 200.0, 0.4, 0.2, 0.2] * self.N_STOCKS, dtype = cupy.float32)).reshape(self.N_STOCKS, 6))\n",
        "          #X = cupy.random.rand(6 * self.N_STOCKS, dtype=cupy.float32)\n",
        "          #X = 0.9 + cupy.random.rand(6 * self.N_STOCKS, dtype=cupy.float32)*0.1\n",
        "          # scale the [0, 1) random numbers to the correct range for each of the option parameters\n",
        "          #X = (X * cupy.array([200.0, 0.99, 200.0, 0.4, 0.2, 0.2] * self.N_STOCKS, dtype = cupy.float32)).reshape(self.N_STOCKS, 6)\n",
        "\n",
        "          # make sure the Barrier is smaller than the Strike price\n",
        "          # X[:, 1] = X[:, 0] * X[:, 1]\n",
        "          for i in range(self.N_STOCKS):\n",
        "            paras[op,i*6:(i+1)*6] = X[i,:]\n",
        "\n",
        "          stocks_randoms_mean = cupy.zeros(self.N_STOCKS, dtype = cupy.float32)\n",
        "          rho = cupy.random.normal(0, 1, self.N_STOCKS, dtype = cupy.float32)\n",
        "\n",
        "          #stocks_randoms_cov = cupy.ones((self.N_STOCKS, self.N_STOCKS), dtype = cupy.float32)\n",
        "          #cupy.fill_diagonal(stocks_randoms_cov, rho)\n",
        "\n",
        "          #stocks_randoms_cov = (-0.99 + cupy.random.rand(self.N_STOCKS*self.N_STOCKS, dtype=cupy.float32)*2*0.99).reshape(self.N_STOCKS,self.N_STOCKS)\n",
        "          stocks_randoms_cov = cupy.array([1] * self.N_STOCKS*self.N_STOCKS, dtype = cupy.float32).reshape(self.N_STOCKS,self.N_STOCKS)  #Covariance\n",
        "          cupy.fill_diagonal(stocks_randoms_cov, 1)\n",
        "\n",
        "          num_of_randoms_each_stock = self.N_PATHS * self.N_STEPS\n",
        "          #randoms_gpu = cupy.random.multivariate_normal(stocks_randoms_mean, stocks_randoms_cov,\n",
        "          #                                              num_of_randoms_each_stock, dtype=cupy.float32)\n",
        "          randoms_gpu = cupy.random.normal(num_of_randoms_each_stock, dtype=cupy.float32)\n",
        "          #b1_r = randoms_gpu[:,0]\n",
        "          #b2_r = randoms_gpu[:,1]\n",
        "          #randoms = cupy.zeros(self.N_STOCKS * self.N_PATHS * self.N_STEPS, dtype=cupy.float32)\n",
        "          #interval = int((self.N_PATHS * self.N_STEPS * self.N_STOCKS) / self.N_PATHS)\n",
        "          #for i in range(interval):\n",
        "           # if i % 2 == 0:\n",
        "            #    ind = int(i/2)\n",
        "            #    randoms[i*self.N_PATHS:(i+1)*self.N_PATHS] = b1_r[ind:(ind+self.N_PATHS)]\n",
        "            #else:\n",
        "            #    ind = int(i//2)\n",
        "            #    randoms[i*self.N_PATHS:(i+1)*self.N_PATHS] = b2_r[ind:(ind+self.N_PATHS)]\n",
        "\n",
        "          randoms = cupy.random.normal(0, 1, self.N_STOCKS * self.N_PATHS * self.N_STEPS, dtype=cupy.float32)\n",
        "          batch_barrier_option[(self.number_of_blocks,), (self.number_of_threads,)](self.output, self.T, X[:, 0], \n",
        "                                X[:, 1], X[:, 2], X[:, 3], X[:, 4], X[:, 5], randoms, self.N_STEPS, self.N_PATHS, self.N_STOCKS)\n",
        "          \n",
        "          o = self.output.reshape(self.N_STOCKS, self.N_PATHS)\n",
        "          Y[op] = o.mean(axis = 0).mean()\n",
        "\n",
        "        self.num += 1\n",
        "        return (from_dlpack(paras.toDlpack()), from_dlpack(Y.toDlpack()))\n",
        "\n",
        "\n",
        "\n",
        "# ds = NumbaOptionDataSet(10, number_path=100000, batch=3, seed=random.randint(0,100), stocks=5)\n",
        "# for i in ds:\n",
        "#     print(i[0])\n",
        "################################# TEST ########################################"
      ],
      "execution_count": 21,
      "outputs": [
        {
          "output_type": "stream",
          "text": [
            "Overwriting cupy_dataset.py\n"
          ],
          "name": "stdout"
        }
      ]
    },
    {
      "cell_type": "markdown",
      "metadata": {
        "id": "u2_89jOknwjH"
      },
      "source": [
        "### Model\n",
        "To map the option parameters to price, we use 6 layers of fully connected neural network with hidden dimension 512 as inspired by [this paper](https://arxiv.org/abs/1809.02233). Writing this DL price model into a file `model.py`:-"
      ]
    },
    {
      "cell_type": "markdown",
      "metadata": {
        "id": "NMHqzJycx8XH"
      },
      "source": [
        "### Modified Model"
      ]
    },
    {
      "cell_type": "code",
      "metadata": {
        "id": "ZTn7iJQryAIH",
        "colab": {
          "base_uri": "https://localhost:8080/"
        },
        "outputId": "83340968-134e-4812-f127-bc69e0ad7bbd"
      },
      "source": [
        "%%writefile model.py\n",
        "import torch.nn as nn\n",
        "import torch.nn.functional as F\n",
        "import torch\n",
        "import numpy as np\n",
        "\n",
        "\n",
        "class Net(nn.Module):\n",
        "\n",
        "    def __init__(self, hidden=1024):\n",
        "        super(Net, self).__init__()\n",
        "        self.fc1 = nn.Linear(6, hidden) # remember to change this!\n",
        "        self.fc2 = nn.Linear(hidden, hidden)\n",
        "        self.fc3 = nn.Linear(hidden, hidden)\n",
        "        self.fc4 = nn.Linear(hidden, hidden)\n",
        "        self.fc5 = nn.Linear(hidden, hidden)\n",
        "        self.fc6 = nn.Linear(hidden, 1)\n",
        "        self.register_buffer('norm',\n",
        "                             torch.tensor([200.0, 0.1, 200.0, 0.4, 0.2, 0.2])) # don't use numpy here - will give error later\n",
        "\n",
        "    def forward(self, x):\n",
        "        # normalize the parameter to range [0-1] \n",
        "        x = x / self.norm\n",
        "        x = F.elu(self.fc1(x))\n",
        "        x = F.elu(self.fc2(x))\n",
        "        x = F.elu(self.fc3(x))\n",
        "        x = F.elu(self.fc4(x))\n",
        "        x = F.elu(self.fc5(x))\n",
        "        return self.fc6(x)"
      ],
      "execution_count": 22,
      "outputs": [
        {
          "output_type": "stream",
          "text": [
            "Overwriting model.py\n"
          ],
          "name": "stdout"
        }
      ]
    },
    {
      "cell_type": "markdown",
      "metadata": {
        "id": "hSPRFqyznwjI"
      },
      "source": [
        "As we know the random parameters' scaling factors, the input parameters are first scaled back to a range of (0-1) by dividing them by (200.0, 198.0, 200.0, 0.4, 0.2, 0.2). Then they are projected 5 times to the hidden dimension of 512 after the `ELu` activation function. `ELu` is chosen because we need to compute the second order differentiation of the parameters. If use ReLu, the second order differentiation will always be zero. The last layer is a linear layer that maps the hidden dimension to the predicted option price. "
      ]
    },
    {
      "cell_type": "markdown",
      "metadata": {
        "id": "AM8J2liPnwjJ"
      },
      "source": [
        "For training, we use [Ignite](https://github.com/pytorch/ignite) which is a high-level library to train neural networks in PyTorch. We use `MSELoss` as the loss function, `Adam` as the optimizer and `CosineAnnealingScheduler` as the learning rate scheduler. The following code is feeding the random option data to the pricing model to train it."
      ]
    },
    {
      "cell_type": "markdown",
      "metadata": {
        "id": "yACi4ge13_rd"
      },
      "source": [
        "### Train"
      ]
    },
    {
      "cell_type": "code",
      "metadata": {
        "id": "1TyZT8_AH35M",
        "colab": {
          "base_uri": "https://localhost:8080/"
        },
        "outputId": "6f1cbed6-8791-4815-a152-59c25c91d0f0"
      },
      "source": [
        "!pip install pytorch-ignite"
      ],
      "execution_count": 23,
      "outputs": [
        {
          "output_type": "stream",
          "text": [
            "Requirement already satisfied: pytorch-ignite in /usr/local/lib/python3.7/dist-packages (0.4.5)\n",
            "Requirement already satisfied: torch<2,>=1.3 in /usr/local/lib/python3.7/dist-packages (from pytorch-ignite) (1.9.0+cu102)\n",
            "Requirement already satisfied: typing-extensions in /usr/local/lib/python3.7/dist-packages (from torch<2,>=1.3->pytorch-ignite) (3.7.4.3)\n"
          ],
          "name": "stdout"
        }
      ]
    },
    {
      "cell_type": "code",
      "metadata": {
        "id": "G4Ej82G8nwjJ",
        "colab": {
          "base_uri": "https://localhost:8080/",
          "height": 1000
        },
        "outputId": "15bb5a41-b878-4aa6-f1a6-e4493bb6c81d"
      },
      "source": [
        "from ignite.engine import Engine, Events\n",
        "from ignite.handlers import Timer\n",
        "from torch.nn import MSELoss\n",
        "from torch.optim import Adam\n",
        "from ignite.contrib.handlers.param_scheduler import CosineAnnealingScheduler\n",
        "from ignite.handlers import ModelCheckpoint\n",
        "from model import Net\n",
        "from cupy_dataset import NumbaOptionDataSet\n",
        "timer = Timer(average=True)\n",
        "model = Net().cuda()\n",
        "loss_fn = MSELoss()\n",
        "optimizer = Adam(model.parameters(), lr=1e-3)\n",
        "# dataset = NumbaOptionDataSet(max_len=10000, number_path = 1024, batch=4800)\n",
        "dataset = NumbaOptionDataSet(max_len=100, number_path = 1024, batch=32, stocks=1)\n",
        "\n",
        "def train_update(engine, batch):\n",
        "    model.train()\n",
        "    optimizer.zero_grad()\n",
        "    x = batch[0]\n",
        "    y = batch[1]\n",
        "    y_pred = model(x)\n",
        "    loss = loss_fn(y_pred[:,0], y)\n",
        "    loss.backward()\n",
        "    optimizer.step()\n",
        "    return loss.item()\n",
        "\n",
        "trainer = Engine(train_update)\n",
        "log_interval = 20\n",
        "\n",
        "scheduler = CosineAnnealingScheduler(optimizer, 'lr', 1e-4, 1e-6, len(dataset))\n",
        "trainer.add_event_handler(Events.ITERATION_STARTED, scheduler)\n",
        "timer.attach(trainer,\n",
        "             start=Events.EPOCH_STARTED,\n",
        "             resume=Events.ITERATION_STARTED,\n",
        "             pause=Events.ITERATION_COMPLETED,\n",
        "             step=Events.ITERATION_COMPLETED)    \n",
        "@trainer.on(Events.ITERATION_COMPLETED)\n",
        "def log_training_loss(engine):\n",
        "    iter = (engine.state.iteration - 1) % len(dataset) + 1\n",
        "    if iter % log_interval == 0:\n",
        "        print('loss', engine.state.output, 'average time', timer.value(), 'iter num', iter)\n",
        "        \n",
        "trainer.run(dataset, max_epochs=300)"
      ],
      "execution_count": 37,
      "outputs": [
        {
          "output_type": "stream",
          "text": [
            "loss 2685.95849609375 average time 0.19612148070002605 iter num 20\n",
            "loss 1905.421142578125 average time 0.10018267187503511 iter num 40\n",
            "loss 735.6932373046875 average time 0.06822984396668516 iter num 60\n",
            "loss 1182.1517333984375 average time 0.05218271943751347 iter num 80\n",
            "loss 555.276123046875 average time 0.04257466021000255 iter num 100\n",
            "loss 81.23486328125 average time 0.012605972450012359 iter num 20\n",
            "loss 9.383687019348145 average time 0.008343544000024395 iter num 40\n",
            "loss 13.270986557006836 average time 0.006933155983343416 iter num 60\n",
            "loss 12.658514976501465 average time 0.006212358312515676 iter num 80\n",
            "loss 8.468293190002441 average time 0.005798586110017823 iter num 100\n",
            "loss 6.8171539306640625 average time 0.012612956100008432 iter num 20\n",
            "loss 10.17659854888916 average time 0.008418648124995797 iter num 40\n",
            "loss 7.419277191162109 average time 0.006957064599991251 iter num 60\n",
            "loss 4.089900016784668 average time 0.006231827874989904 iter num 80\n",
            "loss 6.441545009613037 average time 0.005799988499991287 iter num 100\n",
            "loss 5.018189907073975 average time 0.01278694910000695 iter num 20\n",
            "loss 7.6649651527404785 average time 0.008475954200002888 iter num 40\n",
            "loss 10.058151245117188 average time 0.007047225683345459 iter num 60\n",
            "loss 4.4571428298950195 average time 0.006315183437510541 iter num 80\n",
            "loss 3.0400545597076416 average time 0.005879845140016187 iter num 100\n",
            "loss 7.009548187255859 average time 0.013235869149991687 iter num 20\n",
            "loss 2.76906418800354 average time 0.008634563599986222 iter num 40\n",
            "loss 3.3805346488952637 average time 0.007108783350008707 iter num 60\n",
            "loss 4.338356018066406 average time 0.006349729250004543 iter num 80\n",
            "loss 6.23805570602417 average time 0.005894845890002216 iter num 100\n",
            "loss 4.6388325691223145 average time 0.012732905600012145 iter num 20\n",
            "loss 3.249642848968506 average time 0.00841760855001894 iter num 40\n",
            "loss 4.221282005310059 average time 0.007079436833347093 iter num 60\n",
            "loss 3.941925048828125 average time 0.006334168137516372 iter num 80\n",
            "loss 4.022555351257324 average time 0.005889735690011548 iter num 100\n",
            "loss 6.535508155822754 average time 0.013038227299989557 iter num 20\n",
            "loss 5.910073280334473 average time 0.008552978649987608 iter num 40\n",
            "loss 1.9377049207687378 average time 0.007054805633326093 iter num 60\n",
            "loss 8.424656867980957 average time 0.006348641312493441 iter num 80\n",
            "loss 2.627309799194336 average time 0.005894140249999964 iter num 100\n",
            "loss 2.895955801010132 average time 0.01285349239998368 iter num 20\n",
            "loss 5.333281993865967 average time 0.00845666939997045 iter num 40\n",
            "loss 2.1590147018432617 average time 0.006993358349992225 iter num 60\n",
            "loss 3.5790836811065674 average time 0.006271575812499463 iter num 80\n",
            "loss 3.392350196838379 average time 0.005856656409998777 iter num 100\n",
            "loss 1.745740532875061 average time 0.013059837799994511 iter num 20\n",
            "loss 2.7457292079925537 average time 0.008614421549998497 iter num 40\n",
            "loss 1.184563398361206 average time 0.007218192533324934 iter num 60\n",
            "loss 2.672633647918701 average time 0.006430012674994145 iter num 80\n",
            "loss 2.2547006607055664 average time 0.005990773119997357 iter num 100\n",
            "loss 2.2196500301361084 average time 0.01272057864995304 iter num 20\n",
            "loss 2.6106486320495605 average time 0.008419652349982699 iter num 40\n",
            "loss 2.522615671157837 average time 0.007010498033321255 iter num 60\n",
            "loss 1.1370246410369873 average time 0.006285442637491201 iter num 80\n",
            "loss 1.4467415809631348 average time 0.005841358499999387 iter num 100\n",
            "loss 1.5294904708862305 average time 0.012621190499976365 iter num 20\n",
            "loss 2.6013026237487793 average time 0.008336110749996805 iter num 40\n",
            "loss 1.4554076194763184 average time 0.006999679116662113 iter num 60\n",
            "loss 1.1072394847869873 average time 0.006276937587497855 iter num 80\n",
            "loss 2.2362539768218994 average time 0.0058383506699965435 iter num 100\n",
            "loss 2.3395581245422363 average time 0.012624710449995292 iter num 20\n",
            "loss 1.9007041454315186 average time 0.008357805925015782 iter num 40\n",
            "loss 7.476719379425049 average time 0.006920723566702236 iter num 60\n",
            "loss 1.414581298828125 average time 0.006208420150034044 iter num 80\n",
            "loss 0.8096225261688232 average time 0.005796816890028822 iter num 100\n",
            "loss 4.1165971755981445 average time 0.013561719249980796 iter num 20\n",
            "loss 5.285776615142822 average time 0.008862241925004354 iter num 40\n",
            "loss 2.515428304672241 average time 0.007263459316667801 iter num 60\n",
            "loss 0.5361015796661377 average time 0.006473999250007978 iter num 80\n",
            "loss 2.705146551132202 average time 0.0060273628900131375 iter num 100\n",
            "loss 2.467519760131836 average time 0.013190337650019045 iter num 20\n",
            "loss 1.4713971614837646 average time 0.008682789874984564 iter num 40\n",
            "loss 2.0160045623779297 average time 0.007134414883315306 iter num 60\n",
            "loss 1.364844560623169 average time 0.006386457299979042 iter num 80\n",
            "loss 1.0408282279968262 average time 0.0059479690699868115 iter num 100\n",
            "loss 1.3826074600219727 average time 0.012984976650011503 iter num 20\n",
            "loss 2.865673065185547 average time 0.00851450914998395 iter num 40\n",
            "loss 2.4727139472961426 average time 0.007048456183330624 iter num 60\n",
            "loss 1.2886219024658203 average time 0.006316378212497397 iter num 80\n",
            "loss 1.2914625406265259 average time 0.005893513129997245 iter num 100\n",
            "loss 2.573152542114258 average time 0.012905456499993306 iter num 20\n",
            "loss 0.9607968926429749 average time 0.008484008225008211 iter num 40\n",
            "loss 1.7372792959213257 average time 0.007008311166680414 iter num 60\n",
            "loss 2.5219292640686035 average time 0.006272564412520864 iter num 80\n",
            "loss 1.1391940116882324 average time 0.0058342488700236575 iter num 100\n",
            "loss 2.455883741378784 average time 0.013018608350012072 iter num 20\n",
            "loss 0.9733588695526123 average time 0.008545424000010371 iter num 40\n",
            "loss 1.62228524684906 average time 0.0070781422500052335 iter num 60\n",
            "loss 0.9543277025222778 average time 0.006348085574998663 iter num 80\n",
            "loss 0.8349015712738037 average time 0.005894775149999987 iter num 100\n",
            "loss 5.987176895141602 average time 0.012579316549988562 iter num 20\n",
            "loss 2.7950034141540527 average time 0.008392665049990455 iter num 40\n",
            "loss 0.4957998991012573 average time 0.006958243066662817 iter num 60\n",
            "loss 1.7701783180236816 average time 0.006252937249993806 iter num 80\n",
            "loss 1.10237455368042 average time 0.005809238260001166 iter num 100\n",
            "loss 1.5969009399414062 average time 0.012659693399996286 iter num 20\n",
            "loss 4.229219913482666 average time 0.008365439599998581 iter num 40\n",
            "loss 2.0905909538269043 average time 0.007002830000002783 iter num 60\n",
            "loss 0.9246200323104858 average time 0.00630078967500367 iter num 80\n",
            "loss 0.8144702911376953 average time 0.005873234629996204 iter num 100\n",
            "loss 4.099879264831543 average time 0.01281942429997116 iter num 20\n",
            "loss 1.5949890613555908 average time 0.008554279224972561 iter num 40\n",
            "loss 2.181490182876587 average time 0.007046312683322261 iter num 60\n",
            "loss 0.9172675013542175 average time 0.006334806262498205 iter num 80\n",
            "loss 0.9235366582870483 average time 0.005874119449990758 iter num 100\n",
            "loss 2.3252522945404053 average time 0.012876974600010272 iter num 20\n",
            "loss 0.6358190774917603 average time 0.008474622374990304 iter num 40\n",
            "loss 1.4213398694992065 average time 0.00703490768331676 iter num 60\n",
            "loss 0.9455922842025757 average time 0.006321579937485921 iter num 80\n",
            "loss 2.505133628845215 average time 0.005875862589994086 iter num 100\n",
            "loss 5.955356597900391 average time 0.01288640574996407 iter num 20\n",
            "loss 3.8867311477661133 average time 0.008468878924986711 iter num 40\n",
            "loss 1.5982608795166016 average time 0.00699324169998287 iter num 60\n",
            "loss 2.1010353565216064 average time 0.006313243662486911 iter num 80\n",
            "loss 1.895249366760254 average time 0.005861804689993732 iter num 100\n",
            "loss 2.3293774127960205 average time 0.012760118300002432 iter num 20\n",
            "loss 0.9870682954788208 average time 0.008438070150003796 iter num 40\n",
            "loss 2.4835598468780518 average time 0.006998127533332384 iter num 60\n",
            "loss 0.9471750855445862 average time 0.006274072837496192 iter num 80\n",
            "loss 0.4427531659603119 average time 0.005844844640002975 iter num 100\n",
            "loss 2.2543530464172363 average time 0.012592356599975573 iter num 20\n",
            "loss 1.5307217836380005 average time 0.008331567149997453 iter num 40\n",
            "loss 1.100712537765503 average time 0.006919355116663913 iter num 60\n",
            "loss 0.6094802021980286 average time 0.006203778737500443 iter num 80\n",
            "loss 0.7409493923187256 average time 0.005773809200006781 iter num 100\n",
            "loss 2.0572104454040527 average time 0.0132544855500214 iter num 20\n",
            "loss 1.2670254707336426 average time 0.00866953240000612 iter num 40\n",
            "loss 0.9239023923873901 average time 0.007123492083352782 iter num 60\n",
            "loss 1.4731093645095825 average time 0.006357585550011891 iter num 80\n",
            "loss 0.7732740044593811 average time 0.005896076789999824 iter num 100\n",
            "loss 1.3533027172088623 average time 0.013028598749974663 iter num 20\n",
            "loss 1.4305989742279053 average time 0.008595224799955758 iter num 40\n",
            "loss 1.582857370376587 average time 0.007116925749975659 iter num 60\n",
            "loss 1.5511327981948853 average time 0.006374991637477479 iter num 80\n",
            "loss 0.7830895781517029 average time 0.005934952589982458 iter num 100\n",
            "loss 1.1927506923675537 average time 0.012955387199986035 iter num 20\n",
            "loss 0.9853823184967041 average time 0.008572199974992145 iter num 40\n",
            "loss 1.2826164960861206 average time 0.00709982488328933 iter num 60\n",
            "loss 0.8403977155685425 average time 0.006342150599971319 iter num 80\n",
            "loss 0.574472963809967 average time 0.005889250289983466 iter num 100\n",
            "loss 1.4869463443756104 average time 0.013109907100033524 iter num 20\n",
            "loss 1.1465035676956177 average time 0.008604078424991713 iter num 40\n",
            "loss 0.6696023344993591 average time 0.007123654083329711 iter num 60\n",
            "loss 0.9621846675872803 average time 0.006406567437477406 iter num 80\n",
            "loss 0.8488211631774902 average time 0.006001369589989735 iter num 100\n",
            "loss 1.431795597076416 average time 0.012977510650080149 iter num 20\n",
            "loss 1.9968152046203613 average time 0.008701552000081847 iter num 40\n",
            "loss 2.345458507537842 average time 0.007168165000060374 iter num 60\n",
            "loss 1.4455950260162354 average time 0.006413891962523621 iter num 80\n",
            "loss 0.38566654920578003 average time 0.005944752370000969 iter num 100\n",
            "loss 3.2547435760498047 average time 0.013305706099959024 iter num 20\n",
            "loss 0.9709457159042358 average time 0.008663847799971336 iter num 40\n",
            "loss 1.8212443590164185 average time 0.007120697566657934 iter num 60\n",
            "loss 1.3860981464385986 average time 0.0063495286749798655 iter num 80\n",
            "loss 0.9985544085502625 average time 0.005895632769970689 iter num 100\n",
            "loss 0.5050322413444519 average time 0.012665383200010183 iter num 20\n",
            "loss 1.204334020614624 average time 0.00839845045002221 iter num 40\n",
            "loss 0.7843111753463745 average time 0.006938986666705204 iter num 60\n",
            "loss 0.6907812356948853 average time 0.006251504625021198 iter num 80\n",
            "loss 1.1216601133346558 average time 0.005841707980021055 iter num 100\n",
            "loss 0.6930496096611023 average time 0.013166003950050253 iter num 20\n",
            "loss 10.28276252746582 average time 0.008647788225027852 iter num 40\n",
            "loss 0.9616820216178894 average time 0.007114359933355748 iter num 60\n",
            "loss 0.4615706503391266 average time 0.006375817512514459 iter num 80\n",
            "loss 0.44730523228645325 average time 0.005921867749993908 iter num 100\n",
            "loss 9.546377182006836 average time 0.012698965249956017 iter num 20\n",
            "loss 1.9720700979232788 average time 0.00838214309998193 iter num 40\n",
            "loss 1.2849137783050537 average time 0.007068921316681553 iter num 60\n",
            "loss 0.9288339614868164 average time 0.006318831875000796 iter num 80\n",
            "loss 1.2117102146148682 average time 0.005930105770007685 iter num 100\n",
            "loss 0.7393046617507935 average time 0.012554185649946703 iter num 20\n",
            "loss 1.0843024253845215 average time 0.00829348585001526 iter num 40\n",
            "loss 0.3995746672153473 average time 0.006879918516680543 iter num 60\n",
            "loss 0.19591796398162842 average time 0.0061873414374872485 iter num 80\n",
            "loss 0.8540645241737366 average time 0.0057686299099850655 iter num 100\n",
            "loss 0.9782781600952148 average time 0.012759887000015624 iter num 20\n",
            "loss 1.2444161176681519 average time 0.008469845600029658 iter num 40\n",
            "loss 1.013013482093811 average time 0.007033007516671811 iter num 60\n",
            "loss 1.1860284805297852 average time 0.006291394249996074 iter num 80\n",
            "loss 0.41565945744514465 average time 0.005838766700012456 iter num 100\n",
            "loss 1.310792088508606 average time 0.01303289814998152 iter num 20\n",
            "loss 0.7912640571594238 average time 0.00853660217497918 iter num 40\n",
            "loss 1.3788386583328247 average time 0.007084377766636863 iter num 60\n",
            "loss 0.3683401644229889 average time 0.006330367449976393 iter num 80\n",
            "loss 1.0288841724395752 average time 0.005879661059980208 iter num 100\n",
            "loss 1.9448332786560059 average time 0.0128624316000014 iter num 20\n",
            "loss 1.4795196056365967 average time 0.008459229299990056 iter num 40\n",
            "loss 1.2684458494186401 average time 0.006985252349992758 iter num 60\n",
            "loss 1.111986517906189 average time 0.006251263212499225 iter num 80\n",
            "loss 0.6999390721321106 average time 0.0058303181200017205 iter num 100\n",
            "loss 0.9193377494812012 average time 0.01310326664997774 iter num 20\n",
            "loss 1.4686152935028076 average time 0.008606203474971607 iter num 40\n",
            "loss 0.8905107378959656 average time 0.007082126966618792 iter num 60\n",
            "loss 0.49112141132354736 average time 0.006332114912481757 iter num 80\n",
            "loss 1.1598535776138306 average time 0.0059063928699833925 iter num 100\n",
            "loss 1.6694175004959106 average time 0.013031725749988255 iter num 20\n",
            "loss 0.8513610363006592 average time 0.008637661075010784 iter num 40\n",
            "loss 1.4399384260177612 average time 0.007120677733344867 iter num 60\n",
            "loss 1.2802715301513672 average time 0.006378775887503707 iter num 80\n",
            "loss 0.9145205020904541 average time 0.00591609178001363 iter num 100\n",
            "loss 1.524969458580017 average time 0.012965864550028527 iter num 20\n",
            "loss 1.7183823585510254 average time 0.008594660475000637 iter num 40\n",
            "loss 0.45411163568496704 average time 0.007084945066677998 iter num 60\n",
            "loss 0.5399354696273804 average time 0.006331594987511835 iter num 80\n",
            "loss 0.6461938619613647 average time 0.0058738142900256205 iter num 100\n",
            "loss 0.3849879503250122 average time 0.012809324749969164 iter num 20\n",
            "loss 1.0575833320617676 average time 0.008601813925008629 iter num 40\n",
            "loss 1.061772108078003 average time 0.007097558033342466 iter num 60\n",
            "loss 0.6054950952529907 average time 0.00634832905001872 iter num 80\n",
            "loss 0.3811980187892914 average time 0.0058885731900181785 iter num 100\n",
            "loss 1.1044867038726807 average time 0.012662088500019309 iter num 20\n",
            "loss 2.1205222606658936 average time 0.008355934749988591 iter num 40\n",
            "loss 1.4014923572540283 average time 0.006950283599993176 iter num 60\n",
            "loss 0.45090311765670776 average time 0.006221872974992948 iter num 80\n",
            "loss 0.9382297992706299 average time 0.005805438649972529 iter num 100\n",
            "loss 2.9208316802978516 average time 0.012816585650011803 iter num 20\n",
            "loss 0.6237984895706177 average time 0.008444412750009178 iter num 40\n",
            "loss 0.8063191175460815 average time 0.007029870666679016 iter num 60\n",
            "loss 0.38816171884536743 average time 0.006292313575016806 iter num 80\n",
            "loss 0.2739984393119812 average time 0.005895585030016264 iter num 100\n",
            "loss 2.4310145378112793 average time 0.012937716900046326 iter num 20\n",
            "loss 1.4900764226913452 average time 0.008534054225003728 iter num 40\n",
            "loss 0.7109140157699585 average time 0.0070669850333312445 iter num 60\n",
            "loss 0.6447978019714355 average time 0.006312447849990121 iter num 80\n",
            "loss 1.221240758895874 average time 0.005863970999994308 iter num 100\n",
            "loss 2.8666186332702637 average time 0.013378952199968808 iter num 20\n",
            "loss 1.9261062145233154 average time 0.008748949650009764 iter num 40\n",
            "loss 0.32358551025390625 average time 0.0072159440666609955 iter num 60\n",
            "loss 0.5784728527069092 average time 0.0064508447499804335 iter num 80\n",
            "loss 0.6871495246887207 average time 0.005991585149977254 iter num 100\n",
            "loss 0.3402930796146393 average time 0.01286258954994537 iter num 20\n",
            "loss 0.4883624315261841 average time 0.008489513224947131 iter num 40\n",
            "loss 0.47446849942207336 average time 0.007078945366621762 iter num 60\n",
            "loss 0.4229000210762024 average time 0.006334849874968995 iter num 80\n",
            "loss 0.5189508199691772 average time 0.005897658869957923 iter num 100\n",
            "loss 0.46347007155418396 average time 0.012753619700060882 iter num 20\n",
            "loss 2.302194595336914 average time 0.00841777165004487 iter num 40\n",
            "loss 1.4718012809753418 average time 0.006961067616672759 iter num 60\n",
            "loss 0.9196667671203613 average time 0.006259832750009764 iter num 80\n",
            "loss 0.18588483333587646 average time 0.005816588119996595 iter num 100\n",
            "loss 0.4965914785861969 average time 0.012881791900008465 iter num 20\n",
            "loss 1.3683139085769653 average time 0.008470539475013084 iter num 40\n",
            "loss 0.9990323781967163 average time 0.007005846200005787 iter num 60\n",
            "loss 1.0093438625335693 average time 0.006309729224989269 iter num 80\n",
            "loss 0.2515883445739746 average time 0.005883922459988753 iter num 100\n",
            "loss 1.3558839559555054 average time 0.012628172899985657 iter num 20\n",
            "loss 0.7908688187599182 average time 0.008335372450051181 iter num 40\n",
            "loss 1.002398133277893 average time 0.006905183716708052 iter num 60\n",
            "loss 0.34762024879455566 average time 0.006199165425027786 iter num 80\n",
            "loss 0.27179914712905884 average time 0.005792582030021549 iter num 100\n",
            "loss 0.5214533805847168 average time 0.012779232299953947 iter num 20\n",
            "loss 0.3037267327308655 average time 0.008439715874965259 iter num 40\n",
            "loss 0.4714139699935913 average time 0.00697858578330397 iter num 60\n",
            "loss 0.5773871541023254 average time 0.006245293062499968 iter num 80\n",
            "loss 0.600542426109314 average time 0.00580577643000197 iter num 100\n",
            "loss 0.49854475259780884 average time 0.013173599949982417 iter num 20\n",
            "loss 0.49273377656936646 average time 0.008621389524967072 iter num 40\n",
            "loss 0.3032359480857849 average time 0.0071068843999910316 iter num 60\n",
            "loss 0.8161046504974365 average time 0.0063514468499818125 iter num 80\n",
            "loss 0.19267983734607697 average time 0.005921230799976911 iter num 100\n",
            "loss 0.5000956654548645 average time 0.0133797937999816 iter num 20\n",
            "loss 0.7416348457336426 average time 0.008731954924974162 iter num 40\n",
            "loss 0.13996782898902893 average time 0.0071869491500062095 iter num 60\n",
            "loss 1.0917255878448486 average time 0.006408162362515668 iter num 80\n",
            "loss 0.5034505128860474 average time 0.005963343669995993 iter num 100\n",
            "loss 0.512039303779602 average time 0.0125680023500081 iter num 20\n",
            "loss 0.9069965481758118 average time 0.008313642099994922 iter num 40\n",
            "loss 0.7296794652938843 average time 0.006903107900006944 iter num 60\n",
            "loss 0.6411126255989075 average time 0.006193107262510012 iter num 80\n",
            "loss 0.613074541091919 average time 0.005775492460002169 iter num 100\n",
            "loss 1.727220892906189 average time 0.012857401499991284 iter num 20\n",
            "loss 0.7138330936431885 average time 0.008504705625000497 iter num 40\n",
            "loss 0.3704864978790283 average time 0.007045488733327451 iter num 60\n",
            "loss 0.5910041332244873 average time 0.006322126549986251 iter num 80\n",
            "loss 0.43475526571273804 average time 0.005878044739974939 iter num 100\n",
            "loss 7.1828742027282715 average time 0.012761551149947082 iter num 20\n",
            "loss 0.32400327920913696 average time 0.008445496299987098 iter num 40\n",
            "loss 0.4413895606994629 average time 0.007103243549984957 iter num 60\n",
            "loss 0.28094345331192017 average time 0.006351021662476341 iter num 80\n",
            "loss 0.27037346363067627 average time 0.005908320139988064 iter num 100\n",
            "loss 0.5777227878570557 average time 0.012705602500022905 iter num 20\n",
            "loss 0.6965339779853821 average time 0.008476294675017471 iter num 40\n",
            "loss 0.466839075088501 average time 0.0069962850166651455 iter num 60\n",
            "loss 0.3553367853164673 average time 0.006279749224995612 iter num 80\n",
            "loss 0.4263823628425598 average time 0.005851846329987893 iter num 100\n",
            "loss 0.6510369181632996 average time 0.01274986394998905 iter num 20\n",
            "loss 0.6818206310272217 average time 0.008538194075003957 iter num 40\n",
            "loss 0.8530421257019043 average time 0.007110290716673262 iter num 60\n",
            "loss 0.18368259072303772 average time 0.006341512687504292 iter num 80\n",
            "loss 0.4493412673473358 average time 0.005890334760015321 iter num 100\n",
            "loss 2.403111457824707 average time 0.01265875380001944 iter num 20\n",
            "loss 0.41933780908584595 average time 0.008397569300007035 iter num 40\n",
            "loss 0.37693917751312256 average time 0.006978160433315376 iter num 60\n",
            "loss 0.4300526976585388 average time 0.006240359749978097 iter num 80\n",
            "loss 0.44073486328125 average time 0.005832245879987568 iter num 100\n",
            "loss 1.7890491485595703 average time 0.012864642700014884 iter num 20\n",
            "loss 1.3176743984222412 average time 0.008560580275025131 iter num 40\n",
            "loss 0.569875180721283 average time 0.007062200583345657 iter num 60\n",
            "loss 0.23152334988117218 average time 0.006318194337495697 iter num 80\n",
            "loss 0.43484365940093994 average time 0.00587221873000999 iter num 100\n",
            "loss 0.7430920600891113 average time 0.012664772350035491 iter num 20\n",
            "loss 4.982685089111328 average time 0.008388641450017076 iter num 40\n",
            "loss 0.6795904636383057 average time 0.00696843153334612 iter num 60\n",
            "loss 0.41412943601608276 average time 0.00624788998750887 iter num 80\n",
            "loss 0.344612181186676 average time 0.005837979710013315 iter num 100\n",
            "loss 0.6718974709510803 average time 0.012756701850048558 iter num 20\n",
            "loss 0.5109341144561768 average time 0.008435385975042209 iter num 40\n",
            "loss 0.3814263343811035 average time 0.006994729250034955 iter num 60\n",
            "loss 0.1492556482553482 average time 0.00627388078754052 iter num 80\n",
            "loss 0.49511170387268066 average time 0.005868856410020271 iter num 100\n",
            "loss 1.6099694967269897 average time 0.01311551195001357 iter num 20\n",
            "loss 2.4578187465667725 average time 0.008594768900013604 iter num 40\n",
            "loss 1.1776931285858154 average time 0.007092697516698839 iter num 60\n",
            "loss 0.34982195496559143 average time 0.0063306135374944 iter num 80\n",
            "loss 0.3665107786655426 average time 0.005876247919982234 iter num 100\n",
            "loss 8.554079055786133 average time 0.012971919699975843 iter num 20\n",
            "loss 1.6320700645446777 average time 0.008520017325008667 iter num 40\n",
            "loss 1.0493770837783813 average time 0.0071127435499874995 iter num 60\n",
            "loss 0.3678112030029297 average time 0.0063745560624795415 iter num 80\n",
            "loss 0.45723235607147217 average time 0.005934998109992194 iter num 100\n",
            "loss 1.611746072769165 average time 0.012916602799987232 iter num 20\n",
            "loss 0.1471373587846756 average time 0.008542941275004523 iter num 40\n",
            "loss 0.9621773958206177 average time 0.007056917150005878 iter num 60\n",
            "loss 0.2729319632053375 average time 0.0063097543125081755 iter num 80\n",
            "loss 0.32999151945114136 average time 0.005873594250010683 iter num 100\n",
            "loss 0.3916686177253723 average time 0.01296117750000576 iter num 20\n",
            "loss 0.21816687285900116 average time 0.00876684690001639 iter num 40\n",
            "loss 0.3198850750923157 average time 0.007283353216674489 iter num 60\n",
            "loss 0.4217565953731537 average time 0.006469286075025593 iter num 80\n",
            "loss 0.48611339926719666 average time 0.006031436600023881 iter num 100\n",
            "loss 1.1065661907196045 average time 0.012927783800000725 iter num 20\n",
            "loss 0.2632052004337311 average time 0.008541952099983518 iter num 40\n",
            "loss 0.3729768693447113 average time 0.007047968966662666 iter num 60\n",
            "loss 0.44637009501457214 average time 0.006299313250019622 iter num 80\n",
            "loss 0.29582321643829346 average time 0.0058481612000196035 iter num 100\n",
            "loss 0.4361509084701538 average time 0.012775403350019587 iter num 20\n",
            "loss 0.3091816306114197 average time 0.008416194325047855 iter num 40\n",
            "loss 0.16303952038288116 average time 0.006970249733384056 iter num 60\n",
            "loss 0.18410009145736694 average time 0.006263610212539561 iter num 80\n",
            "loss 0.24743247032165527 average time 0.005817040670021925 iter num 100\n",
            "loss 0.504949688911438 average time 0.01299139449993163 iter num 20\n",
            "loss 0.24541765451431274 average time 0.008543220774936345 iter num 40\n",
            "loss 0.36652669310569763 average time 0.0071023227332489116 iter num 60\n",
            "loss 0.24620839953422546 average time 0.006336748449916741 iter num 80\n",
            "loss 0.43777137994766235 average time 0.0058788084699381215 iter num 100\n",
            "loss 0.3237794041633606 average time 0.012606391050030651 iter num 20\n",
            "loss 0.8116617202758789 average time 0.00833145882502322 iter num 40\n",
            "loss 0.3492776155471802 average time 0.00691027403336193 iter num 60\n",
            "loss 0.3040449023246765 average time 0.006218856237518366 iter num 80\n",
            "loss 0.22942569851875305 average time 0.005796717029998035 iter num 100\n",
            "loss 1.4815342426300049 average time 0.01269643404996259 iter num 20\n",
            "loss 3.3770172595977783 average time 0.008389491574962448 iter num 40\n",
            "loss 0.35451340675354004 average time 0.0069485979832885885 iter num 60\n",
            "loss 0.27684128284454346 average time 0.006286211499957517 iter num 80\n",
            "loss 0.2258048951625824 average time 0.005844089059978614 iter num 100\n",
            "loss 1.3387727737426758 average time 0.012869398749990069 iter num 20\n",
            "loss 2.0472168922424316 average time 0.008484169475002546 iter num 40\n",
            "loss 0.35338810086250305 average time 0.0070200233666658585 iter num 60\n",
            "loss 0.17425978183746338 average time 0.006281105549993527 iter num 80\n",
            "loss 0.10983426123857498 average time 0.0058721013500053236 iter num 100\n",
            "loss 1.201115369796753 average time 0.012601743200002602 iter num 20\n",
            "loss 4.371179103851318 average time 0.008342239750038515 iter num 40\n",
            "loss 0.8171993494033813 average time 0.0070725273667070114 iter num 60\n",
            "loss 0.19663375616073608 average time 0.006336749537535979 iter num 80\n",
            "loss 0.47730395197868347 average time 0.005876060080026946 iter num 100\n",
            "loss 0.41501396894454956 average time 0.013032593200023257 iter num 20\n",
            "loss 0.8438882231712341 average time 0.00860200755000733 iter num 40\n",
            "loss 0.8004457950592041 average time 0.007072357016674384 iter num 60\n",
            "loss 0.36191460490226746 average time 0.006348159862506008 iter num 80\n",
            "loss 0.5169721245765686 average time 0.005905978839991804 iter num 100\n",
            "loss 1.1918785572052002 average time 0.013846076100048777 iter num 20\n",
            "loss 0.6053979396820068 average time 0.008951527625026757 iter num 40\n",
            "loss 0.8072802424430847 average time 0.007318830366701453 iter num 60\n",
            "loss 0.184864342212677 average time 0.006550022350012341 iter num 80\n",
            "loss 0.34352701902389526 average time 0.006096183140016365 iter num 100\n",
            "loss 1.0440754890441895 average time 0.013020620600036637 iter num 20\n",
            "loss 0.48432987928390503 average time 0.008565946800035817 iter num 40\n",
            "loss 0.3464214503765106 average time 0.007081630750023275 iter num 60\n",
            "loss 0.2720199227333069 average time 0.006322979500009751 iter num 80\n",
            "loss 0.3956637382507324 average time 0.005863785030001054 iter num 100\n",
            "loss 0.731220006942749 average time 0.012547374599921567 iter num 20\n",
            "loss 0.5439201593399048 average time 0.008355095449951477 iter num 40\n",
            "loss 0.28926002979278564 average time 0.006963033299977421 iter num 60\n",
            "loss 0.3352596163749695 average time 0.006282709575003764 iter num 80\n",
            "loss 0.3905043601989746 average time 0.0058439746699968965 iter num 100\n",
            "loss 0.7181827425956726 average time 0.013052754849991289 iter num 20\n",
            "loss 0.4515908360481262 average time 0.008560318274987821 iter num 40\n",
            "loss 1.3132998943328857 average time 0.0071674178166479885 iter num 60\n",
            "loss 0.3092418611049652 average time 0.006414106149969711 iter num 80\n",
            "loss 0.14587295055389404 average time 0.005973197559978871 iter num 100\n",
            "loss 1.1368087530136108 average time 0.01287117159997706 iter num 20\n",
            "loss 0.2128046452999115 average time 0.008417501399958383 iter num 40\n",
            "loss 0.3492710292339325 average time 0.0069137818999782516 iter num 60\n",
            "loss 0.3705407679080963 average time 0.006228848599982939 iter num 80\n",
            "loss 0.19874170422554016 average time 0.005810170019994985 iter num 100\n",
            "loss 0.6041591763496399 average time 0.012827357899936942 iter num 20\n",
            "loss 0.9819360971450806 average time 0.008532479899940881 iter num 40\n",
            "loss 0.9010796546936035 average time 0.007070512199963256 iter num 60\n",
            "loss 0.3356803357601166 average time 0.006317588924963502 iter num 80\n",
            "loss 0.6874573826789856 average time 0.0058612462499786485 iter num 100\n",
            "loss 3.9991164207458496 average time 0.012970671299945025 iter num 20\n",
            "loss 8.517335891723633 average time 0.00852448747496055 iter num 40\n",
            "loss 1.0938570499420166 average time 0.00708878709997407 iter num 60\n",
            "loss 0.4215530753135681 average time 0.006322722562487115 iter num 80\n",
            "loss 0.2792665660381317 average time 0.005881004100006066 iter num 100\n",
            "loss 1.138660192489624 average time 0.012615335350028544 iter num 20\n",
            "loss 0.903984546661377 average time 0.008361900949967093 iter num 40\n"
          ],
          "name": "stdout"
        },
        {
          "output_type": "stream",
          "text": [
            "Engine run is terminating due to exception: \n"
          ],
          "name": "stderr"
        },
        {
          "output_type": "error",
          "ename": "KeyboardInterrupt",
          "evalue": "ignored",
          "traceback": [
            "\u001b[0;31m---------------------------------------------------------------------------\u001b[0m",
            "\u001b[0;31mKeyboardInterrupt\u001b[0m                         Traceback (most recent call last)",
            "\u001b[0;32m<ipython-input-37-27fbbd2f89bb>\u001b[0m in \u001b[0;36m<module>\u001b[0;34m()\u001b[0m\n\u001b[1;32m     41\u001b[0m         \u001b[0mprint\u001b[0m\u001b[0;34m(\u001b[0m\u001b[0;34m'loss'\u001b[0m\u001b[0;34m,\u001b[0m \u001b[0mengine\u001b[0m\u001b[0;34m.\u001b[0m\u001b[0mstate\u001b[0m\u001b[0;34m.\u001b[0m\u001b[0moutput\u001b[0m\u001b[0;34m,\u001b[0m \u001b[0;34m'average time'\u001b[0m\u001b[0;34m,\u001b[0m \u001b[0mtimer\u001b[0m\u001b[0;34m.\u001b[0m\u001b[0mvalue\u001b[0m\u001b[0;34m(\u001b[0m\u001b[0;34m)\u001b[0m\u001b[0;34m,\u001b[0m \u001b[0;34m'iter num'\u001b[0m\u001b[0;34m,\u001b[0m \u001b[0miter\u001b[0m\u001b[0;34m)\u001b[0m\u001b[0;34m\u001b[0m\u001b[0;34m\u001b[0m\u001b[0m\n\u001b[1;32m     42\u001b[0m \u001b[0;34m\u001b[0m\u001b[0m\n\u001b[0;32m---> 43\u001b[0;31m \u001b[0mtrainer\u001b[0m\u001b[0;34m.\u001b[0m\u001b[0mrun\u001b[0m\u001b[0;34m(\u001b[0m\u001b[0mdataset\u001b[0m\u001b[0;34m,\u001b[0m \u001b[0mmax_epochs\u001b[0m\u001b[0;34m=\u001b[0m\u001b[0;36m300\u001b[0m\u001b[0;34m)\u001b[0m\u001b[0;34m\u001b[0m\u001b[0;34m\u001b[0m\u001b[0m\n\u001b[0m",
            "\u001b[0;32m/usr/local/lib/python3.7/dist-packages/ignite/engine/engine.py\u001b[0m in \u001b[0;36mrun\u001b[0;34m(self, data, max_epochs, epoch_length, seed)\u001b[0m\n\u001b[1;32m    699\u001b[0m \u001b[0;34m\u001b[0m\u001b[0m\n\u001b[1;32m    700\u001b[0m         \u001b[0mself\u001b[0m\u001b[0;34m.\u001b[0m\u001b[0mstate\u001b[0m\u001b[0;34m.\u001b[0m\u001b[0mdataloader\u001b[0m \u001b[0;34m=\u001b[0m \u001b[0mdata\u001b[0m\u001b[0;34m\u001b[0m\u001b[0;34m\u001b[0m\u001b[0m\n\u001b[0;32m--> 701\u001b[0;31m         \u001b[0;32mreturn\u001b[0m \u001b[0mself\u001b[0m\u001b[0;34m.\u001b[0m\u001b[0m_internal_run\u001b[0m\u001b[0;34m(\u001b[0m\u001b[0;34m)\u001b[0m\u001b[0;34m\u001b[0m\u001b[0;34m\u001b[0m\u001b[0m\n\u001b[0m\u001b[1;32m    702\u001b[0m \u001b[0;34m\u001b[0m\u001b[0m\n\u001b[1;32m    703\u001b[0m     \u001b[0;34m@\u001b[0m\u001b[0mstaticmethod\u001b[0m\u001b[0;34m\u001b[0m\u001b[0;34m\u001b[0m\u001b[0m\n",
            "\u001b[0;32m/usr/local/lib/python3.7/dist-packages/ignite/engine/engine.py\u001b[0m in \u001b[0;36m_internal_run\u001b[0;34m(self)\u001b[0m\n\u001b[1;32m    772\u001b[0m             \u001b[0mself\u001b[0m\u001b[0;34m.\u001b[0m\u001b[0m_dataloader_iter\u001b[0m \u001b[0;34m=\u001b[0m \u001b[0;32mNone\u001b[0m\u001b[0;34m\u001b[0m\u001b[0;34m\u001b[0m\u001b[0m\n\u001b[1;32m    773\u001b[0m             \u001b[0mself\u001b[0m\u001b[0;34m.\u001b[0m\u001b[0mlogger\u001b[0m\u001b[0;34m.\u001b[0m\u001b[0merror\u001b[0m\u001b[0;34m(\u001b[0m\u001b[0;34mf\"Engine run is terminating due to exception: {e}\"\u001b[0m\u001b[0;34m)\u001b[0m\u001b[0;34m\u001b[0m\u001b[0;34m\u001b[0m\u001b[0m\n\u001b[0;32m--> 774\u001b[0;31m             \u001b[0mself\u001b[0m\u001b[0;34m.\u001b[0m\u001b[0m_handle_exception\u001b[0m\u001b[0;34m(\u001b[0m\u001b[0me\u001b[0m\u001b[0;34m)\u001b[0m\u001b[0;34m\u001b[0m\u001b[0;34m\u001b[0m\u001b[0m\n\u001b[0m\u001b[1;32m    775\u001b[0m \u001b[0;34m\u001b[0m\u001b[0m\n\u001b[1;32m    776\u001b[0m         \u001b[0mself\u001b[0m\u001b[0;34m.\u001b[0m\u001b[0m_dataloader_iter\u001b[0m \u001b[0;34m=\u001b[0m \u001b[0;32mNone\u001b[0m\u001b[0;34m\u001b[0m\u001b[0;34m\u001b[0m\u001b[0m\n",
            "\u001b[0;32m/usr/local/lib/python3.7/dist-packages/ignite/engine/engine.py\u001b[0m in \u001b[0;36m_handle_exception\u001b[0;34m(self, e)\u001b[0m\n\u001b[1;32m    467\u001b[0m             \u001b[0mself\u001b[0m\u001b[0;34m.\u001b[0m\u001b[0m_fire_event\u001b[0m\u001b[0;34m(\u001b[0m\u001b[0mEvents\u001b[0m\u001b[0;34m.\u001b[0m\u001b[0mEXCEPTION_RAISED\u001b[0m\u001b[0;34m,\u001b[0m \u001b[0me\u001b[0m\u001b[0;34m)\u001b[0m\u001b[0;34m\u001b[0m\u001b[0;34m\u001b[0m\u001b[0m\n\u001b[1;32m    468\u001b[0m         \u001b[0;32melse\u001b[0m\u001b[0;34m:\u001b[0m\u001b[0;34m\u001b[0m\u001b[0;34m\u001b[0m\u001b[0m\n\u001b[0;32m--> 469\u001b[0;31m             \u001b[0;32mraise\u001b[0m \u001b[0me\u001b[0m\u001b[0;34m\u001b[0m\u001b[0;34m\u001b[0m\u001b[0m\n\u001b[0m\u001b[1;32m    470\u001b[0m \u001b[0;34m\u001b[0m\u001b[0m\n\u001b[1;32m    471\u001b[0m     \u001b[0;34m@\u001b[0m\u001b[0mproperty\u001b[0m\u001b[0;34m\u001b[0m\u001b[0;34m\u001b[0m\u001b[0m\n",
            "\u001b[0;32m/usr/local/lib/python3.7/dist-packages/ignite/engine/engine.py\u001b[0m in \u001b[0;36m_internal_run\u001b[0;34m(self)\u001b[0m\n\u001b[1;32m    742\u001b[0m                     \u001b[0mself\u001b[0m\u001b[0;34m.\u001b[0m\u001b[0m_setup_engine\u001b[0m\u001b[0;34m(\u001b[0m\u001b[0;34m)\u001b[0m\u001b[0;34m\u001b[0m\u001b[0;34m\u001b[0m\u001b[0m\n\u001b[1;32m    743\u001b[0m \u001b[0;34m\u001b[0m\u001b[0m\n\u001b[0;32m--> 744\u001b[0;31m                 \u001b[0mtime_taken\u001b[0m \u001b[0;34m=\u001b[0m \u001b[0mself\u001b[0m\u001b[0;34m.\u001b[0m\u001b[0m_run_once_on_dataset\u001b[0m\u001b[0;34m(\u001b[0m\u001b[0;34m)\u001b[0m\u001b[0;34m\u001b[0m\u001b[0;34m\u001b[0m\u001b[0m\n\u001b[0m\u001b[1;32m    745\u001b[0m                 \u001b[0;31m# time is available for handlers but must be update after fire\u001b[0m\u001b[0;34m\u001b[0m\u001b[0;34m\u001b[0m\u001b[0;34m\u001b[0m\u001b[0m\n\u001b[1;32m    746\u001b[0m                 \u001b[0mself\u001b[0m\u001b[0;34m.\u001b[0m\u001b[0mstate\u001b[0m\u001b[0;34m.\u001b[0m\u001b[0mtimes\u001b[0m\u001b[0;34m[\u001b[0m\u001b[0mEvents\u001b[0m\u001b[0;34m.\u001b[0m\u001b[0mEPOCH_COMPLETED\u001b[0m\u001b[0;34m.\u001b[0m\u001b[0mname\u001b[0m\u001b[0;34m]\u001b[0m \u001b[0;34m=\u001b[0m \u001b[0mtime_taken\u001b[0m\u001b[0;34m\u001b[0m\u001b[0;34m\u001b[0m\u001b[0m\n",
            "\u001b[0;32m/usr/local/lib/python3.7/dist-packages/ignite/engine/engine.py\u001b[0m in \u001b[0;36m_run_once_on_dataset\u001b[0;34m(self)\u001b[0m\n\u001b[1;32m    799\u001b[0m                     \u001b[0;32mif\u001b[0m \u001b[0mself\u001b[0m\u001b[0;34m.\u001b[0m\u001b[0mlast_event_name\u001b[0m \u001b[0;34m!=\u001b[0m \u001b[0mEvents\u001b[0m\u001b[0;34m.\u001b[0m\u001b[0mDATALOADER_STOP_ITERATION\u001b[0m\u001b[0;34m:\u001b[0m\u001b[0;34m\u001b[0m\u001b[0;34m\u001b[0m\u001b[0m\n\u001b[1;32m    800\u001b[0m                         \u001b[0mself\u001b[0m\u001b[0;34m.\u001b[0m\u001b[0m_fire_event\u001b[0m\u001b[0;34m(\u001b[0m\u001b[0mEvents\u001b[0m\u001b[0;34m.\u001b[0m\u001b[0mGET_BATCH_STARTED\u001b[0m\u001b[0;34m)\u001b[0m\u001b[0;34m\u001b[0m\u001b[0;34m\u001b[0m\u001b[0m\n\u001b[0;32m--> 801\u001b[0;31m                     \u001b[0mself\u001b[0m\u001b[0;34m.\u001b[0m\u001b[0mstate\u001b[0m\u001b[0;34m.\u001b[0m\u001b[0mbatch\u001b[0m \u001b[0;34m=\u001b[0m \u001b[0mnext\u001b[0m\u001b[0;34m(\u001b[0m\u001b[0mself\u001b[0m\u001b[0;34m.\u001b[0m\u001b[0m_dataloader_iter\u001b[0m\u001b[0;34m)\u001b[0m\u001b[0;34m\u001b[0m\u001b[0;34m\u001b[0m\u001b[0m\n\u001b[0m\u001b[1;32m    802\u001b[0m                     \u001b[0mself\u001b[0m\u001b[0;34m.\u001b[0m\u001b[0m_fire_event\u001b[0m\u001b[0;34m(\u001b[0m\u001b[0mEvents\u001b[0m\u001b[0;34m.\u001b[0m\u001b[0mGET_BATCH_COMPLETED\u001b[0m\u001b[0;34m)\u001b[0m\u001b[0;34m\u001b[0m\u001b[0;34m\u001b[0m\u001b[0m\n\u001b[1;32m    803\u001b[0m                     \u001b[0miter_counter\u001b[0m \u001b[0;34m+=\u001b[0m \u001b[0;36m1\u001b[0m\u001b[0;34m\u001b[0m\u001b[0;34m\u001b[0m\u001b[0m\n",
            "\u001b[0;32m/content/cupy_dataset.py\u001b[0m in \u001b[0;36m__next__\u001b[0;34m(self)\u001b[0m\n\u001b[1;32m    113\u001b[0m \u001b[0;34m\u001b[0m\u001b[0m\n\u001b[1;32m    114\u001b[0m           \u001b[0mo\u001b[0m \u001b[0;34m=\u001b[0m \u001b[0mself\u001b[0m\u001b[0;34m.\u001b[0m\u001b[0moutput\u001b[0m\u001b[0;34m.\u001b[0m\u001b[0mreshape\u001b[0m\u001b[0;34m(\u001b[0m\u001b[0mself\u001b[0m\u001b[0;34m.\u001b[0m\u001b[0mN_STOCKS\u001b[0m\u001b[0;34m,\u001b[0m \u001b[0mself\u001b[0m\u001b[0;34m.\u001b[0m\u001b[0mN_PATHS\u001b[0m\u001b[0;34m)\u001b[0m\u001b[0;34m\u001b[0m\u001b[0;34m\u001b[0m\u001b[0m\n\u001b[0;32m--> 115\u001b[0;31m           \u001b[0mY\u001b[0m\u001b[0;34m[\u001b[0m\u001b[0mop\u001b[0m\u001b[0;34m]\u001b[0m \u001b[0;34m=\u001b[0m \u001b[0mo\u001b[0m\u001b[0;34m.\u001b[0m\u001b[0mmean\u001b[0m\u001b[0;34m(\u001b[0m\u001b[0maxis\u001b[0m \u001b[0;34m=\u001b[0m \u001b[0;36m0\u001b[0m\u001b[0;34m)\u001b[0m\u001b[0;34m.\u001b[0m\u001b[0mmean\u001b[0m\u001b[0;34m(\u001b[0m\u001b[0;34m)\u001b[0m\u001b[0;34m\u001b[0m\u001b[0;34m\u001b[0m\u001b[0m\n\u001b[0m\u001b[1;32m    116\u001b[0m \u001b[0;34m\u001b[0m\u001b[0m\n\u001b[1;32m    117\u001b[0m         \u001b[0mself\u001b[0m\u001b[0;34m.\u001b[0m\u001b[0mnum\u001b[0m \u001b[0;34m+=\u001b[0m \u001b[0;36m1\u001b[0m\u001b[0;34m\u001b[0m\u001b[0;34m\u001b[0m\u001b[0m\n",
            "\u001b[0;31mKeyboardInterrupt\u001b[0m: "
          ]
        }
      ]
    },
    {
      "cell_type": "markdown",
      "metadata": {
        "id": "vU1EpGuInwjJ"
      },
      "source": [
        "$2365$ seconds The loss is keeping decreasing which means the pricing model can predict the option prices better. It takes about $12ms$ to compute one mini-batch in average, In the following sections, we will try to expore the full potentials of the GPU to accelerate the training."
      ]
    },
    {
      "cell_type": "markdown",
      "metadata": {
        "id": "A8McNtejRNFT"
      },
      "source": [
        "**Save Model**"
      ]
    },
    {
      "cell_type": "code",
      "metadata": {
        "id": "YRtOr1XIPOvF",
        "colab": {
          "base_uri": "https://localhost:8080/"
        },
        "outputId": "ad677575-deff-4023-9a35-b5dbb6f6540f"
      },
      "source": [
        "from google.colab import drive\n",
        "drive.mount('/content/drive')"
      ],
      "execution_count": 38,
      "outputs": [
        {
          "output_type": "stream",
          "text": [
            "Drive already mounted at /content/drive; to attempt to forcibly remount, call drive.mount(\"/content/drive\", force_remount=True).\n"
          ],
          "name": "stdout"
        }
      ]
    },
    {
      "cell_type": "code",
      "metadata": {
        "id": "9UWrNr_-pa2G"
      },
      "source": [
        "import torch"
      ],
      "execution_count": 24,
      "outputs": []
    },
    {
      "cell_type": "code",
      "metadata": {
        "id": "ndftly2yPEaM"
      },
      "source": [
        "model_save_name = 'checkpoint16.pth'\n",
        "path = F\"/content/drive/MyDrive/AFP Project/Lilian/{model_save_name}\" \n",
        "torch.save(model.state_dict(), path)"
      ],
      "execution_count": 39,
      "outputs": []
    },
    {
      "cell_type": "markdown",
      "metadata": {
        "id": "y6DRO9K2RQoJ"
      },
      "source": [
        "**Load Model**"
      ]
    },
    {
      "cell_type": "code",
      "metadata": {
        "id": "HGXZSV_YRT8v",
        "colab": {
          "base_uri": "https://localhost:8080/"
        },
        "outputId": "0dca9a5b-375f-4fa5-f52a-21750a6f0b5d"
      },
      "source": [
        "from google.colab import drive\n",
        "drive.mount('/content/drive')"
      ],
      "execution_count": 40,
      "outputs": [
        {
          "output_type": "stream",
          "text": [
            "Drive already mounted at /content/drive; to attempt to forcibly remount, call drive.mount(\"/content/drive\", force_remount=True).\n"
          ],
          "name": "stdout"
        }
      ]
    },
    {
      "cell_type": "code",
      "metadata": {
        "id": "3ntY-N5bOqdq",
        "colab": {
          "base_uri": "https://localhost:8080/"
        },
        "outputId": "0eed5919-7d83-4a86-fc84-8d85012bee57"
      },
      "source": [
        "import torch\n",
        "model_save_name = 'checkpoint16.pth'\n",
        "path = F\"/content/drive/MyDrive/AFP Project/Lilian/{model_save_name}\" \n",
        "#checkpoint15.pth\n",
        "#path = F\"/content/drive/MyDrive/AFP Project/Lilian/checkpoint15.pth\" \n",
        "state_dict = torch.load(path)\n",
        "print(state_dict.keys())"
      ],
      "execution_count": 41,
      "outputs": [
        {
          "output_type": "stream",
          "text": [
            "odict_keys(['norm', 'fc1.weight', 'fc1.bias', 'fc2.weight', 'fc2.bias', 'fc3.weight', 'fc3.bias', 'fc4.weight', 'fc4.bias', 'fc5.weight', 'fc5.bias', 'fc6.weight', 'fc6.bias'])\n"
          ],
          "name": "stdout"
        }
      ]
    },
    {
      "cell_type": "code",
      "metadata": {
        "id": "j0GAGPAgPmgh",
        "colab": {
          "base_uri": "https://localhost:8080/"
        },
        "outputId": "93ba5781-88c3-4938-db95-86b2910125fb"
      },
      "source": [
        "# need to run 'Writing cupy_dataset.py' and 'Writing model.py' above before this\n",
        "from model import Net\n",
        "model = Net().cuda()\n",
        "\n",
        "model.load_state_dict(state_dict)\n",
        "print(model)"
      ],
      "execution_count": 42,
      "outputs": [
        {
          "output_type": "stream",
          "text": [
            "Net(\n",
            "  (fc1): Linear(in_features=6, out_features=1024, bias=True)\n",
            "  (fc2): Linear(in_features=1024, out_features=1024, bias=True)\n",
            "  (fc3): Linear(in_features=1024, out_features=1024, bias=True)\n",
            "  (fc4): Linear(in_features=1024, out_features=1024, bias=True)\n",
            "  (fc5): Linear(in_features=1024, out_features=1024, bias=True)\n",
            "  (fc6): Linear(in_features=1024, out_features=1, bias=True)\n",
            ")\n"
          ],
          "name": "stdout"
        }
      ]
    },
    {
      "cell_type": "markdown",
      "metadata": {
        "id": "rXT4Bg0wdL7l"
      },
      "source": [
        "**Continue to train model**"
      ]
    },
    {
      "cell_type": "code",
      "metadata": {
        "id": "Zfa9cp6CdG8T",
        "colab": {
          "base_uri": "https://localhost:8080/"
        },
        "outputId": "c84f281d-5cb1-4192-998b-9898f2e7ee98"
      },
      "source": [
        "from ignite.engine import Engine, Events\n",
        "from ignite.handlers import Timer\n",
        "from torch.nn import MSELoss\n",
        "from torch.optim import Adam\n",
        "from ignite.contrib.handlers.param_scheduler import CosineAnnealingScheduler\n",
        "from ignite.handlers import ModelCheckpoint\n",
        "from model import Net\n",
        "from cupy_dataset import NumbaOptionDataSet\n",
        "timer = Timer(average=True)\n",
        "#model = Net().cuda()\n",
        "loss_fn = MSELoss()\n",
        "optimizer = Adam(model.parameters(), lr=1e-3)\n",
        "# dataset = NumbaOptionDataSet(max_len=10000, number_path = 1024, batch=4800)\n",
        "dataset = NumbaOptionDataSet(max_len=500, number_path = 1024, batch=32, stocks=1)\n",
        "\n",
        "def train_update(engine, batch):\n",
        "    model.train()\n",
        "    optimizer.zero_grad()\n",
        "    x = batch[0]\n",
        "    y = batch[1]\n",
        "    y_pred = model(x)\n",
        "    loss = loss_fn(y_pred[:,0], y)\n",
        "    loss.backward()\n",
        "    optimizer.step()\n",
        "    return loss.item()\n",
        "\n",
        "trainer = Engine(train_update)\n",
        "log_interval = 20\n",
        "\n",
        "scheduler = CosineAnnealingScheduler(optimizer, 'lr', 1e-4, 1e-6, len(dataset))\n",
        "trainer.add_event_handler(Events.ITERATION_STARTED, scheduler)\n",
        "timer.attach(trainer,\n",
        "             start=Events.EPOCH_STARTED,\n",
        "             resume=Events.ITERATION_STARTED,\n",
        "             pause=Events.ITERATION_COMPLETED,\n",
        "             step=Events.ITERATION_COMPLETED)    \n",
        "@trainer.on(Events.ITERATION_COMPLETED)\n",
        "def log_training_loss(engine):\n",
        "    iter = (engine.state.iteration - 1) % len(dataset) + 1\n",
        "    if iter % log_interval == 0:\n",
        "        print('loss', engine.state.output, 'average time', timer.value(), 'iter num', iter)\n",
        "        \n",
        "trainer.run(dataset, max_epochs=300)\n",
        "\n",
        "model_save_name = 'checkpoint16.pth'\n",
        "path = F\"/content/drive/MyDrive/AFP Project/Lilian/{model_save_name}\" \n",
        "torch.save(model.state_dict(), path)"
      ],
      "execution_count": 50,
      "outputs": [
        {
          "output_type": "stream",
          "text": [
            "loss 7.214704513549805 average time 0.015507421699976476 iter num 20\n",
            "loss 1.0778486728668213 average time 0.009840025049993529 iter num 40\n",
            "loss 0.37314093112945557 average time 0.007902153366671882 iter num 60\n",
            "loss 0.306063711643219 average time 0.006950461224994342 iter num 80\n",
            "loss 0.3060457706451416 average time 0.0063979668899946775 iter num 100\n",
            "loss 0.19354447722434998 average time 0.0060052794833268305 iter num 120\n",
            "loss 0.19129589200019836 average time 0.00572158151428539 iter num 140\n",
            "loss 0.1863013505935669 average time 0.005510465581252788 iter num 160\n",
            "loss 0.15241162478923798 average time 0.0053492253166647664 iter num 180\n",
            "loss 0.2375759482383728 average time 0.005228159155005869 iter num 200\n",
            "loss 0.3298381268978119 average time 0.005123763645457819 iter num 220\n",
            "loss 0.41137880086898804 average time 0.005033318275000435 iter num 240\n",
            "loss 0.14944978058338165 average time 0.0049600181653834 iter num 260\n",
            "loss 0.15932652354240417 average time 0.004895639089293777 iter num 280\n",
            "loss 0.15333381295204163 average time 0.004875555453343926 iter num 300\n",
            "loss 0.16098552942276 average time 0.0048263316875065245 iter num 320\n",
            "loss 0.5444318652153015 average time 0.004787780032357017 iter num 340\n",
            "loss 0.5010879039764404 average time 0.0047464697777829514 iter num 360\n",
            "loss 0.14413729310035706 average time 0.004712920626323131 iter num 380\n",
            "loss 0.3566768765449524 average time 0.004680095072507129 iter num 400\n",
            "loss 0.21139375865459442 average time 0.004650004123816741 iter num 420\n",
            "loss 0.25093874335289 average time 0.004626371618193885 iter num 440\n",
            "loss 0.08496526628732681 average time 0.004600666567399537 iter num 460\n",
            "loss 0.17688263952732086 average time 0.004581544022923367 iter num 480\n",
            "loss 0.13023924827575684 average time 0.0045605451880055626 iter num 500\n",
            "loss 0.4371236264705658 average time 0.012819691349932327 iter num 20\n",
            "loss 0.5790501236915588 average time 0.0084783915249659 iter num 40\n",
            "loss 0.24858808517456055 average time 0.007002534333287258 iter num 60\n",
            "loss 0.30499327182769775 average time 0.006261606987459345 iter num 80\n",
            "loss 0.30719542503356934 average time 0.0058210221699664545 iter num 100\n",
            "loss 0.4809126555919647 average time 0.005534481991651319 iter num 120\n",
            "loss 0.549069881439209 average time 0.005322743314283279 iter num 140\n",
            "loss 0.3416160047054291 average time 0.005174246981246711 iter num 160\n",
            "loss 0.3294905424118042 average time 0.0050686930222228616 iter num 180\n",
            "loss 0.21338370442390442 average time 0.004973254855001414 iter num 200\n",
            "loss 0.28984206914901733 average time 0.004898272827280049 iter num 220\n",
            "loss 0.2248842418193817 average time 0.004834723091674201 iter num 240\n",
            "loss 0.31428560614585876 average time 0.004792728976929958 iter num 260\n",
            "loss 0.20035526156425476 average time 0.004736816471431991 iter num 280\n",
            "loss 0.23274163901805878 average time 0.004689820126673112 iter num 300\n",
            "loss 0.14954392611980438 average time 0.004662609062506817 iter num 320\n",
            "loss 0.1149064153432846 average time 0.00462657075000366 iter num 340\n",
            "loss 0.3536792993545532 average time 0.004597242233337006 iter num 360\n",
            "loss 0.26343268156051636 average time 0.004568324189480527 iter num 380\n",
            "loss 0.2692575454711914 average time 0.004542401725009313 iter num 400\n",
            "loss 0.3054847717285156 average time 0.004518781376197824 iter num 420\n",
            "loss 0.24659612774848938 average time 0.004501598638643662 iter num 440\n",
            "loss 0.27977484464645386 average time 0.004480532489135484 iter num 460\n",
            "loss 0.16133897006511688 average time 0.004463277395838835 iter num 480\n",
            "loss 0.2289743274450302 average time 0.0044484950660034885 iter num 500\n",
            "loss 0.30859118700027466 average time 0.012906179449942101 iter num 20\n",
            "loss 1.1582106351852417 average time 0.008469221599978028 iter num 40\n",
            "loss 0.9867253303527832 average time 0.0069906366833265565 iter num 60\n",
            "loss 2.2873988151550293 average time 0.006272129074983468 iter num 80\n",
            "loss 0.3043178617954254 average time 0.005832669339997665 iter num 100\n",
            "loss 2.1449038982391357 average time 0.005583357691671153 iter num 120\n",
            "loss 0.6352052688598633 average time 0.00536537655000302 iter num 140\n",
            "loss 0.7132024765014648 average time 0.0051992192312468434 iter num 160\n",
            "loss 0.5518878102302551 average time 0.005069939161103321 iter num 180\n",
            "loss 0.2473783791065216 average time 0.004978734799994982 iter num 200\n",
            "loss 0.4992173910140991 average time 0.004917054468176667 iter num 220\n",
            "loss 0.5275574326515198 average time 0.004847425454166417 iter num 240\n",
            "loss 0.37251901626586914 average time 0.004784766007688072 iter num 260\n",
            "loss 0.15906192362308502 average time 0.0047343431857127275 iter num 280\n",
            "loss 0.8759022951126099 average time 0.004691274453331668 iter num 300\n",
            "loss 0.39416468143463135 average time 0.004652762865626414 iter num 320\n",
            "loss 0.043231572955846786 average time 0.0046265622852963454 iter num 340\n",
            "loss 0.10871338099241257 average time 0.004597445275001317 iter num 360\n",
            "loss 0.2526854872703552 average time 0.004576582047372157 iter num 380\n",
            "loss 0.20572781562805176 average time 0.004565253310003073 iter num 400\n",
            "loss 0.48124176263809204 average time 0.004541917204766746 iter num 420\n",
            "loss 0.3501541018486023 average time 0.004520226097731045 iter num 440\n",
            "loss 0.2753365635871887 average time 0.004501865982614538 iter num 460\n",
            "loss 0.49289876222610474 average time 0.0044836603708394785 iter num 480\n",
            "loss 0.18132929503917694 average time 0.004469611284007442 iter num 500\n",
            "loss 0.979407012462616 average time 0.013059857900043426 iter num 20\n",
            "loss 0.9922518730163574 average time 0.008593196375011302 iter num 40\n",
            "loss 0.8379126191139221 average time 0.007074917883323905 iter num 60\n",
            "loss 1.300997018814087 average time 0.006318855074988505 iter num 80\n",
            "loss 1.348501443862915 average time 0.005870438500001001 iter num 100\n",
            "loss 2.7960381507873535 average time 0.005563769283321562 iter num 120\n",
            "loss 1.517947793006897 average time 0.0053515484714223155 iter num 140\n",
            "loss 0.5065560936927795 average time 0.005193978400001242 iter num 160\n",
            "loss 0.43688756227493286 average time 0.005082366166670404 iter num 180\n",
            "loss 0.339716374874115 average time 0.005011863810004798 iter num 200\n",
            "loss 0.33903321623802185 average time 0.004947153327266691 iter num 220\n",
            "loss 0.47399210929870605 average time 0.004879623308333218 iter num 240\n",
            "loss 0.06243351101875305 average time 0.004819332180766021 iter num 260\n",
            "loss 0.2934645712375641 average time 0.004769919707137303 iter num 280\n",
            "loss 0.3517278730869293 average time 0.00472651779666497 iter num 300\n",
            "loss 0.14556318521499634 average time 0.004694948262498144 iter num 320\n",
            "loss 0.8023731708526611 average time 0.004670306723527146 iter num 340\n",
            "loss 0.3286616802215576 average time 0.004635041208329463 iter num 360\n",
            "loss 0.1965770721435547 average time 0.004608091636835429 iter num 380\n",
            "loss 0.16054633259773254 average time 0.004584884909993434 iter num 400\n",
            "loss 0.1601083129644394 average time 0.004561111569040847 iter num 420\n",
            "loss 0.4105948209762573 average time 0.004542368627264957 iter num 440\n",
            "loss 0.13620170950889587 average time 0.004525295297816742 iter num 460\n",
            "loss 0.1311618834733963 average time 0.004509789389575758 iter num 480\n",
            "loss 0.26874181628227234 average time 0.004492151185992043 iter num 500\n",
            "loss 7.268255233764648 average time 0.012667622999947526 iter num 20\n",
            "loss 0.5216573476791382 average time 0.008446418349979012 iter num 40\n",
            "loss 0.7280447483062744 average time 0.007021754283300652 iter num 60\n",
            "loss 1.6115362644195557 average time 0.006289250412470438 iter num 80\n",
            "loss 0.5219078660011292 average time 0.005843938279967915 iter num 100\n",
            "loss 1.0205763578414917 average time 0.005545855058297396 iter num 120\n",
            "loss 4.01356840133667 average time 0.005342950835672257 iter num 140\n",
            "loss 0.4996996521949768 average time 0.005206035337457138 iter num 160\n",
            "loss 0.5157113075256348 average time 0.005075674305516663 iter num 180\n",
            "loss 0.37310922145843506 average time 0.00500561164996725 iter num 200\n",
            "loss 0.2512030303478241 average time 0.004931492940876193 iter num 220\n",
            "loss 0.2098282277584076 average time 0.004859682541634432 iter num 240\n",
            "loss 0.4876079559326172 average time 0.004795845403808786 iter num 260\n",
            "loss 0.16131708025932312 average time 0.004745655610679478 iter num 280\n",
            "loss 0.3525291681289673 average time 0.00470177390329809 iter num 300\n",
            "loss 0.4952668249607086 average time 0.004667473584346738 iter num 320\n",
            "loss 0.23364640772342682 average time 0.004643865702916414 iter num 340\n",
            "loss 0.37578126788139343 average time 0.004612601047201932 iter num 360\n",
            "loss 0.1686909794807434 average time 0.004588162936824789 iter num 380\n",
            "loss 0.1202993243932724 average time 0.004569474824983218 iter num 400\n",
            "loss 0.22510480880737305 average time 0.004561069495222606 iter num 420\n",
            "loss 0.08898046612739563 average time 0.004548029270441393 iter num 440\n",
            "loss 0.2867492139339447 average time 0.004536367078251557 iter num 460\n",
            "loss 0.20591150224208832 average time 0.004521732585407297 iter num 480\n",
            "loss 0.1349083036184311 average time 0.004504592131993377 iter num 500\n",
            "loss 1.7706434726715088 average time 0.012982223549988703 iter num 20\n",
            "loss 2.988234519958496 average time 0.008572976749996996 iter num 40\n",
            "loss 0.7482503652572632 average time 0.007078382033334189 iter num 60\n",
            "loss 0.21748198568820953 average time 0.006353512524987082 iter num 80\n",
            "loss 0.7034395933151245 average time 0.005899739159995079 iter num 100\n",
            "loss 2.3626976013183594 average time 0.0055927881166515665 iter num 120\n",
            "loss 0.9020348787307739 average time 0.005373845842843496 iter num 140\n",
            "loss 1.5116877555847168 average time 0.005252350331227262 iter num 160\n",
            "loss 0.351081907749176 average time 0.005132104594430429 iter num 180\n",
            "loss 0.3991931080818176 average time 0.005035806699993373 iter num 200\n",
            "loss 0.4921343922615051 average time 0.004954305059081063 iter num 220\n",
            "loss 0.5164743661880493 average time 0.0048841613499917 iter num 240\n",
            "loss 0.23369374871253967 average time 0.004822904380760589 iter num 260\n",
            "loss 0.28068268299102783 average time 0.004767111117850423 iter num 280\n",
            "loss 0.30586332082748413 average time 0.004720686459992672 iter num 300\n",
            "loss 0.33319464325904846 average time 0.004680985212495159 iter num 320\n",
            "loss 0.45752161741256714 average time 0.00464599675587632 iter num 340\n",
            "loss 0.28826257586479187 average time 0.004611735772215929 iter num 360\n",
            "loss 0.29035255312919617 average time 0.004582486605255853 iter num 380\n",
            "loss 0.2873935103416443 average time 0.004589943767493878 iter num 400\n",
            "loss 0.08972771465778351 average time 0.004576786373802731 iter num 420\n",
            "loss 0.14087849855422974 average time 0.004552608297720698 iter num 440\n",
            "loss 0.37498411536216736 average time 0.004529902571733186 iter num 460\n",
            "loss 0.204315185546875 average time 0.004519175552078044 iter num 480\n",
            "loss 0.15983428061008453 average time 0.0045000156939941005 iter num 500\n",
            "loss 0.15204034745693207 average time 0.012711981450024723 iter num 20\n",
            "loss 1.2598429918289185 average time 0.00844096200007698 iter num 40\n",
            "loss 0.2855018675327301 average time 0.006975627333379937 iter num 60\n",
            "loss 1.472015619277954 average time 0.006264687662530832 iter num 80\n",
            "loss 0.3933188319206238 average time 0.005819096450027246 iter num 100\n",
            "loss 0.49345219135284424 average time 0.005541349916685098 iter num 120\n",
            "loss 0.2770841121673584 average time 0.0053315868928848435 iter num 140\n",
            "loss 0.307775616645813 average time 0.005185161418776829 iter num 160\n",
            "loss 0.3925909996032715 average time 0.005066681394466994 iter num 180\n",
            "loss 0.8205580115318298 average time 0.0049667665550168745 iter num 200\n",
            "loss 0.4165889620780945 average time 0.004885309563651803 iter num 220\n",
            "loss 0.5453365445137024 average time 0.004812726825017914 iter num 240\n",
            "loss 0.24960944056510925 average time 0.004755638061556056 iter num 260\n",
            "loss 0.4565732479095459 average time 0.004712825500015632 iter num 280\n",
            "loss 0.2487095594406128 average time 0.004675639430012477 iter num 300\n",
            "loss 0.2991848289966583 average time 0.0046395330125108105 iter num 320\n",
            "loss 0.1703956127166748 average time 0.004604980470598468 iter num 340\n",
            "loss 0.23674534261226654 average time 0.004587565216674092 iter num 360\n",
            "loss 0.3216919004917145 average time 0.004558156510528246 iter num 380\n",
            "loss 0.18497450649738312 average time 0.004541895949998888 iter num 400\n",
            "loss 0.41544997692108154 average time 0.004528714004761371 iter num 420\n",
            "loss 0.3260534107685089 average time 0.004514503338637868 iter num 440\n",
            "loss 0.4399295449256897 average time 0.004494603397826881 iter num 460\n",
            "loss 0.4286571741104126 average time 0.004479426064583928 iter num 480\n",
            "loss 0.09053236246109009 average time 0.004462275450000561 iter num 500\n",
            "loss 2.3642771244049072 average time 0.012942719599982411 iter num 20\n",
            "loss 0.566745400428772 average time 0.008492433424999035 iter num 40\n",
            "loss 0.48053833842277527 average time 0.0070059019666511325 iter num 60\n",
            "loss 0.6200450658798218 average time 0.00626826324998433 iter num 80\n",
            "loss 0.871403694152832 average time 0.00587071860998094 iter num 100\n",
            "loss 2.5800886154174805 average time 0.005569606216666519 iter num 120\n",
            "loss 0.7916594743728638 average time 0.005355206664281857 iter num 140\n",
            "loss 0.3367869257926941 average time 0.005195107068749394 iter num 160\n",
            "loss 0.32375916838645935 average time 0.005070378355551636 iter num 180\n",
            "loss 1.3353815078735352 average time 0.004967361259998597 iter num 200\n",
            "loss 0.2710444927215576 average time 0.004886984936363413 iter num 220\n",
            "loss 0.6383057832717896 average time 0.004819015766670039 iter num 240\n",
            "loss 0.21161288022994995 average time 0.004768857723080636 iter num 260\n",
            "loss 0.20736104249954224 average time 0.004725295385717995 iter num 280\n",
            "loss 0.5351988077163696 average time 0.004678738626671475 iter num 300\n",
            "loss 0.8869820833206177 average time 0.004646132081253996 iter num 320\n",
            "loss 0.34694838523864746 average time 0.004617149623530114 iter num 340\n",
            "loss 0.3282977342605591 average time 0.004593674030555424 iter num 360\n",
            "loss 0.3624413013458252 average time 0.004567440352627129 iter num 380\n",
            "loss 0.5481041073799133 average time 0.004544327027492728 iter num 400\n",
            "loss 0.2672625184059143 average time 0.00452431320237511 iter num 420\n",
            "loss 0.5383956432342529 average time 0.004517402015903826 iter num 440\n",
            "loss 0.14932800829410553 average time 0.004498672941303006 iter num 460\n",
            "loss 0.2154894918203354 average time 0.004485202802082237 iter num 480\n",
            "loss 0.08842049539089203 average time 0.00446914382599698 iter num 500\n",
            "loss 0.18661358952522278 average time 0.012709651399973154 iter num 20\n",
            "loss 0.3140319883823395 average time 0.008441816149991154 iter num 40\n",
            "loss 2.780080556869507 average time 0.006993652349994287 iter num 60\n",
            "loss 0.9628123641014099 average time 0.0063085283250131855 iter num 80\n",
            "loss 0.17212724685668945 average time 0.005882574280008157 iter num 100\n",
            "loss 1.329211950302124 average time 0.005579391899993879 iter num 120\n",
            "loss 1.8350183963775635 average time 0.005363994735713667 iter num 140\n",
            "loss 0.7282658815383911 average time 0.005197836231249653 iter num 160\n",
            "loss 0.06809544563293457 average time 0.00508358215000347 iter num 180\n",
            "loss 0.4899941682815552 average time 0.004993527955004993 iter num 200\n",
            "loss 0.7459791302680969 average time 0.0049118898863732535 iter num 220\n",
            "loss 0.5315127968788147 average time 0.004840461887505398 iter num 240\n",
            "loss 0.2358773797750473 average time 0.004784890788468706 iter num 260\n",
            "loss 0.232185959815979 average time 0.004738033625007379 iter num 280\n",
            "loss 0.4397108554840088 average time 0.0046932852533351855 iter num 300\n",
            "loss 0.44330647587776184 average time 0.004660002331249302 iter num 320\n",
            "loss 0.07439568638801575 average time 0.004633818085297957 iter num 340\n",
            "loss 0.12129287421703339 average time 0.004602901225003582 iter num 360\n",
            "loss 0.1498832404613495 average time 0.004578395002637368 iter num 380\n",
            "loss 0.5167726874351501 average time 0.0045663913550026795 iter num 400\n",
            "loss 0.09078748524188995 average time 0.004541451011907936 iter num 420\n",
            "loss 0.2331935614347458 average time 0.004520905052277158 iter num 440\n",
            "loss 0.06257465481758118 average time 0.004501173213048273 iter num 460\n",
            "loss 0.1450360268354416 average time 0.004484018735423471 iter num 480\n",
            "loss 0.35754191875457764 average time 0.004469954592004797 iter num 500\n",
            "loss 0.13563373684883118 average time 0.013077742749987919 iter num 20\n",
            "loss 0.5006903409957886 average time 0.008561576749991672 iter num 40\n",
            "loss 3.282756805419922 average time 0.007062821466661262 iter num 60\n",
            "loss 1.5280122756958008 average time 0.006298288162514609 iter num 80\n",
            "loss 0.5854157209396362 average time 0.005866136660001757 iter num 100\n",
            "loss 1.036301612854004 average time 0.005595871866660218 iter num 120\n",
            "loss 0.5925618410110474 average time 0.005393738985708297 iter num 140\n",
            "loss 0.2241363823413849 average time 0.00522609111249892 iter num 160\n",
            "loss 0.4981629252433777 average time 0.005097291633332033 iter num 180\n",
            "loss 0.08684219419956207 average time 0.004999368075002622 iter num 200\n",
            "loss 0.20466618239879608 average time 0.0049217754318202755 iter num 220\n",
            "loss 0.2503211200237274 average time 0.004852662233340273 iter num 240\n",
            "loss 0.6378870606422424 average time 0.004796672300013737 iter num 260\n",
            "loss 0.18916982412338257 average time 0.004744615621442401 iter num 280\n",
            "loss 0.05864185094833374 average time 0.004701804376675985 iter num 300\n",
            "loss 0.6296731233596802 average time 0.004664032975010457 iter num 320\n",
            "loss 0.5331299901008606 average time 0.00463646265883493 iter num 340\n",
            "loss 0.2156914472579956 average time 0.004606898788896766 iter num 360\n",
            "loss 0.22499412298202515 average time 0.004579891405270294 iter num 380\n",
            "loss 0.2828245759010315 average time 0.004555940577504316 iter num 400\n",
            "loss 0.22578179836273193 average time 0.004534295392860648 iter num 420\n",
            "loss 0.17512467503547668 average time 0.004512812856825638 iter num 440\n",
            "loss 0.1753711998462677 average time 0.0044939094760949325 iter num 460\n",
            "loss 0.2581075429916382 average time 0.004479458168755931 iter num 480\n",
            "loss 0.11465346813201904 average time 0.004463770946006662 iter num 500\n",
            "loss 0.4162404239177704 average time 0.013407401500012383 iter num 20\n",
            "loss 0.9959621429443359 average time 0.008735251299992797 iter num 40\n",
            "loss 0.8518539667129517 average time 0.007239461433308255 iter num 60\n",
            "loss 1.210893154144287 average time 0.006516941087460282 iter num 80\n",
            "loss 0.9111148118972778 average time 0.0060288164699795746 iter num 100\n",
            "loss 0.1435239613056183 average time 0.005701873124993048 iter num 120\n",
            "loss 0.2767358422279358 average time 0.005470130278575068 iter num 140\n",
            "loss 0.13259878754615784 average time 0.005294660218748959 iter num 160\n",
            "loss 0.8709834814071655 average time 0.005158689644450634 iter num 180\n",
            "loss 0.21418851613998413 average time 0.00506482998501724 iter num 200\n",
            "loss 0.8924506306648254 average time 0.004972467413658292 iter num 220\n",
            "loss 0.2019042819738388 average time 0.004893151950022911 iter num 240\n",
            "loss 0.3303642272949219 average time 0.004827546450024573 iter num 260\n",
            "loss 0.31764230132102966 average time 0.00477273841072799 iter num 280\n",
            "loss 0.5733291506767273 average time 0.00472480963333813 iter num 300\n",
            "loss 0.4596232771873474 average time 0.0046816469562656945 iter num 320\n",
            "loss 0.26675090193748474 average time 0.004654832147073595 iter num 340\n",
            "loss 0.0745297446846962 average time 0.004621320800012856 iter num 360\n",
            "loss 0.3980475962162018 average time 0.004591346144743032 iter num 380\n",
            "loss 0.2227029651403427 average time 0.004565043800002968 iter num 400\n",
            "loss 0.35644280910491943 average time 0.004543028371437599 iter num 420\n",
            "loss 0.08483576774597168 average time 0.004522767786372903 iter num 440\n",
            "loss 0.0769926905632019 average time 0.0045088990630495615 iter num 460\n",
            "loss 0.13953566551208496 average time 0.0044899555916780775 iter num 480\n",
            "loss 0.08924128115177155 average time 0.0044737415680083355 iter num 500\n",
            "loss 0.17400632798671722 average time 0.012787196550107183 iter num 20\n",
            "loss 0.6571136116981506 average time 0.008405251275075899 iter num 40\n",
            "loss 0.6950134038925171 average time 0.0069682497167074565 iter num 60\n",
            "loss 1.338577151298523 average time 0.0062383919625403905 iter num 80\n",
            "loss 0.641938328742981 average time 0.005797226410013536 iter num 100\n",
            "loss 0.40155255794525146 average time 0.005516886291676807 iter num 120\n",
            "loss 1.0855711698532104 average time 0.00531689977143677 iter num 140\n",
            "loss 2.9264979362487793 average time 0.005158405593761017 iter num 160\n",
            "loss 0.6995154619216919 average time 0.0050528469500224875 iter num 180\n",
            "loss 0.2011280357837677 average time 0.00497123993002333 iter num 200\n",
            "loss 0.3170052766799927 average time 0.004904633795471951 iter num 220\n",
            "loss 0.2515106797218323 average time 0.004838206208349524 iter num 240\n",
            "loss 0.32491716742515564 average time 0.00480290601539519 iter num 260\n",
            "loss 0.1826941967010498 average time 0.004753169460708965 iter num 280\n",
            "loss 0.3917781114578247 average time 0.004709377023330793 iter num 300\n",
            "loss 0.2584075927734375 average time 0.00467021261875118 iter num 320\n",
            "loss 0.09737714380025864 average time 0.004636882132356678 iter num 340\n",
            "loss 0.5755350589752197 average time 0.00460881541944218 iter num 360\n",
            "loss 0.10408947616815567 average time 0.0045800726947355114 iter num 380\n",
            "loss 0.19034534692764282 average time 0.004558230682505382 iter num 400\n",
            "loss 0.2652704119682312 average time 0.00453704756190789 iter num 420\n",
            "loss 0.20555853843688965 average time 0.0045277078454587765 iter num 440\n",
            "loss 0.22273565828800201 average time 0.004507835699996576 iter num 460\n",
            "loss 0.2263675332069397 average time 0.0044913966041633556 iter num 480\n",
            "loss 0.052067048847675323 average time 0.004478351862002455 iter num 500\n",
            "loss 0.46762651205062866 average time 0.012844508450052671 iter num 20\n",
            "loss 0.43128126859664917 average time 0.008499997674948644 iter num 40\n",
            "loss 19.958892822265625 average time 0.007017787266598437 iter num 60\n",
            "loss 0.9603829383850098 average time 0.006273360074965239 iter num 80\n",
            "loss 0.8183924555778503 average time 0.005833789459975378 iter num 100\n",
            "loss 0.5966689586639404 average time 0.005537134566664766 iter num 120\n",
            "loss 0.9526494145393372 average time 0.005366252285713407 iter num 140\n",
            "loss 0.3716049790382385 average time 0.00521167856250031 iter num 160\n",
            "loss 0.7159844636917114 average time 0.005082886572219851 iter num 180\n",
            "loss 0.3743499517440796 average time 0.004978422860003775 iter num 200\n",
            "loss 0.6888649463653564 average time 0.004898406095464287 iter num 220\n",
            "loss 0.17263638973236084 average time 0.004832707316662284 iter num 240\n",
            "loss 0.3747231960296631 average time 0.0047711371884606 iter num 260\n",
            "loss 0.1627238392829895 average time 0.004727366471417684 iter num 280\n",
            "loss 0.30918383598327637 average time 0.004681151526662385 iter num 300\n",
            "loss 0.5046930909156799 average time 0.00464676855937114 iter num 320\n",
            "loss 0.22484014928340912 average time 0.004621030526467461 iter num 340\n",
            "loss 0.21892455220222473 average time 0.004589178949989521 iter num 360\n",
            "loss 0.21158084273338318 average time 0.0045607167763017445 iter num 380\n",
            "loss 0.2970723807811737 average time 0.004535291204983877 iter num 400\n",
            "loss 0.16481183469295502 average time 0.004511211969035382 iter num 420\n",
            "loss 0.1940043866634369 average time 0.004488626943175818 iter num 440\n",
            "loss 0.22884777188301086 average time 0.004468868865205877 iter num 460\n",
            "loss 0.25080859661102295 average time 0.00445543220415819 iter num 480\n",
            "loss 0.3284313678741455 average time 0.004448350647990083 iter num 500\n",
            "loss 0.5489267110824585 average time 0.012614764049885707 iter num 20\n",
            "loss 0.5003153085708618 average time 0.0083188088749921 iter num 40\n",
            "loss 1.8522601127624512 average time 0.006893066583370455 iter num 60\n",
            "loss 1.0143638849258423 average time 0.00621708210004499 iter num 80\n",
            "loss 6.113116264343262 average time 0.005777985440026896 iter num 100\n",
            "loss 0.6845206022262573 average time 0.005483653033335637 iter num 120\n",
            "loss 0.32406026124954224 average time 0.005283485814275731 iter num 140\n",
            "loss 0.3435637950897217 average time 0.00512513494373934 iter num 160\n",
            "loss 0.1998666524887085 average time 0.005003631827781242 iter num 180\n",
            "loss 0.2153865396976471 average time 0.004913669420006954 iter num 200\n",
            "loss 0.5066472887992859 average time 0.004833200150005723 iter num 220\n",
            "loss 0.27956801652908325 average time 0.004769965287501539 iter num 240\n",
            "loss 0.19859452545642853 average time 0.004715656734609953 iter num 260\n",
            "loss 0.24779275059700012 average time 0.004666812210725116 iter num 280\n",
            "loss 0.3145553469657898 average time 0.004628855256681466 iter num 300\n",
            "loss 0.13909628987312317 average time 0.004590542909394912 iter num 320\n",
            "loss 0.299106240272522 average time 0.004561208202951949 iter num 340\n",
            "loss 0.17935895919799805 average time 0.004534968008344246 iter num 360\n",
            "loss 0.21194404363632202 average time 0.004523180202644844 iter num 380\n",
            "loss 0.12151488661766052 average time 0.0045027763250095635 iter num 400\n",
            "loss 0.2063889354467392 average time 0.00448608470239075 iter num 420\n",
            "loss 0.7430462837219238 average time 0.0044671792909163986 iter num 440\n",
            "loss 0.20482999086380005 average time 0.004455280732617726 iter num 460\n",
            "loss 0.1824904978275299 average time 0.004442403052089124 iter num 480\n",
            "loss 0.1659889668226242 average time 0.004426491154006726 iter num 500\n",
            "loss 0.3341885507106781 average time 0.012855756149974695 iter num 20\n",
            "loss 0.8133807182312012 average time 0.008448680574974787 iter num 40\n",
            "loss 0.33717405796051025 average time 0.006987746399939473 iter num 60\n",
            "loss 0.3235974907875061 average time 0.006311615574941243 iter num 80\n",
            "loss 0.8177978992462158 average time 0.0059032524299527725 iter num 100\n",
            "loss 0.2779337167739868 average time 0.005595687858294696 iter num 120\n",
            "loss 0.5002099275588989 average time 0.005385428528526453 iter num 140\n",
            "loss 1.1554361581802368 average time 0.005230395199953363 iter num 160\n",
            "loss 0.10021547973155975 average time 0.00509922038886038 iter num 180\n",
            "loss 0.414096474647522 average time 0.004992291664966615 iter num 200\n",
            "loss 0.2918599247932434 average time 0.0049172191636113315 iter num 220\n",
            "loss 0.232270285487175 average time 0.004844904116650165 iter num 240\n",
            "loss 0.4748014509677887 average time 0.004783155949983736 iter num 260\n",
            "loss 0.34002426266670227 average time 0.0047300923785672105 iter num 280\n",
            "loss 0.4876568913459778 average time 0.004683588096668245 iter num 300\n",
            "loss 0.13468149304389954 average time 0.004644193096882532 iter num 320\n",
            "loss 0.1749161183834076 average time 0.004622405561769269 iter num 340\n",
            "loss 0.581288754940033 average time 0.004591855316678246 iter num 360\n",
            "loss 0.17844538390636444 average time 0.004562202915803937 iter num 380\n",
            "loss 0.21257615089416504 average time 0.004546511927510437 iter num 400\n",
            "loss 0.3063070774078369 average time 0.0045252586214419785 iter num 420\n",
            "loss 0.09802953898906708 average time 0.00450553459092217 iter num 440\n",
            "loss 0.21240635216236115 average time 0.004487115454359177 iter num 460\n",
            "loss 0.08009664714336395 average time 0.004469812045842522 iter num 480\n",
            "loss 0.17279605567455292 average time 0.004466814872008399 iter num 500\n",
            "loss 0.6751859784126282 average time 0.01286864994995085 iter num 20\n",
            "loss 0.31505391001701355 average time 0.00846571239997047 iter num 40\n",
            "loss 0.17673470079898834 average time 0.007132920333303142 iter num 60\n",
            "loss 0.21526500582695007 average time 0.006432585149968873 iter num 80\n",
            "loss 0.36811351776123047 average time 0.005948146329983501 iter num 100\n",
            "loss 0.29099345207214355 average time 0.0056374276499961224 iter num 120\n",
            "loss 0.31060388684272766 average time 0.005442454521426043 iter num 140\n",
            "loss 1.8523058891296387 average time 0.005268411325022271 iter num 160\n",
            "loss 0.300296425819397 average time 0.005135226311136244 iter num 180\n",
            "loss 0.2646426856517792 average time 0.005034965795025528 iter num 200\n",
            "loss 0.1826120913028717 average time 0.004948692804575992 iter num 220\n",
            "loss 0.08598430454730988 average time 0.004873224470857925 iter num 240\n",
            "loss 0.43354853987693787 average time 0.004811879842334468 iter num 260\n",
            "loss 0.2933822274208069 average time 0.004767319053592343 iter num 280\n",
            "loss 0.13060857355594635 average time 0.004731873953345105 iter num 300\n",
            "loss 0.09254428744316101 average time 0.00468846061251611 iter num 320\n",
            "loss 0.2945859432220459 average time 0.00465663282648433 iter num 340\n",
            "loss 0.19840332865715027 average time 0.004623159238899967 iter num 360\n",
            "loss 0.556148886680603 average time 0.0045923505526412845 iter num 380\n",
            "loss 0.6762049794197083 average time 0.004564050680012315 iter num 400\n",
            "loss 0.2612001895904541 average time 0.004543914957152343 iter num 420\n",
            "loss 0.6006835699081421 average time 0.004522312052286411 iter num 440\n",
            "loss 0.08760930597782135 average time 0.004507766365227523 iter num 460\n",
            "loss 0.30054956674575806 average time 0.004497464054171966 iter num 480\n",
            "loss 0.20160827040672302 average time 0.004479695378009637 iter num 500\n",
            "loss 0.4053754210472107 average time 0.01286799464996875 iter num 20\n",
            "loss 0.0871315598487854 average time 0.008473324374995173 iter num 40\n",
            "loss 0.42553627490997314 average time 0.0070004914000340555 iter num 60\n",
            "loss 3.172652006149292 average time 0.0062563985750102805 iter num 80\n",
            "loss 0.45362526178359985 average time 0.005834178019995306 iter num 100\n",
            "loss 0.4922991394996643 average time 0.005541401291672325 iter num 120\n",
            "loss 0.23671311140060425 average time 0.0053289743500045 iter num 140\n",
            "loss 1.572262167930603 average time 0.005172685112489717 iter num 160\n",
            "loss 0.2329528033733368 average time 0.005058467888870331 iter num 180\n",
            "loss 0.6096104383468628 average time 0.004976016249988788 iter num 200\n",
            "loss 0.1461939662694931 average time 0.004897870268169672 iter num 220\n",
            "loss 0.44163569808006287 average time 0.004825941204156455 iter num 240\n",
            "loss 0.4594818949699402 average time 0.004766462126907264 iter num 260\n",
            "loss 0.17583006620407104 average time 0.0047157515356957445 iter num 280\n",
            "loss 0.07549821585416794 average time 0.004689044176642104 iter num 300\n",
            "loss 0.3873891532421112 average time 0.0046502057124740755 iter num 320\n",
            "loss 0.21844366192817688 average time 0.004614567017624187 iter num 340\n",
            "loss 0.46434566378593445 average time 0.004582093769421489 iter num 360\n",
            "loss 0.6075335741043091 average time 0.0045573670052386946 iter num 380\n",
            "loss 0.27374938130378723 average time 0.004548203509971245 iter num 400\n",
            "loss 0.12187087535858154 average time 0.004533372371400089 iter num 420\n",
            "loss 0.11591484397649765 average time 0.004523746036335813 iter num 440\n",
            "loss 0.15236234664916992 average time 0.004510827393454272 iter num 460\n",
            "loss 0.17841093242168427 average time 0.004491572743726617 iter num 480\n",
            "loss 0.15902814269065857 average time 0.004472983683981511 iter num 500\n",
            "loss 2.396146774291992 average time 0.013126356950078844 iter num 20\n",
            "loss 0.43887072801589966 average time 0.008597534850014198 iter num 40\n",
            "loss 1.9695045948028564 average time 0.007112040666667477 iter num 60\n",
            "loss 0.4736717939376831 average time 0.006369183112497012 iter num 80\n",
            "loss 0.3509266674518585 average time 0.005908068460012145 iter num 100\n",
            "loss 0.5900778770446777 average time 0.005602274308360696 iter num 120\n",
            "loss 0.7987769842147827 average time 0.005389586499995857 iter num 140\n",
            "loss 0.5638531446456909 average time 0.0052227023999932955 iter num 160\n",
            "loss 0.22367367148399353 average time 0.005092534499999602 iter num 180\n",
            "loss 0.36483651399612427 average time 0.005003687030007313 iter num 200\n",
            "loss 0.298686146736145 average time 0.004920522700012952 iter num 220\n",
            "loss 0.22734177112579346 average time 0.004847721233337173 iter num 240\n",
            "loss 0.24156665802001953 average time 0.004791199761547642 iter num 260\n",
            "loss 0.18017563223838806 average time 0.004739784639299874 iter num 280\n",
            "loss 0.12790057063102722 average time 0.004703916836682159 iter num 300\n",
            "loss 0.15516223013401031 average time 0.004666625512518863 iter num 320\n",
            "loss 0.4572768211364746 average time 0.004630765132367956 iter num 340\n",
            "loss 0.5035697221755981 average time 0.004606388194451938 iter num 360\n",
            "loss 0.3807547092437744 average time 0.004587276968430543 iter num 380\n",
            "loss 0.1564963161945343 average time 0.004564977825011738 iter num 400\n",
            "loss 0.2278471291065216 average time 0.004542107883344216 iter num 420\n",
            "loss 0.15897652506828308 average time 0.004520402911372333 iter num 440\n",
            "loss 0.2249651998281479 average time 0.0045015803869674804 iter num 460\n",
            "loss 0.230444073677063 average time 0.004499411360429425 iter num 480\n",
            "loss 0.33486685156822205 average time 0.004486758736013144 iter num 500\n",
            "loss 0.728119969367981 average time 0.012909779849951519 iter num 20\n",
            "loss 1.378815770149231 average time 0.008517563224995684 iter num 40\n",
            "loss 13.197453498840332 average time 0.007021469816648581 iter num 60\n",
            "loss 1.4704397916793823 average time 0.006274089450005249 iter num 80\n",
            "loss 0.6734488010406494 average time 0.005824758290045793 iter num 100\n",
            "loss 0.4136276841163635 average time 0.005531772416694973 iter num 120\n",
            "loss 0.0853617787361145 average time 0.005321483807191336 iter num 140\n",
            "loss 0.30591535568237305 average time 0.005163415731283294 iter num 160\n",
            "loss 0.31035614013671875 average time 0.005036804166694411 iter num 180\n",
            "loss 0.3952406048774719 average time 0.004940296095032864 iter num 200\n",
            "loss 0.47019779682159424 average time 0.004859859195481807 iter num 220\n",
            "loss 0.15311257541179657 average time 0.0047938006041893765 iter num 240\n",
            "loss 0.12604324519634247 average time 0.00474130004617319 iter num 260\n",
            "loss 0.5051425099372864 average time 0.004690648442864845 iter num 280\n",
            "loss 0.5432806015014648 average time 0.00465915062000325 iter num 300\n",
            "loss 0.29144155979156494 average time 0.004619591884386409 iter num 320\n",
            "loss 0.16190257668495178 average time 0.004585567900018277 iter num 340\n",
            "loss 0.22126305103302002 average time 0.004557272291685876 iter num 360\n",
            "loss 0.17670586705207825 average time 0.004535362750019837 iter num 380\n",
            "loss 0.17659598588943481 average time 0.004510222677520232 iter num 400\n",
            "loss 0.20472180843353271 average time 0.0044954817643017685 iter num 420\n",
            "loss 0.6532678604125977 average time 0.004474416872744769 iter num 440\n",
            "loss 0.27087053656578064 average time 0.004457988232622049 iter num 460\n",
            "loss 0.11652109026908875 average time 0.0044411941375111985 iter num 480\n",
            "loss 0.18742719292640686 average time 0.004428065650015924 iter num 500\n",
            "loss 0.9730748534202576 average time 0.012857242399923053 iter num 20\n",
            "loss 0.4325307309627533 average time 0.00845793944995421 iter num 40\n",
            "loss 1.3606096506118774 average time 0.006989073166702535 iter num 60\n",
            "loss 0.2343486249446869 average time 0.00625268840001354 iter num 80\n",
            "loss 0.9984114766120911 average time 0.005820745419987361 iter num 100\n",
            "loss 0.5450731515884399 average time 0.005526430108329805 iter num 120\n",
            "loss 0.6748066544532776 average time 0.005337561600000689 iter num 140\n",
            "loss 0.2734889090061188 average time 0.00517294450000918 iter num 160\n",
            "loss 0.33661049604415894 average time 0.0050439585277874555 iter num 180\n",
            "loss 0.24561037123203278 average time 0.004942870930021854 iter num 200\n",
            "loss 0.6073988676071167 average time 0.004861663036374673 iter num 220\n",
            "loss 0.440371572971344 average time 0.004793789520851988 iter num 240\n",
            "loss 0.3860856890678406 average time 0.004736485223090243 iter num 260\n",
            "loss 0.2222607135772705 average time 0.004687916521437988 iter num 280\n",
            "loss 0.0848301574587822 average time 0.0046476724800110485 iter num 300\n",
            "loss 0.10601520538330078 average time 0.004609097215634961 iter num 320\n",
            "loss 0.29758256673812866 average time 0.004576753714715832 iter num 340\n",
            "loss 0.08176565170288086 average time 0.00454745408057483 iter num 360\n",
            "loss 0.26916074752807617 average time 0.004523560002651625 iter num 380\n",
            "loss 0.42243003845214844 average time 0.004500858582518958 iter num 400\n",
            "loss 0.20176178216934204 average time 0.0044821577047795946 iter num 420\n",
            "loss 0.24603278934955597 average time 0.004462249959105561 iter num 440\n",
            "loss 0.24438852071762085 average time 0.00444552088914782 iter num 460\n",
            "loss 0.15585580468177795 average time 0.004428316843768698 iter num 480\n",
            "loss 0.2945903539657593 average time 0.0044147962520146395 iter num 500\n"
          ],
          "name": "stdout"
        }
      ]
    },
    {
      "cell_type": "code",
      "metadata": {
        "colab": {
          "base_uri": "https://localhost:8080/",
          "height": 392
        },
        "id": "9vkPlpcxeIKF",
        "outputId": "b21cb1d8-7d35-408d-d525-f8da45bfa89d"
      },
      "source": [
        "# Train 1 stock\n",
        "from ignite.engine import Engine, Events\n",
        "from ignite.handlers import Timer\n",
        "from torch.nn import MSELoss\n",
        "from torch.optim import Adam\n",
        "from ignite.contrib.handlers.param_scheduler import CosineAnnealingScheduler\n",
        "from ignite.handlers import ModelCheckpoint\n",
        "from model import Net\n",
        "from cupy_dataset import NumbaOptionDataSet\n",
        "timer = Timer(average=True)\n",
        "#model = Net().cuda()\n",
        "loss_fn = MSELoss()\n",
        "optimizer = Adam(model.parameters(), lr=1e-3)\n",
        "# dataset = NumbaOptionDataSet(max_len=10000, number_path = 1024, batch=4800)\n",
        "dataset = NumbaOptionDataSet(max_len=500, number_path = 1024, batch=32, stocks=1)\n",
        "\n",
        "def train_update(engine, batch):\n",
        "    model.train()\n",
        "    optimizer.zero_grad()\n",
        "    x = batch[0]\n",
        "    y = batch[1]\n",
        "    y_pred = model(x)\n",
        "    loss = loss_fn(y_pred[:,0], y)\n",
        "    loss.backward()\n",
        "    optimizer.step()\n",
        "    return loss.item()\n",
        "\n",
        "trainer = Engine(train_update)\n",
        "log_interval = 20\n",
        "\n",
        "scheduler = CosineAnnealingScheduler(optimizer, 'lr', 1e-4, 1e-6, len(dataset))\n",
        "trainer.add_event_handler(Events.ITERATION_STARTED, scheduler)\n",
        "timer.attach(trainer,\n",
        "             start=Events.EPOCH_STARTED,\n",
        "             resume=Events.ITERATION_STARTED,\n",
        "             pause=Events.ITERATION_COMPLETED,\n",
        "             step=Events.ITERATION_COMPLETED)    \n",
        "@trainer.on(Events.ITERATION_COMPLETED)\n",
        "def log_training_loss(engine):\n",
        "    iter = (engine.state.iteration - 1) % len(dataset) + 1\n",
        "    if iter % log_interval == 0:\n",
        "        print('loss', engine.state.output, 'average time', timer.value(), 'iter num', iter)\n",
        "        \n",
        "trainer.run(dataset, max_epochs=20)\n",
        "\n",
        "model_save_name = 'checkpoint16.pth'\n",
        "path = F\"/content/drive/MyDrive/AFP Project/Lilian/{model_save_name}\" \n",
        "torch.save(model.state_dict(), path)"
      ],
      "execution_count": 1,
      "outputs": [
        {
          "output_type": "error",
          "ename": "ModuleNotFoundError",
          "evalue": "ignored",
          "traceback": [
            "\u001b[0;31m---------------------------------------------------------------------------\u001b[0m",
            "\u001b[0;31mModuleNotFoundError\u001b[0m                       Traceback (most recent call last)",
            "\u001b[0;32m<ipython-input-1-72a7d7ee923d>\u001b[0m in \u001b[0;36m<module>\u001b[0;34m()\u001b[0m\n\u001b[1;32m      1\u001b[0m \u001b[0;31m# Train 1 stock\u001b[0m\u001b[0;34m\u001b[0m\u001b[0;34m\u001b[0m\u001b[0;34m\u001b[0m\u001b[0m\n\u001b[0;32m----> 2\u001b[0;31m \u001b[0;32mfrom\u001b[0m \u001b[0mignite\u001b[0m\u001b[0;34m.\u001b[0m\u001b[0mengine\u001b[0m \u001b[0;32mimport\u001b[0m \u001b[0mEngine\u001b[0m\u001b[0;34m,\u001b[0m \u001b[0mEvents\u001b[0m\u001b[0;34m\u001b[0m\u001b[0;34m\u001b[0m\u001b[0m\n\u001b[0m\u001b[1;32m      3\u001b[0m \u001b[0;32mfrom\u001b[0m \u001b[0mignite\u001b[0m\u001b[0;34m.\u001b[0m\u001b[0mhandlers\u001b[0m \u001b[0;32mimport\u001b[0m \u001b[0mTimer\u001b[0m\u001b[0;34m\u001b[0m\u001b[0;34m\u001b[0m\u001b[0m\n\u001b[1;32m      4\u001b[0m \u001b[0;32mfrom\u001b[0m \u001b[0mtorch\u001b[0m\u001b[0;34m.\u001b[0m\u001b[0mnn\u001b[0m \u001b[0;32mimport\u001b[0m \u001b[0mMSELoss\u001b[0m\u001b[0;34m\u001b[0m\u001b[0;34m\u001b[0m\u001b[0m\n\u001b[1;32m      5\u001b[0m \u001b[0;32mfrom\u001b[0m \u001b[0mtorch\u001b[0m\u001b[0;34m.\u001b[0m\u001b[0moptim\u001b[0m \u001b[0;32mimport\u001b[0m \u001b[0mAdam\u001b[0m\u001b[0;34m\u001b[0m\u001b[0;34m\u001b[0m\u001b[0m\n",
            "\u001b[0;31mModuleNotFoundError\u001b[0m: No module named 'ignite'",
            "",
            "\u001b[0;31m---------------------------------------------------------------------------\u001b[0;32m\nNOTE: If your import is failing due to a missing package, you can\nmanually install dependencies using either !pip or !apt.\n\nTo view examples of installing some common dependencies, click the\n\"Open Examples\" button below.\n\u001b[0;31m---------------------------------------------------------------------------\u001b[0m\n"
          ]
        }
      ]
    },
    {
      "cell_type": "markdown",
      "metadata": {
        "id": "ehmhDw8BUtLi"
      },
      "source": [
        "### Inference and Greeks"
      ]
    },
    {
      "cell_type": "markdown",
      "metadata": {
        "id": "Uiro43mOU0Ro"
      },
      "source": [
        "We can load the model parameters and use it to do inference"
      ]
    },
    {
      "cell_type": "code",
      "metadata": {
        "id": "svlu6tGTRx1F",
        "colab": {
          "base_uri": "https://localhost:8080/"
        },
        "outputId": "4b8eb7ac-fca0-40a2-a6dc-e1e0e69875c6"
      },
      "source": [
        "import torch\n",
        "inputs = torch.tensor([110.0, 0.0, 110.0, 0.35, 0.1, 0.05]).cuda()\n",
        "model(inputs.float())"
      ],
      "execution_count": 43,
      "outputs": [
        {
          "output_type": "execute_result",
          "data": {
            "text/plain": [
              "tensor([11.7945], device='cuda:0', grad_fn=<AddBackward0>)"
            ]
          },
          "metadata": {
            "tags": []
          },
          "execution_count": 43
        }
      ]
    },
    {
      "cell_type": "markdown",
      "metadata": {
        "id": "M1Iy-9pWVRDO"
      },
      "source": [
        "One of the benefits of building a deep learning model is that the [Greeks](<https://en.wikipedia.org/wiki/Greeks_(finance)#First-order_Greeks>) can be easily computed. \n",
        "We just need to take advantage of the auto-grad feature in Pytorch. We can use `grad` function to compute the first order differentiation for parameters 'K, B, S0, sigma, mu, r'"
      ]
    },
    {
      "cell_type": "code",
      "metadata": {
        "id": "ytBZaYHKSnDu",
        "colab": {
          "base_uri": "https://localhost:8080/"
        },
        "outputId": "2d70f9c6-8eff-49ba-9c6f-6816abb7b468"
      },
      "source": [
        "inputs = torch.tensor([110.0, 0.0, 110.0, 0.35, 0.1, 0.05]).cuda()\n",
        "inputs.requires_grad = True\n",
        "x = model(inputs.float())\n",
        "x.backward()\n",
        "first_order_gradient = inputs.grad\n",
        "first_order_gradient"
      ],
      "execution_count": 44,
      "outputs": [
        {
          "output_type": "execute_result",
          "data": {
            "text/plain": [
              "tensor([ -0.5221, -10.6331,   0.6233,  28.3884,  35.9245, -10.5337],\n",
              "       device='cuda:0')"
            ]
          },
          "metadata": {
            "tags": []
          },
          "execution_count": 44
        }
      ]
    },
    {
      "cell_type": "markdown",
      "metadata": {
        "id": "8KeijaDDVZGd"
      },
      "source": [
        "Here we are going to plot the Delta graph:-"
      ]
    },
    {
      "cell_type": "markdown",
      "metadata": {
        "id": "skwgeVDsA_Mr"
      },
      "source": [
        "# Delta"
      ]
    },
    {
      "cell_type": "code",
      "metadata": {
        "id": "USh3qaADSYQp",
        "colab": {
          "base_uri": "https://localhost:8080/",
          "height": 316
        },
        "outputId": "15459349-a8f2-402a-b64e-674e988772ef"
      },
      "source": [
        "##Using gradient, Change only 1 S0 at a time\n",
        "%matplotlib inline\n",
        "from torch.autograd import grad\n",
        "import pylab\n",
        "import numpy as np\n",
        "def compute_delta(S):\n",
        "    inputs = torch.tensor([110.0, 0.0, S, 0.35, 0.1, 0.05]).cuda()\n",
        "    inputs.requires_grad = True\n",
        "    x = model(inputs.float())\n",
        "    #x = model(inputs)\n",
        "    x.backward()\n",
        "    first_order_gradient = inputs.grad\n",
        "    return first_order_gradient[2]\n",
        "\n",
        "print(compute_delta(110))\n",
        "prices = np.arange(10, 200, 0.1)\n",
        "deltas = []\n",
        "for p in prices:\n",
        "    deltas.append(compute_delta(p).item())\n",
        "fig = pylab.plot(prices, deltas)\n",
        "pylab.xlabel('prices')\n",
        "pylab.ylabel('Delta')\n",
        "fig"
      ],
      "execution_count": 45,
      "outputs": [
        {
          "output_type": "stream",
          "text": [
            "tensor(0.6233, device='cuda:0')\n"
          ],
          "name": "stdout"
        },
        {
          "output_type": "execute_result",
          "data": {
            "text/plain": [
              "[<matplotlib.lines.Line2D at 0x7fc7365dd690>]"
            ]
          },
          "metadata": {
            "tags": []
          },
          "execution_count": 45
        },
        {
          "output_type": "display_data",
          "data": {
            "image/png": "[encoded data removed]",
            "text/plain": [
              "<Figure size 432x288 with 1 Axes>"
            ]
          },
          "metadata": {
            "tags": [],
            "needs_background": "light"
          }
        }
      ]
    },
    {
      "cell_type": "code",
      "metadata": {
        "colab": {
          "base_uri": "https://localhost:8080/",
          "height": 297
        },
        "id": "VGk5Hw64fMdh",
        "outputId": "b7af026c-592b-4985-9308-059f41a5669d"
      },
      "source": [
        "## Using Finite Difference, Change only 1 S0 at a time\n",
        "%matplotlib inline\n",
        "import numpy as np\n",
        "def compute_delta(S):\n",
        "    epsilon = 0.01\n",
        "    inputs1 = torch.tensor([110.0, 0.0, S, 0.35, 0.1, 0.05]).cuda()\n",
        "    inputs2 = torch.tensor([110.0, 0.0, S + epsilon, 0.35, 0.1, 0.05]).cuda()\n",
        "    delta = (model(inputs2.float()) - model(inputs1.float()))/epsilon\n",
        "    return delta\n",
        "prices = np.arange(10, 200, 0.1)\n",
        "deltas = []\n",
        "for p in prices:\n",
        "    deltas.append(compute_delta(p).item())\n",
        "fig = pylab.plot(prices, deltas)\n",
        "pylab.xlabel('prices')\n",
        "pylab.ylabel('Delta')\n",
        "fig"
      ],
      "execution_count": 46,
      "outputs": [
        {
          "output_type": "execute_result",
          "data": {
            "text/plain": [
              "[<matplotlib.lines.Line2D at 0x7fc736542550>]"
            ]
          },
          "metadata": {
            "tags": []
          },
          "execution_count": 46
        },
        {
          "output_type": "display_data",
          "data": {
            "image/png": "[encoded data removed]",
            "text/plain": [
              "<Figure size 432x288 with 1 Axes>"
            ]
          },
          "metadata": {
            "tags": [],
            "needs_background": "light"
          }
        }
      ]
    },
    {
      "cell_type": "code",
      "metadata": {
        "id": "tLStvS2qCSjm",
        "colab": {
          "base_uri": "https://localhost:8080/"
        },
        "outputId": "978b240e-2546-4993-f6a4-811fc60e3823"
      },
      "source": [
        "compute_delta(110)"
      ],
      "execution_count": 47,
      "outputs": [
        {
          "output_type": "execute_result",
          "data": {
            "text/plain": [
              "tensor([0.6234], device='cuda:0', grad_fn=<DivBackward0>)"
            ]
          },
          "metadata": {
            "tags": []
          },
          "execution_count": 47
        }
      ]
    },
    {
      "cell_type": "code",
      "metadata": {
        "colab": {
          "base_uri": "https://localhost:8080/",
          "height": 297
        },
        "id": "4O1I8COnUxnz",
        "outputId": "a45c9555-96c6-4f70-c44d-11d3e4e3b78e"
      },
      "source": [
        "##Using Finite Difference, Change 3 S0 at a time\n",
        "%matplotlib inline\n",
        "import numpy as np\n",
        "def compute_delta(S):\n",
        "    #epsilon = 0.01\n",
        "    epsilon = 1\n",
        "    inputs1 = torch.tensor([[110.0, 0.0, S, 0.35, 0.1, 0.05]*3]).cuda()\n",
        "    inputs2 = torch.tensor([[110.0, 0.0, S + epsilon, 0.35, 0.1, 0.05]*3]).cuda()\n",
        "    delta = (model(inputs2.float()) - model(inputs1.float()))/epsilon\n",
        "    return delta\n",
        "prices = np.arange(10, 200, 0.1)\n",
        "deltas = []\n",
        "for p in prices:\n",
        "    deltas.append(compute_delta(p).item())\n",
        "fig = pylab.plot(prices, deltas)\n",
        "pylab.xlabel('prices')\n",
        "pylab.ylabel('Delta')\n",
        "fig"
      ],
      "execution_count": 60,
      "outputs": [
        {
          "output_type": "execute_result",
          "data": {
            "text/plain": [
              "[<matplotlib.lines.Line2D at 0x7f3be004e110>]"
            ]
          },
          "metadata": {
            "tags": []
          },
          "execution_count": 60
        },
        {
          "output_type": "display_data",
          "data": {
            "image/png": "[encoded data removed]",
            "text/plain": [
              "<Figure size 432x288 with 1 Axes>"
            ]
          },
          "metadata": {
            "tags": [],
            "needs_background": "light"
          }
        }
      ]
    },
    {
      "cell_type": "markdown",
      "metadata": {
        "id": "rvU4uMtEc2g5"
      },
      "source": [
        "#Lilian_New"
      ]
    },
    {
      "cell_type": "code",
      "metadata": {
        "colab": {
          "base_uri": "https://localhost:8080/",
          "height": 297
        },
        "id": "0g5yeyilcsbt",
        "outputId": "6ddcc5f5-b513-4d80-c7a7-5698e936a92f"
      },
      "source": [
        "##Using Finite Difference, Change 2 S0 at a time\n",
        "%matplotlib inline\n",
        "import numpy as np\n",
        "def compute_delta(S):\n",
        "    #epsilon = 0.01\n",
        "    epsilon = 0.01\n",
        "    inputs1 = torch.tensor([[110.0, 0.0, S, 0.35, 0.1, 0.05]*2 + ([110.0, 0.0, 110.0, 0.35, 0.1, 0.05])]).cuda()\n",
        "    inputs2 = torch.tensor([[110.0, 0.0, S + epsilon, 0.35, 0.1, 0.05]*2 + ([110.0, 0.0, 110.0, 0.35, 0.1, 0.05])]).cuda()\n",
        "    delta = (model(inputs2.float()) - model(inputs1.float()))/epsilon\n",
        "    return delta\n",
        "prices = np.arange(10, 200, 0.1)\n",
        "deltas = []\n",
        "for p in prices:\n",
        "    deltas.append(compute_delta(p).item())\n",
        "fig = pylab.plot(prices, deltas)\n",
        "pylab.xlabel('prices')\n",
        "pylab.ylabel('Delta')\n",
        "fig"
      ],
      "execution_count": 64,
      "outputs": [
        {
          "output_type": "execute_result",
          "data": {
            "text/plain": [
              "[<matplotlib.lines.Line2D at 0x7f3bd3fa8790>]"
            ]
          },
          "metadata": {
            "tags": []
          },
          "execution_count": 64
        },
        {
          "output_type": "display_data",
          "data": {
            "image/png": "[encoded data removed]",
            "text/plain": [
              "<Figure size 432x288 with 1 Axes>"
            ]
          },
          "metadata": {
            "tags": [],
            "needs_background": "light"
          }
        }
      ]
    },
    {
      "cell_type": "code",
      "metadata": {
        "id": "ySrey9KzB0AF",
        "colab": {
          "base_uri": "https://localhost:8080/"
        },
        "outputId": "8ed34012-ff7a-4cc6-deb3-a8dfbf533d2c"
      },
      "source": [
        "compute_delta(110).item()  # It's not 0.5!! SOS"
      ],
      "execution_count": 65,
      "outputs": [
        {
          "output_type": "execute_result",
          "data": {
            "text/plain": [
              "0.4027366638183594"
            ]
          },
          "metadata": {
            "tags": []
          },
          "execution_count": 65
        }
      ]
    },
    {
      "cell_type": "code",
      "metadata": {
        "id": "YMyME_1WCGZz",
        "colab": {
          "base_uri": "https://localhost:8080/"
        },
        "outputId": "040d79b9-bc60-4d79-b120-910e8cd91bb0"
      },
      "source": [
        "compute_delta(102).item() # Close to 0.5"
      ],
      "execution_count": 22,
      "outputs": [
        {
          "output_type": "execute_result",
          "data": {
            "text/plain": [
              "0.502777099609375"
            ]
          },
          "metadata": {
            "tags": []
          },
          "execution_count": 22
        }
      ]
    },
    {
      "cell_type": "markdown",
      "metadata": {
        "id": "yNB8LPwfBMHQ"
      },
      "source": [
        "# Gamma"
      ]
    },
    {
      "cell_type": "markdown",
      "metadata": {
        "id": "oLO_5nEGVcEc"
      },
      "source": [
        "Calculating the second order derivative is easy in PyTorch too. We just need to apply the `grad` function twice. Use this mechanism, we can calculate the second order derivatives $\\frac{\\partial^2 P}{\\partial K \\partial S_0}$, $\\frac{\\partial^2 P}{\\partial B \\partial S_0}$, $\\frac{\\partial^2 P}{\\partial S_0^2}$, $\\frac{\\partial^2 P}{\\partial \\sigma \\partial S_0}$, $\\frac{\\partial^2 P}{\\partial \\mu \\partial S_0}$, $\\frac{\\partial^2 P}{\\partial r \\partial S_0}$ in the following example."
      ]
    },
    {
      "cell_type": "code",
      "metadata": {
        "id": "nGzj7A3sThZK",
        "colab": {
          "base_uri": "https://localhost:8080/"
        },
        "outputId": "2f477244-2c9a-41e4-ab0e-a6b10a608b13"
      },
      "source": [
        "import torch\n",
        "from torch import Tensor\n",
        "from torch.autograd import Variable\n",
        "from torch.autograd import grad\n",
        "from torch import nn\n",
        "\n",
        "inputs = torch.tensor([[110.0, 0.0, 110.0, 0.35, 0.1, 0.05]*3]).cuda()\n",
        "inputs.requires_grad = True\n",
        "x = model(inputs)\n",
        "\n",
        "# instead of using loss.backward(), use torch.autograd.grad() to compute gradients\n",
        "# https://pytorch.org/docs/stable/autograd.html#torch.autograd.grad\n",
        "loss_grads = grad(x, inputs, create_graph=True)\n",
        "drv = grad(loss_grads[0][0][2], inputs)\n",
        "drv"
      ],
      "execution_count": null,
      "outputs": [
        {
          "output_type": "execute_result",
          "data": {
            "text/plain": [
              "(tensor([[-1.6023e-03, -2.3967e-01,  4.9180e-03, -8.3777e-02,  4.3252e-01,\n",
              "          -3.4538e-01, -1.6144e-03, -3.7401e-01, -4.7186e-05,  1.0418e-02,\n",
              "           1.3443e-02,  9.7121e-02, -1.6194e-03,  5.3559e-01, -8.4335e-05,\n",
              "           1.6220e-02, -4.6263e-03,  2.4582e-02]], device='cuda:0'),)"
            ]
          },
          "metadata": {
            "tags": []
          },
          "execution_count": 14
        }
      ]
    },
    {
      "cell_type": "markdown",
      "metadata": {
        "id": "WJbZYtvhVmSo"
      },
      "source": [
        "Gamma is the second order differenation of `S`. We can plot the the Gamma curve as a function of the stock price"
      ]
    },
    {
      "cell_type": "code",
      "metadata": {
        "id": "3JpQa3EJToA0",
        "colab": {
          "base_uri": "https://localhost:8080/",
          "height": 296
        },
        "outputId": "62b8c7a0-f5ae-4681-ba3b-b7c386f129aa"
      },
      "source": [
        "##Using gradient, Change only 1 S0 at a time\n",
        "import pylab\n",
        "import numpy as np\n",
        "def compute_gamma(S):\n",
        "    inputs = torch.tensor([[110.0, 0.0, S, 0.35, 0.1, 0.05] + ([110.0, 0.0, 110.0, 0.35, 0.1, 0.05]*2)]).cuda()\n",
        "    inputs.requires_grad = True\n",
        "    x = model(inputs.float())\n",
        "    #x = model(inputs)\n",
        "    loss_grads = grad(x, inputs, create_graph=True)\n",
        "    drv = grad(loss_grads[0][0][2], inputs)\n",
        "    return drv[0][0][2]\n",
        "\n",
        "prices = np.arange(10, 200, 0.1)\n",
        "gammas = []\n",
        "for p in prices:\n",
        "    gammas.append(compute_gamma(p).item())\n",
        "fig2 = pylab.plot(prices, gammas)\n",
        "pylab.xlabel('prices')\n",
        "pylab.ylabel('Gamma')\n",
        "fig2"
      ],
      "execution_count": null,
      "outputs": [
        {
          "output_type": "execute_result",
          "data": {
            "text/plain": [
              "[<matplotlib.lines.Line2D at 0x7fe4801c6cd0>]"
            ]
          },
          "metadata": {
            "tags": []
          },
          "execution_count": 15
        },
        {
          "output_type": "display_data",
          "data": {
            "image/png": "[encoded data removed]",
            "text/plain": [
              "<Figure size 432x288 with 1 Axes>"
            ]
          },
          "metadata": {
            "tags": [],
            "needs_background": "light"
          }
        }
      ]
    },
    {
      "cell_type": "code",
      "metadata": {
        "id": "BsoaOyCDxQy0",
        "colab": {
          "base_uri": "https://localhost:8080/",
          "height": 296
        },
        "outputId": "fa4f517b-b341-4643-cea4-0ee905784f40"
      },
      "source": [
        "##Using Finite Difference, Change only 1 S0 at a time\n",
        "%matplotlib inline\n",
        "import numpy as np\n",
        "def compute_gamma(S):\n",
        "    epsilon = 0.5\n",
        "    inputs1 = torch.tensor([[110.0, 0.0, S, 0.35, 0.1, 0.05]  + ([110.0, 0.0, 110.0, 0.35, 0.1, 0.05]*2)]).cuda()\n",
        "    inputs2 = torch.tensor([[110.0, 0.0, S + epsilon, 0.35, 0.1, 0.05]  + ([110.0, 0.0, 110.0, 0.35, 0.1, 0.05]*2)]).cuda()\n",
        "    inputs3 = torch.tensor([[110.0, 0.0, S - epsilon, 0.35, 0.1, 0.05]  + ([110.0, 0.0, 110.0, 0.35, 0.1, 0.05]*2)]).cuda()\n",
        "    gamma = (model(inputs2.float()) - 2*model(inputs1.float()) + model(inputs3.float()))/(epsilon**2)\n",
        "    return gamma\n",
        "prices = np.arange(10, 200, 0.1)\n",
        "gammas = []\n",
        "for p in prices:\n",
        "    gammas.append(compute_gamma(p).item())\n",
        "fig = pylab.plot(prices, gammas)\n",
        "pylab.xlabel('prices')\n",
        "pylab.ylabel('Gamma')\n",
        "fig"
      ],
      "execution_count": null,
      "outputs": [
        {
          "output_type": "execute_result",
          "data": {
            "text/plain": [
              "[<matplotlib.lines.Line2D at 0x7fe4801b8450>]"
            ]
          },
          "metadata": {
            "tags": []
          },
          "execution_count": 16
        },
        {
          "output_type": "display_data",
          "data": {
            "image/png": "[encoded data removed]",
            "text/plain": [
              "<Figure size 432x288 with 1 Axes>"
            ]
          },
          "metadata": {
            "tags": [],
            "needs_background": "light"
          }
        }
      ]
    },
    {
      "cell_type": "code",
      "metadata": {
        "colab": {
          "base_uri": "https://localhost:8080/",
          "height": 296
        },
        "id": "aOsXgOwWZ_ru",
        "outputId": "0e3893c5-a64c-4187-d350-b01c53751003"
      },
      "source": [
        "##Using Finite Difference, Change 3 S0 at a time\n",
        "%matplotlib inline\n",
        "import numpy as np\n",
        "def compute_gamma(S):\n",
        "    epsilon = 0.5\n",
        "    inputs1 = torch.tensor([[110.0, 0.0, S, 0.35, 0.1, 0.05]*3]).cuda()\n",
        "    inputs2 = torch.tensor([[110.0, 0.0, S + epsilon, 0.35, 0.1, 0.05]*3]).cuda()\n",
        "    inputs3 = torch.tensor([[110.0, 0.0, S - epsilon, 0.35, 0.1, 0.05]*3]).cuda()\n",
        "    gamma = (model(inputs2.float()) - 2*model(inputs1.float()) + model(inputs3.float()))/(epsilon**2)\n",
        "    return gamma\n",
        "prices = np.arange(10, 200, 0.1)\n",
        "gammas = []\n",
        "for p in prices:\n",
        "    gammas.append(compute_gamma(p).item())\n",
        "fig = pylab.plot(prices, gammas)\n",
        "pylab.xlabel('prices')\n",
        "pylab.ylabel('Gamma')\n",
        "fig"
      ],
      "execution_count": null,
      "outputs": [
        {
          "output_type": "execute_result",
          "data": {
            "text/plain": [
              "[<matplotlib.lines.Line2D at 0x7fe4801208d0>]"
            ]
          },
          "metadata": {
            "tags": []
          },
          "execution_count": 17
        },
        {
          "output_type": "display_data",
          "data": {
            "image/png": "[encoded data removed]",
            "text/plain": [
              "<Figure size 432x288 with 1 Axes>"
            ]
          },
          "metadata": {
            "tags": [],
            "needs_background": "light"
          }
        }
      ]
    },
    {
      "cell_type": "markdown",
      "metadata": {
        "id": "67lca2xrBh9a"
      },
      "source": [
        "# Vega"
      ]
    },
    {
      "cell_type": "code",
      "metadata": {
        "id": "muozc-hzhSGA",
        "colab": {
          "base_uri": "https://localhost:8080/",
          "height": 296
        },
        "outputId": "a141b74b-9e67-4f25-a3ae-389e6a42961e"
      },
      "source": [
        "##Using gradient, Change only 1 S0 at a time\n",
        "# vega\n",
        "%matplotlib inline\n",
        "import numpy as np\n",
        "def compute_vega(S):\n",
        "    epsilon = 0.5\n",
        "    inputs1 = torch.tensor([[110.0, 0.0, S, 0.35, 0.1, 0.05] + ([110.0, 0.0, 110.0, 0.35, 0.1, 0.05]*2)]).cuda()\n",
        "    inputs2 = torch.tensor([[110.0, 0.0, S, 0.35 + epsilon, 0.1, 0.05] + ([110.0, 0.0, 110.0, 0.35, 0.1, 0.05]*2)]).cuda()\n",
        "    vega = (model(inputs2.float()) - model(inputs1.float()))/epsilon\n",
        "    return vega\n",
        "prices = np.arange(10, 200, 0.1)\n",
        "vegas = []\n",
        "for p in prices:\n",
        "    vegas.append(compute_vega(p).item())\n",
        "fig = pylab.plot(prices, vegas)\n",
        "pylab.xlabel('prices')\n",
        "pylab.ylabel('Vega')\n",
        "fig"
      ],
      "execution_count": null,
      "outputs": [
        {
          "output_type": "execute_result",
          "data": {
            "text/plain": [
              "[<matplotlib.lines.Line2D at 0x7fb166b0d190>]"
            ]
          },
          "metadata": {
            "tags": []
          },
          "execution_count": 20
        },
        {
          "output_type": "display_data",
          "data": {
            "image/png": "[encoded data removed]",
            "text/plain": [
              "<Figure size 432x288 with 1 Axes>"
            ]
          },
          "metadata": {
            "tags": [],
            "needs_background": "light"
          }
        }
      ]
    },
    {
      "cell_type": "code",
      "metadata": {
        "colab": {
          "base_uri": "https://localhost:8080/",
          "height": 296
        },
        "id": "0KATxBCAdlFt",
        "outputId": "8ca0307a-932f-4b83-b3ee-976d9ddf74b2"
      },
      "source": [
        "##Using Finite Difference, Change 3 S0 at a timev\n",
        "# vega\n",
        "%matplotlib inline\n",
        "import numpy as np\n",
        "def compute_vega(S):\n",
        "    epsilon = 0.5\n",
        "    inputs1 = torch.tensor([[110.0, 0.0, S, 0.35, 0.1, 0.05]*3]).cuda()\n",
        "    inputs2 = torch.tensor([[110.0, 0.0, S, 0.35 + epsilon, 0.1, 0.05]*3]).cuda()\n",
        "    vega = (model(inputs2.float()) - model(inputs1.float()))/epsilon\n",
        "    return vega\n",
        "prices = np.arange(10, 200, 0.1)\n",
        "vegas = []\n",
        "for p in prices:\n",
        "    vegas.append(compute_vega(p).item())\n",
        "fig = pylab.plot(prices, vegas)\n",
        "pylab.xlabel('prices')\n",
        "pylab.ylabel('Vega')\n",
        "fig"
      ],
      "execution_count": null,
      "outputs": [
        {
          "output_type": "execute_result",
          "data": {
            "text/plain": [
              "[<matplotlib.lines.Line2D at 0x7fe4800b3c90>]"
            ]
          },
          "metadata": {
            "tags": []
          },
          "execution_count": 18
        },
        {
          "output_type": "display_data",
          "data": {
            "image/png": "[encoded data removed]",
            "text/plain": [
              "<Figure size 432x288 with 1 Axes>"
            ]
          },
          "metadata": {
            "tags": [],
            "needs_background": "light"
          }
        }
      ]
    },
    {
      "cell_type": "markdown",
      "metadata": {
        "id": "Rj7NlW6GVqSA"
      },
      "source": [
        "[Implied volatility](https://en.wikipedia.org/wiki/Implied_volatility) is the forecasted volatility of the underlying asset based on the quoted prices of the option. It is the reverse mapping of price to the option parameter given the model which is hard to do with the Monte Carlo simulation approach. But if we have the deep learning pricing model, it is an easy task. We can first plot the relationship between volatility and the option price"
      ]
    },
    {
      "cell_type": "code",
      "metadata": {
        "id": "4yrCw5UNT07t",
        "colab": {
          "base_uri": "https://localhost:8080/",
          "height": 296
        },
        "outputId": "190d5877-924a-44ce-ecdb-50d5438767ae"
      },
      "source": [
        "import pylab\n",
        "import numpy as np\n",
        "def compute_price(sigma):\n",
        "    inputs = torch.tensor([[110.0, 0.0, 110.0, sigma, 0.1, 0.05] + ([110.0, 0.0, 110.0, 0.35, 0.1, 0.05]*2)]).cuda()\n",
        "    x = model(inputs.float())\n",
        "    #x = model(inputs)\n",
        "    return x.item()\n",
        "sigmas = np.arange(0, 0.5, 0.1)\n",
        "prices = []\n",
        "for s in sigmas:\n",
        "    prices.append(compute_price(s))\n",
        "fig3 = pylab.plot(sigmas, prices)\n",
        "pylab.xlabel('Sigma')\n",
        "pylab.ylabel('Price')\n",
        "fig3"
      ],
      "execution_count": null,
      "outputs": [
        {
          "output_type": "execute_result",
          "data": {
            "text/plain": [
              "[<matplotlib.lines.Line2D at 0x7f21eccb09d0>]"
            ]
          },
          "metadata": {
            "tags": []
          },
          "execution_count": 34
        },
        {
          "output_type": "display_data",
          "data": {
            "image/png": "[encoded data removed]",
            "text/plain": [
              "<Figure size 432x288 with 1 Axes>"
            ]
          },
          "metadata": {
            "tags": [],
            "needs_background": "light"
          }
        }
      ]
    },
    {
      "cell_type": "markdown",
      "metadata": {
        "id": "EU25Cj29VtCa"
      },
      "source": [
        "Given the prices `P`, the implied volatility is the root of the function `compute_price`. We can use bisection to find the root."
      ]
    },
    {
      "cell_type": "code",
      "metadata": {
        "id": "ddHnwm_zUBYD",
        "colab": {
          "base_uri": "https://localhost:8080/",
          "height": 236
        },
        "outputId": "3b564d6a-8e79-48a5-d27e-80d7550f8e72"
      },
      "source": [
        "def bisection_root(small, large, fun, target, EPS=1e-6):\n",
        "    if fun(large) - target < 0:\n",
        "        print('upper bound is too small')\n",
        "        return None\n",
        "    if fun(small) - target > 0:\n",
        "        print('lower bound is too large')\n",
        "        return None\n",
        "    while large - small > EPS:\n",
        "        mid = (large + small) / 2.0\n",
        "        if fun(mid) - target >= 0:\n",
        "            large = mid\n",
        "        else:\n",
        "            small = mid\n",
        "    mid = (large + small) / 2.0\n",
        "    return mid, abs(fun(mid) - target)\n",
        "quoted_price = 16.0\n",
        "sigma, err = bisection_root(0, 0.5, compute_price, quoted_price)\n",
        "print('implied volativity', sigma, 'error', err)     "
      ],
      "execution_count": null,
      "outputs": [
        {
          "output_type": "stream",
          "text": [
            "upper bound is too small\n"
          ],
          "name": "stdout"
        },
        {
          "output_type": "error",
          "ename": "TypeError",
          "evalue": "ignored",
          "traceback": [
            "\u001b[0;31m---------------------------------------------------------------------------\u001b[0m",
            "\u001b[0;31mTypeError\u001b[0m                                 Traceback (most recent call last)",
            "\u001b[0;32m<ipython-input-14-ade689496c71>\u001b[0m in \u001b[0;36m<module>\u001b[0;34m()\u001b[0m\n\u001b[1;32m     15\u001b[0m     \u001b[0;32mreturn\u001b[0m \u001b[0mmid\u001b[0m\u001b[0;34m,\u001b[0m \u001b[0mabs\u001b[0m\u001b[0;34m(\u001b[0m\u001b[0mfun\u001b[0m\u001b[0;34m(\u001b[0m\u001b[0mmid\u001b[0m\u001b[0;34m)\u001b[0m \u001b[0;34m-\u001b[0m \u001b[0mtarget\u001b[0m\u001b[0;34m)\u001b[0m\u001b[0;34m\u001b[0m\u001b[0;34m\u001b[0m\u001b[0m\n\u001b[1;32m     16\u001b[0m \u001b[0mquoted_price\u001b[0m \u001b[0;34m=\u001b[0m \u001b[0;36m16.0\u001b[0m\u001b[0;34m\u001b[0m\u001b[0;34m\u001b[0m\u001b[0m\n\u001b[0;32m---> 17\u001b[0;31m \u001b[0msigma\u001b[0m\u001b[0;34m,\u001b[0m \u001b[0merr\u001b[0m \u001b[0;34m=\u001b[0m \u001b[0mbisection_root\u001b[0m\u001b[0;34m(\u001b[0m\u001b[0;36m0\u001b[0m\u001b[0;34m,\u001b[0m \u001b[0;36m0.5\u001b[0m\u001b[0;34m,\u001b[0m \u001b[0mcompute_price\u001b[0m\u001b[0;34m,\u001b[0m \u001b[0mquoted_price\u001b[0m\u001b[0;34m)\u001b[0m\u001b[0;34m\u001b[0m\u001b[0;34m\u001b[0m\u001b[0m\n\u001b[0m\u001b[1;32m     18\u001b[0m \u001b[0mprint\u001b[0m\u001b[0;34m(\u001b[0m\u001b[0;34m'implied volativity'\u001b[0m\u001b[0;34m,\u001b[0m \u001b[0msigma\u001b[0m\u001b[0;34m,\u001b[0m \u001b[0;34m'error'\u001b[0m\u001b[0;34m,\u001b[0m \u001b[0merr\u001b[0m\u001b[0;34m)\u001b[0m\u001b[0;34m\u001b[0m\u001b[0;34m\u001b[0m\u001b[0m\n",
            "\u001b[0;31mTypeError\u001b[0m: cannot unpack non-iterable NoneType object"
          ]
        }
      ]
    }
  ]
}