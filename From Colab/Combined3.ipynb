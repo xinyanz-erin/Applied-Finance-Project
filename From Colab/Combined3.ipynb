{
  "nbformat": 4,
  "nbformat_minor": 0,
  "metadata": {
    "kernelspec": {
      "display_name": "Python 3",
      "language": "python",
      "name": "python3"
    },
    "language_info": {
      "codemirror_mode": {
        "name": "ipython",
        "version": 3
      },
      "file_extension": ".py",
      "mimetype": "text/x-python",
      "name": "python",
      "nbconvert_exporter": "python",
      "pygments_lexer": "ipython3",
      "version": "3.6.9"
    },
    "colab": {
      "name": "Combined.ipynb",
      "provenance": [],
      "collapsed_sections": [
        "NwN6aLFDnwiy",
        "dBOv_RiBsCWa",
        "u2_89jOknwjH"
      ],
      "include_colab_link": true
    },
    "accelerator": "GPU"
  },
  "cells": [
    {
      "cell_type": "markdown",
      "metadata": {
        "id": "view-in-github",
        "colab_type": "text"
      },
      "source": [
        "<a href=\"https://colab.research.google.com/github/xinyanz-erin/Applied-Finance-Project/blob/Judy/From%20Colab/Combined3.ipynb\" target=\"_parent\"><img src=\"https://colab.research.google.com/assets/colab-badge.svg\" alt=\"Open In Colab\"/></a>"
      ]
    },
    {
      "cell_type": "code",
      "metadata": {
        "id": "gCR6hhw5Xq_R"
      },
      "source": [
        "import warnings\n",
        "warnings.filterwarnings('ignore')"
      ],
      "execution_count": 1,
      "outputs": []
    },
    {
      "cell_type": "code",
      "metadata": {
        "colab": {
          "base_uri": "https://localhost:8080/"
        },
        "id": "gSxOZk3ls2XQ",
        "outputId": "5bf53f9c-4303-4856-af46-9a48edfe2e46"
      },
      "source": [
        "!curl https://colab.chainer.org/install |sh -\n",
        "import cupy"
      ],
      "execution_count": 2,
      "outputs": [
        {
          "output_type": "stream",
          "text": [
            "  % Total    % Received % Xferd  Average Speed   Time    Time     Time  Current\n",
            "                                 Dload  Upload   Total   Spent    Left  Speed\n",
            "\r  0     0    0     0    0     0      0      0 --:--:-- --:--:-- --:--:--     0\r100  1580  100  1580    0     0  18160      0 --:--:-- --:--:-- --:--:-- 18160\n",
            "+ apt -y -q install cuda-libraries-dev-10-0\n",
            "Reading package lists...\n",
            "Building dependency tree...\n",
            "Reading state information...\n",
            "cuda-libraries-dev-10-0 is already the newest version (10.0.130-1).\n",
            "0 upgraded, 0 newly installed, 0 to remove and 39 not upgraded.\n",
            "+ pip install -q cupy-cuda100  chainer \n",
            "\u001b[K     |████████████████████████████████| 58.9MB 51kB/s \n",
            "\u001b[K     |████████████████████████████████| 1.0MB 34.3MB/s \n",
            "\u001b[?25h  Building wheel for chainer (setup.py) ... \u001b[?25l\u001b[?25hdone\n",
            "+ set +ex\n",
            "Installation succeeded!\n"
          ],
          "name": "stdout"
        }
      ]
    },
    {
      "cell_type": "markdown",
      "metadata": {
        "id": "NwN6aLFDnwiy"
      },
      "source": [
        "### Deep Learning Barrier Option\n",
        "\n",
        "We used Numba and CuPy in the previous notebook to run Monte Carlo simulation to determine the price of the Asian Barrier option. A Monte Carlo simulation needs millions of paths to get an accurate answer which is computationally intensive. [Ryan et al (2018)](https://arxiv.org/abs/1809.02233) showed that a deep learning model can be trained to value derivatives. The deep learning model is accurate and very fast, capable of producing valuations a million times faster than traditional models. In the this notebook, we will use a fully connected network to learn the pricing mode of the Asian Barrier option. Monte Carlo simulation is used as pricing ground truth for the training. We use the same Asian Barrier Option model as last notebook with parameters listed as following:\n",
        "\n",
        "```\n",
        "T - Maturity (yrs.)\n",
        "S - Spot (usd)\n",
        "K - Strike (usd)\n",
        "sigma - Volatility (per.)\n",
        "r - Risk Free Rate (per.)\n",
        "mu - Stock Drift Rate (per.)\n",
        "B - Barrier (usd)\n",
        "```\n",
        "\n",
        "### Batched Data generation\n",
        "\n",
        "The dataset is an important part of the Deep learning training. We will modify the previous single Asian Barrier Option pricing code to handle a batch of Barrier Option pricing. "
      ]
    },
    {
      "cell_type": "code",
      "metadata": {
        "id": "cHYrh4iYfP-n",
        "outputId": "a0fc307f-bdb2-4302-c35b-afa0194d1c98",
        "colab": {
          "base_uri": "https://localhost:8080/"
        }
      },
      "source": [
        "N_STOCKS = 3\n",
        "X = cupy.random.rand(6 * N_STOCKS, dtype=cupy.float32)\n",
        "X"
      ],
      "execution_count": 8,
      "outputs": [
        {
          "output_type": "execute_result",
          "data": {
            "text/plain": [
              "array([0.9685302 , 0.01461156, 0.55097145, 0.71100914, 0.9359948 ,\n",
              "       0.64643526, 0.64802086, 0.3808537 , 0.28333536, 0.301618  ,\n",
              "       0.883602  , 0.4220532 , 0.789352  , 0.36992654, 0.18029445,\n",
              "       0.9048682 , 0.66439694, 0.49702853], dtype=float32)"
            ]
          },
          "metadata": {
            "tags": []
          },
          "execution_count": 8
        }
      ]
    },
    {
      "cell_type": "code",
      "metadata": {
        "id": "hy7qGwT0jv4A",
        "outputId": "a225af8a-0917-41b0-9e0e-8ff37451ea1e",
        "colab": {
          "base_uri": "https://localhost:8080/"
        }
      },
      "source": [
        "J = cupy.array([])\n",
        "#cupy.concatenate((cupy.array([1,1]), cupy.random.rand(3),cupy.array([1]),J))\n",
        "for i in range(0,N_STOCKS):\n",
        "  J =  cupy.concatenate((J,cupy.array([1,1]), cupy.random.rand(3),cupy.array([1])))\n",
        "J = J.reshape(N_STOCKS,6)\n",
        "J"
      ],
      "execution_count": 49,
      "outputs": [
        {
          "output_type": "execute_result",
          "data": {
            "text/plain": [
              "array([[1.        , 1.        , 0.9798443 , 0.4155168 , 0.21913677,\n",
              "        1.        ],\n",
              "       [1.        , 1.        , 0.00117758, 0.74957022, 0.59564547,\n",
              "        1.        ],\n",
              "       [1.        , 1.        , 0.99648469, 0.92795319, 0.38051146,\n",
              "        1.        ]])"
            ]
          },
          "metadata": {
            "tags": []
          },
          "execution_count": 49
        }
      ]
    },
    {
      "cell_type": "code",
      "metadata": {
        "id": "9OHtAXC8hVae",
        "outputId": "997c0885-4e5a-406a-f090-5abeddcf335c",
        "colab": {
          "base_uri": "https://localhost:8080/"
        }
      },
      "source": [
        "J = J * ((cupy.array([200.0, 0, 200.0, 0.4, 0.2, 0.2] * N_STOCKS, dtype = cupy.float32)).reshape(N_STOCKS, 6))\n",
        "J"
      ],
      "execution_count": 51,
      "outputs": [
        {
          "output_type": "execute_result",
          "data": {
            "text/plain": [
              "array([[2.00000000e+02, 0.00000000e+00, 1.95968859e+02, 1.66206722e-01,\n",
              "        4.38273540e-02, 2.00000003e-01],\n",
              "       [2.00000000e+02, 0.00000000e+00, 2.35516276e-01, 2.99828092e-01,\n",
              "        1.19129095e-01, 2.00000003e-01],\n",
              "       [2.00000000e+02, 0.00000000e+00, 1.99296939e+02, 3.71181280e-01,\n",
              "        7.61022937e-02, 2.00000003e-01]])"
            ]
          },
          "metadata": {
            "tags": []
          },
          "execution_count": 51
        }
      ]
    },
    {
      "cell_type": "code",
      "metadata": {
        "id": "ghk_bQ44oSTK",
        "outputId": "3158c439-e7b6-47f0-9944-69ddf43b3a03",
        "colab": {
          "base_uri": "https://localhost:8080/"
        }
      },
      "source": [
        "J"
      ],
      "execution_count": 48,
      "outputs": [
        {
          "output_type": "execute_result",
          "data": {
            "text/plain": [
              "array([[4.00000000e+04, 0.00000000e+00, 2.74365314e+04, 4.07887723e-02,\n",
              "        1.25221396e-02, 4.00000012e-02],\n",
              "       [4.00000000e+04, 0.00000000e+00, 1.93309376e+04, 8.57991447e-02,\n",
              "        3.99256784e-02, 4.00000012e-02],\n",
              "       [4.00000000e+04, 0.00000000e+00, 1.01327826e+04, 1.96253711e-02,\n",
              "        2.54342359e-02, 4.00000012e-02]])"
            ]
          },
          "metadata": {
            "tags": []
          },
          "execution_count": 48
        }
      ]
    },
    {
      "cell_type": "code",
      "metadata": {
        "id": "Orf3qBi8oQb4",
        "outputId": "335e0701-9147-4f5a-f98c-ee6310aac340",
        "colab": {
          "base_uri": "https://localhost:8080/"
        }
      },
      "source": [
        "(cupy.array([200.0, 0, 200.0, 0.4, 0.2, 0.2] * N_STOCKS, dtype = cupy.float32)).reshape(N_STOCKS, 6)"
      ],
      "execution_count": 47,
      "outputs": [
        {
          "output_type": "execute_result",
          "data": {
            "text/plain": [
              "array([[200. ,   0. , 200. ,   0.4,   0.2,   0.2],\n",
              "       [200. ,   0. , 200. ,   0.4,   0.2,   0.2],\n",
              "       [200. ,   0. , 200. ,   0.4,   0.2,   0.2]], dtype=float32)"
            ]
          },
          "metadata": {
            "tags": []
          },
          "execution_count": 47
        }
      ]
    },
    {
      "cell_type": "code",
      "metadata": {
        "id": "i8jtkwqAh7rX",
        "outputId": "2c312f90-9d15-4a97-a057-845a30a9ffac",
        "colab": {
          "base_uri": "https://localhost:8080/"
        }
      },
      "source": [
        "a * J"
      ],
      "execution_count": 44,
      "outputs": [
        {
          "output_type": "execute_result",
          "data": {
            "text/plain": [
              "array([[2.00000000e+02, 0.00000000e+00, 1.37182657e+02, 1.01971929e-01,\n",
              "        6.26106973e-02, 2.00000003e-01],\n",
              "       [2.00000000e+02, 0.00000000e+00, 9.66546880e+01, 2.14497858e-01,\n",
              "        1.99628389e-01, 2.00000003e-01],\n",
              "       [2.00000000e+02, 0.00000000e+00, 5.06639131e+01, 4.90634271e-02,\n",
              "        1.27171178e-01, 2.00000003e-01]])"
            ]
          },
          "metadata": {
            "tags": []
          },
          "execution_count": 44
        }
      ]
    },
    {
      "cell_type": "code",
      "metadata": {
        "id": "kIthQw8YfTU1"
      },
      "source": [
        "[K,B,S0,sigma,mu,r]"
      ],
      "execution_count": null,
      "outputs": []
    },
    {
      "cell_type": "markdown",
      "metadata": {
        "id": "TY_9g3tbdLiY"
      },
      "source": [
        "# TEST_ERIN"
      ]
    },
    {
      "cell_type": "code",
      "metadata": {
        "colab": {
          "base_uri": "https://localhost:8080/"
        },
        "id": "qBxT9Eida-c_",
        "outputId": "39e00b57-f548-43c7-a2ce-8b1f673f5d37"
      },
      "source": [
        "################################# TEST ########################################\n",
        "%%writefile cupy_dataset.py\n",
        "\n",
        "import numba\n",
        "from numba import cuda\n",
        "import random\n",
        "import cupy\n",
        "import numpy as np\n",
        "import math\n",
        "import time\n",
        "import torch\n",
        "cupy.cuda.set_allocator(None)\n",
        "from torch.utils.dlpack import from_dlpack\n",
        "\n",
        "@cuda.jit\n",
        "def batch_barrier_option(d_s, T, K, B, S0, sigma, mu, r, d_normals, N_STEPS, N_PATHS, N_BATCH):\n",
        "    # ii - overall thread index\n",
        "    ii = cuda.threadIdx.x + cuda.blockIdx.x * cuda.blockDim.x\n",
        "    stride = cuda.gridDim.x * cuda.blockDim.x\n",
        "    tmp3 = math.sqrt(T/N_STEPS)\n",
        "    for i in range(ii, N_PATHS * N_BATCH, stride):\n",
        "        batch_id = i // N_PATHS\n",
        "        path_id = i % N_PATHS\n",
        "        tmp1 = mu[batch_id]*T/N_STEPS\n",
        "        tmp2 = math.exp(-r[batch_id]*T)\n",
        "        running_average = 0.0\n",
        "        s_curr = S0[batch_id]\n",
        "        for n in range(N_STEPS):\n",
        "            s_curr += tmp1 * s_curr + sigma[batch_id]*s_curr*tmp3*d_normals[path_id + batch_id * N_PATHS + n * N_PATHS * N_BATCH] # stock price\n",
        "            running_average = running_average + 1.0/(n + 1.0) * (s_curr - running_average) # average of the path\n",
        "            if i==0 and batch_id == 2:\n",
        "                print(s_curr)\n",
        "            if running_average <= B[batch_id]: # if reach barrier, drop out the path\n",
        "                break\n",
        "        payoff = running_average - K[batch_id] if running_average > K[batch_id] else 0\n",
        "        d_s[i] = tmp2 * payoff\n",
        "\n",
        "class NumbaOptionDataSet(object):\n",
        "    \n",
        "    def __init__(self, max_len=10, number_path = 1000, batch=2, threads=512, seed=15, stocks=3):\n",
        "        self.num = 0\n",
        "        self.max_length = max_len\n",
        "        self.N_PATHS = number_path\n",
        "        self.N_STEPS = 365\n",
        "        self.N_BATCH = batch\n",
        "        self.N_STOCKS = stocks\n",
        "        self.T = np.float32(1.0)\n",
        "        self.output = cupy.zeros(self.N_STOCKS*self.N_PATHS, dtype=cupy.float32) \n",
        "        self.number_of_blocks = (self.N_PATHS * self.N_STOCKS - 1) // threads + 1\n",
        "        self.number_of_threads = threads\n",
        "        cupy.random.seed(seed)\n",
        "        \n",
        "    def __len__(self):\n",
        "        return self.max_length\n",
        "        \n",
        "    def __iter__(self):\n",
        "        self.num = 0\n",
        "        return self\n",
        "    \n",
        "    def __next__(self):\n",
        "        if self.num > self.max_length:\n",
        "            raise StopIteration\n",
        "        \n",
        "        Y = cupy.zeros(self.N_BATCH, dtype=cupy.float32)\n",
        "        paras = cupy.zeros((self.N_BATCH, self.N_STOCKS * 6), dtype = cupy.float32)\n",
        "        for op in range(self.N_BATCH):\n",
        "\n",
        "          X = cupy.array([])\n",
        "          for i in range(0,self.N_STOCKS):\n",
        "            X =  cupy.concatenate((X,cupy.array([1,1]), cupy.random.rand(3),cupy.array([1])))\n",
        "          X = X.reshape(self.N_STOCKS,6)\n",
        "\n",
        "          X = X * ((cupy.array([200.0, 0, 200.0, 0.4, 0.2, 0.2] * self.N_STOCKS, dtype = cupy.float32)).reshape(self.N_STOCKS, 6))\n",
        "          #X = cupy.random.rand(6 * self.N_STOCKS, dtype=cupy.float32)\n",
        "          #X = 0.9 + cupy.random.rand(6 * self.N_STOCKS, dtype=cupy.float32)*0.1\n",
        "          # scale the [0, 1) random numbers to the correct range for each of the option parameters\n",
        "          #X = (X * cupy.array([200.0, 0.99, 200.0, 0.4, 0.2, 0.2] * self.N_STOCKS, dtype = cupy.float32)).reshape(self.N_STOCKS, 6)\n",
        "\n",
        "          # make sure the Barrier is smaller than the Strike price\n",
        "          # X[:, 1] = X[:, 0] * X[:, 1]\n",
        "          for i in range(self.N_STOCKS):\n",
        "            paras[op,i*6:(i+1)*6] = X[i,:]\n",
        "\n",
        "          stocks_randoms_mean = cupy.zeros(self.N_STOCKS, dtype = cupy.float32)\n",
        "          rho = cupy.random.normal(0, 1, self.N_STOCKS, dtype = cupy.float32)\n",
        "\n",
        "          #stocks_randoms_cov = cupy.ones((self.N_STOCKS, self.N_STOCKS), dtype = cupy.float32)\n",
        "          #cupy.fill_diagonal(stocks_randoms_cov, rho)\n",
        "\n",
        "          #stocks_randoms_cov = (-0.99 + cupy.random.rand(self.N_STOCKS*self.N_STOCKS, dtype=cupy.float32)*2*0.99).reshape(self.N_STOCKS,self.N_STOCKS)\n",
        "          stocks_randoms_cov = cupy.array([0.5] * self.N_STOCKS*self.N_STOCKS, dtype = cupy.float32).reshape(self.N_STOCKS,self.N_STOCKS)\n",
        "          cupy.fill_diagonal(stocks_randoms_cov, 1)\n",
        "\n",
        "          num_of_randoms_each_stock = self.N_PATHS * self.N_STEPS\n",
        "          randoms_gpu = cupy.random.multivariate_normal(stocks_randoms_mean, stocks_randoms_cov,\n",
        "                                                        num_of_randoms_each_stock, dtype=cupy.float32)\n",
        "          b1_r = randoms_gpu[:,0]\n",
        "          b2_r = randoms_gpu[:,1]\n",
        "          randoms = cupy.zeros(self.N_STOCKS * self.N_PATHS * self.N_STEPS, dtype=cupy.float32)\n",
        "          interval = int((self.N_PATHS * self.N_STEPS * self.N_STOCKS) / self.N_PATHS)\n",
        "          for i in range(interval):\n",
        "            if i % 2 == 0:\n",
        "                ind = int(i/2)\n",
        "                randoms[i*self.N_PATHS:(i+1)*self.N_PATHS] = b1_r[ind:(ind+self.N_PATHS)]\n",
        "            else:\n",
        "                ind = int(i//2)\n",
        "                randoms[i*self.N_PATHS:(i+1)*self.N_PATHS] = b2_r[ind:(ind+self.N_PATHS)]\n",
        "\n",
        "          randoms = cupy.random.normal(0, 1, self.N_STOCKS * self.N_PATHS * self.N_STEPS, dtype=cupy.float32)\n",
        "          batch_barrier_option[(self.number_of_blocks,), (self.number_of_threads,)](self.output, self.T, X[:, 0], \n",
        "                                X[:, 1], X[:, 2], X[:, 3], X[:, 4], X[:, 5], randoms, self.N_STEPS, self.N_PATHS, self.N_STOCKS)\n",
        "          \n",
        "          o = self.output.reshape(self.N_STOCKS, self.N_PATHS)\n",
        "          Y[op] = o.mean(axis = 0).mean()\n",
        "\n",
        "        self.num += 1\n",
        "        return (from_dlpack(paras.toDlpack()), from_dlpack(Y.toDlpack()))\n",
        "\n",
        "\n",
        "\n",
        "# ds = NumbaOptionDataSet(10, number_path=100000, batch=3, seed=random.randint(0,100), stocks=5)\n",
        "# for i in ds:\n",
        "#     print(i[0])\n",
        "################################# TEST ########################################"
      ],
      "execution_count": null,
      "outputs": [
        {
          "output_type": "stream",
          "text": [
            "Overwriting cupy_dataset.py\n"
          ],
          "name": "stdout"
        }
      ]
    },
    {
      "cell_type": "markdown",
      "metadata": {
        "id": "u2_89jOknwjH"
      },
      "source": [
        "### Model\n",
        "To map the option parameters to price, we use 6 layers of fully connected neural network with hidden dimension 512 as inspired by [this paper](https://arxiv.org/abs/1809.02233). Writing this DL price model into a file `model.py`:-"
      ]
    },
    {
      "cell_type": "markdown",
      "metadata": {
        "id": "NMHqzJycx8XH"
      },
      "source": [
        "### Modified Model"
      ]
    },
    {
      "cell_type": "code",
      "metadata": {
        "id": "ZTn7iJQryAIH",
        "colab": {
          "base_uri": "https://localhost:8080/"
        },
        "outputId": "832679d4-138c-4198-c4b4-2c9bca7450db"
      },
      "source": [
        "%%writefile model.py\n",
        "import torch.nn as nn\n",
        "import torch.nn.functional as F\n",
        "import torch\n",
        "import numpy as np\n",
        "\n",
        "\n",
        "class Net(nn.Module):\n",
        "\n",
        "    def __init__(self, hidden=1024):\n",
        "        super(Net, self).__init__()\n",
        "        self.fc1 = nn.Linear(60, hidden) # remember to change this!\n",
        "        self.fc2 = nn.Linear(hidden, hidden)\n",
        "        self.fc3 = nn.Linear(hidden, hidden)\n",
        "        self.fc4 = nn.Linear(hidden, hidden)\n",
        "        self.fc5 = nn.Linear(hidden, hidden)\n",
        "        self.fc6 = nn.Linear(hidden, 1)\n",
        "        # self.register_buffer('norm',\n",
        "        #                      torch.tensor([200.0, 198.0, 200.0, 0.4, 0.2, 0.2,\n",
        "        #                                    200.0, 198.0, 200.0, 0.4, 0.2, 0.2,\n",
        "        #                                    200.0, 198.0, 200.0, 0.4, 0.2, 0.2])) # don't use numpy here - will give error later\n",
        "        self.register_buffer('norm',\n",
        "                             torch.tensor([200.0, 198.0, 200.0, 0.4, 0.2, 0.2]*10)) # don't use numpy here - will give error later\n",
        "\n",
        "    def forward(self, x):\n",
        "        # normalize the parameter to range [0-1] \n",
        "        x = x / self.norm\n",
        "        x = F.elu(self.fc1(x))\n",
        "        x = F.elu(self.fc2(x))\n",
        "        x = F.elu(self.fc3(x))\n",
        "        x = F.elu(self.fc4(x))\n",
        "        x = F.elu(self.fc5(x))\n",
        "        return self.fc6(x)"
      ],
      "execution_count": null,
      "outputs": [
        {
          "output_type": "stream",
          "text": [
            "Writing model.py\n"
          ],
          "name": "stdout"
        }
      ]
    },
    {
      "cell_type": "markdown",
      "metadata": {
        "id": "hSPRFqyznwjI"
      },
      "source": [
        "As we know the random parameters' scaling factors, the input parameters are first scaled back to a range of (0-1) by dividing them by (200.0, 198.0, 200.0, 0.4, 0.2, 0.2). Then they are projected 5 times to the hidden dimension of 512 after the `ELu` activation function. `ELu` is chosen because we need to compute the second order differentiation of the parameters. If use ReLu, the second order differentiation will always be zero. The last layer is a linear layer that maps the hidden dimension to the predicted option price. "
      ]
    },
    {
      "cell_type": "markdown",
      "metadata": {
        "id": "AM8J2liPnwjJ"
      },
      "source": [
        "For training, we use [Ignite](https://github.com/pytorch/ignite) which is a high-level library to train neural networks in PyTorch. We use `MSELoss` as the loss function, `Adam` as the optimizer and `CosineAnnealingScheduler` as the learning rate scheduler. The following code is feeding the random option data to the pricing model to train it."
      ]
    },
    {
      "cell_type": "markdown",
      "metadata": {
        "id": "yACi4ge13_rd"
      },
      "source": [
        "### Train"
      ]
    },
    {
      "cell_type": "code",
      "metadata": {
        "id": "1TyZT8_AH35M",
        "colab": {
          "base_uri": "https://localhost:8080/"
        },
        "outputId": "0fb753ac-a083-4738-aeea-0bd1aa0abbf6"
      },
      "source": [
        "!pip install pytorch-ignite"
      ],
      "execution_count": null,
      "outputs": [
        {
          "output_type": "stream",
          "text": [
            "Collecting pytorch-ignite\n",
            "\u001b[?25l  Downloading https://files.pythonhosted.org/packages/cc/c3/f472843797b5ccbb2f0e806a6927f52c7c9522bfcea8e7e881d39258368b/pytorch_ignite-0.4.5-py3-none-any.whl (221kB)\n",
            "\r\u001b[K     |█▌                              | 10kB 25.1MB/s eta 0:00:01\r\u001b[K     |███                             | 20kB 29.2MB/s eta 0:00:01\r\u001b[K     |████▍                           | 30kB 34.1MB/s eta 0:00:01\r\u001b[K     |██████                          | 40kB 35.8MB/s eta 0:00:01\r\u001b[K     |███████▍                        | 51kB 34.5MB/s eta 0:00:01\r\u001b[K     |████████▉                       | 61kB 34.3MB/s eta 0:00:01\r\u001b[K     |██████████▍                     | 71kB 34.6MB/s eta 0:00:01\r\u001b[K     |███████████▉                    | 81kB 32.2MB/s eta 0:00:01\r\u001b[K     |█████████████▎                  | 92kB 33.1MB/s eta 0:00:01\r\u001b[K     |██████████████▉                 | 102kB 34.7MB/s eta 0:00:01\r\u001b[K     |████████████████▎               | 112kB 34.7MB/s eta 0:00:01\r\u001b[K     |█████████████████▊              | 122kB 34.7MB/s eta 0:00:01\r\u001b[K     |███████████████████▏            | 133kB 34.7MB/s eta 0:00:01\r\u001b[K     |████████████████████▊           | 143kB 34.7MB/s eta 0:00:01\r\u001b[K     |██████████████████████▏         | 153kB 34.7MB/s eta 0:00:01\r\u001b[K     |███████████████████████▋        | 163kB 34.7MB/s eta 0:00:01\r\u001b[K     |█████████████████████████▏      | 174kB 34.7MB/s eta 0:00:01\r\u001b[K     |██████████████████████████▋     | 184kB 34.7MB/s eta 0:00:01\r\u001b[K     |████████████████████████████    | 194kB 34.7MB/s eta 0:00:01\r\u001b[K     |█████████████████████████████▋  | 204kB 34.7MB/s eta 0:00:01\r\u001b[K     |███████████████████████████████ | 215kB 34.7MB/s eta 0:00:01\r\u001b[K     |████████████████████████████████| 225kB 34.7MB/s \n",
            "\u001b[?25hRequirement already satisfied: torch<2,>=1.3 in /usr/local/lib/python3.7/dist-packages (from pytorch-ignite) (1.9.0+cu102)\n",
            "Requirement already satisfied: typing-extensions in /usr/local/lib/python3.7/dist-packages (from torch<2,>=1.3->pytorch-ignite) (3.7.4.3)\n",
            "Installing collected packages: pytorch-ignite\n",
            "Successfully installed pytorch-ignite-0.4.5\n"
          ],
          "name": "stdout"
        }
      ]
    },
    {
      "cell_type": "code",
      "metadata": {
        "id": "G4Ej82G8nwjJ",
        "colab": {
          "base_uri": "https://localhost:8080/"
        },
        "outputId": "c453b249-ae64-4395-d40a-5fa91bd9ddc7"
      },
      "source": [
        "from ignite.engine import Engine, Events\n",
        "from ignite.handlers import Timer\n",
        "from torch.nn import MSELoss\n",
        "from torch.optim import Adam\n",
        "from ignite.contrib.handlers.param_scheduler import CosineAnnealingScheduler\n",
        "from ignite.handlers import ModelCheckpoint\n",
        "from model import Net\n",
        "from cupy_dataset import NumbaOptionDataSet\n",
        "timer = Timer(average=True)\n",
        "model = Net().cuda()\n",
        "loss_fn = MSELoss()\n",
        "optimizer = Adam(model.parameters(), lr=1e-3)\n",
        "# dataset = NumbaOptionDataSet(max_len=10000, number_path = 1024, batch=4800)\n",
        "dataset = NumbaOptionDataSet(max_len=100, number_path = 2048, batch=8, stocks=10)\n",
        "\n",
        "def train_update(engine, batch):\n",
        "    model.train()\n",
        "    optimizer.zero_grad()\n",
        "    x = batch[0]\n",
        "    y = batch[1]\n",
        "    y_pred = model(x)\n",
        "    loss = loss_fn(y_pred[:,0], y)\n",
        "    loss.backward()\n",
        "    optimizer.step()\n",
        "    return loss.item()\n",
        "\n",
        "trainer = Engine(train_update)\n",
        "log_interval = 100\n",
        "\n",
        "scheduler = CosineAnnealingScheduler(optimizer, 'lr', 1e-4, 1e-6, len(dataset))\n",
        "trainer.add_event_handler(Events.ITERATION_STARTED, scheduler)\n",
        "timer.attach(trainer,\n",
        "             start=Events.EPOCH_STARTED,\n",
        "             resume=Events.ITERATION_STARTED,\n",
        "             pause=Events.ITERATION_COMPLETED,\n",
        "             step=Events.ITERATION_COMPLETED)    \n",
        "@trainer.on(Events.ITERATION_COMPLETED)\n",
        "def log_training_loss(engine):\n",
        "    iter = (engine.state.iteration - 1) % len(dataset) + 1\n",
        "    if iter % log_interval == 0:\n",
        "        print('loss', engine.state.output, 'average time', timer.value(), 'iter num', iter)\n",
        "        \n",
        "trainer.run(dataset, max_epochs=300)"
      ],
      "execution_count": null,
      "outputs": [
        {
          "output_type": "stream",
          "text": [
            "loss 79.44324493408203 average time 0.07722865029999895 iter num 100\n",
            "loss 68.36408996582031 average time 0.006558406179999565 iter num 100\n",
            "loss 94.816162109375 average time 0.00652295790999915 iter num 100\n",
            "loss 97.63288879394531 average time 0.006537781180001616 iter num 100\n",
            "loss 108.3715591430664 average time 0.006685236180002789 iter num 100\n",
            "loss 59.25494384765625 average time 0.006428280460007159 iter num 100\n",
            "loss 44.10157775878906 average time 0.006482841979997715 iter num 100\n",
            "loss 30.260089874267578 average time 0.0064975406000036175 iter num 100\n",
            "loss 40.38506317138672 average time 0.006531012689998192 iter num 100\n",
            "loss 39.134700775146484 average time 0.006516174819998355 iter num 100\n",
            "loss 32.539886474609375 average time 0.006463374950000684 iter num 100\n",
            "loss 94.96755981445312 average time 0.0065760922499998745 iter num 100\n",
            "loss 46.37235641479492 average time 0.006646164420008063 iter num 100\n",
            "loss 45.69060134887695 average time 0.006492551779997484 iter num 100\n",
            "loss 67.84097290039062 average time 0.006560731309998573 iter num 100\n",
            "loss 41.485801696777344 average time 0.006528050599998778 iter num 100\n",
            "loss 54.78816223144531 average time 0.006512258990001101 iter num 100\n",
            "loss 48.13533020019531 average time 0.00670180217000734 iter num 100\n",
            "loss 63.030452728271484 average time 0.006589774270005364 iter num 100\n",
            "loss 94.65559387207031 average time 0.006491491219998124 iter num 100\n",
            "loss 58.803497314453125 average time 0.006469522709995772 iter num 100\n",
            "loss 43.947654724121094 average time 0.006509462170006372 iter num 100\n",
            "loss 60.36643981933594 average time 0.006443219910001971 iter num 100\n",
            "loss 13.567159652709961 average time 0.006537264310004502 iter num 100\n",
            "loss 41.69667053222656 average time 0.006507517210002334 iter num 100\n",
            "loss 64.77500915527344 average time 0.0064885231800008115 iter num 100\n",
            "loss 35.94023132324219 average time 0.006516153279994797 iter num 100\n",
            "loss 115.07401275634766 average time 0.0064753225799984195 iter num 100\n",
            "loss 73.68865203857422 average time 0.006459950590004837 iter num 100\n",
            "loss 56.20675277709961 average time 0.006726818910015027 iter num 100\n",
            "loss 43.58281707763672 average time 0.006516455340004086 iter num 100\n",
            "loss 23.202123641967773 average time 0.006485172510006123 iter num 100\n",
            "loss 44.70256042480469 average time 0.0065232632000038395 iter num 100\n",
            "loss 10.84716796875 average time 0.006510243339989757 iter num 100\n",
            "loss 33.592918395996094 average time 0.00661340862000543 iter num 100\n",
            "loss 35.624019622802734 average time 0.006759376959998917 iter num 100\n",
            "loss 63.86769485473633 average time 0.0067392691200006995 iter num 100\n",
            "loss 20.532106399536133 average time 0.0065277209500004575 iter num 100\n",
            "loss 40.033729553222656 average time 0.006565767920012604 iter num 100\n",
            "loss 47.304115295410156 average time 0.006551922480002759 iter num 100\n",
            "loss 78.96353912353516 average time 0.006413393710006403 iter num 100\n",
            "loss 54.79295349121094 average time 0.006479127019997577 iter num 100\n",
            "loss 60.349674224853516 average time 0.006587760380000418 iter num 100\n",
            "loss 95.54339599609375 average time 0.0064428621700039915 iter num 100\n",
            "loss 48.895301818847656 average time 0.006507045930009099 iter num 100\n",
            "loss 7.277798652648926 average time 0.006361115590002555 iter num 100\n",
            "loss 19.34603500366211 average time 0.0064561481500004445 iter num 100\n",
            "loss 17.32828712463379 average time 0.006648312340016674 iter num 100\n",
            "loss 35.371299743652344 average time 0.00655263080001987 iter num 100\n",
            "loss 25.198495864868164 average time 0.0064508463199967996 iter num 100\n",
            "loss 45.02593994140625 average time 0.006420773740005643 iter num 100\n",
            "loss 54.439815521240234 average time 0.006422573129980264 iter num 100\n",
            "loss 11.990262031555176 average time 0.006384280079996643 iter num 100\n",
            "loss 56.07917022705078 average time 0.006382239759991535 iter num 100\n",
            "loss 42.822914123535156 average time 0.006505802339986531 iter num 100\n",
            "loss 52.68212127685547 average time 0.00653808812999614 iter num 100\n",
            "loss 13.9278564453125 average time 0.006416977969990967 iter num 100\n",
            "loss 83.91085052490234 average time 0.0065488247499911265 iter num 100\n",
            "loss 56.40644454956055 average time 0.006442472260005161 iter num 100\n",
            "loss 24.827938079833984 average time 0.006427473640001153 iter num 100\n",
            "loss 17.39632225036621 average time 0.00649803553001675 iter num 100\n",
            "loss 33.95979309082031 average time 0.00645227732000194 iter num 100\n",
            "loss 30.788957595825195 average time 0.006531284820002838 iter num 100\n",
            "loss 17.750764846801758 average time 0.006440002759993604 iter num 100\n",
            "loss 11.65474796295166 average time 0.006454021980009657 iter num 100\n",
            "loss 73.03752136230469 average time 0.006464152459980142 iter num 100\n",
            "loss 21.219446182250977 average time 0.006415281059994413 iter num 100\n",
            "loss 39.34074401855469 average time 0.006635406640007204 iter num 100\n",
            "loss 42.741798400878906 average time 0.006502740430014455 iter num 100\n",
            "loss 48.28438949584961 average time 0.00643513081997753 iter num 100\n",
            "loss 19.565479278564453 average time 0.0063986593600157 iter num 100\n",
            "loss 73.2364501953125 average time 0.006490320520042587 iter num 100\n",
            "loss 66.70870208740234 average time 0.00671532947997548 iter num 100\n",
            "loss 44.48828887939453 average time 0.006701018179992389 iter num 100\n",
            "loss 30.32391357421875 average time 0.006529594470011943 iter num 100\n",
            "loss 44.173439025878906 average time 0.006600251609988846 iter num 100\n",
            "loss 16.69168472290039 average time 0.006645894859998407 iter num 100\n",
            "loss 16.29865074157715 average time 0.006594592560009005 iter num 100\n",
            "loss 62.21220397949219 average time 0.0066085724999993545 iter num 100\n",
            "loss 47.334102630615234 average time 0.006610185909989923 iter num 100\n",
            "loss 37.42082214355469 average time 0.006482514789995548 iter num 100\n",
            "loss 21.983444213867188 average time 0.00653117983998527 iter num 100\n",
            "loss 26.711069107055664 average time 0.006452602780027519 iter num 100\n",
            "loss 88.87283325195312 average time 0.0065298742900631625 iter num 100\n",
            "loss 21.88137435913086 average time 0.006561515640009929 iter num 100\n",
            "loss 29.547428131103516 average time 0.006418445549988974 iter num 100\n",
            "loss 51.21527862548828 average time 0.0064177952099907995 iter num 100\n",
            "loss 67.72867584228516 average time 0.006469944000032229 iter num 100\n",
            "loss 43.846656799316406 average time 0.006517051330001777 iter num 100\n",
            "loss 74.7581558227539 average time 0.006609557530023267 iter num 100\n",
            "loss 14.750093460083008 average time 0.006458906450011455 iter num 100\n",
            "loss 35.97574234008789 average time 0.006453844699958609 iter num 100\n",
            "loss 46.594417572021484 average time 0.006704741340008695 iter num 100\n",
            "loss 23.079429626464844 average time 0.006486437469989142 iter num 100\n",
            "loss 31.08470916748047 average time 0.006430929690009179 iter num 100\n",
            "loss 50.37101364135742 average time 0.0064614251700049865 iter num 100\n",
            "loss 35.4625358581543 average time 0.006515471870006877 iter num 100\n",
            "loss 26.459590911865234 average time 0.006414743100003761 iter num 100\n",
            "loss 49.52349090576172 average time 0.006550778499972694 iter num 100\n",
            "loss 58.890594482421875 average time 0.006441185350017804 iter num 100\n",
            "loss 29.363887786865234 average time 0.006448267239966299 iter num 100\n",
            "loss 42.39134979248047 average time 0.006428405019996717 iter num 100\n",
            "loss 51.602638244628906 average time 0.006418335580015082 iter num 100\n",
            "loss 33.34104919433594 average time 0.006452729659981742 iter num 100\n",
            "loss 57.24740219116211 average time 0.006596589770028913 iter num 100\n",
            "loss 25.00912094116211 average time 0.006441547179997542 iter num 100\n",
            "loss 49.825157165527344 average time 0.00644694043000527 iter num 100\n",
            "loss 38.7520751953125 average time 0.006521630080014802 iter num 100\n",
            "loss 45.9880256652832 average time 0.006511985060014922 iter num 100\n",
            "loss 50.570411682128906 average time 0.006368201609989228 iter num 100\n",
            "loss 14.907857894897461 average time 0.0064503186299953085 iter num 100\n",
            "loss 42.44788360595703 average time 0.006410425779990874 iter num 100\n",
            "loss 41.432594299316406 average time 0.006689818120016753 iter num 100\n",
            "loss 16.752605438232422 average time 0.006516275589970064 iter num 100\n",
            "loss 42.06782531738281 average time 0.006493019780018585 iter num 100\n",
            "loss 11.794472694396973 average time 0.006460692830009975 iter num 100\n",
            "loss 26.264976501464844 average time 0.006641997640008413 iter num 100\n",
            "loss 27.13064193725586 average time 0.006470215429994823 iter num 100\n",
            "loss 80.28052520751953 average time 0.006544317450034214 iter num 100\n",
            "loss 36.48028564453125 average time 0.006455350369997177 iter num 100\n",
            "loss 39.7382698059082 average time 0.006485047180017318 iter num 100\n",
            "loss 40.058746337890625 average time 0.006461190229993008 iter num 100\n",
            "loss 67.16803741455078 average time 0.006423977290005496 iter num 100\n",
            "loss 74.76616668701172 average time 0.006427559900007509 iter num 100\n",
            "loss 39.853668212890625 average time 0.006416450410010838 iter num 100\n",
            "loss 42.21759033203125 average time 0.006434611729978315 iter num 100\n",
            "loss 40.20289993286133 average time 0.00648879028999545 iter num 100\n",
            "loss 61.14690399169922 average time 0.006361050069990597 iter num 100\n",
            "loss 40.18036651611328 average time 0.006386434310011282 iter num 100\n",
            "loss 55.74091339111328 average time 0.006643464339990714 iter num 100\n",
            "loss 41.139835357666016 average time 0.006438614099988626 iter num 100\n",
            "loss 37.08229064941406 average time 0.006454855549982312 iter num 100\n",
            "loss 46.033546447753906 average time 0.00651615266997851 iter num 100\n",
            "loss 55.72499084472656 average time 0.006411198900009367 iter num 100\n",
            "loss 40.685123443603516 average time 0.0066327747000195815 iter num 100\n",
            "loss 63.0804443359375 average time 0.006629769219980517 iter num 100\n",
            "loss 33.90391540527344 average time 0.006440628069967715 iter num 100\n",
            "loss 47.76922607421875 average time 0.006566747799970471 iter num 100\n",
            "loss 32.12623977661133 average time 0.006490416549941074 iter num 100\n",
            "loss 16.01688003540039 average time 0.006453633749997607 iter num 100\n",
            "loss 33.776248931884766 average time 0.00650109803003943 iter num 100\n",
            "loss 64.01947021484375 average time 0.0064576380700509615 iter num 100\n",
            "loss 34.035987854003906 average time 0.0064874253600009976 iter num 100\n",
            "loss 32.093658447265625 average time 0.006460963600029572 iter num 100\n",
            "loss 23.22118377685547 average time 0.006413339440023265 iter num 100\n",
            "loss 34.61713409423828 average time 0.006536815899944486 iter num 100\n",
            "loss 68.23431396484375 average time 0.006386050209994209 iter num 100\n",
            "loss 39.56265640258789 average time 0.0064526412800751136 iter num 100\n",
            "loss 38.310420989990234 average time 0.006341516699976637 iter num 100\n",
            "loss 37.49517822265625 average time 0.006426613759986139 iter num 100\n",
            "loss 13.044151306152344 average time 0.006466437630006112 iter num 100\n",
            "loss 33.446868896484375 average time 0.00637863967001067 iter num 100\n",
            "loss 27.289073944091797 average time 0.00652947943001891 iter num 100\n",
            "loss 72.31143188476562 average time 0.006405652459980047 iter num 100\n",
            "loss 12.217801094055176 average time 0.006415221489996839 iter num 100\n",
            "loss 51.13599395751953 average time 0.006555809109986512 iter num 100\n",
            "loss 31.523805618286133 average time 0.006453125589960109 iter num 100\n",
            "loss 26.804424285888672 average time 0.006539610869958778 iter num 100\n",
            "loss 19.43638801574707 average time 0.006407097759984026 iter num 100\n",
            "loss 20.795146942138672 average time 0.006328392120030913 iter num 100\n",
            "loss 36.69601821899414 average time 0.00648925790001158 iter num 100\n",
            "loss 67.85687255859375 average time 0.0064002962499762365 iter num 100\n",
            "loss 55.695030212402344 average time 0.00639620196998294 iter num 100\n",
            "loss 33.75397491455078 average time 0.006633748020021812 iter num 100\n",
            "loss 64.92219543457031 average time 0.006755227550029303 iter num 100\n",
            "loss 57.238956451416016 average time 0.0066546449799716354 iter num 100\n",
            "loss 27.58831024169922 average time 0.006538770110037149 iter num 100\n",
            "loss 35.488155364990234 average time 0.0065586894899388425 iter num 100\n",
            "loss 8.725807189941406 average time 0.006566900030038596 iter num 100\n",
            "loss 26.22600555419922 average time 0.006488338139988627 iter num 100\n",
            "loss 20.813751220703125 average time 0.006554979029961033 iter num 100\n",
            "loss 34.798316955566406 average time 0.006655795469996519 iter num 100\n",
            "loss 62.49030303955078 average time 0.006660406679993684 iter num 100\n",
            "loss 31.622028350830078 average time 0.00651803357000972 iter num 100\n",
            "loss 45.7961311340332 average time 0.006545072310027536 iter num 100\n",
            "loss 39.83905029296875 average time 0.006433154960022875 iter num 100\n",
            "loss 63.31798553466797 average time 0.006365461360001063 iter num 100\n",
            "loss 40.292423248291016 average time 0.006534145729965531 iter num 100\n",
            "loss 42.42396545410156 average time 0.006519637950041215 iter num 100\n",
            "loss 39.49164962768555 average time 0.0064649211600317355 iter num 100\n",
            "loss 69.09497833251953 average time 0.006497596560020611 iter num 100\n",
            "loss 69.0347900390625 average time 0.006496818769928723 iter num 100\n",
            "loss 60.15951919555664 average time 0.006370719709984769 iter num 100\n",
            "loss 33.80366134643555 average time 0.0065119936999872155 iter num 100\n",
            "loss 21.130393981933594 average time 0.0064738579800632575 iter num 100\n",
            "loss 24.255828857421875 average time 0.006571444640030677 iter num 100\n",
            "loss 116.9615249633789 average time 0.00642183871999805 iter num 100\n",
            "loss 56.164093017578125 average time 0.006489834139947561 iter num 100\n",
            "loss 22.90816307067871 average time 0.0065416799399645245 iter num 100\n",
            "loss 103.04264068603516 average time 0.006635138550000193 iter num 100\n",
            "loss 34.41512680053711 average time 0.006761877130020366 iter num 100\n",
            "loss 65.3451156616211 average time 0.006681201079954917 iter num 100\n",
            "loss 53.15235900878906 average time 0.006616825390037775 iter num 100\n",
            "loss 36.93030548095703 average time 0.006607947060010702 iter num 100\n",
            "loss 86.0518798828125 average time 0.006658563840037459 iter num 100\n",
            "loss 52.14972686767578 average time 0.006736527170050977 iter num 100\n",
            "loss 30.02419662475586 average time 0.0067074884100293275 iter num 100\n",
            "loss 29.233760833740234 average time 0.006610900270006823 iter num 100\n",
            "loss 48.81584548950195 average time 0.0067341924199172355 iter num 100\n",
            "loss 47.64715576171875 average time 0.006614181319973795 iter num 100\n",
            "loss 78.27886199951172 average time 0.006833257829975991 iter num 100\n",
            "loss 54.510108947753906 average time 0.006456917079967752 iter num 100\n",
            "loss 50.77154541015625 average time 0.006537640469987309 iter num 100\n",
            "loss 29.477733612060547 average time 0.006455998760020521 iter num 100\n",
            "loss 64.88420104980469 average time 0.006471615519994884 iter num 100\n",
            "loss 23.239574432373047 average time 0.006473684129896355 iter num 100\n",
            "loss 26.12700653076172 average time 0.00640537993001999 iter num 100\n",
            "loss 43.726707458496094 average time 0.006444730829998662 iter num 100\n",
            "loss 44.885528564453125 average time 0.006491943309956696 iter num 100\n",
            "loss 60.46635055541992 average time 0.006347072139997181 iter num 100\n",
            "loss 19.343948364257812 average time 0.006426249809919682 iter num 100\n",
            "loss 81.00265502929688 average time 0.0064746285399633055 iter num 100\n",
            "loss 68.8709487915039 average time 0.006416887759978635 iter num 100\n",
            "loss 33.85111618041992 average time 0.006486013579997234 iter num 100\n",
            "loss 20.126121520996094 average time 0.006398237349958436 iter num 100\n",
            "loss 30.135419845581055 average time 0.006351836200001344 iter num 100\n",
            "loss 35.88037109375 average time 0.006544910119973792 iter num 100\n",
            "loss 13.628396034240723 average time 0.006452639299977818 iter num 100\n",
            "loss 28.630090713500977 average time 0.006423576580045847 iter num 100\n",
            "loss 31.799646377563477 average time 0.006423476050003956 iter num 100\n",
            "loss 56.035709381103516 average time 0.006397236120019443 iter num 100\n",
            "loss 51.73717498779297 average time 0.006425369499993394 iter num 100\n",
            "loss 53.04945373535156 average time 0.006537997810028173 iter num 100\n",
            "loss 48.15081024169922 average time 0.006620970779958952 iter num 100\n",
            "loss 14.164789199829102 average time 0.006492722999955731 iter num 100\n",
            "loss 83.94450378417969 average time 0.00643828471004781 iter num 100\n",
            "loss 64.85065460205078 average time 0.00640903106004771 iter num 100\n",
            "loss 73.1808090209961 average time 0.006477063060001456 iter num 100\n",
            "loss 12.577024459838867 average time 0.006424266840067503 iter num 100\n",
            "loss 34.481475830078125 average time 0.006364691060043697 iter num 100\n",
            "loss 20.705078125 average time 0.006436496779988374 iter num 100\n",
            "loss 31.564247131347656 average time 0.0064069175199256275 iter num 100\n",
            "loss 15.897733688354492 average time 0.006394378629966013 iter num 100\n",
            "loss 36.640647888183594 average time 0.00654533045003518 iter num 100\n",
            "loss 32.798744201660156 average time 0.006399772660015515 iter num 100\n",
            "loss 30.33246612548828 average time 0.006423052559985081 iter num 100\n",
            "loss 27.305418014526367 average time 0.006369381069953306 iter num 100\n",
            "loss 68.09739685058594 average time 0.006378916029934772 iter num 100\n",
            "loss 34.277584075927734 average time 0.00647750418992473 iter num 100\n",
            "loss 24.569541931152344 average time 0.0063469196599908176 iter num 100\n",
            "loss 8.278518676757812 average time 0.00634824789994127 iter num 100\n",
            "loss 53.01236343383789 average time 0.006429320680026649 iter num 100\n",
            "loss 63.98583984375 average time 0.0064362574899314495 iter num 100\n",
            "loss 29.24107551574707 average time 0.006362081519991989 iter num 100\n",
            "loss 50.13771057128906 average time 0.006457786490027501 iter num 100\n",
            "loss 52.54813003540039 average time 0.006416350280060215 iter num 100\n",
            "loss 68.2901611328125 average time 0.0064514835600311925 iter num 100\n",
            "loss 57.68349075317383 average time 0.006519581879956604 iter num 100\n",
            "loss 15.750364303588867 average time 0.006430554990038218 iter num 100\n",
            "loss 26.030317306518555 average time 0.00640083471993421 iter num 100\n",
            "loss 60.396575927734375 average time 0.006449999380029112 iter num 100\n",
            "loss 19.098386764526367 average time 0.006444920399981129 iter num 100\n",
            "loss 26.297500610351562 average time 0.0063695161799842024 iter num 100\n",
            "loss 88.36579895019531 average time 0.006426069129984171 iter num 100\n",
            "loss 24.46903419494629 average time 0.006597834789990884 iter num 100\n",
            "loss 26.113170623779297 average time 0.006431803580053384 iter num 100\n",
            "loss 5.514680862426758 average time 0.00643385889995443 iter num 100\n",
            "loss 34.575416564941406 average time 0.006390287209987946 iter num 100\n",
            "loss 50.48326873779297 average time 0.006467263749973426 iter num 100\n",
            "loss 30.85098648071289 average time 0.0071230226299940115 iter num 100\n",
            "loss 26.262908935546875 average time 0.0066747623900118925 iter num 100\n",
            "loss 26.513408660888672 average time 0.006548792450012116 iter num 100\n",
            "loss 27.671356201171875 average time 0.006525079800003369 iter num 100\n",
            "loss 78.57174682617188 average time 0.0066219968899440575 iter num 100\n",
            "loss 43.35520553588867 average time 0.006692576209979961 iter num 100\n",
            "loss 20.288206100463867 average time 0.006622584329998063 iter num 100\n",
            "loss 62.441123962402344 average time 0.006589320400053111 iter num 100\n",
            "loss 41.17009735107422 average time 0.0067671880200214215 iter num 100\n",
            "loss 13.89989948272705 average time 0.006560598359983487 iter num 100\n",
            "loss 25.860279083251953 average time 0.006585691569980554 iter num 100\n",
            "loss 33.518463134765625 average time 0.006790246449972983 iter num 100\n",
            "loss 26.819686889648438 average time 0.006627021340027568 iter num 100\n",
            "loss 64.35740661621094 average time 0.006635847649968127 iter num 100\n",
            "loss 40.5902099609375 average time 0.006562034089956797 iter num 100\n",
            "loss 12.45767879486084 average time 0.006482920009957525 iter num 100\n",
            "loss 11.570280075073242 average time 0.0064948173399807275 iter num 100\n",
            "loss 65.10977935791016 average time 0.006516128500024933 iter num 100\n",
            "loss 12.914436340332031 average time 0.006559584379956505 iter num 100\n",
            "loss 9.926033973693848 average time 0.00651868572001149 iter num 100\n",
            "loss 30.78120994567871 average time 0.006869150250131497 iter num 100\n",
            "loss 33.49898910522461 average time 0.006658410189993446 iter num 100\n",
            "loss 28.988126754760742 average time 0.006614666949990351 iter num 100\n",
            "loss 11.288084030151367 average time 0.00654650213997229 iter num 100\n",
            "loss 8.362785339355469 average time 0.006609510540019983 iter num 100\n",
            "loss 19.932353973388672 average time 0.0067602704298224126 iter num 100\n",
            "loss 31.30472183227539 average time 0.006638160530092137 iter num 100\n",
            "loss 8.866769790649414 average time 0.006500244540020504 iter num 100\n",
            "loss 43.76786422729492 average time 0.006617797169928963 iter num 100\n",
            "loss 21.871973037719727 average time 0.006739296980067593 iter num 100\n",
            "loss 9.463643074035645 average time 0.006483320109982742 iter num 100\n",
            "loss 18.085756301879883 average time 0.006537431810047564 iter num 100\n",
            "loss 13.571598052978516 average time 0.0065091047800160595 iter num 100\n",
            "loss 9.300313949584961 average time 0.0065751980499953785 iter num 100\n",
            "loss 10.219046592712402 average time 0.0065919192099681825 iter num 100\n",
            "loss 3.8661370277404785 average time 0.006496601799935889 iter num 100\n",
            "loss 7.4090728759765625 average time 0.0066882572699068985 iter num 100\n",
            "loss 7.734675407409668 average time 0.006628015560036147 iter num 100\n",
            "loss 4.266516208648682 average time 0.006663328769882355 iter num 100\n",
            "loss 7.009592056274414 average time 0.006647403110018785 iter num 100\n",
            "loss 12.1848726272583 average time 0.006599725590112939 iter num 100\n"
          ],
          "name": "stdout"
        },
        {
          "output_type": "execute_result",
          "data": {
            "text/plain": [
              "State:\n",
              "\titeration: 30000\n",
              "\tepoch: 300\n",
              "\tepoch_length: 100\n",
              "\tmax_epochs: 300\n",
              "\toutput: 12.1848726272583\n",
              "\tbatch: <class 'tuple'>\n",
              "\tmetrics: <class 'dict'>\n",
              "\tdataloader: <class 'cupy_dataset.NumbaOptionDataSet'>\n",
              "\tseed: <class 'NoneType'>\n",
              "\ttimes: <class 'dict'>"
            ]
          },
          "metadata": {
            "tags": []
          },
          "execution_count": 7
        }
      ]
    },
    {
      "cell_type": "markdown",
      "metadata": {
        "id": "vU1EpGuInwjJ"
      },
      "source": [
        "The loss is keeping decreasing which means the pricing model can predict the option prices better. It takes about $12ms$ to compute one mini-batch in average, In the following sections, we will try to expore the full potentials of the GPU to accelerate the training."
      ]
    },
    {
      "cell_type": "markdown",
      "metadata": {
        "id": "ehmhDw8BUtLi"
      },
      "source": [
        "### Inference and Greeks"
      ]
    },
    {
      "cell_type": "markdown",
      "metadata": {
        "id": "Uiro43mOU0Ro"
      },
      "source": [
        "We can load the model parameters and use it to do inference"
      ]
    },
    {
      "cell_type": "code",
      "metadata": {
        "id": "svlu6tGTRx1F",
        "colab": {
          "base_uri": "https://localhost:8080/"
        },
        "outputId": "66fa494d-d6a1-4369-b95a-73a5a58db47b"
      },
      "source": [
        "import torch\n",
        "inputs = torch.tensor([[110.0, 100.0, 120.0, 0.35, 0.1, 0.05]*10]).cuda()\n",
        "model(inputs.float())"
      ],
      "execution_count": null,
      "outputs": [
        {
          "output_type": "execute_result",
          "data": {
            "text/plain": [
              "tensor([[5.9896]], device='cuda:0', grad_fn=<AddmmBackward>)"
            ]
          },
          "metadata": {
            "tags": []
          },
          "execution_count": 8
        }
      ]
    },
    {
      "cell_type": "markdown",
      "metadata": {
        "id": "M1Iy-9pWVRDO"
      },
      "source": [
        "One of the benefits of building a deep learning model is that the [Greeks](<https://en.wikipedia.org/wiki/Greeks_(finance)#First-order_Greeks>) can be easily computed. \n",
        "We just need to take advantage of the auto-grad feature in Pytorch. We can use `grad` function to compute the first order differentiation for parameters 'K, B, S0, sigma, mu, r'"
      ]
    },
    {
      "cell_type": "code",
      "metadata": {
        "id": "ytBZaYHKSnDu",
        "colab": {
          "base_uri": "https://localhost:8080/"
        },
        "outputId": "a6de141f-3795-41a2-8937-0b4d99f206a0"
      },
      "source": [
        "inputs = torch.tensor([[110.0, 100.0, 120.0, 0.35, 0.1, 0.05]*10]).cuda()\n",
        "inputs.requires_grad = True\n",
        "x = model(inputs.float())\n",
        "x.backward()\n",
        "first_order_gradient = inputs.grad\n",
        "first_order_gradient"
      ],
      "execution_count": null,
      "outputs": [
        {
          "output_type": "execute_result",
          "data": {
            "text/plain": [
              "tensor([[-1.6052e-02, -6.4308e-04,  2.5538e-02,  8.0677e-01,  2.5876e+00,\n",
              "         -1.7653e+00, -2.2743e-02, -2.2676e-03,  2.6036e-02,  4.2738e-01,\n",
              "          1.5023e+00,  7.3798e-02, -2.1319e-02, -9.4905e-03,  2.4557e-02,\n",
              "          7.9236e-01, -7.0950e-01, -3.4097e+00, -2.1604e-02, -1.3818e-02,\n",
              "          2.6768e-02,  3.3145e-01, -4.3951e-01, -2.5203e+00, -3.6301e-03,\n",
              "         -1.2115e-02,  5.6483e-03,  6.7862e-01,  2.4511e+00,  1.3348e+00,\n",
              "         -1.3669e-02, -4.5517e-03,  1.3568e-02,  1.0203e+00,  1.3144e+00,\n",
              "         -1.5501e+00, -1.1048e-02, -3.9607e-03,  1.5911e-02,  1.5457e+00,\n",
              "          6.1679e-01, -3.1586e-03, -2.6725e-02, -3.7096e-03,  3.0611e-02,\n",
              "          5.9456e-01,  1.3927e+00, -4.4443e+00, -9.6084e-03, -8.9692e-03,\n",
              "          1.5108e-02,  7.3334e-01,  3.2638e+00,  2.5660e-02, -2.9865e-02,\n",
              "         -1.6656e-02,  3.1346e-02,  1.8961e+00,  9.7401e-01, -1.5526e+00]],\n",
              "       device='cuda:0')"
            ]
          },
          "metadata": {
            "tags": []
          },
          "execution_count": 9
        }
      ]
    },
    {
      "cell_type": "markdown",
      "metadata": {
        "id": "8KeijaDDVZGd"
      },
      "source": [
        "Here we are going to plot the Delta graph:-"
      ]
    },
    {
      "cell_type": "code",
      "metadata": {
        "id": "USh3qaADSYQp",
        "colab": {
          "base_uri": "https://localhost:8080/",
          "height": 296
        },
        "outputId": "6b30fd3c-8db4-4140-bcb1-4f22bca1f94d"
      },
      "source": [
        "%matplotlib inline\n",
        "from torch.autograd import grad\n",
        "import pylab\n",
        "import numpy as np\n",
        "def compute_delta(S):\n",
        "    inputs = torch.tensor([[110.0, 100.0, S, 0.35, 0.1, 0.05] + ([110.0, 100.0, 120.0, 0.35, 0.1, 0.05]*9)]).cuda()\n",
        "    inputs.requires_grad = True\n",
        "    x = model(inputs.float())\n",
        "    #x = model(inputs)\n",
        "    x.backward()\n",
        "    first_order_gradient = inputs.grad\n",
        "    return first_order_gradient[0][2]\n",
        "prices = np.arange(10, 300, 0.1)\n",
        "deltas = []\n",
        "for p in prices:\n",
        "    deltas.append(compute_delta(p).item())\n",
        "fig = pylab.plot(prices, deltas)\n",
        "pylab.xlabel('prices')\n",
        "pylab.ylabel('Delta')\n",
        "fig"
      ],
      "execution_count": null,
      "outputs": [
        {
          "output_type": "execute_result",
          "data": {
            "text/plain": [
              "[<matplotlib.lines.Line2D at 0x7f63c17ab190>]"
            ]
          },
          "metadata": {
            "tags": []
          },
          "execution_count": 10
        },
        {
          "output_type": "display_data",
          "data": {
            "image/png": "[encoded data removed]",
            "text/plain": [
              "<Figure size 432x288 with 1 Axes>"
            ]
          },
          "metadata": {
            "tags": [],
            "needs_background": "light"
          }
        }
      ]
    },
    {
      "cell_type": "markdown",
      "metadata": {
        "id": "oLO_5nEGVcEc"
      },
      "source": [
        "Calculating the second order derivative is easy in PyTorch too. We just need to apply the `grad` function twice. Use this mechanism, we can calculate the second order derivatives $\\frac{\\partial^2 P}{\\partial K \\partial S_0}$, $\\frac{\\partial^2 P}{\\partial B \\partial S_0}$, $\\frac{\\partial^2 P}{\\partial S_0^2}$, $\\frac{\\partial^2 P}{\\partial \\sigma \\partial S_0}$, $\\frac{\\partial^2 P}{\\partial \\mu \\partial S_0}$, $\\frac{\\partial^2 P}{\\partial r \\partial S_0}$ in the following example."
      ]
    },
    {
      "cell_type": "code",
      "metadata": {
        "id": "nGzj7A3sThZK",
        "colab": {
          "base_uri": "https://localhost:8080/"
        },
        "outputId": "c4b2dc61-ea32-4723-9eda-48146e41fa6d"
      },
      "source": [
        "import torch\n",
        "from torch import Tensor\n",
        "from torch.autograd import Variable\n",
        "from torch.autograd import grad\n",
        "from torch import nn\n",
        "\n",
        "inputs = torch.tensor([[110.0, 100.0, 120.0, 0.35, 0.1, 0.05]*10]).cuda()\n",
        "inputs.requires_grad = True\n",
        "x = model(inputs)\n",
        "\n",
        "# instead of using loss.backward(), use torch.autograd.grad() to compute gradients\n",
        "# https://pytorch.org/docs/stable/autograd.html#torch.autograd.grad\n",
        "loss_grads = grad(x, inputs, create_graph=True)\n",
        "drv = grad(loss_grads[0][0][2], inputs)\n",
        "drv"
      ],
      "execution_count": null,
      "outputs": [
        {
          "output_type": "execute_result",
          "data": {
            "text/plain": [
              "(tensor([[-4.2155e-04,  1.8928e-05,  4.3383e-04,  1.9160e-03,  3.1185e-02,\n",
              "          -4.2699e-02, -2.8334e-05, -5.3102e-06,  2.7251e-05,  3.5252e-03,\n",
              "           5.2099e-03,  8.4961e-03, -5.2523e-05, -5.1632e-05,  5.2887e-05,\n",
              "           6.8761e-03, -1.2509e-03, -1.8901e-02, -1.4810e-05, -4.1013e-05,\n",
              "           3.1564e-05, -3.5778e-03, -4.4467e-03,  3.3437e-03, -3.3124e-05,\n",
              "          -6.2398e-05,  3.8438e-05,  2.4191e-03,  1.0250e-02,  8.0289e-03,\n",
              "          -3.5385e-05, -1.0523e-05,  1.6792e-05,  3.9085e-03, -3.8925e-03,\n",
              "          -4.1625e-03, -3.3123e-05, -3.7600e-05,  3.7231e-05,  2.2619e-03,\n",
              "           8.5746e-03, -1.9339e-03, -1.0539e-04, -2.4071e-05,  1.0590e-04,\n",
              "           3.3561e-03, -9.1576e-04, -1.9725e-02, -3.2639e-05, -2.4224e-05,\n",
              "           4.1162e-05,  5.0516e-05,  2.5105e-02, -1.4045e-03, -1.3165e-04,\n",
              "          -7.4675e-05,  1.3472e-04,  4.6619e-03,  4.0463e-03, -4.2377e-03]],\n",
              "        device='cuda:0'),)"
            ]
          },
          "metadata": {
            "tags": []
          },
          "execution_count": 11
        }
      ]
    },
    {
      "cell_type": "markdown",
      "metadata": {
        "id": "WJbZYtvhVmSo"
      },
      "source": [
        "Gamma is the second order differenation of `S`. We can plot the the Gamma curve as a function of the stock price"
      ]
    },
    {
      "cell_type": "code",
      "metadata": {
        "id": "3JpQa3EJToA0",
        "colab": {
          "base_uri": "https://localhost:8080/",
          "height": 296
        },
        "outputId": "06e33506-7d71-4106-fa92-4fcb5d572463"
      },
      "source": [
        "import pylab\n",
        "import numpy as np\n",
        "def compute_gamma(S):\n",
        "    inputs = torch.tensor([[110.0, 100.0, S, 0.35, 0.1, 0.05] + ([110.0, 100.0, 120.0, 0.35, 0.1, 0.05]*9)]).cuda()\n",
        "    inputs.requires_grad = True\n",
        "    x = model(inputs.float())\n",
        "    #x = model(inputs)\n",
        "    loss_grads = grad(x, inputs, create_graph=True)\n",
        "    drv = grad(loss_grads[0][0][2], inputs)\n",
        "    return drv[0][0][2]\n",
        "\n",
        "prices = np.arange(10, 250, 0.1)\n",
        "deltas = []\n",
        "for p in prices:\n",
        "    deltas.append(compute_gamma(p).item())\n",
        "fig2 = pylab.plot(prices, deltas)\n",
        "pylab.xlabel('prices')\n",
        "pylab.ylabel('Gamma')\n",
        "fig2"
      ],
      "execution_count": null,
      "outputs": [
        {
          "output_type": "execute_result",
          "data": {
            "text/plain": [
              "[<matplotlib.lines.Line2D at 0x7f63c173c6d0>]"
            ]
          },
          "metadata": {
            "tags": []
          },
          "execution_count": 12
        },
        {
          "output_type": "display_data",
          "data": {
            "image/png": "[encoded data removed]",
            "text/plain": [
              "<Figure size 432x288 with 1 Axes>"
            ]
          },
          "metadata": {
            "tags": [],
            "needs_background": "light"
          }
        }
      ]
    },
    {
      "cell_type": "markdown",
      "metadata": {
        "id": "Rj7NlW6GVqSA"
      },
      "source": [
        "[Implied volatility](https://en.wikipedia.org/wiki/Implied_volatility) is the forecasted volatility of the underlying asset based on the quoted prices of the option. It is the reverse mapping of price to the option parameter given the model which is hard to do with the Monte Carlo simulation approach. But if we have the deep learning pricing model, it is an easy task. We can first plot the relationship between volatility and the option price"
      ]
    },
    {
      "cell_type": "code",
      "metadata": {
        "id": "4yrCw5UNT07t",
        "colab": {
          "base_uri": "https://localhost:8080/",
          "height": 298
        },
        "outputId": "a6061826-8390-403a-d279-c29806a0319f"
      },
      "source": [
        "import pylab\n",
        "import numpy as np\n",
        "def compute_price(sigma):\n",
        "    inputs = torch.tensor([[110.0, 100.0, 120.0, sigma, 0.1, 0.05] + ([110.0, 100.0, 120.0, 0.35, 0.1, 0.05]*9)]).cuda()\n",
        "    x = model(inputs.float())\n",
        "    #x = model(inputs)\n",
        "    return x.item()\n",
        "sigmas = np.arange(0, 0.5, 0.1)\n",
        "prices = []\n",
        "for s in sigmas:\n",
        "    prices.append(compute_price(s))\n",
        "fig3 = pylab.plot(sigmas, prices)\n",
        "pylab.xlabel('Sigma')\n",
        "pylab.ylabel('Price')\n",
        "fig3"
      ],
      "execution_count": null,
      "outputs": [
        {
          "output_type": "execute_result",
          "data": {
            "text/plain": [
              "[<matplotlib.lines.Line2D at 0x7f63c125a850>]"
            ]
          },
          "metadata": {
            "tags": []
          },
          "execution_count": 13
        },
        {
          "output_type": "display_data",
          "data": {
            "image/png": "[encoded data removed]",
            "text/plain": [
              "<Figure size 432x288 with 1 Axes>"
            ]
          },
          "metadata": {
            "tags": [],
            "needs_background": "light"
          }
        }
      ]
    },
    {
      "cell_type": "markdown",
      "metadata": {
        "id": "EU25Cj29VtCa"
      },
      "source": [
        "Given the prices `P`, the implied volatility is the root of the function `compute_price`. We can use bisection to find the root."
      ]
    },
    {
      "cell_type": "code",
      "metadata": {
        "id": "ddHnwm_zUBYD",
        "colab": {
          "base_uri": "https://localhost:8080/",
          "height": 236
        },
        "outputId": "3b564d6a-8e79-48a5-d27e-80d7550f8e72"
      },
      "source": [
        "def bisection_root(small, large, fun, target, EPS=1e-6):\n",
        "    if fun(large) - target < 0:\n",
        "        print('upper bound is too small')\n",
        "        return None\n",
        "    if fun(small) - target > 0:\n",
        "        print('lower bound is too large')\n",
        "        return None\n",
        "    while large - small > EPS:\n",
        "        mid = (large + small) / 2.0\n",
        "        if fun(mid) - target >= 0:\n",
        "            large = mid\n",
        "        else:\n",
        "            small = mid\n",
        "    mid = (large + small) / 2.0\n",
        "    return mid, abs(fun(mid) - target)\n",
        "quoted_price = 16.0\n",
        "sigma, err = bisection_root(0, 0.5, compute_price, quoted_price)\n",
        "print('implied volativity', sigma, 'error', err)     "
      ],
      "execution_count": null,
      "outputs": [
        {
          "output_type": "stream",
          "text": [
            "upper bound is too small\n"
          ],
          "name": "stdout"
        },
        {
          "output_type": "error",
          "ename": "TypeError",
          "evalue": "ignored",
          "traceback": [
            "\u001b[0;31m---------------------------------------------------------------------------\u001b[0m",
            "\u001b[0;31mTypeError\u001b[0m                                 Traceback (most recent call last)",
            "\u001b[0;32m<ipython-input-14-ade689496c71>\u001b[0m in \u001b[0;36m<module>\u001b[0;34m()\u001b[0m\n\u001b[1;32m     15\u001b[0m     \u001b[0;32mreturn\u001b[0m \u001b[0mmid\u001b[0m\u001b[0;34m,\u001b[0m \u001b[0mabs\u001b[0m\u001b[0;34m(\u001b[0m\u001b[0mfun\u001b[0m\u001b[0;34m(\u001b[0m\u001b[0mmid\u001b[0m\u001b[0;34m)\u001b[0m \u001b[0;34m-\u001b[0m \u001b[0mtarget\u001b[0m\u001b[0;34m)\u001b[0m\u001b[0;34m\u001b[0m\u001b[0;34m\u001b[0m\u001b[0m\n\u001b[1;32m     16\u001b[0m \u001b[0mquoted_price\u001b[0m \u001b[0;34m=\u001b[0m \u001b[0;36m16.0\u001b[0m\u001b[0;34m\u001b[0m\u001b[0;34m\u001b[0m\u001b[0m\n\u001b[0;32m---> 17\u001b[0;31m \u001b[0msigma\u001b[0m\u001b[0;34m,\u001b[0m \u001b[0merr\u001b[0m \u001b[0;34m=\u001b[0m \u001b[0mbisection_root\u001b[0m\u001b[0;34m(\u001b[0m\u001b[0;36m0\u001b[0m\u001b[0;34m,\u001b[0m \u001b[0;36m0.5\u001b[0m\u001b[0;34m,\u001b[0m \u001b[0mcompute_price\u001b[0m\u001b[0;34m,\u001b[0m \u001b[0mquoted_price\u001b[0m\u001b[0;34m)\u001b[0m\u001b[0;34m\u001b[0m\u001b[0;34m\u001b[0m\u001b[0m\n\u001b[0m\u001b[1;32m     18\u001b[0m \u001b[0mprint\u001b[0m\u001b[0;34m(\u001b[0m\u001b[0;34m'implied volativity'\u001b[0m\u001b[0;34m,\u001b[0m \u001b[0msigma\u001b[0m\u001b[0;34m,\u001b[0m \u001b[0;34m'error'\u001b[0m\u001b[0;34m,\u001b[0m \u001b[0merr\u001b[0m\u001b[0;34m)\u001b[0m\u001b[0;34m\u001b[0m\u001b[0;34m\u001b[0m\u001b[0m\n",
            "\u001b[0;31mTypeError\u001b[0m: cannot unpack non-iterable NoneType object"
          ]
        }
      ]
    }
  ]
}