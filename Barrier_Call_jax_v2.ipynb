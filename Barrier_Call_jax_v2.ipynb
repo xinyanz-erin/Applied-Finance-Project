{
  "nbformat": 4,
  "nbformat_minor": 0,
  "metadata": {
    "colab": {
      "name": "Barrier_Call_jax.ipynb",
      "provenance": [],
      "include_colab_link": true
    },
    "kernelspec": {
      "name": "python3",
      "display_name": "Python 3"
    },
    "language_info": {
      "name": "python"
    },
    "accelerator": "GPU"
  },
  "cells": [
    {
      "cell_type": "markdown",
      "metadata": {
        "id": "view-in-github",
        "colab_type": "text"
      },
      "source": [
        "<a href=\"https://colab.research.google.com/github/xinyanz-erin/Applied-Finance-Project/blob/Lilian/Barrier_Call_jax_v2.ipynb\" target=\"_parent\"><img src=\"https://colab.research.google.com/assets/colab-badge.svg\" alt=\"Open In Colab\"/></a>"
      ]
    },
    {
      "cell_type": "code",
      "metadata": {
        "colab": {
          "base_uri": "https://localhost:8080/"
        },
        "id": "Z1TgzBZmOpEc",
        "cellView": "form",
        "collapsed": true,
        "outputId": "be5cd50d-5abb-4175-a219-69417c6d0689"
      },
      "source": [
        "#@title\n",
        "import jax.numpy as jnp\n",
        "from jax import random\n",
        "from jax import jit\n",
        "from jax import device_put\n",
        "\n",
        "def test():\n",
        "  paths=100000\n",
        "  steps=252\n",
        "  stocks=3\n",
        "  key = random.PRNGKey(10)\n",
        "  x = random.normal(key, (paths,steps,stocks))\n",
        "  s0=random.randint(key,(stocks,1),50,100)*1.\n",
        "  s=s0\n",
        "  s = device_put(s)\n",
        "  for i in range(steps):\n",
        "    for j in range(stocks):\n",
        "      s+=x[:,i,j]\n",
        "  return(s0,s)\n",
        "\n",
        "a,b=test()\n",
        "\n",
        "print(a,np.mean(b,axis=1))\n",
        "\n",
        "jtest=jit(test)\n",
        "\n",
        "c,d=jtest()\n",
        "\n",
        "print(c,np.mean(d,axis=1))"
      ],
      "execution_count": null,
      "outputs": [
        {
          "output_type": "stream",
          "text": [
            "[[86.]\n",
            " [56.]\n",
            " [71.]] [85.99678  55.996777 70.99677 ]\n",
            "[[86.]\n",
            " [56.]\n",
            " [71.]] [85.99678  55.996777 70.99677 ]\n"
          ],
          "name": "stdout"
        }
      ]
    },
    {
      "cell_type": "code",
      "metadata": {
        "colab": {
          "base_uri": "https://localhost:8080/"
        },
        "id": "lZWaZ_PdRZs1",
        "cellView": "form",
        "collapsed": true,
        "outputId": "cc269f2c-282b-4d02-936d-3245b3ddd45b"
      },
      "source": [
        "#@title\n",
        "paths=10\n",
        "steps=5\n",
        "stocks=3\n",
        "key = random.PRNGKey(10)\n",
        "x = random.normal(key, (paths,steps,stocks))\n",
        "s0=random.randint(key,(stocks,1),50,100)*1.\n",
        "s=s0\n",
        "s = device_put(s)\n",
        "print(s)\n",
        "print(x[:,1,1])\n",
        "print(s+x[:,1,1])"
      ],
      "execution_count": null,
      "outputs": [
        {
          "output_type": "stream",
          "text": [
            "[[86.]\n",
            " [56.]\n",
            " [71.]]\n",
            "[-0.32907748 -0.3529078  -0.5357338  -2.402825   -1.3187171  -0.4300647\n",
            " -0.42437345  0.22680947  0.3185347  -0.9541187 ]\n",
            "[[85.67092  85.647095 85.464264 83.597176 84.68128  85.56994  85.57563\n",
            "  86.22681  86.318535 85.04588 ]\n",
            " [55.67092  55.64709  55.464268 53.597176 54.681282 55.569935 55.575626\n",
            "  56.22681  56.318535 55.045883]\n",
            " [70.67092  70.647095 70.464264 68.597176 69.68128  70.56994  70.57563\n",
            "  71.22681  71.318535 70.04588 ]]\n"
          ],
          "name": "stdout"
        }
      ]
    },
    {
      "cell_type": "code",
      "metadata": {
        "id": "AM9Sjorq3aPK",
        "colab": {
          "base_uri": "https://localhost:8080/"
        },
        "cellView": "form",
        "collapsed": true,
        "outputId": "f2a537d1-0d3f-465f-e8b9-5b23939cd88b"
      },
      "source": [
        "#@title\n",
        "import jax.numpy as jnp\n",
        "from jax import random\n",
        "from jax import jit\n",
        "import numpy as np\n",
        "\n",
        "def simple_process(key, initial_values, numsteps, drift, cov):\n",
        "    stocks_init = jnp.zeros((numsteps + 1,initial_values.shape[0]))\n",
        "    stocks_init=jax.ops.index_update(stocks_init,  # jax.ops.index_update(x, idx, y) <-> Pure equivalent of x[idx] = y\n",
        "                            jax.ops.index[0],\n",
        "                            initial_values)\n",
        "    noise = jax.random.multivariate_normal(key, drift, cov, (numsteps,))\n",
        "    #return(noise)\n",
        "    def time_step(t, val):\n",
        "        dx =  drift+noise[t,:]\n",
        "        val = jax.ops.index_update(val,\n",
        "                            jax.ops.index[t],\n",
        "                            val[t-1] + dx)\n",
        "        return val\n",
        "    return jax.lax.fori_loop(1, numsteps+1, time_step, stocks_init)[1:] # jax.lax.fori_loop(lower, upper, body_fun, init_val)\n",
        "\n",
        "# def fori_loop(lower, upper, body_fun, init_val): # upper is exclusive\n",
        "#   val = init_val\n",
        "#   for i in range(lower, upper):\n",
        "#     val = body_fun(i, val)\n",
        "#   return val\n",
        "\n",
        "numsteps=5\n",
        "key = random.PRNGKey(10)\n",
        "drift=jnp.array([0.0]*3)\n",
        "cov=np.random.random((3,3))\n",
        "cov=np.matmul(cov,cov.T)\n",
        "initial_values=jnp.array([100.]*3)\n",
        "fast_simple = jax.jit(simple_process, static_argnums=2)\n",
        "init_stocks=jnp.array([100.]*3)\n",
        "fast_simple(key,init_stocks,numsteps,drift,cov)\n",
        "# Batch OU sample via vmap\n",
        "batch_simple = jax.vmap(fast_simple, in_axes=(0, None, None, None, None)) \n",
        "# An integer or None indicates which array axis to map over for all arguments (with None indicating not to map any axis)\n",
        "\n",
        "%timeit fast_simple(key, init_stocks, 12, drift, cov)\n",
        "\n",
        "numsamples=100000 # num of paths\n",
        "keys = jax.random.split(key, numsamples)\n",
        "batch_simple = jax.vmap(fast_simple, in_axes=(0, None, None, None, None))\n",
        "%timeit batch_simple(keys, init_stocks, 12, drift, cov)\n",
        "\n",
        "batch_simple(keys, init_stocks, numsteps, drift, cov).shape"
      ],
      "execution_count": null,
      "outputs": [
        {
          "output_type": "stream",
          "text": [
            "The slowest run took 27769.64 times longer than the fastest. This could mean that an intermediate result is being cached.\n",
            "1 loop, best of 5: 16.1 µs per loop\n",
            "1 loop, best of 5: 177 ms per loop\n"
          ],
          "name": "stdout"
        },
        {
          "output_type": "execute_result",
          "data": {
            "text/plain": [
              "(100000, 5, 3)"
            ]
          },
          "metadata": {},
          "execution_count": 68
        }
      ]
    },
    {
      "cell_type": "code",
      "metadata": {
        "id": "zKLz8BeVe5TQ",
        "colab": {
          "base_uri": "https://localhost:8080/"
        },
        "cellView": "form",
        "collapsed": true,
        "outputId": "92debbf8-323a-4172-9b26-f37891c40cf8"
      },
      "source": [
        "#@title\n",
        "import jax.numpy as jnp\n",
        "from jax import random\n",
        "from jax import jit\n",
        "import numpy as np\n",
        "\n",
        "def Brownian_motion(key, initial_stocks, numsteps, drift, cov, sigma, T):\n",
        "    stocks_init = jnp.zeros((numsteps + 1, initial_stocks.shape[0]))\n",
        "    stocks_init=jax.ops.index_update(stocks_init,   # jax.ops.index_update(x, idx, y) <-> Pure equivalent of x[idx] = y\n",
        "                            jax.ops.index[0],       # initialization of stock prices\n",
        "                            initial_stocks)\n",
        "    noise = jax.random.multivariate_normal(key, drift, cov, (numsteps,))\n",
        "    dt = jnp.array(T[0]/numsteps)\n",
        "    def time_step(t, val):\n",
        "        dx =  drift * dt * val[t-1,:] + sigma * val[t-1,:] * jnp.sqrt(dt) * noise[t,:]\n",
        "        val = jax.ops.index_update(val,\n",
        "                            jax.ops.index[t],\n",
        "                            val[t-1] + dx)\n",
        "        return val\n",
        "    return jax.lax.fori_loop(1, numsteps+1, time_step, stocks_init)[1:] # jax.lax.fori_loop(lower, upper, body_fun, init_val)\n",
        "\n",
        "# def fori_loop(lower, upper, body_fun, init_val): # upper is exclusive\n",
        "#   val = init_val\n",
        "#   for i in range(lower, upper):\n",
        "#     val = body_fun(i, val)\n",
        "#   return val\n",
        "\n",
        "np.random.seed(0)\n",
        "key = random.PRNGKey(0)\n",
        "initial_stocks=jnp.array([100.]*3)\n",
        "numsteps=10\n",
        "drift=jnp.array([0]*3)\n",
        "# cov=np.random.random((3,3))\n",
        "# cov=np.matmul(cov,cov.T)\n",
        "corr = jnp.diag(jnp.array([1]*3))\n",
        "sigma = jnp.array([0.3]*3)\n",
        "cov = (jnp.diag(sigma)).dot(corr).dot(jnp.diag(sigma))\n",
        "#sigma = jnp.array(np.random.random(3))\n",
        "#r = jnp.array([np.random.random(1)]*3)\n",
        "T = jnp.array([1.]*3)\n",
        "\n",
        "fast_simple = jax.jit(Brownian_motion, static_argnums=2)\n",
        "fast_simple(key, initial_stocks, numsteps, drift, cov, sigma, T)\n",
        "\n",
        "# numsamples=100000 # num of paths\n",
        "# keys = jax.random.split(key, numsamples)\n",
        "\n",
        "# batch_simple = jax.vmap(fast_simple, in_axes=(0, None, None, None, None, None, None))\n",
        "# %timeit batch_simple(keys, initial_stocks, numsteps, drift, cov, sigma, T)\n",
        "# batch_simple(keys, initial_stocks, numsteps, drift, cov, sigma, T).shape"
      ],
      "execution_count": null,
      "outputs": [
        {
          "output_type": "execute_result",
          "data": {
            "text/plain": [
              "DeviceArray([[104.03143 , 103.00068 , 102.59222 ],\n",
              "             [102.768456, 105.89164 , 100.96432 ],\n",
              "             [102.81328 ,  99.627396, 102.55864 ],\n",
              "             [105.48844 , 101.25624 , 104.66836 ],\n",
              "             [105.8519  , 100.323296, 109.50462 ],\n",
              "             [106.59    ,  96.38026 , 107.60002 ],\n",
              "             [107.01583 ,  98.68716 , 104.24871 ],\n",
              "             [103.734055,  95.48625 , 102.4883  ],\n",
              "             [103.274185,  94.44483 ,  99.23759 ],\n",
              "             [102.81635 ,  93.41477 ,  96.08998 ]], dtype=float32)"
            ]
          },
          "metadata": {},
          "execution_count": 170
        }
      ]
    },
    {
      "cell_type": "code",
      "metadata": {
        "colab": {
          "base_uri": "https://localhost:8080/"
        },
        "id": "k7KFGhPVWJu9",
        "cellView": "form",
        "collapsed": true,
        "outputId": "d09cf7ac-aac3-4f78-a535-1ad4809939a8"
      },
      "source": [
        "#@title\n",
        "key = random.PRNGKey(10)\n",
        "initial_values=jnp.array([100.]*3)\n",
        "numsteps=5\n",
        "drift=jnp.array([0.0]*3)\n",
        "cov=np.random.random((3,3))\n",
        "cov=np.matmul(cov, cov.T)\n",
        "\n",
        "print(key)\n",
        "print(initial_values)\n",
        "print(numsteps)\n",
        "print(drift)\n",
        "print(cov)"
      ],
      "execution_count": null,
      "outputs": [
        {
          "output_type": "stream",
          "text": [
            "[ 0 10]\n",
            "[100. 100. 100.]\n",
            "5\n",
            "[0. 0. 0.]\n",
            "[[0.74040995 0.50528954 0.38358708]\n",
            " [0.50528954 0.69334581 0.33222558]\n",
            " [0.38358708 0.33222558 0.21827158]]\n"
          ],
          "name": "stdout"
        }
      ]
    },
    {
      "cell_type": "code",
      "metadata": {
        "colab": {
          "base_uri": "https://localhost:8080/"
        },
        "id": "5F1U2n21WuDC",
        "cellView": "form",
        "collapsed": true,
        "outputId": "1b5b7145-262b-4ccf-8675-6cfc98cb63ae"
      },
      "source": [
        "#@title\n",
        "stocks_init = jnp.zeros((numsteps + 1, initial_values.shape[0]))\n",
        "print(stocks_init)\n",
        "stocks_init=jax.ops.index_update(stocks_init,\n",
        "                        jax.ops.index[0],\n",
        "                        initial_values)\n",
        "print(stocks_init)\n",
        "noise = jax.random.multivariate_normal(key, drift, cov, (numsteps,))\n",
        "print(noise)"
      ],
      "execution_count": null,
      "outputs": [
        {
          "output_type": "stream",
          "text": [
            "[[0. 0. 0.]\n",
            " [0. 0. 0.]\n",
            " [0. 0. 0.]\n",
            " [0. 0. 0.]\n",
            " [0. 0. 0.]\n",
            " [0. 0. 0.]]\n",
            "[[100. 100. 100.]\n",
            " [  0.   0.   0.]\n",
            " [  0.   0.   0.]\n",
            " [  0.   0.   0.]\n",
            " [  0.   0.   0.]\n",
            " [  0.   0.   0.]]\n",
            "[[-0.05614188 -0.93355596 -0.05524409]\n",
            " [ 0.70478475 -0.20070948  0.15282556]\n",
            " [ 0.11612918 -0.04694405 -0.03823702]\n",
            " [ 0.42249295 -0.36928132 -0.06133213]\n",
            " [-0.24204297 -0.2061234  -0.13489908]]\n"
          ],
          "name": "stdout"
        }
      ]
    },
    {
      "cell_type": "code",
      "metadata": {
        "id": "RUAoeddX9Kr0",
        "colab": {
          "base_uri": "https://localhost:8080/"
        },
        "outputId": "41666482-0fbc-4c98-c707-0c91fd6b2d5b"
      },
      "source": [
        "!curl https://colab.chainer.org/install |sh -\n",
        "import cupy"
      ],
      "execution_count": 9,
      "outputs": [
        {
          "output_type": "stream",
          "name": "stdout",
          "text": [
            "  % Total    % Received % Xferd  Average Speed   Time    Time     Time  Current\n",
            "                                 Dload  Upload   Total   Spent    Left  Speed\n",
            "100  1580  100  1580    0     0   6556      0 --:--:-- --:--:-- --:--:--  6556\n",
            "+ apt -y -q install cuda-libraries-dev-10-0\n",
            "Reading package lists...\n",
            "Building dependency tree...\n",
            "Reading state information...\n",
            "cuda-libraries-dev-10-0 is already the newest version (10.0.130-1).\n",
            "The following package was automatically installed and is no longer required:\n",
            "  libnvidia-common-460\n",
            "Use 'apt autoremove' to remove it.\n",
            "0 upgraded, 0 newly installed, 0 to remove and 40 not upgraded.\n",
            "+ pip install -q cupy-cuda100  chainer \n",
            "+ set +ex\n",
            "Installation succeeded!\n"
          ]
        }
      ]
    },
    {
      "cell_type": "code",
      "metadata": {
        "id": "1crQ3-JCs9Q1",
        "colab": {
          "base_uri": "https://localhost:8080/"
        },
        "outputId": "8c779455-154a-4089-8428-73e3efbcaf07"
      },
      "source": [
        "# import jax\n",
        "# import jax.numpy as jnp\n",
        "# from jax import random\n",
        "# from jax import jit\n",
        "# import numpy as np\n",
        "# from torch.utils.dlpack import from_dlpack\n",
        "\n",
        "# def Brownian_motion(key, initial_stocks, numsteps, drift, cov, T):\n",
        "#     stocks_init = jnp.zeros((numsteps + 1, initial_stocks.shape[0]))\n",
        "#     stocks_init = jax.ops.index_update(stocks_init,   # jax.ops.index_update(x, idx, y) <-> Pure equivalent of x[idx] = y\n",
        "#                             jax.ops.index[0],         # initialization of stock prices\n",
        "#                             initial_stocks)\n",
        "#     noise = jax.random.multivariate_normal(key, jnp.array([0]*initial_stocks.shape[0]), cov, (numsteps,))\n",
        "#     dt = jnp.array(T[0]/numsteps)\n",
        "#     def time_step(t, val):\n",
        "#         dx =  drift * dt * val[t-1,:] + val[t-1,:] * jnp.sqrt(dt) * noise[t,:] # no need to multiply by sigma here because noise generated by cov not corr\n",
        "#         val = jax.ops.index_update(val,\n",
        "#                             jax.ops.index[t],\n",
        "#                             val[t-1] + dx)\n",
        "#         return val\n",
        "#     return jax.lax.fori_loop(1, numsteps+1, time_step, stocks_init)[1:] # jax.lax.fori_loop(lower, upper, body_fun, init_val)\n",
        "\n",
        "# # def fori_loop(lower, upper, body_fun, init_val): # upper is exclusive\n",
        "# #   val = init_val\n",
        "# #   for i in range(lower, upper):\n",
        "# #     val = body_fun(i, val)\n",
        "# #   return val\n",
        "\n",
        "# numstocks = 3\n",
        "\n",
        "# np.random.seed(15)\n",
        "# key = random.PRNGKey(10)\n",
        "# initial_stocks = jnp.array(np.random.random(numstocks) * 200)\n",
        "# numsteps = 5\n",
        "# # drift=jnp.array([0.05] * numstocks) \n",
        "# # cov=np.random.random((3,3))\n",
        "# # cov=np.matmul(cov,cov.T)\n",
        "# corr = jnp.diag(jnp.array([1]*numstocks)) # assume no correlation between stocks here\n",
        "# sigma = jnp.array(np.random.random(numstocks) * 0.4)\n",
        "# cov = (jnp.diag(sigma)).dot(corr).dot(jnp.diag(sigma))\n",
        "# r = jnp.repeat(jnp.array(np.random.random(1) * 0.1), numstocks)\n",
        "# drift = r # To match BS, use drift = r\n",
        "# T = jnp.array([1.] * numstocks)\n",
        "# K = np.random.random(1) * 200\n",
        "# #B = jnp.repeat(jnp.array(np.random.random(1) * 200*0.9), numstocks)\n",
        "# B = jnp.repeat(jnp.array(K * 0.9), numstocks)\n",
        "\n",
        "# fast_simple = jax.jit(Brownian_motion, static_argnums=2)\n",
        "# fast_simple(key, initial_stocks, numsteps, drift, cov, T)\n",
        "\n",
        "# numsamples = 10 # num of paths\n",
        "# keys = jax.random.split(key, numsamples)\n",
        "\n",
        "# batch_simple = jax.vmap(fast_simple, in_axes=(0, None, None, None, None, None))\n",
        "# %timeit batch_simple(keys, initial_stocks, numsteps, drift, cov, T)\n",
        "# out = batch_simple(keys, initial_stocks, numsteps, drift, cov, T)\n",
        "\n",
        "# print(B)\n",
        "# avg_across_stocks = np.mean(out, axis=2)\n",
        "# print(np.mean(out, axis=2))\n",
        "# print(np.any(avg_across_stocks < 67, axis=1)) # test using Barrier = 67\n",
        "# print(1 - np.any(avg_across_stocks < 67, axis=1).astype(int))\n",
        "# print((1 - np.any(avg_across_stocks < 67, axis=1).astype(int))* avg_across_stocks[:,numsteps])\n",
        "\n",
        "# Payoff = (1 - np.any(avg_across_stocks < B[0], axis=1).astype(int))* avg_across_stocks[:,numsteps]\n",
        "# Barrier_Call_price = np.mean(np.maximum(Payoff - K, 0) * jnp.exp(-r[0] * T[0]))\n",
        "\n",
        "# paras = (T, jnp.repeat(jnp.array(K), numstocks), B, initial_stocks, sigma, drift, r)\n",
        "# paras = np.column_stack(paras).reshape(1,-1)[0]\n",
        "\n",
        "# print(from_dlpack(cupy.array(paras).toDlpack()))\n",
        "# print(Barrier_Call_price)"
      ],
      "execution_count": null,
      "outputs": [
        {
          "output_type": "stream",
          "text": [
            "The slowest run took 364.46 times longer than the fastest. This could mean that an intermediate result is being cached.\n",
            "1 loop, best of 5: 767 µs per loop\n",
            "[54.805386 54.805386 54.805386]\n",
            "[[67.804794 65.060585 63.91697  61.721786 59.603203]\n",
            " [68.52258  68.29328  66.92819  65.042274 63.25639 ]\n",
            " [69.158    72.96904  69.871826 68.21394  66.82314 ]\n",
            " [72.75406  75.460236 72.231575 72.52219  72.85434 ]\n",
            " [70.96498  71.29084  71.80089  75.38497  79.16249 ]\n",
            " [78.086105 79.46092  82.73984  79.490135 76.464554]\n",
            " [69.73538  74.28056  72.827835 80.21917  88.41112 ]\n",
            " [64.99605  58.928276 55.004436 54.274925 53.660378]\n",
            " [69.419846 71.8653   74.603584 84.789665 96.8724  ]\n",
            " [68.00972  71.759995 66.64989  67.26301  67.89871 ]]\n",
            "[ True  True  True False False False False  True False  True]\n",
            "[0 0 0 1 1 1 1 0 1 0]\n",
            "[ 0.        0.        0.       72.85434  79.16249  76.464554 88.41112\n",
            "  0.       96.8724    0.      ]\n",
            "tensor([1.0000e+00, 6.0895e+01, 5.4805e+01, 1.6976e+02, 1.4462e-01, 3.0592e-02,\n",
            "        3.0592e-02, 1.0000e+00, 6.0895e+01, 5.4805e+01, 3.5779e+01, 1.1016e-01,\n",
            "        3.0592e-02, 3.0592e-02, 1.0000e+00, 6.0895e+01, 5.4805e+01, 1.0873e+01,\n",
            "        2.1200e-01, 3.0592e-02, 3.0592e-02], device='cuda:0')\n",
            "12.083062\n"
          ],
          "name": "stdout"
        }
      ]
    },
    {
      "cell_type": "code",
      "metadata": {
        "id": "DxFUnc_iBVcU",
        "colab": {
          "base_uri": "https://localhost:8080/"
        },
        "outputId": "58167fb5-dd62-45e0-b702-4662983feb61"
      },
      "source": [
        "# ################################# TEST ########################################\n",
        "# #%%writefile cupy_dataset.py\n",
        "# import cupy\n",
        "# import jax\n",
        "# import jax.numpy as jnp\n",
        "# from jax import random\n",
        "# from jax import jit\n",
        "# import numpy as np\n",
        "# from torch.utils.dlpack import from_dlpack\n",
        "\n",
        "# def Brownian_motion(key, initial_stocks, numsteps, drift, cov, T):\n",
        "#     stocks_init = jnp.zeros((numsteps + 1, initial_stocks.shape[0]))   # initial_stocks.shape[0] <-> Stocks number\n",
        "#     stocks_init = jax.ops.index_update(stocks_init,   # jax.ops.index_update(x, idx, y) <-> Pure equivalent of x[idx] = y\n",
        "#                             jax.ops.index[0],         # initialization of stock prices\n",
        "#                             initial_stocks)\n",
        "#     noise = jax.random.multivariate_normal(key, jnp.array([0]*initial_stocks.shape[0]), cov, (numsteps,)) #shape<->[numsteps,nstocks]\n",
        "#     dt = jnp.array(T[0]/numsteps)\n",
        "#     def time_step(t, val):\n",
        "#         dx =  drift * dt * val[t-1,:] + val[t-1,:] * jnp.sqrt(dt) * noise[t,:] # no need to multiply by sigma here because noise generated by cov not corr\n",
        "#         val = jax.ops.index_update(val,\n",
        "#                             jax.ops.index[t],\n",
        "#                             val[t-1] + dx)\n",
        "#         return val\n",
        "#     return jax.lax.fori_loop(1, numsteps+1, time_step, stocks_init)[1:] # jax.lax.fori_loop(lower, upper, body_fun, init_val)\n",
        "\n",
        "\n",
        "# class NumbaOptionDataSet(object):\n",
        "    \n",
        "#     def __init__(self, max_len=10, number_path = 1000, batch=2, seed=15, stocks=3):  # 3 stocks\n",
        "#         self.num = 0\n",
        "#         self.max_length = max_len\n",
        "#         self.N_PATHS = number_path\n",
        "#         self.N_STEPS = 365\n",
        "#         self.N_BATCH = batch\n",
        "#         self.N_STOCKS = stocks\n",
        "#         self.T = 1\n",
        "#         self.seed = seed\n",
        "#         np.random.seed(seed)\n",
        "        \n",
        "#     def __len__(self):\n",
        "#         return self.max_length\n",
        "        \n",
        "#     def __iter__(self):\n",
        "#         self.num = 0\n",
        "#         return self\n",
        "\n",
        "#     def __next__(self):\n",
        "#         if self.num >= self.max_length:\n",
        "#             raise StopIteration\n",
        "        \n",
        "#         Y = cupy.zeros(self.N_BATCH, dtype=cupy.float32)\n",
        "#         X = cupy.zeros((self.N_BATCH, self.N_STOCKS * 7), dtype = cupy.float32)\n",
        "\n",
        "#         for op in range(self.N_BATCH):\n",
        "          \n",
        "#           key = random.PRNGKey(self.seed)\n",
        "#           initial_stocks = jnp.array(np.random.random(self.N_STOCKS) * 200)\n",
        "#           # cov=np.random.random((3,3))\n",
        "#           # cov=np.matmul(cov,cov.T)\n",
        "#           corr = jnp.diag(jnp.array([1]*self.N_STOCKS)) # assume no correlation between stocks here\n",
        "#           sigma = jnp.array(np.random.random(self.N_STOCKS) * 0.4)\n",
        "#           cov = (jnp.diag(sigma)).dot(corr).dot(jnp.diag(sigma))\n",
        "#           r = jnp.repeat(jnp.array(np.random.random(1) * 0.1), self.N_STOCKS)\n",
        "#           drift = r # To match BS, use drift = r\n",
        "#           T = jnp.array([self.T] * self.N_STOCKS)\n",
        "#           K = np.random.random(1) * 200\n",
        "#           B = jnp.repeat(jnp.array(K * 0.9), self.N_STOCKS)\n",
        "\n",
        "#           fast_simple = jax.jit(Brownian_motion, static_argnums=2)\n",
        "#           fast_simple(key, initial_stocks, self.N_STEPS, drift, cov, T)\n",
        "\n",
        "#           numsamples = self.N_PATHS # num of paths\n",
        "#           keys = jax.random.split(key, numsamples)\n",
        "\n",
        "#           batch_simple = jax.vmap(fast_simple, in_axes=(0, None, None, None, None, None))\n",
        "#           out = batch_simple(keys, initial_stocks, self.N_STEPS, drift, cov, T)\n",
        "\n",
        "#           avg_across_stocks = np.mean(out, axis=2) # becomes paths * steps\n",
        "#           Payoff = (1 - np.any(avg_across_stocks < B[0], axis=1).astype(int))* avg_across_stocks[:,self.N_STEPS]\n",
        "#           Barrier_Call_price = np.mean(np.maximum(Payoff - K, 0) * jnp.exp(-r[0] * T[0]))\n",
        "#           Y[op] = Barrier_Call_price\n",
        "\n",
        "#           paras = (T, jnp.repeat(jnp.array(K), self.N_STOCKS), B, initial_stocks, sigma, drift, r)\n",
        "#           paras = np.column_stack(paras).reshape(1,-1)[0]\n",
        "#           X[op,] = cupy.array(paras)\n",
        "\n",
        "#         self.num += 1\n",
        "#         return (from_dlpack(X.toDlpack()), from_dlpack(Y.toDlpack()))\n",
        "#     #self._net_grads = jax.grad(self._net_apply)\n",
        "\n",
        "\n",
        "# ds = NumbaOptionDataSet(4, number_path = 100000, batch = 2, seed = 15, stocks=3)\n",
        "# for i in ds:\n",
        "#     print(i)"
      ],
      "execution_count": 10,
      "outputs": [
        {
          "output_type": "stream",
          "name": "stdout",
          "text": [
            "(tensor([[1.0000e+00, 6.0895e+01, 5.4805e+01, 1.6976e+02, 1.4462e-01, 3.0592e-02,\n",
            "         3.0592e-02, 1.0000e+00, 6.0895e+01, 5.4805e+01, 3.5779e+01, 1.1016e-01,\n",
            "         3.0592e-02, 3.0592e-02, 1.0000e+00, 6.0895e+01, 5.4805e+01, 1.0873e+01,\n",
            "         2.1200e-01, 3.0592e-02, 3.0592e-02],\n",
            "        [1.0000e+00, 4.2110e+01, 3.7899e+01, 2.2348e+01, 1.0566e-01, 8.0708e-02,\n",
            "         8.0708e-02, 1.0000e+00, 4.2110e+01, 3.7899e+01, 4.9980e+01, 2.8711e-01,\n",
            "         8.0708e-02, 8.0708e-02, 1.0000e+00, 4.2110e+01, 3.7899e+01, 1.8353e+02,\n",
            "         3.4629e-01, 8.0708e-02, 8.0708e-02]], device='cuda:0'), tensor([13.2313, 46.5335], device='cuda:0'))\n",
            "(tensor([[1.0000e+00, 9.4695e+01, 8.5225e+01, 3.3449e+01, 8.0092e-02, 7.6051e-02,\n",
            "         7.6051e-02, 1.0000e+00, 9.4695e+01, 8.5225e+01, 9.3413e+00, 3.9942e-01,\n",
            "         7.6051e-02, 7.6051e-02, 1.0000e+00, 9.4695e+01, 8.5225e+01, 7.8845e+00,\n",
            "         1.4911e-01, 7.6051e-02, 7.6051e-02],\n",
            "        [1.0000e+00, 1.0755e+02, 9.6794e+01, 1.0194e+02, 1.8604e-01, 2.9900e-02,\n",
            "         2.9900e-02, 1.0000e+00, 1.0755e+02, 9.6794e+01, 1.8901e+02, 5.6622e-02,\n",
            "         2.9900e-02, 2.9900e-02, 1.0000e+00, 1.0755e+02, 9.6794e+01, 2.1889e+01,\n",
            "         2.1534e-01, 2.9900e-02, 2.9900e-02]], device='cuda:0'), tensor([0.0000, 2.9354], device='cuda:0'))\n",
            "(tensor([[1.0000e+00, 8.1238e+01, 7.3114e+01, 1.3313e+02, 2.5709e-01, 3.9042e-02,\n",
            "         3.9042e-02, 1.0000e+00, 8.1238e+01, 7.3114e+01, 7.2866e+01, 1.6799e-01,\n",
            "         3.9042e-02, 3.9042e-02, 1.0000e+00, 8.1238e+01, 7.3114e+01, 1.2460e+02,\n",
            "         1.6130e-01, 3.9042e-02, 3.9042e-02],\n",
            "        [1.0000e+00, 6.1511e+00, 5.5360e+00, 1.5933e+01, 2.7827e-01, 1.3263e-02,\n",
            "         1.3263e-02, 1.0000e+00, 6.1511e+00, 5.5360e+00, 1.1366e+01, 1.1664e-02,\n",
            "         1.3263e-02, 1.3263e-02, 1.0000e+00, 6.1511e+00, 5.5360e+00, 1.5666e+01,\n",
            "         1.9980e-01, 1.3263e-02, 1.3263e-02]], device='cuda:0'), tensor([32.1573,  8.2644], device='cuda:0'))\n",
            "(tensor([[1.0000e+00, 1.5421e+02, 1.3879e+02, 1.2790e+02, 1.3191e-01, 3.5110e-02,\n",
            "         3.5110e-02, 1.0000e+00, 1.5421e+02, 1.3879e+02, 8.9200e+01, 7.8170e-02,\n",
            "         3.5110e-02, 3.5110e-02, 1.0000e+00, 1.5421e+02, 1.3879e+02, 1.9492e+02,\n",
            "         2.7362e-01, 3.5110e-02, 3.5110e-02],\n",
            "        [1.0000e+00, 9.1889e+01, 8.2700e+01, 1.5836e+02, 9.5618e-03, 7.2752e-02,\n",
            "         7.2752e-02, 1.0000e+00, 9.1889e+01, 8.2700e+01, 8.8775e+01, 1.4853e-01,\n",
            "         7.2752e-02, 7.2752e-02, 1.0000e+00, 9.1889e+01, 8.2700e+01, 5.3766e+01,\n",
            "         3.9092e-02, 7.2752e-02, 7.2752e-02]], device='cuda:0'), tensor([ 0.0660, 14.8516], device='cuda:0'))\n"
          ]
        }
      ]
    },
    {
      "cell_type": "code",
      "metadata": {
        "colab": {
          "base_uri": "https://localhost:8080/",
          "height": 565
        },
        "id": "VLNp9YXdMNx5",
        "outputId": "9f4cc16a-02f3-4a2f-87d7-f5af5a683478"
      },
      "source": [
        "################################# TEST ########################################\n",
        "#%%writefile cupy_dataset.py\n",
        "import cupy\n",
        "import jax\n",
        "import jax.numpy as jnp\n",
        "from jax import random\n",
        "from jax import jit\n",
        "import numpy as np\n",
        "from torch.utils.dlpack import from_dlpack\n",
        "\n",
        "def Brownian_motion(key, initial_stocks, numsteps, drift, cov, T):\n",
        "    stocks_init = jnp.zeros((numsteps + 1, initial_stocks.shape[0]))   # initial_stocks.shape[0] <-> Stocks number\n",
        "    stocks_init = jax.ops.index_update(stocks_init,   # jax.ops.index_update(x, idx, y) <-> Pure equivalent of x[idx] = y\n",
        "                            jax.ops.index[0],         # initialization of stock prices\n",
        "                            initial_stocks)\n",
        "    noise = jax.random.multivariate_normal(key, jnp.array([0]*initial_stocks.shape[0]), cov, (numsteps,)) #shape<->[numsteps,nstocks]\n",
        "    dt = jnp.array(T[0]/numsteps)\n",
        "    def time_step(t, val):\n",
        "        dx =  drift * dt * val[t-1,:] + val[t-1,:] * jnp.sqrt(dt) * noise[t,:] # no need to multiply by sigma here because noise generated by cov not corr\n",
        "        val = jax.ops.index_update(val,\n",
        "                            jax.ops.index[t],\n",
        "                            val[t-1] + dx)\n",
        "        return val\n",
        "    return jax.lax.fori_loop(1, numsteps+1, time_step, stocks_init)[1:] # jax.lax.fori_loop(lower, upper, body_fun, init_val)\n",
        "\n",
        "\n",
        "class NumbaOptionDataSet(object):\n",
        "    \n",
        "    def __init__(self, max_len=10, number_path = 1000, batch=2, seed=15, stocks=3):  # 3 stocks\n",
        "        self.num = 0\n",
        "        self.max_length = max_len\n",
        "        self.N_PATHS = number_path\n",
        "        self.N_STEPS = 365\n",
        "        self.N_BATCH = batch\n",
        "        self.N_STOCKS = stocks\n",
        "        self.T = 1\n",
        "        self.seed = seed\n",
        "        np.random.seed(seed)\n",
        "        \n",
        "    def __len__(self):\n",
        "        return self.max_length\n",
        "\n",
        "    def OptionPrice(self,S0):\n",
        "      Y = cupy.zeros(self.N_BATCH, dtype=cupy.float32)\n",
        "      X = cupy.zeros((self.N_BATCH, self.N_STOCKS * 7), dtype = cupy.float32)\n",
        "\n",
        "      for op in range(self.N_BATCH):\n",
        "          \n",
        "        key = random.PRNGKey(self.seed)\n",
        "        initial_stocks = jnp.array(np.random.random(self.N_STOCKS) * S0)\n",
        "          # cov=np.random.random((3,3))\n",
        "          # cov=np.matmul(cov,cov.T)\n",
        "        corr = jnp.diag(jnp.array([1]*self.N_STOCKS)) # assume no correlation between stocks here\n",
        "        sigma = jnp.array(np.random.random(self.N_STOCKS) * 0.4)\n",
        "        cov = (jnp.diag(sigma)).dot(corr).dot(jnp.diag(sigma))\n",
        "        r = jnp.repeat(jnp.array(np.random.random(1) * 0.1), self.N_STOCKS)\n",
        "        drift = r # To match BS, use drift = r\n",
        "        T = jnp.array([self.T] * self.N_STOCKS)\n",
        "        K = np.random.random(1) * 200\n",
        "        B = jnp.repeat(jnp.array(K * 0.9), self.N_STOCKS)\n",
        "\n",
        "        fast_simple = jax.jit(Brownian_motion, static_argnums=2)\n",
        "        fast_simple(key, initial_stocks, self.N_STEPS, drift, cov, T)\n",
        "\n",
        "        numsamples = self.N_PATHS # num of paths\n",
        "        keys = jax.random.split(key, numsamples)\n",
        "\n",
        "        batch_simple = jax.vmap(fast_simple, in_axes=(0, None, None, None, None, None))\n",
        "        out = batch_simple(keys, initial_stocks, self.N_STEPS, drift, cov, T)\n",
        "\n",
        "        avg_across_stocks = np.mean(out, axis=2) # becomes paths * steps\n",
        "        Payoff = (1 - np.any(avg_across_stocks < B[0], axis=1).astype(int))* avg_across_stocks[:,self.N_STEPS]\n",
        "        Barrier_Call_price = np.mean(np.maximum(Payoff - K, 0) * jnp.exp(-r[0] * T[0]))\n",
        "        Y[op] = Barrier_Call_price\n",
        "\n",
        "        paras = (T, jnp.repeat(jnp.array(K), self.N_STOCKS), B, initial_stocks, sigma, drift, r)\n",
        "        paras = np.column_stack(paras).reshape(1,-1)[0]\n",
        "        X[op,] = cupy.array(paras)\n",
        "        self.price = (from_dlpack(X.toDlpack()), from_dlpack(Y.toDlpack()))\n",
        "      return self.price\n",
        "\n",
        "    def OptionGrad(self):\n",
        "      Class = NumbaOptionDataSet()\n",
        "      # grad(J, argnums=2)(X, w, b, y)\n",
        "      self.grad = jax.grad(Class.OptionPrice,argnums=0)(S0)\n",
        "      return self.grad\n",
        "\n",
        "    def __iter__(self):\n",
        "        self.num = 0\n",
        "        return self\n",
        "\n",
        "    def __next__(self):\n",
        "        if self.num >= self.max_length:\n",
        "            raise StopIteration\n",
        "        Class = NumbaOptionDataSet()\n",
        "        val = Class.OptionPrice(200)\n",
        "        grad = Class.OptionGrad()\n",
        "        self.num += 1\n",
        "        #return (val,'here is grad',grad)\n",
        "        return ('here is grad',grad)\n",
        "\n",
        "ds = NumbaOptionDataSet(3, number_path = 100000, batch = 2, seed = 15, stocks=3)\n",
        "for i in ds:\n",
        "    print(i)"
      ],
      "execution_count": 16,
      "outputs": [
        {
          "output_type": "error",
          "ename": "TypeError",
          "evalue": "ignored",
          "traceback": [
            "\u001b[0;31m---------------------------------------------------------------------------\u001b[0m",
            "\u001b[0;31mUnfilteredStackTrace\u001b[0m                      Traceback (most recent call last)",
            "\u001b[0;32m<ipython-input-16-66692ece765e>\u001b[0m in \u001b[0;36m<module>\u001b[0;34m()\u001b[0m\n\u001b[1;32m    102\u001b[0m \u001b[0mds\u001b[0m \u001b[0;34m=\u001b[0m \u001b[0mNumbaOptionDataSet\u001b[0m\u001b[0;34m(\u001b[0m\u001b[0;36m3\u001b[0m\u001b[0;34m,\u001b[0m \u001b[0mnumber_path\u001b[0m \u001b[0;34m=\u001b[0m \u001b[0;36m100000\u001b[0m\u001b[0;34m,\u001b[0m \u001b[0mbatch\u001b[0m \u001b[0;34m=\u001b[0m \u001b[0;36m2\u001b[0m\u001b[0;34m,\u001b[0m \u001b[0mseed\u001b[0m \u001b[0;34m=\u001b[0m \u001b[0;36m15\u001b[0m\u001b[0;34m,\u001b[0m \u001b[0mstocks\u001b[0m\u001b[0;34m=\u001b[0m\u001b[0;36m3\u001b[0m\u001b[0;34m)\u001b[0m\u001b[0;34m\u001b[0m\u001b[0;34m\u001b[0m\u001b[0m\n\u001b[0;32m--> 103\u001b[0;31m \u001b[0;32mfor\u001b[0m \u001b[0mi\u001b[0m \u001b[0;32min\u001b[0m \u001b[0mds\u001b[0m\u001b[0;34m:\u001b[0m\u001b[0;34m\u001b[0m\u001b[0;34m\u001b[0m\u001b[0m\n\u001b[0m\u001b[1;32m    104\u001b[0m     \u001b[0mprint\u001b[0m\u001b[0;34m(\u001b[0m\u001b[0mi\u001b[0m\u001b[0;34m)\u001b[0m\u001b[0;34m\u001b[0m\u001b[0;34m\u001b[0m\u001b[0m\n",
            "\u001b[0;32m<ipython-input-16-66692ece765e>\u001b[0m in \u001b[0;36m__next__\u001b[0;34m(self)\u001b[0m\n\u001b[1;32m     96\u001b[0m         \u001b[0mval\u001b[0m \u001b[0;34m=\u001b[0m \u001b[0mClass\u001b[0m\u001b[0;34m.\u001b[0m\u001b[0mOptionPrice\u001b[0m\u001b[0;34m(\u001b[0m\u001b[0;34m)\u001b[0m\u001b[0;34m\u001b[0m\u001b[0;34m\u001b[0m\u001b[0m\n\u001b[0;32m---> 97\u001b[0;31m         \u001b[0mgrad\u001b[0m \u001b[0;34m=\u001b[0m \u001b[0mClass\u001b[0m\u001b[0;34m.\u001b[0m\u001b[0mOptionGrad\u001b[0m\u001b[0;34m(\u001b[0m\u001b[0;34m)\u001b[0m\u001b[0;34m\u001b[0m\u001b[0;34m\u001b[0m\u001b[0m\n\u001b[0m\u001b[1;32m     98\u001b[0m         \u001b[0mself\u001b[0m\u001b[0;34m.\u001b[0m\u001b[0mnum\u001b[0m \u001b[0;34m+=\u001b[0m \u001b[0;36m1\u001b[0m\u001b[0;34m\u001b[0m\u001b[0;34m\u001b[0m\u001b[0m\n",
            "\u001b[0;32m<ipython-input-16-66692ece765e>\u001b[0m in \u001b[0;36mOptionGrad\u001b[0;34m(self)\u001b[0m\n\u001b[1;32m     84\u001b[0m       \u001b[0;31m# grad(J, argnums=2)(X, w, b, y)\u001b[0m\u001b[0;34m\u001b[0m\u001b[0;34m\u001b[0m\u001b[0;34m\u001b[0m\u001b[0m\n\u001b[0;32m---> 85\u001b[0;31m       \u001b[0mself\u001b[0m\u001b[0;34m.\u001b[0m\u001b[0mgrad\u001b[0m \u001b[0;34m=\u001b[0m \u001b[0mjax\u001b[0m\u001b[0;34m.\u001b[0m\u001b[0mgrad\u001b[0m\u001b[0;34m(\u001b[0m\u001b[0mClass\u001b[0m\u001b[0;34m.\u001b[0m\u001b[0mOptionPrice\u001b[0m\u001b[0;34m,\u001b[0m\u001b[0margnums\u001b[0m\u001b[0;34m=\u001b[0m\u001b[0;36m0\u001b[0m\u001b[0;34m)\u001b[0m\u001b[0;34m(\u001b[0m\u001b[0mself\u001b[0m\u001b[0;34m)\u001b[0m\u001b[0;34m\u001b[0m\u001b[0;34m\u001b[0m\u001b[0m\n\u001b[0m\u001b[1;32m     86\u001b[0m       \u001b[0;32mreturn\u001b[0m \u001b[0mself\u001b[0m\u001b[0;34m.\u001b[0m\u001b[0mgrad\u001b[0m\u001b[0;34m\u001b[0m\u001b[0;34m\u001b[0m\u001b[0m\n",
            "\u001b[0;32m/usr/local/lib/python3.7/dist-packages/jax/_src/traceback_util.py\u001b[0m in \u001b[0;36mreraise_with_filtered_traceback\u001b[0;34m(*args, **kwargs)\u001b[0m\n\u001b[1;32m    161\u001b[0m     \u001b[0;32mtry\u001b[0m\u001b[0;34m:\u001b[0m\u001b[0;34m\u001b[0m\u001b[0;34m\u001b[0m\u001b[0m\n\u001b[0;32m--> 162\u001b[0;31m       \u001b[0;32mreturn\u001b[0m \u001b[0mfun\u001b[0m\u001b[0;34m(\u001b[0m\u001b[0;34m*\u001b[0m\u001b[0margs\u001b[0m\u001b[0;34m,\u001b[0m \u001b[0;34m**\u001b[0m\u001b[0mkwargs\u001b[0m\u001b[0;34m)\u001b[0m\u001b[0;34m\u001b[0m\u001b[0;34m\u001b[0m\u001b[0m\n\u001b[0m\u001b[1;32m    163\u001b[0m     \u001b[0;32mexcept\u001b[0m \u001b[0mException\u001b[0m \u001b[0;32mas\u001b[0m \u001b[0me\u001b[0m\u001b[0;34m:\u001b[0m\u001b[0;34m\u001b[0m\u001b[0;34m\u001b[0m\u001b[0m\n",
            "\u001b[0;32m/usr/local/lib/python3.7/dist-packages/jax/_src/api.py\u001b[0m in \u001b[0;36mgrad_f\u001b[0;34m(*args, **kwargs)\u001b[0m\n\u001b[1;32m    796\u001b[0m   \u001b[0;32mdef\u001b[0m \u001b[0mgrad_f\u001b[0m\u001b[0;34m(\u001b[0m\u001b[0;34m*\u001b[0m\u001b[0margs\u001b[0m\u001b[0;34m,\u001b[0m \u001b[0;34m**\u001b[0m\u001b[0mkwargs\u001b[0m\u001b[0;34m)\u001b[0m\u001b[0;34m:\u001b[0m\u001b[0;34m\u001b[0m\u001b[0;34m\u001b[0m\u001b[0m\n\u001b[0;32m--> 797\u001b[0;31m     \u001b[0m_\u001b[0m\u001b[0;34m,\u001b[0m \u001b[0mg\u001b[0m \u001b[0;34m=\u001b[0m \u001b[0mvalue_and_grad_f\u001b[0m\u001b[0;34m(\u001b[0m\u001b[0;34m*\u001b[0m\u001b[0margs\u001b[0m\u001b[0;34m,\u001b[0m \u001b[0;34m**\u001b[0m\u001b[0mkwargs\u001b[0m\u001b[0;34m)\u001b[0m\u001b[0;34m\u001b[0m\u001b[0;34m\u001b[0m\u001b[0m\n\u001b[0m\u001b[1;32m    798\u001b[0m     \u001b[0;32mreturn\u001b[0m \u001b[0mg\u001b[0m\u001b[0;34m\u001b[0m\u001b[0;34m\u001b[0m\u001b[0m\n",
            "\u001b[0;32m/usr/local/lib/python3.7/dist-packages/jax/_src/traceback_util.py\u001b[0m in \u001b[0;36mreraise_with_filtered_traceback\u001b[0;34m(*args, **kwargs)\u001b[0m\n\u001b[1;32m    161\u001b[0m     \u001b[0;32mtry\u001b[0m\u001b[0;34m:\u001b[0m\u001b[0;34m\u001b[0m\u001b[0;34m\u001b[0m\u001b[0m\n\u001b[0;32m--> 162\u001b[0;31m       \u001b[0;32mreturn\u001b[0m \u001b[0mfun\u001b[0m\u001b[0;34m(\u001b[0m\u001b[0;34m*\u001b[0m\u001b[0margs\u001b[0m\u001b[0;34m,\u001b[0m \u001b[0;34m**\u001b[0m\u001b[0mkwargs\u001b[0m\u001b[0;34m)\u001b[0m\u001b[0;34m\u001b[0m\u001b[0;34m\u001b[0m\u001b[0m\n\u001b[0m\u001b[1;32m    163\u001b[0m     \u001b[0;32mexcept\u001b[0m \u001b[0mException\u001b[0m \u001b[0;32mas\u001b[0m \u001b[0me\u001b[0m\u001b[0;34m:\u001b[0m\u001b[0;34m\u001b[0m\u001b[0;34m\u001b[0m\u001b[0m\n",
            "\u001b[0;32m/usr/local/lib/python3.7/dist-packages/jax/_src/api.py\u001b[0m in \u001b[0;36mvalue_and_grad_f\u001b[0;34m(*args, **kwargs)\u001b[0m\n\u001b[1;32m    868\u001b[0m     \u001b[0;32mfor\u001b[0m \u001b[0mleaf\u001b[0m \u001b[0;32min\u001b[0m \u001b[0mtree_leaves\u001b[0m\u001b[0;34m(\u001b[0m\u001b[0mdyn_args\u001b[0m\u001b[0;34m)\u001b[0m\u001b[0;34m:\u001b[0m\u001b[0;34m\u001b[0m\u001b[0;34m\u001b[0m\u001b[0m\n\u001b[0;32m--> 869\u001b[0;31m       \u001b[0m_check_input_dtype_grad\u001b[0m\u001b[0;34m(\u001b[0m\u001b[0mholomorphic\u001b[0m\u001b[0;34m,\u001b[0m \u001b[0mallow_int\u001b[0m\u001b[0;34m,\u001b[0m \u001b[0mleaf\u001b[0m\u001b[0;34m)\u001b[0m\u001b[0;34m\u001b[0m\u001b[0;34m\u001b[0m\u001b[0m\n\u001b[0m\u001b[1;32m    870\u001b[0m     \u001b[0;32mif\u001b[0m \u001b[0;32mnot\u001b[0m \u001b[0mhas_aux\u001b[0m\u001b[0;34m:\u001b[0m\u001b[0;34m\u001b[0m\u001b[0;34m\u001b[0m\u001b[0m\n",
            "\u001b[0;32m/usr/local/lib/python3.7/dist-packages/jax/_src/api.py\u001b[0m in \u001b[0;36m_check_input_dtype_revderiv\u001b[0;34m(name, holomorphic, allow_int, x)\u001b[0m\n\u001b[1;32m    900\u001b[0m \u001b[0;32mdef\u001b[0m \u001b[0m_check_input_dtype_revderiv\u001b[0m\u001b[0;34m(\u001b[0m\u001b[0mname\u001b[0m\u001b[0;34m,\u001b[0m \u001b[0mholomorphic\u001b[0m\u001b[0;34m,\u001b[0m \u001b[0mallow_int\u001b[0m\u001b[0;34m,\u001b[0m \u001b[0mx\u001b[0m\u001b[0;34m)\u001b[0m\u001b[0;34m:\u001b[0m\u001b[0;34m\u001b[0m\u001b[0;34m\u001b[0m\u001b[0m\n\u001b[0;32m--> 901\u001b[0;31m   \u001b[0m_check_arg\u001b[0m\u001b[0;34m(\u001b[0m\u001b[0mx\u001b[0m\u001b[0;34m)\u001b[0m\u001b[0;34m\u001b[0m\u001b[0;34m\u001b[0m\u001b[0m\n\u001b[0m\u001b[1;32m    902\u001b[0m   \u001b[0maval\u001b[0m \u001b[0;34m=\u001b[0m \u001b[0mcore\u001b[0m\u001b[0;34m.\u001b[0m\u001b[0mget_aval\u001b[0m\u001b[0;34m(\u001b[0m\u001b[0mx\u001b[0m\u001b[0;34m)\u001b[0m\u001b[0;34m\u001b[0m\u001b[0;34m\u001b[0m\u001b[0m\n",
            "\u001b[0;32m/usr/local/lib/python3.7/dist-packages/jax/_src/api.py\u001b[0m in \u001b[0;36m_check_arg\u001b[0;34m(arg)\u001b[0m\n\u001b[1;32m   2484\u001b[0m   \u001b[0;32mif\u001b[0m \u001b[0;32mnot\u001b[0m \u001b[0;34m(\u001b[0m\u001b[0misinstance\u001b[0m\u001b[0;34m(\u001b[0m\u001b[0marg\u001b[0m\u001b[0;34m,\u001b[0m \u001b[0mcore\u001b[0m\u001b[0;34m.\u001b[0m\u001b[0mTracer\u001b[0m\u001b[0;34m)\u001b[0m \u001b[0;32mor\u001b[0m \u001b[0m_valid_jaxtype\u001b[0m\u001b[0;34m(\u001b[0m\u001b[0marg\u001b[0m\u001b[0;34m)\u001b[0m\u001b[0;34m)\u001b[0m\u001b[0;34m:\u001b[0m\u001b[0;34m\u001b[0m\u001b[0;34m\u001b[0m\u001b[0m\n\u001b[0;32m-> 2485\u001b[0;31m     \u001b[0;32mraise\u001b[0m \u001b[0mTypeError\u001b[0m\u001b[0;34m(\u001b[0m\u001b[0;34mf\"Argument '{arg}' of type {type(arg)} is not a valid JAX type.\"\u001b[0m\u001b[0;34m)\u001b[0m\u001b[0;34m\u001b[0m\u001b[0;34m\u001b[0m\u001b[0m\n\u001b[0m\u001b[1;32m   2486\u001b[0m \u001b[0;34m\u001b[0m\u001b[0m\n",
            "\u001b[0;31mUnfilteredStackTrace\u001b[0m: TypeError: Argument '<__main__.NumbaOptionDataSet object at 0x7f0665994610>' of type <class '__main__.NumbaOptionDataSet'> is not a valid JAX type.\n\nThe stack trace below excludes JAX-internal frames.\nThe preceding is the original exception that occurred, unmodified.\n\n--------------------",
            "\nThe above exception was the direct cause of the following exception:\n",
            "\u001b[0;31mTypeError\u001b[0m                                 Traceback (most recent call last)",
            "\u001b[0;32m<ipython-input-16-66692ece765e>\u001b[0m in \u001b[0;36m<module>\u001b[0;34m()\u001b[0m\n\u001b[1;32m    101\u001b[0m \u001b[0;34m\u001b[0m\u001b[0m\n\u001b[1;32m    102\u001b[0m \u001b[0mds\u001b[0m \u001b[0;34m=\u001b[0m \u001b[0mNumbaOptionDataSet\u001b[0m\u001b[0;34m(\u001b[0m\u001b[0;36m3\u001b[0m\u001b[0;34m,\u001b[0m \u001b[0mnumber_path\u001b[0m \u001b[0;34m=\u001b[0m \u001b[0;36m100000\u001b[0m\u001b[0;34m,\u001b[0m \u001b[0mbatch\u001b[0m \u001b[0;34m=\u001b[0m \u001b[0;36m2\u001b[0m\u001b[0;34m,\u001b[0m \u001b[0mseed\u001b[0m \u001b[0;34m=\u001b[0m \u001b[0;36m15\u001b[0m\u001b[0;34m,\u001b[0m \u001b[0mstocks\u001b[0m\u001b[0;34m=\u001b[0m\u001b[0;36m3\u001b[0m\u001b[0;34m)\u001b[0m\u001b[0;34m\u001b[0m\u001b[0;34m\u001b[0m\u001b[0m\n\u001b[0;32m--> 103\u001b[0;31m \u001b[0;32mfor\u001b[0m \u001b[0mi\u001b[0m \u001b[0;32min\u001b[0m \u001b[0mds\u001b[0m\u001b[0;34m:\u001b[0m\u001b[0;34m\u001b[0m\u001b[0;34m\u001b[0m\u001b[0m\n\u001b[0m\u001b[1;32m    104\u001b[0m     \u001b[0mprint\u001b[0m\u001b[0;34m(\u001b[0m\u001b[0mi\u001b[0m\u001b[0;34m)\u001b[0m\u001b[0;34m\u001b[0m\u001b[0;34m\u001b[0m\u001b[0m\n",
            "\u001b[0;32m<ipython-input-16-66692ece765e>\u001b[0m in \u001b[0;36m__next__\u001b[0;34m(self)\u001b[0m\n\u001b[1;32m     95\u001b[0m         \u001b[0mClass\u001b[0m \u001b[0;34m=\u001b[0m \u001b[0mNumbaOptionDataSet\u001b[0m\u001b[0;34m(\u001b[0m\u001b[0;34m)\u001b[0m\u001b[0;34m\u001b[0m\u001b[0;34m\u001b[0m\u001b[0m\n\u001b[1;32m     96\u001b[0m         \u001b[0mval\u001b[0m \u001b[0;34m=\u001b[0m \u001b[0mClass\u001b[0m\u001b[0;34m.\u001b[0m\u001b[0mOptionPrice\u001b[0m\u001b[0;34m(\u001b[0m\u001b[0;34m)\u001b[0m\u001b[0;34m\u001b[0m\u001b[0;34m\u001b[0m\u001b[0m\n\u001b[0;32m---> 97\u001b[0;31m         \u001b[0mgrad\u001b[0m \u001b[0;34m=\u001b[0m \u001b[0mClass\u001b[0m\u001b[0;34m.\u001b[0m\u001b[0mOptionGrad\u001b[0m\u001b[0;34m(\u001b[0m\u001b[0;34m)\u001b[0m\u001b[0;34m\u001b[0m\u001b[0;34m\u001b[0m\u001b[0m\n\u001b[0m\u001b[1;32m     98\u001b[0m         \u001b[0mself\u001b[0m\u001b[0;34m.\u001b[0m\u001b[0mnum\u001b[0m \u001b[0;34m+=\u001b[0m \u001b[0;36m1\u001b[0m\u001b[0;34m\u001b[0m\u001b[0;34m\u001b[0m\u001b[0m\n\u001b[1;32m     99\u001b[0m         \u001b[0;31m#return (val,'here is grad',grad)\u001b[0m\u001b[0;34m\u001b[0m\u001b[0;34m\u001b[0m\u001b[0;34m\u001b[0m\u001b[0m\n",
            "\u001b[0;32m<ipython-input-16-66692ece765e>\u001b[0m in \u001b[0;36mOptionGrad\u001b[0;34m(self)\u001b[0m\n\u001b[1;32m     83\u001b[0m       \u001b[0mClass\u001b[0m \u001b[0;34m=\u001b[0m \u001b[0mNumbaOptionDataSet\u001b[0m\u001b[0;34m(\u001b[0m\u001b[0;34m)\u001b[0m\u001b[0;34m\u001b[0m\u001b[0;34m\u001b[0m\u001b[0m\n\u001b[1;32m     84\u001b[0m       \u001b[0;31m# grad(J, argnums=2)(X, w, b, y)\u001b[0m\u001b[0;34m\u001b[0m\u001b[0;34m\u001b[0m\u001b[0;34m\u001b[0m\u001b[0m\n\u001b[0;32m---> 85\u001b[0;31m       \u001b[0mself\u001b[0m\u001b[0;34m.\u001b[0m\u001b[0mgrad\u001b[0m \u001b[0;34m=\u001b[0m \u001b[0mjax\u001b[0m\u001b[0;34m.\u001b[0m\u001b[0mgrad\u001b[0m\u001b[0;34m(\u001b[0m\u001b[0mClass\u001b[0m\u001b[0;34m.\u001b[0m\u001b[0mOptionPrice\u001b[0m\u001b[0;34m,\u001b[0m\u001b[0margnums\u001b[0m\u001b[0;34m=\u001b[0m\u001b[0;36m0\u001b[0m\u001b[0;34m)\u001b[0m\u001b[0;34m(\u001b[0m\u001b[0mself\u001b[0m\u001b[0;34m)\u001b[0m\u001b[0;34m\u001b[0m\u001b[0;34m\u001b[0m\u001b[0m\n\u001b[0m\u001b[1;32m     86\u001b[0m       \u001b[0;32mreturn\u001b[0m \u001b[0mself\u001b[0m\u001b[0;34m.\u001b[0m\u001b[0mgrad\u001b[0m\u001b[0;34m\u001b[0m\u001b[0;34m\u001b[0m\u001b[0m\n\u001b[1;32m     87\u001b[0m \u001b[0;34m\u001b[0m\u001b[0m\n",
            "\u001b[0;32m/usr/local/lib/python3.7/dist-packages/jax/_src/api.py\u001b[0m in \u001b[0;36m_check_arg\u001b[0;34m(arg)\u001b[0m\n\u001b[1;32m   2483\u001b[0m \u001b[0;32mdef\u001b[0m \u001b[0m_check_arg\u001b[0m\u001b[0;34m(\u001b[0m\u001b[0marg\u001b[0m\u001b[0;34m)\u001b[0m\u001b[0;34m:\u001b[0m\u001b[0;34m\u001b[0m\u001b[0;34m\u001b[0m\u001b[0m\n\u001b[1;32m   2484\u001b[0m   \u001b[0;32mif\u001b[0m \u001b[0;32mnot\u001b[0m \u001b[0;34m(\u001b[0m\u001b[0misinstance\u001b[0m\u001b[0;34m(\u001b[0m\u001b[0marg\u001b[0m\u001b[0;34m,\u001b[0m \u001b[0mcore\u001b[0m\u001b[0;34m.\u001b[0m\u001b[0mTracer\u001b[0m\u001b[0;34m)\u001b[0m \u001b[0;32mor\u001b[0m \u001b[0m_valid_jaxtype\u001b[0m\u001b[0;34m(\u001b[0m\u001b[0marg\u001b[0m\u001b[0;34m)\u001b[0m\u001b[0;34m)\u001b[0m\u001b[0;34m:\u001b[0m\u001b[0;34m\u001b[0m\u001b[0;34m\u001b[0m\u001b[0m\n\u001b[0;32m-> 2485\u001b[0;31m     \u001b[0;32mraise\u001b[0m \u001b[0mTypeError\u001b[0m\u001b[0;34m(\u001b[0m\u001b[0;34mf\"Argument '{arg}' of type {type(arg)} is not a valid JAX type.\"\u001b[0m\u001b[0;34m)\u001b[0m\u001b[0;34m\u001b[0m\u001b[0;34m\u001b[0m\u001b[0m\n\u001b[0m\u001b[1;32m   2486\u001b[0m \u001b[0;34m\u001b[0m\u001b[0m\n\u001b[1;32m   2487\u001b[0m \u001b[0;31m# TODO(necula): this duplicates code in core.valid_jaxtype\u001b[0m\u001b[0;34m\u001b[0m\u001b[0;34m\u001b[0m\u001b[0;34m\u001b[0m\u001b[0m\n",
            "\u001b[0;31mTypeError\u001b[0m: Argument '<__main__.NumbaOptionDataSet object at 0x7f0665994610>' of type <class '__main__.NumbaOptionDataSet'> is not a valid JAX type."
          ]
        }
      ]
    },
    {
      "cell_type": "markdown",
      "metadata": {
        "id": "4tAWg7RKeTly"
      },
      "source": [
        "# Jax Example 1"
      ]
    },
    {
      "cell_type": "code",
      "metadata": {
        "colab": {
          "base_uri": "https://localhost:8080/"
        },
        "id": "vj_EqsCsEXNb",
        "outputId": "c87004f1-a50b-4356-d10e-ebb460351390"
      },
      "source": [
        "loss_grad = jax.grad(loss)\n",
        "\n",
        "# Stochastic gradient descent learning rate\n",
        "learning_rate = 1.\n",
        "# All possible inputs\n",
        "inputs = np.array([[0, 0], [0, 1], [1, 0], [1, 1]])\n",
        "\n",
        "# Initialize parameters randomly\n",
        "params = initial_params()\n",
        "\n",
        "for n in itertools.count():\n",
        "    # Grab a single random input\n",
        "    x = inputs[onp.random.choice(inputs.shape[0])]\n",
        "    # Compute the target output\n",
        "    y = onp.bitwise_xor(*x)\n",
        "    # Get the gradient of the loss for this input/output pair\n",
        "    grads = loss_grad(params, x, y)\n",
        "    # Update parameters via gradient descent\n",
        "    params = [param - learning_rate * grad\n",
        "              for param, grad in zip(params, grads)]\n",
        "    # Every 100 iterations, check whether we've solved XOR\n",
        "    if not n % 100:\n",
        "        print('Iteration {}'.format(n))\n",
        "        if test_all_inputs(inputs, params):\n",
        "            break"
      ],
      "execution_count": 5,
      "outputs": [
        {
          "output_type": "stream",
          "name": "stdout",
          "text": [
            "Hello my name is John\n"
          ]
        }
      ]
    },
    {
      "cell_type": "markdown",
      "metadata": {
        "id": "Of8pdbGLeWWj"
      },
      "source": [
        "# Jax Example 2"
      ]
    },
    {
      "cell_type": "code",
      "metadata": {
        "id": "w_owPjbreZcz"
      },
      "source": [
        "import jax.numpy as np\n",
        "from jax import grad, jit"
      ],
      "execution_count": 1,
      "outputs": []
    },
    {
      "cell_type": "code",
      "metadata": {
        "id": "kKQ03UAYedLz"
      },
      "source": [
        "def J(X, w, b, y):\n",
        "    \"\"\"Cost function for a linear regression. A forward pass of our model.\n",
        "\n",
        "    Args:\n",
        "        X: a features matrix.\n",
        "        w: weights (a column vector).\n",
        "        b: a bias.\n",
        "        y: a target vector.\n",
        "\n",
        "    Returns:\n",
        "        scalar: a cost of this solution.    \n",
        "    \"\"\"\n",
        "    y_hat = X.dot(w) + b # Predict values.\n",
        "    return ((y_hat - y)**2).mean() # Return cost."
      ],
      "execution_count": 2,
      "outputs": []
    },
    {
      "cell_type": "code",
      "metadata": {
        "id": "zJk7tMxeedyq"
      },
      "source": [
        "# A features matrix.\n",
        "X = np.array([\n",
        "                 [4., 7.],\n",
        "                 [1., 8.],\n",
        "                 [-5., -6.],\n",
        "                 [3., -1.],\n",
        "                 [0., 9.]\n",
        "             ])\n",
        "\n",
        "# A target column vector.\n",
        "y = np.array([\n",
        "                 [37.],\n",
        "                 [24.],\n",
        "                 [-34.], \n",
        "                 [16.],\n",
        "                 [21.]\n",
        "             ])\n",
        "\n",
        "learning_rate = 0.01"
      ],
      "execution_count": 3,
      "outputs": []
    },
    {
      "cell_type": "markdown",
      "metadata": {
        "id": "2QbcpwaHe9Iq"
      },
      "source": [
        "Train without JIT"
      ]
    },
    {
      "cell_type": "code",
      "metadata": {
        "id": "G1gDVXMKe_Cz",
        "outputId": "f628fd4f-9d75-4db7-be2a-0a777ccfabd4",
        "colab": {
          "base_uri": "https://localhost:8080/"
        }
      },
      "source": [
        "w = np.zeros((2, 1))\n",
        "b = 0.\n",
        "\n",
        "print(grad(J, argnums=1)(X, w, b, y)) #argnums (Union[int, Sequence[int]]) – Optional, \n",
        "                    #integer or sequence of integers. Specifies which positional \n",
        "                    #argument(s) to differentiate with respect to (default 0).\n",
        "\n",
        "# %timeit grad(J, argnums=2)(X, w, b, y)\n",
        "\n",
        "# for i in range(100):\n",
        "#     w -= learning_rate * grad(J, argnums=1)(X, w, b, y)\n",
        "#     b -= learning_rate * grad(J, argnums=2)(X, w, b, y)\n",
        "    \n",
        "#     if i % 10 == 0:\n",
        "#         print(J(X, w, b, y))"
      ],
      "execution_count": 14,
      "outputs": [
        {
          "output_type": "stream",
          "name": "stdout",
          "text": [
            "[[-156. ]\n",
            " [-331.2]]\n"
          ]
        }
      ]
    },
    {
      "cell_type": "markdown",
      "metadata": {
        "id": "1DlMZjqsfFlD"
      },
      "source": [
        "Train with JIT"
      ]
    },
    {
      "cell_type": "code",
      "metadata": {
        "id": "dCb3rbhPfHeK"
      },
      "source": [
        "\n",
        "\n",
        "w = np.zeros((2, 1))\n",
        "b = 0.\n",
        "\n",
        "grad_X = jit(grad(J, argnums=1))\n",
        "grad_b = jit(grad(J, argnums=2))\n",
        "\n",
        "# Run once to trigger JIT compilation.\n",
        "grad_X(X, w, b, y)\n",
        "grad_b(X, w, b, y)\n",
        "\n",
        "\n",
        "%timeit grad_X(X, w, b, y)\n",
        "\n",
        "%timeit grad_b(X, w, b, y)\n",
        "\n",
        "for i in range(100):\n",
        "    w -= learning_rate * grad_X(X, w, b, y)\n",
        "    b -= learning_rate * grad_b(X, w, b, y)\n",
        "    \n",
        "    if i % 10 == 0:\n",
        "        print(J(X, w, b, y))"
      ],
      "execution_count": null,
      "outputs": []
    }
  ]
}