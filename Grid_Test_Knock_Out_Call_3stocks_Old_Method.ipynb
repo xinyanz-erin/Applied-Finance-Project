{
  "nbformat": 4,
  "nbformat_minor": 0,
  "metadata": {
    "colab": {
      "name": "Grid Test_Knock Out Call 3stocks_Old Method",
      "provenance": [],
      "collapsed_sections": [],
      "machine_shape": "hm",
      "include_colab_link": true
    },
    "kernelspec": {
      "name": "python3",
      "display_name": "Python 3"
    },
    "language_info": {
      "name": "python"
    },
    "accelerator": "GPU"
  },
  "cells": [
    {
      "cell_type": "markdown",
      "metadata": {
        "id": "view-in-github",
        "colab_type": "text"
      },
      "source": [
        "<a href=\"https://colab.research.google.com/github/xinyanz-erin/Applied-Finance-Project/blob/Erin/Grid_Test_Knock_Out_Call_3stocks_Old_Method.ipynb\" target=\"_parent\"><img src=\"https://colab.research.google.com/assets/colab-badge.svg\" alt=\"Open In Colab\"/></a>"
      ]
    },
    {
      "cell_type": "code",
      "metadata": {
        "id": "tPlLTzwwNfwg"
      },
      "source": [
        "nstock = 3"
      ],
      "execution_count": 1,
      "outputs": []
    },
    {
      "cell_type": "code",
      "metadata": {
        "id": "IYigDkiy0HU9"
      },
      "source": [
        "# import cupy\n",
        "# import jax\n",
        "# import jax.numpy as jnp\n",
        "# from jax import random\n",
        "# from jax import jit\n",
        "# import numpy as np\n",
        "# from torch.utils.dlpack import from_dlpack\n",
        "\n",
        "# S_range = jnp.linspace(0.75, 1.25, 10)\n",
        "# K_range = jnp.linspace(0.75, 1.25, 8)\n",
        "# B_range = jnp.linspace(0.5, 1.0, 8) #in = (1.1, 1.6, 8)\n",
        "# sigma_range = jnp.linspace(0.15, 0.45, 4)\n",
        "# r_range = jnp.linspace(0.01, 0.04, 3)\n",
        "\n",
        "# print(S_range)\n",
        "# print(K_range)\n",
        "# print(B_range)\n",
        "# print(sigma_range)\n",
        "# print(r_range)"
      ],
      "execution_count": 2,
      "outputs": []
    },
    {
      "cell_type": "code",
      "metadata": {
        "id": "UIQxpJqK6OZr"
      },
      "source": [
        "# import cupy\n",
        "# import jax\n",
        "# import jax.numpy as jnp\n",
        "# from jax import random\n",
        "# from jax import jit\n",
        "# import numpy as np\n",
        "# import pandas as pd\n",
        "# from torch.utils.dlpack import from_dlpack\n",
        "\n",
        "# def Brownian_motion(key, initial_stocks, numsteps, drift, cov, T):\n",
        "#     stocks_init = jnp.zeros((numsteps + 1, initial_stocks.shape[0]))\n",
        "#     stocks_init = jax.ops.index_update(stocks_init,   # jax.ops.index_update(x, idx, y) <-> Pure equivalent of x[idx] = y\n",
        "#                             jax.ops.index[0],         # initialization of stock prices\n",
        "#                             initial_stocks)\n",
        "#     noise = jax.random.multivariate_normal(key,  jnp.array([0]*initial_stocks.shape[0]), cov, (numsteps+1,)) # noise must have mean 0\n",
        "#     sigma = jnp.diag(cov) ** 0.5\n",
        "#     dt = T / numsteps\n",
        "#     def time_step(t, val):\n",
        "#         dx = jnp.exp((drift - sigma ** 2. / 2.) * dt + jnp.sqrt(dt) * noise[t,:])\n",
        "#         val = jax.ops.index_update(val,\n",
        "#                             jax.ops.index[t],\n",
        "#                             val[t-1] * dx)\n",
        "#         return val\n",
        "#     return jax.lax.fori_loop(1, numsteps+1, time_step, stocks_init)[1:] # jax.lax.fori_loop(lower, upper, body_fun, init_val)\n",
        "\n",
        "# def optionvalueavg(key, initial_stocks, numsteps, drift, r, cov, K, B, T): # down-and-out call\n",
        "#     return jnp.mean(jnp.maximum((1 - jnp.any(jnp.mean(batch_simple(keys, initial_stocks, numsteps, drift, cov, T), axis=2) < B, axis=1).astype(int))* \n",
        "#                                 (jnp.mean(batch_simple(keys, initial_stocks, numsteps, drift, cov, T), axis=2))[:,-1]-K, 0) *\n",
        "#                     jnp.exp(-r[0] * T))\n",
        "\n",
        "# goptionvalueavg = jax.grad(optionvalueavg, argnums=1)\n",
        "\n",
        "# #################################################################### Adjust all parameters here (not inside class)\n",
        "# numstocks = nstock\n",
        "# numsteps = 50\n",
        "# numpaths = 2000000\n",
        "\n",
        "# rng = jax.random.PRNGKey(np.random.randint(10000))\n",
        "# rng, key = jax.random.split(rng)\n",
        "# keys = jax.random.split(key, numpaths)\n",
        "\n",
        "# S1_range = jnp.linspace(0.75, 1.25, 6)[2:4]\n",
        "# S2_range = jnp.linspace(0.75, 1.25, 6)\n",
        "# S3_range = jnp.linspace(0.75, 1.25, 6)\n",
        "# K_range = jnp.linspace(0.75, 1.25, 5)\n",
        "# B_range = jnp.linspace(0.5, 1.0, 6)\n",
        "# sigma_range = jnp.linspace(0.15, 0.45, 3)\n",
        "# r_range = jnp.linspace(0.01, 0.04, 3)\n",
        "# T = 1.0\n",
        "\n",
        "# fast_simple = jax.jit(Brownian_motion, static_argnums=2)\n",
        "# batch_simple = jax.vmap(fast_simple, in_axes=(0, None, None, None, None, None))\n",
        "# ####################################################################\n",
        "\n",
        "# call = []\n",
        "# count = 0\n",
        "\n",
        "# # for S1 in S_range:\n",
        "# #   for K in K_range:\n",
        "# #     for B in B_range:\n",
        "# #       for r in r_range:\n",
        "# #         for sigma in sigma_range:    \n",
        "\n",
        "# #           initial_stocks = jnp.array([S]*numstocks) # must be float\n",
        "# #           r_tmp = jnp.array([r]*numstocks)\n",
        "# #           drift = r_tmp\n",
        "# #           cov = jnp.identity(numstocks)*sigma*sigma\n",
        "\n",
        "# #           Knock_Out_Call_price = optionvalueavg(key, initial_stocks, numsteps, drift, r_tmp, cov, K, B, T)\n",
        "# #           Deltas = goptionvalueavg(keys, initial_stocks, numsteps, drift, r_tmp, cov, K, B, T)\n",
        "# #           # call.append([T, K, B, S, sigma, r, r, Knock_Out_Call_price] + list(Deltas)) #T, K, B, S, sigma, mu, r, price, delta\n",
        "# #           call.append([T, K, S1, sigma, r, r,\n",
        "# #                          T, K, S2, sigma, r, r,\n",
        "# #                          T, K, S3, sigma, r, r, Knock_Out_Call_price] + list(Deltas))\n",
        "          \n",
        "# #           count += 1\n",
        "# #           print(count)\n",
        "\n",
        "# for S1 in S1_range:\n",
        "#   for S2 in S2_range:\n",
        "#     for S3 in S3_range:\n",
        "#       for K in K_range:\n",
        "#         for B in B_range:\n",
        "#           for r in r_range:\n",
        "#             for sigma in sigma_range:\n",
        "              \n",
        "#               initial_stocks = jnp.array([S1, S2, S3]) # must be float\n",
        "#               r_tmp = jnp.array([r]*numstocks)\n",
        "#               drift = r_tmp\n",
        "#               cov = jnp.identity(numstocks)*sigma*sigma\n",
        "              \n",
        "#               Knock_Out_Call_price = optionvalueavg(key, initial_stocks, numsteps, drift, r_tmp, cov, K, B, T)\n",
        "#               Deltas = goptionvalueavg(keys, initial_stocks, numsteps, drift, r_tmp, cov, K, B, T)\n",
        "#               call.append([T, K, B, S1, sigma, r, r,\n",
        "#                           T, K, B, S2, sigma, r, r,\n",
        "#                           T, K, B, S3, sigma, r, r, Knock_Out_Call_price] + list(Deltas)) #T, K, S, sigma, mu, r, price, delta\n",
        "                          \n",
        "#               count += 1\n",
        "#               print(count)"
      ],
      "execution_count": 3,
      "outputs": []
    },
    {
      "cell_type": "code",
      "metadata": {
        "id": "e_OUtP8GUwj5"
      },
      "source": [
        "# Thedataset_3stock = pd.DataFrame(call)\n",
        "# Thedataset_3stock"
      ],
      "execution_count": 4,
      "outputs": []
    },
    {
      "cell_type": "code",
      "metadata": {
        "id": "7RsPX_tEBGFc",
        "colab": {
          "base_uri": "https://localhost:8080/"
        },
        "outputId": "a39591f2-fd29-4c5d-ddca-55d64f14f756"
      },
      "source": [
        "# from google.colab import drive\n",
        "# drive.mount('/content/drive')"
      ],
      "execution_count": 5,
      "outputs": [
        {
          "output_type": "stream",
          "name": "stdout",
          "text": [
            "Drive already mounted at /content/drive; to attempt to forcibly remount, call drive.mount(\"/content/drive\", force_remount=True).\n"
          ]
        }
      ]
    },
    {
      "cell_type": "code",
      "metadata": {
        "id": "Gv_WjCRV2OZK"
      },
      "source": [
        "# #save to csv\n",
        "# Thedataset_3stock.to_csv(f'/content/drive/MyDrive/AFP/Save_Models/Knock_Out_Call_{str(nstock)}stocks_Datset_part2.csv', index=False, header=False)"
      ],
      "execution_count": 6,
      "outputs": []
    },
    {
      "cell_type": "code",
      "metadata": {
        "id": "0LtL32xSp7mw"
      },
      "source": [
        "from google.colab import drive\n",
        "drive.mount('/content/drive')"
      ],
      "execution_count": null,
      "outputs": []
    },
    {
      "cell_type": "code",
      "metadata": {
        "id": "skGWSSsG8TGG"
      },
      "source": [
        "# read csv\n",
        "import pandas as pd\n",
        "\n",
        "Thedataset_3stock = pd.read_csv(f'/content/drive/MyDrive/AFP/Save_Models/Knock_Out_Call_{str(nstock)}stocks_Datset.csv', header=None)\n",
        "# Thedataset_3stock"
      ],
      "execution_count": 7,
      "outputs": []
    },
    {
      "cell_type": "markdown",
      "metadata": {
        "id": "or2YUJ9cfEiF"
      },
      "source": [
        "# Construct Neural Net"
      ]
    },
    {
      "cell_type": "code",
      "metadata": {
        "id": "b-i4HV-G44th"
      },
      "source": [
        "import cupy\n",
        "import jax\n",
        "import jax.numpy as jnp\n",
        "from jax import random\n",
        "from jax import jit\n",
        "import numpy as np\n",
        "import pandas as pd\n",
        "from torch.utils.dlpack import from_dlpack\n",
        "import torch\n",
        "torch.set_printoptions(precision=6)\n",
        "\n",
        "# Thedataset_X = Thedataset_3stock.iloc[:,:7]\n",
        "# Thedataset_Y = Thedataset_3stock.iloc[:,7:]\n",
        "Thedataset_X = Thedataset_3stock.iloc[:,:7*nstock]\n",
        "Thedataset_Y = Thedataset_3stock.iloc[:,7*nstock:]\n",
        "\n",
        "class OptionDataSet(object):\n",
        "    \n",
        "    def __init__(self, max_len):\n",
        "        self.num = 0\n",
        "        self.max_length = max_len\n",
        "        self.X = cupy.array(Thedataset_X)\n",
        "        self.Y = cupy.array(Thedataset_Y)\n",
        "        \n",
        "    def __len__(self):\n",
        "        return self.max_length\n",
        "        \n",
        "    def __iter__(self):\n",
        "        self.num = 0\n",
        "        return self\n",
        "    \n",
        "    def __next__(self):\n",
        "        if self.num >= self.max_length:\n",
        "            raise StopIteration\n",
        "\n",
        "        self.num += 1\n",
        "        return (from_dlpack(self.X.toDlpack()), from_dlpack(self.Y.toDlpack()))\n",
        "\n",
        "# print\n",
        "# ds = OptionDataSet(max_len = 1)\n",
        "# for i in ds:\n",
        "#     print(i[0])\n",
        "#     print(i[0].shape)\n",
        "#     print(i[1])\n",
        "#     print(i[1].shape)"
      ],
      "execution_count": 8,
      "outputs": []
    },
    {
      "cell_type": "code",
      "metadata": {
        "id": "rN6JO9OBHdvv",
        "colab": {
          "base_uri": "https://localhost:8080/"
        },
        "outputId": "508ee8d5-f96d-4187-8fb6-74adfb5f91fd"
      },
      "source": [
        "%%writefile model.py\n",
        "# version 1,2\n",
        "import torch.nn as nn\n",
        "import torch.nn.functional as F\n",
        "import torch\n",
        "import numpy as np\n",
        "\n",
        "class Net(nn.Module):\n",
        "\n",
        "    def __init__(self, hidden=1024, nstock = 1):\n",
        "        self.nstock = nstock\n",
        "        super(Net, self).__init__()\n",
        "        self.fc1 = nn.Linear(7*self.nstock, 64) # remember to change this!\n",
        "        self.fc2 = nn.Linear(64, 128)\n",
        "        self.fc3 = nn.Linear(128, 256)\n",
        "        self.fc4 = nn.Linear(256, 128)\n",
        "        self.fc5 = nn.Linear(128, 64)\n",
        "        self.fc6 = nn.Linear(64, nstock + 1) # outputs: prices, delta\n",
        "        self.register_buffer('norm',\n",
        "                             torch.tensor([1.0, 0.5, 0.5, 0.5, 0.3, 0.03, 0.03] * self.nstock)) # don't use numpy here - will give error later\n",
        "                                                                               # T, K, B, S, sigma, mu, r\n",
        "\n",
        "    def forward(self, x):\n",
        "        # normalize the parameter to range [0-1] \n",
        "        x = (x - torch.tensor([0.0, 0.75, 0.5, 0.75, 0.15, 0.01, 0.01] * self.nstock).cuda()) / self.norm\n",
        "        x = F.elu(self.fc1(x))\n",
        "        x = F.elu(self.fc2(x))\n",
        "        x = F.elu(self.fc3(x))\n",
        "        x = F.elu(self.fc4(x))\n",
        "        x = F.elu(self.fc5(x))\n",
        "        return self.fc6(x)"
      ],
      "execution_count": 9,
      "outputs": [
        {
          "output_type": "stream",
          "name": "stdout",
          "text": [
            "Overwriting model.py\n"
          ]
        }
      ]
    },
    {
      "cell_type": "markdown",
      "metadata": {
        "id": "owSrICMvyZX0"
      },
      "source": [
        "# Train Neural Net"
      ]
    },
    {
      "cell_type": "code",
      "metadata": {
        "id": "JlXD80xPNVc6",
        "colab": {
          "base_uri": "https://localhost:8080/"
        },
        "outputId": "cedb97e4-bf1d-4efc-b491-a9a665f89ddc"
      },
      "source": [
        "!pip install pytorch-ignite"
      ],
      "execution_count": 10,
      "outputs": [
        {
          "output_type": "stream",
          "name": "stdout",
          "text": [
            "Requirement already satisfied: pytorch-ignite in /usr/local/lib/python3.7/dist-packages (0.4.7)\n",
            "Requirement already satisfied: torch<2,>=1.3 in /usr/local/lib/python3.7/dist-packages (from pytorch-ignite) (1.10.0+cu111)\n",
            "Requirement already satisfied: typing-extensions in /usr/local/lib/python3.7/dist-packages (from torch<2,>=1.3->pytorch-ignite) (3.10.0.2)\n"
          ]
        }
      ]
    },
    {
      "cell_type": "code",
      "metadata": {
        "id": "EeLVZiiaDS4y",
        "colab": {
          "base_uri": "https://localhost:8080/"
        },
        "outputId": "62a149c2-5c1f-474f-ad12-b2fab245b414"
      },
      "source": [
        "from google.colab import drive\n",
        "drive.mount('/content/drive')"
      ],
      "execution_count": 11,
      "outputs": [
        {
          "output_type": "stream",
          "name": "stdout",
          "text": [
            "Drive already mounted at /content/drive; to attempt to forcibly remount, call drive.mount(\"/content/drive\", force_remount=True).\n"
          ]
        }
      ]
    },
    {
      "cell_type": "code",
      "metadata": {
        "id": "S3CyULkENYKb",
        "colab": {
          "base_uri": "https://localhost:8080/"
        },
        "outputId": "5c6952b4-858e-4301-8961-b06e47ae46de"
      },
      "source": [
        "from ignite.engine import Engine, Events\n",
        "from ignite.handlers import Timer\n",
        "from torch.nn import MSELoss\n",
        "from torch.optim import Adam\n",
        "from ignite.contrib.handlers.param_scheduler import CosineAnnealingScheduler\n",
        "from ignite.handlers import ModelCheckpoint\n",
        "from model import Net\n",
        "import numpy as np\n",
        "import torch\n",
        "from torch import Tensor\n",
        "from torch.autograd import grad\n",
        "timer = Timer(average=True)\n",
        "model = Net(nstock = nstock).cuda()\n",
        "loss_fn = MSELoss()\n",
        "optimizer = Adam(model.parameters(), lr=1e-3)\n",
        "dataset = OptionDataSet(max_len = 100) # Use max_len to adjust\n",
        "\n",
        "def train_update(engine, batch):\n",
        "    model.train()\n",
        "    optimizer.zero_grad()\n",
        "    x = batch[0]\n",
        "    # print(x)\n",
        "    # print(x.shape)\n",
        "    y = batch[1]\n",
        "    # print(y)\n",
        "    # print(y.shape)\n",
        "    y_pred = model(x.float())\n",
        "    # print(y_pred)\n",
        "    # print(y_pred.shape)\n",
        "\n",
        "    # def compute_deltas(x):\n",
        "    #   inputs = x.float()\n",
        "    #   inputs.requires_grad = True\n",
        "    #   first_order_gradient = grad(model(inputs), inputs, create_graph=False)\n",
        "    #   return first_order_gradient[0][[3]]  # Now index 3 is stock price, not 2\n",
        "\n",
        "    # deltas = torch.stack([compute_deltas(x) for x in torch.unbind(x)], dim=0)\n",
        "    # y_pred = torch.cat((y_pred, deltas), 1)\n",
        "    # # print(y_pred)\n",
        "    # # print(y_pred.shape)\n",
        "\n",
        "    loss_weight = torch.tensor([1] * (nstock+1)).cuda()\n",
        "    loss_weight_normalized = loss_weight/loss_weight.sum()\n",
        "    loss = ((y_pred - y) ** 2 * loss_weight_normalized).mean(axis=0).sum() # compute weighted MSE between the 2 arrays\n",
        "\n",
        "    loss.backward()\n",
        "    optimizer.step()\n",
        "    return loss.item()\n",
        "\n",
        "trainer = Engine(train_update)\n",
        "log_interval = 20\n",
        "\n",
        "scheduler = CosineAnnealingScheduler(optimizer, 'lr', 1e-4, 1e-6, len(dataset))\n",
        "trainer.add_event_handler(Events.ITERATION_STARTED, scheduler)\n",
        "timer.attach(trainer,\n",
        "             start=Events.EPOCH_STARTED,\n",
        "             resume=Events.ITERATION_STARTED,\n",
        "             pause=Events.ITERATION_COMPLETED,\n",
        "             step=Events.ITERATION_COMPLETED)    \n",
        "@trainer.on(Events.ITERATION_COMPLETED)\n",
        "def log_training_loss(engine):\n",
        "    iter = (engine.state.iteration - 1) % len(dataset) + 1\n",
        "    if iter % log_interval == 0:\n",
        "        print('loss', engine.state.output, 'average time', timer.value(), 'iter num', iter)\n",
        "        \n",
        "trainer.run(dataset, max_epochs = 100)\n",
        "\n",
        "model_save_name = f'jax_knock_out_{str(nstock)}stocks_oldmethod_1.pth'\n",
        "path = F\"/content/drive/MyDrive/AFP/Save_Models/{model_save_name}\" \n",
        "torch.save(model.state_dict(), path)"
      ],
      "execution_count": 12,
      "outputs": [
        {
          "output_type": "stream",
          "name": "stderr",
          "text": [
            "/usr/local/lib/python3.7/dist-packages/ipykernel_launcher.py:9: DeprecationWarning: /usr/local/lib/python3.7/dist-packages/ignite/contrib/handlers/param_scheduler.py has been moved to /ignite/handlers/param_scheduler.py and will be removed in version 0.6.0.\n",
            " Please refer to the documentation for more details.\n",
            "  if __name__ == '__main__':\n"
          ]
        },
        {
          "output_type": "stream",
          "name": "stdout",
          "text": [
            "loss 0.01224672574410706 average time 0.013402555700054108 iter num 20\n",
            "loss 0.009126863497373745 average time 0.013017256375030683 iter num 40\n",
            "loss 0.007128439253593152 average time 0.01285466865001581 iter num 60\n",
            "loss 0.006232940173446742 average time 0.01278237576251513 iter num 80\n",
            "loss 0.006053955598234374 average time 0.01277504470002441 iter num 100\n",
            "loss 0.003737655452817366 average time 0.01261908504998246 iter num 20\n",
            "loss 0.003077620475164287 average time 0.012637904099983643 iter num 40\n",
            "loss 0.002952841700973571 average time 0.012628574316659069 iter num 60\n",
            "loss 0.0029291216273295085 average time 0.012654615137500968 iter num 80\n",
            "loss 0.002925123533513152 average time 0.012648380730006466 iter num 100\n",
            "loss 0.002866913714641158 average time 0.012667869699953371 iter num 20\n",
            "loss 0.002827311498416252 average time 0.012674643724960789 iter num 40\n",
            "loss 0.002801992896041586 average time 0.01265406656665012 iter num 60\n",
            "loss 0.002790392425969882 average time 0.012654131624992715 iter num 80\n",
            "loss 0.0027879172490643256 average time 0.012654088879999107 iter num 100\n",
            "loss 0.0027401545357884846 average time 0.012630229749925092 iter num 20\n",
            "loss 0.0026969246358838407 average time 0.012602543299965418 iter num 40\n",
            "loss 0.002667518494240767 average time 0.012609296966638794 iter num 60\n",
            "loss 0.0026537848461946523 average time 0.012604186099980551 iter num 80\n",
            "loss 0.002650849449597863 average time 0.012608973609990243 iter num 100\n",
            "loss 0.00259369734099629 average time 0.012570879250006328 iter num 20\n",
            "loss 0.002540499362337802 average time 0.012605423475008593 iter num 40\n",
            "loss 0.0025036114546335333 average time 0.012602701850020518 iter num 60\n",
            "loss 0.0024862426558514756 average time 0.012617321362523626 iter num 80\n",
            "loss 0.0024825296122590735 average time 0.012606760210014728 iter num 100\n",
            "loss 0.0024099512513550093 average time 0.012561042349966555 iter num 20\n",
            "loss 0.0023414939245934674 average time 0.012601462274983533 iter num 40\n",
            "loss 0.0022937765236533915 average time 0.012632631983342435 iter num 60\n",
            "loss 0.002271347673240465 average time 0.01264629316252126 iter num 80\n",
            "loss 0.0022665717742345656 average time 0.012657625370006826 iter num 100\n",
            "loss 0.0021740583904874327 average time 0.012633189600046535 iter num 20\n",
            "loss 0.0020888819274574363 average time 0.012664938074999554 iter num 40\n",
            "loss 0.0020316990079338425 average time 0.012674329816695718 iter num 60\n",
            "loss 0.00200571147480325 average time 0.012667143275024273 iter num 80\n",
            "loss 0.0020002791307905292 average time 0.012677677400015455 iter num 100\n",
            "loss 0.0018996632683345733 average time 0.012627267650054818 iter num 20\n",
            "loss 0.001816466234958361 average time 0.01266227910005 iter num 40\n",
            "loss 0.0017660936028513112 average time 0.01266683956671386 iter num 60\n",
            "loss 0.0017445469369338008 average time 0.012674303637538742 iter num 80\n",
            "loss 0.0017401494163367614 average time 0.012671752200030823 iter num 100\n",
            "loss 0.0016617997720287955 average time 0.01258623990001979 iter num 20\n",
            "loss 0.0016000427985978507 average time 0.012608778750006877 iter num 40\n",
            "loss 0.0015626836007322244 average time 0.012616640966681796 iter num 60\n",
            "loss 0.0015464987835293385 average time 0.012619799550003563 iter num 80\n",
            "loss 0.0015431731161170035 average time 0.012637950299986187 iter num 100\n",
            "loss 0.00150144384439706 average time 0.012687076550014354 iter num 20\n",
            "loss 0.0014466955978118192 average time 0.01266780054999117 iter num 40\n",
            "loss 0.001420180807563871 average time 0.012657373183310483 iter num 60\n",
            "loss 0.0014089189005137023 average time 0.012673602774987103 iter num 80\n",
            "loss 0.0014065616416483056 average time 0.012677944249990105 iter num 100\n",
            "loss 0.0013627150640250262 average time 0.01269738865000818 iter num 20\n",
            "loss 0.001325020567518184 average time 0.012634889199989629 iter num 40\n",
            "loss 0.0013006305922969499 average time 0.01263960033334873 iter num 60\n",
            "loss 0.0012896234030226484 average time 0.012625333124992722 iter num 80\n",
            "loss 0.001287313011388084 average time 0.012620032079989869 iter num 100\n",
            "loss 0.0012437795305523655 average time 0.012608751949960606 iter num 20\n",
            "loss 0.001205629608967238 average time 0.012613410100004784 iter num 40\n",
            "loss 0.0011806166272726646 average time 0.012630322733336167 iter num 60\n",
            "loss 0.0011692711688302661 average time 0.012618840524993402 iter num 80\n",
            "loss 0.0011668876847418178 average time 0.012624475339994206 iter num 100\n",
            "loss 0.0011220523106009904 average time 0.012638869849956791 iter num 20\n",
            "loss 0.0010833476079848373 average time 0.012662043874968276 iter num 40\n",
            "loss 0.0010587315807957728 average time 0.012661744666661433 iter num 60\n",
            "loss 0.001047884163009243 average time 0.012642467837497406 iter num 80\n",
            "loss 0.0010456398992679558 average time 0.012633644589982396 iter num 100\n",
            "loss 0.00100499680498972 average time 0.012620920599965757 iter num 20\n",
            "loss 0.0009730659524267945 average time 0.01264366084996027 iter num 40\n",
            "loss 0.0009544807933454176 average time 0.012658103949979705 iter num 60\n",
            "loss 0.0009466858897513628 average time 0.012672199049973187 iter num 80\n",
            "loss 0.0009451019202947068 average time 0.012688730099980602 iter num 100\n",
            "loss 0.000927466566002336 average time 0.012662455200029399 iter num 20\n",
            "loss 0.0008995740268352995 average time 0.01263257909999993 iter num 40\n",
            "loss 0.0008854047091282708 average time 0.012594148949998878 iter num 60\n",
            "loss 0.000880269391741258 average time 0.012599954462496043 iter num 80\n",
            "loss 0.0008792042166866852 average time 0.012603915859999688 iter num 100\n",
            "loss 0.0008595141744489716 average time 0.012626851699974396 iter num 20\n",
            "loss 0.0008427590612723459 average time 0.012611289574999773 iter num 40\n",
            "loss 0.0008319336746852568 average time 0.012614067999993494 iter num 60\n",
            "loss 0.0008270388779939024 average time 0.012620665887487803 iter num 80\n",
            "loss 0.0008260101108912034 average time 0.012629203649989904 iter num 100\n",
            "loss 0.0008065321067551069 average time 0.012648341449903455 iter num 20\n",
            "loss 0.0007892094906093258 average time 0.012613453974961431 iter num 40\n",
            "loss 0.0007776378701096519 average time 0.012618532116615217 iter num 60\n",
            "loss 0.000772308855852657 average time 0.012623882124955799 iter num 80\n",
            "loss 0.0007711806367238577 average time 0.012623825669952566 iter num 100\n",
            "loss 0.00075582926149673 average time 0.012652768750035648 iter num 20\n",
            "loss 0.0007306926412052796 average time 0.012649012950032557 iter num 40\n",
            "loss 0.0007172881646106714 average time 0.012633668783352429 iter num 60\n",
            "loss 0.0007112171388682161 average time 0.012650686099999576 iter num 80\n",
            "loss 0.0007099337520046196 average time 0.012628327030001855 iter num 100\n",
            "loss 0.0006863517683670158 average time 0.012543962599966107 iter num 20\n",
            "loss 0.0006660605146020512 average time 0.012556057949984734 iter num 40\n",
            "loss 0.0006523803526267309 average time 0.012579710866672637 iter num 60\n",
            "loss 0.0006460770258323878 average time 0.012597851312517606 iter num 80\n",
            "loss 0.0006447410183656635 average time 0.012594087460010997 iter num 100\n",
            "loss 0.0006193746424452578 average time 0.012632175700014158 iter num 20\n",
            "loss 0.0005969187969500694 average time 0.012631093800030158 iter num 40\n",
            "loss 0.000582331653798955 average time 0.012648743766688616 iter num 60\n",
            "loss 0.0005758134953074503 average time 0.01265465635002556 iter num 80\n",
            "loss 0.0005744571107338605 average time 0.012657743370018579 iter num 100\n",
            "loss 0.0005495012746828155 average time 0.012698497700057487 iter num 20\n",
            "loss 0.0005290209285755356 average time 0.012693029025024316 iter num 40\n",
            "loss 0.0005166202908375307 average time 0.012691840300044532 iter num 60\n",
            "loss 0.0005113192182914333 average time 0.012683169975014152 iter num 80\n",
            "loss 0.0005102367513856113 average time 0.012677771630010284 iter num 100\n",
            "loss 0.0004910114256625242 average time 0.012703608500032715 iter num 20\n",
            "loss 0.0004762345093881926 average time 0.012686392750038068 iter num 40\n",
            "loss 0.0004676360537249642 average time 0.01265955853335375 iter num 60\n",
            "loss 0.00046400683916304004 average time 0.012643803250017526 iter num 80\n",
            "loss 0.0004632672765743978 average time 0.012645739670015246 iter num 100\n",
            "loss 0.0004520600390987326 average time 0.012695717399969908 iter num 20\n",
            "loss 0.00043994568272055025 average time 0.012700414599987653 iter num 40\n",
            "loss 0.0004335374745668733 average time 0.012670976666648433 iter num 60\n",
            "loss 0.0004308115068611969 average time 0.012688394374970357 iter num 80\n",
            "loss 0.00043025019159770544 average time 0.012680774749987904 iter num 100\n",
            "loss 0.00042701153467275554 average time 0.012714760800031399 iter num 20\n",
            "loss 0.00041954301366778476 average time 0.012727823399995942 iter num 40\n",
            "loss 0.0004111474774773459 average time 0.012692048616668217 iter num 60\n",
            "loss 0.0004091056390794813 average time 0.012679364749999422 iter num 80\n",
            "loss 0.000408712092035901 average time 0.012653106920015488 iter num 100\n",
            "loss 0.00040175487688841295 average time 0.01261629370007995 iter num 20\n",
            "loss 0.0003958014486926837 average time 0.012609090350053975 iter num 40\n",
            "loss 0.0003919798744372454 average time 0.012610766983372438 iter num 60\n",
            "loss 0.0003902681684130096 average time 0.012603568187535075 iter num 80\n",
            "loss 0.00038991051154002414 average time 0.012616954960030853 iter num 100\n",
            "loss 0.0003832297948345638 average time 0.012681048350077617 iter num 20\n",
            "loss 0.000377475248789801 average time 0.012684895375059568 iter num 40\n",
            "loss 0.00037376469052395004 average time 0.012675793850053196 iter num 60\n",
            "loss 0.00037209945762849454 average time 0.012657710850044168 iter num 80\n",
            "loss 0.0003717512483758606 average time 0.012654346350032028 iter num 100\n",
            "loss 0.0003652377368275343 average time 0.012650619899955019 iter num 20\n",
            "loss 0.0003596098802835609 average time 0.012639608675021919 iter num 40\n",
            "loss 0.00035597113114724477 average time 0.012636375150001792 iter num 60\n",
            "loss 0.00035433529193936873 average time 0.012641112574999624 iter num 80\n",
            "loss 0.00035399299097479226 average time 0.01263428820000172 iter num 100\n",
            "loss 0.0003475788008326412 average time 0.012674886900003911 iter num 20\n",
            "loss 0.00034201537842456267 average time 0.012648985875000563 iter num 40\n",
            "loss 0.00033840513632142893 average time 0.01264492923335941 iter num 60\n",
            "loss 0.00033677810782492334 average time 0.012663658875004558 iter num 80\n",
            "loss 0.0003364372977096139 average time 0.012667997930007004 iter num 100\n",
            "loss 0.00033003687050153015 average time 0.012703384600035861 iter num 20\n",
            "loss 0.0003244569740344811 average time 0.012697293925054965 iter num 40\n",
            "loss 0.0003208182387884914 average time 0.012692480716699114 iter num 60\n",
            "loss 0.0003191732128651531 average time 0.012690315162529942 iter num 80\n",
            "loss 0.0003188281181257013 average time 0.012674272870017376 iter num 100\n",
            "loss 0.00031232994876318344 average time 0.012651586350011712 iter num 20\n",
            "loss 0.00030663222181480246 average time 0.012634869049998087 iter num 40\n",
            "loss 0.00030289991628649007 average time 0.01262476854999477 iter num 60\n",
            "loss 0.00030120855055302143 average time 0.012634974499997042 iter num 80\n",
            "loss 0.00030085346295399655 average time 0.012631919519990334 iter num 100\n",
            "loss 0.00029415689846606463 average time 0.012674811700026111 iter num 20\n",
            "loss 0.0002882681590676672 average time 0.012746985875037354 iter num 40\n",
            "loss 0.0002844045524701466 average time 0.01278093510003752 iter num 60\n",
            "loss 0.00028265244038119786 average time 0.012765593387530316 iter num 80\n",
            "loss 0.00028228453481009833 average time 0.012735866010016252 iter num 100\n",
            "loss 0.0003122470279914038 average time 0.012650493499972982 iter num 20\n",
            "loss 0.00027079331439420015 average time 0.012623471550000431 iter num 40\n",
            "loss 0.0002673205581000044 average time 0.012621197366668942 iter num 60\n",
            "loss 0.0002657463485748275 average time 0.012635755825016304 iter num 80\n",
            "loss 0.00026543561258828035 average time 0.012639879900002598 iter num 100\n",
            "loss 0.00025956238342095196 average time 0.012699478600006841 iter num 20\n",
            "loss 0.00025439699174178987 average time 0.012698269799955142 iter num 40\n",
            "loss 0.00025100844323780626 average time 0.012684035549993193 iter num 60\n",
            "loss 0.00024947207231443833 average time 0.01266455240000255 iter num 80\n",
            "loss 0.0002491495276593501 average time 0.012645309560002715 iter num 100\n",
            "loss 0.0002430652181594552 average time 0.012644391899971196 iter num 20\n",
            "loss 0.00023771516574809954 average time 0.012621421124993048 iter num 40\n",
            "loss 0.0002342049416749872 average time 0.012645903899980718 iter num 60\n",
            "loss 0.00023261324336277232 average time 0.012651599574979855 iter num 80\n",
            "loss 0.0002322790479894818 average time 0.012655507479985317 iter num 100\n",
            "loss 0.0002259730330039741 average time 0.012666567700125596 iter num 20\n",
            "loss 0.00022042254346461734 average time 0.012682734450083898 iter num 40\n",
            "loss 0.00021677782663959694 average time 0.012670358000067002 iter num 60\n",
            "loss 0.00021512445565756297 average time 0.012663393925060972 iter num 80\n",
            "loss 0.00021477727226593937 average time 0.01264494209005079 iter num 100\n",
            "loss 0.000212838528399693 average time 0.012583227999994052 iter num 20\n",
            "loss 0.00020305302910722398 average time 0.012570272199991451 iter num 40\n",
            "loss 0.00019896213640891206 average time 0.012565940383342421 iter num 60\n",
            "loss 0.00019728247607934328 average time 0.012565047925005502 iter num 80\n",
            "loss 0.00019693284396433416 average time 0.012560651510007119 iter num 100\n",
            "loss 0.00019339386110203677 average time 0.012654068250026285 iter num 20\n",
            "loss 0.00019195820124468053 average time 0.012639800324984662 iter num 40\n",
            "loss 0.0001849515518942177 average time 0.012621432733340043 iter num 60\n",
            "loss 0.00018338170778590832 average time 0.012607419675026677 iter num 80\n",
            "loss 0.0001831089369015318 average time 0.012604733110024427 iter num 100\n",
            "loss 0.00017819719057087386 average time 0.012598769149963118 iter num 20\n",
            "loss 0.00017385754408127675 average time 0.012599176450009963 iter num 40\n",
            "loss 0.00017104184240655616 average time 0.012609173950014945 iter num 60\n",
            "loss 0.00016977204448604365 average time 0.012614958500012107 iter num 80\n",
            "loss 0.00016950599498130508 average time 0.012631528030005938 iter num 100\n",
            "loss 0.00016451266735881314 average time 0.012606821499934995 iter num 20\n",
            "loss 0.00016017172695180165 average time 0.01263000859994463 iter num 40\n",
            "loss 0.00015735757208175613 average time 0.012626589183317568 iter num 60\n",
            "loss 0.0001560923317743531 average time 0.012624919925002587 iter num 80\n",
            "loss 0.00015582778106354922 average time 0.012606170330004716 iter num 100\n",
            "loss 0.00015088107810437012 average time 0.012573677999967003 iter num 20\n",
            "loss 0.00014661584733899257 average time 0.012618132399995829 iter num 40\n",
            "loss 0.0001438694192695179 average time 0.012610991150017981 iter num 60\n",
            "loss 0.00014263969099225947 average time 0.012620491575012239 iter num 80\n",
            "loss 0.00014238300745541822 average time 0.012629066430017702 iter num 100\n",
            "loss 0.00013759967733808443 average time 0.012666721999994478 iter num 20\n",
            "loss 0.00013349974955388075 average time 0.012617920950003737 iter num 40\n",
            "loss 0.00013087289210660485 average time 0.01263638575001096 iter num 60\n",
            "loss 0.00012970026393944312 average time 0.012658387362506573 iter num 80\n",
            "loss 0.00012945583060025 average time 0.012670869630010202 iter num 100\n",
            "loss 0.00012491244077459388 average time 0.012660137249986292 iter num 20\n",
            "loss 0.00012103723974198009 average time 0.012678400550021252 iter num 40\n",
            "loss 0.00011856266207657684 average time 0.012671822766689426 iter num 60\n",
            "loss 0.00011745992219805082 average time 0.012660298975021078 iter num 80\n",
            "loss 0.0001172302213364365 average time 0.01265184127001703 iter num 100\n",
            "loss 0.00011296810656090855 average time 0.012634814400030336 iter num 20\n",
            "loss 0.00010934569719580185 average time 0.012653860400007488 iter num 40\n",
            "loss 0.00010704228538724237 average time 0.012661830983332342 iter num 60\n",
            "loss 0.00010601839911182323 average time 0.012653089512485848 iter num 80\n",
            "loss 0.00010580536200146404 average time 0.012640292519977265 iter num 100\n",
            "loss 0.00017183803695718666 average time 0.01260220854999261 iter num 20\n",
            "loss 0.00010576366328987598 average time 0.012627065999959086 iter num 40\n",
            "loss 9.850138630994565e-05 average time 0.012603168516625374 iter num 60\n",
            "loss 9.765142735662016e-05 average time 0.012600219862457606 iter num 80\n",
            "loss 9.747952569573245e-05 average time 0.012603720359970793 iter num 100\n",
            "loss 9.475580507283542e-05 average time 0.012640246749970174 iter num 20\n",
            "loss 9.240384869633404e-05 average time 0.012682684449976023 iter num 40\n",
            "loss 9.09164733263808e-05 average time 0.012686249516658183 iter num 60\n",
            "loss 9.025426312171107e-05 average time 0.012670331599997553 iter num 80\n",
            "loss 9.01163218970094e-05 average time 0.012656869400011601 iter num 100\n",
            "loss 8.755390784662788e-05 average time 0.012545348149933489 iter num 20\n",
            "loss 8.537049873655453e-05 average time 0.012624220599968794 iter num 40\n",
            "loss 8.397716852113719e-05 average time 0.012649607616655583 iter num 60\n",
            "loss 8.33563492195859e-05 average time 0.012653060287499329 iter num 80\n",
            "loss 8.322701346018862e-05 average time 0.012650983680009631 iter num 100\n",
            "loss 8.082405787629342e-05 average time 0.012616157549996388 iter num 20\n",
            "loss 7.877662577570014e-05 average time 0.012650741599986758 iter num 40\n",
            "loss 7.747055817266734e-05 average time 0.012635267249978217 iter num 60\n",
            "loss 7.688884086248287e-05 average time 0.012647253049976825 iter num 80\n",
            "loss 7.676767461569584e-05 average time 0.012667259999980161 iter num 100\n",
            "loss 7.451765923328384e-05 average time 0.01268346550004935 iter num 20\n",
            "loss 7.260249545888186e-05 average time 0.012662850375022572 iter num 40\n",
            "loss 7.138185496649905e-05 average time 0.01265338235003431 iter num 60\n",
            "loss 7.083853932901061e-05 average time 0.012657689387526715 iter num 80\n",
            "loss 7.072539019226353e-05 average time 0.012642399720029972 iter num 100\n",
            "loss 6.862576556817965e-05 average time 0.01263037575006365 iter num 20\n",
            "loss 6.684120988176436e-05 average time 0.012673232425072456 iter num 40\n",
            "loss 6.57056152472031e-05 average time 0.01267364583335772 iter num 60\n",
            "loss 6.520066398106396e-05 average time 0.012683243812512046 iter num 80\n",
            "loss 6.509555912032793e-05 average time 0.012677264180006205 iter num 100\n",
            "loss 6.427479153012857e-05 average time 0.012667792349998309 iter num 20\n",
            "loss 6.20402879906119e-05 average time 0.012665851824965556 iter num 40\n",
            "loss 6.06646976812432e-05 average time 0.012669745016637535 iter num 60\n",
            "loss 6.016575879574414e-05 average time 0.012649121937477048 iter num 80\n",
            "loss 6.006680219807998e-05 average time 0.012640440399959516 iter num 100\n",
            "loss 0.00014342020506790472 average time 0.012619561700034865 iter num 20\n",
            "loss 6.097146163337887e-05 average time 0.012607589299966549 iter num 40\n",
            "loss 5.764361535604858e-05 average time 0.01260704146664769 iter num 60\n",
            "loss 5.699783840546873e-05 average time 0.012595056299983299 iter num 80\n",
            "loss 5.689950441583976e-05 average time 0.012612864009975055 iter num 100\n",
            "loss 5.572355628707128e-05 average time 0.012675383999953738 iter num 20\n",
            "loss 5.4692045605193833e-05 average time 0.01265193167499774 iter num 40\n",
            "loss 5.404295179081424e-05 average time 0.01265023083331774 iter num 60\n",
            "loss 5.3754297823209834e-05 average time 0.012654800124977328 iter num 80\n",
            "loss 5.369408457438864e-05 average time 0.012655561079977815 iter num 100\n",
            "loss 5.2573712174409336e-05 average time 0.012605491250042178 iter num 20\n",
            "loss 5.1615372490301e-05 average time 0.012622108825019041 iter num 40\n",
            "loss 5.100178608129554e-05 average time 0.012631207916691286 iter num 60\n",
            "loss 5.072782373172941e-05 average time 0.012646055412523083 iter num 80\n",
            "loss 5.067067354596798e-05 average time 0.012651898539993454 iter num 100\n",
            "loss 4.9607258696082935e-05 average time 0.012571466650024376 iter num 20\n",
            "loss 4.869798646072456e-05 average time 0.012589522975008548 iter num 40\n",
            "loss 4.8116102563095215e-05 average time 0.012588502633358681 iter num 60\n",
            "loss 4.7856414034966865e-05 average time 0.012603042425030252 iter num 80\n",
            "loss 4.7802255124279295e-05 average time 0.012609487840004477 iter num 100\n",
            "loss 4.6794828971825604e-05 average time 0.012581394700009695 iter num 20\n",
            "loss 4.593414791722891e-05 average time 0.012604534274976232 iter num 40\n",
            "loss 4.538377499002e-05 average time 0.012611202783288415 iter num 60\n",
            "loss 4.5138267007021155e-05 average time 0.012612115299970129 iter num 80\n",
            "loss 4.508708252595729e-05 average time 0.012609390789971258 iter num 100\n",
            "loss 4.4135268338849835e-05 average time 0.012645512999961283 iter num 20\n",
            "loss 4.332289851900036e-05 average time 0.012643068274962843 iter num 40\n",
            "loss 4.280384680834093e-05 average time 0.012634517066643033 iter num 60\n",
            "loss 4.257243423987794e-05 average time 0.012641443099977324 iter num 80\n",
            "loss 4.252418450295626e-05 average time 0.01262612252998224 iter num 100\n",
            "loss 4.162746263624127e-05 average time 0.012703739100061284 iter num 20\n",
            "loss 4.086259278430868e-05 average time 0.012728402150059992 iter num 40\n",
            "loss 4.037416821958952e-05 average time 0.012721859333373687 iter num 60\n",
            "loss 4.015647568705019e-05 average time 0.0127233863000356 iter num 80\n",
            "loss 4.01111095767491e-05 average time 0.012703615740015266 iter num 100\n",
            "loss 3.926806208062623e-05 average time 0.012671617250020972 iter num 20\n",
            "loss 3.8549455811744726e-05 average time 0.012663729824998882 iter num 40\n",
            "loss 3.809084177393941e-05 average time 0.012663355433316308 iter num 60\n",
            "loss 3.788649934731589e-05 average time 0.012651036724997766 iter num 80\n",
            "loss 3.78439284081203e-05 average time 0.012659225870002046 iter num 100\n",
            "loss 4.016508039103661e-05 average time 0.012701689649998116 iter num 20\n",
            "loss 3.702447769915019e-05 average time 0.012684811700012233 iter num 40\n",
            "loss 3.602601592867388e-05 average time 0.012683361816652906 iter num 60\n",
            "loss 3.580207125558183e-05 average time 0.012699312512489768 iter num 80\n",
            "loss 3.576140605049982e-05 average time 0.012691340139977001 iter num 100\n",
            "loss 8.078731746585335e-05 average time 0.012615234550048626 iter num 20\n",
            "loss 4.22250218211953e-05 average time 0.01261633925003025 iter num 40\n",
            "loss 3.541144515283561e-05 average time 0.012661764083365295 iter num 60\n",
            "loss 3.468777293096243e-05 average time 0.012666135225032349 iter num 80\n",
            "loss 3.4621988340815126e-05 average time 0.012658936850011742 iter num 100\n",
            "loss 3.413838745080522e-05 average time 0.012619809300008455 iter num 20\n",
            "loss 3.37060110962845e-05 average time 0.012604843650024122 iter num 40\n",
            "loss 3.3441883398037535e-05 average time 0.012634783116671619 iter num 60\n",
            "loss 3.332441130759055e-05 average time 0.012639294649983413 iter num 80\n",
            "loss 3.329990377063432e-05 average time 0.012646884449973186 iter num 100\n",
            "loss 3.28433615548936e-05 average time 0.012677429199925427 iter num 20\n",
            "loss 3.2451810192563e-05 average time 0.012662605224988965 iter num 40\n",
            "loss 3.220031361155777e-05 average time 0.012651565766630787 iter num 60\n",
            "loss 3.2087765060927675e-05 average time 0.012643529712460123 iter num 80\n",
            "loss 3.2064254922949174e-05 average time 0.012631479539959401 iter num 100\n",
            "loss 3.162581914062011e-05 average time 0.012567308050006432 iter num 20\n",
            "loss 3.124910785203928e-05 average time 0.012617039074984859 iter num 40\n",
            "loss 3.1006945162564636e-05 average time 0.01262142575000477 iter num 60\n",
            "loss 3.0898545202719154e-05 average time 0.012618374350012118 iter num 80\n",
            "loss 3.087590293973983e-05 average time 0.012617156020005495 iter num 100\n",
            "loss 3.045353931068285e-05 average time 0.012596490049963905 iter num 20\n",
            "loss 3.0090607133762994e-05 average time 0.012627065874960408 iter num 40\n",
            "loss 2.9857303333931184e-05 average time 0.012671670733311657 iter num 60\n",
            "loss 2.975287306624029e-05 average time 0.012669729387494045 iter num 80\n",
            "loss 2.973105225230303e-05 average time 0.01266556674000185 iter num 100\n",
            "loss 2.9324221286615634e-05 average time 0.01266535969996312 iter num 20\n",
            "loss 2.8974682741999604e-05 average time 0.012643297650004114 iter num 40\n",
            "loss 2.8750002917618757e-05 average time 0.012651387116648038 iter num 60\n",
            "loss 2.8649436710646842e-05 average time 0.012649912962484678 iter num 80\n",
            "loss 2.8628446665080398e-05 average time 0.01265771307997511 iter num 100\n",
            "loss 2.8236750500114378e-05 average time 0.012585407349979505 iter num 20\n",
            "loss 2.790026939712531e-05 average time 0.012590465099992797 iter num 40\n",
            "loss 2.768404376916602e-05 average time 0.012605103900000358 iter num 60\n",
            "loss 2.7587272162316513e-05 average time 0.01261783699998773 iter num 80\n",
            "loss 2.7567066310387908e-05 average time 0.01261844157998894 iter num 100\n",
            "loss 2.7190174638603053e-05 average time 0.012665841299985913 iter num 20\n",
            "loss 2.6866481321719023e-05 average time 0.012595816174984975 iter num 40\n",
            "loss 2.6658468824541778e-05 average time 0.012615215699975124 iter num 60\n",
            "loss 2.65653793848175e-05 average time 0.012601112562492744 iter num 80\n",
            "loss 2.654594213623455e-05 average time 0.01259360241997456 iter num 100\n",
            "loss 2.6183396683632343e-05 average time 0.012575695100099437 iter num 20\n",
            "loss 2.5871976306809188e-05 average time 0.012612235550045625 iter num 40\n",
            "loss 2.5671831788992832e-05 average time 0.012608188450046024 iter num 60\n",
            "loss 2.5582246177139875e-05 average time 0.012600124300047356 iter num 80\n",
            "loss 2.5563547512199863e-05 average time 0.0126061861700191 iter num 100\n",
            "loss 2.527943201645136e-05 average time 0.012646995650061398 iter num 20\n",
            "loss 2.491765317381126e-05 average time 0.012633591800033627 iter num 40\n",
            "loss 2.4722390720740563e-05 average time 0.01264550663333921 iter num 60\n",
            "loss 2.4635950009819086e-05 average time 0.012645748312496607 iter num 80\n",
            "loss 2.4617929568429736e-05 average time 0.012647612189998653 iter num 100\n",
            "loss 0.00011995128239555843 average time 0.01262512245009475 iter num 20\n",
            "loss 3.471113771017935e-05 average time 0.012661620574999689 iter num 40\n",
            "loss 2.4875087106532885e-05 average time 0.012662566533322206 iter num 60\n",
            "loss 2.4162877759184635e-05 average time 0.012666952474990011 iter num 80\n",
            "loss 2.4135635510337895e-05 average time 0.012668472079990351 iter num 100\n",
            "loss 2.3913101723695178e-05 average time 0.012600042450003457 iter num 20\n",
            "loss 2.368547807523578e-05 average time 0.01260809610000706 iter num 40\n",
            "loss 2.355480553467902e-05 average time 0.01261888420002227 iter num 60\n",
            "loss 2.3498033417704873e-05 average time 0.012613152862508059 iter num 80\n",
            "loss 2.3486156776602468e-05 average time 0.012621172520020991 iter num 100\n",
            "loss 2.3264820087822964e-05 average time 0.01267911795002874 iter num 20\n",
            "loss 2.3073924265061636e-05 average time 0.012656587099991156 iter num 40\n",
            "loss 2.2950621590183414e-05 average time 0.012649912933337266 iter num 60\n",
            "loss 2.2895237261131715e-05 average time 0.012661268350001365 iter num 80\n",
            "loss 2.2883651929907334e-05 average time 0.012665095770003063 iter num 100\n",
            "loss 2.2666765283533243e-05 average time 0.012603378400012844 iter num 20\n",
            "loss 2.2478992774275623e-05 average time 0.012597788650020902 iter num 40\n",
            "loss 2.2357454780733135e-05 average time 0.0126189459167108 iter num 60\n",
            "loss 2.2302812137800685e-05 average time 0.012618465637535792 iter num 80\n",
            "loss 2.229138175090747e-05 average time 0.012618909450025058 iter num 100\n",
            "loss 2.2077206140623352e-05 average time 0.012696068000013837 iter num 20\n",
            "loss 2.189163410381094e-05 average time 0.012657506125015061 iter num 40\n",
            "loss 2.1771445267669963e-05 average time 0.012634625783365057 iter num 60\n",
            "loss 2.1717381338694402e-05 average time 0.012606210300032217 iter num 80\n",
            "loss 2.1706074538972998e-05 average time 0.012597412270019958 iter num 100\n",
            "loss 2.1494141073106492e-05 average time 0.012696397049990083 iter num 20\n",
            "loss 2.1310452879015462e-05 average time 0.012730156849988817 iter num 40\n",
            "loss 2.119145288303188e-05 average time 0.012708359749967712 iter num 60\n",
            "loss 2.113792694736637e-05 average time 0.012685235612480028 iter num 80\n",
            "loss 2.1126733537201196e-05 average time 0.012673476919999302 iter num 100\n",
            "loss 2.0916884952087373e-05 average time 0.012809990049959197 iter num 20\n",
            "loss 2.0734974354009478e-05 average time 0.012772080374975302 iter num 40\n",
            "loss 2.0617126070286103e-05 average time 0.012720694533322785 iter num 60\n",
            "loss 2.0564111840259698e-05 average time 0.012690979212487718 iter num 80\n",
            "loss 2.05530220181068e-05 average time 0.012685585879999052 iter num 100\n",
            "loss 2.034516423840249e-05 average time 0.012605977599946527 iter num 20\n",
            "loss 2.016498926993324e-05 average time 0.012631421499941098 iter num 40\n",
            "loss 2.0048275403145386e-05 average time 0.012636585266621599 iter num 60\n",
            "loss 1.9995769019700324e-05 average time 0.01262562969997134 iter num 80\n",
            "loss 1.998478189301295e-05 average time 0.012630373829988457 iter num 100\n",
            "loss 1.9778963317997087e-05 average time 0.012692920899985439 iter num 20\n",
            "loss 1.960056778880273e-05 average time 0.012739929600002142 iter num 40\n",
            "loss 1.948501421032441e-05 average time 0.0127307157833305 iter num 60\n",
            "loss 1.9433046328960838e-05 average time 0.012723140249994458 iter num 80\n",
            "loss 1.9422170299407187e-05 average time 0.01269830595998883 iter num 100\n",
            "loss 4.51989623467102e-05 average time 0.012614238199898865 iter num 20\n",
            "loss 2.1754876850472208e-05 average time 0.01260047722496438 iter num 40\n",
            "loss 1.9142296432692006e-05 average time 0.012594903366630206 iter num 60\n",
            "loss 1.894073541475186e-05 average time 0.012605776587474794 iter num 80\n",
            "loss 1.8930449047186008e-05 average time 0.012626306059964919 iter num 100\n",
            "loss 2.0138975437051026e-05 average time 0.012613251450034113 iter num 20\n",
            "loss 1.8770066612830555e-05 average time 0.012615543000038087 iter num 40\n",
            "loss 1.852709919724423e-05 average time 0.012603394616674753 iter num 60\n",
            "loss 1.8468094235145888e-05 average time 0.012610267375009698 iter num 80\n",
            "loss 1.8458749217716098e-05 average time 0.012607232740015207 iter num 100\n",
            "loss 1.847576219537793e-05 average time 0.012596583099980307 iter num 20\n",
            "loss 1.8209566601619353e-05 average time 0.012601788774952638 iter num 40\n",
            "loss 1.8041120521249494e-05 average time 0.012604366049974185 iter num 60\n",
            "loss 1.799593779917448e-05 average time 0.01260835694998832 iter num 80\n",
            "loss 1.798660882496579e-05 average time 0.012611092689999168 iter num 100\n",
            "loss 2.7452813700461385e-05 average time 0.012640434399986588 iter num 20\n",
            "loss 1.8782085567110544e-05 average time 0.012691904474991134 iter num 40\n",
            "loss 1.76529146256443e-05 average time 0.01268759856664777 iter num 60\n",
            "loss 1.761142491556418e-05 average time 0.012681683462471938 iter num 80\n",
            "loss 1.7599990198792958e-05 average time 0.012676016289983636 iter num 100\n",
            "loss 1.7473677908285083e-05 average time 0.012638617650054584 iter num 20\n",
            "loss 1.7313244624817488e-05 average time 0.012626557025043894 iter num 40\n",
            "loss 1.7223920194190497e-05 average time 0.012635994100029772 iter num 60\n",
            "loss 1.71848606240214e-05 average time 0.01263927536251117 iter num 80\n",
            "loss 1.7176712411680334e-05 average time 0.012633646660010527 iter num 100\n",
            "loss 1.702467959889676e-05 average time 0.012618070949997673 iter num 20\n",
            "loss 1.6891021255859182e-05 average time 0.012611994299993512 iter num 40\n",
            "loss 1.6804811369063377e-05 average time 0.012635112816694043 iter num 60\n",
            "loss 1.676597532822782e-05 average time 0.012633123737521146 iter num 80\n",
            "loss 1.6757847579358053e-05 average time 0.012624561640018328 iter num 100\n",
            "loss 1.8755702764019225e-05 average time 0.012674851250039865 iter num 20\n",
            "loss 1.6496206304112688e-05 average time 0.012655650899978355 iter num 40\n",
            "loss 1.639025012870896e-05 average time 0.012655239283321861 iter num 60\n",
            "loss 1.6351233353157255e-05 average time 0.012657455712491128 iter num 80\n",
            "loss 1.6343093026015042e-05 average time 0.01264519603998906 iter num 100\n",
            "loss 2.7637967272375328e-05 average time 0.012545269950055626 iter num 20\n",
            "loss 2.3105380761077642e-05 average time 0.0125566576000665 iter num 40\n",
            "loss 1.6574025745278767e-05 average time 0.012583167250022597 iter num 60\n",
            "loss 1.6253419157928278e-05 average time 0.012593972524996389 iter num 80\n",
            "loss 1.6240636146662173e-05 average time 0.01260845147000964 iter num 100\n",
            "loss 1.612383588689044e-05 average time 0.012622535200011952 iter num 20\n",
            "loss 1.600892502378771e-05 average time 0.012626459950001844 iter num 40\n",
            "loss 1.594592362319703e-05 average time 0.01263751771666648 iter num 60\n",
            "loss 1.591878221735307e-05 average time 0.01262855350000791 iter num 80\n",
            "loss 1.5913119321751852e-05 average time 0.01263032200001362 iter num 100\n",
            "loss 1.580763017022765e-05 average time 0.012663389500062294 iter num 20\n",
            "loss 1.5716686293370874e-05 average time 0.012657233075026397 iter num 40\n",
            "loss 1.5657852214931632e-05 average time 0.012663664400004866 iter num 60\n",
            "loss 1.563137985646075e-05 average time 0.012664270187485727 iter num 80\n",
            "loss 1.5625837420088094e-05 average time 0.012665090989999043 iter num 100\n",
            "loss 1.552184210637768e-05 average time 0.012662677400066968 iter num 20\n",
            "loss 1.5431396142760395e-05 average time 0.012614180549996945 iter num 40\n",
            "loss 1.5372585170902024e-05 average time 0.012604374716678043 iter num 60\n",
            "loss 1.5346061927957037e-05 average time 0.012605056537529436 iter num 80\n",
            "loss 1.534050869274335e-05 average time 0.012616210450023573 iter num 100\n",
            "loss 1.5236119477805527e-05 average time 0.01264720784995461 iter num 20\n",
            "loss 1.5145146380430836e-05 average time 0.012673901074970217 iter num 40\n",
            "loss 1.5085914618292815e-05 average time 0.012683355699967555 iter num 60\n",
            "loss 1.5059182023858295e-05 average time 0.012677536912462983 iter num 80\n",
            "loss 1.505358082696716e-05 average time 0.01267246990995318 iter num 100\n",
            "loss 1.494832180749755e-05 average time 0.012692559149991211 iter num 20\n",
            "loss 1.485653228882711e-05 average time 0.012646768524996332 iter num 40\n",
            "loss 1.479674134945321e-05 average time 0.012652827249985421 iter num 60\n",
            "loss 1.476975900718657e-05 average time 0.01264102749997278 iter num 80\n",
            "loss 1.4764105987155738e-05 average time 0.012629000319989245 iter num 100\n",
            "loss 1.4657825841557397e-05 average time 0.012609013399924152 iter num 20\n",
            "loss 1.456513405944957e-05 average time 0.012606088749964783 iter num 40\n",
            "loss 1.4504754338155063e-05 average time 0.012602111283331396 iter num 60\n",
            "loss 1.4477506192930032e-05 average time 0.012604564837499766 iter num 80\n",
            "loss 1.4471798345952718e-05 average time 0.012608832460000486 iter num 100\n",
            "loss 1.4364475150594699e-05 average time 0.012606746750020648 iter num 20\n",
            "loss 1.4270873880185422e-05 average time 0.012593471875004526 iter num 40\n",
            "loss 1.4209907904920753e-05 average time 0.01262909503334413 iter num 60\n",
            "loss 1.4182393113914018e-05 average time 0.012619589512513584 iter num 80\n",
            "loss 1.4176631346037281e-05 average time 0.012622916680011259 iter num 100\n",
            "loss 1.4068394836658914e-05 average time 0.012683740399961608 iter num 20\n",
            "loss 1.3973798386976612e-05 average time 0.01270443952498681 iter num 40\n",
            "loss 1.3912264252107546e-05 average time 0.012690935349996834 iter num 60\n",
            "loss 1.3884496298631736e-05 average time 0.012685653062510483 iter num 80\n",
            "loss 1.3878676690533613e-05 average time 0.012684521729997868 iter num 100\n",
            "loss 5.1615768042759586e-05 average time 0.01260615125008826 iter num 20\n",
            "loss 1.4211268825322388e-05 average time 0.012619673850065283 iter num 40\n",
            "loss 1.3830519544237037e-05 average time 0.012605327200041453 iter num 60\n",
            "loss 1.3636956211173474e-05 average time 0.012624691412531775 iter num 80\n",
            "loss 1.362722630821045e-05 average time 0.012636436950015196 iter num 100\n",
            "loss 1.3664756215539058e-05 average time 0.012609855499931655 iter num 20\n",
            "loss 1.3455463107922034e-05 average time 0.012629428174966506 iter num 40\n",
            "loss 1.3382301616721064e-05 average time 0.012646206199997323 iter num 60\n",
            "loss 1.3356607372032233e-05 average time 0.012645963524994386 iter num 80\n",
            "loss 1.3351207365026503e-05 average time 0.012639292869994278 iter num 100\n",
            "loss 4.135764628247399e-05 average time 0.012555790650048948 iter num 20\n",
            "loss 1.3403425603412207e-05 average time 0.01258287922502177 iter num 40\n",
            "loss 1.3181851163331496e-05 average time 0.012590739483357538 iter num 60\n",
            "loss 1.3114993643531025e-05 average time 0.012600217487522514 iter num 80\n",
            "loss 1.3106614758958867e-05 average time 0.01260250774002543 iter num 100\n",
            "loss 1.345210672925119e-05 average time 0.01255995679998705 iter num 20\n",
            "loss 1.2943627570897528e-05 average time 0.01257560654998997 iter num 40\n",
            "loss 1.287333651964448e-05 average time 0.012586098833329137 iter num 60\n",
            "loss 1.2848920184900341e-05 average time 0.01258700914999622 iter num 80\n",
            "loss 1.2843657395834081e-05 average time 0.012597442279998176 iter num 100\n",
            "loss 1.3710399469291842e-05 average time 0.012659280800039596 iter num 20\n",
            "loss 1.2718686310188296e-05 average time 0.012620850099995095 iter num 40\n",
            "loss 1.261109987744911e-05 average time 0.012608847299990582 iter num 60\n",
            "loss 1.2586072936331387e-05 average time 0.012614661287506124 iter num 80\n",
            "loss 1.2580651563600475e-05 average time 0.012620571840011507 iter num 100\n",
            "loss 0.0001224779509517098 average time 0.012591064999924129 iter num 20\n",
            "loss 2.2567114655520337e-05 average time 0.012608535349932027 iter num 40\n",
            "loss 1.2898043504547201e-05 average time 0.012626665449943175 iter num 60\n",
            "loss 1.2694802879393012e-05 average time 0.012635913574956702 iter num 80\n",
            "loss 1.2683641109986466e-05 average time 0.01265179161996457 iter num 100\n"
          ]
        }
      ]
    },
    {
      "cell_type": "code",
      "metadata": {
        "id": "uxMDB8zYo3G_"
      },
      "source": [
        "# 2min"
      ],
      "execution_count": null,
      "outputs": []
    },
    {
      "cell_type": "markdown",
      "metadata": {
        "id": "NOxUYnbSVTnl"
      },
      "source": [
        "**Save Model**"
      ]
    },
    {
      "cell_type": "code",
      "metadata": {
        "id": "mq_GDLdvU9ib",
        "colab": {
          "base_uri": "https://localhost:8080/"
        },
        "outputId": "830df671-ae3b-46dd-fd7b-adfe241c33e7"
      },
      "source": [
        "from google.colab import drive\n",
        "drive.mount('/content/drive')"
      ],
      "execution_count": 13,
      "outputs": [
        {
          "output_type": "stream",
          "name": "stdout",
          "text": [
            "Drive already mounted at /content/drive; to attempt to forcibly remount, call drive.mount(\"/content/drive\", force_remount=True).\n"
          ]
        }
      ]
    },
    {
      "cell_type": "code",
      "metadata": {
        "id": "iNEAqIJAVa-6"
      },
      "source": [
        "import torch\n",
        "model_save_name = f'jax_knock_out_{str(nstock)}stocks_oldmethod_1.pth'\n",
        "path = F\"/content/drive/MyDrive/AFP/Save_Models/{model_save_name}\" \n",
        "torch.save(model.state_dict(), path)"
      ],
      "execution_count": 14,
      "outputs": []
    },
    {
      "cell_type": "markdown",
      "metadata": {
        "id": "4IXkmXlAVdEh"
      },
      "source": [
        "**Load Model**"
      ]
    },
    {
      "cell_type": "code",
      "metadata": {
        "id": "QjERL5bcVcXS",
        "colab": {
          "base_uri": "https://localhost:8080/"
        },
        "outputId": "ce183ab0-88de-4101-99f1-470764f714d1"
      },
      "source": [
        "from google.colab import drive\n",
        "drive.mount('/content/drive')"
      ],
      "execution_count": 15,
      "outputs": [
        {
          "output_type": "stream",
          "name": "stdout",
          "text": [
            "Drive already mounted at /content/drive; to attempt to forcibly remount, call drive.mount(\"/content/drive\", force_remount=True).\n"
          ]
        }
      ]
    },
    {
      "cell_type": "code",
      "metadata": {
        "id": "oIJoo5Z7VjAR",
        "colab": {
          "base_uri": "https://localhost:8080/"
        },
        "outputId": "65090dd0-5fab-4d64-f578-2d5694101f67"
      },
      "source": [
        "import torch\n",
        "model_save_name = f'jax_knock_out_{str(nstock)}stocks_oldmethod_1.pth'\n",
        "path = F\"/content/drive/MyDrive/AFP/Save_Models/{model_save_name}\" \n",
        "state_dict = torch.load(path)\n",
        "print(state_dict.keys())"
      ],
      "execution_count": 16,
      "outputs": [
        {
          "output_type": "stream",
          "name": "stdout",
          "text": [
            "odict_keys(['norm', 'fc1.weight', 'fc1.bias', 'fc2.weight', 'fc2.bias', 'fc3.weight', 'fc3.bias', 'fc4.weight', 'fc4.bias', 'fc5.weight', 'fc5.bias', 'fc6.weight', 'fc6.bias'])\n"
          ]
        }
      ]
    },
    {
      "cell_type": "code",
      "metadata": {
        "id": "mSkrjknWVlL8",
        "colab": {
          "base_uri": "https://localhost:8080/"
        },
        "outputId": "c52ef660-ceca-46ee-dce6-d3c245d72165"
      },
      "source": [
        "# need to run 'Writing cupy_dataset.py' and 'Writing model.py' above before this\n",
        "from model import Net\n",
        "model = Net(nstock = nstock).cuda()\n",
        "\n",
        "model.load_state_dict(state_dict)\n",
        "print(model)"
      ],
      "execution_count": 17,
      "outputs": [
        {
          "output_type": "stream",
          "name": "stdout",
          "text": [
            "Net(\n",
            "  (fc1): Linear(in_features=21, out_features=64, bias=True)\n",
            "  (fc2): Linear(in_features=64, out_features=128, bias=True)\n",
            "  (fc3): Linear(in_features=128, out_features=256, bias=True)\n",
            "  (fc4): Linear(in_features=256, out_features=128, bias=True)\n",
            "  (fc5): Linear(in_features=128, out_features=64, bias=True)\n",
            "  (fc6): Linear(in_features=64, out_features=4, bias=True)\n",
            ")\n"
          ]
        }
      ]
    },
    {
      "cell_type": "markdown",
      "metadata": {
        "id": "s5MbsAwEVmff"
      },
      "source": [
        "**Continue to train model**"
      ]
    },
    {
      "cell_type": "code",
      "metadata": {
        "id": "moxMKMLEhJR7"
      },
      "source": [
        "# from google.colab import drive\n",
        "# drive.mount('/content/drive')"
      ],
      "execution_count": 18,
      "outputs": []
    },
    {
      "cell_type": "code",
      "metadata": {
        "id": "aQYxo1IXVl57",
        "colab": {
          "base_uri": "https://localhost:8080/"
        },
        "outputId": "a535006d-7302-486f-9ce7-6a5b7216f4dd"
      },
      "source": [
        "from ignite.engine import Engine, Events\n",
        "from ignite.handlers import Timer\n",
        "from torch.nn import MSELoss\n",
        "from torch.optim import Adam\n",
        "from ignite.contrib.handlers.param_scheduler import CosineAnnealingScheduler\n",
        "from ignite.handlers import ModelCheckpoint\n",
        "from model import Net\n",
        "import numpy as np\n",
        "import torch\n",
        "from torch import Tensor\n",
        "from torch.autograd import grad\n",
        "timer = Timer(average=True)\n",
        "#model = Net(nstock = nstock).cuda()\n",
        "loss_fn = MSELoss()\n",
        "optimizer = Adam(model.parameters(), lr=1e-3, eps=1e-4, amsgrad=True) # try using higher epsilon and amsgrad\n",
        "dataset = OptionDataSet(max_len = 100) # Use max_len to adjust\n",
        "\n",
        "def train_update(engine, batch):\n",
        "    model.train()\n",
        "    optimizer.zero_grad()\n",
        "    x = batch[0]\n",
        "    y = batch[1]\n",
        "    y_pred = model(x.float())\n",
        "\n",
        "    loss_weight = torch.tensor([1] * (nstock+1)).cuda()\n",
        "    loss_weight_normalized = loss_weight/loss_weight.sum()\n",
        "    loss = ((y_pred - y) ** 2 * loss_weight_normalized).mean(axis=0).sum() # compute weighted MSE between the 2 arrays\n",
        "\n",
        "    loss.backward()\n",
        "    optimizer.step()\n",
        "    return loss.item()\n",
        "\n",
        "trainer = Engine(train_update)\n",
        "log_interval = 20\n",
        "\n",
        "scheduler = CosineAnnealingScheduler(optimizer, 'lr', 1e-4, 1e-6, len(dataset))\n",
        "trainer.add_event_handler(Events.ITERATION_STARTED, scheduler)\n",
        "timer.attach(trainer,\n",
        "             start=Events.EPOCH_STARTED,\n",
        "             resume=Events.ITERATION_STARTED,\n",
        "             pause=Events.ITERATION_COMPLETED,\n",
        "             step=Events.ITERATION_COMPLETED)    \n",
        "@trainer.on(Events.ITERATION_COMPLETED)\n",
        "def log_training_loss(engine):\n",
        "    iter = (engine.state.iteration - 1) % len(dataset) + 1\n",
        "    if iter % log_interval == 0:\n",
        "        print('loss', engine.state.output, 'average time', timer.value(), 'iter num', iter)\n",
        "        \n",
        "trainer.run(dataset, max_epochs = 100)\n",
        "\n",
        "model_save_name = f'jax_knock_out_{str(nstock)}stocks_oldmethod_1_countinue.pth'\n",
        "path = F\"/content/drive/MyDrive/AFP/Save_Models/{model_save_name}\" \n",
        "torch.save(model.state_dict(), path)"
      ],
      "execution_count": null,
      "outputs": [
        {
          "output_type": "stream",
          "name": "stdout",
          "text": [
            "loss 1.2756535125932428e-05 average time 0.013289664099875153 iter num 20\n",
            "loss 1.26399995867062e-05 average time 0.01304634952489323 iter num 40\n",
            "loss 1.2628776215454076e-05 average time 0.012994447549954203 iter num 60\n",
            "loss 1.2621122051964752e-05 average time 0.012920986474978236 iter num 80\n",
            "loss 1.261999394314996e-05 average time 0.012866819759947247 iter num 100\n",
            "loss 1.2598954754049982e-05 average time 0.012691140949937108 iter num 20\n",
            "loss 1.2581631534931349e-05 average time 0.012710275849963181 iter num 40\n",
            "loss 1.2570922482418698e-05 average time 0.012709633266604214 iter num 60\n",
            "loss 1.2566232378492254e-05 average time 0.012731959262441705 iter num 80\n",
            "loss 1.256528677392435e-05 average time 0.012749968029947923 iter num 100\n",
            "loss 1.2547580695540954e-05 average time 0.012626620650007681 iter num 20\n",
            "loss 1.2532822540756025e-05 average time 0.012671893400010958 iter num 40\n",
            "loss 1.2523562315248027e-05 average time 0.012670688533338156 iter num 60\n",
            "loss 1.2519478759212804e-05 average time 0.012692107250006756 iter num 80\n",
            "loss 1.2518654575434167e-05 average time 0.01269126312005028 iter num 100\n",
            "loss 1.2503121927773567e-05 average time 0.012675672199975452 iter num 20\n",
            "loss 1.2489997652705741e-05 average time 0.012671577299965976 iter num 40\n",
            "loss 1.248166230182377e-05 average time 0.012677942216608546 iter num 60\n",
            "loss 1.2477963143282691e-05 average time 0.01268186951244843 iter num 80\n",
            "loss 1.2477223572653454e-05 average time 0.01267810861993894 iter num 100\n",
            "loss 1.2463077098086385e-05 average time 0.012707872549935929 iter num 20\n",
            "loss 1.2451004201519415e-05 average time 0.012709715099958885 iter num 40\n",
            "loss 1.2443277477039293e-05 average time 0.012694433199931155 iter num 60\n",
            "loss 1.2439836645468888e-05 average time 0.01269570343745272 iter num 80\n",
            "loss 1.2439139548847955e-05 average time 0.01268963818993143 iter num 100\n",
            "loss 1.2425914272175417e-05 average time 0.012637940649938173 iter num 20\n",
            "loss 1.2414544117079464e-05 average time 0.012662422874973345 iter num 40\n",
            "loss 1.2407236584838436e-05 average time 0.012657415566642764 iter num 60\n",
            "loss 1.2403971345922487e-05 average time 0.012663149837442234 iter num 80\n",
            "loss 1.2403307832313181e-05 average time 0.012668170209944946 iter num 100\n",
            "loss 1.2390718142736004e-05 average time 0.012633933949973652 iter num 20\n",
            "loss 1.2379847887902461e-05 average time 0.012687350124997466 iter num 40\n",
            "loss 1.2372831126950323e-05 average time 0.012705701866661912 iter num 60\n",
            "loss 1.2369695068111892e-05 average time 0.012712775062470882 iter num 80\n",
            "loss 1.236906483289128e-05 average time 0.012719258999986778 iter num 100\n",
            "loss 1.2356931387461266e-05 average time 0.012772899900028278 iter num 20\n",
            "loss 1.234642821596627e-05 average time 0.012775176925038068 iter num 40\n",
            "loss 1.2339642853912445e-05 average time 0.012789897149999282 iter num 60\n",
            "loss 1.233659590363121e-05 average time 0.01278704014999903 iter num 80\n",
            "loss 1.2335983976303252e-05 average time 0.01279271656999299 iter num 100\n",
            "loss 1.2324208287015078e-05 average time 0.01287077679990034 iter num 20\n",
            "loss 1.231399983488578e-05 average time 0.0128221134499654 iter num 40\n",
            "loss 1.2307380787109427e-05 average time 0.012789755899954494 iter num 60\n",
            "loss 1.2304413773718121e-05 average time 0.012753017762463514 iter num 80\n",
            "loss 1.2303818678673189e-05 average time 0.012736346699985007 iter num 100\n",
            "loss 1.2292330189383834e-05 average time 0.012714373350036112 iter num 20\n",
            "loss 1.2282344749815194e-05 average time 0.012677831375026472 iter num 40\n",
            "loss 1.2275875005603095e-05 average time 0.012669742066721786 iter num 60\n",
            "loss 1.2272971655778532e-05 average time 0.012693055175054724 iter num 80\n",
            "loss 1.227238734612386e-05 average time 0.012704472180002995 iter num 100\n",
            "loss 1.2261133796562378e-05 average time 0.012712858500071889 iter num 20\n",
            "loss 1.2251343831000731e-05 average time 0.012668115200017382 iter num 40\n",
            "loss 1.2244992060795338e-05 average time 0.012680551650025034 iter num 60\n",
            "loss 1.2242142489538293e-05 average time 0.012697647812524337 iter num 80\n",
            "loss 1.2241564423489018e-05 average time 0.012706198839996432 iter num 100\n",
            "loss 1.2230510288118303e-05 average time 0.012745629699975326 iter num 20\n",
            "loss 1.2220888686821226e-05 average time 0.01276955032501519 iter num 40\n",
            "loss 1.2214644814035248e-05 average time 0.012735397550022754 iter num 60\n",
            "loss 1.2211833563251686e-05 average time 0.012736380025000927 iter num 80\n",
            "loss 1.2211270433959235e-05 average time 0.012732749279975905 iter num 100\n",
            "loss 1.220038499006315e-05 average time 0.012655058049995204 iter num 20\n",
            "loss 1.21909082639818e-05 average time 0.012678179800036559 iter num 40\n",
            "loss 1.218474795610812e-05 average time 0.012684638483369782 iter num 60\n",
            "loss 1.2181985342191536e-05 average time 0.01266977071254587 iter num 80\n",
            "loss 1.2181432913425984e-05 average time 0.01266869508003765 iter num 100\n",
            "loss 1.2170699258266941e-05 average time 0.012682179999956134 iter num 20\n",
            "loss 1.2161347817192068e-05 average time 0.012660440675017526 iter num 40\n",
            "loss 1.2155269317303769e-05 average time 0.01265950203334493 iter num 60\n",
            "loss 1.2152542175126519e-05 average time 0.012668852587501079 iter num 80\n",
            "loss 1.2151992140946326e-05 average time 0.012666636419971837 iter num 100\n",
            "loss 1.2141392422721754e-05 average time 0.01269397150003897 iter num 20\n",
            "loss 1.213216021908717e-05 average time 0.012670913325018773 iter num 40\n",
            "loss 1.2126153782474333e-05 average time 0.012670857400022821 iter num 60\n",
            "loss 1.2123455936299243e-05 average time 0.012675048899984631 iter num 80\n",
            "loss 1.212291629097776e-05 average time 0.01265811260999726 iter num 100\n",
            "loss 1.2112439267411884e-05 average time 0.012708574500038594 iter num 20\n",
            "loss 1.2103306130723396e-05 average time 0.01271654070005752 iter num 40\n",
            "loss 1.2097371376963293e-05 average time 0.012694532683387176 iter num 60\n",
            "loss 1.2094700884983663e-05 average time 0.012684557987540757 iter num 80\n",
            "loss 1.2094166883255109e-05 average time 0.012889530120028213 iter num 100\n"
          ]
        }
      ]
    },
    {
      "cell_type": "markdown",
      "metadata": {
        "id": "ONLZ1zpgV2Zv"
      },
      "source": [
        "#Results"
      ]
    },
    {
      "cell_type": "code",
      "metadata": {
        "id": "b3hhVHEVV06R",
        "colab": {
          "base_uri": "https://localhost:8080/"
        },
        "outputId": "3d7ac64b-e790-4017-eee4-b9a9238d66c4"
      },
      "source": [
        "import torch\n",
        "inputs = torch.tensor([[1, 1, 0.8, 1, 0.25, 0.02, 0.02] * nstock]).cuda() # T, K, B, S, sigma, mu, r\n",
        "print('price: ' + str(model(inputs.float())))\n",
        "\n",
        "# price, delta\n",
        "# should be around (0.10632345, 0.5543747)"
      ],
      "execution_count": 20,
      "outputs": [
        {
          "output_type": "stream",
          "name": "stdout",
          "text": [
            "price: tensor([[0.065765, 0.196202, 0.194366, 0.196501]], device='cuda:0',\n",
            "       grad_fn=<AddmmBackward0>)\n"
          ]
        }
      ]
    },
    {
      "cell_type": "code",
      "metadata": {
        "id": "kqpasxVi0hx3",
        "colab": {
          "base_uri": "https://localhost:8080/"
        },
        "outputId": "2da77621-448b-4e54-c6d6-a9104e71e05e"
      },
      "source": [
        "# Knock out call\n",
        "\n",
        "# now change code such that 'numsteps' does not represent year\n",
        "# make dt = year / numsteps\n",
        "# Add r, and notice that noise must have mean 0, not drift, or else it'll give large option prices\n",
        "# (done)\n",
        "# after making the changes, the values are still correct\n",
        "\n",
        "import jax\n",
        "import jax.numpy as jnp\n",
        "from jax import random\n",
        "from jax import jit\n",
        "import numpy as np\n",
        "from torch.utils.dlpack import from_dlpack\n",
        "\n",
        "def Brownian_motion(key, initial_stocks, numsteps, drift, cov, T):\n",
        "    stocks_init = jnp.zeros((numsteps + 1, initial_stocks.shape[0]))\n",
        "    stocks_init = jax.ops.index_update(stocks_init,   # jax.ops.index_update(x, idx, y) <-> Pure equivalent of x[idx] = y\n",
        "                            jax.ops.index[0],         # initialization of stock prices\n",
        "                            initial_stocks)\n",
        "    noise = jax.random.multivariate_normal(key,  jnp.array([0]*initial_stocks.shape[0]), cov, (numsteps+1,)) # noise must have mean 0\n",
        "    sigma = jnp.diag(cov) ** 0.5\n",
        "    dt = T / numsteps\n",
        "    def time_step(t, val):\n",
        "        #dx =  drift + noise[t,:] # no need to multiply by sigma here because noise generated by cov not corr\n",
        "        dx2 = jnp.exp((drift - sigma ** 2. / 2.) * dt + jnp.sqrt(dt) * noise[t,:])\n",
        "        val = jax.ops.index_update(val,\n",
        "                            jax.ops.index[t],\n",
        "                            val[t-1] * dx2)\n",
        "        return val\n",
        "    return jax.lax.fori_loop(1, numsteps+1, time_step, stocks_init)[1:] # jax.lax.fori_loop(lower, upper, body_fun, init_val)\n",
        "\n",
        "def optionvalueavg(key, initial_stocks, numsteps, drift, r, cov, K, B, T): # down-and-out call\n",
        "    return jnp.mean(jnp.maximum((1 - jnp.any(jnp.mean(batch_simple(keys, initial_stocks, numsteps, drift, cov, T), axis=2) < B, axis=1).astype(int))* \n",
        "                                (jnp.mean(batch_simple(keys, initial_stocks, numsteps, drift, cov, T), axis=2))[:,-1]-K, 0) *\n",
        "                    jnp.exp(-r[0] * T))\n",
        "    # must use '-1' not 'numsteps', or else grad will be 0\n",
        "\n",
        "numstocks = nstock\n",
        "numsteps = 50\n",
        "numpaths = 2000000\n",
        "\n",
        "rng = jax.random.PRNGKey(1)\n",
        "rng, key = jax.random.split(rng)\n",
        "\n",
        "drift = jnp.array([0.02]*numstocks)\n",
        "r = drift # let r = drift to match B-S\n",
        "\n",
        "cov = jnp.identity(numstocks)*0.25*0.25\n",
        "initial_stocks = jnp.array([1.]*numstocks) # must be float\n",
        "\n",
        "T = 1.0\n",
        "K = 1.0\n",
        "B = 0.8 # if B is set to 0, equivalent to European call\n",
        "\n",
        "fast_simple = jax.jit(Brownian_motion, static_argnums=2)\n",
        "\n",
        "keys = jax.random.split(key, numpaths)\n",
        "batch_simple = jax.vmap(fast_simple, in_axes=(0, None, None, None, None, None))\n",
        "\n",
        "# option price\n",
        "print(optionvalueavg(key, initial_stocks, numsteps, drift, r, cov, K, B, T)) # here numsteps different from T\n",
        "\n",
        "# delta\n",
        "goptionvalueavg = jax.grad(optionvalueavg,argnums=1)\n",
        "print(goptionvalueavg(keys, initial_stocks, numsteps, drift, r, cov, K, B, T)) # here numsteps different from T"
      ],
      "execution_count": 21,
      "outputs": [
        {
          "output_type": "stream",
          "name": "stdout",
          "text": [
            "0.0678582\n",
            "[0.19399585 0.19401251 0.19391604]\n"
          ]
        }
      ]
    },
    {
      "cell_type": "code",
      "metadata": {
        "id": "lovJwXo3-YEu",
        "colab": {
          "base_uri": "https://localhost:8080/",
          "height": 265
        },
        "outputId": "caf8399c-a3b7-4556-ab22-d9444d0c3073"
      },
      "source": [
        "import matplotlib.pyplot as plt\n",
        "import numpy as np\n",
        "\n",
        "def compute_price(S):\n",
        "    inputs = torch.tensor([[1, 1, 0.8, S, 0.25, 0.02, 0.02] * nstock]).cuda()\n",
        "    return model(inputs.float())[0][0]\n",
        "\n",
        "prices = np.arange(0.75, 1.25, 0.01)\n",
        "model_call_prices = []\n",
        "correct_call_prices = []\n",
        "for p in prices:\n",
        "    initial_stocks = jnp.array([p]*numstocks) # must be float\n",
        "    model_call_prices.append(compute_price(p).item())\n",
        "    correct_call_prices.append(optionvalueavg(key, initial_stocks, numsteps, drift, r, cov, K, B, T))\n",
        "\n",
        "#plt.plot(prices, model_call_prices, label = \"model_call_prices\")\n",
        "#plt.plot(prices, correct_call_prices, label = \"correct_call_prices\")\n",
        "plt.plot(prices, np.array(model_call_prices)-np.array(correct_call_prices), label = \"Differences\")\n",
        "plt.legend()\n",
        "plt.show()"
      ],
      "execution_count": 22,
      "outputs": [
        {
          "output_type": "display_data",
          "data": {
            "image/png": "[encoded data removed]",
            "text/plain": [
              "<Figure size 432x288 with 1 Axes>"
            ]
          },
          "metadata": {
            "needs_background": "light"
          }
        }
      ]
    },
    {
      "cell_type": "markdown",
      "metadata": {
        "id": "9fVR9u56Uu3X"
      },
      "source": [
        "# Delta"
      ]
    },
    {
      "cell_type": "code",
      "metadata": {
        "id": "lwApH0GT9bBK",
        "colab": {
          "base_uri": "https://localhost:8080/",
          "height": 265
        },
        "outputId": "4dec6bc3-5a89-424d-ef53-2aa86252c4e1"
      },
      "source": [
        "##Using gradient, Change only 1 S0 at a time\n",
        "%matplotlib inline\n",
        "from torch.autograd import grad\n",
        "import pylab\n",
        "import numpy as np\n",
        "\n",
        "def compute_delta(S):\n",
        "    inputs = torch.tensor([[1, 1, 0.8, S, 0.25, 0.02, 0.02] * nstock]).cuda()\n",
        "    return model(inputs.float())[0][1]\n",
        "\n",
        "prices = np.arange(0.75, 1.25, 0.01)\n",
        "model_call_deltas = []\n",
        "correct_call_deltas = []\n",
        "for p in prices:\n",
        "    initial_stocks = jnp.array([p]*nstock) # must be float\n",
        "    model_call_deltas.append(compute_delta(p).item())\n",
        "    correct_call_deltas.append(goptionvalueavg(keys, initial_stocks, numsteps, drift, r, cov, 1.0, B, T)[0])\n",
        "\n",
        "plt.plot(prices, model_call_deltas, label = \"model_call_deltas\")\n",
        "plt.plot(prices, correct_call_deltas, label = \"correct_call_deltas\")\n",
        "#plt.plot(prices, np.array(model_call_deltas)-np.array(correct_call_deltas), label = \"Differences\")\n",
        "plt.legend()\n",
        "plt.show()"
      ],
      "execution_count": 23,
      "outputs": [
        {
          "output_type": "display_data",
          "data": {
            "image/png": "[encoded data removed]",
            "text/plain": [
              "<Figure size 432x288 with 1 Axes>"
            ]
          },
          "metadata": {
            "needs_background": "light"
          }
        }
      ]
    },
    {
      "cell_type": "code",
      "metadata": {
        "id": "sHgD1NjP7DOW",
        "colab": {
          "base_uri": "https://localhost:8080/",
          "height": 269
        },
        "outputId": "dcf9aaf2-6984-4f40-cd1c-a0158a5b3bc4"
      },
      "source": [
        "##Using gradient, Change only 1 S0 at a time\n",
        "%matplotlib inline\n",
        "from torch.autograd import grad\n",
        "import pylab\n",
        "import numpy as np\n",
        "\n",
        "def compute_delta(S):\n",
        "    inputs = torch.tensor([[1, 0.775, 0.8, S, 0.25, 0.02, 0.02] * nstock]).cuda()\n",
        "    return model(inputs.float())[0][1]\n",
        "\n",
        "prices = np.arange(0.75, 1.25, 0.01)\n",
        "model_call_deltas = []\n",
        "correct_call_deltas = []\n",
        "for p in prices:\n",
        "    initial_stocks = jnp.array([p]*nstock) # must be float\n",
        "    model_call_deltas.append(compute_delta(p).item())\n",
        "    correct_call_deltas.append(goptionvalueavg(keys, initial_stocks, numsteps, drift, r, cov, 0.775, B, T)[0])\n",
        "\n",
        "plt.plot(prices, model_call_deltas, label = \"model_call_deltas\")\n",
        "plt.plot(prices, correct_call_deltas, label = \"correct_call_deltas\")\n",
        "#plt.plot(prices, np.array(model_call_deltas)-np.array(correct_call_deltas), label = \"Differences\")\n",
        "plt.legend()\n",
        "plt.show()"
      ],
      "execution_count": 24,
      "outputs": [
        {
          "output_type": "display_data",
          "data": {
            "image/png": "[encoded data removed]",
            "text/plain": [
              "<Figure size 432x288 with 1 Axes>"
            ]
          },
          "metadata": {
            "needs_background": "light"
          }
        }
      ]
    },
    {
      "cell_type": "code",
      "metadata": {
        "id": "m7MfujMQ7oij",
        "colab": {
          "base_uri": "https://localhost:8080/",
          "height": 265
        },
        "outputId": "01d7ab12-dc95-477c-9f1f-fbb815a4f9b1"
      },
      "source": [
        "##Using gradient, Change only 1 S0 at a time\n",
        "%matplotlib inline\n",
        "from torch.autograd import grad\n",
        "import pylab\n",
        "import numpy as np\n",
        "\n",
        "def compute_delta(S):\n",
        "    inputs = torch.tensor([[1, 1.225, 0.8, S, 0.25, 0.02, 0.02] * nstock]).cuda()\n",
        "    return model(inputs.float())[0][1]\n",
        "\n",
        "prices = np.arange(0.75, 1.25, 0.01)\n",
        "model_call_deltas = []\n",
        "correct_call_deltas = []\n",
        "for p in prices:\n",
        "    initial_stocks = jnp.array([p]*nstock) # must be float\n",
        "    model_call_deltas.append(compute_delta(p).item())\n",
        "    correct_call_deltas.append(goptionvalueavg(keys, initial_stocks, numsteps, drift, r, cov, 1.225, B, T)[0])\n",
        "\n",
        "plt.plot(prices, model_call_deltas, label = \"model_call_deltas\")\n",
        "plt.plot(prices, correct_call_deltas, label = \"correct_call_deltas\")\n",
        "#plt.plot(prices, np.array(model_call_deltas)-np.array(correct_call_deltas), label = \"Differences\")\n",
        "plt.legend()\n",
        "plt.show()"
      ],
      "execution_count": 25,
      "outputs": [
        {
          "output_type": "display_data",
          "data": {
            "image/png": "[encoded data removed]",
            "text/plain": [
              "<Figure size 432x288 with 1 Axes>"
            ]
          },
          "metadata": {
            "needs_background": "light"
          }
        }
      ]
    },
    {
      "cell_type": "code",
      "metadata": {
        "colab": {
          "base_uri": "https://localhost:8080/",
          "height": 265
        },
        "id": "P0bCg1oIqSFj",
        "outputId": "d194755d-05db-4f88-faa3-32bb57ae36d9"
      },
      "source": [
        "##Using gradient, Change only 1 S0 at a time\n",
        "%matplotlib inline\n",
        "from torch.autograd import grad\n",
        "import pylab\n",
        "import numpy as np\n",
        "\n",
        "def compute_delta(S):\n",
        "    inputs = torch.tensor([[1, 1, 0.8, S, 0.25, 0.02, 0.02] + [1, 1, 0.8, 1.225, 0.25, 0.02, 0.02] + [1, 1, 0.8, 0.775, 0.25, 0.02, 0.02]]).cuda()\n",
        "    return model(inputs.float())[0][1]\n",
        "\n",
        "prices = np.arange(0.75, 1.25, 0.01)\n",
        "model_call_deltas = []\n",
        "correct_call_deltas = []\n",
        "for p in prices:\n",
        "    initial_stocks = jnp.array([p, 1.225, 0.775]) # must be float\n",
        "    model_call_deltas.append(compute_delta(p).item())\n",
        "    correct_call_deltas.append(goptionvalueavg(keys, initial_stocks, numsteps, drift, r, cov, 1.0, B, T)[0])\n",
        "\n",
        "plt.plot(prices, model_call_deltas, label = \"model_call_deltas\")\n",
        "plt.plot(prices, correct_call_deltas, label = \"correct_call_deltas\")\n",
        "#plt.plot(prices, np.array(model_call_deltas)-np.array(correct_call_deltas), label = \"Differences\")\n",
        "plt.legend()\n",
        "plt.show()"
      ],
      "execution_count": 27,
      "outputs": [
        {
          "output_type": "display_data",
          "data": {
            "image/png": "[encoded data removed]",
            "text/plain": [
              "<Figure size 432x288 with 1 Axes>"
            ]
          },
          "metadata": {
            "needs_background": "light"
          }
        }
      ]
    },
    {
      "cell_type": "code",
      "metadata": {
        "id": "o3jCj1iMqfW4"
      },
      "source": [
        ""
      ],
      "execution_count": null,
      "outputs": []
    }
  ]
}