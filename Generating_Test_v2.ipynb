{
  "nbformat": 4,
  "nbformat_minor": 0,
  "metadata": {
    "colab": {
      "name": "Generating Test",
      "provenance": [],
      "collapsed_sections": [],
      "include_colab_link": true
    },
    "kernelspec": {
      "name": "python3",
      "display_name": "Python 3"
    },
    "language_info": {
      "name": "python"
    },
    "accelerator": "GPU"
  },
  "cells": [
    {
      "cell_type": "markdown",
      "metadata": {
        "id": "view-in-github",
        "colab_type": "text"
      },
      "source": [
        "<a href=\"https://colab.research.google.com/github/xinyanz-erin/Applied-Finance-Project/blob/Pui/Generating_Test_v2.ipynb\" target=\"_parent\"><img src=\"https://colab.research.google.com/assets/colab-badge.svg\" alt=\"Open In Colab\"/></a>"
      ]
    },
    {
      "cell_type": "markdown",
      "metadata": {
        "id": "or2YUJ9cfEiF"
      },
      "source": [
        "# Construct Neural Net"
      ]
    },
    {
      "cell_type": "code",
      "metadata": {
        "id": "b-i4HV-G44th",
        "colab": {
          "base_uri": "https://localhost:8080/"
        },
        "outputId": "27a23e19-5ab5-40b4-8864-4c029ad05b3b"
      },
      "source": [
        "%%writefile cupy_dataset.py\n",
        "import cupy\n",
        "import numpy as np\n",
        "from torch.utils.dlpack import from_dlpack\n",
        "from scipy.stats import norm\n",
        "from math import log, sqrt, pi, exp\n",
        "import pandas as pd\n",
        "\n",
        "def d1(S,K,T,r,sigma):\n",
        "    return(log(S/K)+(r+sigma**2/2.)*T)/(sigma*sqrt(T))\n",
        "def d2(S,K,T,r,sigma):\n",
        "    return d1(S,K,T,r,sigma)-sigma*sqrt(T)    \n",
        "def bs_call(S,K,T,r,sigma):\n",
        "    return S*norm.cdf(d1(S,K,T,r,sigma))-K*exp(-r*T)*norm.cdf(d2(S,K,T,r,sigma))\n",
        "def bs_delta(S,K,T,r,sigma):\n",
        "    return norm.cdf(d1(S,K,T,r,sigma))\n",
        "\n",
        "S_range = np.array(list(range(75,130,5)))/100 #11\n",
        "K_range = np.array(list(range(75,130,5)))/100 #11\n",
        "Sigma_range = np.array(list(range(15,51,6)))/10 #6\n",
        "r_range = np.array(list(range(1,5,1)))/100 #4\n",
        "\n",
        "call = []\n",
        "for i in S_range:\n",
        "  for j in K_range:\n",
        "    for l in r_range:\n",
        "      for k in Sigma_range:\n",
        "        call.append([1,j,i,k,l,l,bs_call(i,j,1,l,k),bs_delta(i,j,1,l,k)]) #T, K, S, sigma, mu, r\n",
        "Thedataset = pd.DataFrame(call)\n",
        "\n",
        "Thedataset_X = Thedataset.iloc[:,:6]\n",
        "Thedataset_Y = Thedataset.iloc[:,6:]\n",
        "\n",
        "class OptionDataSet(object):\n",
        "    \n",
        "    def __init__(self, max_len, number_path, batch, seed, stocks):\n",
        "        self.num = 0\n",
        "        self.max_length = max_len\n",
        "        self.N_PATHS = number_path\n",
        "        self.N_STEPS = 50\n",
        "        self.N_BATCH = batch\n",
        "        self.N_STOCKS = stocks\n",
        "        self.T = 1.0 # assume T = 1, use float here\n",
        "        self.seed = seed\n",
        "        np.random.seed(seed)\n",
        "\n",
        "        self.X = cupy.array(Thedataset_X)\n",
        "        self.Y = cupy.array(Thedataset_Y)\n",
        "        \n",
        "    def __len__(self):\n",
        "        return self.max_length\n",
        "        \n",
        "    def __iter__(self):\n",
        "        self.num = 0\n",
        "        return self\n",
        "    \n",
        "    def __next__(self):\n",
        "        if self.num >= self.max_length:\n",
        "            raise StopIteration\n",
        "\n",
        "        self.num += 1\n",
        "        return (from_dlpack(self.X.toDlpack()), from_dlpack(self.Y.toDlpack()))\n",
        "        \n",
        "\n",
        "# ds = OptionDataSet(max_len = 1, number_path = 10000, batch = 2, seed = np.random.randint(10000), stocks=1) # for testing purpose, use constant seed. When training, change to random seed\n",
        "# for i in ds:\n",
        "#     print(i[0])\n",
        "#     print(i[0].shape)\n",
        "#     print(i[1])\n",
        "#     print(i[1].shape)"
      ],
      "execution_count": 6,
      "outputs": [
        {
          "output_type": "stream",
          "name": "stdout",
          "text": [
            "Writing cupy_dataset.py\n"
          ]
        }
      ]
    },
    {
      "cell_type": "code",
      "metadata": {
        "colab": {
          "base_uri": "https://localhost:8080/"
        },
        "id": "rN6JO9OBHdvv",
        "outputId": "2e754e59-4095-4667-e070-dd68473c5aa5"
      },
      "source": [
        "%%writefile model.py\n",
        "# version 1,2\n",
        "import torch.nn as nn\n",
        "import torch.nn.functional as F\n",
        "import torch\n",
        "import numpy as np\n",
        "\n",
        "class Net(nn.Module):\n",
        "\n",
        "    def __init__(self, hidden=1024):\n",
        "        super(Net, self).__init__()\n",
        "        self.fc1 = nn.Linear(6*1, 32) # remember to change this!\n",
        "        self.fc2 = nn.Linear(32, 64)\n",
        "        self.fc3 = nn.Linear(64, 128)\n",
        "        self.fc4 = nn.Linear(128, 64)\n",
        "        self.fc5 = nn.Linear(64, 32)\n",
        "        self.fc6 = nn.Linear(32, 1) # 1 outputs: price\n",
        "        self.register_buffer('norm',\n",
        "                             torch.tensor([1.0, 0.5, 0.5, 0.3, 0.35, 0.35]*1)) # don't use numpy here - will give error later\n",
        "                                                                               # T, K, S, sigma, mu, r\n",
        "\n",
        "    def forward(self, x):\n",
        "        # normalize the parameter to range [0-1] \n",
        "        x = (x - torch.tensor([0.0, 0.75, 0.75, 0.15, 0.25, 0.25]*1).cuda()) / self.norm\n",
        "        x = F.elu(self.fc1(x))\n",
        "        x = F.elu(self.fc2(x))\n",
        "        x = F.elu(self.fc3(x))\n",
        "        x = F.elu(self.fc4(x))\n",
        "        x = F.elu(self.fc5(x))\n",
        "        return self.fc6(x)"
      ],
      "execution_count": 5,
      "outputs": [
        {
          "output_type": "stream",
          "name": "stdout",
          "text": [
            "Writing model.py\n"
          ]
        }
      ]
    },
    {
      "cell_type": "markdown",
      "metadata": {
        "id": "owSrICMvyZX0"
      },
      "source": [
        "# Train Neural Net"
      ]
    },
    {
      "cell_type": "code",
      "metadata": {
        "colab": {
          "base_uri": "https://localhost:8080/"
        },
        "id": "JlXD80xPNVc6",
        "outputId": "e1473777-cf43-41f8-e2cc-f156088be487"
      },
      "source": [
        "!pip install pytorch-ignite"
      ],
      "execution_count": 3,
      "outputs": [
        {
          "output_type": "stream",
          "name": "stdout",
          "text": [
            "Collecting pytorch-ignite\n",
            "  Downloading pytorch_ignite-0.4.7-py3-none-any.whl (240 kB)\n",
            "\u001b[?25l\r\u001b[K     |█▍                              | 10 kB 27.2 MB/s eta 0:00:01\r\u001b[K     |██▊                             | 20 kB 18.1 MB/s eta 0:00:01\r\u001b[K     |████                            | 30 kB 10.6 MB/s eta 0:00:01\r\u001b[K     |█████▌                          | 40 kB 9.0 MB/s eta 0:00:01\r\u001b[K     |██████▉                         | 51 kB 5.0 MB/s eta 0:00:01\r\u001b[K     |████████▏                       | 61 kB 5.6 MB/s eta 0:00:01\r\u001b[K     |█████████▌                      | 71 kB 5.4 MB/s eta 0:00:01\r\u001b[K     |███████████                     | 81 kB 6.1 MB/s eta 0:00:01\r\u001b[K     |████████████▎                   | 92 kB 4.6 MB/s eta 0:00:01\r\u001b[K     |█████████████▋                  | 102 kB 5.0 MB/s eta 0:00:01\r\u001b[K     |███████████████                 | 112 kB 5.0 MB/s eta 0:00:01\r\u001b[K     |████████████████▍               | 122 kB 5.0 MB/s eta 0:00:01\r\u001b[K     |█████████████████▊              | 133 kB 5.0 MB/s eta 0:00:01\r\u001b[K     |███████████████████             | 143 kB 5.0 MB/s eta 0:00:01\r\u001b[K     |████████████████████▌           | 153 kB 5.0 MB/s eta 0:00:01\r\u001b[K     |█████████████████████▉          | 163 kB 5.0 MB/s eta 0:00:01\r\u001b[K     |███████████████████████▏        | 174 kB 5.0 MB/s eta 0:00:01\r\u001b[K     |████████████████████████▌       | 184 kB 5.0 MB/s eta 0:00:01\r\u001b[K     |██████████████████████████      | 194 kB 5.0 MB/s eta 0:00:01\r\u001b[K     |███████████████████████████▎    | 204 kB 5.0 MB/s eta 0:00:01\r\u001b[K     |████████████████████████████▋   | 215 kB 5.0 MB/s eta 0:00:01\r\u001b[K     |██████████████████████████████  | 225 kB 5.0 MB/s eta 0:00:01\r\u001b[K     |███████████████████████████████▍| 235 kB 5.0 MB/s eta 0:00:01\r\u001b[K     |████████████████████████████████| 240 kB 5.0 MB/s \n",
            "\u001b[?25hRequirement already satisfied: torch<2,>=1.3 in /usr/local/lib/python3.7/dist-packages (from pytorch-ignite) (1.10.0+cu111)\n",
            "Requirement already satisfied: typing-extensions in /usr/local/lib/python3.7/dist-packages (from torch<2,>=1.3->pytorch-ignite) (3.10.0.2)\n",
            "Installing collected packages: pytorch-ignite\n",
            "Successfully installed pytorch-ignite-0.4.7\n"
          ]
        }
      ]
    },
    {
      "cell_type": "code",
      "metadata": {
        "id": "S3CyULkENYKb",
        "colab": {
          "base_uri": "https://localhost:8080/",
          "height": 1000
        },
        "outputId": "2608ddc8-03f7-4b0a-d523-46378a9e0303"
      },
      "source": [
        "# version 2, 7\n",
        "# If memory is not enough, try changing parameters and restarting session\n",
        "# loss will converge\n",
        "\n",
        "from ignite.engine import Engine, Events\n",
        "from ignite.handlers import Timer\n",
        "from torch.nn import MSELoss\n",
        "from torch.optim import Adam\n",
        "from ignite.contrib.handlers.param_scheduler import CosineAnnealingScheduler\n",
        "from ignite.handlers import ModelCheckpoint\n",
        "from model import Net\n",
        "from cupy_dataset import OptionDataSet\n",
        "import numpy as np\n",
        "import torch\n",
        "from torch import Tensor\n",
        "from torch.autograd import grad\n",
        "timer = Timer(average=True)\n",
        "model = Net().cuda()\n",
        "loss_fn = MSELoss()\n",
        "optimizer = Adam(model.parameters(), lr=1e-3)\n",
        "dataset = OptionDataSet(max_len = 100, number_path = 100000, batch = 1, seed = np.random.randint(10000), stocks = 1) # must have random seed. It doesn't matter how many batch here (not taken into function). Use max_len to adjust\n",
        "\n",
        "def train_update(engine, batch):\n",
        "    model.train()\n",
        "    optimizer.zero_grad()\n",
        "    x = batch[0]\n",
        "    # print(x)\n",
        "    # print(x.shape)\n",
        "    y = batch[1]\n",
        "    # print(y)\n",
        "    # print(y.shape)\n",
        "    y_pred = model(x.float())\n",
        "    # print(y_pred)\n",
        "    # print(y_pred.shape)\n",
        "\n",
        "    def compute_deltas(x):\n",
        "      inputs = x.float()\n",
        "      inputs.requires_grad = True\n",
        "      first_order_gradient = grad(model(inputs), inputs, create_graph=False)\n",
        "      return first_order_gradient[0][[2]]\n",
        "\n",
        "    deltas = torch.stack([compute_deltas(x) for x in torch.unbind(x)], dim=0)\n",
        "    y_pred = torch.cat((y_pred, deltas), 1)\n",
        "    # print(y_pred)\n",
        "    # print(y_pred.shape)\n",
        "\n",
        "    loss_weight = torch.tensor([1, 1]).cuda()\n",
        "    loss_weight_normalized = loss_weight/loss_weight.sum()\n",
        "    loss = ((y_pred - y) ** 2 * loss_weight_normalized).mean(axis=0).sum() # compute weighted MSE between the 2 arrays\n",
        "\n",
        "    loss.backward()\n",
        "    optimizer.step()\n",
        "    return loss.item()\n",
        "\n",
        "trainer = Engine(train_update)\n",
        "log_interval = 20\n",
        "\n",
        "scheduler = CosineAnnealingScheduler(optimizer, 'lr', 1e-4, 1e-6, len(dataset))\n",
        "trainer.add_event_handler(Events.ITERATION_STARTED, scheduler)\n",
        "timer.attach(trainer,\n",
        "             start=Events.EPOCH_STARTED,\n",
        "             resume=Events.ITERATION_STARTED,\n",
        "             pause=Events.ITERATION_COMPLETED,\n",
        "             step=Events.ITERATION_COMPLETED)    \n",
        "@trainer.on(Events.ITERATION_COMPLETED)\n",
        "def log_training_loss(engine):\n",
        "    iter = (engine.state.iteration - 1) % len(dataset) + 1\n",
        "    if iter % log_interval == 0:\n",
        "        print('loss', engine.state.output, 'average time', timer.value(), 'iter num', iter)\n",
        "        \n",
        "trainer.run(dataset, max_epochs = 100)"
      ],
      "execution_count": 4,
      "outputs": [
        {
          "output_type": "stream",
          "name": "stderr",
          "text": [
            "/usr/local/lib/python3.7/dist-packages/ipykernel_launcher.py:9: DeprecationWarning: /usr/local/lib/python3.7/dist-packages/ignite/contrib/handlers/param_scheduler.py has been moved to /ignite/handlers/param_scheduler.py and will be removed in version 0.6.0.\n",
            " Please refer to the documentation for more details.\n",
            "  if __name__ == '__main__':\n"
          ]
        },
        {
          "output_type": "stream",
          "name": "stdout",
          "text": [
            "loss 0.5205378060295073 average time 2.7728453462000004 iter num 20\n",
            "loss 0.4457372294417444 average time 2.7754852194250135 iter num 40\n",
            "loss 0.43255834120334924 average time 2.7671659053000135 iter num 60\n",
            "loss 0.4311324044729085 average time 2.7650501001750074 iter num 80\n",
            "loss 0.43091838690998374 average time 2.761024590160005 iter num 100\n",
            "loss 0.4268761703041968 average time 2.7573281675999852 iter num 20\n",
            "loss 0.4231403158139091 average time 2.767156413149988 iter num 40\n",
            "loss 0.420506241297659 average time 2.7697389343166567 iter num 60\n",
            "loss 0.41923669128007857 average time 2.766563219424995 iter num 80\n",
            "loss 0.41895805423489346 average time 2.767092271229998 iter num 100\n",
            "loss 0.41338933322642946 average time 2.742701227849989 iter num 20\n",
            "loss 0.4081835688996192 average time 2.746757589724973 iter num 40\n",
            "loss 0.40455871457349285 average time 2.7479539853833104 iter num 60\n",
            "loss 0.40283704219470895 average time 2.749029902974988 iter num 80\n",
            "loss 0.40246417148813235 average time 2.7491025957899886 iter num 100\n",
            "loss 0.3950784761956834 average time 2.7351754850000476 iter num 20\n",
            "loss 0.38809927011125805 average time 2.7458535339250263 iter num 40\n",
            "loss 0.3831936217753985 average time 2.7456165918500117 iter num 60\n",
            "loss 0.38085634094259785 average time 2.747891821137517 iter num 80\n",
            "loss 0.38035196603132837 average time 2.747637299450014 iter num 100\n",
            "loss 0.37034066655243536 average time 2.735040430549975 iter num 20\n",
            "loss 0.360678320191904 average time 2.7383621576499935 iter num 40\n",
            "loss 0.35376262966304695 average time 2.7414791336333297 iter num 60\n",
            "loss 0.35043844670341223 average time 2.743262168187502 iter num 80\n",
            "loss 0.34972106510177914 average time 2.7490488016399923 iter num 100\n",
            "loss 0.33539843356985627 average time 2.7514282606000053 iter num 20\n",
            "loss 0.3212540024290369 average time 2.752798062075004 iter num 40\n",
            "loss 0.31095128498001506 average time 2.750439996566672 iter num 60\n",
            "loss 0.30596327260733347 average time 2.749947036625008 iter num 80\n",
            "loss 0.3048871926080925 average time 2.754767009550021 iter num 100\n",
            "loss 0.28333902688056073 average time 2.7491076064499564 iter num 20\n",
            "loss 0.26184535644357937 average time 2.7560551100499766 iter num 40\n",
            "loss 0.24616312529064502 average time 2.7568153715333135 iter num 60\n",
            "loss 0.23860183107635102 average time 2.7603812237749823 iter num 80\n",
            "loss 0.2369784711603126 average time 2.756854613989972 iter num 100\n",
            "loss 0.20489601574885521 average time 2.7875488512499715 iter num 20\n",
            "loss 0.17405043955818203 average time 2.765525127700016 iter num 40\n",
            "loss 0.1527649023761261 average time 2.7711111065666727 iter num 60\n",
            "loss 0.14300354395849568 average time 2.7731467291249827 iter num 80\n",
            "loss 0.14096467990001832 average time 2.7693533971499935 iter num 100\n",
            "loss 0.10337823580691655 average time 2.7661289578000834 iter num 20\n",
            "loss 0.07330952800956814 average time 2.787900894225038 iter num 40\n",
            "loss 0.05656969466823034 average time 2.784066567066702 iter num 60\n",
            "loss 0.0500496145455806 average time 2.7798375195000347 iter num 80\n",
            "loss 0.04878691117146214 average time 2.776154945110029 iter num 100\n",
            "loss 0.029120918309072083 average time 2.754846922600018 iter num 20\n",
            "loss 0.018897864408872467 average time 2.7730407499500074 iter num 40\n",
            "loss 0.015256996995591366 average time 2.7798498957333475 iter num 60\n",
            "loss 0.014192647537427315 average time 2.7800639106500116 iter num 80\n",
            "loss 0.014009053667560648 average time 2.7795384943600037 iter num 100\n",
            "loss 0.011601274213816792 average time 2.764974038249966 iter num 20\n",
            "loss 0.010715842733781658 average time 2.7632854844749772 iter num 40\n",
            "loss 0.010437769391756512 average time 2.772355214833298 iter num 60\n",
            "loss 0.010347962558219417 average time 2.77266550654997 iter num 80\n",
            "loss 0.01033104846696167 average time 2.7701335655899766 iter num 100\n",
            "loss 0.010052069788681037 average time 2.760437412050055 iter num 20\n",
            "loss 0.009851531961459154 average time 2.7558292652500085 iter num 40\n",
            "loss 0.009731285760450395 average time 2.7706960863166916 iter num 60\n",
            "loss 0.009678403022819254 average time 2.772245396362513 iter num 80\n",
            "loss 0.00966740158573276 average time 2.770791916090002 iter num 100\n",
            "loss 0.009462356480376313 average time 2.7741143949500384 iter num 20\n",
            "loss 0.009286445244133917 average time 2.767420078925022 iter num 40\n",
            "loss 0.009172690098741153 average time 2.7687704110000064 iter num 60\n",
            "loss 0.009121509267612264 average time 2.7743928099000015 iter num 80\n",
            "loss 0.009110779069261134 average time 2.7705552958099906 iter num 100\n",
            "loss 0.008909653734242455 average time 2.759648981300006 iter num 20\n",
            "loss 0.008734856469688426 average time 2.761322274975032 iter num 40\n",
            "loss 0.008621034967255355 average time 2.7576978712500324 iter num 60\n",
            "loss 0.008569674811307892 average time 2.761263997812523 iter num 80\n",
            "loss 0.00855890528226827 average time 2.765428132399993 iter num 100\n",
            "loss 0.008356507463724948 average time 2.763239320400089 iter num 20\n",
            "loss 0.008180307288018347 average time 2.7591714716250406 iter num 40\n",
            "loss 0.008065480805948539 average time 2.755854350650058 iter num 60\n",
            "loss 0.008013633733245921 average time 2.7553553545500336 iter num 80\n",
            "loss 0.00800276699640015 average time 2.7625589169400246 iter num 100\n",
            "loss 0.007798516537103462 average time 2.758731134100208 iter num 20\n",
            "loss 0.00762055010666671 average time 2.7602255944751732 iter num 40\n",
            "loss 0.007505102827886811 average time 2.755637015616806 iter num 60\n",
            "loss 0.007453126934916696 average time 2.7575124674500784 iter num 80\n",
            "loss 0.007442253437689896 average time 2.756738882290065 iter num 100\n",
            "loss 0.007238075120724619 average time 2.7604677625000478 iter num 20\n",
            "loss 0.00706096401797675 average time 2.7507669314000394 iter num 40\n",
            "loss 0.006946534683255772 average time 2.752273947566694 iter num 60\n",
            "loss 0.006895173810182653 average time 2.7538267241125483 iter num 80\n",
            "loss 0.006884434098122487 average time 2.7616594998500568 iter num 100\n",
            "loss 0.006683302338548713 average time 2.772119526249935 iter num 20\n",
            "loss 0.006509764219488465 average time 2.773288234224947 iter num 40\n",
            "loss 0.006398252523542193 average time 2.7695734601999904 iter num 60\n",
            "loss 0.006348410608638517 average time 2.7630397015499852 iter num 80\n",
            "loss 0.0063380039129085 average time 2.7622085505400262 iter num 100\n",
            "loss 0.006143908770185876 average time 2.7485796234999724 iter num 20\n",
            "loss 0.00597808102630501 average time 2.765853865725012 iter num 40\n",
            "loss 0.005872250778314404 average time 2.773770305766614 iter num 60\n",
            "loss 0.005825120814185103 average time 2.7695833960249727 iter num 80\n",
            "loss 0.005815299818170467 average time 2.766890219419993 iter num 100\n",
            "loss 0.005632626588851425 average time 2.7631250182999794 iter num 20\n",
            "loss 0.0054769431751223565 average time 2.758276054499947 iter num 40\n",
            "loss 0.005377929258316709 average time 2.7724523650999346 iter num 60\n",
            "loss 0.00533394446117264 average time 2.767758991162475 iter num 80\n",
            "loss 0.005324796220974491 average time 2.7673974967699815 iter num 100\n",
            "loss 0.005155030172969723 average time 2.7503312294499667 iter num 20\n",
            "loss 0.00501106734538732 average time 2.7543778726250365 iter num 40\n",
            "loss 0.004919752380402843 average time 2.762396334933343 iter num 60\n",
            "loss 0.00487925986757631 average time 2.7618733554249957 iter num 80\n",
            "loss 0.004870843147184537 average time 2.765039725029983 iter num 100\n",
            "loss 0.0047147193038273635 average time 2.7652070105499207 iter num 20\n",
            "loss 0.004582390245817527 average time 2.761704923699972 iter num 40\n",
            "loss 0.0044985962061394776 average time 2.763128239249939 iter num 60\n",
            "loss 0.004461433247341897 average time 2.770131962637447 iter num 80\n",
            "loss 0.004453709907680126 average time 2.7721045657999275 iter num 100\n",
            "loss 0.004310091304139677 average time 2.7628784630499923 iter num 20\n",
            "loss 0.004188111250299378 average time 2.7701676240999404 iter num 40\n",
            "loss 0.004110799055537966 average time 2.7709049158999277 iter num 60\n",
            "loss 0.004076535052649625 average time 2.7680681826999374 iter num 80\n",
            "loss 0.004069413050252868 average time 2.7695973631099697 iter num 100\n",
            "loss 0.0039374397062085864 average time 2.783504564049963 iter num 20\n",
            "loss 0.00382596345980279 average time 2.7795691973999963 iter num 40\n",
            "loss 0.003755410664584826 average time 2.774953209799984 iter num 60\n",
            "loss 0.0037240952884181914 average time 2.7712698894500134 iter num 80\n",
            "loss 0.0037175795688199104 average time 2.7774068170099873 iter num 100\n",
            "loss 0.003596802691617635 average time 2.771661874600068 iter num 20\n",
            "loss 0.003494528841419036 average time 2.768053040825021 iter num 40\n",
            "loss 0.0034296430946525133 average time 2.7637499230333256 iter num 60\n",
            "loss 0.0034008434535462467 average time 2.7656893422250506 iter num 80\n",
            "loss 0.0033948500255541482 average time 2.7650439299400387 iter num 100\n",
            "loss 0.003283754638468322 average time 2.7904066874499223 iter num 20\n",
            "loss 0.0031894487831452146 average time 2.7770549085749736 iter num 40\n"
          ]
        },
        {
          "output_type": "stream",
          "name": "stderr",
          "text": [
            "Engine run is terminating due to exception: \n"
          ]
        },
        {
          "output_type": "error",
          "ename": "KeyboardInterrupt",
          "evalue": "ignored",
          "traceback": [
            "\u001b[0;31m---------------------------------------------------------------------------\u001b[0m",
            "\u001b[0;31mKeyboardInterrupt\u001b[0m                         Traceback (most recent call last)",
            "\u001b[0;32m<ipython-input-4-e89e047e891b>\u001b[0m in \u001b[0;36m<module>\u001b[0;34m()\u001b[0m\n\u001b[1;32m     70\u001b[0m         \u001b[0mprint\u001b[0m\u001b[0;34m(\u001b[0m\u001b[0;34m'loss'\u001b[0m\u001b[0;34m,\u001b[0m \u001b[0mengine\u001b[0m\u001b[0;34m.\u001b[0m\u001b[0mstate\u001b[0m\u001b[0;34m.\u001b[0m\u001b[0moutput\u001b[0m\u001b[0;34m,\u001b[0m \u001b[0;34m'average time'\u001b[0m\u001b[0;34m,\u001b[0m \u001b[0mtimer\u001b[0m\u001b[0;34m.\u001b[0m\u001b[0mvalue\u001b[0m\u001b[0;34m(\u001b[0m\u001b[0;34m)\u001b[0m\u001b[0;34m,\u001b[0m \u001b[0;34m'iter num'\u001b[0m\u001b[0;34m,\u001b[0m \u001b[0miter\u001b[0m\u001b[0;34m)\u001b[0m \u001b[0;31m# print by multiplying 10000 -> easier to read (actual loss function isn't amplified)\u001b[0m\u001b[0;34m\u001b[0m\u001b[0;34m\u001b[0m\u001b[0m\n\u001b[1;32m     71\u001b[0m \u001b[0;34m\u001b[0m\u001b[0m\n\u001b[0;32m---> 72\u001b[0;31m \u001b[0mtrainer\u001b[0m\u001b[0;34m.\u001b[0m\u001b[0mrun\u001b[0m\u001b[0;34m(\u001b[0m\u001b[0mdataset\u001b[0m\u001b[0;34m,\u001b[0m \u001b[0mmax_epochs\u001b[0m \u001b[0;34m=\u001b[0m \u001b[0;36m100\u001b[0m\u001b[0;34m)\u001b[0m\u001b[0;34m\u001b[0m\u001b[0;34m\u001b[0m\u001b[0m\n\u001b[0m",
            "\u001b[0;32m/usr/local/lib/python3.7/dist-packages/ignite/engine/engine.py\u001b[0m in \u001b[0;36mrun\u001b[0;34m(self, data, max_epochs, epoch_length, seed)\u001b[0m\n\u001b[1;32m    696\u001b[0m \u001b[0;34m\u001b[0m\u001b[0m\n\u001b[1;32m    697\u001b[0m         \u001b[0mself\u001b[0m\u001b[0;34m.\u001b[0m\u001b[0mstate\u001b[0m\u001b[0;34m.\u001b[0m\u001b[0mdataloader\u001b[0m \u001b[0;34m=\u001b[0m \u001b[0mdata\u001b[0m\u001b[0;34m\u001b[0m\u001b[0;34m\u001b[0m\u001b[0m\n\u001b[0;32m--> 698\u001b[0;31m         \u001b[0;32mreturn\u001b[0m \u001b[0mself\u001b[0m\u001b[0;34m.\u001b[0m\u001b[0m_internal_run\u001b[0m\u001b[0;34m(\u001b[0m\u001b[0;34m)\u001b[0m\u001b[0;34m\u001b[0m\u001b[0;34m\u001b[0m\u001b[0m\n\u001b[0m\u001b[1;32m    699\u001b[0m \u001b[0;34m\u001b[0m\u001b[0m\n\u001b[1;32m    700\u001b[0m     \u001b[0;34m@\u001b[0m\u001b[0mstaticmethod\u001b[0m\u001b[0;34m\u001b[0m\u001b[0;34m\u001b[0m\u001b[0m\n",
            "\u001b[0;32m/usr/local/lib/python3.7/dist-packages/ignite/engine/engine.py\u001b[0m in \u001b[0;36m_internal_run\u001b[0;34m(self)\u001b[0m\n\u001b[1;32m    769\u001b[0m             \u001b[0mself\u001b[0m\u001b[0;34m.\u001b[0m\u001b[0m_dataloader_iter\u001b[0m \u001b[0;34m=\u001b[0m \u001b[0;32mNone\u001b[0m\u001b[0;34m\u001b[0m\u001b[0;34m\u001b[0m\u001b[0m\n\u001b[1;32m    770\u001b[0m             \u001b[0mself\u001b[0m\u001b[0;34m.\u001b[0m\u001b[0mlogger\u001b[0m\u001b[0;34m.\u001b[0m\u001b[0merror\u001b[0m\u001b[0;34m(\u001b[0m\u001b[0;34mf\"Engine run is terminating due to exception: {e}\"\u001b[0m\u001b[0;34m)\u001b[0m\u001b[0;34m\u001b[0m\u001b[0;34m\u001b[0m\u001b[0m\n\u001b[0;32m--> 771\u001b[0;31m             \u001b[0mself\u001b[0m\u001b[0;34m.\u001b[0m\u001b[0m_handle_exception\u001b[0m\u001b[0;34m(\u001b[0m\u001b[0me\u001b[0m\u001b[0;34m)\u001b[0m\u001b[0;34m\u001b[0m\u001b[0;34m\u001b[0m\u001b[0m\n\u001b[0m\u001b[1;32m    772\u001b[0m \u001b[0;34m\u001b[0m\u001b[0m\n\u001b[1;32m    773\u001b[0m         \u001b[0mself\u001b[0m\u001b[0;34m.\u001b[0m\u001b[0m_dataloader_iter\u001b[0m \u001b[0;34m=\u001b[0m \u001b[0;32mNone\u001b[0m\u001b[0;34m\u001b[0m\u001b[0;34m\u001b[0m\u001b[0m\n",
            "\u001b[0;32m/usr/local/lib/python3.7/dist-packages/ignite/engine/engine.py\u001b[0m in \u001b[0;36m_handle_exception\u001b[0;34m(self, e)\u001b[0m\n\u001b[1;32m    464\u001b[0m             \u001b[0mself\u001b[0m\u001b[0;34m.\u001b[0m\u001b[0m_fire_event\u001b[0m\u001b[0;34m(\u001b[0m\u001b[0mEvents\u001b[0m\u001b[0;34m.\u001b[0m\u001b[0mEXCEPTION_RAISED\u001b[0m\u001b[0;34m,\u001b[0m \u001b[0me\u001b[0m\u001b[0;34m)\u001b[0m\u001b[0;34m\u001b[0m\u001b[0;34m\u001b[0m\u001b[0m\n\u001b[1;32m    465\u001b[0m         \u001b[0;32melse\u001b[0m\u001b[0;34m:\u001b[0m\u001b[0;34m\u001b[0m\u001b[0;34m\u001b[0m\u001b[0m\n\u001b[0;32m--> 466\u001b[0;31m             \u001b[0;32mraise\u001b[0m \u001b[0me\u001b[0m\u001b[0;34m\u001b[0m\u001b[0;34m\u001b[0m\u001b[0m\n\u001b[0m\u001b[1;32m    467\u001b[0m \u001b[0;34m\u001b[0m\u001b[0m\n\u001b[1;32m    468\u001b[0m     \u001b[0;34m@\u001b[0m\u001b[0mproperty\u001b[0m\u001b[0;34m\u001b[0m\u001b[0;34m\u001b[0m\u001b[0m\n",
            "\u001b[0;32m/usr/local/lib/python3.7/dist-packages/ignite/engine/engine.py\u001b[0m in \u001b[0;36m_internal_run\u001b[0;34m(self)\u001b[0m\n\u001b[1;32m    739\u001b[0m                     \u001b[0mself\u001b[0m\u001b[0;34m.\u001b[0m\u001b[0m_setup_engine\u001b[0m\u001b[0;34m(\u001b[0m\u001b[0;34m)\u001b[0m\u001b[0;34m\u001b[0m\u001b[0;34m\u001b[0m\u001b[0m\n\u001b[1;32m    740\u001b[0m \u001b[0;34m\u001b[0m\u001b[0m\n\u001b[0;32m--> 741\u001b[0;31m                 \u001b[0mtime_taken\u001b[0m \u001b[0;34m=\u001b[0m \u001b[0mself\u001b[0m\u001b[0;34m.\u001b[0m\u001b[0m_run_once_on_dataset\u001b[0m\u001b[0;34m(\u001b[0m\u001b[0;34m)\u001b[0m\u001b[0;34m\u001b[0m\u001b[0;34m\u001b[0m\u001b[0m\n\u001b[0m\u001b[1;32m    742\u001b[0m                 \u001b[0;31m# time is available for handlers but must be update after fire\u001b[0m\u001b[0;34m\u001b[0m\u001b[0;34m\u001b[0m\u001b[0;34m\u001b[0m\u001b[0m\n\u001b[1;32m    743\u001b[0m                 \u001b[0mself\u001b[0m\u001b[0;34m.\u001b[0m\u001b[0mstate\u001b[0m\u001b[0;34m.\u001b[0m\u001b[0mtimes\u001b[0m\u001b[0;34m[\u001b[0m\u001b[0mEvents\u001b[0m\u001b[0;34m.\u001b[0m\u001b[0mEPOCH_COMPLETED\u001b[0m\u001b[0;34m.\u001b[0m\u001b[0mname\u001b[0m\u001b[0;34m]\u001b[0m \u001b[0;34m=\u001b[0m \u001b[0mtime_taken\u001b[0m\u001b[0;34m\u001b[0m\u001b[0;34m\u001b[0m\u001b[0m\n",
            "\u001b[0;32m/usr/local/lib/python3.7/dist-packages/ignite/engine/engine.py\u001b[0m in \u001b[0;36m_run_once_on_dataset\u001b[0;34m(self)\u001b[0m\n\u001b[1;32m    829\u001b[0m                 \u001b[0mself\u001b[0m\u001b[0;34m.\u001b[0m\u001b[0mstate\u001b[0m\u001b[0;34m.\u001b[0m\u001b[0miteration\u001b[0m \u001b[0;34m+=\u001b[0m \u001b[0;36m1\u001b[0m\u001b[0;34m\u001b[0m\u001b[0;34m\u001b[0m\u001b[0m\n\u001b[1;32m    830\u001b[0m                 \u001b[0mself\u001b[0m\u001b[0;34m.\u001b[0m\u001b[0m_fire_event\u001b[0m\u001b[0;34m(\u001b[0m\u001b[0mEvents\u001b[0m\u001b[0;34m.\u001b[0m\u001b[0mITERATION_STARTED\u001b[0m\u001b[0;34m)\u001b[0m\u001b[0;34m\u001b[0m\u001b[0;34m\u001b[0m\u001b[0m\n\u001b[0;32m--> 831\u001b[0;31m                 \u001b[0mself\u001b[0m\u001b[0;34m.\u001b[0m\u001b[0mstate\u001b[0m\u001b[0;34m.\u001b[0m\u001b[0moutput\u001b[0m \u001b[0;34m=\u001b[0m \u001b[0mself\u001b[0m\u001b[0;34m.\u001b[0m\u001b[0m_process_function\u001b[0m\u001b[0;34m(\u001b[0m\u001b[0mself\u001b[0m\u001b[0;34m,\u001b[0m \u001b[0mself\u001b[0m\u001b[0;34m.\u001b[0m\u001b[0mstate\u001b[0m\u001b[0;34m.\u001b[0m\u001b[0mbatch\u001b[0m\u001b[0;34m)\u001b[0m\u001b[0;34m\u001b[0m\u001b[0;34m\u001b[0m\u001b[0m\n\u001b[0m\u001b[1;32m    832\u001b[0m                 \u001b[0mself\u001b[0m\u001b[0;34m.\u001b[0m\u001b[0m_fire_event\u001b[0m\u001b[0;34m(\u001b[0m\u001b[0mEvents\u001b[0m\u001b[0;34m.\u001b[0m\u001b[0mITERATION_COMPLETED\u001b[0m\u001b[0;34m)\u001b[0m\u001b[0;34m\u001b[0m\u001b[0;34m\u001b[0m\u001b[0m\n\u001b[1;32m    833\u001b[0m \u001b[0;34m\u001b[0m\u001b[0m\n",
            "\u001b[0;32m<ipython-input-4-e89e047e891b>\u001b[0m in \u001b[0;36mtrain_update\u001b[0;34m(engine, batch)\u001b[0m\n\u001b[1;32m     40\u001b[0m       \u001b[0;32mreturn\u001b[0m \u001b[0mfirst_order_gradient\u001b[0m\u001b[0;34m[\u001b[0m\u001b[0;36m0\u001b[0m\u001b[0;34m]\u001b[0m\u001b[0;34m[\u001b[0m\u001b[0;34m[\u001b[0m\u001b[0;36m2\u001b[0m\u001b[0;34m]\u001b[0m\u001b[0;34m]\u001b[0m\u001b[0;34m\u001b[0m\u001b[0;34m\u001b[0m\u001b[0m\n\u001b[1;32m     41\u001b[0m \u001b[0;34m\u001b[0m\u001b[0m\n\u001b[0;32m---> 42\u001b[0;31m     \u001b[0mdeltas\u001b[0m \u001b[0;34m=\u001b[0m \u001b[0mtorch\u001b[0m\u001b[0;34m.\u001b[0m\u001b[0mstack\u001b[0m\u001b[0;34m(\u001b[0m\u001b[0;34m[\u001b[0m\u001b[0mcompute_deltas\u001b[0m\u001b[0;34m(\u001b[0m\u001b[0mx\u001b[0m\u001b[0;34m)\u001b[0m \u001b[0;32mfor\u001b[0m \u001b[0mx\u001b[0m \u001b[0;32min\u001b[0m \u001b[0mtorch\u001b[0m\u001b[0;34m.\u001b[0m\u001b[0munbind\u001b[0m\u001b[0;34m(\u001b[0m\u001b[0mx\u001b[0m\u001b[0;34m)\u001b[0m\u001b[0;34m]\u001b[0m\u001b[0;34m,\u001b[0m \u001b[0mdim\u001b[0m\u001b[0;34m=\u001b[0m\u001b[0;36m0\u001b[0m\u001b[0;34m)\u001b[0m\u001b[0;34m\u001b[0m\u001b[0;34m\u001b[0m\u001b[0m\n\u001b[0m\u001b[1;32m     43\u001b[0m     \u001b[0my_pred\u001b[0m \u001b[0;34m=\u001b[0m \u001b[0mtorch\u001b[0m\u001b[0;34m.\u001b[0m\u001b[0mcat\u001b[0m\u001b[0;34m(\u001b[0m\u001b[0;34m(\u001b[0m\u001b[0my_pred\u001b[0m\u001b[0;34m,\u001b[0m \u001b[0mdeltas\u001b[0m\u001b[0;34m)\u001b[0m\u001b[0;34m,\u001b[0m \u001b[0;36m1\u001b[0m\u001b[0;34m)\u001b[0m\u001b[0;34m\u001b[0m\u001b[0;34m\u001b[0m\u001b[0m\n\u001b[1;32m     44\u001b[0m \u001b[0;34m\u001b[0m\u001b[0m\n",
            "\u001b[0;32m<ipython-input-4-e89e047e891b>\u001b[0m in \u001b[0;36m<listcomp>\u001b[0;34m(.0)\u001b[0m\n\u001b[1;32m     40\u001b[0m       \u001b[0;32mreturn\u001b[0m \u001b[0mfirst_order_gradient\u001b[0m\u001b[0;34m[\u001b[0m\u001b[0;36m0\u001b[0m\u001b[0;34m]\u001b[0m\u001b[0;34m[\u001b[0m\u001b[0;34m[\u001b[0m\u001b[0;36m2\u001b[0m\u001b[0;34m]\u001b[0m\u001b[0;34m]\u001b[0m\u001b[0;34m\u001b[0m\u001b[0;34m\u001b[0m\u001b[0m\n\u001b[1;32m     41\u001b[0m \u001b[0;34m\u001b[0m\u001b[0m\n\u001b[0;32m---> 42\u001b[0;31m     \u001b[0mdeltas\u001b[0m \u001b[0;34m=\u001b[0m \u001b[0mtorch\u001b[0m\u001b[0;34m.\u001b[0m\u001b[0mstack\u001b[0m\u001b[0;34m(\u001b[0m\u001b[0;34m[\u001b[0m\u001b[0mcompute_deltas\u001b[0m\u001b[0;34m(\u001b[0m\u001b[0mx\u001b[0m\u001b[0;34m)\u001b[0m \u001b[0;32mfor\u001b[0m \u001b[0mx\u001b[0m \u001b[0;32min\u001b[0m \u001b[0mtorch\u001b[0m\u001b[0;34m.\u001b[0m\u001b[0munbind\u001b[0m\u001b[0;34m(\u001b[0m\u001b[0mx\u001b[0m\u001b[0;34m)\u001b[0m\u001b[0;34m]\u001b[0m\u001b[0;34m,\u001b[0m \u001b[0mdim\u001b[0m\u001b[0;34m=\u001b[0m\u001b[0;36m0\u001b[0m\u001b[0;34m)\u001b[0m\u001b[0;34m\u001b[0m\u001b[0;34m\u001b[0m\u001b[0m\n\u001b[0m\u001b[1;32m     43\u001b[0m     \u001b[0my_pred\u001b[0m \u001b[0;34m=\u001b[0m \u001b[0mtorch\u001b[0m\u001b[0;34m.\u001b[0m\u001b[0mcat\u001b[0m\u001b[0;34m(\u001b[0m\u001b[0;34m(\u001b[0m\u001b[0my_pred\u001b[0m\u001b[0;34m,\u001b[0m \u001b[0mdeltas\u001b[0m\u001b[0;34m)\u001b[0m\u001b[0;34m,\u001b[0m \u001b[0;36m1\u001b[0m\u001b[0;34m)\u001b[0m\u001b[0;34m\u001b[0m\u001b[0;34m\u001b[0m\u001b[0m\n\u001b[1;32m     44\u001b[0m \u001b[0;34m\u001b[0m\u001b[0m\n",
            "\u001b[0;32m<ipython-input-4-e89e047e891b>\u001b[0m in \u001b[0;36mcompute_deltas\u001b[0;34m(x)\u001b[0m\n\u001b[1;32m     37\u001b[0m       \u001b[0minputs\u001b[0m \u001b[0;34m=\u001b[0m \u001b[0mx\u001b[0m\u001b[0;34m.\u001b[0m\u001b[0mfloat\u001b[0m\u001b[0;34m(\u001b[0m\u001b[0;34m)\u001b[0m\u001b[0;34m\u001b[0m\u001b[0;34m\u001b[0m\u001b[0m\n\u001b[1;32m     38\u001b[0m       \u001b[0minputs\u001b[0m\u001b[0;34m.\u001b[0m\u001b[0mrequires_grad\u001b[0m \u001b[0;34m=\u001b[0m \u001b[0;32mTrue\u001b[0m\u001b[0;34m\u001b[0m\u001b[0;34m\u001b[0m\u001b[0m\n\u001b[0;32m---> 39\u001b[0;31m       \u001b[0mfirst_order_gradient\u001b[0m \u001b[0;34m=\u001b[0m \u001b[0mgrad\u001b[0m\u001b[0;34m(\u001b[0m\u001b[0mmodel\u001b[0m\u001b[0;34m(\u001b[0m\u001b[0minputs\u001b[0m\u001b[0;34m)\u001b[0m\u001b[0;34m,\u001b[0m \u001b[0minputs\u001b[0m\u001b[0;34m,\u001b[0m \u001b[0mcreate_graph\u001b[0m\u001b[0;34m=\u001b[0m\u001b[0;32mFalse\u001b[0m\u001b[0;34m)\u001b[0m\u001b[0;34m\u001b[0m\u001b[0;34m\u001b[0m\u001b[0m\n\u001b[0m\u001b[1;32m     40\u001b[0m       \u001b[0;32mreturn\u001b[0m \u001b[0mfirst_order_gradient\u001b[0m\u001b[0;34m[\u001b[0m\u001b[0;36m0\u001b[0m\u001b[0;34m]\u001b[0m\u001b[0;34m[\u001b[0m\u001b[0;34m[\u001b[0m\u001b[0;36m2\u001b[0m\u001b[0;34m]\u001b[0m\u001b[0;34m]\u001b[0m\u001b[0;34m\u001b[0m\u001b[0;34m\u001b[0m\u001b[0m\n\u001b[1;32m     41\u001b[0m \u001b[0;34m\u001b[0m\u001b[0m\n",
            "\u001b[0;32m/usr/local/lib/python3.7/dist-packages/torch/autograd/__init__.py\u001b[0m in \u001b[0;36mgrad\u001b[0;34m(outputs, inputs, grad_outputs, retain_graph, create_graph, only_inputs, allow_unused)\u001b[0m\n\u001b[1;32m    234\u001b[0m     return Variable._execution_engine.run_backward(\n\u001b[1;32m    235\u001b[0m         \u001b[0moutputs\u001b[0m\u001b[0;34m,\u001b[0m \u001b[0mgrad_outputs_\u001b[0m\u001b[0;34m,\u001b[0m \u001b[0mretain_graph\u001b[0m\u001b[0;34m,\u001b[0m \u001b[0mcreate_graph\u001b[0m\u001b[0;34m,\u001b[0m\u001b[0;34m\u001b[0m\u001b[0;34m\u001b[0m\u001b[0m\n\u001b[0;32m--> 236\u001b[0;31m         inputs, allow_unused, accumulate_grad=False)\n\u001b[0m\u001b[1;32m    237\u001b[0m \u001b[0;34m\u001b[0m\u001b[0m\n\u001b[1;32m    238\u001b[0m \u001b[0;34m\u001b[0m\u001b[0m\n",
            "\u001b[0;31mKeyboardInterrupt\u001b[0m: "
          ]
        }
      ]
    },
    {
      "cell_type": "code",
      "metadata": {
        "id": "C_fEzULvKwR-"
      },
      "source": [
        "# 19:09\n",
        "# 21:15"
      ],
      "execution_count": null,
      "outputs": []
    },
    {
      "cell_type": "markdown",
      "metadata": {
        "id": "NOxUYnbSVTnl"
      },
      "source": [
        "**Save Model**"
      ]
    },
    {
      "cell_type": "code",
      "metadata": {
        "id": "mq_GDLdvU9ib",
        "colab": {
          "base_uri": "https://localhost:8080/"
        },
        "outputId": "0c556bfc-c38e-4997-9ba6-167cfd5c0904"
      },
      "source": [
        "from google.colab import drive\n",
        "drive.mount('/content/drive')"
      ],
      "execution_count": 5,
      "outputs": [
        {
          "output_type": "stream",
          "name": "stdout",
          "text": [
            "Mounted at /content/drive\n"
          ]
        }
      ]
    },
    {
      "cell_type": "code",
      "metadata": {
        "id": "iNEAqIJAVa-6"
      },
      "source": [
        "import torch\n",
        "model_save_name = 'jax_european_1stock_BS_oneDS_1.pth'\n",
        "path = F\"/content/drive/MyDrive/AFP Project/PUI/{model_save_name}\" \n",
        "torch.save(model.state_dict(), path)"
      ],
      "execution_count": 6,
      "outputs": []
    },
    {
      "cell_type": "markdown",
      "metadata": {
        "id": "4IXkmXlAVdEh"
      },
      "source": [
        "**Load Model**"
      ]
    },
    {
      "cell_type": "code",
      "metadata": {
        "id": "QjERL5bcVcXS",
        "colab": {
          "base_uri": "https://localhost:8080/"
        },
        "outputId": "52221ecb-bb7c-4807-9543-2356a80ed5cc"
      },
      "source": [
        "from google.colab import drive\n",
        "drive.mount('/content/drive')"
      ],
      "execution_count": 2,
      "outputs": [
        {
          "output_type": "stream",
          "name": "stdout",
          "text": [
            "Mounted at /content/drive\n"
          ]
        }
      ]
    },
    {
      "cell_type": "code",
      "metadata": {
        "id": "oIJoo5Z7VjAR",
        "colab": {
          "base_uri": "https://localhost:8080/"
        },
        "outputId": "ecf489d3-7379-4a24-cbd8-605d66966582"
      },
      "source": [
        "import torch\n",
        "model_save_name = 'jax_european_1stock_BS_oneDS_1.pth'\n",
        "path = F\"/content/drive/MyDrive/AFP Project/PUI/{model_save_name}\" \n",
        "state_dict = torch.load(path)\n",
        "print(state_dict.keys())"
      ],
      "execution_count": 3,
      "outputs": [
        {
          "output_type": "stream",
          "name": "stdout",
          "text": [
            "odict_keys(['norm', 'fc1.weight', 'fc1.bias', 'fc2.weight', 'fc2.bias', 'fc3.weight', 'fc3.bias', 'fc4.weight', 'fc4.bias', 'fc5.weight', 'fc5.bias', 'fc6.weight', 'fc6.bias'])\n"
          ]
        }
      ]
    },
    {
      "cell_type": "code",
      "metadata": {
        "id": "mSkrjknWVlL8",
        "colab": {
          "base_uri": "https://localhost:8080/"
        },
        "outputId": "d156d47a-eb4d-4014-cab1-108660bed8ab"
      },
      "source": [
        "# need to run 'Writing cupy_dataset.py' and 'Writing model.py' above before this\n",
        "from model import Net\n",
        "model = Net().cuda()\n",
        "\n",
        "model.load_state_dict(state_dict)\n",
        "print(model)"
      ],
      "execution_count": 7,
      "outputs": [
        {
          "output_type": "stream",
          "name": "stdout",
          "text": [
            "Net(\n",
            "  (fc1): Linear(in_features=6, out_features=32, bias=True)\n",
            "  (fc2): Linear(in_features=32, out_features=64, bias=True)\n",
            "  (fc3): Linear(in_features=64, out_features=128, bias=True)\n",
            "  (fc4): Linear(in_features=128, out_features=64, bias=True)\n",
            "  (fc5): Linear(in_features=64, out_features=32, bias=True)\n",
            "  (fc6): Linear(in_features=32, out_features=1, bias=True)\n",
            ")\n"
          ]
        }
      ]
    },
    {
      "cell_type": "markdown",
      "metadata": {
        "id": "s5MbsAwEVmff"
      },
      "source": [
        "**Continue to train model**"
      ]
    },
    {
      "cell_type": "code",
      "metadata": {
        "id": "aQYxo1IXVl57",
        "colab": {
          "base_uri": "https://localhost:8080/"
        },
        "outputId": "3af9c8a8-0bf9-4a23-e3c0-bd985ff62ec1"
      },
      "source": [
        "# version 2, 7\n",
        "# If memory is not enough, try changing parameters and restarting session\n",
        "# loss will converge\n",
        "\n",
        "from ignite.engine import Engine, Events\n",
        "from ignite.handlers import Timer\n",
        "from torch.nn import MSELoss\n",
        "from torch.optim import Adam\n",
        "from ignite.contrib.handlers.param_scheduler import CosineAnnealingScheduler\n",
        "from ignite.handlers import ModelCheckpoint\n",
        "from model import Net\n",
        "from cupy_dataset import OptionDataSet\n",
        "import numpy as np\n",
        "import torch\n",
        "from torch import Tensor\n",
        "from torch.autograd import grad\n",
        "timer = Timer(average=True)\n",
        "#model = Net().cuda()\n",
        "loss_fn = MSELoss()\n",
        "optimizer = Adam(model.parameters(), lr=1e-3)\n",
        "dataset = OptionDataSet(max_len = 100, number_path = 100000, batch = 1, seed = np.random.randint(10000), stocks = 1) # must have random seed. It doesn't matter how many batch here (not taken into function). Use max_len to adjust\n",
        "\n",
        "def train_update(engine, batch):\n",
        "    model.train()\n",
        "    optimizer.zero_grad()\n",
        "    x = batch[0]\n",
        "    y = batch[1]\n",
        "    y_pred = model(x.float())\n",
        "\n",
        "    def compute_deltas(x):\n",
        "      inputs = x.float()\n",
        "      inputs.requires_grad = True\n",
        "      first_order_gradient = grad(model(inputs), inputs, create_graph=False)\n",
        "      return first_order_gradient[0][[2]]\n",
        "\n",
        "    deltas = torch.stack([compute_deltas(x) for x in torch.unbind(x)], dim=0)\n",
        "    y_pred = torch.cat((y_pred, deltas), 1)\n",
        "\n",
        "    loss_weight = torch.tensor([1, 1]).cuda()\n",
        "    loss_weight_normalized = loss_weight/loss_weight.sum()\n",
        "    loss = ((y_pred - y) ** 2 * loss_weight_normalized).mean(axis=0).sum() # compute weighted MSE between the 2 arrays\n",
        "\n",
        "    loss.backward()\n",
        "    optimizer.step()\n",
        "    return loss.item()\n",
        "\n",
        "trainer = Engine(train_update)\n",
        "log_interval = 20\n",
        "\n",
        "scheduler = CosineAnnealingScheduler(optimizer, 'lr', 1e-4, 1e-6, len(dataset))\n",
        "trainer.add_event_handler(Events.ITERATION_STARTED, scheduler)\n",
        "timer.attach(trainer,\n",
        "             start=Events.EPOCH_STARTED,\n",
        "             resume=Events.ITERATION_STARTED,\n",
        "             pause=Events.ITERATION_COMPLETED,\n",
        "             step=Events.ITERATION_COMPLETED)    \n",
        "@trainer.on(Events.ITERATION_COMPLETED)\n",
        "def log_training_loss(engine):\n",
        "    iter = (engine.state.iteration - 1) % len(dataset) + 1\n",
        "    if iter % log_interval == 0:\n",
        "        print('loss', engine.state.output, 'average time', timer.value(), 'iter num', iter)\n",
        "        \n",
        "trainer.run(dataset, max_epochs = 100)\n",
        "\n",
        "model_save_name = 'jax_european_1stock_BS_oneDS_1.pth'\n",
        "path = F\"/content/drive/MyDrive/AFP Project/PUI/{model_save_name}\" \n",
        "torch.save(model.state_dict(), path)"
      ],
      "execution_count": 13,
      "outputs": [
        {
          "output_type": "stream",
          "name": "stdout",
          "text": [
            "loss 0.002996461522678711 average time 2.7785745786000917 iter num 20\n",
            "loss 0.0029259253164437477 average time 2.7863694280750453 iter num 40\n",
            "loss 0.0029008435581087343 average time 2.782608152316728 iter num 60\n",
            "loss 0.0028721104830474724 average time 2.776712601587542 iter num 80\n",
            "loss 0.002867241652109009 average time 2.7756212748000415 iter num 100\n",
            "loss 0.0027621943465336585 average time 2.773356518400033 iter num 20\n",
            "loss 0.0026725858968926924 average time 2.773428758825071 iter num 40\n",
            "loss 0.002614074782741791 average time 2.787418052483387 iter num 60\n",
            "loss 0.0025876138524985976 average time 2.7838354677625374 iter num 80\n",
            "loss 0.0025818943376997154 average time 2.7822042977100407 iter num 100\n",
            "loss 0.002474391868844893 average time 2.7688389461500265 iter num 20\n",
            "loss 0.0023854020720735386 average time 2.7646866657500366 iter num 40\n",
            "loss 0.0023298429878681084 average time 2.7636857984666525 iter num 60\n",
            "loss 0.0023051595904011487 average time 2.7688621169749807 iter num 80\n",
            "loss 0.0022999580263141366 average time 2.7682876610699987 iter num 100\n",
            "loss 0.002203339107416297 average time 2.776378016849867 iter num 20\n",
            "loss 0.0021240336081191882 average time 2.7744447507249332 iter num 40\n",
            "loss 0.0020746839303002976 average time 2.765154986316611 iter num 60\n",
            "loss 0.00205283499449756 average time 2.774881165012471 iter num 80\n",
            "loss 0.002048249554780231 average time 2.7726136219799993 iter num 100\n",
            "loss 0.001963262541832901 average time 2.783505933500146 iter num 20\n",
            "loss 0.0018928880820489186 average time 2.7803463623000426 iter num 40\n",
            "loss 0.0018487235897627391 average time 2.7765945009499773 iter num 60\n",
            "loss 0.001829101204729205 average time 2.777453700487513 iter num 80\n",
            "loss 0.0018249854388870611 average time 2.780188821510001 iter num 100\n",
            "loss 0.001748446402543239 average time 2.7726573922500393 iter num 20\n",
            "loss 0.0016842133206626273 average time 2.7755427743750714 iter num 40\n",
            "loss 0.0016435277656835024 average time 2.7710622763500394 iter num 60\n",
            "loss 0.0016253839200163008 average time 2.773359630475079 iter num 80\n",
            "loss 0.0016215805118393472 average time 2.7817328766100764 iter num 100\n",
            "loss 0.0015507134243277715 average time 2.7608906423000916 iter num 20\n",
            "loss 0.0014909373984910855 average time 2.759223555049948 iter num 40\n",
            "loss 0.0014529732530898887 average time 2.764851273783309 iter num 60\n",
            "loss 0.0014360530490177723 average time 2.760698527712452 iter num 80\n",
            "loss 0.0014325119872177737 average time 2.7587365912499626 iter num 100\n",
            "loss 0.001366522081095798 average time 2.7836167995496908 iter num 20\n",
            "loss 0.0013108411036373206 average time 2.7664261315246677 iter num 40\n",
            "loss 0.0012755775851496798 average time 2.7643760250830383 iter num 60\n",
            "loss 0.0012599060859966901 average time 2.7611623625498396 iter num 80\n",
            "loss 0.001256634616400289 average time 2.762387193069935 iter num 100\n",
            "loss 0.0011958783452621468 average time 2.759357649300182 iter num 20\n",
            "loss 0.001144885712765723 average time 2.767796757550059 iter num 40\n",
            "loss 0.001112806741911669 average time 2.7625855941667394 iter num 60\n",
            "loss 0.0010986152761366527 average time 2.7650077481625432 iter num 80\n",
            "loss 0.0010956608489200148 average time 2.7751380879599674 iter num 100\n",
            "loss 0.00104098077185173 average time 2.78781512020023 iter num 20\n",
            "loss 0.000995341029055758 average time 2.777663944450114 iter num 40\n",
            "loss 0.0009667917113759997 average time 2.7708446296834457 iter num 60\n",
            "loss 0.0009542181529385088 average time 2.7668798352625346 iter num 80\n",
            "loss 0.0009516059273824499 average time 2.762460779680041 iter num 100\n",
            "loss 0.000903407971855661 average time 2.7743747546500344 iter num 20\n",
            "loss 0.0008633000094052119 average time 2.772975570650078 iter num 40\n",
            "loss 0.0008382707378339659 average time 2.769174545350173 iter num 60\n",
            "loss 0.0008272613242027423 average time 2.768813562762648 iter num 80\n",
            "loss 0.0008249758492300031 average time 2.7665791300301863 iter num 100\n",
            "loss 0.0007828238723840281 average time 2.769483164149915 iter num 20\n",
            "loss 0.0007478440509738996 average time 2.7621101932249985 iter num 40\n",
            "loss 0.0007260804634708506 average time 2.7730242615499567 iter num 60\n",
            "loss 0.0007165318848448256 average time 2.7726214200874666 iter num 80\n",
            "loss 0.0007145529397020213 average time 2.770576298600008 iter num 100\n",
            "loss 0.0006781182662637771 average time 2.7557747995499993 iter num 20\n",
            "loss 0.0006480079481540054 average time 2.7636122602498743 iter num 40\n",
            "loss 0.0006292739168165208 average time 2.760113825716568 iter num 60\n",
            "loss 0.0006210635233632833 average time 2.7702457639749354 iter num 80\n",
            "loss 0.0006193638170833856 average time 2.771466144709939 iter num 100\n",
            "loss 0.0005960645983387822 average time 2.776575165900249 iter num 20\n",
            "loss 0.000572316935475412 average time 2.79044385897505 iter num 40\n",
            "loss 0.0005645721051644938 average time 2.795541057066718 iter num 60\n",
            "loss 0.0005592968836643202 average time 2.7905359179750575 iter num 80\n",
            "loss 0.0005580277972140564 average time 2.789808800530045 iter num 100\n",
            "loss 0.000537562543485908 average time 2.771210268549839 iter num 20\n",
            "loss 0.0005206416484639375 average time 2.771754617774968 iter num 40\n",
            "loss 0.0005097674537022813 average time 2.7682540067832635 iter num 60\n",
            "loss 0.0005049679022596659 average time 2.76840080596246 iter num 80\n",
            "loss 0.0005039706754749163 average time 2.7703005669499543 iter num 100\n",
            "loss 0.0004854501157308227 average time 2.7542898774000606 iter num 20\n",
            "loss 0.00046983041701015944 average time 2.75828326272499 iter num 40\n",
            "loss 0.0004599725235087892 average time 2.765513482000036 iter num 60\n",
            "loss 0.0004556080456892496 average time 2.7604804915499925 iter num 80\n",
            "loss 0.0004547002571553775 average time 2.7575721742899986 iter num 100\n",
            "loss 0.0004378968949274379 average time 2.7688676770500935 iter num 20\n",
            "loss 0.00042374142739073906 average time 2.7681535271750364 iter num 40\n",
            "loss 0.00041482720391397765 average time 2.763518248800028 iter num 60\n",
            "loss 0.0004108832750342039 average time 2.762279724562518 iter num 80\n",
            "loss 0.00041006395657186746 average time 2.7614640283700282 iter num 100\n",
            "loss 0.00039846845905803894 average time 2.780252413549988 iter num 20\n",
            "loss 0.00038480114004831457 average time 2.7738468762499906 iter num 40\n",
            "loss 0.0003754083253949686 average time 2.766807941616662 iter num 60\n",
            "loss 0.000372388720383212 average time 2.7682179319125453 iter num 80\n",
            "loss 0.00037171347059445964 average time 2.7662311312100427 iter num 100\n",
            "loss 0.0003817464532848615 average time 2.7507313430997784 iter num 20\n",
            "loss 0.0003659117178125214 average time 2.7754433422749116 iter num 40\n",
            "loss 0.00035198823274165247 average time 2.7720887975166684 iter num 60\n",
            "loss 0.00035109371994864315 average time 2.7753864368749417 iter num 80\n",
            "loss 0.0003503985564942695 average time 2.779403266439931 iter num 100\n",
            "loss 0.00034122119370158847 average time 2.7732474566002567 iter num 20\n",
            "loss 0.00033332354744323696 average time 2.7824133832252302 iter num 40\n",
            "loss 0.0003283101684402147 average time 2.7984637378501853 iter num 60\n",
            "loss 0.00032609341642052627 average time 2.797414213787647 iter num 80\n",
            "loss 0.00032562492711509975 average time 2.7910017409301147 iter num 100\n",
            "loss 0.0003169906981660709 average time 2.7687730556000134 iter num 20\n",
            "loss 0.00030964105556472837 average time 2.768071994600132 iter num 40\n",
            "loss 0.00030496797348049826 average time 2.776243874533338 iter num 60\n",
            "loss 0.0003028895334608815 average time 2.772064276737569 iter num 80\n",
            "loss 0.000302457241166197 average time 2.7672302688700436 iter num 100\n",
            "loss 0.0002944157991918971 average time 2.763476530000207 iter num 20\n",
            "loss 0.0002875923136428241 average time 2.766242381950042 iter num 40\n",
            "loss 0.0002832603739010485 average time 2.7606520954332763 iter num 60\n",
            "loss 0.00028133789496672274 average time 2.7779628306000177 iter num 80\n",
            "loss 0.0002809382261539805 average time 2.7823476648500582 iter num 100\n",
            "loss 0.0002735245472538798 average time 2.7655890107497725 iter num 20\n",
            "loss 0.0002672435182200291 average time 2.7732451861748815 iter num 40\n",
            "loss 0.00026325889822074414 average time 2.7688799111998983 iter num 60\n",
            "loss 0.0002614913806974683 average time 2.775029739474894 iter num 80\n",
            "loss 0.00026112405313753284 average time 2.7741460477999316 iter num 100\n",
            "loss 0.00025431310468048427 average time 2.78342004540018 iter num 20\n",
            "loss 0.00024855043977266576 average time 2.7692775370001073 iter num 40\n",
            "loss 0.0002449047627725892 average time 2.7606786991834875 iter num 60\n",
            "loss 0.0002432892456057189 average time 2.762914843550175 iter num 80\n",
            "loss 0.00024295380157959173 average time 2.7741197500001 iter num 100\n",
            "loss 0.00023700813144458824 average time 2.809464020700125 iter num 20\n",
            "loss 0.00023160578256643875 average time 2.8231039253249945 iter num 40\n",
            "loss 0.000228290059294627 average time 2.814892420633411 iter num 60\n",
            "loss 0.00022689937543711702 average time 2.805625023600078 iter num 80\n",
            "loss 0.00022658124410958655 average time 2.8049590277100287 iter num 100\n",
            "loss 0.0003052727486615544 average time 2.8195968445498694 iter num 20\n",
            "loss 0.0002246836471723246 average time 2.807658701624723 iter num 40\n",
            "loss 0.00022022449452345348 average time 2.7992465349997775 iter num 60\n",
            "loss 0.0002191274368108507 average time 2.7949399614622736 iter num 80\n",
            "loss 0.00021904429213553486 average time 2.7880411206997997 iter num 100\n",
            "loss 0.0002152564650952024 average time 2.7855332785000426 iter num 20\n",
            "loss 0.00021197969310374313 average time 2.7718715834500927 iter num 40\n",
            "loss 0.0002098709628867929 average time 2.764031044583438 iter num 60\n",
            "loss 0.0002089411466424755 average time 2.7625986574126045 iter num 80\n",
            "loss 0.0002087458043182391 average time 2.7655178917200827 iter num 100\n",
            "loss 0.00020512859836089114 average time 2.7488649540501684 iter num 20\n",
            "loss 0.0002020549614794676 average time 2.7774737692001508 iter num 40\n",
            "loss 0.00020010200404316241 average time 2.7809616947666957 iter num 60\n",
            "loss 0.00019923400007543994 average time 2.7755265650250065 iter num 80\n",
            "loss 0.00019905370333283024 average time 2.772956736700071 iter num 100\n",
            "loss 0.00019569151236023506 average time 2.7594825412495085 iter num 20\n",
            "loss 0.0001928324604412108 average time 2.7731503644246915 iter num 40\n",
            "loss 0.0001910126959290591 average time 2.765200054249787 iter num 60\n",
            "loss 0.00019020353149300608 average time 2.764730955362279 iter num 80\n",
            "loss 0.0001900357293090849 average time 2.767496571639804 iter num 100\n",
            "loss 0.00018690873426764303 average time 2.8023716962500655 iter num 20\n",
            "loss 0.00018425540226388982 average time 2.805322284199974 iter num 40\n",
            "loss 0.00018256958337707516 average time 2.80429308215001 iter num 60\n",
            "loss 0.00018182021901055155 average time 2.795456829599948 iter num 80\n",
            "loss 0.0001816648218186642 average time 2.791043100090028 iter num 100\n",
            "loss 0.0001787702824624655 average time 2.7636823309502687 iter num 20\n",
            "loss 0.000176316265143703 average time 2.7626522384753116 iter num 40\n",
            "loss 0.00017475789135848384 average time 2.7681884795669855 iter num 60\n",
            "loss 0.00017406546678038599 average time 2.768757508075146 iter num 80\n",
            "loss 0.00017392190192182035 average time 2.767903143400163 iter num 100\n",
            "loss 0.00017122759172733267 average time 2.7627592218500467 iter num 20\n",
            "loss 0.00016899097981174703 average time 2.7628162440499637 iter num 40\n",
            "loss 0.00016754715557191742 average time 2.7616679700833022 iter num 60\n",
            "loss 0.00016691437420250218 average time 2.7653233997375084 iter num 80\n",
            "loss 0.00016678176635290677 average time 2.7656496262300605 iter num 100\n",
            "loss 0.00021509182480626186 average time 2.7807120329498503 iter num 20\n",
            "loss 0.00016561820626133595 average time 2.7723302941998553 iter num 40\n",
            "loss 0.00016410578657411268 average time 2.7701972327334565 iter num 60\n",
            "loss 0.000164626175724532 average time 2.7715489209376303 iter num 80\n",
            "loss 0.00016455736149144321 average time 2.779116421210056 iter num 100\n",
            "loss 0.0001627854766914952 average time 2.782560750600351 iter num 20\n",
            "loss 0.0001611801320181953 average time 2.782091342675085 iter num 40\n",
            "loss 0.00016013291580776903 average time 2.784606570850277 iter num 60\n",
            "loss 0.00015968703668373834 average time 2.788731609962633 iter num 80\n",
            "loss 0.0001595912526603654 average time 2.797367203569993 iter num 100\n",
            "loss 0.00015783713102317451 average time 2.7818397205996006 iter num 20\n",
            "loss 0.00015633855247631595 average time 2.774374725974576 iter num 40\n",
            "loss 0.00015537854430033662 average time 2.7828035296496334 iter num 60\n",
            "loss 0.0001549493850771453 average time 2.7850215098872466 iter num 80\n",
            "loss 0.00015486089028562337 average time 2.785411275789775 iter num 100\n",
            "loss 0.00015319328563771154 average time 2.8193534802005162 iter num 20\n",
            "loss 0.00015176559209530285 average time 2.795652419650196 iter num 40\n",
            "loss 0.0001508511085643624 average time 2.7886039153168896 iter num 60\n",
            "loss 0.0001504428926583331 average time 2.784891543300091 iter num 80\n",
            "loss 0.00015035823437048652 average time 2.7833857554500354 iter num 100\n",
            "loss 0.0001487702736984194 average time 2.7967219432501222 iter num 20\n",
            "loss 0.0001474093744789664 average time 2.7840997759001764 iter num 40\n",
            "loss 0.00014653714397879335 average time 2.779636419916824 iter num 60\n",
            "loss 0.00014614702421888185 average time 2.773222720550211 iter num 80\n",
            "loss 0.000146066129180128 average time 2.7695838056501816 iter num 100\n",
            "loss 0.0001445485937738655 average time 2.7790889863001214 iter num 20\n",
            "loss 0.00014324605852337089 average time 2.7857522307500404 iter num 40\n",
            "loss 0.00014241009077231549 average time 2.7757029449666635 iter num 60\n",
            "loss 0.00014203591461625913 average time 2.7751353267249668 iter num 80\n",
            "loss 0.00014195821012417546 average time 2.773104473750063 iter num 100\n",
            "loss 0.00014091963347593543 average time 2.736618646850002 iter num 20\n",
            "loss 0.0001392662046935376 average time 2.7515363931748653 iter num 40\n",
            "loss 0.00013846300832364436 average time 2.7557862242498836 iter num 60\n",
            "loss 0.0001381115333598986 average time 2.7542233375624163 iter num 80\n",
            "loss 0.00013803590074499536 average time 2.758642232679813 iter num 100\n",
            "loss 0.00017339318182904153 average time 2.775313036950865 iter num 20\n",
            "loss 0.00014904026385767564 average time 2.765493416200388 iter num 40\n",
            "loss 0.0001390649952915738 average time 2.768474587183664 iter num 60\n",
            "loss 0.00014018080565938285 average time 2.7691631431626775 iter num 80\n",
            "loss 0.00014009654029688466 average time 2.7709049329001574 iter num 100\n",
            "loss 0.00013923568639438735 average time 2.7603964246001853 iter num 20\n",
            "loss 0.00013824640244929903 average time 2.7599121503751123 iter num 40\n",
            "loss 0.0001375996995308592 average time 2.7609417414834145 iter num 60\n",
            "loss 0.00013736331310902392 average time 2.766806918975135 iter num 80\n",
            "loss 0.0001373077700590472 average time 2.7659369056001015 iter num 100\n",
            "loss 0.0001362880392780138 average time 2.768181201549851 iter num 20\n",
            "loss 0.0001354092894236263 average time 2.783874380875113 iter num 40\n",
            "loss 0.00013484356580053893 average time 2.7866970576331975 iter num 60\n",
            "loss 0.00013459111836036075 average time 2.7928367155500835 iter num 80\n",
            "loss 0.0001345388042196924 average time 2.788145166710092 iter num 100\n",
            "loss 0.00013355050536249777 average time 2.7744565526496445 iter num 20\n",
            "loss 0.00013269941566295193 average time 2.7720611035749245 iter num 40\n",
            "loss 0.0001321506230868538 average time 2.7645117294999486 iter num 60\n",
            "loss 0.00013190462737769316 average time 2.7629610168874024 iter num 80\n",
            "loss 0.00013185376553551624 average time 2.771964488429985 iter num 100\n",
            "loss 0.0001308910451183908 average time 2.763451767049446 iter num 20\n",
            "loss 0.00013005937221920066 average time 2.7718977182245 iter num 40\n",
            "loss 0.00012952171596444914 average time 2.7811450621660696 iter num 60\n",
            "loss 0.00012928072486873894 average time 2.782543192837056 iter num 80\n",
            "loss 0.00012923102703284503 average time 2.785341260309542 iter num 100\n",
            "loss 0.00012828887958745295 average time 2.813161081150247 iter num 20\n",
            "loss 0.00012747369652531764 average time 2.8029540207251555 iter num 40\n",
            "loss 0.0001269470742709609 average time 2.8031970415335308 iter num 60\n",
            "loss 0.0001267108999511971 average time 2.801908062462735 iter num 80\n",
            "loss 0.00012666207934019572 average time 2.8014205734401547 iter num 100\n",
            "loss 0.00012573599829032085 average time 2.815847732599832 iter num 20\n",
            "loss 0.00012493529897363565 average time 2.8119000291500016 iter num 40\n",
            "loss 0.00012441778213287665 average time 2.8051476728665876 iter num 60\n",
            "loss 0.00012418550554907262 average time 2.8010778056749133 iter num 80\n",
            "loss 0.00012413738651899795 average time 2.8030098308598097 iter num 100\n",
            "loss 0.00012322565180787455 average time 2.7992902242001945 iter num 20\n",
            "loss 0.00012243580153608826 average time 2.80718469070016 iter num 40\n",
            "loss 0.00012192530120685004 average time 2.800834423900293 iter num 60\n",
            "loss 0.00012169608639160824 average time 2.800654941937637 iter num 80\n",
            "loss 0.0001216484439386112 average time 2.805104970470129 iter num 100\n",
            "loss 0.00012074834545256535 average time 2.775646688149936 iter num 20\n",
            "loss 0.00011996900025315026 average time 2.804866364324971 iter num 40\n",
            "loss 0.00011946464544390509 average time 2.8140009718001844 iter num 60\n",
            "loss 0.00011923757844363381 average time 2.805540920337626 iter num 80\n",
            "loss 0.00011919076904529239 average time 2.8114694414101176 iter num 100\n",
            "loss 0.00011829302936605843 average time 2.8098948252996707 iter num 20\n",
            "loss 0.00011754880375522009 average time 2.8065555418748773 iter num 40\n",
            "loss 0.0001170309613545259 average time 2.806308195266623 iter num 60\n",
            "loss 0.00011681051407542389 average time 2.805780646149924 iter num 80\n",
            "loss 0.00011676393245034469 average time 2.804445895349927 iter num 100\n",
            "loss 0.00017394713783849185 average time 2.8017150915002276 iter num 20\n",
            "loss 0.00012314040713679294 average time 2.7975308877252245 iter num 40\n",
            "loss 0.00011665800517845443 average time 2.7987928292335105 iter num 60\n",
            "loss 0.00011764396250266212 average time 2.7997316942626638 iter num 80\n",
            "loss 0.0001174543138552948 average time 2.80246880711009 iter num 100\n",
            "loss 0.00011684146418396851 average time 2.8123934930999894 iter num 20\n",
            "loss 0.00011617392537542782 average time 2.7999064700999043 iter num 40\n",
            "loss 0.00011570559310046385 average time 2.7961241995166954 iter num 60\n",
            "loss 0.0001155192912664564 average time 2.7988068887875217 iter num 80\n",
            "loss 0.00011547957081302411 average time 2.79575081570998 iter num 100\n",
            "loss 0.00011475901027328613 average time 2.7927483997003946 iter num 20\n",
            "loss 0.00011413708490266161 average time 2.7818363020252037 iter num 40\n",
            "loss 0.00011373475925041615 average time 2.7811879077498816 iter num 60\n",
            "loss 0.00011355378705101261 average time 2.790060990874963 iter num 80\n",
            "loss 0.00011351667262819118 average time 2.7896651813598874 iter num 100\n",
            "loss 0.00011280526227472288 average time 2.79082470070025 iter num 20\n",
            "loss 0.00011218724799331814 average time 2.781385977775153 iter num 40\n",
            "loss 0.00011178717469565355 average time 2.7808737004834256 iter num 60\n",
            "loss 0.00011160692340801313 average time 2.7828922972249983 iter num 80\n",
            "loss 0.00011156975866327236 average time 2.787740856820128 iter num 100\n",
            "loss 0.00011086219018506493 average time 2.783372741900166 iter num 20\n",
            "loss 0.00011024731196745617 average time 2.7812416563250735 iter num 40\n",
            "loss 0.00010984932729240832 average time 2.785873916233504 iter num 60\n",
            "loss 0.00010966988207197126 average time 2.7880526380376067 iter num 80\n",
            "loss 0.0001096329639654239 average time 2.791737551760016 iter num 100\n",
            "loss 0.00010892786651025573 average time 2.7662638433997926 iter num 20\n",
            "loss 0.00010831382760963975 average time 2.7821479935999376 iter num 40\n",
            "loss 0.00010791509239121398 average time 2.782699321316492 iter num 60\n",
            "loss 0.00010773568401829215 average time 2.7813890733747484 iter num 80\n",
            "loss 0.00010769876474512328 average time 2.7810450558797313 iter num 100\n",
            "loss 0.00010720321938503075 average time 2.805253953149804 iter num 20\n",
            "loss 0.00010644325349585842 average time 2.7927017866750248 iter num 40\n",
            "loss 0.00010598817423965122 average time 2.7839023789833544 iter num 60\n",
            "loss 0.00010582506963331287 average time 2.7852140789625537 iter num 80\n",
            "loss 0.00010578483736824153 average time 2.784433661210096 iter num 100\n",
            "loss 0.00017784779347021647 average time 2.795123765050266 iter num 20\n",
            "loss 0.00011125386464211499 average time 2.797958251075033 iter num 40\n",
            "loss 0.00010693962294446024 average time 2.7934266793166898 iter num 60\n",
            "loss 0.00010778278207511839 average time 2.791420758562572 iter num 80\n",
            "loss 0.00010756397338883076 average time 2.790471017100099 iter num 100\n",
            "loss 0.00010712271021744957 average time 2.7989199083993297 iter num 20\n",
            "loss 0.00010660921970110919 average time 2.802502527199704 iter num 40\n",
            "loss 0.00010623976372985125 average time 2.793242438566631 iter num 60\n",
            "loss 0.0001060901134644337 average time 2.7939249437374203 iter num 80\n",
            "loss 0.0001060585596346766 average time 2.795499133319936 iter num 100\n",
            "loss 0.00010549022964309623 average time 2.7839469002996338 iter num 20\n",
            "loss 0.00010500235954586989 average time 2.7843974423747566 iter num 40\n",
            "loss 0.00010468725646572082 average time 2.8045389221664663 iter num 60\n",
            "loss 0.00010454557377374314 average time 2.7998077802872556 iter num 80\n",
            "loss 0.00010451652997139292 average time 2.7993820173599304 iter num 100\n",
            "loss 0.00010395954242128475 average time 2.7979491537002104 iter num 20\n",
            "loss 0.0001034738442619928 average time 2.7964140103998942 iter num 40\n",
            "loss 0.00010315885887650258 average time 2.804298552633251 iter num 60\n",
            "loss 0.0001030171439562071 average time 2.8018812391249868 iter num 80\n",
            "loss 0.00010298773135333764 average time 2.8008729339200364 iter num 100\n",
            "loss 0.00010242734636061094 average time 2.786789147849595 iter num 20\n",
            "loss 0.00010194028782294491 average time 2.7857873115247456 iter num 40\n",
            "loss 0.00010162281831772537 average time 2.7883909221499077 iter num 60\n",
            "loss 0.00010148025552111364 average time 2.789538194462466 iter num 80\n",
            "loss 0.0001014506116293999 average time 2.792094219109931 iter num 100\n",
            "loss 0.00010088890049219845 average time 2.780101916550484 iter num 20\n",
            "loss 0.00010039815865448519 average time 2.781231013575416 iter num 40\n",
            "loss 0.00010007914685112179 average time 2.7837469781337254 iter num 60\n",
            "loss 9.993569367453846e-05 average time 2.7879132946502976 iter num 80\n",
            "loss 9.990576988089113e-05 average time 2.787506828350197 iter num 100\n",
            "loss 9.933727596858791e-05 average time 2.7787582661998385 iter num 20\n",
            "loss 9.884349355841419e-05 average time 2.787252176725269 iter num 40\n",
            "loss 9.852133816781865e-05 average time 2.793759270950128 iter num 60\n",
            "loss 9.83766032254368e-05 average time 2.7947251327876073 iter num 80\n",
            "loss 9.834644423424001e-05 average time 2.802445353180046 iter num 100\n",
            "loss 9.774171563794655e-05 average time 2.7963181776996864 iter num 20\n",
            "loss 9.729398605498462e-05 average time 2.7866229812999337 iter num 40\n",
            "loss 9.695346794369777e-05 average time 2.782459831450069 iter num 60\n",
            "loss 9.680721126202482e-05 average time 2.7855779408251236 iter num 80\n",
            "loss 9.677761165211834e-05 average time 2.7864127337201716 iter num 100\n",
            "loss 0.00010739326970680446 average time 2.800866394699915 iter num 20\n",
            "loss 0.00010040046524411273 average time 2.7891943480999544 iter num 40\n",
            "loss 9.66555603796927e-05 average time 2.790989620766656 iter num 60\n",
            "loss 9.707230587862758e-05 average time 2.7953023981125624 iter num 80\n",
            "loss 9.695019630209331e-05 average time 2.7951566071201523 iter num 100\n",
            "loss 9.647827088056454e-05 average time 2.8195647613496475 iter num 20\n",
            "loss 9.604770312292238e-05 average time 2.808435726624521 iter num 40\n",
            "loss 9.576079327852771e-05 average time 2.8012052009829254 iter num 60\n",
            "loss 9.562700554122186e-05 average time 2.79798201699964 iter num 80\n",
            "loss 9.560050869752248e-05 average time 2.7937417675498 iter num 100\n",
            "loss 9.50874467249182e-05 average time 2.817196026199963 iter num 20\n",
            "loss 9.464246412710523e-05 average time 2.81806101602524 iter num 40\n",
            "loss 9.435333091110883e-05 average time 2.808622414583624 iter num 60\n",
            "loss 9.422261794592407e-05 average time 2.8006516387626563 iter num 80\n",
            "loss 9.419555224377273e-05 average time 2.799119910440095 iter num 100\n",
            "loss 9.368617355812647e-05 average time 2.786981920800463 iter num 20\n",
            "loss 9.323001646109567e-05 average time 2.7958166675999565 iter num 40\n",
            "loss 9.293862614179977e-05 average time 2.7953725683500426 iter num 60\n",
            "loss 9.280683576751264e-05 average time 2.793800638062612 iter num 80\n",
            "loss 9.277887376462288e-05 average time 2.7904325736901594 iter num 100\n",
            "loss 9.983549630643617e-05 average time 2.7859617332003834 iter num 20\n",
            "loss 9.281978629378322e-05 average time 2.785412919925238 iter num 40\n",
            "loss 9.170880271214768e-05 average time 2.7925840034001643 iter num 60\n",
            "loss 9.163223429132768e-05 average time 2.791952373100048 iter num 80\n",
            "loss 9.16018841061469e-05 average time 2.794182614790043 iter num 100\n",
            "loss 0.00010348365326304011 average time 2.7815479857497847 iter num 20\n",
            "loss 9.625845632798892e-05 average time 2.7759754588749272 iter num 40\n",
            "loss 9.410561668111361e-05 average time 2.7835569928334736 iter num 60\n",
            "loss 9.317193096186881e-05 average time 2.7814786544249728 iter num 80\n",
            "loss 9.322206738512646e-05 average time 2.7828344902398383 iter num 100\n",
            "loss 9.295814551572581e-05 average time 2.798559424999803 iter num 20\n",
            "loss 9.258552995531464e-05 average time 2.797118218624837 iter num 40\n",
            "loss 9.232128213453897e-05 average time 2.797525086050094 iter num 60\n",
            "loss 9.222427652729572e-05 average time 2.7992603889876135 iter num 80\n",
            "loss 9.219899701653571e-05 average time 2.7971932277501765 iter num 100\n",
            "loss 9.175442084063093e-05 average time 2.7797177772994472 iter num 20\n",
            "loss 9.137194652694573e-05 average time 2.7892986739246224 iter num 40\n",
            "loss 9.112333489230807e-05 average time 2.7919726618831193 iter num 60\n",
            "loss 9.101106859724774e-05 average time 2.794170958024915 iter num 80\n",
            "loss 9.098777587511475e-05 average time 2.790494992450076 iter num 100\n",
            "loss 9.054431489733692e-05 average time 2.774197991199435 iter num 20\n",
            "loss 9.015657009476566e-05 average time 2.781532918224639 iter num 40\n",
            "loss 8.990356509889262e-05 average time 2.7838873700998494 iter num 60\n",
            "loss 8.978896480333605e-05 average time 2.7824443273874295 iter num 80\n",
            "loss 8.976510598813231e-05 average time 2.7915190552298736 iter num 100\n",
            "loss 8.93153038555572e-05 average time 2.7891309807000653 iter num 20\n",
            "loss 8.892069526752198e-05 average time 2.788589911775034 iter num 40\n",
            "loss 8.866374453070968e-05 average time 2.790871462716738 iter num 60\n",
            "loss 8.854777795323291e-05 average time 2.7932241043251453 iter num 80\n",
            "loss 8.852348210879979e-05 average time 2.800275772850073 iter num 100\n",
            "loss 8.806521002422817e-05 average time 2.803686263650525 iter num 20\n",
            "loss 8.766555671035793e-05 average time 2.8049151058500685 iter num 40\n",
            "loss 8.740426441597295e-05 average time 2.807659191499988 iter num 60\n",
            "loss 8.728616433484576e-05 average time 2.807187792862578 iter num 80\n",
            "loss 8.72614226910571e-05 average time 2.8091080601100837 iter num 100\n",
            "loss 8.678332403522286e-05 average time 2.82679509469981 iter num 20\n",
            "loss 8.638897912343211e-05 average time 2.81543829259972 iter num 40\n",
            "loss 8.612241379147302e-05 average time 2.8122117118498258 iter num 60\n",
            "loss 8.599960168039313e-05 average time 2.8086192593123087 iter num 80\n",
            "loss 8.597479252735978e-05 average time 2.808502950689872 iter num 100\n",
            "loss 9.821131190289689e-05 average time 2.811788897350925 iter num 20\n",
            "loss 8.568132040625815e-05 average time 2.804843992975657 iter num 40\n",
            "loss 8.529820881861464e-05 average time 2.79811545490035 iter num 60\n",
            "loss 8.505662243786542e-05 average time 2.7962441655002293 iter num 80\n",
            "loss 8.502654638175079e-05 average time 2.7904793615701418 iter num 100\n",
            "loss 9.01512840611997e-05 average time 2.7727796054501597 iter num 20\n",
            "loss 8.8284215801115e-05 average time 2.7903918702002555 iter num 40\n",
            "loss 8.787092867888723e-05 average time 2.7921468079002807 iter num 60\n",
            "loss 8.656152852492765e-05 average time 2.799621556287684 iter num 80\n",
            "loss 8.667453398742232e-05 average time 2.799350436810237 iter num 100\n",
            "loss 8.640586211282733e-05 average time 2.7939624000997356 iter num 20\n",
            "loss 8.605541476525796e-05 average time 2.7885709864001003 iter num 40\n",
            "loss 8.580863789838922e-05 average time 2.7962472294667653 iter num 60\n",
            "loss 8.571815357944074e-05 average time 2.798211163912447 iter num 80\n",
            "loss 8.569572112970726e-05 average time 2.793023268029901 iter num 100\n",
            "loss 8.530781292612563e-05 average time 2.8015421350000906 iter num 20\n",
            "loss 8.497054135452106e-05 average time 2.795683059275234 iter num 40\n",
            "loss 8.475220571870633e-05 average time 2.8055786248666967 iter num 60\n",
            "loss 8.46529846968354e-05 average time 2.8021330188126283 iter num 80\n",
            "loss 8.463267816098806e-05 average time 2.801316288120033 iter num 100\n",
            "loss 8.424215215613742e-05 average time 2.7991472070496455 iter num 20\n",
            "loss 8.390138676409938e-05 average time 2.802270008749656 iter num 40\n",
            "loss 8.367759398273974e-05 average time 2.8017834721331383 iter num 60\n",
            "loss 8.357676896160674e-05 average time 2.805668364474877 iter num 80\n",
            "loss 8.35555931025962e-05 average time 2.8054893677699875 iter num 100\n",
            "loss 8.315631843684764e-05 average time 2.8232883512506306 iter num 20\n",
            "loss 8.280345688661689e-05 average time 2.8148483963248507 iter num 40\n",
            "loss 8.257342401519916e-05 average time 2.8056516250000643 iter num 60\n",
            "loss 8.246929935617854e-05 average time 2.8147448452750723 iter num 80\n",
            "loss 8.244739491641475e-05 average time 2.8121288583601562 iter num 100\n",
            "loss 8.203376332739407e-05 average time 2.788348653399953 iter num 20\n",
            "loss 8.167251589968399e-05 average time 2.7874593965249006 iter num 40\n",
            "loss 8.143593166041514e-05 average time 2.785434826266646 iter num 60\n",
            "loss 8.132887048318169e-05 average time 2.782092633837647 iter num 80\n",
            "loss 8.130622084005204e-05 average time 2.7842247648800185 iter num 100\n",
            "loss 8.083972357197521e-05 average time 2.780044736550008 iter num 20\n",
            "loss 8.05345221170317e-05 average time 2.773362692450064 iter num 40\n",
            "loss 8.026885140404842e-05 average time 2.768489353000162 iter num 60\n",
            "loss 8.015906125775338e-05 average time 2.7669254275876938 iter num 80\n",
            "loss 8.013739449110636e-05 average time 2.7730849112501166 iter num 100\n",
            "loss 9.591440398164022e-05 average time 2.7704058533499847 iter num 20\n",
            "loss 8.406577878802432e-05 average time 2.77129535465001 iter num 40\n",
            "loss 8.112254254140467e-05 average time 2.773140860316683 iter num 60\n",
            "loss 8.067035982314543e-05 average time 2.774654556512496 iter num 80\n",
            "loss 8.069120514707567e-05 average time 2.7758564695299355 iter num 100\n",
            "loss 8.05984623756354e-05 average time 2.804456522700093 iter num 20\n",
            "loss 8.013639730947748e-05 average time 2.7918205815250987 iter num 40\n",
            "loss 7.990238614121137e-05 average time 2.791598147766854 iter num 60\n",
            "loss 7.980207060056926e-05 average time 2.7847936970126286 iter num 80\n",
            "loss 7.97828222728094e-05 average time 2.780898242820149 iter num 100\n",
            "loss 7.940500677877936e-05 average time 2.808180499950322 iter num 20\n",
            "loss 7.907478773175878e-05 average time 2.8005139199501174 iter num 40\n",
            "loss 7.885813200302019e-05 average time 2.793018541816855 iter num 60\n",
            "loss 7.875989792993548e-05 average time 2.7880929146500875 iter num 80\n",
            "loss 7.873950882212161e-05 average time 2.7873573344399483 iter num 100\n",
            "loss 7.835206573479346e-05 average time 2.777714923100575 iter num 20\n",
            "loss 7.801344421130713e-05 average time 2.790343636225316 iter num 40\n",
            "loss 7.779175666566232e-05 average time 2.792443079583427 iter num 60\n",
            "loss 7.769100628485894e-05 average time 2.801200716662561 iter num 80\n",
            "loss 7.766997373889147e-05 average time 2.80099045773004 iter num 100\n",
            "loss 7.722645609893006e-05 average time 2.7765097671994226 iter num 20\n",
            "loss 7.695481675952714e-05 average time 2.7862498402247184 iter num 40\n",
            "loss 7.669625890716262e-05 average time 2.7844506779498865 iter num 60\n",
            "loss 7.659405953930508e-05 average time 2.7828059576374016 iter num 80\n",
            "loss 7.657434080673285e-05 average time 2.778318468419893 iter num 100\n",
            "loss 0.0001282116895699725 average time 2.770077466450857 iter num 20\n",
            "loss 8.137364929735073e-05 average time 2.77087217490016 iter num 40\n",
            "loss 7.841810544759934e-05 average time 2.784580529116708 iter num 60\n",
            "loss 7.743472247529663e-05 average time 2.7878248850374803 iter num 80\n",
            "loss 7.739800336789641e-05 average time 2.7823435678900568 iter num 100\n",
            "loss 7.721435714799963e-05 average time 2.767115527450187 iter num 20\n",
            "loss 7.688914843770275e-05 average time 2.768378080350067 iter num 40\n",
            "loss 7.666550175045531e-05 average time 2.763540649050083 iter num 60\n",
            "loss 7.657953447723545e-05 average time 2.7721786885501842 iter num 80\n",
            "loss 7.656168106609018e-05 average time 2.770520127120144 iter num 100\n",
            "loss 7.621662015885191e-05 average time 2.761935529800394 iter num 20\n",
            "loss 7.591050682317128e-05 average time 2.7673096290000103 iter num 40\n",
            "loss 7.571127707470603e-05 average time 2.765959993216529 iter num 60\n",
            "loss 7.562061983156034e-05 average time 2.7720590529872426 iter num 80\n",
            "loss 7.560227406149576e-05 average time 2.7699014980095673 iter num 100\n",
            "loss 7.524651081711619e-05 average time 2.769679066649405 iter num 20\n",
            "loss 7.493289671504229e-05 average time 2.7607690349750555 iter num 40\n",
            "loss 7.47273017893506e-05 average time 2.763732026066767 iter num 60\n",
            "loss 7.463414901593458e-05 average time 2.763199463262663 iter num 80\n",
            "loss 7.46150333268198e-05 average time 2.7654848272301025 iter num 100\n",
            "loss 7.425290970870628e-05 average time 2.747436720299811 iter num 20\n",
            "loss 7.392106075511535e-05 average time 2.7619294969503243 iter num 40\n",
            "loss 7.370977023574156e-05 average time 2.762691901816773 iter num 60\n",
            "loss 7.361354095669277e-05 average time 2.7639599011125937 iter num 80\n",
            "loss 7.359359965553085e-05 average time 2.766591540409863 iter num 100\n",
            "loss 8.097984248605683e-05 average time 2.7939173693514023 iter num 20\n",
            "loss 7.40906003226536e-05 average time 2.782396909700947 iter num 40\n",
            "loss 7.297479427760844e-05 average time 2.779501769917018 iter num 60\n",
            "loss 7.27803400141005e-05 average time 2.780513350138153 iter num 80\n",
            "loss 7.279842171858178e-05 average time 2.7763107808706993 iter num 100\n",
            "loss 8.192783350036836e-05 average time 2.7839593804004834 iter num 20\n",
            "loss 7.81703938796347e-05 average time 2.7795553449499493 iter num 40\n",
            "loss 7.432015766447352e-05 average time 2.776721056033421 iter num 60\n",
            "loss 7.357627231435096e-05 average time 2.7782906984126385 iter num 80\n",
            "loss 7.370274795640475e-05 average time 2.77942416942009 iter num 100\n",
            "loss 7.350445949961913e-05 average time 2.8289956318003533 iter num 20\n",
            "loss 7.321868130591232e-05 average time 2.8329059703499295 iter num 40\n",
            "loss 7.299528494892715e-05 average time 2.817032647149851 iter num 60\n",
            "loss 7.29085457237172e-05 average time 2.803809526274745 iter num 80\n",
            "loss 7.289083637282961e-05 average time 2.7997113710597477 iter num 100\n",
            "loss 7.256591626640877e-05 average time 2.770444958850567 iter num 20\n",
            "loss 7.228270605484169e-05 average time 2.7882916843502246 iter num 40\n",
            "loss 7.209609047722553e-05 average time 2.779451574300159 iter num 60\n",
            "loss 7.201126312017993e-05 average time 2.7810500218126437 iter num 80\n",
            "loss 7.199388196177773e-05 average time 2.778939118360213 iter num 100\n",
            "loss 7.166018667909398e-05 average time 2.7874971497985825 iter num 20\n",
            "loss 7.136532399083232e-05 average time 2.782998870899246 iter num 40\n",
            "loss 7.117217160782213e-05 average time 2.789643103382817 iter num 60\n",
            "loss 7.108437249552607e-05 average time 2.788707114349563 iter num 80\n",
            "loss 7.106635678091921e-05 average time 2.7923845007298222 iter num 100\n",
            "loss 7.07254803827485e-05 average time 2.78438603329887 iter num 20\n",
            "loss 7.041624004684716e-05 average time 2.7844401023747194 iter num 40\n",
            "loss 7.021678784934964e-05 average time 2.792729339849757 iter num 60\n",
            "loss 7.012665755999326e-05 average time 2.784358748474915 iter num 80\n",
            "loss 7.010797436786418e-05 average time 2.783765831040146 iter num 100\n"
          ]
        }
      ]
    },
    {
      "cell_type": "code",
      "metadata": {
        "id": "RQs-OZHGEwac"
      },
      "source": [
        "# 21:17\n",
        "# 5:01"
      ],
      "execution_count": null,
      "outputs": []
    },
    {
      "cell_type": "markdown",
      "metadata": {
        "id": "ONLZ1zpgV2Zv"
      },
      "source": [
        "#Results"
      ]
    },
    {
      "cell_type": "code",
      "metadata": {
        "id": "b3hhVHEVV06R",
        "colab": {
          "base_uri": "https://localhost:8080/"
        },
        "outputId": "38c314c5-7d6b-4033-c644-10f79a4f8a9a"
      },
      "source": [
        "import torch\n",
        "inputs = torch.tensor([[1, 1, 1, 0.25, 0.3, 0.3]]).cuda() # T, K, S, sigma, mu, r\n",
        "print('price: ' + str(model(inputs.float())))\n",
        "\n",
        "inputs.requires_grad = True\n",
        "x = model(inputs.float())\n",
        "x.backward()\n",
        "first_order_gradient = inputs.grad\n",
        "first_order_gradient[0][[2]]\n",
        "\n",
        "# price, delta\n",
        "# should be around (0.27130044, 0.90763223)"
      ],
      "execution_count": 8,
      "outputs": [
        {
          "output_type": "stream",
          "name": "stdout",
          "text": [
            "price: tensor([[0.1397]], device='cuda:0', grad_fn=<AddmmBackward0>)\n"
          ]
        },
        {
          "output_type": "execute_result",
          "data": {
            "text/plain": [
              "tensor([0.6531], device='cuda:0')"
            ]
          },
          "metadata": {},
          "execution_count": 8
        }
      ]
    },
    {
      "cell_type": "code",
      "metadata": {
        "id": "lovJwXo3-YEu",
        "colab": {
          "base_uri": "https://localhost:8080/",
          "height": 267
        },
        "outputId": "3a334678-8d88-4900-b601-1a4e95da4fb1"
      },
      "source": [
        "from scipy.stats import norm\n",
        "from math import log, sqrt, pi, exp\n",
        "import matplotlib.pyplot as plt\n",
        "import numpy as np\n",
        "\n",
        "def d1(S,K,T,r,sigma):\n",
        "    return(log(S/K)+(r+sigma**2/2.)*T)/(sigma*sqrt(T))\n",
        "def d2(S,K,T,r,sigma):\n",
        "    return d1(S,K,T,r,sigma)-sigma*sqrt(T)    \n",
        "def bs_call(S,K,T,r,sigma):\n",
        "    return S*norm.cdf(d1(S,K,T,r,sigma))-K*exp(-r*T)*norm.cdf(d2(S,K,T,r,sigma))\n",
        "\n",
        "def compute_price(S):\n",
        "    inputs = torch.tensor([[1, 1, S, 0.25, 0.3, 0.3]]).cuda()\n",
        "    return model(inputs.float())\n",
        "\n",
        "prices = np.arange(0.75, 1.25, 0.01)\n",
        "model_call_prices = []\n",
        "BS_call_prices = []\n",
        "for p in prices:\n",
        "    model_call_prices.append(compute_price(p).item())\n",
        "    BS_call_prices.append(bs_call(p, 1, 1, 0.3, 0.25))\n",
        "\n",
        "#plt.plot(prices, model_call_prices, label = \"model_call_prices\")\n",
        "#plt.plot(prices, BS_call_prices, label = \"BS_call_prices\")\n",
        "plt.plot(prices, np.array(model_call_prices)-np.array(BS_call_prices), label = \"Differences\")\n",
        "plt.legend()\n",
        "plt.show()"
      ],
      "execution_count": 10,
      "outputs": [
        {
          "output_type": "display_data",
          "data": {
            "image/png": "[encoded data removed]",
            "text/plain": [
              "<Figure size 432x288 with 1 Axes>"
            ]
          },
          "metadata": {
            "needs_background": "light"
          }
        }
      ]
    },
    {
      "cell_type": "markdown",
      "metadata": {
        "id": "9fVR9u56Uu3X"
      },
      "source": [
        "# Delta"
      ]
    },
    {
      "cell_type": "code",
      "metadata": {
        "id": "lwApH0GT9bBK",
        "colab": {
          "base_uri": "https://localhost:8080/",
          "height": 266
        },
        "outputId": "23b6de0d-40e2-4dc1-a2b5-0c5960d7ce05"
      },
      "source": [
        "##Using gradient, Change only 1 S0 at a time\n",
        "%matplotlib inline\n",
        "from torch.autograd import grad\n",
        "import pylab\n",
        "import numpy as np\n",
        "\n",
        "def compute_delta(S):\n",
        "    inputs = torch.tensor([[1, 1, S, 0.25, 0.3, 0.3]]).cuda()\n",
        "    inputs.requires_grad = True\n",
        "    x = model(inputs.float())\n",
        "    x.backward()\n",
        "    first_order_gradient = inputs.grad\n",
        "    return first_order_gradient[0][2]\n",
        "\n",
        "def bs_delta(S,K,T,r,sigma):\n",
        "  return norm.cdf(d1(S,K,T,r,sigma))\n",
        "\n",
        "prices = np.arange(0.75, 1.25, 0.01)\n",
        "model_call_deltas = []\n",
        "BS_call_deltas = []\n",
        "for p in prices:\n",
        "    model_call_deltas.append(compute_delta(p).item())\n",
        "    BS_call_deltas.append(bs_delta(p, 1, 1, 0.3, 0.25))\n",
        "\n",
        "plt.plot(prices, model_call_deltas, label = \"model_call_deltas\")\n",
        "plt.plot(prices, BS_call_deltas, label = \"BS_call_deltas\")\n",
        "#plt.plot(prices, np.array(model_call_deltas)-np.array(BS_call_deltas), label = \"Differences\")\n",
        "plt.legend()\n",
        "plt.show()"
      ],
      "execution_count": 11,
      "outputs": [
        {
          "output_type": "display_data",
          "data": {
            "image/png": "[encoded data removed]",
            "text/plain": [
              "<Figure size 432x288 with 1 Axes>"
            ]
          },
          "metadata": {
            "needs_background": "light"
          }
        }
      ]
    },
    {
      "cell_type": "code",
      "metadata": {
        "id": "sHgD1NjP7DOW",
        "colab": {
          "base_uri": "https://localhost:8080/",
          "height": 265
        },
        "outputId": "332c3d48-7960-4fb9-f4c2-19a8951b4598"
      },
      "source": [
        "##Using gradient, Change only 1 S0 at a time\n",
        "%matplotlib inline\n",
        "from torch.autograd import grad\n",
        "import pylab\n",
        "import numpy as np\n",
        "\n",
        "def compute_delta(S):\n",
        "    inputs = torch.tensor([[1, 0.75, S, 0.25, 0.3, 0.3]]).cuda()\n",
        "    inputs.requires_grad = True\n",
        "    x = model(inputs.float())\n",
        "    x.backward()\n",
        "    first_order_gradient = inputs.grad\n",
        "    return first_order_gradient[0][2]\n",
        "\n",
        "def bs_delta(S,K,T,r,sigma):\n",
        "  return norm.cdf(d1(S,K,T,r,sigma))\n",
        "\n",
        "prices = np.arange(0.75, 1.25, 0.01)\n",
        "model_call_deltas = []\n",
        "BS_call_deltas = []\n",
        "for p in prices:\n",
        "    model_call_deltas.append(compute_delta(p).item())\n",
        "    BS_call_deltas.append(bs_delta(p, 0.75, 1, 0.3, 0.25))\n",
        "\n",
        "plt.plot(prices, model_call_deltas, label = \"model_call_deltas\")\n",
        "plt.plot(prices, BS_call_deltas, label = \"BS_call_deltas\")\n",
        "#plt.plot(prices, np.array(model_call_deltas)-np.array(BS_call_deltas), label = \"Differences\")\n",
        "plt.legend()\n",
        "plt.show()"
      ],
      "execution_count": 12,
      "outputs": [
        {
          "output_type": "display_data",
          "data": {
            "image/png": "[encoded data removed]",
            "text/plain": [
              "<Figure size 432x288 with 1 Axes>"
            ]
          },
          "metadata": {
            "needs_background": "light"
          }
        }
      ]
    },
    {
      "cell_type": "code",
      "metadata": {
        "id": "m7MfujMQ7oij",
        "colab": {
          "base_uri": "https://localhost:8080/",
          "height": 265
        },
        "outputId": "cd07c82a-d678-42cb-c17c-7669082b7669"
      },
      "source": [
        "##Using gradient, Change only 1 S0 at a time\n",
        "%matplotlib inline\n",
        "from torch.autograd import grad\n",
        "import pylab\n",
        "import numpy as np\n",
        "\n",
        "def compute_delta(S):\n",
        "    inputs = torch.tensor([[1, 1.25, S, 0.25, 0.3, 0.3]]).cuda()\n",
        "    inputs.requires_grad = True\n",
        "    x = model(inputs.float())\n",
        "    x.backward()\n",
        "    first_order_gradient = inputs.grad\n",
        "    return first_order_gradient[0][2]\n",
        "\n",
        "def bs_delta(S,K,T,r,sigma):\n",
        "  return norm.cdf(d1(S,K,T,r,sigma))\n",
        "\n",
        "prices = np.arange(0.75, 1.25, 0.01)\n",
        "model_call_deltas = []\n",
        "BS_call_deltas = []\n",
        "for p in prices:\n",
        "    model_call_deltas.append(compute_delta(p).item())\n",
        "    BS_call_deltas.append(bs_delta(p, 1.25, 1, 0.3, 0.25))\n",
        "\n",
        "plt.plot(prices, model_call_deltas, label = \"model_call_deltas\")\n",
        "plt.plot(prices, BS_call_deltas, label = \"BS_call_deltas\")\n",
        "#plt.plot(prices, np.array(model_call_deltas)-np.array(BS_call_deltas), label = \"Differences\")\n",
        "plt.legend()\n",
        "plt.show()"
      ],
      "execution_count": 13,
      "outputs": [
        {
          "output_type": "display_data",
          "data": {
            "image/png": "[encoded data removed]",
            "text/plain": [
              "<Figure size 432x288 with 1 Axes>"
            ]
          },
          "metadata": {
            "needs_background": "light"
          }
        }
      ]
    }
  ]
}