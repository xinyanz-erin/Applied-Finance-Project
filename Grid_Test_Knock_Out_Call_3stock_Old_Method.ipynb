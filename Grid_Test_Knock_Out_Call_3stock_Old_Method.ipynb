{
  "nbformat": 4,
  "nbformat_minor": 0,
  "metadata": {
    "colab": {
      "name": "Grid Test_Knock Out Call 3stock_Old Method",
      "provenance": [],
      "collapsed_sections": [],
      "machine_shape": "hm",
      "include_colab_link": true
    },
    "kernelspec": {
      "name": "python3",
      "display_name": "Python 3"
    },
    "language_info": {
      "name": "python"
    },
    "accelerator": "GPU"
  },
  "cells": [
    {
      "cell_type": "markdown",
      "metadata": {
        "id": "view-in-github",
        "colab_type": "text"
      },
      "source": [
        "<a href=\"https://colab.research.google.com/github/xinyanz-erin/Applied-Finance-Project/blob/Erin/Grid_Test_Knock_Out_Call_3stock_Old_Method.ipynb\" target=\"_parent\"><img src=\"https://colab.research.google.com/assets/colab-badge.svg\" alt=\"Open In Colab\"/></a>"
      ]
    },
    {
      "cell_type": "code",
      "metadata": {
        "id": "tPlLTzwwNfwg"
      },
      "source": [
        "nstock = 3"
      ],
      "execution_count": 1,
      "outputs": []
    },
    {
      "cell_type": "code",
      "metadata": {
        "id": "IYigDkiy0HU9"
      },
      "source": [
        "# import cupy\n",
        "# import jax\n",
        "# import jax.numpy as jnp\n",
        "# from jax import random\n",
        "# from jax import jit\n",
        "# import numpy as np\n",
        "# from torch.utils.dlpack import from_dlpack\n",
        "\n",
        "# S_range = jnp.linspace(0.75, 1.25, 10)\n",
        "# K_range = jnp.linspace(0.75, 1.25, 8)\n",
        "# B_range = jnp.linspace(0.5, 1.0, 8) #in = (1.1, 1.6, 8)\n",
        "# sigma_range = jnp.linspace(0.15, 0.45, 4)\n",
        "# r_range = jnp.linspace(0.01, 0.04, 3)\n",
        "\n",
        "# print(S_range)\n",
        "# print(K_range)\n",
        "# print(B_range)\n",
        "# print(sigma_range)\n",
        "# print(r_range)"
      ],
      "execution_count": 2,
      "outputs": []
    },
    {
      "cell_type": "code",
      "metadata": {
        "id": "UIQxpJqK6OZr"
      },
      "source": [
        "# import cupy\n",
        "# import jax\n",
        "# import jax.numpy as jnp\n",
        "# from jax import random\n",
        "# from jax import jit\n",
        "# import numpy as np\n",
        "# import pandas as pd\n",
        "# from torch.utils.dlpack import from_dlpack\n",
        "\n",
        "# def Brownian_motion(key, initial_stocks, numsteps, drift, cov, T):\n",
        "#     stocks_init = jnp.zeros((numsteps + 1, initial_stocks.shape[0]))\n",
        "#     stocks_init = jax.ops.index_update(stocks_init,   # jax.ops.index_update(x, idx, y) <-> Pure equivalent of x[idx] = y\n",
        "#                             jax.ops.index[0],         # initialization of stock prices\n",
        "#                             initial_stocks)\n",
        "#     noise = jax.random.multivariate_normal(key,  jnp.array([0]*initial_stocks.shape[0]), cov, (numsteps+1,)) # noise must have mean 0\n",
        "#     sigma = jnp.diag(cov) ** 0.5\n",
        "#     dt = T / numsteps\n",
        "#     def time_step(t, val):\n",
        "#         dx = jnp.exp((drift - sigma ** 2. / 2.) * dt + jnp.sqrt(dt) * noise[t,:])\n",
        "#         val = jax.ops.index_update(val,\n",
        "#                             jax.ops.index[t],\n",
        "#                             val[t-1] * dx)\n",
        "#         return val\n",
        "#     return jax.lax.fori_loop(1, numsteps+1, time_step, stocks_init)[1:] # jax.lax.fori_loop(lower, upper, body_fun, init_val)\n",
        "\n",
        "# def optionvalueavg(key, initial_stocks, numsteps, drift, r, cov, K, B, T): # down-and-out call\n",
        "#     return jnp.mean(jnp.maximum((1 - jnp.any(jnp.mean(batch_simple(keys, initial_stocks, numsteps, drift, cov, T), axis=2) < B, axis=1).astype(int))* \n",
        "#                                 (jnp.mean(batch_simple(keys, initial_stocks, numsteps, drift, cov, T), axis=2))[:,-1]-K, 0) *\n",
        "#                     jnp.exp(-r[0] * T))\n",
        "\n",
        "# goptionvalueavg = jax.grad(optionvalueavg, argnums=1)\n",
        "\n",
        "# #################################################################### Adjust all parameters here (not inside class)\n",
        "# numstocks = nstock\n",
        "# numsteps = 50\n",
        "# numpaths = 2000000\n",
        "\n",
        "# rng = jax.random.PRNGKey(np.random.randint(10000))\n",
        "# rng, key = jax.random.split(rng)\n",
        "# keys = jax.random.split(key, numpaths)\n",
        "\n",
        "# S1_range = jnp.linspace(0.75, 1.25, 6)[2:4]\n",
        "# S2_range = jnp.linspace(0.75, 1.25, 6)\n",
        "# S3_range = jnp.linspace(0.75, 1.25, 6)\n",
        "# K_range = jnp.linspace(0.75, 1.25, 5)\n",
        "# B_range = jnp.linspace(0.5, 1.0, 6)\n",
        "# sigma_range = jnp.linspace(0.15, 0.45, 3)\n",
        "# r_range = jnp.linspace(0.01, 0.04, 3)\n",
        "# T = 1.0\n",
        "\n",
        "# fast_simple = jax.jit(Brownian_motion, static_argnums=2)\n",
        "# batch_simple = jax.vmap(fast_simple, in_axes=(0, None, None, None, None, None))\n",
        "# ####################################################################\n",
        "\n",
        "# call = []\n",
        "# count = 0\n",
        "\n",
        "# # for S1 in S_range:\n",
        "# #   for K in K_range:\n",
        "# #     for B in B_range:\n",
        "# #       for r in r_range:\n",
        "# #         for sigma in sigma_range:    \n",
        "\n",
        "# #           initial_stocks = jnp.array([S]*numstocks) # must be float\n",
        "# #           r_tmp = jnp.array([r]*numstocks)\n",
        "# #           drift = r_tmp\n",
        "# #           cov = jnp.identity(numstocks)*sigma*sigma\n",
        "\n",
        "# #           Knock_Out_Call_price = optionvalueavg(key, initial_stocks, numsteps, drift, r_tmp, cov, K, B, T)\n",
        "# #           Deltas = goptionvalueavg(keys, initial_stocks, numsteps, drift, r_tmp, cov, K, B, T)\n",
        "# #           # call.append([T, K, B, S, sigma, r, r, Knock_Out_Call_price] + list(Deltas)) #T, K, B, S, sigma, mu, r, price, delta\n",
        "# #           call.append([T, K, S1, sigma, r, r,\n",
        "# #                          T, K, S2, sigma, r, r,\n",
        "# #                          T, K, S3, sigma, r, r, Knock_Out_Call_price] + list(Deltas))\n",
        "          \n",
        "# #           count += 1\n",
        "# #           print(count)\n",
        "\n",
        "# for S1 in S1_range:\n",
        "#   for S2 in S2_range:\n",
        "#     for S3 in S3_range:\n",
        "#       for K in K_range:\n",
        "#         for B in B_range:\n",
        "#           for r in r_range:\n",
        "#             for sigma in sigma_range:\n",
        "              \n",
        "#               initial_stocks = jnp.array([S1, S2, S3]) # must be float\n",
        "#               r_tmp = jnp.array([r]*numstocks)\n",
        "#               drift = r_tmp\n",
        "#               cov = jnp.identity(numstocks)*sigma*sigma\n",
        "              \n",
        "#               Knock_Out_Call_price = optionvalueavg(key, initial_stocks, numsteps, drift, r_tmp, cov, K, B, T)\n",
        "#               Deltas = goptionvalueavg(keys, initial_stocks, numsteps, drift, r_tmp, cov, K, B, T)\n",
        "#               call.append([T, K, B, S1, sigma, r, r,\n",
        "#                           T, K, B, S2, sigma, r, r,\n",
        "#                           T, K, B, S3, sigma, r, r, Knock_Out_Call_price] + list(Deltas)) #T, K, S, sigma, mu, r, price, delta\n",
        "                          \n",
        "#               count += 1\n",
        "#               print(count)"
      ],
      "execution_count": 3,
      "outputs": []
    },
    {
      "cell_type": "code",
      "metadata": {
        "id": "e_OUtP8GUwj5"
      },
      "source": [
        "# Thedataset_3stock = pd.DataFrame(call)\n",
        "# Thedataset_3stock"
      ],
      "execution_count": 4,
      "outputs": []
    },
    {
      "cell_type": "code",
      "metadata": {
        "id": "7RsPX_tEBGFc",
        "colab": {
          "base_uri": "https://localhost:8080/"
        },
        "outputId": "62b754fe-d18e-4e72-d7d2-b620d9f40cda"
      },
      "source": [
        "from google.colab import drive\n",
        "drive.mount('/content/drive')"
      ],
      "execution_count": 5,
      "outputs": [
        {
          "output_type": "stream",
          "name": "stdout",
          "text": [
            "Drive already mounted at /content/drive; to attempt to forcibly remount, call drive.mount(\"/content/drive\", force_remount=True).\n"
          ]
        }
      ]
    },
    {
      "cell_type": "code",
      "metadata": {
        "id": "Gv_WjCRV2OZK"
      },
      "source": [
        "# #save to csv\n",
        "# Thedataset_3stock.to_csv(f'/content/drive/MyDrive/AFP/Save_Models/Knock_Out_Call_{str(nstock)}stock_Datset_part2.csv', index=False, header=False)"
      ],
      "execution_count": 6,
      "outputs": []
    },
    {
      "cell_type": "code",
      "metadata": {
        "id": "skGWSSsG8TGG"
      },
      "source": [
        "# read csv\n",
        "import pandas as pd\n",
        "\n",
        "Thedataset_3stock = pd.read_csv(f'/content/drive/MyDrive/AFP/Save_Models/Knock_Out_Call_{str(nstock)}stock_Datset_part2.csv', header=None)\n",
        "# Thedataset_3stock"
      ],
      "execution_count": 7,
      "outputs": []
    },
    {
      "cell_type": "markdown",
      "metadata": {
        "id": "or2YUJ9cfEiF"
      },
      "source": [
        "# Construct Neural Net"
      ]
    },
    {
      "cell_type": "code",
      "metadata": {
        "id": "b-i4HV-G44th",
        "colab": {
          "base_uri": "https://localhost:8080/"
        },
        "outputId": "5609c652-3c4c-4928-de42-fcf5d20799e4"
      },
      "source": [
        "import cupy\n",
        "import jax\n",
        "import jax.numpy as jnp\n",
        "from jax import random\n",
        "from jax import jit\n",
        "import numpy as np\n",
        "import pandas as pd\n",
        "from torch.utils.dlpack import from_dlpack\n",
        "import torch\n",
        "torch.set_printoptions(precision=6)\n",
        "\n",
        "# Thedataset_X = Thedataset_3stock.iloc[:,:7]\n",
        "# Thedataset_Y = Thedataset_3stock.iloc[:,7:]\n",
        "Thedataset_X = Thedataset_3stock.iloc[:,:7*nstock]\n",
        "Thedataset_Y = Thedataset_3stock.iloc[:,7*nstock:]\n",
        "\n",
        "class OptionDataSet(object):\n",
        "    \n",
        "    def __init__(self, max_len):\n",
        "        self.num = 0\n",
        "        self.max_length = max_len\n",
        "        self.X = cupy.array(Thedataset_X)\n",
        "        self.Y = cupy.array(Thedataset_Y)\n",
        "        \n",
        "    def __len__(self):\n",
        "        return self.max_length\n",
        "        \n",
        "    def __iter__(self):\n",
        "        self.num = 0\n",
        "        return self\n",
        "    \n",
        "    def __next__(self):\n",
        "        if self.num >= self.max_length:\n",
        "            raise StopIteration\n",
        "\n",
        "        self.num += 1\n",
        "        return (from_dlpack(self.X.toDlpack()), from_dlpack(self.Y.toDlpack()))\n",
        "\n",
        "# print\n",
        "ds = OptionDataSet(max_len = 1)\n",
        "for i in ds:\n",
        "    print(i[0])\n",
        "    print(i[0].shape)\n",
        "    print(i[1])\n",
        "    print(i[1].shape)"
      ],
      "execution_count": 8,
      "outputs": [
        {
          "output_type": "stream",
          "name": "stdout",
          "text": [
            "tensor([[1.000000, 0.750000, 0.500000,  ..., 0.150000, 0.010000, 0.010000],\n",
            "        [1.000000, 0.750000, 0.500000,  ..., 0.300000, 0.010000, 0.010000],\n",
            "        [1.000000, 0.750000, 0.500000,  ..., 0.450000, 0.010000, 0.010000],\n",
            "        ...,\n",
            "        [1.000000, 1.250000, 1.000000,  ..., 0.150000, 0.040000, 0.040000],\n",
            "        [1.000000, 1.250000, 1.000000,  ..., 0.300000, 0.040000, 0.040000],\n",
            "        [1.000000, 1.250000, 1.000000,  ..., 0.450000, 0.040000, 0.040000]],\n",
            "       device='cuda:0', dtype=torch.float64)\n",
            "torch.Size([19440, 21])\n",
            "tensor([[0.078892, 0.291162, 0.289874, 0.289884],\n",
            "        [0.099626, 0.247059, 0.243172, 0.243210],\n",
            "        [0.125490, 0.232048, 0.226150, 0.226236],\n",
            "        ...,\n",
            "        [0.033227, 0.148440, 0.150369, 0.150394],\n",
            "        [0.074446, 0.161058, 0.164708, 0.164757],\n",
            "        [0.110661, 0.153239, 0.158080, 0.158110]], device='cuda:0',\n",
            "       dtype=torch.float64)\n",
            "torch.Size([19440, 4])\n"
          ]
        }
      ]
    },
    {
      "cell_type": "code",
      "metadata": {
        "id": "rN6JO9OBHdvv",
        "colab": {
          "base_uri": "https://localhost:8080/"
        },
        "outputId": "01768089-8fba-4a85-ea2e-8fc301814f16"
      },
      "source": [
        "%%writefile model.py\n",
        "# version 1,2\n",
        "import torch.nn as nn\n",
        "import torch.nn.functional as F\n",
        "import torch\n",
        "import numpy as np\n",
        "\n",
        "class Net(nn.Module):\n",
        "\n",
        "    def __init__(self, hidden=1024, nstock = 1):\n",
        "        self.nstock = nstock\n",
        "        super(Net, self).__init__()\n",
        "        self.fc1 = nn.Linear(7*self.nstock, 64) # remember to change this!\n",
        "        self.fc2 = nn.Linear(64, 128)\n",
        "        self.fc3 = nn.Linear(128, 256)\n",
        "        self.fc4 = nn.Linear(256, 128)\n",
        "        self.fc5 = nn.Linear(128, 64)\n",
        "        self.fc6 = nn.Linear(64, nstock + 1) # outputs: prices, delta\n",
        "        self.register_buffer('norm',\n",
        "                             torch.tensor([1.0, 0.5, 0.5, 0.5, 0.3, 0.03, 0.03] * self.nstock)) # don't use numpy here - will give error later\n",
        "                                                                               # T, K, B, S, sigma, mu, r\n",
        "\n",
        "    def forward(self, x):\n",
        "        # normalize the parameter to range [0-1] \n",
        "        x = (x - torch.tensor([0.0, 0.75, 0.5, 0.75, 0.15, 0.01, 0.01] * self.nstock).cuda()) / self.norm\n",
        "        x = F.elu(self.fc1(x))\n",
        "        x = F.elu(self.fc2(x))\n",
        "        x = F.elu(self.fc3(x))\n",
        "        x = F.elu(self.fc4(x))\n",
        "        x = F.elu(self.fc5(x))\n",
        "        return self.fc6(x)"
      ],
      "execution_count": 9,
      "outputs": [
        {
          "output_type": "stream",
          "name": "stdout",
          "text": [
            "Overwriting model.py\n"
          ]
        }
      ]
    },
    {
      "cell_type": "markdown",
      "metadata": {
        "id": "owSrICMvyZX0"
      },
      "source": [
        "# Train Neural Net"
      ]
    },
    {
      "cell_type": "code",
      "metadata": {
        "id": "JlXD80xPNVc6",
        "colab": {
          "base_uri": "https://localhost:8080/"
        },
        "outputId": "38d60190-64c8-4b25-9eed-dc94ab310269"
      },
      "source": [
        "!pip install pytorch-ignite"
      ],
      "execution_count": 10,
      "outputs": [
        {
          "output_type": "stream",
          "name": "stdout",
          "text": [
            "Requirement already satisfied: pytorch-ignite in /usr/local/lib/python3.7/dist-packages (0.4.7)\n",
            "Requirement already satisfied: torch<2,>=1.3 in /usr/local/lib/python3.7/dist-packages (from pytorch-ignite) (1.10.0+cu111)\n",
            "Requirement already satisfied: typing-extensions in /usr/local/lib/python3.7/dist-packages (from torch<2,>=1.3->pytorch-ignite) (3.10.0.2)\n"
          ]
        }
      ]
    },
    {
      "cell_type": "code",
      "metadata": {
        "id": "EeLVZiiaDS4y",
        "colab": {
          "base_uri": "https://localhost:8080/"
        },
        "outputId": "d10e4ef8-5d88-42a1-cc6b-101b25df9ef0"
      },
      "source": [
        "from google.colab import drive\n",
        "drive.mount('/content/drive')"
      ],
      "execution_count": 11,
      "outputs": [
        {
          "output_type": "stream",
          "name": "stdout",
          "text": [
            "Drive already mounted at /content/drive; to attempt to forcibly remount, call drive.mount(\"/content/drive\", force_remount=True).\n"
          ]
        }
      ]
    },
    {
      "cell_type": "code",
      "metadata": {
        "id": "S3CyULkENYKb",
        "colab": {
          "base_uri": "https://localhost:8080/"
        },
        "outputId": "cf79f9d5-3bef-4451-e511-6ba50aa06d42"
      },
      "source": [
        "# version 2, 7\n",
        "# If memory is not enough, try changing parameters and restarting session\n",
        "# loss will converge\n",
        "\n",
        "from ignite.engine import Engine, Events\n",
        "from ignite.handlers import Timer\n",
        "from torch.nn import MSELoss\n",
        "from torch.optim import Adam\n",
        "from ignite.contrib.handlers.param_scheduler import CosineAnnealingScheduler\n",
        "from ignite.handlers import ModelCheckpoint\n",
        "from model import Net\n",
        "import numpy as np\n",
        "import torch\n",
        "from torch import Tensor\n",
        "from torch.autograd import grad\n",
        "timer = Timer(average=True)\n",
        "model = Net(nstock = nstock).cuda()\n",
        "loss_fn = MSELoss()\n",
        "optimizer = Adam(model.parameters(), lr=1e-3)\n",
        "dataset = OptionDataSet(max_len = 100) # Use max_len to adjust\n",
        "\n",
        "def train_update(engine, batch):\n",
        "    model.train()\n",
        "    optimizer.zero_grad()\n",
        "    x = batch[0]\n",
        "    # print(x)\n",
        "    # print(x.shape)\n",
        "    y = batch[1]\n",
        "    # print(y)\n",
        "    # print(y.shape)\n",
        "    y_pred = model(x.float())\n",
        "    # print(y_pred)\n",
        "    # print(y_pred.shape)\n",
        "\n",
        "    # def compute_deltas(x):\n",
        "    #   inputs = x.float()\n",
        "    #   inputs.requires_grad = True\n",
        "    #   first_order_gradient = grad(model(inputs), inputs, create_graph=False)\n",
        "    #   return first_order_gradient[0][[3]]  # Now index 3 is stock price, not 2\n",
        "\n",
        "    # deltas = torch.stack([compute_deltas(x) for x in torch.unbind(x)], dim=0)\n",
        "    # y_pred = torch.cat((y_pred, deltas), 1)\n",
        "    # # print(y_pred)\n",
        "    # # print(y_pred.shape)\n",
        "\n",
        "    loss_weight = torch.tensor([1] * (nstock+1)).cuda()\n",
        "    loss_weight_normalized = loss_weight/loss_weight.sum()\n",
        "    loss = ((y_pred - y) ** 2 * loss_weight_normalized).mean(axis=0).sum() # compute weighted MSE between the 2 arrays\n",
        "\n",
        "    loss.backward()\n",
        "    optimizer.step()\n",
        "    return loss.item()\n",
        "\n",
        "trainer = Engine(train_update)\n",
        "log_interval = 20\n",
        "\n",
        "scheduler = CosineAnnealingScheduler(optimizer, 'lr', 1e-4, 1e-6, len(dataset))\n",
        "trainer.add_event_handler(Events.ITERATION_STARTED, scheduler)\n",
        "timer.attach(trainer,\n",
        "             start=Events.EPOCH_STARTED,\n",
        "             resume=Events.ITERATION_STARTED,\n",
        "             pause=Events.ITERATION_COMPLETED,\n",
        "             step=Events.ITERATION_COMPLETED)    \n",
        "@trainer.on(Events.ITERATION_COMPLETED)\n",
        "def log_training_loss(engine):\n",
        "    iter = (engine.state.iteration - 1) % len(dataset) + 1\n",
        "    if iter % log_interval == 0:\n",
        "        print('loss', engine.state.output, 'average time', timer.value(), 'iter num', iter)\n",
        "        \n",
        "trainer.run(dataset, max_epochs = 100)\n",
        "\n",
        "model_save_name = f'jax_knock_out_{str(nstock)}stock_oldmethod_1.pth'\n",
        "path = F\"/content/drive/MyDrive/AFP/Save_Models/{model_save_name}\" \n",
        "torch.save(model.state_dict(), path)"
      ],
      "execution_count": 12,
      "outputs": [
        {
          "output_type": "stream",
          "name": "stderr",
          "text": [
            "/usr/local/lib/python3.7/dist-packages/ipykernel_launcher.py:9: DeprecationWarning: /usr/local/lib/python3.7/dist-packages/ignite/contrib/handlers/param_scheduler.py has been moved to /ignite/handlers/param_scheduler.py and will be removed in version 0.6.0.\n",
            " Please refer to the documentation for more details.\n",
            "  if __name__ == '__main__':\n"
          ]
        },
        {
          "output_type": "stream",
          "name": "stdout",
          "text": [
            "loss 0.014548562962114441 average time 0.005644451600016964 iter num 20\n",
            "loss 0.011934831921132753 average time 0.005451355450009032 iter num 40\n",
            "loss 0.010111924620971276 average time 0.005369295233335455 iter num 60\n",
            "loss 0.009283863881762125 average time 0.005309529250001788 iter num 80\n",
            "loss 0.009098138528639398 average time 0.005275611930001105 iter num 100\n",
            "loss 0.0055225424474802075 average time 0.005204568649980956 iter num 20\n",
            "loss 0.0035844543648675168 average time 0.005177072474984357 iter num 40\n",
            "loss 0.003230894603557459 average time 0.005156606966653499 iter num 60\n",
            "loss 0.0031560394392817197 average time 0.00515674918748914 iter num 80\n",
            "loss 0.0031439499782795347 average time 0.005148883109987992 iter num 100\n",
            "loss 0.0029982232616028383 average time 0.005302868000006811 iter num 20\n",
            "loss 0.0029370562654637816 average time 0.005209622249995505 iter num 40\n",
            "loss 0.002911349961961915 average time 0.005175441599993747 iter num 60\n",
            "loss 0.002901627371711111 average time 0.005190445224992857 iter num 80\n",
            "loss 0.002899666997599166 average time 0.005193075759995054 iter num 100\n",
            "loss 0.002864749527385131 average time 0.005148830699999963 iter num 20\n",
            "loss 0.002836591115981332 average time 0.005167058824997639 iter num 40\n",
            "loss 0.0028183069282154655 average time 0.005166531516664463 iter num 60\n",
            "loss 0.0028098873193658485 average time 0.005166819449999594 iter num 80\n",
            "loss 0.002808090541975676 average time 0.005175106739995954 iter num 100\n",
            "loss 0.0027733371055969486 average time 0.005120040500020196 iter num 20\n",
            "loss 0.0027416732143205774 average time 0.0051514733250115794 iter num 40\n",
            "loss 0.0027200850494257267 average time 0.005182209166671707 iter num 60\n",
            "loss 0.002710007820752934 average time 0.00517300011250228 iter num 80\n",
            "loss 0.0027078562233043904 average time 0.005171343219999471 iter num 100\n",
            "loss 0.0026660566499226756 average time 0.005145856399991544 iter num 20\n",
            "loss 0.0026273683486388475 average time 0.005169803600000478 iter num 40\n",
            "loss 0.0026007425397404802 average time 0.005163252799998948 iter num 60\n",
            "loss 0.0025882783504288616 average time 0.0051656155000003425 iter num 80\n",
            "loss 0.0025856207478972193 average time 0.005171233170000278 iter num 100\n",
            "loss 0.0025339689831659906 average time 0.005190016999995351 iter num 20\n",
            "loss 0.0024858195909139877 average time 0.005176030174996527 iter num 40\n",
            "loss 0.0024525428672463687 average time 0.0052085273833313295 iter num 60\n",
            "loss 0.0024369560443701045 average time 0.005224250287498932 iter num 80\n",
            "loss 0.0024336380956698363 average time 0.005206379199998992 iter num 100\n",
            "loss 0.0023692519668747757 average time 0.005180311050014552 iter num 20\n",
            "loss 0.002309200655107391 average time 0.0051545104750033485 iter num 40\n",
            "loss 0.0022677583218033673 average time 0.005133740266666109 iter num 60\n",
            "loss 0.0022483920497241615 average time 0.0051395894124993905 iter num 80\n",
            "loss 0.002244279104870188 average time 0.005138607489998321 iter num 100\n",
            "loss 0.0021647566448523862 average time 0.005197078150001744 iter num 20\n",
            "loss 0.0020910247510483354 average time 0.005146262475003027 iter num 40\n",
            "loss 0.0020405672870366645 average time 0.005134752366668257 iter num 60\n",
            "loss 0.00201717323874156 average time 0.0051274703499998965 iter num 80\n",
            "loss 0.0020122287818263715 average time 0.005136494660000608 iter num 100\n",
            "loss 0.0019177642451572525 average time 0.005228373550016841 iter num 20\n",
            "loss 0.0018328420198168568 average time 0.00521220677500196 iter num 40\n",
            "loss 0.0017768473168664966 average time 0.005205665233332487 iter num 60\n",
            "loss 0.001751609337804325 average time 0.00521185749999944 iter num 80\n",
            "loss 0.0017463472307065746 average time 0.005239362250000568 iter num 100\n",
            "loss 0.0016488736127225417 average time 0.005178567500013287 iter num 20\n",
            "loss 0.0015670651411133485 average time 0.005174414900005786 iter num 40\n",
            "loss 0.001516198367493042 average time 0.005190131566668772 iter num 60\n",
            "loss 0.0014940177635844047 average time 0.005205079700000681 iter num 80\n",
            "loss 0.0014894553047250668 average time 0.005207271240000182 iter num 100\n",
            "loss 0.0014069020133902032 average time 0.005109391950003328 iter num 20\n",
            "loss 0.0013401273170823061 average time 0.00509098632500411 iter num 40\n",
            "loss 0.001299459767502389 average time 0.005093719400006572 iter num 60\n",
            "loss 0.0012818891573821312 average time 0.005101070650003692 iter num 80\n",
            "loss 0.0012782865452503913 average time 0.005105014490002304 iter num 100\n",
            "loss 0.001213311408537521 average time 0.00520609034999211 iter num 20\n",
            "loss 0.0011609782416294738 average time 0.005159278300007486 iter num 40\n",
            "loss 0.0011291347496735563 average time 0.005174995433336941 iter num 60\n",
            "loss 0.001115334726686193 average time 0.005164869612505641 iter num 80\n",
            "loss 0.001112494850762653 average time 0.005170659220005973 iter num 100\n",
            "loss 0.001060921801475964 average time 0.005260097900008987 iter num 20\n",
            "loss 0.0010188754141267175 average time 0.005249338150002813 iter num 40\n",
            "loss 0.0009930438541689954 average time 0.005233076099998849 iter num 60\n",
            "loss 0.0009818110415492406 average time 0.00522607097499872 iter num 80\n",
            "loss 0.0009794975031006338 average time 0.0052110348199983034 iter num 100\n",
            "loss 0.0009394015754287412 average time 0.005373801749993845 iter num 20\n",
            "loss 0.000904856845649945 average time 0.005295741424998823 iter num 40\n",
            "loss 0.0008852919483889923 average time 0.005286374499996782 iter num 60\n",
            "loss 0.0008769708145978326 average time 0.005264048612497163 iter num 80\n",
            "loss 0.0008752728014200953 average time 0.005241711209997675 iter num 100\n",
            "loss 0.0008451569187768762 average time 0.005125617150008565 iter num 20\n",
            "loss 0.0008219797432179307 average time 0.005109362850009802 iter num 40\n",
            "loss 0.0008084268821856276 average time 0.005119419683338341 iter num 60\n",
            "loss 0.0008026662256067562 average time 0.005154077600001017 iter num 80\n",
            "loss 0.0008014874022997934 average time 0.00515075963000072 iter num 100\n",
            "loss 0.0007873701643378848 average time 0.005213764450002145 iter num 20\n",
            "loss 0.0007686447189824876 average time 0.005228915124999389 iter num 40\n",
            "loss 0.0007588158448377775 average time 0.005236575916668092 iter num 60\n",
            "loss 0.0007550201052485012 average time 0.0052158413000015 iter num 80\n",
            "loss 0.0007542255115212211 average time 0.005219487840005286 iter num 100\n",
            "loss 0.0007396068361392029 average time 0.005181354650005687 iter num 20\n",
            "loss 0.0007271776156575799 average time 0.005167643425005508 iter num 40\n",
            "loss 0.0007192074705494187 average time 0.005127803400002525 iter num 60\n",
            "loss 0.0007156296128097174 average time 0.005136572537502104 iter num 80\n",
            "loss 0.0007148805512198391 average time 0.005139601969999603 iter num 100\n",
            "loss 0.000700818670809892 average time 0.0051255332500090844 iter num 20\n",
            "loss 0.0006885496168899472 average time 0.005126806549998264 iter num 40\n",
            "loss 0.0006805143252358993 average time 0.005135438649991404 iter num 60\n",
            "loss 0.0006768653092481151 average time 0.005142411274991332 iter num 80\n",
            "loss 0.0006760978753711073 average time 0.005138995599992313 iter num 100\n",
            "loss 0.0006615648004811496 average time 0.005195828799992341 iter num 20\n",
            "loss 0.0006486680393076997 average time 0.005223848449995216 iter num 40\n",
            "loss 0.0006401148617259063 average time 0.005233543616664823 iter num 60\n",
            "loss 0.0006362052516372388 average time 0.005196931100002189 iter num 80\n",
            "loss 0.0006353810868986624 average time 0.0051935926800035755 iter num 100\n",
            "loss 0.0006197095293233903 average time 0.005180756199985126 iter num 20\n",
            "loss 0.0006057027526189052 average time 0.005149043749997873 iter num 40\n",
            "loss 0.0005963809860633682 average time 0.005128825866664025 iter num 60\n",
            "loss 0.0005921177215347731 average time 0.005131841562497641 iter num 80\n",
            "loss 0.0005912193719376671 average time 0.005132659480001394 iter num 100\n",
            "loss 0.0005759029815510487 average time 0.0052088791999892695 iter num 20\n",
            "loss 0.0005595479785309458 average time 0.005203746774989781 iter num 40\n",
            "loss 0.0005495176981155658 average time 0.0051898471833321 iter num 60\n",
            "loss 0.000545081847722405 average time 0.005189910187499436 iter num 80\n",
            "loss 0.0005441517243954959 average time 0.0051791557299998205 iter num 100\n",
            "loss 0.0005467105474606535 average time 0.0052080699500265835 iter num 20\n",
            "loss 0.0005170274972808325 average time 0.005195773925021285 iter num 40\n",
            "loss 0.000506883486945079 average time 0.005193480866680981 iter num 60\n",
            "loss 0.0005032134238601814 average time 0.005189826112504648 iter num 80\n",
            "loss 0.0005024407408219147 average time 0.005186412700003302 iter num 100\n",
            "loss 0.0004882812016471666 average time 0.005193465449985979 iter num 20\n",
            "loss 0.0004764063547262276 average time 0.005200878424989242 iter num 40\n",
            "loss 0.00046901738943140353 average time 0.005191513733332916 iter num 60\n",
            "loss 0.0004657896135089142 average time 0.0051824531374990105 iter num 80\n",
            "loss 0.00046512367535801735 average time 0.005163528079999651 iter num 100\n",
            "loss 0.00045302554714550953 average time 0.00524812345000214 iter num 20\n",
            "loss 0.00044325334801822736 average time 0.0051834460499947 iter num 40\n",
            "loss 0.00043733003532779634 average time 0.005178463783331229 iter num 60\n",
            "loss 0.0004347760655172328 average time 0.005162018012498493 iter num 80\n",
            "loss 0.00043425148429525437 average time 0.00515738270999691 iter num 100\n",
            "loss 0.0004247776686684695 average time 0.005215952200001084 iter num 20\n",
            "loss 0.0004171627356963725 average time 0.005205745750004098 iter num 40\n",
            "loss 0.00041252410859478187 average time 0.00518425528333637 iter num 60\n",
            "loss 0.0004105089772416372 average time 0.005183872162503178 iter num 80\n",
            "loss 0.00041009327983782267 average time 0.0051958711600025255 iter num 100\n",
            "loss 0.0004025050984672828 average time 0.005220196999982818 iter num 20\n",
            "loss 0.00039624244997641506 average time 0.005206344874997626 iter num 40\n",
            "loss 0.0003923272260210173 average time 0.005206148833334131 iter num 60\n",
            "loss 0.000390598187459224 average time 0.0051943278624975164 iter num 80\n",
            "loss 0.000390238973860118 average time 0.005200717539999004 iter num 100\n",
            "loss 0.00038359185429434053 average time 0.005186285800010637 iter num 20\n",
            "loss 0.000377956420249675 average time 0.0051844003250010925 iter num 40\n",
            "loss 0.00037436017666327175 average time 0.0051685610833298295 iter num 60\n",
            "loss 0.0003727542859549733 average time 0.005174125375002348 iter num 80\n",
            "loss 0.00037241918066103043 average time 0.005163243300000886 iter num 100\n",
            "loss 0.00036617005414518906 average time 0.005149663849999797 iter num 20\n",
            "loss 0.00036079410439806376 average time 0.005143353850002086 iter num 40\n",
            "loss 0.0003573262422331099 average time 0.00515552771666421 iter num 60\n",
            "loss 0.0003557686955085822 average time 0.005153005549991008 iter num 80\n",
            "loss 0.0003554429196394721 average time 0.005155541389992777 iter num 100\n",
            "loss 0.0003493416970910448 average time 0.00512365984999974 iter num 20\n",
            "loss 0.00034404952900447095 average time 0.005110203050003292 iter num 40\n",
            "loss 0.0003406149062656612 average time 0.0051189860500016945 iter num 60\n",
            "loss 0.00033906719567596087 average time 0.005150403699997241 iter num 80\n",
            "loss 0.00033874314146961886 average time 0.0051474876199972645 iter num 100\n",
            "loss 0.00037113400384073823 average time 0.005189792749990829 iter num 20\n",
            "loss 0.00032895749078108456 average time 0.005177852650001568 iter num 40\n",
            "loss 0.00032494791549069174 average time 0.005189732966664451 iter num 60\n",
            "loss 0.0003235691901664696 average time 0.005171328262501618 iter num 80\n",
            "loss 0.00032328407010804943 average time 0.005164821150001444 iter num 100\n",
            "loss 0.0003179235216771649 average time 0.005141683199991576 iter num 20\n",
            "loss 0.000313225297397557 average time 0.005167974424989552 iter num 40\n",
            "loss 0.000310164037093991 average time 0.0051485285833204365 iter num 60\n",
            "loss 0.00030878045324552036 average time 0.00515302524998873 iter num 80\n",
            "loss 0.00030849035679527927 average time 0.005151534449987593 iter num 100\n",
            "loss 0.0003030329139306081 average time 0.0052120172999934765 iter num 20\n",
            "loss 0.0002982594254103445 average time 0.0051604900499938825 iter num 40\n",
            "loss 0.00029514199781322664 average time 0.005178184183326569 iter num 60\n",
            "loss 0.00029373274084041446 average time 0.005173600837493098 iter num 80\n",
            "loss 0.00029343725533064363 average time 0.005174726609996014 iter num 100\n",
            "loss 0.0002878914087438971 average time 0.005191526500010468 iter num 20\n",
            "loss 0.0002830208763360772 average time 0.005196494575000088 iter num 40\n",
            "loss 0.00027985283636748685 average time 0.005170001266668578 iter num 60\n",
            "loss 0.00027842248141380277 average time 0.005174982212507473 iter num 80\n",
            "loss 0.00027812275322115006 average time 0.005169183460006934 iter num 100\n",
            "loss 0.00031855139960220775 average time 0.005180885800018587 iter num 20\n",
            "loss 0.00026870713532623934 average time 0.005184403825006711 iter num 40\n",
            "loss 0.00026603048634643914 average time 0.005190067100001746 iter num 60\n",
            "loss 0.0002646002876711303 average time 0.005187569687501536 iter num 80\n",
            "loss 0.0002643420878684296 average time 0.005182707080001592 iter num 100\n",
            "loss 0.0002596226147345539 average time 0.005201173550011618 iter num 20\n",
            "loss 0.00025548351965378477 average time 0.005189320525002472 iter num 40\n",
            "loss 0.00025279013629484566 average time 0.005178132800004202 iter num 60\n",
            "loss 0.00025157326444893817 average time 0.005175694325002667 iter num 80\n",
            "loss 0.00025131818740178717 average time 0.005175973509999494 iter num 100\n",
            "loss 0.0002465224313138992 average time 0.005291737700014209 iter num 20\n",
            "loss 0.00024233310622847644 average time 0.005231090875014388 iter num 40\n",
            "loss 0.00023960054972861216 average time 0.005224145966676966 iter num 60\n",
            "loss 0.00023836604349829497 average time 0.005202238537512472 iter num 80\n",
            "loss 0.00023810726768608225 average time 0.005183153650010581 iter num 100\n",
            "loss 0.0002332402833013223 average time 0.0051005861000135155 iter num 20\n",
            "loss 0.00022898385521821307 average time 0.005111207024998521 iter num 40\n",
            "loss 0.00022620354530945253 average time 0.005119843466667362 iter num 60\n",
            "loss 0.00022494616641804957 average time 0.005145168374998832 iter num 80\n",
            "loss 0.00022468245782585617 average time 0.005141354049995926 iter num 100\n",
            "loss 0.0002199927082245342 average time 0.005174591049996025 iter num 20\n",
            "loss 0.00021538941447980589 average time 0.005192073150004717 iter num 40\n",
            "loss 0.00021252459607815975 average time 0.005193268800007899 iter num 60\n",
            "loss 0.00021123370234235578 average time 0.005193960662505504 iter num 80\n",
            "loss 0.0002109628997359235 average time 0.005186062860003631 iter num 100\n",
            "loss 0.00021875657548639784 average time 0.0051176882000049774 iter num 20\n",
            "loss 0.0002100326174006147 average time 0.005135560125012262 iter num 40\n",
            "loss 0.00020167552080951114 average time 0.005143583183337341 iter num 60\n",
            "loss 0.00020032048941400762 average time 0.005145847075003473 iter num 80\n",
            "loss 0.00020011426054658576 average time 0.005140851320005595 iter num 100\n",
            "loss 0.0001964244877376092 average time 0.005162238849987943 iter num 20\n",
            "loss 0.00019311598562179766 average time 0.005173271625000098 iter num 40\n",
            "loss 0.00019095842263811368 average time 0.0051559632499997106 iter num 60\n",
            "loss 0.00018998019993154898 average time 0.005173946437498955 iter num 80\n",
            "loss 0.00018977466033849225 average time 0.005182456339999817 iter num 100\n",
            "loss 0.00018589034803972516 average time 0.005169999650019008 iter num 20\n",
            "loss 0.0001824582675063047 average time 0.005196679575007579 iter num 40\n",
            "loss 0.00018019571609800464 average time 0.00522511441667651 iter num 60\n",
            "loss 0.00017916654662378505 average time 0.005222879025005511 iter num 80\n",
            "loss 0.00017895017405700537 average time 0.005214089450004167 iter num 100\n",
            "loss 0.00017485610969737248 average time 0.00521626519999927 iter num 20\n",
            "loss 0.0001712309475172904 average time 0.005203017499994189 iter num 40\n",
            "loss 0.00016883795855935507 average time 0.005191148299996939 iter num 60\n",
            "loss 0.00016774899729796286 average time 0.00516885384999739 iter num 80\n",
            "loss 0.00016752000738302737 average time 0.0051696982999976625 iter num 100\n",
            "loss 0.00016318744430484673 average time 0.005113083350005354 iter num 20\n",
            "loss 0.00015935185443121357 average time 0.005185221750005553 iter num 40\n",
            "loss 0.0001568214518072391 average time 0.0052017120666732804 iter num 60\n",
            "loss 0.0001556705993141234 average time 0.005210541850003381 iter num 80\n",
            "loss 0.00015542865294964036 average time 0.0052040077400045 iter num 100\n",
            "loss 0.00015085518085961809 average time 0.005200657199998205 iter num 20\n",
            "loss 0.00014681646726825092 average time 0.005175210899994909 iter num 40\n",
            "loss 0.00014415983529441403 average time 0.005166095049992237 iter num 60\n",
            "loss 0.0001429540582995418 average time 0.005155128999997771 iter num 80\n",
            "loss 0.00014270087658464973 average time 0.005170282659997838 iter num 100\n",
            "loss 0.00013792429383628464 average time 0.005155654199990067 iter num 20\n",
            "loss 0.00013372727316424672 average time 0.005152709600000094 iter num 40\n",
            "loss 0.00013098135076272023 average time 0.005169550266659447 iter num 60\n",
            "loss 0.0001297400073654787 average time 0.005187771774996008 iter num 80\n",
            "loss 0.0001294798312417537 average time 0.005190514139999322 iter num 100\n",
            "loss 0.00012524332664946072 average time 0.005141011649988059 iter num 20\n",
            "loss 0.00012038537527024005 average time 0.0051671453249980456 iter num 40\n",
            "loss 0.00011762657061260948 average time 0.0051692462499943305 iter num 60\n",
            "loss 0.00011639566627757777 average time 0.005163286512497223 iter num 80\n",
            "loss 0.00011613840011598066 average time 0.005160628849996556 iter num 100\n",
            "loss 0.00018672752392900267 average time 0.0051878100000067205 iter num 20\n",
            "loss 0.00011461590209684377 average time 0.005158488075008449 iter num 40\n",
            "loss 0.00010971878298872125 average time 0.005147648033336812 iter num 60\n",
            "loss 0.00010817265587072708 average time 0.005146529637505637 iter num 80\n",
            "loss 0.00010799469274276426 average time 0.005145945710000888 iter num 100\n",
            "loss 0.00010502303973051688 average time 0.0051450881499931714 iter num 20\n",
            "loss 0.00010246781194979186 average time 0.005137533274998418 iter num 40\n",
            "loss 0.00010083169670234618 average time 0.005155153333331933 iter num 60\n",
            "loss 0.00010009783273562842 average time 0.005148744162495689 iter num 80\n",
            "loss 9.994450719939149e-05 average time 0.005158149089993458 iter num 100\n",
            "loss 9.70792146059654e-05 average time 0.005184709249994058 iter num 20\n",
            "loss 9.460946681386778e-05 average time 0.005193120799992812 iter num 40\n",
            "loss 9.301880085611601e-05 average time 0.00514958733331999 iter num 60\n",
            "loss 9.230617334982659e-05 average time 0.005150483587493681 iter num 80\n",
            "loss 9.21573445365828e-05 average time 0.005139471939996838 iter num 100\n",
            "loss 8.93808259659042e-05 average time 0.005167263700008107 iter num 20\n",
            "loss 8.699529396401156e-05 average time 0.005158692400004839 iter num 40\n",
            "loss 8.54630454342151e-05 average time 0.00517951814999833 iter num 60\n",
            "loss 8.477785993211285e-05 average time 0.0051759583500000875 iter num 80\n",
            "loss 8.463488628678142e-05 average time 0.005178102249999483 iter num 100\n",
            "loss 8.197155047872355e-05 average time 0.00511856920001037 iter num 20\n",
            "loss 7.969137927667355e-05 average time 0.005141820775000383 iter num 40\n",
            "loss 7.823176137857304e-05 average time 0.005141196683333267 iter num 60\n",
            "loss 7.758041715252697e-05 average time 0.005135149625000679 iter num 80\n",
            "loss 7.744463160315376e-05 average time 0.005144549639999241 iter num 100\n",
            "loss 7.492007603394701e-05 average time 0.005201597249987344 iter num 20\n",
            "loss 7.276729301704387e-05 average time 0.0051796971249927996 iter num 40\n",
            "loss 7.139392739777254e-05 average time 0.005187980633326106 iter num 60\n",
            "loss 7.078245017358236e-05 average time 0.0051908304374947535 iter num 80\n",
            "loss 7.065508904245968e-05 average time 0.0051900406499953535 iter num 100\n",
            "loss 6.829218671356855e-05 average time 0.005247735550005928 iter num 20\n",
            "loss 6.628646681567688e-05 average time 0.00519840390000752 iter num 40\n",
            "loss 6.501252551561451e-05 average time 0.005186076366679042 iter num 60\n",
            "loss 6.444687316526862e-05 average time 0.005194118850010909 iter num 80\n",
            "loss 6.432922625957054e-05 average time 0.005196470620004448 iter num 100\n",
            "loss 6.215182058832717e-05 average time 0.005202519850001863 iter num 20\n",
            "loss 6.031318816350803e-05 average time 0.005142453199999864 iter num 40\n",
            "loss 5.9150424964002425e-05 average time 0.005160995300002469 iter num 60\n",
            "loss 5.863553297429307e-05 average time 0.005177566075005302 iter num 80\n",
            "loss 5.85285500099716e-05 average time 0.005185045710005625 iter num 100\n",
            "loss 5.65705548906824e-05 average time 0.005118435649995945 iter num 20\n",
            "loss 5.4891594315376826e-05 average time 0.005126543200006495 iter num 40\n",
            "loss 5.38447976170671e-05 average time 0.005117032300002696 iter num 60\n",
            "loss 5.3382277257031195e-05 average time 0.005125030187502944 iter num 80\n",
            "loss 5.328628499696279e-05 average time 0.005126599249998662 iter num 100\n",
            "loss 8.244551602088545e-05 average time 0.005079688199992915 iter num 20\n",
            "loss 5.771122611061196e-05 average time 0.005121681100001751 iter num 40\n",
            "loss 5.103465906613978e-05 average time 0.005123460766664797 iter num 60\n",
            "loss 5.003812140606834e-05 average time 0.005144838899995818 iter num 80\n",
            "loss 4.9967726020274964e-05 average time 0.00516478900999914 iter num 100\n",
            "loss 4.8774813538183716e-05 average time 0.0052403793499991025 iter num 20\n",
            "loss 4.777394388568375e-05 average time 0.005216041850002284 iter num 40\n",
            "loss 4.7138359057558e-05 average time 0.005214802383335382 iter num 60\n",
            "loss 4.6857349547556145e-05 average time 0.00520924628750663 iter num 80\n",
            "loss 4.679886373476581e-05 average time 0.005194461090004552 iter num 100\n",
            "loss 4.571633118078812e-05 average time 0.0051332955999839665 iter num 20\n",
            "loss 4.480040494423203e-05 average time 0.00513523332499517 iter num 40\n",
            "loss 4.421968013320119e-05 average time 0.005151706899994224 iter num 60\n",
            "loss 4.396198542737171e-05 average time 0.005143286549999004 iter num 80\n",
            "loss 4.3908387014580594e-05 average time 0.005156422239998619 iter num 100\n",
            "loss 4.2916163216755114e-05 average time 0.005101535649993138 iter num 20\n",
            "loss 4.207732300316734e-05 average time 0.005120106824992377 iter num 40\n",
            "loss 4.1545909454908825e-05 average time 0.005141930633330579 iter num 60\n",
            "loss 4.131021187692247e-05 average time 0.005130722937497012 iter num 80\n",
            "loss 4.1261213912627354e-05 average time 0.005129136449993439 iter num 100\n",
            "loss 4.0354303986418814e-05 average time 0.00520402590001936 iter num 20\n",
            "loss 3.9588416583032055e-05 average time 0.005176135350012601 iter num 40\n",
            "loss 3.9103662984347666e-05 average time 0.00522241218333761 iter num 60\n",
            "loss 3.888875988238432e-05 average time 0.005204552850003097 iter num 80\n",
            "loss 3.884408567917743e-05 average time 0.005218966030000729 iter num 100\n",
            "loss 3.801771053366183e-05 average time 0.005157133150004256 iter num 20\n",
            "loss 3.7320254970785935e-05 average time 0.005158629774993528 iter num 40\n",
            "loss 3.687894547007193e-05 average time 0.00516462053332513 iter num 60\n",
            "loss 3.668334156515931e-05 average time 0.005159716974992535 iter num 80\n",
            "loss 3.664267248802193e-05 average time 0.00514799461999246 iter num 100\n",
            "loss 3.589052412933243e-05 average time 0.005170109950006463 iter num 20\n",
            "loss 3.525568477461314e-05 average time 0.005184254425009272 iter num 40\n",
            "loss 3.4853923624356095e-05 average time 0.005173914333335005 iter num 60\n",
            "loss 3.4675831072008855e-05 average time 0.005182518025006288 iter num 80\n",
            "loss 3.463880217043676e-05 average time 0.005177949740005943 iter num 100\n",
            "loss 3.4798711263470045e-05 average time 0.005182907649992785 iter num 20\n",
            "loss 3.3403179659901334e-05 average time 0.005181256899999198 iter num 40\n",
            "loss 3.301950662636448e-05 average time 0.005160442783327805 iter num 60\n",
            "loss 3.2858417138428755e-05 average time 0.005150263899997754 iter num 80\n",
            "loss 3.282486579074504e-05 average time 0.005166063850000455 iter num 100\n",
            "loss 3.373859618566245e-05 average time 0.0052156403999902064 iter num 20\n",
            "loss 3.308726994789314e-05 average time 0.005155199824989154 iter num 40\n",
            "loss 3.2862770233454164e-05 average time 0.005181497449994291 iter num 60\n",
            "loss 3.207992406412e-05 average time 0.005178103049992444 iter num 80\n",
            "loss 3.2013273412895196e-05 average time 0.005193605999993451 iter num 100\n",
            "loss 3.157009172983916e-05 average time 0.005240292250005041 iter num 20\n",
            "loss 3.121201396901484e-05 average time 0.005229729525009929 iter num 40\n",
            "loss 3.098822397232219e-05 average time 0.005224590833339941 iter num 60\n",
            "loss 3.088908173143665e-05 average time 0.005233451537502276 iter num 80\n",
            "loss 3.086847507732889e-05 average time 0.005216944320002312 iter num 100\n",
            "loss 3.0486058215325497e-05 average time 0.005216278549994513 iter num 20\n",
            "loss 3.0160847319865753e-05 average time 0.005188052574993662 iter num 40\n",
            "loss 2.9953260969359068e-05 average time 0.005187053833327582 iter num 60\n",
            "loss 2.9860652480065656e-05 average time 0.005168296624995605 iter num 80\n",
            "loss 2.984135016374577e-05 average time 0.005160147570001073 iter num 100\n",
            "loss 2.9481988003576038e-05 average time 0.0051445671000010405 iter num 20\n",
            "loss 2.9174628087077216e-05 average time 0.005149754099997494 iter num 40\n",
            "loss 2.897773835888556e-05 average time 0.005153988416672443 iter num 60\n",
            "loss 2.888975939429052e-05 average time 0.005157370987508614 iter num 80\n",
            "loss 2.887140473633317e-05 average time 0.005150371290006887 iter num 100\n",
            "loss 2.8529418514881914e-05 average time 0.005241364749997502 iter num 20\n",
            "loss 2.8236378797240708e-05 average time 0.005187053674993081 iter num 40\n",
            "loss 2.804839944502571e-05 average time 0.0051897313333294426 iter num 60\n",
            "loss 2.7964352953872406e-05 average time 0.005170806212497325 iter num 80\n",
            "loss 2.794680185208702e-05 average time 0.005179658810003502 iter num 100\n",
            "loss 2.761978376570395e-05 average time 0.005174936849999767 iter num 20\n",
            "loss 2.7339243917546026e-05 average time 0.005171147524993103 iter num 40\n",
            "loss 2.7159107649230955e-05 average time 0.00514529623332957 iter num 60\n",
            "loss 2.7078515027435583e-05 average time 0.005149519924994195 iter num 80\n",
            "loss 2.70616800169274e-05 average time 0.005145403099995747 iter num 100\n",
            "loss 2.6747916368557028e-05 average time 0.005229982800011612 iter num 20\n",
            "loss 2.6478504295245265e-05 average time 0.005154881425005442 iter num 40\n",
            "loss 2.6305374326238097e-05 average time 0.00514622635000137 iter num 60\n",
            "loss 2.6227880032080592e-05 average time 0.00516356267500413 iter num 80\n",
            "loss 2.621169973037428e-05 average time 0.005161788850000448 iter num 100\n",
            "loss 2.590982303031895e-05 average time 0.005112093100001403 iter num 20\n",
            "loss 2.5650411904029423e-05 average time 0.005124317350001207 iter num 40\n",
            "loss 2.548360694970247e-05 average time 0.005103651099996872 iter num 60\n",
            "loss 2.540891205223862e-05 average time 0.005094125200001543 iter num 80\n",
            "loss 2.539331579838811e-05 average time 0.005111635720004415 iter num 100\n",
            "loss 2.5102204636587753e-05 average time 0.005135073499985765 iter num 20\n",
            "loss 2.4851841861195928e-05 average time 0.005124425249991305 iter num 40\n",
            "loss 2.4690773874854053e-05 average time 0.005146007566662547 iter num 60\n",
            "loss 2.4618604812536818e-05 average time 0.00514530800000017 iter num 80\n",
            "loss 2.4603537142557184e-05 average time 0.0051583573099992465 iter num 100\n",
            "loss 2.432216453546172e-05 average time 0.00513531445000126 iter num 20\n",
            "loss 2.40800354831441e-05 average time 0.005137065374995586 iter num 40\n",
            "loss 2.392417200931846e-05 average time 0.005157439099993629 iter num 60\n",
            "loss 2.385432887606591e-05 average time 0.005178813699991736 iter num 80\n",
            "loss 2.3839738091917216e-05 average time 0.005183330219994104 iter num 100\n",
            "loss 2.3567732010952e-05 average time 0.005260760499982098 iter num 20\n",
            "loss 2.333276570600001e-05 average time 0.005232267674986702 iter num 40\n",
            "loss 2.3181707828178574e-05 average time 0.005219723716652425 iter num 60\n",
            "loss 2.3114017975009765e-05 average time 0.005198074149987519 iter num 80\n",
            "loss 2.309987271610932e-05 average time 0.005200135099989893 iter num 100\n",
            "loss 5.316958311133744e-05 average time 0.005109614599990664 iter num 20\n",
            "loss 2.412338543836143e-05 average time 0.00514606539998681 iter num 40\n",
            "loss 2.2732632503657866e-05 average time 0.005159576333327701 iter num 60\n",
            "loss 2.2465982965217224e-05 average time 0.005170129249998467 iter num 80\n",
            "loss 2.245024483782815e-05 average time 0.005187455410000439 iter num 100\n",
            "loss 2.243028496885233e-05 average time 0.005201829400010638 iter num 20\n",
            "loss 2.2018862210930523e-05 average time 0.00517740842500416 iter num 40\n",
            "loss 2.18863123485727e-05 average time 0.005171625800003691 iter num 60\n",
            "loss 2.182792346049274e-05 average time 0.005166895575000297 iter num 80\n",
            "loss 2.1815766316244876e-05 average time 0.0051739549700027965 iter num 100\n",
            "loss 2.1997370231129188e-05 average time 0.0052486043499925476 iter num 20\n",
            "loss 2.1658948305898907e-05 average time 0.0052576001249946104 iter num 40\n",
            "loss 2.132163648860131e-05 average time 0.005299533049994428 iter num 60\n",
            "loss 2.1269768189336716e-05 average time 0.005287429449991521 iter num 80\n",
            "loss 2.1255608067474084e-05 average time 0.005272321639992015 iter num 100\n",
            "loss 2.1079403573772663e-05 average time 0.005175817249977399 iter num 20\n",
            "loss 2.0872840878543586e-05 average time 0.005133001799978843 iter num 40\n",
            "loss 2.075765234050321e-05 average time 0.005134138566650866 iter num 60\n",
            "loss 2.070589871629478e-05 average time 0.005142917137484914 iter num 80\n",
            "loss 2.0695137162206287e-05 average time 0.005140310609987182 iter num 100\n",
            "loss 2.226281202159471e-05 average time 0.005186496599986867 iter num 20\n",
            "loss 2.0400594427297645e-05 average time 0.005142010399993069 iter num 40\n",
            "loss 2.0212468812087938e-05 average time 0.005134935799994385 iter num 60\n",
            "loss 2.016141809431092e-05 average time 0.005166232174995855 iter num 80\n",
            "loss 2.0150818554600117e-05 average time 0.005170943079996278 iter num 100\n",
            "loss 2.8665157647158075e-05 average time 0.005283026350002729 iter num 20\n",
            "loss 2.301770792982375e-05 average time 0.005263404374989023 iter num 40\n",
            "loss 2.022002680963841e-05 average time 0.005253949166660732 iter num 60\n",
            "loss 1.9801776717721267e-05 average time 0.005244673674995681 iter num 80\n",
            "loss 1.978837855938781e-05 average time 0.005227108349995433 iter num 100\n",
            "loss 1.9617477851377207e-05 average time 0.0051470445000006745 iter num 20\n",
            "loss 1.9476918576617556e-05 average time 0.005131333949998406 iter num 40\n",
            "loss 1.9387620300068616e-05 average time 0.005142766783336583 iter num 60\n",
            "loss 1.9347672442582678e-05 average time 0.005141167300001826 iter num 80\n",
            "loss 1.933932799486779e-05 average time 0.005140451979995078 iter num 100\n",
            "loss 1.918341090692155e-05 average time 0.005191732100007585 iter num 20\n",
            "loss 1.904866551829127e-05 average time 0.005197998749997624 iter num 40\n",
            "loss 1.8961470402228092e-05 average time 0.005168848133337178 iter num 60\n",
            "loss 1.89222644411395e-05 average time 0.005149859787498201 iter num 80\n",
            "loss 1.891405875068198e-05 average time 0.005148260809999101 iter num 100\n",
            "loss 1.8760356035215514e-05 average time 0.005104784149995112 iter num 20\n",
            "loss 1.862707057549049e-05 average time 0.005124631399996815 iter num 40\n",
            "loss 1.8540685087607705e-05 average time 0.005119181600002775 iter num 60\n",
            "loss 1.850181307383942e-05 average time 0.0051385951250054514 iter num 80\n",
            "loss 1.8493682813036416e-05 average time 0.005140087110004288 iter num 100\n",
            "loss 1.8341164870913108e-05 average time 0.005156187749992114 iter num 20\n",
            "loss 1.82088313641122e-05 average time 0.005143803549998438 iter num 40\n",
            "loss 1.8123010865518143e-05 average time 0.005148609283332916 iter num 60\n",
            "loss 1.8084389810288254e-05 average time 0.005141900062498905 iter num 80\n",
            "loss 1.807630021413135e-05 average time 0.005154919839999366 iter num 100\n",
            "loss 1.7924719428453287e-05 average time 0.00511732190000771 iter num 20\n",
            "loss 1.7793151025393265e-05 average time 0.005193897600008768 iter num 40\n",
            "loss 1.770780422530495e-05 average time 0.005199899700001728 iter num 60\n",
            "loss 1.7669387423162273e-05 average time 0.0051996209750043935 iter num 80\n",
            "loss 1.7661349024770815e-05 average time 0.0051905641800044575 iter num 100\n",
            "loss 1.7523765247808465e-05 average time 0.005291090850022329 iter num 20\n",
            "loss 1.7379766859943274e-05 average time 0.005251940375012509 iter num 40\n",
            "loss 1.7294834078957452e-05 average time 0.005220421566669605 iter num 60\n",
            "loss 1.7256606486866796e-05 average time 0.005216560112502577 iter num 80\n",
            "loss 1.7248602516038596e-05 average time 0.00521367439000187 iter num 100\n",
            "loss 2.1108255260413713e-05 average time 0.005183318450008301 iter num 20\n",
            "loss 1.7394506257180376e-05 average time 0.005198418225012347 iter num 40\n",
            "loss 1.6928272566599612e-05 average time 0.005204441166677043 iter num 60\n",
            "loss 1.6875415420259322e-05 average time 0.0052039608750121145 iter num 80\n",
            "loss 1.6865715782914567e-05 average time 0.005204213390007908 iter num 100\n",
            "loss 0.00011153521063943285 average time 0.005214595199981886 iter num 20\n",
            "loss 2.4347891977737327e-05 average time 0.005176397249988441 iter num 40\n",
            "loss 1.7047031588922072e-05 average time 0.005161300199987787 iter num 60\n",
            "loss 1.6874050190397118e-05 average time 0.005153634912491612 iter num 80\n",
            "loss 1.683311754190217e-05 average time 0.0051681939499917465 iter num 100\n",
            "loss 1.6710980643541513e-05 average time 0.005236909099977538 iter num 20\n",
            "loss 1.657284896803278e-05 average time 0.005217078224987404 iter num 40\n",
            "loss 1.6509387986543806e-05 average time 0.005192769399993343 iter num 60\n",
            "loss 1.6482269103268585e-05 average time 0.0051927026124928945 iter num 80\n",
            "loss 1.6476702487184247e-05 average time 0.005164724919993659 iter num 100\n",
            "loss 1.6374460912360513e-05 average time 0.005116135699995539 iter num 20\n",
            "loss 1.628780467059153e-05 average time 0.0051193675749942715 iter num 40\n",
            "loss 1.6232269707543103e-05 average time 0.005113753566665006 iter num 60\n",
            "loss 1.6207381936689706e-05 average time 0.005120315849994483 iter num 80\n",
            "loss 1.6202183131276235e-05 average time 0.005124625879993801 iter num 100\n",
            "loss 1.61048388700017e-05 average time 0.005202366349988097 iter num 20\n",
            "loss 1.602053338441811e-05 average time 0.0052439376999871 iter num 40\n",
            "loss 1.5965883755472205e-05 average time 0.005218990583316933 iter num 60\n",
            "loss 1.594127214560316e-05 average time 0.005240200224983482 iter num 80\n",
            "loss 1.593612533078299e-05 average time 0.005228199159987525 iter num 100\n",
            "loss 1.583944083991852e-05 average time 0.005201415899995255 iter num 20\n",
            "loss 1.5755329147156878e-05 average time 0.00518234249999523 iter num 40\n",
            "loss 1.5700647466511445e-05 average time 0.005154497533334279 iter num 60\n",
            "loss 1.567599526022721e-05 average time 0.005141647199998545 iter num 80\n",
            "loss 1.5670833285855418e-05 average time 0.00513225282999997 iter num 100\n",
            "loss 1.5573831823245526e-05 average time 0.005177063200000021 iter num 20\n",
            "loss 1.5489328607025546e-05 average time 0.005170985750001478 iter num 40\n",
            "loss 1.543433046676292e-05 average time 0.005171264249997876 iter num 60\n",
            "loss 1.5409521095889374e-05 average time 0.005174109474999966 iter num 80\n",
            "loss 1.540432210121914e-05 average time 0.005172638049996295 iter num 100\n",
            "loss 1.530665796774253e-05 average time 0.005172976700009713 iter num 20\n",
            "loss 1.522153552131115e-05 average time 0.005157144575014172 iter num 40\n",
            "loss 1.5166114233721353e-05 average time 0.0051611227000156155 iter num 60\n",
            "loss 1.5141111009810188e-05 average time 0.005159487600015211 iter num 80\n",
            "loss 1.5135876748352538e-05 average time 0.005145058240013895 iter num 100\n",
            "loss 1.5037418189987142e-05 average time 0.005125393100001929 iter num 20\n",
            "loss 1.4951581205404384e-05 average time 0.005124817775012502 iter num 40\n",
            "loss 1.489569485978951e-05 average time 0.005161681666677017 iter num 60\n",
            "loss 1.4870473113549451e-05 average time 0.005182603975006828 iter num 80\n",
            "loss 1.486518935453267e-05 average time 0.005167976390006288 iter num 100\n",
            "loss 1.4765889870268633e-05 average time 0.00515305349999835 iter num 20\n",
            "loss 1.4679327521261722e-05 average time 0.005127153999993084 iter num 40\n",
            "loss 1.4622967069366735e-05 average time 0.005156002766661534 iter num 60\n",
            "loss 1.4597532223260099e-05 average time 0.0051459904499992605 iter num 80\n",
            "loss 1.4592201968841874e-05 average time 0.005149320740000576 iter num 100\n",
            "loss 1.4492079841556763e-05 average time 0.005213398849986106 iter num 20\n",
            "loss 1.4404792791026125e-05 average time 0.0051958098249969 iter num 40\n",
            "loss 1.434797175821865e-05 average time 0.005208759516661606 iter num 60\n",
            "loss 1.4322338910936132e-05 average time 0.005198665600002528 iter num 80\n",
            "loss 1.4316963493069262e-05 average time 0.005185523660002218 iter num 100\n",
            "loss 1.4216051661393815e-05 average time 0.005168263350003599 iter num 20\n",
            "loss 1.4128096553451101e-05 average time 0.00517410822500608 iter num 40\n",
            "loss 1.4070847170830677e-05 average time 0.005184792100004642 iter num 60\n",
            "loss 1.4045022658721655e-05 average time 0.005190491512507833 iter num 80\n",
            "loss 1.4039619057103e-05 average time 0.005191918820005412 iter num 100\n",
            "loss 1.415752363510071e-05 average time 0.005182917149988952 iter num 20\n",
            "loss 1.3857920776960849e-05 average time 0.005175531275003209 iter num 40\n",
            "loss 1.3792526018597206e-05 average time 0.005171776716664075 iter num 60\n",
            "loss 1.3766048581754115e-05 average time 0.005170326662496905 iter num 80\n",
            "loss 1.3760605637219273e-05 average time 0.005171856289998686 iter num 100\n"
          ]
        }
      ]
    },
    {
      "cell_type": "markdown",
      "metadata": {
        "id": "NOxUYnbSVTnl"
      },
      "source": [
        "**Save Model**"
      ]
    },
    {
      "cell_type": "code",
      "metadata": {
        "id": "mq_GDLdvU9ib",
        "colab": {
          "base_uri": "https://localhost:8080/"
        },
        "outputId": "2dbd7c07-fa5e-4f4f-f122-9509bf766eea"
      },
      "source": [
        "from google.colab import drive\n",
        "drive.mount('/content/drive')"
      ],
      "execution_count": 13,
      "outputs": [
        {
          "output_type": "stream",
          "name": "stdout",
          "text": [
            "Drive already mounted at /content/drive; to attempt to forcibly remount, call drive.mount(\"/content/drive\", force_remount=True).\n"
          ]
        }
      ]
    },
    {
      "cell_type": "code",
      "metadata": {
        "id": "iNEAqIJAVa-6"
      },
      "source": [
        "import torch\n",
        "model_save_name = f'jax_knock_out_{str(nstock)}stock_oldmethod_1.pth'\n",
        "path = F\"/content/drive/MyDrive/AFP/Save_Models/{model_save_name}\" \n",
        "torch.save(model.state_dict(), path)"
      ],
      "execution_count": 14,
      "outputs": []
    },
    {
      "cell_type": "markdown",
      "metadata": {
        "id": "4IXkmXlAVdEh"
      },
      "source": [
        "**Load Model**"
      ]
    },
    {
      "cell_type": "code",
      "metadata": {
        "id": "QjERL5bcVcXS",
        "colab": {
          "base_uri": "https://localhost:8080/"
        },
        "outputId": "4745999c-f7dc-4b60-aa2e-6eaebb7257cd"
      },
      "source": [
        "from google.colab import drive\n",
        "drive.mount('/content/drive')"
      ],
      "execution_count": 15,
      "outputs": [
        {
          "output_type": "stream",
          "name": "stdout",
          "text": [
            "Drive already mounted at /content/drive; to attempt to forcibly remount, call drive.mount(\"/content/drive\", force_remount=True).\n"
          ]
        }
      ]
    },
    {
      "cell_type": "code",
      "metadata": {
        "id": "oIJoo5Z7VjAR",
        "colab": {
          "base_uri": "https://localhost:8080/"
        },
        "outputId": "43e1451f-6758-4f12-bee1-35ae21ebbac6"
      },
      "source": [
        "import torch\n",
        "model_save_name = f'jax_knock_out_{str(nstock)}stock_oldmethod_1.pth'\n",
        "path = F\"/content/drive/MyDrive/AFP/Save_Models/{model_save_name}\" \n",
        "state_dict = torch.load(path)\n",
        "print(state_dict.keys())"
      ],
      "execution_count": 16,
      "outputs": [
        {
          "output_type": "stream",
          "name": "stdout",
          "text": [
            "odict_keys(['norm', 'fc1.weight', 'fc1.bias', 'fc2.weight', 'fc2.bias', 'fc3.weight', 'fc3.bias', 'fc4.weight', 'fc4.bias', 'fc5.weight', 'fc5.bias', 'fc6.weight', 'fc6.bias'])\n"
          ]
        }
      ]
    },
    {
      "cell_type": "code",
      "metadata": {
        "id": "mSkrjknWVlL8",
        "colab": {
          "base_uri": "https://localhost:8080/"
        },
        "outputId": "0a51ed82-3802-4e38-b3ea-eb52f028779b"
      },
      "source": [
        "# need to run 'Writing cupy_dataset.py' and 'Writing model.py' above before this\n",
        "from model import Net\n",
        "model = Net(nstock = nstock).cuda()\n",
        "\n",
        "model.load_state_dict(state_dict)\n",
        "print(model)"
      ],
      "execution_count": 19,
      "outputs": [
        {
          "output_type": "stream",
          "name": "stdout",
          "text": [
            "Net(\n",
            "  (fc1): Linear(in_features=21, out_features=64, bias=True)\n",
            "  (fc2): Linear(in_features=64, out_features=128, bias=True)\n",
            "  (fc3): Linear(in_features=128, out_features=256, bias=True)\n",
            "  (fc4): Linear(in_features=256, out_features=128, bias=True)\n",
            "  (fc5): Linear(in_features=128, out_features=64, bias=True)\n",
            "  (fc6): Linear(in_features=64, out_features=4, bias=True)\n",
            ")\n"
          ]
        }
      ]
    },
    {
      "cell_type": "markdown",
      "metadata": {
        "id": "s5MbsAwEVmff"
      },
      "source": [
        "**Continue to train model**"
      ]
    },
    {
      "cell_type": "code",
      "metadata": {
        "id": "moxMKMLEhJR7"
      },
      "source": [
        "# from google.colab import drive\n",
        "# drive.mount('/content/drive')"
      ],
      "execution_count": null,
      "outputs": []
    },
    {
      "cell_type": "code",
      "metadata": {
        "id": "aQYxo1IXVl57"
      },
      "source": [
        "# # version 2, 7\n",
        "# # If memory is not enough, try changing parameters and restarting session\n",
        "# # loss will converge\n",
        "\n",
        "# from ignite.engine import Engine, Events\n",
        "# from ignite.handlers import Timer\n",
        "# from torch.nn import MSELoss\n",
        "# from torch.optim import Adam\n",
        "# from ignite.contrib.handlers.param_scheduler import CosineAnnealingScheduler\n",
        "# from ignite.handlers import ModelCheckpoint\n",
        "# from model import Net\n",
        "# import numpy as np\n",
        "# import torch\n",
        "# from torch import Tensor\n",
        "# from torch.autograd import grad\n",
        "# timer = Timer(average=True)\n",
        "# #model = Net(nstock = nstock).cuda()\n",
        "# loss_fn = MSELoss()\n",
        "# optimizer = Adam(model.parameters(), lr=1e-3, eps=1e-4, amsgrad=True) # try using higher epsilon and amsgrad\n",
        "# dataset = OptionDataSet(max_len = 100) # Use max_len to adjust\n",
        "\n",
        "# def train_update(engine, batch):\n",
        "#     model.train()\n",
        "#     optimizer.zero_grad()\n",
        "#     x = batch[0]\n",
        "#     y = batch[1]\n",
        "#     y_pred = model(x.float())\n",
        "\n",
        "#     def compute_deltas(x):\n",
        "#       inputs = x.float()\n",
        "#       inputs.requires_grad = True\n",
        "#       first_order_gradient = grad(model(inputs), inputs, create_graph=False)\n",
        "#       return first_order_gradient[0][[3]]\n",
        "\n",
        "#     deltas = torch.stack([compute_deltas(x) for x in torch.unbind(x)], dim=0)\n",
        "#     y_pred = torch.cat((y_pred, deltas), 1)\n",
        "\n",
        "#     loss_weight = torch.tensor([1] * (nstock + 1)).cuda()\n",
        "#     loss_weight_normalized = loss_weight/loss_weight.sum()\n",
        "#     loss = ((y_pred - y) ** 2 * loss_weight_normalized).mean(axis=0).sum() # compute weighted MSE between the 2 arrays\n",
        "\n",
        "#     loss.backward()\n",
        "#     optimizer.step()\n",
        "#     return loss.item()\n",
        "\n",
        "# trainer = Engine(train_update)\n",
        "# log_interval = 20\n",
        "\n",
        "# scheduler = CosineAnnealingScheduler(optimizer, 'lr', 1e-4, 1e-6, len(dataset))\n",
        "# trainer.add_event_handler(Events.ITERATION_STARTED, scheduler)\n",
        "# timer.attach(trainer,\n",
        "#              start=Events.EPOCH_STARTED,\n",
        "#              resume=Events.ITERATION_STARTED,\n",
        "#              pause=Events.ITERATION_COMPLETED,\n",
        "#              step=Events.ITERATION_COMPLETED)    \n",
        "# @trainer.on(Events.ITERATION_COMPLETED)\n",
        "# def log_training_loss(engine):\n",
        "#     iter = (engine.state.iteration - 1) % len(dataset) + 1\n",
        "#     if iter % log_interval == 0:\n",
        "#         print('loss', engine.state.output, 'average time', timer.value(), 'iter num', iter)\n",
        "        \n",
        "# trainer.run(dataset, max_epochs = 100)\n",
        "\n",
        "# model_save_name = f'jax_knock_out_{str(nstock)}stock_oldmethod_1.pth'\n",
        "# path = F\"/content/drive/MyDrive/AFP/Save_Models/{model_save_name}\" \n",
        "# torch.save(model.state_dict(), path)"
      ],
      "execution_count": null,
      "outputs": []
    },
    {
      "cell_type": "markdown",
      "metadata": {
        "id": "ONLZ1zpgV2Zv"
      },
      "source": [
        "#Results"
      ]
    },
    {
      "cell_type": "code",
      "metadata": {
        "id": "b3hhVHEVV06R",
        "colab": {
          "base_uri": "https://localhost:8080/"
        },
        "outputId": "183c0799-fda6-4449-cd69-2b5ce7e83366"
      },
      "source": [
        "import torch\n",
        "inputs = torch.tensor([[1, 1, 0.8, 1, 0.25, 0.02, 0.02] * nstock]).cuda() # T, K, B, S, sigma, mu, r\n",
        "print('price: ' + str(model(inputs.float())))\n",
        "\n",
        "# price, delta\n",
        "# should be around (0.10632345, 0.5543747)"
      ],
      "execution_count": 20,
      "outputs": [
        {
          "output_type": "stream",
          "name": "stdout",
          "text": [
            "price: tensor([[0.066306, 0.196050, 0.195349, 0.197303]], device='cuda:0',\n",
            "       grad_fn=<AddmmBackward0>)\n"
          ]
        }
      ]
    },
    {
      "cell_type": "code",
      "metadata": {
        "id": "kqpasxVi0hx3",
        "colab": {
          "base_uri": "https://localhost:8080/"
        },
        "outputId": "b0c7b6f8-a9b0-4a27-bae7-9e903bae7953"
      },
      "source": [
        "# Knock out call\n",
        "\n",
        "# now change code such that 'numsteps' does not represent year\n",
        "# make dt = year / numsteps\n",
        "# Add r, and notice that noise must have mean 0, not drift, or else it'll give large option prices\n",
        "# (done)\n",
        "# after making the changes, the values are still correct\n",
        "\n",
        "import jax\n",
        "import jax.numpy as jnp\n",
        "from jax import random\n",
        "from jax import jit\n",
        "import numpy as np\n",
        "from torch.utils.dlpack import from_dlpack\n",
        "\n",
        "def Brownian_motion(key, initial_stocks, numsteps, drift, cov, T):\n",
        "    stocks_init = jnp.zeros((numsteps + 1, initial_stocks.shape[0]))\n",
        "    stocks_init = jax.ops.index_update(stocks_init,   # jax.ops.index_update(x, idx, y) <-> Pure equivalent of x[idx] = y\n",
        "                            jax.ops.index[0],         # initialization of stock prices\n",
        "                            initial_stocks)\n",
        "    noise = jax.random.multivariate_normal(key,  jnp.array([0]*initial_stocks.shape[0]), cov, (numsteps+1,)) # noise must have mean 0\n",
        "    sigma = jnp.diag(cov) ** 0.5\n",
        "    dt = T / numsteps\n",
        "    def time_step(t, val):\n",
        "        #dx =  drift + noise[t,:] # no need to multiply by sigma here because noise generated by cov not corr\n",
        "        dx2 = jnp.exp((drift - sigma ** 2. / 2.) * dt + jnp.sqrt(dt) * noise[t,:])\n",
        "        val = jax.ops.index_update(val,\n",
        "                            jax.ops.index[t],\n",
        "                            val[t-1] * dx2)\n",
        "        return val\n",
        "    return jax.lax.fori_loop(1, numsteps+1, time_step, stocks_init)[1:] # jax.lax.fori_loop(lower, upper, body_fun, init_val)\n",
        "\n",
        "def optionvalueavg(key, initial_stocks, numsteps, drift, r, cov, K, B, T): # down-and-out call\n",
        "    return jnp.mean(jnp.maximum((1 - jnp.any(jnp.mean(batch_simple(keys, initial_stocks, numsteps, drift, cov, T), axis=2) < B, axis=1).astype(int))* \n",
        "                                (jnp.mean(batch_simple(keys, initial_stocks, numsteps, drift, cov, T), axis=2))[:,-1]-K, 0) *\n",
        "                    jnp.exp(-r[0] * T))\n",
        "    # must use '-1' not 'numsteps', or else grad will be 0\n",
        "\n",
        "numstocks = nstock\n",
        "numsteps = 50\n",
        "numpaths = 2000000\n",
        "\n",
        "rng = jax.random.PRNGKey(1)\n",
        "rng, key = jax.random.split(rng)\n",
        "\n",
        "drift = jnp.array([0.02]*numstocks)\n",
        "r = drift # let r = drift to match B-S\n",
        "\n",
        "cov = jnp.identity(numstocks)*0.25*0.25\n",
        "initial_stocks = jnp.array([1.]*numstocks) # must be float\n",
        "\n",
        "T = 1.0\n",
        "K = 1.0\n",
        "B = 0.8 # if B is set to 0, equivalent to European call\n",
        "\n",
        "fast_simple = jax.jit(Brownian_motion, static_argnums=2)\n",
        "\n",
        "keys = jax.random.split(key, numpaths)\n",
        "batch_simple = jax.vmap(fast_simple, in_axes=(0, None, None, None, None, None))\n",
        "\n",
        "# option price\n",
        "print(optionvalueavg(key, initial_stocks, numsteps, drift, r, cov, K, B, T)) # here numsteps different from T\n",
        "\n",
        "# delta\n",
        "goptionvalueavg = jax.grad(optionvalueavg,argnums=1)\n",
        "print(goptionvalueavg(keys, initial_stocks, numsteps, drift, r, cov, K, B, T)) # here numsteps different from T"
      ],
      "execution_count": 21,
      "outputs": [
        {
          "output_type": "stream",
          "name": "stdout",
          "text": [
            "0.0678582\n",
            "[0.19399585 0.19401251 0.19391604]\n"
          ]
        }
      ]
    },
    {
      "cell_type": "code",
      "metadata": {
        "id": "lovJwXo3-YEu",
        "colab": {
          "base_uri": "https://localhost:8080/",
          "height": 265
        },
        "outputId": "d1d13874-9602-4554-a9ff-1f2eddf4c3d4"
      },
      "source": [
        "import matplotlib.pyplot as plt\n",
        "import numpy as np\n",
        "\n",
        "def compute_price(S):\n",
        "    inputs = torch.tensor([[1, 1, 0.8, S, 0.25, 0.02, 0.02] * nstock]).cuda()\n",
        "    return model(inputs.float())[0][0]\n",
        "\n",
        "prices = np.arange(0.75, 1.25, 0.01)\n",
        "model_call_prices = []\n",
        "correct_call_prices = []\n",
        "for p in prices:\n",
        "    initial_stocks = jnp.array([p]*numstocks) # must be float\n",
        "    model_call_prices.append(compute_price(p).item())\n",
        "    correct_call_prices.append(optionvalueavg(key, initial_stocks, numsteps, drift, r, cov, K, B, T))\n",
        "\n",
        "#plt.plot(prices, model_call_prices, label = \"model_call_prices\")\n",
        "#plt.plot(prices, correct_call_prices, label = \"correct_call_prices\")\n",
        "plt.plot(prices, np.array(model_call_prices)-np.array(correct_call_prices), label = \"Differences\")\n",
        "plt.legend()\n",
        "plt.show()"
      ],
      "execution_count": 22,
      "outputs": [
        {
          "output_type": "display_data",
          "data": {
            "image/png": "[encoded data removed]",
            "text/plain": [
              "<Figure size 432x288 with 1 Axes>"
            ]
          },
          "metadata": {
            "needs_background": "light"
          }
        }
      ]
    },
    {
      "cell_type": "markdown",
      "metadata": {
        "id": "9fVR9u56Uu3X"
      },
      "source": [
        "# Delta"
      ]
    },
    {
      "cell_type": "code",
      "metadata": {
        "id": "lwApH0GT9bBK",
        "colab": {
          "base_uri": "https://localhost:8080/",
          "height": 265
        },
        "outputId": "446ed3ac-05ec-4db3-d807-ac958d56724c"
      },
      "source": [
        "##Using gradient, Change only 1 S0 at a time\n",
        "%matplotlib inline\n",
        "from torch.autograd import grad\n",
        "import pylab\n",
        "import numpy as np\n",
        "\n",
        "def compute_delta(S):\n",
        "    inputs = torch.tensor([[1, 1, 0.8, S, 0.25, 0.02, 0.02] * nstock]).cuda()\n",
        "    return model(inputs.float())[0][1]\n",
        "\n",
        "prices = np.arange(0.75, 1.25, 0.01)\n",
        "model_call_deltas = []\n",
        "correct_call_deltas = []\n",
        "for p in prices:\n",
        "    initial_stocks = jnp.array([p]*nstock) # must be float\n",
        "    model_call_deltas.append(compute_delta(p).item())\n",
        "    correct_call_deltas.append(goptionvalueavg(keys, initial_stocks, numsteps, drift, r, cov, 1.0, B, T)[0])\n",
        "\n",
        "plt.plot(prices, model_call_deltas, label = \"model_call_deltas\")\n",
        "plt.plot(prices, correct_call_deltas, label = \"correct_call_deltas\")\n",
        "#plt.plot(prices, np.array(model_call_deltas)-np.array(correct_call_deltas), label = \"Differences\")\n",
        "plt.legend()\n",
        "plt.show()"
      ],
      "execution_count": 23,
      "outputs": [
        {
          "output_type": "display_data",
          "data": {
            "image/png": "[encoded data removed]",
            "text/plain": [
              "<Figure size 432x288 with 1 Axes>"
            ]
          },
          "metadata": {
            "needs_background": "light"
          }
        }
      ]
    },
    {
      "cell_type": "code",
      "metadata": {
        "id": "sHgD1NjP7DOW",
        "colab": {
          "base_uri": "https://localhost:8080/",
          "height": 265
        },
        "outputId": "fe0d914a-4a0e-4d8f-fbd3-d6a28e56f9a6"
      },
      "source": [
        "##Using gradient, Change only 1 S0 at a time\n",
        "%matplotlib inline\n",
        "from torch.autograd import grad\n",
        "import pylab\n",
        "import numpy as np\n",
        "\n",
        "def compute_delta(S):\n",
        "    inputs = torch.tensor([[1, 0.775, 0.8, S, 0.25, 0.02, 0.02] * nstock]).cuda()\n",
        "    return model(inputs.float())[0][1]\n",
        "\n",
        "prices = np.arange(0.75, 1.25, 0.01)\n",
        "model_call_deltas = []\n",
        "correct_call_deltas = []\n",
        "for p in prices:\n",
        "    initial_stocks = jnp.array([p]*nstock) # must be float\n",
        "    model_call_deltas.append(compute_delta(p).item())\n",
        "    correct_call_deltas.append(goptionvalueavg(keys, initial_stocks, numsteps, drift, r, cov, 0.775, B, T)[0])\n",
        "\n",
        "plt.plot(prices, model_call_deltas, label = \"model_call_deltas\")\n",
        "plt.plot(prices, correct_call_deltas, label = \"correct_call_deltas\")\n",
        "#plt.plot(prices, np.array(model_call_deltas)-np.array(correct_call_deltas), label = \"Differences\")\n",
        "plt.legend()\n",
        "plt.show()"
      ],
      "execution_count": 24,
      "outputs": [
        {
          "output_type": "display_data",
          "data": {
            "image/png": "[encoded data removed]",
            "text/plain": [
              "<Figure size 432x288 with 1 Axes>"
            ]
          },
          "metadata": {
            "needs_background": "light"
          }
        }
      ]
    },
    {
      "cell_type": "code",
      "metadata": {
        "id": "m7MfujMQ7oij",
        "colab": {
          "base_uri": "https://localhost:8080/",
          "height": 265
        },
        "outputId": "52096456-e3d2-4433-a287-47e97b54a09d"
      },
      "source": [
        "##Using gradient, Change only 1 S0 at a time\n",
        "%matplotlib inline\n",
        "from torch.autograd import grad\n",
        "import pylab\n",
        "import numpy as np\n",
        "\n",
        "def compute_delta(S):\n",
        "    inputs = torch.tensor([[1, 1.225, 0.8, S, 0.25, 0.02, 0.02] * nstock]).cuda()\n",
        "    return model(inputs.float())[0][1]\n",
        "\n",
        "prices = np.arange(0.75, 1.25, 0.01)\n",
        "model_call_deltas = []\n",
        "correct_call_deltas = []\n",
        "for p in prices:\n",
        "    initial_stocks = jnp.array([p]*nstock) # must be float\n",
        "    model_call_deltas.append(compute_delta(p).item())\n",
        "    correct_call_deltas.append(goptionvalueavg(keys, initial_stocks, numsteps, drift, r, cov, 1.225, B, T)[0])\n",
        "\n",
        "plt.plot(prices, model_call_deltas, label = \"model_call_deltas\")\n",
        "plt.plot(prices, correct_call_deltas, label = \"correct_call_deltas\")\n",
        "#plt.plot(prices, np.array(model_call_deltas)-np.array(correct_call_deltas), label = \"Differences\")\n",
        "plt.legend()\n",
        "plt.show()"
      ],
      "execution_count": 25,
      "outputs": [
        {
          "output_type": "display_data",
          "data": {
            "image/png": "[encoded data removed]",
            "text/plain": [
              "<Figure size 432x288 with 1 Axes>"
            ]
          },
          "metadata": {
            "needs_background": "light"
          }
        }
      ]
    }
  ]
}