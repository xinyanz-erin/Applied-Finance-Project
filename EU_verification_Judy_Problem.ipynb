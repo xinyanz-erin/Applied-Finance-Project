{
  "nbformat": 4,
  "nbformat_minor": 0,
  "metadata": {
    "colab": {
      "name": "BC_EU_verification.ipynb",
      "provenance": [],
      "collapsed_sections": [],
      "include_colab_link": true
    },
    "kernelspec": {
      "name": "python3",
      "display_name": "Python 3"
    },
    "language_info": {
      "name": "python"
    }
  },
  "cells": [
    {
      "cell_type": "markdown",
      "metadata": {
        "id": "view-in-github",
        "colab_type": "text"
      },
      "source": [
        "<a href=\"https://colab.research.google.com/github/xinyanz-erin/Applied-Finance-Project/blob/Judy/EU_verification_Judy_Problem.ipynb\" target=\"_parent\"><img src=\"https://colab.research.google.com/assets/colab-badge.svg\" alt=\"Open In Colab\"/></a>"
      ]
    },
    {
      "cell_type": "code",
      "metadata": {
        "id": "p-6ARcU8CFpJ"
      },
      "source": [
        "import numpy as np"
      ],
      "execution_count": 1,
      "outputs": []
    },
    {
      "cell_type": "code",
      "metadata": {
        "id": "yqoT36aKGJ5G"
      },
      "source": [
        "S0 = np.array([100, 100, 100])\n",
        "K = 110\n",
        "T = 1\n",
        "r = 0\n",
        "cov = np.array([[0.0625,0,0],[0,0.0625,0],[0,0,0.0625]])\n",
        "n_step = 500\n",
        "n_path = 10000"
      ],
      "execution_count": 132,
      "outputs": []
    },
    {
      "cell_type": "markdown",
      "metadata": {
        "id": "fnvMkaFWnKit"
      },
      "source": [
        "# What will work"
      ]
    },
    {
      "cell_type": "code",
      "metadata": {
        "id": "81dT6kVFBTIn"
      },
      "source": [
        "sigma = 0.25\n",
        "def BC(S0, K, B, T, r, sigma, cov, n_step, n_path):\n",
        "  payoff = np.zeros(n_path)\n",
        "  dt = T/n_step\n",
        "  for i in range(n_path):\n",
        "    S = S0\n",
        "    for j in range(n_step):\n",
        "      #random = np.random.multivariate_normal(mean = np.array([0, 0, 0]), cov = cov)\n",
        "      random = np.random.normal(0, 1, 3)  #感覺這裡不太對 這樣變成他們的variance 是1?\n",
        "      S = S * np.exp((r - (1/2)*sigma**2) * dt + np.sqrt(dt) * random * sigma)\n",
        "      S_avg = np.average(S)\n",
        "    payoff[i] = max(np.average(S) - K, 0)\n",
        "  price = np.exp(-r * T) * np.average(payoff)\n",
        "  return price"
      ],
      "execution_count": 85,
      "outputs": []
    },
    {
      "cell_type": "code",
      "metadata": {
        "colab": {
          "base_uri": "https://localhost:8080/"
        },
        "id": "-uK2qgtSoATC",
        "outputId": "4e21511c-b18b-476d-f618-0cee114c16b7"
      },
      "source": [
        "BC(S0, K, B, T, r, sigma, cov, n_step, n_path)  #但生成出來接近2.多"
      ],
      "execution_count": 86,
      "outputs": [
        {
          "output_type": "execute_result",
          "data": {
            "text/plain": [
              "2.1012066025046536"
            ]
          },
          "metadata": {},
          "execution_count": 86
        }
      ]
    },
    {
      "cell_type": "markdown",
      "metadata": {
        "id": "WcLQko8XniTe"
      },
      "source": [
        "# Not Work?"
      ]
    },
    {
      "cell_type": "code",
      "metadata": {
        "id": "2gl_rUABn2e7"
      },
      "source": [
        "def BC2(S0, K, B, T, r, sigma, cov, n_step, n_path):\n",
        "  payoff = np.zeros(n_path)\n",
        "  dt = T/n_step\n",
        "  for i in range(n_path):\n",
        "    S = S0\n",
        "    random = np.random.multivariate_normal(mean = np.array([0, 0, 0]), cov = cov, size = (1, n_step))  #把random提上來一層\n",
        "    #print(random)\n",
        "    for j in range(n_step):\n",
        "      random_step = random[0,j]\n",
        "      #print(random_step)\n",
        "      sigma = cov[0,0] ** 0.5\n",
        "      S = S * np.exp((r - (1/2)*sigma**2) * dt + np.sqrt(dt) * random_step)\n",
        "      S_avg = np.average(S)\n",
        "    payoff[i] = max(np.average(S) - K, 0)\n",
        "  price = np.exp(-r * T) * np.average(payoff)\n",
        "  return price"
      ],
      "execution_count": 134,
      "outputs": []
    },
    {
      "cell_type": "code",
      "metadata": {
        "id": "u501jThQxH_t"
      },
      "source": [
        "cov = np.array([[0.0625,0,0],[0,0.0625,0],[0,0,0.0625]])"
      ],
      "execution_count": 126,
      "outputs": []
    },
    {
      "cell_type": "code",
      "metadata": {
        "colab": {
          "base_uri": "https://localhost:8080/"
        },
        "id": "tI9_UhbwwqVX",
        "outputId": "8c457ccb-afbd-429b-a012-6c6ea1f6c2ff"
      },
      "source": [
        "a = np.random.multivariate_normal(mean = np.array([0, 0, 0]), cov = cov, size = (1, n_step))\n",
        "print(a)\n",
        "#print(a[0,1])"
      ],
      "execution_count": 127,
      "outputs": [
        {
          "output_type": "stream",
          "name": "stdout",
          "text": [
            "[[[ 1.20653638e-01 -5.62258703e-01  7.39958348e-02]\n",
            "  [ 2.35490993e-01  2.37623087e-01 -1.00236524e-01]\n",
            "  [-2.08770037e-02  2.17930051e-01  1.04509202e-01]\n",
            "  [ 3.38370637e-01  1.58558404e-02 -2.29244280e-01]\n",
            "  [-3.72009804e-01 -1.63141043e-01 -2.86530482e-01]\n",
            "  [-4.82511280e-01 -4.55535571e-01  6.31770257e-02]\n",
            "  [ 2.59397526e-01 -2.08073678e-01  8.83355557e-02]\n",
            "  [ 2.40274147e-01  2.09936387e-01  6.67505054e-02]\n",
            "  [-7.40087512e-02 -1.40297629e-01  4.51975315e-01]\n",
            "  [-4.25036140e-02  3.03087066e-01 -3.55249518e-01]\n",
            "  [-2.41810587e-01  3.79061033e-01  4.65530968e-01]\n",
            "  [-5.88527826e-01  6.52967568e-01 -1.16258869e-02]\n",
            "  [-1.91838007e-01 -1.38483243e-02  1.56528643e-01]\n",
            "  [ 4.64428394e-01  6.12282239e-02  2.19657767e-01]\n",
            "  [ 3.02000572e-01 -6.52836245e-01  4.71563050e-01]\n",
            "  [-3.16407325e-01  3.39681422e-01  1.99332303e-01]\n",
            "  [-1.09188025e-01  2.64032717e-01  6.00475523e-02]\n",
            "  [-3.53513104e-01 -7.64533531e-05 -2.31213889e-01]\n",
            "  [ 5.76379485e-01 -1.16755895e-01  3.49078201e-01]\n",
            "  [-1.32700343e-01  8.43944007e-03  1.17048420e-02]\n",
            "  [ 2.56232458e-01 -6.03516187e-01 -1.89939616e-01]\n",
            "  [ 2.17817726e-01  1.25286841e-01 -4.84510343e-01]\n",
            "  [-7.86279659e-02 -4.05377785e-02  2.51257801e-01]\n",
            "  [ 7.41497445e-02  4.23018271e-01  4.69131482e-02]\n",
            "  [ 4.77949729e-01  3.43217570e-01  2.15605551e-01]\n",
            "  [ 1.30643719e-02 -1.37805145e-01 -4.86901399e-01]\n",
            "  [-6.63690553e-01 -3.24513502e-01  1.99935929e-01]\n",
            "  [ 4.38004788e-01 -8.43171087e-02  8.68217299e-02]\n",
            "  [-1.07459805e-01  3.54264077e-02 -1.74141129e-02]\n",
            "  [-3.87937576e-01 -2.44203172e-01 -1.15786860e-02]\n",
            "  [ 3.85015826e-01 -3.49405133e-01  1.12994245e-01]\n",
            "  [-2.92635110e-01 -5.92412426e-02  1.81591007e-01]\n",
            "  [ 1.80191864e-01  6.23094065e-02 -9.26409345e-02]\n",
            "  [-2.04270240e-01  2.20307488e-01 -1.85130180e-01]\n",
            "  [ 3.00972750e-02 -2.87778446e-01  8.61121429e-02]\n",
            "  [-2.53927314e-01 -9.35312275e-02 -3.30455623e-01]\n",
            "  [-8.20732207e-02  2.63946974e-01 -1.48827983e-01]\n",
            "  [ 9.20359554e-02  6.06102647e-01 -4.09304841e-01]\n",
            "  [ 8.37915331e-02  2.34893547e-01  3.37258259e-01]\n",
            "  [ 2.10477242e-01  1.44036577e-01  4.43115652e-02]\n",
            "  [ 8.41458830e-03 -6.04696740e-02 -1.07151255e-01]\n",
            "  [-3.10423043e-01 -2.26567389e-01 -1.15639063e-01]\n",
            "  [-2.51426664e-01 -3.65286364e-01 -1.17386507e-01]\n",
            "  [-2.55415250e-01  3.38465585e-02 -1.75767147e-01]\n",
            "  [-1.15071714e-02  2.99256833e-01  6.80028854e-02]\n",
            "  [ 1.06764056e-01 -2.72046090e-01 -1.95600054e-01]\n",
            "  [-1.15672146e-01  1.70191091e-01  2.86607472e-01]\n",
            "  [-2.16537245e-01  1.76178072e-01 -5.29797270e-01]\n",
            "  [-1.57244574e-01  1.10788184e-02  1.85108598e-01]\n",
            "  [ 7.56529522e-02  2.29031650e-01  1.30811159e-01]]]\n"
          ]
        }
      ]
    },
    {
      "cell_type": "code",
      "metadata": {
        "id": "cZ89O8r7HAeB",
        "colab": {
          "base_uri": "https://localhost:8080/"
        },
        "outputId": "d4bdcbef-17a4-4a99-933a-0a1a93bf81ca"
      },
      "source": [
        "BC2(S0, K, B, T, r, sigma, cov, n_step, n_path)   #變成超級小????"
      ],
      "execution_count": 135,
      "outputs": [
        {
          "output_type": "execute_result",
          "data": {
            "text/plain": [
              "2.3959545237114415"
            ]
          },
          "metadata": {},
          "execution_count": 135
        }
      ]
    },
    {
      "cell_type": "markdown",
      "metadata": {
        "id": "yi8KQkSmjxGs"
      },
      "source": [
        "# Original"
      ]
    },
    {
      "cell_type": "code",
      "metadata": {
        "id": "pbhggXwhjwPy"
      },
      "source": [
        "S0 = np.array([100, 100, 100])\n",
        "K = 110\n",
        "B = 80\n",
        "T = 1\n",
        "r = 0\n",
        "sigma = 0.25\n",
        "cov = np.identity(3)\n",
        "n_step = 100\n",
        "n_path = 5000"
      ],
      "execution_count": 46,
      "outputs": []
    },
    {
      "cell_type": "code",
      "metadata": {
        "id": "ebnFqAxUj2Zg"
      },
      "source": [
        "def BC(S0, K, B, T, r, sigma, cov, n_step, n_path):\n",
        "  payoff = np.zeros(n_path)\n",
        "  dt = T/n_step\n",
        "  for i in range(n_path):\n",
        "    S = S0\n",
        "    for j in range(n_step):\n",
        "      # random = np.random.multivariate_normal(mean = np.array([0, 0, 0]), cov = cov)\n",
        "      random = np.random.normal(0, 1, 3)\n",
        "\n",
        "      S = S * np.exp((r - (1/2)*sigma**2) * dt + np.sqrt(dt) * random * sigma)\n",
        "      S_avg = np.average(S)\n",
        "    payoff[i] = max(np.average(S) - K, 0)\n",
        "    # payoff[i] = max(np.average(S)-K,0)\n",
        "    # payoff[i] = max(S[0]-K, 0)\n",
        "\n",
        "  price = np.exp(-r * T) * np.average(payoff)\n",
        "  return price"
      ],
      "execution_count": 44,
      "outputs": []
    },
    {
      "cell_type": "code",
      "metadata": {
        "colab": {
          "base_uri": "https://localhost:8080/"
        },
        "id": "pOtnnl19j42s",
        "outputId": "51d85f4a-78f4-4005-9f5e-6010fddef894"
      },
      "source": [
        "BC(S0, K, B, T, r, sigma, cov, n_step, n_path)"
      ],
      "execution_count": 47,
      "outputs": [
        {
          "output_type": "execute_result",
          "data": {
            "text/plain": [
              "2.2254919135919757"
            ]
          },
          "metadata": {},
          "execution_count": 47
        }
      ]
    }
  ]
}