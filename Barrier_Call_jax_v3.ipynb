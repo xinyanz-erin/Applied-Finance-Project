{
  "nbformat": 4,
  "nbformat_minor": 0,
  "metadata": {
    "colab": {
      "name": "Barrier_Call_jax.ipynb",
      "provenance": [],
      "include_colab_link": true
    },
    "kernelspec": {
      "name": "python3",
      "display_name": "Python 3"
    },
    "language_info": {
      "name": "python"
    },
    "accelerator": "GPU"
  },
  "cells": [
    {
      "cell_type": "markdown",
      "metadata": {
        "id": "view-in-github",
        "colab_type": "text"
      },
      "source": [
        "<a href=\"https://colab.research.google.com/github/xinyanz-erin/Applied-Finance-Project/blob/Lilian/Barrier_Call_jax_v3.ipynb\" target=\"_parent\"><img src=\"https://colab.research.google.com/assets/colab-badge.svg\" alt=\"Open In Colab\"/></a>"
      ]
    },
    {
      "cell_type": "code",
      "metadata": {
        "colab": {
          "base_uri": "https://localhost:8080/"
        },
        "id": "Z1TgzBZmOpEc",
        "cellView": "form",
        "collapsed": true,
        "outputId": "be5cd50d-5abb-4175-a219-69417c6d0689"
      },
      "source": [
        "#@title\n",
        "import jax.numpy as jnp\n",
        "from jax import random\n",
        "from jax import jit\n",
        "from jax import device_put\n",
        "\n",
        "def test():\n",
        "  paths=100000\n",
        "  steps=252\n",
        "  stocks=3\n",
        "  key = random.PRNGKey(10)\n",
        "  x = random.normal(key, (paths,steps,stocks))\n",
        "  s0=random.randint(key,(stocks,1),50,100)*1.\n",
        "  s=s0\n",
        "  s = device_put(s)\n",
        "  for i in range(steps):\n",
        "    for j in range(stocks):\n",
        "      s+=x[:,i,j]\n",
        "  return(s0,s)\n",
        "\n",
        "a,b=test()\n",
        "\n",
        "print(a,np.mean(b,axis=1))\n",
        "\n",
        "jtest=jit(test)\n",
        "\n",
        "c,d=jtest()\n",
        "\n",
        "print(c,np.mean(d,axis=1))"
      ],
      "execution_count": null,
      "outputs": [
        {
          "output_type": "stream",
          "text": [
            "[[86.]\n",
            " [56.]\n",
            " [71.]] [85.99678  55.996777 70.99677 ]\n",
            "[[86.]\n",
            " [56.]\n",
            " [71.]] [85.99678  55.996777 70.99677 ]\n"
          ],
          "name": "stdout"
        }
      ]
    },
    {
      "cell_type": "code",
      "metadata": {
        "colab": {
          "base_uri": "https://localhost:8080/"
        },
        "id": "lZWaZ_PdRZs1",
        "cellView": "form",
        "collapsed": true,
        "outputId": "cc269f2c-282b-4d02-936d-3245b3ddd45b"
      },
      "source": [
        "#@title\n",
        "paths=10\n",
        "steps=5\n",
        "stocks=3\n",
        "key = random.PRNGKey(10)\n",
        "x = random.normal(key, (paths,steps,stocks))\n",
        "s0=random.randint(key,(stocks,1),50,100)*1.\n",
        "s=s0\n",
        "s = device_put(s)\n",
        "print(s)\n",
        "print(x[:,1,1])\n",
        "print(s+x[:,1,1])"
      ],
      "execution_count": null,
      "outputs": [
        {
          "output_type": "stream",
          "text": [
            "[[86.]\n",
            " [56.]\n",
            " [71.]]\n",
            "[-0.32907748 -0.3529078  -0.5357338  -2.402825   -1.3187171  -0.4300647\n",
            " -0.42437345  0.22680947  0.3185347  -0.9541187 ]\n",
            "[[85.67092  85.647095 85.464264 83.597176 84.68128  85.56994  85.57563\n",
            "  86.22681  86.318535 85.04588 ]\n",
            " [55.67092  55.64709  55.464268 53.597176 54.681282 55.569935 55.575626\n",
            "  56.22681  56.318535 55.045883]\n",
            " [70.67092  70.647095 70.464264 68.597176 69.68128  70.56994  70.57563\n",
            "  71.22681  71.318535 70.04588 ]]\n"
          ],
          "name": "stdout"
        }
      ]
    },
    {
      "cell_type": "code",
      "metadata": {
        "id": "AM9Sjorq3aPK",
        "colab": {
          "base_uri": "https://localhost:8080/"
        },
        "cellView": "form",
        "collapsed": true,
        "outputId": "f2a537d1-0d3f-465f-e8b9-5b23939cd88b"
      },
      "source": [
        "#@title\n",
        "import jax.numpy as jnp\n",
        "from jax import random\n",
        "from jax import jit\n",
        "import numpy as np\n",
        "\n",
        "def simple_process(key, initial_values, numsteps, drift, cov):\n",
        "    stocks_init = jnp.zeros((numsteps + 1,initial_values.shape[0]))\n",
        "    stocks_init=jax.ops.index_update(stocks_init,  # jax.ops.index_update(x, idx, y) <-> Pure equivalent of x[idx] = y\n",
        "                            jax.ops.index[0],\n",
        "                            initial_values)\n",
        "    noise = jax.random.multivariate_normal(key, drift, cov, (numsteps,))\n",
        "    #return(noise)\n",
        "    def time_step(t, val):\n",
        "        dx =  drift+noise[t,:]\n",
        "        val = jax.ops.index_update(val,\n",
        "                            jax.ops.index[t],\n",
        "                            val[t-1] + dx)\n",
        "        return val\n",
        "    return jax.lax.fori_loop(1, numsteps+1, time_step, stocks_init)[1:] # jax.lax.fori_loop(lower, upper, body_fun, init_val)\n",
        "\n",
        "# def fori_loop(lower, upper, body_fun, init_val): # upper is exclusive\n",
        "#   val = init_val\n",
        "#   for i in range(lower, upper):\n",
        "#     val = body_fun(i, val)\n",
        "#   return val\n",
        "\n",
        "numsteps=5\n",
        "key = random.PRNGKey(10)\n",
        "drift=jnp.array([0.0]*3)\n",
        "cov=np.random.random((3,3))\n",
        "cov=np.matmul(cov,cov.T)\n",
        "initial_values=jnp.array([100.]*3)\n",
        "fast_simple = jax.jit(simple_process, static_argnums=2)\n",
        "init_stocks=jnp.array([100.]*3)\n",
        "fast_simple(key,init_stocks,numsteps,drift,cov)\n",
        "# Batch OU sample via vmap\n",
        "batch_simple = jax.vmap(fast_simple, in_axes=(0, None, None, None, None)) \n",
        "# An integer or None indicates which array axis to map over for all arguments (with None indicating not to map any axis)\n",
        "\n",
        "%timeit fast_simple(key, init_stocks, 12, drift, cov)\n",
        "\n",
        "numsamples=100000 # num of paths\n",
        "keys = jax.random.split(key, numsamples)\n",
        "batch_simple = jax.vmap(fast_simple, in_axes=(0, None, None, None, None))\n",
        "%timeit batch_simple(keys, init_stocks, 12, drift, cov)\n",
        "\n",
        "batch_simple(keys, init_stocks, numsteps, drift, cov).shape"
      ],
      "execution_count": null,
      "outputs": [
        {
          "output_type": "stream",
          "text": [
            "The slowest run took 27769.64 times longer than the fastest. This could mean that an intermediate result is being cached.\n",
            "1 loop, best of 5: 16.1 µs per loop\n",
            "1 loop, best of 5: 177 ms per loop\n"
          ],
          "name": "stdout"
        },
        {
          "output_type": "execute_result",
          "data": {
            "text/plain": [
              "(100000, 5, 3)"
            ]
          },
          "metadata": {},
          "execution_count": 68
        }
      ]
    },
    {
      "cell_type": "code",
      "metadata": {
        "id": "zKLz8BeVe5TQ",
        "colab": {
          "base_uri": "https://localhost:8080/"
        },
        "cellView": "form",
        "collapsed": true,
        "outputId": "92debbf8-323a-4172-9b26-f37891c40cf8"
      },
      "source": [
        "#@title\n",
        "import jax.numpy as jnp\n",
        "from jax import random\n",
        "from jax import jit\n",
        "import numpy as np\n",
        "\n",
        "def Brownian_motion(key, initial_stocks, numsteps, drift, cov, sigma, T):\n",
        "    stocks_init = jnp.zeros((numsteps + 1, initial_stocks.shape[0]))\n",
        "    stocks_init=jax.ops.index_update(stocks_init,   # jax.ops.index_update(x, idx, y) <-> Pure equivalent of x[idx] = y\n",
        "                            jax.ops.index[0],       # initialization of stock prices\n",
        "                            initial_stocks)\n",
        "    noise = jax.random.multivariate_normal(key, drift, cov, (numsteps,))\n",
        "    dt = jnp.array(T[0]/numsteps)\n",
        "    def time_step(t, val):\n",
        "        dx =  drift * dt * val[t-1,:] + sigma * val[t-1,:] * jnp.sqrt(dt) * noise[t,:]\n",
        "        val = jax.ops.index_update(val,\n",
        "                            jax.ops.index[t],\n",
        "                            val[t-1] + dx)\n",
        "        return val\n",
        "    return jax.lax.fori_loop(1, numsteps+1, time_step, stocks_init)[1:] # jax.lax.fori_loop(lower, upper, body_fun, init_val)\n",
        "\n",
        "# def fori_loop(lower, upper, body_fun, init_val): # upper is exclusive\n",
        "#   val = init_val\n",
        "#   for i in range(lower, upper):\n",
        "#     val = body_fun(i, val)\n",
        "#   return val\n",
        "\n",
        "np.random.seed(0)\n",
        "key = random.PRNGKey(0)\n",
        "initial_stocks=jnp.array([100.]*3)\n",
        "numsteps=10\n",
        "drift=jnp.array([0]*3)\n",
        "# cov=np.random.random((3,3))\n",
        "# cov=np.matmul(cov,cov.T)\n",
        "corr = jnp.diag(jnp.array([1]*3))\n",
        "sigma = jnp.array([0.3]*3)\n",
        "cov = (jnp.diag(sigma)).dot(corr).dot(jnp.diag(sigma))\n",
        "#sigma = jnp.array(np.random.random(3))\n",
        "#r = jnp.array([np.random.random(1)]*3)\n",
        "T = jnp.array([1.]*3)\n",
        "\n",
        "fast_simple = jax.jit(Brownian_motion, static_argnums=2)\n",
        "fast_simple(key, initial_stocks, numsteps, drift, cov, sigma, T)\n",
        "\n",
        "# numsamples=100000 # num of paths\n",
        "# keys = jax.random.split(key, numsamples)\n",
        "\n",
        "# batch_simple = jax.vmap(fast_simple, in_axes=(0, None, None, None, None, None, None))\n",
        "# %timeit batch_simple(keys, initial_stocks, numsteps, drift, cov, sigma, T)\n",
        "# batch_simple(keys, initial_stocks, numsteps, drift, cov, sigma, T).shape"
      ],
      "execution_count": null,
      "outputs": [
        {
          "output_type": "execute_result",
          "data": {
            "text/plain": [
              "DeviceArray([[104.03143 , 103.00068 , 102.59222 ],\n",
              "             [102.768456, 105.89164 , 100.96432 ],\n",
              "             [102.81328 ,  99.627396, 102.55864 ],\n",
              "             [105.48844 , 101.25624 , 104.66836 ],\n",
              "             [105.8519  , 100.323296, 109.50462 ],\n",
              "             [106.59    ,  96.38026 , 107.60002 ],\n",
              "             [107.01583 ,  98.68716 , 104.24871 ],\n",
              "             [103.734055,  95.48625 , 102.4883  ],\n",
              "             [103.274185,  94.44483 ,  99.23759 ],\n",
              "             [102.81635 ,  93.41477 ,  96.08998 ]], dtype=float32)"
            ]
          },
          "metadata": {},
          "execution_count": 170
        }
      ]
    },
    {
      "cell_type": "code",
      "metadata": {
        "colab": {
          "base_uri": "https://localhost:8080/"
        },
        "id": "k7KFGhPVWJu9",
        "cellView": "form",
        "collapsed": true,
        "outputId": "d09cf7ac-aac3-4f78-a535-1ad4809939a8"
      },
      "source": [
        "#@title\n",
        "key = random.PRNGKey(10)\n",
        "initial_values=jnp.array([100.]*3)\n",
        "numsteps=5\n",
        "drift=jnp.array([0.0]*3)\n",
        "cov=np.random.random((3,3))\n",
        "cov=np.matmul(cov, cov.T)\n",
        "\n",
        "print(key)\n",
        "print(initial_values)\n",
        "print(numsteps)\n",
        "print(drift)\n",
        "print(cov)"
      ],
      "execution_count": null,
      "outputs": [
        {
          "output_type": "stream",
          "text": [
            "[ 0 10]\n",
            "[100. 100. 100.]\n",
            "5\n",
            "[0. 0. 0.]\n",
            "[[0.74040995 0.50528954 0.38358708]\n",
            " [0.50528954 0.69334581 0.33222558]\n",
            " [0.38358708 0.33222558 0.21827158]]\n"
          ],
          "name": "stdout"
        }
      ]
    },
    {
      "cell_type": "code",
      "metadata": {
        "colab": {
          "base_uri": "https://localhost:8080/"
        },
        "id": "5F1U2n21WuDC",
        "cellView": "form",
        "collapsed": true,
        "outputId": "1b5b7145-262b-4ccf-8675-6cfc98cb63ae"
      },
      "source": [
        "#@title\n",
        "stocks_init = jnp.zeros((numsteps + 1, initial_values.shape[0]))\n",
        "print(stocks_init)\n",
        "stocks_init=jax.ops.index_update(stocks_init,\n",
        "                        jax.ops.index[0],\n",
        "                        initial_values)\n",
        "print(stocks_init)\n",
        "noise = jax.random.multivariate_normal(key, drift, cov, (numsteps,))\n",
        "print(noise)"
      ],
      "execution_count": null,
      "outputs": [
        {
          "output_type": "stream",
          "text": [
            "[[0. 0. 0.]\n",
            " [0. 0. 0.]\n",
            " [0. 0. 0.]\n",
            " [0. 0. 0.]\n",
            " [0. 0. 0.]\n",
            " [0. 0. 0.]]\n",
            "[[100. 100. 100.]\n",
            " [  0.   0.   0.]\n",
            " [  0.   0.   0.]\n",
            " [  0.   0.   0.]\n",
            " [  0.   0.   0.]\n",
            " [  0.   0.   0.]]\n",
            "[[-0.05614188 -0.93355596 -0.05524409]\n",
            " [ 0.70478475 -0.20070948  0.15282556]\n",
            " [ 0.11612918 -0.04694405 -0.03823702]\n",
            " [ 0.42249295 -0.36928132 -0.06133213]\n",
            " [-0.24204297 -0.2061234  -0.13489908]]\n"
          ],
          "name": "stdout"
        }
      ]
    },
    {
      "cell_type": "code",
      "metadata": {
        "id": "RUAoeddX9Kr0",
        "colab": {
          "base_uri": "https://localhost:8080/"
        },
        "outputId": "d31f65d4-7344-46fc-c1ab-2674c9acb237"
      },
      "source": [
        "!curl https://colab.chainer.org/install |sh -\n",
        "import cupy"
      ],
      "execution_count": 1,
      "outputs": [
        {
          "output_type": "stream",
          "name": "stdout",
          "text": [
            "  % Total    % Received % Xferd  Average Speed   Time    Time     Time  Current\n",
            "                                 Dload  Upload   Total   Spent    Left  Speed\n",
            "100  1580  100  1580    0     0  11791      0 --:--:-- --:--:-- --:--:-- 11791\n",
            "+ apt -y -q install cuda-libraries-dev-10-0\n",
            "Reading package lists...\n",
            "Building dependency tree...\n",
            "Reading state information...\n",
            "cuda-libraries-dev-10-0 is already the newest version (10.0.130-1).\n",
            "The following package was automatically installed and is no longer required:\n",
            "  libnvidia-common-460\n",
            "Use 'apt autoremove' to remove it.\n",
            "0 upgraded, 0 newly installed, 0 to remove and 40 not upgraded.\n",
            "+ pip install -q cupy-cuda100  chainer \n",
            "\u001b[K     |████████████████████████████████| 58.9 MB 35 kB/s \n",
            "\u001b[K     |████████████████████████████████| 1.0 MB 31.4 MB/s \n",
            "\u001b[?25h  Building wheel for chainer (setup.py) ... \u001b[?25l\u001b[?25hdone\n",
            "+ set +ex\n",
            "Installation succeeded!\n"
          ]
        }
      ]
    },
    {
      "cell_type": "markdown",
      "metadata": {
        "id": "D1p7r2O_dniU"
      },
      "source": [
        "# Pui"
      ]
    },
    {
      "cell_type": "code",
      "metadata": {
        "id": "1crQ3-JCs9Q1"
      },
      "source": [
        "# import jax\n",
        "# import jax.numpy as jnp\n",
        "# from jax import random\n",
        "# from jax import jit\n",
        "# import numpy as np\n",
        "# from torch.utils.dlpack import from_dlpack\n",
        "\n",
        "# def Brownian_motion(key, initial_stocks, numsteps, drift, cov, T):\n",
        "#     stocks_init = jnp.zeros((numsteps + 1, initial_stocks.shape[0]))\n",
        "#     stocks_init = jax.ops.index_update(stocks_init,   # jax.ops.index_update(x, idx, y) <-> Pure equivalent of x[idx] = y\n",
        "#                             jax.ops.index[0],         # initialization of stock prices\n",
        "#                             initial_stocks)\n",
        "#     noise = jax.random.multivariate_normal(key, jnp.array([0]*initial_stocks.shape[0]), cov, (numsteps,))\n",
        "#     dt = jnp.array(T[0]/numsteps)\n",
        "#     def time_step(t, val):\n",
        "#         dx =  drift * dt * val[t-1,:] + val[t-1,:] * jnp.sqrt(dt) * noise[t,:] # no need to multiply by sigma here because noise generated by cov not corr\n",
        "#         val = jax.ops.index_update(val,\n",
        "#                             jax.ops.index[t],\n",
        "#                             val[t-1] + dx)\n",
        "#         return val\n",
        "#     return jax.lax.fori_loop(1, numsteps+1, time_step, stocks_init)[1:] # jax.lax.fori_loop(lower, upper, body_fun, init_val)\n",
        "\n",
        "# # def fori_loop(lower, upper, body_fun, init_val): # upper is exclusive\n",
        "# #   val = init_val\n",
        "# #   for i in range(lower, upper):\n",
        "# #     val = body_fun(i, val)\n",
        "# #   return val\n",
        "\n",
        "# numstocks = 3\n",
        "\n",
        "# np.random.seed(15)\n",
        "# key = random.PRNGKey(10)\n",
        "# initial_stocks = jnp.array(np.random.random(numstocks) * 200)\n",
        "# numsteps = 5\n",
        "# # drift=jnp.array([0.05] * numstocks) \n",
        "# # cov=np.random.random((3,3))\n",
        "# # cov=np.matmul(cov,cov.T)\n",
        "# corr = jnp.diag(jnp.array([1]*numstocks)) # assume no correlation between stocks here\n",
        "# sigma = jnp.array(np.random.random(numstocks) * 0.4)\n",
        "# cov = (jnp.diag(sigma)).dot(corr).dot(jnp.diag(sigma))\n",
        "# r = jnp.repeat(jnp.array(np.random.random(1) * 0.1), numstocks)\n",
        "# drift = r # To match BS, use drift = r\n",
        "# T = jnp.array([1.] * numstocks)\n",
        "# K = np.random.random(1) * 200\n",
        "# #B = jnp.repeat(jnp.array(np.random.random(1) * 200*0.9), numstocks)\n",
        "# B = jnp.repeat(jnp.array(K * 0.9), numstocks)\n",
        "\n",
        "# fast_simple = jax.jit(Brownian_motion, static_argnums=2)\n",
        "# fast_simple(key, initial_stocks, numsteps, drift, cov, T)\n",
        "\n",
        "# numsamples = 10 # num of paths\n",
        "# keys = jax.random.split(key, numsamples)\n",
        "\n",
        "# batch_simple = jax.vmap(fast_simple, in_axes=(0, None, None, None, None, None))\n",
        "# %timeit batch_simple(keys, initial_stocks, numsteps, drift, cov, T)\n",
        "# out = batch_simple(keys, initial_stocks, numsteps, drift, cov, T)\n",
        "\n",
        "# print(B)\n",
        "# avg_across_stocks = np.mean(out, axis=2)\n",
        "# print(np.mean(out, axis=2))\n",
        "# print(np.any(avg_across_stocks < 67, axis=1)) # test using Barrier = 67\n",
        "# print(1 - np.any(avg_across_stocks < 67, axis=1).astype(int))\n",
        "# print((1 - np.any(avg_across_stocks < 67, axis=1).astype(int))* avg_across_stocks[:,numsteps])\n",
        "\n",
        "# Payoff = (1 - np.any(avg_across_stocks < B[0], axis=1).astype(int))* avg_across_stocks[:,numsteps]\n",
        "# Barrier_Call_price = np.mean(np.maximum(Payoff - K, 0) * jnp.exp(-r[0] * T[0]))\n",
        "\n",
        "# paras = (T, jnp.repeat(jnp.array(K), numstocks), B, initial_stocks, sigma, drift, r)\n",
        "# paras = np.column_stack(paras).reshape(1,-1)[0]\n",
        "\n",
        "# print(from_dlpack(cupy.array(paras).toDlpack()))\n",
        "# print(Barrier_Call_price)"
      ],
      "execution_count": 41,
      "outputs": []
    },
    {
      "cell_type": "code",
      "metadata": {
        "id": "DxFUnc_iBVcU",
        "colab": {
          "base_uri": "https://localhost:8080/"
        },
        "outputId": "75294419-4777-4ca2-8e84-3a254e90f189"
      },
      "source": [
        "################################# TEST ########################################\n",
        "#%%writefile cupy_dataset.py\n",
        "import cupy\n",
        "import jax\n",
        "import jax.numpy as jnp\n",
        "from jax import random\n",
        "from jax import jit\n",
        "import numpy as np\n",
        "from torch.utils.dlpack import from_dlpack\n",
        "\n",
        "def Brownian_motion(key, initial_stocks, numsteps, drift, cov, T):\n",
        "    stocks_init = jnp.zeros((numsteps + 1, initial_stocks.shape[0]))   # initial_stocks.shape[0] <-> Stocks number\n",
        "    stocks_init = jax.ops.index_update(stocks_init,   # jax.ops.index_update(x, idx, y) <-> Pure equivalent of x[idx] = y\n",
        "                            jax.ops.index[0],         # initialization of stock prices\n",
        "                            initial_stocks)\n",
        "    noise = jax.random.multivariate_normal(key, jnp.array([0]*initial_stocks.shape[0]), cov, (numsteps,)) #shape<->[numsteps,nstocks]\n",
        "    dt = jnp.array(T[0]/numsteps)\n",
        "    def time_step(t, val):\n",
        "        dx =  drift * dt * val[t-1,:] + val[t-1,:] * jnp.sqrt(dt) * noise[t,:] # no need to multiply by sigma here because noise generated by cov not corr\n",
        "        val = jax.ops.index_update(val,\n",
        "                            jax.ops.index[t],\n",
        "                            val[t-1] + dx)\n",
        "        return val\n",
        "    return jax.lax.fori_loop(1, numsteps+1, time_step, stocks_init)[1:] # jax.lax.fori_loop(lower, upper, body_fun, init_val)\n",
        "\n",
        "\n",
        "class NumbaOptionDataSet(object):\n",
        "    \n",
        "    def __init__(self, max_len=10, number_path = 1000, batch=2, seed=15, stocks=3):  # 3 stocks\n",
        "        self.num = 0\n",
        "        self.max_length = max_len\n",
        "        self.N_PATHS = number_path\n",
        "        self.N_STEPS = 365\n",
        "        self.N_BATCH = batch\n",
        "        self.N_STOCKS = stocks\n",
        "        self.T = 1\n",
        "        self.seed = seed\n",
        "        np.random.seed(seed)\n",
        "        \n",
        "    def __len__(self):\n",
        "        return self.max_length\n",
        "        \n",
        "    def __iter__(self):\n",
        "        self.num = 0\n",
        "        return self\n",
        "\n",
        "    def __next__(self):\n",
        "        if self.num >= self.max_length:\n",
        "            raise StopIteration\n",
        "        \n",
        "        Y = cupy.zeros(self.N_BATCH, dtype=cupy.float32)\n",
        "        X = cupy.zeros((self.N_BATCH, self.N_STOCKS * 7), dtype = cupy.float32)\n",
        "\n",
        "        for op in range(self.N_BATCH):\n",
        "          \n",
        "          key = random.PRNGKey(self.seed)\n",
        "          initial_stocks = jnp.array(np.random.random(self.N_STOCKS) * 200)\n",
        "          # cov=np.random.random((3,3))\n",
        "          # cov=np.matmul(cov,cov.T)\n",
        "          corr = jnp.diag(jnp.array([1]*self.N_STOCKS)) # assume no correlation between stocks here\n",
        "          sigma = jnp.array(np.random.random(self.N_STOCKS) * 0.4)\n",
        "          cov = (jnp.diag(sigma)).dot(corr).dot(jnp.diag(sigma))\n",
        "          r = jnp.repeat(jnp.array(np.random.random(1) * 0.1), self.N_STOCKS)\n",
        "          drift = r # To match BS, use drift = r\n",
        "          T = jnp.array([self.T] * self.N_STOCKS)\n",
        "          K = np.random.random(1) * 200\n",
        "          B = jnp.repeat(jnp.array(K * 0.9), self.N_STOCKS)\n",
        "\n",
        "          fast_simple = jax.jit(Brownian_motion, static_argnums=2)\n",
        "          fast_simple(key, initial_stocks, self.N_STEPS, drift, cov, T)\n",
        "\n",
        "          numsamples = self.N_PATHS # num of paths\n",
        "          keys = jax.random.split(key, numsamples)\n",
        "\n",
        "          batch_simple = jax.vmap(fast_simple, in_axes=(0, None, None, None, None, None))\n",
        "          out = batch_simple(keys, initial_stocks, self.N_STEPS, drift, cov, T)\n",
        "\n",
        "          avg_across_stocks = np.mean(out, axis=2) # becomes paths * steps\n",
        "          Payoff = (1 - np.any(avg_across_stocks < B[0], axis=1).astype(int))* avg_across_stocks[:,self.N_STEPS]\n",
        "          Barrier_Call_price = np.mean(np.maximum(Payoff - K, 0) * jnp.exp(-r[0] * T[0]))\n",
        "          Y[op] = Barrier_Call_price\n",
        "\n",
        "          paras = (T, jnp.repeat(jnp.array(K), self.N_STOCKS), B, initial_stocks, sigma, drift, r)\n",
        "          paras = np.column_stack(paras).reshape(1,-1)[0]\n",
        "          X[op,] = cupy.array(paras)\n",
        "\n",
        "        self.num += 1\n",
        "        return (from_dlpack(X.toDlpack()), from_dlpack(Y.toDlpack()))\n",
        "    #self._net_grads = jax.grad(self._net_apply)\n",
        "\n",
        "\n",
        "ds = NumbaOptionDataSet(1, number_path = 100000, batch = 2, seed = 15, stocks=3)\n",
        "for i in ds:\n",
        "    print(i)"
      ],
      "execution_count": 44,
      "outputs": [
        {
          "output_type": "stream",
          "name": "stdout",
          "text": [
            "(tensor([[1.0000e+00, 6.0895e+01, 5.4805e+01, 1.6976e+02, 1.4462e-01, 3.0592e-02,\n",
            "         3.0592e-02, 1.0000e+00, 6.0895e+01, 5.4805e+01, 3.5779e+01, 1.1016e-01,\n",
            "         3.0592e-02, 3.0592e-02, 1.0000e+00, 6.0895e+01, 5.4805e+01, 1.0873e+01,\n",
            "         2.1200e-01, 3.0592e-02, 3.0592e-02],\n",
            "        [1.0000e+00, 4.2110e+01, 3.7899e+01, 2.2348e+01, 1.0566e-01, 8.0708e-02,\n",
            "         8.0708e-02, 1.0000e+00, 4.2110e+01, 3.7899e+01, 4.9980e+01, 2.8711e-01,\n",
            "         8.0708e-02, 8.0708e-02, 1.0000e+00, 4.2110e+01, 3.7899e+01, 1.8353e+02,\n",
            "         3.4629e-01, 8.0708e-02, 8.0708e-02]], device='cuda:0'), tensor([13.2313, 46.5335], device='cuda:0'))\n"
          ]
        }
      ]
    },
    {
      "cell_type": "markdown",
      "metadata": {
        "id": "DMbEwoAHd0Jo"
      },
      "source": [
        "# Lilian"
      ]
    },
    {
      "cell_type": "code",
      "metadata": {
        "id": "HPa3p55MgMOi"
      },
      "source": [
        "################################# TEST ########################################\n",
        "#%%writefile cupy_dataset.py\n",
        "import cupy\n",
        "import jax\n",
        "import jax.numpy as jnp\n",
        "from jax import random\n",
        "from jax import jit\n",
        "import numpy as np\n",
        "from torch.utils.dlpack import from_dlpack"
      ],
      "execution_count": 55,
      "outputs": []
    },
    {
      "cell_type": "code",
      "metadata": {
        "id": "8Btp5aGIgM88"
      },
      "source": [
        "N_STOCKS = 3\n",
        "N_BATCH = 2\n",
        "N_STEPS = 365\n",
        "N_PATHS = 1000\n",
        "S0 = 200\n",
        "K_val = 200\n",
        "B_val = 0.9\n",
        "r_val = 0.1\n",
        "sigma_val = 0.4"
      ],
      "execution_count": 4,
      "outputs": []
    },
    {
      "cell_type": "code",
      "metadata": {
        "id": "VLNp9YXdMNx5"
      },
      "source": [
        "def Brownian_motion(key, initial_stocks, numsteps, drift, cov, T):\n",
        "    stocks_init = jnp.zeros((numsteps + 1, initial_stocks.shape[0]))   # initial_stocks.shape[0] <-> Stocks number\n",
        "    stocks_init = jax.ops.index_update(stocks_init,   # jax.ops.index_update(x, idx, y) <-> Pure equivalent of x[idx] = y\n",
        "                            jax.ops.index[0],         # initialization of stock prices\n",
        "                            initial_stocks)\n",
        "    noise = jax.random.multivariate_normal(key, jnp.array([0]*initial_stocks.shape[0]), cov, (numsteps,)) #shape<->[numsteps,nstocks]\n",
        "    dt = jnp.array(T[0]/numsteps)\n",
        "    def time_step(t, val):\n",
        "        dx =  drift * dt * val[t-1,:] + val[t-1,:] * jnp.sqrt(dt) * noise[t,:] # no need to multiply by sigma here because noise generated by cov not corr\n",
        "        val = jax.ops.index_update(val,\n",
        "                            jax.ops.index[t],\n",
        "                            val[t-1] + dx)\n",
        "        return val\n",
        "    return jax.lax.fori_loop(1, numsteps+1, time_step, stocks_init)[1:] # jax.lax.fori_loop(lower, upper, body_fun, init_val)\n",
        "\n",
        "   \n",
        "def OptionPrice(seed, K_val, B_val, S0, sigma_val, r_val, T_val = 1):\n",
        "  price = []\n",
        "  Y = jnp.zeros(N_BATCH)\n",
        "  #Y = cupy.zeros(N_BATCH, dtype=cupy.float32)\n",
        "  #X = cupy.zeros((N_BATCH, N_STOCKS * 7), dtype = cupy.float32)\n",
        "  for op in range(N_BATCH):    \n",
        "    key = random.PRNGKey(seed)\n",
        "    initial_stocks = jnp.array(np.random.random(N_STOCKS) * S0)\n",
        "          # cov=np.random.random((3,3))\n",
        "          # cov=np.matmul(cov,cov.T)\n",
        "    corr = jnp.diag(jnp.array([1]*N_STOCKS)) # assume no correlation between stocks here\n",
        "    sigma = jnp.array(np.random.random(N_STOCKS) * sigma_val)\n",
        "    cov = (jnp.diag(sigma)).dot(corr).dot(jnp.diag(sigma))\n",
        "    r = jnp.repeat(jnp.array(np.random.random(1) * r_val), N_STOCKS)\n",
        "    drift = r # To match BS, use drift = r\n",
        "    T = jnp.array([T_val] * N_STOCKS)\n",
        "    K = np.random.random(1) * K_val\n",
        "    B = jnp.repeat(jnp.array(K * B_val), N_STOCKS)\n",
        "\n",
        "    fast_simple = jax.jit(Brownian_motion, static_argnums=2)\n",
        "    fast_simple(key, initial_stocks, N_STEPS, drift, cov, T)\n",
        "\n",
        "    numsamples = N_PATHS # num of paths\n",
        "    keys = jax.random.split(key, numsamples)\n",
        "\n",
        "    batch_simple = jax.vmap(fast_simple, in_axes=(0, None, None, None, None, None))\n",
        "    out = batch_simple(keys, initial_stocks, N_STEPS, drift, cov, T)\n",
        "\n",
        "    avg_across_stocks = np.mean(out, axis=2) # becomes paths * steps\n",
        "  \n",
        "    Payoff = (1 - np.any(avg_across_stocks < B[0], axis=1).astype(int))* avg_across_stocks[:,N_STEPS]\n",
        "    \n",
        "    Barrier_Call_price = np.mean(np.maximum(Payoff - K, 0) * jnp.exp(-r[0] * T[0]))\n",
        "    print('printout',type(Barrier_Call_price))\n",
        "    Y = jax.ops.index_update(Y,jax.ops.index[op],Barrier_Call_price)\n",
        "    #Y[op] = Barrier_Call_price\n",
        "    \n",
        "    paras = (T, jnp.repeat(jnp.array(K), N_STOCKS), B, initial_stocks, sigma, drift, r)\n",
        "    \n",
        "    #paras = np.column_stack(paras).reshape(1,-1)[0]\n",
        "    #paras = jnp.array(paras)\n",
        "    #X[op,] = cupy.array(paras)\n",
        "  #price = ([from_dlpack(X.toDlpack()), from_dlpack(Y.toDlpack())])\n",
        "  price = Y\n",
        "  return price"
      ],
      "execution_count": 99,
      "outputs": []
    },
    {
      "cell_type": "code",
      "metadata": {
        "id": "kqVFLyi2ftep",
        "outputId": "2f1ad922-c92e-4e4d-a2f7-db3767fedcd4",
        "colab": {
          "base_uri": "https://localhost:8080/"
        }
      },
      "source": [
        "Option = OptionPrice(15, K_val = 200, B_val = 0.9, S0 = 200, sigma_val = 0.4, r_val = 0.1, T_val = 1)"
      ],
      "execution_count": 93,
      "outputs": [
        {
          "output_type": "stream",
          "name": "stdout",
          "text": [
            "printout <class 'jaxlib.xla_extension.DeviceArray'>\n",
            "printout <class 'jaxlib.xla_extension.DeviceArray'>\n"
          ]
        }
      ]
    },
    {
      "cell_type": "code",
      "metadata": {
        "id": "geUuE7R1ibqJ",
        "outputId": "fdb5c203-eb74-46fe-e261-84bcb8274e01",
        "colab": {
          "base_uri": "https://localhost:8080/"
        }
      },
      "source": [
        "Option"
      ],
      "execution_count": 76,
      "outputs": [
        {
          "output_type": "execute_result",
          "data": {
            "text/plain": [
              "DeviceArray([44.05111 , 18.307188], dtype=float32)"
            ]
          },
          "metadata": {},
          "execution_count": 76
        }
      ]
    },
    {
      "cell_type": "code",
      "metadata": {
        "id": "2WoLIUxYgRkg",
        "outputId": "8f584a7a-b825-4971-a5f3-74b136fbd1fd",
        "colab": {
          "base_uri": "https://localhost:8080/",
          "height": 1000
        }
      },
      "source": [
        "\n",
        "jax.grad(OptionPrice, argnums=1)(15, 200.0, 0.9, 200.0, 0.4, 0.1, 1.0)"
      ],
      "execution_count": 101,
      "outputs": [
        {
          "output_type": "error",
          "ename": "TracerArrayConversionError",
          "evalue": "ignored",
          "traceback": [
            "\u001b[0;31m---------------------------------------------------------------------------\u001b[0m",
            "\u001b[0;31mUnfilteredStackTrace\u001b[0m                      Traceback (most recent call last)",
            "\u001b[0;32m<ipython-input-101-858fce294309>\u001b[0m in \u001b[0;36m<module>\u001b[0;34m()\u001b[0m\n\u001b[1;32m      1\u001b[0m \u001b[0;34m\u001b[0m\u001b[0m\n\u001b[0;32m----> 2\u001b[0;31m \u001b[0mjax\u001b[0m\u001b[0;34m.\u001b[0m\u001b[0mgrad\u001b[0m\u001b[0;34m(\u001b[0m\u001b[0mOptionPrice\u001b[0m\u001b[0;34m,\u001b[0m \u001b[0margnums\u001b[0m\u001b[0;34m=\u001b[0m\u001b[0;36m1\u001b[0m\u001b[0;34m)\u001b[0m\u001b[0;34m(\u001b[0m\u001b[0;36m15\u001b[0m\u001b[0;34m,\u001b[0m \u001b[0;36m200.0\u001b[0m\u001b[0;34m,\u001b[0m \u001b[0;36m0.9\u001b[0m\u001b[0;34m,\u001b[0m \u001b[0;36m200.0\u001b[0m\u001b[0;34m,\u001b[0m \u001b[0;36m0.4\u001b[0m\u001b[0;34m,\u001b[0m \u001b[0;36m0.1\u001b[0m\u001b[0;34m,\u001b[0m \u001b[0;36m1.0\u001b[0m\u001b[0;34m)\u001b[0m\u001b[0;34m\u001b[0m\u001b[0;34m\u001b[0m\u001b[0m\n\u001b[0m",
            "\u001b[0;32m/usr/local/lib/python3.7/dist-packages/jax/_src/traceback_util.py\u001b[0m in \u001b[0;36mreraise_with_filtered_traceback\u001b[0;34m(*args, **kwargs)\u001b[0m\n\u001b[1;32m    161\u001b[0m     \u001b[0;32mtry\u001b[0m\u001b[0;34m:\u001b[0m\u001b[0;34m\u001b[0m\u001b[0;34m\u001b[0m\u001b[0m\n\u001b[0;32m--> 162\u001b[0;31m       \u001b[0;32mreturn\u001b[0m \u001b[0mfun\u001b[0m\u001b[0;34m(\u001b[0m\u001b[0;34m*\u001b[0m\u001b[0margs\u001b[0m\u001b[0;34m,\u001b[0m \u001b[0;34m**\u001b[0m\u001b[0mkwargs\u001b[0m\u001b[0;34m)\u001b[0m\u001b[0;34m\u001b[0m\u001b[0;34m\u001b[0m\u001b[0m\n\u001b[0m\u001b[1;32m    163\u001b[0m     \u001b[0;32mexcept\u001b[0m \u001b[0mException\u001b[0m \u001b[0;32mas\u001b[0m \u001b[0me\u001b[0m\u001b[0;34m:\u001b[0m\u001b[0;34m\u001b[0m\u001b[0;34m\u001b[0m\u001b[0m\n",
            "\u001b[0;32m/usr/local/lib/python3.7/dist-packages/jax/_src/api.py\u001b[0m in \u001b[0;36mgrad_f\u001b[0;34m(*args, **kwargs)\u001b[0m\n\u001b[1;32m    796\u001b[0m   \u001b[0;32mdef\u001b[0m \u001b[0mgrad_f\u001b[0m\u001b[0;34m(\u001b[0m\u001b[0;34m*\u001b[0m\u001b[0margs\u001b[0m\u001b[0;34m,\u001b[0m \u001b[0;34m**\u001b[0m\u001b[0mkwargs\u001b[0m\u001b[0;34m)\u001b[0m\u001b[0;34m:\u001b[0m\u001b[0;34m\u001b[0m\u001b[0;34m\u001b[0m\u001b[0m\n\u001b[0;32m--> 797\u001b[0;31m     \u001b[0m_\u001b[0m\u001b[0;34m,\u001b[0m \u001b[0mg\u001b[0m \u001b[0;34m=\u001b[0m \u001b[0mvalue_and_grad_f\u001b[0m\u001b[0;34m(\u001b[0m\u001b[0;34m*\u001b[0m\u001b[0margs\u001b[0m\u001b[0;34m,\u001b[0m \u001b[0;34m**\u001b[0m\u001b[0mkwargs\u001b[0m\u001b[0;34m)\u001b[0m\u001b[0;34m\u001b[0m\u001b[0;34m\u001b[0m\u001b[0m\n\u001b[0m\u001b[1;32m    798\u001b[0m     \u001b[0;32mreturn\u001b[0m \u001b[0mg\u001b[0m\u001b[0;34m\u001b[0m\u001b[0;34m\u001b[0m\u001b[0m\n",
            "\u001b[0;32m/usr/local/lib/python3.7/dist-packages/jax/_src/traceback_util.py\u001b[0m in \u001b[0;36mreraise_with_filtered_traceback\u001b[0;34m(*args, **kwargs)\u001b[0m\n\u001b[1;32m    161\u001b[0m     \u001b[0;32mtry\u001b[0m\u001b[0;34m:\u001b[0m\u001b[0;34m\u001b[0m\u001b[0;34m\u001b[0m\u001b[0m\n\u001b[0;32m--> 162\u001b[0;31m       \u001b[0;32mreturn\u001b[0m \u001b[0mfun\u001b[0m\u001b[0;34m(\u001b[0m\u001b[0;34m*\u001b[0m\u001b[0margs\u001b[0m\u001b[0;34m,\u001b[0m \u001b[0;34m**\u001b[0m\u001b[0mkwargs\u001b[0m\u001b[0;34m)\u001b[0m\u001b[0;34m\u001b[0m\u001b[0;34m\u001b[0m\u001b[0m\n\u001b[0m\u001b[1;32m    163\u001b[0m     \u001b[0;32mexcept\u001b[0m \u001b[0mException\u001b[0m \u001b[0;32mas\u001b[0m \u001b[0me\u001b[0m\u001b[0;34m:\u001b[0m\u001b[0;34m\u001b[0m\u001b[0;34m\u001b[0m\u001b[0m\n",
            "\u001b[0;32m/usr/local/lib/python3.7/dist-packages/jax/_src/api.py\u001b[0m in \u001b[0;36mvalue_and_grad_f\u001b[0;34m(*args, **kwargs)\u001b[0m\n\u001b[1;32m    870\u001b[0m     \u001b[0;32mif\u001b[0m \u001b[0;32mnot\u001b[0m \u001b[0mhas_aux\u001b[0m\u001b[0;34m:\u001b[0m\u001b[0;34m\u001b[0m\u001b[0;34m\u001b[0m\u001b[0m\n\u001b[0;32m--> 871\u001b[0;31m       \u001b[0mans\u001b[0m\u001b[0;34m,\u001b[0m \u001b[0mvjp_py\u001b[0m \u001b[0;34m=\u001b[0m \u001b[0m_vjp\u001b[0m\u001b[0;34m(\u001b[0m\u001b[0mf_partial\u001b[0m\u001b[0;34m,\u001b[0m \u001b[0;34m*\u001b[0m\u001b[0mdyn_args\u001b[0m\u001b[0;34m,\u001b[0m \u001b[0mreduce_axes\u001b[0m\u001b[0;34m=\u001b[0m\u001b[0mreduce_axes\u001b[0m\u001b[0;34m)\u001b[0m\u001b[0;34m\u001b[0m\u001b[0;34m\u001b[0m\u001b[0m\n\u001b[0m\u001b[1;32m    872\u001b[0m     \u001b[0;32melse\u001b[0m\u001b[0;34m:\u001b[0m\u001b[0;34m\u001b[0m\u001b[0;34m\u001b[0m\u001b[0m\n",
            "\u001b[0;32m/usr/local/lib/python3.7/dist-packages/jax/_src/api.py\u001b[0m in \u001b[0;36m_vjp\u001b[0;34m(fun, has_aux, reduce_axes, *primals)\u001b[0m\n\u001b[1;32m   2136\u001b[0m     out_primal, out_vjp = ad.vjp(\n\u001b[0;32m-> 2137\u001b[0;31m         flat_fun, primals_flat, reduce_axes=reduce_axes)\n\u001b[0m\u001b[1;32m   2138\u001b[0m     \u001b[0mout_tree\u001b[0m \u001b[0;34m=\u001b[0m \u001b[0mout_tree\u001b[0m\u001b[0;34m(\u001b[0m\u001b[0;34m)\u001b[0m\u001b[0;34m\u001b[0m\u001b[0;34m\u001b[0m\u001b[0m\n",
            "\u001b[0;32m/usr/local/lib/python3.7/dist-packages/jax/interpreters/ad.py\u001b[0m in \u001b[0;36mvjp\u001b[0;34m(traceable, primals, has_aux, reduce_axes)\u001b[0m\n\u001b[1;32m    114\u001b[0m   \u001b[0;32mif\u001b[0m \u001b[0;32mnot\u001b[0m \u001b[0mhas_aux\u001b[0m\u001b[0;34m:\u001b[0m\u001b[0;34m\u001b[0m\u001b[0;34m\u001b[0m\u001b[0m\n\u001b[0;32m--> 115\u001b[0;31m     \u001b[0mout_primals\u001b[0m\u001b[0;34m,\u001b[0m \u001b[0mpvals\u001b[0m\u001b[0;34m,\u001b[0m \u001b[0mjaxpr\u001b[0m\u001b[0;34m,\u001b[0m \u001b[0mconsts\u001b[0m \u001b[0;34m=\u001b[0m \u001b[0mlinearize\u001b[0m\u001b[0;34m(\u001b[0m\u001b[0mtraceable\u001b[0m\u001b[0;34m,\u001b[0m \u001b[0;34m*\u001b[0m\u001b[0mprimals\u001b[0m\u001b[0;34m)\u001b[0m\u001b[0;34m\u001b[0m\u001b[0;34m\u001b[0m\u001b[0m\n\u001b[0m\u001b[1;32m    116\u001b[0m   \u001b[0;32melse\u001b[0m\u001b[0;34m:\u001b[0m\u001b[0;34m\u001b[0m\u001b[0;34m\u001b[0m\u001b[0m\n",
            "\u001b[0;32m/usr/local/lib/python3.7/dist-packages/jax/interpreters/ad.py\u001b[0m in \u001b[0;36mlinearize\u001b[0;34m(traceable, *primals, **kwargs)\u001b[0m\n\u001b[1;32m    101\u001b[0m   \u001b[0mjvpfun_flat\u001b[0m\u001b[0;34m,\u001b[0m \u001b[0mout_tree\u001b[0m \u001b[0;34m=\u001b[0m \u001b[0mflatten_fun\u001b[0m\u001b[0;34m(\u001b[0m\u001b[0mjvpfun\u001b[0m\u001b[0;34m,\u001b[0m \u001b[0min_tree\u001b[0m\u001b[0;34m)\u001b[0m\u001b[0;34m\u001b[0m\u001b[0;34m\u001b[0m\u001b[0m\n\u001b[0;32m--> 102\u001b[0;31m   \u001b[0mjaxpr\u001b[0m\u001b[0;34m,\u001b[0m \u001b[0mout_pvals\u001b[0m\u001b[0;34m,\u001b[0m \u001b[0mconsts\u001b[0m \u001b[0;34m=\u001b[0m \u001b[0mpe\u001b[0m\u001b[0;34m.\u001b[0m\u001b[0mtrace_to_jaxpr\u001b[0m\u001b[0;34m(\u001b[0m\u001b[0mjvpfun_flat\u001b[0m\u001b[0;34m,\u001b[0m \u001b[0min_pvals\u001b[0m\u001b[0;34m)\u001b[0m\u001b[0;34m\u001b[0m\u001b[0;34m\u001b[0m\u001b[0m\n\u001b[0m\u001b[1;32m    103\u001b[0m   \u001b[0mout_primals_pvals\u001b[0m\u001b[0;34m,\u001b[0m \u001b[0mout_tangents_pvals\u001b[0m \u001b[0;34m=\u001b[0m \u001b[0mtree_unflatten\u001b[0m\u001b[0;34m(\u001b[0m\u001b[0mout_tree\u001b[0m\u001b[0;34m(\u001b[0m\u001b[0;34m)\u001b[0m\u001b[0;34m,\u001b[0m \u001b[0mout_pvals\u001b[0m\u001b[0;34m)\u001b[0m\u001b[0;34m\u001b[0m\u001b[0;34m\u001b[0m\u001b[0m\n",
            "\u001b[0;32m/usr/local/lib/python3.7/dist-packages/jax/interpreters/partial_eval.py\u001b[0m in \u001b[0;36mtrace_to_jaxpr\u001b[0;34m(fun, pvals, instantiate)\u001b[0m\n\u001b[1;32m    504\u001b[0m     \u001b[0mfun\u001b[0m \u001b[0;34m=\u001b[0m \u001b[0mtrace_to_subjaxpr\u001b[0m\u001b[0;34m(\u001b[0m\u001b[0mfun\u001b[0m\u001b[0;34m,\u001b[0m \u001b[0mmain\u001b[0m\u001b[0;34m,\u001b[0m \u001b[0minstantiate\u001b[0m\u001b[0;34m)\u001b[0m\u001b[0;34m\u001b[0m\u001b[0;34m\u001b[0m\u001b[0m\n\u001b[0;32m--> 505\u001b[0;31m     \u001b[0mjaxpr\u001b[0m\u001b[0;34m,\u001b[0m \u001b[0;34m(\u001b[0m\u001b[0mout_pvals\u001b[0m\u001b[0;34m,\u001b[0m \u001b[0mconsts\u001b[0m\u001b[0;34m,\u001b[0m \u001b[0menv\u001b[0m\u001b[0;34m)\u001b[0m \u001b[0;34m=\u001b[0m \u001b[0mfun\u001b[0m\u001b[0;34m.\u001b[0m\u001b[0mcall_wrapped\u001b[0m\u001b[0;34m(\u001b[0m\u001b[0mpvals\u001b[0m\u001b[0;34m)\u001b[0m\u001b[0;34m\u001b[0m\u001b[0;34m\u001b[0m\u001b[0m\n\u001b[0m\u001b[1;32m    506\u001b[0m     \u001b[0;32massert\u001b[0m \u001b[0;32mnot\u001b[0m \u001b[0menv\u001b[0m\u001b[0;34m\u001b[0m\u001b[0;34m\u001b[0m\u001b[0m\n",
            "\u001b[0;32m/usr/local/lib/python3.7/dist-packages/jax/linear_util.py\u001b[0m in \u001b[0;36mcall_wrapped\u001b[0;34m(self, *args, **kwargs)\u001b[0m\n\u001b[1;32m    165\u001b[0m     \u001b[0;32mtry\u001b[0m\u001b[0;34m:\u001b[0m\u001b[0;34m\u001b[0m\u001b[0;34m\u001b[0m\u001b[0m\n\u001b[0;32m--> 166\u001b[0;31m       \u001b[0mans\u001b[0m \u001b[0;34m=\u001b[0m \u001b[0mself\u001b[0m\u001b[0;34m.\u001b[0m\u001b[0mf\u001b[0m\u001b[0;34m(\u001b[0m\u001b[0;34m*\u001b[0m\u001b[0margs\u001b[0m\u001b[0;34m,\u001b[0m \u001b[0;34m**\u001b[0m\u001b[0mdict\u001b[0m\u001b[0;34m(\u001b[0m\u001b[0mself\u001b[0m\u001b[0;34m.\u001b[0m\u001b[0mparams\u001b[0m\u001b[0;34m,\u001b[0m \u001b[0;34m**\u001b[0m\u001b[0mkwargs\u001b[0m\u001b[0;34m)\u001b[0m\u001b[0;34m)\u001b[0m\u001b[0;34m\u001b[0m\u001b[0;34m\u001b[0m\u001b[0m\n\u001b[0m\u001b[1;32m    167\u001b[0m     \u001b[0;32mexcept\u001b[0m\u001b[0;34m:\u001b[0m\u001b[0;34m\u001b[0m\u001b[0;34m\u001b[0m\u001b[0m\n",
            "\u001b[0;32m<ipython-input-99-1e28668d5f0e>\u001b[0m in \u001b[0;36mOptionPrice\u001b[0;34m(seed, K_val, B_val, S0, sigma_val, r_val, T_val)\u001b[0m\n\u001b[1;32m     48\u001b[0m \u001b[0;34m\u001b[0m\u001b[0m\n\u001b[0;32m---> 49\u001b[0;31m     \u001b[0mBarrier_Call_price\u001b[0m \u001b[0;34m=\u001b[0m \u001b[0mnp\u001b[0m\u001b[0;34m.\u001b[0m\u001b[0mmean\u001b[0m\u001b[0;34m(\u001b[0m\u001b[0mnp\u001b[0m\u001b[0;34m.\u001b[0m\u001b[0mmaximum\u001b[0m\u001b[0;34m(\u001b[0m\u001b[0mPayoff\u001b[0m \u001b[0;34m-\u001b[0m \u001b[0mK\u001b[0m\u001b[0;34m,\u001b[0m \u001b[0;36m0\u001b[0m\u001b[0;34m)\u001b[0m \u001b[0;34m*\u001b[0m \u001b[0mjnp\u001b[0m\u001b[0;34m.\u001b[0m\u001b[0mexp\u001b[0m\u001b[0;34m(\u001b[0m\u001b[0;34m-\u001b[0m\u001b[0mr\u001b[0m\u001b[0;34m[\u001b[0m\u001b[0;36m0\u001b[0m\u001b[0;34m]\u001b[0m \u001b[0;34m*\u001b[0m \u001b[0mT\u001b[0m\u001b[0;34m[\u001b[0m\u001b[0;36m0\u001b[0m\u001b[0;34m]\u001b[0m\u001b[0;34m)\u001b[0m\u001b[0;34m)\u001b[0m\u001b[0;34m\u001b[0m\u001b[0;34m\u001b[0m\u001b[0m\n\u001b[0m\u001b[1;32m     50\u001b[0m     \u001b[0mprint\u001b[0m\u001b[0;34m(\u001b[0m\u001b[0;34m'printout'\u001b[0m\u001b[0;34m,\u001b[0m\u001b[0mtype\u001b[0m\u001b[0;34m(\u001b[0m\u001b[0mBarrier_Call_price\u001b[0m\u001b[0;34m)\u001b[0m\u001b[0;34m)\u001b[0m\u001b[0;34m\u001b[0m\u001b[0;34m\u001b[0m\u001b[0m\n",
            "\u001b[0;32m/usr/local/lib/python3.7/dist-packages/jax/core.py\u001b[0m in \u001b[0;36m__array__\u001b[0;34m(self, *args, **kw)\u001b[0m\n\u001b[1;32m    475\u001b[0m   \u001b[0;32mdef\u001b[0m \u001b[0m__array__\u001b[0m\u001b[0;34m(\u001b[0m\u001b[0mself\u001b[0m\u001b[0;34m,\u001b[0m \u001b[0;34m*\u001b[0m\u001b[0margs\u001b[0m\u001b[0;34m,\u001b[0m \u001b[0;34m**\u001b[0m\u001b[0mkw\u001b[0m\u001b[0;34m)\u001b[0m\u001b[0;34m:\u001b[0m\u001b[0;34m\u001b[0m\u001b[0;34m\u001b[0m\u001b[0m\n\u001b[0;32m--> 476\u001b[0;31m     \u001b[0;32mraise\u001b[0m \u001b[0mTracerArrayConversionError\u001b[0m\u001b[0;34m(\u001b[0m\u001b[0mself\u001b[0m\u001b[0;34m)\u001b[0m\u001b[0;34m\u001b[0m\u001b[0;34m\u001b[0m\u001b[0m\n\u001b[0m\u001b[1;32m    477\u001b[0m \u001b[0;34m\u001b[0m\u001b[0m\n",
            "\u001b[0;31mUnfilteredStackTrace\u001b[0m: jax._src.errors.TracerArrayConversionError: The numpy.ndarray conversion method __array__() was called on the JAX Tracer object Traced<ConcreteArray([ 2.55960846e+00  2.98984528e+00 -2.01826477e+00  4.42510223e+00\n -1.60354614e-01  1.02274017e+01 -3.77750397e+00  4.16445160e+00\n  8.41230774e+00  5.01344299e+00 -2.24720764e+00  1.43056717e+01\n  7.74394226e+00  1.00119781e+01  6.17855072e+00  1.00727921e+01\n  1.16706390e+01  5.75907898e+00 -1.51145935e-01  1.12019806e+01\n  2.81116486e+00  1.59026337e+00  1.15424347e+01  7.73053741e+00\n  9.78139496e+00  2.35562897e+00  1.11088104e+01  6.67076111e-01\n  2.82883453e+00  1.18745956e+01  1.30801620e+01  1.12664871e+01\n  9.24453735e-01  1.76227570e+00 -3.95429993e+00  7.14577484e+00\n -2.56809998e+00 -1.33277130e+00  5.68570709e+00  1.86101532e+01\n -3.60252380e-01  2.56795578e+01 -1.09446716e+00 -3.54316711e+00\n -4.40373993e+00  3.76604462e+00 -2.15702057e+00 -5.08347321e+00\n -3.20392609e+00  2.52632980e+01  3.67277527e+00  3.04677582e+00\n  7.42536926e+00  1.57620468e+01  2.84614563e-01  7.98683167e+00\n  1.63998871e+01  2.16522980e+00  6.71611023e+00  6.85398102e+00\n -2.93241882e+00  5.99815369e-01  1.70941238e+01 -7.19987488e+00\n  1.18104706e+01 -5.64195251e+00  2.57874985e+01  4.48108673e+00\n  4.62977600e+00 -2.99738312e+00  1.17848969e+00 -1.08734047e+02\n  4.25413513e+00 -1.03804016e+00  1.70102463e+01  1.39814911e+01\n  1.81745148e+00  9.01252747e-01 -4.24135590e+00 -4.67790985e+00\n  1.53820267e+01 -4.46723938e+00  6.11458588e+00  1.21524811e+00\n  7.72432709e+00 -1.00237579e+01  5.35063171e+00  6.98793793e+00\n  3.20205688e-01  3.64177704e+00  1.04909592e+01  9.77941132e+00\n  5.17493439e+00  8.47511292e-01  1.22405243e+01  1.48329926e+00\n  1.52375717e+01  6.40121460e-01  1.87953262e+01  1.06055756e+01\n -7.01519012e+00  9.57967377e+00 -1.08734047e+02  3.64207458e+00\n  1.60956039e+01  4.42787933e+00  1.49938202e+01  6.91502380e+00\n  2.88993454e+01 -6.85189056e+00 -2.63561249e+00 -7.33310699e+00\n -3.40934753e-01  2.77111740e+01  7.94686127e+00  1.35872650e+00\n  4.70781708e+00 -2.14289093e+00 -5.40101624e+00  8.43054962e+00\n -1.08734047e+02  1.61149597e+00  1.92754364e+00  6.14095306e+00\n  1.73530807e+01 -7.28325653e+00  1.48183060e+01  1.21360779e+00\n  3.93973541e+00  1.13730621e+00 -3.33493805e+00 -4.83098602e+00\n  1.34156952e+01 -9.10057068e-01  1.13973846e+01  1.04582138e+01\n  1.92058563e+00  2.40206146e+00 -1.08734047e+02 -3.92988586e+00\n -3.57103729e+00 -2.40489960e+00  3.09243011e+00  1.21734467e+01\n -7.59360504e+00  1.75518417e+01  7.21242523e+00 -4.57260895e+00\n -1.08734047e+02 -3.00403595e+00  3.41075134e+00  5.23462677e+00\n -1.15953064e+00  1.61894989e+00 -6.28826141e+00 -8.99626923e+00\n  2.96916428e+01  1.52152939e+01 -3.93073273e+00  1.41454926e+01\n -4.87319946e-01 -3.24632263e+00  3.58030701e+00 -5.35471344e+00\n  7.68417358e-01  1.23497009e-01  1.45652695e+01 -5.29472351e-01\n  7.09043884e+00  1.17189560e+01 -9.32518005e-01 -3.39476776e+00\n  9.65348816e+00 -6.80900574e+00  1.42479401e+01  9.46151733e-01\n  7.17530060e+00  7.67570496e-01 -7.40699768e-01  1.04705429e+01\n  7.54743958e+00  6.34733582e+00  4.24160004e+00 -3.08206940e+00\n -3.16822815e+00  2.00215836e+01  3.84519196e+00 -3.41999817e+00\n  1.30547104e+01  6.29651642e+00  3.99558258e+00  7.01844025e+00\n  1.57357941e+01  1.88219070e+01  1.72597504e+00  1.89216614e-01\n -6.58744812e-01  2.71890488e+01  2.18815613e+00  8.06655121e+00\n -6.97263336e+00  5.53885651e+00  8.71324158e+00  1.08198090e+01\n  1.25757904e+01  1.01583786e+01  7.13536072e+00  2.36200790e+01\n  4.34959412e+00  1.41035080e+01  9.07967377e+00  1.64436569e+01\n  5.73692322e+00  3.03870392e+00  1.11227036e+01  1.38518143e+01\n  7.92867279e+00 -4.44881439e+00  7.40833282e+00  1.17504730e+01\n  6.47968292e+00 -4.50959778e+00  6.56563568e+00  1.73686600e+01\n -2.00513458e+00  1.04743958e-01  7.77663422e+00 -5.46817780e+00\n  6.98667908e+00  4.13430023e+00 -1.94306946e+00  1.88773117e+01\n  1.06114349e+01  1.87171936e+00  1.24238586e+00  1.38505707e+01\n -8.40133667e-01  1.12427444e+01  7.43039703e+00  3.01068878e+00\n  4.85224152e+00  9.00240326e+00  9.67576599e+00 -2.70200348e+00\n  7.75425720e+00  1.71523285e+00  1.38889389e+01  9.83946991e+00\n  3.83936310e+00  1.67753601e+00  7.25540924e+00  3.51862335e+00\n  5.80253601e-01  1.23946381e+01  2.88005066e+00  2.26650238e+00\n  9.41585541e+00  2.73942566e+00  5.59449005e+00  4.01467133e+00\n -2.53486633e+00  5.34983826e+00  4.30518341e+00 -2.19432831e+00\n  1.27932587e+01  5.84990692e+00  7.68173218e-01  9.32255554e+00\n  7.09987640e+00  3.91371918e+00  1.43414993e+01  7.79413605e+00\n  4.89688873e+00 -1.08734047e+02 -4.06916809e+00 -5.13774109e+00\n  5.81227875e+00  7.25856781e+00  4.09114075e+00 -8.89907837e-01\n  1.21801605e+01  1.38908539e+01  1.41946640e+01 -1.08734047e+02\n -2.60896301e+00  7.61011505e+00 -1.17518616e+00  5.66603851e+00\n  1.05456390e+01 -9.06608582e-01  1.92153778e+01 -6.28907776e+00\n  9.79011536e-01  9.16402435e+00 -3.51649475e+00  9.47682953e+00\n -1.08734047e+02  4.38069916e+00  3.54741669e+00  5.16761780e+00\n  3.22734070e+00 -1.08734047e+02  1.99243927e+00 -9.02732849e-01\n  6.23758698e+00  1.17833481e+01  1.28773575e+01  1.44319153e+00\n  9.71900940e+00  1.74104462e+01 -6.49604797e-01  1.25231400e+01\n -1.08734047e+02  9.47963715e+00 -1.49565887e+00 -3.21833801e+00\n  1.36638336e+01 -6.34702301e+00  1.85103531e+01  1.39612961e+01\n  1.13484573e+01  4.41452026e-01 -1.98821259e+00  4.77134705e+00\n  5.17252350e+00  3.09989929e+00  5.75019073e+00  6.87272644e+00\n  3.24384308e+00  1.90697784e+01  5.09541321e+00  2.23723679e+01\n  1.44704056e+01  1.30934677e+01 -4.95271301e+00  1.31804657e+00\n -8.08869171e+00  1.21580276e+01 -6.25190735e-01  1.83570862e+00\n  3.01574936e+01 -1.08734047e+02  4.86304474e+00  1.08831024e+00\n  3.46382904e+00 -2.20246887e+00  2.47388458e+00  2.14938583e+01\n  1.27423782e+01  1.11393051e+01  3.47483826e+00  7.10403442e-01\n  7.29537201e+00  6.19796753e-01  6.73989105e+00  4.36731720e+00\n -4.54914856e+00  1.40986557e+01  4.48271942e+00  1.91222000e+01\n  1.47550964e+00  2.13789749e+01  7.55184174e+00  7.63014984e+00\n  1.53428650e+00  7.77885437e-01  6.06370544e+00  8.56333923e+00\n  1.51910019e+01  4.27012634e+00  1.50333939e+01  6.87153625e+00\n  1.23747406e+01  4.68849182e+00 -4.92054749e+00  1.00559158e+01\n  4.58032990e+00  2.09428406e+00  8.14408875e+00 -7.82978821e+00\n -1.01126556e+01 -4.40628052e-01  1.11552887e+01  2.04024734e+01\n  1.01912308e+01  1.59563141e+01  7.43164825e+00  7.58870697e+00\n  5.51618195e+00 -7.34807587e+00  1.17917099e+01  1.91892548e+01\n  2.05260086e+01  5.93740082e+00  1.70508270e+01  1.37911148e+01\n  7.84442902e+00  4.19621277e+00  1.81303558e+01  7.15332794e+00\n  2.76859283e+00  2.21842575e+01  5.48609161e+00  2.02086411e+01\n -1.08734047e+02  5.38218689e+00 -9.48113251e+00 -8.80373383e+00\n  2.07542419e+00 -5.55372620e+00 -1.64060211e+00  1.72068787e+00\n -1.08734047e+02  8.21971130e+00  7.48305511e+00  3.76387787e+00\n -4.09386444e+00  2.41133041e+01 -8.42514038e-02 -6.43958282e+00\n -6.05543518e+00  4.80528259e+00  4.72266388e+00 -6.86948395e+00\n -1.08734047e+02 -2.99964905e-01 -1.78559875e+00  1.58175430e+01\n  1.91139221e-01 -1.97196960e-01  3.67132797e+01  2.54976654e+00\n  9.78258514e+00  1.63582077e+01  3.07188416e+00 -6.01333618e-01\n -8.89259338e-01 -2.62995911e+00  1.31337738e+00  1.59466171e+01\n  1.69369125e+01  1.27671356e+01  3.21791077e+00  1.50843048e+00\n -5.32833099e+00  8.55371857e+00  1.67192078e+00  3.11070251e+00\n  8.51702118e+00  1.31172180e-01  7.39003754e+00  1.07335434e+01\n -5.56662750e+00  5.95158386e+00  9.20955658e+00  8.89915466e+00\n  1.19402924e+01  1.61162567e+00  2.33942413e+00 -1.08734047e+02\n  4.34803009e+00  1.69058990e+00  1.10267410e+01  9.94057465e+00\n  4.71877289e+00  6.35655975e+00  2.18791962e+00  1.17915878e+01\n  1.96772003e+00  5.63783264e+00  5.60801697e+00 -1.74207306e+00\n  1.62360458e+01  1.30196075e+01  9.03101349e+00  4.43410492e+00\n  1.24575424e+01  1.20087433e+01  1.41515732e+01  9.87476349e+00\n  1.39366913e+00 -6.12926483e+00  3.98875427e+00  3.93428802e+00\n -3.45175934e+00  1.22925644e+01  1.33532181e+01  2.33248138e+00\n  1.54711990e+01  7.05890656e+00  1.49895248e+01 -2.31903839e+00\n  3.04390717e+00  2.05045090e+01  2.14336624e+01 -1.02220154e+00\n  6.65309906e+00  1.04384842e+01 -2.68959808e+00  5.94724274e+00\n  7.21635437e+00  3.54616547e+00  1.56855087e+01  4.91561127e+00\n  1.18482285e+01 -1.08734047e+02  2.72941589e-01  1.94077225e+01\n  6.80964661e+00  1.05283356e+01 -4.07777405e+00  1.50639496e+01\n  2.52298813e+01  1.49262772e+01  5.84548187e+00  8.20655060e+00\n -1.28534698e+00 -1.08734047e+02 -1.08734047e+02  1.26726151e+01\n  2.24881821e+01  9.93575287e+00  1.81182098e+00  1.68320389e+01\n  1.05313644e+01  3.16081772e+01  1.52820587e+00  1.24794540e+01\n -1.08734047e+02  6.28465271e+00  8.21106720e+00  3.88646698e+00\n -5.15373230e-01 -2.97978973e+00  1.62226105e+01 -8.24989319e+00\n  1.22205048e+01  2.16167374e+01  5.93141937e+00  3.24693298e+00\n  1.14300690e+01 -1.37938690e+00  1.53102875e+00  1.26327515e-01\n  4.71931458e-01 -6.15379333e-01  2.12718201e+00  7.73396301e+00\n  2.90254974e+00 -6.90766907e+00 -9.31495667e-01  1.11666336e+01\n  2.28215027e+00  1.97183456e+01  7.48928070e+00  2.57765427e+01\n  9.08829498e+00  1.25672684e+01 -3.15555573e+00  4.02400970e+00\n -6.13627625e+00 -1.08734047e+02  9.53797150e+00  3.91567230e+00\n  6.39603424e+00  6.39190674e-02  9.55442047e+00  1.67401962e+01\n  1.54518890e+00  2.59821320e+00  9.87224579e+00  2.23159790e-01\n  7.37258148e+00  1.43657455e+01 -8.99318695e+00 -3.17356110e+00\n -4.44487000e+00  4.22492218e+00  3.39982605e+00  3.50270844e+00\n  1.04638748e+01  1.26773453e+01  5.33753204e+00  8.28285980e+00\n  1.25866928e+01  6.61018372e-01 -5.89434052e+00  2.14973450e-01\n  1.29996185e+01 -9.79591370e-01  7.69294739e-01  1.74804916e+01\n  9.84304047e+00  1.18992615e+00 -3.99051666e+00 -1.08734047e+02\n  1.90057831e+01  2.72605057e+01 -7.77400208e+00  1.12137299e+01\n -1.61179352e+00  6.80643463e+00 -2.37253571e+00  5.20929718e+00\n  5.08620453e+00  1.44858017e+01  1.60886078e+01  5.97315216e+00\n  6.50944519e+00 -4.75470734e+00 -1.08734047e+02  1.43846664e+01\n -7.45096588e+00  5.65830994e+00  1.34732895e+01 -8.04485321e+00\n  1.25824738e+00 -1.55974579e+00 -9.54713440e+00  3.82561493e+00\n -5.90381622e+00  3.17017365e+00 -1.08734047e+02  3.95043182e+00\n  6.46387482e+00  1.49816437e+01 -1.08734047e+02 -1.50709534e+00\n -5.88310242e+00  1.30901108e+01 -1.08734047e+02 -8.78860474e-01\n -1.31056213e+00  8.52710724e+00  1.28849869e+01  1.30492630e+01\n  1.09861908e+01  1.22685394e+01  1.75047073e+01  1.19553299e+01\n  7.39619446e+00  3.25334244e+01  7.68293762e+00  1.99036942e+01\n  6.35274506e+00  2.35868835e+00  1.03381195e+01  5.02199554e+00\n -6.00639343e-01 -2.61695862e+00  4.70030212e+00  1.24608994e+01\n  1.24868393e+01  5.53829193e+00 -8.54606628e-01  2.38238602e+01\n -6.29875183e-01  2.77956390e+00  1.20540237e+01  1.06619492e+01\n  1.57945786e+01  5.90393829e+00  2.59938812e+00 -7.05887604e+00\n  1.53829193e+00 -1.04978943e+00  2.12429123e+01  2.04185715e+01\n  7.16939545e+00  1.28746796e+00  1.03855667e+01 -1.67533875e-01\n  2.78041077e+00  7.43217468e+00  7.66706848e+00  1.62404633e+00\n -6.73915100e+00  2.47852325e+00  1.96385956e+00  1.72471161e+01\n  4.02700043e+00 -4.28984070e+00  2.80955505e+00 -1.71411896e+00\n  4.32515717e+00  1.49715424e+00 -2.74143219e+00  8.43387604e+00\n -1.08734047e+02  1.73413849e+00 -3.91110992e+00 -2.84210968e+00\n  5.25168610e+00  7.76874542e+00  3.16309357e+00 -1.27196503e+00\n  8.44287872e+00 -2.05909729e-01  1.05773163e+00  3.96272278e+00\n  4.16341400e+00  6.37703705e+00  3.53150177e+00 -2.96531677e-01\n -3.48934174e+00  6.87403870e+00  7.25301361e+00  5.56771088e+00\n  2.09492493e+00  1.10630951e+01  1.27017746e+01 -1.08734047e+02\n  8.59740448e+00  4.36157990e+00  3.72638702e+00  5.40096283e+00\n  6.92354584e+00 -2.26992035e+00  8.64597321e+00  4.72763824e+00\n  1.46393585e+01 -2.37364960e+00  8.10608673e+00  5.11559296e+00\n  9.91048431e+00  9.12313080e+00  3.82950592e+00 -4.97863007e+00\n -2.40673065e+00  3.95154572e+00  2.91770935e+00  9.94605255e+00\n  3.90015411e+00  1.10921478e+00  1.79425812e+00  1.72978210e+00\n  5.50147247e+00  3.58899689e+00  2.48732758e+00  6.95354462e+00\n  2.30561066e+00  1.69089813e+01  1.18021393e+00  7.27165985e+00\n  3.98250580e+00  1.11435776e+01  7.80782318e+00  5.92562103e+00\n  9.73102570e+00 -1.08734047e+02 -1.08734047e+02  2.52921219e+01\n -5.58097839e-01  9.66825867e+00  4.06022644e+00  6.64528656e+00\n  6.11308289e+00  1.04723740e+01 -1.07106018e+00 -3.07666779e+00\n -5.20980835e-01  4.06232452e+00  1.73304672e+01  1.29546356e+00\n  4.94161224e+00 -6.46178436e+00  4.33367157e+00 -8.99873352e+00\n  1.42797699e+01 -6.89384460e+00 -4.13436890e-01 -2.92251587e-01\n  2.10820084e+01  1.05814056e+01  2.12780380e+01  1.68534012e+01\n  1.33009567e+01  8.20967865e+00  1.16087570e+01  1.27012405e+01\n  4.98115540e+00  1.06843719e+01  9.58799744e+00 -1.71360016e+00\n  9.51332092e-01  3.00464630e+00  1.25682220e+01  1.57005463e+01\n  6.67922974e-01  1.19112015e+01  1.18643417e+01  7.44910431e+00\n  7.98584747e+00  8.80471039e+00  7.88336945e+00  7.38370514e+00\n  8.83321381e+00  9.27455902e+00 -1.69974518e+00 -3.73481750e-01\n  7.58125305e+00  1.23559418e+01  4.18266296e-01  6.73881531e+00\n  7.28395081e+00  6.99103546e+00 -3.26686859e+00  5.52897644e+00\n  7.37198639e+00  5.64768982e+00 -4.21807098e+00 -4.04016876e+00\n -1.47904968e+00  1.30058517e+01  4.23903656e+00  8.02935028e+00\n  6.56594086e+00  1.05282669e+01  1.43902130e+01  7.64079285e+00\n  2.30678558e+00  2.10357895e+01 -2.29070282e+00  7.71409607e+00\n -1.02007828e+01 -4.52391815e+00 -1.08734047e+02  6.42563629e+00\n  1.54225082e+01 -1.08734047e+02  6.36869812e+00  1.26045990e+00\n  3.53148651e+00  1.81794052e+01  1.13826523e+01 -8.88799286e+00\n  6.87638855e+00  2.99595642e+00  4.42195892e+00 -1.08734047e+02\n -1.29426575e+00  1.54421234e+01  1.12473831e+01  8.35078430e+00\n  2.36314774e+01  5.86985779e+00  1.28022995e+01  9.70702362e+00\n -5.85884094e-01 -3.65070343e+00  5.14204407e+00  1.41804657e+01\n -1.08734047e+02 -4.42912292e+00  1.44209061e+01 -5.94786835e+00\n  1.80775452e+00 -2.80056000e+00 -6.42631531e-01  1.06788788e+01\n -7.02780914e+00  8.63428497e+00  3.78617859e+00  9.34767914e+00\n  1.22309799e+01  2.22382355e+00  1.16879807e+01  1.44023666e+01\n -1.08734047e+02  7.59568787e+00  1.03952560e+01  6.94446564e+00\n  5.10099030e+00 -1.72615051e-01  1.10484314e+00  1.48756332e+01\n  6.08539581e+00  8.20288849e+00 -7.94361115e+00 -1.08734047e+02\n -8.26518250e+00  1.24802322e+01 -5.92094421e+00  3.19319153e+00\n -2.32215881e+00  8.98957062e+00  8.63822937e+00  6.94282532e+00\n  1.04490204e+01 -2.48448944e+00  1.23819656e+01 -1.08734047e+02\n  1.49185638e+01  1.93565369e+00  2.16609116e+01 -3.63002777e+00\n  3.23413849e+00 -3.24569702e-01 -3.76612854e+00 -5.15678406e-01\n  1.59995041e+01  5.55410004e+00  2.37570953e+00  2.29953766e+00\n  5.05186462e+00  1.28663177e+01  2.85588074e+00  4.62409210e+00\n  2.71061707e+00  1.52357483e+00  3.02465057e+00  1.81448441e+01\n  4.06436920e+00 -4.47188568e+00 -3.54419708e+00  2.35346603e+01\n -3.10005188e-01  5.95740509e+00 -2.45969391e+00  1.32018356e+01\n  1.82889252e+01 -5.48119354e+00  4.68089294e+00  9.10335541e+00\n -5.05635071e+00  5.38681030e-01 -7.07740021e+00  9.29267883e-01\n  9.95445251e+00  9.70995331e+00  5.12628937e+00 -5.87556458e+00\n  1.29408646e+01 -5.06461334e+00 -2.51699066e+00 -2.83831024e+00\n -1.08734047e+02  1.11950912e+01 -6.61805725e+00 -9.76103973e+00\n -2.41869354e+00  4.91349030e+00  8.92818451e+00  1.26076202e+01\n  1.27231674e+01  1.56726837e+01  7.26927185e+00  1.65784378e+01\n  2.35074615e+00  1.47878265e+01  7.17555237e+00 -1.36594391e+00\n  7.08434296e+00 -7.52001190e+00  1.28913422e+01 -1.08734047e+02\n  2.44519806e+00  1.08356705e+01 -1.08734047e+02  8.10601044e+00\n  3.30597687e+00 -2.42262268e+00  1.28311234e+01  1.30286331e+01\n  1.18465958e+01  8.10050964e+00  1.29586258e+01  1.93674393e+01\n  2.01082382e+01  8.35854340e+00  9.33700562e-01 -9.49249268e-02\n  3.59029388e+00 -2.81138611e+00 -3.93739319e+00  5.74662018e+00\n  1.26087952e+00  9.01029968e+00  2.43811722e+01  1.81541443e+00\n  2.10544357e+01 -3.49140930e+00  1.04142761e+00  1.23892059e+01\n  6.03691864e+00  8.43566132e+00  5.43290710e+00  1.29027939e+01\n  3.05886078e+00  1.27079544e+01  2.04645538e+00 -4.49604797e+00\n  6.96332550e+00  1.92047577e+01  1.28720322e+01  1.30420685e+01\n -1.44834900e+00  3.39689636e+00 -1.08734047e+02 -1.08734047e+02])>with<JVPTrace(level=2/0)>\n  with primal = DeviceArray([ 2.55960846e+00,  2.98984528e+00, -2.01826477e+00,\n                              4.42510223e+00, -1.60354614e-01,  1.02274017e+01,\n                             -3.77750397e+00,  4.16445160e+00,  8.41230774e+00,\n                              5.01344299e+00, -2.24720764e+00,  1.43056717e+01,\n                              7.74394226e+00,  1.00119781e+01,  6.17855072e+00,\n                              1.00727921e+01,  1.16706390e+01,  5.75907898e+00,\n                             -1.51145935e-01,  1.12019806e+01,  2.81116486e+00,\n                              1.59026337e+00,  1.15424347e+01,  7.73053741e+00,\n                              9.78139496e+00,  2.35562897e+00,  1.11088104e+01,\n                              6.67076111e-01,  2.82883453e+00,  1.18745956e+01,\n                              1.30801620e+01,  1.12664871e+01,  9.24453735e-01,\n                              1.76227570e+00, -3.95429993e+00,  7.14577484e+00,\n                             -2.56809998e+00, -1.33277130e+00,  5.68570709e+00,\n                              1.86101532e+01, -3.60252380e-01,  2.56795578e+01,\n                             -1.09446716e+00, -3.54316711e+00, -4.40373993e+00,\n                              3.76604462e+00, -2.15702057e+00, -5.08347321e+00,\n                             -3.20392609e+00,  2.52632980e+01,  3.67277527e+00,\n                              3.04677582e+00,  7.42536926e+00,  1.57620468e+01,\n                              2.84614563e-01,  7.98683167e+00,  1.63998871e+01,\n                              2.16522980e+00,  6.71611023e+00,  6.85398102e+00,\n                             -2.93241882e+00,  5.99815369e-01,  1.70941238e+01,\n                             -7.19987488e+00,  1.18104706e+01, -5.64195251e+00,\n                              2.57874985e+01,  4.48108673e+00,  4.62977600e+00,\n                             -2.99738312e+00,  1.17848969e+00, -1.08734047e+02,\n                              4.25413513e+00, -1.03804016e+00,  1.70102463e+01,\n                              1.39814911e+01,  1.81745148e+00,  9.01252747e-01,\n                             -4.24135590e+00, -4.67790985e+00,  1.53820267e+01,\n                             -4.46723938e+00,  6.11458588e+00,  1.21524811e+00,\n                              7.72432709e+00, -1.00237579e+01,  5.35063171e+00,\n                              6.98793793e+00,  3.20205688e-01,  3.64177704e+00,\n                              1.04909592e+01,  9.77941132e+00,  5.17493439e+00,\n                              8.47511292e-01,  1.22405243e+01,  1.48329926e+00,\n                              1.52375717e+01,  6.40121460e-01,  1.87953262e+01,\n                              1.06055756e+01, -7.01519012e+00,  9.57967377e+00,\n                             -1.08734047e+02,  3.64207458e+00,  1.60956039e+01,\n                              4.42787933e+00,  1.49938202e+01,  6.91502380e+00,\n                              2.88993454e+01, -6.85189056e+00, -2.63561249e+00,\n                             -7.33310699e+00, -3.40934753e-01,  2.77111740e+01,\n                              7.94686127e+00,  1.35872650e+00,  4.70781708e+00,\n                             -2.14289093e+00, -5.40101624e+00,  8.43054962e+00,\n                             -1.08734047e+02,  1.61149597e+00,  1.92754364e+00,\n                              6.14095306e+00,  1.73530807e+01, -7.28325653e+00,\n                              1.48183060e+01,  1.21360779e+00,  3.93973541e+00,\n                              1.13730621e+00, -3.33493805e+00, -4.83098602e+00,\n                              1.34156952e+01, -9.10057068e-01,  1.13973846e+01,\n                              1.04582138e+01,  1.92058563e+00,  2.40206146e+00,\n                             -1.08734047e+02, -3.92988586e+00, -3.57103729e+00,\n                             -2.40489960e+00,  3.09243011e+00,  1.21734467e+01,\n                             -7.59360504e+00,  1.75518417e+01,  7.21242523e+00,\n                             -4.57260895e+00, -1.08734047e+02, -3.00403595e+00,\n                              3.41075134e+00,  5.23462677e+00, -1.15953064e+00,\n                              1.61894989e+00, -6.28826141e+00, -8.99626923e+00,\n                              2.96916428e+01,  1.52152939e+01, -3.93073273e+00,\n                              1.41454926e+01, -4.87319946e-01, -3.24632263e+00,\n                              3.58030701e+00, -5.35471344e+00,  7.68417358e-01,\n                              1.23497009e-01,  1.45652695e+01, -5.29472351e-01,\n                              7.09043884e+00,  1.17189560e+01, -9.32518005e-01,\n                             -3.39476776e+00,  9.65348816e+00, -6.80900574e+00,\n                              1.42479401e+01,  9.46151733e-01,  7.17530060e+00,\n                              7.67570496e-01, -7.40699768e-01,  1.04705429e+01,\n                              7.54743958e+00,  6.34733582e+00,  4.24160004e+00,\n                             -3.08206940e+00, -3.16822815e+00,  2.00215836e+01,\n                              3.84519196e+00, -3.41999817e+00,  1.30547104e+01,\n                              6.29651642e+00,  3.99558258e+00,  7.01844025e+00,\n                              1.57357941e+01,  1.88219070e+01,  1.72597504e+00,\n                              1.89216614e-01, -6.58744812e-01,  2.71890488e+01,\n                              2.18815613e+00,  8.06655121e+00, -6.97263336e+00,\n                              5.53885651e+00,  8.71324158e+00,  1.08198090e+01,\n                              1.25757904e+01,  1.01583786e+01,  7.13536072e+00,\n                              2.36200790e+01,  4.34959412e+00,  1.41035080e+01,\n                              9.07967377e+00,  1.64436569e+01,  5.73692322e+00,\n                              3.03870392e+00,  1.11227036e+01,  1.38518143e+01,\n                              7.92867279e+00, -4.44881439e+00,  7.40833282e+00,\n                              1.17504730e+01,  6.47968292e+00, -4.50959778e+00,\n                              6.56563568e+00,  1.73686600e+01, -2.00513458e+00,\n                              1.04743958e-01,  7.77663422e+00, -5.46817780e+00,\n                              6.98667908e+00,  4.13430023e+00, -1.94306946e+00,\n                              1.88773117e+01,  1.06114349e+01,  1.87171936e+00,\n                              1.24238586e+00,  1.38505707e+01, -8.40133667e-01,\n                              1.12427444e+01,  7.43039703e+00,  3.01068878e+00,\n                              4.85224152e+00,  9.00240326e+00,  9.67576599e+00,\n                             -2.70200348e+00,  7.75425720e+00,  1.71523285e+00,\n                              1.38889389e+01,  9.83946991e+00,  3.83936310e+00,\n                              1.67753601e+00,  7.25540924e+00,  3.51862335e+00,\n                              5.80253601e-01,  1.23946381e+01,  2.88005066e+00,\n                              2.26650238e+00,  9.41585541e+00,  2.73942566e+00,\n                              5.59449005e+00,  4.01467133e+00, -2.53486633e+00,\n                              5.34983826e+00,  4.30518341e+00, -2.19432831e+00,\n                              1.27932587e+01,  5.84990692e+00,  7.68173218e-01,\n                              9.32255554e+00,  7.09987640e+00,  3.91371918e+00,\n                              1.43414993e+01,  7.79413605e+00,  4.89688873e+00,\n                             -1.08734047e+02, -4.06916809e+00, -5.13774109e+00,\n                              5.81227875e+00,  7.25856781e+00,  4.09114075e+00,\n                             -8.89907837e-01,  1.21801605e+01,  1.38908539e+01,\n                              1.41946640e+01, -1.08734047e+02, -2.60896301e+00,\n                              7.61011505e+00, -1.17518616e+00,  5.66603851e+00,\n                              1.05456390e+01, -9.06608582e-01,  1.92153778e+01,\n                             -6.28907776e+00,  9.79011536e-01,  9.16402435e+00,\n                             -3.51649475e+00,  9.47682953e+00, -1.08734047e+02,\n                              4.38069916e+00,  3.54741669e+00,  5.16761780e+00,\n                              3.22734070e+00, -1.08734047e+02,  1.99243927e+00,\n                             -9.02732849e-01,  6.23758698e+00,  1.17833481e+01,\n                              1.28773575e+01,  1.44319153e+00,  9.71900940e+00,\n                              1.74104462e+01, -6.49604797e-01,  1.25231400e+01,\n                             -1.08734047e+02,  9.47963715e+00, -1.49565887e+00,\n                             -3.21833801e+00,  1.36638336e+01, -6.34702301e+00,\n                              1.85103531e+01,  1.39612961e+01,  1.13484573e+01,\n                              4.41452026e-01, -1.98821259e+00,  4.77134705e+00,\n                              5.17252350e+00,  3.09989929e+00,  5.75019073e+00,\n                              6.87272644e+00,  3.24384308e+00,  1.90697784e+01,\n                              5.09541321e+00,  2.23723679e+01,  1.44704056e+01,\n                              1.30934677e+01, -4.95271301e+00,  1.31804657e+00,\n                             -8.08869171e+00,  1.21580276e+01, -6.25190735e-01,\n                              1.83570862e+00,  3.01574936e+01, -1.08734047e+02,\n                              4.86304474e+00,  1.08831024e+00,  3.46382904e+00,\n                             -2.20246887e+00,  2.47388458e+00,  2.14938583e+01,\n                              1.27423782e+01,  1.11393051e+01,  3.47483826e+00,\n                              7.10403442e-01,  7.29537201e+00,  6.19796753e-01,\n                              6.73989105e+00,  4.36731720e+00, -4.54914856e+00,\n                              1.40986557e+01,  4.48271942e+00,  1.91222000e+01,\n                              1.47550964e+00,  2.13789749e+01,  7.55184174e+00,\n                              7.63014984e+00,  1.53428650e+00,  7.77885437e-01,\n                              6.06370544e+00,  8.56333923e+00,  1.51910019e+01,\n                              4.27012634e+00,  1.50333939e+01,  6.87153625e+00,\n                              1.23747406e+01,  4.68849182e+00, -4.92054749e+00,\n                              1.00559158e+01,  4.58032990e+00,  2.09428406e+00,\n                              8.14408875e+00, -7.82978821e+00, -1.01126556e+01,\n                             -4.40628052e-01,  1.11552887e+01,  2.04024734e+01,\n                              1.01912308e+01,  1.59563141e+01,  7.43164825e+00,\n                              7.58870697e+00,  5.51618195e+00, -7.34807587e+00,\n                              1.17917099e+01,  1.91892548e+01,  2.05260086e+01,\n                              5.93740082e+00,  1.70508270e+01,  1.37911148e+01,\n                              7.84442902e+00,  4.19621277e+00,  1.81303558e+01,\n                              7.15332794e+00,  2.76859283e+00,  2.21842575e+01,\n                              5.48609161e+00,  2.02086411e+01, -1.08734047e+02,\n                              5.38218689e+00, -9.48113251e+00, -8.80373383e+00,\n                              2.07542419e+00, -5.55372620e+00, -1.64060211e+00,\n                              1.72068787e+00, -1.08734047e+02,  8.21971130e+00,\n                              7.48305511e+00,  3.76387787e+00, -4.09386444e+00,\n                              2.41133041e+01, -8.42514038e-02, -6.43958282e+00,\n                             -6.05543518e+00,  4.80528259e+00,  4.72266388e+00,\n                             -6.86948395e+00, -1.08734047e+02, -2.99964905e-01,\n                             -1.78559875e+00,  1.58175430e+01,  1.91139221e-01,\n                             -1.97196960e-01,  3.67132797e+01,  2.54976654e+00,\n                              9.78258514e+00,  1.63582077e+01,  3.07188416e+00,\n                             -6.01333618e-01, -8.89259338e-01, -2.62995911e+00,\n                              1.31337738e+00,  1.59466171e+01,  1.69369125e+01,\n                              1.27671356e+01,  3.21791077e+00,  1.50843048e+00,\n                             -5.32833099e+00,  8.55371857e+00,  1.67192078e+00,\n                              3.11070251e+00,  8.51702118e+00,  1.31172180e-01,\n                              7.39003754e+00,  1.07335434e+01, -5.56662750e+00,\n                              5.95158386e+00,  9.20955658e+00,  8.89915466e+00,\n                              1.19402924e+01,  1.61162567e+00,  2.33942413e+00,\n                             -1.08734047e+02,  4.34803009e+00,  1.69058990e+00,\n                              1.10267410e+01,  9.94057465e+00,  4.71877289e+00,\n                              6.35655975e+00,  2.18791962e+00,  1.17915878e+01,\n                              1.96772003e+00,  5.63783264e+00,  5.60801697e+00,\n                             -1.74207306e+00,  1.62360458e+01,  1.30196075e+01,\n                              9.03101349e+00,  4.43410492e+00,  1.24575424e+01,\n                              1.20087433e+01,  1.41515732e+01,  9.87476349e+00,\n                              1.39366913e+00, -6.12926483e+00,  3.98875427e+00,\n                              3.93428802e+00, -3.45175934e+00,  1.22925644e+01,\n                              1.33532181e+01,  2.33248138e+00,  1.54711990e+01,\n                              7.05890656e+00,  1.49895248e+01, -2.31903839e+00,\n                              3.04390717e+00,  2.05045090e+01,  2.14336624e+01,\n                             -1.02220154e+00,  6.65309906e+00,  1.04384842e+01,\n                             -2.68959808e+00,  5.94724274e+00,  7.21635437e+00,\n                              3.54616547e+00,  1.56855087e+01,  4.91561127e+00,\n                              1.18482285e+01, -1.08734047e+02,  2.72941589e-01,\n                              1.94077225e+01,  6.80964661e+00,  1.05283356e+01,\n                             -4.07777405e+00,  1.50639496e+01,  2.52298813e+01,\n                              1.49262772e+01,  5.84548187e+00,  8.20655060e+00,\n                             -1.28534698e+00, -1.08734047e+02, -1.08734047e+02,\n                              1.26726151e+01,  2.24881821e+01,  9.93575287e+00,\n                              1.81182098e+00,  1.68320389e+01,  1.05313644e+01,\n                              3.16081772e+01,  1.52820587e+00,  1.24794540e+01,\n                             -1.08734047e+02,  6.28465271e+00,  8.21106720e+00,\n                              3.88646698e+00, -5.15373230e-01, -2.97978973e+00,\n                              1.62226105e+01, -8.24989319e+00,  1.22205048e+01,\n                              2.16167374e+01,  5.93141937e+00,  3.24693298e+00,\n                              1.14300690e+01, -1.37938690e+00,  1.53102875e+00,\n                              1.26327515e-01,  4.71931458e-01, -6.15379333e-01,\n                              2.12718201e+00,  7.73396301e+00,  2.90254974e+00,\n                             -6.90766907e+00, -9.31495667e-01,  1.11666336e+01,\n                              2.28215027e+00,  1.97183456e+01,  7.48928070e+00,\n                              2.57765427e+01,  9.08829498e+00,  1.25672684e+01,\n                             -3.15555573e+00,  4.02400970e+00, -6.13627625e+00,\n                             -1.08734047e+02,  9.53797150e+00,  3.91567230e+00,\n                              6.39603424e+00,  6.39190674e-02,  9.55442047e+00,\n                              1.67401962e+01,  1.54518890e+00,  2.59821320e+00,\n                              9.87224579e+00,  2.23159790e-01,  7.37258148e+00,\n                              1.43657455e+01, -8.99318695e+00, -3.17356110e+00,\n                             -4.44487000e+00,  4.22492218e+00,  3.39982605e+00,\n                              3.50270844e+00,  1.04638748e+01,  1.26773453e+01,\n                              5.33753204e+00,  8.28285980e+00,  1.25866928e+01,\n                              6.61018372e-01, -5.89434052e+00,  2.14973450e-01,\n                              1.29996185e+01, -9.79591370e-01,  7.69294739e-01,\n                              1.74804916e+01,  9.84304047e+00,  1.18992615e+00,\n                             -3.99051666e+00, -1.08734047e+02,  1.90057831e+01,\n                              2.72605057e+01, -7.77400208e+00,  1.12137299e+01,\n                             -1.61179352e+00,  6.80643463e+00, -2.37253571e+00,\n                              5.20929718e+00,  5.08620453e+00,  1.44858017e+01,\n                              1.60886078e+01,  5.97315216e+00,  6.50944519e+00,\n                             -4.75470734e+00, -1.08734047e+02,  1.43846664e+01,\n                             -7.45096588e+00,  5.65830994e+00,  1.34732895e+01,\n                             -8.04485321e+00,  1.25824738e+00, -1.55974579e+00,\n                             -9.54713440e+00,  3.82561493e+00, -5.90381622e+00,\n                              3.17017365e+00, -1.08734047e+02,  3.95043182e+00,\n                              6.46387482e+00,  1.49816437e+01, -1.08734047e+02,\n                             -1.50709534e+00, -5.88310242e+00,  1.30901108e+01,\n                             -1.08734047e+02, -8.78860474e-01, -1.31056213e+00,\n                              8.52710724e+00,  1.28849869e+01,  1.30492630e+01,\n                              1.09861908e+01,  1.22685394e+01,  1.75047073e+01,\n                              1.19553299e+01,  7.39619446e+00,  3.25334244e+01,\n                              7.68293762e+00,  1.99036942e+01,  6.35274506e+00,\n                              2.35868835e+00,  1.03381195e+01,  5.02199554e+00,\n                             -6.00639343e-01, -2.61695862e+00,  4.70030212e+00,\n                              1.24608994e+01,  1.24868393e+01,  5.53829193e+00,\n                             -8.54606628e-01,  2.38238602e+01, -6.29875183e-01,\n                              2.77956390e+00,  1.20540237e+01,  1.06619492e+01,\n                              1.57945786e+01,  5.90393829e+00,  2.59938812e+00,\n                             -7.05887604e+00,  1.53829193e+00, -1.04978943e+00,\n                              2.12429123e+01,  2.04185715e+01,  7.16939545e+00,\n                              1.28746796e+00,  1.03855667e+01, -1.67533875e-01,\n                              2.78041077e+00,  7.43217468e+00,  7.66706848e+00,\n                              1.62404633e+00, -6.73915100e+00,  2.47852325e+00,\n                              1.96385956e+00,  1.72471161e+01,  4.02700043e+00,\n                             -4.28984070e+00,  2.80955505e+00, -1.71411896e+00,\n                              4.32515717e+00,  1.49715424e+00, -2.74143219e+00,\n                              8.43387604e+00, -1.08734047e+02,  1.73413849e+00,\n                             -3.91110992e+00, -2.84210968e+00,  5.25168610e+00,\n                              7.76874542e+00,  3.16309357e+00, -1.27196503e+00,\n                              8.44287872e+00, -2.05909729e-01,  1.05773163e+00,\n                              3.96272278e+00,  4.16341400e+00,  6.37703705e+00,\n                              3.53150177e+00, -2.96531677e-01, -3.48934174e+00,\n                              6.87403870e+00,  7.25301361e+00,  5.56771088e+00,\n                              2.09492493e+00,  1.10630951e+01,  1.27017746e+01,\n                             -1.08734047e+02,  8.59740448e+00,  4.36157990e+00,\n                              3.72638702e+00,  5.40096283e+00,  6.92354584e+00,\n                             -2.26992035e+00,  8.64597321e+00,  4.72763824e+00,\n                              1.46393585e+01, -2.37364960e+00,  8.10608673e+00,\n                              5.11559296e+00,  9.91048431e+00,  9.12313080e+00,\n                              3.82950592e+00, -4.97863007e+00, -2.40673065e+00,\n                              3.95154572e+00,  2.91770935e+00,  9.94605255e+00,\n                              3.90015411e+00,  1.10921478e+00,  1.79425812e+00,\n                              1.72978210e+00,  5.50147247e+00,  3.58899689e+00,\n                              2.48732758e+00,  6.95354462e+00,  2.30561066e+00,\n                              1.69089813e+01,  1.18021393e+00,  7.27165985e+00,\n                              3.98250580e+00,  1.11435776e+01,  7.80782318e+00,\n                              5.92562103e+00,  9.73102570e+00, -1.08734047e+02,\n                             -1.08734047e+02,  2.52921219e+01, -5.58097839e-01,\n                              9.66825867e+00,  4.06022644e+00,  6.64528656e+00,\n                              6.11308289e+00,  1.04723740e+01, -1.07106018e+00,\n                             -3.07666779e+00, -5.20980835e-01,  4.06232452e+00,\n                              1.73304672e+01,  1.29546356e+00,  4.94161224e+00,\n                             -6.46178436e+00,  4.33367157e+00, -8.99873352e+00,\n                              1.42797699e+01, -6.89384460e+00, -4.13436890e-01,\n                             -2.92251587e-01,  2.10820084e+01,  1.05814056e+01,\n                              2.12780380e+01,  1.68534012e+01,  1.33009567e+01,\n                              8.20967865e+00,  1.16087570e+01,  1.27012405e+01,\n                              4.98115540e+00,  1.06843719e+01,  9.58799744e+00,\n                             -1.71360016e+00,  9.51332092e-01,  3.00464630e+00,\n                              1.25682220e+01,  1.57005463e+01,  6.67922974e-01,\n                              1.19112015e+01,  1.18643417e+01,  7.44910431e+00,\n                              7.98584747e+00,  8.80471039e+00,  7.88336945e+00,\n                              7.38370514e+00,  8.83321381e+00,  9.27455902e+00,\n                             -1.69974518e+00, -3.73481750e-01,  7.58125305e+00,\n                              1.23559418e+01,  4.18266296e-01,  6.73881531e+00,\n                              7.28395081e+00,  6.99103546e+00, -3.26686859e+00,\n                              5.52897644e+00,  7.37198639e+00,  5.64768982e+00,\n                             -4.21807098e+00, -4.04016876e+00, -1.47904968e+00,\n                              1.30058517e+01,  4.23903656e+00,  8.02935028e+00,\n                              6.56594086e+00,  1.05282669e+01,  1.43902130e+01,\n                              7.64079285e+00,  2.30678558e+00,  2.10357895e+01,\n                             -2.29070282e+00,  7.71409607e+00, -1.02007828e+01,\n                             -4.52391815e+00, -1.08734047e+02,  6.42563629e+00,\n                              1.54225082e+01, -1.08734047e+02,  6.36869812e+00,\n                              1.26045990e+00,  3.53148651e+00,  1.81794052e+01,\n                              1.13826523e+01, -8.88799286e+00,  6.87638855e+00,\n                              2.99595642e+00,  4.42195892e+00, -1.08734047e+02,\n                             -1.29426575e+00,  1.54421234e+01,  1.12473831e+01,\n                              8.35078430e+00,  2.36314774e+01,  5.86985779e+00,\n                              1.28022995e+01,  9.70702362e+00, -5.85884094e-01,\n                             -3.65070343e+00,  5.14204407e+00,  1.41804657e+01,\n                             -1.08734047e+02, -4.42912292e+00,  1.44209061e+01,\n                             -5.94786835e+00,  1.80775452e+00, -2.80056000e+00,\n                             -6.42631531e-01,  1.06788788e+01, -7.02780914e+00,\n                              8.63428497e+00,  3.78617859e+00,  9.34767914e+00,\n                              1.22309799e+01,  2.22382355e+00,  1.16879807e+01,\n                              1.44023666e+01, -1.08734047e+02,  7.59568787e+00,\n                              1.03952560e+01,  6.94446564e+00,  5.10099030e+00,\n                             -1.72615051e-01,  1.10484314e+00,  1.48756332e+01,\n                              6.08539581e+00,  8.20288849e+00, -7.94361115e+00,\n                             -1.08734047e+02, -8.26518250e+00,  1.24802322e+01,\n                             -5.92094421e+00,  3.19319153e+00, -2.32215881e+00,\n                              8.98957062e+00,  8.63822937e+00,  6.94282532e+00,\n                              1.04490204e+01, -2.48448944e+00,  1.23819656e+01,\n                             -1.08734047e+02,  1.49185638e+01,  1.93565369e+00,\n                              2.16609116e+01, -3.63002777e+00,  3.23413849e+00,\n                             -3.24569702e-01, -3.76612854e+00, -5.15678406e-01,\n                              1.59995041e+01,  5.55410004e+00,  2.37570953e+00,\n                              2.29953766e+00,  5.05186462e+00,  1.28663177e+01,\n                              2.85588074e+00,  4.62409210e+00,  2.71061707e+00,\n                              1.52357483e+00,  3.02465057e+00,  1.81448441e+01,\n                              4.06436920e+00, -4.47188568e+00, -3.54419708e+00,\n                              2.35346603e+01, -3.10005188e-01,  5.95740509e+00,\n                             -2.45969391e+00,  1.32018356e+01,  1.82889252e+01,\n                             -5.48119354e+00,  4.68089294e+00,  9.10335541e+00,\n                             -5.05635071e+00,  5.38681030e-01, -7.07740021e+00,\n                              9.29267883e-01,  9.95445251e+00,  9.70995331e+00,\n                              5.12628937e+00, -5.87556458e+00,  1.29408646e+01,\n                             -5.06461334e+00, -2.51699066e+00, -2.83831024e+00,\n                             -1.08734047e+02,  1.11950912e+01, -6.61805725e+00,\n                             -9.76103973e+00, -2.41869354e+00,  4.91349030e+00,\n                              8.92818451e+00,  1.26076202e+01,  1.27231674e+01,\n                              1.56726837e+01,  7.26927185e+00,  1.65784378e+01,\n                              2.35074615e+00,  1.47878265e+01,  7.17555237e+00,\n                             -1.36594391e+00,  7.08434296e+00, -7.52001190e+00,\n                              1.28913422e+01, -1.08734047e+02,  2.44519806e+00,\n                              1.08356705e+01, -1.08734047e+02,  8.10601044e+00,\n                              3.30597687e+00, -2.42262268e+00,  1.28311234e+01,\n                              1.30286331e+01,  1.18465958e+01,  8.10050964e+00,\n                              1.29586258e+01,  1.93674393e+01,  2.01082382e+01,\n                              8.35854340e+00,  9.33700562e-01, -9.49249268e-02,\n                              3.59029388e+00, -2.81138611e+00, -3.93739319e+00,\n                              5.74662018e+00,  1.26087952e+00,  9.01029968e+00,\n                              2.43811722e+01,  1.81541443e+00,  2.10544357e+01,\n                             -3.49140930e+00,  1.04142761e+00,  1.23892059e+01,\n                              6.03691864e+00,  8.43566132e+00,  5.43290710e+00,\n                              1.29027939e+01,  3.05886078e+00,  1.27079544e+01,\n                              2.04645538e+00, -4.49604797e+00,  6.96332550e+00,\n                              1.92047577e+01,  1.28720322e+01,  1.30420685e+01,\n                             -1.44834900e+00,  3.39689636e+00, -1.08734047e+02,\n                             -1.08734047e+02], dtype=float32)\n       tangent = Traced<ShapedArray(float32[1000]):JaxprTrace(level=1/0)>\nSee https://jax.readthedocs.io/en/latest/errors.html#jax.errors.TracerArrayConversionError\n\nThe stack trace below excludes JAX-internal frames.\nThe preceding is the original exception that occurred, unmodified.\n\n--------------------",
            "\nThe above exception was the direct cause of the following exception:\n",
            "\u001b[0;31mTracerArrayConversionError\u001b[0m                Traceback (most recent call last)",
            "\u001b[0;32m<ipython-input-101-858fce294309>\u001b[0m in \u001b[0;36m<module>\u001b[0;34m()\u001b[0m\n\u001b[1;32m      1\u001b[0m \u001b[0;34m\u001b[0m\u001b[0m\n\u001b[0;32m----> 2\u001b[0;31m \u001b[0mjax\u001b[0m\u001b[0;34m.\u001b[0m\u001b[0mgrad\u001b[0m\u001b[0;34m(\u001b[0m\u001b[0mOptionPrice\u001b[0m\u001b[0;34m,\u001b[0m \u001b[0margnums\u001b[0m\u001b[0;34m=\u001b[0m\u001b[0;36m1\u001b[0m\u001b[0;34m)\u001b[0m\u001b[0;34m(\u001b[0m\u001b[0;36m15\u001b[0m\u001b[0;34m,\u001b[0m \u001b[0;36m200.0\u001b[0m\u001b[0;34m,\u001b[0m \u001b[0;36m0.9\u001b[0m\u001b[0;34m,\u001b[0m \u001b[0;36m200.0\u001b[0m\u001b[0;34m,\u001b[0m \u001b[0;36m0.4\u001b[0m\u001b[0;34m,\u001b[0m \u001b[0;36m0.1\u001b[0m\u001b[0;34m,\u001b[0m \u001b[0;36m1.0\u001b[0m\u001b[0;34m)\u001b[0m\u001b[0;34m\u001b[0m\u001b[0;34m\u001b[0m\u001b[0m\n\u001b[0m",
            "\u001b[0;32m<ipython-input-99-1e28668d5f0e>\u001b[0m in \u001b[0;36mOptionPrice\u001b[0;34m(seed, K_val, B_val, S0, sigma_val, r_val, T_val)\u001b[0m\n\u001b[1;32m     47\u001b[0m     \u001b[0mPayoff\u001b[0m \u001b[0;34m=\u001b[0m \u001b[0;34m(\u001b[0m\u001b[0;36m1\u001b[0m \u001b[0;34m-\u001b[0m \u001b[0mnp\u001b[0m\u001b[0;34m.\u001b[0m\u001b[0many\u001b[0m\u001b[0;34m(\u001b[0m\u001b[0mavg_across_stocks\u001b[0m \u001b[0;34m<\u001b[0m \u001b[0mB\u001b[0m\u001b[0;34m[\u001b[0m\u001b[0;36m0\u001b[0m\u001b[0;34m]\u001b[0m\u001b[0;34m,\u001b[0m \u001b[0maxis\u001b[0m\u001b[0;34m=\u001b[0m\u001b[0;36m1\u001b[0m\u001b[0;34m)\u001b[0m\u001b[0;34m.\u001b[0m\u001b[0mastype\u001b[0m\u001b[0;34m(\u001b[0m\u001b[0mint\u001b[0m\u001b[0;34m)\u001b[0m\u001b[0;34m)\u001b[0m\u001b[0;34m*\u001b[0m \u001b[0mavg_across_stocks\u001b[0m\u001b[0;34m[\u001b[0m\u001b[0;34m:\u001b[0m\u001b[0;34m,\u001b[0m\u001b[0mN_STEPS\u001b[0m\u001b[0;34m]\u001b[0m\u001b[0;34m\u001b[0m\u001b[0;34m\u001b[0m\u001b[0m\n\u001b[1;32m     48\u001b[0m \u001b[0;34m\u001b[0m\u001b[0m\n\u001b[0;32m---> 49\u001b[0;31m     \u001b[0mBarrier_Call_price\u001b[0m \u001b[0;34m=\u001b[0m \u001b[0mnp\u001b[0m\u001b[0;34m.\u001b[0m\u001b[0mmean\u001b[0m\u001b[0;34m(\u001b[0m\u001b[0mnp\u001b[0m\u001b[0;34m.\u001b[0m\u001b[0mmaximum\u001b[0m\u001b[0;34m(\u001b[0m\u001b[0mPayoff\u001b[0m \u001b[0;34m-\u001b[0m \u001b[0mK\u001b[0m\u001b[0;34m,\u001b[0m \u001b[0;36m0\u001b[0m\u001b[0;34m)\u001b[0m \u001b[0;34m*\u001b[0m \u001b[0mjnp\u001b[0m\u001b[0;34m.\u001b[0m\u001b[0mexp\u001b[0m\u001b[0;34m(\u001b[0m\u001b[0;34m-\u001b[0m\u001b[0mr\u001b[0m\u001b[0;34m[\u001b[0m\u001b[0;36m0\u001b[0m\u001b[0;34m]\u001b[0m \u001b[0;34m*\u001b[0m \u001b[0mT\u001b[0m\u001b[0;34m[\u001b[0m\u001b[0;36m0\u001b[0m\u001b[0;34m]\u001b[0m\u001b[0;34m)\u001b[0m\u001b[0;34m)\u001b[0m\u001b[0;34m\u001b[0m\u001b[0;34m\u001b[0m\u001b[0m\n\u001b[0m\u001b[1;32m     50\u001b[0m     \u001b[0mprint\u001b[0m\u001b[0;34m(\u001b[0m\u001b[0;34m'printout'\u001b[0m\u001b[0;34m,\u001b[0m\u001b[0mtype\u001b[0m\u001b[0;34m(\u001b[0m\u001b[0mBarrier_Call_price\u001b[0m\u001b[0;34m)\u001b[0m\u001b[0;34m)\u001b[0m\u001b[0;34m\u001b[0m\u001b[0;34m\u001b[0m\u001b[0m\n\u001b[1;32m     51\u001b[0m     \u001b[0mY\u001b[0m \u001b[0;34m=\u001b[0m \u001b[0mjax\u001b[0m\u001b[0;34m.\u001b[0m\u001b[0mops\u001b[0m\u001b[0;34m.\u001b[0m\u001b[0mindex_update\u001b[0m\u001b[0;34m(\u001b[0m\u001b[0mY\u001b[0m\u001b[0;34m,\u001b[0m\u001b[0mjax\u001b[0m\u001b[0;34m.\u001b[0m\u001b[0mops\u001b[0m\u001b[0;34m.\u001b[0m\u001b[0mindex\u001b[0m\u001b[0;34m[\u001b[0m\u001b[0mop\u001b[0m\u001b[0;34m]\u001b[0m\u001b[0;34m,\u001b[0m\u001b[0mBarrier_Call_price\u001b[0m\u001b[0;34m)\u001b[0m\u001b[0;34m\u001b[0m\u001b[0;34m\u001b[0m\u001b[0m\n",
            "\u001b[0;31mTracerArrayConversionError\u001b[0m: The numpy.ndarray conversion method __array__() was called on the JAX Tracer object Traced<ConcreteArray([ 2.55960846e+00  2.98984528e+00 -2.01826477e+00  4.42510223e+00\n -1.60354614e-01  1.02274017e+01 -3.77750397e+00  4.16445160e+00\n  8.41230774e+00  5.01344299e+00 -2.24720764e+00  1.43056717e+01\n  7.74394226e+00  1.00119781e+01  6.17855072e+00  1.00727921e+01\n  1.16706390e+01  5.75907898e+00 -1.51145935e-01  1.12019806e+01\n  2.81116486e+00  1.59026337e+00  1.15424347e+01  7.73053741e+00\n  9.78139496e+00  2.35562897e+00  1.11088104e+01  6.67076111e-01\n  2.82883453e+00  1.18745956e+01  1.30801620e+01  1.12664871e+01\n  9.24453735e-01  1.76227570e+00 -3.95429993e+00  7.14577484e+00\n -2.56809998e+00 -1.33277130e+00  5.68570709e+00  1.86101532e+01\n -3.60252380e-01  2.56795578e+01 -1.09446716e+00 -3.54316711e+00\n -4.40373993e+00  3.76604462e+00 -2.15702057e+00 -5.08347321e+00\n -3.20392609e+00  2.52632980e+01  3.67277527e+00  3.04677582e+00\n  7.42536926e+00  1.57620468e+01  2.84614563e-01  7.98683167e+00\n  1.63998871e+01  2.16522980e+00  6.71611023e+00  6.85398102e+00\n -2.93241882e+00  5.99815369e-01  1.70941238e+01 -7.19987488e+00\n  1.18104706e+01 -5.64195251e+00  2.57874985e+01  4.48108673e+00\n  4.62977600e+00 -2.99738312e+00  1.17848969e+00 -1.08734047e+02\n  4.25413513e+00 -1.03804016e+00  1.70102463e+01  1.39814911e+01\n  1.81745148e+00  9.01252747e-01 -4.24135590e+00 -4.67790985e+00\n  1.53820267e+01 -4.46723938e+00  6.11458588e+00  1.21524811e+00\n  7.72432709e+00 -1.00237579e+01  5.35063171e+00  6.98793793e+00\n  3.20205688e-01  3.64177704e+00  1.04909592e+01  9.77941132e+00\n  5.17493439e+00  8.47511292e-01  1.22405243e+01  1.48329926e+00\n  1.52375717e+01  6.40121460e-01  1.87953262e+01  1.06055756e+01\n -7.01519012e+00  9.57967377e+00 -1.08734047e+02  3.64207458e+00\n  1.60956039e+01  4.42787933e+00  1.49938202e+01  6.91502380e+00\n  2.88993454e+01 -6.85189056e+00 -2.63561249e+00 -7.33310699e+00\n -3.40934753e-01  2.77111740e+01  7.94686127e+00  1.35872650e+00\n  4.70781708e+00 -2.14289093e+00 -5.40101624e+00  8.43054962e+00\n -1.08734047e+02  1.61149597e+00  1.92754364e+00  6.14095306e+00\n  1.73530807e+01 -7.28325653e+00  1.48183060e+01  1.21360779e+00\n  3.93973541e+00  1.13730621e+00 -3.33493805e+00 -4.83098602e+00\n  1.34156952e+01 -9.10057068e-01  1.13973846e+01  1.04582138e+01\n  1.92058563e+00  2.40206146e+00 -1.08734047e+02 -3.92988586e+00\n -3.57103729e+00 -2.40489960e+00  3.09243011e+00  1.21734467e+01\n -7.59360504e+00  1.75518417e+01  7.21242523e+00 -4.57260895e+00\n -1.08734047e+02 -3.00403595e+00  3.41075134e+00  5.23462677e+00\n -1.15953064e+00  1.61894989e+00 -6.28826141e+00 -8.99626923e+00\n  2.96916428e+01  1.52152939e+01 -3.93073273e+00  1.41454926e+01\n -4.87319946e-01 -3.24632263e+00  3.58030701e+00 -5.35471344e+00\n  7.68417358e-01  1.23497009e-01  1.45652695e+01 -5.29472351e-01\n  7.09043884e+00  1.17189560e+01 -9.32518005e-01 -3.39476776e+00\n  9.65348816e+00 -6.80900574e+00  1.42479401e+01  9.46151733e-01\n  7.17530060e+00  7.67570496e-01 -7.40699768e-01  1.04705429e+01\n  7.54743958e+00  6.34733582e+00  4.24160004e+00 -3.08206940e+00\n -3.16822815e+00  2.00215836e+01  3.84519196e+00 -3.41999817e+00\n  1.30547104e+01  6.29651642e+00  3.99558258e+00  7.01844025e+00\n  1.57357941e+01  1.88219070e+01  1.72597504e+00  1.89216614e-01\n -6.58744812e-01  2.71890488e+01  2.18815613e+00  8.06655121e+00\n -6.97263336e+00  5.53885651e+00  8.71324158e+00  1.08198090e+01\n  1.25757904e+01  1.01583786e+01  7.13536072e+00  2.36200790e+01\n  4.34959412e+00  1.41035080e+01  9.07967377e+00  1.64436569e+01\n  5.73692322e+00  3.03870392e+00  1.11227036e+01  1.38518143e+01\n  7.92867279e+00 -4.44881439e+00  7.40833282e+00  1.17504730e+01\n  6.47968292e+00 -4.50959778e+00  6.56563568e+00  1.73686600e+01\n -2.00513458e+00  1.04743958e-01  7.77663422e+00 -5.46817780e+00\n  6.98667908e+00  4.13430023e+00 -1.94306946e+00  1.88773117e+01\n  1.06114349e+01  1.87171936e+00  1.24238586e+00  1.38505707e+01\n -8.40133667e-01  1.12427444e+01  7.43039703e+00  3.01068878e+00\n  4.85224152e+00  9.00240326e+00  9.67576599e+00 -2.70200348e+00\n  7.75425720e+00  1.71523285e+00  1.38889389e+01  9.83946991e+00\n  3.83936310e+00  1.67753601e+00  7.25540924e+00  3.51862335e+00\n  5.80253601e-01  1.23946381e+01  2.88005066e+00  2.26650238e+00\n  9.41585541e+00  2.73942566e+00  5.59449005e+00  4.01467133e+00\n -2.53486633e+00  5.34983826e+00  4.30518341e+00 -2.19432831e+00\n  1.27932587e+01  5.84990692e+00  7.68173218e-01  9.32255554e+00\n  7.09987640e+00  3.91371918e+00  1.43414993e+01  7.79413605e+00\n  4.89688873e+00 -1.08734047e+02 -4.06916809e+00 -5.13774109e+00\n  5.81227875e+00  7.25856781e+00  4.09114075e+00 -8.89907837e-01\n  1.21801605e+01  1.38908539e+01  1.41946640e+01 -1.08734047e+02\n -2.60896301e+00  7.61011505e+00 -1.17518616e+00  5.66603851e+00\n  1.05456390e+01 -9.06608582e-01  1.92153778e+01 -6.28907776e+00\n  9.79011536e-01  9.16402435e+00 -3.51649475e+00  9.47682953e+00\n -1.08734047e+02  4.38069916e+00  3.54741669e+00  5.16761780e+00\n  3.22734070e+00 -1.08734047e+02  1.99243927e+00 -9.02732849e-01\n  6.23758698e+00  1.17833481e+01  1.28773575e+01  1.44319153e+00\n  9.71900940e+00  1.74104462e+01 -6.49604797e-01  1.25231400e+01\n -1.08734047e+02  9.47963715e+00 -1.49565887e+00 -3.21833801e+00\n  1.36638336e+01 -6.34702301e+00  1.85103531e+01  1.39612961e+01\n  1.13484573e+01  4.41452026e-01 -1.98821259e+00  4.77134705e+00\n  5.17252350e+00  3.09989929e+00  5.75019073e+00  6.87272644e+00\n  3.24384308e+00  1.90697784e+01  5.09541321e+00  2.23723679e+01\n  1.44704056e+01  1.30934677e+01 -4.95271301e+00  1.31804657e+00\n -8.08869171e+00  1.21580276e+01 -6.25190735e-01  1.83570862e+00\n  3.01574936e+01 -1.08734047e+02  4.86304474e+00  1.08831024e+00\n  3.46382904e+00 -2.20246887e+00  2.47388458e+00  2.14938583e+01\n  1.27423782e+01  1.11393051e+01  3.47483826e+00  7.10403442e-01\n  7.29537201e+00  6.19796753e-01  6.73989105e+00  4.36731720e+00\n -4.54914856e+00  1.40986557e+01  4.48271942e+00  1.91222000e+01\n  1.47550964e+00  2.13789749e+01  7.55184174e+00  7.63014984e+00\n  1.53428650e+00  7.77885437e-01  6.06370544e+00  8.56333923e+00\n  1.51910019e+01  4.27012634e+00  1.50333939e+01  6.87153625e+00\n  1.23747406e+01  4.68849182e+00 -4.92054749e+00  1.00559158e+01\n  4.58032990e+00  2.09428406e+00  8.14408875e+00 -7.82978821e+00\n -1.01126556e+01 -4.40628052e-01  1.11552887e+01  2.04024734e+01\n  1.01912308e+01  1.59563141e+01  7.43164825e+00  7.58870697e+00\n  5.51618195e+00 -7.34807587e+00  1.17917099e+01  1.91892548e+01\n  2.05260086e+01  5.93740082e+00  1.70508270e+01  1.37911148e+01\n  7.84442902e+00  4.19621277e+00  1.81303558e+01  7.15332794e+00\n  2.76859283e+00  2.21842575e+01  5.48609161e+00  2.02086411e+01\n -1.08734047e+02  5.38218689e+00 -9.48113251e+00 -8.80373383e+00\n  2.07542419e+00 -5.55372620e+00 -1.64060211e+00  1.72068787e+00\n -1.08734047e+02  8.21971130e+00  7.48305511e+00  3.76387787e+00\n -4.09386444e+00  2.41133041e+01 -8.42514038e-02 -6.43958282e+00\n -6.05543518e+00  4.80528259e+00  4.72266388e+00 -6.86948395e+00\n -1.08734047e+02 -2.99964905e-01 -1.78559875e+00  1.58175430e+01\n  1.91139221e-01 -1.97196960e-01  3.67132797e+01  2.54976654e+00\n  9.78258514e+00  1.63582077e+01  3.07188416e+00 -6.01333618e-01\n -8.89259338e-01 -2.62995911e+00  1.31337738e+00  1.59466171e+01\n  1.69369125e+01  1.27671356e+01  3.21791077e+00  1.50843048e+00\n -5.32833099e+00  8.55371857e+00  1.67192078e+00  3.11070251e+00\n  8.51702118e+00  1.31172180e-01  7.39003754e+00  1.07335434e+01\n -5.56662750e+00  5.95158386e+00  9.20955658e+00  8.89915466e+00\n  1.19402924e+01  1.61162567e+00  2.33942413e+00 -1.08734047e+02\n  4.34803009e+00  1.69058990e+00  1.10267410e+01  9.94057465e+00\n  4.71877289e+00  6.35655975e+00  2.18791962e+00  1.17915878e+01\n  1.96772003e+00  5.63783264e+00  5.60801697e+00 -1.74207306e+00\n  1.62360458e+01  1.30196075e+01  9.03101349e+00  4.43410492e+00\n  1.24575424e+01  1.20087433e+01  1.41515732e+01  9.87476349e+00\n  1.39366913e+00 -6.12926483e+00  3.98875427e+00  3.93428802e+00\n -3.45175934e+00  1.22925644e+01  1.33532181e+01  2.33248138e+00\n  1.54711990e+01  7.05890656e+00  1.49895248e+01 -2.31903839e+00\n  3.04390717e+00  2.05045090e+01  2.14336624e+01 -1.02220154e+00\n  6.65309906e+00  1.04384842e+01 -2.68959808e+00  5.94724274e+00\n  7.21635437e+00  3.54616547e+00  1.56855087e+01  4.91561127e+00\n  1.18482285e+01 -1.08734047e+02  2.72941589e-01  1.94077225e+01\n  6.80964661e+00  1.05283356e+01 -4.07777405e+00  1.50639496e+01\n  2.52298813e+01  1.49262772e+01  5.84548187e+00  8.20655060e+00\n -1.28534698e+00 -1.08734047e+02 -1.08734047e+02  1.26726151e+01\n  2.24881821e+01  9.93575287e+00  1.81182098e+00  1.68320389e+01\n  1.05313644e+01  3.16081772e+01  1.52820587e+00  1.24794540e+01\n -1.08734047e+02  6.28465271e+00  8.21106720e+00  3.88646698e+00\n -5.15373230e-01 -2.97978973e+00  1.62226105e+01 -8.24989319e+00\n  1.22205048e+01  2.16167374e+01  5.93141937e+00  3.24693298e+00\n  1.14300690e+01 -1.37938690e+00  1.53102875e+00  1.26327515e-01\n  4.71931458e-01 -6.15379333e-01  2.12718201e+00  7.73396301e+00\n  2.90254974e+00 -6.90766907e+00 -9.31495667e-01  1.11666336e+01\n  2.28215027e+00  1.97183456e+01  7.48928070e+00  2.57765427e+01\n  9.08829498e+00  1.25672684e+01 -3.15555573e+00  4.02400970e+00\n -6.13627625e+00 -1.08734047e+02  9.53797150e+00  3.91567230e+00\n  6.39603424e+00  6.39190674e-02  9.55442047e+00  1.67401962e+01\n  1.54518890e+00  2.59821320e+00  9.87224579e+00  2.23159790e-01\n  7.37258148e+00  1.43657455e+01 -8.99318695e+00 -3.17356110e+00\n -4.44487000e+00  4.22492218e+00  3.39982605e+00  3.50270844e+00\n  1.04638748e+01  1.26773453e+01  5.33753204e+00  8.28285980e+00\n  1.25866928e+01  6.61018372e-01 -5.89434052e+00  2.14973450e-01\n  1.29996185e+01 -9.79591370e-01  7.69294739e-01  1.74804916e+01\n  9.84304047e+00  1.18992615e+00 -3.99051666e+00 -1.08734047e+02\n  1.90057831e+01  2.72605057e+01 -7.77400208e+00  1.12137299e+01\n -1.61179352e+00  6.80643463e+00 -2.37253571e+00  5.20929718e+00\n  5.08620453e+00  1.44858017e+01  1.60886078e+01  5.97315216e+00\n  6.50944519e+00 -4.75470734e+00 -1.08734047e+02  1.43846664e+01\n -7.45096588e+00  5.65830994e+00  1.34732895e+01 -8.04485321e+00\n  1.25824738e+00 -1.55974579e+00 -9.54713440e+00  3.82561493e+00\n -5.90381622e+00  3.17017365e+00 -1.08734047e+02  3.95043182e+00\n  6.46387482e+00  1.49816437e+01 -1.08734047e+02 -1.50709534e+00\n -5.88310242e+00  1.30901108e+01 -1.08734047e+02 -8.78860474e-01\n -1.31056213e+00  8.52710724e+00  1.28849869e+01  1.30492630e+01\n  1.09861908e+01  1.22685394e+01  1.75047073e+01  1.19553299e+01\n  7.39619446e+00  3.25334244e+01  7.68293762e+00  1.99036942e+01\n  6.35274506e+00  2.35868835e+00  1.03381195e+01  5.02199554e+00\n -6.00639343e-01 -2.61695862e+00  4.70030212e+00  1.24608994e+01\n  1.24868393e+01  5.53829193e+00 -8.54606628e-01  2.38238602e+01\n -6.29875183e-01  2.77956390e+00  1.20540237e+01  1.06619492e+01\n  1.57945786e+01  5.90393829e+00  2.59938812e+00 -7.05887604e+00\n  1.53829193e+00 -1.04978943e+00  2.12429123e+01  2.04185715e+01\n  7.16939545e+00  1.28746796e+00  1.03855667e+01 -1.67533875e-01\n  2.78041077e+00  7.43217468e+00  7.66706848e+00  1.62404633e+00\n -6.73915100e+00  2.47852325e+00  1.96385956e+00  1.72471161e+01\n  4.02700043e+00 -4.28984070e+00  2.80955505e+00 -1.71411896e+00\n  4.32515717e+00  1.49715424e+00 -2.74143219e+00  8.43387604e+00\n -1.08734047e+02  1.73413849e+00 -3.91110992e+00 -2.84210968e+00\n  5.25168610e+00  7.76874542e+00  3.16309357e+00 -1.27196503e+00\n  8.44287872e+00 -2.05909729e-01  1.05773163e+00  3.96272278e+00\n  4.16341400e+00  6.37703705e+00  3.53150177e+00 -2.96531677e-01\n -3.48934174e+00  6.87403870e+00  7.25301361e+00  5.56771088e+00\n  2.09492493e+00  1.10630951e+01  1.27017746e+01 -1.08734047e+02\n  8.59740448e+00  4.36157990e+00  3.72638702e+00  5.40096283e+00\n  6.92354584e+00 -2.26992035e+00  8.64597321e+00  4.72763824e+00\n  1.46393585e+01 -2.37364960e+00  8.10608673e+00  5.11559296e+00\n  9.91048431e+00  9.12313080e+00  3.82950592e+00 -4.97863007e+00\n -2.40673065e+00  3.95154572e+00  2.91770935e+00  9.94605255e+00\n  3.90015411e+00  1.10921478e+00  1.79425812e+00  1.72978210e+00\n  5.50147247e+00  3.58899689e+00  2.48732758e+00  6.95354462e+00\n  2.30561066e+00  1.69089813e+01  1.18021393e+00  7.27165985e+00\n  3.98250580e+00  1.11435776e+01  7.80782318e+00  5.92562103e+00\n  9.73102570e+00 -1.08734047e+02 -1.08734047e+02  2.52921219e+01\n -5.58097839e-01  9.66825867e+00  4.06022644e+00  6.64528656e+00\n  6.11308289e+00  1.04723740e+01 -1.07106018e+00 -3.07666779e+00\n -5.20980835e-01  4.06232452e+00  1.73304672e+01  1.29546356e+00\n  4.94161224e+00 -6.46178436e+00  4.33367157e+00 -8.99873352e+00\n  1.42797699e+01 -6.89384460e+00 -4.13436890e-01 -2.92251587e-01\n  2.10820084e+01  1.05814056e+01  2.12780380e+01  1.68534012e+01\n  1.33009567e+01  8.20967865e+00  1.16087570e+01  1.27012405e+01\n  4.98115540e+00  1.06843719e+01  9.58799744e+00 -1.71360016e+00\n  9.51332092e-01  3.00464630e+00  1.25682220e+01  1.57005463e+01\n  6.67922974e-01  1.19112015e+01  1.18643417e+01  7.44910431e+00\n  7.98584747e+00  8.80471039e+00  7.88336945e+00  7.38370514e+00\n  8.83321381e+00  9.27455902e+00 -1.69974518e+00 -3.73481750e-01\n  7.58125305e+00  1.23559418e+01  4.18266296e-01  6.73881531e+00\n  7.28395081e+00  6.99103546e+00 -3.26686859e+00  5.52897644e+00\n  7.37198639e+00  5.64768982e+00 -4.21807098e+00 -4.04016876e+00\n -1.47904968e+00  1.30058517e+01  4.23903656e+00  8.02935028e+00\n  6.56594086e+00  1.05282669e+01  1.43902130e+01  7.64079285e+00\n  2.30678558e+00  2.10357895e+01 -2.29070282e+00  7.71409607e+00\n -1.02007828e+01 -4.52391815e+00 -1.08734047e+02  6.42563629e+00\n  1.54225082e+01 -1.08734047e+02  6.36869812e+00  1.26045990e+00\n  3.53148651e+00  1.81794052e+01  1.13826523e+01 -8.88799286e+00\n  6.87638855e+00  2.99595642e+00  4.42195892e+00 -1.08734047e+02\n -1.29426575e+00  1.54421234e+01  1.12473831e+01  8.35078430e+00\n  2.36314774e+01  5.86985779e+00  1.28022995e+01  9.70702362e+00\n -5.85884094e-01 -3.65070343e+00  5.14204407e+00  1.41804657e+01\n -1.08734047e+02 -4.42912292e+00  1.44209061e+01 -5.94786835e+00\n  1.80775452e+00 -2.80056000e+00 -6.42631531e-01  1.06788788e+01\n -7.02780914e+00  8.63428497e+00  3.78617859e+00  9.34767914e+00\n  1.22309799e+01  2.22382355e+00  1.16879807e+01  1.44023666e+01\n -1.08734047e+02  7.59568787e+00  1.03952560e+01  6.94446564e+00\n  5.10099030e+00 -1.72615051e-01  1.10484314e+00  1.48756332e+01\n  6.08539581e+00  8.20288849e+00 -7.94361115e+00 -1.08734047e+02\n -8.26518250e+00  1.24802322e+01 -5.92094421e+00  3.19319153e+00\n -2.32215881e+00  8.98957062e+00  8.63822937e+00  6.94282532e+00\n  1.04490204e+01 -2.48448944e+00  1.23819656e+01 -1.08734047e+02\n  1.49185638e+01  1.93565369e+00  2.16609116e+01 -3.63002777e+00\n  3.23413849e+00 -3.24569702e-01 -3.76612854e+00 -5.15678406e-01\n  1.59995041e+01  5.55410004e+00  2.37570953e+00  2.29953766e+00\n  5.05186462e+00  1.28663177e+01  2.85588074e+00  4.62409210e+00\n  2.71061707e+00  1.52357483e+00  3.02465057e+00  1.81448441e+01\n  4.06436920e+00 -4.47188568e+00 -3.54419708e+00  2.35346603e+01\n -3.10005188e-01  5.95740509e+00 -2.45969391e+00  1.32018356e+01\n  1.82889252e+01 -5.48119354e+00  4.68089294e+00  9.10335541e+00\n -5.05635071e+00  5.38681030e-01 -7.07740021e+00  9.29267883e-01\n  9.95445251e+00  9.70995331e+00  5.12628937e+00 -5.87556458e+00\n  1.29408646e+01 -5.06461334e+00 -2.51699066e+00 -2.83831024e+00\n -1.08734047e+02  1.11950912e+01 -6.61805725e+00 -9.76103973e+00\n -2.41869354e+00  4.91349030e+00  8.92818451e+00  1.26076202e+01\n  1.27231674e+01  1.56726837e+01  7.26927185e+00  1.65784378e+01\n  2.35074615e+00  1.47878265e+01  7.17555237e+00 -1.36594391e+00\n  7.08434296e+00 -7.52001190e+00  1.28913422e+01 -1.08734047e+02\n  2.44519806e+00  1.08356705e+01 -1.08734047e+02  8.10601044e+00\n  3.30597687e+00 -2.42262268e+00  1.28311234e+01  1.30286331e+01\n  1.18465958e+01  8.10050964e+00  1.29586258e+01  1.93674393e+01\n  2.01082382e+01  8.35854340e+00  9.33700562e-01 -9.49249268e-02\n  3.59029388e+00 -2.81138611e+00 -3.93739319e+00  5.74662018e+00\n  1.26087952e+00  9.01029968e+00  2.43811722e+01  1.81541443e+00\n  2.10544357e+01 -3.49140930e+00  1.04142761e+00  1.23892059e+01\n  6.03691864e+00  8.43566132e+00  5.43290710e+00  1.29027939e+01\n  3.05886078e+00  1.27079544e+01  2.04645538e+00 -4.49604797e+00\n  6.96332550e+00  1.92047577e+01  1.28720322e+01  1.30420685e+01\n -1.44834900e+00  3.39689636e+00 -1.08734047e+02 -1.08734047e+02])>with<JVPTrace(level=2/0)>\n  with primal = DeviceArray([ 2.55960846e+00,  2.98984528e+00, -2.01826477e+00,\n                              4.42510223e+00, -1.60354614e-01,  1.02274017e+01,\n                             -3.77750397e+00,  4.16445160e+00,  8.41230774e+00,\n                              5.01344299e+00, -2.24720764e+00,  1.43056717e+01,\n                              7.74394226e+00,  1.00119781e+01,  6.17855072e+00,\n                              1.00727921e+01,  1.16706390e+01,  5.75907898e+00,\n                             -1.51145935e-01,  1.12019806e+01,  2.81116486e+00,\n                              1.59026337e+00,  1.15424347e+01,  7.73053741e+00,\n                              9.78139496e+00,  2.35562897e+00,  1.11088104e+01,\n                              6.67076111e-01,  2.82883453e+00,  1.18745956e+01,\n                              1.30801620e+01,  1.12664871e+01,  9.24453735e-01,\n                              1.76227570e+00, -3.95429993e+00,  7.14577484e+00,\n                             -2.56809998e+00, -1.33277130e+00,  5.68570709e+00,\n                              1.86101532e+01, -3.60252380e-01,  2.56795578e+01,\n                             -1.09446716e+00, -3.54316711e+00, -4.40373993e+00,\n                              3.76604462e+00, -2.15702057e+00, -5.08347321e+00,\n                             -3.20392609e+00,  2.52632980e+01,  3.67277527e+00,\n                              3.04677582e+00,  7.42536926e+00,  1.57620468e+01,\n                              2.84614563e-01,  7.98683167e+00,  1.63998871e+01,\n                              2.16522980e+00,  6.71611023e+00,  6.85398102e+00,\n                             -2.93241882e+00,  5.99815369e-01,  1.70941238e+01,\n                             -7.19987488e+00,  1.18104706e+01, -5.64195251e+00,\n                              2.57874985e+01,  4.48108673e+00,  4.62977600e+00,\n                             -2.99738312e+00,  1.17848969e+00, -1.08734047e+02,\n                              4.25413513e+00, -1.03804016e+00,  1.70102463e+01,\n                              1.39814911e+01,  1.81745148e+00,  9.01252747e-01,\n                             -4.24135590e+00, -4.67790985e+00,  1.53820267e+01,\n                             -4.46723938e+00,  6.11458588e+00,  1.21524811e+00,\n                              7.72432709e+00, -1.00237579e+01,  5.35063171e+00,\n                              6.98793793e+00,  3.20205688e-01,  3.64177704e+00,\n                              1.04909592e+01,  9.77941132e+00,  5.17493439e+00,\n                              8.47511292e-01,  1.22405243e+01,  1.48329926e+00,\n                              1.52375717e+01,  6.40121460e-01,  1.87953262e+01,\n                              1.06055756e+01, -7.01519012e+00,  9.57967377e+00,\n                             -1.08734047e+02,  3.64207458e+00,  1.60956039e+01,\n                              4.42787933e+00,  1.49938202e+01,  6.91502380e+00,\n                              2.88993454e+01, -6.85189056e+00, -2.63561249e+00,\n                             -7.33310699e+00, -3.40934753e-01,  2.77111740e+01,\n                              7.94686127e+00,  1.35872650e+00,  4.70781708e+00,\n                             -2.14289093e+00, -5.40101624e+00,  8.43054962e+00,\n                             -1.08734047e+02,  1.61149597e+00,  1.92754364e+00,\n                              6.14095306e+00,  1.73530807e+01, -7.28325653e+00,\n                              1.48183060e+01,  1.21360779e+00,  3.93973541e+00,\n                              1.13730621e+00, -3.33493805e+00, -4.83098602e+00,\n                              1.34156952e+01, -9.10057068e-01,  1.13973846e+01,\n                              1.04582138e+01,  1.92058563e+00,  2.40206146e+00,\n                             -1.08734047e+02, -3.92988586e+00, -3.57103729e+00,\n                             -2.40489960e+00,  3.09243011e+00,  1.21734467e+01,\n                             -7.59360504e+00,  1.75518417e+01,  7.21242523e+00,\n                             -4.57260895e+00, -1.08734047e+02, -3.00403595e+00,\n                              3.41075134e+00,  5.23462677e+00, -1.15953064e+00,\n                              1.61894989e+00, -6.28826141e+00, -8.99626923e+00,\n                              2.96916428e+01,  1.52152939e+01, -3.93073273e+00,\n                              1.41454926e+01, -4.87319946e-01, -3.24632263e+00,\n                              3.58030701e+00, -5.35471344e+00,  7.68417358e-01,\n                              1.23497009e-01,  1.45652695e+01, -5.29472351e-01,\n                              7.09043884e+00,  1.17189560e+01, -9.32518005e-01,\n                             -3.39476776e+00,  9.65348816e+00, -6.80900574e+00,\n                              1.42479401e+01,  9.46151733e-01,  7.17530060e+00,\n                              7.67570496e-01, -7.40699768e-01,  1.04705429e+01,\n                              7.54743958e+00,  6.34733582e+00,  4.24160004e+00,\n                             -3.08206940e+00, -3.16822815e+00,  2.00215836e+01,\n                              3.84519196e+00, -3.41999817e+00,  1.30547104e+01,\n                              6.29651642e+00,  3.99558258e+00,  7.01844025e+00,\n                              1.57357941e+01,  1.88219070e+01,  1.72597504e+00,\n                              1.89216614e-01, -6.58744812e-01,  2.71890488e+01,\n                              2.18815613e+00,  8.06655121e+00, -6.97263336e+00,\n                              5.53885651e+00,  8.71324158e+00,  1.08198090e+01,\n                              1.25757904e+01,  1.01583786e+01,  7.13536072e+00,\n                              2.36200790e+01,  4.34959412e+00,  1.41035080e+01,\n                              9.07967377e+00,  1.64436569e+01,  5.73692322e+00,\n                              3.03870392e+00,  1.11227036e+01,  1.38518143e+01,\n                              7.92867279e+00, -4.44881439e+00,  7.40833282e+00,\n                              1.17504730e+01,  6.47968292e+00, -4.50959778e+00,\n                              6.56563568e+00,  1.73686600e+01, -2.00513458e+00,\n                              1.04743958e-01,  7.77663422e+00, -5.46817780e+00,\n                              6.98667908e+00,  4.13430023e+00, -1.94306946e+00,\n                              1.88773117e+01,  1.06114349e+01,  1.87171936e+00,\n                              1.24238586e+00,  1.38505707e+01, -8.40133667e-01,\n                              1.12427444e+01,  7.43039703e+00,  3.01068878e+00,\n                              4.85224152e+00,  9.00240326e+00,  9.67576599e+00,\n                             -2.70200348e+00,  7.75425720e+00,  1.71523285e+00,\n                              1.38889389e+01,  9.83946991e+00,  3.83936310e+00,\n                              1.67753601e+00,  7.25540924e+00,  3.51862335e+00,\n                              5.80253601e-01,  1.23946381e+01,  2.88005066e+00,\n                              2.26650238e+00,  9.41585541e+00,  2.73942566e+00,\n                              5.59449005e+00,  4.01467133e+00, -2.53486633e+00,\n                              5.34983826e+00,  4.30518341e+00, -2.19432831e+00,\n                              1.27932587e+01,  5.84990692e+00,  7.68173218e-01,\n                              9.32255554e+00,  7.09987640e+00,  3.91371918e+00,\n                              1.43414993e+01,  7.79413605e+00,  4.89688873e+00,\n                             -1.08734047e+02, -4.06916809e+00, -5.13774109e+00,\n                              5.81227875e+00,  7.25856781e+00,  4.09114075e+00,\n                             -8.89907837e-01,  1.21801605e+01,  1.38908539e+01,\n                              1.41946640e+01, -1.08734047e+02, -2.60896301e+00,\n                              7.61011505e+00, -1.17518616e+00,  5.66603851e+00,\n                              1.05456390e+01, -9.06608582e-01,  1.92153778e+01,\n                             -6.28907776e+00,  9.79011536e-01,  9.16402435e+00,\n                             -3.51649475e+00,  9.47682953e+00, -1.08734047e+02,\n                              4.38069916e+00,  3.54741669e+00,  5.16761780e+00,\n                              3.22734070e+00, -1.08734047e+02,  1.99243927e+00,\n                             -9.02732849e-01,  6.23758698e+00,  1.17833481e+01,\n                              1.28773575e+01,  1.44319153e+00,  9.71900940e+00,\n                              1.74104462e+01, -6.49604797e-01,  1.25231400e+01,\n                             -1.08734047e+02,  9.47963715e+00, -1.49565887e+00,\n                             -3.21833801e+00,  1.36638336e+01, -6.34702301e+00,\n                              1.85103531e+01,  1.39612961e+01,  1.13484573e+01,\n                              4.41452026e-01, -1.98821259e+00,  4.77134705e+00,\n                              5.17252350e+00,  3.09989929e+00,  5.75019073e+00,\n                              6.87272644e+00,  3.24384308e+00,  1.90697784e+01,\n                              5.09541321e+00,  2.23723679e+01,  1.44704056e+01,\n                              1.30934677e+01, -4.95271301e+00,  1.31804657e+00,\n                             -8.08869171e+00,  1.21580276e+01, -6.25190735e-01,\n                              1.83570862e+00,  3.01574936e+01, -1.08734047e+02,\n                              4.86304474e+00,  1.08831024e+00,  3.46382904e+00,\n                             -2.20246887e+00,  2.47388458e+00,  2.14938583e+01,\n                              1.27423782e+01,  1.11393051e+01,  3.47483826e+00,\n                              7.10403442e-01,  7.29537201e+00,  6.19796753e-01,\n                              6.73989105e+00,  4.36731720e+00, -4.54914856e+00,\n                              1.40986557e+01,  4.48271942e+00,  1.91222000e+01,\n                              1.47550964e+00,  2.13789749e+01,  7.55184174e+00,\n                              7.63014984e+00,  1.53428650e+00,  7.77885437e-01,\n                              6.06370544e+00,  8.56333923e+00,  1.51910019e+01,\n                              4.27012634e+00,  1.50333939e+01,  6.87153625e+00,\n                              1.23747406e+01,  4.68849182e+00, -4.92054749e+00,\n                              1.00559158e+01,  4.58032990e+00,  2.09428406e+00,\n                              8.14408875e+00, -7.82978821e+00, -1.01126556e+01,\n                             -4.40628052e-01,  1.11552887e+01,  2.04024734e+01,\n                              1.01912308e+01,  1.59563141e+01,  7.43164825e+00,\n                              7.58870697e+00,  5.51618195e+00, -7.34807587e+00,\n                              1.17917099e+01,  1.91892548e+01,  2.05260086e+01,\n                              5.93740082e+00,  1.70508270e+01,  1.37911148e+01,\n                              7.84442902e+00,  4.19621277e+00,  1.81303558e+01,\n                              7.15332794e+00,  2.76859283e+00,  2.21842575e+01,\n                              5.48609161e+00,  2.02086411e+01, -1.08734047e+02,\n                              5.38218689e+00, -9.48113251e+00, -8.80373383e+00,\n                              2.07542419e+00, -5.55372620e+00, -1.64060211e+00,\n                              1.72068787e+00, -1.08734047e+02,  8.21971130e+00,\n                              7.48305511e+00,  3.76387787e+00, -4.09386444e+00,\n                              2.41133041e+01, -8.42514038e-02, -6.43958282e+00,\n                             -6.05543518e+00,  4.80528259e+00,  4.72266388e+00,\n                             -6.86948395e+00, -1.08734047e+02, -2.99964905e-01,\n                             -1.78559875e+00,  1.58175430e+01,  1.91139221e-01,\n                             -1.97196960e-01,  3.67132797e+01,  2.54976654e+00,\n                              9.78258514e+00,  1.63582077e+01,  3.07188416e+00,\n                             -6.01333618e-01, -8.89259338e-01, -2.62995911e+00,\n                              1.31337738e+00,  1.59466171e+01,  1.69369125e+01,\n                              1.27671356e+01,  3.21791077e+00,  1.50843048e+00,\n                             -5.32833099e+00,  8.55371857e+00,  1.67192078e+00,\n                              3.11070251e+00,  8.51702118e+00,  1.31172180e-01,\n                              7.39003754e+00,  1.07335434e+01, -5.56662750e+00,\n                              5.95158386e+00,  9.20955658e+00,  8.89915466e+00,\n                              1.19402924e+01,  1.61162567e+00,  2.33942413e+00,\n                             -1.08734047e+02,  4.34803009e+00,  1.69058990e+00,\n                              1.10267410e+01,  9.94057465e+00,  4.71877289e+00,\n                              6.35655975e+00,  2.18791962e+00,  1.17915878e+01,\n                              1.96772003e+00,  5.63783264e+00,  5.60801697e+00,\n                             -1.74207306e+00,  1.62360458e+01,  1.30196075e+01,\n                              9.03101349e+00,  4.43410492e+00,  1.24575424e+01,\n                              1.20087433e+01,  1.41515732e+01,  9.87476349e+00,\n                              1.39366913e+00, -6.12926483e+00,  3.98875427e+00,\n                              3.93428802e+00, -3.45175934e+00,  1.22925644e+01,\n                              1.33532181e+01,  2.33248138e+00,  1.54711990e+01,\n                              7.05890656e+00,  1.49895248e+01, -2.31903839e+00,\n                              3.04390717e+00,  2.05045090e+01,  2.14336624e+01,\n                             -1.02220154e+00,  6.65309906e+00,  1.04384842e+01,\n                             -2.68959808e+00,  5.94724274e+00,  7.21635437e+00,\n                              3.54616547e+00,  1.56855087e+01,  4.91561127e+00,\n                              1.18482285e+01, -1.08734047e+02,  2.72941589e-01,\n                              1.94077225e+01,  6.80964661e+00,  1.05283356e+01,\n                             -4.07777405e+00,  1.50639496e+01,  2.52298813e+01,\n                              1.49262772e+01,  5.84548187e+00,  8.20655060e+00,\n                             -1.28534698e+00, -1.08734047e+02, -1.08734047e+02,\n                              1.26726151e+01,  2.24881821e+01,  9.93575287e+00,\n                              1.81182098e+00,  1.68320389e+01,  1.05313644e+01,\n                              3.16081772e+01,  1.52820587e+00,  1.24794540e+01,\n                             -1.08734047e+02,  6.28465271e+00,  8.21106720e+00,\n                              3.88646698e+00, -5.15373230e-01, -2.97978973e+00,\n                              1.62226105e+01, -8.24989319e+00,  1.22205048e+01,\n                              2.16167374e+01,  5.93141937e+00,  3.24693298e+00,\n                              1.14300690e+01, -1.37938690e+00,  1.53102875e+00,\n                              1.26327515e-01,  4.71931458e-01, -6.15379333e-01,\n                              2.12718201e+00,  7.73396301e+00,  2.90254974e+00,\n                             -6.90766907e+00, -9.31495667e-01,  1.11666336e+01,\n                              2.28215027e+00,  1.97183456e+01,  7.48928070e+00,\n                              2.57765427e+01,  9.08829498e+00,  1.25672684e+01,\n                             -3.15555573e+00,  4.02400970e+00, -6.13627625e+00,\n                             -1.08734047e+02,  9.53797150e+00,  3.91567230e+00,\n                              6.39603424e+00,  6.39190674e-02,  9.55442047e+00,\n                              1.67401962e+01,  1.54518890e+00,  2.59821320e+00,\n                              9.87224579e+00,  2.23159790e-01,  7.37258148e+00,\n                              1.43657455e+01, -8.99318695e+00, -3.17356110e+00,\n                             -4.44487000e+00,  4.22492218e+00,  3.39982605e+00,\n                              3.50270844e+00,  1.04638748e+01,  1.26773453e+01,\n                              5.33753204e+00,  8.28285980e+00,  1.25866928e+01,\n                              6.61018372e-01, -5.89434052e+00,  2.14973450e-01,\n                              1.29996185e+01, -9.79591370e-01,  7.69294739e-01,\n                              1.74804916e+01,  9.84304047e+00,  1.18992615e+00,\n                             -3.99051666e+00, -1.08734047e+02,  1.90057831e+01,\n                              2.72605057e+01, -7.77400208e+00,  1.12137299e+01,\n                             -1.61179352e+00,  6.80643463e+00, -2.37253571e+00,\n                              5.20929718e+00,  5.08620453e+00,  1.44858017e+01,\n                              1.60886078e+01,  5.97315216e+00,  6.50944519e+00,\n                             -4.75470734e+00, -1.08734047e+02,  1.43846664e+01,\n                             -7.45096588e+00,  5.65830994e+00,  1.34732895e+01,\n                             -8.04485321e+00,  1.25824738e+00, -1.55974579e+00,\n                             -9.54713440e+00,  3.82561493e+00, -5.90381622e+00,\n                              3.17017365e+00, -1.08734047e+02,  3.95043182e+00,\n                              6.46387482e+00,  1.49816437e+01, -1.08734047e+02,\n                             -1.50709534e+00, -5.88310242e+00,  1.30901108e+01,\n                             -1.08734047e+02, -8.78860474e-01, -1.31056213e+00,\n                              8.52710724e+00,  1.28849869e+01,  1.30492630e+01,\n                              1.09861908e+01,  1.22685394e+01,  1.75047073e+01,\n                              1.19553299e+01,  7.39619446e+00,  3.25334244e+01,\n                              7.68293762e+00,  1.99036942e+01,  6.35274506e+00,\n                              2.35868835e+00,  1.03381195e+01,  5.02199554e+00,\n                             -6.00639343e-01, -2.61695862e+00,  4.70030212e+00,\n                              1.24608994e+01,  1.24868393e+01,  5.53829193e+00,\n                             -8.54606628e-01,  2.38238602e+01, -6.29875183e-01,\n                              2.77956390e+00,  1.20540237e+01,  1.06619492e+01,\n                              1.57945786e+01,  5.90393829e+00,  2.59938812e+00,\n                             -7.05887604e+00,  1.53829193e+00, -1.04978943e+00,\n                              2.12429123e+01,  2.04185715e+01,  7.16939545e+00,\n                              1.28746796e+00,  1.03855667e+01, -1.67533875e-01,\n                              2.78041077e+00,  7.43217468e+00,  7.66706848e+00,\n                              1.62404633e+00, -6.73915100e+00,  2.47852325e+00,\n                              1.96385956e+00,  1.72471161e+01,  4.02700043e+00,\n                             -4.28984070e+00,  2.80955505e+00, -1.71411896e+00,\n                              4.32515717e+00,  1.49715424e+00, -2.74143219e+00,\n                              8.43387604e+00, -1.08734047e+02,  1.73413849e+00,\n                             -3.91110992e+00, -2.84210968e+00,  5.25168610e+00,\n                              7.76874542e+00,  3.16309357e+00, -1.27196503e+00,\n                              8.44287872e+00, -2.05909729e-01,  1.05773163e+00,\n                              3.96272278e+00,  4.16341400e+00,  6.37703705e+00,\n                              3.53150177e+00, -2.96531677e-01, -3.48934174e+00,\n                              6.87403870e+00,  7.25301361e+00,  5.56771088e+00,\n                              2.09492493e+00,  1.10630951e+01,  1.27017746e+01,\n                             -1.08734047e+02,  8.59740448e+00,  4.36157990e+00,\n                              3.72638702e+00,  5.40096283e+00,  6.92354584e+00,\n                             -2.26992035e+00,  8.64597321e+00,  4.72763824e+00,\n                              1.46393585e+01, -2.37364960e+00,  8.10608673e+00,\n                              5.11559296e+00,  9.91048431e+00,  9.12313080e+00,\n                              3.82950592e+00, -4.97863007e+00, -2.40673065e+00,\n                              3.95154572e+00,  2.91770935e+00,  9.94605255e+00,\n                              3.90015411e+00,  1.10921478e+00,  1.79425812e+00,\n                              1.72978210e+00,  5.50147247e+00,  3.58899689e+00,\n                              2.48732758e+00,  6.95354462e+00,  2.30561066e+00,\n                              1.69089813e+01,  1.18021393e+00,  7.27165985e+00,\n                              3.98250580e+00,  1.11435776e+01,  7.80782318e+00,\n                              5.92562103e+00,  9.73102570e+00, -1.08734047e+02,\n                             -1.08734047e+02,  2.52921219e+01, -5.58097839e-01,\n                              9.66825867e+00,  4.06022644e+00,  6.64528656e+00,\n                              6.11308289e+00,  1.04723740e+01, -1.07106018e+00,\n                             -3.07666779e+00, -5.20980835e-01,  4.06232452e+00,\n                              1.73304672e+01,  1.29546356e+00,  4.94161224e+00,\n                             -6.46178436e+00,  4.33367157e+00, -8.99873352e+00,\n                              1.42797699e+01, -6.89384460e+00, -4.13436890e-01,\n                             -2.92251587e-01,  2.10820084e+01,  1.05814056e+01,\n                              2.12780380e+01,  1.68534012e+01,  1.33009567e+01,\n                              8.20967865e+00,  1.16087570e+01,  1.27012405e+01,\n                              4.98115540e+00,  1.06843719e+01,  9.58799744e+00,\n                             -1.71360016e+00,  9.51332092e-01,  3.00464630e+00,\n                              1.25682220e+01,  1.57005463e+01,  6.67922974e-01,\n                              1.19112015e+01,  1.18643417e+01,  7.44910431e+00,\n                              7.98584747e+00,  8.80471039e+00,  7.88336945e+00,\n                              7.38370514e+00,  8.83321381e+00,  9.27455902e+00,\n                             -1.69974518e+00, -3.73481750e-01,  7.58125305e+00,\n                              1.23559418e+01,  4.18266296e-01,  6.73881531e+00,\n                              7.28395081e+00,  6.99103546e+00, -3.26686859e+00,\n                              5.52897644e+00,  7.37198639e+00,  5.64768982e+00,\n                             -4.21807098e+00, -4.04016876e+00, -1.47904968e+00,\n                              1.30058517e+01,  4.23903656e+00,  8.02935028e+00,\n                              6.56594086e+00,  1.05282669e+01,  1.43902130e+01,\n                              7.64079285e+00,  2.30678558e+00,  2.10357895e+01,\n                             -2.29070282e+00,  7.71409607e+00, -1.02007828e+01,\n                             -4.52391815e+00, -1.08734047e+02,  6.42563629e+00,\n                              1.54225082e+01, -1.08734047e+02,  6.36869812e+00,\n                              1.26045990e+00,  3.53148651e+00,  1.81794052e+01,\n                              1.13826523e+01, -8.88799286e+00,  6.87638855e+00,\n                              2.99595642e+00,  4.42195892e+00, -1.08734047e+02,\n                             -1.29426575e+00,  1.54421234e+01,  1.12473831e+01,\n                              8.35078430e+00,  2.36314774e+01,  5.86985779e+00,\n                              1.28022995e+01,  9.70702362e+00, -5.85884094e-01,\n                             -3.65070343e+00,  5.14204407e+00,  1.41804657e+01,\n                             -1.08734047e+02, -4.42912292e+00,  1.44209061e+01,\n                             -5.94786835e+00,  1.80775452e+00, -2.80056000e+00,\n                             -6.42631531e-01,  1.06788788e+01, -7.02780914e+00,\n                              8.63428497e+00,  3.78617859e+00,  9.34767914e+00,\n                              1.22309799e+01,  2.22382355e+00,  1.16879807e+01,\n                              1.44023666e+01, -1.08734047e+02,  7.59568787e+00,\n                              1.03952560e+01,  6.94446564e+00,  5.10099030e+00,\n                             -1.72615051e-01,  1.10484314e+00,  1.48756332e+01,\n                              6.08539581e+00,  8.20288849e+00, -7.94361115e+00,\n                             -1.08734047e+02, -8.26518250e+00,  1.24802322e+01,\n                             -5.92094421e+00,  3.19319153e+00, -2.32215881e+00,\n                              8.98957062e+00,  8.63822937e+00,  6.94282532e+00,\n                              1.04490204e+01, -2.48448944e+00,  1.23819656e+01,\n                             -1.08734047e+02,  1.49185638e+01,  1.93565369e+00,\n                              2.16609116e+01, -3.63002777e+00,  3.23413849e+00,\n                             -3.24569702e-01, -3.76612854e+00, -5.15678406e-01,\n                              1.59995041e+01,  5.55410004e+00,  2.37570953e+00,\n                              2.29953766e+00,  5.05186462e+00,  1.28663177e+01,\n                              2.85588074e+00,  4.62409210e+00,  2.71061707e+00,\n                              1.52357483e+00,  3.02465057e+00,  1.81448441e+01,\n                              4.06436920e+00, -4.47188568e+00, -3.54419708e+00,\n                              2.35346603e+01, -3.10005188e-01,  5.95740509e+00,\n                             -2.45969391e+00,  1.32018356e+01,  1.82889252e+01,\n                             -5.48119354e+00,  4.68089294e+00,  9.10335541e+00,\n                             -5.05635071e+00,  5.38681030e-01, -7.07740021e+00,\n                              9.29267883e-01,  9.95445251e+00,  9.70995331e+00,\n                              5.12628937e+00, -5.87556458e+00,  1.29408646e+01,\n                             -5.06461334e+00, -2.51699066e+00, -2.83831024e+00,\n                             -1.08734047e+02,  1.11950912e+01, -6.61805725e+00,\n                             -9.76103973e+00, -2.41869354e+00,  4.91349030e+00,\n                              8.92818451e+00,  1.26076202e+01,  1.27231674e+01,\n                              1.56726837e+01,  7.26927185e+00,  1.65784378e+01,\n                              2.35074615e+00,  1.47878265e+01,  7.17555237e+00,\n                             -1.36594391e+00,  7.08434296e+00, -7.52001190e+00,\n                              1.28913422e+01, -1.08734047e+02,  2.44519806e+00,\n                              1.08356705e+01, -1.08734047e+02,  8.10601044e+00,\n                              3.30597687e+00, -2.42262268e+00,  1.28311234e+01,\n                              1.30286331e+01,  1.18465958e+01,  8.10050964e+00,\n                              1.29586258e+01,  1.93674393e+01,  2.01082382e+01,\n                              8.35854340e+00,  9.33700562e-01, -9.49249268e-02,\n                              3.59029388e+00, -2.81138611e+00, -3.93739319e+00,\n                              5.74662018e+00,  1.26087952e+00,  9.01029968e+00,\n                              2.43811722e+01,  1.81541443e+00,  2.10544357e+01,\n                             -3.49140930e+00,  1.04142761e+00,  1.23892059e+01,\n                              6.03691864e+00,  8.43566132e+00,  5.43290710e+00,\n                              1.29027939e+01,  3.05886078e+00,  1.27079544e+01,\n                              2.04645538e+00, -4.49604797e+00,  6.96332550e+00,\n                              1.92047577e+01,  1.28720322e+01,  1.30420685e+01,\n                             -1.44834900e+00,  3.39689636e+00, -1.08734047e+02,\n                             -1.08734047e+02], dtype=float32)\n       tangent = Traced<ShapedArray(float32[1000]):JaxprTrace(level=1/0)>\nSee https://jax.readthedocs.io/en/latest/errors.html#jax.errors.TracerArrayConversionError"
          ]
        }
      ]
    },
    {
      "cell_type": "code",
      "metadata": {
        "id": "TnZ01jivh1K4"
      },
      "source": [
        "class NumbaOptionDataSet(object):\n",
        "    \n",
        "    def __init__(self, max_len=10, number_path = 1000, batch=2, seed=15, stocks=3):  # 3 stocks\n",
        "        self.num = 0\n",
        "        self.max_length = max_len\n",
        "        self.N_PATHS = number_path\n",
        "        self.N_STEPS = 365\n",
        "        self.N_BATCH = batch\n",
        "        self.N_STOCKS = stocks\n",
        "        self.T = 1\n",
        "        self.seed = seed\n",
        "        np.random.seed(seed)\n",
        "        \n",
        "    def __len__(self):\n",
        "        return self.max_length\n",
        "\n",
        "    def OptionGrad(self):\n",
        "      Class = NumbaOptionDataSet()\n",
        "      # grad(J, argnums=2)(X, w, b, y)\n",
        "      self.grad = jax.grad(Class.OptionPrice,argnums=0)(S0)\n",
        "      return self.grad\n",
        "\n",
        "    def __iter__(self):\n",
        "        self.num = 0\n",
        "        return self\n",
        "\n",
        "    def __next__(self):\n",
        "        if self.num >= self.max_length:\n",
        "            raise StopIteration\n",
        "        Class = NumbaOptionDataSet()\n",
        "        val = Class.OptionPrice(200)\n",
        "        grad = Class.OptionGrad()\n",
        "        self.num += 1\n",
        "        #return (val,'here is grad',grad)\n",
        "        return ('here is grad',grad)\n",
        "\n",
        "ds = NumbaOptionDataSet(3, number_path = 100000, batch = 2, seed = 15, stocks=3)\n",
        "for i in ds:\n",
        "    print(i)"
      ],
      "execution_count": null,
      "outputs": []
    },
    {
      "cell_type": "markdown",
      "metadata": {
        "id": "4tAWg7RKeTly"
      },
      "source": [
        "# Jax Example 1"
      ]
    },
    {
      "cell_type": "code",
      "metadata": {
        "colab": {
          "base_uri": "https://localhost:8080/"
        },
        "id": "vj_EqsCsEXNb",
        "outputId": "c87004f1-a50b-4356-d10e-ebb460351390"
      },
      "source": [
        "loss_grad = jax.grad(loss)\n",
        "\n",
        "# Stochastic gradient descent learning rate\n",
        "learning_rate = 1.\n",
        "# All possible inputs\n",
        "inputs = np.array([[0, 0], [0, 1], [1, 0], [1, 1]])\n",
        "\n",
        "# Initialize parameters randomly\n",
        "params = initial_params()\n",
        "\n",
        "for n in itertools.count():\n",
        "    # Grab a single random input\n",
        "    x = inputs[onp.random.choice(inputs.shape[0])]\n",
        "    # Compute the target output\n",
        "    y = onp.bitwise_xor(*x)\n",
        "    # Get the gradient of the loss for this input/output pair\n",
        "    grads = loss_grad(params, x, y)\n",
        "    # Update parameters via gradient descent\n",
        "    params = [param - learning_rate * grad\n",
        "              for param, grad in zip(params, grads)]\n",
        "    # Every 100 iterations, check whether we've solved XOR\n",
        "    if not n % 100:\n",
        "        print('Iteration {}'.format(n))\n",
        "        if test_all_inputs(inputs, params):\n",
        "            break"
      ],
      "execution_count": null,
      "outputs": [
        {
          "output_type": "stream",
          "name": "stdout",
          "text": [
            "Hello my name is John\n"
          ]
        }
      ]
    },
    {
      "cell_type": "markdown",
      "metadata": {
        "id": "Of8pdbGLeWWj"
      },
      "source": [
        "# Jax Example 2"
      ]
    },
    {
      "cell_type": "code",
      "metadata": {
        "id": "w_owPjbreZcz"
      },
      "source": [
        "import jax.numpy as np\n",
        "from jax import grad, jit"
      ],
      "execution_count": 47,
      "outputs": []
    },
    {
      "cell_type": "code",
      "metadata": {
        "id": "kKQ03UAYedLz"
      },
      "source": [
        "def J(X, w, b, y):\n",
        "    \"\"\"Cost function for a linear regression. A forward pass of our model.\n",
        "\n",
        "    Args:\n",
        "        X: a features matrix.\n",
        "        w: weights (a column vector).\n",
        "        b: a bias.\n",
        "        y: a target vector.\n",
        "\n",
        "    Returns:\n",
        "        scalar: a cost of this solution.    \n",
        "    \"\"\"\n",
        "    y_hat = X.dot(w) + b # Predict values.\n",
        "    return ((y_hat - y)**2).mean() # Return cost."
      ],
      "execution_count": 48,
      "outputs": []
    },
    {
      "cell_type": "code",
      "metadata": {
        "id": "zJk7tMxeedyq"
      },
      "source": [
        "# A features matrix.\n",
        "X = np.array([\n",
        "                 [4., 7.],\n",
        "                 [1., 8.],\n",
        "                 [-5., -6.],\n",
        "                 [3., -1.],\n",
        "                 [0., 9.]\n",
        "             ])\n",
        "\n",
        "# A target column vector.\n",
        "y = np.array([\n",
        "                 [37.],\n",
        "                 [24.],\n",
        "                 [-34.], \n",
        "                 [16.],\n",
        "                 [21.]\n",
        "             ])\n",
        "\n",
        "learning_rate = 0.01"
      ],
      "execution_count": 49,
      "outputs": []
    },
    {
      "cell_type": "markdown",
      "metadata": {
        "id": "2QbcpwaHe9Iq"
      },
      "source": [
        "Train without JIT"
      ]
    },
    {
      "cell_type": "code",
      "metadata": {
        "id": "G1gDVXMKe_Cz",
        "colab": {
          "base_uri": "https://localhost:8080/",
          "height": 136
        },
        "outputId": "2390428a-d829-46e1-e0d4-7247c087c3c8"
      },
      "source": [
        "w = np.zeros((2, 1))\n",
        "b = 0.\n",
        "\n",
        "print(grad(J, argnums=0)(X, w, b , y)) #argnums (Union[int, Sequence[int]]) – Optional, \n",
        "                    #integer or sequence of integers. Specifies which positional \n",
        "                    #argument(s) to differentiate with respect to (default 0).\n",
        "\n",
        "# %timeit grad(J, argnums=2)(X, w, b, y)\n",
        "\n",
        "# for i in range(100):\n",
        "#     w -= learning_rate * grad(J, argnums=1)(X, w, b, y)\n",
        "#     b -= learning_rate * grad(J, argnums=2)(X, w, b, y)\n",
        "    \n",
        "#     if i % 10 == 0:\n",
        "#         print(J(X, w, b, y))"
      ],
      "execution_count": 53,
      "outputs": [
        {
          "output_type": "error",
          "ename": "SyntaxError",
          "evalue": "ignored",
          "traceback": [
            "\u001b[0;36m  File \u001b[0;32m\"<ipython-input-53-061c7e5f854c>\"\u001b[0;36m, line \u001b[0;32m4\u001b[0m\n\u001b[0;31m    print(grad(J, argnums=0)(X, w, b = 0, y)) #argnums (Union[int, Sequence[int]]) – Optional,\u001b[0m\n\u001b[0m                                         ^\u001b[0m\n\u001b[0;31mSyntaxError\u001b[0m\u001b[0;31m:\u001b[0m positional argument follows keyword argument\n"
          ]
        }
      ]
    },
    {
      "cell_type": "markdown",
      "metadata": {
        "id": "1DlMZjqsfFlD"
      },
      "source": [
        "Train with JIT"
      ]
    },
    {
      "cell_type": "code",
      "metadata": {
        "id": "dCb3rbhPfHeK"
      },
      "source": [
        "\n",
        "\n",
        "w = np.zeros((2, 1))\n",
        "b = 0.\n",
        "\n",
        "grad_X = jit(grad(J, argnums=1))\n",
        "grad_b = jit(grad(J, argnums=2))\n",
        "\n",
        "# Run once to trigger JIT compilation.\n",
        "grad_X(X, w, b, y)\n",
        "grad_b(X, w, b, y)\n",
        "\n",
        "\n",
        "%timeit grad_X(X, w, b, y)\n",
        "\n",
        "%timeit grad_b(X, w, b, y)\n",
        "\n",
        "for i in range(100):\n",
        "    w -= learning_rate * grad_X(X, w, b, y)\n",
        "    b -= learning_rate * grad_b(X, w, b, y)\n",
        "    \n",
        "    if i % 10 == 0:\n",
        "        print(J(X, w, b, y))"
      ],
      "execution_count": null,
      "outputs": []
    }
  ]
}