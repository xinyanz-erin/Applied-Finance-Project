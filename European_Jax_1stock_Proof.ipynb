{
  "nbformat": 4,
  "nbformat_minor": 0,
  "metadata": {
    "colab": {
      "name": "European_Jax_1stock",
      "provenance": [],
      "collapsed_sections": [],
      "include_colab_link": true
    },
    "kernelspec": {
      "name": "python3",
      "display_name": "Python 3"
    },
    "language_info": {
      "name": "python"
    },
    "accelerator": "GPU"
  },
  "cells": [
    {
      "cell_type": "markdown",
      "metadata": {
        "id": "view-in-github",
        "colab_type": "text"
      },
      "source": [
        "<a href=\"https://colab.research.google.com/github/xinyanz-erin/Applied-Finance-Project/blob/Judy/European_Jax_1stock_Proof.ipynb\" target=\"_parent\"><img src=\"https://colab.research.google.com/assets/colab-badge.svg\" alt=\"Open In Colab\"/></a>"
      ]
    },
    {
      "cell_type": "markdown",
      "metadata": {
        "id": "v1RYKgBifCYw"
      },
      "source": [
        "# Test (Skip this if not trying to test, to make sure that functions are defined correctly in cells below without running this cell)"
      ]
    },
    {
      "cell_type": "code",
      "metadata": {
        "id": "nWYfON_marpj"
      },
      "source": [
        "import jax\n",
        "import jax.numpy as jnp\n",
        "from jax import random\n",
        "from jax import jit\n",
        "import numpy as np\n",
        "from torch.utils.dlpack import from_dlpack\n",
        "import matplotlib.pyplot as plt\n",
        "import math\n",
        "from scipy.stats import norm\n",
        "\n",
        "def Brownian_motion(key, initial_stocks, numsteps, drift, cov, T):\n",
        "    stocks_init = jnp.zeros((numsteps + 1, initial_stocks.shape[0]))\n",
        "    stocks_init = jax.ops.index_update(stocks_init,   # jax.ops.index_update(x, idx, y) <-> Pure equivalent of x[idx] = y\n",
        "                            jax.ops.index[0],         # initialization of stock prices\n",
        "                            initial_stocks)\n",
        "    noise = jax.random.multivariate_normal(key,  jnp.array([0]*initial_stocks.shape[0]), cov, (numsteps+1,)) # noise must have mean 0\n",
        "    sigma = jnp.diag(cov) ** 0.5\n",
        "    dt = T / numsteps\n",
        "    def time_step(t, val):\n",
        "        dx = jnp.exp((drift - sigma ** 2. / 2.) * dt + jnp.sqrt(dt) * noise[t,:])\n",
        "        val = jax.ops.index_update(val,\n",
        "                            jax.ops.index[t],\n",
        "                            val[t-1] * dx)\n",
        "        return val\n",
        "    return jax.lax.fori_loop(1, numsteps+1, time_step, stocks_init)[1:] # jax.lax.fori_loop(lower, upper, body_fun, init_val)\n",
        "\n",
        "def optionvalueavg(key, initial_stocks, numsteps, drift, r, cov, K, T):\n",
        "  return jnp.mean((jnp.maximum(jnp.mean(batch_simple(keys, initial_stocks, numsteps, drift, cov, T)[:,-1,:], axis=1)-K,0)) * jnp.exp(-r[0] * T))\n",
        "\n",
        "numstocks = 1\n",
        "numsteps = 50\n",
        "numpaths = 100000\n",
        "\n",
        "\n",
        "rng = jax.random.PRNGKey(np.random.randint(10000))\n",
        "rng, key = jax.random.split(rng)"
      ],
      "execution_count": 9,
      "outputs": []
    },
    {
      "cell_type": "code",
      "metadata": {
        "colab": {
          "base_uri": "https://localhost:8080/"
        },
        "id": "LwjGgDJ6AXu8",
        "outputId": "13594094-602d-4a30-d868-be521ab45c92"
      },
      "source": [
        "drift = jnp.array([0.05]*numstocks)\n",
        "r = drift\n",
        "cov = jnp.identity(numstocks)*0.25*0.25\n",
        "T = 1.0\n",
        "K = 1.0\n",
        "S0 = 1.0\n",
        "initial_stocks = jnp.array([S0]*numstocks)\n",
        "fast_simple = jax.jit(Brownian_motion, static_argnums=2)\n",
        "keys = jax.random.split(key, numpaths)\n",
        "batch_simple = jax.vmap(fast_simple, in_axes=(0, None, None, None, None, None))\n",
        "optionvalueavg(key, initial_stocks, numsteps, drift, r, cov, K, T)"
      ],
      "execution_count": 3,
      "outputs": [
        {
          "output_type": "execute_result",
          "data": {
            "text/plain": [
              "DeviceArray(0.12320758, dtype=float32)"
            ]
          },
          "metadata": {},
          "execution_count": 3
        }
      ]
    },
    {
      "cell_type": "code",
      "metadata": {
        "id": "DT87LsrOAjfP"
      },
      "source": [
        "def optionvalueavg_Put(key, initial_stocks, numsteps, drift, r, cov, K, T):\n",
        "  return jnp.mean((jnp.maximum(K - jnp.mean(batch_simple(keys, initial_stocks, numsteps, drift, cov, T)[:,-1,:], axis=1),0)) * jnp.exp(-r[0] * T))"
      ],
      "execution_count": 4,
      "outputs": []
    },
    {
      "cell_type": "code",
      "metadata": {
        "colab": {
          "base_uri": "https://localhost:8080/"
        },
        "id": "7ipM0jiVAzDp",
        "outputId": "26684f6f-e48d-4d89-8f4a-79332510c05f"
      },
      "source": [
        "optionvalueavg_Put(key, initial_stocks, numsteps, drift, r, cov, K, T)"
      ],
      "execution_count": 5,
      "outputs": [
        {
          "output_type": "execute_result",
          "data": {
            "text/plain": [
              "DeviceArray(0.07490724, dtype=float32)"
            ]
          },
          "metadata": {},
          "execution_count": 5
        }
      ]
    },
    {
      "cell_type": "markdown",
      "metadata": {
        "id": "2zPiy537MebU"
      },
      "source": [
        "## Change S"
      ]
    },
    {
      "cell_type": "markdown",
      "metadata": {
        "id": "lfrAZRDbABa_"
      },
      "source": [
        "(r = 0.05, sigma = 0.25, T = 1, K = 0.8)"
      ]
    },
    {
      "cell_type": "code",
      "metadata": {
        "id": "eNm2EseSMd4b"
      },
      "source": [
        "drift = jnp.array([0.05]*numstocks)\n",
        "r = drift\n",
        "cov = jnp.identity(numstocks)*0.25*0.25\n",
        "T = 1.0\n",
        "K = 0.8\n",
        "\n",
        "Price_ChangeS = np.array([])\n",
        "for i in range(0,100,1):\n",
        "  ii = i/100\n",
        "  initial_stocks = jnp.array([ii]*numstocks)\n",
        "  #print(initial_stocks)\n",
        "  fast_simple = jax.jit(Brownian_motion, static_argnums=2)\n",
        "  keys = jax.random.split(key, numpaths)\n",
        "  batch_simple = jax.vmap(fast_simple, in_axes=(0, None, None, None, None, None))\n",
        "  Price_ChangeS = np.append(Price_ChangeS,optionvalueavg(key, initial_stocks, numsteps, drift, r, cov, K, T))"
      ],
      "execution_count": 6,
      "outputs": []
    },
    {
      "cell_type": "code",
      "metadata": {
        "colab": {
          "base_uri": "https://localhost:8080/",
          "height": 297
        },
        "id": "ZTOrjigrQkxt",
        "outputId": "2613ab19-e750-48d6-8452-be6e108ee628"
      },
      "source": [
        "plt.plot(np.array(range(0, 100, 1))/100,Price_ChangeS,'red')\n",
        "plt.title('Changing of Option Price When S0 Is Changing(K = 0.8) ')"
      ],
      "execution_count": 8,
      "outputs": [
        {
          "output_type": "execute_result",
          "data": {
            "text/plain": [
              "Text(0.5, 1.0, 'Changing of Option Price When S0 Is Changing(K = 0.8) ')"
            ]
          },
          "metadata": {},
          "execution_count": 8
        },
        {
          "output_type": "display_data",
          "data": {
            "image/png": "[encoded data removed]",
            "text/plain": [
              "<Figure size 432x288 with 1 Axes>"
            ]
          },
          "metadata": {
            "needs_background": "light"
          }
        }
      ]
    },
    {
      "cell_type": "code",
      "metadata": {
        "id": "168ot8_dcVCQ"
      },
      "source": [
        "def BS_formula(stock_price, stock_strike, risk_free_rate, dividend_rate, sigma, time):\n",
        "    d1 = (np.log(stock_price / stock_strike) + ((risk_free_rate - dividend_rate + ((sigma ** 2) / 2)) * time)) / (sigma * (time ** 0.5))\n",
        "    d2 = d1 - sigma * (time ** 0.5)\n",
        "    call = stock_price * math.exp(-dividend_rate * time) * norm.cdf(d1) - stock_strike * math.exp(-risk_free_rate * time) * norm.cdf(d2)\n",
        "    return call"
      ],
      "execution_count": 10,
      "outputs": []
    },
    {
      "cell_type": "code",
      "metadata": {
        "colab": {
          "base_uri": "https://localhost:8080/"
        },
        "id": "T_dYG3opdqPu",
        "outputId": "831a062b-815b-42a0-9420-5888f7c2a5b1"
      },
      "source": [
        "Price_ChangeS_BS = np.array([])\n",
        "for i in range(0,100,1):\n",
        "  ii = i/100\n",
        "  Price_ChangeS_BS = np.append(Price_ChangeS_BS,BS_formula(ii,K,r,0,0.25,T))"
      ],
      "execution_count": 11,
      "outputs": [
        {
          "output_type": "stream",
          "name": "stderr",
          "text": [
            "/usr/local/lib/python3.7/dist-packages/ipykernel_launcher.py:2: RuntimeWarning: divide by zero encountered in log\n",
            "  \n"
          ]
        }
      ]
    },
    {
      "cell_type": "code",
      "metadata": {
        "colab": {
          "base_uri": "https://localhost:8080/",
          "height": 297
        },
        "id": "tW6GfgPpeVbM",
        "outputId": "d9096c79-0b3a-403c-b970-7fb3a168a6e5"
      },
      "source": [
        "plt.plot(np.array(range(0, 100, 1))/100,Price_ChangeS,'red')\n",
        "plt.plot(np.array(range(0, 100, 1))/100,Price_ChangeS_BS,'blue')\n",
        "\n",
        "plt.title('Changing of Option Price When S0 Is Changing(K = 0.8) ')"
      ],
      "execution_count": 12,
      "outputs": [
        {
          "output_type": "execute_result",
          "data": {
            "text/plain": [
              "Text(0.5, 1.0, 'Changing of Option Price When S0 Is Changing(K = 0.8) ')"
            ]
          },
          "metadata": {},
          "execution_count": 12
        },
        {
          "output_type": "display_data",
          "data": {
            "image/png": "[encoded data removed]",
            "text/plain": [
              "<Figure size 432x288 with 1 Axes>"
            ]
          },
          "metadata": {
            "needs_background": "light"
          }
        }
      ]
    },
    {
      "cell_type": "markdown",
      "metadata": {
        "id": "1jRXOlqDYanl"
      },
      "source": [
        "## Change K"
      ]
    },
    {
      "cell_type": "markdown",
      "metadata": {
        "id": "jpzejDC2BDwQ"
      },
      "source": [
        "(r = 0.05, sigma = 0.25, T = 1, S = 0.5)"
      ]
    },
    {
      "cell_type": "code",
      "metadata": {
        "id": "nESVJe1ZYfPF"
      },
      "source": [
        "drift = jnp.array([0.05]*numstocks)\n",
        "r = drift\n",
        "cov = jnp.identity(numstocks)*0.25*0.25\n",
        "T = 1.0\n",
        "initial_stocks = jnp.array([0.5]*numstocks)\n",
        "\n",
        "Price_ChangeK = np.array([])\n",
        "for i in range(1,100,1):\n",
        "  #print(i)\n",
        "  ii = i/100\n",
        "  K = ii\n",
        "  fast_simple = jax.jit(Brownian_motion, static_argnums=2)\n",
        "  keys = jax.random.split(key, numpaths)\n",
        "  batch_simple = jax.vmap(fast_simple, in_axes=(0, None, None, None, None, None))\n",
        "  Price_ChangeK = np.append(Price_ChangeK,optionvalueavg(key, initial_stocks, numsteps, drift, r, cov, K, T))"
      ],
      "execution_count": 13,
      "outputs": []
    },
    {
      "cell_type": "code",
      "metadata": {
        "colab": {
          "base_uri": "https://localhost:8080/",
          "height": 297
        },
        "id": "NWgVWIAcY4DV",
        "outputId": "7cb5b549-0e0c-48d9-b5bb-6b8a0e03bd60"
      },
      "source": [
        "plt.plot(np.array(range(1, 100, 1))/100,Price_ChangeK,'red')\n",
        "plt.title('Changing of Option Price When K Is Changing(S = 0.5)')"
      ],
      "execution_count": null,
      "outputs": [
        {
          "output_type": "execute_result",
          "data": {
            "text/plain": [
              "Text(0.5, 1.0, 'Changing of Option Price When K Is Changing(S = 0.5)')"
            ]
          },
          "metadata": {},
          "execution_count": 108
        },
        {
          "output_type": "display_data",
          "data": {
            "image/png": "[encoded data removed]",
            "text/plain": [
              "<Figure size 432x288 with 1 Axes>"
            ]
          },
          "metadata": {
            "needs_background": "light"
          }
        }
      ]
    },
    {
      "cell_type": "code",
      "metadata": {
        "id": "r0MI0TDHfn-6"
      },
      "source": [
        "Price_ChangeK_BS = np.array([])\n",
        "for i in range(1,100,1):\n",
        "  #print(i)\n",
        "  ii = i/100\n",
        "  Price_ChangeK_BS = np.append(Price_ChangeK_BS,BS_formula(0.5,ii,r,0,0.25,T))"
      ],
      "execution_count": 14,
      "outputs": []
    },
    {
      "cell_type": "code",
      "metadata": {
        "colab": {
          "base_uri": "https://localhost:8080/",
          "height": 297
        },
        "id": "34QU0544f_wU",
        "outputId": "fd05ea9e-baa8-469c-fd8c-670cdadfee9f"
      },
      "source": [
        "plt.plot(np.array(range(1, 100, 1))/100,Price_ChangeK,'red')\n",
        "plt.plot(np.array(range(1, 100, 1))/100,Price_ChangeK_BS,'blue')\n",
        "plt.title('Changing of Option Price When K Is Changing(S = 0.5)')"
      ],
      "execution_count": 15,
      "outputs": [
        {
          "output_type": "execute_result",
          "data": {
            "text/plain": [
              "Text(0.5, 1.0, 'Changing of Option Price When K Is Changing(S = 0.5)')"
            ]
          },
          "metadata": {},
          "execution_count": 15
        },
        {
          "output_type": "display_data",
          "data": {
            "image/png": "[encoded data removed]",
            "text/plain": [
              "<Figure size 432x288 with 1 Axes>"
            ]
          },
          "metadata": {
            "needs_background": "light"
          }
        }
      ]
    },
    {
      "cell_type": "markdown",
      "metadata": {
        "id": "0dnzxiQPBXjM"
      },
      "source": [
        "## Change r"
      ]
    },
    {
      "cell_type": "markdown",
      "metadata": {
        "id": "Pp3m1Ny4BZZx"
      },
      "source": [
        "(sigma = 0.25, T = 1, S = 0.5, K = 0.8)\n"
      ]
    },
    {
      "cell_type": "code",
      "metadata": {
        "id": "XlC5y9yIBWTE"
      },
      "source": [
        "cov = jnp.identity(numstocks)*0.25*0.25\n",
        "T = 1.0\n",
        "initial_stocks = jnp.array([0.5]*numstocks)\n",
        "K = 0.8\n",
        "\n",
        "Price_ChangeR = np.array([])\n",
        "for i in range(1,100,1):\n",
        "  #print(i)\n",
        "  ii = i/100\n",
        "  drift = jnp.array([ii]*numstocks)\n",
        "  r = drift\n",
        "  fast_simple = jax.jit(Brownian_motion, static_argnums=2)\n",
        "  keys = jax.random.split(key, numpaths)\n",
        "  batch_simple = jax.vmap(fast_simple, in_axes=(0, None, None, None, None, None))\n",
        "  Price_ChangeR = np.append(Price_ChangeR,optionvalueavg(key, initial_stocks, numsteps, drift, r, cov, K, T))"
      ],
      "execution_count": 16,
      "outputs": []
    },
    {
      "cell_type": "code",
      "metadata": {
        "id": "jwsnW2maB1PG"
      },
      "source": [
        "Price_ChangeR_BS = np.array([])\n",
        "for i in range(1,100,1):\n",
        "  #print(i)\n",
        "  ii = i/100\n",
        "  Price_ChangeR_BS = np.append(Price_ChangeR_BS,BS_formula(0.5,K,ii,0,0.25,T))"
      ],
      "execution_count": 17,
      "outputs": []
    },
    {
      "cell_type": "code",
      "metadata": {
        "colab": {
          "base_uri": "https://localhost:8080/",
          "height": 297
        },
        "id": "ffD-p4a9B-rz",
        "outputId": "9d796af2-2d69-42a2-e336-50a06a97caa7"
      },
      "source": [
        "plt.plot(np.array(range(1, 100, 1))/100,Price_ChangeR,'red')\n",
        "plt.plot(np.array(range(1, 100, 1))/100,Price_ChangeR_BS,'blue')\n",
        "plt.title('Changing of Option Price When R Is Changing')"
      ],
      "execution_count": 18,
      "outputs": [
        {
          "output_type": "execute_result",
          "data": {
            "text/plain": [
              "Text(0.5, 1.0, 'Changing of Option Price When R Is Changing')"
            ]
          },
          "metadata": {},
          "execution_count": 18
        },
        {
          "output_type": "display_data",
          "data": {
            "image/png": "[encoded data removed]",
            "text/plain": [
              "<Figure size 432x288 with 1 Axes>"
            ]
          },
          "metadata": {
            "needs_background": "light"
          }
        }
      ]
    },
    {
      "cell_type": "markdown",
      "metadata": {
        "id": "Y6gPopsgCD8n"
      },
      "source": [
        "## Change Sigma"
      ]
    },
    {
      "cell_type": "markdown",
      "metadata": {
        "id": "IeZLkYGACH79"
      },
      "source": [
        "(r = 0.05, T = 1, S = 0.5, K = 0.8)"
      ]
    },
    {
      "cell_type": "code",
      "metadata": {
        "id": "vGf6jqp4CCxR"
      },
      "source": [
        "drift = jnp.array([0.05]*numstocks)\n",
        "r = drift\n",
        "T = 1.0\n",
        "initial_stocks = jnp.array([0.5]*numstocks)\n",
        "K = 0.8\n",
        "\n",
        "Price_ChangeSig = np.array([])\n",
        "for i in range(1,100,1):\n",
        "  #print(i)\n",
        "  ii = i/100\n",
        "  cov = jnp.identity(numstocks)*ii*ii\n",
        "\n",
        "  fast_simple = jax.jit(Brownian_motion, static_argnums=2)\n",
        "  keys = jax.random.split(key, numpaths)\n",
        "  batch_simple = jax.vmap(fast_simple, in_axes=(0, None, None, None, None, None))\n",
        "  Price_ChangeSig = np.append(Price_ChangeSig,optionvalueavg(key, initial_stocks, numsteps, drift, r, cov, K, T))"
      ],
      "execution_count": 19,
      "outputs": []
    },
    {
      "cell_type": "code",
      "metadata": {
        "id": "qfVnnrcgCtSE"
      },
      "source": [
        "Price_ChangeSig_BS = np.array([])\n",
        "for i in range(1,100,1):\n",
        "  #print(i)\n",
        "  ii = i/100\n",
        "  Price_ChangeSig_BS = np.append(Price_ChangeSig_BS,BS_formula(0.5,K,r,0,ii,T))"
      ],
      "execution_count": 20,
      "outputs": []
    },
    {
      "cell_type": "code",
      "metadata": {
        "colab": {
          "base_uri": "https://localhost:8080/",
          "height": 297
        },
        "id": "BYcWqgSvC25-",
        "outputId": "ab558967-6229-46dc-cce7-9b6f4dc841f6"
      },
      "source": [
        "plt.plot(np.array(range(1, 100, 1))/100,Price_ChangeSig,'red')\n",
        "plt.plot(np.array(range(1, 100, 1))/100,Price_ChangeSig_BS,'blue')\n",
        "plt.title('Changing of Option Price When Sigma Is Changing')"
      ],
      "execution_count": 22,
      "outputs": [
        {
          "output_type": "execute_result",
          "data": {
            "text/plain": [
              "Text(0.5, 1.0, 'Changing of Option Price When Sigma Is Changing')"
            ]
          },
          "metadata": {},
          "execution_count": 22
        },
        {
          "output_type": "display_data",
          "data": {
            "image/png": "[encoded data removed]",
            "text/plain": [
              "<Figure size 432x288 with 1 Axes>"
            ]
          },
          "metadata": {
            "needs_background": "light"
          }
        }
      ]
    }
  ]
}