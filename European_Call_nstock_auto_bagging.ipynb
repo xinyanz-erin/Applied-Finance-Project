{
  "nbformat": 4,
  "nbformat_minor": 0,
  "metadata": {
    "kernelspec": {
      "display_name": "Python 3",
      "language": "python",
      "name": "python3"
    },
    "language_info": {
      "codemirror_mode": {
        "name": "ipython",
        "version": 3
      },
      "file_extension": ".py",
      "mimetype": "text/x-python",
      "name": "python",
      "nbconvert_exporter": "python",
      "pygments_lexer": "ipython3",
      "version": "3.6.9"
    },
    "colab": {
      "name": "European_Call_nstock_auto.ipynb",
      "provenance": [],
      "collapsed_sections": [
        "NwN6aLFDnwiy",
        "JIa4c_aHz15a",
        "u2_89jOknwjH",
        "rXT4Bg0wdL7l"
      ],
      "include_colab_link": true
    },
    "accelerator": "GPU"
  },
  "cells": [
    {
      "cell_type": "markdown",
      "metadata": {
        "id": "view-in-github",
        "colab_type": "text"
      },
      "source": [
        "<a href=\"https://colab.research.google.com/github/xinyanz-erin/Applied-Finance-Project/blob/Lilian/European_Call_nstock_auto_bagging.ipynb\" target=\"_parent\"><img src=\"https://colab.research.google.com/assets/colab-badge.svg\" alt=\"Open In Colab\"/></a>"
      ]
    },
    {
      "cell_type": "code",
      "metadata": {
        "id": "9Xk52L4czj5x"
      },
      "source": [
        "### 1\n",
        "\n",
        "nstock = 3   ### change according to stock num"
      ],
      "execution_count": 1,
      "outputs": []
    },
    {
      "cell_type": "code",
      "metadata": {
        "id": "gCR6hhw5Xq_R"
      },
      "source": [
        "### 2\n",
        "\n",
        "import warnings\n",
        "warnings.filterwarnings('ignore')"
      ],
      "execution_count": 2,
      "outputs": []
    },
    {
      "cell_type": "code",
      "metadata": {
        "colab": {
          "base_uri": "https://localhost:8080/"
        },
        "id": "gSxOZk3ls2XQ",
        "outputId": "ccca2879-3343-4e42-a44b-cac0eb5028ef"
      },
      "source": [
        "### 3\n",
        "\n",
        "!curl https://colab.chainer.org/install |sh -\n",
        "import cupy"
      ],
      "execution_count": 3,
      "outputs": [
        {
          "output_type": "stream",
          "text": [
            "  % Total    % Received % Xferd  Average Speed   Time    Time     Time  Current\n",
            "                                 Dload  Upload   Total   Spent    Left  Speed\n",
            "100  1580  100  1580    0     0   4952      0 --:--:-- --:--:-- --:--:--  4937\n",
            "+ apt -y -q install cuda-libraries-dev-10-0\n",
            "Reading package lists...\n",
            "Building dependency tree...\n",
            "Reading state information...\n",
            "cuda-libraries-dev-10-0 is already the newest version (10.0.130-1).\n",
            "The following package was automatically installed and is no longer required:\n",
            "  libnvidia-common-460\n",
            "Use 'apt autoremove' to remove it.\n",
            "0 upgraded, 0 newly installed, 0 to remove and 40 not upgraded.\n",
            "+ pip install -q cupy-cuda100  chainer \n",
            "+ set +ex\n",
            "Installation succeeded!\n"
          ],
          "name": "stdout"
        }
      ]
    },
    {
      "cell_type": "markdown",
      "metadata": {
        "id": "NwN6aLFDnwiy"
      },
      "source": [
        "### Deep Learning Barrier Option\n",
        "\n",
        "We used Numba and CuPy in the previous notebook to run Monte Carlo simulation to determine the price of the Asian Barrier option. A Monte Carlo simulation needs millions of paths to get an accurate answer which is computationally intensive. [Ryan et al (2018)](https://arxiv.org/abs/1809.02233) showed that a deep learning model can be trained to value derivatives. The deep learning model is accurate and very fast, capable of producing valuations a million times faster than traditional models. In the this notebook, we will use a fully connected network to learn the pricing mode of the Asian Barrier option. Monte Carlo simulation is used as pricing ground truth for the training. We use the same Asian Barrier Option model as last notebook with parameters listed as following:\n",
        "\n",
        "```\n",
        "T - Maturity (yrs.)\n",
        "S - Spot (usd)\n",
        "K - Strike (usd)\n",
        "sigma - Volatility (per.)\n",
        "r - Risk Free Rate (per.)\n",
        "mu - Stock Drift Rate (per.)\n",
        "B - Barrier (usd)\n",
        "```\n",
        "\n",
        "### Batched Data generation\n",
        "\n",
        "The dataset is an important part of the Deep learning training. We will modify the previous single Asian Barrier Option pricing code to handle a batch of Barrier Option pricing. "
      ]
    },
    {
      "cell_type": "code",
      "metadata": {
        "id": "cHYrh4iYfP-n",
        "cellView": "form"
      },
      "source": [
        "#@title\n",
        "###Test: Judy's new X code\n",
        "#N_STOCKS = 3"
      ],
      "execution_count": null,
      "outputs": []
    },
    {
      "cell_type": "code",
      "metadata": {
        "id": "hy7qGwT0jv4A",
        "cellView": "form"
      },
      "source": [
        "#@title\n",
        "#X = cupy.array([])\n",
        "#for i in range(0,N_STOCKS):\n",
        "  #X =  cupy.concatenate((X,cupy.array([1,1]), cupy.random.rand(3),cupy.array([1])))\n",
        "#X = X.reshape(N_STOCKS,6)\n",
        "#X"
      ],
      "execution_count": null,
      "outputs": []
    },
    {
      "cell_type": "code",
      "metadata": {
        "id": "9OHtAXC8hVae",
        "cellView": "form"
      },
      "source": [
        "#@title\n",
        "#X = X * ((cupy.array([200.0, 0, 200.0, 0.4, 0.2, 0.2] * N_STOCKS, dtype = cupy.float32)).reshape(N_STOCKS, 6))\n",
        "#X"
      ],
      "execution_count": null,
      "outputs": []
    },
    {
      "cell_type": "markdown",
      "metadata": {
        "id": "TY_9g3tbdLiY"
      },
      "source": [
        "### Train(Erin Version)"
      ]
    },
    {
      "cell_type": "code",
      "metadata": {
        "id": "qBxT9Eida-c_",
        "cellView": "form"
      },
      "source": [
        "#@title\n",
        "# ################################# TEST ########################################\n",
        "# %%writefile cupy_dataset.py\n",
        "\n",
        "# import numba\n",
        "# from numba import cuda\n",
        "# import random\n",
        "# import cupy\n",
        "# import numpy as np\n",
        "# import math\n",
        "# import time\n",
        "# import torch\n",
        "# cupy.cuda.set_allocator(None)\n",
        "# from torch.utils.dlpack import from_dlpack\n",
        "\n",
        "# @cuda.jit\n",
        "# def batch_barrier_option(d_s, T, K, B, S0, sigma, mu, r, d_normals, N_STEPS, N_PATHS, N_BATCH):\n",
        "#     # ii - overall thread index\n",
        "#     ii = cuda.threadIdx.x + cuda.blockIdx.x * cuda.blockDim.x\n",
        "#     stride = cuda.gridDim.x * cuda.blockDim.x\n",
        "#     tmp3 = math.sqrt(T/N_STEPS)\n",
        "#     for i in range(ii, N_PATHS * N_BATCH, stride):\n",
        "#         batch_id = i // N_PATHS\n",
        "#         path_id = i % N_PATHS\n",
        "#         tmp1 = mu[batch_id]*T/N_STEPS\n",
        "#         tmp2 = math.exp(-r[batch_id]*T)\n",
        "#         running_average = 0.0\n",
        "#         s_curr = S0[batch_id]\n",
        "#         for n in range(N_STEPS):\n",
        "#             s_curr += tmp1 * s_curr + sigma[batch_id]*s_curr*tmp3*d_normals[path_id + batch_id * N_PATHS + n * N_PATHS * N_BATCH] # stock price\n",
        "#             running_average = running_average + 1.0/(n + 1.0) * (s_curr - running_average) # average of the path\n",
        "#             if i==0 and batch_id == 2:\n",
        "#                 print(s_curr)\n",
        "#             if running_average <= B[batch_id]: # if reach barrier, drop out the path\n",
        "#                 break\n",
        "#         payoff = running_average - K[batch_id] if running_average > K[batch_id] else 0\n",
        "#         d_s[i] = tmp2 * payoff\n",
        "\n",
        "# class NumbaOptionDataSet(object):\n",
        "    \n",
        "#     def __init__(self, max_len=10, number_path = 1000, batch=2, threads=512, seed=15, stocks=3):  # 3 stocks\n",
        "#         self.num = 0\n",
        "#         self.max_length = max_len\n",
        "#         self.N_PATHS = number_path\n",
        "#         self.N_STEPS = 365\n",
        "#         self.N_BATCH = batch\n",
        "#         self.N_STOCKS = stocks\n",
        "#         self.T = np.float32(1.0)\n",
        "#         self.output = cupy.zeros(self.N_STOCKS*self.N_PATHS, dtype=cupy.float32) \n",
        "#         self.number_of_blocks = (self.N_PATHS * self.N_STOCKS - 1) // threads + 1\n",
        "#         self.number_of_threads = threads\n",
        "#         cupy.random.seed(seed)\n",
        "        \n",
        "#     def __len__(self):\n",
        "#         return self.max_length\n",
        "        \n",
        "#     def __iter__(self):\n",
        "#         self.num = 0\n",
        "#         return self\n",
        "    \n",
        "#     def __next__(self):\n",
        "#         if self.num > self.max_length:\n",
        "#             raise StopIteration\n",
        "        \n",
        "#         Y = cupy.zeros(self.N_BATCH, dtype=cupy.float32)\n",
        "#         paras = cupy.zeros((self.N_BATCH, self.N_STOCKS * 6), dtype = cupy.float32)\n",
        "#         for op in range(self.N_BATCH):\n",
        "          \n",
        "#           X = cupy.array([])\n",
        "#           K_rand = cupy.random.rand(1)[0]\n",
        "#           B_rand = cupy.random.rand(1)[0]\n",
        "#           r_rand = cupy.random.rand(1)[0]\n",
        "#           for i in range(0,self.N_STOCKS):\n",
        "#             X =  cupy.concatenate((X,cupy.array([K_rand,B_rand]), cupy.random.rand(3),cupy.array([r_rand]))) #[K,B,S0,sigma,mu,r], K B r are shared\n",
        "#           X = X.reshape(self.N_STOCKS,6)\n",
        "#           X = X * ((cupy.array([200.0, 0.1, 200.0, 0.4, 0.2, 0.2] * self.N_STOCKS, dtype = cupy.float32)).reshape(self.N_STOCKS, 6))\n",
        "#           #X = cupy.random.rand(6 * self.N_STOCKS, dtype=cupy.float32)\n",
        "#           #X = 0.9 + cupy.random.rand(6 * self.N_STOCKS, dtype=cupy.float32)*0.1\n",
        "#           # scale the [0, 1) random numbers to the correct range for each of the option parameters\n",
        "#           #X = (X * cupy.array([200.0, 0.99, 200.0, 0.4, 0.2, 0.2] * self.N_STOCKS, dtype = cupy.float32)).reshape(self.N_STOCKS, 6)\n",
        "\n",
        "#           # make sure the Barrier is smaller than the Strike price\n",
        "#           # X[:, 1] = X[:, 0] * X[:, 1]\n",
        "#           for i in range(self.N_STOCKS):\n",
        "#             paras[op,i*6:(i+1)*6] = X[i,:]\n",
        "\n",
        "#           stocks_randoms_mean = cupy.zeros(self.N_STOCKS, dtype = cupy.float32)\n",
        "#           rho = cupy.random.normal(0, 1, self.N_STOCKS, dtype = cupy.float32)\n",
        "\n",
        "#           #stocks_randoms_cov = cupy.ones((self.N_STOCKS, self.N_STOCKS), dtype = cupy.float32)\n",
        "#           #cupy.fill_diagonal(stocks_randoms_cov, rho)\n",
        "\n",
        "#           #stocks_randoms_cov = (-0.99 + cupy.random.rand(self.N_STOCKS*self.N_STOCKS, dtype=cupy.float32)*2*0.99).reshape(self.N_STOCKS,self.N_STOCKS)\n",
        "#           stocks_randoms_cov = cupy.array([1] * self.N_STOCKS*self.N_STOCKS, dtype = cupy.float32).reshape(self.N_STOCKS,self.N_STOCKS)  #Covariance\n",
        "#           cupy.fill_diagonal(stocks_randoms_cov, 1)\n",
        "\n",
        "#           num_of_randoms_each_stock = self.N_PATHS * self.N_STEPS\n",
        "#           randoms_gpu = cupy.random.multivariate_normal(stocks_randoms_mean, stocks_randoms_cov,\n",
        "#                                                         num_of_randoms_each_stock, dtype=cupy.float32)\n",
        "#           b1_r = randoms_gpu[:,0]\n",
        "#           b2_r = randoms_gpu[:,1]\n",
        "#           randoms = cupy.zeros(self.N_STOCKS * self.N_PATHS * self.N_STEPS, dtype=cupy.float32)\n",
        "#           interval = int((self.N_PATHS * self.N_STEPS * self.N_STOCKS) / self.N_PATHS)\n",
        "#           for i in range(interval):\n",
        "#             if i % 2 == 0:\n",
        "#                 ind = int(i/2)\n",
        "#                 randoms[i*self.N_PATHS:(i+1)*self.N_PATHS] = b1_r[ind:(ind+self.N_PATHS)]\n",
        "#             else:\n",
        "#                 ind = int(i//2)\n",
        "#                 randoms[i*self.N_PATHS:(i+1)*self.N_PATHS] = b2_r[ind:(ind+self.N_PATHS)]\n",
        "\n",
        "#           randoms = cupy.random.normal(0, 1, self.N_STOCKS * self.N_PATHS * self.N_STEPS, dtype=cupy.float32)\n",
        "#           batch_barrier_option[(self.number_of_blocks,), (self.number_of_threads,)](self.output, self.T, X[:, 0], \n",
        "#                                 X[:, 1], X[:, 2], X[:, 3], X[:, 4], X[:, 5], randoms, self.N_STEPS, self.N_PATHS, self.N_STOCKS)\n",
        "          \n",
        "#           o = self.output.reshape(self.N_STOCKS, self.N_PATHS)\n",
        "#           Y[op] = o.mean(axis = 0).mean()\n",
        "\n",
        "#         self.num += 1\n",
        "#         return (from_dlpack(paras.toDlpack()), from_dlpack(Y.toDlpack()))\n",
        "\n",
        "\n",
        "\n",
        "# # ds = NumbaOptionDataSet(10, number_path=100000, batch=3, seed=random.randint(0,100), stocks=5)\n",
        "# # for i in ds:\n",
        "# #     print(i[0])\n",
        "# ################################# TEST ########################################"
      ],
      "execution_count": null,
      "outputs": []
    },
    {
      "cell_type": "markdown",
      "metadata": {
        "id": "s6dZnWTTfbf1"
      },
      "source": [
        "### Train (European Call option)"
      ]
    },
    {
      "cell_type": "code",
      "metadata": {
        "colab": {
          "base_uri": "https://localhost:8080/"
        },
        "id": "CeREuPw0fguQ",
        "outputId": "0ff80d7c-7247-4a5c-feec-06c95e9fe5f1"
      },
      "source": [
        "### 4\n",
        "\n",
        "################################# TEST ########################################\n",
        "%%writefile cupy_dataset.py\n",
        "\n",
        "import numba\n",
        "from numba import cuda\n",
        "import random\n",
        "import cupy\n",
        "import numpy as np\n",
        "import math\n",
        "import time\n",
        "import torch\n",
        "cupy.cuda.set_allocator(None)\n",
        "from torch.utils.dlpack import from_dlpack\n",
        "\n",
        "@cuda.jit\n",
        "def European_call_option(d_s, T, K, S0, sigma, mu, r, d_normals, N_STEPS, N_PATHS, N_BATCH):\n",
        "    # ii - overall thread index\n",
        "    ii = cuda.threadIdx.x + cuda.blockIdx.x * cuda.blockDim.x\n",
        "    stride = cuda.gridDim.x * cuda.blockDim.x\n",
        "    #tmp3 = math.sqrt(T/N_STEPS)\n",
        "    for i in range(ii, N_PATHS * N_BATCH, stride):\n",
        "        batch_id = i // N_PATHS\n",
        "        path_id = i % N_PATHS\n",
        "        h = T[batch_id] / N_STEPS\n",
        "        tmp1 = r[batch_id]*T[batch_id]/N_STEPS \n",
        "        tmp2 = math.exp(-r[batch_id]*T[batch_id]) # discount\n",
        "        tmp3 = math.sqrt(T[batch_id]/N_STEPS)\n",
        "        #running_average = 0.0\n",
        "        s_curr = S0[batch_id]\n",
        "        for n in range(N_STEPS):\n",
        "          s_curr += tmp1 * s_curr + sigma[batch_id]*s_curr*tmp3*d_normals[path_id + batch_id * N_PATHS + n * N_PATHS * N_BATCH] # stock price\n",
        "          #s_curr = s_curr * math.exp((r[batch_id] - (1/2)*sigma[batch_id]**2)*h + sigma[batch_id] * tmp3 * d_normals[path_id + batch_id * N_PATHS + n * N_PATHS * N_BATCH])\n",
        "          #running_average = running_average + 1.0/(n + 1.0) * (s_curr - running_average) # average of the path\n",
        "          #if i==0 and batch_id == 2:\n",
        "          #    print(s_curr)\n",
        "          #if running_average <= B[batch_id]: # if reach barrier, drop out the path\n",
        "          #    break\n",
        "        #payoff = running_average - K[batch_id] if running_average > K[batch_id] else 0\n",
        "        #payoff = s_curr - K[batch_id] if s_curr > K[batch_id] else 0\n",
        "        #d_s[i] = tmp2 * payoff\n",
        "        d_s[i] = s_curr\n",
        "\n",
        "class NumbaOptionDataSet(object):\n",
        "    \n",
        "    def __init__(self, max_len=10, number_path = 1000, batch=2, threads=512, seed = random.randint(0,100), stocks=3):  # 3 stocks\n",
        "        self.num = 0\n",
        "        self.max_length = max_len\n",
        "        self.N_PATHS = number_path\n",
        "        #self.N_STEPS = 365\n",
        "        self.N_STEPS = 10000\n",
        "        self.N_BATCH = batch\n",
        "        self.N_STOCKS = stocks\n",
        "        #self.T = np.float32(1.0)\n",
        "        self.output = cupy.zeros(self.N_STOCKS*self.N_PATHS, dtype=cupy.float32)\n",
        "        self.number_of_blocks = (self.N_PATHS * self.N_STOCKS - 1) // threads + 1\n",
        "        self.number_of_threads = threads\n",
        "        cupy.random.seed(seed)\n",
        "        \n",
        "    def __len__(self):\n",
        "        return self.max_length\n",
        "        \n",
        "    def __iter__(self):\n",
        "        self.num = 0\n",
        "        return self\n",
        "    \n",
        "    def __next__(self):\n",
        "        if self.num > self.max_length:\n",
        "            raise StopIteration\n",
        "        \n",
        "        Y = cupy.zeros(self.N_BATCH, dtype=cupy.float32)\n",
        "        paras = cupy.zeros((self.N_BATCH, self.N_STOCKS * 6), dtype = cupy.float32)\n",
        "        #paras = cupy.zeros((self.N_BATCH, self.N_STOCKS * 5), dtype = cupy.float32)\n",
        "\n",
        "        for op in range(self.N_BATCH):\n",
        "          \n",
        "          X = cupy.array([])\n",
        "          #T_rand = cupy.random.rand(1)[0]\n",
        "          K_rand = cupy.random.rand(1)\n",
        "          #B_rand = cupy.random.rand(1)[0]\n",
        "          r_rand = cupy.random.rand(1)\n",
        "          for i in range(0, self.N_STOCKS):\n",
        "            #X =  cupy.concatenate((X, cupy.array([K_rand,B_rand]), cupy.random.rand(3), cupy.array([r_rand]))) #[K,B,S0,sigma,mu,r], K B r are shared\n",
        "            X = cupy.concatenate((X, cupy.array([1.0]), K_rand, cupy.random.rand(3), r_rand))\n",
        "          \n",
        "          X = X.reshape(self.N_STOCKS, 6)\n",
        "          #X = X * ((cupy.array([200.0, 0.1, 200.0, 0.4, 0.2, 0.2] * self.N_STOCKS, dtype = cupy.float32)).reshape(self.N_STOCKS, 6))\n",
        "          #[T, K, S0, sigma, mu, r]\n",
        "          X = X * ((cupy.array([1, 150.0, 150.0, 0.4, 0.2, 0.2] * self.N_STOCKS, dtype = cupy.float32)).reshape(self.N_STOCKS, 6))\n",
        "          #X = cupy.random.rand(6 * self.N_STOCKS, dtype=cupy.float32)\n",
        "          #X = 0.9 + cupy.random.rand(6 * self.N_STOCKS, dtype=cupy.float32)*0.1\n",
        "          # scale the [0, 1) random numbers to the correct range for each of the option parameters\n",
        "          #X = (X * cupy.array([200.0, 0.99, 200.0, 0.4, 0.2, 0.2] * self.N_STOCKS, dtype = cupy.float32)).reshape(self.N_STOCKS, 6)\n",
        "\n",
        "          # make sure the Barrier is smaller than the Strike price\n",
        "          # X[:, 1] = X[:, 0] * X[:, 1]\n",
        "          for i in range(self.N_STOCKS):\n",
        "            paras[op,i*6:(i+1)*6] = X[i,:]\n",
        "            #paras[op, i*5:(i+1)*5] = X[i,:]\n",
        "\n",
        "          stocks_randoms_mean = cupy.zeros(self.N_STOCKS, dtype = cupy.float32)\n",
        "          rho = cupy.random.normal(0, 1, self.N_STOCKS, dtype = cupy.float32)\n",
        "\n",
        "          #stocks_randoms_cov = cupy.ones((self.N_STOCKS, self.N_STOCKS), dtype = cupy.float32)\n",
        "          #cupy.fill_diagonal(stocks_randoms_cov, rho)\n",
        "\n",
        "          #stocks_randoms_cov = (-0.99 + cupy.random.rand(self.N_STOCKS*self.N_STOCKS, dtype=cupy.float32)*2*0.99).reshape(self.N_STOCKS,self.N_STOCKS)\n",
        "          if self.N_STOCKS != 1:\n",
        "            randoms = cupy.random.normal(0, 1, self.N_STOCKS * self.N_PATHS * self.N_STEPS, dtype=cupy.float32)\n",
        "            # stocks_randoms_cov = cupy.array([0] * self.N_STOCKS*self.N_STOCKS, dtype = cupy.float32).reshape(self.N_STOCKS,self.N_STOCKS)  #Covariance\n",
        "            # cupy.fill_diagonal(stocks_randoms_cov, 1)\n",
        "\n",
        "            # num_of_randoms_each_stock = self.N_PATHS * self.N_STEPS\n",
        "            # randoms_gpu = cupy.random.multivariate_normal(stocks_randoms_mean, stocks_randoms_cov,\n",
        "            #                                               num_of_randoms_each_stock, dtype=cupy.float32)\n",
        "            # b1_r = randoms_gpu[:,0]\n",
        "            # b2_r = randoms_gpu[:,1]\n",
        "            # randoms = cupy.zeros(self.N_STOCKS * self.N_PATHS * self.N_STEPS, dtype=cupy.float32)\n",
        "            # interval = int((self.N_PATHS * self.N_STEPS * self.N_STOCKS) / self.N_PATHS)\n",
        "            # for i in range(interval):\n",
        "            #   if i % 2 == 0:\n",
        "            #       ind = int(i/2)\n",
        "            #       randoms[i*self.N_PATHS:(i+1)*self.N_PATHS] = b1_r[ind:(ind+self.N_PATHS)]\n",
        "            #   else:\n",
        "            #       ind = int(i//2)\n",
        "            #       randoms[i*self.N_PATHS:(i+1)*self.N_PATHS] = b2_r[ind:(ind+self.N_PATHS)]\n",
        "          if self.N_STOCKS == 1:\n",
        "            randoms = cupy.random.normal(0, 1, self.N_STOCKS * self.N_PATHS * self.N_STEPS, dtype=cupy.float32)\n",
        "          \n",
        "          European_call_option[(self.number_of_blocks,), (self.number_of_threads,)](self.output, X[:, 0], \n",
        "                                X[:, 1], X[:, 2], X[:, 3], X[:, 4], X[:, 5], randoms, self.N_STEPS, self.N_PATHS, self.N_STOCKS)\n",
        "          \n",
        "          o = self.output.reshape(self.N_STOCKS, self.N_PATHS) # this contains prices for each stock for each path at time T\n",
        "          K = K_rand * 150\n",
        "          r = r_rand * 0.2\n",
        "          o = o.mean(axis = 0) # average across stocks end prices\n",
        "          payoff = np.maximum(o - K, 0) # compute payoff\n",
        "          payoff = payoff * np.exp(-r*1) # T=1, discount\n",
        "          Y[op] = payoff.mean()\n",
        "\n",
        "        self.num += 1\n",
        "        return (from_dlpack(paras.toDlpack()), from_dlpack(Y.toDlpack()))\n",
        "\n",
        "\n",
        "# ds = NumbaOptionDataSet(1, number_path = 10000, batch = 3, seed = random.randint(0,100), stocks=nstock)\n",
        "# for i in ds:\n",
        "#     print(i)\n",
        "################################# TEST ########################################"
      ],
      "execution_count": 4,
      "outputs": [
        {
          "output_type": "stream",
          "text": [
            "Overwriting cupy_dataset.py\n"
          ],
          "name": "stdout"
        }
      ]
    },
    {
      "cell_type": "markdown",
      "metadata": {
        "id": "JIa4c_aHz15a"
      },
      "source": [
        "### For verification (Monte Carlo for n-stocks basket)"
      ]
    },
    {
      "cell_type": "code",
      "metadata": {
        "id": "4DTuXR1ANZPC"
      },
      "source": [
        "# def test(array):\n",
        "#   S1 = array[2]\n",
        "#   S2 = array[8]\n",
        "#   S3 = array[14]\n",
        "#   sigma1 = array[3]\n",
        "#   sigma2 = array[9]\n",
        "#   sigma3 = array[15]\n",
        "#   T = 1  \n",
        "#   K = array[1]\n",
        "#   r = array[5]\n",
        "\n",
        "#   dt = 1/1000\n",
        "#   N = round(T/dt)\n",
        "#   t = np.linspace(0, T, N)\n",
        "\n",
        "#   out = []\n",
        "\n",
        "#   for i in range(10000):\n",
        "#     W1 = np.random.standard_normal(size = N)\n",
        "#     W1 = np.cumsum(W1) * np.sqrt(dt)\n",
        "#     W2 = np.random.standard_normal(size = N)\n",
        "#     W2 = np.cumsum(W2) * np.sqrt(dt)\n",
        "#     W3 = np.random.standard_normal(size = N)\n",
        "#     W3 = np.cumsum(W3) * np.sqrt(dt)\n",
        "\n",
        "#     # W = np.random.standard_normal(size = N)\n",
        "#     # W = np.cumsum(W) * np.sqrt(dt)\n",
        "    \n",
        "#     P1_T = (S1 * np.exp((r - 0.5*sigma1**2) *t + sigma1 * W1))[-1]\n",
        "#     P2_T = (S2 * np.exp((r - 0.5*sigma2**2) *t + sigma2 * W2))[-1]\n",
        "#     P3_T = (S3 * np.exp((r - 0.5*sigma3**2) *t + sigma3 * W3))[-1]\n",
        "#     payoff = (P1_T+P2_T+P3_T)/3 - K if (P1_T+P2_T+P3_T)/3 > K else 0\n",
        "#     out.append(payoff * np.exp(-r*T))\n",
        "  \n",
        "#   return(np.array(out).mean())\n",
        "\n",
        "# print(test(np.array([1.0000e+00, 5.8549e+00, 3.6871e+01, 2.6866e-01, 1.9026e-01, 1.8305e-01,\n",
        "#          1.0000e+00, 5.8549e+00, 4.1110e+00, 2.3714e-01, 5.9547e-02, 1.8305e-01,\n",
        "#          1.0000e+00, 5.8549e+00, 1.6189e+01, 7.3936e-02, 1.1713e-01, 1.8305e-01])))\n",
        "# print(test(np.array([1.0000e+00, 1.1296e+02, 7.4318e+01, 2.0409e-01, 1.9133e-01, 5.3904e-02,\n",
        "#          1.0000e+00, 1.1296e+02, 5.3453e+01, 4.8439e-02, 5.8557e-02, 5.3904e-02,\n",
        "#          1.0000e+00, 1.1296e+02, 3.8721e+01, 2.0259e-01, 6.0423e-02, 5.3904e-02])))\n",
        "# print(test(np.array([1.0000e+00, 3.2307e+01, 3.8874e+01, 2.5820e-01, 1.9522e-01, 8.6353e-02,\n",
        "#          1.0000e+00, 3.2307e+01, 3.6077e+01, 3.7123e-01, 1.8810e-01, 8.6353e-02,\n",
        "#          1.0000e+00, 3.2307e+01, 6.9274e+01, 2.4100e-01, 1.9839e-01, 8.6353e-02])))\n",
        "# print(test(np.array([1.0000e+00, 2.4764e+01, 6.6956e+01, 2.0769e-01, 9.8127e-02, 1.7302e-01,\n",
        "#          1.0000e+00, 2.4764e+01, 3.6483e+01, 8.9075e-02, 1.9375e-01, 1.7302e-01,\n",
        "#          1.0000e+00, 2.4764e+01, 9.4748e+01, 2.6420e-01, 1.2015e-01, 1.7302e-01])))\n",
        "# print(test(np.array([1.0000e+00, 8.4591e+01, 1.2730e+02, 2.8949e-02, 1.0954e-01, 1.3706e-01,\n",
        "#          1.0000e+00, 8.4591e+01, 1.2859e+02, 1.5262e-01, 1.4064e-03, 1.3706e-01,\n",
        "#          1.0000e+00, 8.4591e+01, 4.6679e+01, 2.6688e-01, 1.5895e-01, 1.3706e-01])))\n",
        "# print(test(np.array([1.0000e+00, 6.8433e+01, 3.5593e+01, 6.5870e-02, 6.8068e-02, 1.3578e-02,\n",
        "#          1.0000e+00, 6.8433e+01, 2.3864e+01, 9.5815e-02, 1.6075e-01, 1.3578e-02,\n",
        "#          1.0000e+00, 6.8433e+01, 1.1863e+02, 3.0400e-01, 5.6958e-02, 1.3578e-02])))"
      ],
      "execution_count": null,
      "outputs": []
    },
    {
      "cell_type": "code",
      "metadata": {
        "id": "Bqx6hNuucM5U"
      },
      "source": [
        "# array = np.array([1.0000e+00, 8.3754e+01, 1.2787e+02, 2.7420e-01, 1.2507e-01, 1.7700e-01,\n",
        "#          1.0000e+00, 8.3754e+01, 4.0869e+01, 3.3302e-01, 1.7439e-01, 1.7700e-01,\n",
        "#          1.0000e+00, 8.3754e+01, 1.1031e+02, 3.5945e-01, 1.5382e-01, 1.7700e-01])\n",
        "\n",
        "# S1 = array[2]\n",
        "# S2 = array[8]\n",
        "# S3 = array[14]\n",
        "# sigma1 = array[3]\n",
        "# sigma2 = array[9]\n",
        "# sigma3 = array[15]\n",
        "# T = 1  \n",
        "# K = array[1]\n",
        "# r = array[5]\n",
        "\n",
        "# dt = 1/100\n",
        "# N = round(T/dt)\n",
        "# t = np.linspace(0, T, N)\n",
        "\n",
        "# out = []\n",
        "\n",
        "# #for i in range(1000):\n",
        "# W = np.random.standard_normal(size = N)\n",
        "# W = np.cumsum(W) * np.sqrt(dt)\n",
        "# P1_T = (S1 * np.exp((r - 0.5*sigma1**2) *t + sigma1 * W))\n",
        "# P2_T = (S2 * np.exp((r - 0.5*sigma2**2) *t + sigma2 * W))[-1]\n",
        "# P3_T = (S3 * np.exp((r - 0.5*sigma3**2) *t + sigma3 * W))[-1]\n",
        "# #ayoff = (P1_T+P2_T+P3_T)/3 - K if (P1_T+P2_T+P3_T)/3 > K else 0\n",
        "# #out.append(payoff * np.exp(-r*T))\n",
        "\n",
        "# #return(np.array(out).mean())\n",
        "# #P1_T\n",
        "# import matplotlib.pyplot as plt\n",
        "# plt.plot(t, P1_T)\n",
        "# plt.show()"
      ],
      "execution_count": null,
      "outputs": []
    },
    {
      "cell_type": "code",
      "metadata": {
        "id": "8tpLw9WDhx8b"
      },
      "source": [
        "# stocks_randoms_cov = cupy.array([0.99999] * 3 * 3, dtype = cupy.float32).reshape(3,3)  #Covariance\n",
        "# cupy.fill_diagonal(stocks_randoms_cov, 1)\n",
        "\n",
        "# stocks_randoms_mean = cupy.zeros(3, dtype = cupy.float32)\n",
        "\n",
        "# num_of_randoms_each_stock = 2 * 3\n",
        "# randoms_gpu = cupy.random.multivariate_normal(stocks_randoms_mean, stocks_randoms_cov,\n",
        "#                                               num_of_randoms_each_stock, dtype=cupy.float32)\n",
        "# randoms_gpu"
      ],
      "execution_count": null,
      "outputs": []
    },
    {
      "cell_type": "markdown",
      "metadata": {
        "id": "u2_89jOknwjH"
      },
      "source": [
        "### Model\n",
        "To map the option parameters to price, we use 6 layers of fully connected neural network with hidden dimension 512 as inspired by [this paper](https://arxiv.org/abs/1809.02233). Writing this DL price model into a file `model.py`:-"
      ]
    },
    {
      "cell_type": "markdown",
      "metadata": {
        "id": "NMHqzJycx8XH"
      },
      "source": [
        "### Modified Model"
      ]
    },
    {
      "cell_type": "code",
      "metadata": {
        "id": "ZTn7iJQryAIH",
        "colab": {
          "base_uri": "https://localhost:8080/"
        },
        "outputId": "29c6922f-864e-4ed3-fd83-e788a01e5f67"
      },
      "source": [
        "### 5\n",
        "\n",
        "%%writefile model.py\n",
        "import torch.nn as nn\n",
        "import torch.nn.functional as F\n",
        "import torch\n",
        "import numpy as np\n",
        "\n",
        "class Net(nn.Module):\n",
        "\n",
        "    def __init__(self, hidden=1024, nstock=3):    # remember to change nstock!\n",
        "        super(Net, self).__init__()\n",
        "        self.nstock = nstock\n",
        "        self.fc1 = nn.Linear(6 * self.nstock, hidden)\n",
        "        self.fc2 = nn.Linear(hidden, hidden)\n",
        "        self.fc3 = nn.Linear(hidden, hidden)\n",
        "        self.fc4 = nn.Linear(hidden, hidden)\n",
        "        self.fc5 = nn.Linear(hidden, hidden)\n",
        "        self.fc6 = nn.Linear(hidden, 1)\n",
        "        self.register_buffer('norm',\n",
        "                             torch.tensor([1, 150.0, 150.0, 0.4, 0.2, 0.2] * self.nstock)) # don't use numpy here - will give error later\n",
        "\n",
        "    def forward(self, x):\n",
        "        # normalize the parameter to range [0-1] \n",
        "        x = x / self.norm\n",
        "        x = F.elu(self.fc1(x))\n",
        "        x = F.elu(self.fc2(x))\n",
        "        x = F.elu(self.fc3(x))\n",
        "        x = F.elu(self.fc4(x))\n",
        "        x = F.elu(self.fc5(x))\n",
        "        return self.fc6(x)"
      ],
      "execution_count": 5,
      "outputs": [
        {
          "output_type": "stream",
          "text": [
            "Overwriting model.py\n"
          ],
          "name": "stdout"
        }
      ]
    },
    {
      "cell_type": "markdown",
      "metadata": {
        "id": "hSPRFqyznwjI"
      },
      "source": [
        "As we know the random parameters' scaling factors, the input parameters are first scaled back to a range of (0-1) by dividing them by (200.0, 198.0, 200.0, 0.4, 0.2, 0.2). Then they are projected 5 times to the hidden dimension of 512 after the `ELu` activation function. `ELu` is chosen because we need to compute the second order differentiation of the parameters. If use ReLu, the second order differentiation will always be zero. The last layer is a linear layer that maps the hidden dimension to the predicted option price. "
      ]
    },
    {
      "cell_type": "markdown",
      "metadata": {
        "id": "AM8J2liPnwjJ"
      },
      "source": [
        "For training, we use [Ignite](https://github.com/pytorch/ignite) which is a high-level library to train neural networks in PyTorch. We use `MSELoss` as the loss function, `Adam` as the optimizer and `CosineAnnealingScheduler` as the learning rate scheduler. The following code is feeding the random option data to the pricing model to train it."
      ]
    },
    {
      "cell_type": "markdown",
      "metadata": {
        "id": "yACi4ge13_rd"
      },
      "source": [
        "### Train"
      ]
    },
    {
      "cell_type": "code",
      "metadata": {
        "id": "1TyZT8_AH35M",
        "colab": {
          "base_uri": "https://localhost:8080/"
        },
        "outputId": "dee07806-1ab4-447d-b549-b26eed1dc91d"
      },
      "source": [
        "### 6\n",
        "\n",
        "!pip install pytorch-ignite"
      ],
      "execution_count": 6,
      "outputs": [
        {
          "output_type": "stream",
          "text": [
            "Requirement already satisfied: pytorch-ignite in /usr/local/lib/python3.7/dist-packages (0.4.6)\n",
            "Requirement already satisfied: torch<2,>=1.3 in /usr/local/lib/python3.7/dist-packages (from pytorch-ignite) (1.9.0+cu102)\n",
            "Requirement already satisfied: typing-extensions in /usr/local/lib/python3.7/dist-packages (from torch<2,>=1.3->pytorch-ignite) (3.7.4.3)\n"
          ],
          "name": "stdout"
        }
      ]
    },
    {
      "cell_type": "code",
      "metadata": {
        "id": "G4Ej82G8nwjJ",
        "colab": {
          "base_uri": "https://localhost:8080/"
        },
        "outputId": "bec8e054-a0d4-4773-a8af-0bcab77b49fe"
      },
      "source": [
        "from ignite.engine import Engine, Events\n",
        "from ignite.handlers import Timer\n",
        "from torch.nn import MSELoss\n",
        "from torch.optim import Adam\n",
        "from ignite.contrib.handlers.param_scheduler import CosineAnnealingScheduler\n",
        "from ignite.handlers import ModelCheckpoint\n",
        "from model import Net\n",
        "from cupy_dataset import NumbaOptionDataSet\n",
        "import random\n",
        "timer = Timer(average=True)\n",
        "model = Net(nstock = nstock).cuda()\n",
        "loss_fn = MSELoss()\n",
        "optimizer = Adam(model.parameters(), lr=1e-3)\n",
        "# dataset = NumbaOptionDataSet(max_len = 10000, number_path = 1024, batch = 4800)\n",
        "# dataset = NumbaOptionDataSet(max_len = 100, number_path = 1024, batch = 32, stocks = 3)\n",
        "dataset = NumbaOptionDataSet(max_len = 100, number_path = 1024, batch = 32, seed = random.randint(0,100), stocks = nstock)\n",
        "\n",
        "\n",
        "def train_update(engine, batch):\n",
        "    model.train()\n",
        "    optimizer.zero_grad()\n",
        "    x = batch[0]\n",
        "    y = batch[1]\n",
        "    y_pred = model(x)\n",
        "    loss = loss_fn(y_pred[:,0], y)\n",
        "    loss.backward()\n",
        "    optimizer.step()\n",
        "    return loss.item()\n",
        "\n",
        "trainer = Engine(train_update)\n",
        "log_interval = 20\n",
        "\n",
        "scheduler = CosineAnnealingScheduler(optimizer, 'lr', 1e-4, 1e-6, len(dataset))\n",
        "trainer.add_event_handler(Events.ITERATION_STARTED, scheduler)\n",
        "timer.attach(trainer,\n",
        "             start=Events.EPOCH_STARTED,\n",
        "             resume=Events.ITERATION_STARTED,\n",
        "             pause=Events.ITERATION_COMPLETED,\n",
        "             step=Events.ITERATION_COMPLETED)    \n",
        "@trainer.on(Events.ITERATION_COMPLETED)\n",
        "def log_training_loss(engine):\n",
        "    iter = (engine.state.iteration - 1) % len(dataset) + 1\n",
        "    if iter % log_interval == 0:\n",
        "        print('loss', engine.state.output, 'average time', timer.value(), 'iter num', iter)\n",
        "        \n",
        "trainer.run(dataset, max_epochs = 100)\n",
        "\n",
        "from google.colab import drive\n",
        "drive.mount('/content/drive')\n",
        "\n",
        "import torch\n",
        "model_save_name = f'EuCall2_{str(nstock)}_3_m3.pth'\n",
        "path = F\"/content/drive/MyDrive/AFP Project/Bagging/{model_save_name}\" \n",
        "torch.save(model.state_dict(), path)"
      ],
      "execution_count": 35,
      "outputs": [
        {
          "output_type": "stream",
          "text": [
            "loss 1181.7554931640625 average time 0.01742337375017087 iter num 20\n",
            "loss 709.796142578125 average time 0.01007228855005451 iter num 40\n",
            "loss 974.7598266601562 average time 0.007630239900042094 iter num 60\n",
            "loss 452.0152282714844 average time 0.006434675500031517 iter num 80\n",
            "loss 332.9594421386719 average time 0.005708839340059058 iter num 100\n",
            "loss 122.90103912353516 average time 0.017004545499958112 iter num 20\n",
            "loss 13.471921920776367 average time 0.009864410075078923 iter num 40\n",
            "loss 6.8980278968811035 average time 0.007491025766739767 iter num 60\n",
            "loss 6.470026969909668 average time 0.006334409300052357 iter num 80\n",
            "loss 4.054662227630615 average time 0.005633716160036784 iter num 100\n",
            "loss 3.639331340789795 average time 0.016777945750118307 iter num 20\n",
            "loss 2.4082443714141846 average time 0.009809631775078742 iter num 40\n",
            "loss 1.796736240386963 average time 0.007501655250052863 iter num 60\n",
            "loss 1.2320505380630493 average time 0.00632158368752016 iter num 80\n",
            "loss 1.5751174688339233 average time 0.00561283365998861 iter num 100\n",
            "loss 2.103419780731201 average time 0.01724403279999933 iter num 20\n",
            "loss 3.4062116146087646 average time 0.010019139949963573 iter num 40\n",
            "loss 1.5033645629882812 average time 0.0076119284332738365 iter num 60\n",
            "loss 0.8183016777038574 average time 0.006400629024983573 iter num 80\n",
            "loss 1.459333062171936 average time 0.005677648409982794 iter num 100\n",
            "loss 1.335461139678955 average time 0.016820477250075783 iter num 20\n",
            "loss 0.786810040473938 average time 0.00981797332503902 iter num 40\n",
            "loss 2.8987889289855957 average time 0.007509232200027327 iter num 60\n",
            "loss 2.6686058044433594 average time 0.006329905012489689 iter num 80\n",
            "loss 1.1018452644348145 average time 0.005624383669992312 iter num 100\n",
            "loss 1.0398309230804443 average time 0.016549487150041387 iter num 20\n",
            "loss 0.6589617133140564 average time 0.009639546425023581 iter num 40\n",
            "loss 1.0071438550949097 average time 0.0073631686999912445 iter num 60\n",
            "loss 1.7922625541687012 average time 0.006261246812482568 iter num 80\n",
            "loss 1.529524564743042 average time 0.005553864569983489 iter num 100\n",
            "loss 1.4625098705291748 average time 0.01663605139988249 iter num 20\n",
            "loss 2.652489185333252 average time 0.009675556624938509 iter num 40\n",
            "loss 1.5105141401290894 average time 0.007376062866645346 iter num 60\n",
            "loss 0.7790223360061646 average time 0.006261364337467512 iter num 80\n",
            "loss 0.7078895568847656 average time 0.005570893769991017 iter num 100\n",
            "loss 1.2454514503479004 average time 0.01684028940017015 iter num 20\n",
            "loss 0.5216796398162842 average time 0.009786198550159497 iter num 40\n",
            "loss 1.76753830909729 average time 0.007425912416723198 iter num 60\n",
            "loss 1.688312292098999 average time 0.006271186112542182 iter num 80\n",
            "loss 0.8400547504425049 average time 0.0055713256700073545 iter num 100\n",
            "loss 1.495637059211731 average time 0.01657362765004109 iter num 20\n",
            "loss 1.7552158832550049 average time 0.009669742700066309 iter num 40\n",
            "loss 2.1867949962615967 average time 0.007355171266726757 iter num 60\n",
            "loss 1.9796005487442017 average time 0.006210530350062982 iter num 80\n",
            "loss 0.9101486206054688 average time 0.005539534570089017 iter num 100\n",
            "loss 1.4801315069198608 average time 0.016755971950078673 iter num 20\n",
            "loss 1.165262222290039 average time 0.009785976750254121 iter num 40\n",
            "loss 1.6429342031478882 average time 0.007484459566694568 iter num 60\n",
            "loss 1.2884470224380493 average time 0.006310578900115616 iter num 80\n",
            "loss 1.2679518461227417 average time 0.005645950960115442 iter num 100\n",
            "loss 1.6571873426437378 average time 0.016733701899920562 iter num 20\n",
            "loss 1.641234040260315 average time 0.009751126025048507 iter num 40\n",
            "loss 0.8997158408164978 average time 0.007454656750087452 iter num 60\n",
            "loss 0.713229775428772 average time 0.006307970975058197 iter num 80\n",
            "loss 0.707706093788147 average time 0.005608581640080957 iter num 100\n",
            "loss 1.8890076875686646 average time 0.01653903545002322 iter num 20\n",
            "loss 0.9141876697540283 average time 0.009677873874943543 iter num 40\n",
            "loss 2.4011881351470947 average time 0.007418136366565401 iter num 60\n",
            "loss 1.5739740133285522 average time 0.0063265356624697235 iter num 80\n",
            "loss 2.2232871055603027 average time 0.005598157950007589 iter num 100\n",
            "loss 1.462435007095337 average time 0.016512737900211506 iter num 20\n",
            "loss 1.6198383569717407 average time 0.009596038475228852 iter num 40\n",
            "loss 0.5985777974128723 average time 0.007508487416816934 iter num 60\n",
            "loss 1.7287265062332153 average time 0.006346701250095066 iter num 80\n",
            "loss 1.046427845954895 average time 0.005638293030096974 iter num 100\n",
            "loss 0.9020169973373413 average time 0.016630137999982253 iter num 20\n",
            "loss 2.0445475578308105 average time 0.009752017074970355 iter num 40\n",
            "loss 0.7830229997634888 average time 0.007423104099810492 iter num 60\n",
            "loss 1.121840476989746 average time 0.006256613087430196 iter num 80\n",
            "loss 1.545832872390747 average time 0.005551331790011318 iter num 100\n",
            "loss 1.0766804218292236 average time 0.016578002299957005 iter num 20\n",
            "loss 0.892849862575531 average time 0.009659060974991007 iter num 40\n",
            "loss 0.6120268702507019 average time 0.0073526512666527806 iter num 60\n",
            "loss 0.48621419072151184 average time 0.006203399874948445 iter num 80\n",
            "loss 0.46492043137550354 average time 0.00555916024992257 iter num 100\n",
            "loss 1.5526360273361206 average time 0.016548212800080363 iter num 20\n",
            "loss 0.8470200300216675 average time 0.009713990100135562 iter num 40\n",
            "loss 0.6803157329559326 average time 0.007406814166733966 iter num 60\n",
            "loss 1.0566580295562744 average time 0.0062859345625383865 iter num 80\n",
            "loss 0.5214823484420776 average time 0.005572106480049115 iter num 100\n",
            "loss 0.8552532196044922 average time 0.01664624150016607 iter num 20\n",
            "loss 0.5823484659194946 average time 0.009701864575117725 iter num 40\n",
            "loss 0.9437178373336792 average time 0.007417161599945151 iter num 60\n",
            "loss 0.9091856479644775 average time 0.006229220799946233 iter num 80\n",
            "loss 0.5465213656425476 average time 0.005537036909991002 iter num 100\n",
            "loss 0.5926415920257568 average time 0.016526020699893708 iter num 20\n",
            "loss 1.0117899179458618 average time 0.009644032374990275 iter num 40\n",
            "loss 0.9093245267868042 average time 0.007376472050024555 iter num 60\n",
            "loss 0.6381499767303467 average time 0.006222237412521281 iter num 80\n",
            "loss 0.7825930118560791 average time 0.00552633880995927 iter num 100\n",
            "loss 0.6890952587127686 average time 0.016392723550143273 iter num 20\n",
            "loss 2.2051422595977783 average time 0.00965951202515498 iter num 40\n",
            "loss 0.4056835174560547 average time 0.007345773233434254 iter num 60\n",
            "loss 0.24086667597293854 average time 0.006239431762605818 iter num 80\n",
            "loss 0.632409393787384 average time 0.005579180820113834 iter num 100\n",
            "loss 2.7329306602478027 average time 0.016896280200035106 iter num 20\n",
            "loss 0.6216315031051636 average time 0.00988338964994 iter num 40\n",
            "loss 0.7859152555465698 average time 0.007495270499930484 iter num 60\n",
            "loss 0.5361201763153076 average time 0.006341971124948031 iter num 80\n",
            "loss 0.5473756790161133 average time 0.0056561797199356076 iter num 100\n",
            "loss 0.6336939334869385 average time 0.016728809000051116 iter num 20\n",
            "loss 0.537023663520813 average time 0.009792895049895379 iter num 40\n",
            "loss 0.4448787271976471 average time 0.007431410716678025 iter num 60\n",
            "loss 0.9597395658493042 average time 0.006290543812406213 iter num 80\n",
            "loss 0.541428804397583 average time 0.005603114539899252 iter num 100\n",
            "loss 2.3046863079071045 average time 0.016668271149774226 iter num 20\n",
            "loss 0.7703124284744263 average time 0.009795649824718566 iter num 40\n",
            "loss 0.4070456027984619 average time 0.007470751516363331 iter num 60\n",
            "loss 0.3446168303489685 average time 0.0063003792622794205 iter num 80\n",
            "loss 0.5601986646652222 average time 0.005641433589844382 iter num 100\n",
            "loss 0.9304465651512146 average time 0.01685528410007464 iter num 20\n",
            "loss 0.8972450494766235 average time 0.009888253799908852 iter num 40\n",
            "loss 1.063459038734436 average time 0.007490290649911913 iter num 60\n",
            "loss 0.5438277125358582 average time 0.006330178599864666 iter num 80\n",
            "loss 0.5439773797988892 average time 0.005663159029863891 iter num 100\n",
            "loss 0.6612792611122131 average time 0.016693404949819524 iter num 20\n",
            "loss 0.49459362030029297 average time 0.009809610224874633 iter num 40\n",
            "loss 0.674260139465332 average time 0.0074942327166051355 iter num 60\n",
            "loss 0.2312638908624649 average time 0.006294787324918616 iter num 80\n",
            "loss 0.6277182698249817 average time 0.005611982499940496 iter num 100\n",
            "loss 1.047105073928833 average time 0.01672256310012017 iter num 20\n",
            "loss 1.38810396194458 average time 0.009777124900210765 iter num 40\n",
            "loss 0.8735373616218567 average time 0.007454936766741109 iter num 60\n",
            "loss 0.565645694732666 average time 0.006299793912648966 iter num 80\n",
            "loss 0.4007309079170227 average time 0.0055925356401348835 iter num 100\n",
            "loss 0.39354395866394043 average time 0.016757840549962565 iter num 20\n",
            "loss 1.135514736175537 average time 0.009854154200183984 iter num 40\n",
            "loss 0.7425961494445801 average time 0.007519339100114545 iter num 60\n",
            "loss 0.3420822024345398 average time 0.006392974225059333 iter num 80\n",
            "loss 0.49867895245552063 average time 0.005677288530059741 iter num 100\n",
            "loss 1.2231016159057617 average time 0.016816858249876533 iter num 20\n",
            "loss 0.6183147430419922 average time 0.009770162074846666 iter num 40\n",
            "loss 0.2784116268157959 average time 0.007474959349838173 iter num 60\n",
            "loss 0.7015348076820374 average time 0.0062777749748647695 iter num 80\n",
            "loss 0.8097938299179077 average time 0.005606015399880562 iter num 100\n",
            "loss 0.8263397812843323 average time 0.016582599499906793 iter num 20\n",
            "loss 0.9148334860801697 average time 0.009831005374735469 iter num 40\n",
            "loss 0.4089049696922302 average time 0.00753566740001285 iter num 60\n",
            "loss 0.4702862799167633 average time 0.006373295099979259 iter num 80\n",
            "loss 0.5373391509056091 average time 0.005700890949992754 iter num 100\n",
            "loss 1.7899022102355957 average time 0.01687318385029357 iter num 20\n",
            "loss 3.3208391666412354 average time 0.00985929847515763 iter num 40\n",
            "loss 0.5685727596282959 average time 0.007551581183361122 iter num 60\n",
            "loss 0.5344276428222656 average time 0.0063646062250199975 iter num 80\n",
            "loss 0.4734058976173401 average time 0.005649037780003709 iter num 100\n",
            "loss 0.41720661520957947 average time 0.016783353200025886 iter num 20\n",
            "loss 0.2609408497810364 average time 0.009840837524961898 iter num 40\n",
            "loss 0.33661335706710815 average time 0.007552761149872822 iter num 60\n",
            "loss 0.3613646626472473 average time 0.006383428137405644 iter num 80\n",
            "loss 0.29631564021110535 average time 0.005646334789907996 iter num 100\n",
            "loss 1.792090892791748 average time 0.016792269100096745 iter num 20\n",
            "loss 0.5190204977989197 average time 0.009960479675009992 iter num 40\n",
            "loss 0.47323256731033325 average time 0.007592604700009057 iter num 60\n",
            "loss 0.29404738545417786 average time 0.0063813947625021685 iter num 80\n",
            "loss 0.3742956519126892 average time 0.005669495890051621 iter num 100\n",
            "loss 0.766793966293335 average time 0.016816994499822612 iter num 20\n",
            "loss 1.030945062637329 average time 0.009844919799979835 iter num 40\n",
            "loss 0.6102207899093628 average time 0.007483506949999234 iter num 60\n",
            "loss 0.43957802653312683 average time 0.006318846137560286 iter num 80\n",
            "loss 0.34037747979164124 average time 0.005615404490035871 iter num 100\n",
            "loss 0.6361681818962097 average time 0.01644952150008976 iter num 20\n",
            "loss 0.6686581373214722 average time 0.009571843225012344 iter num 40\n",
            "loss 0.5082228183746338 average time 0.007314023050003016 iter num 60\n",
            "loss 0.3297730088233948 average time 0.006194640787589379 iter num 80\n",
            "loss 0.15292240679264069 average time 0.005518006590045843 iter num 100\n",
            "loss 2.6882095336914062 average time 0.01652960635001364 iter num 20\n",
            "loss 1.1152091026306152 average time 0.00960194062499795 iter num 40\n",
            "loss 0.40429386496543884 average time 0.0073208519667180855 iter num 60\n",
            "loss 0.2266222983598709 average time 0.006190276450024612 iter num 80\n",
            "loss 0.18303540349006653 average time 0.005521172199987632 iter num 100\n",
            "loss 0.8579922914505005 average time 0.017122524450132914 iter num 20\n",
            "loss 0.26822957396507263 average time 0.009971660575092755 iter num 40\n",
            "loss 0.34184032678604126 average time 0.007566137733465439 iter num 60\n",
            "loss 0.2941325604915619 average time 0.006379676162578107 iter num 80\n",
            "loss 0.6574032306671143 average time 0.005667638150098356 iter num 100\n",
            "loss 0.17648465931415558 average time 0.01684631444986735 iter num 20\n",
            "loss 0.2530812621116638 average time 0.009909465024884411 iter num 40\n",
            "loss 0.411690890789032 average time 0.007597174866684024 iter num 60\n",
            "loss 0.44186490774154663 average time 0.006410602000050858 iter num 80\n",
            "loss 0.3160051703453064 average time 0.005690738260054787 iter num 100\n",
            "loss 0.4299752116203308 average time 0.016697797550114045 iter num 20\n",
            "loss 0.19725175201892853 average time 0.009901593875019899 iter num 40\n",
            "loss 0.5188875198364258 average time 0.007557303766649663 iter num 60\n",
            "loss 0.29023438692092896 average time 0.006363232075000269 iter num 80\n",
            "loss 0.5722538828849792 average time 0.005662079869889567 iter num 100\n",
            "loss 0.8222198486328125 average time 0.016432247600187112 iter num 20\n",
            "loss 1.6280754804611206 average time 0.009581774775006125 iter num 40\n",
            "loss 0.359515905380249 average time 0.00731931044999025 iter num 60\n",
            "loss 0.5176830291748047 average time 0.006175337312447482 iter num 80\n",
            "loss 0.1642037034034729 average time 0.005500120789929497 iter num 100\n",
            "loss 0.8588683009147644 average time 0.017264477150092716 iter num 20\n",
            "loss 0.6957405805587769 average time 0.009993428000052517 iter num 40\n",
            "loss 0.5589419603347778 average time 0.007596586883361549 iter num 60\n",
            "loss 0.3275495171546936 average time 0.006383421175064541 iter num 80\n",
            "loss 0.193086177110672 average time 0.005671035480081628 iter num 100\n",
            "loss 0.5384844541549683 average time 0.01658471475011538 iter num 20\n",
            "loss 0.4270293712615967 average time 0.009700288225121766 iter num 40\n",
            "loss 0.5941727757453918 average time 0.007388869966750159 iter num 60\n",
            "loss 0.45855098962783813 average time 0.006230915562605332 iter num 80\n",
            "loss 0.33020859956741333 average time 0.0055623139600902505 iter num 100\n",
            "loss 0.8992502093315125 average time 0.01664022364993798 iter num 20\n",
            "loss 0.6138230562210083 average time 0.009670989199867109 iter num 40\n",
            "loss 0.26387301087379456 average time 0.007355121383322209 iter num 60\n",
            "loss 0.2657792866230011 average time 0.0061964346000422665 iter num 80\n",
            "loss 0.21560010313987732 average time 0.005502890839998145 iter num 100\n",
            "loss 0.4572904109954834 average time 0.016731644999617858 iter num 20\n",
            "loss 0.7352633476257324 average time 0.00981983957472039 iter num 40\n",
            "loss 0.32939279079437256 average time 0.007493570633141644 iter num 60\n",
            "loss 0.48507779836654663 average time 0.006293375474888308 iter num 80\n",
            "loss 0.30501970648765564 average time 0.005569323809922934 iter num 100\n",
            "loss 0.5106972455978394 average time 0.016483808449720527 iter num 20\n",
            "loss 0.5683628916740417 average time 0.009660641524806123 iter num 40\n",
            "loss 0.4622786045074463 average time 0.007386093133269848 iter num 60\n",
            "loss 0.45334333181381226 average time 0.006280735974951312 iter num 80\n",
            "loss 0.7644010186195374 average time 0.005587952839960053 iter num 100\n",
            "loss 0.4022548794746399 average time 0.016673680599524232 iter num 20\n",
            "loss 2.1131186485290527 average time 0.009737913874869265 iter num 40\n",
            "loss 0.39264774322509766 average time 0.0074438246665825625 iter num 60\n",
            "loss 0.5215353965759277 average time 0.006289679549990978 iter num 80\n",
            "loss 0.5658838152885437 average time 0.005578838800010999 iter num 100\n",
            "loss 0.7108044624328613 average time 0.016512788100135366 iter num 20\n",
            "loss 0.21116045117378235 average time 0.009678221449985359 iter num 40\n",
            "loss 0.7593849897384644 average time 0.007347025016557988 iter num 60\n",
            "loss 0.17197832465171814 average time 0.006221361424877614 iter num 80\n",
            "loss 0.4445612132549286 average time 0.005516542579935049 iter num 100\n",
            "loss 0.5462367534637451 average time 0.0169064473000617 iter num 20\n",
            "loss 1.1418519020080566 average time 0.00978823310019834 iter num 40\n",
            "loss 0.23406344652175903 average time 0.007436780666800284 iter num 60\n",
            "loss 0.26302462816238403 average time 0.006277794175093732 iter num 80\n",
            "loss 0.4375762641429901 average time 0.00557994808004878 iter num 100\n",
            "loss 0.24635779857635498 average time 0.016693985750225692 iter num 20\n",
            "loss 0.19321225583553314 average time 0.009841580900183545 iter num 40\n",
            "loss 0.6951735019683838 average time 0.007464169400039585 iter num 60\n",
            "loss 0.37064728140830994 average time 0.006273843062490414 iter num 80\n",
            "loss 0.3515816926956177 average time 0.005551484120023815 iter num 100\n",
            "loss 3.425112009048462 average time 0.016440954400059125 iter num 20\n",
            "loss 0.38366198539733887 average time 0.009624330975248086 iter num 40\n",
            "loss 0.5402824878692627 average time 0.0073155316002460795 iter num 60\n",
            "loss 0.5600602626800537 average time 0.006174500962652018 iter num 80\n",
            "loss 0.4059612452983856 average time 0.0055159897301200545 iter num 100\n",
            "loss 2.4870643615722656 average time 0.017346713700226245 iter num 20\n",
            "loss 0.27238112688064575 average time 0.010034159200040449 iter num 40\n",
            "loss 0.3938073515892029 average time 0.007597325316661833 iter num 60\n",
            "loss 0.28464335203170776 average time 0.006376328774922513 iter num 80\n",
            "loss 0.24085679650306702 average time 0.005677417059960135 iter num 100\n",
            "loss 0.6602858304977417 average time 0.016732702150238764 iter num 20\n",
            "loss 0.2570306956768036 average time 0.009784822275014449 iter num 40\n",
            "loss 0.4875200390815735 average time 0.007517245300005015 iter num 60\n",
            "loss 0.42045167088508606 average time 0.006325531687502916 iter num 80\n",
            "loss 0.2188611924648285 average time 0.005600843040065228 iter num 100\n",
            "loss 2.1527512073516846 average time 0.016559295349907188 iter num 20\n",
            "loss 2.0114433765411377 average time 0.00962918317504773 iter num 40\n",
            "loss 0.7938476800918579 average time 0.007348309033386613 iter num 60\n",
            "loss 0.5598743557929993 average time 0.006196188187436747 iter num 80\n",
            "loss 0.6552234888076782 average time 0.005565985989906039 iter num 100\n",
            "loss 0.5143005847930908 average time 0.016682714550188393 iter num 20\n",
            "loss 0.4420683979988098 average time 0.009734774424850911 iter num 40\n",
            "loss 0.2473696768283844 average time 0.007403308483177776 iter num 60\n",
            "loss 0.2078283727169037 average time 0.006230552062334027 iter num 80\n",
            "loss 0.333604097366333 average time 0.005551449279882945 iter num 100\n",
            "loss 0.5359973907470703 average time 0.01663964559975284 iter num 20\n",
            "loss 1.5211949348449707 average time 0.00979923362478985 iter num 40\n",
            "loss 0.3235602378845215 average time 0.007426239866435935 iter num 60\n",
            "loss 0.36354315280914307 average time 0.006233067624816613 iter num 80\n",
            "loss 0.20109966397285461 average time 0.0055630096898676125 iter num 100\n",
            "loss 0.4920830726623535 average time 0.016579290150093583 iter num 20\n",
            "loss 0.9723331332206726 average time 0.009658072449974497 iter num 40\n",
            "loss 0.31677326560020447 average time 0.007381780333313752 iter num 60\n",
            "loss 0.3155531585216522 average time 0.006230380412443992 iter num 80\n",
            "loss 0.4878263771533966 average time 0.005540329429986741 iter num 100\n",
            "loss 1.5463448762893677 average time 0.016389930349760107 iter num 20\n",
            "loss 0.45666661858558655 average time 0.009590569424835849 iter num 40\n",
            "loss 0.4540887475013733 average time 0.007362320383163023 iter num 60\n",
            "loss 0.3768317997455597 average time 0.006205086462341569 iter num 80\n",
            "loss 0.25533950328826904 average time 0.00549770344989156 iter num 100\n",
            "loss 0.2046777904033661 average time 0.016502968300028443 iter num 20\n",
            "loss 0.21698836982250214 average time 0.009625072049857408 iter num 40\n",
            "loss 0.16525879502296448 average time 0.007379994883255373 iter num 60\n",
            "loss 0.15910154581069946 average time 0.006233537524894928 iter num 80\n",
            "loss 0.3388972878456116 average time 0.005524855569910869 iter num 100\n",
            "loss 0.23369622230529785 average time 0.01652642660010315 iter num 20\n",
            "loss 1.1575005054473877 average time 0.009671768725183938 iter num 40\n",
            "loss 0.3922310471534729 average time 0.007361667783455535 iter num 60\n",
            "loss 0.47058263421058655 average time 0.0062130558000944806 iter num 80\n",
            "loss 0.42445263266563416 average time 0.005515469520032639 iter num 100\n",
            "loss 1.2361993789672852 average time 0.016769562500030588 iter num 20\n",
            "loss 0.28965333104133606 average time 0.00973274445000243 iter num 40\n",
            "loss 0.40794089436531067 average time 0.0073796748999787574 iter num 60\n",
            "loss 0.26781564950942993 average time 0.006269342262453392 iter num 80\n",
            "loss 0.31272608041763306 average time 0.005580699229994934 iter num 100\n",
            "loss 0.3251161575317383 average time 0.01637741479999022 iter num 20\n",
            "loss 0.4882834255695343 average time 0.009595566975167457 iter num 40\n",
            "loss 0.46881771087646484 average time 0.007286332666747815 iter num 60\n",
            "loss 0.23967334628105164 average time 0.006170403975033878 iter num 80\n",
            "loss 0.18001024425029755 average time 0.0054904081200584185 iter num 100\n",
            "loss 0.5945090055465698 average time 0.016941327599943178 iter num 20\n",
            "loss 1.0416591167449951 average time 0.009971425925050426 iter num 40\n",
            "loss 0.4854417145252228 average time 0.007741689683462028 iter num 60\n",
            "loss 0.33020782470703125 average time 0.006495092400041358 iter num 80\n",
            "loss 0.14188367128372192 average time 0.00574128563002887 iter num 100\n",
            "loss 0.2848409414291382 average time 0.016594715250084845 iter num 20\n",
            "loss 0.4025493264198303 average time 0.00969734355003311 iter num 40\n",
            "loss 0.6293287873268127 average time 0.007418419350112042 iter num 60\n",
            "loss 0.2684699296951294 average time 0.00628798333755185 iter num 80\n",
            "loss 0.24658463895320892 average time 0.005593011980035954 iter num 100\n",
            "loss 0.5945106744766235 average time 0.017016299850183714 iter num 20\n",
            "loss 0.6963964700698853 average time 0.009879079375150469 iter num 40\n",
            "loss 0.40923500061035156 average time 0.00749675505006356 iter num 60\n",
            "loss 0.3429843783378601 average time 0.006297554925049553 iter num 80\n",
            "loss 0.2842431664466858 average time 0.0056096451700432225 iter num 100\n",
            "loss 0.417344868183136 average time 0.016537109699947906 iter num 20\n",
            "loss 0.32367438077926636 average time 0.009649648424920087 iter num 40\n",
            "loss 0.9335781335830688 average time 0.00735477313331406 iter num 60\n",
            "loss 0.26280710101127625 average time 0.006220087974998023 iter num 80\n",
            "loss 0.28226983547210693 average time 0.0055334919799679486 iter num 100\n",
            "loss 1.203623652458191 average time 0.016797633599981054 iter num 20\n",
            "loss 0.10777772963047028 average time 0.009772858199903567 iter num 40\n",
            "loss 0.6266666650772095 average time 0.007422562966651943 iter num 60\n",
            "loss 0.32478171586990356 average time 0.0062649019750097065 iter num 80\n",
            "loss 0.2379424124956131 average time 0.005605336979970161 iter num 100\n",
            "loss 0.7426015138626099 average time 0.016421891449772373 iter num 20\n",
            "loss 0.3342133164405823 average time 0.00962053032494623 iter num 40\n",
            "loss 0.5965813994407654 average time 0.007312150250011958 iter num 60\n",
            "loss 0.0881853997707367 average time 0.0061595698249902854 iter num 80\n",
            "loss 0.146521657705307 average time 0.005464229560002423 iter num 100\n",
            "loss 0.6985760927200317 average time 0.016780501550056216 iter num 20\n",
            "loss 0.28133535385131836 average time 0.009818251825072366 iter num 40\n",
            "loss 0.4636192321777344 average time 0.0075293247332714 iter num 60\n",
            "loss 0.46386033296585083 average time 0.006385420849983348 iter num 80\n",
            "loss 0.23207026720046997 average time 0.0056693566399917475 iter num 100\n",
            "loss 0.5750335454940796 average time 0.01649347900001885 iter num 20\n",
            "loss 0.5767779350280762 average time 0.009608082100066894 iter num 40\n",
            "loss 0.4132235646247864 average time 0.0073402488668458925 iter num 60\n",
            "loss 0.2521749436855316 average time 0.006190064075099144 iter num 80\n",
            "loss 0.17464107275009155 average time 0.005488125150113774 iter num 100\n",
            "loss 0.8639395236968994 average time 0.01678212290016745 iter num 20\n",
            "loss 0.23600730299949646 average time 0.00976211052511644 iter num 40\n",
            "loss 0.14437821507453918 average time 0.007486038433368473 iter num 60\n",
            "loss 0.4845341444015503 average time 0.006291609325057834 iter num 80\n",
            "loss 0.49803227186203003 average time 0.0055737324300571345 iter num 100\n",
            "loss 1.3436858654022217 average time 0.016324576850092854 iter num 20\n",
            "loss 2.5929293632507324 average time 0.00965707162513354 iter num 40\n",
            "loss 0.7188084125518799 average time 0.007374953733415168 iter num 60\n",
            "loss 0.595141589641571 average time 0.006236358425007893 iter num 80\n",
            "loss 0.279798686504364 average time 0.0055642616100340095 iter num 100\n",
            "loss 0.2775818109512329 average time 0.016793897949992243 iter num 20\n",
            "loss 0.2280230075120926 average time 0.009733403175050625 iter num 40\n",
            "loss 0.4069457948207855 average time 0.00738483116668552 iter num 60\n",
            "loss 0.2689966857433319 average time 0.006229434550004953 iter num 80\n",
            "loss 0.26577359437942505 average time 0.005541943480020564 iter num 100\n",
            "loss 0.6197649240493774 average time 0.01663589569989199 iter num 20\n",
            "loss 0.34422367811203003 average time 0.009732699499909358 iter num 40\n",
            "loss 0.5610238313674927 average time 0.007410612166556045 iter num 60\n",
            "loss 0.2917233407497406 average time 0.0062725057624220424 iter num 80\n",
            "loss 0.35815858840942383 average time 0.0055726554198736265 iter num 100\n",
            "loss 0.8217340707778931 average time 0.016898709799988865 iter num 20\n",
            "loss 0.44956547021865845 average time 0.009842027824879552 iter num 40\n",
            "loss 0.21540482342243195 average time 0.0074682363832835105 iter num 60\n",
            "loss 0.2716653645038605 average time 0.0063020273874826675 iter num 80\n",
            "loss 0.23045501112937927 average time 0.005586783709914016 iter num 100\n",
            "loss 0.46598273515701294 average time 0.016572434400313796 iter num 20\n",
            "loss 0.2959898114204407 average time 0.009666640275145254 iter num 40\n",
            "loss 0.3772734999656677 average time 0.007349200816770462 iter num 60\n",
            "loss 0.20871320366859436 average time 0.0061893509001038184 iter num 80\n",
            "loss 0.7108080387115479 average time 0.005491223180106317 iter num 100\n",
            "loss 0.40069064497947693 average time 0.016683256550277293 iter num 20\n",
            "loss 0.9252504110336304 average time 0.009699052125188245 iter num 40\n",
            "loss 0.18839101493358612 average time 0.007379013400077383 iter num 60\n",
            "loss 1.2863211631774902 average time 0.006224286212545849 iter num 80\n",
            "loss 0.1800205111503601 average time 0.005551862660013285 iter num 100\n",
            "loss 0.9758586287498474 average time 0.016760388950206106 iter num 20\n",
            "loss 0.6962969303131104 average time 0.009789232600087416 iter num 40\n",
            "loss 0.6747612953186035 average time 0.007488077049977922 iter num 60\n",
            "loss 0.3347395062446594 average time 0.006309113774977959 iter num 80\n",
            "loss 0.22778496146202087 average time 0.005632011739980953 iter num 100\n",
            "loss 1.6215757131576538 average time 0.016507167499821663 iter num 20\n",
            "loss 0.31893813610076904 average time 0.009602884474907114 iter num 40\n",
            "loss 0.325035959482193 average time 0.007305908599907222 iter num 60\n",
            "loss 0.16571608185768127 average time 0.006249342124874602 iter num 80\n",
            "loss 0.17752724885940552 average time 0.005570576939862804 iter num 100\n",
            "loss 0.8880125880241394 average time 0.01644750004970774 iter num 20\n",
            "loss 0.3518831431865692 average time 0.009617085949867033 iter num 40\n",
            "loss 0.5277336239814758 average time 0.007308352116585108 iter num 60\n",
            "loss 0.17747287452220917 average time 0.0061696525873912835 iter num 80\n",
            "loss 0.13306623697280884 average time 0.005477574029937387 iter num 100\n",
            "loss 0.25127482414245605 average time 0.016757139499986806 iter num 20\n",
            "loss 0.13319766521453857 average time 0.009767266475000725 iter num 40\n",
            "loss 0.42202019691467285 average time 0.007424751266747383 iter num 60\n",
            "loss 0.31206607818603516 average time 0.0062788546750425665 iter num 80\n",
            "loss 0.2816154360771179 average time 0.0055735801800983606 iter num 100\n",
            "loss 1.2168266773223877 average time 0.016617395599678276 iter num 20\n",
            "loss 1.092158555984497 average time 0.009746494924820581 iter num 40\n",
            "loss 0.28430992364883423 average time 0.007443785433163915 iter num 60\n",
            "loss 0.2636764943599701 average time 0.006257987587309799 iter num 80\n",
            "loss 0.18310292065143585 average time 0.005541130439833068 iter num 100\n",
            "loss 0.3473246097564697 average time 0.0165737292499216 iter num 20\n",
            "loss 0.4020271301269531 average time 0.009687655699872266 iter num 40\n",
            "loss 0.32733210921287537 average time 0.007380728566628628 iter num 60\n",
            "loss 0.1485908180475235 average time 0.006251598137487236 iter num 80\n",
            "loss 0.289636492729187 average time 0.0055472185300641285 iter num 100\n",
            "loss 0.18974368274211884 average time 0.016658207799719094 iter num 20\n",
            "loss 0.34519311785697937 average time 0.009683258999939427 iter num 40\n",
            "loss 0.3264133930206299 average time 0.007423231749968787 iter num 60\n",
            "loss 0.34723350405693054 average time 0.006321029362447916 iter num 80\n",
            "loss 0.2064354121685028 average time 0.005638160069975129 iter num 100\n",
            "loss 0.5393816828727722 average time 0.016387613250117283 iter num 20\n",
            "loss 0.5301404595375061 average time 0.009541062025164138 iter num 40\n",
            "loss 0.476146399974823 average time 0.007320059283392766 iter num 60\n",
            "loss 0.3244929313659668 average time 0.006171679637509442 iter num 80\n",
            "loss 0.15435153245925903 average time 0.0055090271900007795 iter num 100\n",
            "loss 0.24321189522743225 average time 0.016494999100177665 iter num 20\n",
            "loss 0.44214287400245667 average time 0.009624168900108998 iter num 40\n",
            "loss 0.2199152112007141 average time 0.007313458866701694 iter num 60\n",
            "loss 0.6194237470626831 average time 0.006163004662539606 iter num 80\n",
            "loss 0.32255876064300537 average time 0.005513544479999837 iter num 100\n",
            "loss 1.08501136302948 average time 0.01653170854988275 iter num 20\n",
            "loss 2.844625949859619 average time 0.00963032349986861 iter num 40\n",
            "loss 0.9171842932701111 average time 0.007311709433270153 iter num 60\n",
            "loss 0.24042053520679474 average time 0.006189804687414835 iter num 80\n",
            "loss 0.17595764994621277 average time 0.005496702739910688 iter num 100\n",
            "loss 0.3997489809989929 average time 0.01680391794980096 iter num 20\n",
            "loss 0.7626463770866394 average time 0.009783940174884265 iter num 40\n",
            "loss 0.41013163328170776 average time 0.0074187493999185485 iter num 60\n",
            "loss 0.2528330683708191 average time 0.00626365736243315 iter num 80\n",
            "loss 0.23635676503181458 average time 0.0055677276399910625 iter num 100\n",
            "loss 0.6720297336578369 average time 0.016413237749929976 iter num 20\n",
            "loss 0.6661167144775391 average time 0.009608899249997194 iter num 40\n",
            "loss 0.13326288759708405 average time 0.007302531766587587 iter num 60\n",
            "loss 0.3677985668182373 average time 0.006153523662464977 iter num 80\n",
            "loss 0.34527599811553955 average time 0.005466088310004125 iter num 100\n",
            "loss 0.39080512523651123 average time 0.016485971500151207 iter num 20\n",
            "loss 0.5613024234771729 average time 0.009669389975078957 iter num 40\n",
            "loss 0.3508540987968445 average time 0.007381731233302465 iter num 60\n",
            "loss 0.26989510655403137 average time 0.006249637625069226 iter num 80\n",
            "loss 0.22985540330410004 average time 0.005550463290073821 iter num 100\n",
            "loss 0.29589518904685974 average time 0.01678465730001335 iter num 20\n",
            "loss 0.41986575722694397 average time 0.009865561799961143 iter num 40\n",
            "loss 0.7937536239624023 average time 0.007480143766648932 iter num 60\n",
            "loss 0.31335127353668213 average time 0.006287523474998125 iter num 80\n",
            "loss 0.25646018981933594 average time 0.0055877889699695515 iter num 100\n",
            "loss 0.8080626726150513 average time 0.017010844800006454 iter num 20\n",
            "loss 0.6056443452835083 average time 0.009866060150034172 iter num 40\n",
            "loss 0.20226797461509705 average time 0.007479049950112919 iter num 60\n",
            "loss 0.236602783203125 average time 0.006282962137629511 iter num 80\n",
            "loss 0.17730574309825897 average time 0.005579636680085969 iter num 100\n",
            "loss 0.6224483251571655 average time 0.01693248150004365 iter num 20\n",
            "loss 0.10651946067810059 average time 0.009871239224912643 iter num 40\n",
            "loss 0.314274400472641 average time 0.0074981440332521744 iter num 60\n",
            "loss 0.1197340115904808 average time 0.0063016257623758065 iter num 80\n",
            "loss 0.2959529161453247 average time 0.00558373550988108 iter num 100\n",
            "loss 0.5008519887924194 average time 0.016619743650153396 iter num 20\n",
            "loss 0.20164445042610168 average time 0.009714512100026695 iter num 40\n",
            "loss 0.2934724986553192 average time 0.007420541083289814 iter num 60\n",
            "loss 0.22174565494060516 average time 0.006273402674924 iter num 80\n",
            "loss 0.5260077714920044 average time 0.005573560559951147 iter num 100\n",
            "loss 0.2764260172843933 average time 0.016591002899895103 iter num 20\n",
            "loss 0.2508760690689087 average time 0.00971373054999276 iter num 40\n",
            "loss 0.2411424219608307 average time 0.0074092361834118495 iter num 60\n",
            "loss 0.5019012689590454 average time 0.00624542023763297 iter num 80\n",
            "loss 0.15544427931308746 average time 0.0055421335100982105 iter num 100\n",
            "loss 0.6236326098442078 average time 0.016830720249981824 iter num 20\n",
            "loss 0.5546804666519165 average time 0.00983125320012732 iter num 40\n",
            "loss 0.25570371747016907 average time 0.00749758490004145 iter num 60\n",
            "loss 0.2098110467195511 average time 0.00631878914994104 iter num 80\n",
            "loss 0.12566962838172913 average time 0.0056124215700219795 iter num 100\n",
            "loss 0.309751033782959 average time 0.016322664100061956 iter num 20\n",
            "loss 0.32886868715286255 average time 0.009505605100093817 iter num 40\n",
            "loss 0.17126582562923431 average time 0.007321066299937229 iter num 60\n",
            "loss 0.3134385347366333 average time 0.006171379599913962 iter num 80\n",
            "loss 0.19373390078544617 average time 0.005499733590022515 iter num 100\n",
            "loss 0.970944881439209 average time 0.016698131600060152 iter num 20\n",
            "loss 1.2918633222579956 average time 0.00970586202497543 iter num 40\n",
            "loss 0.49344027042388916 average time 0.007377416799984834 iter num 60\n",
            "loss 0.13309669494628906 average time 0.006257991187521838 iter num 80\n",
            "loss 0.1916719377040863 average time 0.005575941810056975 iter num 100\n",
            "loss 1.1543890237808228 average time 0.017054284650021144 iter num 20\n",
            "loss 0.27146291732788086 average time 0.009878732125071111 iter num 40\n",
            "loss 0.20517969131469727 average time 0.007538619933408579 iter num 60\n",
            "loss 0.3231033384799957 average time 0.006330893887525235 iter num 80\n",
            "loss 0.18708133697509766 average time 0.005633657919988763 iter num 100\n",
            "loss 0.36329764127731323 average time 0.01665795055014314 iter num 20\n",
            "loss 0.5263960361480713 average time 0.009760904200038566 iter num 40\n",
            "loss 0.7091990113258362 average time 0.00747302125000715 iter num 60\n",
            "loss 0.23790620267391205 average time 0.006318741362474611 iter num 80\n",
            "loss 0.11238433420658112 average time 0.00561271101993043 iter num 100\n",
            "loss 0.2900463938713074 average time 0.016780274950087916 iter num 20\n",
            "loss 0.276182621717453 average time 0.00988940987499518 iter num 40\n",
            "loss 0.40887385606765747 average time 0.007522400033303711 iter num 60\n",
            "loss 0.18069207668304443 average time 0.006371920024980682 iter num 80\n",
            "loss 0.2479579746723175 average time 0.005674125349996757 iter num 100\n",
            "loss 0.20218870043754578 average time 0.01685057804970711 iter num 20\n",
            "loss 0.2959284782409668 average time 0.009777793250032118 iter num 40\n",
            "loss 0.13425962626934052 average time 0.0074410557333673445 iter num 60\n",
            "loss 0.1723659485578537 average time 0.006250723762514098 iter num 80\n",
            "loss 0.5467411279678345 average time 0.005554686410087015 iter num 100\n",
            "loss 0.28826409578323364 average time 0.01639804140013439 iter num 20\n",
            "loss 0.4132288098335266 average time 0.009548654525042366 iter num 40\n",
            "loss 0.24120557308197021 average time 0.007259660433404255 iter num 60\n",
            "loss 0.2086879014968872 average time 0.00613728486259788 iter num 80\n",
            "loss 0.31597140431404114 average time 0.00547040632007338 iter num 100\n",
            "Drive already mounted at /content/drive; to attempt to forcibly remount, call drive.mount(\"/content/drive\", force_remount=True).\n"
          ],
          "name": "stdout"
        }
      ]
    },
    {
      "cell_type": "markdown",
      "metadata": {
        "id": "vU1EpGuInwjJ"
      },
      "source": [
        "$2365$ seconds The loss is keeping decreasing which means the pricing model can predict the option prices better. It takes about $12ms$ to compute one mini-batch in average, In the following sections, we will try to expore the full potentials of the GPU to accelerate the training."
      ]
    },
    {
      "cell_type": "markdown",
      "metadata": {
        "id": "A8McNtejRNFT"
      },
      "source": [
        "**Save Model**"
      ]
    },
    {
      "cell_type": "code",
      "metadata": {
        "id": "YRtOr1XIPOvF",
        "colab": {
          "base_uri": "https://localhost:8080/"
        },
        "outputId": "9b3b7020-1735-4eee-d7fc-4fa96a2a3fe0"
      },
      "source": [
        "from google.colab import drive\n",
        "drive.mount('/content/drive')"
      ],
      "execution_count": 14,
      "outputs": [
        {
          "output_type": "stream",
          "text": [
            "Mounted at /content/drive\n"
          ],
          "name": "stdout"
        }
      ]
    },
    {
      "cell_type": "code",
      "metadata": {
        "id": "ndftly2yPEaM"
      },
      "source": [
        "import torch\n",
        "model_save_name = f'EuCall2_{str(nstock)}_3_m1.pth'\n",
        "path = F\"/content/drive/MyDrive/AFP Project/Bagging/{model_save_name}\" \n",
        "torch.save(model.state_dict(), path)"
      ],
      "execution_count": 15,
      "outputs": []
    },
    {
      "cell_type": "markdown",
      "metadata": {
        "id": "y6DRO9K2RQoJ"
      },
      "source": [
        "**Load Model**"
      ]
    },
    {
      "cell_type": "code",
      "metadata": {
        "id": "HGXZSV_YRT8v",
        "colab": {
          "base_uri": "https://localhost:8080/"
        },
        "outputId": "fb713c97-7e58-4f1d-ef38-818e0047d0d3"
      },
      "source": [
        "### 7\n",
        "\n",
        "from google.colab import drive\n",
        "drive.mount('/content/drive')"
      ],
      "execution_count": 7,
      "outputs": [
        {
          "output_type": "stream",
          "text": [
            "Drive already mounted at /content/drive; to attempt to forcibly remount, call drive.mount(\"/content/drive\", force_remount=True).\n"
          ],
          "name": "stdout"
        }
      ]
    },
    {
      "cell_type": "code",
      "metadata": {
        "id": "3ntY-N5bOqdq",
        "colab": {
          "base_uri": "https://localhost:8080/"
        },
        "outputId": "127b2ea4-88dc-4f32-950c-2758eb411c1f"
      },
      "source": [
        "import torch\n",
        "model_save_name = f'EuCall2_{str(nstock)}_3_m2.pth'\n",
        "path = F\"/content/drive/MyDrive/AFP Project/Bagging/{model_save_name}\" \n",
        "state_dict = torch.load(path)\n",
        "print(state_dict.keys())"
      ],
      "execution_count": 26,
      "outputs": [
        {
          "output_type": "stream",
          "text": [
            "odict_keys(['norm', 'fc1.weight', 'fc1.bias', 'fc2.weight', 'fc2.bias', 'fc3.weight', 'fc3.bias', 'fc4.weight', 'fc4.bias', 'fc5.weight', 'fc5.bias', 'fc6.weight', 'fc6.bias'])\n"
          ],
          "name": "stdout"
        }
      ]
    },
    {
      "cell_type": "code",
      "metadata": {
        "id": "j0GAGPAgPmgh",
        "colab": {
          "base_uri": "https://localhost:8080/"
        },
        "outputId": "2e5e060e-81b8-4fbd-f54b-341d73cce5f0"
      },
      "source": [
        "# need to run 'Writing cupy_dataset.py' and 'Writing model.py' above before this\n",
        "from model import Net\n",
        "model = Net(nstock = nstock).cuda()\n",
        "\n",
        "model.load_state_dict(state_dict)\n",
        "print(model)"
      ],
      "execution_count": 27,
      "outputs": [
        {
          "output_type": "stream",
          "text": [
            "Net(\n",
            "  (fc1): Linear(in_features=18, out_features=1024, bias=True)\n",
            "  (fc2): Linear(in_features=1024, out_features=1024, bias=True)\n",
            "  (fc3): Linear(in_features=1024, out_features=1024, bias=True)\n",
            "  (fc4): Linear(in_features=1024, out_features=1024, bias=True)\n",
            "  (fc5): Linear(in_features=1024, out_features=1024, bias=True)\n",
            "  (fc6): Linear(in_features=1024, out_features=1, bias=True)\n",
            ")\n"
          ],
          "name": "stdout"
        }
      ]
    },
    {
      "cell_type": "code",
      "metadata": {
        "id": "gemW0qP-Yfzf",
        "outputId": "39070159-e1fa-49d1-cd98-d2d8cb549073",
        "colab": {
          "base_uri": "https://localhost:8080/",
          "height": 399
        }
      },
      "source": [
        "### 8\n",
        "\n",
        "import torch\n",
        "from model import Net\n",
        "\n",
        "model_list = []\n",
        "\n",
        "for i in range(1,11,1): # if 6 models -> range(1,7,1); 10 models -> range(1,11,1)\n",
        "  model_save_name = 'EuCall2_3_3_m' + str(i) + '.pth'    ### change according to pth names\n",
        "  path = F\"/content/drive/MyDrive/AFP Project/Bagging/{model_save_name}\" \n",
        "  state_dict = torch.load(path)\n",
        "  model = Net().cuda()\n",
        "  model.load_state_dict(state_dict)\n",
        "  model_list.append(model)"
      ],
      "execution_count": 8,
      "outputs": [
        {
          "output_type": "error",
          "ename": "FileNotFoundError",
          "evalue": "ignored",
          "traceback": [
            "\u001b[0;31m---------------------------------------------------------------------------\u001b[0m",
            "\u001b[0;31mFileNotFoundError\u001b[0m                         Traceback (most recent call last)",
            "\u001b[0;32m<ipython-input-8-a9a5478e5b51>\u001b[0m in \u001b[0;36m<module>\u001b[0;34m()\u001b[0m\n\u001b[1;32m      9\u001b[0m   \u001b[0mmodel_save_name\u001b[0m \u001b[0;34m=\u001b[0m \u001b[0;34m'EuCall2_3_3_m'\u001b[0m \u001b[0;34m+\u001b[0m \u001b[0mstr\u001b[0m\u001b[0;34m(\u001b[0m\u001b[0mi\u001b[0m\u001b[0;34m)\u001b[0m \u001b[0;34m+\u001b[0m \u001b[0;34m'.pth'\u001b[0m    \u001b[0;31m### change according to pth names\u001b[0m\u001b[0;34m\u001b[0m\u001b[0;34m\u001b[0m\u001b[0m\n\u001b[1;32m     10\u001b[0m   \u001b[0mpath\u001b[0m \u001b[0;34m=\u001b[0m \u001b[0;34mF\"/content/drive/MyDrive/AFP Project/Bagging/{model_save_name}\"\u001b[0m\u001b[0;34m\u001b[0m\u001b[0;34m\u001b[0m\u001b[0m\n\u001b[0;32m---> 11\u001b[0;31m   \u001b[0mstate_dict\u001b[0m \u001b[0;34m=\u001b[0m \u001b[0mtorch\u001b[0m\u001b[0;34m.\u001b[0m\u001b[0mload\u001b[0m\u001b[0;34m(\u001b[0m\u001b[0mpath\u001b[0m\u001b[0;34m)\u001b[0m\u001b[0;34m\u001b[0m\u001b[0;34m\u001b[0m\u001b[0m\n\u001b[0m\u001b[1;32m     12\u001b[0m   \u001b[0mmodel\u001b[0m \u001b[0;34m=\u001b[0m \u001b[0mNet\u001b[0m\u001b[0;34m(\u001b[0m\u001b[0;34m)\u001b[0m\u001b[0;34m.\u001b[0m\u001b[0mcuda\u001b[0m\u001b[0;34m(\u001b[0m\u001b[0;34m)\u001b[0m\u001b[0;34m\u001b[0m\u001b[0;34m\u001b[0m\u001b[0m\n\u001b[1;32m     13\u001b[0m   \u001b[0mmodel\u001b[0m\u001b[0;34m.\u001b[0m\u001b[0mload_state_dict\u001b[0m\u001b[0;34m(\u001b[0m\u001b[0mstate_dict\u001b[0m\u001b[0;34m)\u001b[0m\u001b[0;34m\u001b[0m\u001b[0;34m\u001b[0m\u001b[0m\n",
            "\u001b[0;32m/usr/local/lib/python3.7/dist-packages/torch/serialization.py\u001b[0m in \u001b[0;36mload\u001b[0;34m(f, map_location, pickle_module, **pickle_load_args)\u001b[0m\n\u001b[1;32m    592\u001b[0m         \u001b[0mpickle_load_args\u001b[0m\u001b[0;34m[\u001b[0m\u001b[0;34m'encoding'\u001b[0m\u001b[0;34m]\u001b[0m \u001b[0;34m=\u001b[0m \u001b[0;34m'utf-8'\u001b[0m\u001b[0;34m\u001b[0m\u001b[0;34m\u001b[0m\u001b[0m\n\u001b[1;32m    593\u001b[0m \u001b[0;34m\u001b[0m\u001b[0m\n\u001b[0;32m--> 594\u001b[0;31m     \u001b[0;32mwith\u001b[0m \u001b[0m_open_file_like\u001b[0m\u001b[0;34m(\u001b[0m\u001b[0mf\u001b[0m\u001b[0;34m,\u001b[0m \u001b[0;34m'rb'\u001b[0m\u001b[0;34m)\u001b[0m \u001b[0;32mas\u001b[0m \u001b[0mopened_file\u001b[0m\u001b[0;34m:\u001b[0m\u001b[0;34m\u001b[0m\u001b[0;34m\u001b[0m\u001b[0m\n\u001b[0m\u001b[1;32m    595\u001b[0m         \u001b[0;32mif\u001b[0m \u001b[0m_is_zipfile\u001b[0m\u001b[0;34m(\u001b[0m\u001b[0mopened_file\u001b[0m\u001b[0;34m)\u001b[0m\u001b[0;34m:\u001b[0m\u001b[0;34m\u001b[0m\u001b[0;34m\u001b[0m\u001b[0m\n\u001b[1;32m    596\u001b[0m             \u001b[0;31m# The zipfile reader is going to advance the current file position.\u001b[0m\u001b[0;34m\u001b[0m\u001b[0;34m\u001b[0m\u001b[0;34m\u001b[0m\u001b[0m\n",
            "\u001b[0;32m/usr/local/lib/python3.7/dist-packages/torch/serialization.py\u001b[0m in \u001b[0;36m_open_file_like\u001b[0;34m(name_or_buffer, mode)\u001b[0m\n\u001b[1;32m    228\u001b[0m \u001b[0;32mdef\u001b[0m \u001b[0m_open_file_like\u001b[0m\u001b[0;34m(\u001b[0m\u001b[0mname_or_buffer\u001b[0m\u001b[0;34m,\u001b[0m \u001b[0mmode\u001b[0m\u001b[0;34m)\u001b[0m\u001b[0;34m:\u001b[0m\u001b[0;34m\u001b[0m\u001b[0;34m\u001b[0m\u001b[0m\n\u001b[1;32m    229\u001b[0m     \u001b[0;32mif\u001b[0m \u001b[0m_is_path\u001b[0m\u001b[0;34m(\u001b[0m\u001b[0mname_or_buffer\u001b[0m\u001b[0;34m)\u001b[0m\u001b[0;34m:\u001b[0m\u001b[0;34m\u001b[0m\u001b[0;34m\u001b[0m\u001b[0m\n\u001b[0;32m--> 230\u001b[0;31m         \u001b[0;32mreturn\u001b[0m \u001b[0m_open_file\u001b[0m\u001b[0;34m(\u001b[0m\u001b[0mname_or_buffer\u001b[0m\u001b[0;34m,\u001b[0m \u001b[0mmode\u001b[0m\u001b[0;34m)\u001b[0m\u001b[0;34m\u001b[0m\u001b[0;34m\u001b[0m\u001b[0m\n\u001b[0m\u001b[1;32m    231\u001b[0m     \u001b[0;32melse\u001b[0m\u001b[0;34m:\u001b[0m\u001b[0;34m\u001b[0m\u001b[0;34m\u001b[0m\u001b[0m\n\u001b[1;32m    232\u001b[0m         \u001b[0;32mif\u001b[0m \u001b[0;34m'w'\u001b[0m \u001b[0;32min\u001b[0m \u001b[0mmode\u001b[0m\u001b[0;34m:\u001b[0m\u001b[0;34m\u001b[0m\u001b[0;34m\u001b[0m\u001b[0m\n",
            "\u001b[0;32m/usr/local/lib/python3.7/dist-packages/torch/serialization.py\u001b[0m in \u001b[0;36m__init__\u001b[0;34m(self, name, mode)\u001b[0m\n\u001b[1;32m    209\u001b[0m \u001b[0;32mclass\u001b[0m \u001b[0m_open_file\u001b[0m\u001b[0;34m(\u001b[0m\u001b[0m_opener\u001b[0m\u001b[0;34m)\u001b[0m\u001b[0;34m:\u001b[0m\u001b[0;34m\u001b[0m\u001b[0;34m\u001b[0m\u001b[0m\n\u001b[1;32m    210\u001b[0m     \u001b[0;32mdef\u001b[0m \u001b[0m__init__\u001b[0m\u001b[0;34m(\u001b[0m\u001b[0mself\u001b[0m\u001b[0;34m,\u001b[0m \u001b[0mname\u001b[0m\u001b[0;34m,\u001b[0m \u001b[0mmode\u001b[0m\u001b[0;34m)\u001b[0m\u001b[0;34m:\u001b[0m\u001b[0;34m\u001b[0m\u001b[0;34m\u001b[0m\u001b[0m\n\u001b[0;32m--> 211\u001b[0;31m         \u001b[0msuper\u001b[0m\u001b[0;34m(\u001b[0m\u001b[0m_open_file\u001b[0m\u001b[0;34m,\u001b[0m \u001b[0mself\u001b[0m\u001b[0;34m)\u001b[0m\u001b[0;34m.\u001b[0m\u001b[0m__init__\u001b[0m\u001b[0;34m(\u001b[0m\u001b[0mopen\u001b[0m\u001b[0;34m(\u001b[0m\u001b[0mname\u001b[0m\u001b[0;34m,\u001b[0m \u001b[0mmode\u001b[0m\u001b[0;34m)\u001b[0m\u001b[0;34m)\u001b[0m\u001b[0;34m\u001b[0m\u001b[0;34m\u001b[0m\u001b[0m\n\u001b[0m\u001b[1;32m    212\u001b[0m \u001b[0;34m\u001b[0m\u001b[0m\n\u001b[1;32m    213\u001b[0m     \u001b[0;32mdef\u001b[0m \u001b[0m__exit__\u001b[0m\u001b[0;34m(\u001b[0m\u001b[0mself\u001b[0m\u001b[0;34m,\u001b[0m \u001b[0;34m*\u001b[0m\u001b[0margs\u001b[0m\u001b[0;34m)\u001b[0m\u001b[0;34m:\u001b[0m\u001b[0;34m\u001b[0m\u001b[0;34m\u001b[0m\u001b[0m\n",
            "\u001b[0;31mFileNotFoundError\u001b[0m: [Errno 2] No such file or directory: '/content/drive/MyDrive/AFP Project/Bagging/EuCall2_3_3_m5.pth'"
          ]
        }
      ]
    },
    {
      "cell_type": "markdown",
      "metadata": {
        "id": "rXT4Bg0wdL7l"
      },
      "source": [
        "### Continue to train model"
      ]
    },
    {
      "cell_type": "code",
      "metadata": {
        "id": "Zfa9cp6CdG8T",
        "colab": {
          "base_uri": "https://localhost:8080/"
        },
        "outputId": "a7064d63-a33f-4c8c-a535-2495275364cc"
      },
      "source": [
        "from ignite.engine import Engine, Events\n",
        "from ignite.handlers import Timer\n",
        "from torch.nn import MSELoss\n",
        "from torch.optim import Adam\n",
        "from ignite.contrib.handlers.param_scheduler import CosineAnnealingScheduler\n",
        "from ignite.handlers import ModelCheckpoint\n",
        "from model import Net\n",
        "from cupy_dataset import NumbaOptionDataSet\n",
        "import random\n",
        "timer = Timer(average=True)\n",
        "#model = Net().cuda()\n",
        "loss_fn = MSELoss()\n",
        "optimizer = Adam(model.parameters(), lr=1e-3)\n",
        "# dataset = NumbaOptionDataSet(max_len=10000, number_path = 1024, batch=4800)\n",
        "#dataset = NumbaOptionDataSet(max_len=100, number_path = 1024*5, batch=32, stocks=nstock)\n",
        "dataset = NumbaOptionDataSet(max_len=100, number_path = 51200, batch=32, seed = random.randint(0,100), stocks=nstock)\n",
        "\n",
        "def train_update(engine, batch):\n",
        "    model.train()\n",
        "    optimizer.zero_grad()\n",
        "    x = batch[0]\n",
        "    y = batch[1]\n",
        "    y_pred = model(x)\n",
        "    loss = loss_fn(y_pred[:,0], y)\n",
        "    loss.backward()\n",
        "    optimizer.step()\n",
        "    return loss.item()\n",
        "\n",
        "trainer = Engine(train_update)\n",
        "log_interval = 20\n",
        "\n",
        "scheduler = CosineAnnealingScheduler(optimizer, 'lr', 1e-4, 1e-6, len(dataset))\n",
        "trainer.add_event_handler(Events.ITERATION_STARTED, scheduler)\n",
        "timer.attach(trainer,\n",
        "             start=Events.EPOCH_STARTED,\n",
        "             resume=Events.ITERATION_STARTED,\n",
        "             pause=Events.ITERATION_COMPLETED,\n",
        "             step=Events.ITERATION_COMPLETED)    \n",
        "@trainer.on(Events.ITERATION_COMPLETED)\n",
        "def log_training_loss(engine):\n",
        "    iter = (engine.state.iteration - 1) % len(dataset) + 1\n",
        "    if iter % log_interval == 0:\n",
        "        print('loss', engine.state.output, 'average time', timer.value(), 'iter num', iter)\n",
        "        \n",
        "#trainer.run(dataset, max_epochs=50)\n",
        "trainer.run(dataset, max_epochs=20)\n",
        "\n",
        "model_save_name = 'EuCall2_const_T_bag_1_m7.pth'\n",
        "path = F\"/content/drive/MyDrive/AFP Project/PUI/{model_save_name}\" \n",
        "torch.save(model.state_dict(), path)"
      ],
      "execution_count": null,
      "outputs": [
        {
          "output_type": "stream",
          "text": [
            "loss 2.098385810852051 average time 0.09356980675001977 iter num 20\n",
            "loss 0.14449141919612885 average time 0.04819443204999061 iter num 40\n",
            "loss 0.07804671674966812 average time 0.03307501689998086 iter num 60\n",
            "loss 0.07658137381076813 average time 0.025520663349959706 iter num 80\n",
            "loss 0.07951729744672775 average time 0.02098799379999946 iter num 100\n",
            "loss 0.2245280146598816 average time 0.11054596704993855 iter num 20\n",
            "loss 0.14114032685756683 average time 0.0567104439999639 iter num 40\n",
            "loss 0.038010209798812866 average time 0.038749364399942955 iter num 60\n",
            "loss 0.030002983286976814 average time 0.029770063724936336 iter num 80\n",
            "loss 0.05253801494836807 average time 0.024394047679925278 iter num 100\n",
            "loss 0.17534129321575165 average time 0.11050091724987396 iter num 20\n",
            "loss 0.1358107328414917 average time 0.05665926369990757 iter num 40\n",
            "loss 0.09930513799190521 average time 0.0387249198832554 iter num 60\n",
            "loss 0.07591065019369125 average time 0.029766447637427973 iter num 80\n",
            "loss 0.09423674643039703 average time 0.024376556169927427 iter num 100\n",
            "loss 0.2119140625 average time 0.1104911873499077 iter num 20\n",
            "loss 0.11312291771173477 average time 0.05666203719993064 iter num 40\n",
            "loss 0.14635112881660461 average time 0.03871086689999478 iter num 60\n",
            "loss 0.05156877264380455 average time 0.0297387951125188 iter num 80\n",
            "loss 0.02996951714158058 average time 0.024373029430016686 iter num 100\n",
            "loss 0.07330812513828278 average time 0.11058913525002936 iter num 20\n",
            "loss 0.09021008014678955 average time 0.05674178667504748 iter num 40\n",
            "loss 0.06605075299739838 average time 0.03883597706670419 iter num 60\n",
            "loss 0.05487222597002983 average time 0.02985552705002874 iter num 80\n",
            "loss 0.048852384090423584 average time 0.02445676771001672 iter num 100\n",
            "loss 0.6051555871963501 average time 0.11054838924997057 iter num 20\n",
            "loss 0.1577095091342926 average time 0.05669711719992847 iter num 40\n",
            "loss 0.08094999194145203 average time 0.03877325131664596 iter num 60\n",
            "loss 0.13244836032390594 average time 0.0297919854374868 iter num 80\n",
            "loss 0.06694527715444565 average time 0.02439932420998957 iter num 100\n",
            "loss 0.12472879141569138 average time 0.11058431679998648 iter num 20\n",
            "loss 0.07698597759008408 average time 0.0567386999500286 iter num 40\n",
            "loss 0.07483936846256256 average time 0.038773833533347596 iter num 60\n",
            "loss 0.05895207077264786 average time 0.029810513424945385 iter num 80\n",
            "loss 0.10920806974172592 average time 0.024433014199967146 iter num 100\n",
            "loss 0.11549023538827896 average time 0.11058493080017798 iter num 20\n",
            "loss 0.5971404314041138 average time 0.05673472992511961 iter num 40\n",
            "loss 0.2277311086654663 average time 0.03877384710003753 iter num 60\n",
            "loss 0.07266584038734436 average time 0.029791807475089627 iter num 80\n",
            "loss 0.04179494455456734 average time 0.024400004490107676 iter num 100\n",
            "loss 0.35750073194503784 average time 0.11063695464990815 iter num 20\n",
            "loss 0.08126723021268845 average time 0.05675003262499558 iter num 40\n",
            "loss 0.08492596447467804 average time 0.03877700261661327 iter num 60\n",
            "loss 0.06027188524603844 average time 0.029798320187433093 iter num 80\n",
            "loss 0.04699884355068207 average time 0.0244158301999596 iter num 100\n",
            "loss 0.14524883031845093 average time 0.11060987444998319 iter num 20\n",
            "loss 0.10685166716575623 average time 0.05676328227509657 iter num 40\n",
            "loss 0.11958886682987213 average time 0.03879906263346129 iter num 60\n",
            "loss 0.07678151875734329 average time 0.02982831610008816 iter num 80\n",
            "loss 0.04682286083698273 average time 0.02443598762007241 iter num 100\n",
            "loss 0.14873932301998138 average time 0.11059500809988095 iter num 20\n",
            "loss 0.040180008858442307 average time 0.05690168662495125 iter num 40\n",
            "loss 0.07791674137115479 average time 0.03888511246665682 iter num 60\n",
            "loss 0.06334227323532104 average time 0.029873357237488563 iter num 80\n",
            "loss 0.12937113642692566 average time 0.024474937059912917 iter num 100\n",
            "loss 0.5092383623123169 average time 0.11055346830007692 iter num 20\n",
            "loss 0.19344358146190643 average time 0.056703897325132854 iter num 40\n",
            "loss 0.06384183466434479 average time 0.03875602601668409 iter num 60\n",
            "loss 0.11066180467605591 average time 0.029810172399970726 iter num 80\n",
            "loss 0.051451362669467926 average time 0.024412614289922203 iter num 100\n",
            "loss 0.3243471682071686 average time 0.11064382835011202 iter num 20\n",
            "loss 0.2081402838230133 average time 0.056776072250067956 iter num 40\n",
            "loss 0.2335340827703476 average time 0.03880546723327522 iter num 60\n",
            "loss 0.09374704957008362 average time 0.02981496616239383 iter num 80\n",
            "loss 0.024420924484729767 average time 0.024422262119915102 iter num 100\n",
            "loss 0.1282537877559662 average time 0.11052146995007206 iter num 20\n",
            "loss 0.5378485918045044 average time 0.056694073475136976 iter num 40\n",
            "loss 0.3568462133407593 average time 0.0387427046501216 iter num 60\n",
            "loss 0.09696733951568604 average time 0.029781809912560676 iter num 80\n",
            "loss 0.040360838174819946 average time 0.024415890230084187 iter num 100\n",
            "loss 0.24645063281059265 average time 0.11062985004982692 iter num 20\n",
            "loss 0.13687577843666077 average time 0.05674399587496737 iter num 40\n",
            "loss 0.08889433741569519 average time 0.038769718750093794 iter num 60\n",
            "loss 0.10209785401821136 average time 0.029795512175064688 iter num 80\n",
            "loss 0.08726519346237183 average time 0.02439942074008286 iter num 100\n",
            "loss 0.1462012082338333 average time 0.11067865444993004 iter num 20\n",
            "loss 0.09163020551204681 average time 0.05676254680001876 iter num 40\n",
            "loss 0.1352756768465042 average time 0.03879009351667264 iter num 60\n",
            "loss 0.03494931384921074 average time 0.029801020950026215 iter num 80\n",
            "loss 0.04050493240356445 average time 0.024411233990049366 iter num 100\n",
            "loss 3.3723602294921875 average time 0.11066955045034774 iter num 20\n",
            "loss 0.2210291624069214 average time 0.05676417587515061 iter num 40\n",
            "loss 0.09288756549358368 average time 0.038822992416711104 iter num 60\n",
            "loss 0.03604619950056076 average time 0.029835128200033978 iter num 80\n",
            "loss 0.03650583699345589 average time 0.024446904700071173 iter num 100\n",
            "loss 0.10605917870998383 average time 0.11034864245011704 iter num 20\n",
            "loss 0.07563158869743347 average time 0.0566002851750909 iter num 40\n",
            "loss 0.034599561244249344 average time 0.03868242380006753 iter num 60\n",
            "loss 0.024287113919854164 average time 0.02974445836250652 iter num 80\n",
            "loss 0.11213122308254242 average time 0.024359951180049393 iter num 100\n",
            "loss 0.07558166980743408 average time 0.11055105345012635 iter num 20\n",
            "loss 0.041949331760406494 average time 0.05674164462507179 iter num 40\n",
            "loss 0.14162984490394592 average time 0.03879782038341849 iter num 60\n",
            "loss 0.06971742957830429 average time 0.029820390800114182 iter num 80\n",
            "loss 0.02220221608877182 average time 0.024430728100051056 iter num 100\n",
            "loss 0.18407516181468964 average time 0.11055073244988307 iter num 20\n",
            "loss 1.065492868423462 average time 0.05691952612492059 iter num 40\n",
            "loss 0.08985187858343124 average time 0.038914599966574315 iter num 60\n",
            "loss 0.06057719886302948 average time 0.02989269182494354 iter num 80\n",
            "loss 0.053605858236551285 average time 0.02452431477991922 iter num 100\n"
          ],
          "name": "stdout"
        }
      ]
    },
    {
      "cell_type": "markdown",
      "metadata": {
        "id": "ehmhDw8BUtLi"
      },
      "source": [
        "### Inference and Greeks"
      ]
    },
    {
      "cell_type": "markdown",
      "metadata": {
        "id": "Uiro43mOU0Ro"
      },
      "source": [
        "We can load the model parameters and use it to do inference"
      ]
    },
    {
      "cell_type": "code",
      "metadata": {
        "id": "svlu6tGTRx1F",
        "colab": {
          "base_uri": "https://localhost:8080/"
        },
        "outputId": "44370ba1-ba6f-4e77-91e3-a17db24474fb"
      },
      "source": [
        "import torch\n",
        "\n",
        "inputs = torch.tensor([[1, 110.0, 110.0, 0.35, 0.1, 0.05] * nstock]).cuda()\n",
        "model(inputs.float())"
      ],
      "execution_count": 9,
      "outputs": [
        {
          "output_type": "execute_result",
          "data": {
            "text/plain": [
              "tensor([[17.5477]], device='cuda:0', grad_fn=<AddmmBackward>)"
            ]
          },
          "metadata": {},
          "execution_count": 9
        }
      ]
    },
    {
      "cell_type": "markdown",
      "metadata": {
        "id": "M1Iy-9pWVRDO"
      },
      "source": [
        "One of the benefits of building a deep learning model is that the [Greeks](<https://en.wikipedia.org/wiki/Greeks_(finance)#First-order_Greeks>) can be easily computed. \n",
        "We just need to take advantage of the auto-grad feature in Pytorch. We can use `grad` function to compute the first order differentiation for parameters 'K, B, S0, sigma, mu, r'"
      ]
    },
    {
      "cell_type": "code",
      "metadata": {
        "id": "ytBZaYHKSnDu",
        "colab": {
          "base_uri": "https://localhost:8080/"
        },
        "outputId": "6d5e7af5-b7dc-440d-d1ba-80dd3743dd1a"
      },
      "source": [
        "inputs = torch.tensor([[1, 110.0, 110.0, 0.35, 0.1, 0.05] * nstock]).cuda()\n",
        "inputs.requires_grad = True\n",
        "x = model(inputs.float())\n",
        "x.backward()\n",
        "first_order_gradient = inputs.grad\n",
        "first_order_gradient"
      ],
      "execution_count": 10,
      "outputs": [
        {
          "output_type": "execute_result",
          "data": {
            "text/plain": [
              "tensor([[-9.8948, -0.4548,  0.6153, 40.3529, -0.7456, 52.9731]],\n",
              "       device='cuda:0')"
            ]
          },
          "metadata": {},
          "execution_count": 10
        }
      ]
    },
    {
      "cell_type": "markdown",
      "metadata": {
        "id": "8KeijaDDVZGd"
      },
      "source": [
        "Here we are going to plot the Delta graph:-"
      ]
    },
    {
      "cell_type": "markdown",
      "metadata": {
        "id": "skwgeVDsA_Mr"
      },
      "source": [
        "# Delta"
      ]
    },
    {
      "cell_type": "markdown",
      "metadata": {
        "id": "Bi_2Dqnx3_oP"
      },
      "source": [
        "#### Using gradient, Change only 1 S0 at a time"
      ]
    },
    {
      "cell_type": "code",
      "metadata": {
        "id": "USh3qaADSYQp"
      },
      "source": [
        "#### Using gradient, Change only 1 S0 at a time\n",
        "%matplotlib inline\n",
        "from torch.autograd import grad\n",
        "import pylab\n",
        "import numpy as np\n",
        "def compute_delta(S, ith):\n",
        "    inputs = torch.tensor([[1, 110.0, 110.0, 0.35, 0.1, 0.05]*(ith-1)\\\n",
        "                           + [1, 110.0, S, 0.35, 0.1, 0.05]\\\n",
        "                           + ([1, 110.0, 110.0, 0.35, 0.1, 0.05]*(nstock-ith))]).cuda()\n",
        "    inputs.requires_grad = True\n",
        "    x = model(inputs.float())\n",
        "    #x = model(inputs)\n",
        "    x.backward()\n",
        "    first_order_gradient = inputs.grad\n",
        "    return first_order_gradient[0][2]"
      ],
      "execution_count": 11,
      "outputs": []
    },
    {
      "cell_type": "code",
      "metadata": {
        "colab": {
          "base_uri": "https://localhost:8080/",
          "height": 279
        },
        "id": "4MfZKJlv13SC",
        "outputId": "8183979e-b8e5-436d-8913-28b4dd27cf1e"
      },
      "source": [
        "for i in range(1, nstock+1):\n",
        "  prices = np.arange(0, 150, 0.1)\n",
        "  deltas = []\n",
        "  for p in prices:\n",
        "      deltas.append(compute_delta(p, i).item())\n",
        "  fig = pylab.plot(prices, deltas, label = f'{i}th stock')\n",
        "  pylab.legend(loc = 'lower right')\n",
        "  pylab.xlabel('prices')\n",
        "  pylab.ylabel('Delta')\n",
        "  fig"
      ],
      "execution_count": 12,
      "outputs": [
        {
          "output_type": "display_data",
          "data": {
            "image/png": "[encoded data removed]",
            "text/plain": [
              "<Figure size 432x288 with 1 Axes>"
            ]
          },
          "metadata": {
            "needs_background": "light"
          }
        }
      ]
    },
    {
      "cell_type": "markdown",
      "metadata": {
        "id": "iXixHQic35iI"
      },
      "source": [
        "#### Using Finite Difference, Change only 1 S0 at a time"
      ]
    },
    {
      "cell_type": "code",
      "metadata": {
        "colab": {
          "base_uri": "https://localhost:8080/",
          "height": 279
        },
        "id": "VGk5Hw64fMdh",
        "outputId": "c5777f72-879c-40da-f58a-f11bc55ae60c"
      },
      "source": [
        "## Using Finite Difference, Change only 1 S0 at a time\n",
        "%matplotlib inline\n",
        "import numpy as np\n",
        "def compute_delta(S, ith):\n",
        "    epsilon = 0.01\n",
        "    inputs1 = torch.tensor([[1, 110.0, 110.0, 0.35, 0.1, 0.05]*(ith-1)\\\n",
        "                           + [1, 110.0, S, 0.35, 0.1, 0.05]\\\n",
        "                           + ([1, 110.0, 110.0, 0.35, 0.1, 0.05]*(nstock-ith))]).cuda()\n",
        "    inputs2 = torch.tensor([[1, 110.0, 110.0, 0.35, 0.1, 0.05]*(ith-1)\\\n",
        "                           + [1, 110.0, S + epsilon, 0.35, 0.1, 0.05]\\\n",
        "                           + ([1, 110.0, 110.0, 0.35, 0.1, 0.05]*(nstock-ith))]).cuda()\n",
        "    delta = (model(inputs2.float()) - model(inputs1.float()))/epsilon\n",
        "    return delta\n",
        "\n",
        "for i in range(1, nstock+1):\n",
        "  prices = np.arange(0, 150, 0.1)\n",
        "  deltas = []\n",
        "  for p in prices:\n",
        "      deltas.append(compute_delta(p, i).item())\n",
        "  fig = pylab.plot(prices, deltas, label = f'{i}th stock')\n",
        "  pylab.legend(loc = 'lower right')\n",
        "  pylab.xlabel('prices')\n",
        "  pylab.ylabel('Delta')\n",
        "  fig"
      ],
      "execution_count": 13,
      "outputs": [
        {
          "output_type": "display_data",
          "data": {
            "image/png": "[encoded data removed]",
            "text/plain": [
              "<Figure size 432x288 with 1 Axes>"
            ]
          },
          "metadata": {
            "needs_background": "light"
          }
        }
      ]
    },
    {
      "cell_type": "markdown",
      "metadata": {
        "id": "fIJe36fJ4JFO"
      },
      "source": [
        "#### Using Finite Difference, Change 3 S0 at a time"
      ]
    },
    {
      "cell_type": "code",
      "metadata": {
        "colab": {
          "base_uri": "https://localhost:8080/",
          "height": 296
        },
        "id": "4O1I8COnUxnz",
        "outputId": "d656df60-75cb-48c7-a5c0-d719358b801d"
      },
      "source": [
        "##Using Finite Difference, Change 3 S0 at a time\n",
        "%matplotlib inline\n",
        "import numpy as np\n",
        "def compute_delta(S):\n",
        "    epsilon = 0.01\n",
        "    inputs1 = torch.tensor([[1, 110.0, S, 0.35, 0.1, 0.05]*nstock]).cuda()\n",
        "    inputs2 = torch.tensor([[1, 110.0, S + epsilon, 0.35, 0.1, 0.05]*nstock]).cuda()\n",
        "    delta = (model(inputs2.float()) - model(inputs1.float()))/epsilon\n",
        "    return delta\n",
        "\n",
        "\n",
        "prices = np.arange(0, 150, 0.1)\n",
        "deltas = []\n",
        "for p in prices:\n",
        "    deltas.append(compute_delta(p).item())\n",
        "fig = pylab.plot(prices, deltas)\n",
        "pylab.xlabel('prices')\n",
        "pylab.ylabel('Delta')\n",
        "fig"
      ],
      "execution_count": null,
      "outputs": [
        {
          "output_type": "execute_result",
          "data": {
            "text/plain": [
              "[<matplotlib.lines.Line2D at 0x7fc519087d10>]"
            ]
          },
          "metadata": {},
          "execution_count": 17
        },
        {
          "output_type": "display_data",
          "data": {
            "image/png": "[encoded data removed]",
            "text/plain": [
              "<Figure size 432x288 with 1 Axes>"
            ]
          },
          "metadata": {
            "needs_background": "light"
          }
        }
      ]
    },
    {
      "cell_type": "markdown",
      "metadata": {
        "id": "yNB8LPwfBMHQ"
      },
      "source": [
        "# Gamma"
      ]
    },
    {
      "cell_type": "markdown",
      "metadata": {
        "id": "oLO_5nEGVcEc"
      },
      "source": [
        "Calculating the second order derivative is easy in PyTorch too. We just need to apply the `grad` function twice. Use this mechanism, we can calculate the second order derivatives $\\frac{\\partial^2 P}{\\partial K \\partial S_0}$, $\\frac{\\partial^2 P}{\\partial B \\partial S_0}$, $\\frac{\\partial^2 P}{\\partial S_0^2}$, $\\frac{\\partial^2 P}{\\partial \\sigma \\partial S_0}$, $\\frac{\\partial^2 P}{\\partial \\mu \\partial S_0}$, $\\frac{\\partial^2 P}{\\partial r \\partial S_0}$ in the following example."
      ]
    },
    {
      "cell_type": "code",
      "metadata": {
        "id": "nGzj7A3sThZK",
        "colab": {
          "base_uri": "https://localhost:8080/"
        },
        "outputId": "581ec4ee-d987-4079-e3e9-090177d637d9"
      },
      "source": [
        "import torch\n",
        "from torch import Tensor\n",
        "from torch.autograd import Variable\n",
        "from torch.autograd import grad\n",
        "from torch import nn\n",
        "\n",
        "inputs = torch.tensor([[1, 110.0, 110.0, 0.35, 0.1, 0.05]*nstock]).cuda()\n",
        "inputs.requires_grad = True\n",
        "x = model(inputs)\n",
        "\n",
        "# instead of using loss.backward(), use torch.autograd.grad() to compute gradients\n",
        "# https://pytorch.org/docs/stable/autograd.html#torch.autograd.grad\n",
        "loss_grads = grad(x, inputs, create_graph=True)\n",
        "drv = grad(loss_grads[0][0][2], inputs)\n",
        "drv"
      ],
      "execution_count": 14,
      "outputs": [
        {
          "output_type": "execute_result",
          "data": {
            "text/plain": [
              "(tensor([[-0.2220, -0.0131,  0.0145,  0.3832, -0.0260,  1.3780]],\n",
              "        device='cuda:0'),)"
            ]
          },
          "metadata": {},
          "execution_count": 14
        }
      ]
    },
    {
      "cell_type": "markdown",
      "metadata": {
        "id": "WJbZYtvhVmSo"
      },
      "source": [
        "Gamma is the second order differenation of `S`. We can plot the the Gamma curve as a function of the stock price"
      ]
    },
    {
      "cell_type": "markdown",
      "metadata": {
        "id": "dlXVePiK4UH5"
      },
      "source": [
        "#### Using gradient, Change only 1 S0 at a time"
      ]
    },
    {
      "cell_type": "code",
      "metadata": {
        "id": "3JpQa3EJToA0",
        "colab": {
          "base_uri": "https://localhost:8080/",
          "height": 279
        },
        "outputId": "8ca04343-c96a-4cee-811d-874498f680e1"
      },
      "source": [
        "##Using gradient, Change only 1 S0 at a time\n",
        "import pylab\n",
        "import numpy as np\n",
        "def compute_gamma(S, ith):\n",
        "  inputs = torch.tensor([[1, 110.0, 110.0, 0.35, 0.1, 0.05]*(ith-1)\\\n",
        "                           + [1, 110.0, S, 0.35, 0.1, 0.05]\\\n",
        "                           + ([1, 110.0, 110.0, 0.35, 0.1, 0.05]*(nstock-ith))]).cuda()\n",
        "  # inputs = torch.tensor([[1, 110.0, S, 0.35, 0.1, 0.05] + ([1, 110.0, 110.0, 0.35, 0.1, 0.05]*2)]).cuda()\n",
        "  inputs.requires_grad = True\n",
        "  x = model(inputs.float())\n",
        "  #x = model(inputs)\n",
        "  loss_grads = grad(x, inputs, create_graph=True)\n",
        "  drv = grad(loss_grads[0][0][2], inputs)\n",
        "  return drv[0][0][2]\n",
        "\n",
        "for i in range(1, nstock+1):\n",
        "  prices = np.arange(0, 150, 0.1)\n",
        "  gammas = []\n",
        "  for p in prices:\n",
        "      gammas.append(compute_gamma(p, i).item())\n",
        "  fig2 = pylab.plot(prices, gammas, label = f'{i}th stock')\n",
        "  pylab.legend(loc = 'upper right')\n",
        "  pylab.xlabel('prices')\n",
        "  pylab.ylabel('Gamma')\n",
        "  fig2"
      ],
      "execution_count": 15,
      "outputs": [
        {
          "output_type": "display_data",
          "data": {
            "image/png": "[encoded data removed]",
            "text/plain": [
              "<Figure size 432x288 with 1 Axes>"
            ]
          },
          "metadata": {
            "needs_background": "light"
          }
        }
      ]
    },
    {
      "cell_type": "markdown",
      "metadata": {
        "id": "RDEmn97t4xxJ"
      },
      "source": [
        "#### Using Finite Difference, Change only 1 S0 at a time"
      ]
    },
    {
      "cell_type": "code",
      "metadata": {
        "id": "BsoaOyCDxQy0",
        "colab": {
          "base_uri": "https://localhost:8080/",
          "height": 280
        },
        "outputId": "5cdf08a9-5fac-4535-8ea1-dc9e3f57856a"
      },
      "source": [
        "##Using Finite Difference, Change only 1 S0 at a time\n",
        "%matplotlib inline\n",
        "import numpy as np\n",
        "def compute_gamma(S, ith):\n",
        "    epsilon = 0.5\n",
        "    inputs1 = torch.tensor([[1, 110.0, 110.0, 0.35, 0.1, 0.05]*(ith-1)\\\n",
        "                           + [1, 110.0, S, 0.35, 0.1, 0.05]\\\n",
        "                           + ([1, 110.0, 110.0, 0.35, 0.1, 0.05]*(nstock-ith))]).cuda()\n",
        "    inputs2 = torch.tensor([[1, 110.0, 110.0, 0.35, 0.1, 0.05]*(ith-1)\\\n",
        "                           + [1, 110.0, S+epsilon, 0.35, 0.1, 0.05]\\\n",
        "                           + ([1, 110.0, 110.0, 0.35, 0.1, 0.05]*(nstock-ith))]).cuda()\n",
        "    inputs3 = torch.tensor([[1, 110.0, 110.0, 0.35, 0.1, 0.05]*(ith-1)\\\n",
        "                           + [1, 110.0, S-epsilon, 0.35, 0.1, 0.05]\\\n",
        "                           + ([1, 110.0, 110.0, 0.35, 0.1, 0.05]*(nstock-ith))]).cuda()\n",
        "    # inputs1 = torch.tensor([[1, 110.0, S, 0.35, 0.1, 0.05]  + ([1, 110.0, 110.0, 0.35, 0.1, 0.05]*2)]).cuda()\n",
        "    # inputs2 = torch.tensor([[1, 110.0, S + epsilon, 0.35, 0.1, 0.05]  + ([1, 110.0, 110.0, 0.35, 0.1, 0.05]*2)]).cuda()\n",
        "    # inputs3 = torch.tensor([[1, 110.0, S - epsilon, 0.35, 0.1, 0.05]  + ([1, 110.0, 110.0, 0.35, 0.1, 0.05]*2)]).cuda()\n",
        "    gamma = (model(inputs2.float()) - 2*model(inputs1.float()) + model(inputs3.float()))/(epsilon**2)\n",
        "    return gamma\n",
        "\n",
        "for i in range(1, nstock+1):\n",
        "  prices = np.arange(0, 150, 0.1)\n",
        "  gammas = []\n",
        "  for p in prices:\n",
        "      gammas.append(compute_gamma(p, i).item())\n",
        "  fig = pylab.plot(prices, gammas, label = f'{i}th stock')\n",
        "  pylab.legend(loc = 'upper right')\n",
        "  pylab.xlabel('prices')\n",
        "  pylab.ylabel('Gamma')\n",
        "  fig"
      ],
      "execution_count": 16,
      "outputs": [
        {
          "output_type": "display_data",
          "data": {
            "image/png": "[encoded data removed]",
            "text/plain": [
              "<Figure size 432x288 with 1 Axes>"
            ]
          },
          "metadata": {
            "needs_background": "light"
          }
        }
      ]
    },
    {
      "cell_type": "markdown",
      "metadata": {
        "id": "SnRaSM685NCq"
      },
      "source": [
        "#### Using Finite Difference, Change 3 S0 at a time"
      ]
    },
    {
      "cell_type": "code",
      "metadata": {
        "colab": {
          "base_uri": "https://localhost:8080/",
          "height": 298
        },
        "id": "aOsXgOwWZ_ru",
        "outputId": "12dd4492-8d3f-40bd-812f-0a4aa1716848"
      },
      "source": [
        "##Using Finite Difference, Change 3 S0 at a time\n",
        "%matplotlib inline\n",
        "import numpy as np\n",
        "def compute_gamma(S):\n",
        "    epsilon = 0.5\n",
        "    inputs1 = torch.tensor([[1, 110.0, S, 0.35, 0.1, 0.05]*nstock]).cuda()\n",
        "    inputs2 = torch.tensor([[1, 110.0, S + epsilon, 0.35, 0.1, 0.05]*nstock]).cuda()\n",
        "    inputs3 = torch.tensor([[1, 110.0, S - epsilon, 0.35, 0.1, 0.05]*nstock]).cuda()\n",
        "    gamma = (model(inputs2.float()) - 2*model(inputs1.float()) + model(inputs3.float()))/(epsilon**2)\n",
        "    return gamma\n",
        "\n",
        "prices = np.arange(0, 150, 0.1)\n",
        "gammas = []\n",
        "for p in prices:\n",
        "    gammas.append(compute_gamma(p).item())\n",
        "fig = pylab.plot(prices, gammas)\n",
        "pylab.xlabel('prices')\n",
        "pylab.ylabel('Gamma')\n",
        "fig"
      ],
      "execution_count": 17,
      "outputs": [
        {
          "output_type": "execute_result",
          "data": {
            "text/plain": [
              "[<matplotlib.lines.Line2D at 0x7f0d12078e50>]"
            ]
          },
          "metadata": {},
          "execution_count": 17
        },
        {
          "output_type": "display_data",
          "data": {
            "image/png": "[encoded data removed]",
            "text/plain": [
              "<Figure size 432x288 with 1 Axes>"
            ]
          },
          "metadata": {
            "needs_background": "light"
          }
        }
      ]
    },
    {
      "cell_type": "markdown",
      "metadata": {
        "id": "67lca2xrBh9a"
      },
      "source": [
        "# Vega"
      ]
    },
    {
      "cell_type": "markdown",
      "metadata": {
        "id": "iuETeg-e53wz"
      },
      "source": [
        "#### Using finite difference, Change only 1 S0 at a time"
      ]
    },
    {
      "cell_type": "code",
      "metadata": {
        "id": "muozc-hzhSGA",
        "colab": {
          "base_uri": "https://localhost:8080/",
          "height": 282
        },
        "outputId": "4dab4b6b-4bf6-40b6-cb89-c0f65468b5dd"
      },
      "source": [
        "##Using finite difference, Change only 1 S0 at a time\n",
        "# vega\n",
        "%matplotlib inline\n",
        "import numpy as np\n",
        "def compute_vega(S, ith):\n",
        "    epsilon = 0.5\n",
        "\n",
        "    inputs1 = torch.tensor([[1, 110.0, 110.0, 0.35, 0.1, 0.05]*(ith-1)\\\n",
        "                           + [1, 110.0, S, 0.35, 0.1, 0.05]\\\n",
        "                           + ([1, 110.0, 110.0, 0.35, 0.1, 0.05]*(nstock-ith))]).cuda()\n",
        "    inputs2 = torch.tensor([[1, 110.0, 110.0, 0.35, 0.1, 0.05]*(ith-1)\\\n",
        "                           + [1, 110.0, S, 0.35+epsilon, 0.1, 0.05]\\\n",
        "                           + ([1, 110.0, 110.0, 0.35, 0.1, 0.05]*(nstock-ith))]).cuda()\n",
        "\n",
        "    vega = (model(inputs2.float()) - model(inputs1.float()))/epsilon\n",
        "    return vega\n",
        "\n",
        "for i in range(1, nstock+1):\n",
        "  prices = np.arange(0, 150, 0.1)\n",
        "  vegas = []\n",
        "  for p in prices:\n",
        "      vegas.append(compute_vega(p, i).item())\n",
        "  fig = pylab.plot(prices, vegas, label = f'{i}th stock')\n",
        "  pylab.legend(loc = 'upper right')\n",
        "  pylab.xlabel('prices')\n",
        "  pylab.ylabel('Vega')\n",
        "  fig"
      ],
      "execution_count": null,
      "outputs": [
        {
          "output_type": "display_data",
          "data": {
            "image/png": "[encoded data removed]",
            "text/plain": [
              "<Figure size 432x288 with 1 Axes>"
            ]
          },
          "metadata": {
            "needs_background": "light"
          }
        }
      ]
    },
    {
      "cell_type": "markdown",
      "metadata": {
        "id": "y_BYyL9d584w"
      },
      "source": [
        "#### Using Finite Difference, Change 3 S0 at a time"
      ]
    },
    {
      "cell_type": "code",
      "metadata": {
        "colab": {
          "base_uri": "https://localhost:8080/",
          "height": 296
        },
        "id": "0KATxBCAdlFt",
        "outputId": "11bbb085-dd1e-49b3-d8ef-c5d7d25d25fd"
      },
      "source": [
        "##Using Finite Difference, Change 3 S0 at a time\n",
        "# vega\n",
        "%matplotlib inline\n",
        "import numpy as np\n",
        "def compute_vega(S):\n",
        "    epsilon = 0.5\n",
        "    inputs1 = torch.tensor([[1, 110.0, S, 0.35, 0.1, 0.05]*nstock]).cuda()\n",
        "    inputs2 = torch.tensor([[1, 110.0, S, 0.35 + epsilon, 0.1, 0.05]*nstock]).cuda()\n",
        "    vega = (model(inputs2.float()) - model(inputs1.float()))/epsilon\n",
        "    return vega\n",
        "\n",
        "\n",
        "prices = np.arange(0, 150, 0.1)\n",
        "vegas = []\n",
        "for p in prices:\n",
        "    vegas.append(compute_vega(p).item())\n",
        "fig = pylab.plot(prices, vegas)\n",
        "pylab.xlabel('prices')\n",
        "pylab.ylabel('Vega')\n",
        "fig"
      ],
      "execution_count": null,
      "outputs": [
        {
          "output_type": "execute_result",
          "data": {
            "text/plain": [
              "[<matplotlib.lines.Line2D at 0x7fdc908c5f10>]"
            ]
          },
          "metadata": {
            "tags": []
          },
          "execution_count": 64
        },
        {
          "output_type": "display_data",
          "data": {
            "image/png": "[encoded data removed]",
            "text/plain": [
              "<Figure size 432x288 with 1 Axes>"
            ]
          },
          "metadata": {
            "tags": [],
            "needs_background": "light"
          }
        }
      ]
    },
    {
      "cell_type": "markdown",
      "metadata": {
        "id": "Rj7NlW6GVqSA"
      },
      "source": [
        "[Implied volatility](https://en.wikipedia.org/wiki/Implied_volatility) is the forecasted volatility of the underlying asset based on the quoted prices of the option. It is the reverse mapping of price to the option parameter given the model which is hard to do with the Monte Carlo simulation approach. But if we have the deep learning pricing model, it is an easy task. We can first plot the relationship between volatility and the option price"
      ]
    },
    {
      "cell_type": "code",
      "metadata": {
        "id": "4yrCw5UNT07t"
      },
      "source": [
        "# import pylab\n",
        "# import numpy as np\n",
        "# def compute_price(sigma):\n",
        "#     inputs = torch.tensor([[1, 110.0, 110.0, sigma, 0.1, 0.05]]).cuda()\n",
        "#     x = model(inputs.float())\n",
        "#     #x = model(inputs)\n",
        "#     return x.item()\n",
        "# sigmas = np.arange(0, 0.5, 0.1)\n",
        "# prices = []\n",
        "# for s in sigmas:\n",
        "#     prices.append(compute_price(s))\n",
        "# fig3 = pylab.plot(sigmas, prices)\n",
        "# pylab.xlabel('Sigma')\n",
        "# pylab.ylabel('Price')\n",
        "# fig3"
      ],
      "execution_count": null,
      "outputs": []
    },
    {
      "cell_type": "markdown",
      "metadata": {
        "id": "EU25Cj29VtCa"
      },
      "source": [
        "Given the prices `P`, the implied volatility is the root of the function `compute_price`. We can use bisection to find the root."
      ]
    },
    {
      "cell_type": "code",
      "metadata": {
        "id": "ddHnwm_zUBYD"
      },
      "source": [
        "# def bisection_root(small, large, fun, target, EPS=1e-6):\n",
        "#     if fun(large) - target < 0:\n",
        "#         print('upper bound is too small')\n",
        "#         return None\n",
        "#     if fun(small) - target > 0:\n",
        "#         print('lower bound is too large')\n",
        "#         return None\n",
        "#     while large - small > EPS:\n",
        "#         mid = (large + small) / 2.0\n",
        "#         if fun(mid) - target >= 0:\n",
        "#             large = mid\n",
        "#         else:\n",
        "#             small = mid\n",
        "#     mid = (large + small) / 2.0\n",
        "#     return mid, abs(fun(mid) - target)\n",
        "# quoted_price = 16.0\n",
        "# sigma, err = bisection_root(0, 0.5, compute_price, quoted_price)\n",
        "# print('implied volativity', sigma, 'error', err)     "
      ],
      "execution_count": null,
      "outputs": []
    },
    {
      "cell_type": "code",
      "metadata": {
        "id": "DEiAredqQGxf"
      },
      "source": [
        ""
      ],
      "execution_count": null,
      "outputs": []
    },
    {
      "cell_type": "code",
      "metadata": {
        "id": "T1pyaxKkY1tz"
      },
      "source": [
        ""
      ],
      "execution_count": null,
      "outputs": []
    },
    {
      "cell_type": "markdown",
      "metadata": {
        "id": "oYXjZDLgY21d"
      },
      "source": [
        "# For Bagging"
      ]
    },
    {
      "cell_type": "markdown",
      "metadata": {
        "id": "VbCuJJOMY6Hg"
      },
      "source": [
        "# Delta"
      ]
    },
    {
      "cell_type": "code",
      "metadata": {
        "id": "uRnhFzWXY6Hg",
        "colab": {
          "base_uri": "https://localhost:8080/",
          "height": 279
        },
        "outputId": "5e82c63f-6c3b-482e-c0cd-2ce3e0399da0"
      },
      "source": [
        "### 9 (multi)\n",
        "\n",
        "#### Using gradient, Change only 1 S0 at a time, no bagging\n",
        "%matplotlib inline\n",
        "from torch.autograd import grad\n",
        "import pylab\n",
        "import numpy as np\n",
        "def compute_delta(S, ith):\n",
        "    inputs = torch.tensor([[1, 110.0, 110.0, 0.35, 0.1, 0.05]*(ith-1)\\\n",
        "                           + [1, 110.0, S, 0.35, 0.1, 0.05]\\\n",
        "                           + ([1, 110.0, 110.0, 0.35, 0.1, 0.05]*(nstock-ith))]).cuda()\n",
        "    inputs.requires_grad = True\n",
        "    x = model_list[2](inputs.float())      ### change 'c' in model_list[c]\n",
        "    #x = model(inputs)\n",
        "    x.backward()\n",
        "    first_order_gradient = inputs.grad\n",
        "    return first_order_gradient[0][2]\n",
        "\n",
        "for i in range(1, nstock+1):\n",
        "    prices = np.arange(0, 150, 0.1)\n",
        "    deltas = []\n",
        "    for p in prices:\n",
        "        deltas.append(compute_delta(p, i).item())\n",
        "    fig = pylab.plot(prices, deltas, label = f'{i}th stock')\n",
        "    pylab.legend(loc = 'lower right')\n",
        "    pylab.xlabel('prices')\n",
        "    pylab.ylabel('Delta')\n",
        "    fig"
      ],
      "execution_count": 9,
      "outputs": [
        {
          "output_type": "display_data",
          "data": {
            "image/png": "[encoded data removed]",
            "text/plain": [
              "<Figure size 432x288 with 1 Axes>"
            ]
          },
          "metadata": {
            "needs_background": "light"
          }
        }
      ]
    },
    {
      "cell_type": "code",
      "metadata": {
        "id": "9QGj0jkJaVoR",
        "colab": {
          "base_uri": "https://localhost:8080/",
          "height": 279
        },
        "outputId": "4d7fb0ca-0643-493d-b6e2-0692afcdb0b9"
      },
      "source": [
        "### 10 (single)\n",
        "\n",
        "## Using Finite Difference, Change only 1 S0 at a time, w/ bagging\n",
        "%matplotlib inline\n",
        "import numpy as np\n",
        "def compute_delta(S, ith):\n",
        "    epsilon = 0.01\n",
        "    inputs1 = torch.tensor([[1, 110.0, 110.0, 0.35, 0.1, 0.05]*(ith-1)\\\n",
        "                           + [1, 110.0, S, 0.35, 0.1, 0.05]\\\n",
        "                           + ([1, 110.0, 110.0, 0.35, 0.1, 0.05]*(nstock-ith))]).cuda()\n",
        "    inputs2 = torch.tensor([[1, 110.0, 110.0, 0.35, 0.1, 0.05]*(ith-1)\\\n",
        "                           + [1, 110.0, S + epsilon, 0.35, 0.1, 0.05]\\\n",
        "                           + ([1, 110.0, 110.0, 0.35, 0.1, 0.05]*(nstock-ith))]).cuda()\n",
        "    \n",
        "    prices1, prices2 = [], []\n",
        "    for i in range(4):      ### change to total number of models\n",
        "      prices1.append(model_list[i](inputs1.float()))\n",
        "      prices2.append(model_list[i](inputs2.float()))\n",
        "\n",
        "    avg_price1 = torch.cat(prices1, dim=1).mean()\n",
        "    avg_price2 = torch.cat(prices2, dim=1).mean()\n",
        "    \n",
        "    delta = (avg_price2 - avg_price1)/epsilon\n",
        "    return delta\n",
        "\n",
        "for i in range(1, nstock+1):\n",
        "  prices = np.arange(0, 150, 0.1)\n",
        "  deltas = []\n",
        "  for p in prices:\n",
        "      deltas.append(compute_delta(p, i).item())\n",
        "  fig = pylab.plot(prices, deltas, label = f'{i}th stock')\n",
        "  pylab.legend(loc = 'lower right')\n",
        "  pylab.xlabel('prices')\n",
        "  pylab.ylabel('Delta')\n",
        "  fig"
      ],
      "execution_count": 10,
      "outputs": [
        {
          "output_type": "display_data",
          "data": {
            "image/png": "[encoded data removed]",
            "text/plain": [
              "<Figure size 432x288 with 1 Axes>"
            ]
          },
          "metadata": {
            "needs_background": "light"
          }
        }
      ]
    },
    {
      "cell_type": "code",
      "metadata": {
        "id": "0WxWknXpaJxn",
        "colab": {
          "base_uri": "https://localhost:8080/",
          "height": 297
        },
        "outputId": "6688cc80-5f0c-42f0-d4cb-3f01d2dbd65d"
      },
      "source": [
        "### 11 (single)\n",
        "\n",
        "##Using Finite Difference, Change all S0 at a time, w/ bagging\n",
        "%matplotlib inline\n",
        "import numpy as np\n",
        "def compute_delta(S):\n",
        "    epsilon = 0.01\n",
        "    inputs1 = torch.tensor([[1, 110.0, S, 0.35, 0.1, 0.05]*nstock]).cuda()\n",
        "    inputs2 = torch.tensor([[1, 110.0, S + epsilon, 0.35, 0.1, 0.05]*nstock]).cuda()\n",
        "\n",
        "    prices1, prices2 = [], []\n",
        "    for i in range(4):      ### change to total number of models\n",
        "      prices1.append(model_list[i](inputs1.float()))\n",
        "      prices2.append(model_list[i](inputs2.float()))\n",
        "\n",
        "    avg_price1 = torch.cat(prices1, dim=1).mean()\n",
        "    avg_price2 = torch.cat(prices2, dim=1).mean()\n",
        "    \n",
        "    delta = (avg_price2 - avg_price1)/epsilon\n",
        "    return delta\n",
        "\n",
        "\n",
        "prices = np.arange(0, 150, 0.1)\n",
        "deltas = []\n",
        "for p in prices:\n",
        "    deltas.append(compute_delta(p).item())\n",
        "fig = pylab.plot(prices, deltas)\n",
        "pylab.xlabel('prices')\n",
        "pylab.ylabel('Delta')\n",
        "fig"
      ],
      "execution_count": 11,
      "outputs": [
        {
          "output_type": "execute_result",
          "data": {
            "text/plain": [
              "[<matplotlib.lines.Line2D at 0x7fdaa408c090>]"
            ]
          },
          "metadata": {},
          "execution_count": 11
        },
        {
          "output_type": "display_data",
          "data": {
            "image/png": "[encoded data removed]",
            "text/plain": [
              "<Figure size 432x288 with 1 Axes>"
            ]
          },
          "metadata": {
            "needs_background": "light"
          }
        }
      ]
    },
    {
      "cell_type": "markdown",
      "metadata": {
        "id": "FfxN3UmbbATV"
      },
      "source": [
        "# Gamma"
      ]
    },
    {
      "cell_type": "code",
      "metadata": {
        "id": "ZHzqrnfVbDHB",
        "colab": {
          "base_uri": "https://localhost:8080/",
          "height": 279
        },
        "outputId": "122e429a-5f4e-4687-93b5-50ede0e4ac59"
      },
      "source": [
        "### 12 (multi)\n",
        "\n",
        "##Using gradient, Change only 1 S0 at a time, no bagging\n",
        "import pylab\n",
        "import numpy as np\n",
        "def compute_gamma(S, ith):\n",
        "  inputs = torch.tensor([[1, 110.0, 110.0, 0.35, 0.1, 0.05]*(ith-1)\\\n",
        "                           + [1, 110.0, S, 0.35, 0.1, 0.05]\\\n",
        "                           + ([1, 110.0, 110.0, 0.35, 0.1, 0.05]*(nstock-ith))]).cuda()\n",
        "  # inputs = torch.tensor([[1, 110.0, S, 0.35, 0.1, 0.05] + ([1, 110.0, 110.0, 0.35, 0.1, 0.05]*2)]).cuda()\n",
        "  inputs.requires_grad = True\n",
        "  x = model_list[3](inputs.float())         ### change 'c' in model_list[c]\n",
        "  #x = model(inputs)\n",
        "  loss_grads = grad(x, inputs, create_graph=True)\n",
        "  drv = grad(loss_grads[0][0][2], inputs)\n",
        "  return drv[0][0][2]\n",
        "\n",
        "for i in range(1, nstock+1):\n",
        "  prices = np.arange(0, 150, 0.1)\n",
        "  gammas = []\n",
        "  for p in prices:\n",
        "      gammas.append(compute_gamma(p, i).item())\n",
        "  fig2 = pylab.plot(prices, gammas, label = f'{i}th stock')\n",
        "  pylab.legend(loc = 'upper right')\n",
        "  pylab.xlabel('prices')\n",
        "  pylab.ylabel('Gamma')\n",
        "  fig2"
      ],
      "execution_count": 13,
      "outputs": [
        {
          "output_type": "display_data",
          "data": {
            "image/png": "[encoded data removed]",
            "text/plain": [
              "<Figure size 432x288 with 1 Axes>"
            ]
          },
          "metadata": {
            "needs_background": "light"
          }
        }
      ]
    },
    {
      "cell_type": "code",
      "metadata": {
        "id": "Frknh8HgbGvD",
        "colab": {
          "base_uri": "https://localhost:8080/",
          "height": 279
        },
        "outputId": "c6550b18-f629-48e6-90ed-fb2d5663fafe"
      },
      "source": [
        "### 13 (single)\n",
        "\n",
        "##Using Finite Difference, Change only 1 S0 at a time, w/ bagging\n",
        "%matplotlib inline\n",
        "import numpy as np\n",
        "def compute_gamma(S, ith):\n",
        "    epsilon = 0.5\n",
        "    inputs1 = torch.tensor([[1, 110.0, 110.0, 0.35, 0.1, 0.05]*(ith-1)\\\n",
        "                           + [1, 110.0, S, 0.35, 0.1, 0.05]\\\n",
        "                           + ([1, 110.0, 110.0, 0.35, 0.1, 0.05]*(nstock-ith))]).cuda()\n",
        "    inputs2 = torch.tensor([[1, 110.0, 110.0, 0.35, 0.1, 0.05]*(ith-1)\\\n",
        "                           + [1, 110.0, S+epsilon, 0.35, 0.1, 0.05]\\\n",
        "                           + ([1, 110.0, 110.0, 0.35, 0.1, 0.05]*(nstock-ith))]).cuda()\n",
        "    inputs3 = torch.tensor([[1, 110.0, 110.0, 0.35, 0.1, 0.05]*(ith-1)\\\n",
        "                           + [1, 110.0, S-epsilon, 0.35, 0.1, 0.05]\\\n",
        "                           + ([1, 110.0, 110.0, 0.35, 0.1, 0.05]*(nstock-ith))]).cuda()\n",
        "    \n",
        "    prices1, prices2, prices3 = [], [], []\n",
        "    for i in range(3):\n",
        "      prices1.append(model_list[i](inputs1.float()))\n",
        "      prices2.append(model_list[i](inputs2.float()))\n",
        "      prices3.append(model_list[i](inputs3.float()))\n",
        "\n",
        "    avg_price1 = torch.cat(prices1, dim=1).mean()\n",
        "    avg_price2 = torch.cat(prices2, dim=1).mean()\n",
        "    avg_price3 = torch.cat(prices3, dim=1).mean()\n",
        "\n",
        "    gamma = (avg_price2 - 2*avg_price1 + avg_price3)/(epsilon**2)\n",
        "    return gamma\n",
        "\n",
        "for i in range(1, nstock+1):\n",
        "  prices = np.arange(0, 150, 0.1)\n",
        "  gammas = []\n",
        "  for p in prices:\n",
        "      gammas.append(compute_gamma(p, i).item())\n",
        "  fig = pylab.plot(prices, gammas, label = f'{i}th stock')\n",
        "  pylab.legend(loc = 'upper right')\n",
        "  pylab.xlabel('prices')\n",
        "  pylab.ylabel('Gamma')\n",
        "  fig"
      ],
      "execution_count": 14,
      "outputs": [
        {
          "output_type": "display_data",
          "data": {
            "image/png": "[encoded data removed]",
            "text/plain": [
              "<Figure size 432x288 with 1 Axes>"
            ]
          },
          "metadata": {
            "needs_background": "light"
          }
        }
      ]
    },
    {
      "cell_type": "code",
      "metadata": {
        "id": "0kIiwE5mbI2F",
        "colab": {
          "base_uri": "https://localhost:8080/",
          "height": 297
        },
        "outputId": "1e05538c-0b3c-4622-9067-c529add96753"
      },
      "source": [
        "### 14 (single)\n",
        "\n",
        "##Using Finite Difference, Change all S0 at a time, w/ bagging\n",
        "%matplotlib inline\n",
        "import numpy as np\n",
        "def compute_gamma(S):\n",
        "    epsilon = 0.5\n",
        "    inputs1 = torch.tensor([[1, 110.0, S, 0.35, 0.1, 0.05]*nstock]).cuda()\n",
        "    inputs2 = torch.tensor([[1, 110.0, S + epsilon, 0.35, 0.1, 0.05]*nstock]).cuda()\n",
        "    inputs3 = torch.tensor([[1, 110.0, S - epsilon, 0.35, 0.1, 0.05]*nstock]).cuda()\n",
        "    \n",
        "    prices1, prices2, prices3 = [], [], []\n",
        "    for i in range(3):\n",
        "      prices1.append(model_list[i](inputs1.float()))\n",
        "      prices2.append(model_list[i](inputs2.float()))\n",
        "      prices3.append(model_list[i](inputs3.float()))\n",
        "\n",
        "    avg_price1 = torch.cat(prices1, dim=1).mean()\n",
        "    avg_price2 = torch.cat(prices2, dim=1).mean()\n",
        "    avg_price3 = torch.cat(prices3, dim=1).mean()\n",
        "\n",
        "    gamma = (avg_price2 - 2*avg_price1 + avg_price3)/(epsilon**2)\n",
        "    return gamma\n",
        "\n",
        "prices = np.arange(0, 150, 0.1)\n",
        "gammas = []\n",
        "for p in prices:\n",
        "    gammas.append(compute_gamma(p).item())\n",
        "fig = pylab.plot(prices, gammas)\n",
        "pylab.xlabel('prices')\n",
        "pylab.ylabel('Gamma')\n",
        "fig"
      ],
      "execution_count": 15,
      "outputs": [
        {
          "output_type": "execute_result",
          "data": {
            "text/plain": [
              "[<matplotlib.lines.Line2D at 0x7fdaa19a9d50>]"
            ]
          },
          "metadata": {},
          "execution_count": 15
        },
        {
          "output_type": "display_data",
          "data": {
            "image/png": "[encoded data removed]",
            "text/plain": [
              "<Figure size 432x288 with 1 Axes>"
            ]
          },
          "metadata": {
            "needs_background": "light"
          }
        }
      ]
    }
  ]
}