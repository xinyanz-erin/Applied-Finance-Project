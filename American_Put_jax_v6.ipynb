{
  "nbformat": 4,
  "nbformat_minor": 0,
  "metadata": {
    "colab": {
      "name": "American_Put_jax.ipynb",
      "provenance": [],
      "collapsed_sections": [],
      "machine_shape": "hm",
      "include_colab_link": true
    },
    "kernelspec": {
      "name": "python3",
      "display_name": "Python 3"
    },
    "language_info": {
      "name": "python"
    },
    "accelerator": "GPU"
  },
  "cells": [
    {
      "cell_type": "markdown",
      "metadata": {
        "id": "view-in-github",
        "colab_type": "text"
      },
      "source": [
        "<a href=\"https://colab.research.google.com/github/xinyanz-erin/Applied-Finance-Project/blob/Pui/American_Put_jax_v6.ipynb\" target=\"_parent\"><img src=\"https://colab.research.google.com/assets/colab-badge.svg\" alt=\"Open In Colab\"/></a>"
      ]
    },
    {
      "cell_type": "markdown",
      "metadata": {
        "id": "v1RYKgBifCYw"
      },
      "source": [
        "# American Put"
      ]
    },
    {
      "cell_type": "code",
      "metadata": {
        "colab": {
          "base_uri": "https://localhost:8080/"
        },
        "id": "ipQPspilSpmY",
        "outputId": "cd8a9a71-e5c8-497b-cc47-4de224184766"
      },
      "source": [
        "import jax\n",
        "import jax.numpy as jnp\n",
        "from jax import random\n",
        "from jax import jit\n",
        "import numpy as np\n",
        "numthreads=10\n",
        "numpaths=60000\n",
        "dim=35\n",
        "rng = jax.random.PRNGKey(2)\n",
        "rng, key = jax.random.split(rng)\n",
        "weights=random.normal(key,(dim,))\n",
        "\n",
        "X=random.normal(key,(numpaths,dim))\n",
        "Y=jnp.matmul(X,weights)+random.normal(key,(numpaths,))*.6\n",
        "# print(weights)\n",
        "print(jax.numpy.linalg.lstsq(X,Y,rcond=-1)[0])"
      ],
      "execution_count": null,
      "outputs": [
        {
          "output_type": "stream",
          "name": "stdout",
          "text": [
            "[ 2.2714288   0.04714125 -0.3861555   1.2990805   0.05353612 -1.148216\n",
            "  1.3288654   0.9705746   0.86686456 -0.714077    0.15883517 -0.03464958\n",
            "  1.7595551   0.85336447 -0.5681019   0.14077947  0.73238677 -0.34808257\n",
            " -0.46217936 -0.6631018  -1.3822023   0.28682745 -0.6331234  -0.3799799\n",
            "  0.70073104  1.5497264   0.28652    -0.7819917  -1.122198    0.28971723\n",
            " -0.45474672 -0.9023748   1.9462991   0.09517366  0.07593049]\n"
          ]
        }
      ]
    },
    {
      "cell_type": "code",
      "metadata": {
        "colab": {
          "base_uri": "https://localhost:8080/"
        },
        "id": "D5yCsibjSuxX",
        "outputId": "d4ca1a3a-f36e-45cf-913d-6051e36620fd"
      },
      "source": [
        "import jax\n",
        "import jax.numpy as jnp\n",
        "from jax import random\n",
        "from jax import jit\n",
        "import numpy as np\n",
        "numthreads=10\n",
        "numpaths=60000\n",
        "dim=35\n",
        "rng = jax.random.PRNGKey(2)\n",
        "rng, key = jax.random.split(rng)\n",
        "weights=random.normal(key,(dim,))\n",
        "\n",
        "X=random.normal(key,(numpaths,dim))\n",
        "Y=jnp.matmul(X,weights)+random.normal(key,(numpaths,))*.6\n",
        "# print(weights)\n",
        "jnp.linalg.inv(X.T @ X)@(X.T@Y)"
      ],
      "execution_count": null,
      "outputs": [
        {
          "output_type": "execute_result",
          "data": {
            "text/plain": [
              "DeviceArray([ 2.271427  ,  0.04714175, -0.3861555 ,  1.2990808 ,\n",
              "              0.05353574, -1.1482165 ,  1.3288662 ,  0.9705749 ,\n",
              "              0.8668647 , -0.7140763 ,  0.15883441, -0.03464897,\n",
              "              1.7595538 ,  0.85336465, -0.5681017 ,  0.1407793 ,\n",
              "              0.7323865 , -0.3480823 , -0.4621794 , -0.6631015 ,\n",
              "             -1.3822019 ,  0.28682724, -0.6331228 , -0.3799796 ,\n",
              "              0.7007311 ,  1.5497264 ,  0.28652024, -0.7819918 ,\n",
              "             -1.1221977 ,  0.28971738, -0.45474735, -0.9023752 ,\n",
              "              1.9462987 ,  0.09517355,  0.07593112], dtype=float32)"
            ]
          },
          "metadata": {},
          "execution_count": 2
        }
      ]
    },
    {
      "cell_type": "code",
      "metadata": {
        "colab": {
          "base_uri": "https://localhost:8080/"
        },
        "id": "lWUSvIdTqDMv",
        "outputId": "85379286-28ba-4a8d-def3-9a6439df9882"
      },
      "source": [
        "import numpy as np\n",
        "X = np.array([[1,1,1,1,1],\n",
        "                   [1.08,1.07,0.97,0.77,0.84],\n",
        "                   [1.08**2,1.07**2,0.97**2,0.77**2,0.84**2],\n",
        "                  [1.08**3,1.07**3,0.97**3,0.77**3,0.84**3]]).transpose()\n",
        "Y = np.array([0, 0.07*0.94176, 0.18*0.94176, 0.2*0.94176, 0.09*0.94176])\n",
        "\n",
        "print(jax.numpy.linalg.lstsq(X,Y,rcond=-1)[0])\n",
        "print(X.dot(np.linalg.lstsq(X,Y,rcond=-1)[0]))"
      ],
      "execution_count": null,
      "outputs": [
        {
          "output_type": "stream",
          "name": "stdout",
          "text": [
            "[  49.12175  -162.2587    178.01677   -64.704094]\n",
            "[0.01256467 0.05102041 0.17311223 0.18914178 0.08271131]\n"
          ]
        }
      ]
    },
    {
      "cell_type": "code",
      "metadata": {
        "colab": {
          "base_uri": "https://localhost:8080/"
        },
        "id": "Tx6c1C3mqH6H",
        "outputId": "c138446b-a095-4db4-cddb-84b21eb4c9c7"
      },
      "source": [
        "import numpy as np\n",
        "X = np.array([[1,1,1,1,1],\n",
        "                   [1.08,1.07,0.97,0.77,0.84],\n",
        "                   [1.08**2,1.07**2,0.97**2,0.77**2,0.84**2],\n",
        "                  [1.08**3,1.07**3,0.97**3,0.77**3,0.84**3]]).transpose()\n",
        "Y = np.array([0, 0.07*0.94176, 0.18*0.94176, 0.2*0.94176, 0.09*0.94176])\n",
        "\n",
        "print(jnp.linalg.inv(X.T @ X)@(X.T@Y))\n",
        "print(X.dot(jnp.linalg.inv(X.T @ X)@(X.T@Y)))"
      ],
      "execution_count": null,
      "outputs": [
        {
          "output_type": "stream",
          "name": "stdout",
          "text": [
            "[ 13.498047 -45.09375   50.671875 -18.945312]\n",
            "[0.03483438 0.0531416  0.14340137 0.17005371 0.14440937]\n"
          ]
        }
      ]
    },
    {
      "cell_type": "code",
      "metadata": {
        "id": "-NX6wMUgxs84",
        "colab": {
          "base_uri": "https://localhost:8080/"
        },
        "outputId": "7ea96e26-4788-4919-9294-02e5ce2e0ee8"
      },
      "source": [
        "# change from CF matrix to CF array\n",
        "# put\n",
        "# large numpaths & numsteps to test price here\n",
        "# use lax.scan\n",
        "# replace X=0 and Y=0 for OTM\n",
        "# add inner loop for multiple batches: can have more numpaths by increasing numbatches\n",
        "# if run out of memory, try restarting the session\n",
        "\n",
        "import jax\n",
        "import jax.numpy as jnp\n",
        "from jax import random\n",
        "from jax import jit\n",
        "import numpy as np\n",
        "\n",
        "def Brownian_motion(key, initial_stocks, numsteps, drift, cov, T):\n",
        "    stocks_init = jnp.zeros((numsteps + 1, initial_stocks.shape[0]))\n",
        "    stocks_init = jax.ops.index_update(stocks_init,   # jax.ops.index_update(x, idx, y) <-> Pure equivalent of x[idx] = y\n",
        "                            jax.ops.index[0],         # initialization of stock prices\n",
        "                            initial_stocks)\n",
        "    noise = jax.random.multivariate_normal(key,  jnp.array([0]*initial_stocks.shape[0]), cov, (numsteps+1,)) # noise must have mean 0\n",
        "    sigma = jnp.diag(cov) ** 0.5\n",
        "    dt = T / numsteps\n",
        "    def time_step(t, val):\n",
        "        dx = jnp.exp((drift - sigma ** 2. / 2.) * dt + jnp.sqrt(dt) * noise[t,:])\n",
        "        val = jax.ops.index_update(val,\n",
        "                            jax.ops.index[t],\n",
        "                            val[t-1] * dx)\n",
        "        return val\n",
        "    return jax.lax.fori_loop(1, numsteps+1, time_step, stocks_init)[1:] # jax.lax.fori_loop(lower, upper, body_fun, init_val)\n",
        "\n",
        "def optionvalueavg(key, initial_stocks, numsteps, drift, r, cov, K, T, numpaths):  \n",
        "  numbatches = 10 # if numbatches is larger, max numpaths can be larger. Note: the larger the numbatches, the longer the computation will take\n",
        "  batched_b = jax.vmap(Brownian_motion, in_axes=(0, None, None, None, None, None))\n",
        "  \n",
        "  # out = batch_simple(keys, initial_stocks, numsteps, drift, cov, T)\n",
        "  out_avg = jnp.mean(batched_b(keys, initial_stocks, numsteps, drift, cov, T), axis=2)\n",
        "\n",
        "  dt = T / numsteps\n",
        "  ITM_matrix = out_avg <= K # matrix that is true if ITM, else false\n",
        "  CF_array = jnp.maximum(K-out_avg[:,-1], 0) # array that will store discounted cash flows for the next time period\n",
        "\n",
        "  def for_loop(numsteps, r, K, dt, ITM_matrix, CF_array, numpaths, numbatches):\n",
        "    def body_fun(val, i):\n",
        "      ITM_boolean = ITM_matrix[:,-i]\n",
        "      X = jnp.where(ITM_boolean, out_avg[:,-i], 0) # if ITM, use out_avg, if not, use 0\n",
        "      val = (val * jnp.exp(-r * dt)) # discount CF_array by one step\n",
        "      Y = jnp.where(ITM_boolean, val, 0) # if ITM, Y = CF array, if not, use 0\n",
        "      X_matrix = jnp.array([X**0,X**1,X**2,X**3]).transpose()\n",
        "\n",
        "      ECV = jnp.zeros(numpaths) # initialize ECV array with 0's\n",
        "      X_matrix_3D = X_matrix.reshape((numbatches, -1, 4))\n",
        "      Y_3D = Y.reshape((numbatches, -1))\n",
        "      ITM_boolean_3D = ITM_boolean.reshape((numbatches, -1))\n",
        "\n",
        "      # inner loop (more batches so that numpaths can be larger without running out of memory)\n",
        "      def ECV_fun(val_2, i_2):\n",
        "        ECV_sub = X_matrix_3D[i_2].dot(jax.numpy.linalg.lstsq(X_matrix_3D[i_2], Y_3D[i_2], rcond=-1)[0]) # predicted Y - ECV - expected continue value\n",
        "        ECV_sub = jnp.where(ITM_boolean_3D[i_2], ECV_sub, 10000) # replace not ITM ECV by 10000 (so that K-X < ECV)\n",
        "        val_2 = jax.lax.dynamic_update_slice(val_2,\n",
        "                                             ECV_sub,\n",
        "                                             ((numpaths*i_2/numbatches).astype(int),)) # update the part for this batch in ECV array\n",
        "        return val_2, i_2\n",
        "\n",
        "      counts_2 = jnp.arange(numbatches)\n",
        "      ECV, _ =  jax.lax.scan(ECV_fun, ECV, counts_2)\n",
        "\n",
        "      # update CF_array\n",
        "      KX_larger_than_ECV = (K-X > ECV)\n",
        "      val = KX_larger_than_ECV*(K-X) + (1-KX_larger_than_ECV)*val\n",
        "      return val, i\n",
        "\n",
        "    counts = jnp.arange(2, numsteps+1)\n",
        "    CF_array, _ =  jax.lax.scan(body_fun, CF_array, counts)\n",
        "    return (CF_array * jnp.exp(-r * dt)).mean()\n",
        "\n",
        "  CF_out = for_loop(numsteps, r[0], K, dt, ITM_matrix, CF_array, numpaths, numbatches)\n",
        "  return CF_out\n",
        "\n",
        "numstocks = 1\n",
        "numpaths = 100000\n",
        "numsteps = 50\n",
        "\n",
        "rng = jax.random.PRNGKey(np.random.randint(10000))\n",
        "rng, key = jax.random.split(rng)\n",
        "drift = jnp.array([0.05]*numstocks)\n",
        "r = drift\n",
        "\n",
        "cov = jnp.identity(numstocks)*0.25*0.25\n",
        "initial_stocks = jnp.array([1.]*numstocks) # must be float\n",
        "\n",
        "T = 1.0\n",
        "K = 1.0\n",
        "\n",
        "#fast_simple = jax.jit(Brownian_motion, static_argnums=2)\n",
        "\n",
        "keys = jax.random.split(key, numpaths)\n",
        "#batch_simple = jax.vmap(fast_simple, in_axes=(0, None, None, None, None, None))\n",
        "\n",
        "fast_ov = jax.jit(optionvalueavg, static_argnums=(2, 8))\n",
        "\n",
        "# option price\n",
        "print(fast_ov(key, initial_stocks, numsteps, drift, r, cov, K, T, numpaths))\n",
        "%timeit(fast_ov(key, initial_stocks, numsteps, drift, r, cov, K, T, numpaths))\n",
        "\n",
        "# delta\n",
        "goptionvalueavg = jax.grad(fast_ov,argnums=1)\n",
        "print(goptionvalueavg(keys, initial_stocks, numsteps, drift, r, cov, K, T, numpaths))\n",
        "%timeit(goptionvalueavg(keys, initial_stocks, numsteps, drift, r, cov, K, T, numpaths))"
      ],
      "execution_count": 2,
      "outputs": [
        {
          "output_type": "stream",
          "name": "stdout",
          "text": [
            "0.080257475\n",
            "10 loops, best of 5: 178 ms per loop\n",
            "[-0.40965283]\n",
            "1 loop, best of 5: 2.24 s per loop\n"
          ]
        }
      ]
    },
    {
      "cell_type": "code",
      "metadata": {
        "colab": {
          "base_uri": "https://localhost:8080/"
        },
        "id": "NaqOin89VyC3",
        "outputId": "9650bae7-a0e1-4825-8f16-fe4b2f1f2dcd"
      },
      "source": [
        "# # change from CF matrix to CF array\n",
        "# # put\n",
        "# # large numpaths & numsteps to test price here\n",
        "# # use lax.scan\n",
        "# # replace X=0 and Y=0 for OTM\n",
        "# # add inner loop for multiple batches: can have more numpaths by increasing numbatches\n",
        "# # if run out of memory, try restarting the session\n",
        "\n",
        "# import jax\n",
        "# import jax.numpy as jnp\n",
        "# from jax import random\n",
        "# from jax import jit\n",
        "# import numpy as np\n",
        "\n",
        "# def Brownian_motion(key, initial_stocks, numsteps, drift, cov, T):\n",
        "#     stocks_init = jnp.zeros((numsteps + 1, initial_stocks.shape[0]))\n",
        "#     stocks_init = jax.ops.index_update(stocks_init,   # jax.ops.index_update(x, idx, y) <-> Pure equivalent of x[idx] = y\n",
        "#                             jax.ops.index[0],         # initialization of stock prices\n",
        "#                             initial_stocks)\n",
        "#     noise = jax.random.multivariate_normal(key,  jnp.array([0]*initial_stocks.shape[0]), cov, (numsteps+1,)) # noise must have mean 0\n",
        "#     sigma = jnp.diag(cov) ** 0.5\n",
        "#     dt = T / numsteps\n",
        "#     def time_step(t, val):\n",
        "#         dx = jnp.exp((drift - sigma ** 2. / 2.) * dt + jnp.sqrt(dt) * noise[t,:])\n",
        "#         val = jax.ops.index_update(val,\n",
        "#                             jax.ops.index[t],\n",
        "#                             val[t-1] * dx)\n",
        "#         return val\n",
        "#     return jax.lax.fori_loop(1, numsteps+1, time_step, stocks_init)[1:] # jax.lax.fori_loop(lower, upper, body_fun, init_val)\n",
        "\n",
        "# def optionvalueavg(key, initial_stocks, numsteps, drift, r, cov, K, T, numpaths):  \n",
        "#   batched_b = jax.vmap(Brownian_motion, in_axes=(0, None, None, None, None, None))\n",
        "#   out_avg = jnp.mean(batched_b(keys, initial_stocks, numsteps, drift, cov, T), axis=2)\n",
        "\n",
        "#   dt = T / numsteps\n",
        "#   ITM_matrix = out_avg <= K # matrix that is true if ITM, else false\n",
        "#   CF_array = jnp.maximum(K-out_avg[:,-1], 0) # array that will store discounted cash flows for the next time period\n",
        "\n",
        "#   def for_loop(numsteps, r, K, dt, ITM_matrix, CF_array):\n",
        "#     def body_fun(val, i):\n",
        "#       ITM_boolean = ITM_matrix[:,-i]\n",
        "#       X = jnp.where(ITM_boolean, out_avg[:,-i], 0) # if ITM, use out_avg, if not, use 0\n",
        "#       val = (val * jnp.exp(-r * dt)) # discount CF_array by one step\n",
        "#       Y = jnp.where(ITM_boolean, val, 0) # if ITM, Y = CF array, if not, use 0\n",
        "#       X_matrix = jnp.array([X**0,X**1,X**2,X**3]).transpose()\n",
        "      \n",
        "#       #ECV = X_matrix.dot(jax.numpy.linalg.lstsq(X_matrix, Y, rcond=-1)[0]) # predicted Y - ECV - expected continue value\n",
        "#       ECV = X_matrix.dot(jnp.linalg.inv(X_matrix.T @ X_matrix)@(X_matrix.T@Y)) # predicted Y - ECV - expected continue value\n",
        "#       ECV = jnp.where(ITM_boolean, ECV, 10000) # replace not ITM ECV by 10000 (so that K-X < ECV)\n",
        "\n",
        "#       # update CF_array\n",
        "#       KX_larger_than_ECV = (K-X > ECV)\n",
        "#       val = KX_larger_than_ECV*(K-X) + (1-KX_larger_than_ECV)*val\n",
        "#       return val, i\n",
        "\n",
        "#     counts = jnp.arange(2, numsteps+1)\n",
        "#     CF_array, _ =  jax.lax.scan(body_fun, CF_array, counts)\n",
        "#     return (CF_array * jnp.exp(-r * dt)).mean()\n",
        "\n",
        "#   CF_out = for_loop(numsteps, r[0], K, dt, ITM_matrix, CF_array)\n",
        "#   return CF_out\n",
        "  \n",
        "# numstocks = 1\n",
        "# numpaths = 100000\n",
        "# numsteps = 200\n",
        "\n",
        "# rng = jax.random.PRNGKey(np.random.randint(10000))\n",
        "# rng, key = jax.random.split(rng)\n",
        "# drift = jnp.array([0.05]*numstocks)\n",
        "# r = drift\n",
        "\n",
        "# cov = jnp.identity(numstocks)*0.25*0.25\n",
        "# initial_stocks = jnp.array([1.]*numstocks) # must be float\n",
        "\n",
        "# T = 1.0\n",
        "# K = 1.0\n",
        "\n",
        "# #fast_simple = jax.jit(Brownian_motion, static_argnums=2)\n",
        "\n",
        "# keys = jax.random.split(key, numpaths)\n",
        "# #batch_simple = jax.vmap(fast_simple, in_axes=(0, None, None, None, None, None))\n",
        "\n",
        "# fast_ov = jax.jit(optionvalueavg, static_argnums=(2, 8))\n",
        "\n",
        "# # option price\n",
        "# print(fast_ov(key, initial_stocks, numsteps, drift, r, cov, K, T, numpaths))\n",
        "# %timeit(fast_ov(key, initial_stocks, numsteps, drift, r, cov, K, T, numpaths))\n",
        "\n",
        "# # delta\n",
        "# goptionvalueavg = jax.grad(fast_ov,argnums=1)\n",
        "# print(goptionvalueavg(keys, initial_stocks, numsteps, drift, r, cov, K, T, numpaths))\n",
        "# %timeit(goptionvalueavg(keys, initial_stocks, numsteps, drift, r, cov, K, T, numpaths))"
      ],
      "execution_count": null,
      "outputs": [
        {
          "output_type": "stream",
          "name": "stdout",
          "text": [
            "0.041642092\n",
            "10 loops, best of 5: 143 ms per loop\n",
            "[-0.73047256]\n",
            "10 loops, best of 5: 359 ms per loop\n"
          ]
        }
      ]
    }
  ]
}