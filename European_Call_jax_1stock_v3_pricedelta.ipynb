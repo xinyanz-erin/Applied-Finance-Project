{
  "nbformat": 4,
  "nbformat_minor": 0,
  "metadata": {
    "colab": {
      "name": "European_Call_jax.ipynb",
      "provenance": [],
      "include_colab_link": true
    },
    "kernelspec": {
      "name": "python3",
      "display_name": "Python 3"
    },
    "language_info": {
      "name": "python"
    },
    "accelerator": "GPU"
  },
  "cells": [
    {
      "cell_type": "markdown",
      "metadata": {
        "id": "view-in-github",
        "colab_type": "text"
      },
      "source": [
        "<a href=\"https://colab.research.google.com/github/xinyanz-erin/Applied-Finance-Project/blob/Lilian/European_Call_jax_1stock_v3_pricedelta.ipynb\" target=\"_parent\"><img src=\"https://colab.research.google.com/assets/colab-badge.svg\" alt=\"Open In Colab\"/></a>"
      ]
    },
    {
      "cell_type": "markdown",
      "metadata": {
        "id": "v1RYKgBifCYw"
      },
      "source": [
        "# Test (Skip this if not trying to test, to make sure that functions are defined correctly in cells below without running this cell)"
      ]
    },
    {
      "cell_type": "code",
      "metadata": {
        "colab": {
          "base_uri": "https://localhost:8080/"
        },
        "id": "nWYfON_marpj",
        "outputId": "f93a26d6-822a-4bee-aae5-583707e18184"
      },
      "source": [
        "import jax\n",
        "import jax.numpy as jnp\n",
        "from jax import random\n",
        "from jax import jit\n",
        "import numpy as np\n",
        "from torch.utils.dlpack import from_dlpack\n",
        "\n",
        "def Brownian_motion(key, initial_stocks, numsteps, drift, cov, T):\n",
        "    stocks_init = jnp.zeros((numsteps + 1, initial_stocks.shape[0]))\n",
        "    stocks_init = jax.ops.index_update(stocks_init,   # jax.ops.index_update(x, idx, y) <-> Pure equivalent of x[idx] = y\n",
        "                            jax.ops.index[0],         # initialization of stock prices\n",
        "                            initial_stocks)\n",
        "    noise = jax.random.multivariate_normal(key,  jnp.array([0]*initial_stocks.shape[0]), cov, (numsteps+1,)) # noise must have mean 0\n",
        "    sigma = jnp.diag(cov) ** 0.5\n",
        "    dt = T / numsteps\n",
        "    def time_step(t, val):\n",
        "        dx = jnp.exp((drift - sigma ** 2. / 2.) * dt + jnp.sqrt(dt) * noise[t,:])\n",
        "        val = jax.ops.index_update(val,\n",
        "                            jax.ops.index[t],\n",
        "                            val[t-1] * dx)\n",
        "        return val\n",
        "    return jax.lax.fori_loop(1, numsteps+1, time_step, stocks_init)[1:] # jax.lax.fori_loop(lower, upper, body_fun, init_val)\n",
        "\n",
        "def optionvalueavg(key, initial_stocks, numsteps, drift, r, cov, K, T):\n",
        "  return jnp.mean((jnp.maximum(jnp.mean(batch_simple(keys, initial_stocks, numsteps, drift, cov, T)[:,-1,:], axis=1)-K,0)) * jnp.exp(-r[0] * T))\n",
        "\n",
        "numstocks = 1\n",
        "numsteps = 50\n",
        "numpaths = 1000000\n",
        "\n",
        "rng = jax.random.PRNGKey(np.random.randint(10000))\n",
        "rng, key = jax.random.split(rng)\n",
        "\n",
        "drift = jnp.array([0.0807]*numstocks)\n",
        "r = drift\n",
        "cov = jnp.identity(numstocks)*0.2597*0.2597\n",
        "initial_stocks = jnp.array([0.7178]*numstocks) # must be float\n",
        "T = 1.0\n",
        "K = 0.2106\n",
        "\n",
        "fast_simple = jax.jit(Brownian_motion, static_argnums=2)\n",
        "keys = jax.random.split(key, numpaths)\n",
        "batch_simple = jax.vmap(fast_simple, in_axes=(0, None, None, None, None, None))\n",
        "\n",
        "# option price\n",
        "print(optionvalueavg(key, initial_stocks, numsteps, drift, r, cov, K, T))\n",
        "#%timeit optionvalueavg(key, initial_stocks, numsteps, drift, r, cov, K, T)\n",
        "\n",
        "# delta test\n",
        "goptionvalueavg = jax.grad(optionvalueavg,argnums=1)\n",
        "print(goptionvalueavg(keys, initial_stocks, numsteps, drift, r, cov, K, T))\n",
        "#%timeit goptionvalueavg(keys, initial_stocks, numsteps, drift, r, cov, K, T)"
      ],
      "execution_count": 34,
      "outputs": [
        {
          "output_type": "stream",
          "name": "stdout",
          "text": [
            "0.5234334\n",
            "[0.9998683]\n"
          ]
        }
      ]
    },
    {
      "cell_type": "markdown",
      "metadata": {
        "id": "or2YUJ9cfEiF"
      },
      "source": [
        "# Construct Neural Net"
      ]
    },
    {
      "cell_type": "code",
      "metadata": {
        "id": "DxFUnc_iBVcU",
        "colab": {
          "base_uri": "https://localhost:8080/"
        },
        "outputId": "60d27b1a-e050-466e-c945-7e02af41ee42"
      },
      "source": [
        "%%writefile cupy_dataset.py\n",
        "# version 1, 2, 6\n",
        "import cupy\n",
        "import jax\n",
        "import jax.numpy as jnp\n",
        "from jax import random\n",
        "from jax import jit\n",
        "import numpy as np\n",
        "from torch.utils.dlpack import from_dlpack\n",
        "\n",
        "def Brownian_motion(key, initial_stocks, numsteps, drift, cov, T):\n",
        "    stocks_init = jnp.zeros((numsteps + 1, initial_stocks.shape[0]))\n",
        "    stocks_init = jax.ops.index_update(stocks_init,   # jax.ops.index_update(x, idx, y) <-> Pure equivalent of x[idx] = y\n",
        "                            jax.ops.index[0],         # initialization of stock prices\n",
        "                            initial_stocks)\n",
        "    noise = jax.random.multivariate_normal(key,  jnp.array([0]*initial_stocks.shape[0]), cov, (numsteps+1,)) # noise must have mean 0\n",
        "    sigma = jnp.diag(cov) ** 0.5\n",
        "    dt = T / numsteps\n",
        "    def time_step(t, val):\n",
        "        dx = jnp.exp((drift - sigma ** 2. / 2.) * dt + jnp.sqrt(dt) * noise[t,:])\n",
        "        val = jax.ops.index_update(val,\n",
        "                            jax.ops.index[t],\n",
        "                            val[t-1] * dx)\n",
        "        return val\n",
        "    return jax.lax.fori_loop(1, numsteps+1, time_step, stocks_init)[1:] # jax.lax.fori_loop(lower, upper, body_fun, init_val)\n",
        "\n",
        "def optionvalueavg(key, initial_stocks, numsteps, drift, r, cov, K, T, keys): # need to pass 'keys'\n",
        "    return jnp.mean((jnp.maximum(jnp.mean(batch_simple(keys, initial_stocks, numsteps, drift, cov, T)[:,-1,:], axis=1)-K,0)) * jnp.exp(-r[0] * T))\n",
        "\n",
        "###################################################################################################\n",
        "# these 2 functions must be defined outside class in order to be used in 'optionvalueavg' function\n",
        "fast_simple = jax.jit(Brownian_motion, static_argnums=2)\n",
        "batch_simple = jax.vmap(fast_simple, in_axes=(0, None, None, None, None, None))\n",
        "###################################################################################################\n",
        "\n",
        "class OptionDataSet(object):\n",
        "    \n",
        "    def __init__(self, max_len, number_path, batch, seed, stocks):\n",
        "        self.num = 0\n",
        "        self.max_length = max_len\n",
        "        self.N_PATHS = number_path\n",
        "        self.N_STEPS = 50\n",
        "        self.N_BATCH = batch\n",
        "        self.N_STOCKS = stocks\n",
        "        self.T = 1.0 # assume T = 1, use float here\n",
        "        self.seed = seed\n",
        "        np.random.seed(seed)\n",
        "        \n",
        "    def __len__(self):\n",
        "        return self.max_length\n",
        "        \n",
        "    def __iter__(self):\n",
        "        self.num = 0\n",
        "        return self\n",
        "    \n",
        "    def __next__(self):\n",
        "        if self.num >= self.max_length:\n",
        "            raise StopIteration\n",
        "        \n",
        "        Y = cupy.zeros((self.N_BATCH, 1 + self.N_STOCKS), dtype=cupy.float32) # output: price, delta1, delta2, delta3\n",
        "        X = cupy.zeros((self.N_BATCH, self.N_STOCKS * 6), dtype = cupy.float32)\n",
        "\n",
        "        for op in range(self.N_BATCH):\n",
        "          \n",
        "          rng = jax.random.PRNGKey(self.seed)\n",
        "          rng, key = jax.random.split(rng)\n",
        "\n",
        "          ################################################################################################### generate random input numbers\n",
        "\n",
        "          initial_stocks = jnp.array(0.75 + np.random.random(self.N_STOCKS) * 0.5)\n",
        "\n",
        "          corr = jnp.diag(jnp.array([1]*self.N_STOCKS)) # assume no correlation between stocks here\n",
        "          sigma = jnp.array(0.15 + np.random.random(self.N_STOCKS) * 0.3)\n",
        "          cov = (jnp.diag(sigma)).dot(corr).dot(jnp.diag(sigma))\n",
        "\n",
        "          r = jnp.repeat(jnp.array(0.25 + np.random.random(1) * 0.35), self.N_STOCKS)\n",
        "          drift = r\n",
        "\n",
        "          T = self.T\n",
        "          K = 0.75 + np.random.random(1) * 0.5\n",
        "\n",
        "          ###################################################################################################\n",
        "          ################################################################################################### apply functions to compute price and deltas\n",
        "          \n",
        "          keys = jax.random.split(key, self.N_PATHS)\n",
        "\n",
        "          European_Call_price = optionvalueavg(key, initial_stocks, self.N_STEPS, drift, r, cov, K, T, keys) # need to pass 'keys'\n",
        "          gooptionvalue = jax.grad(optionvalueavg, argnums=1)\n",
        "          Deltas = gooptionvalue(keys, initial_stocks, self.N_STEPS, drift, r, cov, K, T, keys) # need to pass 'keys'\n",
        "\n",
        "          ###################################################################################################\n",
        "          ################################################################################################### store input and output numbers in X and Y\n",
        "\n",
        "          Y[op, 0] = European_Call_price\n",
        "          Y[op, 1:] = cupy.array(Deltas, dtype=cupy.float32) # remember to change this!\n",
        "\n",
        "          # T, K, S, sigma, mu, r\n",
        "          paras = (jnp.repeat(jnp.array(T), self.N_STOCKS), jnp.repeat(jnp.array(K), self.N_STOCKS), initial_stocks, sigma, drift, r)\n",
        "          paras = np.column_stack(paras).reshape(1,-1)[0]\n",
        "          X[op,] = cupy.array(paras)\n",
        "\n",
        "          ###################################################################################################\n",
        "\n",
        "        self.num += 1\n",
        "        return (from_dlpack(X.toDlpack()), from_dlpack(Y.toDlpack()))\n",
        "\n",
        "\n",
        "# ds = OptionDataSet(max_len = 2, number_path = 1000000, batch = 2, seed = np.random.randint(10000), stocks=1) # for testing purpose, use constant seed. When training, change to random seed\n",
        "# for i in ds:\n",
        "#     print(i)"
      ],
      "execution_count": 35,
      "outputs": [
        {
          "output_type": "stream",
          "name": "stdout",
          "text": [
            "Overwriting cupy_dataset.py\n"
          ]
        }
      ]
    },
    {
      "cell_type": "code",
      "metadata": {
        "colab": {
          "base_uri": "https://localhost:8080/"
        },
        "id": "rN6JO9OBHdvv",
        "outputId": "dbbcdd5d-809a-4fb6-a29c-f5526622a250"
      },
      "source": [
        "%%writefile model.py\n",
        "# version 1,2\n",
        "import torch.nn as nn\n",
        "import torch.nn.functional as F\n",
        "import torch\n",
        "import numpy as np\n",
        "\n",
        "class Net(nn.Module):\n",
        "\n",
        "    def __init__(self, hidden=1024):\n",
        "        super(Net, self).__init__()\n",
        "        self.fc1 = nn.Linear(6*1, 32) # remember to change this!\n",
        "        self.fc2 = nn.Linear(32, 64)\n",
        "        self.fc3 = nn.Linear(64, 128)\n",
        "        self.fc4 = nn.Linear(128, 64)\n",
        "        self.fc5 = nn.Linear(64, 32)\n",
        "        self.fc6 = nn.Linear(32, 1) # 1 outputs: price\n",
        "        self.register_buffer('norm',\n",
        "                             torch.tensor([1.0, 0.5, 0.5, 0.3, 0.35, 0.35]*1)) # don't use numpy here - will give error later\n",
        "                                                                               # T, K, S, sigma, mu, r\n",
        "\n",
        "    def forward(self, x):\n",
        "        # normalize the parameter to range [0-1] \n",
        "        x = (x - torch.tensor([0.0, 0.75, 0.75, 0.15, 0.25, 0.25]*1).cuda()) / self.norm\n",
        "        x = F.elu(self.fc1(x))\n",
        "        x = F.elu(self.fc2(x))\n",
        "        x = F.elu(self.fc3(x))\n",
        "        x = F.elu(self.fc4(x))\n",
        "        x = F.elu(self.fc5(x))\n",
        "        return self.fc6(x)"
      ],
      "execution_count": 36,
      "outputs": [
        {
          "output_type": "stream",
          "name": "stdout",
          "text": [
            "Overwriting model.py\n"
          ]
        }
      ]
    },
    {
      "cell_type": "markdown",
      "metadata": {
        "id": "owSrICMvyZX0"
      },
      "source": [
        "# Train Neural Net"
      ]
    },
    {
      "cell_type": "code",
      "metadata": {
        "colab": {
          "base_uri": "https://localhost:8080/"
        },
        "id": "JlXD80xPNVc6",
        "outputId": "c285bc2e-046e-4cce-9e13-47c2ad2fd1a5"
      },
      "source": [
        "!pip install pytorch-ignite"
      ],
      "execution_count": 37,
      "outputs": [
        {
          "output_type": "stream",
          "name": "stdout",
          "text": [
            "Requirement already satisfied: pytorch-ignite in /usr/local/lib/python3.7/dist-packages (0.4.7)\n",
            "Requirement already satisfied: torch<2,>=1.3 in /usr/local/lib/python3.7/dist-packages (from pytorch-ignite) (1.9.0+cu111)\n",
            "Requirement already satisfied: typing-extensions in /usr/local/lib/python3.7/dist-packages (from torch<2,>=1.3->pytorch-ignite) (3.10.0.2)\n"
          ]
        }
      ]
    },
    {
      "cell_type": "code",
      "metadata": {
        "colab": {
          "base_uri": "https://localhost:8080/",
          "height": 1000
        },
        "id": "S3CyULkENYKb",
        "outputId": "90b1bfaf-1068-4081-ce2d-0e2775d39ddb"
      },
      "source": [
        "# version 2, 7\n",
        "# If memory is not enough, try changing parameters and restarting session\n",
        "# loss will converge\n",
        "\n",
        "from ignite.engine import Engine, Events\n",
        "from ignite.handlers import Timer\n",
        "from torch.nn import MSELoss\n",
        "from torch.optim import Adam\n",
        "from ignite.contrib.handlers.param_scheduler import CosineAnnealingScheduler\n",
        "from ignite.handlers import ModelCheckpoint\n",
        "from model import Net\n",
        "from cupy_dataset import OptionDataSet\n",
        "import numpy as np\n",
        "import torch\n",
        "from torch import Tensor\n",
        "from torch.autograd import grad\n",
        "timer = Timer(average=True)\n",
        "model = Net().cuda()\n",
        "loss_fn = MSELoss()\n",
        "optimizer = Adam(model.parameters(), lr=1e-3)\n",
        "dataset = OptionDataSet(max_len = 100, number_path = 100000, batch = 32, seed = np.random.randint(10000), stocks = 1) # must have random seed\n",
        "\n",
        "def train_update(engine, batch):\n",
        "    model.train()\n",
        "    optimizer.zero_grad()\n",
        "    x = batch[0]\n",
        "    y = batch[1]\n",
        "    y_pred = model(x)\n",
        "\n",
        "    def compute_deltas(x):\n",
        "      inputs = x\n",
        "      inputs.requires_grad = True\n",
        "      first_order_gradient = grad(model(inputs), inputs, create_graph=False)\n",
        "      return first_order_gradient[0][[2]]\n",
        "\n",
        "    deltas = torch.stack([compute_deltas(x) for x in torch.unbind(x)], dim=0)\n",
        "    y_pred = torch.cat((y_pred, deltas), 1)\n",
        "\n",
        "    adjusted_y2 = (1000 * y)**2\n",
        "    loss_weight = 1/adjusted_y2.mean(axis=0)\n",
        "    loss_weight_normalized = loss_weight/loss_weight.sum()\n",
        "\n",
        "\n",
        "    # loss_weight = torch.tensor([1, 1]).cuda()\n",
        "    loss_weight_normalized = loss_weight/loss_weight.sum()\n",
        "    loss = ((y_pred - y) ** 2 * loss_weight_normalized).mean(axis=0).sum() # compute weighted MSE between the 2 arrays\n",
        "\n",
        "    loss.backward()\n",
        "    optimizer.step()\n",
        "    return loss.item()\n",
        "\n",
        "trainer = Engine(train_update)\n",
        "log_interval = 20\n",
        "\n",
        "scheduler = CosineAnnealingScheduler(optimizer, 'lr', 1e-4, 1e-6, len(dataset))\n",
        "trainer.add_event_handler(Events.ITERATION_STARTED, scheduler)\n",
        "timer.attach(trainer,\n",
        "             start=Events.EPOCH_STARTED,\n",
        "             resume=Events.ITERATION_STARTED,\n",
        "             pause=Events.ITERATION_COMPLETED,\n",
        "             step=Events.ITERATION_COMPLETED)    \n",
        "@trainer.on(Events.ITERATION_COMPLETED)\n",
        "def log_training_loss(engine):\n",
        "    iter = (engine.state.iteration - 1) % len(dataset) + 1\n",
        "    if iter % log_interval == 0:\n",
        "        print('loss', engine.state.output, 'average time', timer.value(), 'iter num', iter) # print by multiplying 10000 -> easier to read (actual loss function isn't amplified)\n",
        "        \n",
        "trainer.run(dataset, max_epochs = 100)"
      ],
      "execution_count": 11,
      "outputs": [
        {
          "output_type": "stream",
          "name": "stdout",
          "text": [
            "loss 0.2062716782093048 average time 0.10656352285004686 iter num 20\n",
            "loss 0.13432049751281738 average time 0.07056057957499888 iter num 40\n",
            "loss 0.12389954924583435 average time 0.059221007983326975 iter num 60\n",
            "loss 0.12991727888584137 average time 0.052957659499986674 iter num 80\n",
            "loss 0.11826185882091522 average time 0.049439921269977274 iter num 100\n",
            "loss 0.12849104404449463 average time 0.10857568890000949 iter num 20\n",
            "loss 0.1043272539973259 average time 0.07135178270003735 iter num 40\n",
            "loss 0.09696900099515915 average time 0.05963810035000279 iter num 60\n",
            "loss 0.10477063059806824 average time 0.053337341862504675 iter num 80\n",
            "loss 0.08568607270717621 average time 0.04955751443999816 iter num 100\n",
            "loss 0.06308209151029587 average time 0.10624584450004022 iter num 20\n",
            "loss 0.05310133844614029 average time 0.07026628094998841 iter num 40\n",
            "loss 0.03729735314846039 average time 0.05832075093332302 iter num 60\n",
            "loss 0.03695716708898544 average time 0.05219103124998128 iter num 80\n",
            "loss 0.037650104612112045 average time 0.0486288410099678 iter num 100\n",
            "loss 0.021685315296053886 average time 0.1092325990499603 iter num 20\n",
            "loss 0.013930954970419407 average time 0.0720939556499843 iter num 40\n",
            "loss 0.005525235086679459 average time 0.05975600963334576 iter num 60\n",
            "loss 0.008208892308175564 average time 0.05369903426249038 iter num 80\n",
            "loss 0.006563468370586634 average time 0.04982341622001513 iter num 100\n",
            "loss 0.0036605107598006725 average time 0.10862933045002592 iter num 20\n",
            "loss 0.004891116637736559 average time 0.0712139809750056 iter num 40\n",
            "loss 0.003826669417321682 average time 0.058587358900020564 iter num 60\n",
            "loss 0.0039012543857097626 average time 0.05245311981251462 iter num 80\n",
            "loss 0.0033299080096185207 average time 0.04892680731002201 iter num 100\n",
            "loss 0.0024102528113871813 average time 0.10826679525007421 iter num 20\n",
            "loss 0.0020650976803153753 average time 0.07176401972500343 iter num 40\n",
            "loss 0.0021130964159965515 average time 0.059459304483334564 iter num 60\n",
            "loss 0.004028231371194124 average time 0.05321640599998432 iter num 80\n",
            "loss 0.0018334273481741548 average time 0.04949795370998345 iter num 100\n",
            "loss 0.003406150732189417 average time 0.10545864435000567 iter num 20\n",
            "loss 0.0021095515694469213 average time 0.07031521437498896 iter num 40\n",
            "loss 0.0031767338514328003 average time 0.05813864206667555 iter num 60\n",
            "loss 0.0029199919663369656 average time 0.05220015313752242 iter num 80\n",
            "loss 0.003968837670981884 average time 0.04893921790001514 iter num 100\n",
            "loss 0.0033885412849485874 average time 0.11188742500003172 iter num 20\n",
            "loss 0.002990742912515998 average time 0.07279510125003981 iter num 40\n",
            "loss 0.00523750577121973 average time 0.05963690531671091 iter num 60\n",
            "loss 0.002790641039609909 average time 0.053007057775062094 iter num 80\n",
            "loss 0.0017648423090577126 average time 0.049422553850017724 iter num 100\n",
            "loss 0.0043786559253931046 average time 0.10524481365000611 iter num 20\n",
            "loss 0.003973654471337795 average time 0.07009247829998913 iter num 40\n",
            "loss 0.002345878165215254 average time 0.05800100264996218 iter num 60\n",
            "loss 0.002290021162480116 average time 0.05211091674995032 iter num 80\n",
            "loss 0.0023571124766021967 average time 0.04853559016995859 iter num 100\n",
            "loss 0.0017364781815558672 average time 0.1052141317499263 iter num 20\n",
            "loss 0.002719908719882369 average time 0.07008152537489423 iter num 40\n",
            "loss 0.0026545103173702955 average time 0.05877160171659549 iter num 60\n",
            "loss 0.003110316349193454 average time 0.05303492092496072 iter num 80\n",
            "loss 0.004311221651732922 average time 0.04928016483996544 iter num 100\n",
            "loss 0.002496632281690836 average time 0.10499156904998017 iter num 20\n",
            "loss 0.004380126018077135 average time 0.06950374615000783 iter num 40\n",
            "loss 0.0013701517600566149 average time 0.05804127463338773 iter num 60\n",
            "loss 0.002503449097275734 average time 0.05212340667504804 iter num 80\n",
            "loss 0.0015330059686675668 average time 0.04835453852001592 iter num 100\n",
            "loss 0.004166906699538231 average time 0.10747021305005547 iter num 20\n",
            "loss 0.002168473321944475 average time 0.07132619702506418 iter num 40\n",
            "loss 0.0012934613041579723 average time 0.05892900506675384 iter num 60\n",
            "loss 0.003218797268345952 average time 0.052929367650074256 iter num 80\n",
            "loss 0.0036511323414742947 average time 0.04893024373004664 iter num 100\n",
            "loss 0.002072197152301669 average time 0.10663701324992872 iter num 20\n",
            "loss 0.002978949574753642 average time 0.06966732594996757 iter num 40\n",
            "loss 0.0033028621692210436 average time 0.05790700276664514 iter num 60\n",
            "loss 0.0038157158996909857 average time 0.05221273771248889 iter num 80\n",
            "loss 0.0019617967773228884 average time 0.04850969422996968 iter num 100\n",
            "loss 0.002475403482094407 average time 0.10552561764998244 iter num 20\n",
            "loss 0.002307331655174494 average time 0.07031417154996689 iter num 40\n",
            "loss 0.0037989541888237 average time 0.05842501216660215 iter num 60\n",
            "loss 0.0037322910502552986 average time 0.05236785854996242 iter num 80\n",
            "loss 0.0026000184006989002 average time 0.048677854129973636 iter num 100\n",
            "loss 0.002215147949755192 average time 0.10792654885003686 iter num 20\n",
            "loss 0.0011928683379665017 average time 0.0717811944000232 iter num 40\n",
            "loss 0.002243942115455866 average time 0.059467410000024756 iter num 60\n",
            "loss 0.004119665827602148 average time 0.053208800587492534 iter num 80\n",
            "loss 0.004815917927771807 average time 0.04934606689999782 iter num 100\n",
            "loss 0.001754437922500074 average time 0.10473942879993955 iter num 20\n",
            "loss 0.0009923011530190706 average time 0.06996171247494658 iter num 40\n",
            "loss 0.0029045292176306248 average time 0.05793842383325985 iter num 60\n",
            "loss 0.0013684270670637488 average time 0.05192075713742952 iter num 80\n",
            "loss 0.0023011579178273678 average time 0.04868425481996383 iter num 100\n",
            "loss 0.0025779257994145155 average time 0.10786932589999196 iter num 20\n",
            "loss 0.0032565253786742687 average time 0.07106954577498073 iter num 40\n",
            "loss 0.002435786183923483 average time 0.05917513968327815 iter num 60\n",
            "loss 0.003089764155447483 average time 0.05279230942495587 iter num 80\n",
            "loss 0.0011860009981319308 average time 0.04885079564995976 iter num 100\n",
            "loss 0.002299020066857338 average time 0.10669633229999817 iter num 20\n",
            "loss 0.0008221960160881281 average time 0.07058050550001553 iter num 40\n",
            "loss 0.0023288794327527285 average time 0.05839571681667621 iter num 60\n",
            "loss 0.002809982979670167 average time 0.05247495630000003 iter num 80\n",
            "loss 0.0017393893795087934 average time 0.0487243759699777 iter num 100\n",
            "loss 0.0023043937981128693 average time 0.10501171775008515 iter num 20\n",
            "loss 0.0017211723607033491 average time 0.06983692059995975 iter num 40\n",
            "loss 0.0015233199810609221 average time 0.05794619691666109 iter num 60\n",
            "loss 0.0025426058564335108 average time 0.05203344027501089 iter num 80\n",
            "loss 0.0022070398554205894 average time 0.04853750683999351 iter num 100\n",
            "loss 0.0018411024939268827 average time 0.10888917360002778 iter num 20\n",
            "loss 0.0015677642077207565 average time 0.0707282084000326 iter num 40\n",
            "loss 0.0009587917011231184 average time 0.058624715900032244 iter num 60\n",
            "loss 0.0010138354264199734 average time 0.052300216862511205 iter num 80\n",
            "loss 0.0012499310541898012 average time 0.048848848970010295 iter num 100\n",
            "loss 0.002050220500677824 average time 0.10511797945000581 iter num 20\n",
            "loss 0.0013442402705550194 average time 0.0693625210500386 iter num 40\n",
            "loss 0.0010692240903154016 average time 0.05799072234998069 iter num 60\n",
            "loss 0.0013137373607605696 average time 0.05197276981247114 iter num 80\n",
            "loss 0.0016652082558721304 average time 0.04852576667997709 iter num 100\n",
            "loss 0.0004622959531843662 average time 0.10598395374995562 iter num 20\n",
            "loss 0.003756537800654769 average time 0.06956802397498904 iter num 40\n",
            "loss 0.001442264299839735 average time 0.057590450716679696 iter num 60\n",
            "loss 0.00124460703227669 average time 0.051500070862493884 iter num 80\n",
            "loss 0.0016462422208860517 average time 0.04832372433001183 iter num 100\n",
            "loss 0.0013576480560004711 average time 0.10655209865003598 iter num 20\n",
            "loss 0.0013090460561215878 average time 0.07015007415000127 iter num 40\n",
            "loss 0.0010177436051890254 average time 0.05820834451665178 iter num 60\n",
            "loss 0.000680448254570365 average time 0.05260502777496186 iter num 80\n",
            "loss 0.0007278565317392349 average time 0.049026380949972005 iter num 100\n",
            "loss 0.0006649686256423593 average time 0.10526044900002489 iter num 20\n",
            "loss 0.0009251249139197171 average time 0.06949136677499154 iter num 40\n",
            "loss 0.0018679939676076174 average time 0.05788487198333314 iter num 60\n",
            "loss 0.0017057708464562893 average time 0.05193293443753646 iter num 80\n",
            "loss 0.0011589829809963703 average time 0.04838750384003106 iter num 100\n",
            "loss 0.0011361438082531095 average time 0.10701054179999119 iter num 20\n",
            "loss 0.0010740433353930712 average time 0.0702532754000913 iter num 40\n",
            "loss 0.0004949399153701961 average time 0.05772721936673406 iter num 60\n",
            "loss 0.0013018893077969551 average time 0.05172023666256109 iter num 80\n",
            "loss 0.001354408566839993 average time 0.04812845656003446 iter num 100\n",
            "loss 0.0008593675447627902 average time 0.10691798385005313 iter num 20\n",
            "loss 0.00045717478496953845 average time 0.07059586712498458 iter num 40\n",
            "loss 0.0015298016369342804 average time 0.059026003666698065 iter num 60\n",
            "loss 0.0008477882947772741 average time 0.05277120506248138 iter num 80\n",
            "loss 0.00044021615758538246 average time 0.04904593692998788 iter num 100\n",
            "loss 0.0011612627422437072 average time 0.10427351415000885 iter num 20\n",
            "loss 0.0005508590256795287 average time 0.06925127079998675 iter num 40\n",
            "loss 0.0008696636068634689 average time 0.0574771551333015 iter num 60\n",
            "loss 0.0008103192085400224 average time 0.051821936674980404 iter num 80\n",
            "loss 0.0007791981333866715 average time 0.0483952193699497 iter num 100\n",
            "loss 0.0003914883127436042 average time 0.10880695404998733 iter num 20\n",
            "loss 0.000621327490080148 average time 0.07132984302500063 iter num 40\n",
            "loss 0.000582728476729244 average time 0.05905347869999484 iter num 60\n",
            "loss 0.0008177179261110723 average time 0.05298308275001773 iter num 80\n",
            "loss 0.0007173529011197388 average time 0.049811953560019905 iter num 100\n",
            "loss 0.0022098810877650976 average time 0.10631450219998442 iter num 20\n",
            "loss 0.000640102312900126 average time 0.07022762514995975 iter num 40\n",
            "loss 0.001488308422267437 average time 0.058096241783308265 iter num 60\n",
            "loss 0.0012411840725690126 average time 0.05211082918751799 iter num 80\n",
            "loss 0.0011423375690355897 average time 0.048627479620026864 iter num 100\n",
            "loss 0.0006819737609475851 average time 0.10815192059994842 iter num 20\n"
          ]
        },
        {
          "output_type": "stream",
          "name": "stderr",
          "text": [
            "ERROR:ignite.engine.engine.Engine:Engine run is terminating due to exception: \n"
          ]
        },
        {
          "output_type": "error",
          "ename": "KeyboardInterrupt",
          "evalue": "ignored",
          "traceback": [
            "\u001b[0;31m---------------------------------------------------------------------------\u001b[0m",
            "\u001b[0;31mKeyboardInterrupt\u001b[0m                         Traceback (most recent call last)",
            "\u001b[0;32m<ipython-input-11-b20ab2470e23>\u001b[0m in \u001b[0;36m<module>\u001b[0;34m()\u001b[0m\n\u001b[1;32m     66\u001b[0m         \u001b[0mprint\u001b[0m\u001b[0;34m(\u001b[0m\u001b[0;34m'loss'\u001b[0m\u001b[0;34m,\u001b[0m \u001b[0mengine\u001b[0m\u001b[0;34m.\u001b[0m\u001b[0mstate\u001b[0m\u001b[0;34m.\u001b[0m\u001b[0moutput\u001b[0m\u001b[0;34m,\u001b[0m \u001b[0;34m'average time'\u001b[0m\u001b[0;34m,\u001b[0m \u001b[0mtimer\u001b[0m\u001b[0;34m.\u001b[0m\u001b[0mvalue\u001b[0m\u001b[0;34m(\u001b[0m\u001b[0;34m)\u001b[0m\u001b[0;34m,\u001b[0m \u001b[0;34m'iter num'\u001b[0m\u001b[0;34m,\u001b[0m \u001b[0miter\u001b[0m\u001b[0;34m)\u001b[0m \u001b[0;31m# print by multiplying 10000 -> easier to read (actual loss function isn't amplified)\u001b[0m\u001b[0;34m\u001b[0m\u001b[0;34m\u001b[0m\u001b[0m\n\u001b[1;32m     67\u001b[0m \u001b[0;34m\u001b[0m\u001b[0m\n\u001b[0;32m---> 68\u001b[0;31m \u001b[0mtrainer\u001b[0m\u001b[0;34m.\u001b[0m\u001b[0mrun\u001b[0m\u001b[0;34m(\u001b[0m\u001b[0mdataset\u001b[0m\u001b[0;34m,\u001b[0m \u001b[0mmax_epochs\u001b[0m \u001b[0;34m=\u001b[0m \u001b[0;36m100\u001b[0m\u001b[0;34m)\u001b[0m\u001b[0;34m\u001b[0m\u001b[0;34m\u001b[0m\u001b[0m\n\u001b[0m",
            "\u001b[0;32m/usr/local/lib/python3.7/dist-packages/ignite/engine/engine.py\u001b[0m in \u001b[0;36mrun\u001b[0;34m(self, data, max_epochs, epoch_length, seed)\u001b[0m\n\u001b[1;32m    696\u001b[0m \u001b[0;34m\u001b[0m\u001b[0m\n\u001b[1;32m    697\u001b[0m         \u001b[0mself\u001b[0m\u001b[0;34m.\u001b[0m\u001b[0mstate\u001b[0m\u001b[0;34m.\u001b[0m\u001b[0mdataloader\u001b[0m \u001b[0;34m=\u001b[0m \u001b[0mdata\u001b[0m\u001b[0;34m\u001b[0m\u001b[0;34m\u001b[0m\u001b[0m\n\u001b[0;32m--> 698\u001b[0;31m         \u001b[0;32mreturn\u001b[0m \u001b[0mself\u001b[0m\u001b[0;34m.\u001b[0m\u001b[0m_internal_run\u001b[0m\u001b[0;34m(\u001b[0m\u001b[0;34m)\u001b[0m\u001b[0;34m\u001b[0m\u001b[0;34m\u001b[0m\u001b[0m\n\u001b[0m\u001b[1;32m    699\u001b[0m \u001b[0;34m\u001b[0m\u001b[0m\n\u001b[1;32m    700\u001b[0m     \u001b[0;34m@\u001b[0m\u001b[0mstaticmethod\u001b[0m\u001b[0;34m\u001b[0m\u001b[0;34m\u001b[0m\u001b[0m\n",
            "\u001b[0;32m/usr/local/lib/python3.7/dist-packages/ignite/engine/engine.py\u001b[0m in \u001b[0;36m_internal_run\u001b[0;34m(self)\u001b[0m\n\u001b[1;32m    769\u001b[0m             \u001b[0mself\u001b[0m\u001b[0;34m.\u001b[0m\u001b[0m_dataloader_iter\u001b[0m \u001b[0;34m=\u001b[0m \u001b[0;32mNone\u001b[0m\u001b[0;34m\u001b[0m\u001b[0;34m\u001b[0m\u001b[0m\n\u001b[1;32m    770\u001b[0m             \u001b[0mself\u001b[0m\u001b[0;34m.\u001b[0m\u001b[0mlogger\u001b[0m\u001b[0;34m.\u001b[0m\u001b[0merror\u001b[0m\u001b[0;34m(\u001b[0m\u001b[0;34mf\"Engine run is terminating due to exception: {e}\"\u001b[0m\u001b[0;34m)\u001b[0m\u001b[0;34m\u001b[0m\u001b[0;34m\u001b[0m\u001b[0m\n\u001b[0;32m--> 771\u001b[0;31m             \u001b[0mself\u001b[0m\u001b[0;34m.\u001b[0m\u001b[0m_handle_exception\u001b[0m\u001b[0;34m(\u001b[0m\u001b[0me\u001b[0m\u001b[0;34m)\u001b[0m\u001b[0;34m\u001b[0m\u001b[0;34m\u001b[0m\u001b[0m\n\u001b[0m\u001b[1;32m    772\u001b[0m \u001b[0;34m\u001b[0m\u001b[0m\n\u001b[1;32m    773\u001b[0m         \u001b[0mself\u001b[0m\u001b[0;34m.\u001b[0m\u001b[0m_dataloader_iter\u001b[0m \u001b[0;34m=\u001b[0m \u001b[0;32mNone\u001b[0m\u001b[0;34m\u001b[0m\u001b[0;34m\u001b[0m\u001b[0m\n",
            "\u001b[0;32m/usr/local/lib/python3.7/dist-packages/ignite/engine/engine.py\u001b[0m in \u001b[0;36m_handle_exception\u001b[0;34m(self, e)\u001b[0m\n\u001b[1;32m    464\u001b[0m             \u001b[0mself\u001b[0m\u001b[0;34m.\u001b[0m\u001b[0m_fire_event\u001b[0m\u001b[0;34m(\u001b[0m\u001b[0mEvents\u001b[0m\u001b[0;34m.\u001b[0m\u001b[0mEXCEPTION_RAISED\u001b[0m\u001b[0;34m,\u001b[0m \u001b[0me\u001b[0m\u001b[0;34m)\u001b[0m\u001b[0;34m\u001b[0m\u001b[0;34m\u001b[0m\u001b[0m\n\u001b[1;32m    465\u001b[0m         \u001b[0;32melse\u001b[0m\u001b[0;34m:\u001b[0m\u001b[0;34m\u001b[0m\u001b[0;34m\u001b[0m\u001b[0m\n\u001b[0;32m--> 466\u001b[0;31m             \u001b[0;32mraise\u001b[0m \u001b[0me\u001b[0m\u001b[0;34m\u001b[0m\u001b[0;34m\u001b[0m\u001b[0m\n\u001b[0m\u001b[1;32m    467\u001b[0m \u001b[0;34m\u001b[0m\u001b[0m\n\u001b[1;32m    468\u001b[0m     \u001b[0;34m@\u001b[0m\u001b[0mproperty\u001b[0m\u001b[0;34m\u001b[0m\u001b[0;34m\u001b[0m\u001b[0m\n",
            "\u001b[0;32m/usr/local/lib/python3.7/dist-packages/ignite/engine/engine.py\u001b[0m in \u001b[0;36m_internal_run\u001b[0;34m(self)\u001b[0m\n\u001b[1;32m    739\u001b[0m                     \u001b[0mself\u001b[0m\u001b[0;34m.\u001b[0m\u001b[0m_setup_engine\u001b[0m\u001b[0;34m(\u001b[0m\u001b[0;34m)\u001b[0m\u001b[0;34m\u001b[0m\u001b[0;34m\u001b[0m\u001b[0m\n\u001b[1;32m    740\u001b[0m \u001b[0;34m\u001b[0m\u001b[0m\n\u001b[0;32m--> 741\u001b[0;31m                 \u001b[0mtime_taken\u001b[0m \u001b[0;34m=\u001b[0m \u001b[0mself\u001b[0m\u001b[0;34m.\u001b[0m\u001b[0m_run_once_on_dataset\u001b[0m\u001b[0;34m(\u001b[0m\u001b[0;34m)\u001b[0m\u001b[0;34m\u001b[0m\u001b[0;34m\u001b[0m\u001b[0m\n\u001b[0m\u001b[1;32m    742\u001b[0m                 \u001b[0;31m# time is available for handlers but must be update after fire\u001b[0m\u001b[0;34m\u001b[0m\u001b[0;34m\u001b[0m\u001b[0;34m\u001b[0m\u001b[0m\n\u001b[1;32m    743\u001b[0m                 \u001b[0mself\u001b[0m\u001b[0;34m.\u001b[0m\u001b[0mstate\u001b[0m\u001b[0;34m.\u001b[0m\u001b[0mtimes\u001b[0m\u001b[0;34m[\u001b[0m\u001b[0mEvents\u001b[0m\u001b[0;34m.\u001b[0m\u001b[0mEPOCH_COMPLETED\u001b[0m\u001b[0;34m.\u001b[0m\u001b[0mname\u001b[0m\u001b[0;34m]\u001b[0m \u001b[0;34m=\u001b[0m \u001b[0mtime_taken\u001b[0m\u001b[0;34m\u001b[0m\u001b[0;34m\u001b[0m\u001b[0m\n",
            "\u001b[0;32m/usr/local/lib/python3.7/dist-packages/ignite/engine/engine.py\u001b[0m in \u001b[0;36m_run_once_on_dataset\u001b[0;34m(self)\u001b[0m\n\u001b[1;32m    796\u001b[0m                     \u001b[0;32mif\u001b[0m \u001b[0mself\u001b[0m\u001b[0;34m.\u001b[0m\u001b[0mlast_event_name\u001b[0m \u001b[0;34m!=\u001b[0m \u001b[0mEvents\u001b[0m\u001b[0;34m.\u001b[0m\u001b[0mDATALOADER_STOP_ITERATION\u001b[0m\u001b[0;34m:\u001b[0m\u001b[0;34m\u001b[0m\u001b[0;34m\u001b[0m\u001b[0m\n\u001b[1;32m    797\u001b[0m                         \u001b[0mself\u001b[0m\u001b[0;34m.\u001b[0m\u001b[0m_fire_event\u001b[0m\u001b[0;34m(\u001b[0m\u001b[0mEvents\u001b[0m\u001b[0;34m.\u001b[0m\u001b[0mGET_BATCH_STARTED\u001b[0m\u001b[0;34m)\u001b[0m\u001b[0;34m\u001b[0m\u001b[0;34m\u001b[0m\u001b[0m\n\u001b[0;32m--> 798\u001b[0;31m                     \u001b[0mself\u001b[0m\u001b[0;34m.\u001b[0m\u001b[0mstate\u001b[0m\u001b[0;34m.\u001b[0m\u001b[0mbatch\u001b[0m \u001b[0;34m=\u001b[0m \u001b[0mnext\u001b[0m\u001b[0;34m(\u001b[0m\u001b[0mself\u001b[0m\u001b[0;34m.\u001b[0m\u001b[0m_dataloader_iter\u001b[0m\u001b[0;34m)\u001b[0m\u001b[0;34m\u001b[0m\u001b[0;34m\u001b[0m\u001b[0m\n\u001b[0m\u001b[1;32m    799\u001b[0m                     \u001b[0mself\u001b[0m\u001b[0;34m.\u001b[0m\u001b[0m_fire_event\u001b[0m\u001b[0;34m(\u001b[0m\u001b[0mEvents\u001b[0m\u001b[0;34m.\u001b[0m\u001b[0mGET_BATCH_COMPLETED\u001b[0m\u001b[0;34m)\u001b[0m\u001b[0;34m\u001b[0m\u001b[0;34m\u001b[0m\u001b[0m\n\u001b[1;32m    800\u001b[0m                     \u001b[0miter_counter\u001b[0m \u001b[0;34m+=\u001b[0m \u001b[0;36m1\u001b[0m\u001b[0;34m\u001b[0m\u001b[0;34m\u001b[0m\u001b[0m\n",
            "\u001b[0;32m/content/cupy_dataset.py\u001b[0m in \u001b[0;36m__next__\u001b[0;34m(self)\u001b[0m\n\u001b[1;32m     67\u001b[0m           \u001b[0;31m################################################################################################### generate random input numbers\u001b[0m\u001b[0;34m\u001b[0m\u001b[0;34m\u001b[0m\u001b[0;34m\u001b[0m\u001b[0m\n\u001b[1;32m     68\u001b[0m \u001b[0;34m\u001b[0m\u001b[0m\n\u001b[0;32m---> 69\u001b[0;31m           \u001b[0minitial_stocks\u001b[0m \u001b[0;34m=\u001b[0m \u001b[0mjnp\u001b[0m\u001b[0;34m.\u001b[0m\u001b[0marray\u001b[0m\u001b[0;34m(\u001b[0m\u001b[0;36m0.75\u001b[0m \u001b[0;34m+\u001b[0m \u001b[0mnp\u001b[0m\u001b[0;34m.\u001b[0m\u001b[0mrandom\u001b[0m\u001b[0;34m.\u001b[0m\u001b[0mrandom\u001b[0m\u001b[0;34m(\u001b[0m\u001b[0mself\u001b[0m\u001b[0;34m.\u001b[0m\u001b[0mN_STOCKS\u001b[0m\u001b[0;34m)\u001b[0m \u001b[0;34m*\u001b[0m \u001b[0;36m0.5\u001b[0m\u001b[0;34m)\u001b[0m\u001b[0;34m\u001b[0m\u001b[0;34m\u001b[0m\u001b[0m\n\u001b[0m\u001b[1;32m     70\u001b[0m \u001b[0;34m\u001b[0m\u001b[0m\n\u001b[1;32m     71\u001b[0m           \u001b[0mcorr\u001b[0m \u001b[0;34m=\u001b[0m \u001b[0mjnp\u001b[0m\u001b[0;34m.\u001b[0m\u001b[0mdiag\u001b[0m\u001b[0;34m(\u001b[0m\u001b[0mjnp\u001b[0m\u001b[0;34m.\u001b[0m\u001b[0marray\u001b[0m\u001b[0;34m(\u001b[0m\u001b[0;34m[\u001b[0m\u001b[0;36m1\u001b[0m\u001b[0;34m]\u001b[0m\u001b[0;34m*\u001b[0m\u001b[0mself\u001b[0m\u001b[0;34m.\u001b[0m\u001b[0mN_STOCKS\u001b[0m\u001b[0;34m)\u001b[0m\u001b[0;34m)\u001b[0m \u001b[0;31m# assume no correlation between stocks here\u001b[0m\u001b[0;34m\u001b[0m\u001b[0;34m\u001b[0m\u001b[0m\n",
            "\u001b[0;32m/usr/local/lib/python3.7/dist-packages/jax/_src/numpy/lax_numpy.py\u001b[0m in \u001b[0;36marray\u001b[0;34m(object, dtype, copy, order, ndmin)\u001b[0m\n\u001b[1;32m   3567\u001b[0m     \u001b[0;32mraise\u001b[0m \u001b[0mTypeError\u001b[0m\u001b[0;34m(\u001b[0m\u001b[0;34m\"Unexpected input type for array: {}\"\u001b[0m\u001b[0;34m.\u001b[0m\u001b[0mformat\u001b[0m\u001b[0;34m(\u001b[0m\u001b[0mtype\u001b[0m\u001b[0;34m(\u001b[0m\u001b[0mobject\u001b[0m\u001b[0;34m)\u001b[0m\u001b[0;34m)\u001b[0m\u001b[0;34m)\u001b[0m\u001b[0;34m\u001b[0m\u001b[0;34m\u001b[0m\u001b[0m\n\u001b[1;32m   3568\u001b[0m \u001b[0;34m\u001b[0m\u001b[0m\n\u001b[0;32m-> 3569\u001b[0;31m   \u001b[0mout\u001b[0m \u001b[0;34m=\u001b[0m \u001b[0mlax\u001b[0m\u001b[0;34m.\u001b[0m\u001b[0m_convert_element_type\u001b[0m\u001b[0;34m(\u001b[0m\u001b[0mout\u001b[0m\u001b[0;34m,\u001b[0m \u001b[0mdtype\u001b[0m\u001b[0;34m,\u001b[0m \u001b[0mweak_type\u001b[0m\u001b[0;34m=\u001b[0m\u001b[0mweak_type\u001b[0m\u001b[0;34m)\u001b[0m\u001b[0;34m\u001b[0m\u001b[0;34m\u001b[0m\u001b[0m\n\u001b[0m\u001b[1;32m   3570\u001b[0m \u001b[0;34m\u001b[0m\u001b[0m\n\u001b[1;32m   3571\u001b[0m   \u001b[0;32mif\u001b[0m \u001b[0mndmin\u001b[0m \u001b[0;34m>\u001b[0m \u001b[0mndim\u001b[0m\u001b[0;34m(\u001b[0m\u001b[0mout\u001b[0m\u001b[0;34m)\u001b[0m\u001b[0;34m:\u001b[0m\u001b[0;34m\u001b[0m\u001b[0;34m\u001b[0m\u001b[0m\n",
            "\u001b[0;32m/usr/local/lib/python3.7/dist-packages/jax/_src/lax/lax.py\u001b[0m in \u001b[0;36m_convert_element_type\u001b[0;34m(operand, new_dtype, weak_type)\u001b[0m\n\u001b[1;32m    459\u001b[0m   \u001b[0;32melse\u001b[0m\u001b[0;34m:\u001b[0m\u001b[0;34m\u001b[0m\u001b[0;34m\u001b[0m\u001b[0m\n\u001b[1;32m    460\u001b[0m     return convert_element_type_p.bind(operand, new_dtype=new_dtype,\n\u001b[0;32m--> 461\u001b[0;31m                                        weak_type=new_weak_type)\n\u001b[0m\u001b[1;32m    462\u001b[0m \u001b[0;34m\u001b[0m\u001b[0m\n\u001b[1;32m    463\u001b[0m \u001b[0;32mdef\u001b[0m \u001b[0mbitcast_convert_type\u001b[0m\u001b[0;34m(\u001b[0m\u001b[0moperand\u001b[0m\u001b[0;34m:\u001b[0m \u001b[0mArray\u001b[0m\u001b[0;34m,\u001b[0m \u001b[0mnew_dtype\u001b[0m\u001b[0;34m:\u001b[0m \u001b[0mDType\u001b[0m\u001b[0;34m)\u001b[0m \u001b[0;34m->\u001b[0m \u001b[0mArray\u001b[0m\u001b[0;34m:\u001b[0m\u001b[0;34m\u001b[0m\u001b[0;34m\u001b[0m\u001b[0m\n",
            "\u001b[0;32m/usr/local/lib/python3.7/dist-packages/jax/core.py\u001b[0m in \u001b[0;36mbind\u001b[0;34m(self, *args, **params)\u001b[0m\n\u001b[1;32m    265\u001b[0m         args, used_axis_names(self, params) if self._dispatch_on_params else None)\n\u001b[1;32m    266\u001b[0m     \u001b[0mtracers\u001b[0m \u001b[0;34m=\u001b[0m \u001b[0mmap\u001b[0m\u001b[0;34m(\u001b[0m\u001b[0mtop_trace\u001b[0m\u001b[0;34m.\u001b[0m\u001b[0mfull_raise\u001b[0m\u001b[0;34m,\u001b[0m \u001b[0margs\u001b[0m\u001b[0;34m)\u001b[0m\u001b[0;34m\u001b[0m\u001b[0;34m\u001b[0m\u001b[0m\n\u001b[0;32m--> 267\u001b[0;31m     \u001b[0mout\u001b[0m \u001b[0;34m=\u001b[0m \u001b[0mtop_trace\u001b[0m\u001b[0;34m.\u001b[0m\u001b[0mprocess_primitive\u001b[0m\u001b[0;34m(\u001b[0m\u001b[0mself\u001b[0m\u001b[0;34m,\u001b[0m \u001b[0mtracers\u001b[0m\u001b[0;34m,\u001b[0m \u001b[0mparams\u001b[0m\u001b[0;34m)\u001b[0m\u001b[0;34m\u001b[0m\u001b[0;34m\u001b[0m\u001b[0m\n\u001b[0m\u001b[1;32m    268\u001b[0m     \u001b[0;32mreturn\u001b[0m \u001b[0mmap\u001b[0m\u001b[0;34m(\u001b[0m\u001b[0mfull_lower\u001b[0m\u001b[0;34m,\u001b[0m \u001b[0mout\u001b[0m\u001b[0;34m)\u001b[0m \u001b[0;32mif\u001b[0m \u001b[0mself\u001b[0m\u001b[0;34m.\u001b[0m\u001b[0mmultiple_results\u001b[0m \u001b[0;32melse\u001b[0m \u001b[0mfull_lower\u001b[0m\u001b[0;34m(\u001b[0m\u001b[0mout\u001b[0m\u001b[0;34m)\u001b[0m\u001b[0;34m\u001b[0m\u001b[0;34m\u001b[0m\u001b[0m\n\u001b[1;32m    269\u001b[0m \u001b[0;34m\u001b[0m\u001b[0m\n",
            "\u001b[0;32m/usr/local/lib/python3.7/dist-packages/jax/core.py\u001b[0m in \u001b[0;36mprocess_primitive\u001b[0;34m(self, primitive, tracers, params)\u001b[0m\n\u001b[1;32m    610\u001b[0m \u001b[0;34m\u001b[0m\u001b[0m\n\u001b[1;32m    611\u001b[0m   \u001b[0;32mdef\u001b[0m \u001b[0mprocess_primitive\u001b[0m\u001b[0;34m(\u001b[0m\u001b[0mself\u001b[0m\u001b[0;34m,\u001b[0m \u001b[0mprimitive\u001b[0m\u001b[0;34m,\u001b[0m \u001b[0mtracers\u001b[0m\u001b[0;34m,\u001b[0m \u001b[0mparams\u001b[0m\u001b[0;34m)\u001b[0m\u001b[0;34m:\u001b[0m\u001b[0;34m\u001b[0m\u001b[0;34m\u001b[0m\u001b[0m\n\u001b[0;32m--> 612\u001b[0;31m     \u001b[0;32mreturn\u001b[0m \u001b[0mprimitive\u001b[0m\u001b[0;34m.\u001b[0m\u001b[0mimpl\u001b[0m\u001b[0;34m(\u001b[0m\u001b[0;34m*\u001b[0m\u001b[0mtracers\u001b[0m\u001b[0;34m,\u001b[0m \u001b[0;34m**\u001b[0m\u001b[0mparams\u001b[0m\u001b[0;34m)\u001b[0m\u001b[0;34m\u001b[0m\u001b[0;34m\u001b[0m\u001b[0m\n\u001b[0m\u001b[1;32m    613\u001b[0m \u001b[0;34m\u001b[0m\u001b[0m\n\u001b[1;32m    614\u001b[0m   \u001b[0;32mdef\u001b[0m \u001b[0mprocess_call\u001b[0m\u001b[0;34m(\u001b[0m\u001b[0mself\u001b[0m\u001b[0;34m,\u001b[0m \u001b[0mprimitive\u001b[0m\u001b[0;34m,\u001b[0m \u001b[0mf\u001b[0m\u001b[0;34m,\u001b[0m \u001b[0mtracers\u001b[0m\u001b[0;34m,\u001b[0m \u001b[0mparams\u001b[0m\u001b[0;34m)\u001b[0m\u001b[0;34m:\u001b[0m\u001b[0;34m\u001b[0m\u001b[0;34m\u001b[0m\u001b[0m\n",
            "\u001b[0;32m/usr/local/lib/python3.7/dist-packages/jax/interpreters/xla.py\u001b[0m in \u001b[0;36mapply_primitive\u001b[0;34m(prim, *args, **params)\u001b[0m\n\u001b[1;32m    274\u001b[0m   \u001b[0;34m\"\"\"Impl rule that compiles and runs a single primitive 'prim' using XLA.\"\"\"\u001b[0m\u001b[0;34m\u001b[0m\u001b[0;34m\u001b[0m\u001b[0m\n\u001b[1;32m    275\u001b[0m   \u001b[0mcompiled_fun\u001b[0m \u001b[0;34m=\u001b[0m \u001b[0mxla_primitive_callable\u001b[0m\u001b[0;34m(\u001b[0m\u001b[0mprim\u001b[0m\u001b[0;34m,\u001b[0m \u001b[0;34m*\u001b[0m\u001b[0munsafe_map\u001b[0m\u001b[0;34m(\u001b[0m\u001b[0marg_spec\u001b[0m\u001b[0;34m,\u001b[0m \u001b[0margs\u001b[0m\u001b[0;34m)\u001b[0m\u001b[0;34m,\u001b[0m \u001b[0;34m**\u001b[0m\u001b[0mparams\u001b[0m\u001b[0;34m)\u001b[0m\u001b[0;34m\u001b[0m\u001b[0;34m\u001b[0m\u001b[0m\n\u001b[0;32m--> 276\u001b[0;31m   \u001b[0;32mreturn\u001b[0m \u001b[0mcompiled_fun\u001b[0m\u001b[0;34m(\u001b[0m\u001b[0;34m*\u001b[0m\u001b[0margs\u001b[0m\u001b[0;34m)\u001b[0m\u001b[0;34m\u001b[0m\u001b[0;34m\u001b[0m\u001b[0m\n\u001b[0m\u001b[1;32m    277\u001b[0m \u001b[0;34m\u001b[0m\u001b[0m\n\u001b[1;32m    278\u001b[0m \u001b[0;34m\u001b[0m\u001b[0m\n",
            "\u001b[0;32m/usr/local/lib/python3.7/dist-packages/jax/interpreters/xla.py\u001b[0m in \u001b[0;36m_execute_compiled_primitive\u001b[0;34m(prim, compiled, result_handler, *args)\u001b[0m\n\u001b[1;32m    390\u001b[0m   \u001b[0mdevice\u001b[0m\u001b[0;34m,\u001b[0m \u001b[0;34m=\u001b[0m \u001b[0mcompiled\u001b[0m\u001b[0;34m.\u001b[0m\u001b[0mlocal_devices\u001b[0m\u001b[0;34m(\u001b[0m\u001b[0;34m)\u001b[0m\u001b[0;34m\u001b[0m\u001b[0;34m\u001b[0m\u001b[0m\n\u001b[1;32m    391\u001b[0m   \u001b[0minput_bufs\u001b[0m \u001b[0;34m=\u001b[0m \u001b[0mlist\u001b[0m\u001b[0;34m(\u001b[0m\u001b[0mit\u001b[0m\u001b[0;34m.\u001b[0m\u001b[0mchain\u001b[0m\u001b[0;34m.\u001b[0m\u001b[0mfrom_iterable\u001b[0m\u001b[0;34m(\u001b[0m\u001b[0mdevice_put\u001b[0m\u001b[0;34m(\u001b[0m\u001b[0mx\u001b[0m\u001b[0;34m,\u001b[0m \u001b[0mdevice\u001b[0m\u001b[0;34m)\u001b[0m \u001b[0;32mfor\u001b[0m \u001b[0mx\u001b[0m \u001b[0;32min\u001b[0m \u001b[0margs\u001b[0m \u001b[0;32mif\u001b[0m \u001b[0mx\u001b[0m \u001b[0;32mis\u001b[0m \u001b[0;32mnot\u001b[0m \u001b[0mtoken\u001b[0m\u001b[0;34m)\u001b[0m\u001b[0;34m)\u001b[0m\u001b[0;34m\u001b[0m\u001b[0;34m\u001b[0m\u001b[0m\n\u001b[0;32m--> 392\u001b[0;31m   \u001b[0mout_bufs\u001b[0m \u001b[0;34m=\u001b[0m \u001b[0mcompiled\u001b[0m\u001b[0;34m.\u001b[0m\u001b[0mexecute\u001b[0m\u001b[0;34m(\u001b[0m\u001b[0minput_bufs\u001b[0m\u001b[0;34m)\u001b[0m\u001b[0;34m\u001b[0m\u001b[0;34m\u001b[0m\u001b[0m\n\u001b[0m\u001b[1;32m    393\u001b[0m   \u001b[0mcheck_special\u001b[0m\u001b[0;34m(\u001b[0m\u001b[0mprim\u001b[0m\u001b[0;34m.\u001b[0m\u001b[0mname\u001b[0m\u001b[0;34m,\u001b[0m \u001b[0mout_bufs\u001b[0m\u001b[0;34m)\u001b[0m\u001b[0;34m\u001b[0m\u001b[0;34m\u001b[0m\u001b[0m\n\u001b[1;32m    394\u001b[0m   \u001b[0;32mreturn\u001b[0m \u001b[0mresult_handler\u001b[0m\u001b[0;34m(\u001b[0m\u001b[0;34m*\u001b[0m\u001b[0mout_bufs\u001b[0m\u001b[0;34m)\u001b[0m\u001b[0;34m\u001b[0m\u001b[0;34m\u001b[0m\u001b[0m\n",
            "\u001b[0;31mKeyboardInterrupt\u001b[0m: "
          ]
        }
      ]
    },
    {
      "cell_type": "markdown",
      "metadata": {
        "id": "NOxUYnbSVTnl"
      },
      "source": [
        "**Save Model**"
      ]
    },
    {
      "cell_type": "code",
      "metadata": {
        "id": "mq_GDLdvU9ib",
        "colab": {
          "base_uri": "https://localhost:8080/"
        },
        "outputId": "e3b9437c-ce4d-4037-8b64-c61d37826d12"
      },
      "source": [
        "from google.colab import drive\n",
        "drive.mount('/content/drive')"
      ],
      "execution_count": 38,
      "outputs": [
        {
          "output_type": "stream",
          "name": "stdout",
          "text": [
            "Drive already mounted at /content/drive; to attempt to forcibly remount, call drive.mount(\"/content/drive\", force_remount=True).\n"
          ]
        }
      ]
    },
    {
      "cell_type": "code",
      "metadata": {
        "id": "iNEAqIJAVa-6"
      },
      "source": [
        "import torch\n",
        "model_save_name = 'jax_european_1stock_1110_v1.pth'\n",
        "path = F\"/content/drive/MyDrive/AFP Project/Lilian/{model_save_name}\" \n",
        "torch.save(model.state_dict(), path)"
      ],
      "execution_count": 39,
      "outputs": []
    },
    {
      "cell_type": "markdown",
      "metadata": {
        "id": "4IXkmXlAVdEh"
      },
      "source": [
        "**Load Model**"
      ]
    },
    {
      "cell_type": "code",
      "metadata": {
        "id": "QjERL5bcVcXS",
        "colab": {
          "base_uri": "https://localhost:8080/"
        },
        "outputId": "d586624d-5725-4836-f930-ff8d0cf9606a"
      },
      "source": [
        "from google.colab import drive\n",
        "drive.mount('/content/drive')"
      ],
      "execution_count": 40,
      "outputs": [
        {
          "output_type": "stream",
          "name": "stdout",
          "text": [
            "Drive already mounted at /content/drive; to attempt to forcibly remount, call drive.mount(\"/content/drive\", force_remount=True).\n"
          ]
        }
      ]
    },
    {
      "cell_type": "code",
      "metadata": {
        "id": "oIJoo5Z7VjAR",
        "colab": {
          "base_uri": "https://localhost:8080/"
        },
        "outputId": "03fad887-f4a2-4b08-cba4-6876602c5131"
      },
      "source": [
        "import torch\n",
        "model_save_name = 'jax_european_1stock_1110_v1.pth'\n",
        "path = F\"/content/drive/MyDrive/AFP Project/Lilian/{model_save_name}\" \n",
        "state_dict = torch.load(path)\n",
        "print(state_dict.keys())"
      ],
      "execution_count": 41,
      "outputs": [
        {
          "output_type": "stream",
          "name": "stdout",
          "text": [
            "odict_keys(['norm', 'fc1.weight', 'fc1.bias', 'fc2.weight', 'fc2.bias', 'fc3.weight', 'fc3.bias', 'fc4.weight', 'fc4.bias', 'fc5.weight', 'fc5.bias', 'fc6.weight', 'fc6.bias'])\n"
          ]
        }
      ]
    },
    {
      "cell_type": "code",
      "metadata": {
        "id": "mSkrjknWVlL8",
        "colab": {
          "base_uri": "https://localhost:8080/"
        },
        "outputId": "101584b7-19b7-40c9-fa08-cce11353a9b0"
      },
      "source": [
        "# need to run 'Writing cupy_dataset.py' and 'Writing model.py' above before this\n",
        "from model import Net\n",
        "model = Net().cuda()\n",
        "\n",
        "model.load_state_dict(state_dict)\n",
        "print(model)"
      ],
      "execution_count": 42,
      "outputs": [
        {
          "output_type": "stream",
          "name": "stdout",
          "text": [
            "Net(\n",
            "  (fc1): Linear(in_features=6, out_features=32, bias=True)\n",
            "  (fc2): Linear(in_features=32, out_features=64, bias=True)\n",
            "  (fc3): Linear(in_features=64, out_features=128, bias=True)\n",
            "  (fc4): Linear(in_features=128, out_features=64, bias=True)\n",
            "  (fc5): Linear(in_features=64, out_features=32, bias=True)\n",
            "  (fc6): Linear(in_features=32, out_features=1, bias=True)\n",
            ")\n"
          ]
        }
      ]
    },
    {
      "cell_type": "markdown",
      "metadata": {
        "id": "s5MbsAwEVmff"
      },
      "source": [
        "**Continue to train model**"
      ]
    },
    {
      "cell_type": "code",
      "metadata": {
        "id": "aQYxo1IXVl57",
        "colab": {
          "base_uri": "https://localhost:8080/"
        },
        "outputId": "c43b79fd-1346-40ec-a2ca-3aeda7936783"
      },
      "source": [
        "# If memory is not enough, try changing parameters and restarting session\n",
        "# loss will converge\n",
        "\n",
        "from ignite.engine import Engine, Events\n",
        "from ignite.handlers import Timer\n",
        "from torch.nn import MSELoss\n",
        "from torch.optim import Adam\n",
        "from ignite.contrib.handlers.param_scheduler import CosineAnnealingScheduler\n",
        "from ignite.handlers import ModelCheckpoint\n",
        "from model import Net\n",
        "from cupy_dataset import OptionDataSet\n",
        "import numpy as np\n",
        "import torch\n",
        "from torch import Tensor\n",
        "from torch.autograd import grad\n",
        "timer = Timer(average=True)\n",
        "#model = Net().cuda()\n",
        "loss_fn = MSELoss()\n",
        "optimizer = Adam(model.parameters(), lr=1e-3)\n",
        "#dataset = OptionDataSet(max_len = 100, number_path = 1024, batch = 32, seed = np.random.randint(10000), stocks = 1) # must have random seed\n",
        "dataset = OptionDataSet(max_len = 100, number_path = 1000000, batch = 8, seed = np.random.randint(10000), stocks = 1) # must have random seed\n",
        "\n",
        "\n",
        "def train_update(engine, batch):\n",
        "    model.train()\n",
        "    optimizer.zero_grad()\n",
        "    x = batch[0]\n",
        "    y = batch[1]\n",
        "    y_pred = model(x)\n",
        "\n",
        "    def compute_deltas(x):\n",
        "      inputs = x\n",
        "      inputs.requires_grad = True\n",
        "      first_order_gradient = grad(model(inputs), inputs, create_graph=False)\n",
        "      return first_order_gradient[0][[2]]\n",
        "\n",
        "    deltas = torch.stack([compute_deltas(x) for x in torch.unbind(x)], dim=0)\n",
        "    y_pred = torch.cat((y_pred, deltas), 1)\n",
        "\n",
        "    adjusted_y2 = (1000 * y)**2\n",
        "    loss_weight = 1/adjusted_y2.mean(axis=0)\n",
        "    loss_weight_normalized = loss_weight/loss_weight.sum()\n",
        "\n",
        "\n",
        "\n",
        "    # loss_weight = torch.tensor([1, 1]).cuda()\n",
        "    # loss_weight_normalized = loss_weight/loss_weight.sum()\n",
        "    loss = ((y_pred - y) ** 2 * loss_weight_normalized).mean(axis=0).sum() # compute weighted MSE between the 2 arrays\n",
        "\n",
        "    loss.backward()\n",
        "    optimizer.step()\n",
        "    return loss.item()\n",
        "\n",
        "trainer = Engine(train_update)\n",
        "log_interval = 10\n",
        "\n",
        "scheduler = CosineAnnealingScheduler(optimizer, 'lr', 1e-4, 1e-6, len(dataset))\n",
        "trainer.add_event_handler(Events.ITERATION_STARTED, scheduler)\n",
        "timer.attach(trainer,\n",
        "             start=Events.EPOCH_STARTED,\n",
        "             resume=Events.ITERATION_STARTED,\n",
        "             pause=Events.ITERATION_COMPLETED,\n",
        "             step=Events.ITERATION_COMPLETED)    \n",
        "@trainer.on(Events.ITERATION_COMPLETED)\n",
        "def log_training_loss(engine):\n",
        "    iter = (engine.state.iteration - 1) % len(dataset) + 1\n",
        "    if iter % log_interval == 0:\n",
        "        print('loss', engine.state.output, 'average time', timer.value(), 'iter num', iter) # print by multiplying 10000 -> easier to read (actual loss function isn't amplified)\n",
        "        \n",
        "trainer.run(dataset, max_epochs = 30)\n",
        "\n",
        "model_save_name = 'jax_european_1stock_1110_v1.pth'\n",
        "path = F\"/content/drive/MyDrive/AFP Project/Lilian/{model_save_name}\" \n",
        "torch.save(model.state_dict(), path)"
      ],
      "execution_count": 52,
      "outputs": [
        {
          "output_type": "stream",
          "name": "stdout",
          "text": [
            "loss 0.0006902356981299818 average time 0.26826680850008416 iter num 10\n",
            "loss 0.0005746527458541095 average time 0.1396888278001825 iter num 20\n",
            "loss 0.0004123586986679584 average time 0.09700819403357551 iter num 30\n",
            "loss 0.0003462013555690646 average time 0.07547847060013738 iter num 40\n",
            "loss 0.00019279090338386595 average time 0.06254587762010487 iter num 50\n",
            "loss 0.00034235749626532197 average time 0.05402904795006786 iter num 60\n",
            "loss 0.00015976096619851887 average time 0.047949026485808385 iter num 70\n",
            "loss 0.0007852234411984682 average time 0.04334835073757404 iter num 80\n",
            "loss 0.0002606419730000198 average time 0.039807441588972224 iter num 90\n",
            "loss 0.00011740873014787212 average time 0.03689482004008823 iter num 100\n",
            "loss 0.0008124981541186571 average time 0.17806545480016212 iter num 10\n",
            "loss 0.0001834932336350903 average time 0.09445950410008663 iter num 20\n",
            "loss 8.801493095234036e-05 average time 0.06669139303327636 iter num 30\n",
            "loss 0.0004120481316931546 average time 0.05293193344982683 iter num 40\n",
            "loss 0.0002763890952337533 average time 0.04474497773990151 iter num 50\n",
            "loss 0.00023447118292097002 average time 0.039119879199915886 iter num 60\n",
            "loss 0.00031656655482947826 average time 0.03520405068557011 iter num 70\n",
            "loss 0.00018800901307258755 average time 0.03219772743743761 iter num 80\n",
            "loss 0.0002611143863759935 average time 0.029931055377690224 iter num 90\n",
            "loss 0.00038751165266148746 average time 0.02805444945988711 iter num 100\n",
            "loss 7.443757203873247e-05 average time 0.17913029499977712 iter num 10\n",
            "loss 0.000503836665302515 average time 0.0950246206999509 iter num 20\n",
            "loss 0.00029045407427474856 average time 0.06705861233331234 iter num 30\n",
            "loss 0.00024992780527099967 average time 0.05306699960001424 iter num 40\n",
            "loss 0.00046368324547074735 average time 0.04463609987997188 iter num 50\n",
            "loss 0.0004185809812042862 average time 0.039044049316665524 iter num 60\n",
            "loss 0.00024174389545805752 average time 0.03511332218567986 iter num 70\n",
            "loss 0.00035104440758004785 average time 0.032231016762443686 iter num 80\n",
            "loss 0.00011401978554204106 average time 0.029939733099955547 iter num 90\n",
            "loss 0.0003571890702005476 average time 0.02819252774997949 iter num 100\n",
            "loss 0.00022354756947606802 average time 0.1784086371999365 iter num 10\n",
            "loss 0.0005826161941513419 average time 0.09504241019976689 iter num 20\n",
            "loss 0.0004764630284626037 average time 0.0670562471999195 iter num 30\n",
            "loss 0.00029512197943404317 average time 0.05327071054980479 iter num 40\n",
            "loss 0.00016463984502479434 average time 0.04471560877980665 iter num 50\n",
            "loss 0.0001141277389251627 average time 0.039040768883175286 iter num 60\n",
            "loss 0.000350325892213732 average time 0.03505080255698496 iter num 70\n",
            "loss 0.0001879154733614996 average time 0.03212749624985918 iter num 80\n",
            "loss 0.0003326187434140593 average time 0.029851724822098427 iter num 90\n",
            "loss 0.00019970376160927117 average time 0.027967195549899772 iter num 100\n",
            "loss 0.0020465124398469925 average time 0.17914217340003233 iter num 10\n",
            "loss 0.00015382218407467008 average time 0.09520583895027812 iter num 20\n",
            "loss 0.00027355083147995174 average time 0.06752704193349927 iter num 30\n",
            "loss 0.00021616832236759365 average time 0.05371263157521753 iter num 40\n",
            "loss 0.0003140220360364765 average time 0.04523438110016286 iter num 50\n",
            "loss 0.00059072783915326 average time 0.039570721466831556 iter num 60\n",
            "loss 9.832724754232913e-05 average time 0.03551145225732658 iter num 70\n",
            "loss 9.039165888680145e-05 average time 0.03243564130018513 iter num 80\n",
            "loss 0.00016632290498819202 average time 0.030109897855739594 iter num 90\n",
            "loss 0.00021640065824612975 average time 0.02818171118015016 iter num 100\n",
            "loss 0.00011774100858019665 average time 0.1778164156998173 iter num 10\n",
            "loss 0.000503423681948334 average time 0.09469256294987645 iter num 20\n",
            "loss 0.00026205461472272873 average time 0.06671501699996346 iter num 30\n",
            "loss 0.00020497755031101406 average time 0.0527396850250625 iter num 40\n",
            "loss 0.0008887185249477625 average time 0.044646778420064946 iter num 50\n",
            "loss 0.0001785052299965173 average time 0.03906962013343218 iter num 60\n",
            "loss 0.00010796642891364172 average time 0.035015327228653144 iter num 70\n",
            "loss 0.00011106471356470138 average time 0.03213001833757971 iter num 80\n",
            "loss 0.00015717445057816803 average time 0.029830835677906484 iter num 90\n",
            "loss 0.00020221428712829947 average time 0.027907942730125798 iter num 100\n",
            "loss 0.0001587029837537557 average time 0.1777896014000362 iter num 10\n",
            "loss 0.0003816764510702342 average time 0.09436019390004731 iter num 20\n",
            "loss 0.0014411057345569134 average time 0.06644826833332142 iter num 30\n",
            "loss 0.00020912219770252705 average time 0.052500950574949454 iter num 40\n",
            "loss 0.0005040926625952125 average time 0.04420605790004629 iter num 50\n",
            "loss 0.0023090261965990067 average time 0.038669105500018 iter num 60\n",
            "loss 6.226987898116931e-05 average time 0.03471750162856811 iter num 70\n",
            "loss 0.00010549540456850082 average time 0.03173961979998694 iter num 80\n",
            "loss 0.00027624209178611636 average time 0.02941379942221829 iter num 90\n",
            "loss 0.00017000315710902214 average time 0.02754088778003279 iter num 100\n",
            "loss 0.0018550546374171972 average time 0.17807008990002943 iter num 10\n",
            "loss 0.00047620589612051845 average time 0.0947152678000748 iter num 20\n",
            "loss 0.0001308208011323586 average time 0.0668737681999725 iter num 30\n",
            "loss 0.000285808666376397 average time 0.0529897470000833 iter num 40\n",
            "loss 0.00028948401450179517 average time 0.04452945834007551 iter num 50\n",
            "loss 0.0006130876136012375 average time 0.03889733628345008 iter num 60\n",
            "loss 0.0001378487650072202 average time 0.03490221280000177 iter num 70\n",
            "loss 0.00022254607756622136 average time 0.031949298687459306 iter num 80\n",
            "loss 0.00034026126377284527 average time 0.029561202877731476 iter num 90\n",
            "loss 0.00032545512658543885 average time 0.027723629779939075 iter num 100\n",
            "loss 0.00027227471582591534 average time 0.1781829731000471 iter num 10\n",
            "loss 0.00013960781507194042 average time 0.09508456240000669 iter num 20\n",
            "loss 0.000280268577625975 average time 0.0669248644999243 iter num 30\n",
            "loss 0.00026330462424084544 average time 0.05325123592492673 iter num 40\n",
            "loss 0.0002133758825948462 average time 0.04488377485995443 iter num 50\n",
            "loss 0.00032089470187202096 average time 0.03934611583335936 iter num 60\n",
            "loss 0.00027896647225134075 average time 0.03547888755718824 iter num 70\n",
            "loss 0.0001910532300826162 average time 0.03236934785004451 iter num 80\n",
            "loss 0.004132985603064299 average time 0.029973395833399585 iter num 90\n",
            "loss 0.00021409431064967066 average time 0.028218362540083034 iter num 100\n",
            "loss 0.00012036757834721357 average time 0.17804413460016805 iter num 10\n",
            "loss 0.00020059644884895533 average time 0.0948196487001951 iter num 20\n",
            "loss 0.00014247554645407945 average time 0.06699946626667952 iter num 30\n",
            "loss 0.00021107602515257895 average time 0.05308017984984872 iter num 40\n",
            "loss 0.0010242353891953826 average time 0.044744919080003456 iter num 50\n",
            "loss 0.00014330906560644507 average time 0.03910830434994447 iter num 60\n",
            "loss 0.00020163528097327799 average time 0.0352404836142471 iter num 70\n",
            "loss 0.0005109311314299703 average time 0.032284300724973035 iter num 80\n",
            "loss 0.00012354082718957216 average time 0.02995281285550138 iter num 90\n",
            "loss 0.0002647261426318437 average time 0.028084443559873763 iter num 100\n",
            "loss 0.0015161106130108237 average time 0.17904937530001916 iter num 10\n",
            "loss 0.00031296475208364427 average time 0.09558792084953893 iter num 20\n",
            "loss 0.00018900456780102104 average time 0.06724527406646909 iter num 30\n",
            "loss 0.0003204687964171171 average time 0.05312650522500917 iter num 40\n",
            "loss 0.0008328414405696094 average time 0.04466087095992407 iter num 50\n",
            "loss 0.00019242856069467962 average time 0.039161345383278486 iter num 60\n",
            "loss 0.00015040392463561147 average time 0.03511646725699913 iter num 70\n",
            "loss 0.00022481003543362021 average time 0.03211692834988753 iter num 80\n",
            "loss 0.0007198295788839459 average time 0.029744801988797715 iter num 90\n",
            "loss 0.0013658481184393167 average time 0.02789095394000469 iter num 100\n",
            "loss 0.00022088394325692207 average time 0.17844827379994968 iter num 10\n",
            "loss 0.00022751868527848274 average time 0.09471187289982481 iter num 20\n",
            "loss 0.00023387531109619886 average time 0.06685771289994591 iter num 30\n",
            "loss 0.0003596868773456663 average time 0.05275336969998534 iter num 40\n",
            "loss 0.00011638292926363647 average time 0.044302834700065435 iter num 50\n",
            "loss 0.00011580443242564797 average time 0.03871484215002662 iter num 60\n",
            "loss 0.00027711366419680417 average time 0.03482088734292899 iter num 70\n",
            "loss 0.000652438378892839 average time 0.03179715303758712 iter num 80\n",
            "loss 0.00011131335486425087 average time 0.029496563177922833 iter num 90\n",
            "loss 0.00019309151684865355 average time 0.02764254684007028 iter num 100\n",
            "loss 0.0001838773168856278 average time 0.17833673159984756 iter num 10\n",
            "loss 0.00028134844615124166 average time 0.0948345328504729 iter num 20\n",
            "loss 0.000130749904201366 average time 0.06694475756727722 iter num 30\n",
            "loss 8.777810580795631e-05 average time 0.05292886475062915 iter num 40\n",
            "loss 0.00022477276797872037 average time 0.044447181300565713 iter num 50\n",
            "loss 0.00019473581050988287 average time 0.038779439633860116 iter num 60\n",
            "loss 0.00030112621607258916 average time 0.034798347043137515 iter num 70\n",
            "loss 0.0001434377336408943 average time 0.03185579847522604 iter num 80\n",
            "loss 0.0003011317749042064 average time 0.029573388455780027 iter num 90\n",
            "loss 0.00045475707156583667 average time 0.027692680620202737 iter num 100\n",
            "loss 0.00019277870887890458 average time 0.17817695679987083 iter num 10\n",
            "loss 0.00045389338629320264 average time 0.0945233215998087 iter num 20\n",
            "loss 0.0006628325791098177 average time 0.06687010256682697 iter num 30\n",
            "loss 0.00010031391138909385 average time 0.053032844950030265 iter num 40\n",
            "loss 0.0010923901572823524 average time 0.04462340439997206 iter num 50\n",
            "loss 0.0001724804169498384 average time 0.039000710716694205 iter num 60\n",
            "loss 0.00012642837828025222 average time 0.034977187914150165 iter num 70\n",
            "loss 9.161543130176142e-05 average time 0.03204194928744073 iter num 80\n",
            "loss 0.0005512015777640045 average time 0.02964530127764091 iter num 90\n",
            "loss 0.00026825405075214803 average time 0.02776115286986169 iter num 100\n",
            "loss 0.00013510706776287407 average time 0.17846500870000453 iter num 10\n",
            "loss 0.00030797335784882307 average time 0.09481119359988952 iter num 20\n",
            "loss 0.00016030273400247097 average time 0.06688603799981745 iter num 30\n",
            "loss 0.00014467233268078417 average time 0.05294570047499292 iter num 40\n",
            "loss 0.0001487984845880419 average time 0.044545122220006304 iter num 50\n",
            "loss 0.0002125088358297944 average time 0.0389314462000281 iter num 60\n",
            "loss 0.0002098358527291566 average time 0.034970447642886676 iter num 70\n",
            "loss 0.0004547367279883474 average time 0.031972195375010413 iter num 80\n",
            "loss 0.00010313121310900897 average time 0.029584303633317984 iter num 90\n",
            "loss 0.00010639175889082253 average time 0.02778081527001632 iter num 100\n",
            "loss 0.0002067643217742443 average time 0.17808961260052455 iter num 10\n",
            "loss 0.00020603871962521225 average time 0.09497273250017316 iter num 20\n",
            "loss 0.0002320498606422916 average time 0.06694552676684301 iter num 30\n",
            "loss 0.00018417139654047787 average time 0.052938886175070365 iter num 40\n",
            "loss 0.00012532483378890902 average time 0.04458056065988785 iter num 50\n",
            "loss 0.0001607805461389944 average time 0.03900479941651914 iter num 60\n",
            "loss 0.0010185643332079053 average time 0.03521955527139653 iter num 70\n",
            "loss 9.558141027810052e-05 average time 0.03221267167505175 iter num 80\n",
            "loss 0.0007090366561897099 average time 0.029835844699967615 iter num 90\n",
            "loss 7.381101022474468e-05 average time 0.027974674119905105 iter num 100\n",
            "loss 0.00018752081086859107 average time 0.17861169050011086 iter num 10\n",
            "loss 0.0002550136996433139 average time 0.09510543604992563 iter num 20\n",
            "loss 0.00028286868473514915 average time 0.06709290503325367 iter num 30\n",
            "loss 0.00022334925597533584 average time 0.0532496495749001 iter num 40\n",
            "loss 0.00014561334683094174 average time 0.044810417459957536 iter num 50\n",
            "loss 0.0003808039764408022 average time 0.03914795148320991 iter num 60\n",
            "loss 0.00038519426016137004 average time 0.0351178177141784 iter num 70\n",
            "loss 0.00020634396059904248 average time 0.03213791983744159 iter num 80\n",
            "loss 0.0002487791352905333 average time 0.02980644984434346 iter num 90\n",
            "loss 0.00010631349869072437 average time 0.02789735069989547 iter num 100\n",
            "loss 0.0002603838802315295 average time 0.17729327119923255 iter num 10\n",
            "loss 0.000799102068413049 average time 0.094361631099855 iter num 20\n",
            "loss 0.0019375442061573267 average time 0.06644694813306463 iter num 30\n",
            "loss 0.0002325130917597562 average time 0.05254621332469469 iter num 40\n",
            "loss 0.00047353957779705524 average time 0.04421875073989213 iter num 50\n",
            "loss 4.75144297524821e-05 average time 0.038713056066505186 iter num 60\n",
            "loss 0.00014093046775087714 average time 0.03476461948562896 iter num 70\n",
            "loss 0.0003319245879538357 average time 0.03185139098745822 iter num 80\n",
            "loss 0.00016055963351391256 average time 0.029594703533237204 iter num 90\n",
            "loss 0.00019601700478233397 average time 0.027757733169855782 iter num 100\n",
            "loss 0.00013808759103994817 average time 0.17777564070056542 iter num 10\n",
            "loss 0.0004249243065714836 average time 0.09437774460056972 iter num 20\n",
            "loss 6.93373367539607e-05 average time 0.0664968693672563 iter num 30\n",
            "loss 0.0002602706372272223 average time 0.05271750080055426 iter num 40\n",
            "loss 0.00033614676794968545 average time 0.04424649760047032 iter num 50\n",
            "loss 6.98705916875042e-05 average time 0.038707348650495986 iter num 60\n",
            "loss 0.0002816296764649451 average time 0.03476159001475025 iter num 70\n",
            "loss 7.634351641172543e-05 average time 0.03178242868798407 iter num 80\n",
            "loss 0.00021696787734981626 average time 0.029517792378222416 iter num 90\n",
            "loss 0.00013382697943598032 average time 0.027642789970341256 iter num 100\n",
            "loss 0.000432920380262658 average time 0.17785607719888502 iter num 10\n",
            "loss 0.0002197756402892992 average time 0.09429546674928133 iter num 20\n",
            "loss 0.00012565619545057416 average time 0.06672333896603959 iter num 30\n",
            "loss 9.982792835216969e-05 average time 0.053160030374328926 iter num 40\n",
            "loss 7.451140118064359e-05 average time 0.04473059805939556 iter num 50\n",
            "loss 0.0003180531784892082 average time 0.03913567031619702 iter num 60\n",
            "loss 0.0009156091837212443 average time 0.03503656597100157 iter num 70\n",
            "loss 6.783376738894731e-05 average time 0.03209266609956103 iter num 80\n",
            "loss 0.0002535328094381839 average time 0.029780982766250318 iter num 90\n",
            "loss 0.00016270804917439818 average time 0.02789913701963087 iter num 100\n",
            "loss 0.00026710747624747455 average time 0.1777416094992077 iter num 10\n",
            "loss 0.0006794781074859202 average time 0.09430074764986784 iter num 20\n",
            "loss 0.0001973160105990246 average time 0.066533771666703 iter num 30\n",
            "loss 0.00025240686954930425 average time 0.05270840987477641 iter num 40\n",
            "loss 0.00018619984621182084 average time 0.04441138343972852 iter num 50\n",
            "loss 7.091530278557912e-05 average time 0.03889572436643599 iter num 60\n",
            "loss 0.0001693315280135721 average time 0.03497511808553619 iter num 70\n",
            "loss 0.0003534375864546746 average time 0.0319541146748179 iter num 80\n",
            "loss 0.0001590790634509176 average time 0.029630351733107494 iter num 90\n",
            "loss 6.013227175571956e-05 average time 0.02776612547972036 iter num 100\n",
            "loss 0.00026451615849509835 average time 0.17927099489934334 iter num 10\n",
            "loss 0.00028383213793858886 average time 0.0952775831492545 iter num 20\n",
            "loss 0.00016455129662062973 average time 0.06721325006607609 iter num 30\n",
            "loss 0.0001496101322118193 average time 0.05306549464939962 iter num 40\n",
            "loss 6.288442818913609e-05 average time 0.04463859169940406 iter num 50\n",
            "loss 0.00024699914501979947 average time 0.039036687032724636 iter num 60\n",
            "loss 0.00026082355179823935 average time 0.035107985613753306 iter num 70\n",
            "loss 8.522068674210459e-05 average time 0.03204682628702358 iter num 80\n",
            "loss 8.04060255177319e-05 average time 0.029755149810686513 iter num 90\n",
            "loss 0.00011060794349759817 average time 0.027882485339650886 iter num 100\n",
            "loss 0.00020759932522196323 average time 0.17860686640015047 iter num 10\n",
            "loss 0.0001977363572223112 average time 0.09480726394976954 iter num 20\n",
            "loss 0.0007664877339266241 average time 0.06673242259991335 iter num 30\n",
            "loss 0.00017826736439019442 average time 0.05279036044985332 iter num 40\n",
            "loss 0.00018849142361432314 average time 0.044428772179962835 iter num 50\n",
            "loss 0.00017617325647734106 average time 0.038859555916557535 iter num 60\n",
            "loss 0.0001813655107980594 average time 0.0349289964998856 iter num 70\n",
            "loss 9.376979141961783e-05 average time 0.03190461969998069 iter num 80\n",
            "loss 0.0002472331980243325 average time 0.029566138466624477 iter num 90\n",
            "loss 0.0001840269978856668 average time 0.027706913110050663 iter num 100\n",
            "loss 0.00017900620878208429 average time 0.177483677199416 iter num 10\n",
            "loss 0.0016933914739638567 average time 0.09400447499974689 iter num 20\n",
            "loss 0.00014489420573227108 average time 0.06628240339984283 iter num 30\n",
            "loss 0.0012443283339962363 average time 0.052609532124915856 iter num 40\n",
            "loss 0.00010355045378673822 average time 0.04424623361999693 iter num 50\n",
            "loss 6.385933374986053e-05 average time 0.038711345466860315 iter num 60\n",
            "loss 0.00012374116340652108 average time 0.03478690910014848 iter num 70\n",
            "loss 7.117202039808035e-05 average time 0.03183600637516974 iter num 80\n",
            "loss 0.0001848233223427087 average time 0.029543425000156276 iter num 90\n",
            "loss 0.00016345753101632 average time 0.027693913940165658 iter num 100\n",
            "loss 0.0002830038720276207 average time 0.17778001020014927 iter num 10\n",
            "loss 0.0003829400520771742 average time 0.09416611495016695 iter num 20\n",
            "loss 0.0003298160736449063 average time 0.06636300360017534 iter num 30\n",
            "loss 0.0006992710987105966 average time 0.05248856447533399 iter num 40\n",
            "loss 0.00013574821059592068 average time 0.04426956830022391 iter num 50\n",
            "loss 7.344334881054237e-05 average time 0.03895828576690595 iter num 60\n",
            "loss 0.00010135979391634464 average time 0.03491096772865733 iter num 70\n",
            "loss 0.00023593602236360312 average time 0.03191684302514659 iter num 80\n",
            "loss 9.793361823540181e-05 average time 0.02957461328907003 iter num 90\n",
            "loss 0.0001997561048483476 average time 0.02766156824021891 iter num 100\n",
            "loss 0.00022203696426004171 average time 0.1771590666998236 iter num 10\n",
            "loss 0.0009292394388467073 average time 0.09390920859987091 iter num 20\n",
            "loss 0.00022577606432605535 average time 0.0661708419998225 iter num 30\n",
            "loss 9.062891331268474e-05 average time 0.05234154209974804 iter num 40\n",
            "loss 0.00022144011745695025 average time 0.044073457139893434 iter num 50\n",
            "loss 0.0003367143508512527 average time 0.03860259469984158 iter num 60\n",
            "loss 0.00022433810227084905 average time 0.03460059899994771 iter num 70\n",
            "loss 5.6351487728534266e-05 average time 0.03163748456249778 iter num 80\n",
            "loss 0.00017620009020902216 average time 0.029369878077745347 iter num 90\n",
            "loss 0.0002136995317414403 average time 0.027502003939989663 iter num 100\n",
            "loss 0.00019220772082917392 average time 0.1781447543999093 iter num 10\n",
            "loss 0.0001697771076578647 average time 0.09440301804988849 iter num 20\n",
            "loss 7.153472688514739e-05 average time 0.06660458770008214 iter num 30\n",
            "loss 0.00016377586871385574 average time 0.052910100500139376 iter num 40\n",
            "loss 0.0003550277615431696 average time 0.04448407006020716 iter num 50\n",
            "loss 0.00017590235802344978 average time 0.03924047300018477 iter num 60\n",
            "loss 0.00010195837239734828 average time 0.03526638992869786 iter num 70\n",
            "loss 0.0002558093110565096 average time 0.03227581425007884 iter num 80\n",
            "loss 0.002368694404140115 average time 0.029899276600068938 iter num 90\n",
            "loss 0.0001220427657244727 average time 0.027965512670125463 iter num 100\n",
            "loss 0.00022335848188959062 average time 0.17740506230002212 iter num 10\n",
            "loss 8.645043999422342e-05 average time 0.09410607015033748 iter num 20\n",
            "loss 0.0006728514563292265 average time 0.06633477930020794 iter num 30\n",
            "loss 0.0002710979024413973 average time 0.052645046274938066 iter num 40\n",
            "loss 5.8289697335567325e-05 average time 0.04446719401996233 iter num 50\n",
            "loss 0.00011838346108561382 average time 0.038822205533263814 iter num 60\n",
            "loss 0.0001610722829354927 average time 0.03475685755698318 iter num 70\n",
            "loss 0.00018787579028867185 average time 0.03179565742484556 iter num 80\n",
            "loss 4.897154576610774e-05 average time 0.029439235166501022 iter num 90\n",
            "loss 0.00013442951603792608 average time 0.027607380659901537 iter num 100\n",
            "loss 0.00015660384087823331 average time 0.17768148000031941 iter num 10\n",
            "loss 0.00022838670702185482 average time 0.09427821579993179 iter num 20\n",
            "loss 0.0002307652757735923 average time 0.06654326159999376 iter num 30\n",
            "loss 0.00021325043053366244 average time 0.05253374827498192 iter num 40\n",
            "loss 0.00010066550021292642 average time 0.0441318517801119 iter num 50\n",
            "loss 0.00012474466348066926 average time 0.038611195649900766 iter num 60\n",
            "loss 0.00012693429016508162 average time 0.03463762614275245 iter num 70\n",
            "loss 0.0001393317070323974 average time 0.03159391279987176 iter num 80\n",
            "loss 7.988492143340409e-05 average time 0.02929037618871209 iter num 90\n",
            "loss 0.0004806411743629724 average time 0.027489609549775196 iter num 100\n",
            "loss 0.00028975046006962657 average time 0.17690180900026461 iter num 10\n",
            "loss 0.00018555193673819304 average time 0.09413525145009771 iter num 20\n",
            "loss 0.0002726188104134053 average time 0.06633008720006425 iter num 30\n",
            "loss 0.00015866351895965636 average time 0.0525396661000741 iter num 40\n",
            "loss 8.811919542495161e-05 average time 0.04416634470013378 iter num 50\n",
            "loss 0.0002090418856823817 average time 0.03861602158334184 iter num 60\n",
            "loss 9.893305832520127e-05 average time 0.0345879450571374 iter num 70\n",
            "loss 6.110104004619643e-05 average time 0.03160105944998577 iter num 80\n",
            "loss 0.00029449089197441936 average time 0.02927622182218733 iter num 90\n",
            "loss 0.0002009834279306233 average time 0.027432951749906353 iter num 100\n"
          ]
        }
      ]
    },
    {
      "cell_type": "code",
      "metadata": {
        "id": "zF4hB0bN788M"
      },
      "source": [
        "model_save_name = 'jax_european_1stock_1110_v1.pth'\n",
        "path = F\"/content/drive/MyDrive/AFP Project/Lilian/{model_save_name}\" \n",
        "torch.save(model.state_dict(), path)"
      ],
      "execution_count": 53,
      "outputs": []
    },
    {
      "cell_type": "markdown",
      "metadata": {
        "id": "ONLZ1zpgV2Zv"
      },
      "source": [
        "#Results"
      ]
    },
    {
      "cell_type": "code",
      "metadata": {
        "id": "b3hhVHEVV06R",
        "colab": {
          "base_uri": "https://localhost:8080/"
        },
        "outputId": "019500b3-4640-4902-e1d8-b78ba87bfde1"
      },
      "source": [
        "import torch\n",
        "inputs = torch.tensor([[1, 1, 1, 0.25, 0.3, 0.3]]).cuda() # T, K, S, sigma, mu, r\n",
        "print('price: ' + str(model(inputs.float())))\n",
        "\n",
        "inputs.requires_grad = True\n",
        "x = model(inputs.float())\n",
        "x.backward()\n",
        "first_order_gradient = inputs.grad\n",
        "first_order_gradient[0][[2]]\n",
        "\n",
        "# price, delta\n",
        "# should be around (0.27130044, 0.90763223)"
      ],
      "execution_count": 54,
      "outputs": [
        {
          "output_type": "stream",
          "name": "stdout",
          "text": [
            "price: tensor([[0.2729]], device='cuda:0', grad_fn=<AddmmBackward>)\n"
          ]
        },
        {
          "output_type": "execute_result",
          "data": {
            "text/plain": [
              "tensor([0.9024], device='cuda:0')"
            ]
          },
          "metadata": {},
          "execution_count": 54
        }
      ]
    },
    {
      "cell_type": "code",
      "metadata": {
        "colab": {
          "base_uri": "https://localhost:8080/"
        },
        "id": "2_2AXrPt7bNj",
        "outputId": "4d65482a-51f3-427f-de4d-6eff289036c2"
      },
      "source": [
        "numstocks = 1\n",
        "numsteps = 50\n",
        "numpaths = 1000000\n",
        "\n",
        "rng = jax.random.PRNGKey(np.random.randint(10000))\n",
        "rng, key = jax.random.split(rng)\n",
        "\n",
        "drift = jnp.array([0.3]*numstocks)\n",
        "r = drift\n",
        "cov = jnp.identity(numstocks)*0.25*0.25\n",
        "initial_stocks = jnp.array([1.0]*numstocks) # must be float\n",
        "T = 1.0\n",
        "K = 1.0\n",
        "\n",
        "# option price\n",
        "print(optionvalueavg(key, initial_stocks, numsteps, drift, r, cov, K, T))\n",
        "\n",
        "# delta test\n",
        "goptionvalueavg = jax.grad(optionvalueavg,argnums=1)\n",
        "print(goptionvalueavg(keys, initial_stocks, numsteps, drift, r, cov, K, T))"
      ],
      "execution_count": 55,
      "outputs": [
        {
          "output_type": "stream",
          "name": "stdout",
          "text": [
            "0.27108762\n",
            "[0.9071957]\n"
          ]
        }
      ]
    },
    {
      "cell_type": "code",
      "metadata": {
        "colab": {
          "base_uri": "https://localhost:8080/",
          "height": 265
        },
        "id": "lovJwXo3-YEu",
        "outputId": "b3e6a6c1-6aa8-4b6c-be1b-4d4149cea5ec"
      },
      "source": [
        "from scipy.stats import norm\n",
        "from math import log, sqrt, pi, exp\n",
        "import matplotlib.pyplot as plt\n",
        "\n",
        "def d1(S,K,T,r,sigma):\n",
        "    return(log(S/K)+(r+sigma**2/2.)*T)/(sigma*sqrt(T))\n",
        "def d2(S,K,T,r,sigma):\n",
        "    return d1(S,K,T,r,sigma)-sigma*sqrt(T)    \n",
        "def bs_call(S,K,T,r,sigma):\n",
        "    return S*norm.cdf(d1(S,K,T,r,sigma))-K*exp(-r*T)*norm.cdf(d2(S,K,T,r,sigma))\n",
        "\n",
        "def compute_price(S):\n",
        "    inputs = torch.tensor([[1, 1, S, 0.25, 0.3, 0.3]]).cuda()\n",
        "    return model(inputs.float())\n",
        "\n",
        "prices = np.arange(0.75, 1.25, 0.01)\n",
        "model_call_prices = []\n",
        "BS_call_prices = []\n",
        "for p in prices:\n",
        "    model_call_prices.append(compute_price(p).item())\n",
        "    BS_call_prices.append(bs_call(p, 1, 1, 0.3, 0.25))\n",
        "\n",
        "#plt.plot(prices, model_call_prices, label = \"model_call_prices\")\n",
        "#plt.plot(prices, BS_call_prices, label = \"BS_call_prices\")\n",
        "plt.plot(prices, np.array(model_call_prices)-np.array(BS_call_prices), label = \"Differences\")\n",
        "plt.legend()\n",
        "plt.show()"
      ],
      "execution_count": 56,
      "outputs": [
        {
          "output_type": "display_data",
          "data": {
            "image/png": "[encoded data removed]",
            "text/plain": [
              "<Figure size 432x288 with 1 Axes>"
            ]
          },
          "metadata": {
            "needs_background": "light"
          }
        }
      ]
    },
    {
      "cell_type": "markdown",
      "metadata": {
        "id": "9fVR9u56Uu3X"
      },
      "source": [
        "# Delta"
      ]
    },
    {
      "cell_type": "code",
      "metadata": {
        "colab": {
          "base_uri": "https://localhost:8080/",
          "height": 265
        },
        "id": "lwApH0GT9bBK",
        "outputId": "433ab148-3844-41ff-a07e-e2784be03a70"
      },
      "source": [
        "##Using gradient, Change only 1 S0 at a time\n",
        "%matplotlib inline\n",
        "from torch.autograd import grad\n",
        "import pylab\n",
        "import numpy as np\n",
        "\n",
        "def compute_delta(S):\n",
        "    inputs = torch.tensor([[1, 1, S, 0.25, 0.3, 0.3]]).cuda()\n",
        "    inputs.requires_grad = True\n",
        "    x = model(inputs.float())\n",
        "    x.backward()\n",
        "    first_order_gradient = inputs.grad\n",
        "    return first_order_gradient[0][2]\n",
        "\n",
        "def bs_delta(S,K,T,r,sigma):\n",
        "  return norm.cdf(d1(S,K,T,r,sigma))\n",
        "\n",
        "prices = np.arange(0.75, 1.25, 0.01)\n",
        "model_call_deltas = []\n",
        "BS_call_deltas = []\n",
        "for p in prices:\n",
        "    model_call_deltas.append(compute_delta(p).item())\n",
        "    BS_call_deltas.append(bs_delta(p, 1, 1, 0.3, 0.25))\n",
        "\n",
        "plt.plot(prices, model_call_deltas, label = \"model_call_deltas\")\n",
        "plt.plot(prices, BS_call_deltas, label = \"BS_call_deltas\")\n",
        "#plt.plot(prices, np.array(model_call_deltas)-np.array(BS_call_deltas), label = \"Differences\")\n",
        "plt.legend()\n",
        "plt.show()"
      ],
      "execution_count": 57,
      "outputs": [
        {
          "output_type": "display_data",
          "data": {
            "image/png": "[encoded data removed]",
            "text/plain": [
              "<Figure size 432x288 with 1 Axes>"
            ]
          },
          "metadata": {
            "needs_background": "light"
          }
        }
      ]
    }
  ]
}