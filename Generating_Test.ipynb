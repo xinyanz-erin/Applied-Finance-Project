{
  "nbformat": 4,
  "nbformat_minor": 0,
  "metadata": {
    "colab": {
      "name": "Generating Test",
      "provenance": [],
      "collapsed_sections": [],
      "include_colab_link": true
    },
    "kernelspec": {
      "name": "python3",
      "display_name": "Python 3"
    },
    "language_info": {
      "name": "python"
    },
    "accelerator": "GPU"
  },
  "cells": [
    {
      "cell_type": "markdown",
      "metadata": {
        "id": "view-in-github",
        "colab_type": "text"
      },
      "source": [
        "<a href=\"https://colab.research.google.com/github/xinyanz-erin/Applied-Finance-Project/blob/Pui/Generating_Test.ipynb\" target=\"_parent\"><img src=\"https://colab.research.google.com/assets/colab-badge.svg\" alt=\"Open In Colab\"/></a>"
      ]
    },
    {
      "cell_type": "markdown",
      "metadata": {
        "id": "or2YUJ9cfEiF"
      },
      "source": [
        "# Construct Neural Net"
      ]
    },
    {
      "cell_type": "code",
      "metadata": {
        "colab": {
          "base_uri": "https://localhost:8080/"
        },
        "id": "fuPE3AQX2BH1",
        "outputId": "59adfca7-11ad-4dff-ddbd-fe534fc52953"
      },
      "source": [
        "S_range = np.linspace(0.75, 1.25, 10)\n",
        "K_range = np.linspace(0.75, 1.25, 10)\n",
        "Sigma_range = np.linspace(0.15, 0.45, 5)\n",
        "r_range = np.linspace(0.01, 0.04, 3)\n",
        "\n",
        "print(S_range)\n",
        "print(K_range)\n",
        "print(Sigma_range)\n",
        "print(r_range)"
      ],
      "execution_count": 30,
      "outputs": [
        {
          "output_type": "stream",
          "name": "stdout",
          "text": [
            "[0.75       0.80555556 0.86111111 0.91666667 0.97222222 1.02777778\n",
            " 1.08333333 1.13888889 1.19444444 1.25      ]\n",
            "[0.75       0.80555556 0.86111111 0.91666667 0.97222222 1.02777778\n",
            " 1.08333333 1.13888889 1.19444444 1.25      ]\n",
            "[0.15  0.225 0.3   0.375 0.45 ]\n",
            "[0.01  0.025 0.04 ]\n"
          ]
        }
      ]
    },
    {
      "cell_type": "code",
      "metadata": {
        "id": "b-i4HV-G44th",
        "colab": {
          "base_uri": "https://localhost:8080/"
        },
        "outputId": "2e2a3222-d056-4cba-fa0a-a005e6518ac2"
      },
      "source": [
        "%%writefile cupy_dataset.py\n",
        "import cupy\n",
        "import numpy as np\n",
        "from torch.utils.dlpack import from_dlpack\n",
        "from scipy.stats import norm\n",
        "from math import log, sqrt, pi, exp\n",
        "import pandas as pd\n",
        "\n",
        "def d1(S,K,T,r,sigma):\n",
        "    return(log(S/K)+(r+sigma**2/2.)*T)/(sigma*sqrt(T))\n",
        "def d2(S,K,T,r,sigma):\n",
        "    return d1(S,K,T,r,sigma)-sigma*sqrt(T)    \n",
        "def bs_call(S,K,T,r,sigma):\n",
        "    return S*norm.cdf(d1(S,K,T,r,sigma))-K*exp(-r*T)*norm.cdf(d2(S,K,T,r,sigma))\n",
        "def bs_delta(S,K,T,r,sigma):\n",
        "    return norm.cdf(d1(S,K,T,r,sigma))\n",
        "\n",
        "S_range = np.linspace(0.75, 1.25, 10)\n",
        "K_range = np.linspace(0.75, 1.25, 10)\n",
        "Sigma_range = np.linspace(0.15, 0.45, 5)\n",
        "r_range = np.linspace(0.01, 0.04, 3)\n",
        "\n",
        "call = []\n",
        "for i in S_range:\n",
        "  for j in K_range:\n",
        "    for l in r_range:\n",
        "      for k in Sigma_range:\n",
        "        call.append([1,j,i,k,l,l,bs_call(i,j,1,l,k),bs_delta(i,j,1,l,k)]) #T, K, S, sigma, mu, r\n",
        "Thedataset = pd.DataFrame(call)\n",
        "\n",
        "Thedataset_X = Thedataset.iloc[:,:6]\n",
        "Thedataset_Y = Thedataset.iloc[:,6:]\n",
        "\n",
        "class OptionDataSet(object):\n",
        "    \n",
        "    def __init__(self, max_len, number_path, batch, seed, stocks):\n",
        "        self.num = 0\n",
        "        self.max_length = max_len\n",
        "        self.N_PATHS = number_path\n",
        "        self.N_STEPS = 50\n",
        "        self.N_BATCH = batch\n",
        "        self.N_STOCKS = stocks\n",
        "        self.T = 1.0 # assume T = 1, use float here\n",
        "        self.seed = seed\n",
        "        np.random.seed(seed)\n",
        "\n",
        "        self.X = cupy.array(Thedataset_X)\n",
        "        self.Y = cupy.array(Thedataset_Y)\n",
        "        \n",
        "    def __len__(self):\n",
        "        return self.max_length\n",
        "        \n",
        "    def __iter__(self):\n",
        "        self.num = 0\n",
        "        return self\n",
        "    \n",
        "    def __next__(self):\n",
        "        if self.num >= self.max_length:\n",
        "            raise StopIteration\n",
        "\n",
        "        self.num += 1\n",
        "        return (from_dlpack(self.X.toDlpack()), from_dlpack(self.Y.toDlpack()))\n",
        "\n",
        "\n",
        "# ds = OptionDataSet(max_len = 1, number_path = 10000, batch = 2, seed = np.random.randint(10000), stocks=1) # for testing purpose, use constant seed. When training, change to random seed\n",
        "# for i in ds:\n",
        "#     print(i[0])\n",
        "#     print(i[0].shape)\n",
        "#     print(i[1])\n",
        "#     print(i[1].shape)"
      ],
      "execution_count": 2,
      "outputs": [
        {
          "output_type": "stream",
          "name": "stdout",
          "text": [
            "Writing cupy_dataset.py\n"
          ]
        }
      ]
    },
    {
      "cell_type": "code",
      "metadata": {
        "colab": {
          "base_uri": "https://localhost:8080/"
        },
        "id": "rN6JO9OBHdvv",
        "outputId": "dda36129-4865-43c1-fadd-634b87acfa8a"
      },
      "source": [
        "%%writefile model.py\n",
        "# version 1,2\n",
        "import torch.nn as nn\n",
        "import torch.nn.functional as F\n",
        "import torch\n",
        "import numpy as np\n",
        "\n",
        "class Net(nn.Module):\n",
        "\n",
        "    def __init__(self, hidden=1024):\n",
        "        super(Net, self).__init__()\n",
        "        self.fc1 = nn.Linear(6*1, 32) # remember to change this!\n",
        "        self.fc2 = nn.Linear(32, 64)\n",
        "        self.fc3 = nn.Linear(64, 128)\n",
        "        self.fc4 = nn.Linear(128, 64)\n",
        "        self.fc5 = nn.Linear(64, 32)\n",
        "        self.fc6 = nn.Linear(32, 1) # 1 outputs: price\n",
        "        self.register_buffer('norm',\n",
        "                             torch.tensor([1.0, 0.5, 0.5, 0.3, 0.03, 0.03]*1)) # don't use numpy here - will give error later\n",
        "                                                                               # T, K, S, sigma, mu, r\n",
        "\n",
        "    def forward(self, x):\n",
        "        # normalize the parameter to range [0-1] \n",
        "        x = (x - torch.tensor([0.0, 0.75, 0.75, 0.15, 0.01, 0.01]*1).cuda()) / self.norm\n",
        "        x = F.elu(self.fc1(x))\n",
        "        x = F.elu(self.fc2(x))\n",
        "        x = F.elu(self.fc3(x))\n",
        "        x = F.elu(self.fc4(x))\n",
        "        x = F.elu(self.fc5(x))\n",
        "        return self.fc6(x)"
      ],
      "execution_count": 3,
      "outputs": [
        {
          "output_type": "stream",
          "name": "stdout",
          "text": [
            "Writing model.py\n"
          ]
        }
      ]
    },
    {
      "cell_type": "markdown",
      "metadata": {
        "id": "owSrICMvyZX0"
      },
      "source": [
        "# Train Neural Net"
      ]
    },
    {
      "cell_type": "code",
      "metadata": {
        "colab": {
          "base_uri": "https://localhost:8080/"
        },
        "id": "JlXD80xPNVc6",
        "outputId": "6f48d9a1-9ee2-4e62-8e97-b40f56144512"
      },
      "source": [
        "!pip install pytorch-ignite"
      ],
      "execution_count": 4,
      "outputs": [
        {
          "output_type": "stream",
          "name": "stdout",
          "text": [
            "Collecting pytorch-ignite\n",
            "  Downloading pytorch_ignite-0.4.7-py3-none-any.whl (240 kB)\n",
            "\u001b[?25l\r\u001b[K     |█▍                              | 10 kB 31.7 MB/s eta 0:00:01\r\u001b[K     |██▊                             | 20 kB 17.8 MB/s eta 0:00:01\r\u001b[K     |████                            | 30 kB 9.8 MB/s eta 0:00:01\r\u001b[K     |█████▌                          | 40 kB 8.6 MB/s eta 0:00:01\r\u001b[K     |██████▉                         | 51 kB 5.0 MB/s eta 0:00:01\r\u001b[K     |████████▏                       | 61 kB 5.5 MB/s eta 0:00:01\r\u001b[K     |█████████▌                      | 71 kB 5.3 MB/s eta 0:00:01\r\u001b[K     |███████████                     | 81 kB 6.0 MB/s eta 0:00:01\r\u001b[K     |████████████▎                   | 92 kB 4.6 MB/s eta 0:00:01\r\u001b[K     |█████████████▋                  | 102 kB 5.0 MB/s eta 0:00:01\r\u001b[K     |███████████████                 | 112 kB 5.0 MB/s eta 0:00:01\r\u001b[K     |████████████████▍               | 122 kB 5.0 MB/s eta 0:00:01\r\u001b[K     |█████████████████▊              | 133 kB 5.0 MB/s eta 0:00:01\r\u001b[K     |███████████████████             | 143 kB 5.0 MB/s eta 0:00:01\r\u001b[K     |████████████████████▌           | 153 kB 5.0 MB/s eta 0:00:01\r\u001b[K     |█████████████████████▉          | 163 kB 5.0 MB/s eta 0:00:01\r\u001b[K     |███████████████████████▏        | 174 kB 5.0 MB/s eta 0:00:01\r\u001b[K     |████████████████████████▌       | 184 kB 5.0 MB/s eta 0:00:01\r\u001b[K     |██████████████████████████      | 194 kB 5.0 MB/s eta 0:00:01\r\u001b[K     |███████████████████████████▎    | 204 kB 5.0 MB/s eta 0:00:01\r\u001b[K     |████████████████████████████▋   | 215 kB 5.0 MB/s eta 0:00:01\r\u001b[K     |██████████████████████████████  | 225 kB 5.0 MB/s eta 0:00:01\r\u001b[K     |███████████████████████████████▍| 235 kB 5.0 MB/s eta 0:00:01\r\u001b[K     |████████████████████████████████| 240 kB 5.0 MB/s \n",
            "\u001b[?25hRequirement already satisfied: torch<2,>=1.3 in /usr/local/lib/python3.7/dist-packages (from pytorch-ignite) (1.10.0+cu111)\n",
            "Requirement already satisfied: typing-extensions in /usr/local/lib/python3.7/dist-packages (from torch<2,>=1.3->pytorch-ignite) (3.10.0.2)\n",
            "Installing collected packages: pytorch-ignite\n",
            "Successfully installed pytorch-ignite-0.4.7\n"
          ]
        }
      ]
    },
    {
      "cell_type": "code",
      "metadata": {
        "id": "S3CyULkENYKb",
        "colab": {
          "base_uri": "https://localhost:8080/",
          "height": 1000
        },
        "outputId": "f416cb73-79d6-491d-88b3-0362f17819ff"
      },
      "source": [
        "# version 2, 7\n",
        "# If memory is not enough, try changing parameters and restarting session\n",
        "# loss will converge\n",
        "\n",
        "from ignite.engine import Engine, Events\n",
        "from ignite.handlers import Timer\n",
        "from torch.nn import MSELoss\n",
        "from torch.optim import Adam\n",
        "from ignite.contrib.handlers.param_scheduler import CosineAnnealingScheduler\n",
        "from ignite.handlers import ModelCheckpoint\n",
        "from model import Net\n",
        "from cupy_dataset import OptionDataSet\n",
        "import numpy as np\n",
        "import torch\n",
        "from torch import Tensor\n",
        "from torch.autograd import grad\n",
        "timer = Timer(average=True)\n",
        "model = Net().cuda()\n",
        "loss_fn = MSELoss()\n",
        "optimizer = Adam(model.parameters(), lr=1e-3)\n",
        "dataset = OptionDataSet(max_len = 100, number_path = 100000, batch = 1, seed = np.random.randint(10000), stocks = 1) # must have random seed. It doesn't matter how many batch here (not taken into function). Use max_len to adjust\n",
        "\n",
        "def train_update(engine, batch):\n",
        "    model.train()\n",
        "    optimizer.zero_grad()\n",
        "    x = batch[0]\n",
        "    # print(x)\n",
        "    # print(x.shape)\n",
        "    y = batch[1]\n",
        "    # print(y)\n",
        "    # print(y.shape)\n",
        "    y_pred = model(x.float())\n",
        "    # print(y_pred)\n",
        "    # print(y_pred.shape)\n",
        "\n",
        "    def compute_deltas(x):\n",
        "      inputs = x.float()\n",
        "      inputs.requires_grad = True\n",
        "      first_order_gradient = grad(model(inputs), inputs, create_graph=False)\n",
        "      return first_order_gradient[0][[2]]\n",
        "\n",
        "    deltas = torch.stack([compute_deltas(x) for x in torch.unbind(x)], dim=0)\n",
        "    y_pred = torch.cat((y_pred, deltas), 1)\n",
        "    # print(y_pred)\n",
        "    # print(y_pred.shape)\n",
        "\n",
        "    loss_weight = torch.tensor([1, 1]).cuda()\n",
        "    loss_weight_normalized = loss_weight/loss_weight.sum()\n",
        "    loss = ((y_pred - y) ** 2 * loss_weight_normalized).mean(axis=0).sum() # compute weighted MSE between the 2 arrays\n",
        "\n",
        "    loss.backward()\n",
        "    optimizer.step()\n",
        "    return loss.item()\n",
        "\n",
        "trainer = Engine(train_update)\n",
        "log_interval = 20\n",
        "\n",
        "scheduler = CosineAnnealingScheduler(optimizer, 'lr', 1e-4, 1e-6, len(dataset))\n",
        "trainer.add_event_handler(Events.ITERATION_STARTED, scheduler)\n",
        "timer.attach(trainer,\n",
        "             start=Events.EPOCH_STARTED,\n",
        "             resume=Events.ITERATION_STARTED,\n",
        "             pause=Events.ITERATION_COMPLETED,\n",
        "             step=Events.ITERATION_COMPLETED)    \n",
        "@trainer.on(Events.ITERATION_COMPLETED)\n",
        "def log_training_loss(engine):\n",
        "    iter = (engine.state.iteration - 1) % len(dataset) + 1\n",
        "    if iter % log_interval == 0:\n",
        "        print('loss', engine.state.output, 'average time', timer.value(), 'iter num', iter)\n",
        "        \n",
        "trainer.run(dataset, max_epochs = 100)"
      ],
      "execution_count": 4,
      "outputs": [
        {
          "output_type": "stream",
          "name": "stderr",
          "text": [
            "/usr/local/lib/python3.7/dist-packages/ipykernel_launcher.py:9: DeprecationWarning: /usr/local/lib/python3.7/dist-packages/ignite/contrib/handlers/param_scheduler.py has been moved to /ignite/handlers/param_scheduler.py and will be removed in version 0.6.0.\n",
            " Please refer to the documentation for more details.\n",
            "  if __name__ == '__main__':\n"
          ]
        },
        {
          "output_type": "stream",
          "name": "stdout",
          "text": [
            "loss 0.21275691130556876 average time 2.2172917150000018 iter num 20\n",
            "loss 0.19914288638351194 average time 2.201579961425 iter num 40\n",
            "loss 0.1891768526916255 average time 2.2067520843499997 iter num 60\n",
            "loss 0.1845969282499282 average time 2.2135725168500002 iter num 80\n",
            "loss 0.1835804659955946 average time 2.20936135983 iter num 100\n",
            "loss 0.1626686034980522 average time 2.194595416750002 iter num 20\n",
            "loss 0.14173157708948125 average time 2.1875014336750014 iter num 40\n",
            "loss 0.12629605435207958 average time 2.1778576933166667 iter num 60\n",
            "loss 0.11884121547550335 average time 2.174891702862498 iter num 80\n",
            "loss 0.11724398775250039 average time 2.1838199030399967 iter num 100\n",
            "loss 0.0867865462919209 average time 2.2039234362499824 iter num 20\n",
            "loss 0.06303299545399357 average time 2.188037299874992 iter num 40\n",
            "loss 0.0520055679951355 average time 2.1531721496166596 iter num 60\n",
            "loss 0.04857875479207383 average time 2.133798158374995 iter num 80\n",
            "loss 0.04799106253964681 average time 2.136486375010002 iter num 100\n",
            "loss 0.04134920201486148 average time 2.148515379299994 iter num 20\n",
            "loss 0.04026455349348455 average time 2.1531598104500036 iter num 40\n",
            "loss 0.04007437924614477 average time 2.1576751908833347 iter num 60\n",
            "loss 0.03998482296250874 average time 2.1584929838250018 iter num 80\n",
            "loss 0.03996508516828881 average time 2.162706484820004 iter num 100\n",
            "loss 0.039586298532994425 average time 2.1826127079500166 iter num 20\n",
            "loss 0.039251047639339634 average time 2.190900372025001 iter num 40\n",
            "loss 0.03902777037293753 average time 2.179171103566665 iter num 60\n",
            "loss 0.03892548139142364 average time 2.170668382462496 iter num 80\n",
            "loss 0.03890377434461703 average time 2.1759037768599967 iter num 100\n",
            "loss 0.03849062308690485 average time 2.1494969631499656 iter num 20\n",
            "loss 0.038129445738332365 average time 2.146531211524973 iter num 40\n",
            "loss 0.03789328764743161 average time 2.145909154349977 iter num 60\n",
            "loss 0.037785898873442005 average time 2.1486024619874855 iter num 80\n",
            "loss 0.03776320356260651 average time 2.1456281037399867 iter num 100\n",
            "loss 0.03733194895179423 average time 2.183903956999984 iter num 20\n",
            "loss 0.03695308282934558 average time 2.1627465186249935 iter num 40\n",
            "loss 0.036704452624391246 average time 2.165915685283331 iter num 60\n",
            "loss 0.03659135490246899 average time 2.1689677959124993 iter num 80\n",
            "loss 0.0365674586632728 average time 2.1692343496099964 iter num 100\n",
            "loss 0.036113952899438403 average time 2.14952699024999 iter num 20\n",
            "loss 0.03571540284734945 average time 2.1743467316999956 iter num 40\n",
            "loss 0.035453337990587454 average time 2.1705881720333235 iter num 60\n",
            "loss 0.0353340123887186 average time 2.165254012262494 iter num 80\n",
            "loss 0.035308825220198854 average time 2.1735328096799957 iter num 100\n",
            "loss 0.03483059793230972 average time 2.1341836911000085 iter num 20\n",
            "loss 0.03440897735296805 average time 2.1368552663250115 iter num 40\n",
            "loss 0.03413110655413652 average time 2.1397434474166706 iter num 60\n",
            "loss 0.03400433167214624 average time 2.1461993128500128 iter num 80\n",
            "loss 0.033977576640107664 average time 2.1495727834499987 iter num 100\n",
            "loss 0.03346923006846701 average time 2.156467420350009 iter num 20\n",
            "loss 0.033019679372925145 average time 2.187387437874963 iter num 40\n",
            "loss 0.03272258786731802 average time 2.1759244179666593 iter num 60\n",
            "loss 0.03258686255609328 average time 2.1756789780375017 iter num 80\n",
            "loss 0.032558198795107775 average time 2.179083152339999 iter num 100\n",
            "loss 0.03201136976940405 average time 2.2232812611500776 iter num 20\n",
            "loss 0.03152315732981303 average time 2.1766304430750667 iter num 40\n",
            "loss 0.03119811312685664 average time 2.168024542366705 iter num 60\n",
            "loss 0.0310488024229687 average time 2.1635737924250407 iter num 80\n",
            "loss 0.031017218116744443 average time 2.1686658413900295 iter num 100\n",
            "loss 0.030412525889139827 average time 2.170575298299923 iter num 20\n",
            "loss 0.029866267808387702 average time 2.183550799474972 iter num 40\n",
            "loss 0.02949824825525999 average time 2.1827747792999994 iter num 60\n",
            "loss 0.02932789275138378 average time 2.173357563299993 iter num 80\n",
            "loss 0.02929172883404612 average time 2.1737451693899903 iter num 100\n",
            "loss 0.028596334933849676 average time 2.133771961499997 iter num 20\n",
            "loss 0.027961889519394295 average time 2.1559662595000533 iter num 40\n",
            "loss 0.02753178541641343 average time 2.1534992510666977 iter num 60\n",
            "loss 0.027332741564708263 average time 2.150606194450006 iter num 80\n",
            "loss 0.027290526453992416 average time 2.144421900980005 iter num 100\n",
            "loss 0.026481848540997034 average time 2.129792220449963 iter num 20\n",
            "loss 0.025752960281348474 average time 2.1138450896999643 iter num 40\n",
            "loss 0.025267208061766203 average time 2.12322973603331 iter num 60\n",
            "loss 0.0250454236245745 average time 2.1256054285874826 iter num 80\n",
            "loss 0.024998738605773695 average time 2.12467514966997 iter num 100\n",
            "loss 0.02411429302452711 average time 2.1537012820499286 iter num 20\n",
            "loss 0.02333275851896803 average time 2.1554735285499875 iter num 40\n",
            "loss 0.022817285034997917 average time 2.1400358659166687 iter num 60\n",
            "loss 0.022582463260055058 average time 2.134099027725 iter num 80\n",
            "loss 0.022533092530530912 average time 2.1401358572300158 iter num 100\n",
            "loss 0.02159804325087369 average time 2.163301113750026 iter num 20\n",
            "loss 0.020766092329717285 average time 2.1397981307750342 iter num 40\n",
            "loss 0.020214362800471224 average time 2.138299727683375 iter num 60\n",
            "loss 0.019962381836580362 average time 2.1333138582250397 iter num 80\n",
            "loss 0.019909332547567108 average time 2.1366792474400382 iter num 100\n",
            "loss 0.018905429912161008 average time 2.180989513450072 iter num 20\n",
            "loss 0.01801621273267564 average time 2.1593907156500336 iter num 40\n",
            "loss 0.017431420946092218 average time 2.1588584619333613 iter num 60\n",
            "loss 0.017166539095418484 average time 2.153148363887527 iter num 80\n",
            "loss 0.017111020647340377 average time 2.1508298864300333 iter num 100\n",
            "loss 0.016067938880498428 average time 2.140500744750034 iter num 20\n",
            "loss 0.015155811552487495 average time 2.1287430080000265 iter num 40\n",
            "loss 0.014562920362173604 average time 2.130840647800013 iter num 60\n",
            "loss 0.014296320897593001 average time 2.126399831325017 iter num 80\n",
            "loss 0.01424066454691965 average time 2.127207788680012 iter num 100\n",
            "loss 0.013204280664431321 average time 2.1474526868499653 iter num 20\n",
            "loss 0.012315862272839827 average time 2.1426085659250473 iter num 40\n",
            "loss 0.011750690886950925 average time 2.1430313616167043 iter num 60\n",
            "loss 0.011500743965604743 average time 2.135374009350039 iter num 80\n",
            "loss 0.011448983007978685 average time 2.132498604170041 iter num 100\n",
            "loss 0.010502686407547345 average time 2.1606097852499717 iter num 20\n",
            "loss 0.009728895115230042 average time 2.166934381499959 iter num 40\n",
            "loss 0.00926057882117397 average time 2.1592757866499594 iter num 60\n",
            "loss 0.009060641293926714 average time 2.162012240687477 iter num 80\n",
            "loss 0.009019898447236838 average time 2.1665927228899817 iter num 100\n",
            "loss 0.008299358375734629 average time 2.1351841206500466 iter num 20\n",
            "loss 0.007753492547292281 average time 2.151148170474926 iter num 40\n",
            "loss 0.0074448706533511225 average time 2.1651445016165782 iter num 60\n",
            "loss 0.0073181446113924535 average time 2.1776100007499055 iter num 80\n",
            "loss 0.007292696511481966 average time 2.177269400059913 iter num 100\n",
            "loss 0.006852255540853036 average time 2.159088328650114 iter num 20\n",
            "loss 0.006529293296124209 average time 2.191780852450006 iter num 40\n",
            "loss 0.006346847510422958 average time 2.1772854718000265 iter num 60\n",
            "loss 0.0062707248380727805 average time 2.17294671352505 iter num 80\n",
            "loss 0.006255257980126758 average time 2.1801286950100165 iter num 100\n",
            "loss 0.005978650277770557 average time 2.1454410870500853 iter num 20\n",
            "loss 0.005758193110333486 average time 2.1821845707250986 iter num 40\n",
            "loss 0.005623584583993389 average time 2.174696719783378 iter num 60\n",
            "loss 0.005564862345307069 average time 2.16914315935004 iter num 80\n",
            "loss 0.00555271710722543 average time 2.168764626500042 iter num 100\n",
            "loss 0.005330112548823415 average time 2.154422758950068 iter num 20\n",
            "loss 0.005145802321220888 average time 2.1475720295750533 iter num 40\n",
            "loss 0.005030294877813355 average time 2.158201944250019 iter num 60\n",
            "loss 0.0049791236829741 average time 2.160695621387538 iter num 80\n",
            "loss 0.004968491125570212 average time 2.163753454460011 iter num 100\n",
            "loss 0.004771039482034367 average time 2.163380750600072 iter num 20\n",
            "loss 0.0046062146436476915 average time 2.1813316568501477 iter num 40\n",
            "loss 0.0045033700859184655 average time 2.1786208550667805 iter num 60\n",
            "loss 0.004458119832233613 average time 2.1629501125626236 iter num 80\n",
            "loss 0.00444873971557145 average time 2.1701168110601063 iter num 100\n",
            "loss 0.00427610504971877 average time 2.153660684100032 iter num 20\n",
            "loss 0.004127671521684848 average time 2.1749156373000007 iter num 40\n",
            "loss 0.004034391438857016 average time 2.1812392130499876 iter num 60\n",
            "loss 0.003993313902647274 average time 2.1754923118499505 iter num 80\n",
            "loss 0.003984803919136782 average time 2.167232159369951 iter num 100\n",
            "loss 0.0038283324502938806 average time 2.151052285099786 iter num 20\n",
            "loss 0.0036968430307482425 average time 2.148292153399916 iter num 40\n",
            "loss 0.0036134323730698994 average time 2.1455231766666203 iter num 60\n",
            "loss 0.0035762537626162173 average time 2.16620822430001 iter num 80\n",
            "loss 0.0035685194368509465 average time 2.1767111947100055 iter num 100\n",
            "loss 0.0034248329171219873 average time 2.1590544220499397 iter num 20\n",
            "loss 0.003303490688504437 average time 2.1524973948749904 iter num 40\n",
            "loss 0.003226914978188427 average time 2.164557352033368 iter num 60\n",
            "loss 0.0031930911753523107 average time 2.169482512099978 iter num 80\n",
            "loss 0.003186062936534016 average time 2.1664939183099796 iter num 100\n",
            "loss 0.0030561720480429184 average time 2.163973015649981 iter num 20\n",
            "loss 0.002946071249191493 average time 2.1643247632500104 iter num 40\n",
            "loss 0.002875868707435956 average time 2.1698976438833597 iter num 60\n",
            "loss 0.0028446923963144056 average time 2.169380177750054 iter num 80\n",
            "loss 0.002838213192692756 average time 2.166004493710034 iter num 100\n",
            "loss 0.002718670402755426 average time 2.139186626100036 iter num 20\n",
            "loss 0.002616562064788744 average time 2.1374126331250407 iter num 40\n",
            "loss 0.0025511443911650352 average time 2.1474825350500395 iter num 60\n",
            "loss 0.0025220665543215785 average time 2.147083547475006 iter num 80\n",
            "loss 0.00251601006395076 average time 2.150172997740019 iter num 100\n",
            "loss 0.00240420826127824 average time 2.169858302500006 iter num 20\n",
            "loss 0.002308997353169479 average time 2.178368339499957 iter num 40\n",
            "loss 0.002248041145617644 average time 2.1638961414333 iter num 60\n",
            "loss 0.0022207604123338966 average time 2.16036578423749 iter num 80\n",
            "loss 0.0022150681555824577 average time 2.160410569409996 iter num 100\n",
            "loss 0.002109407538378103 average time 2.1569738781498926 iter num 20\n",
            "loss 0.0020194555174617543 average time 2.169591688224932 iter num 40\n",
            "loss 0.0019622106225627924 average time 2.163408032283299 iter num 60\n",
            "loss 0.0019366932708031143 average time 2.1628902615875063 iter num 80\n",
            "loss 0.0019313627947402246 average time 2.16481139550001 iter num 100\n",
            "loss 0.0018322074811396912 average time 2.1469196974998797 iter num 20\n",
            "loss 0.0017475623465269153 average time 2.1484416860499778 iter num 40\n",
            "loss 0.0016935032803329468 average time 2.1433573305666718 iter num 60\n",
            "loss 0.001669404066021662 average time 2.146345044887505 iter num 80\n",
            "loss 0.001664371512854654 average time 2.1406995438799914 iter num 100\n",
            "loss 0.0015710408618032359 average time 2.130302407499994 iter num 20\n",
            "loss 0.0014918119376217433 average time 2.113757397399945 iter num 40\n",
            "loss 0.0014415090166880467 average time 2.115041312899954 iter num 60\n",
            "loss 0.0014191893384121604 average time 2.133182161649927 iter num 80\n",
            "loss 0.0014145524691863561 average time 2.139572730029922 iter num 100\n",
            "loss 0.0013285420996336456 average time 2.1487749815499226 iter num 20\n",
            "loss 0.0012558729617087065 average time 2.156046116949915 iter num 40\n",
            "loss 0.0012098560019835436 average time 2.1442631917832538 iter num 60\n",
            "loss 0.0011895102152598947 average time 2.1401186745249445 iter num 80\n",
            "loss 0.0011852887760685398 average time 2.1392724340299445 iter num 100\n",
            "loss 0.001107300864154146 average time 2.1529856642500818 iter num 20\n",
            "loss 0.0010420013553479805 average time 2.1713295354000364 iter num 40\n",
            "loss 0.0010009385927367644 average time 2.159666770249972 iter num 60\n",
            "loss 0.0009828654487087684 average time 2.1519608593749466 iter num 80\n",
            "loss 0.0009791156964753245 average time 2.15033390259995 iter num 100\n",
            "loss 0.0009105843064464984 average time 2.1551744353999767 iter num 20\n",
            "loss 0.0008541696591824435 average time 2.1393095447250063 iter num 40\n",
            "loss 0.0008192858086050557 average time 2.1468894629166395 iter num 60\n",
            "loss 0.0008041195861729217 average time 2.14888637143747 iter num 80\n",
            "loss 0.0008009927865741439 average time 2.1488469548799913 iter num 100\n",
            "loss 0.0007441483322558483 average time 2.1410528399500435 iter num 20\n",
            "loss 0.0006978419519333564 average time 2.154972892750061 iter num 40\n",
            "loss 0.0006695852254479279 average time 2.1496282919834053 iter num 60\n",
            "loss 0.0006573825703226974 average time 2.1527352766250147 iter num 80\n",
            "loss 0.0006548732208114742 average time 2.149759811060021 iter num 100\n",
            "loss 0.0006095863480257466 average time 2.1541973938498815 iter num 20\n",
            "loss 0.0005734288467445075 average time 2.1346613523248834 iter num 40\n",
            "loss 0.0005516628727813144 average time 2.1395115516833356 iter num 60\n",
            "loss 0.000542291103607107 average time 2.1375796274625145 iter num 80\n",
            "loss 0.0005403706723843493 average time 2.136786409740034 iter num 100\n",
            "loss 0.0005059809887713855 average time 2.1535975816002066 iter num 20\n",
            "loss 0.00047923566518180504 average time 2.151731264250111 iter num 40\n",
            "loss 0.0004634964054037417 average time 2.1570117110667524 iter num 60\n",
            "loss 0.00045682573467852614 average time 2.175951214012457 iter num 80\n",
            "loss 0.0004554625734696231 average time 2.176416005149913 iter num 100\n",
            "loss 0.00043112744344766195 average time 2.1795640502501556 iter num 20\n",
            "loss 0.0004122273425871705 average time 2.150796643125068 iter num 40\n",
            "loss 0.0004011655915004259 average time 2.143816652966689 iter num 60\n",
            "loss 0.0003965149104015843 average time 2.1545796034000206 iter num 80\n",
            "loss 0.00039556517622396447 average time 2.153861559630004 iter num 100\n",
            "loss 0.00037870447740184304 average time 2.2051531833001716 iter num 20\n",
            "loss 0.00036577441926471325 average time 2.193153956175047 iter num 40\n",
            "loss 0.00035823658627489127 average time 2.1728937527666554 iter num 60\n",
            "loss 0.0003550513233847761 average time 2.180227208775045 iter num 80\n",
            "loss 0.0003544014092982138 average time 2.173492403470027 iter num 100\n",
            "loss 0.0003429761851319561 average time 2.1475851246499587 iter num 20\n",
            "loss 0.00033430526497004424 average time 2.164209378525038 iter num 40\n",
            "loss 0.0003292365544736486 average time 2.17248793664988 iter num 60\n",
            "loss 0.0003270894348178094 average time 2.180121975649945 iter num 80\n",
            "loss 0.0003266517840606835 average time 2.178866337429954 iter num 100\n",
            "loss 0.0003188381969377603 average time 2.1638591832997918 iter num 20\n",
            "loss 0.00031286426946676714 average time 2.1557102575498446 iter num 40\n",
            "loss 0.00030938213719941353 average time 2.1559870863499477 iter num 60\n",
            "loss 0.0003078925714247985 average time 2.1630215181999572 iter num 80\n",
            "loss 0.00030758850654042074 average time 2.165178087249915 iter num 100\n",
            "loss 0.00030323070110661865 average time 2.133860889549942 iter num 20\n",
            "loss 0.00029818293795295285 average time 2.166473594449917 iter num 40\n",
            "loss 0.0002956661977770268 average time 2.154694104333248 iter num 60\n",
            "loss 0.0002945824469312041 average time 2.1624368419624487 iter num 80\n",
            "loss 0.00029435315398780533 average time 2.164639682639936 iter num 100\n",
            "loss 0.00029044752452098014 average time 2.1585139768997577 iter num 20\n",
            "loss 0.0002872959895897718 average time 2.159896434424945 iter num 40\n",
            "loss 0.0002853411321958185 average time 2.153678897883401 iter num 60\n",
            "loss 0.0002844872543905218 average time 2.1594857578500752 iter num 80\n",
            "loss 0.00028431073826990926 average time 2.160361690440059 iter num 100\n",
            "loss 0.0002812072514947444 average time 2.1725204919497627 iter num 20\n",
            "loss 0.00027838843269611816 average time 2.178733237124834 iter num 40\n",
            "loss 0.00027674431832688627 average time 2.1826250368665567 iter num 60\n",
            "loss 0.00027599929512709125 average time 2.1857512997499726 iter num 80\n",
            "loss 0.00027584506997878247 average time 2.1800596622899864 iter num 100\n",
            "loss 0.0002727664031253485 average time 2.180848069499734 iter num 20\n",
            "loss 0.00027122986742714563 average time 2.1780354621249445 iter num 40\n",
            "loss 0.00026948967788807427 average time 2.167610423949918 iter num 60\n",
            "loss 0.0002689263098084445 average time 2.1687480724624266 iter num 80\n",
            "loss 0.00026881723868548487 average time 2.163061639729967 iter num 100\n",
            "loss 0.00026646780778857024 average time 2.1574979133499257 iter num 20\n",
            "loss 0.0002644475138875583 average time 2.172976887449977 iter num 40\n",
            "loss 0.0002631559024356011 average time 2.156616129149976 iter num 60\n",
            "loss 0.00026257749700638565 average time 2.1565740912125646 iter num 80\n",
            "loss 0.00026245656046936167 average time 2.1562213308200624 iter num 100\n",
            "loss 0.0002601983007004121 average time 2.1556289863498934 iter num 20\n",
            "loss 0.00025825563007049923 average time 2.1379157543749896 iter num 40\n",
            "loss 0.0002570012796596273 average time 2.1500672525000484 iter num 60\n",
            "loss 0.00025643713884053915 average time 2.1580320554876153 iter num 80\n",
            "loss 0.00025631917242719033 average time 2.1650460440201096 iter num 100\n",
            "loss 0.0002541147917899189 average time 2.165837317450132 iter num 20\n",
            "loss 0.0002522167560035161 average time 2.1886411581499035 iter num 40\n",
            "loss 0.00025098878845704515 average time 2.1900869297498504 iter num 60\n",
            "loss 0.0002504338679617176 average time 2.1822379068498776 iter num 80\n",
            "loss 0.0002503175984182038 average time 2.182452914919959 iter num 100\n",
            "loss 0.0002481435935809558 average time 2.145433668049827 iter num 20\n",
            "loss 0.00024625593640009155 average time 2.182690776624986 iter num 40\n",
            "loss 0.0002450406429754581 average time 2.179423339433227 iter num 60\n",
            "loss 0.0002444945536166813 average time 2.175638515524929 iter num 80\n",
            "loss 0.00024438046451284143 average time 2.1720314698099537 iter num 100\n",
            "loss 0.00024198945389011965 average time 2.1659415694502058 iter num 20\n",
            "loss 0.0002403458575203648 average time 2.1671523580250325 iter num 40\n",
            "loss 0.00023924008549938214 average time 2.1672748712833405 iter num 60\n",
            "loss 0.0002386922245290233 average time 2.172796341837511 iter num 80\n",
            "loss 0.0002385895122848684 average time 2.1649743429399133 iter num 100\n",
            "loss 0.00023985035581540687 average time 2.147110907249771 iter num 20\n",
            "loss 0.00023528203909210994 average time 2.152867355474973 iter num 40\n",
            "loss 0.0002347015141950986 average time 2.159675798683293 iter num 60\n",
            "loss 0.00023405173941596746 average time 2.164413544575018 iter num 80\n",
            "loss 0.00023400677726209923 average time 2.1737179244699654 iter num 100\n",
            "loss 0.00023254687079944973 average time 2.141170348849937 iter num 20\n",
            "loss 0.00023121196719626426 average time 2.145372663074977 iter num 40\n",
            "loss 0.0002304044412296807 average time 2.156911852299951 iter num 60\n",
            "loss 0.00023002956435765328 average time 2.1667730234499913 iter num 80\n",
            "loss 0.00022995214875453157 average time 2.1723057646800044 iter num 100\n",
            "loss 0.0002285020012292133 average time 2.1703723744499257 iter num 20\n",
            "loss 0.0002272447601622405 average time 2.179854145849822 iter num 40\n",
            "loss 0.00022643051942830523 average time 2.1688596587165194 iter num 60\n",
            "loss 0.0002260652254486035 average time 2.182428589237361 iter num 80\n",
            "loss 0.00022598875230659608 average time 2.177138144299879 iter num 100\n",
            "loss 0.0002245586829979813 average time 2.157371055800104 iter num 20\n",
            "loss 0.00022331999798002865 average time 2.173367498750076 iter num 40\n",
            "loss 0.00022251724526969703 average time 2.163433284816741 iter num 60\n",
            "loss 0.00022215563283158312 average time 2.159213038987491 iter num 80\n",
            "loss 0.0002220799504924874 average time 2.157670457029981 iter num 100\n",
            "loss 0.0002206615043528651 average time 2.1156989630499994 iter num 20\n",
            "loss 0.000219436105190107 average time 2.1009052264248567 iter num 40\n",
            "loss 0.00021864608165817647 average time 2.1196776318332318 iter num 60\n",
            "loss 0.00021829081608088657 average time 2.127558753074959 iter num 80\n",
            "loss 0.00021821648333063008 average time 2.1348686456699397 iter num 100\n",
            "loss 0.00021682103922620832 average time 2.168061844699878 iter num 20\n",
            "loss 0.00021561138074134442 average time 2.1656236939751126 iter num 40\n",
            "loss 0.0002148282590185485 average time 2.161818710850033 iter num 60\n",
            "loss 0.00021447570258543235 average time 2.1510622345249883 iter num 80\n",
            "loss 0.00021440237209718275 average time 2.142382085539939 iter num 100\n",
            "loss 0.0002130207062353791 average time 2.1545132092501262 iter num 20\n",
            "loss 0.00021181958401487574 average time 2.164344802325104 iter num 40\n",
            "loss 0.00021104192936648576 average time 2.153692644883419 iter num 60\n",
            "loss 0.00021069256036708607 average time 2.1611103858375373 iter num 80\n",
            "loss 0.0002106193077444405 average time 2.1572782934800125 iter num 100\n",
            "loss 0.00020925181625492935 average time 2.1611777731499386 iter num 20\n",
            "loss 0.0002080691705572855 average time 2.1938833875500223 iter num 40\n",
            "loss 0.00020730364798516253 average time 2.1738228325833613 iter num 60\n",
            "loss 0.00020696003836445995 average time 2.1683638351000356 iter num 80\n",
            "loss 0.00020688782648773911 average time 2.169223022770002 iter num 100\n",
            "loss 0.00020556565347033245 average time 2.1231685947504046 iter num 20\n",
            "loss 0.00020437233949719644 average time 2.136112849450092 iter num 40\n",
            "loss 0.00020362684673691503 average time 2.1404768234167024 iter num 60\n",
            "loss 0.0002032884120060839 average time 2.158043715599979 iter num 80\n",
            "loss 0.00020321751433301352 average time 2.155558721129946 iter num 100\n",
            "loss 0.00020917811035741718 average time 2.1677330242998325 iter num 20\n",
            "loss 0.00020136208725428067 average time 2.179216873699943 iter num 40\n",
            "loss 0.00020032904529538787 average time 2.185363018433236 iter num 60\n",
            "loss 0.0001999479908540976 average time 2.188204698149934 iter num 80\n",
            "loss 0.00019985340567296972 average time 2.18245998245995 iter num 100\n",
            "loss 0.00019861081100060573 average time 2.1420514266500503 iter num 20\n",
            "loss 0.00019765388326269256 average time 2.1403133554751093 iter num 40\n",
            "loss 0.0001970181741942254 average time 2.1495174519667066 iter num 60\n",
            "loss 0.00019673180057907556 average time 2.1500447937000446 iter num 80\n",
            "loss 0.00019667097250350172 average time 2.1518412236400764 iter num 100\n",
            "loss 0.00019554093091377973 average time 2.205997983949783 iter num 20\n",
            "loss 0.00019452443335393982 average time 2.1869278738748106 iter num 40\n",
            "loss 0.0001938896943875527 average time 2.18077237903323 iter num 60\n",
            "loss 0.00019359870747625766 average time 2.1809698141249783 iter num 80\n",
            "loss 0.00019353778605168926 average time 2.178131224539975 iter num 100\n",
            "loss 0.00019436500411694143 average time 2.142852072849928 iter num 20\n",
            "loss 0.00019129910592700366 average time 2.165834823249952 iter num 40\n",
            "loss 0.00019086874483171057 average time 2.1765017620000737 iter num 60\n",
            "loss 0.0001905134042538406 average time 2.1681099940750754 iter num 80\n",
            "loss 0.00019046163510434992 average time 2.1641003769300915 iter num 100\n",
            "loss 0.0001908318054662081 average time 2.16223250790008 iter num 20\n",
            "loss 0.00018856179306969947 average time 2.147363051750017 iter num 40\n",
            "loss 0.00018847860446518267 average time 2.1526822481833734 iter num 60\n",
            "loss 0.00018798226247159004 average time 2.151309839912551 iter num 80\n",
            "loss 0.0001879318706741175 average time 2.1575301881000812 iter num 100\n",
            "loss 0.00018698446985784603 average time 2.14365978984988 iter num 20\n",
            "loss 0.00018620248383459845 average time 2.164140094674849 iter num 40\n",
            "loss 0.00018570755600573802 average time 2.163305416649958 iter num 60\n",
            "loss 0.00018548496003375472 average time 2.1608294689875036 iter num 80\n",
            "loss 0.00018543840572098663 average time 2.1557465275599497 iter num 100\n",
            "loss 0.00018456931241753963 average time 2.1510556748499767 iter num 20\n",
            "loss 0.0001838160740677498 average time 2.139996192650051 iter num 40\n",
            "loss 0.0001833288528327283 average time 2.145557785116701 iter num 60\n",
            "loss 0.00018310987274106102 average time 2.1384719773500365 iter num 80\n",
            "loss 0.00018306440094062888 average time 2.1396780270300586 iter num 100\n",
            "loss 0.0001822058140344354 average time 2.1667626276997907 iter num 20\n",
            "loss 0.00018146048709219778 average time 2.159998763299973 iter num 40\n",
            "loss 0.00018097677549218526 average time 2.1586627947832917 iter num 60\n",
            "loss 0.0001807588172804787 average time 2.160666988900016 iter num 80\n",
            "loss 0.0001807131907878365 average time 2.157868817550043 iter num 100\n",
            "loss 0.0001798576358024351 average time 2.210149158200238 iter num 20\n",
            "loss 0.00017911328322677345 average time 2.1806837915502 iter num 40\n",
            "loss 0.0001786279017662511 average time 2.1729755324168156 iter num 60\n",
            "loss 0.0001784083593079324 average time 2.174326476125157 iter num 80\n",
            "loss 0.0001783625445603062 average time 2.1814994582901273 iter num 100\n",
            "loss 0.00017749794897341928 average time 2.198794338350035 iter num 20\n",
            "loss 0.0001767467773640765 average time 2.1978864048750895 iter num 40\n",
            "loss 0.00017625802537120513 average time 2.188922219650097 iter num 60\n",
            "loss 0.0001760374497555339 average time 2.184373377025145 iter num 80\n",
            "loss 0.00017599103671864358 average time 2.1766986119801732 iter num 100\n",
            "loss 0.00017512014828940348 average time 2.1534979000500245 iter num 20\n",
            "loss 0.00017436329681698055 average time 2.1632753120999495 iter num 40\n",
            "loss 0.0001738683680864038 average time 2.163387324349939 iter num 60\n",
            "loss 0.0001736447444162467 average time 2.1625846685624537 iter num 80\n",
            "loss 0.00017359810261562838 average time 2.166072205079981 iter num 100\n",
            "loss 0.00017286570459307973 average time 2.173561631049961 iter num 20\n",
            "loss 0.00017196859230229916 average time 2.175651501375069 iter num 40\n",
            "loss 0.0001714443341847232 average time 2.167592990650034 iter num 60\n",
            "loss 0.00017122143788660804 average time 2.163463363087499 iter num 80\n",
            "loss 0.00017117442107136816 average time 2.16309301583 iter num 100\n",
            "loss 0.00017398417458000097 average time 2.1605865169001843 iter num 20\n",
            "loss 0.00016986354131472205 average time 2.1765880673501217 iter num 40\n",
            "loss 0.0001694104460495595 average time 2.171881201300069 iter num 60\n",
            "loss 0.0001693630466581477 average time 2.1740499254624863 iter num 80\n",
            "loss 0.0001692939982637254 average time 2.167023918919986 iter num 100\n",
            "loss 0.00016843439063975833 average time 2.135381987150231 iter num 20\n",
            "loss 0.00016784844086416712 average time 2.144564714499984 iter num 40\n",
            "loss 0.000167421358772574 average time 2.151913754649983 iter num 60\n",
            "loss 0.00016724765066461044 average time 2.151757085100121 iter num 80\n",
            "loss 0.00016720981581145634 average time 2.157924459590049 iter num 100\n",
            "loss 0.00016651350903895638 average time 2.206643285050268 iter num 20\n",
            "loss 0.00016591685938143966 average time 2.2068378164502973 iter num 40\n",
            "loss 0.00016553312803411078 average time 2.191504027300228 iter num 60\n",
            "loss 0.0001653604785455189 average time 2.1903706354001313 iter num 80\n",
            "loss 0.00016532482482674004 average time 2.1842976975301642 iter num 100\n",
            "loss 0.0001646483120111565 average time 2.144039296099436 iter num 20\n",
            "loss 0.00016406168659068566 average time 2.1537324159500715 iter num 40\n",
            "loss 0.00016367991851535355 average time 2.145534914800252 iter num 60\n",
            "loss 0.00016350765662702618 average time 2.154689036725222 iter num 80\n",
            "loss 0.0001634717241429781 average time 2.1460599867301426 iter num 100\n",
            "loss 0.00016279073013867598 average time 2.1343250767997235 iter num 20\n",
            "loss 0.00016219537137138266 average time 2.127572830000008 iter num 40\n",
            "loss 0.00016180702639728275 average time 2.122155187116611 iter num 60\n",
            "loss 0.00016163074512841278 average time 2.1225684874374564 iter num 80\n",
            "loss 0.00016159447523098915 average time 2.1291770413300037 iter num 100\n",
            "loss 0.0001608968606022173 average time 2.1431832223004674 iter num 20\n",
            "loss 0.00016028799291387943 average time 2.1681887327004006 iter num 40\n",
            "loss 0.00015988890886111659 average time 2.1756472894668453 iter num 60\n",
            "loss 0.00015970827805597646 average time 2.1665660150750683 iter num 80\n",
            "loss 0.00015967069990662747 average time 2.158564004349937 iter num 100\n",
            "loss 0.00015895476729164707 average time 2.1479320352000286 iter num 20\n",
            "loss 0.00015832521050505207 average time 2.176760555374949 iter num 40\n",
            "loss 0.00015791232927542522 average time 2.1797782096498244 iter num 60\n",
            "loss 0.00015772597821697088 average time 2.185810032424797 iter num 80\n",
            "loss 0.00015768708485857776 average time 2.1752145541398202 iter num 100\n",
            "loss 0.0001569495915648941 average time 2.1210866061501292 iter num 20\n",
            "loss 0.00015630477211452248 average time 2.1286113018750257 iter num 40\n",
            "loss 0.00015588276168140483 average time 2.145894685283444 iter num 60\n",
            "loss 0.00015569134557500905 average time 2.146046592524999 iter num 80\n",
            "loss 0.00015565125392768024 average time 2.147199948910129 iter num 100\n",
            "loss 0.0001549276249507624 average time 2.1158617785496974 iter num 20\n",
            "loss 0.0001542268708788123 average time 2.131510689624702 iter num 40\n",
            "loss 0.00015379889607570674 average time 2.1255249152498434 iter num 60\n",
            "loss 0.00015360070384434679 average time 2.1324338280375286 iter num 80\n",
            "loss 0.00015355973192647478 average time 2.1332866296699287 iter num 100\n",
            "loss 0.000152893988921242 average time 2.1454676629502503 iter num 20\n",
            "loss 0.00015315245999454404 average time 2.143711525325125 iter num 40\n",
            "loss 0.00015204818526859268 average time 2.1516099688167136 iter num 60\n",
            "loss 0.0001517774349884026 average time 2.146838176587471 iter num 80\n",
            "loss 0.00015174403991253103 average time 2.1439753170197946 iter num 100\n",
            "loss 0.00015098866601218132 average time 2.153222388250106 iter num 20\n",
            "loss 0.00015037264853863161 average time 2.1356205376250728 iter num 40\n",
            "loss 0.0001499832207016275 average time 2.143800950950026 iter num 60\n",
            "loss 0.00014980946611711543 average time 2.1406260009125164 iter num 80\n",
            "loss 0.00014977308336807792 average time 2.142533017460155 iter num 100\n",
            "loss 0.00014909236380459742 average time 2.135780959249678 iter num 20\n",
            "loss 0.0001485016743890215 average time 2.1431775096749335 iter num 40\n",
            "loss 0.00014811811863209198 average time 2.1603486544165813 iter num 60\n",
            "loss 0.00014794508089516662 average time 2.1607302215501023 iter num 80\n",
            "loss 0.0001479089083567094 average time 2.1565766340100527 iter num 100\n",
            "loss 0.00014722689685406888 average time 2.1585131874497163 iter num 20\n",
            "loss 0.00014662915776629022 average time 2.144603043549705 iter num 40\n",
            "loss 0.00014623888995083376 average time 2.1416398638663545 iter num 60\n",
            "loss 0.00014606209686962254 average time 2.1313661974247227 iter num 80\n",
            "loss 0.0001460251238901426 average time 2.1349373388798267 iter num 100\n",
            "loss 0.00014532578442140703 average time 2.1639818170006038 iter num 20\n",
            "loss 0.00014471257628387974 average time 2.1639218778506804 iter num 40\n",
            "loss 0.00014430999088267365 average time 2.1575638273005096 iter num 60\n",
            "loss 0.00014412743932965672 average time 2.1565085219629054 iter num 80\n",
            "loss 0.00014408914371750932 average time 2.1593329388303757 iter num 100\n",
            "loss 0.00014343230417326267 average time 2.1618224231504426 iter num 20\n",
            "loss 0.00014274748481217487 average time 2.168536577325085 iter num 40\n",
            "loss 0.0001423192396751839 average time 2.1819987139831936 iter num 60\n",
            "loss 0.0001421337615475822 average time 2.177693762337367 iter num 80\n",
            "loss 0.00014209409737325613 average time 2.173710853529956 iter num 100\n",
            "loss 0.00014269395297497668 average time 2.200712651049616 iter num 20\n",
            "loss 0.00014157949065146108 average time 2.1807290268497126 iter num 40\n"
          ]
        },
        {
          "output_type": "stream",
          "name": "stderr",
          "text": [
            "Engine run is terminating due to exception: \n"
          ]
        },
        {
          "output_type": "error",
          "ename": "KeyboardInterrupt",
          "evalue": "ignored",
          "traceback": [
            "\u001b[0;31m---------------------------------------------------------------------------\u001b[0m",
            "\u001b[0;31mKeyboardInterrupt\u001b[0m                         Traceback (most recent call last)",
            "\u001b[0;32m<ipython-input-4-4197a39c0ae8>\u001b[0m in \u001b[0;36m<module>\u001b[0;34m()\u001b[0m\n\u001b[1;32m     69\u001b[0m         \u001b[0mprint\u001b[0m\u001b[0;34m(\u001b[0m\u001b[0;34m'loss'\u001b[0m\u001b[0;34m,\u001b[0m \u001b[0mengine\u001b[0m\u001b[0;34m.\u001b[0m\u001b[0mstate\u001b[0m\u001b[0;34m.\u001b[0m\u001b[0moutput\u001b[0m\u001b[0;34m,\u001b[0m \u001b[0;34m'average time'\u001b[0m\u001b[0;34m,\u001b[0m \u001b[0mtimer\u001b[0m\u001b[0;34m.\u001b[0m\u001b[0mvalue\u001b[0m\u001b[0;34m(\u001b[0m\u001b[0;34m)\u001b[0m\u001b[0;34m,\u001b[0m \u001b[0;34m'iter num'\u001b[0m\u001b[0;34m,\u001b[0m \u001b[0miter\u001b[0m\u001b[0;34m)\u001b[0m\u001b[0;34m\u001b[0m\u001b[0;34m\u001b[0m\u001b[0m\n\u001b[1;32m     70\u001b[0m \u001b[0;34m\u001b[0m\u001b[0m\n\u001b[0;32m---> 71\u001b[0;31m \u001b[0mtrainer\u001b[0m\u001b[0;34m.\u001b[0m\u001b[0mrun\u001b[0m\u001b[0;34m(\u001b[0m\u001b[0mdataset\u001b[0m\u001b[0;34m,\u001b[0m \u001b[0mmax_epochs\u001b[0m \u001b[0;34m=\u001b[0m \u001b[0;36m100\u001b[0m\u001b[0;34m)\u001b[0m\u001b[0;34m\u001b[0m\u001b[0;34m\u001b[0m\u001b[0m\n\u001b[0m",
            "\u001b[0;32m/usr/local/lib/python3.7/dist-packages/ignite/engine/engine.py\u001b[0m in \u001b[0;36mrun\u001b[0;34m(self, data, max_epochs, epoch_length, seed)\u001b[0m\n\u001b[1;32m    696\u001b[0m \u001b[0;34m\u001b[0m\u001b[0m\n\u001b[1;32m    697\u001b[0m         \u001b[0mself\u001b[0m\u001b[0;34m.\u001b[0m\u001b[0mstate\u001b[0m\u001b[0;34m.\u001b[0m\u001b[0mdataloader\u001b[0m \u001b[0;34m=\u001b[0m \u001b[0mdata\u001b[0m\u001b[0;34m\u001b[0m\u001b[0;34m\u001b[0m\u001b[0m\n\u001b[0;32m--> 698\u001b[0;31m         \u001b[0;32mreturn\u001b[0m \u001b[0mself\u001b[0m\u001b[0;34m.\u001b[0m\u001b[0m_internal_run\u001b[0m\u001b[0;34m(\u001b[0m\u001b[0;34m)\u001b[0m\u001b[0;34m\u001b[0m\u001b[0;34m\u001b[0m\u001b[0m\n\u001b[0m\u001b[1;32m    699\u001b[0m \u001b[0;34m\u001b[0m\u001b[0m\n\u001b[1;32m    700\u001b[0m     \u001b[0;34m@\u001b[0m\u001b[0mstaticmethod\u001b[0m\u001b[0;34m\u001b[0m\u001b[0;34m\u001b[0m\u001b[0m\n",
            "\u001b[0;32m/usr/local/lib/python3.7/dist-packages/ignite/engine/engine.py\u001b[0m in \u001b[0;36m_internal_run\u001b[0;34m(self)\u001b[0m\n\u001b[1;32m    769\u001b[0m             \u001b[0mself\u001b[0m\u001b[0;34m.\u001b[0m\u001b[0m_dataloader_iter\u001b[0m \u001b[0;34m=\u001b[0m \u001b[0;32mNone\u001b[0m\u001b[0;34m\u001b[0m\u001b[0;34m\u001b[0m\u001b[0m\n\u001b[1;32m    770\u001b[0m             \u001b[0mself\u001b[0m\u001b[0;34m.\u001b[0m\u001b[0mlogger\u001b[0m\u001b[0;34m.\u001b[0m\u001b[0merror\u001b[0m\u001b[0;34m(\u001b[0m\u001b[0;34mf\"Engine run is terminating due to exception: {e}\"\u001b[0m\u001b[0;34m)\u001b[0m\u001b[0;34m\u001b[0m\u001b[0;34m\u001b[0m\u001b[0m\n\u001b[0;32m--> 771\u001b[0;31m             \u001b[0mself\u001b[0m\u001b[0;34m.\u001b[0m\u001b[0m_handle_exception\u001b[0m\u001b[0;34m(\u001b[0m\u001b[0me\u001b[0m\u001b[0;34m)\u001b[0m\u001b[0;34m\u001b[0m\u001b[0;34m\u001b[0m\u001b[0m\n\u001b[0m\u001b[1;32m    772\u001b[0m \u001b[0;34m\u001b[0m\u001b[0m\n\u001b[1;32m    773\u001b[0m         \u001b[0mself\u001b[0m\u001b[0;34m.\u001b[0m\u001b[0m_dataloader_iter\u001b[0m \u001b[0;34m=\u001b[0m \u001b[0;32mNone\u001b[0m\u001b[0;34m\u001b[0m\u001b[0;34m\u001b[0m\u001b[0m\n",
            "\u001b[0;32m/usr/local/lib/python3.7/dist-packages/ignite/engine/engine.py\u001b[0m in \u001b[0;36m_handle_exception\u001b[0;34m(self, e)\u001b[0m\n\u001b[1;32m    464\u001b[0m             \u001b[0mself\u001b[0m\u001b[0;34m.\u001b[0m\u001b[0m_fire_event\u001b[0m\u001b[0;34m(\u001b[0m\u001b[0mEvents\u001b[0m\u001b[0;34m.\u001b[0m\u001b[0mEXCEPTION_RAISED\u001b[0m\u001b[0;34m,\u001b[0m \u001b[0me\u001b[0m\u001b[0;34m)\u001b[0m\u001b[0;34m\u001b[0m\u001b[0;34m\u001b[0m\u001b[0m\n\u001b[1;32m    465\u001b[0m         \u001b[0;32melse\u001b[0m\u001b[0;34m:\u001b[0m\u001b[0;34m\u001b[0m\u001b[0;34m\u001b[0m\u001b[0m\n\u001b[0;32m--> 466\u001b[0;31m             \u001b[0;32mraise\u001b[0m \u001b[0me\u001b[0m\u001b[0;34m\u001b[0m\u001b[0;34m\u001b[0m\u001b[0m\n\u001b[0m\u001b[1;32m    467\u001b[0m \u001b[0;34m\u001b[0m\u001b[0m\n\u001b[1;32m    468\u001b[0m     \u001b[0;34m@\u001b[0m\u001b[0mproperty\u001b[0m\u001b[0;34m\u001b[0m\u001b[0;34m\u001b[0m\u001b[0m\n",
            "\u001b[0;32m/usr/local/lib/python3.7/dist-packages/ignite/engine/engine.py\u001b[0m in \u001b[0;36m_internal_run\u001b[0;34m(self)\u001b[0m\n\u001b[1;32m    739\u001b[0m                     \u001b[0mself\u001b[0m\u001b[0;34m.\u001b[0m\u001b[0m_setup_engine\u001b[0m\u001b[0;34m(\u001b[0m\u001b[0;34m)\u001b[0m\u001b[0;34m\u001b[0m\u001b[0;34m\u001b[0m\u001b[0m\n\u001b[1;32m    740\u001b[0m \u001b[0;34m\u001b[0m\u001b[0m\n\u001b[0;32m--> 741\u001b[0;31m                 \u001b[0mtime_taken\u001b[0m \u001b[0;34m=\u001b[0m \u001b[0mself\u001b[0m\u001b[0;34m.\u001b[0m\u001b[0m_run_once_on_dataset\u001b[0m\u001b[0;34m(\u001b[0m\u001b[0;34m)\u001b[0m\u001b[0;34m\u001b[0m\u001b[0;34m\u001b[0m\u001b[0m\n\u001b[0m\u001b[1;32m    742\u001b[0m                 \u001b[0;31m# time is available for handlers but must be update after fire\u001b[0m\u001b[0;34m\u001b[0m\u001b[0;34m\u001b[0m\u001b[0;34m\u001b[0m\u001b[0m\n\u001b[1;32m    743\u001b[0m                 \u001b[0mself\u001b[0m\u001b[0;34m.\u001b[0m\u001b[0mstate\u001b[0m\u001b[0;34m.\u001b[0m\u001b[0mtimes\u001b[0m\u001b[0;34m[\u001b[0m\u001b[0mEvents\u001b[0m\u001b[0;34m.\u001b[0m\u001b[0mEPOCH_COMPLETED\u001b[0m\u001b[0;34m.\u001b[0m\u001b[0mname\u001b[0m\u001b[0;34m]\u001b[0m \u001b[0;34m=\u001b[0m \u001b[0mtime_taken\u001b[0m\u001b[0;34m\u001b[0m\u001b[0;34m\u001b[0m\u001b[0m\n",
            "\u001b[0;32m/usr/local/lib/python3.7/dist-packages/ignite/engine/engine.py\u001b[0m in \u001b[0;36m_run_once_on_dataset\u001b[0;34m(self)\u001b[0m\n\u001b[1;32m    829\u001b[0m                 \u001b[0mself\u001b[0m\u001b[0;34m.\u001b[0m\u001b[0mstate\u001b[0m\u001b[0;34m.\u001b[0m\u001b[0miteration\u001b[0m \u001b[0;34m+=\u001b[0m \u001b[0;36m1\u001b[0m\u001b[0;34m\u001b[0m\u001b[0;34m\u001b[0m\u001b[0m\n\u001b[1;32m    830\u001b[0m                 \u001b[0mself\u001b[0m\u001b[0;34m.\u001b[0m\u001b[0m_fire_event\u001b[0m\u001b[0;34m(\u001b[0m\u001b[0mEvents\u001b[0m\u001b[0;34m.\u001b[0m\u001b[0mITERATION_STARTED\u001b[0m\u001b[0;34m)\u001b[0m\u001b[0;34m\u001b[0m\u001b[0;34m\u001b[0m\u001b[0m\n\u001b[0;32m--> 831\u001b[0;31m                 \u001b[0mself\u001b[0m\u001b[0;34m.\u001b[0m\u001b[0mstate\u001b[0m\u001b[0;34m.\u001b[0m\u001b[0moutput\u001b[0m \u001b[0;34m=\u001b[0m \u001b[0mself\u001b[0m\u001b[0;34m.\u001b[0m\u001b[0m_process_function\u001b[0m\u001b[0;34m(\u001b[0m\u001b[0mself\u001b[0m\u001b[0;34m,\u001b[0m \u001b[0mself\u001b[0m\u001b[0;34m.\u001b[0m\u001b[0mstate\u001b[0m\u001b[0;34m.\u001b[0m\u001b[0mbatch\u001b[0m\u001b[0;34m)\u001b[0m\u001b[0;34m\u001b[0m\u001b[0;34m\u001b[0m\u001b[0m\n\u001b[0m\u001b[1;32m    832\u001b[0m                 \u001b[0mself\u001b[0m\u001b[0;34m.\u001b[0m\u001b[0m_fire_event\u001b[0m\u001b[0;34m(\u001b[0m\u001b[0mEvents\u001b[0m\u001b[0;34m.\u001b[0m\u001b[0mITERATION_COMPLETED\u001b[0m\u001b[0;34m)\u001b[0m\u001b[0;34m\u001b[0m\u001b[0;34m\u001b[0m\u001b[0m\n\u001b[1;32m    833\u001b[0m \u001b[0;34m\u001b[0m\u001b[0m\n",
            "\u001b[0;32m<ipython-input-4-4197a39c0ae8>\u001b[0m in \u001b[0;36mtrain_update\u001b[0;34m(engine, batch)\u001b[0m\n\u001b[1;32m     40\u001b[0m       \u001b[0;32mreturn\u001b[0m \u001b[0mfirst_order_gradient\u001b[0m\u001b[0;34m[\u001b[0m\u001b[0;36m0\u001b[0m\u001b[0;34m]\u001b[0m\u001b[0;34m[\u001b[0m\u001b[0;34m[\u001b[0m\u001b[0;36m2\u001b[0m\u001b[0;34m]\u001b[0m\u001b[0;34m]\u001b[0m\u001b[0;34m\u001b[0m\u001b[0;34m\u001b[0m\u001b[0m\n\u001b[1;32m     41\u001b[0m \u001b[0;34m\u001b[0m\u001b[0m\n\u001b[0;32m---> 42\u001b[0;31m     \u001b[0mdeltas\u001b[0m \u001b[0;34m=\u001b[0m \u001b[0mtorch\u001b[0m\u001b[0;34m.\u001b[0m\u001b[0mstack\u001b[0m\u001b[0;34m(\u001b[0m\u001b[0;34m[\u001b[0m\u001b[0mcompute_deltas\u001b[0m\u001b[0;34m(\u001b[0m\u001b[0mx\u001b[0m\u001b[0;34m)\u001b[0m \u001b[0;32mfor\u001b[0m \u001b[0mx\u001b[0m \u001b[0;32min\u001b[0m \u001b[0mtorch\u001b[0m\u001b[0;34m.\u001b[0m\u001b[0munbind\u001b[0m\u001b[0;34m(\u001b[0m\u001b[0mx\u001b[0m\u001b[0;34m)\u001b[0m\u001b[0;34m]\u001b[0m\u001b[0;34m,\u001b[0m \u001b[0mdim\u001b[0m\u001b[0;34m=\u001b[0m\u001b[0;36m0\u001b[0m\u001b[0;34m)\u001b[0m\u001b[0;34m\u001b[0m\u001b[0;34m\u001b[0m\u001b[0m\n\u001b[0m\u001b[1;32m     43\u001b[0m     \u001b[0my_pred\u001b[0m \u001b[0;34m=\u001b[0m \u001b[0mtorch\u001b[0m\u001b[0;34m.\u001b[0m\u001b[0mcat\u001b[0m\u001b[0;34m(\u001b[0m\u001b[0;34m(\u001b[0m\u001b[0my_pred\u001b[0m\u001b[0;34m,\u001b[0m \u001b[0mdeltas\u001b[0m\u001b[0;34m)\u001b[0m\u001b[0;34m,\u001b[0m \u001b[0;36m1\u001b[0m\u001b[0;34m)\u001b[0m\u001b[0;34m\u001b[0m\u001b[0;34m\u001b[0m\u001b[0m\n\u001b[1;32m     44\u001b[0m     \u001b[0;31m# print(y_pred)\u001b[0m\u001b[0;34m\u001b[0m\u001b[0;34m\u001b[0m\u001b[0;34m\u001b[0m\u001b[0m\n",
            "\u001b[0;32m<ipython-input-4-4197a39c0ae8>\u001b[0m in \u001b[0;36m<listcomp>\u001b[0;34m(.0)\u001b[0m\n\u001b[1;32m     40\u001b[0m       \u001b[0;32mreturn\u001b[0m \u001b[0mfirst_order_gradient\u001b[0m\u001b[0;34m[\u001b[0m\u001b[0;36m0\u001b[0m\u001b[0;34m]\u001b[0m\u001b[0;34m[\u001b[0m\u001b[0;34m[\u001b[0m\u001b[0;36m2\u001b[0m\u001b[0;34m]\u001b[0m\u001b[0;34m]\u001b[0m\u001b[0;34m\u001b[0m\u001b[0;34m\u001b[0m\u001b[0m\n\u001b[1;32m     41\u001b[0m \u001b[0;34m\u001b[0m\u001b[0m\n\u001b[0;32m---> 42\u001b[0;31m     \u001b[0mdeltas\u001b[0m \u001b[0;34m=\u001b[0m \u001b[0mtorch\u001b[0m\u001b[0;34m.\u001b[0m\u001b[0mstack\u001b[0m\u001b[0;34m(\u001b[0m\u001b[0;34m[\u001b[0m\u001b[0mcompute_deltas\u001b[0m\u001b[0;34m(\u001b[0m\u001b[0mx\u001b[0m\u001b[0;34m)\u001b[0m \u001b[0;32mfor\u001b[0m \u001b[0mx\u001b[0m \u001b[0;32min\u001b[0m \u001b[0mtorch\u001b[0m\u001b[0;34m.\u001b[0m\u001b[0munbind\u001b[0m\u001b[0;34m(\u001b[0m\u001b[0mx\u001b[0m\u001b[0;34m)\u001b[0m\u001b[0;34m]\u001b[0m\u001b[0;34m,\u001b[0m \u001b[0mdim\u001b[0m\u001b[0;34m=\u001b[0m\u001b[0;36m0\u001b[0m\u001b[0;34m)\u001b[0m\u001b[0;34m\u001b[0m\u001b[0;34m\u001b[0m\u001b[0m\n\u001b[0m\u001b[1;32m     43\u001b[0m     \u001b[0my_pred\u001b[0m \u001b[0;34m=\u001b[0m \u001b[0mtorch\u001b[0m\u001b[0;34m.\u001b[0m\u001b[0mcat\u001b[0m\u001b[0;34m(\u001b[0m\u001b[0;34m(\u001b[0m\u001b[0my_pred\u001b[0m\u001b[0;34m,\u001b[0m \u001b[0mdeltas\u001b[0m\u001b[0;34m)\u001b[0m\u001b[0;34m,\u001b[0m \u001b[0;36m1\u001b[0m\u001b[0;34m)\u001b[0m\u001b[0;34m\u001b[0m\u001b[0;34m\u001b[0m\u001b[0m\n\u001b[1;32m     44\u001b[0m     \u001b[0;31m# print(y_pred)\u001b[0m\u001b[0;34m\u001b[0m\u001b[0;34m\u001b[0m\u001b[0;34m\u001b[0m\u001b[0m\n",
            "\u001b[0;32m<ipython-input-4-4197a39c0ae8>\u001b[0m in \u001b[0;36mcompute_deltas\u001b[0;34m(x)\u001b[0m\n\u001b[1;32m     37\u001b[0m       \u001b[0minputs\u001b[0m \u001b[0;34m=\u001b[0m \u001b[0mx\u001b[0m\u001b[0;34m.\u001b[0m\u001b[0mfloat\u001b[0m\u001b[0;34m(\u001b[0m\u001b[0;34m)\u001b[0m\u001b[0;34m\u001b[0m\u001b[0;34m\u001b[0m\u001b[0m\n\u001b[1;32m     38\u001b[0m       \u001b[0minputs\u001b[0m\u001b[0;34m.\u001b[0m\u001b[0mrequires_grad\u001b[0m \u001b[0;34m=\u001b[0m \u001b[0;32mTrue\u001b[0m\u001b[0;34m\u001b[0m\u001b[0;34m\u001b[0m\u001b[0m\n\u001b[0;32m---> 39\u001b[0;31m       \u001b[0mfirst_order_gradient\u001b[0m \u001b[0;34m=\u001b[0m \u001b[0mgrad\u001b[0m\u001b[0;34m(\u001b[0m\u001b[0mmodel\u001b[0m\u001b[0;34m(\u001b[0m\u001b[0minputs\u001b[0m\u001b[0;34m)\u001b[0m\u001b[0;34m,\u001b[0m \u001b[0minputs\u001b[0m\u001b[0;34m,\u001b[0m \u001b[0mcreate_graph\u001b[0m\u001b[0;34m=\u001b[0m\u001b[0;32mFalse\u001b[0m\u001b[0;34m)\u001b[0m\u001b[0;34m\u001b[0m\u001b[0;34m\u001b[0m\u001b[0m\n\u001b[0m\u001b[1;32m     40\u001b[0m       \u001b[0;32mreturn\u001b[0m \u001b[0mfirst_order_gradient\u001b[0m\u001b[0;34m[\u001b[0m\u001b[0;36m0\u001b[0m\u001b[0;34m]\u001b[0m\u001b[0;34m[\u001b[0m\u001b[0;34m[\u001b[0m\u001b[0;36m2\u001b[0m\u001b[0;34m]\u001b[0m\u001b[0;34m]\u001b[0m\u001b[0;34m\u001b[0m\u001b[0;34m\u001b[0m\u001b[0m\n\u001b[1;32m     41\u001b[0m \u001b[0;34m\u001b[0m\u001b[0m\n",
            "\u001b[0;32m/usr/local/lib/python3.7/dist-packages/torch/nn/modules/module.py\u001b[0m in \u001b[0;36m_call_impl\u001b[0;34m(self, *input, **kwargs)\u001b[0m\n\u001b[1;32m   1100\u001b[0m         if not (self._backward_hooks or self._forward_hooks or self._forward_pre_hooks or _global_backward_hooks\n\u001b[1;32m   1101\u001b[0m                 or _global_forward_hooks or _global_forward_pre_hooks):\n\u001b[0;32m-> 1102\u001b[0;31m             \u001b[0;32mreturn\u001b[0m \u001b[0mforward_call\u001b[0m\u001b[0;34m(\u001b[0m\u001b[0;34m*\u001b[0m\u001b[0minput\u001b[0m\u001b[0;34m,\u001b[0m \u001b[0;34m**\u001b[0m\u001b[0mkwargs\u001b[0m\u001b[0;34m)\u001b[0m\u001b[0;34m\u001b[0m\u001b[0;34m\u001b[0m\u001b[0m\n\u001b[0m\u001b[1;32m   1103\u001b[0m         \u001b[0;31m# Do not call functions when jit is used\u001b[0m\u001b[0;34m\u001b[0m\u001b[0;34m\u001b[0m\u001b[0;34m\u001b[0m\u001b[0m\n\u001b[1;32m   1104\u001b[0m         \u001b[0mfull_backward_hooks\u001b[0m\u001b[0;34m,\u001b[0m \u001b[0mnon_full_backward_hooks\u001b[0m \u001b[0;34m=\u001b[0m \u001b[0;34m[\u001b[0m\u001b[0;34m]\u001b[0m\u001b[0;34m,\u001b[0m \u001b[0;34m[\u001b[0m\u001b[0;34m]\u001b[0m\u001b[0;34m\u001b[0m\u001b[0;34m\u001b[0m\u001b[0m\n",
            "\u001b[0;32m/content/model.py\u001b[0m in \u001b[0;36mforward\u001b[0;34m(self, x)\u001b[0m\n\u001b[1;32m     21\u001b[0m     \u001b[0;32mdef\u001b[0m \u001b[0mforward\u001b[0m\u001b[0;34m(\u001b[0m\u001b[0mself\u001b[0m\u001b[0;34m,\u001b[0m \u001b[0mx\u001b[0m\u001b[0;34m)\u001b[0m\u001b[0;34m:\u001b[0m\u001b[0;34m\u001b[0m\u001b[0;34m\u001b[0m\u001b[0m\n\u001b[1;32m     22\u001b[0m         \u001b[0;31m# normalize the parameter to range [0-1]\u001b[0m\u001b[0;34m\u001b[0m\u001b[0;34m\u001b[0m\u001b[0;34m\u001b[0m\u001b[0m\n\u001b[0;32m---> 23\u001b[0;31m         \u001b[0mx\u001b[0m \u001b[0;34m=\u001b[0m \u001b[0;34m(\u001b[0m\u001b[0mx\u001b[0m \u001b[0;34m-\u001b[0m \u001b[0mtorch\u001b[0m\u001b[0;34m.\u001b[0m\u001b[0mtensor\u001b[0m\u001b[0;34m(\u001b[0m\u001b[0;34m[\u001b[0m\u001b[0;36m0.0\u001b[0m\u001b[0;34m,\u001b[0m \u001b[0;36m0.75\u001b[0m\u001b[0;34m,\u001b[0m \u001b[0;36m0.75\u001b[0m\u001b[0;34m,\u001b[0m \u001b[0;36m0.15\u001b[0m\u001b[0;34m,\u001b[0m \u001b[0;36m0.01\u001b[0m\u001b[0;34m,\u001b[0m \u001b[0;36m0.01\u001b[0m\u001b[0;34m]\u001b[0m\u001b[0;34m*\u001b[0m\u001b[0;36m1\u001b[0m\u001b[0;34m)\u001b[0m\u001b[0;34m.\u001b[0m\u001b[0mcuda\u001b[0m\u001b[0;34m(\u001b[0m\u001b[0;34m)\u001b[0m\u001b[0;34m)\u001b[0m \u001b[0;34m/\u001b[0m \u001b[0mself\u001b[0m\u001b[0;34m.\u001b[0m\u001b[0mnorm\u001b[0m\u001b[0;34m\u001b[0m\u001b[0;34m\u001b[0m\u001b[0m\n\u001b[0m\u001b[1;32m     24\u001b[0m         \u001b[0mx\u001b[0m \u001b[0;34m=\u001b[0m \u001b[0mF\u001b[0m\u001b[0;34m.\u001b[0m\u001b[0melu\u001b[0m\u001b[0;34m(\u001b[0m\u001b[0mself\u001b[0m\u001b[0;34m.\u001b[0m\u001b[0mfc1\u001b[0m\u001b[0;34m(\u001b[0m\u001b[0mx\u001b[0m\u001b[0;34m)\u001b[0m\u001b[0;34m)\u001b[0m\u001b[0;34m\u001b[0m\u001b[0;34m\u001b[0m\u001b[0m\n\u001b[1;32m     25\u001b[0m         \u001b[0mx\u001b[0m \u001b[0;34m=\u001b[0m \u001b[0mF\u001b[0m\u001b[0;34m.\u001b[0m\u001b[0melu\u001b[0m\u001b[0;34m(\u001b[0m\u001b[0mself\u001b[0m\u001b[0;34m.\u001b[0m\u001b[0mfc2\u001b[0m\u001b[0;34m(\u001b[0m\u001b[0mx\u001b[0m\u001b[0;34m)\u001b[0m\u001b[0;34m)\u001b[0m\u001b[0;34m\u001b[0m\u001b[0;34m\u001b[0m\u001b[0m\n",
            "\u001b[0;31mKeyboardInterrupt\u001b[0m: "
          ]
        }
      ]
    },
    {
      "cell_type": "code",
      "metadata": {
        "id": "C_fEzULvKwR-"
      },
      "source": [
        "# 20:32\n",
        "# 1:56"
      ],
      "execution_count": null,
      "outputs": []
    },
    {
      "cell_type": "markdown",
      "metadata": {
        "id": "NOxUYnbSVTnl"
      },
      "source": [
        "**Save Model**"
      ]
    },
    {
      "cell_type": "code",
      "metadata": {
        "id": "mq_GDLdvU9ib",
        "colab": {
          "base_uri": "https://localhost:8080/"
        },
        "outputId": "1b3be0cc-7ec7-4b6f-f8b8-dc8109dcbf5e"
      },
      "source": [
        "from google.colab import drive\n",
        "drive.mount('/content/drive')"
      ],
      "execution_count": 5,
      "outputs": [
        {
          "output_type": "stream",
          "name": "stdout",
          "text": [
            "Mounted at /content/drive\n"
          ]
        }
      ]
    },
    {
      "cell_type": "code",
      "metadata": {
        "id": "iNEAqIJAVa-6"
      },
      "source": [
        "import torch\n",
        "model_save_name = 'jax_european_1stock_BS_oneDS_1.pth'\n",
        "path = F\"/content/drive/MyDrive/AFP Project/PUI/{model_save_name}\" \n",
        "torch.save(model.state_dict(), path)"
      ],
      "execution_count": 6,
      "outputs": []
    },
    {
      "cell_type": "markdown",
      "metadata": {
        "id": "4IXkmXlAVdEh"
      },
      "source": [
        "**Load Model**"
      ]
    },
    {
      "cell_type": "code",
      "metadata": {
        "id": "QjERL5bcVcXS",
        "colab": {
          "base_uri": "https://localhost:8080/"
        },
        "outputId": "a71c75ef-e2f8-4da6-9f24-8839d3bfcd05"
      },
      "source": [
        "from google.colab import drive\n",
        "drive.mount('/content/drive')"
      ],
      "execution_count": 5,
      "outputs": [
        {
          "output_type": "stream",
          "name": "stdout",
          "text": [
            "Mounted at /content/drive\n"
          ]
        }
      ]
    },
    {
      "cell_type": "code",
      "metadata": {
        "id": "oIJoo5Z7VjAR",
        "colab": {
          "base_uri": "https://localhost:8080/"
        },
        "outputId": "2848927e-6eae-4dfa-90d5-e2db657ce19f"
      },
      "source": [
        "import torch\n",
        "model_save_name = 'jax_european_1stock_BS_oneDS_2.pth'\n",
        "path = F\"/content/drive/MyDrive/AFP Project/PUI/{model_save_name}\" \n",
        "state_dict = torch.load(path)\n",
        "print(state_dict.keys())"
      ],
      "execution_count": 6,
      "outputs": [
        {
          "output_type": "stream",
          "name": "stdout",
          "text": [
            "odict_keys(['norm', 'fc1.weight', 'fc1.bias', 'fc2.weight', 'fc2.bias', 'fc3.weight', 'fc3.bias', 'fc4.weight', 'fc4.bias', 'fc5.weight', 'fc5.bias', 'fc6.weight', 'fc6.bias'])\n"
          ]
        }
      ]
    },
    {
      "cell_type": "code",
      "metadata": {
        "id": "mSkrjknWVlL8",
        "colab": {
          "base_uri": "https://localhost:8080/"
        },
        "outputId": "329a236f-a629-4ec8-d2b0-6eb57ebc596e"
      },
      "source": [
        "# need to run 'Writing cupy_dataset.py' and 'Writing model.py' above before this\n",
        "from model import Net\n",
        "model = Net().cuda()\n",
        "\n",
        "model.load_state_dict(state_dict)\n",
        "print(model)"
      ],
      "execution_count": 7,
      "outputs": [
        {
          "output_type": "stream",
          "name": "stdout",
          "text": [
            "Net(\n",
            "  (fc1): Linear(in_features=6, out_features=32, bias=True)\n",
            "  (fc2): Linear(in_features=32, out_features=64, bias=True)\n",
            "  (fc3): Linear(in_features=64, out_features=128, bias=True)\n",
            "  (fc4): Linear(in_features=128, out_features=64, bias=True)\n",
            "  (fc5): Linear(in_features=64, out_features=32, bias=True)\n",
            "  (fc6): Linear(in_features=32, out_features=1, bias=True)\n",
            ")\n"
          ]
        }
      ]
    },
    {
      "cell_type": "markdown",
      "metadata": {
        "id": "s5MbsAwEVmff"
      },
      "source": [
        "**Continue to train model**"
      ]
    },
    {
      "cell_type": "code",
      "metadata": {
        "id": "aQYxo1IXVl57",
        "colab": {
          "base_uri": "https://localhost:8080/"
        },
        "outputId": "5239e77f-519d-46b0-db4f-fac43c63ea4c"
      },
      "source": [
        "# version 2, 7\n",
        "# If memory is not enough, try changing parameters and restarting session\n",
        "# loss will converge\n",
        "\n",
        "from ignite.engine import Engine, Events\n",
        "from ignite.handlers import Timer\n",
        "from torch.nn import MSELoss\n",
        "from torch.optim import Adam\n",
        "from ignite.contrib.handlers.param_scheduler import CosineAnnealingScheduler\n",
        "from ignite.handlers import ModelCheckpoint\n",
        "from model import Net\n",
        "from cupy_dataset import OptionDataSet\n",
        "import numpy as np\n",
        "import torch\n",
        "from torch import Tensor\n",
        "from torch.autograd import grad\n",
        "timer = Timer(average=True)\n",
        "#model = Net().cuda()\n",
        "loss_fn = MSELoss()\n",
        "optimizer = Adam(model.parameters(), lr=1e-3)\n",
        "dataset = OptionDataSet(max_len = 100, number_path = 100000, batch = 1, seed = np.random.randint(10000), stocks = 1) # must have random seed. It doesn't matter how many batch here (not taken into function). Use max_len to adjust\n",
        "\n",
        "def train_update(engine, batch):\n",
        "    model.train()\n",
        "    optimizer.zero_grad()\n",
        "    x = batch[0]\n",
        "    y = batch[1]\n",
        "    y_pred = model(x.float())\n",
        "\n",
        "    def compute_deltas(x):\n",
        "      inputs = x.float()\n",
        "      inputs.requires_grad = True\n",
        "      first_order_gradient = grad(model(inputs), inputs, create_graph=False)\n",
        "      return first_order_gradient[0][[2]]\n",
        "\n",
        "    deltas = torch.stack([compute_deltas(x) for x in torch.unbind(x)], dim=0)\n",
        "    y_pred = torch.cat((y_pred, deltas), 1)\n",
        "\n",
        "    loss_weight = torch.tensor([1, 1]).cuda()\n",
        "    loss_weight_normalized = loss_weight/loss_weight.sum()\n",
        "    loss = ((y_pred - y) ** 2 * loss_weight_normalized).mean(axis=0).sum() # compute weighted MSE between the 2 arrays\n",
        "\n",
        "    loss.backward()\n",
        "    optimizer.step()\n",
        "    return loss.item()\n",
        "\n",
        "trainer = Engine(train_update)\n",
        "log_interval = 20\n",
        "\n",
        "scheduler = CosineAnnealingScheduler(optimizer, 'lr', 1e-4, 1e-6, len(dataset))\n",
        "trainer.add_event_handler(Events.ITERATION_STARTED, scheduler)\n",
        "timer.attach(trainer,\n",
        "             start=Events.EPOCH_STARTED,\n",
        "             resume=Events.ITERATION_STARTED,\n",
        "             pause=Events.ITERATION_COMPLETED,\n",
        "             step=Events.ITERATION_COMPLETED)    \n",
        "@trainer.on(Events.ITERATION_COMPLETED)\n",
        "def log_training_loss(engine):\n",
        "    iter = (engine.state.iteration - 1) % len(dataset) + 1\n",
        "    if iter % log_interval == 0:\n",
        "        print('loss', engine.state.output, 'average time', timer.value(), 'iter num', iter)\n",
        "        \n",
        "trainer.run(dataset, max_epochs = 50)\n",
        "\n",
        "model_save_name = 'jax_european_1stock_BS_oneDS_2.pth'\n",
        "path = F\"/content/drive/MyDrive/AFP Project/PUI/{model_save_name}\" \n",
        "torch.save(model.state_dict(), path)"
      ],
      "execution_count": 15,
      "outputs": [
        {
          "output_type": "stream",
          "name": "stdout",
          "text": [
            "loss 0.00014343598652116147 average time 2.1517012593494655 iter num 20\n",
            "loss 0.00014397651055074426 average time 2.1567439403997923 iter num 40\n",
            "loss 0.00014147028012654844 average time 2.159693487033231 iter num 60\n",
            "loss 0.00014155845974380953 average time 2.1718470632125446 iter num 80\n",
            "loss 0.00014153674193813793 average time 2.1683865032501126 iter num 100\n",
            "loss 0.0001411492403129057 average time 2.179297355850031 iter num 20\n",
            "loss 0.000140663668273772 average time 2.152569434875022 iter num 40\n",
            "loss 0.00014044119848717816 average time 2.152489299066595 iter num 60\n",
            "loss 0.0001403293634534273 average time 2.1646394438875176 iter num 80\n",
            "loss 0.000140309619323086 average time 2.165091931220086 iter num 100\n",
            "loss 0.00013987734443052124 average time 2.213684456700139 iter num 20\n",
            "loss 0.00013952138761062083 average time 2.1948286310753247 iter num 40\n",
            "loss 0.0001393020191195068 average time 2.1939285673835913 iter num 60\n",
            "loss 0.000139204043281672 average time 2.183612899875243 iter num 80\n",
            "loss 0.00013918452617803616 average time 2.182504193890127 iter num 100\n",
            "loss 0.00013879738101308306 average time 2.178213723549379 iter num 20\n",
            "loss 0.00013847229104200592 average time 2.180704508899635 iter num 40\n",
            "loss 0.00013826713083919245 average time 2.1916701098665725 iter num 60\n",
            "loss 0.00013817505290161395 average time 2.206166658187476 iter num 80\n",
            "loss 0.00013815651465593436 average time 2.2115470672899393 iter num 100\n",
            "loss 0.00013778998156412472 average time 2.1924424455492044 iter num 20\n",
            "loss 0.00013747385544062772 average time 2.1803667434746785 iter num 40\n",
            "loss 0.0001372695553453941 average time 2.1793076862997625 iter num 60\n",
            "loss 0.00013717705467859175 average time 2.1775685617872567 iter num 80\n",
            "loss 0.0001371579290981371 average time 2.183366190309789 iter num 100\n",
            "loss 0.00013678586720251474 average time 2.1633561918006308 iter num 20\n",
            "loss 0.00013646036029202186 average time 2.188063856075405 iter num 40\n",
            "loss 0.00013624754104785293 average time 2.18947039306701 iter num 60\n",
            "loss 0.0001361514306034835 average time 2.1855772624502605 iter num 80\n",
            "loss 0.0001361311784003808 average time 2.183439059600241 iter num 100\n",
            "loss 0.00013574055783461842 average time 2.1814414125496113 iter num 20\n",
            "loss 0.0001353955908093481 average time 2.1767075078499145 iter num 40\n",
            "loss 0.0001351685999609814 average time 2.177639197716538 iter num 60\n",
            "loss 0.00013506425287228022 average time 2.1709037739999077 iter num 80\n",
            "loss 0.00013504247175974765 average time 2.1686507857499238 iter num 100\n",
            "loss 0.00013462236811654193 average time 2.2109480021996206 iter num 20\n",
            "loss 0.00013425090443828892 average time 2.1822483351998017 iter num 40\n",
            "loss 0.00013400423533879697 average time 2.1818844794330894 iter num 60\n",
            "loss 0.0001338917816348149 average time 2.1947026712247406 iter num 80\n",
            "loss 0.00013386825770529212 average time 2.189605169759816 iter num 100\n",
            "loss 0.00013341596967962927 average time 2.160711644849653 iter num 20\n",
            "loss 0.00013301470500338985 average time 2.1813428280746847 iter num 40\n",
            "loss 0.00013274948716039206 average time 2.1821620527998675 iter num 60\n",
            "loss 0.00013262796110717184 average time 2.1767392148375166 iter num 80\n",
            "loss 0.00013260262308018876 average time 2.17039011871002 iter num 100\n",
            "loss 0.00013211547215824567 average time 2.197317028499492 iter num 20\n",
            "loss 0.00013168324958502962 average time 2.1931260327998645 iter num 40\n",
            "loss 0.0001313976040008451 average time 2.189696597199812 iter num 60\n",
            "loss 0.0001312675190233479 average time 2.1884824241624754 iter num 80\n",
            "loss 0.00013124029534235238 average time 2.187809863199909 iter num 100\n",
            "loss 0.00013071962806765963 average time 2.1624425745996634 iter num 20\n",
            "loss 0.00013026006336133594 average time 2.1540028003999394 iter num 40\n",
            "loss 0.00012995664394329265 average time 2.164042209083406 iter num 60\n",
            "loss 0.00012981837432333022 average time 2.161928118500009 iter num 80\n",
            "loss 0.00012978937317874352 average time 2.164272690740072 iter num 100\n",
            "loss 0.00012923533730186618 average time 2.1435802711494034 iter num 20\n",
            "loss 0.0001287456354633257 average time 2.1460261404744414 iter num 40\n",
            "loss 0.00012842215180430244 average time 2.143058068516378 iter num 60\n",
            "loss 0.0001282747247496648 average time 2.1500164329248945 iter num 80\n",
            "loss 0.00012824366619939082 average time 2.1522703634499702 iter num 100\n",
            "loss 0.00012765425791500738 average time 2.1806470040002752 iter num 20\n",
            "loss 0.00012713039792302633 average time 2.183349476625426 iter num 40\n",
            "loss 0.00012678379179132047 average time 2.1887571489172237 iter num 60\n",
            "loss 0.0001266259681228827 average time 2.1775860014129194 iter num 80\n",
            "loss 0.0001265929481511665 average time 2.1763978252904055 iter num 100\n",
            "loss 0.00012596577325773192 average time 2.207674596499783 iter num 20\n",
            "loss 0.00012541253958797547 average time 2.184721330674711 iter num 40\n",
            "loss 0.00012504931085268597 average time 2.1873881067664116 iter num 60\n",
            "loss 0.00012488418949472887 average time 2.1909523315999193 iter num 80\n",
            "loss 0.00012484946651942718 average time 2.1954068950499277 iter num 100\n",
            "loss 0.00012419377182156975 average time 2.179868367099698 iter num 20\n",
            "loss 0.0001236180788537236 average time 2.1627558664747992 iter num 40\n",
            "loss 0.00012324062627342339 average time 2.1688687900665777 iter num 60\n",
            "loss 0.00012306873412618153 average time 2.1797459169873035 iter num 80\n",
            "loss 0.00012303271748292008 average time 2.1750388323799053 iter num 100\n",
            "loss 0.00012235119973046243 average time 2.2079779152501944 iter num 20\n",
            "loss 0.00012175021860964982 average time 2.202958141374802 iter num 40\n",
            "loss 0.00012135538154059674 average time 2.194557685599951 iter num 60\n",
            "loss 0.00012117594173013316 average time 2.1793168878998133 iter num 80\n",
            "loss 0.0001211382088642925 average time 2.1809541419199014 iter num 100\n",
            "loss 0.00012042665512750155 average time 2.163195443149925 iter num 20\n",
            "loss 0.00011980035362799974 average time 2.163751364249856 iter num 40\n",
            "loss 0.0001193913350057867 average time 2.1679931643498396 iter num 60\n",
            "loss 0.00011920573534308404 average time 2.1659759302123347 iter num 80\n",
            "loss 0.00011916673995034002 average time 2.1637897559598422 iter num 100\n",
            "loss 0.00011843145223763523 average time 2.173149598499731 iter num 20\n",
            "loss 0.00011779066923523965 average time 2.17552469939983 iter num 40\n",
            "loss 0.00011737283515072588 average time 2.1763733239166565 iter num 60\n",
            "loss 0.00011718355099514493 average time 2.1762770449874553 iter num 80\n",
            "loss 0.00011714404517117536 average time 2.172792345279995 iter num 100\n",
            "loss 0.00011639452956716547 average time 2.1375757486499425 iter num 20\n",
            "loss 0.00011573256991897957 average time 2.146739753699785 iter num 40\n",
            "loss 0.00011529647484444835 average time 2.148220169333096 iter num 60\n",
            "loss 0.0001150991288457603 average time 2.143504346249847 iter num 80\n",
            "loss 0.00011505762493667062 average time 2.1429587122598606 iter num 100\n",
            "loss 0.00011422319113539648 average time 2.156830160050049 iter num 20\n",
            "loss 0.00011360648508474826 average time 2.162886086524941 iter num 40\n",
            "loss 0.00011314876460036419 average time 2.173001006616626 iter num 60\n",
            "loss 0.00011294895868669148 average time 2.1676222138748926 iter num 80\n",
            "loss 0.00011290574787957838 average time 2.1719738484800475 iter num 100\n",
            "loss 0.00012549098935848752 average time 2.1836131891997868 iter num 20\n",
            "loss 0.00011328958380498505 average time 2.187889281400112 iter num 40\n",
            "loss 0.00011120434565730066 average time 2.1771045230333885 iter num 60\n",
            "loss 0.00011118776994596228 average time 2.1871684404125973 iter num 80\n",
            "loss 0.00011113637869494327 average time 2.1813144964400637 iter num 100\n",
            "loss 0.00011044981147157751 average time 2.1759543850501357 iter num 20\n",
            "loss 0.00010992444830681936 average time 2.192403730050137 iter num 40\n",
            "loss 0.00010959680135712435 average time 2.18929228156685 iter num 60\n",
            "loss 0.0001094516835603212 average time 2.183617274012704 iter num 80\n",
            "loss 0.00010942138370417513 average time 2.1782537607101404 iter num 100\n",
            "loss 0.00010885399291577294 average time 2.1718562597505295 iter num 20\n",
            "loss 0.00010836321339540327 average time 2.1780691828003 iter num 40\n",
            "loss 0.0001080450813846393 average time 2.1904317686336072 iter num 60\n",
            "loss 0.00010790117518102097 average time 2.1885396742627563 iter num 80\n",
            "loss 0.00010787107224224653 average time 2.1895967885402934 iter num 100\n",
            "loss 0.00010730099397401818 average time 2.1853585766002652 iter num 20\n",
            "loss 0.00010680522715585903 average time 2.189976996625046 iter num 40\n",
            "loss 0.00010648168793015014 average time 2.2082791709666103 iter num 60\n",
            "loss 0.00010633556281817849 average time 2.2015699930750543 iter num 80\n",
            "loss 0.00010630467173827666 average time 2.194765105500046 iter num 100\n",
            "loss 0.00010572577464675528 average time 2.1543394334501498 iter num 20\n",
            "loss 0.00010522238447244421 average time 2.166956436700093 iter num 40\n",
            "loss 0.0001048931298575391 average time 2.1742653134834353 iter num 60\n",
            "loss 0.00010474423354242556 average time 2.1790516682750423 iter num 80\n",
            "loss 0.00010471307893588467 average time 2.1816682072701585 iter num 100\n",
            "loss 0.00010412505699106873 average time 2.2026678504997106 iter num 20\n",
            "loss 0.00010362118000735534 average time 2.2117799640000158 iter num 40\n",
            "loss 0.0001032885521521999 average time 2.1992571426667684 iter num 60\n",
            "loss 0.00010313873163934027 average time 2.1918771296875095 iter num 80\n",
            "loss 0.00010310767611333958 average time 2.1896590098199886 iter num 100\n",
            "loss 0.00010245320731821093 average time 2.2205128953499296 iter num 20\n",
            "loss 0.00010185600397519566 average time 2.2155995160252133 iter num 40\n",
            "loss 0.00010173575079592397 average time 2.1986683232335054 iter num 60\n",
            "loss 0.0001015445298785576 average time 2.198140230025092 iter num 80\n",
            "loss 0.00010150744390097138 average time 2.1990204620300573 iter num 100\n",
            "loss 0.00010420655332686576 average time 2.2064441168504345 iter num 20\n",
            "loss 0.00010118107043438301 average time 2.2067332128001 iter num 40\n",
            "loss 0.00010065045216718769 average time 2.2018662289334316 iter num 60\n",
            "loss 0.00010039116185401976 average time 2.207663272887703 iter num 80\n",
            "loss 0.00010039221740223876 average time 2.2089066555100363 iter num 100\n",
            "loss 9.977776893367504e-05 average time 2.1965285834008683 iter num 20\n",
            "loss 9.939753320737624e-05 average time 2.1827491886751886 iter num 40\n",
            "loss 9.915589235336604e-05 average time 2.1972863045499857 iter num 60\n",
            "loss 9.905252612018915e-05 average time 2.1972988857250586 iter num 80\n",
            "loss 9.903063596644057e-05 average time 2.2027757708799616 iter num 100\n",
            "loss 9.863083489516293e-05 average time 2.2296618048998424 iter num 20\n",
            "loss 9.828821394962828e-05 average time 2.224676789949899 iter num 40\n",
            "loss 9.806789806424357e-05 average time 2.2269066646500506 iter num 60\n",
            "loss 9.796894405812201e-05 average time 2.222414688262552 iter num 80\n",
            "loss 9.794859044882146e-05 average time 2.217616269940081 iter num 100\n",
            "loss 9.756323672315253e-05 average time 2.1900998117997004 iter num 20\n",
            "loss 9.722796820621551e-05 average time 2.2030692045247635 iter num 40\n",
            "loss 9.700941826951479e-05 average time 2.2098429475498658 iter num 60\n",
            "loss 9.691054798749608e-05 average time 2.2089378649123317 iter num 80\n",
            "loss 9.689001127037789e-05 average time 2.2051126683198525 iter num 100\n",
            "loss 9.649894254039551e-05 average time 2.179223914400063 iter num 20\n",
            "loss 9.615812998371002e-05 average time 2.1870632302499873 iter num 40\n",
            "loss 9.593610065531551e-05 average time 2.197755259733155 iter num 60\n",
            "loss 9.583619205362015e-05 average time 2.202236088387326 iter num 80\n",
            "loss 9.581550834132986e-05 average time 2.205396353529795 iter num 100\n",
            "loss 9.542421231446306e-05 average time 2.203310556150245 iter num 20\n",
            "loss 9.508574534098449e-05 average time 2.208830656400187 iter num 40\n",
            "loss 9.486638975926793e-05 average time 2.20527179873352 iter num 60\n",
            "loss 9.476722220176401e-05 average time 2.206643810237574 iter num 80\n",
            "loss 9.474668273633528e-05 average time 2.205420781020002 iter num 100\n",
            "loss 9.435347501923694e-05 average time 2.1996441174003847 iter num 20\n",
            "loss 9.400526112556012e-05 average time 2.2233205622749663 iter num 40\n",
            "loss 9.377729014278424e-05 average time 2.2089616253665856 iter num 60\n",
            "loss 9.367478106439828e-05 average time 2.2120331787624763 iter num 80\n",
            "loss 9.365337896185268e-05 average time 2.211012490170142 iter num 100\n",
            "loss 9.324834581321567e-05 average time 2.230961303850381 iter num 20\n",
            "loss 9.28939710306848e-05 average time 2.220976024175161 iter num 40\n",
            "loss 9.266571673491694e-05 average time 2.2181774218668577 iter num 60\n",
            "loss 9.256328294750554e-05 average time 2.22062290376266 iter num 80\n",
            "loss 9.25417749349702e-05 average time 2.2257040159800816 iter num 100\n",
            "loss 9.212750592148889e-05 average time 2.1873832024502917 iter num 20\n",
            "loss 9.179010056143769e-05 average time 2.1959595862249444 iter num 40\n",
            "loss 9.156245205842248e-05 average time 2.206985890566648 iter num 60\n",
            "loss 9.146114804467748e-05 average time 2.204155683025192 iter num 80\n",
            "loss 9.144032292448089e-05 average time 2.2056960643401906 iter num 100\n",
            "loss 9.644594440181802e-05 average time 2.2098937654502153 iter num 20\n",
            "loss 9.065153836469905e-05 average time 2.2163280567500805 iter num 40\n",
            "loss 9.04367149687696e-05 average time 2.207650179266784 iter num 60\n",
            "loss 9.037530806885674e-05 average time 2.2092483015875586 iter num 80\n",
            "loss 9.038169146323486e-05 average time 2.2101758933499878 iter num 100\n",
            "loss 9.001642497166134e-05 average time 2.2093863192500067 iter num 20\n",
            "loss 8.968606415237586e-05 average time 2.240841891975015 iter num 40\n",
            "loss 8.948720618959652e-05 average time 2.245119379616881 iter num 60\n",
            "loss 8.94010094449171e-05 average time 2.2403947544501532 iter num 80\n",
            "loss 8.938329979051097e-05 average time 2.2299703647302156 iter num 100\n",
            "loss 8.904644978072733e-05 average time 2.201104370300345 iter num 20\n",
            "loss 8.875015618845536e-05 average time 2.207446273450023 iter num 40\n",
            "loss 8.856005009593973e-05 average time 2.203810303016568 iter num 60\n",
            "loss 8.847315301819363e-05 average time 2.199928442274904 iter num 80\n",
            "loss 8.845514107227775e-05 average time 2.2089954393398874 iter num 100\n",
            "loss 9.147602962514934e-05 average time 2.2516201874002943 iter num 20\n",
            "loss 8.798261326720629e-05 average time 2.2295102670252165 iter num 40\n",
            "loss 8.7762047231039e-05 average time 2.2318585700167506 iter num 60\n",
            "loss 8.757339258400748e-05 average time 2.222396865012615 iter num 80\n",
            "loss 8.754068244102523e-05 average time 2.213674762460105 iter num 100\n",
            "loss 8.712337784314662e-05 average time 2.2263254379500723 iter num 20\n",
            "loss 8.697492203932291e-05 average time 2.223812440324764 iter num 40\n",
            "loss 8.673142705601674e-05 average time 2.214200506699611 iter num 60\n",
            "loss 8.664866241797324e-05 average time 2.217621494987179 iter num 80\n",
            "loss 8.66345616458223e-05 average time 2.215683029649699 iter num 100\n",
            "loss 8.653131320165915e-05 average time 2.1989182470497326 iter num 20\n",
            "loss 8.605840484971383e-05 average time 2.2032879050750127 iter num 40\n",
            "loss 8.584662797739734e-05 average time 2.203173375900042 iter num 60\n",
            "loss 8.577181284938512e-05 average time 2.2138191054249092 iter num 80\n",
            "loss 8.57555504825212e-05 average time 2.21012336361975 iter num 100\n",
            "loss 8.52270669536495e-05 average time 2.1950956439002764 iter num 20\n",
            "loss 8.584211830390555e-05 average time 2.2126905294251626 iter num 40\n",
            "loss 8.537908259837322e-05 average time 2.218438195133361 iter num 60\n",
            "loss 8.533529795102165e-05 average time 2.2274905502625186 iter num 80\n",
            "loss 8.530502530743776e-05 average time 2.223544159479934 iter num 100\n",
            "loss 8.492529395927941e-05 average time 2.208958036000149 iter num 20\n",
            "loss 8.462194965331065e-05 average time 2.2043048909499703 iter num 40\n",
            "loss 8.44916477332117e-05 average time 2.2105561902499176 iter num 60\n",
            "loss 8.443753690458872e-05 average time 2.209710501062318 iter num 80\n",
            "loss 8.442632505123435e-05 average time 2.218135692889773 iter num 100\n",
            "loss 8.421405012982456e-05 average time 2.2100355956497877 iter num 20\n",
            "loss 8.40366837208966e-05 average time 2.208310026174877 iter num 40\n",
            "loss 8.392111552943873e-05 average time 2.2285806758500257 iter num 60\n",
            "loss 8.38690454724782e-05 average time 2.225519938175057 iter num 80\n",
            "loss 8.385835530656096e-05 average time 2.23139464510994 iter num 100\n",
            "loss 8.365358678177636e-05 average time 2.2096249343496313 iter num 20\n",
            "loss 8.347723265367585e-05 average time 2.205567690949647 iter num 40\n",
            "loss 8.336348100590908e-05 average time 2.199378107766461 iter num 60\n",
            "loss 8.33126934505195e-05 average time 2.200581629649696 iter num 80\n",
            "loss 8.330224010993876e-05 average time 2.2038344772598064 iter num 100\n",
            "loss 8.310380165101217e-05 average time 2.2338161094003226 iter num 20\n",
            "loss 8.293204700043436e-05 average time 2.222920413650081 iter num 40\n",
            "loss 8.282113406410258e-05 average time 2.218211543399957 iter num 60\n",
            "loss 8.277040207607755e-05 average time 2.2216088167249834 iter num 80\n",
            "loss 8.275999558006049e-05 average time 2.221691192610015 iter num 100\n",
            "loss 8.256008780854232e-05 average time 2.1934050791003754 iter num 20\n",
            "loss 8.238488398272917e-05 average time 2.2020442743754756 iter num 40\n",
            "loss 8.227205878817432e-05 average time 2.193477341000228 iter num 60\n",
            "loss 8.222083294035893e-05 average time 2.1985474605875424 iter num 80\n",
            "loss 8.221035318720553e-05 average time 2.2011795260200233 iter num 100\n",
            "loss 8.200832807582163e-05 average time 2.2441340650497295 iter num 20\n",
            "loss 8.183553217869868e-05 average time 2.220541124674855 iter num 40\n",
            "loss 8.172409852673071e-05 average time 2.2143758301834775 iter num 60\n",
            "loss 8.167427623522758e-05 average time 2.2097697066001274 iter num 80\n",
            "loss 8.166418004475697e-05 average time 2.211352989030056 iter num 100\n",
            "loss 8.147008463391717e-05 average time 2.2127292446002684 iter num 20\n",
            "loss 8.130446874564925e-05 average time 2.213189624475217 iter num 40\n",
            "loss 8.11956938212906e-05 average time 2.2223979394501536 iter num 60\n",
            "loss 8.114636816129057e-05 average time 2.2138444136001 iter num 80\n",
            "loss 8.113646210587726e-05 average time 2.2126638411100794 iter num 100\n"
          ]
        }
      ]
    },
    {
      "cell_type": "code",
      "metadata": {
        "id": "RQs-OZHGEwac"
      },
      "source": [
        "# 2:09\n",
        "# 5:11"
      ],
      "execution_count": null,
      "outputs": []
    },
    {
      "cell_type": "markdown",
      "metadata": {
        "id": "ONLZ1zpgV2Zv"
      },
      "source": [
        "#Results"
      ]
    },
    {
      "cell_type": "code",
      "metadata": {
        "id": "b3hhVHEVV06R",
        "colab": {
          "base_uri": "https://localhost:8080/"
        },
        "outputId": "1793c131-3d8b-4633-debd-9f06465b4525"
      },
      "source": [
        "import torch\n",
        "inputs = torch.tensor([[1, 1, 1, 0.25, 0.02, 0.02]]).cuda() # T, K, S, sigma, mu, r\n",
        "print('price: ' + str(model(inputs.float())))\n",
        "\n",
        "inputs.requires_grad = True\n",
        "x = model(inputs.float())\n",
        "x.backward()\n",
        "first_order_gradient = inputs.grad\n",
        "first_order_gradient[0][[2]]\n",
        "\n",
        "# price, delta\n",
        "# should be around (0.10870558, 0.581213937)"
      ],
      "execution_count": 8,
      "outputs": [
        {
          "output_type": "stream",
          "name": "stdout",
          "text": [
            "price: tensor([[0.1082]], device='cuda:0', grad_fn=<AddmmBackward0>)\n"
          ]
        },
        {
          "output_type": "execute_result",
          "data": {
            "text/plain": [
              "tensor([0.5812], device='cuda:0')"
            ]
          },
          "metadata": {},
          "execution_count": 8
        }
      ]
    },
    {
      "cell_type": "code",
      "metadata": {
        "colab": {
          "base_uri": "https://localhost:8080/"
        },
        "id": "kqpasxVi0hx3",
        "outputId": "370e734d-5b18-4196-a0e1-b782d467d85f"
      },
      "source": [
        "import cupy\n",
        "import numpy as np\n",
        "from torch.utils.dlpack import from_dlpack\n",
        "from scipy.stats import norm\n",
        "from math import log, sqrt, pi, exp\n",
        "import pandas as pd\n",
        "\n",
        "def d1(S,K,T,r,sigma):\n",
        "    return(log(S/K)+(r+sigma**2/2.)*T)/(sigma*sqrt(T))\n",
        "def d2(S,K,T,r,sigma):\n",
        "    return d1(S,K,T,r,sigma)-sigma*sqrt(T)    \n",
        "def bs_call(S,K,T,r,sigma):\n",
        "    return S*norm.cdf(d1(S,K,T,r,sigma))-K*exp(-r*T)*norm.cdf(d2(S,K,T,r,sigma))\n",
        "def bs_delta(S,K,T,r,sigma):\n",
        "    return norm.cdf(d1(S,K,T,r,sigma))\n",
        "\n",
        "print(bs_call(1,1,1,0.02,0.25))\n",
        "print(bs_delta(1,1,1,0.02,0.25))"
      ],
      "execution_count": 10,
      "outputs": [
        {
          "output_type": "stream",
          "name": "stdout",
          "text": [
            "0.10870558490557591\n",
            "0.5812139374874482\n"
          ]
        }
      ]
    },
    {
      "cell_type": "code",
      "metadata": {
        "id": "lovJwXo3-YEu",
        "colab": {
          "base_uri": "https://localhost:8080/",
          "height": 265
        },
        "outputId": "0483254a-48c4-423d-81c1-b20af42dacd2"
      },
      "source": [
        "from scipy.stats import norm\n",
        "from math import log, sqrt, pi, exp\n",
        "import matplotlib.pyplot as plt\n",
        "import numpy as np\n",
        "\n",
        "def d1(S,K,T,r,sigma):\n",
        "    return(log(S/K)+(r+sigma**2/2.)*T)/(sigma*sqrt(T))\n",
        "def d2(S,K,T,r,sigma):\n",
        "    return d1(S,K,T,r,sigma)-sigma*sqrt(T)    \n",
        "def bs_call(S,K,T,r,sigma):\n",
        "    return S*norm.cdf(d1(S,K,T,r,sigma))-K*exp(-r*T)*norm.cdf(d2(S,K,T,r,sigma))\n",
        "\n",
        "def compute_price(S):\n",
        "    inputs = torch.tensor([[1, 1, S, 0.25, 0.02, 0.02]]).cuda()\n",
        "    return model(inputs.float())\n",
        "\n",
        "prices = np.arange(0.75, 1.25, 0.01)\n",
        "model_call_prices = []\n",
        "BS_call_prices = []\n",
        "for p in prices:\n",
        "    model_call_prices.append(compute_price(p).item())\n",
        "    BS_call_prices.append(bs_call(p, 1, 1, 0.02, 0.25))\n",
        "\n",
        "#plt.plot(prices, model_call_prices, label = \"model_call_prices\")\n",
        "#plt.plot(prices, BS_call_prices, label = \"BS_call_prices\")\n",
        "plt.plot(prices, np.array(model_call_prices)-np.array(BS_call_prices), label = \"Differences\")\n",
        "plt.legend()\n",
        "plt.show()"
      ],
      "execution_count": 9,
      "outputs": [
        {
          "output_type": "display_data",
          "data": {
            "image/png": "[encoded data removed]",
            "text/plain": [
              "<Figure size 432x288 with 1 Axes>"
            ]
          },
          "metadata": {
            "needs_background": "light"
          }
        }
      ]
    },
    {
      "cell_type": "markdown",
      "metadata": {
        "id": "9fVR9u56Uu3X"
      },
      "source": [
        "# Delta"
      ]
    },
    {
      "cell_type": "code",
      "metadata": {
        "id": "lwApH0GT9bBK",
        "colab": {
          "base_uri": "https://localhost:8080/",
          "height": 265
        },
        "outputId": "6a3266f0-a868-43d4-c593-b9232f145f5d"
      },
      "source": [
        "##Using gradient, Change only 1 S0 at a time\n",
        "%matplotlib inline\n",
        "from torch.autograd import grad\n",
        "import pylab\n",
        "import numpy as np\n",
        "\n",
        "def compute_delta(S):\n",
        "    inputs = torch.tensor([[1, 1, S, 0.25, 0.02, 0.02]]).cuda()\n",
        "    inputs.requires_grad = True\n",
        "    x = model(inputs.float())\n",
        "    x.backward()\n",
        "    first_order_gradient = inputs.grad\n",
        "    return first_order_gradient[0][2]\n",
        "\n",
        "def bs_delta(S,K,T,r,sigma):\n",
        "  return norm.cdf(d1(S,K,T,r,sigma))\n",
        "\n",
        "prices = np.arange(0.75, 1.25, 0.01)\n",
        "model_call_deltas = []\n",
        "BS_call_deltas = []\n",
        "for p in prices:\n",
        "    model_call_deltas.append(compute_delta(p).item())\n",
        "    BS_call_deltas.append(bs_delta(p, 1, 1, 0.02, 0.25))\n",
        "\n",
        "plt.plot(prices, model_call_deltas, label = \"model_call_deltas\")\n",
        "plt.plot(prices, BS_call_deltas, label = \"BS_call_deltas\")\n",
        "#plt.plot(prices, np.array(model_call_deltas)-np.array(BS_call_deltas), label = \"Differences\")\n",
        "plt.legend()\n",
        "plt.show()"
      ],
      "execution_count": 10,
      "outputs": [
        {
          "output_type": "display_data",
          "data": {
            "image/png": "[encoded data removed]",
            "text/plain": [
              "<Figure size 432x288 with 1 Axes>"
            ]
          },
          "metadata": {
            "needs_background": "light"
          }
        }
      ]
    },
    {
      "cell_type": "code",
      "metadata": {
        "id": "sHgD1NjP7DOW",
        "colab": {
          "base_uri": "https://localhost:8080/",
          "height": 266
        },
        "outputId": "a5befa7c-80ac-4c69-d2a9-7ae60c6a69a8"
      },
      "source": [
        "##Using gradient, Change only 1 S0 at a time\n",
        "%matplotlib inline\n",
        "from torch.autograd import grad\n",
        "import pylab\n",
        "import numpy as np\n",
        "\n",
        "def compute_delta(S):\n",
        "    inputs = torch.tensor([[1, 0.75, S, 0.25, 0.02, 0.02]]).cuda()\n",
        "    inputs.requires_grad = True\n",
        "    x = model(inputs.float())\n",
        "    x.backward()\n",
        "    first_order_gradient = inputs.grad\n",
        "    return first_order_gradient[0][2]\n",
        "\n",
        "def bs_delta(S,K,T,r,sigma):\n",
        "  return norm.cdf(d1(S,K,T,r,sigma))\n",
        "\n",
        "prices = np.arange(0.75, 1.25, 0.01)\n",
        "model_call_deltas = []\n",
        "BS_call_deltas = []\n",
        "for p in prices:\n",
        "    model_call_deltas.append(compute_delta(p).item())\n",
        "    BS_call_deltas.append(bs_delta(p, 0.75, 1, 0.02, 0.25))\n",
        "\n",
        "plt.plot(prices, model_call_deltas, label = \"model_call_deltas\")\n",
        "plt.plot(prices, BS_call_deltas, label = \"BS_call_deltas\")\n",
        "#plt.plot(prices, np.array(model_call_deltas)-np.array(BS_call_deltas), label = \"Differences\")\n",
        "plt.legend()\n",
        "plt.show()"
      ],
      "execution_count": 11,
      "outputs": [
        {
          "output_type": "display_data",
          "data": {
            "image/png": "[encoded data removed]",
            "text/plain": [
              "<Figure size 432x288 with 1 Axes>"
            ]
          },
          "metadata": {
            "needs_background": "light"
          }
        }
      ]
    },
    {
      "cell_type": "code",
      "metadata": {
        "id": "m7MfujMQ7oij",
        "colab": {
          "base_uri": "https://localhost:8080/",
          "height": 265
        },
        "outputId": "cd48a21c-8690-4fdc-c054-89e1f8f1ae7a"
      },
      "source": [
        "##Using gradient, Change only 1 S0 at a time\n",
        "%matplotlib inline\n",
        "from torch.autograd import grad\n",
        "import pylab\n",
        "import numpy as np\n",
        "\n",
        "def compute_delta(S):\n",
        "    inputs = torch.tensor([[1, 1.25, S, 0.25, 0.02, 0.02]]).cuda()\n",
        "    inputs.requires_grad = True\n",
        "    x = model(inputs.float())\n",
        "    x.backward()\n",
        "    first_order_gradient = inputs.grad\n",
        "    return first_order_gradient[0][2]\n",
        "\n",
        "def bs_delta(S,K,T,r,sigma):\n",
        "  return norm.cdf(d1(S,K,T,r,sigma))\n",
        "\n",
        "prices = np.arange(0.75, 1.25, 0.01)\n",
        "model_call_deltas = []\n",
        "BS_call_deltas = []\n",
        "for p in prices:\n",
        "    model_call_deltas.append(compute_delta(p).item())\n",
        "    BS_call_deltas.append(bs_delta(p, 1.25, 1, 0.02, 0.25))\n",
        "\n",
        "plt.plot(prices, model_call_deltas, label = \"model_call_deltas\")\n",
        "plt.plot(prices, BS_call_deltas, label = \"BS_call_deltas\")\n",
        "#plt.plot(prices, np.array(model_call_deltas)-np.array(BS_call_deltas), label = \"Differences\")\n",
        "plt.legend()\n",
        "plt.show()"
      ],
      "execution_count": 12,
      "outputs": [
        {
          "output_type": "display_data",
          "data": {
            "image/png": "[encoded data removed]",
            "text/plain": [
              "<Figure size 432x288 with 1 Axes>"
            ]
          },
          "metadata": {
            "needs_background": "light"
          }
        }
      ]
    }
  ]
}