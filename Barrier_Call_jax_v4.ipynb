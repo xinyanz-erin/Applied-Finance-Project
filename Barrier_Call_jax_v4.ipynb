{
  "nbformat": 4,
  "nbformat_minor": 0,
  "metadata": {
    "colab": {
      "name": "Barrier_Call_jax.ipynb",
      "provenance": [],
      "include_colab_link": true
    },
    "kernelspec": {
      "name": "python3",
      "display_name": "Python 3"
    },
    "language_info": {
      "name": "python"
    }
  },
  "cells": [
    {
      "cell_type": "markdown",
      "metadata": {
        "id": "view-in-github",
        "colab_type": "text"
      },
      "source": [
        "<a href=\"https://colab.research.google.com/github/xinyanz-erin/Applied-Finance-Project/blob/Lilian/Barrier_Call_jax_v4.ipynb\" target=\"_parent\"><img src=\"https://colab.research.google.com/assets/colab-badge.svg\" alt=\"Open In Colab\"/></a>"
      ]
    },
    {
      "cell_type": "code",
      "metadata": {
        "id": "zhDD9qo0rq8Z"
      },
      "source": [
        ""
      ],
      "execution_count": null,
      "outputs": []
    },
    {
      "cell_type": "code",
      "metadata": {
        "colab": {
          "base_uri": "https://localhost:8080/"
        },
        "id": "Z1TgzBZmOpEc",
        "cellView": "form",
        "collapsed": true,
        "outputId": "be5cd50d-5abb-4175-a219-69417c6d0689"
      },
      "source": [
        "#@title\n",
        "import jax.numpy as jnp\n",
        "from jax import random\n",
        "from jax import jit\n",
        "from jax import device_put\n",
        "\n",
        "def test():\n",
        "  paths=100000\n",
        "  steps=252\n",
        "  stocks=3\n",
        "  key = random.PRNGKey(10)\n",
        "  x = random.normal(key, (paths,steps,stocks))\n",
        "  s0=random.randint(key,(stocks,1),50,100)*1.\n",
        "  s=s0\n",
        "  s = device_put(s)\n",
        "  for i in range(steps):\n",
        "    for j in range(stocks):\n",
        "      s+=x[:,i,j]\n",
        "  return(s0,s)\n",
        "\n",
        "a,b=test()\n",
        "\n",
        "print(a,np.mean(b,axis=1))\n",
        "\n",
        "jtest=jit(test)\n",
        "\n",
        "c,d=jtest()\n",
        "\n",
        "print(c,np.mean(d,axis=1))"
      ],
      "execution_count": null,
      "outputs": [
        {
          "output_type": "stream",
          "text": [
            "[[86.]\n",
            " [56.]\n",
            " [71.]] [85.99678  55.996777 70.99677 ]\n",
            "[[86.]\n",
            " [56.]\n",
            " [71.]] [85.99678  55.996777 70.99677 ]\n"
          ],
          "name": "stdout"
        }
      ]
    },
    {
      "cell_type": "code",
      "metadata": {
        "colab": {
          "base_uri": "https://localhost:8080/"
        },
        "id": "lZWaZ_PdRZs1",
        "cellView": "form",
        "collapsed": true,
        "outputId": "cc269f2c-282b-4d02-936d-3245b3ddd45b"
      },
      "source": [
        "#@title\n",
        "paths=10\n",
        "steps=5\n",
        "stocks=3\n",
        "key = random.PRNGKey(10)\n",
        "x = random.normal(key, (paths,steps,stocks))\n",
        "s0=random.randint(key,(stocks,1),50,100)*1.\n",
        "s=s0\n",
        "s = device_put(s)\n",
        "print(s)\n",
        "print(x[:,1,1])\n",
        "print(s+x[:,1,1])"
      ],
      "execution_count": null,
      "outputs": [
        {
          "output_type": "stream",
          "text": [
            "[[86.]\n",
            " [56.]\n",
            " [71.]]\n",
            "[-0.32907748 -0.3529078  -0.5357338  -2.402825   -1.3187171  -0.4300647\n",
            " -0.42437345  0.22680947  0.3185347  -0.9541187 ]\n",
            "[[85.67092  85.647095 85.464264 83.597176 84.68128  85.56994  85.57563\n",
            "  86.22681  86.318535 85.04588 ]\n",
            " [55.67092  55.64709  55.464268 53.597176 54.681282 55.569935 55.575626\n",
            "  56.22681  56.318535 55.045883]\n",
            " [70.67092  70.647095 70.464264 68.597176 69.68128  70.56994  70.57563\n",
            "  71.22681  71.318535 70.04588 ]]\n"
          ],
          "name": "stdout"
        }
      ]
    },
    {
      "cell_type": "code",
      "metadata": {
        "id": "AM9Sjorq3aPK",
        "colab": {
          "base_uri": "https://localhost:8080/"
        },
        "cellView": "form",
        "collapsed": true,
        "outputId": "f2a537d1-0d3f-465f-e8b9-5b23939cd88b"
      },
      "source": [
        "#@title\n",
        "import jax.numpy as jnp\n",
        "from jax import random\n",
        "from jax import jit\n",
        "import numpy as np\n",
        "\n",
        "def simple_process(key, initial_values, numsteps, drift, cov):\n",
        "    stocks_init = jnp.zeros((numsteps + 1,initial_values.shape[0]))\n",
        "    stocks_init=jax.ops.index_update(stocks_init,  # jax.ops.index_update(x, idx, y) <-> Pure equivalent of x[idx] = y\n",
        "                            jax.ops.index[0],\n",
        "                            initial_values)\n",
        "    noise = jax.random.multivariate_normal(key, drift, cov, (numsteps,))\n",
        "    #return(noise)\n",
        "    def time_step(t, val):\n",
        "        dx =  drift+noise[t,:]\n",
        "        val = jax.ops.index_update(val,\n",
        "                            jax.ops.index[t],\n",
        "                            val[t-1] + dx)\n",
        "        return val\n",
        "    return jax.lax.fori_loop(1, numsteps+1, time_step, stocks_init)[1:] # jax.lax.fori_loop(lower, upper, body_fun, init_val)\n",
        "\n",
        "# def fori_loop(lower, upper, body_fun, init_val): # upper is exclusive\n",
        "#   val = init_val\n",
        "#   for i in range(lower, upper):\n",
        "#     val = body_fun(i, val)\n",
        "#   return val\n",
        "\n",
        "numsteps=5\n",
        "key = random.PRNGKey(10)\n",
        "drift=jnp.array([0.0]*3)\n",
        "cov=np.random.random((3,3))\n",
        "cov=np.matmul(cov,cov.T)\n",
        "initial_values=jnp.array([100.]*3)\n",
        "fast_simple = jax.jit(simple_process, static_argnums=2)\n",
        "init_stocks=jnp.array([100.]*3)\n",
        "fast_simple(key,init_stocks,numsteps,drift,cov)\n",
        "# Batch OU sample via vmap\n",
        "batch_simple = jax.vmap(fast_simple, in_axes=(0, None, None, None, None)) \n",
        "# An integer or None indicates which array axis to map over for all arguments (with None indicating not to map any axis)\n",
        "\n",
        "%timeit fast_simple(key, init_stocks, 12, drift, cov)\n",
        "\n",
        "numsamples=100000 # num of paths\n",
        "keys = jax.random.split(key, numsamples)\n",
        "batch_simple = jax.vmap(fast_simple, in_axes=(0, None, None, None, None))\n",
        "%timeit batch_simple(keys, init_stocks, 12, drift, cov)\n",
        "\n",
        "batch_simple(keys, init_stocks, numsteps, drift, cov).shape"
      ],
      "execution_count": null,
      "outputs": [
        {
          "output_type": "stream",
          "text": [
            "The slowest run took 27769.64 times longer than the fastest. This could mean that an intermediate result is being cached.\n",
            "1 loop, best of 5: 16.1 µs per loop\n",
            "1 loop, best of 5: 177 ms per loop\n"
          ],
          "name": "stdout"
        },
        {
          "output_type": "execute_result",
          "data": {
            "text/plain": [
              "(100000, 5, 3)"
            ]
          },
          "metadata": {},
          "execution_count": 68
        }
      ]
    },
    {
      "cell_type": "code",
      "metadata": {
        "id": "zKLz8BeVe5TQ",
        "colab": {
          "base_uri": "https://localhost:8080/"
        },
        "cellView": "form",
        "collapsed": true,
        "outputId": "92debbf8-323a-4172-9b26-f37891c40cf8"
      },
      "source": [
        "#@title\n",
        "import jax.numpy as jnp\n",
        "from jax import random\n",
        "from jax import jit\n",
        "import numpy as np\n",
        "\n",
        "def Brownian_motion(key, initial_stocks, numsteps, drift, cov, sigma, T):\n",
        "    stocks_init = jnp.zeros((numsteps + 1, initial_stocks.shape[0]))\n",
        "    stocks_init=jax.ops.index_update(stocks_init,   # jax.ops.index_update(x, idx, y) <-> Pure equivalent of x[idx] = y\n",
        "                            jax.ops.index[0],       # initialization of stock prices\n",
        "                            initial_stocks)\n",
        "    noise = jax.random.multivariate_normal(key, drift, cov, (numsteps,))\n",
        "    dt = jnp.array(T[0]/numsteps)\n",
        "    def time_step(t, val):\n",
        "        dx =  drift * dt * val[t-1,:] + sigma * val[t-1,:] * jnp.sqrt(dt) * noise[t,:]\n",
        "        val = jax.ops.index_update(val,\n",
        "                            jax.ops.index[t],\n",
        "                            val[t-1] + dx)\n",
        "        return val\n",
        "    return jax.lax.fori_loop(1, numsteps+1, time_step, stocks_init)[1:] # jax.lax.fori_loop(lower, upper, body_fun, init_val)\n",
        "\n",
        "# def fori_loop(lower, upper, body_fun, init_val): # upper is exclusive\n",
        "#   val = init_val\n",
        "#   for i in range(lower, upper):\n",
        "#     val = body_fun(i, val)\n",
        "#   return val\n",
        "\n",
        "np.random.seed(0)\n",
        "key = random.PRNGKey(0)\n",
        "initial_stocks=jnp.array([100.]*3)\n",
        "numsteps=10\n",
        "drift=jnp.array([0]*3)\n",
        "# cov=np.random.random((3,3))\n",
        "# cov=np.matmul(cov,cov.T)\n",
        "corr = jnp.diag(jnp.array([1]*3))\n",
        "sigma = jnp.array([0.3]*3)\n",
        "cov = (jnp.diag(sigma)).dot(corr).dot(jnp.diag(sigma))\n",
        "#sigma = jnp.array(np.random.random(3))\n",
        "#r = jnp.array([np.random.random(1)]*3)\n",
        "T = jnp.array([1.]*3)\n",
        "\n",
        "fast_simple = jax.jit(Brownian_motion, static_argnums=2)\n",
        "fast_simple(key, initial_stocks, numsteps, drift, cov, sigma, T)\n",
        "\n",
        "# numsamples=100000 # num of paths\n",
        "# keys = jax.random.split(key, numsamples)\n",
        "\n",
        "# batch_simple = jax.vmap(fast_simple, in_axes=(0, None, None, None, None, None, None))\n",
        "# %timeit batch_simple(keys, initial_stocks, numsteps, drift, cov, sigma, T)\n",
        "# batch_simple(keys, initial_stocks, numsteps, drift, cov, sigma, T).shape"
      ],
      "execution_count": null,
      "outputs": [
        {
          "output_type": "execute_result",
          "data": {
            "text/plain": [
              "DeviceArray([[104.03143 , 103.00068 , 102.59222 ],\n",
              "             [102.768456, 105.89164 , 100.96432 ],\n",
              "             [102.81328 ,  99.627396, 102.55864 ],\n",
              "             [105.48844 , 101.25624 , 104.66836 ],\n",
              "             [105.8519  , 100.323296, 109.50462 ],\n",
              "             [106.59    ,  96.38026 , 107.60002 ],\n",
              "             [107.01583 ,  98.68716 , 104.24871 ],\n",
              "             [103.734055,  95.48625 , 102.4883  ],\n",
              "             [103.274185,  94.44483 ,  99.23759 ],\n",
              "             [102.81635 ,  93.41477 ,  96.08998 ]], dtype=float32)"
            ]
          },
          "metadata": {},
          "execution_count": 170
        }
      ]
    },
    {
      "cell_type": "code",
      "metadata": {
        "colab": {
          "base_uri": "https://localhost:8080/"
        },
        "id": "k7KFGhPVWJu9",
        "cellView": "form",
        "collapsed": true,
        "outputId": "d09cf7ac-aac3-4f78-a535-1ad4809939a8"
      },
      "source": [
        "#@title\n",
        "key = random.PRNGKey(10)\n",
        "initial_values=jnp.array([100.]*3)\n",
        "numsteps=5\n",
        "drift=jnp.array([0.0]*3)\n",
        "cov=np.random.random((3,3))\n",
        "cov=np.matmul(cov, cov.T)\n",
        "\n",
        "print(key)\n",
        "print(initial_values)\n",
        "print(numsteps)\n",
        "print(drift)\n",
        "print(cov)"
      ],
      "execution_count": null,
      "outputs": [
        {
          "output_type": "stream",
          "text": [
            "[ 0 10]\n",
            "[100. 100. 100.]\n",
            "5\n",
            "[0. 0. 0.]\n",
            "[[0.74040995 0.50528954 0.38358708]\n",
            " [0.50528954 0.69334581 0.33222558]\n",
            " [0.38358708 0.33222558 0.21827158]]\n"
          ],
          "name": "stdout"
        }
      ]
    },
    {
      "cell_type": "code",
      "metadata": {
        "colab": {
          "base_uri": "https://localhost:8080/"
        },
        "id": "5F1U2n21WuDC",
        "cellView": "form",
        "collapsed": true,
        "outputId": "1b5b7145-262b-4ccf-8675-6cfc98cb63ae"
      },
      "source": [
        "#@title\n",
        "stocks_init = jnp.zeros((numsteps + 1, initial_values.shape[0]))\n",
        "print(stocks_init)\n",
        "stocks_init=jax.ops.index_update(stocks_init,\n",
        "                        jax.ops.index[0],\n",
        "                        initial_values)\n",
        "print(stocks_init)\n",
        "noise = jax.random.multivariate_normal(key, drift, cov, (numsteps,))\n",
        "print(noise)"
      ],
      "execution_count": null,
      "outputs": [
        {
          "output_type": "stream",
          "text": [
            "[[0. 0. 0.]\n",
            " [0. 0. 0.]\n",
            " [0. 0. 0.]\n",
            " [0. 0. 0.]\n",
            " [0. 0. 0.]\n",
            " [0. 0. 0.]]\n",
            "[[100. 100. 100.]\n",
            " [  0.   0.   0.]\n",
            " [  0.   0.   0.]\n",
            " [  0.   0.   0.]\n",
            " [  0.   0.   0.]\n",
            " [  0.   0.   0.]]\n",
            "[[-0.05614188 -0.93355596 -0.05524409]\n",
            " [ 0.70478475 -0.20070948  0.15282556]\n",
            " [ 0.11612918 -0.04694405 -0.03823702]\n",
            " [ 0.42249295 -0.36928132 -0.06133213]\n",
            " [-0.24204297 -0.2061234  -0.13489908]]\n"
          ],
          "name": "stdout"
        }
      ]
    },
    {
      "cell_type": "code",
      "metadata": {
        "id": "RUAoeddX9Kr0",
        "colab": {
          "base_uri": "https://localhost:8080/"
        },
        "outputId": "77c729fb-a675-46df-f192-e838fcc08ea5"
      },
      "source": [
        "!curl https://colab.chainer.org/install |sh -\n",
        "import cupy"
      ],
      "execution_count": 1,
      "outputs": [
        {
          "output_type": "stream",
          "name": "stdout",
          "text": [
            "  % Total    % Received % Xferd  Average Speed   Time    Time     Time  Current\n",
            "                                 Dload  Upload   Total   Spent    Left  Speed\n",
            "\r  0     0    0     0    0     0      0      0 --:--:-- --:--:-- --:--:--     0\r100  1580  100  1580    0     0   7314      0 --:--:-- --:--:-- --:--:--  7314\n",
            "+ apt -y -q install cuda-libraries-dev-10-0\n",
            "Reading package lists...\n",
            "Building dependency tree...\n",
            "Reading state information...\n",
            "cuda-libraries-dev-10-0 is already the newest version (10.0.130-1).\n",
            "0 upgraded, 0 newly installed, 0 to remove and 40 not upgraded.\n",
            "+ pip install -q cupy-cuda100  chainer \n",
            "\u001b[K     |████████████████████████████████| 58.9 MB 29 kB/s \n",
            "\u001b[K     |████████████████████████████████| 1.0 MB 55.4 MB/s \n",
            "\u001b[?25h  Building wheel for chainer (setup.py) ... \u001b[?25l\u001b[?25hdone\n",
            "+ set +ex\n",
            "Installation succeeded!\n"
          ]
        }
      ]
    },
    {
      "cell_type": "markdown",
      "metadata": {
        "id": "D1p7r2O_dniU"
      },
      "source": [
        "# Pui"
      ]
    },
    {
      "cell_type": "code",
      "metadata": {
        "id": "1crQ3-JCs9Q1"
      },
      "source": [
        "# import jax\n",
        "# import jax.numpy as jnp\n",
        "# from jax import random\n",
        "# from jax import jit\n",
        "# import numpy as np\n",
        "# from torch.utils.dlpack import from_dlpack\n",
        "\n",
        "# def Brownian_motion(key, initial_stocks, numsteps, drift, cov, T):\n",
        "#     stocks_init = jnp.zeros((numsteps + 1, initial_stocks.shape[0]))\n",
        "#     stocks_init = jax.ops.index_update(stocks_init,   # jax.ops.index_update(x, idx, y) <-> Pure equivalent of x[idx] = y\n",
        "#                             jax.ops.index[0],         # initialization of stock prices\n",
        "#                             initial_stocks)\n",
        "#     noise = jax.random.multivariate_normal(key, jnp.array([0]*initial_stocks.shape[0]), cov, (numsteps,))\n",
        "#     dt = jnp.array(T[0]/numsteps)\n",
        "#     def time_step(t, val):\n",
        "#         dx =  drift * dt * val[t-1,:] + val[t-1,:] * jnp.sqrt(dt) * noise[t,:] # no need to multiply by sigma here because noise generated by cov not corr\n",
        "#         val = jax.ops.index_update(val,\n",
        "#                             jax.ops.index[t],\n",
        "#                             val[t-1] + dx)\n",
        "#         return val\n",
        "#     return jax.lax.fori_loop(1, numsteps+1, time_step, stocks_init)[1:] # jax.lax.fori_loop(lower, upper, body_fun, init_val)\n",
        "\n",
        "# # def fori_loop(lower, upper, body_fun, init_val): # upper is exclusive\n",
        "# #   val = init_val\n",
        "# #   for i in range(lower, upper):\n",
        "# #     val = body_fun(i, val)\n",
        "# #   return val\n",
        "\n",
        "# numstocks = 3\n",
        "\n",
        "# np.random.seed(15)\n",
        "# key = random.PRNGKey(10)\n",
        "# initial_stocks = jnp.array(np.random.random(numstocks) * 200)\n",
        "# numsteps = 5\n",
        "# # drift=jnp.array([0.05] * numstocks) \n",
        "# # cov=np.random.random((3,3))\n",
        "# # cov=np.matmul(cov,cov.T)\n",
        "# corr = jnp.diag(jnp.array([1]*numstocks)) # assume no correlation between stocks here\n",
        "# sigma = jnp.array(np.random.random(numstocks) * 0.4)\n",
        "# cov = (jnp.diag(sigma)).dot(corr).dot(jnp.diag(sigma))\n",
        "# r = jnp.repeat(jnp.array(np.random.random(1) * 0.1), numstocks)\n",
        "# drift = r # To match BS, use drift = r\n",
        "# T = jnp.array([1.] * numstocks)\n",
        "# K = np.random.random(1) * 200\n",
        "# #B = jnp.repeat(jnp.array(np.random.random(1) * 200*0.9), numstocks)\n",
        "# B = jnp.repeat(jnp.array(K * 0.9), numstocks)\n",
        "\n",
        "# fast_simple = jax.jit(Brownian_motion, static_argnums=2)\n",
        "# fast_simple(key, initial_stocks, numsteps, drift, cov, T)\n",
        "\n",
        "# numsamples = 10 # num of paths\n",
        "# keys = jax.random.split(key, numsamples)\n",
        "\n",
        "# batch_simple = jax.vmap(fast_simple, in_axes=(0, None, None, None, None, None))\n",
        "# %timeit batch_simple(keys, initial_stocks, numsteps, drift, cov, T)\n",
        "# out = batch_simple(keys, initial_stocks, numsteps, drift, cov, T)\n",
        "\n",
        "# print(B)\n",
        "# avg_across_stocks = np.mean(out, axis=2)\n",
        "# print(np.mean(out, axis=2))\n",
        "# print(np.any(avg_across_stocks < 67, axis=1)) # test using Barrier = 67\n",
        "# print(1 - np.any(avg_across_stocks < 67, axis=1).astype(int))\n",
        "# print((1 - np.any(avg_across_stocks < 67, axis=1).astype(int))* avg_across_stocks[:,numsteps])\n",
        "\n",
        "# Payoff = (1 - np.any(avg_across_stocks < B[0], axis=1).astype(int))* avg_across_stocks[:,numsteps]\n",
        "# Barrier_Call_price = np.mean(np.maximum(Payoff - K, 0) * jnp.exp(-r[0] * T[0]))\n",
        "\n",
        "# paras = (T, jnp.repeat(jnp.array(K), numstocks), B, initial_stocks, sigma, drift, r)\n",
        "# paras = np.column_stack(paras).reshape(1,-1)[0]\n",
        "\n",
        "# print(from_dlpack(cupy.array(paras).toDlpack()))\n",
        "# print(Barrier_Call_price)"
      ],
      "execution_count": null,
      "outputs": []
    },
    {
      "cell_type": "code",
      "metadata": {
        "id": "DxFUnc_iBVcU",
        "colab": {
          "base_uri": "https://localhost:8080/"
        },
        "outputId": "75294419-4777-4ca2-8e84-3a254e90f189"
      },
      "source": [
        "################################# TEST ########################################\n",
        "#%%writefile cupy_dataset.py\n",
        "import cupy\n",
        "import jax\n",
        "import jax.numpy as jnp\n",
        "from jax import random\n",
        "from jax import jit\n",
        "import numpy as np\n",
        "from torch.utils.dlpack import from_dlpack\n",
        "\n",
        "def Brownian_motion(key, initial_stocks, numsteps, drift, cov, T):\n",
        "    stocks_init = jnp.zeros((numsteps + 1, initial_stocks.shape[0]))   # initial_stocks.shape[0] <-> Stocks number\n",
        "    stocks_init = jax.ops.index_update(stocks_init,   # jax.ops.index_update(x, idx, y) <-> Pure equivalent of x[idx] = y\n",
        "                            jax.ops.index[0],         # initialization of stock prices\n",
        "                            initial_stocks)\n",
        "    noise = jax.random.multivariate_normal(key, jnp.array([0]*initial_stocks.shape[0]), cov, (numsteps,)) #shape<->[numsteps,nstocks]\n",
        "    dt = jnp.array(T[0]/numsteps)\n",
        "    def time_step(t, val):\n",
        "        dx =  drift * dt * val[t-1,:] + val[t-1,:] * jnp.sqrt(dt) * noise[t,:] # no need to multiply by sigma here because noise generated by cov not corr\n",
        "        val = jax.ops.index_update(val,\n",
        "                            jax.ops.index[t],\n",
        "                            val[t-1] + dx)\n",
        "        return val\n",
        "    return jax.lax.fori_loop(1, numsteps+1, time_step, stocks_init)[1:] # jax.lax.fori_loop(lower, upper, body_fun, init_val)\n",
        "\n",
        "\n",
        "class NumbaOptionDataSet(object):\n",
        "    \n",
        "    def __init__(self, max_len=10, number_path = 1000, batch=2, seed=15, stocks=3):  # 3 stocks\n",
        "        self.num = 0\n",
        "        self.max_length = max_len\n",
        "        self.N_PATHS = number_path\n",
        "        self.N_STEPS = 365\n",
        "        self.N_BATCH = batch\n",
        "        self.N_STOCKS = stocks\n",
        "        self.T = 1\n",
        "        self.seed = seed\n",
        "        np.random.seed(seed)\n",
        "        \n",
        "    def __len__(self):\n",
        "        return self.max_length\n",
        "        \n",
        "    def __iter__(self):\n",
        "        self.num = 0\n",
        "        return self\n",
        "\n",
        "    def __next__(self):\n",
        "        if self.num >= self.max_length:\n",
        "            raise StopIteration\n",
        "        \n",
        "        Y = cupy.zeros(self.N_BATCH, dtype=cupy.float32)\n",
        "        X = cupy.zeros((self.N_BATCH, self.N_STOCKS * 7), dtype = cupy.float32)\n",
        "\n",
        "        for op in range(self.N_BATCH):\n",
        "          \n",
        "          key = random.PRNGKey(self.seed)\n",
        "          initial_stocks = jnp.array(np.random.random(self.N_STOCKS) * 200)\n",
        "          # cov=np.random.random((3,3))\n",
        "          # cov=np.matmul(cov,cov.T)\n",
        "          corr = jnp.diag(jnp.array([1]*self.N_STOCKS)) # assume no correlation between stocks here\n",
        "          sigma = jnp.array(np.random.random(self.N_STOCKS) * 0.4)\n",
        "          cov = (jnp.diag(sigma)).dot(corr).dot(jnp.diag(sigma))\n",
        "          r = jnp.repeat(jnp.array(np.random.random(1) * 0.1), self.N_STOCKS)\n",
        "          drift = r # To match BS, use drift = r\n",
        "          T = jnp.array([self.T] * self.N_STOCKS)\n",
        "          K = np.random.random(1) * 200\n",
        "          B = jnp.repeat(jnp.array(K * 0.9), self.N_STOCKS)\n",
        "\n",
        "          fast_simple = jax.jit(Brownian_motion, static_argnums=2)\n",
        "          fast_simple(key, initial_stocks, self.N_STEPS, drift, cov, T)\n",
        "\n",
        "          numsamples = self.N_PATHS # num of paths\n",
        "          keys = jax.random.split(key, numsamples)\n",
        "\n",
        "          batch_simple = jax.vmap(fast_simple, in_axes=(0, None, None, None, None, None))\n",
        "          out = batch_simple(keys, initial_stocks, self.N_STEPS, drift, cov, T)\n",
        "\n",
        "          avg_across_stocks = np.mean(out, axis=2) # becomes paths * steps\n",
        "          Payoff = (1 - np.any(avg_across_stocks < B[0], axis=1).astype(int))* avg_across_stocks[:,self.N_STEPS]\n",
        "          Barrier_Call_price = np.mean(np.maximum(Payoff - K, 0) * jnp.exp(-r[0] * T[0]))\n",
        "          Y[op] = Barrier_Call_price\n",
        "\n",
        "          paras = (T, jnp.repeat(jnp.array(K), self.N_STOCKS), B, initial_stocks, sigma, drift, r)\n",
        "          paras = np.column_stack(paras).reshape(1,-1)[0]\n",
        "          X[op,] = cupy.array(paras)\n",
        "\n",
        "        self.num += 1\n",
        "        return (from_dlpack(X.toDlpack()), from_dlpack(Y.toDlpack()))\n",
        "    #self._net_grads = jax.grad(self._net_apply)\n",
        "\n",
        "\n",
        "ds = NumbaOptionDataSet(1, number_path = 100000, batch = 2, seed = 15, stocks=3)\n",
        "for i in ds:\n",
        "    print(i)"
      ],
      "execution_count": null,
      "outputs": [
        {
          "output_type": "stream",
          "name": "stdout",
          "text": [
            "(tensor([[1.0000e+00, 6.0895e+01, 5.4805e+01, 1.6976e+02, 1.4462e-01, 3.0592e-02,\n",
            "         3.0592e-02, 1.0000e+00, 6.0895e+01, 5.4805e+01, 3.5779e+01, 1.1016e-01,\n",
            "         3.0592e-02, 3.0592e-02, 1.0000e+00, 6.0895e+01, 5.4805e+01, 1.0873e+01,\n",
            "         2.1200e-01, 3.0592e-02, 3.0592e-02],\n",
            "        [1.0000e+00, 4.2110e+01, 3.7899e+01, 2.2348e+01, 1.0566e-01, 8.0708e-02,\n",
            "         8.0708e-02, 1.0000e+00, 4.2110e+01, 3.7899e+01, 4.9980e+01, 2.8711e-01,\n",
            "         8.0708e-02, 8.0708e-02, 1.0000e+00, 4.2110e+01, 3.7899e+01, 1.8353e+02,\n",
            "         3.4629e-01, 8.0708e-02, 8.0708e-02]], device='cuda:0'), tensor([13.2313, 46.5335], device='cuda:0'))\n"
          ]
        }
      ]
    },
    {
      "cell_type": "markdown",
      "metadata": {
        "id": "DMbEwoAHd0Jo"
      },
      "source": [
        "# Lilian"
      ]
    },
    {
      "cell_type": "code",
      "metadata": {
        "id": "HPa3p55MgMOi"
      },
      "source": [
        "################################# TEST ########################################\n",
        "#%%writefile cupy_dataset.py\n",
        "# import cupy\n",
        "import jax\n",
        "import jax.numpy as jnp\n",
        "from jax import random\n",
        "from jax import jit\n",
        "import numpy as np\n",
        "from torch.utils.dlpack import from_dlpack"
      ],
      "execution_count": 2,
      "outputs": []
    },
    {
      "cell_type": "code",
      "metadata": {
        "id": "8Btp5aGIgM88"
      },
      "source": [
        "N_STOCKS = 1\n",
        "N_BATCH = 2\n",
        "N_STEPS = 365\n",
        "N_PATHS = 1000\n",
        "# S0 = 200\n",
        "# K_val = 200\n",
        "# B_val = 0\n",
        "# r_val = 0.1\n",
        "# sigma_val = 0.4"
      ],
      "execution_count": 44,
      "outputs": []
    },
    {
      "cell_type": "code",
      "metadata": {
        "id": "VLNp9YXdMNx5"
      },
      "source": [
        "def Brownian_motion(key, initial_stocks, numsteps, drift, cov, T):\n",
        "    stocks_init = jnp.zeros((numsteps + 1, initial_stocks.shape[0]))   # initial_stocks.shape[0] <-> Stocks number\n",
        "    stocks_init = jax.ops.index_update(stocks_init,   # jax.ops.index_update(x, idx, y) <-> Pure equivalent of x[idx] = y\n",
        "                            jax.ops.index[0],         # initialization of stock prices\n",
        "                            initial_stocks)\n",
        "    noise = jax.random.multivariate_normal(key, jnp.array([0]*initial_stocks.shape[0]), cov, (numsteps,)) #shape<->[numsteps,nstocks]\n",
        "    dt = jnp.array(T[0]/numsteps)\n",
        "    def time_step(t, val):\n",
        "        dx =  drift * dt * val[t-1,:] + val[t-1,:] * jnp.sqrt(dt) * noise[t,:] # no need to multiply by sigma here because noise generated by cov not corr\n",
        "        val = jax.ops.index_update(val,\n",
        "                            jax.ops.index[t],\n",
        "                            val[t-1] + dx)\n",
        "        return val\n",
        "    return jax.lax.fori_loop(1, numsteps+1, time_step, stocks_init)[1:] # jax.lax.fori_loop(lower, upper, body_fun, init_val)\n",
        "\n",
        "   \n",
        "def OptionPrice(seed, K_val, B_val, S0, sigma_val, r_val, T_val = 1):\n",
        "  # price = []\n",
        "  # Y = jnp.zeros(N_BATCH)\n",
        "  # Y = cupy.zeros(N_BATCH, dtype=cupy.float32)\n",
        "  # X = cupy.zeros((N_BATCH, N_STOCKS * 7), dtype = cupy.float32)\n",
        "  # for op in range(N_BATCH):    \n",
        "  key = random.PRNGKey(seed)\n",
        "  initial_stocks = jnp.array(N_STOCKS * [S0])\n",
        "          # cov=np.random.random((3,3))\n",
        "          # cov=np.matmul(cov,cov.T)\n",
        "  corr = jnp.diag(jnp.array([1]*N_STOCKS)) # assume no correlation between stocks here\n",
        "  sigma = jnp.array(N_STOCKS * [sigma_val])\n",
        "  cov = (jnp.diag(sigma)).dot(corr).dot(jnp.diag(sigma))\n",
        "  r = jnp.array([r_val] * N_STOCKS)\n",
        "  drift = r # To match BS, use drift = r\n",
        "  T = jnp.array([T_val] * N_STOCKS)\n",
        "  K = K_val\n",
        "  B = jnp.array([K * B_val] * N_STOCKS)\n",
        "\n",
        "  fast_simple = jax.jit(Brownian_motion, static_argnums=2)\n",
        "  fast_simple(key, initial_stocks, N_STEPS, drift, cov, T)\n",
        "\n",
        "  numsamples = N_PATHS # num of paths\n",
        "  keys = jax.random.split(key, numsamples)\n",
        "\n",
        "  batch_simple = jax.vmap(fast_simple, in_axes=(0, None, None, None, None, None))\n",
        "  avg_across_stocks = batch_simple(keys, initial_stocks, N_STEPS, drift, cov, T)\n",
        "\n",
        "  # avg_across_stocks = np.mean(out, axis=2) # becomes paths * steps\n",
        "  \n",
        "  eff_price = (1 - np.any(avg_across_stocks < B[0], axis=1).astype(int))* avg_across_stocks[:,N_STEPS]  \n",
        "  Barrier_Call_price = jnp.mean(jnp.maximum(eff_price - K, 0) * jnp.exp(-r[0] * T[0]))\n",
        "  \n",
        "  # Y = jax.ops.index_update(Y,jax.ops.index[op],Barrier_Call_price)\n",
        "    #Y[op] = Barrier_Call_price\n",
        "    \n",
        "    #paras = (T, jnp.repeat(jnp.array(K), N_STOCKS), B, initial_stocks, sigma, drift, r)\n",
        "    \n",
        "    #paras = np.column_stack(paras).reshape(1,-1)[0]\n",
        "    #paras = jnp.array(paras)\n",
        "    #X[op,] = cupy.array(paras)\n",
        "  #price = ([from_dlpack(X.toDlpack()), from_dlpack(Y.toDlpack())])\n",
        "  price = Barrier_Call_price\n",
        "  return price"
      ],
      "execution_count": 45,
      "outputs": []
    },
    {
      "cell_type": "code",
      "metadata": {
        "colab": {
          "base_uri": "https://localhost:8080/"
        },
        "id": "u--zKuwpyuTn",
        "outputId": "668026fa-dffd-47ac-ed4c-32b2d5502884"
      },
      "source": [
        "jax.grad(OptionPrice, argnums=3)(15, 200.0, 0, 100.0, 0.4, 0.1, 1.0)"
      ],
      "execution_count": 46,
      "outputs": [
        {
          "output_type": "execute_result",
          "data": {
            "text/plain": [
              "DeviceArray(0., dtype=float32)"
            ]
          },
          "metadata": {},
          "execution_count": 46
        }
      ]
    },
    {
      "cell_type": "code",
      "metadata": {
        "id": "t_d1855uu5eh"
      },
      "source": [
        "# def OptionPrice(seed, K_val, B_val, S0, sigma_val, r_val, T_val = 1):\n",
        "#     # stocks_init = jnp.zeros((numsteps + 1, initial_stocks.shape[0]))   # initial_stocks.shape[0] <-> Stocks number\n",
        "#     # stocks_init = jax.ops.index_update(stocks_init,   # jax.ops.index_update(x, idx, y) <-> Pure equivalent of x[idx] = y\n",
        "#                             jax.ops.index[0],         # initialization of stock prices\n",
        "#                             initial_stocks)\n",
        "#     # noise = jax.random.multivariate_normal(key, jnp.array([0]*initial_stocks.shape[0]), cov, (numsteps,)) #shape<->[numsteps,nstocks]\n",
        "#     # dt = jnp.array(T[0]/numsteps)\n",
        "#     def time_step(t, val):\n",
        "#         dx =  drift * dt * val[t-1,:] + val[t-1,:] * jnp.sqrt(dt) * noise[t,:] # no need to multiply by sigma here because noise generated by cov not corr\n",
        "#         val = jax.ops.index_update(val,\n",
        "#                             jax.ops.index[t],\n",
        "#                             val[t-1] + dx)\n",
        "#         return val\n",
        "#     return jax.lax.fori_loop(1, numsteps+1, time_step, stocks_init)[1:] # jax.lax.fori_loop(lower, upper, body_fun, init_val)  \n",
        "\n",
        "\n",
        "\n",
        "\n",
        "#   # price = []\n",
        "#   # Y = jnp.zeros(N_BATCH)\n",
        "#   # Y = cupy.zeros(N_BATCH, dtype=cupy.float32)\n",
        "#   # X = cupy.zeros((N_BATCH, N_STOCKS * 7), dtype = cupy.float32)\n",
        "#   # for op in range(N_BATCH):    \n",
        "#   key = random.PRNGKey(seed)\n",
        "#   keys = jax.random.split(key, numsamples)\n",
        "\n",
        "#   # initial_stocks = jnp.array(N_STOCKS * [S0])\n",
        "#   stocks_init = jnp.zeros((numsteps + 1, N_STOCKS))\n",
        "#   stocks_init = jax.ops.index_update(stocks_init, jax.ops.index[0], S0)\n",
        "  \n",
        "#   sigma = jnp.array(N_STOCKS * [sigma_val])\n",
        "#   corr = jnp.diag(jnp.array([1]*N_STOCKS))\n",
        "#   cov = (jnp.diag(sigma)).dot(corr).dot(jnp.diag(sigma))\n",
        "#   noise = jax.random.multivariate_normal(key, jnp.array([0]*N_STOCKS), cov, (N_PATHS,)) #shape<->[numsteps,nstocks]\n",
        "  \n",
        "#   T = jnp.array([T_val] * N_STOCKS)\n",
        "#   dt = jnp.array(T[0]/N_PATHS)\n",
        "  \n",
        "#   r = jnp.array([r_val] * N_STOCKS)\n",
        "#   drift = r # To match BS, use drift = r\n",
        "  \n",
        "#   def time_step(t, val):\n",
        "#     dx =  drift * dt * val[t-1,:] + val[t-1,:] * jnp.sqrt(dt) * noise[t,:] # no need to multiply by sigma here because noise generated by cov not corr\n",
        "#     val = jax.ops.index_update(val,jax.ops.index[t],val[t-1] + dx)\n",
        "#     return val\n",
        "#   avg_across_stocks jax.lax.fori_loop(1, numsteps+1, time_step, stocks_init)[1:] # jax.lax.fori_loop(lower, upper, body_fun, init_val)  \n",
        "\n",
        "\n",
        "#   avg_across_stocks\n",
        "\n",
        "\n",
        "#   K = K_val\n",
        "#   B = jnp.array([K * B_val] * N_STOCKS)\n",
        "\n",
        "#   # fast_simple = jax.jit(Brownian_motion, static_argnums=2)\n",
        "#   # fast_simple(key, initial_stocks, N_STEPS, drift, cov, T)\n",
        "\n",
        "#   # numsamples = N_PATHS # num of paths\n",
        "  \n",
        "\n",
        "#   batch_simple = jax.vmap(fast_simple, in_axes=(0, None, None, None, None, None))\n",
        "#   avg_across_stocks = batch_simple(keys, initial_stocks, N_STEPS, drift, cov, T)\n",
        "\n",
        "#   # avg_across_stocks = np.mean(out, axis=2) # becomes paths * steps\n",
        "  \n",
        "#   eff_price = (1 - np.any(avg_across_stocks < B[0], axis=1).astype(int))* avg_across_stocks[:,N_STEPS]  \n",
        "#   Barrier_Call_price = jnp.mean(jnp.maximum(eff_price - K, 0) * jnp.exp(-r[0] * T[0]))\n",
        "  \n",
        "#   # Y = jax.ops.index_update(Y,jax.ops.index[op],Barrier_Call_price)\n",
        "#     #Y[op] = Barrier_Call_price\n",
        "    \n",
        "#     #paras = (T, jnp.repeat(jnp.array(K), N_STOCKS), B, initial_stocks, sigma, drift, r)\n",
        "    \n",
        "#     #paras = np.column_stack(paras).reshape(1,-1)[0]\n",
        "#     #paras = jnp.array(paras)\n",
        "#     #X[op,] = cupy.array(paras)\n",
        "#   #price = ([from_dlpack(X.toDlpack()), from_dlpack(Y.toDlpack())])\n",
        "#   price = Barrier_Call_price\n",
        "#   return price"
      ],
      "execution_count": null,
      "outputs": []
    },
    {
      "cell_type": "code",
      "metadata": {
        "id": "kqVFLyi2ftep"
      },
      "source": [
        "Option = OptionPrice(15, K_val = 200, B_val = -1, S0 = 100, sigma_val = 0.4, r_val = 0.1, T_val = 1)"
      ],
      "execution_count": 42,
      "outputs": []
    },
    {
      "cell_type": "code",
      "metadata": {
        "id": "geUuE7R1ibqJ",
        "colab": {
          "base_uri": "https://localhost:8080/"
        },
        "outputId": "bb5427af-1d7b-46fd-c254-cdc77d257972"
      },
      "source": [
        "Option"
      ],
      "execution_count": 43,
      "outputs": [
        {
          "output_type": "execute_result",
          "data": {
            "text/plain": [
              "DeviceArray(1.6070049, dtype=float32)"
            ]
          },
          "metadata": {},
          "execution_count": 43
        }
      ]
    },
    {
      "cell_type": "code",
      "metadata": {
        "id": "2WoLIUxYgRkg",
        "colab": {
          "base_uri": "https://localhost:8080/"
        },
        "outputId": "234d2c49-a303-4aff-9580-338b7b1ee4ff"
      },
      "source": [
        "jax.grad(OptionPrice, argnums=3)(15, 200.0, 0, 100.0, 0.4, 0.1, 1.0)"
      ],
      "execution_count": 39,
      "outputs": [
        {
          "output_type": "execute_result",
          "data": {
            "text/plain": [
              "DeviceArray(0., dtype=float32)"
            ]
          },
          "metadata": {},
          "execution_count": 39
        }
      ]
    },
    {
      "cell_type": "code",
      "metadata": {
        "id": "TnZ01jivh1K4"
      },
      "source": [
        "class NumbaOptionDataSet(object):\n",
        "    \n",
        "    def __init__(self, max_len=10, number_path = 1000, batch=2, seed=15, stocks=3):  # 3 stocks\n",
        "        self.num = 0\n",
        "        self.max_length = max_len\n",
        "        self.N_PATHS = number_path\n",
        "        self.N_STEPS = 365\n",
        "        self.N_BATCH = batch\n",
        "        self.N_STOCKS = stocks\n",
        "        self.T = 1\n",
        "        self.seed = seed\n",
        "        np.random.seed(seed)\n",
        "        \n",
        "    def __len__(self):\n",
        "        return self.max_length\n",
        "\n",
        "    def OptionGrad(self):\n",
        "      Class = NumbaOptionDataSet()\n",
        "      # grad(J, argnums=2)(X, w, b, y)\n",
        "      self.grad = jax.grad(Class.OptionPrice,argnums=0)(S0)\n",
        "      return self.grad\n",
        "\n",
        "    def __iter__(self):\n",
        "        self.num = 0\n",
        "        return self\n",
        "\n",
        "    def __next__(self):\n",
        "        if self.num >= self.max_length:\n",
        "            raise StopIteration\n",
        "        Class = NumbaOptionDataSet()\n",
        "        val = Class.OptionPrice(200)\n",
        "        grad = Class.OptionGrad()\n",
        "        self.num += 1\n",
        "        #return (val,'here is grad',grad)\n",
        "        return ('here is grad',grad)\n",
        "\n",
        "ds = NumbaOptionDataSet(3, number_path = 100000, batch = 2, seed = 15, stocks=3)\n",
        "for i in ds:\n",
        "    print(i)"
      ],
      "execution_count": null,
      "outputs": []
    },
    {
      "cell_type": "markdown",
      "metadata": {
        "id": "4tAWg7RKeTly"
      },
      "source": [
        "# Jax Example 1"
      ]
    },
    {
      "cell_type": "code",
      "metadata": {
        "colab": {
          "base_uri": "https://localhost:8080/"
        },
        "id": "vj_EqsCsEXNb",
        "outputId": "c87004f1-a50b-4356-d10e-ebb460351390"
      },
      "source": [
        "loss_grad = jax.grad(loss)\n",
        "\n",
        "# Stochastic gradient descent learning rate\n",
        "learning_rate = 1.\n",
        "# All possible inputs\n",
        "inputs = np.array([[0, 0], [0, 1], [1, 0], [1, 1]])\n",
        "\n",
        "# Initialize parameters randomly\n",
        "params = initial_params()\n",
        "\n",
        "for n in itertools.count():\n",
        "    # Grab a single random input\n",
        "    x = inputs[onp.random.choice(inputs.shape[0])]\n",
        "    # Compute the target output\n",
        "    y = onp.bitwise_xor(*x)\n",
        "    # Get the gradient of the loss for this input/output pair\n",
        "    grads = loss_grad(params, x, y)\n",
        "    # Update parameters via gradient descent\n",
        "    params = [param - learning_rate * grad\n",
        "              for param, grad in zip(params, grads)]\n",
        "    # Every 100 iterations, check whether we've solved XOR\n",
        "    if not n % 100:\n",
        "        print('Iteration {}'.format(n))\n",
        "        if test_all_inputs(inputs, params):\n",
        "            break"
      ],
      "execution_count": null,
      "outputs": [
        {
          "output_type": "stream",
          "name": "stdout",
          "text": [
            "Hello my name is John\n"
          ]
        }
      ]
    },
    {
      "cell_type": "markdown",
      "metadata": {
        "id": "Of8pdbGLeWWj"
      },
      "source": [
        "# Jax Example 2"
      ]
    },
    {
      "cell_type": "code",
      "metadata": {
        "id": "w_owPjbreZcz"
      },
      "source": [
        "import jax.numpy as np\n",
        "from jax import grad, jit"
      ],
      "execution_count": null,
      "outputs": []
    },
    {
      "cell_type": "code",
      "metadata": {
        "id": "kKQ03UAYedLz"
      },
      "source": [
        "def J(X, w, b, y):\n",
        "    \"\"\"Cost function for a linear regression. A forward pass of our model.\n",
        "\n",
        "    Args:\n",
        "        X: a features matrix.\n",
        "        w: weights (a column vector).\n",
        "        b: a bias.\n",
        "        y: a target vector.\n",
        "\n",
        "    Returns:\n",
        "        scalar: a cost of this solution.    \n",
        "    \"\"\"\n",
        "    y_hat = X.dot(w) + b # Predict values.\n",
        "    return ((y_hat - y)**2).mean() # Return cost."
      ],
      "execution_count": null,
      "outputs": []
    },
    {
      "cell_type": "code",
      "metadata": {
        "id": "zJk7tMxeedyq"
      },
      "source": [
        "# A features matrix.\n",
        "X = np.array([\n",
        "                 [4., 7.],\n",
        "                 [1., 8.],\n",
        "                 [-5., -6.],\n",
        "                 [3., -1.],\n",
        "                 [0., 9.]\n",
        "             ])\n",
        "\n",
        "# A target column vector.\n",
        "y = np.array([\n",
        "                 [37.],\n",
        "                 [24.],\n",
        "                 [-34.], \n",
        "                 [16.],\n",
        "                 [21.]\n",
        "             ])\n",
        "\n",
        "learning_rate = 0.01"
      ],
      "execution_count": null,
      "outputs": []
    },
    {
      "cell_type": "markdown",
      "metadata": {
        "id": "2QbcpwaHe9Iq"
      },
      "source": [
        "Train without JIT"
      ]
    },
    {
      "cell_type": "code",
      "metadata": {
        "id": "G1gDVXMKe_Cz",
        "colab": {
          "base_uri": "https://localhost:8080/",
          "height": 136
        },
        "outputId": "2390428a-d829-46e1-e0d4-7247c087c3c8"
      },
      "source": [
        "w = np.zeros((2, 1))\n",
        "b = 0.\n",
        "\n",
        "print(grad(J, argnums=0)(X, w, b , y)) #argnums (Union[int, Sequence[int]]) – Optional, \n",
        "                    #integer or sequence of integers. Specifies which positional \n",
        "                    #argument(s) to differentiate with respect to (default 0).\n",
        "\n",
        "# %timeit grad(J, argnums=2)(X, w, b, y)\n",
        "\n",
        "# for i in range(100):\n",
        "#     w -= learning_rate * grad(J, argnums=1)(X, w, b, y)\n",
        "#     b -= learning_rate * grad(J, argnums=2)(X, w, b, y)\n",
        "    \n",
        "#     if i % 10 == 0:\n",
        "#         print(J(X, w, b, y))"
      ],
      "execution_count": null,
      "outputs": [
        {
          "output_type": "error",
          "ename": "SyntaxError",
          "evalue": "ignored",
          "traceback": [
            "\u001b[0;36m  File \u001b[0;32m\"<ipython-input-53-061c7e5f854c>\"\u001b[0;36m, line \u001b[0;32m4\u001b[0m\n\u001b[0;31m    print(grad(J, argnums=0)(X, w, b = 0, y)) #argnums (Union[int, Sequence[int]]) – Optional,\u001b[0m\n\u001b[0m                                         ^\u001b[0m\n\u001b[0;31mSyntaxError\u001b[0m\u001b[0;31m:\u001b[0m positional argument follows keyword argument\n"
          ]
        }
      ]
    },
    {
      "cell_type": "markdown",
      "metadata": {
        "id": "1DlMZjqsfFlD"
      },
      "source": [
        "Train with JIT"
      ]
    },
    {
      "cell_type": "code",
      "metadata": {
        "id": "dCb3rbhPfHeK"
      },
      "source": [
        "\n",
        "\n",
        "w = np.zeros((2, 1))\n",
        "b = 0.\n",
        "\n",
        "grad_X = jit(grad(J, argnums=1))\n",
        "grad_b = jit(grad(J, argnums=2))\n",
        "\n",
        "# Run once to trigger JIT compilation.\n",
        "grad_X(X, w, b, y)\n",
        "grad_b(X, w, b, y)\n",
        "\n",
        "\n",
        "%timeit grad_X(X, w, b, y)\n",
        "\n",
        "%timeit grad_b(X, w, b, y)\n",
        "\n",
        "for i in range(100):\n",
        "    w -= learning_rate * grad_X(X, w, b, y)\n",
        "    b -= learning_rate * grad_b(X, w, b, y)\n",
        "    \n",
        "    if i % 10 == 0:\n",
        "        print(J(X, w, b, y))"
      ],
      "execution_count": null,
      "outputs": []
    }
  ]
}