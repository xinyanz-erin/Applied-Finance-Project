{
 "cells": [
  {
   "cell_type": "code",
   "execution_count": 153,
   "id": "4beaa99e",
   "metadata": {},
   "outputs": [],
   "source": [
    "import math as m\n",
    "import numpy as np\n",
    "import random"
   ]
  },
  {
   "cell_type": "code",
   "execution_count": 164,
   "id": "121ec833",
   "metadata": {},
   "outputs": [],
   "source": [
    "def St(T):\n",
    "    st = np.array([s0] * n_paths)\n",
    "    s_all = []\n",
    "    s_all.append(st)\n",
    "    for i in range(n_steps):\n",
    "        z = np.random.normal(size = int(n_paths/2))\n",
    "        z = np.concatenate((z, -z))\n",
    "        st = st + r * st * dt + sigma * st * np.sqrt(dt) * z\n",
    "        s_all.append(st)\n",
    "    return(np.array(s_all))"
   ]
  },
  {
   "cell_type": "code",
   "execution_count": 165,
   "id": "9fc4110e",
   "metadata": {},
   "outputs": [],
   "source": [
    "def func_x(x, k):\n",
    "    temp = np.array([i for i in range(k + 1)])\n",
    "    res = (np.array(x).reshape((len(x),1))) ** temp\n",
    "#     res = np.append(res, [np.ones((k + 1))], axis = 0)\n",
    "#     res = res.T\n",
    "    return res\n",
    "    "
   ]
  },
  {
   "cell_type": "code",
   "execution_count": 166,
   "id": "bbec71ca",
   "metadata": {},
   "outputs": [],
   "source": [
    "s0,sigma,r=40,0.2,0.06\n",
    "K,T=40,1\n",
    "n_steps = 100\n",
    "n_paths = 100000\n",
    "dt = T / n_steps\n",
    "k = 3"
   ]
  },
  {
   "cell_type": "code",
   "execution_count": 167,
   "id": "3cada4bb",
   "metadata": {},
   "outputs": [],
   "source": [
    "\n",
    "# stocks = St(T)\n",
    "# payoffs = np.maximum(stocks - K,0)\n",
    "# # payoffs = np.maximum(K - stocks,0)\n",
    "\n",
    "# Y = np.exp(-r * dt) * payoffs[-1]\n",
    "# for m in range(n-1):\n",
    "#     path = -1 - m\n",
    "#     si = stocks[path]\n",
    "#     ind = np.where(Y!=0)[0].tolist()\n",
    "#     if ind!=[]:\n",
    "#         s_lag = stocks[path-1][ind]\n",
    "#         A = func_x(s_lag, k)\n",
    "#         coef = np.linalg.lstsq(A, Y[ind], rcond=None)[0]\n",
    "#         pre_value = A.dot(coef)\n",
    "        \n",
    "#         exercise_value = payoffs[path-1][ind]\n",
    "#         ind2 = np.where(exercise_value >= pre_value)[0].tolist()\n",
    "\n",
    "#         ind_change = np.array(ind)[ind2].tolist()    \n",
    "#         Y[ind_change]=exercise_value[ind2]\n",
    "#         Y = np.exp(-r*dt)*Y\n",
    "# print(Y.mean())\n",
    "    "
   ]
  },
  {
   "cell_type": "code",
   "execution_count": 168,
   "id": "a5887c27",
   "metadata": {},
   "outputs": [],
   "source": [
    "def LSM_Call(T,k):\n",
    "    stocks = St(T)\n",
    "    payoffs = np.maximum(stocks - K,0)\n",
    "\n",
    "    Y = np.exp(-r * dt) * payoffs[-1]\n",
    "    for m in range(n-1):\n",
    "        path = -1 - m\n",
    "        si = stocks[path]\n",
    "        ind = np.where(Y!=0)[0].tolist()\n",
    "        if ind!=[]:\n",
    "            s_lag = stocks[path-1][ind]\n",
    "            A = func_x(s_lag, k)\n",
    "            coef = np.linalg.lstsq(A, Y[ind], rcond=None)[0]\n",
    "            pre_value = A.dot(coef)\n",
    "        \n",
    "            exercise_value = payoffs[path-1][ind]\n",
    "            ind2 = np.where(exercise_value >= pre_value)[0].tolist()\n",
    "\n",
    "            ind_change = np.array(ind)[ind2].tolist()    \n",
    "            Y[ind_change]=exercise_value[ind2]\n",
    "            Y = np.exp(-r*dt)*Y\n",
    "    return(Y.mean())\n",
    "    "
   ]
  },
  {
   "cell_type": "code",
   "execution_count": 169,
   "id": "93286f3e",
   "metadata": {},
   "outputs": [
    {
     "data": {
      "text/plain": [
       "4.28606362451361"
      ]
     },
     "execution_count": 169,
     "metadata": {},
     "output_type": "execute_result"
    }
   ],
   "source": [
    "LSM_Call(1, 3)"
   ]
  },
  {
   "cell_type": "code",
   "execution_count": null,
   "id": "f2bac137",
   "metadata": {},
   "outputs": [],
   "source": []
  }
 ],
 "metadata": {
  "kernelspec": {
   "display_name": "Python 3",
   "language": "python",
   "name": "python3"
  },
  "language_info": {
   "codemirror_mode": {
    "name": "ipython",
    "version": 3
   },
   "file_extension": ".py",
   "mimetype": "text/x-python",
   "name": "python",
   "nbconvert_exporter": "python",
   "pygments_lexer": "ipython3",
   "version": "3.8.8"
  }
 },
 "nbformat": 4,
 "nbformat_minor": 5
}
