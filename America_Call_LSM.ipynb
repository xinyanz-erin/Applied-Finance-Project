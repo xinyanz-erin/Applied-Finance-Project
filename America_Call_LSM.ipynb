{
 "cells": [
  {
   "cell_type": "code",
   "execution_count": 2,
   "id": "4beaa99e",
   "metadata": {},
   "outputs": [],
   "source": [
    "import math as m\n",
    "import numpy as np\n",
    "import random"
   ]
  },
  {
   "cell_type": "code",
   "execution_count": 34,
   "id": "121ec833",
   "metadata": {},
   "outputs": [],
   "source": [
    "def St(T):\n",
    "    st = np.array([s0] * n_paths)\n",
    "    s_all = []\n",
    "    s_all.append(st)\n",
    "    for i in range(n_steps):\n",
    "        z = np.random.normal(size = int(n_paths/2))\n",
    "        z = np.concatenate((z, -z))\n",
    "        st = st + r * st * dt + sigma * st * np.sqrt(dt) * z\n",
    "        s_all.append(st)\n",
    "    return(np.array(s_all))"
   ]
  },
  {
   "cell_type": "code",
   "execution_count": 36,
   "id": "bbec71ca",
   "metadata": {},
   "outputs": [],
   "source": [
    "s0,sigma,r=40,0.2,0.06\n",
    "K,T=40,1\n",
    "n_steps = 100\n",
    "n_paths = 100000\n",
    "dt = T / n_steps"
   ]
  },
  {
   "cell_type": "code",
   "execution_count": 58,
   "id": "3cada4bb",
   "metadata": {},
   "outputs": [
    {
     "name": "stdout",
     "output_type": "stream",
     "text": [
      "2.0141214924647035\n"
     ]
    }
   ],
   "source": [
    "stocks = St(T)\n",
    "# payoffs = np.maximum(stocks - K,0)\n",
    "payoffs = np.maximum(K - stocks,0)\n",
    "\n",
    "Y = np.exp(-r * dt) * payoffs[-1]\n",
    "for m in range(n-1):\n",
    "    path = -1 - m\n",
    "    si = stocks[path]\n",
    "    ind = np.where(Y!=0)[0].tolist()\n",
    "    if ind!=[]:\n",
    "        s_lag = stocks[path-1][ind]\n",
    "        A = np.vstack([s_lag, np.ones(len(s_lag))]).T\n",
    "        m, c = np.linalg.lstsq(A, Y[ind], rcond=None)[0] \n",
    "        pre_value = m * s_lag + c\n",
    "        \n",
    "        exercise_value = payoffs[path-1][ind]\n",
    "        ind2 = np.where(exercise_value >= pre_value)[0].tolist()\n",
    "\n",
    "        ind_change = np.array(ind)[ind2].tolist()    \n",
    "        Y[ind_change]=exercise_value[ind2]\n",
    "        Y = np.exp(-r*dt)*Y\n",
    "print(Y.mean())\n",
    "    "
   ]
  },
  {
   "cell_type": "code",
   "execution_count": null,
   "id": "a5887c27",
   "metadata": {},
   "outputs": [],
   "source": [
    "# def LSMC_Monomials(T,k):\n",
    "#     A=np.arange(k**2).reshape(k,k)\n",
    "#     stocks=St(T)\n",
    "#     payoffs=np.maximum(40-stocks,0)\n",
    "#     n=round(T/dt)\n",
    "#     Y=np.exp(-r*dt)*payoffs[-1]\n",
    "#     for m in range(n-1):\n",
    "#         path=-1-m\n",
    "#         si=stocks[path]\n",
    "#         ind=np.where(Y!=0)[0].tolist()\n",
    "#         if ind!=[]:\n",
    "#             L=Monomials(si[ind])[0:k]\n",
    "#             b=[sum(Li*Y[ind]) for Li in L]\n",
    "#             A=np.matmul(L,np.transpose(L))\n",
    "#             a=np.matmul(np.linalg.inv(A),b).reshape(1,k)\n",
    "        \n",
    "#             s_lag=stocks[path-1][ind]\n",
    "#             L_lag=Monomials(s_lag)[0:k]\n",
    "#             ECV=np.matmul(a,L_lag)\n",
    "#             EV=payoffs[path-1][ind]\n",
    "        \n",
    "#             ind2=np.where(EV>=ECV)[1].tolist()\n",
    "#             ind_change=np.array(ind)[ind2].tolist()\n",
    "#             Y=np.exp(-r*dt)*Y\n",
    "#             Y[ind_change]=EV[ind2]\n",
    "#     return(Y.mean())\n",
    "    "
   ]
  }
 ],
 "metadata": {
  "kernelspec": {
   "display_name": "Python 3",
   "language": "python",
   "name": "python3"
  },
  "language_info": {
   "codemirror_mode": {
    "name": "ipython",
    "version": 3
   },
   "file_extension": ".py",
   "mimetype": "text/x-python",
   "name": "python",
   "nbconvert_exporter": "python",
   "pygments_lexer": "ipython3",
   "version": "3.8.8"
  }
 },
 "nbformat": 4,
 "nbformat_minor": 5
}
