{
  "nbformat": 4,
  "nbformat_minor": 0,
  "metadata": {
    "colab": {
      "name": "BC_EU_verification.ipynb",
      "provenance": [],
      "collapsed_sections": [],
      "include_colab_link": true
    },
    "kernelspec": {
      "name": "python3",
      "display_name": "Python 3"
    },
    "language_info": {
      "name": "python"
    }
  },
  "cells": [
    {
      "cell_type": "markdown",
      "metadata": {
        "id": "view-in-github",
        "colab_type": "text"
      },
      "source": [
        "<a href=\"https://colab.research.google.com/github/xinyanz-erin/Applied-Finance-Project/blob/Judy/BCverification.ipynb\" target=\"_parent\"><img src=\"https://colab.research.google.com/assets/colab-badge.svg\" alt=\"Open In Colab\"/></a>"
      ]
    },
    {
      "cell_type": "code",
      "metadata": {
        "id": "p-6ARcU8CFpJ"
      },
      "source": [
        "import numpy as np"
      ],
      "execution_count": 2,
      "outputs": []
    },
    {
      "cell_type": "code",
      "metadata": {
        "id": "yqoT36aKGJ5G"
      },
      "source": [
        "# S0 = np.array([100, 100, 100])\n",
        "S0 = np.array([1])\n",
        "K = 1\n",
        "B = 0.8\n",
        "T = 1\n",
        "r = 0.02\n",
        "sigma = 0.25\n",
        "cov = np.identity(len(S0))\n",
        "n_step = 50\n",
        "n_path = 100000"
      ],
      "execution_count": 17,
      "outputs": []
    },
    {
      "cell_type": "code",
      "metadata": {
        "id": "81dT6kVFBTIn"
      },
      "source": [
        "def BC(S0, K, B, T, r, sigma, cov, n_step, n_path):\n",
        "  payoff = np.zeros(n_path)\n",
        "  dt = T/n_step\n",
        "  for i in range(n_path):\n",
        "    S = S0\n",
        "    for j in range(n_step):\n",
        "      # random = np.random.multivariate_normal(mean = np.array([0, 0, 0]), cov = cov)\n",
        "      random = np.random.normal(0, 1, 1)\n",
        "\n",
        "      S = S * np.exp((r - (1/2)*sigma**2) * dt + np.sqrt(dt) * random * sigma)\n",
        "      S_avg = np.average(S)\n",
        "      if S_avg < B:\n",
        "        break\n",
        "\n",
        "    # if S_avg < B:\n",
        "    #   payoff[i] = 0\n",
        "    else:\n",
        "      payoff[i] = max(np.average(S) - K, 0)\n",
        "    # payoff[i] = max(np.average(S)-K,0)\n",
        "    # payoff[i] = max(S[0]-K, 0)\n",
        "\n",
        "  price = np.exp(-r * T) * np.average(payoff)\n",
        "  return price\n",
        "      "
      ],
      "execution_count": 18,
      "outputs": []
    },
    {
      "cell_type": "code",
      "metadata": {
        "id": "cZ89O8r7HAeB",
        "outputId": "ef23e0f6-f5ea-46de-e8c2-ad26024e0c4c",
        "colab": {
          "base_uri": "https://localhost:8080/"
        }
      },
      "source": [
        "BC(S0, K, B, T, r, sigma, cov, n_step, n_path)"
      ],
      "execution_count": 19,
      "outputs": [
        {
          "output_type": "execute_result",
          "data": {
            "text/plain": [
              "0.10638435782559523"
            ]
          },
          "metadata": {},
          "execution_count": 19
        }
      ]
    }
  ]
}