{
  "nbformat": 4,
  "nbformat_minor": 0,
  "metadata": {
    "colab": {
      "name": "American_Put_jax.ipynb",
      "provenance": [],
      "collapsed_sections": [],
      "machine_shape": "hm",
      "include_colab_link": true
    },
    "kernelspec": {
      "name": "python3",
      "display_name": "Python 3"
    },
    "language_info": {
      "name": "python"
    },
    "accelerator": "GPU"
  },
  "cells": [
    {
      "cell_type": "markdown",
      "metadata": {
        "id": "view-in-github",
        "colab_type": "text"
      },
      "source": [
        "<a href=\"https://colab.research.google.com/github/xinyanz-erin/Applied-Finance-Project/blob/Pui/Peter_American_Put_jax.ipynb\" target=\"_parent\"><img src=\"https://colab.research.google.com/assets/colab-badge.svg\" alt=\"Open In Colab\"/></a>"
      ]
    },
    {
      "cell_type": "markdown",
      "metadata": {
        "id": "v1RYKgBifCYw"
      },
      "source": [
        "# American Put"
      ]
    },
    {
      "cell_type": "code",
      "metadata": {
        "id": "-NX6wMUgxs84",
        "colab": {
          "base_uri": "https://localhost:8080/"
        },
        "outputId": "67c8d9b7-bf94-4cbb-b9f1-d782343e6435"
      },
      "source": [
        "# change from CF matrix to CF array\n",
        "# put\n",
        "# large numpaths & numsteps to test price here\n",
        "# use lax.scan\n",
        "# replace X=0 and Y=0 for OTM\n",
        "# add inner loop for multiple batches: can have more numpaths by increasing numbatches\n",
        "# if run out of memory, try restarting the session\n",
        "\n",
        "import jax\n",
        "import jax.numpy as jnp\n",
        "from jax import random\n",
        "from jax import jit\n",
        "import numpy as np\n",
        "\n",
        "def Brownian_motion(key, initial_stocks, numsteps, drift, cov, T):\n",
        "    stocks_init = jnp.zeros((numsteps + 1, initial_stocks.shape[0]))\n",
        "    stocks_init = jax.ops.index_update(stocks_init,   # jax.ops.index_update(x, idx, y) <-> Pure equivalent of x[idx] = y\n",
        "                            jax.ops.index[0],         # initialization of stock prices\n",
        "                            initial_stocks)\n",
        "    noise = jax.random.multivariate_normal(key,  jnp.array([0]*initial_stocks.shape[0]), cov, (numsteps+1,)) # noise must have mean 0\n",
        "    sigma = jnp.diag(cov) ** 0.5\n",
        "    dt = T / numsteps\n",
        "    def time_step(t, val):\n",
        "        dx = jnp.exp((drift - sigma ** 2. / 2.) * dt + jnp.sqrt(dt) * noise[t,:])\n",
        "        val = jax.ops.index_update(val,\n",
        "                            jax.ops.index[t],\n",
        "                            val[t-1] * dx)\n",
        "        return val\n",
        "    return jax.lax.fori_loop(1, numsteps+1, time_step, stocks_init)[1:] # jax.lax.fori_loop(lower, upper, body_fun, init_val)\n",
        "\n",
        "def optionvalueavg(key, initial_stocks, numsteps, drift, r, cov, K, T, numpaths):  \n",
        "  numbatches = 10 # if numbatches is larger, max numpaths can be larger. Note: the larger the numbatches, the longer the computation will take\n",
        "  out = batch_simple(keys, initial_stocks, numsteps, drift, cov, T)\n",
        "  out_avg = jnp.mean(batch_simple(keys, initial_stocks, numsteps, drift, cov, T), axis=2)\n",
        "\n",
        "  dt = T / numsteps\n",
        "  ITM_matrix = out_avg <= K # matrix that is true if ITM, else false\n",
        "  CF_array = jnp.maximum(K-out_avg[:,-1], 0) # array that will store discounted cash flows for the next time period\n",
        "\n",
        "  def for_loop(numsteps, r, K, dt, ITM_matrix, CF_array, numpaths, numbatches):\n",
        "    def body_fun(val, i):\n",
        "      ITM_boolean = ITM_matrix[:,-i]\n",
        "      X = jnp.where(ITM_boolean, out_avg[:,-i], 0) # if ITM, use out_avg, if not, use 0\n",
        "      val = (val * jnp.exp(-r * dt)) # discount CF_array by one step\n",
        "      Y = jnp.where(ITM_boolean, val, 0) # if ITM, Y = CF array, if not, use 0\n",
        "      X_matrix = jnp.array([X**0,X**1,X**2,X**3]).transpose()\n",
        "\n",
        "      ECV = jnp.zeros(numpaths) # initialize ECV array with 0's\n",
        "      X_matrix_3D = X_matrix.reshape((numbatches, -1, 4))\n",
        "      Y_3D = Y.reshape((numbatches, -1))\n",
        "      ITM_boolean_3D = ITM_boolean.reshape((numbatches, -1))\n",
        "\n",
        "      # inner loop (more batches so that numpaths can be larger without running out of memory)\n",
        "      def ECV_fun(val_2, i_2):\n",
        "        ECV_sub = X_matrix_3D[i_2].dot(jax.numpy.linalg.lstsq(X_matrix_3D[i_2], Y_3D[i_2], rcond=-1)[0]) # predicted Y - ECV - expected continue value\n",
        "        ECV_sub = jnp.where(ITM_boolean_3D[i_2], ECV_sub, 10000) # replace not ITM ECV by 10000 (so that K-X < ECV)\n",
        "        val_2 = jax.lax.dynamic_update_slice(val_2,\n",
        "                                             ECV_sub,\n",
        "                                             ((numpaths*i_2/numbatches).astype(int),)) # update the part for this batch in ECV array\n",
        "        return val_2, i_2\n",
        "\n",
        "      counts_2 = jnp.arange(numbatches)\n",
        "      ECV, _ =  jax.lax.scan(ECV_fun, ECV, counts_2)\n",
        "\n",
        "      # update CF_array\n",
        "      KX_larger_than_ECV = (K-X > ECV)\n",
        "      val = KX_larger_than_ECV*(K-X) + (1-KX_larger_than_ECV)*val\n",
        "      return val, i\n",
        "\n",
        "    counts = jnp.arange(2, numsteps+1)\n",
        "    CF_array, _ =  jax.lax.scan(body_fun, CF_array, counts)\n",
        "    return (CF_array * jnp.exp(-r * dt)).mean()\n",
        "\n",
        "  CF_out = for_loop(numsteps, r.copy()[0], K, dt, ITM_matrix, CF_array, numpaths, numbatches)\n",
        "  return CF_out\n",
        "\n",
        "numstocks = 1\n",
        "numpaths = 100000\n",
        "numsteps = 200\n",
        "\n",
        "rng = jax.random.PRNGKey(np.random.randint(10000))\n",
        "rng, key = jax.random.split(rng)\n",
        "drift = jnp.array([0.05]*numstocks)\n",
        "r = drift\n",
        "\n",
        "cov = jnp.identity(numstocks)*0.25*0.25\n",
        "initial_stocks = jnp.array([1.]*numstocks) # must be float\n",
        "\n",
        "T = 1.0\n",
        "K = 1.0\n",
        "\n",
        "fast_simple = jax.jit(Brownian_motion, static_argnums=2)\n",
        "\n",
        "keys = jax.random.split(key, numpaths)\n",
        "batch_simple = jax.vmap(fast_simple, in_axes=(0, None, None, None, None, None))\n",
        "\n",
        "# option price\n",
        "print(optionvalueavg(key, initial_stocks, numsteps, drift, r, cov, K, T, numpaths))\n",
        "%timeit(optionvalueavg(key, initial_stocks, numsteps, drift, r, cov, K, T, numpaths))\n",
        "\n",
        "# delta\n",
        "goptionvalueavg = jax.grad(optionvalueavg,argnums=1)\n",
        "print(goptionvalueavg(keys, initial_stocks, numsteps, drift, r, cov, K, T, numpaths))\n",
        "%timeit(goptionvalueavg(keys, initial_stocks, numsteps, drift, r, cov, K, T, numpaths))"
      ],
      "execution_count": 1,
      "outputs": [
        {
          "output_type": "stream",
          "name": "stdout",
          "text": [
            "0.08003467\n",
            "1 loop, best of 5: 1.17 s per loop\n",
            "[-0.41563094]\n",
            "1 loop, best of 5: 11.2 s per loop\n"
          ]
        }
      ]
    }
  ]
}