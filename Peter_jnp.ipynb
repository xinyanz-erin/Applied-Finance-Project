{
  "nbformat": 4,
  "nbformat_minor": 0,
  "metadata": {
    "colab": {
      "name": "Peter_jnp.ipynb",
      "provenance": [],
      "authorship_tag": "ABX9TyMHX/TivZdEZhviIhdGUunW",
      "include_colab_link": true
    },
    "kernelspec": {
      "name": "python3",
      "display_name": "Python 3"
    },
    "language_info": {
      "name": "python"
    }
  },
  "cells": [
    {
      "cell_type": "markdown",
      "metadata": {
        "id": "view-in-github",
        "colab_type": "text"
      },
      "source": [
        "<a href=\"https://colab.research.google.com/github/xinyanz-erin/Applied-Finance-Project/blob/Judy/Peter_jnp.ipynb\" target=\"_parent\"><img src=\"https://colab.research.google.com/assets/colab-badge.svg\" alt=\"Open In Colab\"/></a>"
      ]
    },
    {
      "cell_type": "code",
      "metadata": {
        "id": "AM9Sjorq3aPK"
      },
      "source": [
        "import jax.numpy \n",
        "as jnp\n",
        "\n",
        "def simple_process(key, initial_values,numsteps, drift, cov):\n",
        "  stocks_init = jnp.zeros((numsteps + 1,initial_values.shape[0]))\n",
        "  stocks_init=jax.ops.index_update(stocks_init,jax.ops.index[0],initial_values)\n",
        "  noise = jax.random.multivariate_normal(key, drift, cov, (numsteps,))\n",
        "  return (noise)\n",
        "\n",
        "def time_step(t,val):\n",
        "  dx = drift+noise[t,:]\n",
        "  val = jax.ops.index_update(val,jax.ops.index[t],val[t-1] + dx)\n",
        "  return val\n",
        "\n",
        "return jax.lax.fori_loop(1, numsteps+1, time_step, stocks_init)[1:]\n",
        "\n",
        "\n",
        "\n",
        "numsteps=10\n",
        "drift=jnp.array([0.0]*10)\n",
        "cov=np.random.random((10,10))\n",
        "cov=np.matmul(cov,cov.T)\n",
        "initial_values=jnp.array([100.]*10)\n",
        "fast_simple = jax.jit(simple_process, static_argnums=2)\n",
        "init_stocks=jnp.array([100.]*10)\n",
        "fast_simple(key,init_stocks,numsteps,drift,cov)\n",
        "\n",
        "# Batch OU sample via vmap\n",
        "\n",
        "keys = jax.random.split(key, 50)\n",
        "batch_simple = jax.vmap(fast_simple, in_axes=(0,None, None,None, None))\n",
        "\n",
        "\n",
        "\n",
        "\n",
        "/====\n",
        "\n",
        "\n",
        "\n",
        "\n",
        "\n",
        "\n",
        "%timeit fast_simple(key, init_stocks,12,drift,cov)\n",
        "\n",
        "\n",
        "\n",
        "\n",
        "\n",
        "\n",
        "numsamples=100000\n",
        "keys = jax.random.split(key, numsamples)\n",
        "batch_simple = jax.vmap(fast_simple, in_axes=(0,None, None,None, None))\n",
        "\n",
        "%timeit batch_simple(keys, init_stocks,12,drift,cov)\n",
        "batch_simple(keys, init_stocks,numsteps,drift,cov).shape\n"
      ],
      "execution_count": null,
      "outputs": []
    }
  ]
}