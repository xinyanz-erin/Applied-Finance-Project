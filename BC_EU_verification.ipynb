{
  "nbformat": 4,
  "nbformat_minor": 0,
  "metadata": {
    "colab": {
      "name": "BC_EU_verification.ipynb",
      "provenance": [],
      "collapsed_sections": [],
      "authorship_tag": "ABX9TyMSk3DRkEBFOwsW4V4DvG7f",
      "include_colab_link": true
    },
    "kernelspec": {
      "name": "python3",
      "display_name": "Python 3"
    },
    "language_info": {
      "name": "python"
    }
  },
  "cells": [
    {
      "cell_type": "markdown",
      "metadata": {
        "id": "view-in-github",
        "colab_type": "text"
      },
      "source": [
        "<a href=\"https://colab.research.google.com/github/xinyanz-erin/Applied-Finance-Project/blob/Erin/BC_EU_verification.ipynb\" target=\"_parent\"><img src=\"https://colab.research.google.com/assets/colab-badge.svg\" alt=\"Open In Colab\"/></a>"
      ]
    },
    {
      "cell_type": "code",
      "metadata": {
        "id": "p-6ARcU8CFpJ"
      },
      "source": [
        "import numpy as np"
      ],
      "execution_count": 1,
      "outputs": []
    },
    {
      "cell_type": "code",
      "metadata": {
        "id": "yqoT36aKGJ5G"
      },
      "source": [
        "S0 = np.array([100, 100, 100])\n",
        "K = 60\n",
        "B = 80\n",
        "T = 1\n",
        "r = 0\n",
        "sigma = 0.5\n",
        "cov = np.identity(3)\n",
        "n_step = 500\n",
        "n_path = 10000"
      ],
      "execution_count": 179,
      "outputs": []
    },
    {
      "cell_type": "code",
      "metadata": {
        "id": "81dT6kVFBTIn"
      },
      "source": [
        "def BC(S0, K, B, T, r, sigma, cov, n_step, n_path):\n",
        "  payoff = np.zeros(n_path)\n",
        "  dt = T/n_step\n",
        "  for i in range(n_path):\n",
        "    S = S0\n",
        "    for j in range(n_step):\n",
        "      # random = np.random.multivariate_normal(mean = np.array([0, 0, 0]), cov = cov)\n",
        "      random = np.random.normal(0, 1, 3)\n",
        "\n",
        "      S = S * np.exp((r - (1/2)*sigma**2) * dt + np.sqrt(dt) * random * sigma)\n",
        "      S_avg = np.average(S)\n",
        "      if S_avg < B:\n",
        "        break\n",
        "\n",
        "    if S_avg < B:\n",
        "      payoff[i] = 0\n",
        "    else:\n",
        "      payoff[i] = max(np.average(S) - K, 0)\n",
        "    # payoff[i] = max(np.average(S)-K,0)\n",
        "    # payoff[i] = max(S[0]-K, 0)\n",
        "\n",
        "  price = np.exp(-r * T) * np.average(payoff)\n",
        "  return price\n",
        "      "
      ],
      "execution_count": 181,
      "outputs": []
    },
    {
      "cell_type": "code",
      "metadata": {
        "id": "cZ89O8r7HAeB",
        "colab": {
          "base_uri": "https://localhost:8080/"
        },
        "outputId": "f28c967d-37ef-41e6-8d0e-0b2aeee3c89b"
      },
      "source": [
        "BC(S0, K, B, T, r, sigma, cov, n_step, n_path)"
      ],
      "execution_count": 182,
      "outputs": [
        {
          "output_type": "execute_result",
          "data": {
            "text/plain": [
              "31.00544807460052"
            ]
          },
          "metadata": {},
          "execution_count": 182
        }
      ]
    },
    {
      "cell_type": "code",
      "metadata": {
        "id": "57PIU01l4f4K"
      },
      "source": [
        ""
      ],
      "execution_count": 142,
      "outputs": []
    }
  ]
}