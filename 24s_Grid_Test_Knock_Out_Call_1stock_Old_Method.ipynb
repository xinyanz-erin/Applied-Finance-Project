{
  "nbformat": 4,
  "nbformat_minor": 0,
  "metadata": {
    "colab": {
      "name": "Copy of Grid Test_Knock Out Call 1stock_Old Method",
      "provenance": [],
      "collapsed_sections": [],
      "machine_shape": "hm",
      "include_colab_link": true
    },
    "kernelspec": {
      "name": "python3",
      "display_name": "Python 3"
    },
    "language_info": {
      "name": "python"
    },
    "accelerator": "GPU"
  },
  "cells": [
    {
      "cell_type": "markdown",
      "metadata": {
        "id": "view-in-github",
        "colab_type": "text"
      },
      "source": [
        "<a href=\"https://colab.research.google.com/github/xinyanz-erin/Applied-Finance-Project/blob/Erin/24s_Grid_Test_Knock_Out_Call_1stock_Old_Method.ipynb\" target=\"_parent\"><img src=\"https://colab.research.google.com/assets/colab-badge.svg\" alt=\"Open In Colab\"/></a>"
      ]
    },
    {
      "cell_type": "code",
      "metadata": {
        "id": "IYigDkiy0HU9"
      },
      "source": [
        "# import cupy\n",
        "# import jax\n",
        "# import jax.numpy as jnp\n",
        "# from jax import random\n",
        "# from jax import jit\n",
        "# import numpy as np\n",
        "# from torch.utils.dlpack import from_dlpack\n",
        "\n",
        "# S_range = jnp.linspace(0.75, 1.25, 10)\n",
        "# K_range = jnp.linspace(0.75, 1.25, 8)\n",
        "# B_range = jnp.linspace(0.5, 1.0, 8)\n",
        "# sigma_range = jnp.linspace(0.15, 0.45, 4)\n",
        "# r_range = jnp.linspace(0.01, 0.04, 3)\n",
        "\n",
        "# print(S_range)\n",
        "# print(K_range)\n",
        "# print(B_range)\n",
        "# print(sigma_range)\n",
        "# print(r_range)"
      ],
      "execution_count": 1,
      "outputs": []
    },
    {
      "cell_type": "code",
      "metadata": {
        "id": "UIQxpJqK6OZr"
      },
      "source": [
        "# import cupy\n",
        "# import jax\n",
        "# import jax.numpy as jnp\n",
        "# from jax import random\n",
        "# from jax import jit\n",
        "# import numpy as np\n",
        "# import pandas as pd\n",
        "# from torch.utils.dlpack import from_dlpack\n",
        "\n",
        "# def Brownian_motion(key, initial_stocks, numsteps, drift, cov, T):\n",
        "#     stocks_init = jnp.zeros((numsteps + 1, initial_stocks.shape[0]))\n",
        "#     stocks_init = jax.ops.index_update(stocks_init,   # jax.ops.index_update(x, idx, y) <-> Pure equivalent of x[idx] = y\n",
        "#                             jax.ops.index[0],         # initialization of stock prices\n",
        "#                             initial_stocks)\n",
        "#     noise = jax.random.multivariate_normal(key,  jnp.array([0]*initial_stocks.shape[0]), cov, (numsteps+1,)) # noise must have mean 0\n",
        "#     sigma = jnp.diag(cov) ** 0.5\n",
        "#     dt = T / numsteps\n",
        "#     def time_step(t, val):\n",
        "#         dx = jnp.exp((drift - sigma ** 2. / 2.) * dt + jnp.sqrt(dt) * noise[t,:])\n",
        "#         val = jax.ops.index_update(val,\n",
        "#                             jax.ops.index[t],\n",
        "#                             val[t-1] * dx)\n",
        "#         return val\n",
        "#     return jax.lax.fori_loop(1, numsteps+1, time_step, stocks_init)[1:] # jax.lax.fori_loop(lower, upper, body_fun, init_val)\n",
        "\n",
        "# def optionvalueavg(key, initial_stocks, numsteps, drift, r, cov, K, B, T): # down-and-out call\n",
        "#     return jnp.mean(jnp.maximum((1 - jnp.any(jnp.mean(batch_simple(keys, initial_stocks, numsteps, drift, cov, T), axis=2) < B, axis=1).astype(int))* \n",
        "#                                 (jnp.mean(batch_simple(keys, initial_stocks, numsteps, drift, cov, T), axis=2))[:,-1]-K, 0) *\n",
        "#                     jnp.exp(-r[0] * T))\n",
        "\n",
        "# goptionvalueavg = jax.grad(optionvalueavg, argnums=1)\n",
        "\n",
        "# #################################################################### Adjust all parameters here (not inside class)\n",
        "# numstocks = 1\n",
        "# numsteps = 50\n",
        "# numpaths = 2000000\n",
        "\n",
        "# rng = jax.random.PRNGKey(np.random.randint(10000))\n",
        "# rng, key = jax.random.split(rng)\n",
        "# keys = jax.random.split(key, numpaths)\n",
        "\n",
        "# S_range = jnp.linspace(0.75, 1.25, 10)\n",
        "# K_range = jnp.linspace(0.75, 1.25, 8)\n",
        "# B_range = jnp.linspace(0.5, 1.0, 8)\n",
        "# sigma_range = jnp.linspace(0.15, 0.45, 4)\n",
        "# r_range = jnp.linspace(0.01, 0.04, 3)\n",
        "# T = 1.0\n",
        "\n",
        "# fast_simple = jax.jit(Brownian_motion, static_argnums=2)\n",
        "# batch_simple = jax.vmap(fast_simple, in_axes=(0, None, None, None, None, None))\n",
        "# ####################################################################\n",
        "\n",
        "# call = []\n",
        "# count = 0\n",
        "\n",
        "# for S in S_range:\n",
        "#   for K in K_range:\n",
        "#     for B in B_range:\n",
        "#       for r in r_range:\n",
        "#         for sigma in sigma_range:    \n",
        "\n",
        "#           initial_stocks = jnp.array([S]*numstocks) # must be float\n",
        "#           r_tmp = jnp.array([r]*numstocks)\n",
        "#           drift = r_tmp\n",
        "#           cov = jnp.identity(numstocks)*sigma*sigma\n",
        "\n",
        "#           Knock_Out_Call_price = optionvalueavg(key, initial_stocks, numsteps, drift, r_tmp, cov, K, B, T)\n",
        "#           Deltas = goptionvalueavg(keys, initial_stocks, numsteps, drift, r_tmp, cov, K, B, T)\n",
        "#           call.append([T, K, B, S, sigma, r, r, Knock_Out_Call_price] + list(Deltas)) #T, K, B, S, sigma, mu, r, price, delta\n",
        "          \n",
        "#           count += 1\n",
        "#           print(count)"
      ],
      "execution_count": 2,
      "outputs": []
    },
    {
      "cell_type": "code",
      "metadata": {
        "id": "e_OUtP8GUwj5"
      },
      "source": [
        "# Thedataset = pd.DataFrame(call)\n",
        "# Thedataset"
      ],
      "execution_count": 3,
      "outputs": []
    },
    {
      "cell_type": "code",
      "metadata": {
        "id": "YSQKnflf6peX"
      },
      "source": [
        "# save to csv\n",
        "# Thedataset.to_csv('Knock_Out_Call_1stock_MC_Datset_v3.csv', index=False, header=False)"
      ],
      "execution_count": 4,
      "outputs": []
    },
    {
      "cell_type": "code",
      "metadata": {
        "colab": {
          "base_uri": "https://localhost:8080/"
        },
        "id": "7RsPX_tEBGFc",
        "outputId": "47ee2756-3807-47fd-a416-b627f32160d1"
      },
      "source": [
        "from google.colab import drive\n",
        "drive.mount('/content/drive')"
      ],
      "execution_count": 5,
      "outputs": [
        {
          "output_type": "stream",
          "name": "stdout",
          "text": [
            "Drive already mounted at /content/drive; to attempt to forcibly remount, call drive.mount(\"/content/drive\", force_remount=True).\n"
          ]
        }
      ]
    },
    {
      "cell_type": "code",
      "metadata": {
        "colab": {
          "base_uri": "https://localhost:8080/",
          "height": 424
        },
        "id": "skGWSSsG8TGG",
        "outputId": "c849bbbc-719d-4658-ac71-0249c6ce99c1"
      },
      "source": [
        "# read csv\n",
        "import pandas as pd\n",
        "\n",
        "Thedataset = pd.read_csv('/content/drive/MyDrive/AFP/Save_Models/Knock_Out_Call_1stock_MC_Datset_v2.csv', header=None)\n",
        "Thedataset"
      ],
      "execution_count": 6,
      "outputs": [
        {
          "output_type": "execute_result",
          "data": {
            "text/html": [
              "<div>\n",
              "<style scoped>\n",
              "    .dataframe tbody tr th:only-of-type {\n",
              "        vertical-align: middle;\n",
              "    }\n",
              "\n",
              "    .dataframe tbody tr th {\n",
              "        vertical-align: top;\n",
              "    }\n",
              "\n",
              "    .dataframe thead th {\n",
              "        text-align: right;\n",
              "    }\n",
              "</style>\n",
              "<table border=\"1\" class=\"dataframe\">\n",
              "  <thead>\n",
              "    <tr style=\"text-align: right;\">\n",
              "      <th></th>\n",
              "      <th>0</th>\n",
              "      <th>1</th>\n",
              "      <th>2</th>\n",
              "      <th>3</th>\n",
              "      <th>4</th>\n",
              "      <th>5</th>\n",
              "      <th>6</th>\n",
              "      <th>7</th>\n",
              "      <th>8</th>\n",
              "    </tr>\n",
              "  </thead>\n",
              "  <tbody>\n",
              "    <tr>\n",
              "      <th>0</th>\n",
              "      <td>1.0</td>\n",
              "      <td>0.75</td>\n",
              "      <td>0.5</td>\n",
              "      <td>0.75</td>\n",
              "      <td>0.15</td>\n",
              "      <td>0.010</td>\n",
              "      <td>0.010</td>\n",
              "      <td>0.048298</td>\n",
              "      <td>0.555157</td>\n",
              "    </tr>\n",
              "    <tr>\n",
              "      <th>1</th>\n",
              "      <td>1.0</td>\n",
              "      <td>0.75</td>\n",
              "      <td>0.5</td>\n",
              "      <td>0.75</td>\n",
              "      <td>0.25</td>\n",
              "      <td>0.010</td>\n",
              "      <td>0.010</td>\n",
              "      <td>0.077764</td>\n",
              "      <td>0.563845</td>\n",
              "    </tr>\n",
              "    <tr>\n",
              "      <th>2</th>\n",
              "      <td>1.0</td>\n",
              "      <td>0.75</td>\n",
              "      <td>0.5</td>\n",
              "      <td>0.75</td>\n",
              "      <td>0.35</td>\n",
              "      <td>0.010</td>\n",
              "      <td>0.010</td>\n",
              "      <td>0.106536</td>\n",
              "      <td>0.572229</td>\n",
              "    </tr>\n",
              "    <tr>\n",
              "      <th>3</th>\n",
              "      <td>1.0</td>\n",
              "      <td>0.75</td>\n",
              "      <td>0.5</td>\n",
              "      <td>0.75</td>\n",
              "      <td>0.45</td>\n",
              "      <td>0.010</td>\n",
              "      <td>0.010</td>\n",
              "      <td>0.133061</td>\n",
              "      <td>0.569618</td>\n",
              "    </tr>\n",
              "    <tr>\n",
              "      <th>4</th>\n",
              "      <td>1.0</td>\n",
              "      <td>0.75</td>\n",
              "      <td>0.5</td>\n",
              "      <td>0.75</td>\n",
              "      <td>0.15</td>\n",
              "      <td>0.025</td>\n",
              "      <td>0.025</td>\n",
              "      <td>0.053998</td>\n",
              "      <td>0.594301</td>\n",
              "    </tr>\n",
              "    <tr>\n",
              "      <th>...</th>\n",
              "      <td>...</td>\n",
              "      <td>...</td>\n",
              "      <td>...</td>\n",
              "      <td>...</td>\n",
              "      <td>...</td>\n",
              "      <td>...</td>\n",
              "      <td>...</td>\n",
              "      <td>...</td>\n",
              "      <td>...</td>\n",
              "    </tr>\n",
              "    <tr>\n",
              "      <th>2395</th>\n",
              "      <td>1.0</td>\n",
              "      <td>1.25</td>\n",
              "      <td>1.0</td>\n",
              "      <td>1.25</td>\n",
              "      <td>0.45</td>\n",
              "      <td>0.025</td>\n",
              "      <td>0.025</td>\n",
              "      <td>0.199720</td>\n",
              "      <td>0.471407</td>\n",
              "    </tr>\n",
              "    <tr>\n",
              "      <th>2396</th>\n",
              "      <td>1.0</td>\n",
              "      <td>1.25</td>\n",
              "      <td>1.0</td>\n",
              "      <td>1.25</td>\n",
              "      <td>0.15</td>\n",
              "      <td>0.040</td>\n",
              "      <td>0.040</td>\n",
              "      <td>0.100027</td>\n",
              "      <td>0.631672</td>\n",
              "    </tr>\n",
              "    <tr>\n",
              "      <th>2397</th>\n",
              "      <td>1.0</td>\n",
              "      <td>1.25</td>\n",
              "      <td>1.0</td>\n",
              "      <td>1.25</td>\n",
              "      <td>0.25</td>\n",
              "      <td>0.040</td>\n",
              "      <td>0.040</td>\n",
              "      <td>0.144241</td>\n",
              "      <td>0.583131</td>\n",
              "    </tr>\n",
              "    <tr>\n",
              "      <th>2398</th>\n",
              "      <td>1.0</td>\n",
              "      <td>1.25</td>\n",
              "      <td>1.0</td>\n",
              "      <td>1.25</td>\n",
              "      <td>0.35</td>\n",
              "      <td>0.040</td>\n",
              "      <td>0.040</td>\n",
              "      <td>0.179728</td>\n",
              "      <td>0.529840</td>\n",
              "    </tr>\n",
              "    <tr>\n",
              "      <th>2399</th>\n",
              "      <td>1.0</td>\n",
              "      <td>1.25</td>\n",
              "      <td>1.0</td>\n",
              "      <td>1.25</td>\n",
              "      <td>0.45</td>\n",
              "      <td>0.040</td>\n",
              "      <td>0.040</td>\n",
              "      <td>0.206979</td>\n",
              "      <td>0.482881</td>\n",
              "    </tr>\n",
              "  </tbody>\n",
              "</table>\n",
              "<p>2400 rows × 9 columns</p>\n",
              "</div>"
            ],
            "text/plain": [
              "        0     1    2     3     4      5      6         7         8\n",
              "0     1.0  0.75  0.5  0.75  0.15  0.010  0.010  0.048298  0.555157\n",
              "1     1.0  0.75  0.5  0.75  0.25  0.010  0.010  0.077764  0.563845\n",
              "2     1.0  0.75  0.5  0.75  0.35  0.010  0.010  0.106536  0.572229\n",
              "3     1.0  0.75  0.5  0.75  0.45  0.010  0.010  0.133061  0.569618\n",
              "4     1.0  0.75  0.5  0.75  0.15  0.025  0.025  0.053998  0.594301\n",
              "...   ...   ...  ...   ...   ...    ...    ...       ...       ...\n",
              "2395  1.0  1.25  1.0  1.25  0.45  0.025  0.025  0.199720  0.471407\n",
              "2396  1.0  1.25  1.0  1.25  0.15  0.040  0.040  0.100027  0.631672\n",
              "2397  1.0  1.25  1.0  1.25  0.25  0.040  0.040  0.144241  0.583131\n",
              "2398  1.0  1.25  1.0  1.25  0.35  0.040  0.040  0.179728  0.529840\n",
              "2399  1.0  1.25  1.0  1.25  0.45  0.040  0.040  0.206979  0.482881\n",
              "\n",
              "[2400 rows x 9 columns]"
            ]
          },
          "metadata": {},
          "execution_count": 6
        }
      ]
    },
    {
      "cell_type": "markdown",
      "metadata": {
        "id": "or2YUJ9cfEiF"
      },
      "source": [
        "# Construct Neural Net"
      ]
    },
    {
      "cell_type": "code",
      "metadata": {
        "id": "b-i4HV-G44th",
        "colab": {
          "base_uri": "https://localhost:8080/"
        },
        "outputId": "92560130-85ac-4103-9ccb-510e2e838e88"
      },
      "source": [
        "import cupy\n",
        "import jax\n",
        "import jax.numpy as jnp\n",
        "from jax import random\n",
        "from jax import jit\n",
        "import numpy as np\n",
        "import pandas as pd\n",
        "from torch.utils.dlpack import from_dlpack\n",
        "import torch\n",
        "torch.set_printoptions(precision=6)\n",
        "\n",
        "Thedataset_X = Thedataset.iloc[:,:7]\n",
        "Thedataset_Y = Thedataset.iloc[:,7:]\n",
        "\n",
        "class OptionDataSet(object):\n",
        "    \n",
        "    def __init__(self, max_len):\n",
        "        self.num = 0\n",
        "        self.max_length = max_len\n",
        "        self.X = cupy.array(Thedataset_X)\n",
        "        self.Y = cupy.array(Thedataset_Y)\n",
        "        \n",
        "    def __len__(self):\n",
        "        return self.max_length\n",
        "        \n",
        "    def __iter__(self):\n",
        "        self.num = 0\n",
        "        return self\n",
        "    \n",
        "    def __next__(self):\n",
        "        if self.num >= self.max_length:\n",
        "            raise StopIteration\n",
        "\n",
        "        self.num += 1\n",
        "        return (from_dlpack(self.X.toDlpack()), from_dlpack(self.Y.toDlpack()))\n",
        "\n",
        "# print\n",
        "ds = OptionDataSet(max_len = 1)\n",
        "for i in ds:\n",
        "    print(i[0])\n",
        "    print(i[0].shape)\n",
        "    print(i[1])\n",
        "    print(i[1].shape)"
      ],
      "execution_count": 7,
      "outputs": [
        {
          "output_type": "stream",
          "name": "stdout",
          "text": [
            "tensor([[1.000000, 0.750000, 0.500000,  ..., 0.150000, 0.010000, 0.010000],\n",
            "        [1.000000, 0.750000, 0.500000,  ..., 0.250000, 0.010000, 0.010000],\n",
            "        [1.000000, 0.750000, 0.500000,  ..., 0.350000, 0.010000, 0.010000],\n",
            "        ...,\n",
            "        [1.000000, 1.250000, 1.000000,  ..., 0.250000, 0.040000, 0.040000],\n",
            "        [1.000000, 1.250000, 1.000000,  ..., 0.350000, 0.040000, 0.040000],\n",
            "        [1.000000, 1.250000, 1.000000,  ..., 0.450000, 0.040000, 0.040000]],\n",
            "       device='cuda:0', dtype=torch.float64)\n",
            "torch.Size([2400, 7])\n",
            "tensor([[0.048298, 0.555157],\n",
            "        [0.077764, 0.563845],\n",
            "        [0.106536, 0.572229],\n",
            "        ...,\n",
            "        [0.144241, 0.583131],\n",
            "        [0.179728, 0.529840],\n",
            "        [0.206979, 0.482881]], device='cuda:0', dtype=torch.float64)\n",
            "torch.Size([2400, 2])\n"
          ]
        }
      ]
    },
    {
      "cell_type": "code",
      "metadata": {
        "colab": {
          "base_uri": "https://localhost:8080/"
        },
        "id": "rN6JO9OBHdvv",
        "outputId": "35f3bcb7-6990-4408-da37-4ada8bf1bdeb"
      },
      "source": [
        "%%writefile model.py\n",
        "# version 1,2\n",
        "import torch.nn as nn\n",
        "import torch.nn.functional as F\n",
        "import torch\n",
        "import numpy as np\n",
        "\n",
        "class Net(nn.Module):\n",
        "\n",
        "    def __init__(self, hidden=1024):\n",
        "        super(Net, self).__init__()\n",
        "        self.fc1 = nn.Linear(7*1, 64) # remember to change this!\n",
        "        self.fc2 = nn.Linear(64, 128)\n",
        "        self.fc3 = nn.Linear(128, 256)\n",
        "        self.fc4 = nn.Linear(256, 128)\n",
        "        self.fc5 = nn.Linear(128, 64)\n",
        "        self.fc6 = nn.Linear(64, 2) # 2 outputs: price, delta\n",
        "        self.register_buffer('norm',\n",
        "                             torch.tensor([1.0, 0.5, 0.5, 0.5, 0.3, 0.03, 0.03]*1)) # don't use numpy here - will give error later\n",
        "                                                                               # T, K, B, S, sigma, mu, r\n",
        "\n",
        "    def forward(self, x):\n",
        "        # normalize the parameter to range [0-1] \n",
        "        x = (x - torch.tensor([0.0, 0.75, 0.5, 0.75, 0.15, 0.01, 0.01]*1).cuda()) / self.norm\n",
        "        x = F.elu(self.fc1(x))\n",
        "        x = F.elu(self.fc2(x))\n",
        "        x = F.elu(self.fc3(x))\n",
        "        x = F.elu(self.fc4(x))\n",
        "        x = F.elu(self.fc5(x))\n",
        "        return self.fc6(x)"
      ],
      "execution_count": 8,
      "outputs": [
        {
          "output_type": "stream",
          "name": "stdout",
          "text": [
            "Writing model.py\n"
          ]
        }
      ]
    },
    {
      "cell_type": "markdown",
      "metadata": {
        "id": "owSrICMvyZX0"
      },
      "source": [
        "# Train Neural Net"
      ]
    },
    {
      "cell_type": "code",
      "metadata": {
        "colab": {
          "base_uri": "https://localhost:8080/"
        },
        "id": "JlXD80xPNVc6",
        "outputId": "7b4a2ab6-f71c-4e48-efac-3eaaa9f97324"
      },
      "source": [
        "!pip install pytorch-ignite"
      ],
      "execution_count": 9,
      "outputs": [
        {
          "output_type": "stream",
          "name": "stdout",
          "text": [
            "Collecting pytorch-ignite\n",
            "  Downloading pytorch_ignite-0.4.7-py3-none-any.whl (240 kB)\n",
            "\u001b[K     |████████████████████████████████| 240 kB 8.8 MB/s \n",
            "\u001b[?25hRequirement already satisfied: torch<2,>=1.3 in /usr/local/lib/python3.7/dist-packages (from pytorch-ignite) (1.10.0+cu111)\n",
            "Requirement already satisfied: typing-extensions in /usr/local/lib/python3.7/dist-packages (from torch<2,>=1.3->pytorch-ignite) (3.10.0.2)\n",
            "Installing collected packages: pytorch-ignite\n",
            "Successfully installed pytorch-ignite-0.4.7\n"
          ]
        }
      ]
    },
    {
      "cell_type": "code",
      "metadata": {
        "colab": {
          "base_uri": "https://localhost:8080/"
        },
        "id": "EeLVZiiaDS4y",
        "outputId": "e6bc5aea-b9d1-42e5-9577-83932d669fc8"
      },
      "source": [
        "from google.colab import drive\n",
        "drive.mount('/content/drive')"
      ],
      "execution_count": 10,
      "outputs": [
        {
          "output_type": "stream",
          "name": "stdout",
          "text": [
            "Drive already mounted at /content/drive; to attempt to forcibly remount, call drive.mount(\"/content/drive\", force_remount=True).\n"
          ]
        }
      ]
    },
    {
      "cell_type": "code",
      "metadata": {
        "id": "S3CyULkENYKb",
        "colab": {
          "base_uri": "https://localhost:8080/"
        },
        "outputId": "29509b76-547c-4e85-84af-aba68903d6ad"
      },
      "source": [
        "# version 2, 7\n",
        "# If memory is not enough, try changing parameters and restarting session\n",
        "# loss will converge\n",
        "\n",
        "from ignite.engine import Engine, Events\n",
        "from ignite.handlers import Timer\n",
        "from torch.nn import MSELoss\n",
        "from torch.optim import Adam\n",
        "from ignite.contrib.handlers.param_scheduler import CosineAnnealingScheduler\n",
        "from ignite.handlers import ModelCheckpoint\n",
        "from model import Net\n",
        "import numpy as np\n",
        "import torch\n",
        "from torch import Tensor\n",
        "from torch.autograd import grad\n",
        "timer = Timer(average=True)\n",
        "model = Net().cuda()\n",
        "loss_fn = MSELoss()\n",
        "optimizer = Adam(model.parameters(), lr=1e-3)\n",
        "dataset = OptionDataSet(max_len = 100) # Use max_len to adjust\n",
        "\n",
        "def train_update(engine, batch):\n",
        "    model.train()\n",
        "    optimizer.zero_grad()\n",
        "    x = batch[0]\n",
        "    # print(x)\n",
        "    # print(x.shape)\n",
        "    y = batch[1]\n",
        "    # print(y)\n",
        "    # print(y.shape)\n",
        "    y_pred = model(x.float())\n",
        "    # print(y_pred)\n",
        "    # print(y_pred.shape)\n",
        "\n",
        "    # def compute_deltas(x):\n",
        "    #   inputs = x.float()\n",
        "    #   inputs.requires_grad = True\n",
        "    #   first_order_gradient = grad(model(inputs), inputs, create_graph=False)\n",
        "    #   return first_order_gradient[0][[3]]  # Now index 3 is stock price, not 2\n",
        "\n",
        "    # deltas = torch.stack([compute_deltas(x) for x in torch.unbind(x)], dim=0)\n",
        "    # y_pred = torch.cat((y_pred, deltas), 1)\n",
        "    # # print(y_pred)\n",
        "    # # print(y_pred.shape)\n",
        "\n",
        "    loss_weight = torch.tensor([1, 1]).cuda()\n",
        "    loss_weight_normalized = loss_weight/loss_weight.sum()\n",
        "    loss = ((y_pred - y) ** 2 * loss_weight_normalized).mean(axis=0).sum() # compute weighted MSE between the 2 arrays\n",
        "\n",
        "    loss.backward()\n",
        "    optimizer.step()\n",
        "    return loss.item()\n",
        "\n",
        "trainer = Engine(train_update)\n",
        "log_interval = 20\n",
        "\n",
        "scheduler = CosineAnnealingScheduler(optimizer, 'lr', 1e-4, 1e-6, len(dataset))\n",
        "trainer.add_event_handler(Events.ITERATION_STARTED, scheduler)\n",
        "timer.attach(trainer,\n",
        "             start=Events.EPOCH_STARTED,\n",
        "             resume=Events.ITERATION_STARTED,\n",
        "             pause=Events.ITERATION_COMPLETED,\n",
        "             step=Events.ITERATION_COMPLETED)    \n",
        "@trainer.on(Events.ITERATION_COMPLETED)\n",
        "def log_training_loss(engine):\n",
        "    iter = (engine.state.iteration - 1) % len(dataset) + 1\n",
        "    if iter % log_interval == 0:\n",
        "        print('loss', engine.state.output, 'average time', timer.value(), 'iter num', iter)\n",
        "        \n",
        "trainer.run(dataset, max_epochs = 100)\n",
        "\n",
        "model_save_name = 'jax_knock_out_1stock_oldmethod_1.pth'\n",
        "path = F\"/content/drive/MyDrive/AFP/Save_Models/{model_save_name}\" \n",
        "torch.save(model.state_dict(), path)"
      ],
      "execution_count": 11,
      "outputs": [
        {
          "output_type": "stream",
          "name": "stderr",
          "text": [
            "/usr/local/lib/python3.7/dist-packages/ipykernel_launcher.py:9: DeprecationWarning: /usr/local/lib/python3.7/dist-packages/ignite/contrib/handlers/param_scheduler.py has been moved to /ignite/handlers/param_scheduler.py and will be removed in version 0.6.0.\n",
            " Please refer to the documentation for more details.\n",
            "  if __name__ == '__main__':\n"
          ]
        },
        {
          "output_type": "stream",
          "name": "stdout",
          "text": [
            "loss 0.08333194064285472 average time 0.005725788299997703 iter num 20\n",
            "loss 0.05712179895830713 average time 0.004136971099998732 iter num 40\n",
            "loss 0.05204247186460595 average time 0.003671258683333652 iter num 60\n",
            "loss 0.04973594408246232 average time 0.003353530287500206 iter num 80\n",
            "loss 0.04923369990896368 average time 0.0031559255999979996 iter num 100\n",
            "loss 0.03771402976351076 average time 0.0022203874500036137 iter num 20\n",
            "loss 0.023786935700031323 average time 0.002241980425006318 iter num 40\n",
            "loss 0.014988224002166178 average time 0.002282044533338497 iter num 60\n",
            "loss 0.012425631380599579 average time 0.002288597850004237 iter num 80\n",
            "loss 0.012052780008469967 average time 0.0023131122800043613 iter num 100\n",
            "loss 0.009873735900677211 average time 0.002392507650003495 iter num 20\n",
            "loss 0.009729694569271356 average time 0.0024146194750045424 iter num 40\n",
            "loss 0.009646977799162097 average time 0.002366333233335164 iter num 60\n",
            "loss 0.009621436732430913 average time 0.002392840637499205 iter num 80\n",
            "loss 0.009616021948401868 average time 0.002384769550000101 iter num 100\n",
            "loss 0.009513843038002734 average time 0.002226668050002445 iter num 20\n",
            "loss 0.00942320605092899 average time 0.002234569575006162 iter num 40\n",
            "loss 0.009361958198857906 average time 0.0022787567333371803 iter num 60\n",
            "loss 0.009333361255685721 average time 0.002338116637501031 iter num 80\n",
            "loss 0.009327226140526794 average time 0.002350002050000626 iter num 100\n",
            "loss 0.0092076238702453 average time 0.0022747941499943634 iter num 20\n",
            "loss 0.009097581943604903 average time 0.002353693949990543 iter num 40\n",
            "loss 0.009022081226370368 average time 0.002341786249992121 iter num 60\n",
            "loss 0.008986661450028613 average time 0.002370559699994601 iter num 80\n",
            "loss 0.008979066955056047 average time 0.0023709526199957053 iter num 100\n",
            "loss 0.008830574753763032 average time 0.002426653500003795 iter num 20\n",
            "loss 0.008691893514449931 average time 0.0023711333500003205 iter num 40\n",
            "loss 0.008595487570445764 average time 0.0023645320499989944 iter num 60\n",
            "loss 0.008549951855702904 average time 0.0023617501499991534 iter num 80\n",
            "loss 0.008540179470482096 average time 0.002364848360000451 iter num 100\n",
            "loss 0.008348147404645586 average time 0.002441729750003674 iter num 20\n",
            "loss 0.008165819739539443 average time 0.0024181971500041753 iter num 40\n",
            "loss 0.008037371261014564 average time 0.002390342116670278 iter num 60\n",
            "loss 0.007976294304174833 average time 0.0023675236500011465 iter num 80\n",
            "loss 0.007963178375217095 average time 0.002386393989999078 iter num 100\n",
            "loss 0.007704466046990711 average time 0.0023043083999993996 iter num 20\n",
            "loss 0.0074556126832787265 average time 0.0023070526750018417 iter num 40\n",
            "loss 0.0072787971213985605 average time 0.0023291653333359363 iter num 60\n",
            "loss 0.007194561399687813 average time 0.0023284128625029156 iter num 80\n",
            "loss 0.007176510376259885 average time 0.002349449000003574 iter num 100\n",
            "loss 0.006821670705525748 average time 0.002239352399993777 iter num 20\n",
            "loss 0.006482998382681051 average time 0.002278919900000176 iter num 40\n",
            "loss 0.006246958564143127 average time 0.0022979249333332065 iter num 60\n",
            "loss 0.006136898062787542 average time 0.0022900998624997724 iter num 80\n",
            "loss 0.006113639411557927 average time 0.002335241530002463 iter num 100\n",
            "loss 0.005672028702257518 average time 0.002268468750000352 iter num 20\n",
            "loss 0.005287804317501339 average time 0.002249552349996975 iter num 40\n",
            "loss 0.0050497412076153814 average time 0.002255987233329885 iter num 60\n",
            "loss 0.004948671679646362 average time 0.0022903649374967474 iter num 80\n",
            "loss 0.004928260779986383 average time 0.0023118987799978187 iter num 100\n",
            "loss 0.00457891834010803 average time 0.0023342374499975447 iter num 20\n",
            "loss 0.004340130428750494 average time 0.0023228268750003166 iter num 40\n",
            "loss 0.004218970858298786 average time 0.0023361622333349413 iter num 60\n",
            "loss 0.004171938508838374 average time 0.0023188767625008213 iter num 80\n",
            "loss 0.004162661176328534 average time 0.0023288613300024965 iter num 100\n",
            "loss 0.004005960887283747 average time 0.0022663941499985185 iter num 20\n",
            "loss 0.003893288597468108 average time 0.0022927624000004697 iter num 40\n",
            "loss 0.0038285986149170456 average time 0.0022801140500016952 iter num 60\n",
            "loss 0.00380117315847049 average time 0.0022608429875049297 iter num 80\n",
            "loss 0.0037955657604269895 average time 0.0022898448400036388 iter num 100\n",
            "loss 0.003694915518084196 average time 0.0024047513500050854 iter num 20\n",
            "loss 0.0036147390890499255 average time 0.0023490529500051595 iter num 40\n",
            "loss 0.0035661248718708268 average time 0.0023213735500036137 iter num 60\n",
            "loss 0.0035450536405114683 average time 0.002314715825001201 iter num 80\n",
            "loss 0.0035407097988543875 average time 0.0023295968500008256 iter num 100\n",
            "loss 0.0034616757327635196 average time 0.0023922491500002253 iter num 20\n",
            "loss 0.0033971709815581314 average time 0.002351802450003504 iter num 40\n",
            "loss 0.0033573891053016772 average time 0.0023266440833367595 iter num 60\n",
            "loss 0.0033399994877985587 average time 0.0023143561000026126 iter num 80\n",
            "loss 0.003336403364016201 average time 0.0023671664900024327 iter num 100\n",
            "loss 0.0032706563880998026 average time 0.0023836332999991328 iter num 20\n",
            "loss 0.003216630638896401 average time 0.0023092083750015035 iter num 40\n",
            "loss 0.0031832326846029566 average time 0.0022781760333354367 iter num 60\n",
            "loss 0.003168635587254612 average time 0.002295042450001716 iter num 80\n",
            "loss 0.003165617824763211 average time 0.0023372231800016154 iter num 100\n",
            "loss 0.0031105160658366706 average time 0.002307335450007031 iter num 20\n",
            "loss 0.003065392182655365 average time 0.002312896775003992 iter num 40\n",
            "loss 0.003037560859207232 average time 0.0022901426333343505 iter num 60\n",
            "loss 0.003025399770001435 average time 0.002279012574999939 iter num 80\n",
            "loss 0.0030228844384615236 average time 0.0022876307999990784 iter num 100\n",
            "loss 0.002976838057758311 average time 0.0023297320000068567 iter num 20\n",
            "loss 0.0029387314483469923 average time 0.002367063674998349 iter num 40\n",
            "loss 0.0029148332971614555 average time 0.0023908526999984283 iter num 60\n",
            "loss 0.0029042414099691065 average time 0.002380824849997509 iter num 80\n",
            "loss 0.002902035380280483 average time 0.002379752249999001 iter num 100\n",
            "loss 0.0028609791197727625 average time 0.0022761007500008644 iter num 20\n",
            "loss 0.0028256831444896865 average time 0.0023780332499981683 iter num 40\n",
            "loss 0.002802744323763246 average time 0.002349853433331835 iter num 60\n",
            "loss 0.0027923463280792636 average time 0.002316488524998306 iter num 80\n",
            "loss 0.0027901603099849018 average time 0.002328095049998069 iter num 100\n",
            "loss 0.0027487266177193617 average time 0.0023235754500007034 iter num 20\n",
            "loss 0.0027118255567501206 average time 0.0023203525500022693 iter num 40\n",
            "loss 0.0026871955559065277 average time 0.0022871439166692654 iter num 60\n",
            "loss 0.002675875278492357 average time 0.0022799736250014744 iter num 80\n",
            "loss 0.002673481897930877 average time 0.0023105839000021433 iter num 100\n",
            "loss 0.0026276524759727042 average time 0.002382118599993532 iter num 20\n",
            "loss 0.002585999159100313 average time 0.0023609454499933236 iter num 40\n",
            "loss 0.002557756455869709 average time 0.0023363200666636887 iter num 60\n",
            "loss 0.0025446544248698562 average time 0.0022997893124987456 iter num 80\n",
            "loss 0.0025418742829672364 average time 0.0023314667999972017 iter num 100\n",
            "loss 0.0024882617183743143 average time 0.002281586699990612 iter num 20\n",
            "loss 0.0024388042011145106 average time 0.002331598224992604 iter num 40\n",
            "loss 0.0024048810485883406 average time 0.002366874583330514 iter num 60\n",
            "loss 0.002389046704683732 average time 0.002363758037498087 iter num 80\n",
            "loss 0.0023856795312338207 average time 0.0023753465499981984 iter num 100\n",
            "loss 0.0023204616760592687 average time 0.002339358350005227 iter num 20\n",
            "loss 0.0022597978509034606 average time 0.00241700995000258 iter num 40\n",
            "loss 0.0022180043310618147 average time 0.002375692033335023 iter num 60\n",
            "loss 0.0021984786893061675 average time 0.002343276062502042 iter num 80\n",
            "loss 0.0021943284755539983 average time 0.0023443853100036448 iter num 100\n",
            "loss 0.0021141107763332063 average time 0.0024285958500001926 iter num 20\n",
            "loss 0.0020400555265204868 average time 0.0023547729500009496 iter num 40\n",
            "loss 0.0019896176228128065 average time 0.0023215844500024713 iter num 60\n",
            "loss 0.0019662923465664428 average time 0.002294484275004294 iter num 80\n",
            "loss 0.00196136172798713 average time 0.002308714290002172 iter num 100\n",
            "loss 0.0018673222534113898 average time 0.002269243499995355 iter num 20\n",
            "loss 0.0017834075931760162 average time 0.002259666674999039 iter num 40\n",
            "loss 0.0017283030894342194 average time 0.0022622625166652216 iter num 60\n",
            "loss 0.0017034606744208286 average time 0.0022880182874999377 iter num 80\n",
            "loss 0.0016982703686522038 average time 0.002293872299999862 iter num 100\n",
            "loss 0.0016016780141977739 average time 0.002253145300002757 iter num 20\n",
            "loss 0.0015197492473980978 average time 0.002257452975003105 iter num 40\n",
            "loss 0.0014681779202935234 average time 0.0023018811333344047 iter num 60\n",
            "loss 0.0014454788487971153 average time 0.002284111137498712 iter num 80\n",
            "loss 0.001440781317032348 average time 0.002313758289996599 iter num 100\n",
            "loss 0.001354839749619686 average time 0.0027233226500044338 iter num 20\n",
            "loss 0.001284037374503104 average time 0.002526696925004046 iter num 40\n",
            "loss 0.001240236249802165 average time 0.0024884952666686406 iter num 60\n",
            "loss 0.0012210785387106239 average time 0.002502137925000625 iter num 80\n",
            "loss 0.0012171207019143102 average time 0.002463350260001107 iter num 100\n",
            "loss 0.0011446143966445759 average time 0.0022739601499949915 iter num 20\n",
            "loss 0.0010841477393977307 average time 0.002279418824996071 iter num 40\n",
            "loss 0.0010460317516487556 average time 0.0023252150166664857 iter num 60\n",
            "loss 0.0010291368336969545 average time 0.002346010000000831 iter num 80\n",
            "loss 0.0010256264664976877 average time 0.0023446061800012786 iter num 100\n",
            "loss 0.0009606566586797626 average time 0.0022784911500025374 iter num 20\n",
            "loss 0.0009056084803846459 average time 0.002283140525000249 iter num 40\n",
            "loss 0.0008707177442871073 average time 0.002290889316666759 iter num 60\n",
            "loss 0.0008552602652473222 average time 0.002309069049997703 iter num 80\n",
            "loss 0.0008520526632492038 average time 0.002305032369997093 iter num 100\n",
            "loss 0.0007929571404377321 average time 0.002418700300012233 iter num 20\n",
            "loss 0.0007434785324358898 average time 0.002450104175009926 iter num 40\n",
            "loss 0.0007124986968195745 average time 0.00241167648333942 iter num 60\n",
            "loss 0.0006988845224410971 average time 0.0024103958125046175 iter num 80\n",
            "loss 0.0006960692090121536 average time 0.0023930261400045083 iter num 100\n",
            "loss 0.0006445743894729971 average time 0.0023267578000059075 iter num 20\n",
            "loss 0.0006021122086218063 average time 0.0023351875500040365 iter num 40\n",
            "loss 0.0005758774204528408 average time 0.0023103390333356327 iter num 60\n",
            "loss 0.000564442266688987 average time 0.0023471816375021603 iter num 80\n",
            "loss 0.0005620859842497214 average time 0.002338428490001547 iter num 100\n",
            "loss 0.0005237552069594421 average time 0.0022730835499970682 iter num 20\n",
            "loss 0.00048563235923838654 average time 0.002303736550003066 iter num 40\n",
            "loss 0.0004652513069688142 average time 0.0023117716333340846 iter num 60\n",
            "loss 0.0004564435607951789 average time 0.002328971112499545 iter num 80\n",
            "loss 0.00045463969223958055 average time 0.002323909670002422 iter num 100\n",
            "loss 0.00042246783636420586 average time 0.0023107445999983158 iter num 20\n",
            "loss 0.00039666481312386427 average time 0.0022925207000000112 iter num 40\n",
            "loss 0.00038128028326573835 average time 0.0022782473166662004 iter num 60\n",
            "loss 0.00037470906329603023 average time 0.0023068541375003805 iter num 80\n",
            "loss 0.00037336502638951195 average time 0.0023342882100013183 iter num 100\n",
            "loss 0.000357184589937355 average time 0.002275232749997258 iter num 20\n",
            "loss 0.00033213772066454067 average time 0.0023145458499968185 iter num 40\n",
            "loss 0.00032141819272880933 average time 0.0023205235833311613 iter num 60\n",
            "loss 0.00031687451536942837 average time 0.002340651987497466 iter num 80\n",
            "loss 0.0003159499580637623 average time 0.002333664679999288 iter num 100\n",
            "loss 0.0002993787949206574 average time 0.002254324799986307 iter num 20\n",
            "loss 0.0002862370630695062 average time 0.002266619649994084 iter num 40\n",
            "loss 0.00027834945466824815 average time 0.0023453238666642545 iter num 60\n",
            "loss 0.0002749622119441874 average time 0.0024002340999984993 iter num 80\n",
            "loss 0.00027426755223243634 average time 0.002397463199996537 iter num 100\n",
            "loss 0.00026173954293387606 average time 0.002373501199997463 iter num 20\n",
            "loss 0.00025167064387865857 average time 0.0023505937000024347 iter num 40\n",
            "loss 0.00024553685801990483 average time 0.0023906802166682914 iter num 60\n",
            "loss 0.00024287407499751646 average time 0.002400032712499467 iter num 80\n",
            "loss 0.000242325244422601 average time 0.002381002100000842 iter num 100\n",
            "loss 0.0002405951997495097 average time 0.0023809136999972226 iter num 20\n",
            "loss 0.0002251541327249761 average time 0.0023294871249959215 iter num 40\n",
            "loss 0.00021961181971114681 average time 0.0023256564499964344 iter num 60\n",
            "loss 0.00021747313915111027 average time 0.0023364406499965184 iter num 80\n",
            "loss 0.00021702805846678168 average time 0.002318218419997038 iter num 100\n",
            "loss 0.000210233664368753 average time 0.0022056695499912847 iter num 20\n",
            "loss 0.00020286497224484868 average time 0.0022556087999930697 iter num 40\n",
            "loss 0.00019868220892857398 average time 0.002309214449995996 iter num 60\n",
            "loss 0.0001968835049086253 average time 0.0023032581749966143 iter num 80\n",
            "loss 0.00019650798601154317 average time 0.0023021946699964247 iter num 100\n",
            "loss 0.00018954035175044307 average time 0.002288219900000854 iter num 20\n",
            "loss 0.00018357824325320628 average time 0.0023362580999986447 iter num 40\n",
            "loss 0.0001797531147151668 average time 0.002312026116665796 iter num 60\n",
            "loss 0.00017804027269579183 average time 0.0023185824374998276 iter num 80\n",
            "loss 0.00017768253364921848 average time 0.0023059329899996327 iter num 100\n",
            "loss 0.00017100625648222033 average time 0.002360558500001275 iter num 20\n",
            "loss 0.00016528715607212565 average time 0.002365859975002138 iter num 40\n",
            "loss 0.00016164534860020136 average time 0.0023326581666661167 iter num 60\n",
            "loss 0.00016002993925105636 average time 0.00234052935000193 iter num 80\n",
            "loss 0.00015969426292634112 average time 0.0023272649400007594 iter num 100\n",
            "loss 0.0001606669787692538 average time 0.002269269400005669 iter num 20\n",
            "loss 0.0001486577887574456 average time 0.002313860225005726 iter num 40\n",
            "loss 0.00014531354414015985 average time 0.002294200500003285 iter num 60\n",
            "loss 0.00014388841979644915 average time 0.0023106849750035964 iter num 80\n",
            "loss 0.00014359801877516606 average time 0.0023091821900021615 iter num 100\n",
            "loss 0.00013935322173182666 average time 0.0022961546499999487 iter num 20\n",
            "loss 0.0001354280485701987 average time 0.002288304450000567 iter num 40\n",
            "loss 0.00013270245372713546 average time 0.002341723633335846 iter num 60\n",
            "loss 0.00013162090330244195 average time 0.002382549450000937 iter num 80\n",
            "loss 0.0001313956106635886 average time 0.0023713175900019223 iter num 100\n",
            "loss 0.00012740574338276686 average time 0.0022489194499968335 iter num 20\n",
            "loss 0.0001240006791576838 average time 0.002300427824999929 iter num 40\n",
            "loss 0.0001218517100223445 average time 0.0022829621666649778 iter num 60\n",
            "loss 0.00012089917812916862 average time 0.0022974502624983017 iter num 80\n",
            "loss 0.00012070113294408832 average time 0.0022992416699980822 iter num 100\n",
            "loss 0.00011703859807248187 average time 0.002305507049999278 iter num 20\n",
            "loss 0.00011395011859533588 average time 0.0023992553500036705 iter num 40\n",
            "loss 0.00011199847538767155 average time 0.0023552365833372354 iter num 60\n",
            "loss 0.00011113439677773795 average time 0.002342272600001394 iter num 80\n",
            "loss 0.00011095484264589223 average time 0.002337897420002264 iter num 100\n",
            "loss 0.00010763840559348407 average time 0.002388286150008412 iter num 20\n",
            "loss 0.00010484841978129569 average time 0.002394843425005888 iter num 40\n",
            "loss 0.00010308948534746007 average time 0.002353581433336179 iter num 60\n",
            "loss 0.00010231198909077747 average time 0.0023432621750025364 iter num 80\n",
            "loss 0.00010215058766094644 average time 0.002317896940000992 iter num 100\n",
            "loss 9.917443279170255e-05 average time 0.0022539090000122997 iter num 20\n",
            "loss 9.668113254887273e-05 average time 0.0022521474750050174 iter num 40\n",
            "loss 9.511482330216696e-05 average time 0.002234646033337147 iter num 60\n",
            "loss 9.442392803170556e-05 average time 0.002249459800000864 iter num 80\n",
            "loss 9.428060625974809e-05 average time 0.002275495570000885 iter num 100\n",
            "loss 9.164177950275428e-05 average time 0.0021886969500087617 iter num 20\n",
            "loss 8.943736358233524e-05 average time 0.002295597375004377 iter num 40\n",
            "loss 8.805571441370157e-05 average time 0.00235668215000544 iter num 60\n",
            "loss 8.744708832008701e-05 average time 0.002357449612505036 iter num 80\n",
            "loss 8.732090862654069e-05 average time 0.0023388881100044044 iter num 100\n",
            "loss 0.00012359176855497781 average time 0.00234676924999917 iter num 20\n",
            "loss 8.458522916540999e-05 average time 0.0023126527749994354 iter num 40\n",
            "loss 8.226404401079629e-05 average time 0.002293526616665531 iter num 60\n",
            "loss 8.171785253598364e-05 average time 0.002322657562499586 iter num 80\n",
            "loss 8.161816187098517e-05 average time 0.0023063142000006565 iter num 100\n",
            "loss 7.987093548039457e-05 average time 0.0022798388500035573 iter num 20\n",
            "loss 7.825447529702607e-05 average time 0.00235532964999976 iter num 40\n",
            "loss 7.728714212985806e-05 average time 0.002369322200000094 iter num 60\n",
            "loss 7.686011979925444e-05 average time 0.0023645691124990265 iter num 80\n",
            "loss 7.677146863028342e-05 average time 0.002361869140000863 iter num 100\n",
            "loss 7.513784174772363e-05 average time 0.002347260399997708 iter num 20\n",
            "loss 7.376302734250199e-05 average time 0.0023492837999995685 iter num 40\n",
            "loss 7.289798265393093e-05 average time 0.0023249266333332723 iter num 60\n",
            "loss 7.251552189442264e-05 average time 0.0023425410750007813 iter num 80\n",
            "loss 7.243612722712221e-05 average time 0.0023268246400004956 iter num 100\n",
            "loss 0.00012027405580263521 average time 0.0023066886000037813 iter num 20\n",
            "loss 7.384266979878706e-05 average time 0.0023572046249995537 iter num 40\n",
            "loss 6.93493336104037e-05 average time 0.002369030516664831 iter num 60\n",
            "loss 6.898606221918157e-05 average time 0.002441440412500384 iter num 80\n",
            "loss 6.891845727802341e-05 average time 0.002452438740000957 iter num 100\n",
            "loss 6.776766813002496e-05 average time 0.0024072913499935565 iter num 20\n",
            "loss 6.6788621258725e-05 average time 0.00244565427498884 iter num 40\n",
            "loss 6.616379828515763e-05 average time 0.0024709336999914435 iter num 60\n",
            "loss 6.588700683259305e-05 average time 0.002456861824994405 iter num 80\n",
            "loss 6.582935480594112e-05 average time 0.002440258199994787 iter num 100\n",
            "loss 6.476040215312777e-05 average time 0.002490730549993714 iter num 20\n",
            "loss 6.385184030536431e-05 average time 0.002396601024996414 iter num 40\n",
            "loss 6.327316332633663e-05 average time 0.0024724657166662685 iter num 60\n",
            "loss 6.30154869177641e-05 average time 0.0024319879749974405 iter num 80\n",
            "loss 6.296181979159231e-05 average time 0.002398227009997527 iter num 100\n",
            "loss 6.196494108531862e-05 average time 0.0022999012999974865 iter num 20\n",
            "loss 6.111538761319652e-05 average time 0.0022923082749997546 iter num 40\n",
            "loss 6.057345077861476e-05 average time 0.0023154500166668868 iter num 60\n",
            "loss 6.033186515038986e-05 average time 0.002312146137499127 iter num 80\n",
            "loss 6.028151205092404e-05 average time 0.0022982244899992566 iter num 100\n",
            "loss 6.302240255369466e-05 average time 0.0022644676999988176 iter num 20\n",
            "loss 5.8828590558765816e-05 average time 0.0022431678250015353 iter num 40\n",
            "loss 5.812271136095249e-05 average time 0.0023835281499979526 iter num 60\n",
            "loss 5.7880424124454505e-05 average time 0.0024025550374972226 iter num 80\n",
            "loss 5.78339188948276e-05 average time 0.0024046708299988494 iter num 100\n",
            "loss 0.00013658968508759262 average time 0.0024343302499858057 iter num 20\n",
            "loss 6.293753309010962e-05 average time 0.0024053763499864546 iter num 40\n",
            "loss 5.675757561947016e-05 average time 0.00248235741665989 iter num 60\n",
            "loss 5.616848711454518e-05 average time 0.0024515069499948085 iter num 80\n",
            "loss 5.613037330003973e-05 average time 0.002421656519997555 iter num 100\n",
            "loss 5.552592509695524e-05 average time 0.0024095880000089666 iter num 20\n",
            "loss 5.499849989462273e-05 average time 0.002316595475006977 iter num 40\n",
            "loss 5.466130642529799e-05 average time 0.002369734900001201 iter num 60\n",
            "loss 5.450989633970012e-05 average time 0.002369592962500633 iter num 80\n",
            "loss 5.447827733602558e-05 average time 0.0023722333699993216 iter num 100\n",
            "loss 5.388714204044006e-05 average time 0.002171558899993897 iter num 20\n",
            "loss 5.3376786907432524e-05 average time 0.002181250224995779 iter num 40\n",
            "loss 5.3047248024400675e-05 average time 0.002231096199995856 iter num 60\n",
            "loss 5.289924749779677e-05 average time 0.00224576514999697 iter num 80\n",
            "loss 5.2868345966141405e-05 average time 0.0022388392899955535 iter num 100\n",
            "loss 5.228934491225113e-05 average time 0.0022334248499987553 iter num 20\n",
            "loss 5.17888097247467e-05 average time 0.002294728100000043 iter num 40\n",
            "loss 5.146528759883129e-05 average time 0.0023582996166680915 iter num 60\n",
            "loss 5.131994928092944e-05 average time 0.00244709830000005 iter num 80\n",
            "loss 5.1289534780194205e-05 average time 0.002450544420001961 iter num 100\n",
            "loss 5.072047107524201e-05 average time 0.002378000199990993 iter num 20\n",
            "loss 5.022822669783518e-05 average time 0.0024219906499979515 iter num 40\n",
            "loss 4.9909792671144055e-05 average time 0.0023907192166698604 iter num 60\n",
            "loss 4.976668776374462e-05 average time 0.0023883439500018257 iter num 80\n",
            "loss 4.973677985950279e-05 average time 0.0023689605300018 iter num 100\n",
            "loss 4.917620432548438e-05 average time 0.0022803678499997205 iter num 20\n",
            "loss 4.869088080614293e-05 average time 0.002315789274999247 iter num 40\n",
            "loss 4.837679365815364e-05 average time 0.0023616214500018864 iter num 60\n",
            "loss 4.823558885670711e-05 average time 0.0023513715875019157 iter num 80\n",
            "loss 4.8206002964662104e-05 average time 0.0023392298600009554 iter num 100\n",
            "loss 4.765259100783343e-05 average time 0.0022720629499957566 iter num 20\n",
            "loss 4.717322585740443e-05 average time 0.0023341758000015034 iter num 40\n",
            "loss 4.686283253620363e-05 average time 0.002342559666665996 iter num 60\n",
            "loss 4.6723239562664465e-05 average time 0.002343033275001005 iter num 80\n",
            "loss 4.66940342880844e-05 average time 0.0023447178700030237 iter num 100\n",
            "loss 4.614692571047673e-05 average time 0.0022536951000034834 iter num 20\n",
            "loss 4.5672731287417834e-05 average time 0.002316743475000749 iter num 40\n",
            "loss 4.5365589346730025e-05 average time 0.002307172966668721 iter num 60\n",
            "loss 4.522742170168889e-05 average time 0.002301519437499877 iter num 80\n",
            "loss 4.5198500630670305e-05 average time 0.002326005699999882 iter num 100\n",
            "loss 4.466055350387475e-05 average time 0.0022236417499925665 iter num 20\n",
            "loss 4.418668461545002e-05 average time 0.0023427936749968125 iter num 40\n",
            "loss 4.3881921172271636e-05 average time 0.002339885483328885 iter num 60\n",
            "loss 4.374482492368703e-05 average time 0.0023599493874975506 iter num 80\n",
            "loss 4.371613490135561e-05 average time 0.0023536261999976206 iter num 100\n",
            "loss 9.012048357487202e-05 average time 0.0022621614999906114 iter num 20\n",
            "loss 4.726571080140176e-05 average time 0.0023303247249941705 iter num 40\n",
            "loss 4.269173648380217e-05 average time 0.0023249451833284715 iter num 60\n",
            "loss 4.2503001994891675e-05 average time 0.002356286662497098 iter num 80\n",
            "loss 4.247887624460212e-05 average time 0.0023621340099998635 iter num 100\n",
            "loss 4.2041804182608715e-05 average time 0.00232356525000057 iter num 20\n",
            "loss 4.166101655505864e-05 average time 0.002350553175006098 iter num 40\n",
            "loss 4.1414118565259004e-05 average time 0.0023344782833381334 iter num 60\n",
            "loss 4.130285848318183e-05 average time 0.002319218062503836 iter num 80\n",
            "loss 4.127956488303612e-05 average time 0.002323275100001183 iter num 100\n",
            "loss 4.084208651222126e-05 average time 0.0023078738999970485 iter num 20\n",
            "loss 4.046134218750926e-05 average time 0.002331567775001986 iter num 40\n",
            "loss 4.021382664936327e-05 average time 0.002323065266668323 iter num 60\n",
            "loss 4.010220365244517e-05 average time 0.002315518375002057 iter num 80\n",
            "loss 4.007883407008219e-05 average time 0.0023110764800014748 iter num 100\n",
            "loss 3.963988892051011e-05 average time 0.0021943049499867583 iter num 20\n",
            "loss 3.925776061054832e-05 average time 0.002316290324995407 iter num 40\n",
            "loss 3.900926492073455e-05 average time 0.0023210750666644723 iter num 60\n",
            "loss 3.8897234131302904e-05 average time 0.002306049474999838 iter num 80\n",
            "loss 3.8873752732849615e-05 average time 0.002339734480002562 iter num 100\n",
            "loss 3.8454089191291256e-05 average time 0.002331865900015373 iter num 20\n",
            "loss 3.80511996093118e-05 average time 0.0023745654000094873 iter num 40\n",
            "loss 3.780050044862939e-05 average time 0.002387386566671997 iter num 60\n",
            "loss 3.7688015958097544e-05 average time 0.0023878165000063233 iter num 80\n",
            "loss 3.76644815734472e-05 average time 0.0024043973400068807 iter num 100\n",
            "loss 0.00019647748980860955 average time 0.0023600637000015467 iter num 20\n",
            "loss 3.720636124751342e-05 average time 0.002451168525000469 iter num 40\n",
            "loss 3.782168023818713e-05 average time 0.0024388074499986107 iter num 60\n",
            "loss 3.685298214659802e-05 average time 0.0024419679624983815 iter num 80\n",
            "loss 3.680762186108205e-05 average time 0.0024222920099998646 iter num 100\n",
            "loss 3.651235856782295e-05 average time 0.002247795499994254 iter num 20\n",
            "loss 3.6196655362502965e-05 average time 0.002312939150000659 iter num 40\n",
            "loss 3.6005979001314564e-05 average time 0.002299579150002273 iter num 60\n",
            "loss 3.59220829168537e-05 average time 0.0022965788375017837 iter num 80\n",
            "loss 3.590452462880233e-05 average time 0.002297505630000387 iter num 100\n",
            "loss 3.557526073243964e-05 average time 0.002220390449997467 iter num 20\n",
            "loss 3.528792352850652e-05 average time 0.0022981577249950647 iter num 40\n",
            "loss 3.510062917305358e-05 average time 0.0023651536833294057 iter num 60\n",
            "loss 3.5016061007737915e-05 average time 0.002341162512496453 iter num 80\n",
            "loss 3.499830315588623e-05 average time 0.0023424896799963337 iter num 100\n",
            "loss 3.46648569963176e-05 average time 0.0025578145999958224 iter num 20\n",
            "loss 3.4373648133812e-05 average time 0.0024366679749945773 iter num 40\n",
            "loss 3.418375525054879e-05 average time 0.002434588399994671 iter num 60\n",
            "loss 3.409796789721844e-05 average time 0.002379128612496828 iter num 80\n",
            "loss 3.407997082822374e-05 average time 0.0023663393799961342 iter num 100\n",
            "loss 3.374178007643103e-05 average time 0.002513185000003659 iter num 20\n",
            "loss 3.3446340879415716e-05 average time 0.0023898314750056215 iter num 40\n",
            "loss 3.325365058927891e-05 average time 0.0023524092000059226 iter num 60\n",
            "loss 3.3166637040407595e-05 average time 0.0023352670250012864 iter num 80\n",
            "loss 3.314839917686235e-05 average time 0.002338463390001948 iter num 100\n",
            "loss 3.280522867527343e-05 average time 0.0024357826999988675 iter num 20\n",
            "loss 3.25054701383472e-05 average time 0.0023494633499979043 iter num 40\n",
            "loss 3.231000360810047e-05 average time 0.002332031833330461 iter num 60\n",
            "loss 3.222170026349587e-05 average time 0.0023368710499987342 iter num 80\n",
            "loss 3.220320113088462e-05 average time 0.0023248327299967286 iter num 100\n",
            "loss 3.185512943858993e-05 average time 0.002463221900003987 iter num 20\n",
            "loss 3.1551206677795426e-05 average time 0.002439679474996126 iter num 40\n",
            "loss 3.1353076549274965e-05 average time 0.0023800591166623993 iter num 60\n",
            "loss 3.1263619907165987e-05 average time 0.002375109787494978 iter num 80\n",
            "loss 3.1244858574022365e-05 average time 0.0023701714799960884 iter num 100\n",
            "loss 3.089290162181349e-05 average time 0.002567188849991453 iter num 20\n",
            "loss 3.058446634524666e-05 average time 0.0024560245999950326 iter num 40\n",
            "loss 3.0383781865629596e-05 average time 0.0024281610499987966 iter num 60\n",
            "loss 3.0293197668097127e-05 average time 0.0023995730624974954 iter num 80\n",
            "loss 3.0274216291592267e-05 average time 0.002377170829997226 iter num 100\n",
            "loss 9.146208758761483e-05 average time 0.002493406199999981 iter num 20\n",
            "loss 3.150812804406984e-05 average time 0.0024009622999983547 iter num 40\n",
            "loss 2.9582721288007802e-05 average time 0.002371477549997773 iter num 60\n",
            "loss 2.9437296011543205e-05 average time 0.0023606444499982616 iter num 80\n",
            "loss 2.9417605121949713e-05 average time 0.0023460400799973514 iter num 100\n",
            "loss 2.9124393886602155e-05 average time 0.0024108475499986072 iter num 20\n",
            "loss 2.8844876412265708e-05 average time 0.0023413204749957116 iter num 40\n",
            "loss 2.8654840427337885e-05 average time 0.0023213074166648084 iter num 60\n",
            "loss 2.8574514229310312e-05 average time 0.0023190912874987645 iter num 80\n",
            "loss 2.8557627829077387e-05 average time 0.0022992869899979953 iter num 100\n",
            "loss 3.2979794660330056e-05 average time 0.0024399767000005566 iter num 20\n",
            "loss 2.8157273467392755e-05 average time 0.0023867173000027718 iter num 40\n",
            "loss 2.7801569836915074e-05 average time 0.002348364899999448 iter num 60\n",
            "loss 2.7712640843062882e-05 average time 0.0023327833000003294 iter num 80\n",
            "loss 2.7695729175612243e-05 average time 0.0023372831999995468 iter num 100\n",
            "loss 6.0450206574502626e-05 average time 0.002487948149993713 iter num 20\n",
            "loss 3.169550714238712e-05 average time 0.002422430799997244 iter num 40\n",
            "loss 2.751444970391134e-05 average time 0.00236882694999944 iter num 60\n",
            "loss 2.7153106290409297e-05 average time 0.002367142837498193 iter num 80\n",
            "loss 2.712701542318082e-05 average time 0.0023520863399994598 iter num 100\n",
            "loss 2.6899091742185373e-05 average time 0.002565699900000595 iter num 20\n",
            "loss 2.6659100750829903e-05 average time 0.0024612693250006144 iter num 40\n",
            "loss 2.6515822048414755e-05 average time 0.0024176584833355717 iter num 60\n",
            "loss 2.645188495915667e-05 average time 0.002409427125001429 iter num 80\n",
            "loss 2.6438534931411673e-05 average time 0.002387367029999723 iter num 100\n",
            "loss 2.618714759108918e-05 average time 0.0023835466500031544 iter num 20\n",
            "loss 2.596755464015778e-05 average time 0.0023250533500004168 iter num 40\n",
            "loss 2.5824320280880033e-05 average time 0.002341947066664337 iter num 60\n",
            "loss 2.5759610498534255e-05 average time 0.0024092838499989 iter num 80\n",
            "loss 2.5746026876332947e-05 average time 0.0023941996099995323 iter num 100\n",
            "loss 2.5490777542860608e-05 average time 0.002427473249994705 iter num 20\n",
            "loss 2.526775132599111e-05 average time 0.0023475885249951032 iter num 40\n",
            "loss 2.5122270362593073e-05 average time 0.0022989325333298894 iter num 60\n",
            "loss 2.505654054088902e-05 average time 0.0022763421124992076 iter num 80\n",
            "loss 2.5042782199154252e-05 average time 0.0023029804599985935 iter num 100\n",
            "loss 2.4783600907707287e-05 average time 0.0023445970999972587 iter num 20\n",
            "loss 2.4557296636238948e-05 average time 0.0023039887749945363 iter num 40\n",
            "loss 2.4409756499164225e-05 average time 0.0024020648666635224 iter num 60\n",
            "loss 2.434310727137599e-05 average time 0.002425043762500678 iter num 80\n",
            "loss 2.4329136065905813e-05 average time 0.0024133410699988646 iter num 100\n",
            "loss 2.4066558384519744e-05 average time 0.0023380649500069238 iter num 20\n",
            "loss 2.3837397195225473e-05 average time 0.002367653075006615 iter num 40\n",
            "loss 2.3688044695605748e-05 average time 0.0024019674333383514 iter num 60\n",
            "loss 2.362062261224667e-05 average time 0.0023675977625032376 iter num 80\n",
            "loss 2.3606499450029004e-05 average time 0.0023812649500013095 iter num 100\n",
            "loss 2.3340905698903946e-05 average time 0.0021756451499982178 iter num 20\n",
            "loss 2.310929745265665e-05 average time 0.002216009774997474 iter num 40\n",
            "loss 2.29584256430021e-05 average time 0.0022592076833319653 iter num 60\n",
            "loss 2.289032315084914e-05 average time 0.0022864055749984404 iter num 80\n",
            "loss 2.2876076687340484e-05 average time 0.0023133980399984468 iter num 100\n",
            "loss 2.2678954991253203e-05 average time 0.0023032326000020477 iter num 20\n",
            "loss 2.23762810989205e-05 average time 0.0022886646499998163 iter num 40\n",
            "loss 2.2223166366365244e-05 average time 0.002360048666667088 iter num 60\n",
            "loss 2.215431126871763e-05 average time 0.002356447262501149 iter num 80\n",
            "loss 2.213995585844075e-05 average time 0.002377149670000449 iter num 100\n",
            "loss 0.00011526764879979552 average time 0.0023972196000045186 iter num 20\n",
            "loss 2.8025469234525852e-05 average time 0.002369422750004446 iter num 40\n",
            "loss 2.239542648212181e-05 average time 0.0023780497000018387 iter num 60\n",
            "loss 2.1863129821152537e-05 average time 0.002357970462501413 iter num 80\n",
            "loss 2.1825210748324023e-05 average time 0.0023864238100003376 iter num 100\n",
            "loss 2.1689077527593054e-05 average time 0.002315069049998897 iter num 20\n",
            "loss 2.151115179109489e-05 average time 0.002337828300002798 iter num 40\n",
            "loss 2.1413831122202866e-05 average time 0.002337268100001211 iter num 60\n",
            "loss 2.1371390772695028e-05 average time 0.002331090000001268 iter num 80\n",
            "loss 2.1362545570786952e-05 average time 0.0023334381999990227 iter num 100\n",
            "loss 2.1196198656921633e-05 average time 0.0023180616999951553 iter num 20\n",
            "loss 2.105106409188508e-05 average time 0.002292299699995226 iter num 40\n",
            "loss 2.095636809393414e-05 average time 0.002295295499997489 iter num 60\n",
            "loss 2.0913604394042648e-05 average time 0.002281861124996709 iter num 80\n",
            "loss 2.0904654207476052e-05 average time 0.0022956568299980517 iter num 100\n",
            "loss 2.073593559767365e-05 average time 0.0023100543500049753 iter num 20\n",
            "loss 2.058845951282023e-05 average time 0.002275351775003287 iter num 40\n",
            "loss 2.049221493022276e-05 average time 0.0022959072166685245 iter num 60\n",
            "loss 2.044873718048054e-05 average time 0.0022944355874997767 iter num 80\n",
            "loss 2.043961168454298e-05 average time 0.0023142019099998377 iter num 100\n",
            "loss 2.0268097565680866e-05 average time 0.0023214526499970136 iter num 20\n",
            "loss 2.0118203206266822e-05 average time 0.002288210899999399 iter num 40\n",
            "loss 2.0020374863236302e-05 average time 0.002315945483331916 iter num 60\n",
            "loss 1.9976189832764308e-05 average time 0.0023407800124985558 iter num 80\n",
            "loss 1.9966928391299562e-05 average time 0.0023437546699983615 iter num 100\n",
            "loss 1.9792651515717166e-05 average time 0.0023117187499963167 iter num 20\n",
            "loss 1.9640434469539964e-05 average time 0.00233491969999875 iter num 40\n",
            "loss 1.9541139828665195e-05 average time 0.002318070749998924 iter num 60\n",
            "loss 1.9496312675539805e-05 average time 0.0023337895624983675 iter num 80\n",
            "loss 1.948691337900071e-05 average time 0.0023652911399989307 iter num 100\n",
            "loss 1.93101089001909e-05 average time 0.0025856197499962265 iter num 20\n",
            "loss 1.915574544170844e-05 average time 0.002435493199999428 iter num 40\n",
            "loss 1.905515053214031e-05 average time 0.0024118365166638494 iter num 60\n",
            "loss 1.900968965419445e-05 average time 0.0023864441749985588 iter num 80\n",
            "loss 1.9000173408707418e-05 average time 0.0023883802199975435 iter num 100\n",
            "loss 1.882125789816092e-05 average time 0.002270846799996207 iter num 20\n",
            "loss 1.8664902386318487e-05 average time 0.002303062249993104 iter num 40\n",
            "loss 1.8563123538896704e-05 average time 0.002328011249994688 iter num 60\n",
            "loss 1.851716697670548e-05 average time 0.002317780987495155 iter num 80\n",
            "loss 1.850756854104605e-05 average time 0.002340405819995226 iter num 100\n",
            "loss 3.086673410656238e-05 average time 0.0024114334500040966 iter num 20\n",
            "loss 1.8229601255656206e-05 average time 0.0024050403250001295 iter num 40\n",
            "loss 1.8115110091364063e-05 average time 0.002362241616665983 iter num 60\n",
            "loss 1.804815387019789e-05 average time 0.002364817050003154 iter num 80\n",
            "loss 1.8034194905332566e-05 average time 0.002379045460001521 iter num 100\n",
            "loss 3.394568821102856e-05 average time 0.002226112800002511 iter num 20\n",
            "loss 2.2056492211993457e-05 average time 0.0022745177250072857 iter num 40\n",
            "loss 1.8188028483879076e-05 average time 0.002319399266671477 iter num 60\n",
            "loss 1.777952004699215e-05 average time 0.002298200025003183 iter num 80\n",
            "loss 1.776700380245734e-05 average time 0.0022993132400000605 iter num 100\n",
            "loss 1.762804889670295e-05 average time 0.0023122275999980955 iter num 20\n",
            "loss 1.749939335482863e-05 average time 0.0023178522500032273 iter num 40\n",
            "loss 1.7418471993243868e-05 average time 0.0023099357333355402 iter num 60\n",
            "loss 1.738242753772237e-05 average time 0.002311394550000756 iter num 80\n",
            "loss 1.737490936701624e-05 average time 0.002330714999999941 iter num 100\n",
            "loss 1.7233594889933554e-05 average time 0.002301779900000156 iter num 20\n",
            "loss 1.711044004288654e-05 average time 0.0022614126500016597 iter num 40\n",
            "loss 1.7030205557675446e-05 average time 0.0022664278000007697 iter num 60\n",
            "loss 1.6993969224665334e-05 average time 0.0023050966500008487 iter num 80\n",
            "loss 1.6986417744781705e-05 average time 0.0023572610100012527 iter num 100\n",
            "loss 1.684374565712496e-05 average time 0.002339003699998443 iter num 20\n",
            "loss 1.671923168403532e-05 average time 0.002310804049997728 iter num 40\n",
            "loss 1.663812892265166e-05 average time 0.0023613395666662504 iter num 60\n",
            "loss 1.660150163076907e-05 average time 0.002341862237499015 iter num 80\n",
            "loss 1.659381314509595e-05 average time 0.0023686504599987755 iter num 100\n"
          ]
        }
      ]
    },
    {
      "cell_type": "code",
      "metadata": {
        "id": "C_fEzULvKwR-"
      },
      "source": [
        "# "
      ],
      "execution_count": 12,
      "outputs": []
    },
    {
      "cell_type": "markdown",
      "metadata": {
        "id": "NOxUYnbSVTnl"
      },
      "source": [
        "**Save Model**"
      ]
    },
    {
      "cell_type": "code",
      "metadata": {
        "id": "mq_GDLdvU9ib",
        "colab": {
          "base_uri": "https://localhost:8080/"
        },
        "outputId": "433247f4-1349-4c97-e770-f50f8fa54eff"
      },
      "source": [
        "from google.colab import drive\n",
        "drive.mount('/content/drive')"
      ],
      "execution_count": 13,
      "outputs": [
        {
          "output_type": "stream",
          "name": "stdout",
          "text": [
            "Drive already mounted at /content/drive; to attempt to forcibly remount, call drive.mount(\"/content/drive\", force_remount=True).\n"
          ]
        }
      ]
    },
    {
      "cell_type": "code",
      "metadata": {
        "id": "iNEAqIJAVa-6"
      },
      "source": [
        "import torch\n",
        "model_save_name = 'jax_knock_out_1stock_oldmethod_1.pth'\n",
        "path = F\"/content/drive/MyDrive/AFP/Save_Models/{model_save_name}\" \n",
        "torch.save(model.state_dict(), path)"
      ],
      "execution_count": 14,
      "outputs": []
    },
    {
      "cell_type": "markdown",
      "metadata": {
        "id": "4IXkmXlAVdEh"
      },
      "source": [
        "**Load Model**"
      ]
    },
    {
      "cell_type": "code",
      "metadata": {
        "id": "QjERL5bcVcXS",
        "colab": {
          "base_uri": "https://localhost:8080/"
        },
        "outputId": "3477098f-2d46-4742-e56e-c6854c886a03"
      },
      "source": [
        "from google.colab import drive\n",
        "drive.mount('/content/drive')"
      ],
      "execution_count": 15,
      "outputs": [
        {
          "output_type": "stream",
          "name": "stdout",
          "text": [
            "Drive already mounted at /content/drive; to attempt to forcibly remount, call drive.mount(\"/content/drive\", force_remount=True).\n"
          ]
        }
      ]
    },
    {
      "cell_type": "code",
      "metadata": {
        "id": "oIJoo5Z7VjAR",
        "colab": {
          "base_uri": "https://localhost:8080/"
        },
        "outputId": "42e7bdb7-b30f-4dc0-f50c-e1263cc961ff"
      },
      "source": [
        "import torch\n",
        "model_save_name = 'jax_knock_out_1stock_oldmethod_1.pth'\n",
        "path = F\"/content/drive/MyDrive/AFP/Save_Models/{model_save_name}\" \n",
        "state_dict = torch.load(path)\n",
        "print(state_dict.keys())"
      ],
      "execution_count": 16,
      "outputs": [
        {
          "output_type": "stream",
          "name": "stdout",
          "text": [
            "odict_keys(['norm', 'fc1.weight', 'fc1.bias', 'fc2.weight', 'fc2.bias', 'fc3.weight', 'fc3.bias', 'fc4.weight', 'fc4.bias', 'fc5.weight', 'fc5.bias', 'fc6.weight', 'fc6.bias'])\n"
          ]
        }
      ]
    },
    {
      "cell_type": "code",
      "metadata": {
        "id": "mSkrjknWVlL8",
        "colab": {
          "base_uri": "https://localhost:8080/"
        },
        "outputId": "3459b7d2-9620-4169-bdb0-5c81bda6c695"
      },
      "source": [
        "# need to run 'Writing cupy_dataset.py' and 'Writing model.py' above before this\n",
        "from model import Net\n",
        "model = Net().cuda()\n",
        "\n",
        "model.load_state_dict(state_dict)\n",
        "print(model)"
      ],
      "execution_count": 17,
      "outputs": [
        {
          "output_type": "stream",
          "name": "stdout",
          "text": [
            "Net(\n",
            "  (fc1): Linear(in_features=7, out_features=64, bias=True)\n",
            "  (fc2): Linear(in_features=64, out_features=128, bias=True)\n",
            "  (fc3): Linear(in_features=128, out_features=256, bias=True)\n",
            "  (fc4): Linear(in_features=256, out_features=128, bias=True)\n",
            "  (fc5): Linear(in_features=128, out_features=64, bias=True)\n",
            "  (fc6): Linear(in_features=64, out_features=2, bias=True)\n",
            ")\n"
          ]
        }
      ]
    },
    {
      "cell_type": "markdown",
      "metadata": {
        "id": "s5MbsAwEVmff"
      },
      "source": [
        "**Continue to train model**"
      ]
    },
    {
      "cell_type": "code",
      "metadata": {
        "id": "aQYxo1IXVl57"
      },
      "source": [
        "# # version 2, 7\n",
        "# # If memory is not enough, try changing parameters and restarting session\n",
        "# # loss will converge\n",
        "\n",
        "# from ignite.engine import Engine, Events\n",
        "# from ignite.handlers import Timer\n",
        "# from torch.nn import MSELoss\n",
        "# from torch.optim import Adam\n",
        "# from ignite.contrib.handlers.param_scheduler import CosineAnnealingScheduler\n",
        "# from ignite.handlers import ModelCheckpoint\n",
        "# from model import Net\n",
        "# import numpy as np\n",
        "# import torch\n",
        "# from torch import Tensor\n",
        "# from torch.autograd import grad\n",
        "# timer = Timer(average=True)\n",
        "# #model = Net().cuda()\n",
        "# loss_fn = MSELoss()\n",
        "# optimizer = Adam(model.parameters(), lr=1e-3, eps=1e-4, amsgrad=True) # try using higher epsilon and amsgrad\n",
        "# dataset = OptionDataSet(max_len = 100) # Use max_len to adjust\n",
        "\n",
        "# def train_update(engine, batch):\n",
        "#     model.train()\n",
        "#     optimizer.zero_grad()\n",
        "#     x = batch[0]\n",
        "#     y = batch[1]\n",
        "#     y_pred = model(x.float())\n",
        "\n",
        "#     def compute_deltas(x):\n",
        "#       inputs = x.float()\n",
        "#       inputs.requires_grad = True\n",
        "#       first_order_gradient = grad(model(inputs), inputs, create_graph=False)\n",
        "#       return first_order_gradient[0][[3]]\n",
        "\n",
        "#     deltas = torch.stack([compute_deltas(x) for x in torch.unbind(x)], dim=0)\n",
        "#     y_pred = torch.cat((y_pred, deltas), 1)\n",
        "\n",
        "#     loss_weight = torch.tensor([1, 1]).cuda()\n",
        "#     loss_weight_normalized = loss_weight/loss_weight.sum()\n",
        "#     loss = ((y_pred - y) ** 2 * loss_weight_normalized).mean(axis=0).sum() # compute weighted MSE between the 2 arrays\n",
        "\n",
        "#     loss.backward()\n",
        "#     optimizer.step()\n",
        "#     return loss.item()\n",
        "\n",
        "# trainer = Engine(train_update)\n",
        "# log_interval = 20\n",
        "\n",
        "# scheduler = CosineAnnealingScheduler(optimizer, 'lr', 1e-4, 1e-6, len(dataset))\n",
        "# trainer.add_event_handler(Events.ITERATION_STARTED, scheduler)\n",
        "# timer.attach(trainer,\n",
        "#              start=Events.EPOCH_STARTED,\n",
        "#              resume=Events.ITERATION_STARTED,\n",
        "#              pause=Events.ITERATION_COMPLETED,\n",
        "#              step=Events.ITERATION_COMPLETED)    \n",
        "# @trainer.on(Events.ITERATION_COMPLETED)\n",
        "# def log_training_loss(engine):\n",
        "#     iter = (engine.state.iteration - 1) % len(dataset) + 1\n",
        "#     if iter % log_interval == 0:\n",
        "#         print('loss', engine.state.output, 'average time', timer.value(), 'iter num', iter)\n",
        "        \n",
        "# trainer.run(dataset, max_epochs = 100)\n",
        "\n",
        "# model_save_name = 'jax_knock_out_1stock_oldmethod_1.pth'\n",
        "# path = F\"/content/drive/MyDrive/AFP/Save_Models/{model_save_name}\" \n",
        "# torch.save(model.state_dict(), path)"
      ],
      "execution_count": 18,
      "outputs": []
    },
    {
      "cell_type": "code",
      "metadata": {
        "id": "RQs-OZHGEwac"
      },
      "source": [
        "# 12:00"
      ],
      "execution_count": 19,
      "outputs": []
    },
    {
      "cell_type": "markdown",
      "metadata": {
        "id": "ONLZ1zpgV2Zv"
      },
      "source": [
        "#Results"
      ]
    },
    {
      "cell_type": "code",
      "metadata": {
        "id": "b3hhVHEVV06R",
        "colab": {
          "base_uri": "https://localhost:8080/"
        },
        "outputId": "4a3d2e91-73c9-4c4a-e0ca-98ec9bb9305f"
      },
      "source": [
        "import torch\n",
        "inputs = torch.tensor([[1, 1, 0.8, 1, 0.25, 0.02, 0.02]]).cuda() # T, K, B, S, sigma, mu, r\n",
        "print('price: ' + str(model(inputs.float())))\n",
        "\n",
        "# price, delta\n",
        "# should be around (0.10632345, 0.5543747)"
      ],
      "execution_count": 20,
      "outputs": [
        {
          "output_type": "stream",
          "name": "stdout",
          "text": [
            "price: tensor([[0.105593, 0.553141]], device='cuda:0', grad_fn=<AddmmBackward0>)\n"
          ]
        }
      ]
    },
    {
      "cell_type": "code",
      "metadata": {
        "colab": {
          "base_uri": "https://localhost:8080/"
        },
        "id": "kqpasxVi0hx3",
        "outputId": "169cdff4-5b60-4251-97d8-710b61fcf7d9"
      },
      "source": [
        "# Knock out call\n",
        "\n",
        "# now change code such that 'numsteps' does not represent year\n",
        "# make dt = year / numsteps\n",
        "# Add r, and notice that noise must have mean 0, not drift, or else it'll give large option prices\n",
        "# (done)\n",
        "# after making the changes, the values are still correct\n",
        "\n",
        "import jax\n",
        "import jax.numpy as jnp\n",
        "from jax import random\n",
        "from jax import jit\n",
        "import numpy as np\n",
        "from torch.utils.dlpack import from_dlpack\n",
        "\n",
        "def Brownian_motion(key, initial_stocks, numsteps, drift, cov, T):\n",
        "    stocks_init = jnp.zeros((numsteps + 1, initial_stocks.shape[0]))\n",
        "    stocks_init = jax.ops.index_update(stocks_init,   # jax.ops.index_update(x, idx, y) <-> Pure equivalent of x[idx] = y\n",
        "                            jax.ops.index[0],         # initialization of stock prices\n",
        "                            initial_stocks)\n",
        "    noise = jax.random.multivariate_normal(key,  jnp.array([0]*initial_stocks.shape[0]), cov, (numsteps+1,)) # noise must have mean 0\n",
        "    sigma = jnp.diag(cov) ** 0.5\n",
        "    dt = T / numsteps\n",
        "    def time_step(t, val):\n",
        "        #dx =  drift + noise[t,:] # no need to multiply by sigma here because noise generated by cov not corr\n",
        "        dx2 = jnp.exp((drift - sigma ** 2. / 2.) * dt + jnp.sqrt(dt) * noise[t,:])\n",
        "        val = jax.ops.index_update(val,\n",
        "                            jax.ops.index[t],\n",
        "                            val[t-1] * dx2)\n",
        "        return val\n",
        "    return jax.lax.fori_loop(1, numsteps+1, time_step, stocks_init)[1:] # jax.lax.fori_loop(lower, upper, body_fun, init_val)\n",
        "\n",
        "def optionvalueavg(key, initial_stocks, numsteps, drift, r, cov, K, B, T): # down-and-out call\n",
        "    return jnp.mean(jnp.maximum((1 - jnp.any(jnp.mean(batch_simple(keys, initial_stocks, numsteps, drift, cov, T), axis=2) < B, axis=1).astype(int))* \n",
        "                                (jnp.mean(batch_simple(keys, initial_stocks, numsteps, drift, cov, T), axis=2))[:,-1]-K, 0) *\n",
        "                    jnp.exp(-r[0] * T))\n",
        "    # must use '-1' not 'numsteps', or else grad will be 0\n",
        "\n",
        "numstocks = 1\n",
        "numsteps = 50\n",
        "numpaths = 2000000\n",
        "\n",
        "rng = jax.random.PRNGKey(1)\n",
        "rng, key = jax.random.split(rng)\n",
        "\n",
        "drift = jnp.array([0.02]*numstocks)\n",
        "r = drift # let r = drift to match B-S\n",
        "\n",
        "cov = jnp.identity(numstocks)*0.25*0.25\n",
        "initial_stocks = jnp.array([1.]*numstocks) # must be float\n",
        "\n",
        "T = 1.0\n",
        "K = 1.0\n",
        "B = 0.8 # if B is set to 0, equivalent to European call\n",
        "\n",
        "fast_simple = jax.jit(Brownian_motion, static_argnums=2)\n",
        "\n",
        "keys = jax.random.split(key, numpaths)\n",
        "batch_simple = jax.vmap(fast_simple, in_axes=(0, None, None, None, None, None))\n",
        "\n",
        "# option price\n",
        "print(optionvalueavg(key, initial_stocks, numsteps, drift, r, cov, K, B, T)) # here numsteps different from T\n",
        "\n",
        "# delta\n",
        "goptionvalueavg = jax.grad(optionvalueavg,argnums=1)\n",
        "print(goptionvalueavg(keys, initial_stocks, numsteps, drift, r, cov, K, B, T)) # here numsteps different from T"
      ],
      "execution_count": 21,
      "outputs": [
        {
          "output_type": "stream",
          "name": "stdout",
          "text": [
            "0.10632345\n",
            "[0.5543747]\n"
          ]
        }
      ]
    },
    {
      "cell_type": "code",
      "metadata": {
        "id": "lovJwXo3-YEu",
        "colab": {
          "base_uri": "https://localhost:8080/",
          "height": 265
        },
        "outputId": "0c940d45-3fa7-4443-b272-7d5d4aa6fd22"
      },
      "source": [
        "import matplotlib.pyplot as plt\n",
        "import numpy as np\n",
        "\n",
        "def compute_price(S):\n",
        "    inputs = torch.tensor([[1, 1, 0.8, S, 0.25, 0.02, 0.02]]).cuda()\n",
        "    return model(inputs.float())[0][0]\n",
        "\n",
        "prices = np.arange(0.75, 1.25, 0.01)\n",
        "model_call_prices = []\n",
        "correct_call_prices = []\n",
        "for p in prices:\n",
        "    initial_stocks = jnp.array([p]*numstocks) # must be float\n",
        "    model_call_prices.append(compute_price(p).item())\n",
        "    correct_call_prices.append(optionvalueavg(key, initial_stocks, numsteps, drift, r, cov, K, B, T))\n",
        "\n",
        "#plt.plot(prices, model_call_prices, label = \"model_call_prices\")\n",
        "#plt.plot(prices, correct_call_prices, label = \"correct_call_prices\")\n",
        "plt.plot(prices, np.array(model_call_prices)-np.array(correct_call_prices), label = \"Differences\")\n",
        "plt.legend()\n",
        "plt.show()"
      ],
      "execution_count": 22,
      "outputs": [
        {
          "output_type": "display_data",
          "data": {
            "image/png": "[encoded data removed]",
            "text/plain": [
              "<Figure size 432x288 with 1 Axes>"
            ]
          },
          "metadata": {
            "needs_background": "light"
          }
        }
      ]
    },
    {
      "cell_type": "markdown",
      "metadata": {
        "id": "9fVR9u56Uu3X"
      },
      "source": [
        "# Delta"
      ]
    },
    {
      "cell_type": "code",
      "metadata": {
        "id": "lwApH0GT9bBK",
        "colab": {
          "base_uri": "https://localhost:8080/",
          "height": 265
        },
        "outputId": "7a529497-56e0-4c0b-da0f-b49c8ee7a3c2"
      },
      "source": [
        "##Using gradient, Change only 1 S0 at a time\n",
        "%matplotlib inline\n",
        "from torch.autograd import grad\n",
        "import pylab\n",
        "import numpy as np\n",
        "\n",
        "def compute_delta(S):\n",
        "    inputs = torch.tensor([[1, 1, 0.8, S, 0.25, 0.02, 0.02]]).cuda()\n",
        "    return model(inputs.float())[0][1]\n",
        "\n",
        "prices = np.arange(0.75, 1.25, 0.01)\n",
        "model_call_deltas = []\n",
        "correct_call_deltas = []\n",
        "for p in prices:\n",
        "    initial_stocks = jnp.array([p]*numstocks) # must be float\n",
        "    model_call_deltas.append(compute_delta(p).item())\n",
        "    correct_call_deltas.append(goptionvalueavg(keys, initial_stocks, numsteps, drift, r, cov, 1.0, B, T))\n",
        "\n",
        "plt.plot(prices, model_call_deltas, label = \"model_call_deltas\")\n",
        "plt.plot(prices, correct_call_deltas, label = \"correct_call_deltas\")\n",
        "#plt.plot(prices, np.array(model_call_deltas)-np.array(correct_call_deltas), label = \"Differences\")\n",
        "plt.legend()\n",
        "plt.show()"
      ],
      "execution_count": 23,
      "outputs": [
        {
          "output_type": "display_data",
          "data": {
            "image/png": "[encoded data removed]",
            "text/plain": [
              "<Figure size 432x288 with 1 Axes>"
            ]
          },
          "metadata": {
            "needs_background": "light"
          }
        }
      ]
    },
    {
      "cell_type": "code",
      "metadata": {
        "id": "sHgD1NjP7DOW",
        "colab": {
          "base_uri": "https://localhost:8080/",
          "height": 269
        },
        "outputId": "4335141b-f30a-41bd-c041-50735384b426"
      },
      "source": [
        "##Using gradient, Change only 1 S0 at a time\n",
        "%matplotlib inline\n",
        "from torch.autograd import grad\n",
        "import pylab\n",
        "import numpy as np\n",
        "\n",
        "def compute_delta(S):\n",
        "    inputs = torch.tensor([[1, 0.775, 0.8, S, 0.25, 0.02, 0.02]]).cuda()\n",
        "    return model(inputs.float())[0][1]\n",
        "\n",
        "prices = np.arange(0.75, 1.25, 0.01)\n",
        "model_call_deltas = []\n",
        "correct_call_deltas = []\n",
        "for p in prices:\n",
        "    initial_stocks = jnp.array([p]*numstocks) # must be float\n",
        "    model_call_deltas.append(compute_delta(p).item())\n",
        "    correct_call_deltas.append(goptionvalueavg(keys, initial_stocks, numsteps, drift, r, cov, 0.775, B, T))\n",
        "\n",
        "plt.plot(prices, model_call_deltas, label = \"model_call_deltas\")\n",
        "plt.plot(prices, correct_call_deltas, label = \"correct_call_deltas\")\n",
        "#plt.plot(prices, np.array(model_call_deltas)-np.array(correct_call_deltas), label = \"Differences\")\n",
        "plt.legend()\n",
        "plt.show()"
      ],
      "execution_count": 24,
      "outputs": [
        {
          "output_type": "display_data",
          "data": {
            "image/png": "[encoded data removed]",
            "text/plain": [
              "<Figure size 432x288 with 1 Axes>"
            ]
          },
          "metadata": {
            "needs_background": "light"
          }
        }
      ]
    },
    {
      "cell_type": "code",
      "metadata": {
        "id": "m7MfujMQ7oij",
        "colab": {
          "base_uri": "https://localhost:8080/",
          "height": 265
        },
        "outputId": "7a99c441-1ba0-4667-98b2-23b815c6bb1e"
      },
      "source": [
        "##Using gradient, Change only 1 S0 at a time\n",
        "%matplotlib inline\n",
        "from torch.autograd import grad\n",
        "import pylab\n",
        "import numpy as np\n",
        "\n",
        "def compute_delta(S):\n",
        "    inputs = torch.tensor([[1, 1.225, 0.8, S, 0.25, 0.02, 0.02]]).cuda()\n",
        "    return model(inputs.float())[0][1]\n",
        "\n",
        "prices = np.arange(0.75, 1.25, 0.01)\n",
        "model_call_deltas = []\n",
        "correct_call_deltas = []\n",
        "for p in prices:\n",
        "    initial_stocks = jnp.array([p]*numstocks) # must be float\n",
        "    model_call_deltas.append(compute_delta(p).item())\n",
        "    correct_call_deltas.append(goptionvalueavg(keys, initial_stocks, numsteps, drift, r, cov, 1.225, B, T))\n",
        "\n",
        "plt.plot(prices, model_call_deltas, label = \"model_call_deltas\")\n",
        "plt.plot(prices, correct_call_deltas, label = \"correct_call_deltas\")\n",
        "#plt.plot(prices, np.array(model_call_deltas)-np.array(correct_call_deltas), label = \"Differences\")\n",
        "plt.legend()\n",
        "plt.show()"
      ],
      "execution_count": 25,
      "outputs": [
        {
          "output_type": "display_data",
          "data": {
            "image/png": "[encoded data removed]",
            "text/plain": [
              "<Figure size 432x288 with 1 Axes>"
            ]
          },
          "metadata": {
            "needs_background": "light"
          }
        }
      ]
    }
  ]
}