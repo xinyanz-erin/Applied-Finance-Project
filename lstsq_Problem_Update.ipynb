{
  "nbformat": 4,
  "nbformat_minor": 0,
  "metadata": {
    "colab": {
      "name": "lstsq_Problem.ipynb",
      "provenance": [],
      "collapsed_sections": [],
      "include_colab_link": true
    },
    "kernelspec": {
      "name": "python3",
      "display_name": "Python 3"
    },
    "language_info": {
      "name": "python"
    },
    "accelerator": "GPU"
  },
  "cells": [
    {
      "cell_type": "markdown",
      "metadata": {
        "id": "view-in-github",
        "colab_type": "text"
      },
      "source": [
        "<a href=\"https://colab.research.google.com/github/xinyanz-erin/Applied-Finance-Project/blob/Judy/lstsq_Problem_Update.ipynb\" target=\"_parent\"><img src=\"https://colab.research.google.com/assets/colab-badge.svg\" alt=\"Open In Colab\"/></a>"
      ]
    },
    {
      "cell_type": "code",
      "metadata": {
        "id": "Rx0a3A_dXtWK"
      },
      "source": [
        "import jax\n",
        "import jax.numpy as jnp\n",
        "import numpy as np\n",
        "from numpy.linalg import inv"
      ],
      "execution_count": 1,
      "outputs": []
    },
    {
      "cell_type": "markdown",
      "metadata": {
        "id": "UjGWWAMGcf3U"
      },
      "source": [
        "## Test1"
      ]
    },
    {
      "cell_type": "code",
      "metadata": {
        "id": "MoK4BtIK_HtQ"
      },
      "source": [
        "def ls1_m(in_put):\n",
        "    return in_put/in_put\n",
        "def ls2_m(in_put):\n",
        "    return in_put\n",
        "def ls3_m(in_put):\n",
        "    return in_put**2"
      ],
      "execution_count": 3,
      "outputs": []
    },
    {
      "cell_type": "code",
      "metadata": {
        "colab": {
          "base_uri": "https://localhost:8080/"
        },
        "id": "9pNy76_a4kb1",
        "outputId": "310af19e-14a5-4bb1-ff3c-90c3ab4d608b"
      },
      "source": [
        "AA_X = np.array([1.0880001e+02,1.0010000e+02,1.1020000e+02,1.2010000e+02,9.8199997e+01])\n",
        "Y_X = np.array([23.521464,0.000000,1.694343,30.797171,0.000000])\n",
        "AA_Pui_X = np.array([[np.sum(ls1_m(AA_X) **2),np.sum(ls1_m(AA_X) * ls2_m(AA_X)),np.sum(ls1_m(AA_X) * ls3_m(AA_X))],\n",
        "                          [np.sum(ls2_m(AA_X) * ls1_m(AA_X)),np.sum(ls2_m(AA_X) ** 2), np.sum(ls2_m(AA_X) * ls3_m(AA_X))],\n",
        "                          [np.sum(ls3_m(AA_X) * ls1_m(AA_X)) , np.sum(ls3_m(AA_X) * ls2_m(AA_X)),np.sum(ls3_m(AA_X) ** 2)]])\n",
        "A_inv_X = inv(AA_Pui_X)\n",
        "b_X = np.array([[np.sum(Y_X * ls1_m(AA_X))],[np.sum(Y_X * ls2_m(AA_X))],[np.sum(Y_X * ls3_m(AA_X))]])\n",
        "a_s_X = np.dot(A_inv_X,b_X)\n",
        "a_s_X"
      ],
      "execution_count": 4,
      "outputs": [
        {
          "output_type": "execute_result",
          "data": {
            "text/plain": [
              "array([[ 1.52887760e+02],\n",
              "       [-3.97191757e+00],\n",
              "       [ 2.45585261e-02]])"
            ]
          },
          "metadata": {},
          "execution_count": 4
        }
      ]
    },
    {
      "cell_type": "code",
      "metadata": {
        "id": "TS7xZwGMXzwE"
      },
      "source": [
        "AA_Pui = np.array([[1.0000000e+00, 1.0880001e+02, 1.1837442e+04],\n",
        "          [1.0000000e+00, 1.0010000e+02, 1.0020010e+04],\n",
        "          [1.0000000e+00, 1.1020000e+02, 1.2144039e+04],\n",
        "           [1.0000000e+00, 1.2010000e+02, 1.4424010e+04],\n",
        "           [1.0000000e+00, 9.8199997e+01, 9.6432393e+03]])"
      ],
      "execution_count": 5,
      "outputs": []
    },
    {
      "cell_type": "code",
      "metadata": {
        "id": "M9o-0BfMXwuJ"
      },
      "source": [
        "B = np.array([23.521464,0.000000,1.694343,30.797171,0.000000])"
      ],
      "execution_count": 6,
      "outputs": []
    },
    {
      "cell_type": "code",
      "metadata": {
        "colab": {
          "base_uri": "https://localhost:8080/"
        },
        "id": "lw2f2eECX3B0",
        "outputId": "4b816b5b-2b32-4bf7-c4ad-9762bcb03d5d"
      },
      "source": [
        "np.linalg.lstsq(AA_Pui,B,rcond = None)[0]"
      ],
      "execution_count": 7,
      "outputs": [
        {
          "output_type": "execute_result",
          "data": {
            "text/plain": [
              "array([ 1.52894188e+02, -3.97203636e+00,  2.45590726e-02])"
            ]
          },
          "metadata": {},
          "execution_count": 7
        }
      ]
    },
    {
      "cell_type": "code",
      "metadata": {
        "id": "G0fw-_XGYAAi"
      },
      "source": [
        "AA_Pui_jax = jnp.array([[1.0000000e+00, 1.0880001e+02, 1.1837442e+04],\n",
        "          [1.0000000e+00, 1.0010000e+02, 1.0020010e+04],\n",
        "          [1.0000000e+00, 1.1020000e+02, 1.2144039e+04],\n",
        "           [1.0000000e+00, 1.2010000e+02, 1.4424010e+04],\n",
        "           [1.0000000e+00, 9.8199997e+01, 9.6432393e+03]])"
      ],
      "execution_count": 8,
      "outputs": []
    },
    {
      "cell_type": "code",
      "metadata": {
        "id": "9fAJ9eILYHIh"
      },
      "source": [
        "B_jax = jnp.array([23.521464,0.000000,1.694343,30.797171,0.000000])"
      ],
      "execution_count": 9,
      "outputs": []
    },
    {
      "cell_type": "code",
      "metadata": {
        "colab": {
          "base_uri": "https://localhost:8080/"
        },
        "id": "YvGrqm5TYAH0",
        "outputId": "24f8bef6-ff18-444b-8f29-c0e77812fa18"
      },
      "source": [
        "jax.numpy.linalg.lstsq(AA_Pui_jax, B_jax,rcond = -1)[0]"
      ],
      "execution_count": 21,
      "outputs": [
        {
          "output_type": "execute_result",
          "data": {
            "text/plain": [
              "DeviceArray([ 1.5286615e+02, -3.9715176e+00,  2.4556689e-02], dtype=float32)"
            ]
          },
          "metadata": {},
          "execution_count": 21
        }
      ]
    },
    {
      "cell_type": "code",
      "metadata": {
        "id": "p6e26Y_cDCRP",
        "outputId": "47c56143-7e22-4275-fb0d-06ad98a09f8e",
        "colab": {
          "base_uri": "https://localhost:8080/"
        }
      },
      "source": [
        "jax.numpy.linalg.lstsq(AA_Pui_jax, B_jax)[0]"
      ],
      "execution_count": 22,
      "outputs": [
        {
          "output_type": "execute_result",
          "data": {
            "text/plain": [
              "DeviceArray([-0.02124668, -1.1520692 ,  0.01162804], dtype=float32)"
            ]
          },
          "metadata": {},
          "execution_count": 22
        }
      ]
    },
    {
      "cell_type": "markdown",
      "metadata": {
        "id": "LI3TlURbciFj"
      },
      "source": [
        "## Test2"
      ]
    },
    {
      "cell_type": "code",
      "metadata": {
        "id": "88CgKep6_tNN"
      },
      "source": [
        ""
      ],
      "execution_count": null,
      "outputs": []
    },
    {
      "cell_type": "code",
      "metadata": {
        "id": "ExgJE1UQhps5"
      },
      "source": [
        "Y = np.array([0,4.1759,6.7863,6.9345])\n",
        "X = np.array([92.8,96.34,89.37,86.12])\n",
        "X_2 = np.c_[X**2,X,np.ones_like(X)]"
      ],
      "execution_count": 23,
      "outputs": []
    },
    {
      "cell_type": "code",
      "metadata": {
        "colab": {
          "base_uri": "https://localhost:8080/"
        },
        "id": "HDuQYv-jlDsG",
        "outputId": "3320c86f-2e6c-4fc7-a09b-1f8c21f58a5f"
      },
      "source": [
        "X_2"
      ],
      "execution_count": 24,
      "outputs": [
        {
          "output_type": "execute_result",
          "data": {
            "text/plain": [
              "array([[8.6118400e+03, 9.2800000e+01, 1.0000000e+00],\n",
              "       [9.2813956e+03, 9.6340000e+01, 1.0000000e+00],\n",
              "       [7.9869969e+03, 8.9370000e+01, 1.0000000e+00],\n",
              "       [7.4166544e+03, 8.6120000e+01, 1.0000000e+00]])"
            ]
          },
          "metadata": {},
          "execution_count": 24
        }
      ]
    },
    {
      "cell_type": "code",
      "metadata": {
        "colab": {
          "base_uri": "https://localhost:8080/"
        },
        "id": "kN9Tjv8WmHSC",
        "outputId": "d912461c-1327-4087-b9c9-212d5b0cb698"
      },
      "source": [
        "X_2_test = np.c_[np.ones_like(X),X,X**2]\n",
        "X_2_test"
      ],
      "execution_count": 25,
      "outputs": [
        {
          "output_type": "execute_result",
          "data": {
            "text/plain": [
              "array([[1.0000000e+00, 9.2800000e+01, 8.6118400e+03],\n",
              "       [1.0000000e+00, 9.6340000e+01, 9.2813956e+03],\n",
              "       [1.0000000e+00, 8.9370000e+01, 7.9869969e+03],\n",
              "       [1.0000000e+00, 8.6120000e+01, 7.4166544e+03]])"
            ]
          },
          "metadata": {},
          "execution_count": 25
        }
      ]
    },
    {
      "cell_type": "code",
      "metadata": {
        "id": "ffoV8LDDhr2P"
      },
      "source": [
        "## Using Simple Polynomials function"
      ],
      "execution_count": null,
      "outputs": []
    },
    {
      "cell_type": "code",
      "metadata": {
        "id": "Qlcbkq-yd-lT"
      },
      "source": [
        "def ls1_m(in_put):\n",
        "    return in_put/in_put\n",
        "def ls2_m(in_put):\n",
        "    return in_put\n",
        "def ls3_m(in_put):\n",
        "    return in_put**2 "
      ],
      "execution_count": null,
      "outputs": []
    },
    {
      "cell_type": "code",
      "metadata": {
        "colab": {
          "base_uri": "https://localhost:8080/"
        },
        "id": "b-bMYA2VeACk",
        "outputId": "60167a8b-d76c-4fbc-c312-710a052baf15"
      },
      "source": [
        "A = np.array([[np.sum(ls1_m(X) **2),np.sum(ls1_m(X) * ls2_m(X)),np.sum(ls1_m(X) * ls3_m(X))],\n",
        "                          [np.sum(ls2_m(X) * ls1_m(X)),np.sum(ls2_m(X) ** 2), np.sum(ls2_m(X) * ls3_m(X))],\n",
        "                          [np.sum(ls3_m(X) * ls1_m(X)) , np.sum(ls3_m(X) * ls2_m(X)),np.sum(ls3_m(X) ** 2)]])\n",
        "A_inv = inv(A)\n",
        "b = np.array([[np.sum(Y * ls1_m(X))],[np.sum(Y* ls2_m(X))],[np.sum(Y * ls3_m(X))]])\n",
        "a_s = np.dot(A_inv,b)\n",
        "a_s"
      ],
      "execution_count": 26,
      "outputs": [
        {
          "output_type": "execute_result",
          "data": {
            "text/plain": [
              "array([[ 8.83369606e+02],\n",
              "       [-1.88603524e+01],\n",
              "       [ 1.00954440e-01]])"
            ]
          },
          "metadata": {},
          "execution_count": 26
        }
      ]
    },
    {
      "cell_type": "code",
      "metadata": {
        "id": "BxDhtSE4njq2"
      },
      "source": [
        "## Using statsmodel"
      ],
      "execution_count": null,
      "outputs": []
    },
    {
      "cell_type": "code",
      "metadata": {
        "colab": {
          "base_uri": "https://localhost:8080/"
        },
        "id": "t4qRu-Kklu9L",
        "outputId": "c91289d9-e0d8-46b5-a8e3-68f98bcb601f"
      },
      "source": [
        "import statsmodels.api as sm\n",
        "mod = sm.OLS(Y, X_2).fit()\n",
        "mod.params[::-1]"
      ],
      "execution_count": 27,
      "outputs": [
        {
          "output_type": "stream",
          "name": "stderr",
          "text": [
            "/usr/local/lib/python3.7/dist-packages/statsmodels/tools/_testing.py:19: FutureWarning: pandas.util.testing is deprecated. Use the functions in the public API at pandas.testing instead.\n",
            "  import pandas.util.testing as tm\n"
          ]
        },
        {
          "output_type": "execute_result",
          "data": {
            "text/plain": [
              "array([ 8.83369607e+02, -1.88603524e+01,  1.00954440e-01])"
            ]
          },
          "metadata": {},
          "execution_count": 27
        }
      ]
    },
    {
      "cell_type": "code",
      "metadata": {
        "id": "ioSTdQkYnvTm"
      },
      "source": [
        "## Using numpy linalg.lstsq"
      ],
      "execution_count": null,
      "outputs": []
    },
    {
      "cell_type": "code",
      "metadata": {
        "colab": {
          "base_uri": "https://localhost:8080/"
        },
        "id": "LNPyT1H3nuyG",
        "outputId": "fcf1af66-6b6b-4b0b-f070-82f51ef89dab"
      },
      "source": [
        "np.linalg.lstsq(X_2,Y,rcond = None)[0][::-1]"
      ],
      "execution_count": 28,
      "outputs": [
        {
          "output_type": "execute_result",
          "data": {
            "text/plain": [
              "array([ 8.83369607e+02, -1.88603524e+01,  1.00954440e-01])"
            ]
          },
          "metadata": {},
          "execution_count": 28
        }
      ]
    },
    {
      "cell_type": "code",
      "metadata": {
        "id": "yJhd0tYcnmaQ"
      },
      "source": [
        "## Using sklearn(Not working)"
      ],
      "execution_count": null,
      "outputs": []
    },
    {
      "cell_type": "code",
      "metadata": {
        "colab": {
          "base_uri": "https://localhost:8080/"
        },
        "id": "dzYUj2L4nguq",
        "outputId": "998b54cf-29ec-45bc-ea02-41cdd049c387"
      },
      "source": [
        "from sklearn.linear_model import LinearRegression\n",
        "model = LinearRegression().fit(X_2,Y)\n",
        "model.coef_[::-1]"
      ],
      "execution_count": 29,
      "outputs": [
        {
          "output_type": "execute_result",
          "data": {
            "text/plain": [
              "array([  0.        , -18.86035239,   0.10095444])"
            ]
          },
          "metadata": {},
          "execution_count": 29
        }
      ]
    },
    {
      "cell_type": "code",
      "metadata": {
        "id": "YiPnNZtIoGPc"
      },
      "source": [
        "## Using Jax linalg lstsq(Not working)"
      ],
      "execution_count": null,
      "outputs": []
    },
    {
      "cell_type": "code",
      "metadata": {
        "id": "YYX3Okvkc8Xe"
      },
      "source": [
        "Y_jax = jnp.array([0,4.1759,6.7863,6.9345])\n",
        "X_jax = jnp.array([92.8,96.34,89.37,86.12])\n",
        "X_2_jax = jnp.c_[X_jax**2,X_jax,np.ones_like(X)]"
      ],
      "execution_count": 30,
      "outputs": []
    },
    {
      "cell_type": "code",
      "metadata": {
        "colab": {
          "base_uri": "https://localhost:8080/"
        },
        "id": "W3VjPmRPdxKT",
        "outputId": "8bc124aa-05c6-4ddd-d399-36d3aa364fb4"
      },
      "source": [
        "jnp.linalg.lstsq(X_2,Y,rcond = -1)[0][::-1]"
      ],
      "execution_count": 32,
      "outputs": [
        {
          "output_type": "execute_result",
          "data": {
            "text/plain": [
              "DeviceArray([ 8.8335382e+02, -1.8859987e+01,  1.0095232e-01], dtype=float32)"
            ]
          },
          "metadata": {},
          "execution_count": 32
        }
      ]
    },
    {
      "cell_type": "code",
      "metadata": {
        "colab": {
          "base_uri": "https://localhost:8080/"
        },
        "id": "EdJDvZR7zSEQ",
        "outputId": "859ce1a5-3e25-4184-9d94-01f135ba7f0d"
      },
      "source": [
        "## Using \"Original\" Method (Not Working since not knowing the epsilon assumption)\n",
        "sig = jnp.diag(jnp.array([1]*X_2_jax.shape[0]))\n",
        "beta_temp = jnp.dot(jnp.dot(jnp.dot(np.linalg.inv(jnp.dot(jnp.dot(X_2_jax.transpose(), np.linalg.inv(sig)), X_2_jax)), X_2_jax.transpose()), np.linalg.inv(sig)), Y_jax)\n",
        "print(beta_temp[::-1])"
      ],
      "execution_count": null,
      "outputs": [
        {
          "output_type": "stream",
          "name": "stdout",
          "text": [
            "[ 9.66557617e+02 -2.06943016e+01  1.10961854e-01]\n"
          ]
        }
      ]
    },
    {
      "cell_type": "code",
      "metadata": {
        "id": "yCqSQCl_1-vS"
      },
      "source": [
        "beta_temp = jnp.dot(jnp.dot(jnp.linalg.inv(jnp.dot(X_2_jax.transpose(), X_2_jax)),X_2_jax.transpose()), Y_jax)"
      ],
      "execution_count": null,
      "outputs": []
    },
    {
      "cell_type": "code",
      "metadata": {
        "colab": {
          "base_uri": "https://localhost:8080/"
        },
        "id": "W0mg06Sl2STW",
        "outputId": "bc7877b6-380e-4245-9c08-b89bf650a23a"
      },
      "source": [
        "beta_temp[::-1]"
      ],
      "execution_count": null,
      "outputs": [
        {
          "output_type": "execute_result",
          "data": {
            "text/plain": [
              "DeviceArray([ 9.2939325e+02, -1.9877731e+01,  1.0651436e-01], dtype=float32)"
            ]
          },
          "metadata": {},
          "execution_count": 93
        }
      ]
    },
    {
      "cell_type": "code",
      "metadata": {
        "colab": {
          "base_uri": "https://localhost:8080/"
        },
        "id": "hRZ0pSdT2frF",
        "outputId": "4c678be4-e9e9-49c3-a537-1e8a793ee3c9"
      },
      "source": [
        "mod.params[::-1]"
      ],
      "execution_count": null,
      "outputs": [
        {
          "output_type": "execute_result",
          "data": {
            "text/plain": [
              "array([ 8.83369607e+02, -1.88603524e+01,  1.00954440e-01])"
            ]
          },
          "metadata": {},
          "execution_count": 96
        }
      ]
    },
    {
      "cell_type": "markdown",
      "metadata": {
        "id": "kKCvcnwrzgoh"
      },
      "source": [
        "## Jax Problem"
      ]
    },
    {
      "cell_type": "code",
      "metadata": {
        "colab": {
          "base_uri": "https://localhost:8080/"
        },
        "id": "C8pi2F_NtBBj",
        "outputId": "8af2dc11-7e92-4434-edad-6eeb95ade372"
      },
      "source": [
        "A = np.array([[np.sum(ls1_m(X) **2),np.sum(ls1_m(X) * ls2_m(X)),np.sum(ls1_m(X) * ls3_m(X))],\n",
        "                          [np.sum(ls2_m(X) * ls1_m(X)),np.sum(ls2_m(X) ** 2), np.sum(ls2_m(X) * ls3_m(X))],\n",
        "                          [np.sum(ls3_m(X) * ls1_m(X)) , np.sum(ls3_m(X) * ls2_m(X)),np.sum(ls3_m(X) ** 2)]])\n",
        "print(A)\n",
        "\n",
        "# A_inv = inv(A)\n",
        "# b = np.array([[np.sum(Y * ls1_m(X))],[np.sum(Y* ls2_m(X))],[np.sum(Y * ls3_m(X))]])\n",
        "# a_s = np.dot(A_inv,b)\n",
        "# a_s"
      ],
      "execution_count": null,
      "outputs": [
        {
          "output_type": "stream",
          "name": "stdout",
          "text": [
            "[[4.00000000e+00 3.64630000e+02 3.32968869e+04]\n",
            " [3.64630000e+02 3.32968869e+04 3.04586859e+06]\n",
            " [3.32968869e+04 3.04586859e+06 2.79106974e+08]]\n"
          ]
        }
      ]
    },
    {
      "cell_type": "code",
      "metadata": {
        "colab": {
          "base_uri": "https://localhost:8080/"
        },
        "id": "SVWxgmCHtTPS",
        "outputId": "d1e544b1-a0b9-4fed-c42a-bf928cc342c2"
      },
      "source": [
        "A_jax = jnp.array([[jnp.sum(ls1_m(X_jax) **2),jnp.sum(ls1_m(X_jax) * ls2_m(X_jax)),jnp.sum(ls1_m(X_jax) * ls3_m(X_jax))],\n",
        "                          [jnp.sum(ls2_m(X_jax) * ls1_m(X_jax)),jnp.sum(ls2_m(X_jax) ** 2), jnp.sum(ls2_m(X_jax) * ls3_m(X_jax))],\n",
        "                          [jnp.sum(ls3_m(X_jax) * ls1_m(X_jax)) , jnp.sum(ls3_m(X_jax) * ls2_m(X_jax)),jnp.sum(ls3_m(X_jax) ** 2)]])\n",
        "print(A_jax)"
      ],
      "execution_count": null,
      "outputs": [
        {
          "output_type": "stream",
          "name": "stdout",
          "text": [
            "[[4.0000000e+00 3.6462997e+02 3.3296887e+04]\n",
            " [3.6462997e+02 3.3296887e+04 3.0458688e+06]\n",
            " [3.3296887e+04 3.0458688e+06 2.7910701e+08]]\n"
          ]
        }
      ]
    },
    {
      "cell_type": "code",
      "metadata": {
        "colab": {
          "base_uri": "https://localhost:8080/"
        },
        "id": "6DS5B8MUtgmA",
        "outputId": "95bbf3a8-12ea-4d03-ad99-310cb0063b32"
      },
      "source": [
        "np.linalg.inv(A)  # np.inv and jnp.inv diff"
      ],
      "execution_count": null,
      "outputs": [
        {
          "output_type": "execute_result",
          "data": {
            "text/plain": [
              "array([[ 1.28921818e+05, -2.82923072e+03,  1.54950259e+01],\n",
              "       [-2.82923072e+03,  6.21057370e+01, -3.40232768e-01],\n",
              "       [ 1.54950259e+01, -3.40232768e-01,  1.86440765e-03]])"
            ]
          },
          "metadata": {},
          "execution_count": 84
        }
      ]
    },
    {
      "cell_type": "code",
      "metadata": {
        "colab": {
          "base_uri": "https://localhost:8080/"
        },
        "id": "cZLu-Qmq0UoY",
        "outputId": "1c9dcebb-a5ae-4cce-e8ba-01a4e97ee586"
      },
      "source": [
        "jnp.linalg.inv(jnp.array(A))"
      ],
      "execution_count": null,
      "outputs": [
        {
          "output_type": "execute_result",
          "data": {
            "text/plain": [
              "DeviceArray([[ 1.24507492e+05, -2.73230249e+03,  1.49638767e+01],\n",
              "             [-2.73228784e+03,  5.99771004e+01, -3.28568220e-01],\n",
              "             [ 1.49637165e+01, -3.28566462e-01,  1.80047844e-03]],            dtype=float32)"
            ]
          },
          "metadata": {},
          "execution_count": 85
        }
      ]
    },
    {
      "cell_type": "code",
      "metadata": {
        "colab": {
          "base_uri": "https://localhost:8080/"
        },
        "id": "ldhXYOiG0axZ",
        "outputId": "f1af6acd-42b3-4741-ae4b-6d3238c999fa"
      },
      "source": [
        "# Right Coefs\n",
        "A_inv = inv(A)\n",
        "b = np.array([[np.sum(Y * ls1_m(X))],[np.sum(Y* ls2_m(X))],[np.sum(Y * ls3_m(X))]])\n",
        "a_s = np.dot(A_inv,b)\n",
        "a_s"
      ],
      "execution_count": null,
      "outputs": [
        {
          "output_type": "execute_result",
          "data": {
            "text/plain": [
              "array([[ 8.83064194e+02],\n",
              "       [-1.88536480e+01],\n",
              "       [ 1.00917711e-01]])"
            ]
          },
          "metadata": {},
          "execution_count": 86
        }
      ]
    },
    {
      "cell_type": "code",
      "metadata": {
        "colab": {
          "base_uri": "https://localhost:8080/"
        },
        "id": "4hrmSwh-phe_",
        "outputId": "94894a3c-8b5c-4bfb-bf8f-1a382d911ac8"
      },
      "source": [
        "# Wrong Coefs\n",
        "A_inv_jax = jnp.linalg.inv(A_jax)\n",
        "b_jax = jnp.array([[jnp.sum(Y_jax * ls1_m(X_jax))],[jnp.sum(Y_jax* ls2_m(X_jax))],[jnp.sum(Y_jax * ls3_m(X_jax))]])\n",
        "a_s_jax = jnp.dot(A_inv_jax,b_jax)\n",
        "a_s_jax"
      ],
      "execution_count": null,
      "outputs": [
        {
          "output_type": "execute_result",
          "data": {
            "text/plain": [
              "DeviceArray([[ 8.0387500e+02],\n",
              "             [-1.7121094e+01],\n",
              "             [ 9.1445923e-02]], dtype=float32)"
            ]
          },
          "metadata": {},
          "execution_count": 89
        }
      ]
    }
  ]
}