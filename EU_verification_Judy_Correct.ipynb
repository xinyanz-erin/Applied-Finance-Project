{
  "nbformat": 4,
  "nbformat_minor": 0,
  "metadata": {
    "colab": {
      "name": "BC_EU_verification.ipynb",
      "provenance": [],
      "collapsed_sections": [],
      "include_colab_link": true
    },
    "kernelspec": {
      "name": "python3",
      "display_name": "Python 3"
    },
    "language_info": {
      "name": "python"
    }
  },
  "cells": [
    {
      "cell_type": "markdown",
      "metadata": {
        "id": "view-in-github",
        "colab_type": "text"
      },
      "source": [
        "<a href=\"https://colab.research.google.com/github/xinyanz-erin/Applied-Finance-Project/blob/Pui/EU_verification_Judy_Correct.ipynb\" target=\"_parent\"><img src=\"https://colab.research.google.com/assets/colab-badge.svg\" alt=\"Open In Colab\"/></a>"
      ]
    },
    {
      "cell_type": "code",
      "metadata": {
        "id": "p-6ARcU8CFpJ"
      },
      "source": [
        "import numpy as np"
      ],
      "execution_count": 1,
      "outputs": []
    },
    {
      "cell_type": "code",
      "metadata": {
        "id": "yqoT36aKGJ5G"
      },
      "source": [
        "S0 = np.array([100, 100, 100])\n",
        "K = 110\n",
        "T = 1\n",
        "r = 0\n",
        "cov = np.array([[0.0625,0,0],[0,0.0625,0],[0,0,0.0625]])\n",
        "n_step = 50\n",
        "n_path = 10000"
      ],
      "execution_count": 35,
      "outputs": []
    },
    {
      "cell_type": "markdown",
      "metadata": {
        "id": "fnvMkaFWnKit"
      },
      "source": [
        "# What will work"
      ]
    },
    {
      "cell_type": "code",
      "metadata": {
        "id": "81dT6kVFBTIn"
      },
      "source": [
        "sigma = 0.25\n",
        "def BC(S0, K, B, T, r, sigma, cov, n_step, n_path):\n",
        "  payoff = np.zeros(n_path)\n",
        "  dt = T/n_step\n",
        "  for i in range(n_path):\n",
        "    S = S0\n",
        "    for j in range(n_step):\n",
        "      #random = np.random.multivariate_normal(mean = np.array([0, 0, 0]), cov = cov)\n",
        "      random = np.random.normal(0, 1, 3)  #感覺這裡不太對 這樣變成他們的variance 是1?\n",
        "      S = S * np.exp((r - (1/2)*sigma**2) * dt + np.sqrt(dt) * random * sigma)\n",
        "      S_avg = np.average(S)\n",
        "    payoff[i] = max(np.average(S) - K, 0)\n",
        "  price = np.exp(-r * T) * np.average(payoff)\n",
        "  return price"
      ],
      "execution_count": 3,
      "outputs": []
    },
    {
      "cell_type": "code",
      "metadata": {
        "colab": {
          "base_uri": "https://localhost:8080/"
        },
        "id": "-uK2qgtSoATC",
        "outputId": "a03d1259-f5d6-4a15-98bf-d100b865c85f"
      },
      "source": [
        "B=0\n",
        "BC(S0, K, B, T, r, sigma, cov, n_step, n_path)  #但生成出來接近2.多"
      ],
      "execution_count": 9,
      "outputs": [
        {
          "output_type": "execute_result",
          "data": {
            "text/plain": [
              "2.264846449950139"
            ]
          },
          "metadata": {},
          "execution_count": 9
        }
      ]
    },
    {
      "cell_type": "markdown",
      "metadata": {
        "id": "WcLQko8XniTe"
      },
      "source": [
        "# Not Work?"
      ]
    },
    {
      "cell_type": "code",
      "metadata": {
        "id": "bX_QM_5c2zhZ"
      },
      "source": [
        "S0 = np.array([100, 100, 100])\n",
        "K = 110\n",
        "T = 1\n",
        "r = 0\n",
        "cov = np.array([[0.0625,-0.03,-0.03],[-0.03,0.0625,-0.03],[-0.03,-0.03,0.0625]])\n",
        "n_step = 50\n",
        "n_path = 10000"
      ],
      "execution_count": 41,
      "outputs": []
    },
    {
      "cell_type": "code",
      "metadata": {
        "id": "2gl_rUABn2e7"
      },
      "source": [
        "def BC2(S0, K, B, T, r, sigma, cov, n_step, n_path):\n",
        "  payoff = np.zeros(n_path)\n",
        "  dt = T/n_step\n",
        "  for i in range(n_path):\n",
        "    S = S0\n",
        "    #print(S)\n",
        "    random = np.random.multivariate_normal(mean = np.array([0, 0, 0]), cov = cov, size = (1, n_step))  #把random提上來一層\n",
        "    #print(random)\n",
        "    #print(random)\n",
        "    for j in range(n_step):\n",
        "      random_step = random[0,j,:]\n",
        "      #print(random_step)\n",
        "      #print(random_step)\n",
        "      sigma = cov[0,0] ** 0.5\n",
        "      S = S * np.exp((r - (1/2)*sigma**2) * dt + np.sqrt(dt) * random_step)\n",
        "      #print(S)\n",
        "      S_avg = np.average(S)\n",
        "      #print(S_avg)\n",
        "    payoff[i] = max(np.average(S) - K, 0)\n",
        "  price = np.exp(-r * T) * np.average(payoff)\n",
        "  return price"
      ],
      "execution_count": 39,
      "outputs": []
    },
    {
      "cell_type": "code",
      "metadata": {
        "id": "cZ89O8r7HAeB",
        "colab": {
          "base_uri": "https://localhost:8080/"
        },
        "outputId": "04a71bea-c82d-46fe-aad2-57c64041ec8d"
      },
      "source": [
        "BC2(S0, K, B, T, r, sigma, cov, n_step, n_path)   #變成超級小????"
      ],
      "execution_count": 42,
      "outputs": [
        {
          "output_type": "execute_result",
          "data": {
            "text/plain": [
              "0.07518703460674823"
            ]
          },
          "metadata": {},
          "execution_count": 42
        }
      ]
    },
    {
      "cell_type": "markdown",
      "metadata": {
        "id": "yi8KQkSmjxGs"
      },
      "source": [
        "# Original"
      ]
    },
    {
      "cell_type": "code",
      "metadata": {
        "id": "pbhggXwhjwPy"
      },
      "source": [
        "S0 = np.array([100, 100, 100])\n",
        "K = 110\n",
        "B = 80\n",
        "T = 1\n",
        "r = 0\n",
        "sigma = 0.25\n",
        "cov = np.identity(3)\n",
        "n_step = 100\n",
        "n_path = 5000"
      ],
      "execution_count": null,
      "outputs": []
    },
    {
      "cell_type": "code",
      "metadata": {
        "id": "ebnFqAxUj2Zg"
      },
      "source": [
        "def BC(S0, K, B, T, r, sigma, cov, n_step, n_path):\n",
        "  payoff = np.zeros(n_path)\n",
        "  dt = T/n_step\n",
        "  for i in range(n_path):\n",
        "    S = S0\n",
        "    for j in range(n_step):\n",
        "      # random = np.random.multivariate_normal(mean = np.array([0, 0, 0]), cov = cov)\n",
        "      random = np.random.normal(0, 1, 3)\n",
        "\n",
        "      S = S * np.exp((r - (1/2)*sigma**2) * dt + np.sqrt(dt) * random * sigma)\n",
        "      S_avg = np.average(S)\n",
        "    payoff[i] = max(np.average(S) - K, 0)\n",
        "    # payoff[i] = max(np.average(S)-K,0)\n",
        "    # payoff[i] = max(S[0]-K, 0)\n",
        "\n",
        "  price = np.exp(-r * T) * np.average(payoff)\n",
        "  return price"
      ],
      "execution_count": null,
      "outputs": []
    },
    {
      "cell_type": "code",
      "metadata": {
        "colab": {
          "base_uri": "https://localhost:8080/"
        },
        "id": "pOtnnl19j42s",
        "outputId": "51d85f4a-78f4-4005-9f5e-6010fddef894"
      },
      "source": [
        "BC(S0, K, B, T, r, sigma, cov, n_step, n_path)"
      ],
      "execution_count": null,
      "outputs": [
        {
          "output_type": "execute_result",
          "data": {
            "text/plain": [
              "2.2254919135919757"
            ]
          },
          "metadata": {},
          "execution_count": 47
        }
      ]
    }
  ]
}