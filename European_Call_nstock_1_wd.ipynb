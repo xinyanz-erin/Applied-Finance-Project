{
  "nbformat": 4,
  "nbformat_minor": 0,
  "metadata": {
    "kernelspec": {
      "display_name": "Python 3",
      "language": "python",
      "name": "python3"
    },
    "language_info": {
      "codemirror_mode": {
        "name": "ipython",
        "version": 3
      },
      "file_extension": ".py",
      "mimetype": "text/x-python",
      "name": "python",
      "nbconvert_exporter": "python",
      "pygments_lexer": "ipython3",
      "version": "3.6.9"
    },
    "colab": {
      "name": "European_Call_nstock_auto.ipynb",
      "provenance": [],
      "collapsed_sections": [
        "NwN6aLFDnwiy",
        "JIa4c_aHz15a",
        "u2_89jOknwjH",
        "rXT4Bg0wdL7l"
      ],
      "include_colab_link": true
    },
    "accelerator": "GPU"
  },
  "cells": [
    {
      "cell_type": "markdown",
      "metadata": {
        "id": "view-in-github",
        "colab_type": "text"
      },
      "source": [
        "<a href=\"https://colab.research.google.com/github/xinyanz-erin/Applied-Finance-Project/blob/Lilian/European_Call_nstock_1_wd.ipynb\" target=\"_parent\"><img src=\"https://colab.research.google.com/assets/colab-badge.svg\" alt=\"Open In Colab\"/></a>"
      ]
    },
    {
      "cell_type": "code",
      "metadata": {
        "id": "9Xk52L4czj5x"
      },
      "source": [
        "nstock = 1"
      ],
      "execution_count": 1,
      "outputs": []
    },
    {
      "cell_type": "code",
      "metadata": {
        "id": "gCR6hhw5Xq_R"
      },
      "source": [
        "import warnings\n",
        "warnings.filterwarnings('ignore')"
      ],
      "execution_count": 2,
      "outputs": []
    },
    {
      "cell_type": "code",
      "metadata": {
        "colab": {
          "base_uri": "https://localhost:8080/"
        },
        "id": "gSxOZk3ls2XQ",
        "outputId": "1c9a7574-5824-4d95-aa15-1d7305b62328"
      },
      "source": [
        "!curl https://colab.chainer.org/install |sh -\n",
        "import cupy"
      ],
      "execution_count": 3,
      "outputs": [
        {
          "output_type": "stream",
          "text": [
            "  % Total    % Received % Xferd  Average Speed   Time    Time     Time  Current\n",
            "                                 Dload  Upload   Total   Spent    Left  Speed\n",
            "\r  0     0    0     0    0     0      0      0 --:--:-- --:--:-- --:--:--     0\r100  1580  100  1580    0     0   8540      0 --:--:-- --:--:-- --:--:--  8540\n",
            "+ apt -y -q install cuda-libraries-dev-10-0\n",
            "Reading package lists...\n",
            "Building dependency tree...\n",
            "Reading state information...\n",
            "cuda-libraries-dev-10-0 is already the newest version (10.0.130-1).\n",
            "The following package was automatically installed and is no longer required:\n",
            "  libnvidia-common-460\n",
            "Use 'apt autoremove' to remove it.\n",
            "0 upgraded, 0 newly installed, 0 to remove and 40 not upgraded.\n",
            "+ pip install -q cupy-cuda100  chainer \n",
            "\u001b[K     |████████████████████████████████| 58.9 MB 29 kB/s \n",
            "\u001b[K     |████████████████████████████████| 1.0 MB 43.0 MB/s \n",
            "\u001b[?25h  Building wheel for chainer (setup.py) ... \u001b[?25l\u001b[?25hdone\n",
            "+ set +ex\n",
            "Installation succeeded!\n"
          ],
          "name": "stdout"
        }
      ]
    },
    {
      "cell_type": "markdown",
      "metadata": {
        "id": "NwN6aLFDnwiy"
      },
      "source": [
        "### Deep Learning Barrier Option\n",
        "\n",
        "We used Numba and CuPy in the previous notebook to run Monte Carlo simulation to determine the price of the Asian Barrier option. A Monte Carlo simulation needs millions of paths to get an accurate answer which is computationally intensive. [Ryan et al (2018)](https://arxiv.org/abs/1809.02233) showed that a deep learning model can be trained to value derivatives. The deep learning model is accurate and very fast, capable of producing valuations a million times faster than traditional models. In the this notebook, we will use a fully connected network to learn the pricing mode of the Asian Barrier option. Monte Carlo simulation is used as pricing ground truth for the training. We use the same Asian Barrier Option model as last notebook with parameters listed as following:\n",
        "\n",
        "```\n",
        "T - Maturity (yrs.)\n",
        "S - Spot (usd)\n",
        "K - Strike (usd)\n",
        "sigma - Volatility (per.)\n",
        "r - Risk Free Rate (per.)\n",
        "mu - Stock Drift Rate (per.)\n",
        "B - Barrier (usd)\n",
        "```\n",
        "\n",
        "### Batched Data generation\n",
        "\n",
        "The dataset is an important part of the Deep learning training. We will modify the previous single Asian Barrier Option pricing code to handle a batch of Barrier Option pricing. "
      ]
    },
    {
      "cell_type": "code",
      "metadata": {
        "id": "cHYrh4iYfP-n",
        "cellView": "form"
      },
      "source": [
        "#@title\n",
        "###Test: Judy's new X code\n",
        "#N_STOCKS = 3"
      ],
      "execution_count": null,
      "outputs": []
    },
    {
      "cell_type": "code",
      "metadata": {
        "id": "hy7qGwT0jv4A",
        "cellView": "form"
      },
      "source": [
        "#@title\n",
        "#X = cupy.array([])\n",
        "#for i in range(0,N_STOCKS):\n",
        "  #X =  cupy.concatenate((X,cupy.array([1,1]), cupy.random.rand(3),cupy.array([1])))\n",
        "#X = X.reshape(N_STOCKS,6)\n",
        "#X"
      ],
      "execution_count": null,
      "outputs": []
    },
    {
      "cell_type": "code",
      "metadata": {
        "id": "9OHtAXC8hVae",
        "cellView": "form"
      },
      "source": [
        "#@title\n",
        "#X = X * ((cupy.array([200.0, 0, 200.0, 0.4, 0.2, 0.2] * N_STOCKS, dtype = cupy.float32)).reshape(N_STOCKS, 6))\n",
        "#X"
      ],
      "execution_count": null,
      "outputs": []
    },
    {
      "cell_type": "markdown",
      "metadata": {
        "id": "TY_9g3tbdLiY"
      },
      "source": [
        "### Train(Erin Version)"
      ]
    },
    {
      "cell_type": "code",
      "metadata": {
        "id": "qBxT9Eida-c_",
        "cellView": "form"
      },
      "source": [
        "#@title\n",
        "# ################################# TEST ########################################\n",
        "# %%writefile cupy_dataset.py\n",
        "\n",
        "# import numba\n",
        "# from numba import cuda\n",
        "# import random\n",
        "# import cupy\n",
        "# import numpy as np\n",
        "# import math\n",
        "# import time\n",
        "# import torch\n",
        "# cupy.cuda.set_allocator(None)\n",
        "# from torch.utils.dlpack import from_dlpack\n",
        "\n",
        "# @cuda.jit\n",
        "# def batch_barrier_option(d_s, T, K, B, S0, sigma, mu, r, d_normals, N_STEPS, N_PATHS, N_BATCH):\n",
        "#     # ii - overall thread index\n",
        "#     ii = cuda.threadIdx.x + cuda.blockIdx.x * cuda.blockDim.x\n",
        "#     stride = cuda.gridDim.x * cuda.blockDim.x\n",
        "#     tmp3 = math.sqrt(T/N_STEPS)\n",
        "#     for i in range(ii, N_PATHS * N_BATCH, stride):\n",
        "#         batch_id = i // N_PATHS\n",
        "#         path_id = i % N_PATHS\n",
        "#         tmp1 = mu[batch_id]*T/N_STEPS\n",
        "#         tmp2 = math.exp(-r[batch_id]*T)\n",
        "#         running_average = 0.0\n",
        "#         s_curr = S0[batch_id]\n",
        "#         for n in range(N_STEPS):\n",
        "#             s_curr += tmp1 * s_curr + sigma[batch_id]*s_curr*tmp3*d_normals[path_id + batch_id * N_PATHS + n * N_PATHS * N_BATCH] # stock price\n",
        "#             running_average = running_average + 1.0/(n + 1.0) * (s_curr - running_average) # average of the path\n",
        "#             if i==0 and batch_id == 2:\n",
        "#                 print(s_curr)\n",
        "#             if running_average <= B[batch_id]: # if reach barrier, drop out the path\n",
        "#                 break\n",
        "#         payoff = running_average - K[batch_id] if running_average > K[batch_id] else 0\n",
        "#         d_s[i] = tmp2 * payoff\n",
        "\n",
        "# class NumbaOptionDataSet(object):\n",
        "    \n",
        "#     def __init__(self, max_len=10, number_path = 1000, batch=2, threads=512, seed=15, stocks=3):  # 3 stocks\n",
        "#         self.num = 0\n",
        "#         self.max_length = max_len\n",
        "#         self.N_PATHS = number_path\n",
        "#         self.N_STEPS = 365\n",
        "#         self.N_BATCH = batch\n",
        "#         self.N_STOCKS = stocks\n",
        "#         self.T = np.float32(1.0)\n",
        "#         self.output = cupy.zeros(self.N_STOCKS*self.N_PATHS, dtype=cupy.float32) \n",
        "#         self.number_of_blocks = (self.N_PATHS * self.N_STOCKS - 1) // threads + 1\n",
        "#         self.number_of_threads = threads\n",
        "#         cupy.random.seed(seed)\n",
        "        \n",
        "#     def __len__(self):\n",
        "#         return self.max_length\n",
        "        \n",
        "#     def __iter__(self):\n",
        "#         self.num = 0\n",
        "#         return self\n",
        "    \n",
        "#     def __next__(self):\n",
        "#         if self.num > self.max_length:\n",
        "#             raise StopIteration\n",
        "        \n",
        "#         Y = cupy.zeros(self.N_BATCH, dtype=cupy.float32)\n",
        "#         paras = cupy.zeros((self.N_BATCH, self.N_STOCKS * 6), dtype = cupy.float32)\n",
        "#         for op in range(self.N_BATCH):\n",
        "          \n",
        "#           X = cupy.array([])\n",
        "#           K_rand = cupy.random.rand(1)[0]\n",
        "#           B_rand = cupy.random.rand(1)[0]\n",
        "#           r_rand = cupy.random.rand(1)[0]\n",
        "#           for i in range(0,self.N_STOCKS):\n",
        "#             X =  cupy.concatenate((X,cupy.array([K_rand,B_rand]), cupy.random.rand(3),cupy.array([r_rand]))) #[K,B,S0,sigma,mu,r], K B r are shared\n",
        "#           X = X.reshape(self.N_STOCKS,6)\n",
        "#           X = X * ((cupy.array([200.0, 0.1, 200.0, 0.4, 0.2, 0.2] * self.N_STOCKS, dtype = cupy.float32)).reshape(self.N_STOCKS, 6))\n",
        "#           #X = cupy.random.rand(6 * self.N_STOCKS, dtype=cupy.float32)\n",
        "#           #X = 0.9 + cupy.random.rand(6 * self.N_STOCKS, dtype=cupy.float32)*0.1\n",
        "#           # scale the [0, 1) random numbers to the correct range for each of the option parameters\n",
        "#           #X = (X * cupy.array([200.0, 0.99, 200.0, 0.4, 0.2, 0.2] * self.N_STOCKS, dtype = cupy.float32)).reshape(self.N_STOCKS, 6)\n",
        "\n",
        "#           # make sure the Barrier is smaller than the Strike price\n",
        "#           # X[:, 1] = X[:, 0] * X[:, 1]\n",
        "#           for i in range(self.N_STOCKS):\n",
        "#             paras[op,i*6:(i+1)*6] = X[i,:]\n",
        "\n",
        "#           stocks_randoms_mean = cupy.zeros(self.N_STOCKS, dtype = cupy.float32)\n",
        "#           rho = cupy.random.normal(0, 1, self.N_STOCKS, dtype = cupy.float32)\n",
        "\n",
        "#           #stocks_randoms_cov = cupy.ones((self.N_STOCKS, self.N_STOCKS), dtype = cupy.float32)\n",
        "#           #cupy.fill_diagonal(stocks_randoms_cov, rho)\n",
        "\n",
        "#           #stocks_randoms_cov = (-0.99 + cupy.random.rand(self.N_STOCKS*self.N_STOCKS, dtype=cupy.float32)*2*0.99).reshape(self.N_STOCKS,self.N_STOCKS)\n",
        "#           stocks_randoms_cov = cupy.array([1] * self.N_STOCKS*self.N_STOCKS, dtype = cupy.float32).reshape(self.N_STOCKS,self.N_STOCKS)  #Covariance\n",
        "#           cupy.fill_diagonal(stocks_randoms_cov, 1)\n",
        "\n",
        "#           num_of_randoms_each_stock = self.N_PATHS * self.N_STEPS\n",
        "#           randoms_gpu = cupy.random.multivariate_normal(stocks_randoms_mean, stocks_randoms_cov,\n",
        "#                                                         num_of_randoms_each_stock, dtype=cupy.float32)\n",
        "#           b1_r = randoms_gpu[:,0]\n",
        "#           b2_r = randoms_gpu[:,1]\n",
        "#           randoms = cupy.zeros(self.N_STOCKS * self.N_PATHS * self.N_STEPS, dtype=cupy.float32)\n",
        "#           interval = int((self.N_PATHS * self.N_STEPS * self.N_STOCKS) / self.N_PATHS)\n",
        "#           for i in range(interval):\n",
        "#             if i % 2 == 0:\n",
        "#                 ind = int(i/2)\n",
        "#                 randoms[i*self.N_PATHS:(i+1)*self.N_PATHS] = b1_r[ind:(ind+self.N_PATHS)]\n",
        "#             else:\n",
        "#                 ind = int(i//2)\n",
        "#                 randoms[i*self.N_PATHS:(i+1)*self.N_PATHS] = b2_r[ind:(ind+self.N_PATHS)]\n",
        "\n",
        "#           randoms = cupy.random.normal(0, 1, self.N_STOCKS * self.N_PATHS * self.N_STEPS, dtype=cupy.float32)\n",
        "#           batch_barrier_option[(self.number_of_blocks,), (self.number_of_threads,)](self.output, self.T, X[:, 0], \n",
        "#                                 X[:, 1], X[:, 2], X[:, 3], X[:, 4], X[:, 5], randoms, self.N_STEPS, self.N_PATHS, self.N_STOCKS)\n",
        "          \n",
        "#           o = self.output.reshape(self.N_STOCKS, self.N_PATHS)\n",
        "#           Y[op] = o.mean(axis = 0).mean()\n",
        "\n",
        "#         self.num += 1\n",
        "#         return (from_dlpack(paras.toDlpack()), from_dlpack(Y.toDlpack()))\n",
        "\n",
        "\n",
        "\n",
        "# # ds = NumbaOptionDataSet(10, number_path=100000, batch=3, seed=random.randint(0,100), stocks=5)\n",
        "# # for i in ds:\n",
        "# #     print(i[0])\n",
        "# ################################# TEST ########################################"
      ],
      "execution_count": null,
      "outputs": []
    },
    {
      "cell_type": "markdown",
      "metadata": {
        "id": "s6dZnWTTfbf1"
      },
      "source": [
        "### Train (European Call option)"
      ]
    },
    {
      "cell_type": "code",
      "metadata": {
        "colab": {
          "base_uri": "https://localhost:8080/"
        },
        "id": "CeREuPw0fguQ",
        "outputId": "248e826b-c605-44f4-b07e-fe9be0e453fa"
      },
      "source": [
        "################################# TEST ########################################\n",
        "%%writefile cupy_dataset.py\n",
        "\n",
        "import numba\n",
        "from numba import cuda\n",
        "import random\n",
        "import cupy\n",
        "import numpy as np\n",
        "import math\n",
        "import time\n",
        "import torch\n",
        "cupy.cuda.set_allocator(None)\n",
        "from torch.utils.dlpack import from_dlpack\n",
        "\n",
        "@cuda.jit\n",
        "def European_call_option(d_s, T, K, S0, sigma, mu, r, d_normals, N_STEPS, N_PATHS, N_BATCH):\n",
        "    # ii - overall thread index\n",
        "    ii = cuda.threadIdx.x + cuda.blockIdx.x * cuda.blockDim.x\n",
        "    stride = cuda.gridDim.x * cuda.blockDim.x\n",
        "    #tmp3 = math.sqrt(T/N_STEPS)\n",
        "    for i in range(ii, N_PATHS * N_BATCH, stride):\n",
        "        batch_id = i // N_PATHS\n",
        "        path_id = i % N_PATHS\n",
        "        h = T[batch_id] / N_STEPS\n",
        "        tmp1 = r[batch_id]*T[batch_id]/N_STEPS \n",
        "        tmp2 = math.exp(-r[batch_id]*T[batch_id]) # discount\n",
        "        tmp3 = math.sqrt(T[batch_id]/N_STEPS)\n",
        "        #running_average = 0.0\n",
        "        s_curr = S0[batch_id]\n",
        "        for n in range(N_STEPS):\n",
        "          s_curr += tmp1 * s_curr + sigma[batch_id]*s_curr*tmp3*d_normals[path_id + batch_id * N_PATHS + n * N_PATHS * N_BATCH] # stock price\n",
        "          #s_curr = s_curr * math.exp((r[batch_id] - (1/2)*sigma[batch_id]**2)*h + sigma[batch_id] * tmp3 * d_normals[path_id + batch_id * N_PATHS + n * N_PATHS * N_BATCH])\n",
        "          #running_average = running_average + 1.0/(n + 1.0) * (s_curr - running_average) # average of the path\n",
        "          #if i==0 and batch_id == 2:\n",
        "          #    print(s_curr)\n",
        "          #if running_average <= B[batch_id]: # if reach barrier, drop out the path\n",
        "          #    break\n",
        "        #payoff = running_average - K[batch_id] if running_average > K[batch_id] else 0\n",
        "        #payoff = s_curr - K[batch_id] if s_curr > K[batch_id] else 0\n",
        "        #d_s[i] = tmp2 * payoff\n",
        "        d_s[i] = s_curr\n",
        "\n",
        "class NumbaOptionDataSet(object):\n",
        "    \n",
        "    def __init__(self, max_len=10, number_path = 1000, batch=2, threads=512, seed=15, stocks=3):  # 3 stocks\n",
        "        self.num = 0\n",
        "        self.max_length = max_len\n",
        "        self.N_PATHS = number_path\n",
        "        #self.N_STEPS = 365\n",
        "        self.N_STEPS = 10000\n",
        "        self.N_BATCH = batch\n",
        "        self.N_STOCKS = stocks\n",
        "        #self.T = np.float32(1.0)\n",
        "        self.output = cupy.zeros(self.N_STOCKS*self.N_PATHS, dtype=cupy.float32)\n",
        "        self.number_of_blocks = (self.N_PATHS * self.N_STOCKS - 1) // threads + 1\n",
        "        self.number_of_threads = threads\n",
        "        cupy.random.seed(seed)\n",
        "        \n",
        "    def __len__(self):\n",
        "        return self.max_length\n",
        "        \n",
        "    def __iter__(self):\n",
        "        self.num = 0\n",
        "        return self\n",
        "    \n",
        "    def __next__(self):\n",
        "        if self.num > self.max_length:\n",
        "            raise StopIteration\n",
        "        \n",
        "        Y = cupy.zeros(self.N_BATCH, dtype=cupy.float32)\n",
        "        paras = cupy.zeros((self.N_BATCH, self.N_STOCKS * 6), dtype = cupy.float32)\n",
        "        #paras = cupy.zeros((self.N_BATCH, self.N_STOCKS * 5), dtype = cupy.float32)\n",
        "\n",
        "        for op in range(self.N_BATCH):\n",
        "          \n",
        "          X = cupy.array([])\n",
        "          #T_rand = cupy.random.rand(1)[0]\n",
        "          K_rand = cupy.random.rand(1)\n",
        "          #B_rand = cupy.random.rand(1)[0]\n",
        "          r_rand = cupy.random.rand(1)\n",
        "          for i in range(0, self.N_STOCKS):\n",
        "            #X =  cupy.concatenate((X, cupy.array([K_rand,B_rand]), cupy.random.rand(3), cupy.array([r_rand]))) #[K,B,S0,sigma,mu,r], K B r are shared\n",
        "            X = cupy.concatenate((X, cupy.array([1.0]), K_rand, cupy.random.rand(3), r_rand))\n",
        "          \n",
        "          X = X.reshape(self.N_STOCKS, 6)\n",
        "          #X = X * ((cupy.array([200.0, 0.1, 200.0, 0.4, 0.2, 0.2] * self.N_STOCKS, dtype = cupy.float32)).reshape(self.N_STOCKS, 6))\n",
        "          #[T, K, S0, sigma, mu, r]\n",
        "          X = X * ((cupy.array([1, 150.0, 150.0, 0.4, 0.2, 0.2] * self.N_STOCKS, dtype = cupy.float32)).reshape(self.N_STOCKS, 6))\n",
        "          #X = cupy.random.rand(6 * self.N_STOCKS, dtype=cupy.float32)\n",
        "          #X = 0.9 + cupy.random.rand(6 * self.N_STOCKS, dtype=cupy.float32)*0.1\n",
        "          # scale the [0, 1) random numbers to the correct range for each of the option parameters\n",
        "          #X = (X * cupy.array([200.0, 0.99, 200.0, 0.4, 0.2, 0.2] * self.N_STOCKS, dtype = cupy.float32)).reshape(self.N_STOCKS, 6)\n",
        "\n",
        "          # make sure the Barrier is smaller than the Strike price\n",
        "          # X[:, 1] = X[:, 0] * X[:, 1]\n",
        "          for i in range(self.N_STOCKS):\n",
        "            paras[op,i*6:(i+1)*6] = X[i,:]\n",
        "            #paras[op, i*5:(i+1)*5] = X[i,:]\n",
        "\n",
        "          stocks_randoms_mean = cupy.zeros(self.N_STOCKS, dtype = cupy.float32)\n",
        "          rho = cupy.random.normal(0, 1, self.N_STOCKS, dtype = cupy.float32)\n",
        "\n",
        "          #stocks_randoms_cov = cupy.ones((self.N_STOCKS, self.N_STOCKS), dtype = cupy.float32)\n",
        "          #cupy.fill_diagonal(stocks_randoms_cov, rho)\n",
        "\n",
        "          #stocks_randoms_cov = (-0.99 + cupy.random.rand(self.N_STOCKS*self.N_STOCKS, dtype=cupy.float32)*2*0.99).reshape(self.N_STOCKS,self.N_STOCKS)\n",
        "          if self.N_STOCKS != 1:\n",
        "            randoms = cupy.random.normal(0, 1, self.N_STOCKS * self.N_PATHS * self.N_STEPS, dtype=cupy.float32)\n",
        "            # stocks_randoms_cov = cupy.array([0] * self.N_STOCKS*self.N_STOCKS, dtype = cupy.float32).reshape(self.N_STOCKS,self.N_STOCKS)  #Covariance\n",
        "            # cupy.fill_diagonal(stocks_randoms_cov, 1)\n",
        "\n",
        "            # num_of_randoms_each_stock = self.N_PATHS * self.N_STEPS\n",
        "            # randoms_gpu = cupy.random.multivariate_normal(stocks_randoms_mean, stocks_randoms_cov,\n",
        "            #                                               num_of_randoms_each_stock, dtype=cupy.float32)\n",
        "            # b1_r = randoms_gpu[:,0]\n",
        "            # b2_r = randoms_gpu[:,1]\n",
        "            # randoms = cupy.zeros(self.N_STOCKS * self.N_PATHS * self.N_STEPS, dtype=cupy.float32)\n",
        "            # interval = int((self.N_PATHS * self.N_STEPS * self.N_STOCKS) / self.N_PATHS)\n",
        "            # for i in range(interval):\n",
        "            #   if i % 2 == 0:\n",
        "            #       ind = int(i/2)\n",
        "            #       randoms[i*self.N_PATHS:(i+1)*self.N_PATHS] = b1_r[ind:(ind+self.N_PATHS)]\n",
        "            #   else:\n",
        "            #       ind = int(i//2)\n",
        "            #       randoms[i*self.N_PATHS:(i+1)*self.N_PATHS] = b2_r[ind:(ind+self.N_PATHS)]\n",
        "          if self.N_STOCKS == 1:\n",
        "            randoms = cupy.random.normal(0, 1, self.N_STOCKS * self.N_PATHS * self.N_STEPS, dtype=cupy.float32)\n",
        "          \n",
        "          European_call_option[(self.number_of_blocks,), (self.number_of_threads,)](self.output, X[:, 0], \n",
        "                                X[:, 1], X[:, 2], X[:, 3], X[:, 4], X[:, 5], randoms, self.N_STEPS, self.N_PATHS, self.N_STOCKS)\n",
        "          \n",
        "          o = self.output.reshape(self.N_STOCKS, self.N_PATHS) # this contains prices for each stock for each path at time T\n",
        "          K = K_rand * 150\n",
        "          r = r_rand * 0.2\n",
        "          o = o.mean(axis = 0) # average across stocks end prices\n",
        "          payoff = np.maximum(o - K, 0) # compute payoff\n",
        "          payoff = payoff * np.exp(-r*1) # T=1, discount\n",
        "          Y[op] = payoff.mean()\n",
        "\n",
        "        self.num += 1\n",
        "        return (from_dlpack(paras.toDlpack()), from_dlpack(Y.toDlpack()))\n",
        "\n",
        "\n",
        "# ds = NumbaOptionDataSet(1, number_path = 10000, batch = 3, seed = random.randint(0,100), stocks=nstock)\n",
        "# for i in ds:\n",
        "#     print(i)\n",
        "################################# TEST ########################################"
      ],
      "execution_count": 4,
      "outputs": [
        {
          "output_type": "stream",
          "text": [
            "Writing cupy_dataset.py\n"
          ],
          "name": "stdout"
        }
      ]
    },
    {
      "cell_type": "markdown",
      "metadata": {
        "id": "JIa4c_aHz15a"
      },
      "source": [
        "### For verification (Monte Carlo for n-stocks basket)"
      ]
    },
    {
      "cell_type": "code",
      "metadata": {
        "id": "4DTuXR1ANZPC"
      },
      "source": [
        "# def test(array):\n",
        "#   S1 = array[2]\n",
        "#   S2 = array[8]\n",
        "#   S3 = array[14]\n",
        "#   sigma1 = array[3]\n",
        "#   sigma2 = array[9]\n",
        "#   sigma3 = array[15]\n",
        "#   T = 1  \n",
        "#   K = array[1]\n",
        "#   r = array[5]\n",
        "\n",
        "#   dt = 1/1000\n",
        "#   N = round(T/dt)\n",
        "#   t = np.linspace(0, T, N)\n",
        "\n",
        "#   out = []\n",
        "\n",
        "#   for i in range(10000):\n",
        "#     W1 = np.random.standard_normal(size = N)\n",
        "#     W1 = np.cumsum(W1) * np.sqrt(dt)\n",
        "#     W2 = np.random.standard_normal(size = N)\n",
        "#     W2 = np.cumsum(W2) * np.sqrt(dt)\n",
        "#     W3 = np.random.standard_normal(size = N)\n",
        "#     W3 = np.cumsum(W3) * np.sqrt(dt)\n",
        "\n",
        "#     # W = np.random.standard_normal(size = N)\n",
        "#     # W = np.cumsum(W) * np.sqrt(dt)\n",
        "    \n",
        "#     P1_T = (S1 * np.exp((r - 0.5*sigma1**2) *t + sigma1 * W1))[-1]\n",
        "#     P2_T = (S2 * np.exp((r - 0.5*sigma2**2) *t + sigma2 * W2))[-1]\n",
        "#     P3_T = (S3 * np.exp((r - 0.5*sigma3**2) *t + sigma3 * W3))[-1]\n",
        "#     payoff = (P1_T+P2_T+P3_T)/3 - K if (P1_T+P2_T+P3_T)/3 > K else 0\n",
        "#     out.append(payoff * np.exp(-r*T))\n",
        "  \n",
        "#   return(np.array(out).mean())\n",
        "\n",
        "# print(test(np.array([1.0000e+00, 5.8549e+00, 3.6871e+01, 2.6866e-01, 1.9026e-01, 1.8305e-01,\n",
        "#          1.0000e+00, 5.8549e+00, 4.1110e+00, 2.3714e-01, 5.9547e-02, 1.8305e-01,\n",
        "#          1.0000e+00, 5.8549e+00, 1.6189e+01, 7.3936e-02, 1.1713e-01, 1.8305e-01])))\n",
        "# print(test(np.array([1.0000e+00, 1.1296e+02, 7.4318e+01, 2.0409e-01, 1.9133e-01, 5.3904e-02,\n",
        "#          1.0000e+00, 1.1296e+02, 5.3453e+01, 4.8439e-02, 5.8557e-02, 5.3904e-02,\n",
        "#          1.0000e+00, 1.1296e+02, 3.8721e+01, 2.0259e-01, 6.0423e-02, 5.3904e-02])))\n",
        "# print(test(np.array([1.0000e+00, 3.2307e+01, 3.8874e+01, 2.5820e-01, 1.9522e-01, 8.6353e-02,\n",
        "#          1.0000e+00, 3.2307e+01, 3.6077e+01, 3.7123e-01, 1.8810e-01, 8.6353e-02,\n",
        "#          1.0000e+00, 3.2307e+01, 6.9274e+01, 2.4100e-01, 1.9839e-01, 8.6353e-02])))\n",
        "# print(test(np.array([1.0000e+00, 2.4764e+01, 6.6956e+01, 2.0769e-01, 9.8127e-02, 1.7302e-01,\n",
        "#          1.0000e+00, 2.4764e+01, 3.6483e+01, 8.9075e-02, 1.9375e-01, 1.7302e-01,\n",
        "#          1.0000e+00, 2.4764e+01, 9.4748e+01, 2.6420e-01, 1.2015e-01, 1.7302e-01])))\n",
        "# print(test(np.array([1.0000e+00, 8.4591e+01, 1.2730e+02, 2.8949e-02, 1.0954e-01, 1.3706e-01,\n",
        "#          1.0000e+00, 8.4591e+01, 1.2859e+02, 1.5262e-01, 1.4064e-03, 1.3706e-01,\n",
        "#          1.0000e+00, 8.4591e+01, 4.6679e+01, 2.6688e-01, 1.5895e-01, 1.3706e-01])))\n",
        "# print(test(np.array([1.0000e+00, 6.8433e+01, 3.5593e+01, 6.5870e-02, 6.8068e-02, 1.3578e-02,\n",
        "#          1.0000e+00, 6.8433e+01, 2.3864e+01, 9.5815e-02, 1.6075e-01, 1.3578e-02,\n",
        "#          1.0000e+00, 6.8433e+01, 1.1863e+02, 3.0400e-01, 5.6958e-02, 1.3578e-02])))"
      ],
      "execution_count": null,
      "outputs": []
    },
    {
      "cell_type": "code",
      "metadata": {
        "id": "Bqx6hNuucM5U"
      },
      "source": [
        "# array = np.array([1.0000e+00, 8.3754e+01, 1.2787e+02, 2.7420e-01, 1.2507e-01, 1.7700e-01,\n",
        "#          1.0000e+00, 8.3754e+01, 4.0869e+01, 3.3302e-01, 1.7439e-01, 1.7700e-01,\n",
        "#          1.0000e+00, 8.3754e+01, 1.1031e+02, 3.5945e-01, 1.5382e-01, 1.7700e-01])\n",
        "\n",
        "# S1 = array[2]\n",
        "# S2 = array[8]\n",
        "# S3 = array[14]\n",
        "# sigma1 = array[3]\n",
        "# sigma2 = array[9]\n",
        "# sigma3 = array[15]\n",
        "# T = 1  \n",
        "# K = array[1]\n",
        "# r = array[5]\n",
        "\n",
        "# dt = 1/100\n",
        "# N = round(T/dt)\n",
        "# t = np.linspace(0, T, N)\n",
        "\n",
        "# out = []\n",
        "\n",
        "# #for i in range(1000):\n",
        "# W = np.random.standard_normal(size = N)\n",
        "# W = np.cumsum(W) * np.sqrt(dt)\n",
        "# P1_T = (S1 * np.exp((r - 0.5*sigma1**2) *t + sigma1 * W))\n",
        "# P2_T = (S2 * np.exp((r - 0.5*sigma2**2) *t + sigma2 * W))[-1]\n",
        "# P3_T = (S3 * np.exp((r - 0.5*sigma3**2) *t + sigma3 * W))[-1]\n",
        "# #ayoff = (P1_T+P2_T+P3_T)/3 - K if (P1_T+P2_T+P3_T)/3 > K else 0\n",
        "# #out.append(payoff * np.exp(-r*T))\n",
        "\n",
        "# #return(np.array(out).mean())\n",
        "# #P1_T\n",
        "# import matplotlib.pyplot as plt\n",
        "# plt.plot(t, P1_T)\n",
        "# plt.show()"
      ],
      "execution_count": null,
      "outputs": []
    },
    {
      "cell_type": "code",
      "metadata": {
        "id": "8tpLw9WDhx8b"
      },
      "source": [
        "# stocks_randoms_cov = cupy.array([0.99999] * 3 * 3, dtype = cupy.float32).reshape(3,3)  #Covariance\n",
        "# cupy.fill_diagonal(stocks_randoms_cov, 1)\n",
        "\n",
        "# stocks_randoms_mean = cupy.zeros(3, dtype = cupy.float32)\n",
        "\n",
        "# num_of_randoms_each_stock = 2 * 3\n",
        "# randoms_gpu = cupy.random.multivariate_normal(stocks_randoms_mean, stocks_randoms_cov,\n",
        "#                                               num_of_randoms_each_stock, dtype=cupy.float32)\n",
        "# randoms_gpu"
      ],
      "execution_count": null,
      "outputs": []
    },
    {
      "cell_type": "markdown",
      "metadata": {
        "id": "u2_89jOknwjH"
      },
      "source": [
        "### Model\n",
        "To map the option parameters to price, we use 6 layers of fully connected neural network with hidden dimension 512 as inspired by [this paper](https://arxiv.org/abs/1809.02233). Writing this DL price model into a file `model.py`:-"
      ]
    },
    {
      "cell_type": "markdown",
      "metadata": {
        "id": "NMHqzJycx8XH"
      },
      "source": [
        "### Modified Model"
      ]
    },
    {
      "cell_type": "code",
      "metadata": {
        "id": "ZTn7iJQryAIH",
        "colab": {
          "base_uri": "https://localhost:8080/"
        },
        "outputId": "966ba6a7-ba5f-4e7d-80b4-6e6f72365e6b"
      },
      "source": [
        "%%writefile model.py\n",
        "import torch.nn as nn\n",
        "import torch.nn.functional as F\n",
        "import torch\n",
        "import numpy as np\n",
        "\n",
        "\n",
        "class Net(nn.Module):\n",
        "\n",
        "    def __init__(self, hidden=1024, nstock=3):\n",
        "        super(Net, self).__init__()\n",
        "        self.nstock = nstock\n",
        "        self.fc1 = nn.Linear(6 * self.nstock, hidden)\n",
        "        self.fc2 = nn.Linear(hidden, hidden)\n",
        "        self.fc3 = nn.Linear(hidden, hidden)\n",
        "        self.fc4 = nn.Linear(hidden, hidden)\n",
        "        self.fc5 = nn.Linear(hidden, hidden)\n",
        "        self.fc6 = nn.Linear(hidden, 1)\n",
        "        self.register_buffer('norm',\n",
        "                             torch.tensor([1, 150.0, 150.0, 0.4, 0.2, 0.2] * self.nstock)) # don't use numpy here - will give error later\n",
        "\n",
        "    def forward(self, x):\n",
        "        # normalize the parameter to range [0-1] \n",
        "        x = x / self.norm\n",
        "        x = F.elu(self.fc1(x))\n",
        "        x = F.elu(self.fc2(x))\n",
        "        x = F.elu(self.fc3(x))\n",
        "        x = F.elu(self.fc4(x))\n",
        "        x = F.elu(self.fc5(x))\n",
        "        return self.fc6(x)"
      ],
      "execution_count": 5,
      "outputs": [
        {
          "output_type": "stream",
          "text": [
            "Writing model.py\n"
          ],
          "name": "stdout"
        }
      ]
    },
    {
      "cell_type": "markdown",
      "metadata": {
        "id": "hSPRFqyznwjI"
      },
      "source": [
        "As we know the random parameters' scaling factors, the input parameters are first scaled back to a range of (0-1) by dividing them by (200.0, 198.0, 200.0, 0.4, 0.2, 0.2). Then they are projected 5 times to the hidden dimension of 512 after the `ELu` activation function. `ELu` is chosen because we need to compute the second order differentiation of the parameters. If use ReLu, the second order differentiation will always be zero. The last layer is a linear layer that maps the hidden dimension to the predicted option price. "
      ]
    },
    {
      "cell_type": "markdown",
      "metadata": {
        "id": "AM8J2liPnwjJ"
      },
      "source": [
        "For training, we use [Ignite](https://github.com/pytorch/ignite) which is a high-level library to train neural networks in PyTorch. We use `MSELoss` as the loss function, `Adam` as the optimizer and `CosineAnnealingScheduler` as the learning rate scheduler. The following code is feeding the random option data to the pricing model to train it."
      ]
    },
    {
      "cell_type": "markdown",
      "metadata": {
        "id": "yACi4ge13_rd"
      },
      "source": [
        "### Train"
      ]
    },
    {
      "cell_type": "code",
      "metadata": {
        "id": "1TyZT8_AH35M",
        "colab": {
          "base_uri": "https://localhost:8080/"
        },
        "outputId": "94a360d0-b320-437a-da2e-5be83237094f"
      },
      "source": [
        "!pip install pytorch-ignite"
      ],
      "execution_count": 6,
      "outputs": [
        {
          "output_type": "stream",
          "text": [
            "Collecting pytorch-ignite\n",
            "  Downloading pytorch_ignite-0.4.6-py3-none-any.whl (232 kB)\n",
            "\u001b[?25l\r\u001b[K     |█▍                              | 10 kB 31.4 MB/s eta 0:00:01\r\u001b[K     |██▉                             | 20 kB 23.4 MB/s eta 0:00:01\r\u001b[K     |████▎                           | 30 kB 17.7 MB/s eta 0:00:01\r\u001b[K     |█████▋                          | 40 kB 15.7 MB/s eta 0:00:01\r\u001b[K     |███████                         | 51 kB 8.1 MB/s eta 0:00:01\r\u001b[K     |████████▌                       | 61 kB 9.4 MB/s eta 0:00:01\r\u001b[K     |█████████▉                      | 71 kB 8.9 MB/s eta 0:00:01\r\u001b[K     |███████████▎                    | 81 kB 9.9 MB/s eta 0:00:01\r\u001b[K     |████████████▊                   | 92 kB 7.8 MB/s eta 0:00:01\r\u001b[K     |██████████████                  | 102 kB 8.1 MB/s eta 0:00:01\r\u001b[K     |███████████████▌                | 112 kB 8.1 MB/s eta 0:00:01\r\u001b[K     |█████████████████               | 122 kB 8.1 MB/s eta 0:00:01\r\u001b[K     |██████████████████▎             | 133 kB 8.1 MB/s eta 0:00:01\r\u001b[K     |███████████████████▊            | 143 kB 8.1 MB/s eta 0:00:01\r\u001b[K     |█████████████████████▏          | 153 kB 8.1 MB/s eta 0:00:01\r\u001b[K     |██████████████████████▌         | 163 kB 8.1 MB/s eta 0:00:01\r\u001b[K     |████████████████████████        | 174 kB 8.1 MB/s eta 0:00:01\r\u001b[K     |█████████████████████████▍      | 184 kB 8.1 MB/s eta 0:00:01\r\u001b[K     |██████████████████████████▊     | 194 kB 8.1 MB/s eta 0:00:01\r\u001b[K     |████████████████████████████▏   | 204 kB 8.1 MB/s eta 0:00:01\r\u001b[K     |█████████████████████████████▋  | 215 kB 8.1 MB/s eta 0:00:01\r\u001b[K     |███████████████████████████████ | 225 kB 8.1 MB/s eta 0:00:01\r\u001b[K     |████████████████████████████████| 232 kB 8.1 MB/s \n",
            "\u001b[?25hRequirement already satisfied: torch<2,>=1.3 in /usr/local/lib/python3.7/dist-packages (from pytorch-ignite) (1.9.0+cu102)\n",
            "Requirement already satisfied: typing-extensions in /usr/local/lib/python3.7/dist-packages (from torch<2,>=1.3->pytorch-ignite) (3.7.4.3)\n",
            "Installing collected packages: pytorch-ignite\n",
            "Successfully installed pytorch-ignite-0.4.6\n"
          ],
          "name": "stdout"
        }
      ]
    },
    {
      "cell_type": "code",
      "metadata": {
        "id": "G4Ej82G8nwjJ",
        "colab": {
          "base_uri": "https://localhost:8080/",
          "height": 1000
        },
        "outputId": "2b392699-a333-47e4-83ee-9419614a6aba"
      },
      "source": [
        "from ignite.engine import Engine, Events\n",
        "from ignite.handlers import Timer\n",
        "from torch.nn import MSELoss\n",
        "from torch.optim import Adam\n",
        "from ignite.contrib.handlers.param_scheduler import CosineAnnealingScheduler\n",
        "from ignite.handlers import ModelCheckpoint\n",
        "from model import Net\n",
        "from cupy_dataset import NumbaOptionDataSet\n",
        "timer = Timer(average=True)\n",
        "model = Net(nstock = nstock).cuda()\n",
        "loss_fn = MSELoss()\n",
        "optimizer = Adam(model.parameters(), lr=1e-3, weight_decay=1e-4)\n",
        "# dataset = NumbaOptionDataSet(max_len = 10000, number_path = 1024, batch = 4800)\n",
        "# dataset = NumbaOptionDataSet(max_len = 100, number_path = 1024, batch = 32, stocks = 3)\n",
        "dataset = NumbaOptionDataSet(max_len = 100, number_path = 1024, batch = 32, stocks = nstock)\n",
        "\n",
        "\n",
        "def train_update(engine, batch):\n",
        "    model.train()\n",
        "    optimizer.zero_grad()\n",
        "    x = batch[0]\n",
        "    y = batch[1]\n",
        "    y_pred = model(x)\n",
        "    loss = loss_fn(y_pred[:,0], y)\n",
        "    loss.backward()\n",
        "    optimizer.step()\n",
        "    return loss.item()\n",
        "\n",
        "trainer = Engine(train_update)\n",
        "log_interval = 20\n",
        "\n",
        "scheduler = CosineAnnealingScheduler(optimizer, 'lr', 1e-4, 1e-6, len(dataset))\n",
        "trainer.add_event_handler(Events.ITERATION_STARTED, scheduler)\n",
        "timer.attach(trainer,\n",
        "             start=Events.EPOCH_STARTED,\n",
        "             resume=Events.ITERATION_STARTED,\n",
        "             pause=Events.ITERATION_COMPLETED,\n",
        "             step=Events.ITERATION_COMPLETED)    \n",
        "@trainer.on(Events.ITERATION_COMPLETED)\n",
        "def log_training_loss(engine):\n",
        "    iter = (engine.state.iteration - 1) % len(dataset) + 1\n",
        "    if iter % log_interval == 0:\n",
        "        print('loss', engine.state.output, 'average time', timer.value(), 'iter num', iter)\n",
        "        \n",
        "trainer.run(dataset, max_epochs = 100)"
      ],
      "execution_count": 7,
      "outputs": [
        {
          "output_type": "stream",
          "text": [
            "loss 1408.25830078125 average time 0.24733614995000153 iter num 20\n",
            "loss 886.92626953125 average time 0.12566813595000212 iter num 40\n",
            "loss 1348.87158203125 average time 0.08512519565000123 iter num 60\n",
            "loss 360.71710205078125 average time 0.06484088687500034 iter num 80\n",
            "loss 746.5717163085938 average time 0.052654147980001655 iter num 100\n",
            "loss 81.27259063720703 average time 0.02708101219999719 iter num 20\n",
            "loss 15.301836013793945 average time 0.0155010966500015 iter num 40\n",
            "loss 4.513228893280029 average time 0.011643593983333745 iter num 60\n",
            "loss 10.639740943908691 average time 0.009709316037499605 iter num 80\n",
            "loss 9.917985916137695 average time 0.008549500449997255 iter num 100\n",
            "loss 3.27797794342041 average time 0.02714087250000432 iter num 20\n",
            "loss 5.434652805328369 average time 0.015515936625007498 iter num 40\n",
            "loss 8.282973289489746 average time 0.011703135366672276 iter num 60\n",
            "loss 6.252781391143799 average time 0.00977906090000431 iter num 80\n",
            "loss 3.870758533477783 average time 0.008614416540002594 iter num 100\n",
            "loss 3.6071882247924805 average time 0.027168288349997738 iter num 20\n",
            "loss 4.0051727294921875 average time 0.01553138480000058 iter num 40\n",
            "loss 4.290492057800293 average time 0.011670501833332498 iter num 60\n",
            "loss 6.190895080566406 average time 0.009735487062496162 iter num 80\n",
            "loss 4.289935111999512 average time 0.008563769309996588 iter num 100\n",
            "loss 4.440554618835449 average time 0.026981970100007403 iter num 20\n",
            "loss 3.980031967163086 average time 0.015490383575004785 iter num 40\n",
            "loss 4.413902759552002 average time 0.011632161333336437 iter num 60\n",
            "loss 1.47925865650177 average time 0.009698949700000981 iter num 80\n",
            "loss 5.38709831237793 average time 0.008549145350000344 iter num 100\n",
            "loss 4.557842254638672 average time 0.027211466800008566 iter num 20\n",
            "loss 4.3412065505981445 average time 0.015540120700015337 iter num 40\n",
            "loss 4.4577860832214355 average time 0.01169915551667297 iter num 60\n",
            "loss 4.0900983810424805 average time 0.009765445625002655 iter num 80\n",
            "loss 3.6832199096679688 average time 0.008645207490000075 iter num 100\n",
            "loss 4.277101516723633 average time 0.02696666375000518 iter num 20\n",
            "loss 2.41097092628479 average time 0.01546982832499566 iter num 40\n",
            "loss 3.191037893295288 average time 0.01164602709999561 iter num 60\n",
            "loss 3.889796495437622 average time 0.009707828699994536 iter num 80\n",
            "loss 1.6515923738479614 average time 0.00854948360999174 iter num 100\n",
            "loss 2.0894360542297363 average time 0.02691120854998417 iter num 20\n",
            "loss 5.7349443435668945 average time 0.015402829799998585 iter num 40\n",
            "loss 4.570261001586914 average time 0.011663811183332958 iter num 60\n",
            "loss 1.746553659439087 average time 0.009725536837497373 iter num 80\n",
            "loss 1.8780122995376587 average time 0.008555892499997527 iter num 100\n",
            "loss 1.0838375091552734 average time 0.027065056700007518 iter num 20\n",
            "loss 3.2380948066711426 average time 0.015490304425000545 iter num 40\n",
            "loss 4.350271224975586 average time 0.011632699533337624 iter num 60\n",
            "loss 2.2864036560058594 average time 0.009695163287501885 iter num 80\n",
            "loss 3.052611827850342 average time 0.008532849710004484 iter num 100\n",
            "loss 7.477679252624512 average time 0.027262949950011262 iter num 20\n",
            "loss 4.364770889282227 average time 0.01557389245000138 iter num 40\n",
            "loss 3.6213467121124268 average time 0.011670078533332648 iter num 60\n",
            "loss 4.220479965209961 average time 0.009729301674998681 iter num 80\n",
            "loss 2.796128511428833 average time 0.00856082481999806 iter num 100\n",
            "loss 3.7487878799438477 average time 0.027114815349995068 iter num 20\n",
            "loss 3.2454981803894043 average time 0.015496199524997678 iter num 40\n",
            "loss 2.347196102142334 average time 0.011621132983335277 iter num 60\n",
            "loss 1.6159294843673706 average time 0.009690964424999038 iter num 80\n",
            "loss 5.22927713394165 average time 0.008527121169997827 iter num 100\n",
            "loss 1.9361772537231445 average time 0.02697993790000055 iter num 20\n",
            "loss 4.24722957611084 average time 0.015434164149999674 iter num 40\n",
            "loss 2.047492504119873 average time 0.011572360016661303 iter num 60\n",
            "loss 2.8077752590179443 average time 0.009672147912495177 iter num 80\n",
            "loss 0.7753514051437378 average time 0.008535893179996493 iter num 100\n",
            "loss 2.8801989555358887 average time 0.026949470400001018 iter num 20\n",
            "loss 4.781902313232422 average time 0.015408266225006174 iter num 40\n",
            "loss 1.3032892942428589 average time 0.011558431350006988 iter num 60\n",
            "loss 2.290311813354492 average time 0.009642749650006976 iter num 80\n",
            "loss 2.150331974029541 average time 0.008497738430004348 iter num 100\n",
            "loss 1.0164273977279663 average time 0.027086374750012965 iter num 20\n",
            "loss 3.7046303749084473 average time 0.015497370275011236 iter num 40\n",
            "loss 1.5068684816360474 average time 0.011624151500006974 iter num 60\n",
            "loss 1.7741966247558594 average time 0.009710820525002361 iter num 80\n",
            "loss 0.9741683006286621 average time 0.008543057540005066 iter num 100\n",
            "loss 2.6757330894470215 average time 0.027016585349997513 iter num 20\n",
            "loss 0.9357057809829712 average time 0.01543624102500587 iter num 40\n",
            "loss 3.048933506011963 average time 0.011575500616669388 iter num 60\n",
            "loss 2.571781873703003 average time 0.009681751387502402 iter num 80\n",
            "loss 0.9468197822570801 average time 0.008527843930000927 iter num 100\n",
            "loss 2.3347599506378174 average time 0.02702584045000549 iter num 20\n",
            "loss 2.536835193634033 average time 0.015505409225008293 iter num 40\n",
            "loss 2.307541847229004 average time 0.011628017016670355 iter num 60\n",
            "loss 0.7336134910583496 average time 0.009693436162501711 iter num 80\n",
            "loss 0.8150715231895447 average time 0.008533789790004676 iter num 100\n",
            "loss 1.5172042846679688 average time 0.026975907449997293 iter num 20\n",
            "loss 2.6666483879089355 average time 0.015426449474986725 iter num 40\n",
            "loss 0.8105518817901611 average time 0.011579966349989946 iter num 60\n",
            "loss 1.3132127523422241 average time 0.00966792171248727 iter num 80\n",
            "loss 1.2301838397979736 average time 0.008509266679997154 iter num 100\n",
            "loss 1.9105875492095947 average time 0.027051923799990617 iter num 20\n",
            "loss 1.3354454040527344 average time 0.01546765549999236 iter num 40\n",
            "loss 0.9320598840713501 average time 0.011602433266655983 iter num 60\n",
            "loss 1.5409971475601196 average time 0.009672059699991565 iter num 80\n",
            "loss 1.2892587184906006 average time 0.008506147739988137 iter num 100\n",
            "loss 0.9686462879180908 average time 0.026789733449982124 iter num 20\n",
            "loss 2.896428108215332 average time 0.01533202162499947 iter num 40\n",
            "loss 1.8453848361968994 average time 0.011539591783328735 iter num 60\n",
            "loss 1.0737942457199097 average time 0.009623530075000986 iter num 80\n",
            "loss 1.183026671409607 average time 0.00847371155000701 iter num 100\n",
            "loss 0.8969295620918274 average time 0.027177312649985196 iter num 20\n",
            "loss 1.288931965827942 average time 0.015607315900001594 iter num 40\n",
            "loss 1.3892160654067993 average time 0.011717141633327325 iter num 60\n",
            "loss 0.9171934127807617 average time 0.009752662237494292 iter num 80\n",
            "loss 1.386936902999878 average time 0.00861229448999893 iter num 100\n",
            "loss 3.549797534942627 average time 0.02708556839999119 iter num 20\n",
            "loss 3.186972141265869 average time 0.015494866725009614 iter num 40\n",
            "loss 1.1559441089630127 average time 0.011616182966679389 iter num 60\n",
            "loss 1.23615562915802 average time 0.00967659022501266 iter num 80\n",
            "loss 1.3569855690002441 average time 0.008523157780014117 iter num 100\n",
            "loss 1.5503236055374146 average time 0.0270978436000064 iter num 20\n",
            "loss 4.230281829833984 average time 0.01548774829999502 iter num 40\n",
            "loss 1.498426914215088 average time 0.011640451749989704 iter num 60\n",
            "loss 0.958683967590332 average time 0.009717732062492246 iter num 80\n",
            "loss 0.9761022329330444 average time 0.00854805314999112 iter num 100\n",
            "loss 1.3224496841430664 average time 0.02709205329999804 iter num 20\n",
            "loss 1.695585012435913 average time 0.015472629799984362 iter num 40\n",
            "loss 1.7178030014038086 average time 0.011598705933333045 iter num 60\n",
            "loss 1.4577499628067017 average time 0.009667593162504318 iter num 80\n",
            "loss 0.8986884951591492 average time 0.008514179769997554 iter num 100\n",
            "loss 1.328806757926941 average time 0.026938534399994295 iter num 20\n",
            "loss 1.3115310668945312 average time 0.015431260424986704 iter num 40\n",
            "loss 2.0753796100616455 average time 0.011576754699994278 iter num 60\n",
            "loss 1.2393443584442139 average time 0.009646449962488646 iter num 80\n",
            "loss 1.0746670961380005 average time 0.0085063803099888 iter num 100\n",
            "loss 2.1560616493225098 average time 0.02713190720002103 iter num 20\n",
            "loss 1.121561050415039 average time 0.015497633500012853 iter num 40\n",
            "loss 2.289987802505493 average time 0.011629889716664366 iter num 60\n",
            "loss 1.2298529148101807 average time 0.00968455389999292 iter num 80\n",
            "loss 0.9080536365509033 average time 0.00852006048999101 iter num 100\n",
            "loss 1.2351319789886475 average time 0.02709446445002186 iter num 20\n",
            "loss 0.7565935850143433 average time 0.015529108750007481 iter num 40\n",
            "loss 1.267225742340088 average time 0.011665255383339476 iter num 60\n",
            "loss 1.9558424949645996 average time 0.009746707087504091 iter num 80\n",
            "loss 0.706761360168457 average time 0.008572187660001873 iter num 100\n",
            "loss 1.1973910331726074 average time 0.027157416700026714 iter num 20\n",
            "loss 1.851601481437683 average time 0.015585680575009064 iter num 40\n",
            "loss 1.2339410781860352 average time 0.011694159900010466 iter num 60\n",
            "loss 0.8531617522239685 average time 0.009771671362497614 iter num 80\n",
            "loss 1.4476258754730225 average time 0.008594083639995915 iter num 100\n",
            "loss 1.1731754541397095 average time 0.02702429339998389 iter num 20\n",
            "loss 0.591102123260498 average time 0.015453928399989537 iter num 40\n",
            "loss 0.4280814230442047 average time 0.011592582566652253 iter num 60\n",
            "loss 1.2883102893829346 average time 0.00969614222499331 iter num 80\n",
            "loss 0.3439858555793762 average time 0.008551325929993255 iter num 100\n",
            "loss 3.300874710083008 average time 0.027119816250024086 iter num 20\n",
            "loss 1.061060905456543 average time 0.015602929150026057 iter num 40\n",
            "loss 1.2626476287841797 average time 0.011688057750014498 iter num 60\n",
            "loss 0.4099927544593811 average time 0.009742825050014402 iter num 80\n",
            "loss 0.566786527633667 average time 0.008568361150012152 iter num 100\n",
            "loss 5.000480651855469 average time 0.027192629000012403 iter num 20\n",
            "loss 0.5406538844108582 average time 0.01557347287500761 iter num 40\n",
            "loss 0.7898812294006348 average time 0.011673132383324021 iter num 60\n",
            "loss 0.807814359664917 average time 0.009719044987488702 iter num 80\n",
            "loss 0.7127131223678589 average time 0.00854616157998862 iter num 100\n",
            "loss 0.5807361602783203 average time 0.027176225949983746 iter num 20\n",
            "loss 1.0635654926300049 average time 0.015520108924994247 iter num 40\n",
            "loss 1.2268215417861938 average time 0.01163099108332517 iter num 60\n",
            "loss 0.31082242727279663 average time 0.009700228287496771 iter num 80\n",
            "loss 0.6713876128196716 average time 0.008553467389997422 iter num 100\n",
            "loss 1.0033332109451294 average time 0.027172777949999727 iter num 20\n",
            "loss 1.1964256763458252 average time 0.015508762075006644 iter num 40\n",
            "loss 0.39259248971939087 average time 0.011640457783323654 iter num 60\n",
            "loss 0.8147809505462646 average time 0.009706845024987842 iter num 80\n",
            "loss 0.4624945819377899 average time 0.008539492949987562 iter num 100\n",
            "loss 2.0507383346557617 average time 0.027123332250005204 iter num 20\n",
            "loss 0.9528743028640747 average time 0.015494629325007735 iter num 40\n",
            "loss 1.234076976776123 average time 0.01164773456665671 iter num 60\n",
            "loss 0.48362746834754944 average time 0.00972306254998614 iter num 80\n",
            "loss 0.39545518159866333 average time 0.008551932719994966 iter num 100\n",
            "loss 0.7296661138534546 average time 0.026988397550007905 iter num 20\n",
            "loss 0.4044688642024994 average time 0.015498002025015011 iter num 40\n",
            "loss 0.3073117136955261 average time 0.011611387783345133 iter num 60\n",
            "loss 0.5464558601379395 average time 0.009670514250009888 iter num 80\n",
            "loss 0.7828014492988586 average time 0.008512815000005957 iter num 100\n",
            "loss 1.176153302192688 average time 0.027105135800002244 iter num 20\n",
            "loss 0.5009124279022217 average time 0.015497069074996261 iter num 40\n",
            "loss 0.7773383855819702 average time 0.011620939900012672 iter num 60\n",
            "loss 0.45820894837379456 average time 0.009674284675011791 iter num 80\n",
            "loss 0.820763111114502 average time 0.008511734550008896 iter num 100\n",
            "loss 9.352710723876953 average time 0.02689607635002176 iter num 20\n",
            "loss 0.5618373155593872 average time 0.015451332625031 iter num 40\n",
            "loss 0.5266414880752563 average time 0.011592733850026586 iter num 60\n",
            "loss 0.18373683094978333 average time 0.009683089787523613 iter num 80\n",
            "loss 0.698249101638794 average time 0.008561477490009111 iter num 100\n",
            "loss 0.6321250200271606 average time 0.02695372995000298 iter num 20\n",
            "loss 1.0251002311706543 average time 0.01540835765001134 iter num 40\n",
            "loss 0.6197197437286377 average time 0.011560066100006832 iter num 60\n",
            "loss 0.6666204929351807 average time 0.009629916150007033 iter num 80\n",
            "loss 1.2112845182418823 average time 0.008469387150000784 iter num 100\n",
            "loss 2.4152331352233887 average time 0.027002945599997476 iter num 20\n",
            "loss 0.6713206768035889 average time 0.015434584375003623 iter num 40\n",
            "loss 0.28787457942962646 average time 0.01158438819999977 iter num 60\n",
            "loss 0.23718440532684326 average time 0.009655271749994653 iter num 80\n",
            "loss 0.29299813508987427 average time 0.008499849919996905 iter num 100\n",
            "loss 1.236799716949463 average time 0.027114252550018137 iter num 20\n",
            "loss 1.0070914030075073 average time 0.015521002350016033 iter num 40\n",
            "loss 0.7322933077812195 average time 0.011675905516680511 iter num 60\n",
            "loss 0.3219044804573059 average time 0.009725961112499704 iter num 80\n",
            "loss 0.3282565176486969 average time 0.008551149510001323 iter num 100\n",
            "loss 0.39555823802948 average time 0.027309514650028177 iter num 20\n",
            "loss 0.44207465648651123 average time 0.015576603274996614 iter num 40\n",
            "loss 1.0098190307617188 average time 0.01169959791666315 iter num 60\n",
            "loss 0.6499519348144531 average time 0.00976254154999765 iter num 80\n",
            "loss 0.24473604559898376 average time 0.008582869439992464 iter num 100\n",
            "loss 0.6721601486206055 average time 0.026908732950005287 iter num 20\n",
            "loss 0.704336941242218 average time 0.01547302392500569 iter num 40\n",
            "loss 0.9309387803077698 average time 0.011598344783313527 iter num 60\n",
            "loss 0.3149280548095703 average time 0.00965822102496645 iter num 80\n",
            "loss 0.4330527186393738 average time 0.008535309579965542 iter num 100\n",
            "loss 0.9666242003440857 average time 0.027018430599969178 iter num 20\n",
            "loss 0.67637038230896 average time 0.015480211299961865 iter num 40\n",
            "loss 0.7786517143249512 average time 0.011603114766656594 iter num 60\n",
            "loss 0.6072067022323608 average time 0.009666596287490847 iter num 80\n",
            "loss 0.44748175144195557 average time 0.008506713480001054 iter num 100\n",
            "loss 0.5470355749130249 average time 0.027005983499998366 iter num 20\n",
            "loss 0.3665892481803894 average time 0.01545183892494606 iter num 40\n",
            "loss 0.3636099100112915 average time 0.011598760483305643 iter num 60\n",
            "loss 0.17330913245677948 average time 0.009682356012467608 iter num 80\n",
            "loss 0.560498833656311 average time 0.008520917709965943 iter num 100\n",
            "loss 0.21997308731079102 average time 0.026999498249870156 iter num 20\n",
            "loss 2.1208181381225586 average time 0.015443684449905959 iter num 40\n",
            "loss 1.0344427824020386 average time 0.01162395223330653 iter num 60\n",
            "loss 0.5956828594207764 average time 0.009717618337464273 iter num 80\n",
            "loss 0.4610990583896637 average time 0.008546276269980809 iter num 100\n",
            "loss 0.6806871891021729 average time 0.027241209149951828 iter num 20\n",
            "loss 0.5220237970352173 average time 0.01558357519998026 iter num 40\n",
            "loss 0.5595065355300903 average time 0.011736930283329153 iter num 60\n",
            "loss 0.5623982548713684 average time 0.009777327050005623 iter num 80\n",
            "loss 0.3809160590171814 average time 0.008633368610016987 iter num 100\n",
            "loss 1.8506191968917847 average time 0.02703027535003457 iter num 20\n",
            "loss 0.5725493431091309 average time 0.015458266925031694 iter num 40\n",
            "loss 0.6431398391723633 average time 0.01159673351668668 iter num 60\n",
            "loss 0.602898120880127 average time 0.009659987487509625 iter num 80\n",
            "loss 0.5938006043434143 average time 0.008523154220010837 iter num 100\n",
            "loss 0.5447123050689697 average time 0.027252189500040915 iter num 20\n",
            "loss 0.6352887749671936 average time 0.015573051500030032 iter num 40\n",
            "loss 0.6495589017868042 average time 0.011689627183341145 iter num 60\n",
            "loss 0.3186681866645813 average time 0.009742824850013676 iter num 80\n",
            "loss 0.42909231781959534 average time 0.008567845130028218 iter num 100\n",
            "loss 0.6768344640731812 average time 0.026976752750010748 iter num 20\n",
            "loss 1.4763846397399902 average time 0.015468915099995683 iter num 40\n",
            "loss 0.9851359128952026 average time 0.011608868299981622 iter num 60\n",
            "loss 0.4401360750198364 average time 0.009739420962483791 iter num 80\n",
            "loss 0.43910521268844604 average time 0.008568670859986013 iter num 100\n",
            "loss 3.355250835418701 average time 0.027244332749978638 iter num 20\n",
            "loss 1.3573803901672363 average time 0.01556714092502034 iter num 40\n",
            "loss 0.3449012339115143 average time 0.011766850750018421 iter num 60\n",
            "loss 0.47076135873794556 average time 0.009796324050012118 iter num 80\n",
            "loss 0.6709303855895996 average time 0.00862440821999371 iter num 100\n",
            "loss 0.35503268241882324 average time 0.027035717200033105 iter num 20\n",
            "loss 0.40003859996795654 average time 0.01546526967505315 iter num 40\n",
            "loss 0.8309954404830933 average time 0.011600002083370479 iter num 60\n",
            "loss 0.4975007474422455 average time 0.009666245874996093 iter num 80\n",
            "loss 0.5357356667518616 average time 0.008523721759997898 iter num 100\n",
            "loss 0.37691977620124817 average time 0.02706280635013627 iter num 20\n",
            "loss 0.3733680248260498 average time 0.0155978371000856 iter num 40\n",
            "loss 0.46793070435523987 average time 0.011702298133392712 iter num 60\n",
            "loss 0.5969812273979187 average time 0.009759939987543476 iter num 80\n",
            "loss 0.4110996425151825 average time 0.008574986130024626 iter num 100\n",
            "loss 1.548743486404419 average time 0.027322849200004384 iter num 20\n",
            "loss 1.4257526397705078 average time 0.01564809607502866 iter num 40\n",
            "loss 0.5898019075393677 average time 0.01174266795000373 iter num 60\n",
            "loss 0.9250550866127014 average time 0.009776598112495094 iter num 80\n",
            "loss 0.39742720127105713 average time 0.00868194020998999 iter num 100\n",
            "loss 0.42728784680366516 average time 0.027083858999981204 iter num 20\n",
            "loss 0.21228452026844025 average time 0.015460890049962473 iter num 40\n",
            "loss 0.7527655363082886 average time 0.01161916204997245 iter num 60\n",
            "loss 0.16053445637226105 average time 0.009674619949993257 iter num 80\n",
            "loss 0.27977514266967773 average time 0.008506734639995557 iter num 100\n",
            "loss 0.8040789365768433 average time 0.027069464149963095 iter num 20\n",
            "loss 0.5600541830062866 average time 0.015468120174932664 iter num 40\n",
            "loss 0.4541180729866028 average time 0.011594729749981525 iter num 60\n",
            "loss 0.42816615104675293 average time 0.009684656699982952 iter num 80\n",
            "loss 0.9115055203437805 average time 0.008522596989992052 iter num 100\n",
            "loss 0.802021861076355 average time 0.027012369950011817 iter num 20\n",
            "loss 1.503816843032837 average time 0.015423532850002175 iter num 40\n",
            "loss 0.5606595277786255 average time 0.011582318833355506 iter num 60\n",
            "loss 0.234889417886734 average time 0.00966410507501223 iter num 80\n",
            "loss 0.3847687840461731 average time 0.008500381040012144 iter num 100\n",
            "loss 0.5975572466850281 average time 0.0269520663500316 iter num 20\n",
            "loss 1.1626255512237549 average time 0.01540908617499781 iter num 40\n",
            "loss 1.6315537691116333 average time 0.011551037766692692 iter num 60\n",
            "loss 0.9824543595314026 average time 0.00970923406252382 iter num 80\n",
            "loss 0.3640120029449463 average time 0.008575962540026011 iter num 100\n",
            "loss 4.060667991638184 average time 0.027084970250007244 iter num 20\n",
            "loss 4.798921585083008 average time 0.015488459449989023 iter num 40\n",
            "loss 3.2048754692077637 average time 0.011645335383309429 iter num 60\n",
            "loss 0.4334690570831299 average time 0.009702878974985651 iter num 80\n",
            "loss 0.30099818110466003 average time 0.008536270159997911 iter num 100\n",
            "loss 0.7580065727233887 average time 0.026990942300039934 iter num 20\n",
            "loss 0.99860018491745 average time 0.015396750300044459 iter num 40\n",
            "loss 0.3593500852584839 average time 0.011543338283377124 iter num 60\n",
            "loss 0.3373836874961853 average time 0.00961739470003522 iter num 80\n",
            "loss 0.5132554769515991 average time 0.008489632970040475 iter num 100\n",
            "loss 1.338547945022583 average time 0.026968517349905595 iter num 20\n",
            "loss 0.5915353298187256 average time 0.015412152649957989 iter num 40\n",
            "loss 0.4426380693912506 average time 0.011564638733276903 iter num 60\n",
            "loss 0.24917632341384888 average time 0.009660223337459684 iter num 80\n",
            "loss 0.4964410960674286 average time 0.008500882839971382 iter num 100\n",
            "loss 0.49504566192626953 average time 0.027147038349994546 iter num 20\n",
            "loss 1.2752957344055176 average time 0.015478589625035965 iter num 40\n",
            "loss 0.3621182441711426 average time 0.011594595116685013 iter num 60\n",
            "loss 0.49354037642478943 average time 0.009648937162506855 iter num 80\n",
            "loss 0.4172669053077698 average time 0.008501715220008919 iter num 100\n",
            "loss 0.5862680673599243 average time 0.02703319920001377 iter num 20\n",
            "loss 0.6075512170791626 average time 0.015430110700003751 iter num 40\n",
            "loss 1.0556409358978271 average time 0.01156790440001411 iter num 60\n",
            "loss 0.45473867654800415 average time 0.009639178587514152 iter num 80\n",
            "loss 0.39558374881744385 average time 0.008492387670007701 iter num 100\n",
            "loss 1.0008900165557861 average time 0.027205695749944424 iter num 20\n",
            "loss 0.6710970997810364 average time 0.015513972574990476 iter num 40\n",
            "loss 0.425411581993103 average time 0.01162165108330555 iter num 60\n",
            "loss 1.1377134323120117 average time 0.009684429549997731 iter num 80\n",
            "loss 0.15222248435020447 average time 0.008512414459987667 iter num 100\n",
            "loss 0.17414051294326782 average time 0.02703413214999273 iter num 20\n",
            "loss 0.2073667198419571 average time 0.015460521700003938 iter num 40\n",
            "loss 0.6416249871253967 average time 0.011580393383299754 iter num 60\n",
            "loss 0.4856586754322052 average time 0.009654359824980929 iter num 80\n",
            "loss 0.19052088260650635 average time 0.008490771359993233 iter num 100\n",
            "loss 0.6698286533355713 average time 0.02699359180005558 iter num 20\n",
            "loss 0.5232599973678589 average time 0.015421726975000638 iter num 40\n",
            "loss 0.8205786943435669 average time 0.011561428349993245 iter num 60\n",
            "loss 0.37575507164001465 average time 0.009662320525001178 iter num 80\n",
            "loss 0.36124128103256226 average time 0.008499889899990194 iter num 100\n",
            "loss 0.5830733180046082 average time 0.027118862150018685 iter num 20\n",
            "loss 0.9537906050682068 average time 0.015503770825023366 iter num 40\n",
            "loss 0.4320056140422821 average time 0.0116114560499985 iter num 60\n",
            "loss 0.4609465003013611 average time 0.009671111974995483 iter num 80\n",
            "loss 0.5253317356109619 average time 0.00850366733998726 iter num 100\n",
            "loss 0.7524818778038025 average time 0.027161156550096165 iter num 20\n",
            "loss 1.6534513235092163 average time 0.015557864750019235 iter num 40\n",
            "loss 0.34849488735198975 average time 0.011696938750007272 iter num 60\n",
            "loss 0.7686338424682617 average time 0.009738450400010378 iter num 80\n",
            "loss 0.5883646011352539 average time 0.008622889530015528 iter num 100\n",
            "loss 0.8608976602554321 average time 0.027079986700073277 iter num 20\n",
            "loss 0.7498568892478943 average time 0.015520319525046488 iter num 40\n",
            "loss 0.8760015964508057 average time 0.01165178970005248 iter num 60\n",
            "loss 0.3434057831764221 average time 0.009726093412552927 iter num 80\n",
            "loss 0.4759111702442169 average time 0.008550999470030548 iter num 100\n",
            "loss 1.0267581939697266 average time 0.02726129744994523 iter num 20\n",
            "loss 0.6101682782173157 average time 0.015565890374978153 iter num 40\n",
            "loss 0.3422097861766815 average time 0.011675349649999589 iter num 60\n",
            "loss 0.8482748866081238 average time 0.00976955739999994 iter num 80\n",
            "loss 0.2231953740119934 average time 0.008598376479999387 iter num 100\n",
            "loss 0.8038203716278076 average time 0.027028402949940755 iter num 20\n",
            "loss 0.7841105461120605 average time 0.015445061499951862 iter num 40\n",
            "loss 0.7064740657806396 average time 0.011653762099967935 iter num 60\n",
            "loss 0.2726747989654541 average time 0.009706030299980739 iter num 80\n",
            "loss 0.48072052001953125 average time 0.008540434929973344 iter num 100\n",
            "loss 0.33171600103378296 average time 0.02690593429992987 iter num 20\n",
            "loss 0.5901138782501221 average time 0.015379474724966258 iter num 40\n",
            "loss 0.5121634006500244 average time 0.011531750283309824 iter num 60\n",
            "loss 0.2140253484249115 average time 0.009611354437475938 iter num 80\n",
            "loss 0.2017393708229065 average time 0.008466030689978652 iter num 100\n",
            "loss 0.24450302124023438 average time 0.027105774999972708 iter num 20\n",
            "loss 0.3711303770542145 average time 0.015468467975006206 iter num 40\n",
            "loss 0.2419397532939911 average time 0.011599600800013831 iter num 60\n",
            "loss 0.35648876428604126 average time 0.009661760525011687 iter num 80\n",
            "loss 0.6393435001373291 average time 0.0084928864099993 iter num 100\n",
            "loss 0.7344001531600952 average time 0.026936645649993807 iter num 20\n",
            "loss 1.5172327756881714 average time 0.015403809225051645 iter num 40\n",
            "loss 0.711883544921875 average time 0.011554495750018153 iter num 60\n",
            "loss 0.5527948141098022 average time 0.009646478425020177 iter num 80\n",
            "loss 0.2957977056503296 average time 0.008490879760015559 iter num 100\n",
            "loss 1.5691893100738525 average time 0.02706578269999227 iter num 20\n",
            "loss 0.20421260595321655 average time 0.015449746674994458 iter num 40\n",
            "loss 0.17640464007854462 average time 0.01157253626666564 iter num 60\n",
            "loss 0.4812565743923187 average time 0.009642156712504856 iter num 80\n",
            "loss 0.2378028929233551 average time 0.008498100970000451 iter num 100\n",
            "loss 1.4560902118682861 average time 0.026992620550004176 iter num 20\n",
            "loss 0.8549985289573669 average time 0.015433788925008685 iter num 40\n",
            "loss 0.22396594285964966 average time 0.011582958416677986 iter num 60\n",
            "loss 0.4364851415157318 average time 0.009670850650002194 iter num 80\n",
            "loss 0.20237329602241516 average time 0.008504163380007413 iter num 100\n",
            "loss 2.136505365371704 average time 0.027042530000016995 iter num 20\n",
            "loss 1.6689763069152832 average time 0.015434649300027558 iter num 40\n",
            "loss 0.1923113763332367 average time 0.01157346975001777 iter num 60\n",
            "loss 0.7525247931480408 average time 0.009658670375017664 iter num 80\n",
            "loss 0.3445272743701935 average time 0.008508790550013145 iter num 100\n",
            "loss 2.3482437133789062 average time 0.026939809949953996 iter num 20\n",
            "loss 0.4140734076499939 average time 0.015413565549988562 iter num 40\n",
            "loss 1.3924975395202637 average time 0.011580857433295932 iter num 60\n",
            "loss 0.4090844988822937 average time 0.009710044524967997 iter num 80\n",
            "loss 0.2510260045528412 average time 0.008533095669981776 iter num 100\n",
            "loss 2.5859546661376953 average time 0.027264231500021198 iter num 20\n",
            "loss 0.507676362991333 average time 0.015574517275024392 iter num 40\n",
            "loss 0.38934919238090515 average time 0.01168288036666733 iter num 60\n",
            "loss 0.22766242921352386 average time 0.009726100087505074 iter num 80\n",
            "loss 0.31745484471321106 average time 0.008557876750005562 iter num 100\n"
          ],
          "name": "stdout"
        },
        {
          "output_type": "stream",
          "text": [
            "Engine run is terminating due to exception: \n"
          ],
          "name": "stderr"
        },
        {
          "output_type": "error",
          "ename": "KeyboardInterrupt",
          "evalue": "ignored",
          "traceback": [
            "\u001b[0;31m---------------------------------------------------------------------------\u001b[0m",
            "\u001b[0;31mKeyboardInterrupt\u001b[0m                         Traceback (most recent call last)",
            "\u001b[0;32m<ipython-input-7-38b67aa04ce4>\u001b[0m in \u001b[0;36m<module>\u001b[0;34m()\u001b[0m\n\u001b[1;32m     43\u001b[0m         \u001b[0mprint\u001b[0m\u001b[0;34m(\u001b[0m\u001b[0;34m'loss'\u001b[0m\u001b[0;34m,\u001b[0m \u001b[0mengine\u001b[0m\u001b[0;34m.\u001b[0m\u001b[0mstate\u001b[0m\u001b[0;34m.\u001b[0m\u001b[0moutput\u001b[0m\u001b[0;34m,\u001b[0m \u001b[0;34m'average time'\u001b[0m\u001b[0;34m,\u001b[0m \u001b[0mtimer\u001b[0m\u001b[0;34m.\u001b[0m\u001b[0mvalue\u001b[0m\u001b[0;34m(\u001b[0m\u001b[0;34m)\u001b[0m\u001b[0;34m,\u001b[0m \u001b[0;34m'iter num'\u001b[0m\u001b[0;34m,\u001b[0m \u001b[0miter\u001b[0m\u001b[0;34m)\u001b[0m\u001b[0;34m\u001b[0m\u001b[0;34m\u001b[0m\u001b[0m\n\u001b[1;32m     44\u001b[0m \u001b[0;34m\u001b[0m\u001b[0m\n\u001b[0;32m---> 45\u001b[0;31m \u001b[0mtrainer\u001b[0m\u001b[0;34m.\u001b[0m\u001b[0mrun\u001b[0m\u001b[0;34m(\u001b[0m\u001b[0mdataset\u001b[0m\u001b[0;34m,\u001b[0m \u001b[0mmax_epochs\u001b[0m \u001b[0;34m=\u001b[0m \u001b[0;36m100\u001b[0m\u001b[0;34m)\u001b[0m\u001b[0;34m\u001b[0m\u001b[0;34m\u001b[0m\u001b[0m\n\u001b[0m",
            "\u001b[0;32m/usr/local/lib/python3.7/dist-packages/ignite/engine/engine.py\u001b[0m in \u001b[0;36mrun\u001b[0;34m(self, data, max_epochs, epoch_length, seed)\u001b[0m\n\u001b[1;32m    699\u001b[0m \u001b[0;34m\u001b[0m\u001b[0m\n\u001b[1;32m    700\u001b[0m         \u001b[0mself\u001b[0m\u001b[0;34m.\u001b[0m\u001b[0mstate\u001b[0m\u001b[0;34m.\u001b[0m\u001b[0mdataloader\u001b[0m \u001b[0;34m=\u001b[0m \u001b[0mdata\u001b[0m\u001b[0;34m\u001b[0m\u001b[0;34m\u001b[0m\u001b[0m\n\u001b[0;32m--> 701\u001b[0;31m         \u001b[0;32mreturn\u001b[0m \u001b[0mself\u001b[0m\u001b[0;34m.\u001b[0m\u001b[0m_internal_run\u001b[0m\u001b[0;34m(\u001b[0m\u001b[0;34m)\u001b[0m\u001b[0;34m\u001b[0m\u001b[0;34m\u001b[0m\u001b[0m\n\u001b[0m\u001b[1;32m    702\u001b[0m \u001b[0;34m\u001b[0m\u001b[0m\n\u001b[1;32m    703\u001b[0m     \u001b[0;34m@\u001b[0m\u001b[0mstaticmethod\u001b[0m\u001b[0;34m\u001b[0m\u001b[0;34m\u001b[0m\u001b[0m\n",
            "\u001b[0;32m/usr/local/lib/python3.7/dist-packages/ignite/engine/engine.py\u001b[0m in \u001b[0;36m_internal_run\u001b[0;34m(self)\u001b[0m\n\u001b[1;32m    772\u001b[0m             \u001b[0mself\u001b[0m\u001b[0;34m.\u001b[0m\u001b[0m_dataloader_iter\u001b[0m \u001b[0;34m=\u001b[0m \u001b[0;32mNone\u001b[0m\u001b[0;34m\u001b[0m\u001b[0;34m\u001b[0m\u001b[0m\n\u001b[1;32m    773\u001b[0m             \u001b[0mself\u001b[0m\u001b[0;34m.\u001b[0m\u001b[0mlogger\u001b[0m\u001b[0;34m.\u001b[0m\u001b[0merror\u001b[0m\u001b[0;34m(\u001b[0m\u001b[0;34mf\"Engine run is terminating due to exception: {e}\"\u001b[0m\u001b[0;34m)\u001b[0m\u001b[0;34m\u001b[0m\u001b[0;34m\u001b[0m\u001b[0m\n\u001b[0;32m--> 774\u001b[0;31m             \u001b[0mself\u001b[0m\u001b[0;34m.\u001b[0m\u001b[0m_handle_exception\u001b[0m\u001b[0;34m(\u001b[0m\u001b[0me\u001b[0m\u001b[0;34m)\u001b[0m\u001b[0;34m\u001b[0m\u001b[0;34m\u001b[0m\u001b[0m\n\u001b[0m\u001b[1;32m    775\u001b[0m \u001b[0;34m\u001b[0m\u001b[0m\n\u001b[1;32m    776\u001b[0m         \u001b[0mself\u001b[0m\u001b[0;34m.\u001b[0m\u001b[0m_dataloader_iter\u001b[0m \u001b[0;34m=\u001b[0m \u001b[0;32mNone\u001b[0m\u001b[0;34m\u001b[0m\u001b[0;34m\u001b[0m\u001b[0m\n",
            "\u001b[0;32m/usr/local/lib/python3.7/dist-packages/ignite/engine/engine.py\u001b[0m in \u001b[0;36m_handle_exception\u001b[0;34m(self, e)\u001b[0m\n\u001b[1;32m    467\u001b[0m             \u001b[0mself\u001b[0m\u001b[0;34m.\u001b[0m\u001b[0m_fire_event\u001b[0m\u001b[0;34m(\u001b[0m\u001b[0mEvents\u001b[0m\u001b[0;34m.\u001b[0m\u001b[0mEXCEPTION_RAISED\u001b[0m\u001b[0;34m,\u001b[0m \u001b[0me\u001b[0m\u001b[0;34m)\u001b[0m\u001b[0;34m\u001b[0m\u001b[0;34m\u001b[0m\u001b[0m\n\u001b[1;32m    468\u001b[0m         \u001b[0;32melse\u001b[0m\u001b[0;34m:\u001b[0m\u001b[0;34m\u001b[0m\u001b[0;34m\u001b[0m\u001b[0m\n\u001b[0;32m--> 469\u001b[0;31m             \u001b[0;32mraise\u001b[0m \u001b[0me\u001b[0m\u001b[0;34m\u001b[0m\u001b[0;34m\u001b[0m\u001b[0m\n\u001b[0m\u001b[1;32m    470\u001b[0m \u001b[0;34m\u001b[0m\u001b[0m\n\u001b[1;32m    471\u001b[0m     \u001b[0;34m@\u001b[0m\u001b[0mproperty\u001b[0m\u001b[0;34m\u001b[0m\u001b[0;34m\u001b[0m\u001b[0m\n",
            "\u001b[0;32m/usr/local/lib/python3.7/dist-packages/ignite/engine/engine.py\u001b[0m in \u001b[0;36m_internal_run\u001b[0;34m(self)\u001b[0m\n\u001b[1;32m    742\u001b[0m                     \u001b[0mself\u001b[0m\u001b[0;34m.\u001b[0m\u001b[0m_setup_engine\u001b[0m\u001b[0;34m(\u001b[0m\u001b[0;34m)\u001b[0m\u001b[0;34m\u001b[0m\u001b[0;34m\u001b[0m\u001b[0m\n\u001b[1;32m    743\u001b[0m \u001b[0;34m\u001b[0m\u001b[0m\n\u001b[0;32m--> 744\u001b[0;31m                 \u001b[0mtime_taken\u001b[0m \u001b[0;34m=\u001b[0m \u001b[0mself\u001b[0m\u001b[0;34m.\u001b[0m\u001b[0m_run_once_on_dataset\u001b[0m\u001b[0;34m(\u001b[0m\u001b[0;34m)\u001b[0m\u001b[0;34m\u001b[0m\u001b[0;34m\u001b[0m\u001b[0m\n\u001b[0m\u001b[1;32m    745\u001b[0m                 \u001b[0;31m# time is available for handlers but must be update after fire\u001b[0m\u001b[0;34m\u001b[0m\u001b[0;34m\u001b[0m\u001b[0;34m\u001b[0m\u001b[0m\n\u001b[1;32m    746\u001b[0m                 \u001b[0mself\u001b[0m\u001b[0;34m.\u001b[0m\u001b[0mstate\u001b[0m\u001b[0;34m.\u001b[0m\u001b[0mtimes\u001b[0m\u001b[0;34m[\u001b[0m\u001b[0mEvents\u001b[0m\u001b[0;34m.\u001b[0m\u001b[0mEPOCH_COMPLETED\u001b[0m\u001b[0;34m.\u001b[0m\u001b[0mname\u001b[0m\u001b[0;34m]\u001b[0m \u001b[0;34m=\u001b[0m \u001b[0mtime_taken\u001b[0m\u001b[0;34m\u001b[0m\u001b[0;34m\u001b[0m\u001b[0m\n",
            "\u001b[0;32m/usr/local/lib/python3.7/dist-packages/ignite/engine/engine.py\u001b[0m in \u001b[0;36m_run_once_on_dataset\u001b[0;34m(self)\u001b[0m\n\u001b[1;32m    799\u001b[0m                     \u001b[0;32mif\u001b[0m \u001b[0mself\u001b[0m\u001b[0;34m.\u001b[0m\u001b[0mlast_event_name\u001b[0m \u001b[0;34m!=\u001b[0m \u001b[0mEvents\u001b[0m\u001b[0;34m.\u001b[0m\u001b[0mDATALOADER_STOP_ITERATION\u001b[0m\u001b[0;34m:\u001b[0m\u001b[0;34m\u001b[0m\u001b[0;34m\u001b[0m\u001b[0m\n\u001b[1;32m    800\u001b[0m                         \u001b[0mself\u001b[0m\u001b[0;34m.\u001b[0m\u001b[0m_fire_event\u001b[0m\u001b[0;34m(\u001b[0m\u001b[0mEvents\u001b[0m\u001b[0;34m.\u001b[0m\u001b[0mGET_BATCH_STARTED\u001b[0m\u001b[0;34m)\u001b[0m\u001b[0;34m\u001b[0m\u001b[0;34m\u001b[0m\u001b[0m\n\u001b[0;32m--> 801\u001b[0;31m                     \u001b[0mself\u001b[0m\u001b[0;34m.\u001b[0m\u001b[0mstate\u001b[0m\u001b[0;34m.\u001b[0m\u001b[0mbatch\u001b[0m \u001b[0;34m=\u001b[0m \u001b[0mnext\u001b[0m\u001b[0;34m(\u001b[0m\u001b[0mself\u001b[0m\u001b[0;34m.\u001b[0m\u001b[0m_dataloader_iter\u001b[0m\u001b[0;34m)\u001b[0m\u001b[0;34m\u001b[0m\u001b[0;34m\u001b[0m\u001b[0m\n\u001b[0m\u001b[1;32m    802\u001b[0m                     \u001b[0mself\u001b[0m\u001b[0;34m.\u001b[0m\u001b[0m_fire_event\u001b[0m\u001b[0;34m(\u001b[0m\u001b[0mEvents\u001b[0m\u001b[0;34m.\u001b[0m\u001b[0mGET_BATCH_COMPLETED\u001b[0m\u001b[0;34m)\u001b[0m\u001b[0;34m\u001b[0m\u001b[0;34m\u001b[0m\u001b[0m\n\u001b[1;32m    803\u001b[0m                     \u001b[0miter_counter\u001b[0m \u001b[0;34m+=\u001b[0m \u001b[0;36m1\u001b[0m\u001b[0;34m\u001b[0m\u001b[0;34m\u001b[0m\u001b[0m\n",
            "\u001b[0;32m/content/cupy_dataset.py\u001b[0m in \u001b[0;36m__next__\u001b[0;34m(self)\u001b[0m\n\u001b[1;32m    129\u001b[0m \u001b[0;34m\u001b[0m\u001b[0m\n\u001b[1;32m    130\u001b[0m           \u001b[0mo\u001b[0m \u001b[0;34m=\u001b[0m \u001b[0mself\u001b[0m\u001b[0;34m.\u001b[0m\u001b[0moutput\u001b[0m\u001b[0;34m.\u001b[0m\u001b[0mreshape\u001b[0m\u001b[0;34m(\u001b[0m\u001b[0mself\u001b[0m\u001b[0;34m.\u001b[0m\u001b[0mN_STOCKS\u001b[0m\u001b[0;34m,\u001b[0m \u001b[0mself\u001b[0m\u001b[0;34m.\u001b[0m\u001b[0mN_PATHS\u001b[0m\u001b[0;34m)\u001b[0m \u001b[0;31m# this contains prices for each stock for each path at time T\u001b[0m\u001b[0;34m\u001b[0m\u001b[0;34m\u001b[0m\u001b[0m\n\u001b[0;32m--> 131\u001b[0;31m           \u001b[0mK\u001b[0m \u001b[0;34m=\u001b[0m \u001b[0mK_rand\u001b[0m \u001b[0;34m*\u001b[0m \u001b[0;36m150\u001b[0m\u001b[0;34m\u001b[0m\u001b[0;34m\u001b[0m\u001b[0m\n\u001b[0m\u001b[1;32m    132\u001b[0m           \u001b[0mr\u001b[0m \u001b[0;34m=\u001b[0m \u001b[0mr_rand\u001b[0m \u001b[0;34m*\u001b[0m \u001b[0;36m0.2\u001b[0m\u001b[0;34m\u001b[0m\u001b[0;34m\u001b[0m\u001b[0m\n\u001b[1;32m    133\u001b[0m           \u001b[0mo\u001b[0m \u001b[0;34m=\u001b[0m \u001b[0mo\u001b[0m\u001b[0;34m.\u001b[0m\u001b[0mmean\u001b[0m\u001b[0;34m(\u001b[0m\u001b[0maxis\u001b[0m \u001b[0;34m=\u001b[0m \u001b[0;36m0\u001b[0m\u001b[0;34m)\u001b[0m \u001b[0;31m# average across stocks end prices\u001b[0m\u001b[0;34m\u001b[0m\u001b[0;34m\u001b[0m\u001b[0m\n",
            "\u001b[0;32mcupy/_core/core.pyx\u001b[0m in \u001b[0;36mcupy._core.core.ndarray.__mul__\u001b[0;34m()\u001b[0m\n",
            "\u001b[0;32mcupy/_core/core.pyx\u001b[0m in \u001b[0;36mcupy._core.core.ndarray.__array_ufunc__\u001b[0;34m()\u001b[0m\n",
            "\u001b[0;32mcupy/_core/_kernel.pyx\u001b[0m in \u001b[0;36mcupy._core._kernel.ufunc.__call__\u001b[0;34m()\u001b[0m\n",
            "\u001b[0;32mcupy/_core/_kernel.pyx\u001b[0m in \u001b[0;36mcupy._core._kernel._Ops.guess_routine\u001b[0;34m()\u001b[0m\n",
            "\u001b[0;32mcupy/_core/_kernel.pyx\u001b[0m in \u001b[0;36mcupy._core._kernel._min_scalar_type\u001b[0;34m()\u001b[0m\n",
            "\u001b[0;32m<__array_function__ internals>\u001b[0m in \u001b[0;36mmin_scalar_type\u001b[0;34m(*args, **kwargs)\u001b[0m\n",
            "\u001b[0;31mKeyboardInterrupt\u001b[0m: "
          ]
        }
      ]
    },
    {
      "cell_type": "markdown",
      "metadata": {
        "id": "vU1EpGuInwjJ"
      },
      "source": [
        "$2365$ seconds The loss is keeping decreasing which means the pricing model can predict the option prices better. It takes about $12ms$ to compute one mini-batch in average, In the following sections, we will try to expore the full potentials of the GPU to accelerate the training."
      ]
    },
    {
      "cell_type": "markdown",
      "metadata": {
        "id": "A8McNtejRNFT"
      },
      "source": [
        "**Save Model**"
      ]
    },
    {
      "cell_type": "code",
      "metadata": {
        "id": "YRtOr1XIPOvF",
        "colab": {
          "base_uri": "https://localhost:8080/"
        },
        "outputId": "ea7289f6-c734-46a4-d680-a33c044f3d4c"
      },
      "source": [
        "from google.colab import drive\n",
        "drive.mount('/content/drive')"
      ],
      "execution_count": 11,
      "outputs": [
        {
          "output_type": "stream",
          "text": [
            "Drive already mounted at /content/drive; to attempt to forcibly remount, call drive.mount(\"/content/drive\", force_remount=True).\n"
          ],
          "name": "stdout"
        }
      ]
    },
    {
      "cell_type": "code",
      "metadata": {
        "id": "ndftly2yPEaM"
      },
      "source": [
        "import torch\n",
        "model_save_name = f'EuCall_{str(nstock)}_wd.pth'\n",
        "#path = F\"/content/drive/MyDrive/AFP Project/Lilian/{model_save_name}\" \n",
        "path = F\"/content/drive/MyDrive/{model_save_name}\"\n",
        "torch.save(model.state_dict(), path)"
      ],
      "execution_count": 12,
      "outputs": []
    },
    {
      "cell_type": "markdown",
      "metadata": {
        "id": "y6DRO9K2RQoJ"
      },
      "source": [
        "**Load Model**"
      ]
    },
    {
      "cell_type": "code",
      "metadata": {
        "id": "HGXZSV_YRT8v",
        "colab": {
          "base_uri": "https://localhost:8080/"
        },
        "outputId": "aade94b0-b3ad-4bd6-8afb-1083483a19f9"
      },
      "source": [
        "from google.colab import drive\n",
        "drive.mount('/content/drive')"
      ],
      "execution_count": 7,
      "outputs": [
        {
          "output_type": "stream",
          "text": [
            "Mounted at /content/drive\n"
          ],
          "name": "stdout"
        }
      ]
    },
    {
      "cell_type": "code",
      "metadata": {
        "id": "3ntY-N5bOqdq",
        "colab": {
          "base_uri": "https://localhost:8080/"
        },
        "outputId": "fa5f055f-25d8-4d92-bd98-f3d2b55c0a10"
      },
      "source": [
        "import torch\n",
        "model_save_name = f'EuCall_{str(nstock)}_wd.pth'\n",
        "#path = F\"/content/drive/MyDrive/AFP Project/Lilian/{model_save_name}\" \n",
        "path = F\"/content/drive/MyDrive/{model_save_name}\"\n",
        "state_dict = torch.load(path)\n",
        "print(state_dict.keys())"
      ],
      "execution_count": 8,
      "outputs": [
        {
          "output_type": "stream",
          "text": [
            "odict_keys(['norm', 'fc1.weight', 'fc1.bias', 'fc2.weight', 'fc2.bias', 'fc3.weight', 'fc3.bias', 'fc4.weight', 'fc4.bias', 'fc5.weight', 'fc5.bias', 'fc6.weight', 'fc6.bias'])\n"
          ],
          "name": "stdout"
        }
      ]
    },
    {
      "cell_type": "code",
      "metadata": {
        "id": "j0GAGPAgPmgh",
        "colab": {
          "base_uri": "https://localhost:8080/"
        },
        "outputId": "c5f29a35-6b48-418a-a737-ea9d726f82ff"
      },
      "source": [
        "# need to run 'Writing cupy_dataset.py' and 'Writing model.py' above before this\n",
        "from model import Net\n",
        "model = Net(nstock = nstock).cuda()\n",
        "\n",
        "model.load_state_dict(state_dict)\n",
        "print(model)"
      ],
      "execution_count": 9,
      "outputs": [
        {
          "output_type": "stream",
          "text": [
            "Net(\n",
            "  (fc1): Linear(in_features=6, out_features=1024, bias=True)\n",
            "  (fc2): Linear(in_features=1024, out_features=1024, bias=True)\n",
            "  (fc3): Linear(in_features=1024, out_features=1024, bias=True)\n",
            "  (fc4): Linear(in_features=1024, out_features=1024, bias=True)\n",
            "  (fc5): Linear(in_features=1024, out_features=1024, bias=True)\n",
            "  (fc6): Linear(in_features=1024, out_features=1, bias=True)\n",
            ")\n"
          ],
          "name": "stdout"
        }
      ]
    },
    {
      "cell_type": "markdown",
      "metadata": {
        "id": "rXT4Bg0wdL7l"
      },
      "source": [
        "### Continue to train model"
      ]
    },
    {
      "cell_type": "code",
      "metadata": {
        "id": "Zfa9cp6CdG8T",
        "colab": {
          "base_uri": "https://localhost:8080/"
        },
        "outputId": "a48900e1-78b0-461f-990b-d2e648f54bf2"
      },
      "source": [
        "from ignite.engine import Engine, Events\n",
        "from ignite.handlers import Timer\n",
        "from torch.nn import MSELoss\n",
        "from torch.optim import Adam\n",
        "from ignite.contrib.handlers.param_scheduler import CosineAnnealingScheduler\n",
        "from ignite.handlers import ModelCheckpoint\n",
        "from model import Net\n",
        "from cupy_dataset import NumbaOptionDataSet\n",
        "timer = Timer(average=True)\n",
        "#model = Net().cuda()\n",
        "loss_fn = MSELoss()\n",
        "optimizer = Adam(model.parameters(), lr=1e-3)\n",
        "# dataset = NumbaOptionDataSet(max_len=10000, number_path = 1024, batch=4800)\n",
        "dataset = NumbaOptionDataSet(max_len=500, number_path = 1024*5, batch=32, stocks=nstock)\n",
        "\n",
        "def train_update(engine, batch):\n",
        "    model.train()\n",
        "    optimizer.zero_grad()\n",
        "    x = batch[0]\n",
        "    y = batch[1]\n",
        "    y_pred = model(x)\n",
        "    loss = loss_fn(y_pred[:,0], y)\n",
        "    loss.backward()\n",
        "    optimizer.step()\n",
        "    return loss.item()\n",
        "\n",
        "trainer = Engine(train_update)\n",
        "log_interval = 20\n",
        "\n",
        "scheduler = CosineAnnealingScheduler(optimizer, 'lr', 1e-4, 1e-6, len(dataset))\n",
        "trainer.add_event_handler(Events.ITERATION_STARTED, scheduler)\n",
        "timer.attach(trainer,\n",
        "             start=Events.EPOCH_STARTED,\n",
        "             resume=Events.ITERATION_STARTED,\n",
        "             pause=Events.ITERATION_COMPLETED,\n",
        "             step=Events.ITERATION_COMPLETED)    \n",
        "@trainer.on(Events.ITERATION_COMPLETED)\n",
        "def log_training_loss(engine):\n",
        "    iter = (engine.state.iteration - 1) % len(dataset) + 1\n",
        "    if iter % log_interval == 0:\n",
        "        print('loss', engine.state.output, 'average time', timer.value(), 'iter num', iter)\n",
        "        \n",
        "trainer.run(dataset, max_epochs=20)\n",
        "model_save_name = f'EuCall_{str(nstock)}_wd.pth'\n",
        "path = F\"/content/drive/MyDrive/{model_save_name}\"\n",
        "torch.save(model.state_dict(), path)\n"
      ],
      "execution_count": 10,
      "outputs": [
        {
          "output_type": "stream",
          "text": [
            "loss 2.0591375827789307 average time 0.25325514449999814 iter num 20\n",
            "loss 0.4673220217227936 average time 0.12864517960000085 iter num 40\n",
            "loss 0.15513673424720764 average time 0.08711034601666606 iter num 60\n",
            "loss 0.1579495668411255 average time 0.06631191430000065 iter num 80\n",
            "loss 0.08988252282142639 average time 0.05382715326000124 iter num 100\n",
            "loss 0.10783877968788147 average time 0.04549593049166655 iter num 120\n",
            "loss 0.1524716466665268 average time 0.03955961375000072 iter num 140\n",
            "loss 0.2059757113456726 average time 0.035099258625000476 iter num 160\n",
            "loss 0.052301377058029175 average time 0.03162518200555648 iter num 180\n",
            "loss 0.05624120682477951 average time 0.02886037282500041 iter num 200\n",
            "loss 0.17997674643993378 average time 0.026587299654545662 iter num 220\n",
            "loss 0.15341417491436005 average time 0.024688946275000016 iter num 240\n",
            "loss 0.07331947237253189 average time 0.023091094942307894 iter num 260\n",
            "loss 0.20312073826789856 average time 0.021731326857142668 iter num 280\n",
            "loss 0.16348519921302795 average time 0.020538767326666894 iter num 300\n",
            "loss 0.12148772925138474 average time 0.01949706754062497 iter num 320\n",
            "loss 0.08207691460847855 average time 0.018589404823529776 iter num 340\n",
            "loss 0.07863187044858932 average time 0.017770410055556202 iter num 360\n",
            "loss 0.06026940792798996 average time 0.01703855908684264 iter num 380\n",
            "loss 0.07863521575927734 average time 0.01637794029750026 iter num 400\n",
            "loss 0.11910079419612885 average time 0.015791229061905266 iter num 420\n",
            "loss 0.06148664653301239 average time 0.01525080238636398 iter num 440\n",
            "loss 0.07207344472408295 average time 0.014755311189130755 iter num 460\n",
            "loss 0.10502618551254272 average time 0.01430115071250017 iter num 480\n",
            "loss 0.0798298642039299 average time 0.013886638842000367 iter num 500\n",
            "loss 0.09393336623907089 average time 0.02978704914999355 iter num 20\n",
            "loss 0.28284013271331787 average time 0.016834942924998587 iter num 40\n",
            "loss 0.19603458046913147 average time 0.012515685316666728 iter num 60\n",
            "loss 0.15023061633110046 average time 0.010341078125001957 iter num 80\n",
            "loss 0.11946986615657806 average time 0.009032086810001942 iter num 100\n",
            "loss 0.08704518526792526 average time 0.008161213283335182 iter num 120\n",
            "loss 0.24420136213302612 average time 0.007545917485715644 iter num 140\n",
            "loss 0.05722629651427269 average time 0.0070784204812529335 iter num 160\n",
            "loss 0.08238069713115692 average time 0.0067191611666692725 iter num 180\n",
            "loss 0.12714624404907227 average time 0.00642600601500277 iter num 200\n",
            "loss 0.14217129349708557 average time 0.006190394781820497 iter num 220\n",
            "loss 0.24165184795856476 average time 0.0059964344875034215 iter num 240\n",
            "loss 0.08567902445793152 average time 0.0058301581461572246 iter num 260\n",
            "loss 0.1834314465522766 average time 0.00568772223214568 iter num 280\n",
            "loss 0.13729777932167053 average time 0.005563130490003043 iter num 300\n",
            "loss 0.16110819578170776 average time 0.0054531457812528215 iter num 320\n",
            "loss 0.1349622756242752 average time 0.005359453144119771 iter num 340\n",
            "loss 0.13383173942565918 average time 0.005272633102780667 iter num 360\n",
            "loss 0.028668630868196487 average time 0.005196349797370054 iter num 380\n",
            "loss 0.06520112603902817 average time 0.005128501045001457 iter num 400\n",
            "loss 0.08702607452869415 average time 0.005067366650001624 iter num 420\n",
            "loss 0.08043266832828522 average time 0.0050163460136379906 iter num 440\n",
            "loss 0.03454102575778961 average time 0.0049710138956538434 iter num 460\n",
            "loss 0.029321741312742233 average time 0.004922240164585053 iter num 480\n",
            "loss 0.085598424077034 average time 0.004881867858001783 iter num 500\n",
            "loss 0.15611828863620758 average time 0.029882373700007746 iter num 20\n",
            "loss 0.23112064599990845 average time 0.016857852075000325 iter num 40\n",
            "loss 0.1451999843120575 average time 0.012547946699997207 iter num 60\n",
            "loss 0.45857352018356323 average time 0.010371473074997084 iter num 80\n",
            "loss 0.40851616859436035 average time 0.009070142229995781 iter num 100\n",
            "loss 0.16806605458259583 average time 0.008189246858331481 iter num 120\n",
            "loss 0.2001635730266571 average time 0.007556746671426546 iter num 140\n",
            "loss 0.24121972918510437 average time 0.007087494381249826 iter num 160\n",
            "loss 0.15679168701171875 average time 0.006721438099997891 iter num 180\n",
            "loss 1.022114872932434 average time 0.006444372554996676 iter num 200\n",
            "loss 0.42082107067108154 average time 0.006219244963632904 iter num 220\n",
            "loss 0.1866569221019745 average time 0.006018808291663428 iter num 240\n",
            "loss 0.30571675300598145 average time 0.005850161203843439 iter num 260\n",
            "loss 0.2573373019695282 average time 0.005707663982138911 iter num 280\n",
            "loss 0.15806016325950623 average time 0.005581011573330367 iter num 300\n",
            "loss 0.08757035434246063 average time 0.005470658984372179 iter num 320\n",
            "loss 0.05776356905698776 average time 0.005373645911761487 iter num 340\n",
            "loss 0.07190193235874176 average time 0.005286732324997148 iter num 360\n",
            "loss 0.10231445729732513 average time 0.0052147123131551084 iter num 380\n",
            "loss 0.18151968717575073 average time 0.005144482907497263 iter num 400\n",
            "loss 0.04103824496269226 average time 0.0050816696309487685 iter num 420\n",
            "loss 0.12749886512756348 average time 0.005024980234086549 iter num 440\n",
            "loss 0.09480197727680206 average time 0.004978112713039111 iter num 460\n",
            "loss 0.1097879633307457 average time 0.004933365449995601 iter num 480\n",
            "loss 0.17564956843852997 average time 0.004887337713995294 iter num 500\n",
            "loss 0.4293510913848877 average time 0.029858909199981555 iter num 20\n",
            "loss 0.27476680278778076 average time 0.01686383167499912 iter num 40\n",
            "loss 0.8019919395446777 average time 0.012504865183332943 iter num 60\n",
            "loss 7.424027442932129 average time 0.010343296625003972 iter num 80\n",
            "loss 0.44387513399124146 average time 0.009065905530001146 iter num 100\n",
            "loss 1.092360496520996 average time 0.00818983455834541 iter num 120\n",
            "loss 0.1393515169620514 average time 0.007563871764295982 iter num 140\n",
            "loss 0.1644180566072464 average time 0.007107558468757702 iter num 160\n",
            "loss 0.2457905411720276 average time 0.006744008750005529 iter num 180\n",
            "loss 0.061616815626621246 average time 0.006455356865006934 iter num 200\n",
            "loss 0.1235790103673935 average time 0.006217960313643868 iter num 220\n",
            "loss 0.1137484759092331 average time 0.006022759358340106 iter num 240\n",
            "loss 0.06056240573525429 average time 0.005849991950006265 iter num 260\n",
            "loss 0.05951172113418579 average time 0.005711498932147866 iter num 280\n",
            "loss 0.06837444007396698 average time 0.0055843042066703675 iter num 300\n",
            "loss 0.031587980687618256 average time 0.0054855288000027255 iter num 320\n",
            "loss 0.08363830298185349 average time 0.005387071935299178 iter num 340\n",
            "loss 0.07359886169433594 average time 0.005301338900003177 iter num 360\n",
            "loss 0.09734214842319489 average time 0.005221802344738679 iter num 380\n",
            "loss 0.09104327857494354 average time 0.005154680182501465 iter num 400\n",
            "loss 0.2335667610168457 average time 0.005099623509525892 iter num 420\n",
            "loss 0.06494203209877014 average time 0.005049039761365748 iter num 440\n",
            "loss 0.09234578162431717 average time 0.004994241228264498 iter num 460\n",
            "loss 0.04523145407438278 average time 0.004951147787503393 iter num 480\n",
            "loss 0.11280308663845062 average time 0.004903884460003155 iter num 500\n",
            "loss 0.36384832859039307 average time 0.029625914499990812 iter num 20\n",
            "loss 1.6971142292022705 average time 0.016783661274979524 iter num 40\n",
            "loss 0.41961291432380676 average time 0.012446219449979404 iter num 60\n",
            "loss 0.12095281481742859 average time 0.010291762424986927 iter num 80\n",
            "loss 0.3248707056045532 average time 0.009025094269995862 iter num 100\n",
            "loss 0.41869571805000305 average time 0.00816934249165797 iter num 120\n",
            "loss 1.4572041034698486 average time 0.007549411949990567 iter num 140\n",
            "loss 0.1943964809179306 average time 0.007084753937493815 iter num 160\n",
            "loss 0.24731215834617615 average time 0.006721502561107526 iter num 180\n",
            "loss 0.20097947120666504 average time 0.00643796911499976 iter num 200\n",
            "loss 0.04462660849094391 average time 0.006198702149998263 iter num 220\n",
            "loss 0.4457118511199951 average time 0.005999439008328977 iter num 240\n",
            "loss 0.0815272331237793 average time 0.00582923755768766 iter num 260\n",
            "loss 0.030713073909282684 average time 0.005683144628568471 iter num 280\n",
            "loss 0.09206421673297882 average time 0.005559290713332151 iter num 300\n",
            "loss 0.06418392062187195 average time 0.005450533409376135 iter num 320\n",
            "loss 0.050472162663936615 average time 0.005352933882354324 iter num 340\n",
            "loss 0.031249474734067917 average time 0.0052733446444436696 iter num 360\n",
            "loss 0.09960180521011353 average time 0.0051960830868432294 iter num 380\n",
            "loss 0.06337291747331619 average time 0.005128020542501304 iter num 400\n",
            "loss 0.052735328674316406 average time 0.005065267735714466 iter num 420\n",
            "loss 0.028641847893595695 average time 0.005007686195455108 iter num 440\n",
            "loss 0.08621735870838165 average time 0.004958175923914733 iter num 460\n",
            "loss 0.0588420107960701 average time 0.004910949195834273 iter num 480\n",
            "loss 0.10212642699480057 average time 0.004866855498000859 iter num 500\n",
            "loss 0.22730876505374908 average time 0.02976231265000706 iter num 20\n",
            "loss 0.23406076431274414 average time 0.0167801323250103 iter num 40\n",
            "loss 0.15668120980262756 average time 0.012445670350003487 iter num 60\n",
            "loss 0.19857819378376007 average time 0.010283352200005424 iter num 80\n",
            "loss 0.32068103551864624 average time 0.008988607320004576 iter num 100\n",
            "loss 0.04004073143005371 average time 0.00813202245834077 iter num 120\n",
            "loss 0.4082528352737427 average time 0.007521049914292429 iter num 140\n",
            "loss 0.12347881495952606 average time 0.007068310718756266 iter num 160\n",
            "loss 0.19383984804153442 average time 0.0067067874611173766 iter num 180\n",
            "loss 0.11205260455608368 average time 0.006418885895006951 iter num 200\n",
            "loss 0.15143759548664093 average time 0.006179284959097748 iter num 220\n",
            "loss 0.2178112268447876 average time 0.005983701662506747 iter num 240\n",
            "loss 0.22014369070529938 average time 0.0058151597500061426 iter num 260\n",
            "loss 0.11789026856422424 average time 0.005674267650003425 iter num 280\n",
            "loss 0.06455981731414795 average time 0.00555083409667077 iter num 300\n",
            "loss 0.19816571474075317 average time 0.005445238387503793 iter num 320\n",
            "loss 0.1181127056479454 average time 0.0053500002029422565 iter num 340\n",
            "loss 0.07939711958169937 average time 0.00526500227500277 iter num 360\n",
            "loss 0.05587409436702728 average time 0.005189796876318628 iter num 380\n",
            "loss 0.04247134178876877 average time 0.005120097467503797 iter num 400\n",
            "loss 0.11688125133514404 average time 0.005057450588096691 iter num 420\n",
            "loss 0.14225956797599792 average time 0.004999663459093737 iter num 440\n",
            "loss 0.06293771415948868 average time 0.004952033989132795 iter num 460\n",
            "loss 0.25822964310646057 average time 0.004907671829169165 iter num 480\n",
            "loss 0.02608468569815159 average time 0.00486362593800277 iter num 500\n",
            "loss 0.22260718047618866 average time 0.029701830549993247 iter num 20\n",
            "loss 0.4716632068157196 average time 0.01674733800001036 iter num 40\n",
            "loss 0.279063880443573 average time 0.012477757583341523 iter num 60\n",
            "loss 1.3161840438842773 average time 0.01030328020000013 iter num 80\n",
            "loss 0.334536075592041 average time 0.009018697619999329 iter num 100\n",
            "loss 0.16046196222305298 average time 0.008158363133333069 iter num 120\n",
            "loss 0.11190527677536011 average time 0.007530880635714051 iter num 140\n",
            "loss 0.3438705503940582 average time 0.007061023449999482 iter num 160\n",
            "loss 0.22380205988883972 average time 0.006694993177776117 iter num 180\n",
            "loss 0.18076185882091522 average time 0.006411771254996665 iter num 200\n",
            "loss 0.1259201169013977 average time 0.00617280113181509 iter num 220\n",
            "loss 0.05925764515995979 average time 0.005974998374997161 iter num 240\n",
            "loss 0.0528654009103775 average time 0.005812359726921666 iter num 260\n",
            "loss 0.08597488701343536 average time 0.005673830674999181 iter num 280\n",
            "loss 0.08627079427242279 average time 0.005549973460000122 iter num 300\n",
            "loss 0.11257237941026688 average time 0.00543809780312472 iter num 320\n",
            "loss 0.0513419508934021 average time 0.0053396743382336355 iter num 340\n",
            "loss 0.07396603375673294 average time 0.0052535291166666154 iter num 360\n",
            "loss 0.03745783120393753 average time 0.005176460928948089 iter num 380\n",
            "loss 0.0608832985162735 average time 0.005109191540000779 iter num 400\n",
            "loss 0.07915577292442322 average time 0.005047895397618569 iter num 420\n",
            "loss 0.16935789585113525 average time 0.004990936993183161 iter num 440\n",
            "loss 0.030156245455145836 average time 0.00493783577391508 iter num 460\n",
            "loss 0.0415194034576416 average time 0.004889008306253118 iter num 480\n",
            "loss 0.05948156863451004 average time 0.004846176098003071 iter num 500\n",
            "loss 0.2710992991924286 average time 0.029697133250010666 iter num 20\n",
            "loss 0.3075859546661377 average time 0.01680751172501118 iter num 40\n",
            "loss 0.31554800271987915 average time 0.012574897083349393 iter num 60\n",
            "loss 0.058692675083875656 average time 0.010385240762511216 iter num 80\n",
            "loss 0.4028843939304352 average time 0.0090875752900115 iter num 100\n",
            "loss 1.9107036590576172 average time 0.008212448908335546 iter num 120\n",
            "loss 2.069906711578369 average time 0.007587628378566283 iter num 140\n",
            "loss 9.941278457641602 average time 0.007109810262501526 iter num 160\n",
            "loss 2.701397180557251 average time 0.006741122988888845 iter num 180\n",
            "loss 0.8726503849029541 average time 0.006445787550002251 iter num 200\n",
            "loss 0.2597985863685608 average time 0.006215409036366798 iter num 220\n",
            "loss 0.10145431756973267 average time 0.006010550308331138 iter num 240\n",
            "loss 0.25889483094215393 average time 0.0058370996923040016 iter num 260\n",
            "loss 0.12882079184055328 average time 0.005694072907138141 iter num 280\n",
            "loss 0.021039485931396484 average time 0.005568962826660784 iter num 300\n",
            "loss 0.0798455998301506 average time 0.00545788258749198 iter num 320\n",
            "loss 0.0312533937394619 average time 0.0053579214646968945 iter num 340\n",
            "loss 0.12522682547569275 average time 0.00526885789165653 iter num 360\n",
            "loss 0.1690593957901001 average time 0.005192265521043282 iter num 380\n",
            "loss 0.0869828462600708 average time 0.005120335782489178 iter num 400\n",
            "loss 0.17988106608390808 average time 0.005057160223799158 iter num 420\n",
            "loss 0.05757838860154152 average time 0.0050011984318101355 iter num 440\n",
            "loss 0.037838950753211975 average time 0.004948023445647125 iter num 460\n",
            "loss 0.1999949961900711 average time 0.0049021555416596625 iter num 480\n",
            "loss 0.06746774911880493 average time 0.004857041189993197 iter num 500\n",
            "loss 0.671684205532074 average time 0.029958960250041855 iter num 20\n",
            "loss 0.1159905195236206 average time 0.01689116594999405 iter num 40\n",
            "loss 0.32592666149139404 average time 0.012531732549981219 iter num 60\n",
            "loss 0.323714017868042 average time 0.01035316788748446 iter num 80\n",
            "loss 0.17152246832847595 average time 0.009053944140005115 iter num 100\n",
            "loss 0.24713671207427979 average time 0.008179820191674025 iter num 120\n",
            "loss 0.5044267177581787 average time 0.007557164885728136 iter num 140\n",
            "loss 0.18851305544376373 average time 0.00708095798751458 iter num 160\n",
            "loss 0.17134246230125427 average time 0.006724070905566906 iter num 180\n",
            "loss 0.12038159370422363 average time 0.0064288632200145916 iter num 200\n",
            "loss 0.11876639723777771 average time 0.006184331072743341 iter num 220\n",
            "loss 0.09312176704406738 average time 0.005983051800022092 iter num 240\n",
            "loss 0.08259337395429611 average time 0.005812522630785329 iter num 260\n",
            "loss 0.1286964863538742 average time 0.005664417914303093 iter num 280\n",
            "loss 0.0772743821144104 average time 0.005539598216684378 iter num 300\n",
            "loss 0.05741502344608307 average time 0.005429660390642255 iter num 320\n",
            "loss 0.1620272845029831 average time 0.005333233726489251 iter num 340\n",
            "loss 0.24131815135478973 average time 0.005246606388910399 iter num 360\n",
            "loss 0.10170917212963104 average time 0.005173513284232381 iter num 380\n",
            "loss 0.06691314280033112 average time 0.005103927085024225 iter num 400\n",
            "loss 0.03879664093255997 average time 0.005039798566692644 iter num 420\n",
            "loss 0.101151242852211 average time 0.004981576859115028 iter num 440\n",
            "loss 0.08620168268680573 average time 0.004931299258716694 iter num 460\n",
            "loss 0.07216164469718933 average time 0.004884666662523311 iter num 480\n",
            "loss 0.10277445614337921 average time 0.004843347804022414 iter num 500\n",
            "loss 0.1463688313961029 average time 0.02964899060004882 iter num 20\n",
            "loss 0.07640478760004044 average time 0.016699575475058737 iter num 40\n",
            "loss 0.12806764245033264 average time 0.012422340116730386 iter num 60\n",
            "loss 0.07386451214551926 average time 0.010269480425040455 iter num 80\n",
            "loss 0.10083764791488647 average time 0.008981864090037562 iter num 100\n",
            "loss 0.3060314655303955 average time 0.00812844399167716 iter num 120\n",
            "loss 0.13127350807189941 average time 0.007505635428576949 iter num 140\n",
            "loss 0.08702247589826584 average time 0.007043097875003923 iter num 160\n",
            "loss 0.6846431493759155 average time 0.006677890644452115 iter num 180\n",
            "loss 0.08823031187057495 average time 0.006393745195002794 iter num 200\n",
            "loss 0.1000937670469284 average time 0.006162863722728285 iter num 220\n",
            "loss 0.11082692444324493 average time 0.00596286439999479 iter num 240\n",
            "loss 0.05713188648223877 average time 0.0057961808269213246 iter num 260\n",
            "loss 0.15615303814411163 average time 0.005651623078573006 iter num 280\n",
            "loss 0.03135824203491211 average time 0.0055351092033379245 iter num 300\n",
            "loss 0.02819156087934971 average time 0.005426002640628269 iter num 320\n",
            "loss 0.06288214772939682 average time 0.005330303952946987 iter num 340\n",
            "loss 0.06099582463502884 average time 0.0052430125138963985 iter num 360\n",
            "loss 0.1212652400135994 average time 0.005167261392112347 iter num 380\n",
            "loss 0.07100582867860794 average time 0.0051000449700040916 iter num 400\n",
            "loss 0.0518651083111763 average time 0.005038073950004218 iter num 420\n",
            "loss 0.08511333912611008 average time 0.004981612381823197 iter num 440\n",
            "loss 0.06326378136873245 average time 0.004929216660875484 iter num 460\n",
            "loss 0.13602764904499054 average time 0.004881464435422344 iter num 480\n",
            "loss 0.015643620863556862 average time 0.004837521350005773 iter num 500\n",
            "loss 0.25565075874328613 average time 0.02960026729999754 iter num 20\n",
            "loss 0.05577370151877403 average time 0.016758235700035585 iter num 40\n",
            "loss 0.2145116627216339 average time 0.012436970933367774 iter num 60\n",
            "loss 0.2262866348028183 average time 0.010347700275048055 iter num 80\n",
            "loss 0.12614887952804565 average time 0.009046032080032091 iter num 100\n",
            "loss 0.06799069046974182 average time 0.008169637066699428 iter num 120\n",
            "loss 1.3872504234313965 average time 0.007569546442882061 iter num 140\n",
            "loss 0.1301935315132141 average time 0.007097400775023743 iter num 160\n",
            "loss 0.15840506553649902 average time 0.006735629544469803 iter num 180\n",
            "loss 0.3083455562591553 average time 0.006439620145026765 iter num 200\n",
            "loss 0.09842030704021454 average time 0.006197417354569139 iter num 220\n",
            "loss 0.08237161487340927 average time 0.0059971421500203325 iter num 240\n",
            "loss 0.12428396940231323 average time 0.005828176573093585 iter num 260\n",
            "loss 0.061839863657951355 average time 0.005693407332161574 iter num 280\n",
            "loss 0.11167910695075989 average time 0.005576657596686042 iter num 300\n",
            "loss 0.07242900133132935 average time 0.00546161174689388 iter num 320\n",
            "loss 0.06821360439062119 average time 0.0053627324882561025 iter num 340\n",
            "loss 0.19995659589767456 average time 0.005276187944463749 iter num 360\n",
            "loss 0.1047181785106659 average time 0.00519827308422751 iter num 380\n",
            "loss 0.060802336782217026 average time 0.00512816882001971 iter num 400\n",
            "loss 0.13065193593502045 average time 0.005062796161921922 iter num 420\n",
            "loss 0.09327899664640427 average time 0.005006361475017746 iter num 440\n",
            "loss 0.058636732399463654 average time 0.004953137695670391 iter num 460\n",
            "loss 0.08366762101650238 average time 0.0049037861437701245 iter num 480\n",
            "loss 0.05952005088329315 average time 0.004863594090016704 iter num 500\n",
            "loss 0.30527859926223755 average time 0.030151720700018814 iter num 20\n",
            "loss 0.15360598266124725 average time 0.017033953975010264 iter num 40\n",
            "loss 0.17803063988685608 average time 0.01261016116667785 iter num 60\n",
            "loss 0.5607343912124634 average time 0.010455715074999716 iter num 80\n",
            "loss 0.09362047165632248 average time 0.009122328460002792 iter num 100\n",
            "loss 0.40882235765457153 average time 0.00822870772500058 iter num 120\n",
            "loss 0.07972459495067596 average time 0.007592240085715015 iter num 140\n",
            "loss 0.25399211049079895 average time 0.0071181758249991844 iter num 160\n",
            "loss 0.4140646755695343 average time 0.006747105483335266 iter num 180\n",
            "loss 0.19121277332305908 average time 0.006447295895002298 iter num 200\n",
            "loss 0.21672828495502472 average time 0.00620218485908853 iter num 220\n",
            "loss 0.07637792825698853 average time 0.006002812920830062 iter num 240\n",
            "loss 0.09021173417568207 average time 0.005829977030766014 iter num 260\n",
            "loss 0.11490258574485779 average time 0.005684378607138894 iter num 280\n",
            "loss 0.07402409613132477 average time 0.005556549379995583 iter num 300\n",
            "loss 0.049506574869155884 average time 0.005447066871872153 iter num 320\n",
            "loss 0.23537880182266235 average time 0.00534786894412023 iter num 340\n",
            "loss 0.025618668645620346 average time 0.005264141200000773 iter num 360\n",
            "loss 0.11672492325305939 average time 0.005187886797365967 iter num 380\n",
            "loss 0.0888858437538147 average time 0.005116704834999836 iter num 400\n",
            "loss 0.05525198206305504 average time 0.00505333613571652 iter num 420\n",
            "loss 0.06366678327322006 average time 0.004996885831819368 iter num 440\n",
            "loss 0.06079087033867836 average time 0.004943259993476955 iter num 460\n",
            "loss 0.0374857597053051 average time 0.004896079793745874 iter num 480\n",
            "loss 0.06366239488124847 average time 0.00485220068799481 iter num 500\n",
            "loss 0.16574078798294067 average time 0.02962296600001082 iter num 20\n",
            "loss 0.5169386863708496 average time 0.016725422374963727 iter num 40\n",
            "loss 2.5931148529052734 average time 0.012411848183311728 iter num 60\n",
            "loss 0.9939669370651245 average time 0.010261548399972753 iter num 80\n",
            "loss 0.4801936447620392 average time 0.009017201769979692 iter num 100\n",
            "loss 0.10081605613231659 average time 0.008176787391660886 iter num 120\n",
            "loss 0.3238230347633362 average time 0.007552358150003004 iter num 140\n",
            "loss 0.8352621793746948 average time 0.007089300581259295 iter num 160\n",
            "loss 0.11782002449035645 average time 0.006720616333336693 iter num 180\n",
            "loss 0.14174744486808777 average time 0.006429434120009319 iter num 200\n",
            "loss 0.18652933835983276 average time 0.006187604713640708 iter num 220\n",
            "loss 0.07907258719205856 average time 0.005987352162509296 iter num 240\n",
            "loss 0.168710857629776 average time 0.005816954957703484 iter num 260\n",
            "loss 0.14549657702445984 average time 0.005672107878587797 iter num 280\n",
            "loss 0.07478439807891846 average time 0.005546862696683093 iter num 300\n",
            "loss 0.11967839300632477 average time 0.005435078090640389 iter num 320\n",
            "loss 0.07628773152828217 average time 0.0053376289382493485 iter num 340\n",
            "loss 0.12709395587444305 average time 0.005255651055573354 iter num 360\n",
            "loss 0.11425940692424774 average time 0.005181265147386607 iter num 380\n",
            "loss 0.08312369883060455 average time 0.005109494467515106 iter num 400\n",
            "loss 0.046986863017082214 average time 0.005046654245255749 iter num 420\n",
            "loss 0.05438192933797836 average time 0.004987632577285695 iter num 440\n",
            "loss 0.0703321099281311 average time 0.004933985700010809 iter num 460\n",
            "loss 0.046067092567682266 average time 0.004887819872928389 iter num 480\n",
            "loss 0.04010644927620888 average time 0.0048428596640096655 iter num 500\n",
            "loss 0.19523495435714722 average time 0.02981766284999594 iter num 20\n",
            "loss 0.22126176953315735 average time 0.016800192099992728 iter num 40\n",
            "loss 0.15701927244663239 average time 0.012473807883308534 iter num 60\n",
            "loss 0.11741595715284348 average time 0.010296374962484834 iter num 80\n",
            "loss 0.9845919609069824 average time 0.00898540296997453 iter num 100\n",
            "loss 0.3353661000728607 average time 0.0081308871083138 iter num 120\n",
            "loss 0.5187215209007263 average time 0.0075082996999851406 iter num 140\n",
            "loss 0.23219478130340576 average time 0.007046858024978064 iter num 160\n",
            "loss 0.12922412157058716 average time 0.00669256858332119 iter num 180\n",
            "loss 0.06104620173573494 average time 0.006403061539992904 iter num 200\n",
            "loss 0.06346437335014343 average time 0.006162957372728008 iter num 220\n",
            "loss 0.08431487530469894 average time 0.005967900595832513 iter num 240\n",
            "loss 0.07866737991571426 average time 0.00580129831922617 iter num 260\n",
            "loss 0.1489516645669937 average time 0.005661668832138795 iter num 280\n",
            "loss 0.16878783702850342 average time 0.005542077499991744 iter num 300\n",
            "loss 0.19287270307540894 average time 0.005431876815616477 iter num 320\n",
            "loss 0.09469561278820038 average time 0.005334041755871594 iter num 340\n",
            "loss 0.11604973673820496 average time 0.005248318961098953 iter num 360\n",
            "loss 0.06642986834049225 average time 0.005170655686832728 iter num 380\n",
            "loss 0.07468521595001221 average time 0.005102725644992461 iter num 400\n",
            "loss 0.16622787714004517 average time 0.005039698733323695 iter num 420\n",
            "loss 0.029242604970932007 average time 0.004982536877263431 iter num 440\n",
            "loss 0.09744717180728912 average time 0.004932992156515233 iter num 460\n",
            "loss 0.09461915493011475 average time 0.004889686081244804 iter num 480\n",
            "loss 0.07404506951570511 average time 0.004845749665993935 iter num 500\n",
            "loss 0.2643648386001587 average time 0.02964940930003195 iter num 20\n",
            "loss 0.05575135350227356 average time 0.016692486425040443 iter num 40\n",
            "loss 0.2619514465332031 average time 0.012398502800010647 iter num 60\n",
            "loss 0.10400247573852539 average time 0.010271979150007837 iter num 80\n",
            "loss 0.2983279228210449 average time 0.008973120350005956 iter num 100\n",
            "loss 0.43951913714408875 average time 0.00811313100833028 iter num 120\n",
            "loss 0.15210536122322083 average time 0.007493321164283121 iter num 140\n",
            "loss 0.08158661425113678 average time 0.007051984243744869 iter num 160\n",
            "loss 0.09068674594163895 average time 0.006689200305552529 iter num 180\n",
            "loss 0.1648922562599182 average time 0.006406661924988839 iter num 200\n",
            "loss 0.0746149942278862 average time 0.006167243149992497 iter num 220\n",
            "loss 0.06795148551464081 average time 0.005966710837490534 iter num 240\n",
            "loss 0.10357680171728134 average time 0.00580424257307186 iter num 260\n",
            "loss 0.0971945971250534 average time 0.005662887221425146 iter num 280\n",
            "loss 0.08138537406921387 average time 0.0055415776666617 iter num 300\n",
            "loss 0.09491395205259323 average time 0.005431491465620298 iter num 320\n",
            "loss 0.20054125785827637 average time 0.005332670917640398 iter num 340\n",
            "loss 0.07524758577346802 average time 0.005249102813878734 iter num 360\n",
            "loss 0.05580289661884308 average time 0.005175453905253323 iter num 380\n",
            "loss 0.10701144486665726 average time 0.005106306034988393 iter num 400\n",
            "loss 0.055583588778972626 average time 0.005042708059508663 iter num 420\n",
            "loss 0.04391125217080116 average time 0.004984167688622743 iter num 440\n",
            "loss 0.10071273893117905 average time 0.004930851123901408 iter num 460\n",
            "loss 0.06627579033374786 average time 0.004881388516653829 iter num 480\n",
            "loss 0.03402993455529213 average time 0.004838695565981652 iter num 500\n",
            "loss 0.0761510357260704 average time 0.030022430550252464 iter num 20\n",
            "loss 0.10327145457267761 average time 0.01690680872509347 iter num 40\n",
            "loss 0.11792317777872086 average time 0.012528775100008716 iter num 60\n",
            "loss 0.21033410727977753 average time 0.010340515837503972 iter num 80\n",
            "loss 0.2086132913827896 average time 0.009031362760015326 iter num 100\n",
            "loss 0.9432110786437988 average time 0.008151455741676727 iter num 120\n",
            "loss 0.6529343724250793 average time 0.0075232984071460255 iter num 140\n",
            "loss 0.6387941837310791 average time 0.007054994181243046 iter num 160\n",
            "loss 0.06108807399868965 average time 0.00669826556665814 iter num 180\n",
            "loss 0.13716819882392883 average time 0.0064065290049939 iter num 200\n",
            "loss 0.15324197709560394 average time 0.006165811340898389 iter num 220\n",
            "loss 0.1629604548215866 average time 0.00596509397915194 iter num 240\n",
            "loss 0.21554332971572876 average time 0.005796446834602438 iter num 260\n",
            "loss 0.0706365555524826 average time 0.005656406814270148 iter num 280\n",
            "loss 0.05917975306510925 average time 0.005531475529987801 iter num 300\n",
            "loss 0.14523465931415558 average time 0.005425202968743293 iter num 320\n",
            "loss 0.15453998744487762 average time 0.005329399941175485 iter num 340\n",
            "loss 0.0712292343378067 average time 0.005241660280550301 iter num 360\n",
            "loss 0.05091249942779541 average time 0.005165161526314191 iter num 380\n",
            "loss 0.04483359307050705 average time 0.005094054254998355 iter num 400\n",
            "loss 0.11678062379360199 average time 0.005030673569046398 iter num 420\n",
            "loss 0.0547170527279377 average time 0.004974117565912324 iter num 440\n",
            "loss 0.044167522341012955 average time 0.004922595113050746 iter num 460\n",
            "loss 0.0636332556605339 average time 0.004878192270839085 iter num 480\n",
            "loss 0.07728207111358643 average time 0.004833649588006665 iter num 500\n",
            "loss 0.20291133224964142 average time 0.0297371537500112 iter num 20\n",
            "loss 0.24249829351902008 average time 0.016738563500030067 iter num 40\n",
            "loss 0.49670112133026123 average time 0.01247402525001841 iter num 60\n",
            "loss 0.3133331537246704 average time 0.010303162087529927 iter num 80\n",
            "loss 0.2002769261598587 average time 0.008992570390037145 iter num 100\n",
            "loss 0.34298163652420044 average time 0.008119283591690873 iter num 120\n",
            "loss 0.26065531373023987 average time 0.007501970971426479 iter num 140\n",
            "loss 1.0315165519714355 average time 0.0070356970562556855 iter num 160\n",
            "loss 0.4727027714252472 average time 0.006669197250009044 iter num 180\n",
            "loss 0.3829760253429413 average time 0.006396436759996504 iter num 200\n",
            "loss 0.050989337265491486 average time 0.006165259568189702 iter num 220\n",
            "loss 0.08353791385889053 average time 0.005982063241678285 iter num 240\n",
            "loss 0.13815361261367798 average time 0.0058111071038498404 iter num 260\n",
            "loss 0.11264266073703766 average time 0.0056644518071477384 iter num 280\n",
            "loss 0.10091519355773926 average time 0.00553727586333783 iter num 300\n",
            "loss 0.10353948175907135 average time 0.005426450521878223 iter num 320\n",
            "loss 0.0942908450961113 average time 0.005328570961768598 iter num 340\n",
            "loss 0.07518431544303894 average time 0.005243555347222658 iter num 360\n",
            "loss 0.04480481147766113 average time 0.005166998615787203 iter num 380\n",
            "loss 0.039468225091695786 average time 0.005096484492496529 iter num 400\n",
            "loss 0.06215338408946991 average time 0.005035180711900553 iter num 420\n",
            "loss 0.05659796670079231 average time 0.004977439131820657 iter num 440\n",
            "loss 0.04396751895546913 average time 0.0049305682434786155 iter num 460\n",
            "loss 0.04794907942414284 average time 0.004882470722916802 iter num 480\n",
            "loss 0.06962409615516663 average time 0.004838005179995889 iter num 500\n",
            "loss 0.41542622447013855 average time 0.029640029499751107 iter num 20\n",
            "loss 0.14460378885269165 average time 0.016691820624828324 iter num 40\n",
            "loss 0.6415354609489441 average time 0.012439028616563519 iter num 60\n",
            "loss 0.3787976801395416 average time 0.01027142678740347 iter num 80\n",
            "loss 0.40685439109802246 average time 0.008973679389928293 iter num 100\n",
            "loss 0.5278046131134033 average time 0.008110192308254226 iter num 120\n",
            "loss 0.2574049234390259 average time 0.007506742714219529 iter num 140\n",
            "loss 0.2345675826072693 average time 0.007044393287458206 iter num 160\n",
            "loss 0.9394497275352478 average time 0.0066857398166272715 iter num 180\n",
            "loss 0.1019899994134903 average time 0.006398041319957883 iter num 200\n",
            "loss 0.0716056376695633 average time 0.006159172531765349 iter num 220\n",
            "loss 0.1808910369873047 average time 0.005960999820786128 iter num 240\n",
            "loss 0.1706601083278656 average time 0.00579419200765607 iter num 260\n",
            "loss 0.07429000735282898 average time 0.00564988002496258 iter num 280\n",
            "loss 0.058256544172763824 average time 0.005530211936629712 iter num 300\n",
            "loss 0.05980868637561798 average time 0.005420827209340473 iter num 320\n",
            "loss 0.08416405320167542 average time 0.005324603970554081 iter num 340\n",
            "loss 0.06171243637800217 average time 0.005243036727741431 iter num 360\n",
            "loss 0.06531631201505661 average time 0.0051659188552309245 iter num 380\n",
            "loss 0.09932100772857666 average time 0.005100563544963279 iter num 400\n",
            "loss 0.05388261377811432 average time 0.0050416724737737065 iter num 420\n",
            "loss 0.056143708527088165 average time 0.0049869314795180555 iter num 440\n",
            "loss 0.056446611881256104 average time 0.004936728363014955 iter num 460\n",
            "loss 0.04349895194172859 average time 0.00489030107914156 iter num 480\n",
            "loss 0.07661741971969604 average time 0.004846371643974635 iter num 500\n",
            "loss 0.43693095445632935 average time 0.02960146774998975 iter num 20\n",
            "loss 0.24942879378795624 average time 0.016703284799950778 iter num 40\n",
            "loss 0.1788005381822586 average time 0.012390726549968652 iter num 60\n",
            "loss 0.4202849268913269 average time 0.010291029749964764 iter num 80\n",
            "loss 0.11958592385053635 average time 0.008989990789941657 iter num 100\n",
            "loss 1.102608323097229 average time 0.008118888016648876 iter num 120\n",
            "loss 0.06734621524810791 average time 0.0074992816785522465 iter num 140\n",
            "loss 0.37642866373062134 average time 0.00703698154374024 iter num 160\n",
            "loss 0.49990588426589966 average time 0.006670964027772344 iter num 180\n",
            "loss 0.14137567579746246 average time 0.0063837824499978525 iter num 200\n",
            "loss 0.1734154224395752 average time 0.006148102568175256 iter num 220\n",
            "loss 0.21213045716285706 average time 0.005960559458329347 iter num 240\n",
            "loss 0.06652259081602097 average time 0.005792661115380654 iter num 260\n",
            "loss 0.6312649846076965 average time 0.005650048542851696 iter num 280\n",
            "loss 0.0733281821012497 average time 0.005528413436659321 iter num 300\n",
            "loss 0.056060776114463806 average time 0.005418143118748731 iter num 320\n",
            "loss 0.05530468747019768 average time 0.0053216684294083655 iter num 340\n",
            "loss 0.15389707684516907 average time 0.005235116797217011 iter num 360\n",
            "loss 0.05709186941385269 average time 0.005156782942101831 iter num 380\n",
            "loss 0.22652465105056763 average time 0.005087041014994611 iter num 400\n",
            "loss 0.07613617181777954 average time 0.005025139349999379 iter num 420\n",
            "loss 0.05623612552881241 average time 0.004967285877269619 iter num 440\n",
            "loss 0.08471395075321198 average time 0.004919116476086224 iter num 460\n",
            "loss 0.09876196086406708 average time 0.004871822127086034 iter num 480\n",
            "loss 0.07658226788043976 average time 0.004828249374002553 iter num 500\n",
            "loss 0.8462023735046387 average time 0.02954417575001571 iter num 20\n",
            "loss 0.10990526527166367 average time 0.016655492000063533 iter num 40\n",
            "loss 0.22780948877334595 average time 0.01235958396676627 iter num 60\n",
            "loss 0.22471727430820465 average time 0.010214131500038092 iter num 80\n",
            "loss 0.6968580484390259 average time 0.008968036350024704 iter num 100\n",
            "loss 8.728504180908203 average time 0.00810290309168522 iter num 120\n",
            "loss 0.21917930245399475 average time 0.007512274457134741 iter num 140\n",
            "loss 0.44826367497444153 average time 0.00704289146873407 iter num 160\n",
            "loss 0.2840041220188141 average time 0.006718172605537297 iter num 180\n",
            "loss 0.26803070306777954 average time 0.006422465224986808 iter num 200\n",
            "loss 0.09732270985841751 average time 0.006181916413619216 iter num 220\n",
            "loss 0.12961050868034363 average time 0.005980806674968638 iter num 240\n",
            "loss 0.08978457748889923 average time 0.005809391346124708 iter num 260\n",
            "loss 0.10589230060577393 average time 0.005665848582118218 iter num 280\n",
            "loss 0.033592093735933304 average time 0.005540017859972674 iter num 300\n",
            "loss 0.0659409761428833 average time 0.005428390837474239 iter num 320\n",
            "loss 0.0871121734380722 average time 0.0053311376970294295 iter num 340\n",
            "loss 0.03220227360725403 average time 0.005249842869410612 iter num 360\n",
            "loss 0.12383855879306793 average time 0.005169646602598732 iter num 380\n",
            "loss 0.1569695919752121 average time 0.005101299444972938 iter num 400\n",
            "loss 0.06265933811664581 average time 0.005038864040452175 iter num 420\n",
            "loss 0.0873679369688034 average time 0.004982497109067068 iter num 440\n",
            "loss 0.03655405342578888 average time 0.004928976349976991 iter num 460\n",
            "loss 0.11353453993797302 average time 0.004881711947897808 iter num 480\n",
            "loss 0.06419537961483002 average time 0.004838871907977591 iter num 500\n"
          ],
          "name": "stdout"
        }
      ]
    },
    {
      "cell_type": "code",
      "metadata": {
        "id": "4PoCbuHJDGUJ"
      },
      "source": [
        "#model_save_name = f'EuCall_{str(nstock)}_3.pth'\n",
        "#path = F\"/content/drive/MyDrive/AFP Project/PUI/{model_save_name}\" \n",
        "model_save_name = f'EuCall_{str(nstock)}_wd.pth'\n",
        "path = F\"/content/drive/MyDrive/{model_save_name}\"\n",
        "torch.save(model.state_dict(), path)"
      ],
      "execution_count": 25,
      "outputs": []
    },
    {
      "cell_type": "markdown",
      "metadata": {
        "id": "ehmhDw8BUtLi"
      },
      "source": [
        "### Inference and Greeks"
      ]
    },
    {
      "cell_type": "markdown",
      "metadata": {
        "id": "Uiro43mOU0Ro"
      },
      "source": [
        "We can load the model parameters and use it to do inference"
      ]
    },
    {
      "cell_type": "code",
      "metadata": {
        "id": "svlu6tGTRx1F",
        "colab": {
          "base_uri": "https://localhost:8080/"
        },
        "outputId": "f93fe49e-b80d-485a-86c7-61042796994c"
      },
      "source": [
        "import torch\n",
        "\n",
        "inputs = torch.tensor([[1, 110.0, 110.0, 0.35, 0.1, 0.05] * nstock]).cuda()\n",
        "model(inputs.float())"
      ],
      "execution_count": 11,
      "outputs": [
        {
          "output_type": "execute_result",
          "data": {
            "text/plain": [
              "tensor([[17.6780]], device='cuda:0', grad_fn=<AddmmBackward>)"
            ]
          },
          "metadata": {},
          "execution_count": 11
        }
      ]
    },
    {
      "cell_type": "markdown",
      "metadata": {
        "id": "M1Iy-9pWVRDO"
      },
      "source": [
        "One of the benefits of building a deep learning model is that the [Greeks](<https://en.wikipedia.org/wiki/Greeks_(finance)#First-order_Greeks>) can be easily computed. \n",
        "We just need to take advantage of the auto-grad feature in Pytorch. We can use `grad` function to compute the first order differentiation for parameters 'K, B, S0, sigma, mu, r'"
      ]
    },
    {
      "cell_type": "code",
      "metadata": {
        "id": "ytBZaYHKSnDu",
        "colab": {
          "base_uri": "https://localhost:8080/"
        },
        "outputId": "76454f98-4b0d-4191-b09d-9fdb138525a8"
      },
      "source": [
        "inputs = torch.tensor([[1, 110.0, 110.0, 0.35, 0.1, 0.05] * nstock]).cuda()\n",
        "inputs.requires_grad = True\n",
        "x = model(inputs.float())\n",
        "x.backward()\n",
        "first_order_gradient = inputs.grad\n",
        "first_order_gradient"
      ],
      "execution_count": 12,
      "outputs": [
        {
          "output_type": "execute_result",
          "data": {
            "text/plain": [
              "tensor([[-12.9392,  -0.4520,   0.6142,  40.3366,   0.1906,  51.5099]],\n",
              "       device='cuda:0')"
            ]
          },
          "metadata": {},
          "execution_count": 12
        }
      ]
    },
    {
      "cell_type": "markdown",
      "metadata": {
        "id": "8KeijaDDVZGd"
      },
      "source": [
        "Here we are going to plot the Delta graph:-"
      ]
    },
    {
      "cell_type": "markdown",
      "metadata": {
        "id": "skwgeVDsA_Mr"
      },
      "source": [
        "# Delta"
      ]
    },
    {
      "cell_type": "markdown",
      "metadata": {
        "id": "Bi_2Dqnx3_oP"
      },
      "source": [
        "#### Using gradient, Change only 1 S0 at a time"
      ]
    },
    {
      "cell_type": "code",
      "metadata": {
        "id": "USh3qaADSYQp"
      },
      "source": [
        "#### Using gradient, Change only 1 S0 at a time\n",
        "%matplotlib inline\n",
        "from torch.autograd import grad\n",
        "import pylab\n",
        "import numpy as np\n",
        "def compute_delta(S, ith):\n",
        "    inputs = torch.tensor([[1, 110.0, 110.0, 0.35, 0.1, 0.05]*(ith-1)\\\n",
        "                           + [1, 110.0, S, 0.35, 0.1, 0.05]\\\n",
        "                           + ([1, 110.0, 110.0, 0.35, 0.1, 0.05]*(nstock-ith))]).cuda()\n",
        "    inputs.requires_grad = True\n",
        "    x = model(inputs.float())\n",
        "    #x = model(inputs)\n",
        "    x.backward()\n",
        "    first_order_gradient = inputs.grad\n",
        "    return first_order_gradient[0][2]"
      ],
      "execution_count": 13,
      "outputs": []
    },
    {
      "cell_type": "code",
      "metadata": {
        "colab": {
          "base_uri": "https://localhost:8080/",
          "height": 279
        },
        "id": "4MfZKJlv13SC",
        "outputId": "ed5b379a-becb-42fa-e8ce-4eeb3b084f5a"
      },
      "source": [
        "for i in range(1, nstock+1):\n",
        "  prices = np.arange(0, 150, 0.1)\n",
        "  deltas = []\n",
        "  for p in prices:\n",
        "      deltas.append(compute_delta(p, i).item())\n",
        "  fig = pylab.plot(prices, deltas, label = f'{i}th stock')\n",
        "  pylab.legend(loc = 'lower right')\n",
        "  pylab.xlabel('prices')\n",
        "  pylab.ylabel('Delta')\n",
        "  fig"
      ],
      "execution_count": 14,
      "outputs": [
        {
          "output_type": "display_data",
          "data": {
            "image/png": "[encoded data removed]",
            "text/plain": [
              "<Figure size 432x288 with 1 Axes>"
            ]
          },
          "metadata": {
            "needs_background": "light"
          }
        }
      ]
    },
    {
      "cell_type": "markdown",
      "metadata": {
        "id": "iXixHQic35iI"
      },
      "source": [
        "#### Using Finite Difference, Change only 1 S0 at a time"
      ]
    },
    {
      "cell_type": "code",
      "metadata": {
        "colab": {
          "base_uri": "https://localhost:8080/",
          "height": 279
        },
        "id": "VGk5Hw64fMdh",
        "outputId": "ad055c2c-566c-46cc-ed1d-356cabb612db"
      },
      "source": [
        "## Using Finite Difference, Change only 1 S0 at a time\n",
        "%matplotlib inline\n",
        "import numpy as np\n",
        "def compute_delta(S, ith):\n",
        "    epsilon = 0.01\n",
        "    inputs1 = torch.tensor([[1, 110.0, 110.0, 0.35, 0.1, 0.05]*(ith-1)\\\n",
        "                           + [1, 110.0, S, 0.35, 0.1, 0.05]\\\n",
        "                           + ([1, 110.0, 110.0, 0.35, 0.1, 0.05]*(nstock-ith))]).cuda()\n",
        "    inputs2 = torch.tensor([[1, 110.0, 110.0, 0.35, 0.1, 0.05]*(ith-1)\\\n",
        "                           + [1, 110.0, S + epsilon, 0.35, 0.1, 0.05]\\\n",
        "                           + ([1, 110.0, 110.0, 0.35, 0.1, 0.05]*(nstock-ith))]).cuda()\n",
        "    delta = (model(inputs2.float()) - model(inputs1.float()))/epsilon\n",
        "    return delta\n",
        "\n",
        "for i in range(1, nstock+1):\n",
        "  prices = np.arange(0, 150, 0.1)\n",
        "  deltas = []\n",
        "  for p in prices:\n",
        "      deltas.append(compute_delta(p, i).item())\n",
        "  fig = pylab.plot(prices, deltas, label = f'{i}th stock')\n",
        "  pylab.legend(loc = 'lower right')\n",
        "  pylab.xlabel('prices')\n",
        "  pylab.ylabel('Delta')\n",
        "  fig"
      ],
      "execution_count": 15,
      "outputs": [
        {
          "output_type": "display_data",
          "data": {
            "image/png": "[encoded data removed]",
            "text/plain": [
              "<Figure size 432x288 with 1 Axes>"
            ]
          },
          "metadata": {
            "needs_background": "light"
          }
        }
      ]
    },
    {
      "cell_type": "markdown",
      "metadata": {
        "id": "fIJe36fJ4JFO"
      },
      "source": [
        "#### Using Finite Difference, Change 3 S0 at a time"
      ]
    },
    {
      "cell_type": "code",
      "metadata": {
        "colab": {
          "base_uri": "https://localhost:8080/",
          "height": 297
        },
        "id": "4O1I8COnUxnz",
        "outputId": "370f9e27-07d9-4a8d-df46-8eff61bd000c"
      },
      "source": [
        "##Using Finite Difference, Change 3 S0 at a time\n",
        "%matplotlib inline\n",
        "import numpy as np\n",
        "def compute_delta(S):\n",
        "    epsilon = 0.01\n",
        "    inputs1 = torch.tensor([[1, 110.0, S, 0.35, 0.1, 0.05]*nstock]).cuda()\n",
        "    inputs2 = torch.tensor([[1, 110.0, S + epsilon, 0.35, 0.1, 0.05]*nstock]).cuda()\n",
        "    delta = (model(inputs2.float()) - model(inputs1.float()))/epsilon\n",
        "    return delta\n",
        "\n",
        "\n",
        "prices = np.arange(0, 150, 0.1)\n",
        "deltas = []\n",
        "for p in prices:\n",
        "    deltas.append(compute_delta(p).item())\n",
        "fig = pylab.plot(prices, deltas)\n",
        "pylab.xlabel('prices')\n",
        "pylab.ylabel('Delta')\n",
        "fig"
      ],
      "execution_count": 16,
      "outputs": [
        {
          "output_type": "execute_result",
          "data": {
            "text/plain": [
              "[<matplotlib.lines.Line2D at 0x7fed6d227750>]"
            ]
          },
          "metadata": {},
          "execution_count": 16
        },
        {
          "output_type": "display_data",
          "data": {
            "image/png": "[encoded data removed]",
            "text/plain": [
              "<Figure size 432x288 with 1 Axes>"
            ]
          },
          "metadata": {
            "needs_background": "light"
          }
        }
      ]
    },
    {
      "cell_type": "markdown",
      "metadata": {
        "id": "yNB8LPwfBMHQ"
      },
      "source": [
        "# Gamma"
      ]
    },
    {
      "cell_type": "markdown",
      "metadata": {
        "id": "oLO_5nEGVcEc"
      },
      "source": [
        "Calculating the second order derivative is easy in PyTorch too. We just need to apply the `grad` function twice. Use this mechanism, we can calculate the second order derivatives $\\frac{\\partial^2 P}{\\partial K \\partial S_0}$, $\\frac{\\partial^2 P}{\\partial B \\partial S_0}$, $\\frac{\\partial^2 P}{\\partial S_0^2}$, $\\frac{\\partial^2 P}{\\partial \\sigma \\partial S_0}$, $\\frac{\\partial^2 P}{\\partial \\mu \\partial S_0}$, $\\frac{\\partial^2 P}{\\partial r \\partial S_0}$ in the following example."
      ]
    },
    {
      "cell_type": "code",
      "metadata": {
        "id": "nGzj7A3sThZK",
        "colab": {
          "base_uri": "https://localhost:8080/"
        },
        "outputId": "5ead73b4-868b-437e-f4c2-ae01dd9d9316"
      },
      "source": [
        "import torch\n",
        "from torch import Tensor\n",
        "from torch.autograd import Variable\n",
        "from torch.autograd import grad\n",
        "from torch import nn\n",
        "\n",
        "inputs = torch.tensor([[1, 110.0, 110.0, 0.35, 0.1, 0.05]*nstock]).cuda()\n",
        "inputs.requires_grad = True\n",
        "x = model(inputs)\n",
        "\n",
        "# instead of using loss.backward(), use torch.autograd.grad() to compute gradients\n",
        "# https://pytorch.org/docs/stable/autograd.html#torch.autograd.grad\n",
        "loss_grads = grad(x, inputs, create_graph=True)\n",
        "drv = grad(loss_grads[0][0][2], inputs)\n",
        "drv"
      ],
      "execution_count": 17,
      "outputs": [
        {
          "output_type": "execute_result",
          "data": {
            "text/plain": [
              "(tensor([[-0.1909, -0.0113,  0.0114,  0.0667,  0.0301,  1.1949]],\n",
              "        device='cuda:0'),)"
            ]
          },
          "metadata": {},
          "execution_count": 17
        }
      ]
    },
    {
      "cell_type": "markdown",
      "metadata": {
        "id": "WJbZYtvhVmSo"
      },
      "source": [
        "Gamma is the second order differenation of `S`. We can plot the the Gamma curve as a function of the stock price"
      ]
    },
    {
      "cell_type": "markdown",
      "metadata": {
        "id": "dlXVePiK4UH5"
      },
      "source": [
        "#### Using gradient, Change only 1 S0 at a time"
      ]
    },
    {
      "cell_type": "code",
      "metadata": {
        "id": "3JpQa3EJToA0",
        "colab": {
          "base_uri": "https://localhost:8080/",
          "height": 279
        },
        "outputId": "2b70c12b-0a95-4de3-891b-7bd5f7cfb11d"
      },
      "source": [
        "##Using gradient, Change only 1 S0 at a time\n",
        "import pylab\n",
        "import numpy as np\n",
        "def compute_gamma(S, ith):\n",
        "  inputs = torch.tensor([[1, 110.0, 110.0, 0.35, 0.1, 0.05]*(ith-1)\\\n",
        "                           + [1, 110.0, S, 0.35, 0.1, 0.05]\\\n",
        "                           + ([1, 110.0, 110.0, 0.35, 0.1, 0.05]*(nstock-ith))]).cuda()\n",
        "  # inputs = torch.tensor([[1, 110.0, S, 0.35, 0.1, 0.05] + ([1, 110.0, 110.0, 0.35, 0.1, 0.05]*2)]).cuda()\n",
        "  inputs.requires_grad = True\n",
        "  x = model(inputs.float())\n",
        "  #x = model(inputs)\n",
        "  loss_grads = grad(x, inputs, create_graph=True)\n",
        "  drv = grad(loss_grads[0][0][2], inputs)\n",
        "  return drv[0][0][2]\n",
        "\n",
        "for i in range(1, nstock+1):\n",
        "  prices = np.arange(0, 150, 0.1)\n",
        "  gammas = []\n",
        "  for p in prices:\n",
        "      gammas.append(compute_gamma(p, i).item())\n",
        "  fig2 = pylab.plot(prices, gammas, label = f'{i}th stock')\n",
        "  pylab.legend(loc = 'upper right')\n",
        "  pylab.xlabel('prices')\n",
        "  pylab.ylabel('Gamma')\n",
        "  fig2"
      ],
      "execution_count": 18,
      "outputs": [
        {
          "output_type": "display_data",
          "data": {
            "image/png": "[encoded data removed]",
            "text/plain": [
              "<Figure size 432x288 with 1 Axes>"
            ]
          },
          "metadata": {
            "needs_background": "light"
          }
        }
      ]
    },
    {
      "cell_type": "markdown",
      "metadata": {
        "id": "RDEmn97t4xxJ"
      },
      "source": [
        "#### Using Finite Difference, Change only 1 S0 at a time"
      ]
    },
    {
      "cell_type": "code",
      "metadata": {
        "id": "BsoaOyCDxQy0",
        "colab": {
          "base_uri": "https://localhost:8080/",
          "height": 279
        },
        "outputId": "0d8c0f89-dca3-41d9-d4fe-3c798225e0c9"
      },
      "source": [
        "##Using Finite Difference, Change only 1 S0 at a time\n",
        "%matplotlib inline\n",
        "import numpy as np\n",
        "def compute_gamma(S, ith):\n",
        "    epsilon = 0.5\n",
        "    inputs1 = torch.tensor([[1, 110.0, 110.0, 0.35, 0.1, 0.05]*(ith-1)\\\n",
        "                           + [1, 110.0, S, 0.35, 0.1, 0.05]\\\n",
        "                           + ([1, 110.0, 110.0, 0.35, 0.1, 0.05]*(nstock-ith))]).cuda()\n",
        "    inputs2 = torch.tensor([[1, 110.0, 110.0, 0.35, 0.1, 0.05]*(ith-1)\\\n",
        "                           + [1, 110.0, S+epsilon, 0.35, 0.1, 0.05]\\\n",
        "                           + ([1, 110.0, 110.0, 0.35, 0.1, 0.05]*(nstock-ith))]).cuda()\n",
        "    inputs3 = torch.tensor([[1, 110.0, 110.0, 0.35, 0.1, 0.05]*(ith-1)\\\n",
        "                           + [1, 110.0, S-epsilon, 0.35, 0.1, 0.05]\\\n",
        "                           + ([1, 110.0, 110.0, 0.35, 0.1, 0.05]*(nstock-ith))]).cuda()\n",
        "    # inputs1 = torch.tensor([[1, 110.0, S, 0.35, 0.1, 0.05]  + ([1, 110.0, 110.0, 0.35, 0.1, 0.05]*2)]).cuda()\n",
        "    # inputs2 = torch.tensor([[1, 110.0, S + epsilon, 0.35, 0.1, 0.05]  + ([1, 110.0, 110.0, 0.35, 0.1, 0.05]*2)]).cuda()\n",
        "    # inputs3 = torch.tensor([[1, 110.0, S - epsilon, 0.35, 0.1, 0.05]  + ([1, 110.0, 110.0, 0.35, 0.1, 0.05]*2)]).cuda()\n",
        "    gamma = (model(inputs2.float()) - 2*model(inputs1.float()) + model(inputs3.float()))/(epsilon**2)\n",
        "    return gamma\n",
        "\n",
        "for i in range(1, nstock+1):\n",
        "  prices = np.arange(0, 150, 0.1)\n",
        "  gammas = []\n",
        "  for p in prices:\n",
        "      gammas.append(compute_gamma(p, i).item())\n",
        "  fig = pylab.plot(prices, gammas, label = f'{i}th stock')\n",
        "  pylab.legend(loc = 'upper right')\n",
        "  pylab.xlabel('prices')\n",
        "  pylab.ylabel('Gamma')\n",
        "  fig"
      ],
      "execution_count": null,
      "outputs": [
        {
          "output_type": "display_data",
          "data": {
            "image/png": "[encoded data removed]",
            "text/plain": [
              "<Figure size 432x288 with 1 Axes>"
            ]
          },
          "metadata": {
            "tags": [],
            "needs_background": "light"
          }
        }
      ]
    },
    {
      "cell_type": "markdown",
      "metadata": {
        "id": "SnRaSM685NCq"
      },
      "source": [
        "#### Using Finite Difference, Change 3 S0 at a time"
      ]
    },
    {
      "cell_type": "code",
      "metadata": {
        "colab": {
          "base_uri": "https://localhost:8080/",
          "height": 297
        },
        "id": "aOsXgOwWZ_ru",
        "outputId": "b8faf9ef-49dd-4a5f-fd07-a394be5a7e99"
      },
      "source": [
        "##Using Finite Difference, Change 3 S0 at a time\n",
        "%matplotlib inline\n",
        "import numpy as np\n",
        "def compute_gamma(S):\n",
        "    epsilon = 0.5\n",
        "    inputs1 = torch.tensor([[1, 110.0, S, 0.35, 0.1, 0.05]*nstock]).cuda()\n",
        "    inputs2 = torch.tensor([[1, 110.0, S + epsilon, 0.35, 0.1, 0.05]*nstock]).cuda()\n",
        "    inputs3 = torch.tensor([[1, 110.0, S - epsilon, 0.35, 0.1, 0.05]*nstock]).cuda()\n",
        "    gamma = (model(inputs2.float()) - 2*model(inputs1.float()) + model(inputs3.float()))/(epsilon**2)\n",
        "    return gamma\n",
        "\n",
        "prices = np.arange(0, 150, 0.1)\n",
        "gammas = []\n",
        "for p in prices:\n",
        "    gammas.append(compute_gamma(p).item())\n",
        "fig = pylab.plot(prices, gammas)\n",
        "pylab.xlabel('prices')\n",
        "pylab.ylabel('Gamma')\n",
        "fig"
      ],
      "execution_count": null,
      "outputs": [
        {
          "output_type": "execute_result",
          "data": {
            "text/plain": [
              "[<matplotlib.lines.Line2D at 0x7fb47010bb90>]"
            ]
          },
          "metadata": {
            "tags": []
          },
          "execution_count": 23
        },
        {
          "output_type": "display_data",
          "data": {
            "image/png": "[encoded data removed]",
            "text/plain": [
              "<Figure size 432x288 with 1 Axes>"
            ]
          },
          "metadata": {
            "tags": [],
            "needs_background": "light"
          }
        }
      ]
    },
    {
      "cell_type": "markdown",
      "metadata": {
        "id": "67lca2xrBh9a"
      },
      "source": [
        "# Vega"
      ]
    },
    {
      "cell_type": "markdown",
      "metadata": {
        "id": "iuETeg-e53wz"
      },
      "source": [
        "#### Using finite difference, Change only 1 S0 at a time"
      ]
    },
    {
      "cell_type": "code",
      "metadata": {
        "id": "muozc-hzhSGA",
        "colab": {
          "base_uri": "https://localhost:8080/",
          "height": 283
        },
        "outputId": "baf8bbe5-4eaa-4537-a258-3ba4f7c6ace3"
      },
      "source": [
        "##Using finite difference, Change only 1 S0 at a time\n",
        "# vega\n",
        "%matplotlib inline\n",
        "import numpy as np\n",
        "def compute_vega(S, ith):\n",
        "    epsilon = 0.5\n",
        "\n",
        "    inputs1 = torch.tensor([[1, 110.0, 110.0, 0.35, 0.1, 0.05]*(ith-1)\\\n",
        "                           + [1, 110.0, S, 0.35, 0.1, 0.05]\\\n",
        "                           + ([1, 110.0, 110.0, 0.35, 0.1, 0.05]*(nstock-ith))]).cuda()\n",
        "    inputs2 = torch.tensor([[1, 110.0, 110.0, 0.35, 0.1, 0.05]*(ith-1)\\\n",
        "                           + [1, 110.0, S, 0.35+epsilon, 0.1, 0.05]\\\n",
        "                           + ([1, 110.0, 110.0, 0.35, 0.1, 0.05]*(nstock-ith))]).cuda()\n",
        "\n",
        "    vega = (model(inputs2.float()) - model(inputs1.float()))/epsilon\n",
        "    return vega\n",
        "\n",
        "for i in range(1, nstock+1):\n",
        "  prices = np.arange(0, 150, 0.1)\n",
        "  vegas = []\n",
        "  for p in prices:\n",
        "      vegas.append(compute_vega(p, i).item())\n",
        "  fig = pylab.plot(prices, vegas, label = f'{i}th stock')\n",
        "  pylab.legend(loc = 'upper right')\n",
        "  pylab.xlabel('prices')\n",
        "  pylab.ylabel('Vega')\n",
        "  fig"
      ],
      "execution_count": null,
      "outputs": [
        {
          "output_type": "display_data",
          "data": {
            "image/png": "[encoded data removed]",
            "text/plain": [
              "<Figure size 432x288 with 1 Axes>"
            ]
          },
          "metadata": {
            "tags": [],
            "needs_background": "light"
          }
        }
      ]
    },
    {
      "cell_type": "markdown",
      "metadata": {
        "id": "y_BYyL9d584w"
      },
      "source": [
        "#### Using Finite Difference, Change 3 S0 at a time"
      ]
    },
    {
      "cell_type": "code",
      "metadata": {
        "colab": {
          "base_uri": "https://localhost:8080/",
          "height": 297
        },
        "id": "0KATxBCAdlFt",
        "outputId": "5b794a63-dd71-4d55-852b-96ddd25f56fb"
      },
      "source": [
        "##Using Finite Difference, Change 3 S0 at a time\n",
        "# vega\n",
        "%matplotlib inline\n",
        "import numpy as np\n",
        "def compute_vega(S):\n",
        "    epsilon = 0.5\n",
        "    inputs1 = torch.tensor([[1, 110.0, S, 0.35, 0.1, 0.05]*nstock]).cuda()\n",
        "    inputs2 = torch.tensor([[1, 110.0, S, 0.35 + epsilon, 0.1, 0.05]*nstock]).cuda()\n",
        "    vega = (model(inputs2.float()) - model(inputs1.float()))/epsilon\n",
        "    return vega\n",
        "\n",
        "\n",
        "prices = np.arange(0, 150, 0.1)\n",
        "vegas = []\n",
        "for p in prices:\n",
        "    vegas.append(compute_vega(p).item())\n",
        "fig = pylab.plot(prices, vegas)\n",
        "pylab.xlabel('prices')\n",
        "pylab.ylabel('Vega')\n",
        "fig"
      ],
      "execution_count": null,
      "outputs": [
        {
          "output_type": "execute_result",
          "data": {
            "text/plain": [
              "[<matplotlib.lines.Line2D at 0x7fb417379490>]"
            ]
          },
          "metadata": {
            "tags": []
          },
          "execution_count": 25
        },
        {
          "output_type": "display_data",
          "data": {
            "image/png": "[encoded data removed]",
            "text/plain": [
              "<Figure size 432x288 with 1 Axes>"
            ]
          },
          "metadata": {
            "tags": [],
            "needs_background": "light"
          }
        }
      ]
    },
    {
      "cell_type": "markdown",
      "metadata": {
        "id": "Rj7NlW6GVqSA"
      },
      "source": [
        "[Implied volatility](https://en.wikipedia.org/wiki/Implied_volatility) is the forecasted volatility of the underlying asset based on the quoted prices of the option. It is the reverse mapping of price to the option parameter given the model which is hard to do with the Monte Carlo simulation approach. But if we have the deep learning pricing model, it is an easy task. We can first plot the relationship between volatility and the option price"
      ]
    },
    {
      "cell_type": "code",
      "metadata": {
        "id": "4yrCw5UNT07t"
      },
      "source": [
        "# import pylab\n",
        "# import numpy as np\n",
        "# def compute_price(sigma):\n",
        "#     inputs = torch.tensor([[1, 110.0, 110.0, sigma, 0.1, 0.05]]).cuda()\n",
        "#     x = model(inputs.float())\n",
        "#     #x = model(inputs)\n",
        "#     return x.item()\n",
        "# sigmas = np.arange(0, 0.5, 0.1)\n",
        "# prices = []\n",
        "# for s in sigmas:\n",
        "#     prices.append(compute_price(s))\n",
        "# fig3 = pylab.plot(sigmas, prices)\n",
        "# pylab.xlabel('Sigma')\n",
        "# pylab.ylabel('Price')\n",
        "# fig3"
      ],
      "execution_count": null,
      "outputs": []
    },
    {
      "cell_type": "markdown",
      "metadata": {
        "id": "EU25Cj29VtCa"
      },
      "source": [
        "Given the prices `P`, the implied volatility is the root of the function `compute_price`. We can use bisection to find the root."
      ]
    },
    {
      "cell_type": "code",
      "metadata": {
        "id": "ddHnwm_zUBYD"
      },
      "source": [
        "# def bisection_root(small, large, fun, target, EPS=1e-6):\n",
        "#     if fun(large) - target < 0:\n",
        "#         print('upper bound is too small')\n",
        "#         return None\n",
        "#     if fun(small) - target > 0:\n",
        "#         print('lower bound is too large')\n",
        "#         return None\n",
        "#     while large - small > EPS:\n",
        "#         mid = (large + small) / 2.0\n",
        "#         if fun(mid) - target >= 0:\n",
        "#             large = mid\n",
        "#         else:\n",
        "#             small = mid\n",
        "#     mid = (large + small) / 2.0\n",
        "#     return mid, abs(fun(mid) - target)\n",
        "# quoted_price = 16.0\n",
        "# sigma, err = bisection_root(0, 0.5, compute_price, quoted_price)\n",
        "# print('implied volativity', sigma, 'error', err)     "
      ],
      "execution_count": null,
      "outputs": []
    },
    {
      "cell_type": "code",
      "metadata": {
        "id": "DEiAredqQGxf"
      },
      "source": [
        ""
      ],
      "execution_count": null,
      "outputs": []
    }
  ]
}