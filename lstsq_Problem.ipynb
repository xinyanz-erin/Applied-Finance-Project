{
  "nbformat": 4,
  "nbformat_minor": 0,
  "metadata": {
    "colab": {
      "name": "lstsq_Problem.ipynb",
      "provenance": [],
      "collapsed_sections": [],
      "authorship_tag": "ABX9TyPmXduBIz1OCO4Ww0E6jb4A",
      "include_colab_link": true
    },
    "kernelspec": {
      "name": "python3",
      "display_name": "Python 3"
    },
    "language_info": {
      "name": "python"
    },
    "accelerator": "GPU"
  },
  "cells": [
    {
      "cell_type": "markdown",
      "metadata": {
        "id": "view-in-github",
        "colab_type": "text"
      },
      "source": [
        "<a href=\"https://colab.research.google.com/github/xinyanz-erin/Applied-Finance-Project/blob/Judy/lstsq_Problem.ipynb\" target=\"_parent\"><img src=\"https://colab.research.google.com/assets/colab-badge.svg\" alt=\"Open In Colab\"/></a>"
      ]
    },
    {
      "cell_type": "code",
      "metadata": {
        "id": "Rx0a3A_dXtWK"
      },
      "source": [
        "import jax\n",
        "import jax.numpy as jnp\n",
        "import numpy as np\n",
        "from numpy.linalg import inv"
      ],
      "execution_count": 9,
      "outputs": []
    },
    {
      "cell_type": "markdown",
      "metadata": {
        "id": "UjGWWAMGcf3U"
      },
      "source": [
        "## Test1"
      ]
    },
    {
      "cell_type": "code",
      "metadata": {
        "id": "TS7xZwGMXzwE"
      },
      "source": [
        "AA_Pui = np.array([[1.0000000e+00, 1.0880001e+02, 1.1837442e+04],\n",
        "          [1.0000000e+00, 1.0010000e+02, 1.0020010e+04],\n",
        "          [1.0000000e+00, 1.1020000e+02, 1.2144039e+04],\n",
        "           [1.0000000e+00, 1.2010000e+02, 1.4424010e+04],\n",
        "           [1.0000000e+00, 9.8199997e+01, 9.6432393e+03]])"
      ],
      "execution_count": 2,
      "outputs": []
    },
    {
      "cell_type": "code",
      "metadata": {
        "id": "M9o-0BfMXwuJ"
      },
      "source": [
        "B = np.array([23.521464,0.000000,1.694343,30.797171,0.000000])"
      ],
      "execution_count": 11,
      "outputs": []
    },
    {
      "cell_type": "code",
      "metadata": {
        "colab": {
          "base_uri": "https://localhost:8080/"
        },
        "id": "lw2f2eECX3B0",
        "outputId": "079c1c2b-1111-4b10-b448-a070e5a2668d"
      },
      "source": [
        "np.linalg.lstsq(AA_Pui,B,rcond = None)[0]"
      ],
      "execution_count": 13,
      "outputs": [
        {
          "output_type": "execute_result",
          "data": {
            "text/plain": [
              "array([ 1.52894188e+02, -3.97203636e+00,  2.45590726e-02])"
            ]
          },
          "metadata": {},
          "execution_count": 13
        }
      ]
    },
    {
      "cell_type": "code",
      "metadata": {
        "id": "G0fw-_XGYAAi"
      },
      "source": [
        "AA_Pui_jax = jnp.array([[1.0000000e+00, 1.0880001e+02, 1.1837442e+04],\n",
        "          [1.0000000e+00, 1.0010000e+02, 1.0020010e+04],\n",
        "          [1.0000000e+00, 1.1020000e+02, 1.2144039e+04],\n",
        "           [1.0000000e+00, 1.2010000e+02, 1.4424010e+04],\n",
        "           [1.0000000e+00, 9.8199997e+01, 9.6432393e+03]])"
      ],
      "execution_count": 5,
      "outputs": []
    },
    {
      "cell_type": "code",
      "metadata": {
        "id": "9fAJ9eILYHIh"
      },
      "source": [
        "B_jax = jnp.array([23.521464,0.000000,1.694343,30.797171,0.000000])"
      ],
      "execution_count": 8,
      "outputs": []
    },
    {
      "cell_type": "code",
      "metadata": {
        "colab": {
          "base_uri": "https://localhost:8080/"
        },
        "id": "YvGrqm5TYAH0",
        "outputId": "5763cd93-57f6-400d-ce6c-6135ea51a8a8"
      },
      "source": [
        "jax.numpy.linalg.lstsq(AA_Pui_jax, B_jax)[0]"
      ],
      "execution_count": 10,
      "outputs": [
        {
          "output_type": "execute_result",
          "data": {
            "text/plain": [
              "DeviceArray([-0.02124668, -1.1520692 ,  0.01162804], dtype=float32)"
            ]
          },
          "metadata": {},
          "execution_count": 10
        }
      ]
    },
    {
      "cell_type": "markdown",
      "metadata": {
        "id": "LI3TlURbciFj"
      },
      "source": [
        "## Test2"
      ]
    },
    {
      "cell_type": "code",
      "metadata": {
        "id": "Qlcbkq-yd-lT"
      },
      "source": [
        "def ls1_m(in_put):\n",
        "    return in_put/in_put\n",
        "def ls2_m(in_put):\n",
        "    return in_put\n",
        "def ls3_m(in_put):\n",
        "    return in_put**2 "
      ],
      "execution_count": 7,
      "outputs": []
    },
    {
      "cell_type": "code",
      "metadata": {
        "id": "4ZdjiIKecjme"
      },
      "source": [
        "Y = np.array([0,4.1759,6.7863,6.9345])\n",
        "X = np.array([92.8,96.34,89.37,86.12])\n",
        "X_2 = np.c_[X**2,X,np.ones_like(X)]"
      ],
      "execution_count": 2,
      "outputs": []
    },
    {
      "cell_type": "code",
      "metadata": {
        "colab": {
          "base_uri": "https://localhost:8080/"
        },
        "id": "b-bMYA2VeACk",
        "outputId": "ff7e0090-81c3-407c-d28d-2569e7afa8eb"
      },
      "source": [
        "A = np.array([[np.sum(ls1_m(X) **2),np.sum(ls1_m(X) * ls2_m(X)),np.sum(ls1_m(X) * ls3_m(X))],\n",
        "                          [np.sum(ls2_m(X) * ls1_m(X)),np.sum(ls2_m(X) ** 2), np.sum(ls2_m(X) * ls3_m(X))],\n",
        "                          [np.sum(ls3_m(X) * ls1_m(X)) , np.sum(ls3_m(X) * ls2_m(X)),np.sum(ls3_m(X) ** 2)]])\n",
        "A_inv = inv(A)\n",
        "b = np.array([[np.sum(Y * ls1_m(X))],[np.sum(Y* ls2_m(X))],[np.sum(Y * ls3_m(X))]])\n",
        "a_s = np.dot(A_inv,b)\n",
        "a_s"
      ],
      "execution_count": 10,
      "outputs": [
        {
          "output_type": "execute_result",
          "data": {
            "text/plain": [
              "array([[ 8.83369606e+02],\n",
              "       [-1.88603524e+01],\n",
              "       [ 1.00954440e-01]])"
            ]
          },
          "metadata": {},
          "execution_count": 10
        }
      ]
    },
    {
      "cell_type": "code",
      "metadata": {
        "colab": {
          "base_uri": "https://localhost:8080/"
        },
        "id": "WC8EOgw6cq-t",
        "outputId": "19c047b9-a182-470d-f78f-a8fffd060c2e"
      },
      "source": [
        "np.linalg.lstsq(X_2,Y,rcond = None)[0][::-1]"
      ],
      "execution_count": 4,
      "outputs": [
        {
          "output_type": "execute_result",
          "data": {
            "text/plain": [
              "array([ 8.83369607e+02, -1.88603524e+01,  1.00954440e-01])"
            ]
          },
          "metadata": {},
          "execution_count": 4
        }
      ]
    },
    {
      "cell_type": "code",
      "metadata": {
        "id": "YYX3Okvkc8Xe"
      },
      "source": [
        "Y_jax = jnp.array([0,4.1759,6.7863,6.9345])\n",
        "X_jax = jnp.array([92.8,96.34,89.37,86.12])\n",
        "X_2_jax = jnp.c_[X_jax**2,X_jax,np.ones_like(X)]"
      ],
      "execution_count": 5,
      "outputs": []
    },
    {
      "cell_type": "code",
      "metadata": {
        "colab": {
          "base_uri": "https://localhost:8080/"
        },
        "id": "W3VjPmRPdxKT",
        "outputId": "bd61b6ae-7653-4ae2-aafa-0bf703d9a8dc"
      },
      "source": [
        "jnp.linalg.lstsq(X_2,Y,rcond = None)[0][::-1]"
      ],
      "execution_count": 6,
      "outputs": [
        {
          "output_type": "execute_result",
          "data": {
            "text/plain": [
              "DeviceArray([ 0.0115269,  0.5252273, -0.0052158], dtype=float32)"
            ]
          },
          "metadata": {},
          "execution_count": 6
        }
      ]
    }
  ]
}