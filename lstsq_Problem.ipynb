{
  "nbformat": 4,
  "nbformat_minor": 0,
  "metadata": {
    "colab": {
      "name": "lstsq_Problem.ipynb",
      "provenance": [],
      "collapsed_sections": [],
      "authorship_tag": "ABX9TyMBVDsPkG5BzvzGdpcnSHNR",
      "include_colab_link": true
    },
    "kernelspec": {
      "name": "python3",
      "display_name": "Python 3"
    },
    "language_info": {
      "name": "python"
    },
    "accelerator": "GPU"
  },
  "cells": [
    {
      "cell_type": "markdown",
      "metadata": {
        "id": "view-in-github",
        "colab_type": "text"
      },
      "source": [
        "<a href=\"https://colab.research.google.com/github/xinyanz-erin/Applied-Finance-Project/blob/Judy/lstsq_Problem.ipynb\" target=\"_parent\"><img src=\"https://colab.research.google.com/assets/colab-badge.svg\" alt=\"Open In Colab\"/></a>"
      ]
    },
    {
      "cell_type": "code",
      "metadata": {
        "id": "Rx0a3A_dXtWK"
      },
      "source": [
        "import jax\n",
        "import jax.numpy as jnp\n",
        "import numpy as np"
      ],
      "execution_count": 1,
      "outputs": []
    },
    {
      "cell_type": "code",
      "metadata": {
        "id": "TS7xZwGMXzwE"
      },
      "source": [
        "AA_Pui = np.array([[1.0000000e+00, 1.0880001e+02, 1.1837442e+04],\n",
        "          [1.0000000e+00, 1.0010000e+02, 1.0020010e+04],\n",
        "          [1.0000000e+00, 1.1020000e+02, 1.2144039e+04],\n",
        "           [1.0000000e+00, 1.2010000e+02, 1.4424010e+04],\n",
        "           [1.0000000e+00, 9.8199997e+01, 9.6432393e+03]])"
      ],
      "execution_count": 2,
      "outputs": []
    },
    {
      "cell_type": "code",
      "metadata": {
        "id": "M9o-0BfMXwuJ"
      },
      "source": [
        "B = np.array([23.521464,0.000000,1.694343,30.797171,0.000000])"
      ],
      "execution_count": 11,
      "outputs": []
    },
    {
      "cell_type": "code",
      "metadata": {
        "colab": {
          "base_uri": "https://localhost:8080/"
        },
        "id": "lw2f2eECX3B0",
        "outputId": "079c1c2b-1111-4b10-b448-a070e5a2668d"
      },
      "source": [
        "np.linalg.lstsq(AA_Pui,B,rcond = None)[0]"
      ],
      "execution_count": 13,
      "outputs": [
        {
          "output_type": "execute_result",
          "data": {
            "text/plain": [
              "array([ 1.52894188e+02, -3.97203636e+00,  2.45590726e-02])"
            ]
          },
          "metadata": {},
          "execution_count": 13
        }
      ]
    },
    {
      "cell_type": "code",
      "metadata": {
        "id": "G0fw-_XGYAAi"
      },
      "source": [
        "AA_Pui_jax = jnp.array([[1.0000000e+00, 1.0880001e+02, 1.1837442e+04],\n",
        "          [1.0000000e+00, 1.0010000e+02, 1.0020010e+04],\n",
        "          [1.0000000e+00, 1.1020000e+02, 1.2144039e+04],\n",
        "           [1.0000000e+00, 1.2010000e+02, 1.4424010e+04],\n",
        "           [1.0000000e+00, 9.8199997e+01, 9.6432393e+03]])"
      ],
      "execution_count": 5,
      "outputs": []
    },
    {
      "cell_type": "code",
      "metadata": {
        "id": "9fAJ9eILYHIh"
      },
      "source": [
        "B_jax = jnp.array([23.521464,0.000000,1.694343,30.797171,0.000000])"
      ],
      "execution_count": 8,
      "outputs": []
    },
    {
      "cell_type": "code",
      "metadata": {
        "colab": {
          "base_uri": "https://localhost:8080/"
        },
        "id": "YvGrqm5TYAH0",
        "outputId": "5763cd93-57f6-400d-ce6c-6135ea51a8a8"
      },
      "source": [
        "jax.numpy.linalg.lstsq(AA_Pui_jax, B_jax)[0]"
      ],
      "execution_count": 10,
      "outputs": [
        {
          "output_type": "execute_result",
          "data": {
            "text/plain": [
              "DeviceArray([-0.02124668, -1.1520692 ,  0.01162804], dtype=float32)"
            ]
          },
          "metadata": {},
          "execution_count": 10
        }
      ]
    }
  ]
}