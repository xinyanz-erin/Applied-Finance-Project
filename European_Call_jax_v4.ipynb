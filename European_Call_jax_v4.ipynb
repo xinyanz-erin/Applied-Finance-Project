{
  "nbformat": 4,
  "nbformat_minor": 0,
  "metadata": {
    "colab": {
      "name": "European_Call_jax.ipynb",
      "provenance": [],
      "include_colab_link": true
    },
    "kernelspec": {
      "name": "python3",
      "display_name": "Python 3"
    },
    "language_info": {
      "name": "python"
    },
    "accelerator": "GPU"
  },
  "cells": [
    {
      "cell_type": "markdown",
      "metadata": {
        "id": "view-in-github",
        "colab_type": "text"
      },
      "source": [
        "<a href=\"https://colab.research.google.com/github/xinyanz-erin/Applied-Finance-Project/blob/Lilian/European_Call_jax_v4.ipynb\" target=\"_parent\"><img src=\"https://colab.research.google.com/assets/colab-badge.svg\" alt=\"Open In Colab\"/></a>"
      ]
    },
    {
      "cell_type": "code",
      "metadata": {
        "id": "RUAoeddX9Kr0",
        "colab": {
          "base_uri": "https://localhost:8080/"
        },
        "outputId": "6eb4fc4f-7608-4abf-ad10-1c0f27be2511"
      },
      "source": [
        "!curl https://colab.chainer.org/install |sh -\n",
        "import cupy"
      ],
      "execution_count": 1,
      "outputs": [
        {
          "output_type": "stream",
          "name": "stdout",
          "text": [
            "  % Total    % Received % Xferd  Average Speed   Time    Time     Time  Current\n",
            "                                 Dload  Upload   Total   Spent    Left  Speed\n",
            "100  1580  100  1580    0     0   4501      0 --:--:-- --:--:-- --:--:--  4488\n",
            "+ apt -y -q install cuda-libraries-dev-10-0\n",
            "Reading package lists...\n",
            "Building dependency tree...\n",
            "Reading state information...\n",
            "cuda-libraries-dev-10-0 is already the newest version (10.0.130-1).\n",
            "0 upgraded, 0 newly installed, 0 to remove and 37 not upgraded.\n",
            "+ pip install -q cupy-cuda100  chainer \n",
            "\u001b[K     |████████████████████████████████| 59.0 MB 54 kB/s \n",
            "\u001b[K     |████████████████████████████████| 1.0 MB 57.4 MB/s \n",
            "\u001b[?25h  Building wheel for chainer (setup.py) ... \u001b[?25l\u001b[?25hdone\n",
            "+ set +ex\n",
            "Installation succeeded!\n"
          ]
        }
      ]
    },
    {
      "cell_type": "markdown",
      "metadata": {
        "id": "v1RYKgBifCYw"
      },
      "source": [
        "# Test (Skip this if not trying to test, to make sure that functions are defined correctly in cells below without running this cell)"
      ]
    },
    {
      "cell_type": "code",
      "metadata": {
        "colab": {
          "base_uri": "https://localhost:8080/"
        },
        "id": "nWYfON_marpj",
        "outputId": "fbc039f8-6e3b-450d-d8b6-bdf8eceb8137"
      },
      "source": [
        "import jax\n",
        "import jax.numpy as jnp\n",
        "from jax import random\n",
        "from jax import jit\n",
        "import numpy as np\n",
        "from torch.utils.dlpack import from_dlpack\n",
        "\n",
        "def Brownian_motion(key, initial_stocks, numsteps, drift, cov, T):\n",
        "    stocks_init = jnp.zeros((numsteps + 1, initial_stocks.shape[0]))\n",
        "    stocks_init = jax.ops.index_update(stocks_init,   # jax.ops.index_update(x, idx, y) <-> Pure equivalent of x[idx] = y\n",
        "                            jax.ops.index[0],         # initialization of stock prices\n",
        "                            initial_stocks)\n",
        "    noise = jax.random.multivariate_normal(key,  jnp.array([0]*initial_stocks.shape[0]), cov, (numsteps+1,)) # noise must have mean 0\n",
        "    sigma = jnp.diag(cov) ** 0.5\n",
        "    dt = T / numsteps\n",
        "    def time_step(t, val):\n",
        "        dx = jnp.exp((drift - sigma ** 2. / 2.) * dt + jnp.sqrt(dt) * noise[t,:])\n",
        "        val = jax.ops.index_update(val,\n",
        "                            jax.ops.index[t],\n",
        "                            val[t-1] * dx)\n",
        "        return val\n",
        "    return jax.lax.fori_loop(1, numsteps+1, time_step, stocks_init)[1:] # jax.lax.fori_loop(lower, upper, body_fun, init_val)\n",
        "\n",
        "def optionvalueavg(key, initial_stocks, numsteps, drift, r, cov, K, T):\n",
        "  return jnp.mean((jnp.maximum(jnp.mean(batch_simple(keys, initial_stocks, numsteps, drift, cov, T)[:,-1,:], axis=1)-K,0)) * jnp.exp(-r[0] * T))\n",
        "\n",
        "numstocks = 3\n",
        "# numstocks = 4\n",
        "numsteps = 50\n",
        "numpaths = 100000\n",
        "\n",
        "rng = jax.random.PRNGKey(np.random.randint(10000))\n",
        "rng, key = jax.random.split(rng)\n",
        "\n",
        "drift = jnp.array([0.]*numstocks)\n",
        "r = drift\n",
        "cov = jnp.identity(numstocks)*0.25*0.25\n",
        "initial_stocks = jnp.array([100.]*numstocks) # must be float\n",
        "T = 1.0\n",
        "K = 110.0\n",
        "\n",
        "fast_simple = jax.jit(Brownian_motion, static_argnums=2)\n",
        "keys = jax.random.split(key, numpaths)\n",
        "batch_simple = jax.vmap(fast_simple, in_axes=(0, None, None, None, None, None))\n",
        "\n",
        "# option price\n",
        "print(optionvalueavg(key, initial_stocks, numsteps, drift, r, cov, K, T))\n",
        "%timeit optionvalueavg(key, initial_stocks, numsteps, drift, r, cov, K, T)\n",
        "\n",
        "# delta test\n",
        "goptionvalueavg = jax.grad(optionvalueavg,argnums=1)\n",
        "print(goptionvalueavg(keys, initial_stocks, numsteps, drift, r, cov, K, T))\n",
        "%timeit goptionvalueavg(keys, initial_stocks, numsteps, drift, r, cov, K, T)"
      ],
      "execution_count": 2,
      "outputs": [
        {
          "output_type": "stream",
          "name": "stdout",
          "text": [
            "2.347999\n",
            "100 loops, best of 5: 5.29 ms per loop\n",
            "[0.09289159 0.09300379 0.09274059]\n",
            "10 loops, best of 5: 45 ms per loop\n"
          ]
        }
      ]
    },
    {
      "cell_type": "markdown",
      "metadata": {
        "id": "or2YUJ9cfEiF"
      },
      "source": [
        "# Construct Neural Net"
      ]
    },
    {
      "cell_type": "code",
      "metadata": {
        "id": "DxFUnc_iBVcU",
        "colab": {
          "base_uri": "https://localhost:8080/"
        },
        "outputId": "0ffd6a74-f160-4129-cad9-261e9d65a6fb"
      },
      "source": [
        "%%writefile cupy_dataset.py\n",
        "import cupy\n",
        "import jax\n",
        "import jax.numpy as jnp\n",
        "from jax import random\n",
        "from jax import jit\n",
        "import numpy as np\n",
        "from torch.utils.dlpack import from_dlpack\n",
        "\n",
        "def Brownian_motion(key, initial_stocks, numsteps, drift, cov, T):\n",
        "    stocks_init = jnp.zeros((numsteps + 1, initial_stocks.shape[0]))\n",
        "    stocks_init = jax.ops.index_update(stocks_init,   # jax.ops.index_update(x, idx, y) <-> Pure equivalent of x[idx] = y\n",
        "                            jax.ops.index[0],         # initialization of stock prices\n",
        "                            initial_stocks)\n",
        "    noise = jax.random.multivariate_normal(key,  jnp.array([0]*initial_stocks.shape[0]), cov, (numsteps+1,)) # noise must have mean 0\n",
        "    sigma = jnp.diag(cov) ** 0.5\n",
        "    dt = T / numsteps\n",
        "    def time_step(t, val):\n",
        "        dx = jnp.exp((drift - sigma ** 2. / 2.) * dt + jnp.sqrt(dt) * noise[t,:])\n",
        "        val = jax.ops.index_update(val,\n",
        "                            jax.ops.index[t],\n",
        "                            val[t-1] * dx)\n",
        "        return val\n",
        "    return jax.lax.fori_loop(1, numsteps+1, time_step, stocks_init)[1:] # jax.lax.fori_loop(lower, upper, body_fun, init_val)\n",
        "\n",
        "def optionvalueavg(key, initial_stocks, numsteps, drift, r, cov, K, T, keys): # need to pass 'keys'\n",
        "    return jnp.mean((jnp.maximum(jnp.mean(batch_simple(keys, initial_stocks, numsteps, drift, cov, T)[:,-1,:], axis=1)-K,0)) * jnp.exp(-r[0] * T))\n",
        "\n",
        "###################################################################################################\n",
        "# these 2 functions must be defined outside class in order to be used in 'optionvalueavg' function\n",
        "fast_simple = jax.jit(Brownian_motion, static_argnums=2)\n",
        "batch_simple = jax.vmap(fast_simple, in_axes=(0, None, None, None, None, None))\n",
        "###################################################################################################\n",
        "\n",
        "class OptionDataSet(object):\n",
        "    \n",
        "    def __init__(self, max_len, number_path, batch, seed, stocks):\n",
        "        self.num = 0\n",
        "        self.max_length = max_len\n",
        "        self.N_PATHS = number_path\n",
        "        self.N_STEPS = 50\n",
        "        self.N_BATCH = batch\n",
        "        self.N_STOCKS = stocks\n",
        "        self.T = 1.0 # assume T = 1, use float here\n",
        "        self.seed = seed\n",
        "        np.random.seed(seed)\n",
        "        \n",
        "    def __len__(self):\n",
        "        return self.max_length\n",
        "        \n",
        "    def __iter__(self):\n",
        "        self.num = 0\n",
        "        return self\n",
        "    \n",
        "    def __next__(self):\n",
        "        if self.num >= self.max_length:\n",
        "            raise StopIteration\n",
        "        \n",
        "        Y = cupy.zeros((self.N_BATCH, 1 + self.N_STOCKS), dtype=cupy.float32) # output: price, delta1, delta2, delta3\n",
        "        X = cupy.zeros((self.N_BATCH, self.N_STOCKS * 6), dtype = cupy.float32)\n",
        "\n",
        "        for op in range(self.N_BATCH):\n",
        "          \n",
        "          rng = jax.random.PRNGKey(self.seed)\n",
        "          rng, key = jax.random.split(rng)\n",
        "\n",
        "          ################################################################################################### generate random input numbers\n",
        "\n",
        "          initial_stocks = jnp.array(np.random.random(self.N_STOCKS) * 200.0)\n",
        "\n",
        "          corr = jnp.diag(jnp.array([1]*self.N_STOCKS)) # assume no correlation between stocks here\n",
        "          sigma = jnp.array(np.random.random(self.N_STOCKS) * 0.4)\n",
        "          cov = (jnp.diag(sigma)).dot(corr).dot(jnp.diag(sigma))\n",
        "\n",
        "          r = jnp.repeat(jnp.array(np.random.random(1) * 0.1), self.N_STOCKS)\n",
        "          drift = r # To match BS, use drift = r\n",
        "\n",
        "          T = self.T\n",
        "          K = np.random.random(1) * 200.0\n",
        "\n",
        "          ###################################################################################################\n",
        "          ################################################################################################### apply functions to compute price and deltas\n",
        "          \n",
        "          keys = jax.random.split(key, self.N_PATHS)\n",
        "\n",
        "          European_Call_price = optionvalueavg(key, initial_stocks, self.N_STEPS, drift, r, cov, K, T, keys) # need to pass 'keys'\n",
        "          gooptionvalue = jax.grad(optionvalueavg, argnums=1)\n",
        "          Deltas = gooptionvalue(keys, initial_stocks, self.N_STEPS, drift, r, cov, K, T, keys) # need to pass 'keys'\n",
        "\n",
        "          ###################################################################################################\n",
        "          ################################################################################################### store input and output numbers in X and Y\n",
        "\n",
        "          Y[op, 0] = European_Call_price\n",
        "          Y[op, 1:4] = cupy.array(Deltas, dtype=cupy.float32)\n",
        "\n",
        "          paras = (jnp.repeat(jnp.array(T), self.N_STOCKS), jnp.repeat(jnp.array(K), self.N_STOCKS), initial_stocks, sigma, drift, r)\n",
        "          paras = np.column_stack(paras).reshape(1,-1)[0]\n",
        "          X[op,] = cupy.array(paras)\n",
        "\n",
        "          ###################################################################################################\n",
        "\n",
        "        self.num += 1\n",
        "        return (from_dlpack(X.toDlpack()), from_dlpack(Y.toDlpack()))\n",
        "\n",
        "\n",
        "ds = OptionDataSet(max_len = 2, number_path = 10000, batch = 2, seed = 15, stocks=3) # for testing purpose, use constant seed. When training, change to random seed\n",
        "for i in ds:\n",
        "    print(i)"
      ],
      "execution_count": 3,
      "outputs": [
        {
          "output_type": "stream",
          "name": "stdout",
          "text": [
            "Writing cupy_dataset.py\n"
          ]
        }
      ]
    },
    {
      "cell_type": "code",
      "metadata": {
        "colab": {
          "base_uri": "https://localhost:8080/"
        },
        "id": "rN6JO9OBHdvv",
        "outputId": "b5928199-f4ec-4ced-ee22-9edddb039311"
      },
      "source": [
        "%%writefile model.py\n",
        "import torch.nn as nn\n",
        "import torch.nn.functional as F\n",
        "import torch\n",
        "import numpy as np\n",
        "\n",
        "class Net(nn.Module):\n",
        "\n",
        "    def __init__(self, hidden=1024):\n",
        "        super(Net, self).__init__()\n",
        "        self.fc1 = nn.Linear(6*3, hidden) # remember to change this!\n",
        "        self.fc2 = nn.Linear(hidden, hidden)\n",
        "        self.fc3 = nn.Linear(hidden, hidden)\n",
        "        self.fc4 = nn.Linear(hidden, hidden)\n",
        "        self.fc5 = nn.Linear(hidden, hidden)\n",
        "        self.fc6 = nn.Linear(hidden, 4) # 4 outputs: price, delta1, delta2, delta3\n",
        "        self.register_buffer('norm',\n",
        "                             torch.tensor([1, 200.0, 200.0, 0.4, 0.1, 0.1]*3)) # don't use numpy here - will give error later\n",
        "\n",
        "    def forward(self, x):\n",
        "        # normalize the parameter to range [0-1] \n",
        "        x = x / self.norm\n",
        "        x = F.elu(self.fc1(x))\n",
        "        x = F.elu(self.fc2(x))\n",
        "        x = F.elu(self.fc3(x))\n",
        "        x = F.elu(self.fc4(x))\n",
        "        x = F.elu(self.fc5(x))\n",
        "        return self.fc6(x)"
      ],
      "execution_count": 4,
      "outputs": [
        {
          "output_type": "stream",
          "name": "stdout",
          "text": [
            "Writing model.py\n"
          ]
        }
      ]
    },
    {
      "cell_type": "markdown",
      "metadata": {
        "id": "owSrICMvyZX0"
      },
      "source": [
        "# Train Neural Net"
      ]
    },
    {
      "cell_type": "code",
      "metadata": {
        "colab": {
          "base_uri": "https://localhost:8080/"
        },
        "id": "JlXD80xPNVc6",
        "outputId": "d31ac109-afe0-4604-e5db-160c64d8eba8"
      },
      "source": [
        "!pip install pytorch-ignite"
      ],
      "execution_count": 5,
      "outputs": [
        {
          "output_type": "stream",
          "name": "stdout",
          "text": [
            "Collecting pytorch-ignite\n",
            "  Downloading pytorch_ignite-0.4.7-py3-none-any.whl (240 kB)\n",
            "\u001b[?25l\r\u001b[K     |█▍                              | 10 kB 21.5 MB/s eta 0:00:01\r\u001b[K     |██▊                             | 20 kB 9.9 MB/s eta 0:00:01\r\u001b[K     |████                            | 30 kB 8.0 MB/s eta 0:00:01\r\u001b[K     |█████▌                          | 40 kB 7.5 MB/s eta 0:00:01\r\u001b[K     |██████▉                         | 51 kB 3.8 MB/s eta 0:00:01\r\u001b[K     |████████▏                       | 61 kB 4.2 MB/s eta 0:00:01\r\u001b[K     |█████████▌                      | 71 kB 4.0 MB/s eta 0:00:01\r\u001b[K     |███████████                     | 81 kB 4.5 MB/s eta 0:00:01\r\u001b[K     |████████████▎                   | 92 kB 4.5 MB/s eta 0:00:01\r\u001b[K     |█████████████▋                  | 102 kB 3.8 MB/s eta 0:00:01\r\u001b[K     |███████████████                 | 112 kB 3.8 MB/s eta 0:00:01\r\u001b[K     |████████████████▍               | 122 kB 3.8 MB/s eta 0:00:01\r\u001b[K     |█████████████████▊              | 133 kB 3.8 MB/s eta 0:00:01\r\u001b[K     |███████████████████             | 143 kB 3.8 MB/s eta 0:00:01\r\u001b[K     |████████████████████▌           | 153 kB 3.8 MB/s eta 0:00:01\r\u001b[K     |█████████████████████▉          | 163 kB 3.8 MB/s eta 0:00:01\r\u001b[K     |███████████████████████▏        | 174 kB 3.8 MB/s eta 0:00:01\r\u001b[K     |████████████████████████▌       | 184 kB 3.8 MB/s eta 0:00:01\r\u001b[K     |██████████████████████████      | 194 kB 3.8 MB/s eta 0:00:01\r\u001b[K     |███████████████████████████▎    | 204 kB 3.8 MB/s eta 0:00:01\r\u001b[K     |████████████████████████████▋   | 215 kB 3.8 MB/s eta 0:00:01\r\u001b[K     |██████████████████████████████  | 225 kB 3.8 MB/s eta 0:00:01\r\u001b[K     |███████████████████████████████▍| 235 kB 3.8 MB/s eta 0:00:01\r\u001b[K     |████████████████████████████████| 240 kB 3.8 MB/s \n",
            "\u001b[?25hRequirement already satisfied: torch<2,>=1.3 in /usr/local/lib/python3.7/dist-packages (from pytorch-ignite) (1.9.0+cu111)\n",
            "Requirement already satisfied: typing-extensions in /usr/local/lib/python3.7/dist-packages (from torch<2,>=1.3->pytorch-ignite) (3.7.4.3)\n",
            "Installing collected packages: pytorch-ignite\n",
            "Successfully installed pytorch-ignite-0.4.7\n"
          ]
        }
      ]
    },
    {
      "cell_type": "code",
      "metadata": {
        "colab": {
          "base_uri": "https://localhost:8080/",
          "height": 1000
        },
        "id": "S3CyULkENYKb",
        "outputId": "e20701c9-6531-4d54-833d-57fd3390d7b3"
      },
      "source": [
        "# If memory is not enough, try changing parameters and restarting session\n",
        "# loss will converge\n",
        "\n",
        "from ignite.engine import Engine, Events\n",
        "from ignite.handlers import Timer\n",
        "from torch.nn import MSELoss\n",
        "from torch.optim import Adam\n",
        "from ignite.contrib.handlers.param_scheduler import CosineAnnealingScheduler\n",
        "from ignite.handlers import ModelCheckpoint\n",
        "from model import Net\n",
        "from cupy_dataset import OptionDataSet\n",
        "import numpy as np\n",
        "timer = Timer(average=True)\n",
        "model = Net().cuda()\n",
        "loss_fn = MSELoss()\n",
        "optimizer = Adam(model.parameters(), lr=1e-3)\n",
        "dataset = OptionDataSet(max_len = 100, number_path = 1024, batch = 32, seed = np.random.randint(10000), stocks = 3) # must have random seed\n",
        "\n",
        "def train_update(engine, batch):\n",
        "    model.train()\n",
        "    optimizer.zero_grad()\n",
        "    x = batch[0]\n",
        "    y = batch[1]\n",
        "    # print(y)\n",
        "    y_pred = model(x)\n",
        "    # print(y_pred)\n",
        "    # print(y.mean(axis=0))\n",
        "    loss_weight = y.mean(axis=0)[0]/y.mean(axis=0)\n",
        "    loss_weight_normalized = loss_weight/loss_weight.sum()\n",
        "    # print(loss_weight)\n",
        "    # print(loss_weight_normalized)\n",
        "    loss = ((y_pred - y) ** 2 * loss_weight_normalized).mean() # compute weighted MSE between the 2 arrays\n",
        "    # print((y_pred - y) ** 2)\n",
        "    # print((y_pred - y) ** 2 * loss_weight_normalized)\n",
        "    # print(loss)\n",
        "    loss.backward()\n",
        "    optimizer.step()\n",
        "    return loss.item()\n",
        "\n",
        "trainer = Engine(train_update)\n",
        "log_interval = 20\n",
        "\n",
        "scheduler = CosineAnnealingScheduler(optimizer, 'lr', 1e-4, 1e-6, len(dataset))\n",
        "trainer.add_event_handler(Events.ITERATION_STARTED, scheduler)\n",
        "timer.attach(trainer,\n",
        "             start=Events.EPOCH_STARTED,\n",
        "             resume=Events.ITERATION_STARTED,\n",
        "             pause=Events.ITERATION_COMPLETED,\n",
        "             step=Events.ITERATION_COMPLETED)    \n",
        "@trainer.on(Events.ITERATION_COMPLETED)\n",
        "def log_training_loss(engine):\n",
        "    iter = (engine.state.iteration - 1) % len(dataset) + 1\n",
        "    if iter % log_interval == 0:\n",
        "        print('loss', engine.state.output, 'average time', timer.value(), 'iter num', iter)\n",
        "        \n",
        "trainer.run(dataset, max_epochs = 100)"
      ],
      "execution_count": null,
      "outputs": [
        {
          "output_type": "stream",
          "name": "stderr",
          "text": [
            "/usr/local/lib/python3.7/dist-packages/ipykernel_launcher.py:8: DeprecationWarning: /usr/local/lib/python3.7/dist-packages/ignite/contrib/handlers/param_scheduler.py has been moved to /ignite/handlers/param_scheduler.py and will be removed in version 0.6.0.\n",
            " Please refer to the documentation for more details.\n",
            "  \n"
          ]
        },
        {
          "output_type": "stream",
          "name": "stdout",
          "text": [
            "(tensor([[1.0000e+00, 6.0895e+01, 1.6976e+02, 1.4462e-01, 3.0592e-02, 3.0592e-02,\n",
            "         1.0000e+00, 6.0895e+01, 3.5779e+01, 1.1016e-01, 3.0592e-02, 3.0592e-02,\n",
            "         1.0000e+00, 6.0895e+01, 1.0873e+01, 2.1200e-01, 3.0592e-02, 3.0592e-02],\n",
            "        [1.0000e+00, 4.2110e+01, 2.2348e+01, 1.0566e-01, 8.0708e-02, 8.0708e-02,\n",
            "         1.0000e+00, 4.2110e+01, 4.9980e+01, 2.8711e-01, 8.0708e-02, 8.0708e-02,\n",
            "         1.0000e+00, 4.2110e+01, 1.8353e+02, 3.4629e-01, 8.0708e-02, 8.0708e-02]],\n",
            "       device='cuda:0'), tensor([[13.0921,  0.3222,  0.3202,  0.3194],\n",
            "        [46.3468,  0.3328,  0.3346,  0.3325]], device='cuda:0'))\n",
            "(tensor([[1.0000e+00, 9.4695e+01, 3.3449e+01, 8.0092e-02, 7.6051e-02, 7.6051e-02,\n",
            "         1.0000e+00, 9.4695e+01, 9.3413e+00, 3.9942e-01, 7.6051e-02, 7.6051e-02,\n",
            "         1.0000e+00, 9.4695e+01, 7.8845e+00, 1.4911e-01, 7.6051e-02, 7.6051e-02],\n",
            "        [1.0000e+00, 1.0755e+02, 1.0194e+02, 1.8604e-01, 2.9900e-02, 2.9900e-02,\n",
            "         1.0000e+00, 1.0755e+02, 1.8901e+02, 5.6622e-02, 2.9900e-02, 2.9900e-02,\n",
            "         1.0000e+00, 1.0755e+02, 2.1889e+01, 2.1534e-01, 2.9900e-02, 2.9900e-02]],\n",
            "       device='cuda:0'), tensor([[0.0000, 0.0000, 0.0000, 0.0000],\n",
            "        [2.8591, 0.1765, 0.1600, 0.1622]], device='cuda:0'))\n",
            "loss 0.707373321056366 average time 0.17401717455001062 iter num 20\n",
            "loss 0.8547555208206177 average time 0.08867870160000421 iter num 40\n",
            "loss 0.7555112242698669 average time 0.06008871416666845 iter num 60\n",
            "loss 0.4473172426223755 average time 0.0457764607625009 iter num 80\n",
            "loss 0.4839034974575043 average time 0.037188271889999666 iter num 100\n",
            "loss 0.09129669517278671 average time 0.053970814150000025 iter num 20\n",
            "loss 0.024101918563246727 average time 0.02841295652500122 iter num 40\n",
            "loss 0.011782379820942879 average time 0.019909920533333056 iter num 60\n",
            "loss 0.010000393725931644 average time 0.015641773762500578 iter num 80\n",
            "loss 0.010667210444808006 average time 0.013083218010001474 iter num 100\n",
            "loss 0.005583001766353846 average time 0.053941901200005304 iter num 20\n",
            "loss 0.004098751116544008 average time 0.028392897950007524 iter num 40\n",
            "loss 0.0033262509386986494 average time 0.019917204833340443 iter num 60\n",
            "loss 0.001763652660883963 average time 0.0156896859375081 iter num 80\n",
            "loss 0.003071390325203538 average time 0.013128155760009577 iter num 100\n",
            "loss 0.0019999099895358086 average time 0.0539805971499959 iter num 20\n",
            "loss 0.0006026664050295949 average time 0.028478623974996252 iter num 40\n",
            "loss 0.0009551363764330745 average time 0.019937610049998965 iter num 60\n",
            "loss 0.000987542443908751 average time 0.015668096762502158 iter num 80\n",
            "loss 0.0010377446888014674 average time 0.013104845070004104 iter num 100\n",
            "loss 0.0009073317050933838 average time 0.053998791349982866 iter num 20\n",
            "loss 0.0005871556932106614 average time 0.028422145924989196 iter num 40\n",
            "loss 0.000269104668404907 average time 0.019908763816662636 iter num 60\n",
            "loss 0.0006713225739076734 average time 0.015646979287497233 iter num 80\n",
            "loss 0.0010686877649277449 average time 0.013089618829998245 iter num 100\n",
            "loss 0.002191687934100628 average time 0.053676239399999305 iter num 20\n",
            "loss 0.0016194103518500924 average time 0.028282004925000593 iter num 40\n",
            "loss 0.00032581129926256835 average time 0.019899070599999884 iter num 60\n",
            "loss 0.0005504153668880463 average time 0.0156376465749986 iter num 80\n",
            "loss 0.00023478367074858397 average time 0.013094789159997617 iter num 100\n",
            "loss 0.001123788533732295 average time 0.05382521525000925 iter num 20\n",
            "loss 0.001268207561224699 average time 0.02840404197500277 iter num 40\n",
            "loss 0.00045293039875105023 average time 0.01988481630000365 iter num 60\n",
            "loss 0.0003670801525004208 average time 0.015620764725004222 iter num 80\n",
            "loss 0.0004493330779951066 average time 0.013059034549995659 iter num 100\n",
            "loss 0.0004885224625468254 average time 0.05335689675004005 iter num 20\n",
            "loss 0.0006648364360444248 average time 0.028104049675033594 iter num 40\n",
            "loss 0.0006655367906205356 average time 0.01968634016668981 iter num 60\n",
            "loss 0.0005446800496429205 average time 0.015472025562522163 iter num 80\n",
            "loss 0.00031879020389169455 average time 0.012942535450017658 iter num 100\n",
            "loss 0.0008911804761737585 average time 0.05319379284999286 iter num 20\n",
            "loss 0.0008052870398387313 average time 0.028035609899978907 iter num 40\n",
            "loss 0.00039163866313174367 average time 0.019632845816651447 iter num 60\n",
            "loss 0.0003363906289450824 average time 0.015429368287487932 iter num 80\n",
            "loss 0.00038156312075443566 average time 0.01292440387998795 iter num 100\n",
            "loss 0.001434427686035633 average time 0.05332782220000354 iter num 20\n",
            "loss 0.0012263788376003504 average time 0.028073047600014434 iter num 40\n",
            "loss 0.0004996228381060064 average time 0.019653994116682345 iter num 60\n",
            "loss 0.00038089664303697646 average time 0.015443962350008177 iter num 80\n",
            "loss 0.000363346392987296 average time 0.012959996610006783 iter num 100\n",
            "loss 0.0008445872808806598 average time 0.053320743350025165 iter num 20\n",
            "loss 0.0009495591511949897 average time 0.02808376787500606 iter num 40\n",
            "loss 0.00028985811513848603 average time 0.019668577683338146 iter num 60\n",
            "loss 0.00038298784056678414 average time 0.015497010975008153 iter num 80\n",
            "loss 0.0005946832243353128 average time 0.013006839070005754 iter num 100\n",
            "loss 0.0002751633001025766 average time 0.05336327235000908 iter num 20\n",
            "loss 0.0007526775007136166 average time 0.028109266749993367 iter num 40\n",
            "loss 0.0008064055582508445 average time 0.01968151728333017 iter num 60\n",
            "loss 0.0005349297425709665 average time 0.015471860762494316 iter num 80\n",
            "loss 0.00020048738224431872 average time 0.012945805179992931 iter num 100\n",
            "loss 0.0006339766550809145 average time 0.053237544499995695 iter num 20\n",
            "loss 0.0004494219901971519 average time 0.028044472624986837 iter num 40\n",
            "loss 0.0006540631875395775 average time 0.019645980616659623 iter num 60\n",
            "loss 0.0004446487291716039 average time 0.01544265139999652 iter num 80\n",
            "loss 0.0004303822061046958 average time 0.012916699359991526 iter num 100\n",
            "loss 0.0012503182515501976 average time 0.05388762190000307 iter num 20\n",
            "loss 0.0009202073561027646 average time 0.02838937822500611 iter num 40\n",
            "loss 0.0005712085403501987 average time 0.019867543966677205 iter num 60\n",
            "loss 0.00036468697362579405 average time 0.01561745762500948 iter num 80\n",
            "loss 0.0002457379305269569 average time 0.013055238490019293 iter num 100\n",
            "loss 0.0008897897787392139 average time 0.05346275504997493 iter num 20\n",
            "loss 0.0017081632977351546 average time 0.02813964107499487 iter num 40\n",
            "loss 0.00025854705017991364 average time 0.019703277533335496 iter num 60\n",
            "loss 0.00020934540953021497 average time 0.01549041755000644 iter num 80\n",
            "loss 0.0001632545463507995 average time 0.012971868199997516 iter num 100\n",
            "loss 0.000661662605125457 average time 0.05409143155004585 iter num 20\n",
            "loss 0.0005208142101764679 average time 0.028505197475016075 iter num 40\n",
            "loss 0.00029288584482856095 average time 0.020087528283344605 iter num 60\n",
            "loss 0.0008612294332124293 average time 0.015778392287506902 iter num 80\n",
            "loss 0.0004957488272339106 average time 0.013194953200002146 iter num 100\n",
            "loss 0.0006298944354057312 average time 0.05324060825001879 iter num 20\n",
            "loss 0.0013421638868749142 average time 0.02806149872499759 iter num 40\n",
            "loss 0.00040470363455824554 average time 0.01967932391667849 iter num 60\n",
            "loss 0.00012506039638537914 average time 0.015477061275001347 iter num 80\n",
            "loss 0.0003955563879571855 average time 0.012946941870011415 iter num 100\n",
            "loss 0.000516386644449085 average time 0.05351142854997306 iter num 20\n",
            "loss 0.0001950470032170415 average time 0.028165419974982342 iter num 40\n",
            "loss 0.0007998822256922722 average time 0.019722891233300288 iter num 60\n",
            "loss 0.0001675244711805135 average time 0.015510511624984246 iter num 80\n",
            "loss 0.0004011421697214246 average time 0.012978326299980835 iter num 100\n",
            "loss 0.0007689808262512088 average time 0.05284647644996312 iter num 20\n",
            "loss 0.0007474649464711547 average time 0.027860175199987226 iter num 40\n",
            "loss 0.00043939496390521526 average time 0.019517217566658474 iter num 60\n",
            "loss 0.00022885450744070113 average time 0.015351520087489235 iter num 80\n",
            "loss 0.0008877408690750599 average time 0.012847412319988507 iter num 100\n",
            "loss 0.0005125938914716244 average time 0.052361342900007914 iter num 20\n",
            "loss 0.001002538949251175 average time 0.027867293950021122 iter num 40\n",
            "loss 0.00019789407087955624 average time 0.019516144933353036 iter num 60\n",
            "loss 0.0007479777559638023 average time 0.01534434188751561 iter num 80\n",
            "loss 0.00025693673524074256 average time 0.012842995550004161 iter num 100\n",
            "loss 0.00889663491398096 average time 0.05359626219992606 iter num 20\n",
            "loss 0.0012064697220921516 average time 0.02820334852495989 iter num 40\n",
            "loss 0.0008489023894071579 average time 0.019735179349959255 iter num 60\n",
            "loss 9.880313882604241e-05 average time 0.015502215237466999 iter num 80\n",
            "loss 0.00023895315825939178 average time 0.012963331009973444 iter num 100\n",
            "loss 0.0006548319361172616 average time 0.05318716025003596 iter num 20\n",
            "loss 0.00024348910665139556 average time 0.02798771205000321 iter num 40\n",
            "loss 0.0005150688230060041 average time 0.019591430383328164 iter num 60\n",
            "loss 0.0003726693685166538 average time 0.015400699562485442 iter num 80\n",
            "loss 0.00039385646232403815 average time 0.01288178693998816 iter num 100\n",
            "loss 0.005785826593637466 average time 0.053040607999992065 iter num 20\n",
            "loss 0.007135422900319099 average time 0.027953708449945224 iter num 40\n",
            "loss 0.0013367347419261932 average time 0.01957637934996607 iter num 60\n",
            "loss 0.0005224986816756427 average time 0.015398776574966178 iter num 80\n",
            "loss 0.00028431069222278893 average time 0.0128833721799856 iter num 100\n",
            "loss 0.0007951700827106833 average time 0.054313913550026884 iter num 20\n",
            "loss 0.0004285043687559664 average time 0.028577593000022716 iter num 40\n",
            "loss 0.000447960221208632 average time 0.01999937678334239 iter num 60\n",
            "loss 0.00043385621393099427 average time 0.015695370300005607 iter num 80\n",
            "loss 0.000345944135915488 average time 0.013120040229996448 iter num 100\n",
            "loss 0.00052567821694538 average time 0.057045856300032935 iter num 20\n",
            "loss 0.00041571189649403095 average time 0.02992413987500413 iter num 40\n",
            "loss 0.0003254070761613548 average time 0.02087784548334639 iter num 60\n",
            "loss 0.00040816652472130954 average time 0.016353668225008278 iter num 80\n",
            "loss 0.0003560631303116679 average time 0.013661619259996769 iter num 100\n",
            "loss 0.000541581423021853 average time 0.05520867690001978 iter num 20\n",
            "loss 0.0013687459286302328 average time 0.029042827150010452 iter num 40\n",
            "loss 0.0012546549551188946 average time 0.02029745360001319 iter num 60\n",
            "loss 0.0007382827461697161 average time 0.015941396875001602 iter num 80\n",
            "loss 0.0002891701878979802 average time 0.013314849500006857 iter num 100\n",
            "loss 0.0017155484529212117 average time 0.05661762049992376 iter num 20\n",
            "loss 0.0013306507607921958 average time 0.029729789474959033 iter num 40\n",
            "loss 0.001218191348016262 average time 0.020780695216634133 iter num 60\n",
            "loss 0.00047714271931909025 average time 0.01628992401248297 iter num 80\n",
            "loss 0.00022363362950272858 average time 0.013604207170001246 iter num 100\n",
            "loss 0.0011756456224247813 average time 0.05267165454997667 iter num 20\n",
            "loss 0.0005673074629157782 average time 0.02774096579998968 iter num 40\n",
            "loss 0.0004627663001883775 average time 0.019428080649997053 iter num 60\n",
            "loss 0.00041743251495063305 average time 0.015280440562492004 iter num 80\n",
            "loss 0.00020332098938524723 average time 0.01278520330999072 iter num 100\n",
            "loss 0.0003998414322268218 average time 0.05350117335001414 iter num 20\n",
            "loss 0.0009361223201267421 average time 0.02815727249995916 iter num 40\n",
            "loss 0.0003893583489116281 average time 0.019702386166621486 iter num 60\n",
            "loss 0.0003319694078527391 average time 0.015478304974976709 iter num 80\n",
            "loss 0.00021772776381112635 average time 0.012956952189979347 iter num 100\n",
            "loss 0.0005463401903398335 average time 0.053461621249994096 iter num 20\n",
            "loss 0.000354273768607527 average time 0.02820479332500554 iter num 40\n",
            "loss 0.0002024588466156274 average time 0.019759641533316122 iter num 60\n",
            "loss 0.0002980268909595907 average time 0.015529055512490685 iter num 80\n",
            "loss 0.0003303928824607283 average time 0.013014827480001259 iter num 100\n",
            "loss 0.0003267478314228356 average time 0.05291651064992493 iter num 20\n",
            "loss 0.0005226710345596075 average time 0.027929028749986172 iter num 40\n",
            "loss 0.00037888126098550856 average time 0.019570958066674395 iter num 60\n",
            "loss 0.00017526389274280518 average time 0.015385632012498717 iter num 80\n",
            "loss 0.000632129842415452 average time 0.012878391130002456 iter num 100\n",
            "loss 0.02982308343052864 average time 0.0527058129000352 iter num 20\n",
            "loss 0.0007820224855095148 average time 0.027809166375050154 iter num 40\n",
            "loss 0.0009511886164546013 average time 0.019527270900046762 iter num 60\n",
            "loss 0.0004144733538851142 average time 0.015342710200053488 iter num 80\n",
            "loss 0.00026190344942733645 average time 0.012837762690041927 iter num 100\n",
            "loss 0.00029089339659549296 average time 0.05480636464999407 iter num 20\n",
            "loss 0.0002917081583291292 average time 0.028825410200010993 iter num 40\n",
            "loss 0.00027483803569339216 average time 0.0201577985666745 iter num 60\n",
            "loss 0.00022821297170594335 average time 0.01581570063748927 iter num 80\n",
            "loss 0.0004380108439363539 average time 0.013221720549986458 iter num 100\n",
            "loss 0.00039989821380004287 average time 0.05364543835003133 iter num 20\n",
            "loss 0.00024105676857288927 average time 0.02822103292501197 iter num 40\n",
            "loss 0.000260677479673177 average time 0.019753600300009565 iter num 60\n",
            "loss 0.0002604252949822694 average time 0.015515037112510299 iter num 80\n",
            "loss 0.00016961697838269174 average time 0.012996003080020272 iter num 100\n",
            "loss 0.0003442177549004555 average time 0.05409544974995697 iter num 20\n",
            "loss 0.00022966499091126025 average time 0.02844042337501378 iter num 40\n",
            "loss 0.00030027018510736525 average time 0.01989731283334398 iter num 60\n",
            "loss 0.00014988487237133086 average time 0.01562733963750702 iter num 80\n",
            "loss 0.0005110630299896002 average time 0.013059108190009282 iter num 100\n",
            "loss 0.0001615590590517968 average time 0.05319709945001705 iter num 20\n",
            "loss 0.0002046573063125834 average time 0.02799695310000061 iter num 40\n",
            "loss 0.00047243069275282323 average time 0.0195917076166855 iter num 60\n",
            "loss 0.00034933691495098174 average time 0.015403237737530162 iter num 80\n",
            "loss 0.0001547254651086405 average time 0.012883294300031593 iter num 100\n",
            "loss 0.0003420598804950714 average time 0.053427342950044476 iter num 20\n",
            "loss 0.0007816564757376909 average time 0.02810486124998306 iter num 40\n",
            "loss 0.0004604317364282906 average time 0.019661414049998407 iter num 60\n",
            "loss 0.0001904070086311549 average time 0.015449629624998806 iter num 80\n",
            "loss 0.00031904064235277474 average time 0.012918804199989609 iter num 100\n",
            "loss 0.00035769373062066734 average time 0.05495248835009079 iter num 20\n",
            "loss 0.0007041256176307797 average time 0.02893179550003424 iter num 40\n",
            "loss 0.0005902411649003625 average time 0.020217501916674034 iter num 60\n",
            "loss 0.00023129445617087185 average time 0.01586206033749704 iter num 80\n",
            "loss 0.0004997681244276464 average time 0.013302303340014986 iter num 100\n",
            "loss 0.00028631321038119495 average time 0.05318177614999513 iter num 20\n",
            "loss 0.0009183950023725629 average time 0.028004670399968744 iter num 40\n",
            "loss 0.0007187902228906751 average time 0.0196041419166401 iter num 60\n",
            "loss 0.00021966802887618542 average time 0.015404525849965012 iter num 80\n",
            "loss 0.0002702971105463803 average time 0.012883442779975668 iter num 100\n",
            "loss 0.0006488041253760457 average time 0.052763255450099675 iter num 20\n",
            "loss 0.0010768952779471874 average time 0.02777917697508201 iter num 40\n",
            "loss 0.00032062060199677944 average time 0.019450477466686305 iter num 60\n",
            "loss 0.0002799620560836047 average time 0.01529477840005029 iter num 80\n",
            "loss 0.00040655152406543493 average time 0.012798480260062205 iter num 100\n",
            "loss 0.00036287031252868474 average time 0.054104443750065914 iter num 20\n",
            "loss 0.0018343585543334484 average time 0.028464214774999164 iter num 40\n",
            "loss 0.00039717770414426923 average time 0.019907586866672013 iter num 60\n",
            "loss 0.00035855366149917245 average time 0.015637746900017645 iter num 80\n",
            "loss 0.0004030077834613621 average time 0.013098941630041737 iter num 100\n",
            "loss 0.0007423888891935349 average time 0.05233666134986379 iter num 20\n",
            "loss 0.000116231560241431 average time 0.027613676724968172 iter num 40\n",
            "loss 0.00032419117633253336 average time 0.01935509573328697 iter num 60\n",
            "loss 0.00016730128845665604 average time 0.015267791837527512 iter num 80\n",
            "loss 0.00025871663819998503 average time 0.012778530510004202 iter num 100\n",
            "loss 0.000296037585940212 average time 0.05323602160001428 iter num 20\n",
            "loss 0.0006268530851230025 average time 0.028009356000006848 iter num 40\n",
            "loss 0.0003684686089400202 average time 0.019609161950014217 iter num 60\n"
          ]
        },
        {
          "output_type": "stream",
          "name": "stderr",
          "text": [
            "ERROR:ignite.engine.engine.Engine:Engine run is terminating due to exception: \n"
          ]
        },
        {
          "output_type": "error",
          "ename": "KeyboardInterrupt",
          "evalue": "ignored",
          "traceback": [
            "\u001b[0;31m---------------------------------------------------------------------------\u001b[0m",
            "\u001b[0;31mKeyboardInterrupt\u001b[0m                         Traceback (most recent call last)",
            "\u001b[0;32m<ipython-input-6-d6c4efa88746>\u001b[0m in \u001b[0;36m<module>\u001b[0;34m()\u001b[0m\n\u001b[1;32m     54\u001b[0m         \u001b[0mprint\u001b[0m\u001b[0;34m(\u001b[0m\u001b[0;34m'loss'\u001b[0m\u001b[0;34m,\u001b[0m \u001b[0mengine\u001b[0m\u001b[0;34m.\u001b[0m\u001b[0mstate\u001b[0m\u001b[0;34m.\u001b[0m\u001b[0moutput\u001b[0m\u001b[0;34m,\u001b[0m \u001b[0;34m'average time'\u001b[0m\u001b[0;34m,\u001b[0m \u001b[0mtimer\u001b[0m\u001b[0;34m.\u001b[0m\u001b[0mvalue\u001b[0m\u001b[0;34m(\u001b[0m\u001b[0;34m)\u001b[0m\u001b[0;34m,\u001b[0m \u001b[0;34m'iter num'\u001b[0m\u001b[0;34m,\u001b[0m \u001b[0miter\u001b[0m\u001b[0;34m)\u001b[0m\u001b[0;34m\u001b[0m\u001b[0;34m\u001b[0m\u001b[0m\n\u001b[1;32m     55\u001b[0m \u001b[0;34m\u001b[0m\u001b[0m\n\u001b[0;32m---> 56\u001b[0;31m \u001b[0mtrainer\u001b[0m\u001b[0;34m.\u001b[0m\u001b[0mrun\u001b[0m\u001b[0;34m(\u001b[0m\u001b[0mdataset\u001b[0m\u001b[0;34m,\u001b[0m \u001b[0mmax_epochs\u001b[0m \u001b[0;34m=\u001b[0m \u001b[0;36m100\u001b[0m\u001b[0;34m)\u001b[0m\u001b[0;34m\u001b[0m\u001b[0;34m\u001b[0m\u001b[0m\n\u001b[0m",
            "\u001b[0;32m/usr/local/lib/python3.7/dist-packages/ignite/engine/engine.py\u001b[0m in \u001b[0;36mrun\u001b[0;34m(self, data, max_epochs, epoch_length, seed)\u001b[0m\n\u001b[1;32m    696\u001b[0m \u001b[0;34m\u001b[0m\u001b[0m\n\u001b[1;32m    697\u001b[0m         \u001b[0mself\u001b[0m\u001b[0;34m.\u001b[0m\u001b[0mstate\u001b[0m\u001b[0;34m.\u001b[0m\u001b[0mdataloader\u001b[0m \u001b[0;34m=\u001b[0m \u001b[0mdata\u001b[0m\u001b[0;34m\u001b[0m\u001b[0;34m\u001b[0m\u001b[0m\n\u001b[0;32m--> 698\u001b[0;31m         \u001b[0;32mreturn\u001b[0m \u001b[0mself\u001b[0m\u001b[0;34m.\u001b[0m\u001b[0m_internal_run\u001b[0m\u001b[0;34m(\u001b[0m\u001b[0;34m)\u001b[0m\u001b[0;34m\u001b[0m\u001b[0;34m\u001b[0m\u001b[0m\n\u001b[0m\u001b[1;32m    699\u001b[0m \u001b[0;34m\u001b[0m\u001b[0m\n\u001b[1;32m    700\u001b[0m     \u001b[0;34m@\u001b[0m\u001b[0mstaticmethod\u001b[0m\u001b[0;34m\u001b[0m\u001b[0;34m\u001b[0m\u001b[0m\n",
            "\u001b[0;32m/usr/local/lib/python3.7/dist-packages/ignite/engine/engine.py\u001b[0m in \u001b[0;36m_internal_run\u001b[0;34m(self)\u001b[0m\n\u001b[1;32m    769\u001b[0m             \u001b[0mself\u001b[0m\u001b[0;34m.\u001b[0m\u001b[0m_dataloader_iter\u001b[0m \u001b[0;34m=\u001b[0m \u001b[0;32mNone\u001b[0m\u001b[0;34m\u001b[0m\u001b[0;34m\u001b[0m\u001b[0m\n\u001b[1;32m    770\u001b[0m             \u001b[0mself\u001b[0m\u001b[0;34m.\u001b[0m\u001b[0mlogger\u001b[0m\u001b[0;34m.\u001b[0m\u001b[0merror\u001b[0m\u001b[0;34m(\u001b[0m\u001b[0;34mf\"Engine run is terminating due to exception: {e}\"\u001b[0m\u001b[0;34m)\u001b[0m\u001b[0;34m\u001b[0m\u001b[0;34m\u001b[0m\u001b[0m\n\u001b[0;32m--> 771\u001b[0;31m             \u001b[0mself\u001b[0m\u001b[0;34m.\u001b[0m\u001b[0m_handle_exception\u001b[0m\u001b[0;34m(\u001b[0m\u001b[0me\u001b[0m\u001b[0;34m)\u001b[0m\u001b[0;34m\u001b[0m\u001b[0;34m\u001b[0m\u001b[0m\n\u001b[0m\u001b[1;32m    772\u001b[0m \u001b[0;34m\u001b[0m\u001b[0m\n\u001b[1;32m    773\u001b[0m         \u001b[0mself\u001b[0m\u001b[0;34m.\u001b[0m\u001b[0m_dataloader_iter\u001b[0m \u001b[0;34m=\u001b[0m \u001b[0;32mNone\u001b[0m\u001b[0;34m\u001b[0m\u001b[0;34m\u001b[0m\u001b[0m\n",
            "\u001b[0;32m/usr/local/lib/python3.7/dist-packages/ignite/engine/engine.py\u001b[0m in \u001b[0;36m_handle_exception\u001b[0;34m(self, e)\u001b[0m\n\u001b[1;32m    464\u001b[0m             \u001b[0mself\u001b[0m\u001b[0;34m.\u001b[0m\u001b[0m_fire_event\u001b[0m\u001b[0;34m(\u001b[0m\u001b[0mEvents\u001b[0m\u001b[0;34m.\u001b[0m\u001b[0mEXCEPTION_RAISED\u001b[0m\u001b[0;34m,\u001b[0m \u001b[0me\u001b[0m\u001b[0;34m)\u001b[0m\u001b[0;34m\u001b[0m\u001b[0;34m\u001b[0m\u001b[0m\n\u001b[1;32m    465\u001b[0m         \u001b[0;32melse\u001b[0m\u001b[0;34m:\u001b[0m\u001b[0;34m\u001b[0m\u001b[0;34m\u001b[0m\u001b[0m\n\u001b[0;32m--> 466\u001b[0;31m             \u001b[0;32mraise\u001b[0m \u001b[0me\u001b[0m\u001b[0;34m\u001b[0m\u001b[0;34m\u001b[0m\u001b[0m\n\u001b[0m\u001b[1;32m    467\u001b[0m \u001b[0;34m\u001b[0m\u001b[0m\n\u001b[1;32m    468\u001b[0m     \u001b[0;34m@\u001b[0m\u001b[0mproperty\u001b[0m\u001b[0;34m\u001b[0m\u001b[0;34m\u001b[0m\u001b[0m\n",
            "\u001b[0;32m/usr/local/lib/python3.7/dist-packages/ignite/engine/engine.py\u001b[0m in \u001b[0;36m_internal_run\u001b[0;34m(self)\u001b[0m\n\u001b[1;32m    739\u001b[0m                     \u001b[0mself\u001b[0m\u001b[0;34m.\u001b[0m\u001b[0m_setup_engine\u001b[0m\u001b[0;34m(\u001b[0m\u001b[0;34m)\u001b[0m\u001b[0;34m\u001b[0m\u001b[0;34m\u001b[0m\u001b[0m\n\u001b[1;32m    740\u001b[0m \u001b[0;34m\u001b[0m\u001b[0m\n\u001b[0;32m--> 741\u001b[0;31m                 \u001b[0mtime_taken\u001b[0m \u001b[0;34m=\u001b[0m \u001b[0mself\u001b[0m\u001b[0;34m.\u001b[0m\u001b[0m_run_once_on_dataset\u001b[0m\u001b[0;34m(\u001b[0m\u001b[0;34m)\u001b[0m\u001b[0;34m\u001b[0m\u001b[0;34m\u001b[0m\u001b[0m\n\u001b[0m\u001b[1;32m    742\u001b[0m                 \u001b[0;31m# time is available for handlers but must be update after fire\u001b[0m\u001b[0;34m\u001b[0m\u001b[0;34m\u001b[0m\u001b[0;34m\u001b[0m\u001b[0m\n\u001b[1;32m    743\u001b[0m                 \u001b[0mself\u001b[0m\u001b[0;34m.\u001b[0m\u001b[0mstate\u001b[0m\u001b[0;34m.\u001b[0m\u001b[0mtimes\u001b[0m\u001b[0;34m[\u001b[0m\u001b[0mEvents\u001b[0m\u001b[0;34m.\u001b[0m\u001b[0mEPOCH_COMPLETED\u001b[0m\u001b[0;34m.\u001b[0m\u001b[0mname\u001b[0m\u001b[0;34m]\u001b[0m \u001b[0;34m=\u001b[0m \u001b[0mtime_taken\u001b[0m\u001b[0;34m\u001b[0m\u001b[0;34m\u001b[0m\u001b[0m\n",
            "\u001b[0;32m/usr/local/lib/python3.7/dist-packages/ignite/engine/engine.py\u001b[0m in \u001b[0;36m_run_once_on_dataset\u001b[0;34m(self)\u001b[0m\n\u001b[1;32m    796\u001b[0m                     \u001b[0;32mif\u001b[0m \u001b[0mself\u001b[0m\u001b[0;34m.\u001b[0m\u001b[0mlast_event_name\u001b[0m \u001b[0;34m!=\u001b[0m \u001b[0mEvents\u001b[0m\u001b[0;34m.\u001b[0m\u001b[0mDATALOADER_STOP_ITERATION\u001b[0m\u001b[0;34m:\u001b[0m\u001b[0;34m\u001b[0m\u001b[0;34m\u001b[0m\u001b[0m\n\u001b[1;32m    797\u001b[0m                         \u001b[0mself\u001b[0m\u001b[0;34m.\u001b[0m\u001b[0m_fire_event\u001b[0m\u001b[0;34m(\u001b[0m\u001b[0mEvents\u001b[0m\u001b[0;34m.\u001b[0m\u001b[0mGET_BATCH_STARTED\u001b[0m\u001b[0;34m)\u001b[0m\u001b[0;34m\u001b[0m\u001b[0;34m\u001b[0m\u001b[0m\n\u001b[0;32m--> 798\u001b[0;31m                     \u001b[0mself\u001b[0m\u001b[0;34m.\u001b[0m\u001b[0mstate\u001b[0m\u001b[0;34m.\u001b[0m\u001b[0mbatch\u001b[0m \u001b[0;34m=\u001b[0m \u001b[0mnext\u001b[0m\u001b[0;34m(\u001b[0m\u001b[0mself\u001b[0m\u001b[0;34m.\u001b[0m\u001b[0m_dataloader_iter\u001b[0m\u001b[0;34m)\u001b[0m\u001b[0;34m\u001b[0m\u001b[0;34m\u001b[0m\u001b[0m\n\u001b[0m\u001b[1;32m    799\u001b[0m                     \u001b[0mself\u001b[0m\u001b[0;34m.\u001b[0m\u001b[0m_fire_event\u001b[0m\u001b[0;34m(\u001b[0m\u001b[0mEvents\u001b[0m\u001b[0;34m.\u001b[0m\u001b[0mGET_BATCH_COMPLETED\u001b[0m\u001b[0;34m)\u001b[0m\u001b[0;34m\u001b[0m\u001b[0;34m\u001b[0m\u001b[0m\n\u001b[1;32m    800\u001b[0m                     \u001b[0miter_counter\u001b[0m \u001b[0;34m+=\u001b[0m \u001b[0;36m1\u001b[0m\u001b[0;34m\u001b[0m\u001b[0;34m\u001b[0m\u001b[0m\n",
            "\u001b[0;32m/content/cupy_dataset.py\u001b[0m in \u001b[0;36m__next__\u001b[0;34m(self)\u001b[0m\n\u001b[1;32m     93\u001b[0m           \u001b[0mY\u001b[0m\u001b[0;34m[\u001b[0m\u001b[0mop\u001b[0m\u001b[0;34m,\u001b[0m \u001b[0;36m1\u001b[0m\u001b[0;34m:\u001b[0m\u001b[0;36m4\u001b[0m\u001b[0;34m]\u001b[0m \u001b[0;34m=\u001b[0m \u001b[0mcupy\u001b[0m\u001b[0;34m.\u001b[0m\u001b[0marray\u001b[0m\u001b[0;34m(\u001b[0m\u001b[0mDeltas\u001b[0m\u001b[0;34m,\u001b[0m \u001b[0mdtype\u001b[0m\u001b[0;34m=\u001b[0m\u001b[0mcupy\u001b[0m\u001b[0;34m.\u001b[0m\u001b[0mfloat32\u001b[0m\u001b[0;34m)\u001b[0m\u001b[0;34m\u001b[0m\u001b[0;34m\u001b[0m\u001b[0m\n\u001b[1;32m     94\u001b[0m \u001b[0;34m\u001b[0m\u001b[0m\n\u001b[0;32m---> 95\u001b[0;31m           \u001b[0mparas\u001b[0m \u001b[0;34m=\u001b[0m \u001b[0;34m(\u001b[0m\u001b[0mjnp\u001b[0m\u001b[0;34m.\u001b[0m\u001b[0mrepeat\u001b[0m\u001b[0;34m(\u001b[0m\u001b[0mjnp\u001b[0m\u001b[0;34m.\u001b[0m\u001b[0marray\u001b[0m\u001b[0;34m(\u001b[0m\u001b[0mT\u001b[0m\u001b[0;34m)\u001b[0m\u001b[0;34m,\u001b[0m \u001b[0mself\u001b[0m\u001b[0;34m.\u001b[0m\u001b[0mN_STOCKS\u001b[0m\u001b[0;34m)\u001b[0m\u001b[0;34m,\u001b[0m \u001b[0mjnp\u001b[0m\u001b[0;34m.\u001b[0m\u001b[0mrepeat\u001b[0m\u001b[0;34m(\u001b[0m\u001b[0mjnp\u001b[0m\u001b[0;34m.\u001b[0m\u001b[0marray\u001b[0m\u001b[0;34m(\u001b[0m\u001b[0mK\u001b[0m\u001b[0;34m)\u001b[0m\u001b[0;34m,\u001b[0m \u001b[0mself\u001b[0m\u001b[0;34m.\u001b[0m\u001b[0mN_STOCKS\u001b[0m\u001b[0;34m)\u001b[0m\u001b[0;34m,\u001b[0m \u001b[0minitial_stocks\u001b[0m\u001b[0;34m,\u001b[0m \u001b[0msigma\u001b[0m\u001b[0;34m,\u001b[0m \u001b[0mdrift\u001b[0m\u001b[0;34m,\u001b[0m \u001b[0mr\u001b[0m\u001b[0;34m)\u001b[0m\u001b[0;34m\u001b[0m\u001b[0;34m\u001b[0m\u001b[0m\n\u001b[0m\u001b[1;32m     96\u001b[0m           \u001b[0mparas\u001b[0m \u001b[0;34m=\u001b[0m \u001b[0mnp\u001b[0m\u001b[0;34m.\u001b[0m\u001b[0mcolumn_stack\u001b[0m\u001b[0;34m(\u001b[0m\u001b[0mparas\u001b[0m\u001b[0;34m)\u001b[0m\u001b[0;34m.\u001b[0m\u001b[0mreshape\u001b[0m\u001b[0;34m(\u001b[0m\u001b[0;36m1\u001b[0m\u001b[0;34m,\u001b[0m\u001b[0;34m-\u001b[0m\u001b[0;36m1\u001b[0m\u001b[0;34m)\u001b[0m\u001b[0;34m[\u001b[0m\u001b[0;36m0\u001b[0m\u001b[0;34m]\u001b[0m\u001b[0;34m\u001b[0m\u001b[0;34m\u001b[0m\u001b[0m\n\u001b[1;32m     97\u001b[0m           \u001b[0mX\u001b[0m\u001b[0;34m[\u001b[0m\u001b[0mop\u001b[0m\u001b[0;34m,\u001b[0m\u001b[0;34m]\u001b[0m \u001b[0;34m=\u001b[0m \u001b[0mcupy\u001b[0m\u001b[0;34m.\u001b[0m\u001b[0marray\u001b[0m\u001b[0;34m(\u001b[0m\u001b[0mparas\u001b[0m\u001b[0;34m)\u001b[0m\u001b[0;34m\u001b[0m\u001b[0;34m\u001b[0m\u001b[0m\n",
            "\u001b[0;32m/usr/local/lib/python3.7/dist-packages/jax/_src/numpy/lax_numpy.py\u001b[0m in \u001b[0;36marray\u001b[0;34m(object, dtype, copy, order, ndmin)\u001b[0m\n\u001b[1;32m   3567\u001b[0m     \u001b[0;32mraise\u001b[0m \u001b[0mTypeError\u001b[0m\u001b[0;34m(\u001b[0m\u001b[0;34m\"Unexpected input type for array: {}\"\u001b[0m\u001b[0;34m.\u001b[0m\u001b[0mformat\u001b[0m\u001b[0;34m(\u001b[0m\u001b[0mtype\u001b[0m\u001b[0;34m(\u001b[0m\u001b[0mobject\u001b[0m\u001b[0;34m)\u001b[0m\u001b[0;34m)\u001b[0m\u001b[0;34m)\u001b[0m\u001b[0;34m\u001b[0m\u001b[0;34m\u001b[0m\u001b[0m\n\u001b[1;32m   3568\u001b[0m \u001b[0;34m\u001b[0m\u001b[0m\n\u001b[0;32m-> 3569\u001b[0;31m   \u001b[0mout\u001b[0m \u001b[0;34m=\u001b[0m \u001b[0mlax\u001b[0m\u001b[0;34m.\u001b[0m\u001b[0m_convert_element_type\u001b[0m\u001b[0;34m(\u001b[0m\u001b[0mout\u001b[0m\u001b[0;34m,\u001b[0m \u001b[0mdtype\u001b[0m\u001b[0;34m,\u001b[0m \u001b[0mweak_type\u001b[0m\u001b[0;34m=\u001b[0m\u001b[0mweak_type\u001b[0m\u001b[0;34m)\u001b[0m\u001b[0;34m\u001b[0m\u001b[0;34m\u001b[0m\u001b[0m\n\u001b[0m\u001b[1;32m   3570\u001b[0m \u001b[0;34m\u001b[0m\u001b[0m\n\u001b[1;32m   3571\u001b[0m   \u001b[0;32mif\u001b[0m \u001b[0mndmin\u001b[0m \u001b[0;34m>\u001b[0m \u001b[0mndim\u001b[0m\u001b[0;34m(\u001b[0m\u001b[0mout\u001b[0m\u001b[0;34m)\u001b[0m\u001b[0;34m:\u001b[0m\u001b[0;34m\u001b[0m\u001b[0;34m\u001b[0m\u001b[0m\n",
            "\u001b[0;32m/usr/local/lib/python3.7/dist-packages/jax/_src/lax/lax.py\u001b[0m in \u001b[0;36m_convert_element_type\u001b[0;34m(operand, new_dtype, weak_type)\u001b[0m\n\u001b[1;32m    441\u001b[0m   \u001b[0mnew_weak_type\u001b[0m \u001b[0;34m=\u001b[0m \u001b[0mbool\u001b[0m\u001b[0;34m(\u001b[0m\u001b[0mweak_type\u001b[0m\u001b[0;34m)\u001b[0m\u001b[0;34m\u001b[0m\u001b[0;34m\u001b[0m\u001b[0m\n\u001b[1;32m    442\u001b[0m \u001b[0;34m\u001b[0m\u001b[0m\n\u001b[0;32m--> 443\u001b[0;31m   if (dtypes.issubdtype(old_dtype, np.complexfloating) and\n\u001b[0m\u001b[1;32m    444\u001b[0m       not dtypes.issubdtype(new_dtype, np.complexfloating)):\n\u001b[1;32m    445\u001b[0m     \u001b[0mmsg\u001b[0m \u001b[0;34m=\u001b[0m \u001b[0;34m\"Casting complex values to real discards the imaginary part\"\u001b[0m\u001b[0;34m\u001b[0m\u001b[0;34m\u001b[0m\u001b[0m\n",
            "\u001b[0;32m/usr/local/lib/python3.7/dist-packages/jax/_src/dtypes.py\u001b[0m in \u001b[0;36missubdtype\u001b[0;34m(a, b)\u001b[0m\n\u001b[1;32m    199\u001b[0m \u001b[0;34m\u001b[0m\u001b[0m\n\u001b[1;32m    200\u001b[0m \u001b[0;32mdef\u001b[0m \u001b[0missubdtype\u001b[0m\u001b[0;34m(\u001b[0m\u001b[0ma\u001b[0m\u001b[0;34m,\u001b[0m \u001b[0mb\u001b[0m\u001b[0;34m)\u001b[0m\u001b[0;34m:\u001b[0m\u001b[0;34m\u001b[0m\u001b[0;34m\u001b[0m\u001b[0m\n\u001b[0;32m--> 201\u001b[0;31m   \u001b[0;32mif\u001b[0m \u001b[0ma\u001b[0m \u001b[0;34m==\u001b[0m \u001b[0;34m\"bfloat16\"\u001b[0m\u001b[0;34m:\u001b[0m\u001b[0;34m\u001b[0m\u001b[0;34m\u001b[0m\u001b[0m\n\u001b[0m\u001b[1;32m    202\u001b[0m     \u001b[0ma\u001b[0m \u001b[0;34m=\u001b[0m \u001b[0mbfloat16\u001b[0m\u001b[0;34m\u001b[0m\u001b[0;34m\u001b[0m\u001b[0m\n\u001b[1;32m    203\u001b[0m   \u001b[0;32mif\u001b[0m \u001b[0ma\u001b[0m \u001b[0;34m==\u001b[0m \u001b[0mbfloat16\u001b[0m\u001b[0;34m:\u001b[0m\u001b[0;34m\u001b[0m\u001b[0;34m\u001b[0m\u001b[0m\n",
            "\u001b[0;31mKeyboardInterrupt\u001b[0m: "
          ]
        }
      ]
    },
    {
      "cell_type": "markdown",
      "metadata": {
        "id": "NOxUYnbSVTnl"
      },
      "source": [
        "**Save Model**"
      ]
    },
    {
      "cell_type": "code",
      "metadata": {
        "id": "mq_GDLdvU9ib",
        "colab": {
          "base_uri": "https://localhost:8080/"
        },
        "outputId": "d79d52cb-3f6e-439f-b08d-7aceb6d90e20"
      },
      "source": [
        "from google.colab import drive\n",
        "drive.mount('/content/drive')\\"
      ],
      "execution_count": null,
      "outputs": [
        {
          "output_type": "stream",
          "name": "stdout",
          "text": [
            "Drive already mounted at /content/drive; to attempt to forcibly remount, call drive.mount(\"/content/drive\", force_remount=True).\n"
          ]
        }
      ]
    },
    {
      "cell_type": "code",
      "metadata": {
        "id": "iNEAqIJAVa-6"
      },
      "source": [
        "import torch\n",
        "model_save_name = 'jax_european_test_1.pth'\n",
        "path = F\"/content/drive/MyDrive/AFP Project/Lilian/{model_save_name}\" \n",
        "torch.save(model.state_dict(), path)"
      ],
      "execution_count": null,
      "outputs": []
    },
    {
      "cell_type": "markdown",
      "metadata": {
        "id": "4IXkmXlAVdEh"
      },
      "source": [
        "**Load Model**"
      ]
    },
    {
      "cell_type": "code",
      "metadata": {
        "id": "QjERL5bcVcXS",
        "colab": {
          "base_uri": "https://localhost:8080/"
        },
        "outputId": "68143c2c-f53e-456a-d1e7-8928256f5f40"
      },
      "source": [
        "from google.colab import drive\n",
        "drive.mount('/content/drive')"
      ],
      "execution_count": 6,
      "outputs": [
        {
          "output_type": "stream",
          "name": "stdout",
          "text": [
            "Mounted at /content/drive\n"
          ]
        }
      ]
    },
    {
      "cell_type": "code",
      "metadata": {
        "id": "oIJoo5Z7VjAR",
        "colab": {
          "base_uri": "https://localhost:8080/"
        },
        "outputId": "bc415c28-acc7-45a8-ae5e-1caf98c0ea43"
      },
      "source": [
        "import torch\n",
        "model_save_name = 'jax_european_test_1.pth'\n",
        "path = F\"/content/drive/MyDrive/AFP Project/Lilian/{model_save_name}\" \n",
        "state_dict = torch.load(path)\n",
        "print(state_dict.keys())"
      ],
      "execution_count": 7,
      "outputs": [
        {
          "output_type": "stream",
          "name": "stdout",
          "text": [
            "odict_keys(['norm', 'fc1.weight', 'fc1.bias', 'fc2.weight', 'fc2.bias', 'fc3.weight', 'fc3.bias', 'fc4.weight', 'fc4.bias', 'fc5.weight', 'fc5.bias', 'fc6.weight', 'fc6.bias'])\n"
          ]
        }
      ]
    },
    {
      "cell_type": "code",
      "metadata": {
        "id": "mSkrjknWVlL8",
        "colab": {
          "base_uri": "https://localhost:8080/"
        },
        "outputId": "87534b99-08ed-45eb-f4e1-f9d177387268"
      },
      "source": [
        "# need to run 'Writing cupy_dataset.py' and 'Writing model.py' above before this\n",
        "from model import Net\n",
        "model = Net().cuda()\n",
        "\n",
        "model.load_state_dict(state_dict)\n",
        "print(model)"
      ],
      "execution_count": 8,
      "outputs": [
        {
          "output_type": "stream",
          "name": "stdout",
          "text": [
            "Net(\n",
            "  (fc1): Linear(in_features=18, out_features=1024, bias=True)\n",
            "  (fc2): Linear(in_features=1024, out_features=1024, bias=True)\n",
            "  (fc3): Linear(in_features=1024, out_features=1024, bias=True)\n",
            "  (fc4): Linear(in_features=1024, out_features=1024, bias=True)\n",
            "  (fc5): Linear(in_features=1024, out_features=1024, bias=True)\n",
            "  (fc6): Linear(in_features=1024, out_features=4, bias=True)\n",
            ")\n"
          ]
        }
      ]
    },
    {
      "cell_type": "markdown",
      "metadata": {
        "id": "s5MbsAwEVmff"
      },
      "source": [
        "**Continue to train model**"
      ]
    },
    {
      "cell_type": "code",
      "metadata": {
        "id": "aQYxo1IXVl57",
        "colab": {
          "base_uri": "https://localhost:8080/",
          "height": 1000
        },
        "outputId": "367c5f22-e3cd-484c-91ee-fb62ac9b969d"
      },
      "source": [
        "# If memory is not enough, try changing parameters and restarting session\n",
        "# loss will converge\n",
        "\n",
        "from ignite.engine import Engine, Events\n",
        "from ignite.handlers import Timer\n",
        "from torch.nn import MSELoss\n",
        "from torch.optim import Adam\n",
        "from ignite.contrib.handlers.param_scheduler import CosineAnnealingScheduler\n",
        "from ignite.handlers import ModelCheckpoint\n",
        "from model import Net\n",
        "from cupy_dataset import OptionDataSet\n",
        "import numpy as np\n",
        "timer = Timer(average=True)\n",
        "#model = Net().cuda()\n",
        "loss_fn = MSELoss()\n",
        "optimizer = Adam(model.parameters(), lr=1e-3)\n",
        "#dataset = OptionDataSet(max_len = 100, number_path = 1024, batch = 32, seed = np.random.randint(10000), stocks = 3) # must have random seed\n",
        "dataset = OptionDataSet(max_len = 100, number_path = 10000, batch = 8, seed = np.random.randint(10000), stocks = 3) # must have random seed\n",
        "\n",
        "\n",
        "def train_update(engine, batch):\n",
        "    model.train()\n",
        "    optimizer.zero_grad()\n",
        "    x = batch[0]\n",
        "    y = batch[1]\n",
        "    # print(y)\n",
        "    y_pred = model(x)\n",
        "    # print(y_pred)\n",
        "    # print(y.mean(axis=0))\n",
        "    loss_weight = y.mean(axis=0)[0]/y.mean(axis=0)\n",
        "    loss_weight_normalized = loss_weight/loss_weight.sum()\n",
        "    # print('weights', loss_weight)\n",
        "    print('y', y.mean(axis=0))\n",
        "    # print(loss_weight_normalized)\n",
        "    loss = ((y_pred - y) ** 2 * loss_weight_normalized).mean() # compute weighted MSE between the 2 arrays\n",
        "    # print((y_pred - y) ** 2)\n",
        "    # print((y_pred - y) ** 2 * loss_weight_normalized)\n",
        "    # print(loss)\n",
        "    loss.backward()\n",
        "    optimizer.step()\n",
        "    return loss.item()\n",
        "\n",
        "trainer = Engine(train_update)\n",
        "log_interval = 20\n",
        "\n",
        "scheduler = CosineAnnealingScheduler(optimizer, 'lr', 1e-4, 1e-6, len(dataset))\n",
        "trainer.add_event_handler(Events.ITERATION_STARTED, scheduler)\n",
        "timer.attach(trainer,\n",
        "             start=Events.EPOCH_STARTED,\n",
        "             resume=Events.ITERATION_STARTED,\n",
        "             pause=Events.ITERATION_COMPLETED,\n",
        "             step=Events.ITERATION_COMPLETED)    \n",
        "@trainer.on(Events.ITERATION_COMPLETED)\n",
        "def log_training_loss(engine):\n",
        "    iter = (engine.state.iteration - 1) % len(dataset) + 1\n",
        "    if iter % log_interval == 0:\n",
        "        print('loss', engine.state.output, 'average time', timer.value(), 'iter num', iter)\n",
        "        \n",
        "trainer.run(dataset, max_epochs = 10)\n",
        "\n",
        "model_save_name = 'jax_european_test_2.pth'\n",
        "path = F\"/content/drive/MyDrive/AFP Project/Lilian/{model_save_name}\" \n",
        "torch.save(model.state_dict(), path)"
      ],
      "execution_count": 12,
      "outputs": [
        {
          "output_type": "stream",
          "name": "stdout",
          "text": [
            "y tensor([[ 21.9164,   0.3336,   0.3334,   0.3324],\n",
            "        [ 50.4300,   0.3334,   0.3337,   0.3329],\n",
            "        [108.7805,   0.3335,   0.3337,   0.3332],\n",
            "        [ 30.1778,   0.3272,   0.3260,   0.3276],\n",
            "        [ 66.8723,   0.3337,   0.3337,   0.3325],\n",
            "        [132.2012,   0.3334,   0.3335,   0.3319],\n",
            "        [ 73.4874,   0.3335,   0.3337,   0.3328],\n",
            "        [  0.0000,   0.0000,   0.0000,   0.0000]], device='cuda:0')\n",
            "y tensor([[9.3234e-02, 5.9945e-03, 3.2655e-03, 3.2851e-03],\n",
            "        [1.9864e+01, 3.1316e-01, 3.0768e-01, 3.1353e-01],\n",
            "        [6.8331e+01, 3.3358e-01, 3.3362e-01, 3.3314e-01],\n",
            "        [5.3689e+01, 3.3363e-01, 3.3331e-01, 3.3213e-01],\n",
            "        [2.9862e+00, 1.8667e-01, 1.7602e-01, 2.1658e-01],\n",
            "        [6.9332e+01, 3.3352e-01, 3.3335e-01, 3.3089e-01],\n",
            "        [6.8121e+01, 3.3378e-01, 3.3363e-01, 3.3233e-01],\n",
            "        [0.0000e+00, 0.0000e+00, 0.0000e+00, 0.0000e+00]], device='cuda:0')\n",
            "y tensor([[0.0000e+00, 0.0000e+00, 0.0000e+00, 0.0000e+00],\n",
            "        [1.4892e+00, 9.4360e-02, 1.0007e-01, 1.3305e-01],\n",
            "        [1.5607e+01, 3.2969e-01, 3.2966e-01, 3.2862e-01],\n",
            "        [5.6630e+01, 3.3378e-01, 3.3354e-01, 3.3211e-01],\n",
            "        [3.2815e-02, 7.6573e-04, 7.5729e-04, 2.1101e-03],\n",
            "        [0.0000e+00, 0.0000e+00, 0.0000e+00, 0.0000e+00],\n",
            "        [8.2523e-02, 2.2841e-03, 3.5349e-03, 5.3964e-03],\n",
            "        [4.7293e+01, 3.3351e-01, 3.3365e-01, 3.3235e-01]], device='cuda:0')\n",
            "y tensor([[7.5502e+00, 3.1972e-01, 3.2444e-01, 3.1977e-01],\n",
            "        [2.2376e-03, 1.5791e-04, 4.5148e-04, 1.3408e-04],\n",
            "        [3.7025e-01, 2.1072e-02, 1.0337e-02, 1.0274e-02],\n",
            "        [4.2863e+01, 3.3377e-01, 3.3365e-01, 3.3288e-01],\n",
            "        [1.1457e+02, 3.3348e-01, 3.3365e-01, 3.3177e-01],\n",
            "        [3.7241e+01, 3.3344e-01, 3.3347e-01, 3.3106e-01],\n",
            "        [3.3268e-03, 1.9367e-04, 4.0150e-04, 1.9679e-04],\n",
            "        [9.7534e-01, 2.7904e-02, 4.4671e-02, 3.0906e-02]], device='cuda:0')\n",
            "y tensor([[5.2748e-03, 4.5690e-04, 1.6736e-04, 2.5870e-04],\n",
            "        [4.4368e+00, 1.3318e-01, 1.8008e-01, 1.4095e-01],\n",
            "        [3.0280e+01, 3.2351e-01, 3.2142e-01, 3.1445e-01],\n",
            "        [4.3181e+01, 3.3174e-01, 3.3143e-01, 3.3032e-01],\n",
            "        [6.4514e+00, 1.7653e-01, 1.4254e-01, 1.3539e-01],\n",
            "        [1.0584e+02, 3.3359e-01, 3.3361e-01, 3.3082e-01],\n",
            "        [2.4614e+00, 1.0705e-01, 7.7259e-02, 7.6729e-02],\n",
            "        [1.4654e+01, 3.3307e-01, 3.3162e-01, 3.3120e-01]], device='cuda:0')\n",
            "y tensor([[1.2764e+01, 2.8748e-01, 2.7795e-01, 2.8354e-01],\n",
            "        [3.4426e-01, 1.8270e-02, 1.0484e-02, 8.3397e-03],\n",
            "        [1.3506e+00, 5.2291e-02, 2.6959e-02, 2.6755e-02],\n",
            "        [1.7101e+00, 1.9127e-01, 1.9070e-01, 2.0312e-01],\n",
            "        [1.0626e+01, 3.1743e-01, 3.2290e-01, 3.1180e-01],\n",
            "        [1.1464e+02, 3.3378e-01, 3.3365e-01, 3.3325e-01],\n",
            "        [2.6304e+01, 3.0852e-01, 2.9579e-01, 2.9805e-01],\n",
            "        [7.0203e+00, 1.5082e-01, 1.5380e-01, 1.8416e-01]], device='cuda:0')\n",
            "y tensor([[75.5300,  0.3333,  0.3336,  0.3316],\n",
            "        [60.5151,  0.3334,  0.3336,  0.3319],\n",
            "        [70.0303,  0.3334,  0.3336,  0.3329],\n",
            "        [39.6608,  0.3334,  0.3333,  0.3309],\n",
            "        [39.9718,  0.3335,  0.3336,  0.3326],\n",
            "        [ 0.0000,  0.0000,  0.0000,  0.0000],\n",
            "        [37.1304,  0.3215,  0.3230,  0.3144],\n",
            "        [ 0.0000,  0.0000,  0.0000,  0.0000]], device='cuda:0')\n",
            "y tensor([[1.3900e+01, 3.3375e-01, 3.3356e-01, 3.3314e-01],\n",
            "        [2.5726e+01, 3.2984e-01, 3.3051e-01, 3.2935e-01],\n",
            "        [3.9201e+01, 3.3335e-01, 3.3365e-01, 3.3305e-01],\n",
            "        [2.1691e+01, 3.3244e-01, 3.3309e-01, 3.3074e-01],\n",
            "        [7.9218e-02, 7.8861e-03, 4.7753e-03, 4.7170e-03],\n",
            "        [8.8547e+01, 3.3355e-01, 3.3352e-01, 3.3090e-01],\n",
            "        [1.1580e+02, 3.3371e-01, 3.3364e-01, 3.3268e-01],\n",
            "        [0.0000e+00, 0.0000e+00, 0.0000e+00, 0.0000e+00]], device='cuda:0')\n",
            "y tensor([[4.2819e-02, 1.1364e-03, 1.2168e-03, 2.7359e-03],\n",
            "        [0.0000e+00, 0.0000e+00, 0.0000e+00, 0.0000e+00],\n",
            "        [5.8880e+01, 3.3368e-01, 3.3333e-01, 3.3181e-01],\n",
            "        [1.0437e+02, 3.3335e-01, 3.3342e-01, 3.3312e-01],\n",
            "        [1.6064e+00, 3.7969e-02, 3.8087e-02, 5.9546e-02],\n",
            "        [1.8706e+01, 2.6137e-01, 2.9114e-01, 2.6070e-01],\n",
            "        [1.2558e+02, 3.3366e-01, 3.3354e-01, 3.3193e-01],\n",
            "        [4.3826e+01, 3.3316e-01, 3.3343e-01, 3.3130e-01]], device='cuda:0')\n",
            "y tensor([[1.6744e-01, 1.0380e-02, 6.1534e-03, 5.5599e-03],\n",
            "        [9.9470e-01, 3.0810e-02, 2.5834e-02, 3.7349e-02],\n",
            "        [0.0000e+00, 0.0000e+00, 0.0000e+00, 0.0000e+00],\n",
            "        [8.2944e-01, 4.7151e-02, 4.9392e-02, 5.5644e-02],\n",
            "        [5.1912e-01, 1.7288e-02, 3.3500e-02, 1.7080e-02],\n",
            "        [0.0000e+00, 0.0000e+00, 0.0000e+00, 0.0000e+00],\n",
            "        [5.5939e-01, 3.2909e-02, 2.0947e-02, 1.8390e-02],\n",
            "        [7.8422e+00, 1.6786e-01, 1.7783e-01, 1.9426e-01]], device='cuda:0')\n",
            "y tensor([[0.0000e+00, 0.0000e+00, 0.0000e+00, 0.0000e+00],\n",
            "        [0.0000e+00, 0.0000e+00, 0.0000e+00, 0.0000e+00],\n",
            "        [1.2259e-01, 1.2484e-02, 1.1970e-02, 9.9284e-03],\n",
            "        [5.6553e+01, 3.3084e-01, 3.3192e-01, 3.2916e-01],\n",
            "        [7.6594e+01, 3.3349e-01, 3.3350e-01, 3.3126e-01],\n",
            "        [3.1780e+01, 3.2940e-01, 3.3064e-01, 3.2805e-01],\n",
            "        [1.3662e+02, 3.3376e-01, 3.3338e-01, 3.3124e-01],\n",
            "        [8.1776e+01, 3.3367e-01, 3.3344e-01, 3.3245e-01]], device='cuda:0')\n",
            "y tensor([[3.0744e-04, 3.0402e-05, 3.4680e-05, 5.6923e-05],\n",
            "        [3.8926e+01, 3.3356e-01, 3.3365e-01, 3.3233e-01],\n",
            "        [1.0465e+02, 3.3374e-01, 3.3365e-01, 3.3299e-01],\n",
            "        [1.0047e+01, 2.8575e-01, 2.5878e-01, 2.6217e-01],\n",
            "        [1.2389e+01, 2.2695e-01, 2.3966e-01, 2.2527e-01],\n",
            "        [2.0881e+01, 3.2865e-01, 3.3173e-01, 3.2854e-01],\n",
            "        [2.6247e+01, 3.3343e-01, 3.3365e-01, 3.3097e-01],\n",
            "        [0.0000e+00, 0.0000e+00, 0.0000e+00, 0.0000e+00]], device='cuda:0')\n"
          ]
        },
        {
          "output_type": "stream",
          "name": "stderr",
          "text": [
            "ERROR:ignite.engine.engine.Engine:Engine run is terminating due to exception: \n"
          ]
        },
        {
          "output_type": "stream",
          "name": "stdout",
          "text": [
            "y tensor([[9.0799e+01, 3.3350e-01, 3.3347e-01, 3.3247e-01],\n",
            "        [8.4563e+01, 3.3354e-01, 3.3362e-01, 3.3191e-01],\n",
            "        [2.1804e-04, 3.8358e-05, 5.3592e-05, 3.6533e-05],\n",
            "        [2.2041e+01, 2.9543e-01, 2.6903e-01, 2.7431e-01],\n",
            "        [9.6703e+00, 1.5667e-01, 1.6322e-01, 1.4402e-01],\n",
            "        [0.0000e+00, 0.0000e+00, 0.0000e+00, 0.0000e+00],\n",
            "        [0.0000e+00, 0.0000e+00, 0.0000e+00, 0.0000e+00],\n",
            "        [3.2991e+01, 3.0783e-01, 3.1134e-01, 2.9725e-01]], device='cuda:0')\n"
          ]
        },
        {
          "output_type": "error",
          "ename": "KeyboardInterrupt",
          "evalue": "ignored",
          "traceback": [
            "\u001b[0;31m---------------------------------------------------------------------------\u001b[0m",
            "\u001b[0;31mKeyboardInterrupt\u001b[0m                         Traceback (most recent call last)",
            "\u001b[0;32m<ipython-input-12-3943cd138ca8>\u001b[0m in \u001b[0;36m<module>\u001b[0;34m()\u001b[0m\n\u001b[1;32m     57\u001b[0m         \u001b[0mprint\u001b[0m\u001b[0;34m(\u001b[0m\u001b[0;34m'loss'\u001b[0m\u001b[0;34m,\u001b[0m \u001b[0mengine\u001b[0m\u001b[0;34m.\u001b[0m\u001b[0mstate\u001b[0m\u001b[0;34m.\u001b[0m\u001b[0moutput\u001b[0m\u001b[0;34m,\u001b[0m \u001b[0;34m'average time'\u001b[0m\u001b[0;34m,\u001b[0m \u001b[0mtimer\u001b[0m\u001b[0;34m.\u001b[0m\u001b[0mvalue\u001b[0m\u001b[0;34m(\u001b[0m\u001b[0;34m)\u001b[0m\u001b[0;34m,\u001b[0m \u001b[0;34m'iter num'\u001b[0m\u001b[0;34m,\u001b[0m \u001b[0miter\u001b[0m\u001b[0;34m)\u001b[0m\u001b[0;34m\u001b[0m\u001b[0;34m\u001b[0m\u001b[0m\n\u001b[1;32m     58\u001b[0m \u001b[0;34m\u001b[0m\u001b[0m\n\u001b[0;32m---> 59\u001b[0;31m \u001b[0mtrainer\u001b[0m\u001b[0;34m.\u001b[0m\u001b[0mrun\u001b[0m\u001b[0;34m(\u001b[0m\u001b[0mdataset\u001b[0m\u001b[0;34m,\u001b[0m \u001b[0mmax_epochs\u001b[0m \u001b[0;34m=\u001b[0m \u001b[0;36m10\u001b[0m\u001b[0;34m)\u001b[0m\u001b[0;34m\u001b[0m\u001b[0;34m\u001b[0m\u001b[0m\n\u001b[0m\u001b[1;32m     60\u001b[0m \u001b[0;34m\u001b[0m\u001b[0m\n\u001b[1;32m     61\u001b[0m \u001b[0mmodel_save_name\u001b[0m \u001b[0;34m=\u001b[0m \u001b[0;34m'jax_european_test_2.pth'\u001b[0m\u001b[0;34m\u001b[0m\u001b[0;34m\u001b[0m\u001b[0m\n",
            "\u001b[0;32m/usr/local/lib/python3.7/dist-packages/ignite/engine/engine.py\u001b[0m in \u001b[0;36mrun\u001b[0;34m(self, data, max_epochs, epoch_length, seed)\u001b[0m\n\u001b[1;32m    696\u001b[0m \u001b[0;34m\u001b[0m\u001b[0m\n\u001b[1;32m    697\u001b[0m         \u001b[0mself\u001b[0m\u001b[0;34m.\u001b[0m\u001b[0mstate\u001b[0m\u001b[0;34m.\u001b[0m\u001b[0mdataloader\u001b[0m \u001b[0;34m=\u001b[0m \u001b[0mdata\u001b[0m\u001b[0;34m\u001b[0m\u001b[0;34m\u001b[0m\u001b[0m\n\u001b[0;32m--> 698\u001b[0;31m         \u001b[0;32mreturn\u001b[0m \u001b[0mself\u001b[0m\u001b[0;34m.\u001b[0m\u001b[0m_internal_run\u001b[0m\u001b[0;34m(\u001b[0m\u001b[0;34m)\u001b[0m\u001b[0;34m\u001b[0m\u001b[0;34m\u001b[0m\u001b[0m\n\u001b[0m\u001b[1;32m    699\u001b[0m \u001b[0;34m\u001b[0m\u001b[0m\n\u001b[1;32m    700\u001b[0m     \u001b[0;34m@\u001b[0m\u001b[0mstaticmethod\u001b[0m\u001b[0;34m\u001b[0m\u001b[0;34m\u001b[0m\u001b[0m\n",
            "\u001b[0;32m/usr/local/lib/python3.7/dist-packages/ignite/engine/engine.py\u001b[0m in \u001b[0;36m_internal_run\u001b[0;34m(self)\u001b[0m\n\u001b[1;32m    769\u001b[0m             \u001b[0mself\u001b[0m\u001b[0;34m.\u001b[0m\u001b[0m_dataloader_iter\u001b[0m \u001b[0;34m=\u001b[0m \u001b[0;32mNone\u001b[0m\u001b[0;34m\u001b[0m\u001b[0;34m\u001b[0m\u001b[0m\n\u001b[1;32m    770\u001b[0m             \u001b[0mself\u001b[0m\u001b[0;34m.\u001b[0m\u001b[0mlogger\u001b[0m\u001b[0;34m.\u001b[0m\u001b[0merror\u001b[0m\u001b[0;34m(\u001b[0m\u001b[0;34mf\"Engine run is terminating due to exception: {e}\"\u001b[0m\u001b[0;34m)\u001b[0m\u001b[0;34m\u001b[0m\u001b[0;34m\u001b[0m\u001b[0m\n\u001b[0;32m--> 771\u001b[0;31m             \u001b[0mself\u001b[0m\u001b[0;34m.\u001b[0m\u001b[0m_handle_exception\u001b[0m\u001b[0;34m(\u001b[0m\u001b[0me\u001b[0m\u001b[0;34m)\u001b[0m\u001b[0;34m\u001b[0m\u001b[0;34m\u001b[0m\u001b[0m\n\u001b[0m\u001b[1;32m    772\u001b[0m \u001b[0;34m\u001b[0m\u001b[0m\n\u001b[1;32m    773\u001b[0m         \u001b[0mself\u001b[0m\u001b[0;34m.\u001b[0m\u001b[0m_dataloader_iter\u001b[0m \u001b[0;34m=\u001b[0m \u001b[0;32mNone\u001b[0m\u001b[0;34m\u001b[0m\u001b[0;34m\u001b[0m\u001b[0m\n",
            "\u001b[0;32m/usr/local/lib/python3.7/dist-packages/ignite/engine/engine.py\u001b[0m in \u001b[0;36m_handle_exception\u001b[0;34m(self, e)\u001b[0m\n\u001b[1;32m    464\u001b[0m             \u001b[0mself\u001b[0m\u001b[0;34m.\u001b[0m\u001b[0m_fire_event\u001b[0m\u001b[0;34m(\u001b[0m\u001b[0mEvents\u001b[0m\u001b[0;34m.\u001b[0m\u001b[0mEXCEPTION_RAISED\u001b[0m\u001b[0;34m,\u001b[0m \u001b[0me\u001b[0m\u001b[0;34m)\u001b[0m\u001b[0;34m\u001b[0m\u001b[0;34m\u001b[0m\u001b[0m\n\u001b[1;32m    465\u001b[0m         \u001b[0;32melse\u001b[0m\u001b[0;34m:\u001b[0m\u001b[0;34m\u001b[0m\u001b[0;34m\u001b[0m\u001b[0m\n\u001b[0;32m--> 466\u001b[0;31m             \u001b[0;32mraise\u001b[0m \u001b[0me\u001b[0m\u001b[0;34m\u001b[0m\u001b[0;34m\u001b[0m\u001b[0m\n\u001b[0m\u001b[1;32m    467\u001b[0m \u001b[0;34m\u001b[0m\u001b[0m\n\u001b[1;32m    468\u001b[0m     \u001b[0;34m@\u001b[0m\u001b[0mproperty\u001b[0m\u001b[0;34m\u001b[0m\u001b[0;34m\u001b[0m\u001b[0m\n",
            "\u001b[0;32m/usr/local/lib/python3.7/dist-packages/ignite/engine/engine.py\u001b[0m in \u001b[0;36m_internal_run\u001b[0;34m(self)\u001b[0m\n\u001b[1;32m    739\u001b[0m                     \u001b[0mself\u001b[0m\u001b[0;34m.\u001b[0m\u001b[0m_setup_engine\u001b[0m\u001b[0;34m(\u001b[0m\u001b[0;34m)\u001b[0m\u001b[0;34m\u001b[0m\u001b[0;34m\u001b[0m\u001b[0m\n\u001b[1;32m    740\u001b[0m \u001b[0;34m\u001b[0m\u001b[0m\n\u001b[0;32m--> 741\u001b[0;31m                 \u001b[0mtime_taken\u001b[0m \u001b[0;34m=\u001b[0m \u001b[0mself\u001b[0m\u001b[0;34m.\u001b[0m\u001b[0m_run_once_on_dataset\u001b[0m\u001b[0;34m(\u001b[0m\u001b[0;34m)\u001b[0m\u001b[0;34m\u001b[0m\u001b[0;34m\u001b[0m\u001b[0m\n\u001b[0m\u001b[1;32m    742\u001b[0m                 \u001b[0;31m# time is available for handlers but must be update after fire\u001b[0m\u001b[0;34m\u001b[0m\u001b[0;34m\u001b[0m\u001b[0;34m\u001b[0m\u001b[0m\n\u001b[1;32m    743\u001b[0m                 \u001b[0mself\u001b[0m\u001b[0;34m.\u001b[0m\u001b[0mstate\u001b[0m\u001b[0;34m.\u001b[0m\u001b[0mtimes\u001b[0m\u001b[0;34m[\u001b[0m\u001b[0mEvents\u001b[0m\u001b[0;34m.\u001b[0m\u001b[0mEPOCH_COMPLETED\u001b[0m\u001b[0;34m.\u001b[0m\u001b[0mname\u001b[0m\u001b[0;34m]\u001b[0m \u001b[0;34m=\u001b[0m \u001b[0mtime_taken\u001b[0m\u001b[0;34m\u001b[0m\u001b[0;34m\u001b[0m\u001b[0m\n",
            "\u001b[0;32m/usr/local/lib/python3.7/dist-packages/ignite/engine/engine.py\u001b[0m in \u001b[0;36m_run_once_on_dataset\u001b[0;34m(self)\u001b[0m\n\u001b[1;32m    796\u001b[0m                     \u001b[0;32mif\u001b[0m \u001b[0mself\u001b[0m\u001b[0;34m.\u001b[0m\u001b[0mlast_event_name\u001b[0m \u001b[0;34m!=\u001b[0m \u001b[0mEvents\u001b[0m\u001b[0;34m.\u001b[0m\u001b[0mDATALOADER_STOP_ITERATION\u001b[0m\u001b[0;34m:\u001b[0m\u001b[0;34m\u001b[0m\u001b[0;34m\u001b[0m\u001b[0m\n\u001b[1;32m    797\u001b[0m                         \u001b[0mself\u001b[0m\u001b[0;34m.\u001b[0m\u001b[0m_fire_event\u001b[0m\u001b[0;34m(\u001b[0m\u001b[0mEvents\u001b[0m\u001b[0;34m.\u001b[0m\u001b[0mGET_BATCH_STARTED\u001b[0m\u001b[0;34m)\u001b[0m\u001b[0;34m\u001b[0m\u001b[0;34m\u001b[0m\u001b[0m\n\u001b[0;32m--> 798\u001b[0;31m                     \u001b[0mself\u001b[0m\u001b[0;34m.\u001b[0m\u001b[0mstate\u001b[0m\u001b[0;34m.\u001b[0m\u001b[0mbatch\u001b[0m \u001b[0;34m=\u001b[0m \u001b[0mnext\u001b[0m\u001b[0;34m(\u001b[0m\u001b[0mself\u001b[0m\u001b[0;34m.\u001b[0m\u001b[0m_dataloader_iter\u001b[0m\u001b[0;34m)\u001b[0m\u001b[0;34m\u001b[0m\u001b[0;34m\u001b[0m\u001b[0m\n\u001b[0m\u001b[1;32m    799\u001b[0m                     \u001b[0mself\u001b[0m\u001b[0;34m.\u001b[0m\u001b[0m_fire_event\u001b[0m\u001b[0;34m(\u001b[0m\u001b[0mEvents\u001b[0m\u001b[0;34m.\u001b[0m\u001b[0mGET_BATCH_COMPLETED\u001b[0m\u001b[0;34m)\u001b[0m\u001b[0;34m\u001b[0m\u001b[0;34m\u001b[0m\u001b[0m\n\u001b[1;32m    800\u001b[0m                     \u001b[0miter_counter\u001b[0m \u001b[0;34m+=\u001b[0m \u001b[0;36m1\u001b[0m\u001b[0;34m\u001b[0m\u001b[0;34m\u001b[0m\u001b[0m\n",
            "\u001b[0;32m/content/cupy_dataset.py\u001b[0m in \u001b[0;36m__next__\u001b[0;34m(self)\u001b[0m\n\u001b[1;32m     66\u001b[0m           \u001b[0;31m################################################################################################### generate random input numbers\u001b[0m\u001b[0;34m\u001b[0m\u001b[0;34m\u001b[0m\u001b[0;34m\u001b[0m\u001b[0m\n\u001b[1;32m     67\u001b[0m \u001b[0;34m\u001b[0m\u001b[0m\n\u001b[0;32m---> 68\u001b[0;31m           \u001b[0minitial_stocks\u001b[0m \u001b[0;34m=\u001b[0m \u001b[0mjnp\u001b[0m\u001b[0;34m.\u001b[0m\u001b[0marray\u001b[0m\u001b[0;34m(\u001b[0m\u001b[0mnp\u001b[0m\u001b[0;34m.\u001b[0m\u001b[0mrandom\u001b[0m\u001b[0;34m.\u001b[0m\u001b[0mrandom\u001b[0m\u001b[0;34m(\u001b[0m\u001b[0mself\u001b[0m\u001b[0;34m.\u001b[0m\u001b[0mN_STOCKS\u001b[0m\u001b[0;34m)\u001b[0m \u001b[0;34m*\u001b[0m \u001b[0;36m200.0\u001b[0m\u001b[0;34m)\u001b[0m\u001b[0;34m\u001b[0m\u001b[0;34m\u001b[0m\u001b[0m\n\u001b[0m\u001b[1;32m     69\u001b[0m \u001b[0;34m\u001b[0m\u001b[0m\n\u001b[1;32m     70\u001b[0m           \u001b[0mcorr\u001b[0m \u001b[0;34m=\u001b[0m \u001b[0mjnp\u001b[0m\u001b[0;34m.\u001b[0m\u001b[0mdiag\u001b[0m\u001b[0;34m(\u001b[0m\u001b[0mjnp\u001b[0m\u001b[0;34m.\u001b[0m\u001b[0marray\u001b[0m\u001b[0;34m(\u001b[0m\u001b[0;34m[\u001b[0m\u001b[0;36m1\u001b[0m\u001b[0;34m]\u001b[0m\u001b[0;34m*\u001b[0m\u001b[0mself\u001b[0m\u001b[0;34m.\u001b[0m\u001b[0mN_STOCKS\u001b[0m\u001b[0;34m)\u001b[0m\u001b[0;34m)\u001b[0m \u001b[0;31m# assume no correlation between stocks here\u001b[0m\u001b[0;34m\u001b[0m\u001b[0;34m\u001b[0m\u001b[0m\n",
            "\u001b[0;32m/usr/local/lib/python3.7/dist-packages/jax/_src/numpy/lax_numpy.py\u001b[0m in \u001b[0;36marray\u001b[0;34m(object, dtype, copy, order, ndmin)\u001b[0m\n\u001b[1;32m   3567\u001b[0m     \u001b[0;32mraise\u001b[0m \u001b[0mTypeError\u001b[0m\u001b[0;34m(\u001b[0m\u001b[0;34m\"Unexpected input type for array: {}\"\u001b[0m\u001b[0;34m.\u001b[0m\u001b[0mformat\u001b[0m\u001b[0;34m(\u001b[0m\u001b[0mtype\u001b[0m\u001b[0;34m(\u001b[0m\u001b[0mobject\u001b[0m\u001b[0;34m)\u001b[0m\u001b[0;34m)\u001b[0m\u001b[0;34m)\u001b[0m\u001b[0;34m\u001b[0m\u001b[0;34m\u001b[0m\u001b[0m\n\u001b[1;32m   3568\u001b[0m \u001b[0;34m\u001b[0m\u001b[0m\n\u001b[0;32m-> 3569\u001b[0;31m   \u001b[0mout\u001b[0m \u001b[0;34m=\u001b[0m \u001b[0mlax\u001b[0m\u001b[0;34m.\u001b[0m\u001b[0m_convert_element_type\u001b[0m\u001b[0;34m(\u001b[0m\u001b[0mout\u001b[0m\u001b[0;34m,\u001b[0m \u001b[0mdtype\u001b[0m\u001b[0;34m,\u001b[0m \u001b[0mweak_type\u001b[0m\u001b[0;34m=\u001b[0m\u001b[0mweak_type\u001b[0m\u001b[0;34m)\u001b[0m\u001b[0;34m\u001b[0m\u001b[0;34m\u001b[0m\u001b[0m\n\u001b[0m\u001b[1;32m   3570\u001b[0m \u001b[0;34m\u001b[0m\u001b[0m\n\u001b[1;32m   3571\u001b[0m   \u001b[0;32mif\u001b[0m \u001b[0mndmin\u001b[0m \u001b[0;34m>\u001b[0m \u001b[0mndim\u001b[0m\u001b[0;34m(\u001b[0m\u001b[0mout\u001b[0m\u001b[0;34m)\u001b[0m\u001b[0;34m:\u001b[0m\u001b[0;34m\u001b[0m\u001b[0;34m\u001b[0m\u001b[0m\n",
            "\u001b[0;32m/usr/local/lib/python3.7/dist-packages/jax/_src/lax/lax.py\u001b[0m in \u001b[0;36m_convert_element_type\u001b[0;34m(operand, new_dtype, weak_type)\u001b[0m\n\u001b[1;32m    459\u001b[0m   \u001b[0;32melse\u001b[0m\u001b[0;34m:\u001b[0m\u001b[0;34m\u001b[0m\u001b[0;34m\u001b[0m\u001b[0m\n\u001b[1;32m    460\u001b[0m     return convert_element_type_p.bind(operand, new_dtype=new_dtype,\n\u001b[0;32m--> 461\u001b[0;31m                                        weak_type=new_weak_type)\n\u001b[0m\u001b[1;32m    462\u001b[0m \u001b[0;34m\u001b[0m\u001b[0m\n\u001b[1;32m    463\u001b[0m \u001b[0;32mdef\u001b[0m \u001b[0mbitcast_convert_type\u001b[0m\u001b[0;34m(\u001b[0m\u001b[0moperand\u001b[0m\u001b[0;34m:\u001b[0m \u001b[0mArray\u001b[0m\u001b[0;34m,\u001b[0m \u001b[0mnew_dtype\u001b[0m\u001b[0;34m:\u001b[0m \u001b[0mDType\u001b[0m\u001b[0;34m)\u001b[0m \u001b[0;34m->\u001b[0m \u001b[0mArray\u001b[0m\u001b[0;34m:\u001b[0m\u001b[0;34m\u001b[0m\u001b[0;34m\u001b[0m\u001b[0m\n",
            "\u001b[0;32m/usr/local/lib/python3.7/dist-packages/jax/core.py\u001b[0m in \u001b[0;36mbind\u001b[0;34m(self, *args, **params)\u001b[0m\n\u001b[1;32m    265\u001b[0m         args, used_axis_names(self, params) if self._dispatch_on_params else None)\n\u001b[1;32m    266\u001b[0m     \u001b[0mtracers\u001b[0m \u001b[0;34m=\u001b[0m \u001b[0mmap\u001b[0m\u001b[0;34m(\u001b[0m\u001b[0mtop_trace\u001b[0m\u001b[0;34m.\u001b[0m\u001b[0mfull_raise\u001b[0m\u001b[0;34m,\u001b[0m \u001b[0margs\u001b[0m\u001b[0;34m)\u001b[0m\u001b[0;34m\u001b[0m\u001b[0;34m\u001b[0m\u001b[0m\n\u001b[0;32m--> 267\u001b[0;31m     \u001b[0mout\u001b[0m \u001b[0;34m=\u001b[0m \u001b[0mtop_trace\u001b[0m\u001b[0;34m.\u001b[0m\u001b[0mprocess_primitive\u001b[0m\u001b[0;34m(\u001b[0m\u001b[0mself\u001b[0m\u001b[0;34m,\u001b[0m \u001b[0mtracers\u001b[0m\u001b[0;34m,\u001b[0m \u001b[0mparams\u001b[0m\u001b[0;34m)\u001b[0m\u001b[0;34m\u001b[0m\u001b[0;34m\u001b[0m\u001b[0m\n\u001b[0m\u001b[1;32m    268\u001b[0m     \u001b[0;32mreturn\u001b[0m \u001b[0mmap\u001b[0m\u001b[0;34m(\u001b[0m\u001b[0mfull_lower\u001b[0m\u001b[0;34m,\u001b[0m \u001b[0mout\u001b[0m\u001b[0;34m)\u001b[0m \u001b[0;32mif\u001b[0m \u001b[0mself\u001b[0m\u001b[0;34m.\u001b[0m\u001b[0mmultiple_results\u001b[0m \u001b[0;32melse\u001b[0m \u001b[0mfull_lower\u001b[0m\u001b[0;34m(\u001b[0m\u001b[0mout\u001b[0m\u001b[0;34m)\u001b[0m\u001b[0;34m\u001b[0m\u001b[0;34m\u001b[0m\u001b[0m\n\u001b[1;32m    269\u001b[0m \u001b[0;34m\u001b[0m\u001b[0m\n",
            "\u001b[0;32m/usr/local/lib/python3.7/dist-packages/jax/core.py\u001b[0m in \u001b[0;36mprocess_primitive\u001b[0;34m(self, primitive, tracers, params)\u001b[0m\n\u001b[1;32m    610\u001b[0m \u001b[0;34m\u001b[0m\u001b[0m\n\u001b[1;32m    611\u001b[0m   \u001b[0;32mdef\u001b[0m \u001b[0mprocess_primitive\u001b[0m\u001b[0;34m(\u001b[0m\u001b[0mself\u001b[0m\u001b[0;34m,\u001b[0m \u001b[0mprimitive\u001b[0m\u001b[0;34m,\u001b[0m \u001b[0mtracers\u001b[0m\u001b[0;34m,\u001b[0m \u001b[0mparams\u001b[0m\u001b[0;34m)\u001b[0m\u001b[0;34m:\u001b[0m\u001b[0;34m\u001b[0m\u001b[0;34m\u001b[0m\u001b[0m\n\u001b[0;32m--> 612\u001b[0;31m     \u001b[0;32mreturn\u001b[0m \u001b[0mprimitive\u001b[0m\u001b[0;34m.\u001b[0m\u001b[0mimpl\u001b[0m\u001b[0;34m(\u001b[0m\u001b[0;34m*\u001b[0m\u001b[0mtracers\u001b[0m\u001b[0;34m,\u001b[0m \u001b[0;34m**\u001b[0m\u001b[0mparams\u001b[0m\u001b[0;34m)\u001b[0m\u001b[0;34m\u001b[0m\u001b[0;34m\u001b[0m\u001b[0m\n\u001b[0m\u001b[1;32m    613\u001b[0m \u001b[0;34m\u001b[0m\u001b[0m\n\u001b[1;32m    614\u001b[0m   \u001b[0;32mdef\u001b[0m \u001b[0mprocess_call\u001b[0m\u001b[0;34m(\u001b[0m\u001b[0mself\u001b[0m\u001b[0;34m,\u001b[0m \u001b[0mprimitive\u001b[0m\u001b[0;34m,\u001b[0m \u001b[0mf\u001b[0m\u001b[0;34m,\u001b[0m \u001b[0mtracers\u001b[0m\u001b[0;34m,\u001b[0m \u001b[0mparams\u001b[0m\u001b[0;34m)\u001b[0m\u001b[0;34m:\u001b[0m\u001b[0;34m\u001b[0m\u001b[0;34m\u001b[0m\u001b[0m\n",
            "\u001b[0;32m/usr/local/lib/python3.7/dist-packages/jax/interpreters/xla.py\u001b[0m in \u001b[0;36mapply_primitive\u001b[0;34m(prim, *args, **params)\u001b[0m\n\u001b[1;32m    274\u001b[0m   \u001b[0;34m\"\"\"Impl rule that compiles and runs a single primitive 'prim' using XLA.\"\"\"\u001b[0m\u001b[0;34m\u001b[0m\u001b[0;34m\u001b[0m\u001b[0m\n\u001b[1;32m    275\u001b[0m   \u001b[0mcompiled_fun\u001b[0m \u001b[0;34m=\u001b[0m \u001b[0mxla_primitive_callable\u001b[0m\u001b[0;34m(\u001b[0m\u001b[0mprim\u001b[0m\u001b[0;34m,\u001b[0m \u001b[0;34m*\u001b[0m\u001b[0munsafe_map\u001b[0m\u001b[0;34m(\u001b[0m\u001b[0marg_spec\u001b[0m\u001b[0;34m,\u001b[0m \u001b[0margs\u001b[0m\u001b[0;34m)\u001b[0m\u001b[0;34m,\u001b[0m \u001b[0;34m**\u001b[0m\u001b[0mparams\u001b[0m\u001b[0;34m)\u001b[0m\u001b[0;34m\u001b[0m\u001b[0;34m\u001b[0m\u001b[0m\n\u001b[0;32m--> 276\u001b[0;31m   \u001b[0;32mreturn\u001b[0m \u001b[0mcompiled_fun\u001b[0m\u001b[0;34m(\u001b[0m\u001b[0;34m*\u001b[0m\u001b[0margs\u001b[0m\u001b[0;34m)\u001b[0m\u001b[0;34m\u001b[0m\u001b[0;34m\u001b[0m\u001b[0m\n\u001b[0m\u001b[1;32m    277\u001b[0m \u001b[0;34m\u001b[0m\u001b[0m\n\u001b[1;32m    278\u001b[0m \u001b[0;34m\u001b[0m\u001b[0m\n",
            "\u001b[0;32m/usr/local/lib/python3.7/dist-packages/jax/interpreters/xla.py\u001b[0m in \u001b[0;36m_execute_compiled_primitive\u001b[0;34m(prim, compiled, result_handler, *args)\u001b[0m\n\u001b[1;32m    390\u001b[0m   \u001b[0mdevice\u001b[0m\u001b[0;34m,\u001b[0m \u001b[0;34m=\u001b[0m \u001b[0mcompiled\u001b[0m\u001b[0;34m.\u001b[0m\u001b[0mlocal_devices\u001b[0m\u001b[0;34m(\u001b[0m\u001b[0;34m)\u001b[0m\u001b[0;34m\u001b[0m\u001b[0;34m\u001b[0m\u001b[0m\n\u001b[1;32m    391\u001b[0m   \u001b[0minput_bufs\u001b[0m \u001b[0;34m=\u001b[0m \u001b[0mlist\u001b[0m\u001b[0;34m(\u001b[0m\u001b[0mit\u001b[0m\u001b[0;34m.\u001b[0m\u001b[0mchain\u001b[0m\u001b[0;34m.\u001b[0m\u001b[0mfrom_iterable\u001b[0m\u001b[0;34m(\u001b[0m\u001b[0mdevice_put\u001b[0m\u001b[0;34m(\u001b[0m\u001b[0mx\u001b[0m\u001b[0;34m,\u001b[0m \u001b[0mdevice\u001b[0m\u001b[0;34m)\u001b[0m \u001b[0;32mfor\u001b[0m \u001b[0mx\u001b[0m \u001b[0;32min\u001b[0m \u001b[0margs\u001b[0m \u001b[0;32mif\u001b[0m \u001b[0mx\u001b[0m \u001b[0;32mis\u001b[0m \u001b[0;32mnot\u001b[0m \u001b[0mtoken\u001b[0m\u001b[0;34m)\u001b[0m\u001b[0;34m)\u001b[0m\u001b[0;34m\u001b[0m\u001b[0;34m\u001b[0m\u001b[0m\n\u001b[0;32m--> 392\u001b[0;31m   \u001b[0mout_bufs\u001b[0m \u001b[0;34m=\u001b[0m \u001b[0mcompiled\u001b[0m\u001b[0;34m.\u001b[0m\u001b[0mexecute\u001b[0m\u001b[0;34m(\u001b[0m\u001b[0minput_bufs\u001b[0m\u001b[0;34m)\u001b[0m\u001b[0;34m\u001b[0m\u001b[0;34m\u001b[0m\u001b[0m\n\u001b[0m\u001b[1;32m    393\u001b[0m   \u001b[0mcheck_special\u001b[0m\u001b[0;34m(\u001b[0m\u001b[0mprim\u001b[0m\u001b[0;34m.\u001b[0m\u001b[0mname\u001b[0m\u001b[0;34m,\u001b[0m \u001b[0mout_bufs\u001b[0m\u001b[0;34m)\u001b[0m\u001b[0;34m\u001b[0m\u001b[0;34m\u001b[0m\u001b[0m\n\u001b[1;32m    394\u001b[0m   \u001b[0;32mreturn\u001b[0m \u001b[0mresult_handler\u001b[0m\u001b[0;34m(\u001b[0m\u001b[0;34m*\u001b[0m\u001b[0mout_bufs\u001b[0m\u001b[0;34m)\u001b[0m\u001b[0;34m\u001b[0m\u001b[0;34m\u001b[0m\u001b[0m\n",
            "\u001b[0;31mKeyboardInterrupt\u001b[0m: "
          ]
        }
      ]
    },
    {
      "cell_type": "markdown",
      "metadata": {
        "id": "ONLZ1zpgV2Zv"
      },
      "source": [
        "#Results"
      ]
    },
    {
      "cell_type": "code",
      "metadata": {
        "id": "b3hhVHEVV06R",
        "colab": {
          "base_uri": "https://localhost:8080/"
        },
        "outputId": "d47bdb02-468d-4e7f-c2e9-9b06dc55bacb"
      },
      "source": [
        "import torch\n",
        "inputs = torch.tensor([[1, 110.0, 100.0, 0.25, 0., 0.]*3]).cuda()\n",
        "model(inputs.float())\n",
        "\n",
        "# price, delta1, delta2, delta3\n",
        "# should be around (2.3654, 0.0937, 0.0937, 0.0937)"
      ],
      "execution_count": null,
      "outputs": [
        {
          "output_type": "execute_result",
          "data": {
            "text/plain": [
              "tensor([[3.4093, 0.0905, 0.0895, 0.0923]], device='cuda:0',\n",
              "       grad_fn=<AddmmBackward>)"
            ]
          },
          "metadata": {},
          "execution_count": 9
        }
      ]
    },
    {
      "cell_type": "code",
      "metadata": {
        "id": "YJgMDQ3yUPWG",
        "colab": {
          "base_uri": "https://localhost:8080/"
        },
        "outputId": "bbcb3413-b3fa-4167-aef0-1fba574ad604"
      },
      "source": [
        "model(inputs.float())"
      ],
      "execution_count": null,
      "outputs": [
        {
          "output_type": "execute_result",
          "data": {
            "text/plain": [
              "tensor([[3.4093, 0.0905, 0.0895, 0.0923]], device='cuda:0',\n",
              "       grad_fn=<AddmmBackward>)"
            ]
          },
          "metadata": {},
          "execution_count": 10
        }
      ]
    },
    {
      "cell_type": "markdown",
      "metadata": {
        "id": "9fVR9u56Uu3X"
      },
      "source": [
        "# Delta"
      ]
    },
    {
      "cell_type": "code",
      "metadata": {
        "id": "vusLScDmUvvz"
      },
      "source": [
        "import pylab\n",
        "prices = np.arange(0, 200, 0.1)\n",
        "deltas = []\n",
        "for p in prices:\n",
        "  inputs = torch.tensor([[1, 110.0, p, 0.25, 0., 0.]*3]).cuda()\n",
        "  res = model(inputs.float())\n",
        "  deltas.append(res[0][1]) # delta for S1"
      ],
      "execution_count": null,
      "outputs": []
    },
    {
      "cell_type": "code",
      "metadata": {
        "id": "mAb3DlWqtPga"
      },
      "source": [
        ""
      ],
      "execution_count": null,
      "outputs": []
    },
    {
      "cell_type": "code",
      "metadata": {
        "id": "L6_Hcmn8nZZV",
        "colab": {
          "base_uri": "https://localhost:8080/"
        },
        "outputId": "544eb4b0-7aa6-47e5-8172-26023d98cdcd"
      },
      "source": [
        "res"
      ],
      "execution_count": null,
      "outputs": [
        {
          "output_type": "execute_result",
          "data": {
            "text/plain": [
              "tensor([[89.4700,  0.3305,  0.3187,  0.3186]], device='cuda:0',\n",
              "       grad_fn=<AddmmBackward>)"
            ]
          },
          "metadata": {},
          "execution_count": 26
        }
      ]
    },
    {
      "cell_type": "code",
      "metadata": {
        "id": "oYYoLU_Gek7I",
        "colab": {
          "base_uri": "https://localhost:8080/",
          "height": 297
        },
        "outputId": "70890dd6-ee14-4d51-db29-3040d19976c7"
      },
      "source": [
        "fig = pylab.plot(prices, deltas)\n",
        "pylab.xlabel('prices')\n",
        "pylab.ylabel('Delta')\n",
        "fig"
      ],
      "execution_count": null,
      "outputs": [
        {
          "output_type": "execute_result",
          "data": {
            "text/plain": [
              "[<matplotlib.lines.Line2D at 0x7fefcee58c90>]"
            ]
          },
          "metadata": {},
          "execution_count": 22
        },
        {
          "output_type": "display_data",
          "data": {
            "image/png": "[encoded data removed]",
            "text/plain": [
              "<Figure size 432x288 with 1 Axes>"
            ]
          },
          "metadata": {
            "needs_background": "light"
          }
        }
      ]
    },
    {
      "cell_type": "markdown",
      "metadata": {
        "id": "ZBuv8ElbRJOP"
      },
      "source": [
        "# Gamma"
      ]
    },
    {
      "cell_type": "code",
      "metadata": {
        "id": "DEf2H8AJQ07U",
        "colab": {
          "base_uri": "https://localhost:8080/",
          "height": 297
        },
        "outputId": "9a612fd4-fda1-4dca-c792-671c4d6be8bc"
      },
      "source": [
        "import torch\n",
        "from torch import Tensor\n",
        "from torch.autograd import Variable\n",
        "from torch.autograd import grad\n",
        "from torch import nn\n",
        "# inputs = torch.tensor([[1, 110.0, p, 0.25, 0., 0.]*3]).cuda()\n",
        "# inputs.requires_grad = True\n",
        "# x = model(inputs)[0][1]\n",
        "# loss_grads = grad(x, inputs, create_graph=True)\n",
        "# loss_grads[0][0][2]\n",
        "\n",
        "\n",
        "prices = np.arange(0, 200, 0.1)\n",
        "gamma = []\n",
        "for p in prices:\n",
        "  inputs = torch.tensor([[1, 110.0, p, 0.25, 0., 0.]*3]).cuda()\n",
        "  inputs.requires_grad = True\n",
        "  x = model(inputs.float())[0][1]\n",
        "  loss_grads = grad(x, inputs, create_graph=True)\n",
        "  gamma.append(loss_grads[0][0][2]) # delta for S1\n",
        "\n",
        "fig = pylab.plot(prices, gamma)\n",
        "pylab.xlabel('prices')\n",
        "pylab.ylabel('Gamma')\n",
        "fig"
      ],
      "execution_count": null,
      "outputs": [
        {
          "output_type": "execute_result",
          "data": {
            "text/plain": [
              "[<matplotlib.lines.Line2D at 0x7fefced48f90>]"
            ]
          },
          "metadata": {},
          "execution_count": 39
        },
        {
          "output_type": "display_data",
          "data": {
            "image/png": "[encoded data removed]",
            "text/plain": [
              "<Figure size 432x288 with 1 Axes>"
            ]
          },
          "metadata": {
            "needs_background": "light"
          }
        }
      ]
    }
  ]
}