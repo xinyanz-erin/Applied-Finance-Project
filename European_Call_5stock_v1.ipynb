{
  "nbformat": 4,
  "nbformat_minor": 0,
  "metadata": {
    "kernelspec": {
      "display_name": "Python 3",
      "language": "python",
      "name": "python3"
    },
    "language_info": {
      "codemirror_mode": {
        "name": "ipython",
        "version": 3
      },
      "file_extension": ".py",
      "mimetype": "text/x-python",
      "name": "python",
      "nbconvert_exporter": "python",
      "pygments_lexer": "ipython3",
      "version": "3.6.9"
    },
    "colab": {
      "name": "European_Call_nstock_auto.ipynb",
      "provenance": [],
      "collapsed_sections": [
        "NwN6aLFDnwiy",
        "JIa4c_aHz15a",
        "u2_89jOknwjH",
        "rXT4Bg0wdL7l"
      ],
      "include_colab_link": true
    },
    "accelerator": "GPU"
  },
  "cells": [
    {
      "cell_type": "markdown",
      "metadata": {
        "id": "view-in-github",
        "colab_type": "text"
      },
      "source": [
        "<a href=\"https://colab.research.google.com/github/xinyanz-erin/Applied-Finance-Project/blob/Erin/European_Call_5stock_v1.ipynb\" target=\"_parent\"><img src=\"https://colab.research.google.com/assets/colab-badge.svg\" alt=\"Open In Colab\"/></a>"
      ]
    },
    {
      "cell_type": "code",
      "metadata": {
        "id": "9Xk52L4czj5x"
      },
      "source": [
        "nstock = 5"
      ],
      "execution_count": 50,
      "outputs": []
    },
    {
      "cell_type": "code",
      "metadata": {
        "id": "gCR6hhw5Xq_R"
      },
      "source": [
        "import warnings\n",
        "warnings.filterwarnings('ignore')"
      ],
      "execution_count": 51,
      "outputs": []
    },
    {
      "cell_type": "code",
      "metadata": {
        "colab": {
          "base_uri": "https://localhost:8080/"
        },
        "id": "gSxOZk3ls2XQ",
        "outputId": "9f7c968d-a765-43a7-d73b-eaa0e66a8c67"
      },
      "source": [
        "!curl https://colab.chainer.org/install |sh -\n",
        "import cupy"
      ],
      "execution_count": 52,
      "outputs": [
        {
          "output_type": "stream",
          "text": [
            "  % Total    % Received % Xferd  Average Speed   Time    Time     Time  Current\n",
            "                                 Dload  Upload   Total   Spent    Left  Speed\n",
            "100  1580  100  1580    0     0   5047      0 --:--:-- --:--:-- --:--:--  5047\n",
            "+ apt -y -q install cuda-libraries-dev-10-0\n",
            "Reading package lists...\n",
            "Building dependency tree...\n",
            "Reading state information...\n",
            "cuda-libraries-dev-10-0 is already the newest version (10.0.130-1).\n",
            "0 upgraded, 0 newly installed, 0 to remove and 40 not upgraded.\n",
            "+ pip install -q cupy-cuda100  chainer \n",
            "+ set +ex\n",
            "Installation succeeded!\n"
          ],
          "name": "stdout"
        }
      ]
    },
    {
      "cell_type": "markdown",
      "metadata": {
        "id": "NwN6aLFDnwiy"
      },
      "source": [
        "### Deep Learning Barrier Option\n",
        "\n",
        "We used Numba and CuPy in the previous notebook to run Monte Carlo simulation to determine the price of the Asian Barrier option. A Monte Carlo simulation needs millions of paths to get an accurate answer which is computationally intensive. [Ryan et al (2018)](https://arxiv.org/abs/1809.02233) showed that a deep learning model can be trained to value derivatives. The deep learning model is accurate and very fast, capable of producing valuations a million times faster than traditional models. In the this notebook, we will use a fully connected network to learn the pricing mode of the Asian Barrier option. Monte Carlo simulation is used as pricing ground truth for the training. We use the same Asian Barrier Option model as last notebook with parameters listed as following:\n",
        "\n",
        "```\n",
        "T - Maturity (yrs.)\n",
        "S - Spot (usd)\n",
        "K - Strike (usd)\n",
        "sigma - Volatility (per.)\n",
        "r - Risk Free Rate (per.)\n",
        "mu - Stock Drift Rate (per.)\n",
        "B - Barrier (usd)\n",
        "```\n",
        "\n",
        "### Batched Data generation\n",
        "\n",
        "The dataset is an important part of the Deep learning training. We will modify the previous single Asian Barrier Option pricing code to handle a batch of Barrier Option pricing. "
      ]
    },
    {
      "cell_type": "code",
      "metadata": {
        "id": "cHYrh4iYfP-n",
        "cellView": "form"
      },
      "source": [
        "#@title\n",
        "###Test: Judy's new X code\n",
        "#N_STOCKS = 3"
      ],
      "execution_count": 53,
      "outputs": []
    },
    {
      "cell_type": "code",
      "metadata": {
        "id": "hy7qGwT0jv4A",
        "cellView": "form"
      },
      "source": [
        "#@title\n",
        "#X = cupy.array([])\n",
        "#for i in range(0,N_STOCKS):\n",
        "  #X =  cupy.concatenate((X,cupy.array([1,1]), cupy.random.rand(3),cupy.array([1])))\n",
        "#X = X.reshape(N_STOCKS,6)\n",
        "#X"
      ],
      "execution_count": 54,
      "outputs": []
    },
    {
      "cell_type": "code",
      "metadata": {
        "id": "9OHtAXC8hVae",
        "cellView": "form"
      },
      "source": [
        "#@title\n",
        "#X = X * ((cupy.array([200.0, 0, 200.0, 0.4, 0.2, 0.2] * N_STOCKS, dtype = cupy.float32)).reshape(N_STOCKS, 6))\n",
        "#X"
      ],
      "execution_count": 55,
      "outputs": []
    },
    {
      "cell_type": "markdown",
      "metadata": {
        "id": "TY_9g3tbdLiY"
      },
      "source": [
        "### Train(Erin Version)"
      ]
    },
    {
      "cell_type": "code",
      "metadata": {
        "id": "qBxT9Eida-c_"
      },
      "source": [
        "# ################################# TEST ########################################\n",
        "# %%writefile cupy_dataset.py\n",
        "\n",
        "# import numba\n",
        "# from numba import cuda\n",
        "# import random\n",
        "# import cupy\n",
        "# import numpy as np\n",
        "# import math\n",
        "# import time\n",
        "# import torch\n",
        "# cupy.cuda.set_allocator(None)\n",
        "# from torch.utils.dlpack import from_dlpack\n",
        "\n",
        "# @cuda.jit\n",
        "# def batch_barrier_option(d_s, T, K, B, S0, sigma, mu, r, d_normals, N_STEPS, N_PATHS, N_BATCH):\n",
        "#     # ii - overall thread index\n",
        "#     ii = cuda.threadIdx.x + cuda.blockIdx.x * cuda.blockDim.x\n",
        "#     stride = cuda.gridDim.x * cuda.blockDim.x\n",
        "#     tmp3 = math.sqrt(T/N_STEPS)\n",
        "#     for i in range(ii, N_PATHS * N_BATCH, stride):\n",
        "#         batch_id = i // N_PATHS\n",
        "#         path_id = i % N_PATHS\n",
        "#         tmp1 = mu[batch_id]*T/N_STEPS\n",
        "#         tmp2 = math.exp(-r[batch_id]*T)\n",
        "#         running_average = 0.0\n",
        "#         s_curr = S0[batch_id]\n",
        "#         for n in range(N_STEPS):\n",
        "#             s_curr += tmp1 * s_curr + sigma[batch_id]*s_curr*tmp3*d_normals[path_id + batch_id * N_PATHS + n * N_PATHS * N_BATCH] # stock price\n",
        "#             running_average = running_average + 1.0/(n + 1.0) * (s_curr - running_average) # average of the path\n",
        "#             if i==0 and batch_id == 2:\n",
        "#                 print(s_curr)\n",
        "#             if running_average <= B[batch_id]: # if reach barrier, drop out the path\n",
        "#                 break\n",
        "#         payoff = running_average - K[batch_id] if running_average > K[batch_id] else 0\n",
        "#         d_s[i] = tmp2 * payoff\n",
        "\n",
        "# class NumbaOptionDataSet(object):\n",
        "    \n",
        "#     def __init__(self, max_len=10, number_path = 1000, batch=2, threads=512, seed=15, stocks=3):  # 3 stocks\n",
        "#         self.num = 0\n",
        "#         self.max_length = max_len\n",
        "#         self.N_PATHS = number_path\n",
        "#         self.N_STEPS = 365\n",
        "#         self.N_BATCH = batch\n",
        "#         self.N_STOCKS = stocks\n",
        "#         self.T = np.float32(1.0)\n",
        "#         self.output = cupy.zeros(self.N_STOCKS*self.N_PATHS, dtype=cupy.float32) \n",
        "#         self.number_of_blocks = (self.N_PATHS * self.N_STOCKS - 1) // threads + 1\n",
        "#         self.number_of_threads = threads\n",
        "#         cupy.random.seed(seed)\n",
        "        \n",
        "#     def __len__(self):\n",
        "#         return self.max_length\n",
        "        \n",
        "#     def __iter__(self):\n",
        "#         self.num = 0\n",
        "#         return self\n",
        "    \n",
        "#     def __next__(self):\n",
        "#         if self.num > self.max_length:\n",
        "#             raise StopIteration\n",
        "        \n",
        "#         Y = cupy.zeros(self.N_BATCH, dtype=cupy.float32)\n",
        "#         paras = cupy.zeros((self.N_BATCH, self.N_STOCKS * 6), dtype = cupy.float32)\n",
        "#         for op in range(self.N_BATCH):\n",
        "          \n",
        "#           X = cupy.array([])\n",
        "#           K_rand = cupy.random.rand(1)[0]\n",
        "#           B_rand = cupy.random.rand(1)[0]\n",
        "#           r_rand = cupy.random.rand(1)[0]\n",
        "#           for i in range(0,self.N_STOCKS):\n",
        "#             X =  cupy.concatenate((X,cupy.array([K_rand,B_rand]), cupy.random.rand(3),cupy.array([r_rand]))) #[K,B,S0,sigma,mu,r], K B r are shared\n",
        "#           X = X.reshape(self.N_STOCKS,6)\n",
        "#           X = X * ((cupy.array([200.0, 0.1, 200.0, 0.4, 0.2, 0.2] * self.N_STOCKS, dtype = cupy.float32)).reshape(self.N_STOCKS, 6))\n",
        "#           #X = cupy.random.rand(6 * self.N_STOCKS, dtype=cupy.float32)\n",
        "#           #X = 0.9 + cupy.random.rand(6 * self.N_STOCKS, dtype=cupy.float32)*0.1\n",
        "#           # scale the [0, 1) random numbers to the correct range for each of the option parameters\n",
        "#           #X = (X * cupy.array([200.0, 0.99, 200.0, 0.4, 0.2, 0.2] * self.N_STOCKS, dtype = cupy.float32)).reshape(self.N_STOCKS, 6)\n",
        "\n",
        "#           # make sure the Barrier is smaller than the Strike price\n",
        "#           # X[:, 1] = X[:, 0] * X[:, 1]\n",
        "#           for i in range(self.N_STOCKS):\n",
        "#             paras[op,i*6:(i+1)*6] = X[i,:]\n",
        "\n",
        "#           stocks_randoms_mean = cupy.zeros(self.N_STOCKS, dtype = cupy.float32)\n",
        "#           rho = cupy.random.normal(0, 1, self.N_STOCKS, dtype = cupy.float32)\n",
        "\n",
        "#           #stocks_randoms_cov = cupy.ones((self.N_STOCKS, self.N_STOCKS), dtype = cupy.float32)\n",
        "#           #cupy.fill_diagonal(stocks_randoms_cov, rho)\n",
        "\n",
        "#           #stocks_randoms_cov = (-0.99 + cupy.random.rand(self.N_STOCKS*self.N_STOCKS, dtype=cupy.float32)*2*0.99).reshape(self.N_STOCKS,self.N_STOCKS)\n",
        "#           stocks_randoms_cov = cupy.array([1] * self.N_STOCKS*self.N_STOCKS, dtype = cupy.float32).reshape(self.N_STOCKS,self.N_STOCKS)  #Covariance\n",
        "#           cupy.fill_diagonal(stocks_randoms_cov, 1)\n",
        "\n",
        "#           num_of_randoms_each_stock = self.N_PATHS * self.N_STEPS\n",
        "#           randoms_gpu = cupy.random.multivariate_normal(stocks_randoms_mean, stocks_randoms_cov,\n",
        "#                                                         num_of_randoms_each_stock, dtype=cupy.float32)\n",
        "#           b1_r = randoms_gpu[:,0]\n",
        "#           b2_r = randoms_gpu[:,1]\n",
        "#           randoms = cupy.zeros(self.N_STOCKS * self.N_PATHS * self.N_STEPS, dtype=cupy.float32)\n",
        "#           interval = int((self.N_PATHS * self.N_STEPS * self.N_STOCKS) / self.N_PATHS)\n",
        "#           for i in range(interval):\n",
        "#             if i % 2 == 0:\n",
        "#                 ind = int(i/2)\n",
        "#                 randoms[i*self.N_PATHS:(i+1)*self.N_PATHS] = b1_r[ind:(ind+self.N_PATHS)]\n",
        "#             else:\n",
        "#                 ind = int(i//2)\n",
        "#                 randoms[i*self.N_PATHS:(i+1)*self.N_PATHS] = b2_r[ind:(ind+self.N_PATHS)]\n",
        "\n",
        "#           randoms = cupy.random.normal(0, 1, self.N_STOCKS * self.N_PATHS * self.N_STEPS, dtype=cupy.float32)\n",
        "#           batch_barrier_option[(self.number_of_blocks,), (self.number_of_threads,)](self.output, self.T, X[:, 0], \n",
        "#                                 X[:, 1], X[:, 2], X[:, 3], X[:, 4], X[:, 5], randoms, self.N_STEPS, self.N_PATHS, self.N_STOCKS)\n",
        "          \n",
        "#           o = self.output.reshape(self.N_STOCKS, self.N_PATHS)\n",
        "#           Y[op] = o.mean(axis = 0).mean()\n",
        "\n",
        "#         self.num += 1\n",
        "#         return (from_dlpack(paras.toDlpack()), from_dlpack(Y.toDlpack()))\n",
        "\n",
        "\n",
        "\n",
        "# # ds = NumbaOptionDataSet(10, number_path=100000, batch=3, seed=random.randint(0,100), stocks=5)\n",
        "# # for i in ds:\n",
        "# #     print(i[0])\n",
        "# ################################# TEST ########################################"
      ],
      "execution_count": 56,
      "outputs": []
    },
    {
      "cell_type": "markdown",
      "metadata": {
        "id": "s6dZnWTTfbf1"
      },
      "source": [
        "### Train (European Call option)"
      ]
    },
    {
      "cell_type": "code",
      "metadata": {
        "colab": {
          "base_uri": "https://localhost:8080/"
        },
        "id": "CeREuPw0fguQ",
        "outputId": "e9831e99-04ea-4872-b736-4aea4f2dbaae"
      },
      "source": [
        "################################# TEST ########################################\n",
        "%%writefile cupy_dataset.py\n",
        "\n",
        "import numba\n",
        "from numba import cuda\n",
        "import random\n",
        "import cupy\n",
        "import numpy as np\n",
        "import math\n",
        "import time\n",
        "import torch\n",
        "cupy.cuda.set_allocator(None)\n",
        "from torch.utils.dlpack import from_dlpack\n",
        "\n",
        "@cuda.jit\n",
        "def European_call_option(d_s, T, K, S0, sigma, mu, r, d_normals, N_STEPS, N_PATHS, N_BATCH):\n",
        "    # ii - overall thread index\n",
        "    ii = cuda.threadIdx.x + cuda.blockIdx.x * cuda.blockDim.x\n",
        "    stride = cuda.gridDim.x * cuda.blockDim.x\n",
        "    #tmp3 = math.sqrt(T/N_STEPS)\n",
        "    for i in range(ii, N_PATHS * N_BATCH, stride):\n",
        "        batch_id = i // N_PATHS\n",
        "        path_id = i % N_PATHS\n",
        "        h = T[batch_id] / N_STEPS\n",
        "        tmp1 = r[batch_id]*T[batch_id]/N_STEPS \n",
        "        tmp2 = math.exp(-r[batch_id]*T[batch_id]) # discount\n",
        "        tmp3 = math.sqrt(T[batch_id]/N_STEPS)\n",
        "        #running_average = 0.0\n",
        "        s_curr = S0[batch_id]\n",
        "        for n in range(N_STEPS):\n",
        "          s_curr += tmp1 * s_curr + sigma[batch_id]*s_curr*tmp3*d_normals[path_id + batch_id * N_PATHS + n * N_PATHS * N_BATCH] # stock price\n",
        "          #s_curr = s_curr * math.exp((r[batch_id] - (1/2)*sigma[batch_id]**2)*h + sigma[batch_id] * tmp3 * d_normals[path_id + batch_id * N_PATHS + n * N_PATHS * N_BATCH])\n",
        "          #running_average = running_average + 1.0/(n + 1.0) * (s_curr - running_average) # average of the path\n",
        "          #if i==0 and batch_id == 2:\n",
        "          #    print(s_curr)\n",
        "          #if running_average <= B[batch_id]: # if reach barrier, drop out the path\n",
        "          #    break\n",
        "        #payoff = running_average - K[batch_id] if running_average > K[batch_id] else 0\n",
        "        #payoff = s_curr - K[batch_id] if s_curr > K[batch_id] else 0\n",
        "        #d_s[i] = tmp2 * payoff\n",
        "        d_s[i] = s_curr\n",
        "\n",
        "class NumbaOptionDataSet(object):\n",
        "    \n",
        "    def __init__(self, max_len=10, number_path = 1000, batch=2, threads=512, seed=15, stocks=3):  # 3 stocks\n",
        "        self.num = 0\n",
        "        self.max_length = max_len\n",
        "        self.N_PATHS = number_path\n",
        "        #self.N_STEPS = 365\n",
        "        self.N_STEPS = 10000\n",
        "        self.N_BATCH = batch\n",
        "        self.N_STOCKS = stocks\n",
        "        #self.T = np.float32(1.0)\n",
        "        self.output = cupy.zeros(self.N_STOCKS*self.N_PATHS, dtype=cupy.float32)\n",
        "        self.number_of_blocks = (self.N_PATHS * self.N_STOCKS - 1) // threads + 1\n",
        "        self.number_of_threads = threads\n",
        "        cupy.random.seed(seed)\n",
        "        \n",
        "    def __len__(self):\n",
        "        return self.max_length\n",
        "        \n",
        "    def __iter__(self):\n",
        "        self.num = 0\n",
        "        return self\n",
        "    \n",
        "    def __next__(self):\n",
        "        if self.num > self.max_length:\n",
        "            raise StopIteration\n",
        "        \n",
        "        Y = cupy.zeros(self.N_BATCH, dtype=cupy.float32)\n",
        "        paras = cupy.zeros((self.N_BATCH, self.N_STOCKS * 6), dtype = cupy.float32)\n",
        "        #paras = cupy.zeros((self.N_BATCH, self.N_STOCKS * 5), dtype = cupy.float32)\n",
        "\n",
        "        for op in range(self.N_BATCH):\n",
        "          \n",
        "          X = cupy.array([])\n",
        "          #T_rand = cupy.random.rand(1)[0]\n",
        "          K_rand = cupy.random.rand(1)\n",
        "          #B_rand = cupy.random.rand(1)[0]\n",
        "          r_rand = cupy.random.rand(1)\n",
        "          for i in range(0, self.N_STOCKS):\n",
        "            #X =  cupy.concatenate((X, cupy.array([K_rand,B_rand]), cupy.random.rand(3), cupy.array([r_rand]))) #[K,B,S0,sigma,mu,r], K B r are shared\n",
        "            X = cupy.concatenate((X, cupy.array([1.0]), K_rand, cupy.random.rand(3), r_rand))\n",
        "          \n",
        "          X = X.reshape(self.N_STOCKS, 6)\n",
        "          #X = X * ((cupy.array([200.0, 0.1, 200.0, 0.4, 0.2, 0.2] * self.N_STOCKS, dtype = cupy.float32)).reshape(self.N_STOCKS, 6))\n",
        "          #[T, K, S0, sigma, mu, r]\n",
        "          X = X * ((cupy.array([1, 150.0, 150.0, 0.4, 0.2, 0.2] * self.N_STOCKS, dtype = cupy.float32)).reshape(self.N_STOCKS, 6))\n",
        "          #X = cupy.random.rand(6 * self.N_STOCKS, dtype=cupy.float32)\n",
        "          #X = 0.9 + cupy.random.rand(6 * self.N_STOCKS, dtype=cupy.float32)*0.1\n",
        "          # scale the [0, 1) random numbers to the correct range for each of the option parameters\n",
        "          #X = (X * cupy.array([200.0, 0.99, 200.0, 0.4, 0.2, 0.2] * self.N_STOCKS, dtype = cupy.float32)).reshape(self.N_STOCKS, 6)\n",
        "\n",
        "          # make sure the Barrier is smaller than the Strike price\n",
        "          # X[:, 1] = X[:, 0] * X[:, 1]\n",
        "          for i in range(self.N_STOCKS):\n",
        "            paras[op,i*6:(i+1)*6] = X[i,:]\n",
        "            #paras[op, i*5:(i+1)*5] = X[i,:]\n",
        "\n",
        "          stocks_randoms_mean = cupy.zeros(self.N_STOCKS, dtype = cupy.float32)\n",
        "          rho = cupy.random.normal(0, 1, self.N_STOCKS, dtype = cupy.float32)\n",
        "\n",
        "          #stocks_randoms_cov = cupy.ones((self.N_STOCKS, self.N_STOCKS), dtype = cupy.float32)\n",
        "          #cupy.fill_diagonal(stocks_randoms_cov, rho)\n",
        "\n",
        "          #stocks_randoms_cov = (-0.99 + cupy.random.rand(self.N_STOCKS*self.N_STOCKS, dtype=cupy.float32)*2*0.99).reshape(self.N_STOCKS,self.N_STOCKS)\n",
        "          if self.N_STOCKS != 1:\n",
        "            randoms = cupy.random.normal(0, 1, self.N_STOCKS * self.N_PATHS * self.N_STEPS, dtype=cupy.float32)\n",
        "            # stocks_randoms_cov = cupy.array([0] * self.N_STOCKS*self.N_STOCKS, dtype = cupy.float32).reshape(self.N_STOCKS,self.N_STOCKS)  #Covariance\n",
        "            # cupy.fill_diagonal(stocks_randoms_cov, 1)\n",
        "\n",
        "            # num_of_randoms_each_stock = self.N_PATHS * self.N_STEPS\n",
        "            # randoms_gpu = cupy.random.multivariate_normal(stocks_randoms_mean, stocks_randoms_cov,\n",
        "            #                                               num_of_randoms_each_stock, dtype=cupy.float32)\n",
        "            # b1_r = randoms_gpu[:,0]\n",
        "            # b2_r = randoms_gpu[:,1]\n",
        "            # randoms = cupy.zeros(self.N_STOCKS * self.N_PATHS * self.N_STEPS, dtype=cupy.float32)\n",
        "            # interval = int((self.N_PATHS * self.N_STEPS * self.N_STOCKS) / self.N_PATHS)\n",
        "            # for i in range(interval):\n",
        "            #   if i % 2 == 0:\n",
        "            #       ind = int(i/2)\n",
        "            #       randoms[i*self.N_PATHS:(i+1)*self.N_PATHS] = b1_r[ind:(ind+self.N_PATHS)]\n",
        "            #   else:\n",
        "            #       ind = int(i//2)\n",
        "            #       randoms[i*self.N_PATHS:(i+1)*self.N_PATHS] = b2_r[ind:(ind+self.N_PATHS)]\n",
        "          if self.N_STOCKS == 1:\n",
        "            randoms = cupy.random.normal(0, 1, self.N_STOCKS * self.N_PATHS * self.N_STEPS, dtype=cupy.float32)\n",
        "          \n",
        "          European_call_option[(self.number_of_blocks,), (self.number_of_threads,)](self.output, X[:, 0], \n",
        "                                X[:, 1], X[:, 2], X[:, 3], X[:, 4], X[:, 5], randoms, self.N_STEPS, self.N_PATHS, self.N_STOCKS)\n",
        "          \n",
        "          o = self.output.reshape(self.N_STOCKS, self.N_PATHS) # this contains prices for each stock for each path at time T\n",
        "          K = K_rand * 150\n",
        "          r = r_rand * 0.2\n",
        "          o = o.mean(axis = 0) # average across stocks end prices\n",
        "          payoff = np.maximum(o - K, 0) # compute payoff\n",
        "          payoff = payoff * np.exp(-r*1) # T=1, discount\n",
        "          Y[op] = payoff.mean()\n",
        "\n",
        "        self.num += 1\n",
        "        return (from_dlpack(paras.toDlpack()), from_dlpack(Y.toDlpack()))\n",
        "\n",
        "\n",
        "# ds = NumbaOptionDataSet(1, number_path = 10000, batch = 3, seed = random.randint(0,100), stocks=nstock)\n",
        "# for i in ds:\n",
        "#     print(i)\n",
        "################################# TEST ########################################"
      ],
      "execution_count": 57,
      "outputs": [
        {
          "output_type": "stream",
          "text": [
            "Overwriting cupy_dataset.py\n"
          ],
          "name": "stdout"
        }
      ]
    },
    {
      "cell_type": "markdown",
      "metadata": {
        "id": "JIa4c_aHz15a"
      },
      "source": [
        "### For verification (Monte Carlo for n-stocks basket)"
      ]
    },
    {
      "cell_type": "code",
      "metadata": {
        "id": "4DTuXR1ANZPC"
      },
      "source": [
        "# def test(array):\n",
        "#   S1 = array[2]\n",
        "#   S2 = array[8]\n",
        "#   S3 = array[14]\n",
        "#   sigma1 = array[3]\n",
        "#   sigma2 = array[9]\n",
        "#   sigma3 = array[15]\n",
        "#   T = 1  \n",
        "#   K = array[1]\n",
        "#   r = array[5]\n",
        "\n",
        "#   dt = 1/1000\n",
        "#   N = round(T/dt)\n",
        "#   t = np.linspace(0, T, N)\n",
        "\n",
        "#   out = []\n",
        "\n",
        "#   for i in range(10000):\n",
        "#     W1 = np.random.standard_normal(size = N)\n",
        "#     W1 = np.cumsum(W1) * np.sqrt(dt)\n",
        "#     W2 = np.random.standard_normal(size = N)\n",
        "#     W2 = np.cumsum(W2) * np.sqrt(dt)\n",
        "#     W3 = np.random.standard_normal(size = N)\n",
        "#     W3 = np.cumsum(W3) * np.sqrt(dt)\n",
        "\n",
        "#     # W = np.random.standard_normal(size = N)\n",
        "#     # W = np.cumsum(W) * np.sqrt(dt)\n",
        "    \n",
        "#     P1_T = (S1 * np.exp((r - 0.5*sigma1**2) *t + sigma1 * W1))[-1]\n",
        "#     P2_T = (S2 * np.exp((r - 0.5*sigma2**2) *t + sigma2 * W2))[-1]\n",
        "#     P3_T = (S3 * np.exp((r - 0.5*sigma3**2) *t + sigma3 * W3))[-1]\n",
        "#     payoff = (P1_T+P2_T+P3_T)/3 - K if (P1_T+P2_T+P3_T)/3 > K else 0\n",
        "#     out.append(payoff * np.exp(-r*T))\n",
        "  \n",
        "#   return(np.array(out).mean())\n",
        "\n",
        "# print(test(np.array([1.0000e+00, 5.8549e+00, 3.6871e+01, 2.6866e-01, 1.9026e-01, 1.8305e-01,\n",
        "#          1.0000e+00, 5.8549e+00, 4.1110e+00, 2.3714e-01, 5.9547e-02, 1.8305e-01,\n",
        "#          1.0000e+00, 5.8549e+00, 1.6189e+01, 7.3936e-02, 1.1713e-01, 1.8305e-01])))\n",
        "# print(test(np.array([1.0000e+00, 1.1296e+02, 7.4318e+01, 2.0409e-01, 1.9133e-01, 5.3904e-02,\n",
        "#          1.0000e+00, 1.1296e+02, 5.3453e+01, 4.8439e-02, 5.8557e-02, 5.3904e-02,\n",
        "#          1.0000e+00, 1.1296e+02, 3.8721e+01, 2.0259e-01, 6.0423e-02, 5.3904e-02])))\n",
        "# print(test(np.array([1.0000e+00, 3.2307e+01, 3.8874e+01, 2.5820e-01, 1.9522e-01, 8.6353e-02,\n",
        "#          1.0000e+00, 3.2307e+01, 3.6077e+01, 3.7123e-01, 1.8810e-01, 8.6353e-02,\n",
        "#          1.0000e+00, 3.2307e+01, 6.9274e+01, 2.4100e-01, 1.9839e-01, 8.6353e-02])))\n",
        "# print(test(np.array([1.0000e+00, 2.4764e+01, 6.6956e+01, 2.0769e-01, 9.8127e-02, 1.7302e-01,\n",
        "#          1.0000e+00, 2.4764e+01, 3.6483e+01, 8.9075e-02, 1.9375e-01, 1.7302e-01,\n",
        "#          1.0000e+00, 2.4764e+01, 9.4748e+01, 2.6420e-01, 1.2015e-01, 1.7302e-01])))\n",
        "# print(test(np.array([1.0000e+00, 8.4591e+01, 1.2730e+02, 2.8949e-02, 1.0954e-01, 1.3706e-01,\n",
        "#          1.0000e+00, 8.4591e+01, 1.2859e+02, 1.5262e-01, 1.4064e-03, 1.3706e-01,\n",
        "#          1.0000e+00, 8.4591e+01, 4.6679e+01, 2.6688e-01, 1.5895e-01, 1.3706e-01])))\n",
        "# print(test(np.array([1.0000e+00, 6.8433e+01, 3.5593e+01, 6.5870e-02, 6.8068e-02, 1.3578e-02,\n",
        "#          1.0000e+00, 6.8433e+01, 2.3864e+01, 9.5815e-02, 1.6075e-01, 1.3578e-02,\n",
        "#          1.0000e+00, 6.8433e+01, 1.1863e+02, 3.0400e-01, 5.6958e-02, 1.3578e-02])))"
      ],
      "execution_count": 58,
      "outputs": []
    },
    {
      "cell_type": "code",
      "metadata": {
        "id": "Bqx6hNuucM5U"
      },
      "source": [
        "# array = np.array([1.0000e+00, 8.3754e+01, 1.2787e+02, 2.7420e-01, 1.2507e-01, 1.7700e-01,\n",
        "#          1.0000e+00, 8.3754e+01, 4.0869e+01, 3.3302e-01, 1.7439e-01, 1.7700e-01,\n",
        "#          1.0000e+00, 8.3754e+01, 1.1031e+02, 3.5945e-01, 1.5382e-01, 1.7700e-01])\n",
        "\n",
        "# S1 = array[2]\n",
        "# S2 = array[8]\n",
        "# S3 = array[14]\n",
        "# sigma1 = array[3]\n",
        "# sigma2 = array[9]\n",
        "# sigma3 = array[15]\n",
        "# T = 1  \n",
        "# K = array[1]\n",
        "# r = array[5]\n",
        "\n",
        "# dt = 1/100\n",
        "# N = round(T/dt)\n",
        "# t = np.linspace(0, T, N)\n",
        "\n",
        "# out = []\n",
        "\n",
        "# #for i in range(1000):\n",
        "# W = np.random.standard_normal(size = N)\n",
        "# W = np.cumsum(W) * np.sqrt(dt)\n",
        "# P1_T = (S1 * np.exp((r - 0.5*sigma1**2) *t + sigma1 * W))\n",
        "# P2_T = (S2 * np.exp((r - 0.5*sigma2**2) *t + sigma2 * W))[-1]\n",
        "# P3_T = (S3 * np.exp((r - 0.5*sigma3**2) *t + sigma3 * W))[-1]\n",
        "# #ayoff = (P1_T+P2_T+P3_T)/3 - K if (P1_T+P2_T+P3_T)/3 > K else 0\n",
        "# #out.append(payoff * np.exp(-r*T))\n",
        "\n",
        "# #return(np.array(out).mean())\n",
        "# #P1_T\n",
        "# import matplotlib.pyplot as plt\n",
        "# plt.plot(t, P1_T)\n",
        "# plt.show()"
      ],
      "execution_count": 59,
      "outputs": []
    },
    {
      "cell_type": "code",
      "metadata": {
        "id": "8tpLw9WDhx8b"
      },
      "source": [
        "# stocks_randoms_cov = cupy.array([0.99999] * 3 * 3, dtype = cupy.float32).reshape(3,3)  #Covariance\n",
        "# cupy.fill_diagonal(stocks_randoms_cov, 1)\n",
        "\n",
        "# stocks_randoms_mean = cupy.zeros(3, dtype = cupy.float32)\n",
        "\n",
        "# num_of_randoms_each_stock = 2 * 3\n",
        "# randoms_gpu = cupy.random.multivariate_normal(stocks_randoms_mean, stocks_randoms_cov,\n",
        "#                                               num_of_randoms_each_stock, dtype=cupy.float32)\n",
        "# randoms_gpu"
      ],
      "execution_count": 60,
      "outputs": []
    },
    {
      "cell_type": "markdown",
      "metadata": {
        "id": "u2_89jOknwjH"
      },
      "source": [
        "### Model\n",
        "To map the option parameters to price, we use 6 layers of fully connected neural network with hidden dimension 512 as inspired by [this paper](https://arxiv.org/abs/1809.02233). Writing this DL price model into a file `model.py`:-"
      ]
    },
    {
      "cell_type": "markdown",
      "metadata": {
        "id": "NMHqzJycx8XH"
      },
      "source": [
        "### Modified Model"
      ]
    },
    {
      "cell_type": "code",
      "metadata": {
        "id": "ZTn7iJQryAIH",
        "colab": {
          "base_uri": "https://localhost:8080/"
        },
        "outputId": "02ae868b-e417-4111-c11a-d346ede67044"
      },
      "source": [
        "%%writefile model.py\n",
        "import torch.nn as nn\n",
        "import torch.nn.functional as F\n",
        "import torch\n",
        "import numpy as np\n",
        "\n",
        "\n",
        "class Net(nn.Module):\n",
        "\n",
        "    def __init__(self, hidden=1024, nstock=3):\n",
        "        super(Net, self).__init__()\n",
        "        self.nstock = nstock\n",
        "        self.fc1 = nn.Linear(6 * self.nstock, hidden)\n",
        "        self.fc2 = nn.Linear(hidden, hidden)\n",
        "        self.fc3 = nn.Linear(hidden, hidden)\n",
        "        self.fc4 = nn.Linear(hidden, hidden)\n",
        "        self.fc5 = nn.Linear(hidden, hidden)\n",
        "        self.fc6 = nn.Linear(hidden, 1)\n",
        "        self.register_buffer('norm',\n",
        "                             torch.tensor([1, 150.0, 150.0, 0.4, 0.2, 0.2] * self.nstock)) # don't use numpy here - will give error later\n",
        "\n",
        "    def forward(self, x):\n",
        "        # normalize the parameter to range [0-1] \n",
        "        x = x / self.norm\n",
        "        x = F.elu(self.fc1(x))\n",
        "        x = F.elu(self.fc2(x))\n",
        "        x = F.elu(self.fc3(x))\n",
        "        x = F.elu(self.fc4(x))\n",
        "        x = F.elu(self.fc5(x))\n",
        "        return self.fc6(x)"
      ],
      "execution_count": 61,
      "outputs": [
        {
          "output_type": "stream",
          "text": [
            "Overwriting model.py\n"
          ],
          "name": "stdout"
        }
      ]
    },
    {
      "cell_type": "markdown",
      "metadata": {
        "id": "hSPRFqyznwjI"
      },
      "source": [
        "As we know the random parameters' scaling factors, the input parameters are first scaled back to a range of (0-1) by dividing them by (200.0, 198.0, 200.0, 0.4, 0.2, 0.2). Then they are projected 5 times to the hidden dimension of 512 after the `ELu` activation function. `ELu` is chosen because we need to compute the second order differentiation of the parameters. If use ReLu, the second order differentiation will always be zero. The last layer is a linear layer that maps the hidden dimension to the predicted option price. "
      ]
    },
    {
      "cell_type": "markdown",
      "metadata": {
        "id": "AM8J2liPnwjJ"
      },
      "source": [
        "For training, we use [Ignite](https://github.com/pytorch/ignite) which is a high-level library to train neural networks in PyTorch. We use `MSELoss` as the loss function, `Adam` as the optimizer and `CosineAnnealingScheduler` as the learning rate scheduler. The following code is feeding the random option data to the pricing model to train it."
      ]
    },
    {
      "cell_type": "markdown",
      "metadata": {
        "id": "yACi4ge13_rd"
      },
      "source": [
        "### Train"
      ]
    },
    {
      "cell_type": "code",
      "metadata": {
        "id": "1TyZT8_AH35M",
        "colab": {
          "base_uri": "https://localhost:8080/"
        },
        "outputId": "d2a04b87-1c63-4ffd-babc-20a73d3cce9e"
      },
      "source": [
        "!pip install pytorch-ignite"
      ],
      "execution_count": 62,
      "outputs": [
        {
          "output_type": "stream",
          "text": [
            "Requirement already satisfied: pytorch-ignite in /usr/local/lib/python3.7/dist-packages (0.4.6)\n",
            "Requirement already satisfied: torch<2,>=1.3 in /usr/local/lib/python3.7/dist-packages (from pytorch-ignite) (1.9.0+cu102)\n",
            "Requirement already satisfied: typing-extensions in /usr/local/lib/python3.7/dist-packages (from torch<2,>=1.3->pytorch-ignite) (3.7.4.3)\n"
          ],
          "name": "stdout"
        }
      ]
    },
    {
      "cell_type": "code",
      "metadata": {
        "id": "G4Ej82G8nwjJ",
        "colab": {
          "base_uri": "https://localhost:8080/",
          "height": 1000
        },
        "outputId": "3d8104f1-2c1f-4750-c180-a35e5522a55d"
      },
      "source": [
        "from ignite.engine import Engine, Events\n",
        "from ignite.handlers import Timer\n",
        "from torch.nn import MSELoss\n",
        "from torch.optim import Adam\n",
        "from ignite.contrib.handlers.param_scheduler import CosineAnnealingScheduler\n",
        "from ignite.handlers import ModelCheckpoint\n",
        "from model import Net\n",
        "from cupy_dataset import NumbaOptionDataSet\n",
        "timer = Timer(average=True)\n",
        "model = Net(nstock = nstock).cuda()\n",
        "loss_fn = MSELoss()\n",
        "optimizer = Adam(model.parameters(), lr=1e-3)\n",
        "# dataset = NumbaOptionDataSet(max_len = 10000, number_path = 1024, batch = 4800)\n",
        "# dataset = NumbaOptionDataSet(max_len = 100, number_path = 1024, batch = 32, stocks = 3)\n",
        "dataset = NumbaOptionDataSet(max_len = 100, number_path = 1024, batch = 32, stocks = nstock)\n",
        "\n",
        "\n",
        "def train_update(engine, batch):\n",
        "    model.train()\n",
        "    optimizer.zero_grad()\n",
        "    x = batch[0]\n",
        "    y = batch[1]\n",
        "    y_pred = model(x)\n",
        "    loss = loss_fn(y_pred[:,0], y)\n",
        "    loss.backward()\n",
        "    optimizer.step()\n",
        "    return loss.item()\n",
        "\n",
        "trainer = Engine(train_update)\n",
        "log_interval = 20\n",
        "\n",
        "scheduler = CosineAnnealingScheduler(optimizer, 'lr', 1e-4, 1e-6, len(dataset))\n",
        "trainer.add_event_handler(Events.ITERATION_STARTED, scheduler)\n",
        "timer.attach(trainer,\n",
        "             start=Events.EPOCH_STARTED,\n",
        "             resume=Events.ITERATION_STARTED,\n",
        "             pause=Events.ITERATION_COMPLETED,\n",
        "             step=Events.ITERATION_COMPLETED)    \n",
        "@trainer.on(Events.ITERATION_COMPLETED)\n",
        "def log_training_loss(engine):\n",
        "    iter = (engine.state.iteration - 1) % len(dataset) + 1\n",
        "    if iter % log_interval == 0:\n",
        "        print('loss', engine.state.output, 'average time', timer.value(), 'iter num', iter)\n",
        "        \n",
        "trainer.run(dataset, max_epochs = 300)"
      ],
      "execution_count": 63,
      "outputs": [
        {
          "output_type": "stream",
          "text": [
            "loss 767.3921508789062 average time 0.020254712200062384 iter num 20\n",
            "loss 501.255859375 average time 0.011638081725050143 iter num 40\n",
            "loss 407.8023376464844 average time 0.008764737550018253 iter num 60\n",
            "loss 180.77902221679688 average time 0.007326706050019993 iter num 80\n",
            "loss 238.9241485595703 average time 0.006455887400006759 iter num 100\n",
            "loss 66.05178833007812 average time 0.01850736465000864 iter num 20\n",
            "loss 19.824615478515625 average time 0.010722289025000008 iter num 40\n",
            "loss 11.012025833129883 average time 0.008155768950018683 iter num 60\n",
            "loss 14.209266662597656 average time 0.006861649925014035 iter num 80\n",
            "loss 7.949565887451172 average time 0.0060888778900243775 iter num 100\n",
            "loss 3.7159180641174316 average time 0.01898156259992447 iter num 20\n",
            "loss 2.830885410308838 average time 0.011025770299977467 iter num 40\n",
            "loss 1.2337586879730225 average time 0.008326247983344122 iter num 60\n",
            "loss 0.6883777976036072 average time 0.006969790687509203 iter num 80\n",
            "loss 2.587554931640625 average time 0.00616532504001043 iter num 100\n",
            "loss 1.1136468648910522 average time 0.018564916449986413 iter num 20\n",
            "loss 1.3983354568481445 average time 0.010752253824989566 iter num 40\n",
            "loss 0.3824252486228943 average time 0.0081494756833384 iter num 60\n",
            "loss 0.7916019558906555 average time 0.006862945587482727 iter num 80\n",
            "loss 0.5774938464164734 average time 0.0060947043899795975 iter num 100\n",
            "loss 1.1728310585021973 average time 0.018627829250090145 iter num 20\n",
            "loss 1.0983011722564697 average time 0.010886735175040485 iter num 40\n",
            "loss 2.071223258972168 average time 0.008251774333363453 iter num 60\n",
            "loss 0.36239102482795715 average time 0.006941571575026728 iter num 80\n",
            "loss 1.5235309600830078 average time 0.006143265560021973 iter num 100\n",
            "loss 0.4293920695781708 average time 0.018449374700026056 iter num 20\n",
            "loss 1.9301875829696655 average time 0.01069700092500625 iter num 40\n",
            "loss 0.8971999287605286 average time 0.008179080016657281 iter num 60\n",
            "loss 0.48677030205726624 average time 0.006869389687483363 iter num 80\n",
            "loss 0.8642218112945557 average time 0.006114525449984285 iter num 100\n",
            "loss 1.2597700357437134 average time 0.018664632500008337 iter num 20\n",
            "loss 1.1685938835144043 average time 0.010826464575029605 iter num 40\n",
            "loss 0.8562054634094238 average time 0.008243058433375456 iter num 60\n",
            "loss 0.32478833198547363 average time 0.006944647600022336 iter num 80\n",
            "loss 1.39934241771698 average time 0.006149594650019026 iter num 100\n",
            "loss 1.1388286352157593 average time 0.018906558650019178 iter num 20\n",
            "loss 1.0431573390960693 average time 0.010940007899966986 iter num 40\n",
            "loss 0.8630383014678955 average time 0.008287044399980913 iter num 60\n",
            "loss 0.7040755748748779 average time 0.006968340112484839 iter num 80\n",
            "loss 0.6712024211883545 average time 0.006164486879974902 iter num 100\n",
            "loss 0.9197859168052673 average time 0.018635104099985256 iter num 20\n",
            "loss 1.5107331275939941 average time 0.010842661024980771 iter num 40\n",
            "loss 1.871544361114502 average time 0.0082243546333378 iter num 60\n",
            "loss 0.6165897846221924 average time 0.006924048712500052 iter num 80\n",
            "loss 0.6855930685997009 average time 0.006127441170006023 iter num 100\n",
            "loss 0.7107996940612793 average time 0.018742798050016062 iter num 20\n",
            "loss 0.8459247946739197 average time 0.010822834149996652 iter num 40\n",
            "loss 0.5166109204292297 average time 0.008244933100005862 iter num 60\n",
            "loss 1.041925072669983 average time 0.006935703649998004 iter num 80\n",
            "loss 0.583733081817627 average time 0.006144970239993199 iter num 100\n",
            "loss 0.7074724435806274 average time 0.018637098449971745 iter num 20\n",
            "loss 0.7056374549865723 average time 0.010805190375003803 iter num 40\n",
            "loss 0.7285131812095642 average time 0.008195217783334858 iter num 60\n",
            "loss 0.6062126755714417 average time 0.006903920887515369 iter num 80\n",
            "loss 1.0968586206436157 average time 0.0061295795500109305 iter num 100\n",
            "loss 0.8376902341842651 average time 0.01870680799997899 iter num 20\n",
            "loss 1.556433081626892 average time 0.010857671374992606 iter num 40\n",
            "loss 0.6937803030014038 average time 0.008222075883327306 iter num 60\n",
            "loss 0.47547295689582825 average time 0.006907335299996475 iter num 80\n",
            "loss 0.9882822036743164 average time 0.006115767239998604 iter num 100\n",
            "loss 2.8864612579345703 average time 0.018534024950008644 iter num 20\n",
            "loss 0.5184471011161804 average time 0.01077072292499679 iter num 40\n",
            "loss 0.7397685050964355 average time 0.008214899116668069 iter num 60\n",
            "loss 0.31429070234298706 average time 0.007000563437503615 iter num 80\n",
            "loss 0.5178394913673401 average time 0.006191586320001079 iter num 100\n",
            "loss 0.6574851274490356 average time 0.01863955309997891 iter num 20\n",
            "loss 0.5601515769958496 average time 0.010786233224996522 iter num 40\n",
            "loss 0.38090479373931885 average time 0.008156590449993928 iter num 60\n",
            "loss 0.5226386785507202 average time 0.006860911999990549 iter num 80\n",
            "loss 0.3978932797908783 average time 0.0060831399199742005 iter num 100\n",
            "loss 1.5268040895462036 average time 0.018663145849996 iter num 20\n",
            "loss 1.0062180757522583 average time 0.010847285825013842 iter num 40\n",
            "loss 0.4911394417285919 average time 0.008261120583347293 iter num 60\n",
            "loss 0.47417300939559937 average time 0.00694078986251725 iter num 80\n",
            "loss 0.7843648791313171 average time 0.0061424418300339316 iter num 100\n",
            "loss 0.508435845375061 average time 0.018708239549960128 iter num 20\n",
            "loss 0.7402414679527283 average time 0.010853573400015647 iter num 40\n",
            "loss 0.6612250804901123 average time 0.008222007050024634 iter num 60\n",
            "loss 0.41904622316360474 average time 0.006915001700019729 iter num 80\n",
            "loss 0.3867191672325134 average time 0.006135047040020254 iter num 100\n",
            "loss 0.6556094884872437 average time 0.01866275429997586 iter num 20\n",
            "loss 0.7269251346588135 average time 0.010800456649974421 iter num 40\n",
            "loss 0.8856126666069031 average time 0.008224812833335211 iter num 60\n",
            "loss 0.6643763780593872 average time 0.00690712893749037 iter num 80\n",
            "loss 0.6167822480201721 average time 0.006124120239987861 iter num 100\n",
            "loss 0.8736578822135925 average time 0.018521756350014584 iter num 20\n",
            "loss 0.8885483145713806 average time 0.010721219574975294 iter num 40\n",
            "loss 0.658528208732605 average time 0.008169069433317114 iter num 60\n",
            "loss 0.34786999225616455 average time 0.0068576925499939986 iter num 80\n",
            "loss 0.24455775320529938 average time 0.006124833750000107 iter num 100\n",
            "loss 0.41344475746154785 average time 0.018787564199965346 iter num 20\n",
            "loss 0.7655448913574219 average time 0.010856037774965443 iter num 40\n",
            "loss 0.6495857238769531 average time 0.008222626783314506 iter num 60\n",
            "loss 0.43744373321533203 average time 0.006899674062475469 iter num 80\n",
            "loss 0.2515886127948761 average time 0.006117293390007035 iter num 100\n",
            "loss 0.4955641031265259 average time 0.0190767311499485 iter num 20\n",
            "loss 2.021240711212158 average time 0.011032854374991529 iter num 40\n",
            "loss 0.5754261016845703 average time 0.008374085899989343 iter num 60\n",
            "loss 0.42510104179382324 average time 0.007016336299966497 iter num 80\n",
            "loss 0.3552166819572449 average time 0.006199886769963996 iter num 100\n",
            "loss 0.32581478357315063 average time 0.01873265755000375 iter num 20\n",
            "loss 0.3647051751613617 average time 0.01084942795000643 iter num 40\n",
            "loss 0.9726904034614563 average time 0.00821057488334039 iter num 60\n",
            "loss 0.3330594301223755 average time 0.0068931791000181875 iter num 80\n",
            "loss 0.37578752636909485 average time 0.006107768680012668 iter num 100\n",
            "loss 0.19497767090797424 average time 0.018665350299988857 iter num 20\n",
            "loss 0.990379810333252 average time 0.010799783150025633 iter num 40\n",
            "loss 0.4909427762031555 average time 0.008177621366682312 iter num 60\n",
            "loss 0.311919242143631 average time 0.006876362850022133 iter num 80\n",
            "loss 0.25982365012168884 average time 0.006100688020019333 iter num 100\n",
            "loss 0.5457441210746765 average time 0.018537511000135964 iter num 20\n",
            "loss 0.46075546741485596 average time 0.01072460230004708 iter num 40\n",
            "loss 0.3727646768093109 average time 0.008157397950041438 iter num 60\n",
            "loss 0.16839367151260376 average time 0.006857237112546955 iter num 80\n",
            "loss 0.31487560272216797 average time 0.00608985882003708 iter num 100\n",
            "loss 0.8133562207221985 average time 0.01874600525000005 iter num 20\n",
            "loss 0.13846585154533386 average time 0.010844560425027794 iter num 40\n",
            "loss 0.27466413378715515 average time 0.008227994416696067 iter num 60\n",
            "loss 0.3474232256412506 average time 0.006911291512523121 iter num 80\n",
            "loss 0.199130117893219 average time 0.006138491930018972 iter num 100\n",
            "loss 0.9070162177085876 average time 0.01851953930004129 iter num 20\n",
            "loss 1.0353171825408936 average time 0.010722975725025207 iter num 40\n",
            "loss 0.2661999762058258 average time 0.008145070233346511 iter num 60\n",
            "loss 0.3588734567165375 average time 0.006845643650007105 iter num 80\n",
            "loss 0.5349993109703064 average time 0.006067017030004535 iter num 100\n",
            "loss 3.9043326377868652 average time 0.018659373050036267 iter num 20\n",
            "loss 0.39438191056251526 average time 0.010842914325030506 iter num 40\n",
            "loss 0.2896427810192108 average time 0.008197775650031266 iter num 60\n",
            "loss 0.33839520812034607 average time 0.006928891900020062 iter num 80\n",
            "loss 0.3293612599372864 average time 0.006143166480028412 iter num 100\n",
            "loss 0.2590912878513336 average time 0.018677551099972333 iter num 20\n",
            "loss 0.24317973852157593 average time 0.0108275486249795 iter num 40\n",
            "loss 0.28806376457214355 average time 0.008203888949992688 iter num 60\n",
            "loss 0.13865990936756134 average time 0.006886370087488558 iter num 80\n",
            "loss 0.18491458892822266 average time 0.006097911299989391 iter num 100\n",
            "loss 0.34070122241973877 average time 0.019104008099998283 iter num 20\n",
            "loss 0.711531400680542 average time 0.01107623152497581 iter num 40\n",
            "loss 0.24373702704906464 average time 0.008365373216649156 iter num 60\n",
            "loss 0.33917906880378723 average time 0.00701290281248248 iter num 80\n",
            "loss 0.23311369121074677 average time 0.006197967309981322 iter num 100\n",
            "loss 0.970564603805542 average time 0.01900502199996481 iter num 20\n",
            "loss 0.4182031750679016 average time 0.010976818574988556 iter num 40\n",
            "loss 0.6438229084014893 average time 0.00837204799997077 iter num 60\n",
            "loss 0.2342558056116104 average time 0.007011106099963626 iter num 80\n",
            "loss 0.18203572928905487 average time 0.006203515339961996 iter num 100\n",
            "loss 0.2931467294692993 average time 0.01858767285009435 iter num 20\n",
            "loss 0.18818064033985138 average time 0.010763760550014467 iter num 40\n",
            "loss 0.371141254901886 average time 0.008148197066664883 iter num 60\n",
            "loss 0.07636517286300659 average time 0.00685450963750327 iter num 80\n",
            "loss 0.3339519202709198 average time 0.006068486589997519 iter num 100\n",
            "loss 0.28358882665634155 average time 0.018831742049951573 iter num 20\n",
            "loss 0.3966110944747925 average time 0.010970431375005774 iter num 40\n",
            "loss 0.577013373374939 average time 0.008355697916651176 iter num 60\n",
            "loss 0.2665163278579712 average time 0.007000935562496124 iter num 80\n",
            "loss 0.14993350207805634 average time 0.006189794739998433 iter num 100\n",
            "loss 0.4612237811088562 average time 0.01865793555000437 iter num 20\n",
            "loss 0.13509851694107056 average time 0.010866955399990275 iter num 40\n",
            "loss 0.21903714537620544 average time 0.008261128616641144 iter num 60\n",
            "loss 0.14693516492843628 average time 0.006936968474974492 iter num 80\n",
            "loss 0.22197261452674866 average time 0.0061508809499764535 iter num 100\n",
            "loss 2.5181775093078613 average time 0.01884840405000432 iter num 20\n",
            "loss 0.32577401399612427 average time 0.010899763124996298 iter num 40\n",
            "loss 0.40124431252479553 average time 0.008262907499996194 iter num 60\n",
            "loss 0.2372772991657257 average time 0.007023622675006891 iter num 80\n",
            "loss 0.2271033525466919 average time 0.006213185079996037 iter num 100\n",
            "loss 0.3569921851158142 average time 0.018869379000011576 iter num 20\n",
            "loss 2.2288670539855957 average time 0.010912940975015318 iter num 40\n",
            "loss 0.6655112504959106 average time 0.008261848950011579 iter num 60\n",
            "loss 0.320223867893219 average time 0.00694692838748665 iter num 80\n",
            "loss 0.26184073090553284 average time 0.006185011010006747 iter num 100\n",
            "loss 1.5370068550109863 average time 0.018521666100014045 iter num 20\n",
            "loss 0.12354743480682373 average time 0.010739298875012081 iter num 40\n",
            "loss 0.2699460983276367 average time 0.008155899499994727 iter num 60\n",
            "loss 0.3773152232170105 average time 0.006859740874989484 iter num 80\n",
            "loss 0.1594070941209793 average time 0.006104283339991526 iter num 100\n",
            "loss 0.42955055832862854 average time 0.018603034249963457 iter num 20\n",
            "loss 0.3535497188568115 average time 0.010873079824989418 iter num 40\n",
            "loss 0.15441931784152985 average time 0.008232138483299423 iter num 60\n",
            "loss 0.38875991106033325 average time 0.006934247412493733 iter num 80\n",
            "loss 0.20787516236305237 average time 0.006132133230003092 iter num 100\n",
            "loss 0.2152097523212433 average time 0.018746881099991695 iter num 20\n",
            "loss 0.21078675985336304 average time 0.010849743525011491 iter num 40\n",
            "loss 0.4491036534309387 average time 0.00822130606668452 iter num 60\n",
            "loss 0.34294354915618896 average time 0.006911698137497524 iter num 80\n",
            "loss 0.17155328392982483 average time 0.006121649719998459 iter num 100\n",
            "loss 0.3830939531326294 average time 0.019057119849935588 iter num 20\n",
            "loss 0.5436571836471558 average time 0.010997526074970666 iter num 40\n",
            "loss 0.31125757098197937 average time 0.008309901899974648 iter num 60\n",
            "loss 0.17874783277511597 average time 0.006995555187472746 iter num 80\n",
            "loss 0.28253790736198425 average time 0.0061847771299835584 iter num 100\n",
            "loss 0.5678043365478516 average time 0.018650463200037846 iter num 20\n",
            "loss 0.2750069499015808 average time 0.01079856607501597 iter num 40\n",
            "loss 0.5615692138671875 average time 0.008203185283355197 iter num 60\n",
            "loss 0.19737748801708221 average time 0.0068838647250061055 iter num 80\n",
            "loss 0.17138506472110748 average time 0.006120299329991212 iter num 100\n",
            "loss 0.6374576687812805 average time 0.018500409399939598 iter num 20\n",
            "loss 1.2407581806182861 average time 0.010753313324994452 iter num 40\n",
            "loss 0.14552417397499084 average time 0.00815890980002223 iter num 60\n",
            "loss 0.21263709664344788 average time 0.006848879325008284 iter num 80\n",
            "loss 0.24638980627059937 average time 0.006073640210011035 iter num 100\n",
            "loss 0.46291545033454895 average time 0.019110005800075668 iter num 20\n",
            "loss 0.32632696628570557 average time 0.011081852450070073 iter num 40\n",
            "loss 0.39368847012519836 average time 0.008364069583391635 iter num 60\n",
            "loss 0.19210413098335266 average time 0.007009747662556265 iter num 80\n",
            "loss 0.08238407969474792 average time 0.006193960240052547 iter num 100\n",
            "loss 1.9360761642456055 average time 0.019329388449955333 iter num 20\n",
            "loss 1.522039532661438 average time 0.011169455975004895 iter num 40\n",
            "loss 0.23808389902114868 average time 0.008451823433324535 iter num 60\n",
            "loss 0.15672633051872253 average time 0.007074045137500207 iter num 80\n",
            "loss 0.09872114658355713 average time 0.0062538323999979184 iter num 100\n",
            "loss 0.2809979021549225 average time 0.018704954549889408 iter num 20\n",
            "loss 0.2961347699165344 average time 0.010883207199947264 iter num 40\n",
            "loss 0.1921907663345337 average time 0.008226297233287974 iter num 60\n",
            "loss 0.11868192255496979 average time 0.0069138478124727955 iter num 80\n",
            "loss 0.18024930357933044 average time 0.006142093329976887 iter num 100\n",
            "loss 0.24044401943683624 average time 0.018559177400061345 iter num 20\n",
            "loss 0.37173059582710266 average time 0.010784870075019626 iter num 40\n",
            "loss 0.17900262773036957 average time 0.008192921249997199 iter num 60\n",
            "loss 0.10076787322759628 average time 0.00691282710000678 iter num 80\n",
            "loss 0.3194546401500702 average time 0.006114672490007252 iter num 100\n",
            "loss 0.3918103277683258 average time 0.018716883399952165 iter num 20\n",
            "loss 0.972463846206665 average time 0.010840546124984484 iter num 40\n",
            "loss 0.22632011771202087 average time 0.008286469966666725 iter num 60\n",
            "loss 0.3290502429008484 average time 0.006948054250011637 iter num 80\n",
            "loss 0.22024935483932495 average time 0.006161720490017615 iter num 100\n",
            "loss 0.18729537725448608 average time 0.01851159115003611 iter num 20\n",
            "loss 0.2643994987010956 average time 0.010732050275009897 iter num 40\n",
            "loss 0.1409890055656433 average time 0.00813618158334369 iter num 60\n",
            "loss 0.16849872469902039 average time 0.006838180925024062 iter num 80\n",
            "loss 0.1753118932247162 average time 0.0060641553200093765 iter num 100\n",
            "loss 0.9138134121894836 average time 0.018550470049990508 iter num 20\n",
            "loss 0.34300053119659424 average time 0.010846570224987317 iter num 40\n",
            "loss 0.20387619733810425 average time 0.008212716400028816 iter num 60\n",
            "loss 0.1403377652168274 average time 0.0068988827250279884 iter num 80\n",
            "loss 0.1585046499967575 average time 0.006109919430018635 iter num 100\n",
            "loss 0.3154624104499817 average time 0.01857729670005028 iter num 20\n",
            "loss 0.3963920474052429 average time 0.010835911600031523 iter num 40\n",
            "loss 0.21301908791065216 average time 0.008214176683342582 iter num 60\n",
            "loss 0.11809782683849335 average time 0.006899504462512596 iter num 80\n",
            "loss 0.24763265252113342 average time 0.006104987740018259 iter num 100\n",
            "loss 0.17244648933410645 average time 0.018682584700036385 iter num 20\n",
            "loss 1.7504030466079712 average time 0.010839694400021926 iter num 40\n",
            "loss 0.19880662858486176 average time 0.008211868733337725 iter num 60\n",
            "loss 0.3167356550693512 average time 0.0069001107500128 iter num 80\n",
            "loss 0.16524706780910492 average time 0.006105973809994793 iter num 100\n",
            "loss 0.21179011464118958 average time 0.019045401450080136 iter num 20\n",
            "loss 0.7900508046150208 average time 0.011002799825052988 iter num 40\n",
            "loss 0.9092046618461609 average time 0.008334327900017039 iter num 60\n",
            "loss 0.39871567487716675 average time 0.007020339850009804 iter num 80\n",
            "loss 0.21433287858963013 average time 0.006214998120021846 iter num 100\n",
            "loss 1.5276472568511963 average time 0.018786476449918155 iter num 20\n",
            "loss 0.5502132773399353 average time 0.010930197899972427 iter num 40\n",
            "loss 0.4117571711540222 average time 0.00831170223330749 iter num 60\n",
            "loss 0.3001353144645691 average time 0.006967546212462139 iter num 80\n",
            "loss 0.17020395398139954 average time 0.006162890739960858 iter num 100\n",
            "loss 0.43686988949775696 average time 0.018741443750082 iter num 20\n",
            "loss 0.6532444953918457 average time 0.010911419075023332 iter num 40\n",
            "loss 0.8643534779548645 average time 0.00827281759999702 iter num 60\n",
            "loss 0.37900441884994507 average time 0.006945187024996358 iter num 80\n",
            "loss 0.20749469101428986 average time 0.006160208299993428 iter num 100\n",
            "loss 0.5577437281608582 average time 0.018646863850017327 iter num 20\n",
            "loss 0.21453222632408142 average time 0.01079836175000537 iter num 40\n",
            "loss 0.2101953625679016 average time 0.008180585300002955 iter num 60\n",
            "loss 0.2555471360683441 average time 0.006881940087498606 iter num 80\n",
            "loss 0.10882069170475006 average time 0.006112371010008246 iter num 100\n",
            "loss 0.29648739099502563 average time 0.018703200249956354 iter num 20\n",
            "loss 0.45169395208358765 average time 0.01081980147498598 iter num 40\n",
            "loss 0.28759264945983887 average time 0.008206494699993527 iter num 60\n",
            "loss 0.21638734638690948 average time 0.006971557975003861 iter num 80\n",
            "loss 0.07501955330371857 average time 0.006160779859997092 iter num 100\n",
            "loss 0.9378358125686646 average time 0.01863625685009538 iter num 20\n",
            "loss 0.28756797313690186 average time 0.010811926950032103 iter num 40\n",
            "loss 0.1685648262500763 average time 0.008187959983380703 iter num 60\n",
            "loss 0.15123803913593292 average time 0.006892060100039998 iter num 80\n",
            "loss 0.1056353896856308 average time 0.006091477840018342 iter num 100\n",
            "loss 0.37271255254745483 average time 0.01858321850002085 iter num 20\n",
            "loss 0.3567899465560913 average time 0.010765709250028977 iter num 40\n",
            "loss 0.09856599569320679 average time 0.008144949666681592 iter num 60\n",
            "loss 0.23338548839092255 average time 0.006854716937488093 iter num 80\n",
            "loss 0.16033966839313507 average time 0.0060697424999762006 iter num 100\n",
            "loss 1.2017468214035034 average time 0.01876105890000872 iter num 20\n",
            "loss 0.5151165723800659 average time 0.01095234512498564 iter num 40\n",
            "loss 0.24825870990753174 average time 0.008289785066654076 iter num 60\n",
            "loss 0.17961275577545166 average time 0.006966926312480836 iter num 80\n",
            "loss 0.1427941918373108 average time 0.0061809187699782345 iter num 100\n",
            "loss 0.8628348112106323 average time 0.018522164299974976 iter num 20\n",
            "loss 1.1310354471206665 average time 0.010712073850027082 iter num 40\n",
            "loss 0.2208600640296936 average time 0.008196740350012988 iter num 60\n",
            "loss 0.0998147577047348 average time 0.00690671196251742 iter num 80\n",
            "loss 0.2463834285736084 average time 0.00611294651001117 iter num 100\n",
            "loss 0.6713575124740601 average time 0.018505557449952904 iter num 20\n",
            "loss 0.35500621795654297 average time 0.010763643699954173 iter num 40\n",
            "loss 0.7015079259872437 average time 0.008147816833305418 iter num 60\n",
            "loss 0.1493130922317505 average time 0.006855806612475135 iter num 80\n",
            "loss 0.1430976688861847 average time 0.006079129139980068 iter num 100\n",
            "loss 0.34080207347869873 average time 0.01833674759996029 iter num 20\n",
            "loss 0.3143637180328369 average time 0.010618952274967342 iter num 40\n",
            "loss 0.5046037435531616 average time 0.008082730083303128 iter num 60\n",
            "loss 0.21669629216194153 average time 0.006800603487471335 iter num 80\n",
            "loss 0.17673395574092865 average time 0.0060370073199737815 iter num 100\n",
            "loss 0.11607234179973602 average time 0.018464918049926383 iter num 20\n",
            "loss 0.3488105535507202 average time 0.010742979224983174 iter num 40\n",
            "loss 0.15027303993701935 average time 0.008137399066678578 iter num 60\n",
            "loss 0.1037585660815239 average time 0.00684263125000939 iter num 80\n",
            "loss 0.1938651204109192 average time 0.006080078390014023 iter num 100\n",
            "loss 0.6055395603179932 average time 0.01900649140002315 iter num 20\n",
            "loss 0.2634950876235962 average time 0.010984008075035944 iter num 40\n",
            "loss 0.1434668004512787 average time 0.0083262675500085 iter num 60\n",
            "loss 0.13952292501926422 average time 0.00698182792501143 iter num 80\n",
            "loss 0.26424115896224976 average time 0.00619372752000345 iter num 100\n",
            "loss 0.43658819794654846 average time 0.018603700800008484 iter num 20\n",
            "loss 0.15922734141349792 average time 0.01077326917497885 iter num 40\n",
            "loss 0.11383450776338577 average time 0.008231118583353236 iter num 60\n",
            "loss 0.07132979482412338 average time 0.00690791850001915 iter num 80\n",
            "loss 0.08546632528305054 average time 0.006113960450002196 iter num 100\n",
            "loss 0.2517428398132324 average time 0.01871781104996444 iter num 20\n",
            "loss 1.2745834589004517 average time 0.010890970025036495 iter num 40\n",
            "loss 0.7800564169883728 average time 0.008227897483334346 iter num 60\n",
            "loss 0.1601606011390686 average time 0.00690946446247267 iter num 80\n",
            "loss 0.3857237994670868 average time 0.0061115144899713415 iter num 100\n",
            "loss 0.1609327793121338 average time 0.018963229349992616 iter num 20\n",
            "loss 0.13695286214351654 average time 0.010946070899990445 iter num 40\n",
            "loss 0.3106415271759033 average time 0.008276372700008021 iter num 60\n",
            "loss 0.07647044956684113 average time 0.006934222450024663 iter num 80\n",
            "loss 0.13938064873218536 average time 0.006135275229999024 iter num 100\n",
            "loss 0.7811311483383179 average time 0.018595022850104215 iter num 20\n",
            "loss 1.4318758249282837 average time 0.010811193575136713 iter num 40\n",
            "loss 0.21001364290714264 average time 0.008181017950088668 iter num 60\n",
            "loss 0.19750027358531952 average time 0.006914461537576244 iter num 80\n",
            "loss 0.13382168114185333 average time 0.006118025970063172 iter num 100\n",
            "loss 0.27946555614471436 average time 0.018460490799861874 iter num 20\n",
            "loss 0.1981162428855896 average time 0.010726395549909284 iter num 40\n",
            "loss 0.19934576749801636 average time 0.008162553199978599 iter num 60\n",
            "loss 0.15401500463485718 average time 0.00686279191252197 iter num 80\n",
            "loss 0.14683258533477783 average time 0.006087084920018242 iter num 100\n",
            "loss 0.6453405022621155 average time 0.01870341464991725 iter num 20\n",
            "loss 0.1710081696510315 average time 0.010858531550002225 iter num 40\n",
            "loss 0.21008281409740448 average time 0.008219519049998781 iter num 60\n",
            "loss 0.28161486983299255 average time 0.006895366037485928 iter num 80\n",
            "loss 0.1506551057100296 average time 0.006145872829974906 iter num 100\n",
            "loss 0.1242157369852066 average time 0.018679650549938743 iter num 20\n",
            "loss 0.17145685851573944 average time 0.010887390724951729 iter num 40\n",
            "loss 0.1484954059123993 average time 0.00822763918331475 iter num 60\n",
            "loss 0.2538738250732422 average time 0.006901739312479549 iter num 80\n",
            "loss 0.1498371958732605 average time 0.006156854039973041 iter num 100\n",
            "loss 0.23392465710639954 average time 0.018515314449950894 iter num 20\n",
            "loss 0.3409443795681 average time 0.010737193499903697 iter num 40\n",
            "loss 0.2090356945991516 average time 0.008143904916581353 iter num 60\n",
            "loss 0.16291990876197815 average time 0.00685085429990977 iter num 80\n",
            "loss 0.07336696982383728 average time 0.00607080965993191 iter num 100\n",
            "loss 4.759331226348877 average time 0.01854675444988061 iter num 20\n",
            "loss 11.625288963317871 average time 0.01087062199992488 iter num 40\n",
            "loss 3.0980348587036133 average time 0.008243054233313766 iter num 60\n",
            "loss 0.3064858317375183 average time 0.0069432207874797315 iter num 80\n",
            "loss 0.15766698122024536 average time 0.006146783129988762 iter num 100\n",
            "loss 0.3428894281387329 average time 0.019237870549886793 iter num 20\n",
            "loss 0.4059768319129944 average time 0.011120026425032847 iter num 40\n",
            "loss 0.26010066270828247 average time 0.008427743216695186 iter num 60\n",
            "loss 0.19701164960861206 average time 0.007055662799973561 iter num 80\n",
            "loss 0.20322735607624054 average time 0.006234307219992843 iter num 100\n",
            "loss 0.10949921607971191 average time 0.018565635050026685 iter num 20\n",
            "loss 0.17751817405223846 average time 0.010753343449982822 iter num 40\n",
            "loss 0.2209835797548294 average time 0.008174985800026964 iter num 60\n",
            "loss 0.1268482357263565 average time 0.006877985862490732 iter num 80\n",
            "loss 0.2783985733985901 average time 0.006100199429984059 iter num 100\n",
            "loss 0.18095022439956665 average time 0.01860002065000117 iter num 20\n",
            "loss 0.09352578967809677 average time 0.010757526774932557 iter num 40\n",
            "loss 0.08508826792240143 average time 0.008154890216655986 iter num 60\n",
            "loss 0.097349613904953 average time 0.006864264312491741 iter num 80\n",
            "loss 0.13519755005836487 average time 0.006084622070011392 iter num 100\n",
            "loss 0.958502471446991 average time 0.018617238200113205 iter num 20\n",
            "loss 0.4279811382293701 average time 0.010790060500039545 iter num 40\n",
            "loss 0.19875188171863556 average time 0.00820593758327656 iter num 60\n",
            "loss 0.0919039323925972 average time 0.006919861687435969 iter num 80\n",
            "loss 0.15676885843276978 average time 0.006124080849958773 iter num 100\n",
            "loss 0.498203307390213 average time 0.01855018190003648 iter num 20\n",
            "loss 0.22898653149604797 average time 0.010797530849981741 iter num 40\n",
            "loss 0.14108914136886597 average time 0.008179726866668109 iter num 60\n",
            "loss 0.08121795952320099 average time 0.006915096749980876 iter num 80\n",
            "loss 0.16114509105682373 average time 0.006125838370016936 iter num 100\n",
            "loss 1.5412659645080566 average time 0.018504798349886185 iter num 20\n",
            "loss 0.48633360862731934 average time 0.010784390874937344 iter num 40\n",
            "loss 0.8631991744041443 average time 0.00817238593329724 iter num 60\n",
            "loss 0.1816464364528656 average time 0.006861405987467606 iter num 80\n",
            "loss 0.22015170753002167 average time 0.0060838815699662515 iter num 100\n",
            "loss 0.7837553024291992 average time 0.018579765850063268 iter num 20\n",
            "loss 0.3341100811958313 average time 0.010786642525022216 iter num 40\n",
            "loss 0.061022162437438965 average time 0.008176445433355184 iter num 60\n",
            "loss 0.1998009979724884 average time 0.006913658925031996 iter num 80\n",
            "loss 0.060593754053115845 average time 0.006122882720028429 iter num 100\n",
            "loss 0.2618059515953064 average time 0.01852001814995674 iter num 20\n",
            "loss 0.19794711470603943 average time 0.010711714324952482 iter num 40\n",
            "loss 0.16229696571826935 average time 0.008117918999914764 iter num 60\n",
            "loss 0.12520021200180054 average time 0.006825330449953526 iter num 80\n",
            "loss 0.1404239386320114 average time 0.006098667689948343 iter num 100\n",
            "loss 0.14193809032440186 average time 0.018586460449978404 iter num 20\n",
            "loss 0.14031864702701569 average time 0.010751285699939217 iter num 40\n",
            "loss 0.23645730316638947 average time 0.00815205899995514 iter num 60\n",
            "loss 0.19825410842895508 average time 0.00684340591246837 iter num 80\n",
            "loss 0.12160684168338776 average time 0.006129874699945503 iter num 100\n",
            "loss 0.30074480175971985 average time 0.019062787999973806 iter num 20\n",
            "loss 0.3492908477783203 average time 0.01104549087497162 iter num 40\n",
            "loss 0.07182027399539948 average time 0.00834300001659661 iter num 60\n",
            "loss 0.27048230171203613 average time 0.006987337437453789 iter num 80\n",
            "loss 0.3314312696456909 average time 0.006184068379970995 iter num 100\n",
            "loss 0.1993507742881775 average time 0.019257442649904987 iter num 20\n",
            "loss 0.5384499430656433 average time 0.011155585774940847 iter num 40\n",
            "loss 0.20184485614299774 average time 0.008419222799921045 iter num 60\n",
            "loss 0.13636115193367004 average time 0.007048598212440993 iter num 80\n",
            "loss 0.13851483166217804 average time 0.006220866729927365 iter num 100\n",
            "loss 0.6830877065658569 average time 0.018654114250057318 iter num 20\n",
            "loss 0.19141964614391327 average time 0.010838902800060168 iter num 40\n",
            "loss 0.15193605422973633 average time 0.008221194850057146 iter num 60\n",
            "loss 0.182513028383255 average time 0.006952963750052277 iter num 80\n",
            "loss 0.08588791638612747 average time 0.006148674970045249 iter num 100\n",
            "loss 0.1343679130077362 average time 0.018659623800022018 iter num 20\n",
            "loss 0.26349323987960815 average time 0.010798427975009873 iter num 40\n",
            "loss 0.5963082313537598 average time 0.008180877050002285 iter num 60\n",
            "loss 0.13398462533950806 average time 0.006868119487478452 iter num 80\n",
            "loss 0.11209563910961151 average time 0.006079106959978162 iter num 100\n",
            "loss 1.8849269151687622 average time 0.018680963500082727 iter num 20\n",
            "loss 0.590476393699646 average time 0.010872428700076852 iter num 40\n",
            "loss 0.267133891582489 average time 0.008240644183388213 iter num 60\n",
            "loss 0.19156232476234436 average time 0.006947711437555881 iter num 80\n",
            "loss 0.14639189839363098 average time 0.006148961350072568 iter num 100\n",
            "loss 0.3476333022117615 average time 0.018588624349968087 iter num 20\n",
            "loss 0.4359257221221924 average time 0.010848142724989884 iter num 40\n",
            "loss 0.16165317595005035 average time 0.008206818266641373 iter num 60\n",
            "loss 0.172010600566864 average time 0.006877014774977397 iter num 80\n",
            "loss 0.2454322874546051 average time 0.006089990349928485 iter num 100\n",
            "loss 2.660060405731201 average time 0.01862815504991886 iter num 20\n",
            "loss 0.7504370212554932 average time 0.010829305024958557 iter num 40\n",
            "loss 0.12134051322937012 average time 0.008201849633299693 iter num 60\n",
            "loss 0.16808727383613586 average time 0.0068840403249851075 iter num 80\n",
            "loss 0.11213409900665283 average time 0.006092900389994611 iter num 100\n",
            "loss 0.4256385266780853 average time 0.018621240649827085 iter num 20\n",
            "loss 0.5791658163070679 average time 0.01080358397487089 iter num 40\n",
            "loss 0.20009411871433258 average time 0.008186464166586423 iter num 60\n",
            "loss 0.12279440462589264 average time 0.006870010912416546 iter num 80\n",
            "loss 0.17359742522239685 average time 0.006124937189924822 iter num 100\n",
            "loss 0.37818267941474915 average time 0.018459548250029913 iter num 20\n",
            "loss 0.396709144115448 average time 0.010734154825081532 iter num 40\n",
            "loss 0.3003045916557312 average time 0.008176421000052869 iter num 60\n",
            "loss 0.16451314091682434 average time 0.006856253787555033 iter num 80\n"
          ],
          "name": "stdout"
        },
        {
          "output_type": "stream",
          "text": [
            "Engine run is terminating due to exception: \n"
          ],
          "name": "stderr"
        },
        {
          "output_type": "error",
          "ename": "KeyboardInterrupt",
          "evalue": "ignored",
          "traceback": [
            "\u001b[0;31m---------------------------------------------------------------------------\u001b[0m",
            "\u001b[0;31mKeyboardInterrupt\u001b[0m                         Traceback (most recent call last)",
            "\u001b[0;32m<ipython-input-63-6f4d36ac1ec5>\u001b[0m in \u001b[0;36m<module>\u001b[0;34m()\u001b[0m\n\u001b[1;32m     43\u001b[0m         \u001b[0mprint\u001b[0m\u001b[0;34m(\u001b[0m\u001b[0;34m'loss'\u001b[0m\u001b[0;34m,\u001b[0m \u001b[0mengine\u001b[0m\u001b[0;34m.\u001b[0m\u001b[0mstate\u001b[0m\u001b[0;34m.\u001b[0m\u001b[0moutput\u001b[0m\u001b[0;34m,\u001b[0m \u001b[0;34m'average time'\u001b[0m\u001b[0;34m,\u001b[0m \u001b[0mtimer\u001b[0m\u001b[0;34m.\u001b[0m\u001b[0mvalue\u001b[0m\u001b[0;34m(\u001b[0m\u001b[0;34m)\u001b[0m\u001b[0;34m,\u001b[0m \u001b[0;34m'iter num'\u001b[0m\u001b[0;34m,\u001b[0m \u001b[0miter\u001b[0m\u001b[0;34m)\u001b[0m\u001b[0;34m\u001b[0m\u001b[0;34m\u001b[0m\u001b[0m\n\u001b[1;32m     44\u001b[0m \u001b[0;34m\u001b[0m\u001b[0m\n\u001b[0;32m---> 45\u001b[0;31m \u001b[0mtrainer\u001b[0m\u001b[0;34m.\u001b[0m\u001b[0mrun\u001b[0m\u001b[0;34m(\u001b[0m\u001b[0mdataset\u001b[0m\u001b[0;34m,\u001b[0m \u001b[0mmax_epochs\u001b[0m \u001b[0;34m=\u001b[0m \u001b[0;36m300\u001b[0m\u001b[0;34m)\u001b[0m\u001b[0;34m\u001b[0m\u001b[0;34m\u001b[0m\u001b[0m\n\u001b[0m",
            "\u001b[0;32m/usr/local/lib/python3.7/dist-packages/ignite/engine/engine.py\u001b[0m in \u001b[0;36mrun\u001b[0;34m(self, data, max_epochs, epoch_length, seed)\u001b[0m\n\u001b[1;32m    699\u001b[0m \u001b[0;34m\u001b[0m\u001b[0m\n\u001b[1;32m    700\u001b[0m         \u001b[0mself\u001b[0m\u001b[0;34m.\u001b[0m\u001b[0mstate\u001b[0m\u001b[0;34m.\u001b[0m\u001b[0mdataloader\u001b[0m \u001b[0;34m=\u001b[0m \u001b[0mdata\u001b[0m\u001b[0;34m\u001b[0m\u001b[0;34m\u001b[0m\u001b[0m\n\u001b[0;32m--> 701\u001b[0;31m         \u001b[0;32mreturn\u001b[0m \u001b[0mself\u001b[0m\u001b[0;34m.\u001b[0m\u001b[0m_internal_run\u001b[0m\u001b[0;34m(\u001b[0m\u001b[0;34m)\u001b[0m\u001b[0;34m\u001b[0m\u001b[0;34m\u001b[0m\u001b[0m\n\u001b[0m\u001b[1;32m    702\u001b[0m \u001b[0;34m\u001b[0m\u001b[0m\n\u001b[1;32m    703\u001b[0m     \u001b[0;34m@\u001b[0m\u001b[0mstaticmethod\u001b[0m\u001b[0;34m\u001b[0m\u001b[0;34m\u001b[0m\u001b[0m\n",
            "\u001b[0;32m/usr/local/lib/python3.7/dist-packages/ignite/engine/engine.py\u001b[0m in \u001b[0;36m_internal_run\u001b[0;34m(self)\u001b[0m\n\u001b[1;32m    772\u001b[0m             \u001b[0mself\u001b[0m\u001b[0;34m.\u001b[0m\u001b[0m_dataloader_iter\u001b[0m \u001b[0;34m=\u001b[0m \u001b[0;32mNone\u001b[0m\u001b[0;34m\u001b[0m\u001b[0;34m\u001b[0m\u001b[0m\n\u001b[1;32m    773\u001b[0m             \u001b[0mself\u001b[0m\u001b[0;34m.\u001b[0m\u001b[0mlogger\u001b[0m\u001b[0;34m.\u001b[0m\u001b[0merror\u001b[0m\u001b[0;34m(\u001b[0m\u001b[0;34mf\"Engine run is terminating due to exception: {e}\"\u001b[0m\u001b[0;34m)\u001b[0m\u001b[0;34m\u001b[0m\u001b[0;34m\u001b[0m\u001b[0m\n\u001b[0;32m--> 774\u001b[0;31m             \u001b[0mself\u001b[0m\u001b[0;34m.\u001b[0m\u001b[0m_handle_exception\u001b[0m\u001b[0;34m(\u001b[0m\u001b[0me\u001b[0m\u001b[0;34m)\u001b[0m\u001b[0;34m\u001b[0m\u001b[0;34m\u001b[0m\u001b[0m\n\u001b[0m\u001b[1;32m    775\u001b[0m \u001b[0;34m\u001b[0m\u001b[0m\n\u001b[1;32m    776\u001b[0m         \u001b[0mself\u001b[0m\u001b[0;34m.\u001b[0m\u001b[0m_dataloader_iter\u001b[0m \u001b[0;34m=\u001b[0m \u001b[0;32mNone\u001b[0m\u001b[0;34m\u001b[0m\u001b[0;34m\u001b[0m\u001b[0m\n",
            "\u001b[0;32m/usr/local/lib/python3.7/dist-packages/ignite/engine/engine.py\u001b[0m in \u001b[0;36m_handle_exception\u001b[0;34m(self, e)\u001b[0m\n\u001b[1;32m    467\u001b[0m             \u001b[0mself\u001b[0m\u001b[0;34m.\u001b[0m\u001b[0m_fire_event\u001b[0m\u001b[0;34m(\u001b[0m\u001b[0mEvents\u001b[0m\u001b[0;34m.\u001b[0m\u001b[0mEXCEPTION_RAISED\u001b[0m\u001b[0;34m,\u001b[0m \u001b[0me\u001b[0m\u001b[0;34m)\u001b[0m\u001b[0;34m\u001b[0m\u001b[0;34m\u001b[0m\u001b[0m\n\u001b[1;32m    468\u001b[0m         \u001b[0;32melse\u001b[0m\u001b[0;34m:\u001b[0m\u001b[0;34m\u001b[0m\u001b[0;34m\u001b[0m\u001b[0m\n\u001b[0;32m--> 469\u001b[0;31m             \u001b[0;32mraise\u001b[0m \u001b[0me\u001b[0m\u001b[0;34m\u001b[0m\u001b[0;34m\u001b[0m\u001b[0m\n\u001b[0m\u001b[1;32m    470\u001b[0m \u001b[0;34m\u001b[0m\u001b[0m\n\u001b[1;32m    471\u001b[0m     \u001b[0;34m@\u001b[0m\u001b[0mproperty\u001b[0m\u001b[0;34m\u001b[0m\u001b[0;34m\u001b[0m\u001b[0m\n",
            "\u001b[0;32m/usr/local/lib/python3.7/dist-packages/ignite/engine/engine.py\u001b[0m in \u001b[0;36m_internal_run\u001b[0;34m(self)\u001b[0m\n\u001b[1;32m    742\u001b[0m                     \u001b[0mself\u001b[0m\u001b[0;34m.\u001b[0m\u001b[0m_setup_engine\u001b[0m\u001b[0;34m(\u001b[0m\u001b[0;34m)\u001b[0m\u001b[0;34m\u001b[0m\u001b[0;34m\u001b[0m\u001b[0m\n\u001b[1;32m    743\u001b[0m \u001b[0;34m\u001b[0m\u001b[0m\n\u001b[0;32m--> 744\u001b[0;31m                 \u001b[0mtime_taken\u001b[0m \u001b[0;34m=\u001b[0m \u001b[0mself\u001b[0m\u001b[0;34m.\u001b[0m\u001b[0m_run_once_on_dataset\u001b[0m\u001b[0;34m(\u001b[0m\u001b[0;34m)\u001b[0m\u001b[0;34m\u001b[0m\u001b[0;34m\u001b[0m\u001b[0m\n\u001b[0m\u001b[1;32m    745\u001b[0m                 \u001b[0;31m# time is available for handlers but must be update after fire\u001b[0m\u001b[0;34m\u001b[0m\u001b[0;34m\u001b[0m\u001b[0;34m\u001b[0m\u001b[0m\n\u001b[1;32m    746\u001b[0m                 \u001b[0mself\u001b[0m\u001b[0;34m.\u001b[0m\u001b[0mstate\u001b[0m\u001b[0;34m.\u001b[0m\u001b[0mtimes\u001b[0m\u001b[0;34m[\u001b[0m\u001b[0mEvents\u001b[0m\u001b[0;34m.\u001b[0m\u001b[0mEPOCH_COMPLETED\u001b[0m\u001b[0;34m.\u001b[0m\u001b[0mname\u001b[0m\u001b[0;34m]\u001b[0m \u001b[0;34m=\u001b[0m \u001b[0mtime_taken\u001b[0m\u001b[0;34m\u001b[0m\u001b[0;34m\u001b[0m\u001b[0m\n",
            "\u001b[0;32m/usr/local/lib/python3.7/dist-packages/ignite/engine/engine.py\u001b[0m in \u001b[0;36m_run_once_on_dataset\u001b[0;34m(self)\u001b[0m\n\u001b[1;32m    799\u001b[0m                     \u001b[0;32mif\u001b[0m \u001b[0mself\u001b[0m\u001b[0;34m.\u001b[0m\u001b[0mlast_event_name\u001b[0m \u001b[0;34m!=\u001b[0m \u001b[0mEvents\u001b[0m\u001b[0;34m.\u001b[0m\u001b[0mDATALOADER_STOP_ITERATION\u001b[0m\u001b[0;34m:\u001b[0m\u001b[0;34m\u001b[0m\u001b[0;34m\u001b[0m\u001b[0m\n\u001b[1;32m    800\u001b[0m                         \u001b[0mself\u001b[0m\u001b[0;34m.\u001b[0m\u001b[0m_fire_event\u001b[0m\u001b[0;34m(\u001b[0m\u001b[0mEvents\u001b[0m\u001b[0;34m.\u001b[0m\u001b[0mGET_BATCH_STARTED\u001b[0m\u001b[0;34m)\u001b[0m\u001b[0;34m\u001b[0m\u001b[0;34m\u001b[0m\u001b[0m\n\u001b[0;32m--> 801\u001b[0;31m                     \u001b[0mself\u001b[0m\u001b[0;34m.\u001b[0m\u001b[0mstate\u001b[0m\u001b[0;34m.\u001b[0m\u001b[0mbatch\u001b[0m \u001b[0;34m=\u001b[0m \u001b[0mnext\u001b[0m\u001b[0;34m(\u001b[0m\u001b[0mself\u001b[0m\u001b[0;34m.\u001b[0m\u001b[0m_dataloader_iter\u001b[0m\u001b[0;34m)\u001b[0m\u001b[0;34m\u001b[0m\u001b[0;34m\u001b[0m\u001b[0m\n\u001b[0m\u001b[1;32m    802\u001b[0m                     \u001b[0mself\u001b[0m\u001b[0;34m.\u001b[0m\u001b[0m_fire_event\u001b[0m\u001b[0;34m(\u001b[0m\u001b[0mEvents\u001b[0m\u001b[0;34m.\u001b[0m\u001b[0mGET_BATCH_COMPLETED\u001b[0m\u001b[0;34m)\u001b[0m\u001b[0;34m\u001b[0m\u001b[0;34m\u001b[0m\u001b[0m\n\u001b[1;32m    803\u001b[0m                     \u001b[0miter_counter\u001b[0m \u001b[0;34m+=\u001b[0m \u001b[0;36m1\u001b[0m\u001b[0;34m\u001b[0m\u001b[0;34m\u001b[0m\u001b[0m\n",
            "\u001b[0;32m/content/cupy_dataset.py\u001b[0m in \u001b[0;36m__next__\u001b[0;34m(self)\u001b[0m\n\u001b[1;32m    129\u001b[0m \u001b[0;34m\u001b[0m\u001b[0m\n\u001b[1;32m    130\u001b[0m           \u001b[0mo\u001b[0m \u001b[0;34m=\u001b[0m \u001b[0mself\u001b[0m\u001b[0;34m.\u001b[0m\u001b[0moutput\u001b[0m\u001b[0;34m.\u001b[0m\u001b[0mreshape\u001b[0m\u001b[0;34m(\u001b[0m\u001b[0mself\u001b[0m\u001b[0;34m.\u001b[0m\u001b[0mN_STOCKS\u001b[0m\u001b[0;34m,\u001b[0m \u001b[0mself\u001b[0m\u001b[0;34m.\u001b[0m\u001b[0mN_PATHS\u001b[0m\u001b[0;34m)\u001b[0m \u001b[0;31m# this contains prices for each stock for each path at time T\u001b[0m\u001b[0;34m\u001b[0m\u001b[0;34m\u001b[0m\u001b[0m\n\u001b[0;32m--> 131\u001b[0;31m           \u001b[0mK\u001b[0m \u001b[0;34m=\u001b[0m \u001b[0mK_rand\u001b[0m \u001b[0;34m*\u001b[0m \u001b[0;36m150\u001b[0m\u001b[0;34m\u001b[0m\u001b[0;34m\u001b[0m\u001b[0m\n\u001b[0m\u001b[1;32m    132\u001b[0m           \u001b[0mr\u001b[0m \u001b[0;34m=\u001b[0m \u001b[0mr_rand\u001b[0m \u001b[0;34m*\u001b[0m \u001b[0;36m0.2\u001b[0m\u001b[0;34m\u001b[0m\u001b[0;34m\u001b[0m\u001b[0m\n\u001b[1;32m    133\u001b[0m           \u001b[0mo\u001b[0m \u001b[0;34m=\u001b[0m \u001b[0mo\u001b[0m\u001b[0;34m.\u001b[0m\u001b[0mmean\u001b[0m\u001b[0;34m(\u001b[0m\u001b[0maxis\u001b[0m \u001b[0;34m=\u001b[0m \u001b[0;36m0\u001b[0m\u001b[0;34m)\u001b[0m \u001b[0;31m# average across stocks end prices\u001b[0m\u001b[0;34m\u001b[0m\u001b[0;34m\u001b[0m\u001b[0m\n",
            "\u001b[0;32mcupy/_core/core.pyx\u001b[0m in \u001b[0;36mcupy._core.core.ndarray.__mul__\u001b[0;34m()\u001b[0m\n",
            "\u001b[0;32mcupy/_core/core.pyx\u001b[0m in \u001b[0;36mcupy._core.core.ndarray.__array_ufunc__\u001b[0;34m()\u001b[0m\n",
            "\u001b[0;32mcupy/_core/_kernel.pyx\u001b[0m in \u001b[0;36mcupy._core._kernel.ufunc.__call__\u001b[0;34m()\u001b[0m\n",
            "\u001b[0;32mcupy/_core/_kernel.pyx\u001b[0m in \u001b[0;36mcupy._core._kernel._Ops.guess_routine\u001b[0;34m()\u001b[0m\n",
            "\u001b[0;32mcupy/_core/_kernel.pyx\u001b[0m in \u001b[0;36mcupy._core._kernel._min_scalar_type\u001b[0;34m()\u001b[0m\n",
            "\u001b[0;32m<__array_function__ internals>\u001b[0m in \u001b[0;36mmin_scalar_type\u001b[0;34m(*args, **kwargs)\u001b[0m\n",
            "\u001b[0;31mKeyboardInterrupt\u001b[0m: "
          ]
        }
      ]
    },
    {
      "cell_type": "markdown",
      "metadata": {
        "id": "vU1EpGuInwjJ"
      },
      "source": [
        "$2365$ seconds The loss is keeping decreasing which means the pricing model can predict the option prices better. It takes about $12ms$ to compute one mini-batch in average, In the following sections, we will try to expore the full potentials of the GPU to accelerate the training."
      ]
    },
    {
      "cell_type": "markdown",
      "metadata": {
        "id": "A8McNtejRNFT"
      },
      "source": [
        "**Save Model**"
      ]
    },
    {
      "cell_type": "code",
      "metadata": {
        "id": "YRtOr1XIPOvF",
        "colab": {
          "base_uri": "https://localhost:8080/"
        },
        "outputId": "6c49f875-f23b-4f8f-d518-b65456837813"
      },
      "source": [
        "from google.colab import drive\n",
        "drive.mount('/content/drive')"
      ],
      "execution_count": 64,
      "outputs": [
        {
          "output_type": "stream",
          "text": [
            "Drive already mounted at /content/drive; to attempt to forcibly remount, call drive.mount(\"/content/drive\", force_remount=True).\n"
          ],
          "name": "stdout"
        }
      ]
    },
    {
      "cell_type": "code",
      "metadata": {
        "id": "ndftly2yPEaM"
      },
      "source": [
        "import torch\n",
        "model_save_name = f'EuCall_{str(nstock)}.pth'\n",
        "path = F\"/content/drive/MyDrive/AFP/Save_Models/{model_save_name}\" \n",
        "torch.save(model.state_dict(), path)"
      ],
      "execution_count": 65,
      "outputs": []
    },
    {
      "cell_type": "markdown",
      "metadata": {
        "id": "y6DRO9K2RQoJ"
      },
      "source": [
        "**Load Model**"
      ]
    },
    {
      "cell_type": "code",
      "metadata": {
        "id": "HGXZSV_YRT8v",
        "colab": {
          "base_uri": "https://localhost:8080/"
        },
        "outputId": "ea72661b-73b0-4b8f-9624-85d73c4d1514"
      },
      "source": [
        "from google.colab import drive\n",
        "drive.mount('/content/drive')"
      ],
      "execution_count": 66,
      "outputs": [
        {
          "output_type": "stream",
          "text": [
            "Drive already mounted at /content/drive; to attempt to forcibly remount, call drive.mount(\"/content/drive\", force_remount=True).\n"
          ],
          "name": "stdout"
        }
      ]
    },
    {
      "cell_type": "code",
      "metadata": {
        "id": "3ntY-N5bOqdq",
        "colab": {
          "base_uri": "https://localhost:8080/"
        },
        "outputId": "78a751e1-ef62-4acc-cfdb-e7bc313c315f"
      },
      "source": [
        "import torch\n",
        "model_save_name = f'EuCall_{str(nstock)}.pth'\n",
        "path = F\"/content/drive/MyDrive/AFP/Save_Models/{model_save_name}\" \n",
        "state_dict = torch.load(path)\n",
        "print(state_dict.keys())"
      ],
      "execution_count": 67,
      "outputs": [
        {
          "output_type": "stream",
          "text": [
            "odict_keys(['norm', 'fc1.weight', 'fc1.bias', 'fc2.weight', 'fc2.bias', 'fc3.weight', 'fc3.bias', 'fc4.weight', 'fc4.bias', 'fc5.weight', 'fc5.bias', 'fc6.weight', 'fc6.bias'])\n"
          ],
          "name": "stdout"
        }
      ]
    },
    {
      "cell_type": "code",
      "metadata": {
        "id": "j0GAGPAgPmgh",
        "colab": {
          "base_uri": "https://localhost:8080/"
        },
        "outputId": "557a014b-7617-461f-b271-cee185259557"
      },
      "source": [
        "# need to run 'Writing cupy_dataset.py' and 'Writing model.py' above before this\n",
        "from model import Net\n",
        "model = Net(nstock = nstock).cuda()\n",
        "\n",
        "model.load_state_dict(state_dict)\n",
        "print(model)"
      ],
      "execution_count": 68,
      "outputs": [
        {
          "output_type": "stream",
          "text": [
            "Net(\n",
            "  (fc1): Linear(in_features=30, out_features=1024, bias=True)\n",
            "  (fc2): Linear(in_features=1024, out_features=1024, bias=True)\n",
            "  (fc3): Linear(in_features=1024, out_features=1024, bias=True)\n",
            "  (fc4): Linear(in_features=1024, out_features=1024, bias=True)\n",
            "  (fc5): Linear(in_features=1024, out_features=1024, bias=True)\n",
            "  (fc6): Linear(in_features=1024, out_features=1, bias=True)\n",
            ")\n"
          ],
          "name": "stdout"
        }
      ]
    },
    {
      "cell_type": "markdown",
      "metadata": {
        "id": "rXT4Bg0wdL7l"
      },
      "source": [
        "### Continue to train model"
      ]
    },
    {
      "cell_type": "code",
      "metadata": {
        "id": "Zfa9cp6CdG8T"
      },
      "source": [
        "# from ignite.engine import Engine, Events\n",
        "# from ignite.handlers import Timer\n",
        "# from torch.nn import MSELoss\n",
        "# from torch.optim import Adam\n",
        "# from ignite.contrib.handlers.param_scheduler import CosineAnnealingScheduler\n",
        "# from ignite.handlers import ModelCheckpoint\n",
        "# from model import Net\n",
        "# from cupy_dataset import NumbaOptionDataSet\n",
        "# timer = Timer(average=True)\n",
        "# #model = Net().cuda()\n",
        "# loss_fn = MSELoss()\n",
        "# optimizer = Adam(model.parameters(), lr=1e-3)\n",
        "# # dataset = NumbaOptionDataSet(max_len=10000, number_path = 1024, batch=4800)\n",
        "# dataset = NumbaOptionDataSet(max_len=500, number_path = 1024, batch=32, stocks=3)\n",
        "\n",
        "# def train_update(engine, batch):\n",
        "#     model.train()\n",
        "#     optimizer.zero_grad()\n",
        "#     x = batch[0]\n",
        "#     y = batch[1]\n",
        "#     y_pred = model(x)\n",
        "#     loss = loss_fn(y_pred[:,0], y)\n",
        "#     loss.backward()\n",
        "#     optimizer.step()\n",
        "#     return loss.item()\n",
        "\n",
        "# trainer = Engine(train_update)\n",
        "# log_interval = 20\n",
        "\n",
        "# scheduler = CosineAnnealingScheduler(optimizer, 'lr', 1e-4, 1e-6, len(dataset))\n",
        "# trainer.add_event_handler(Events.ITERATION_STARTED, scheduler)\n",
        "# timer.attach(trainer,\n",
        "#              start=Events.EPOCH_STARTED,\n",
        "#              resume=Events.ITERATION_STARTED,\n",
        "#              pause=Events.ITERATION_COMPLETED,\n",
        "#              step=Events.ITERATION_COMPLETED)    \n",
        "# @trainer.on(Events.ITERATION_COMPLETED)\n",
        "# def log_training_loss(engine):\n",
        "#     iter = (engine.state.iteration - 1) % len(dataset) + 1\n",
        "#     if iter % log_interval == 0:\n",
        "#         print('loss', engine.state.output, 'average time', timer.value(), 'iter num', iter)\n",
        "        \n",
        "# trainer.run(dataset, max_epochs=20)\n",
        "\n",
        "# model_save_name = 'checkpoint15.pth'\n",
        "# path = F\"/content/drive/MyDrive/AFP/Save_Models/{model_save_name}\" \n",
        "# torch.save(model.state_dict(), path)"
      ],
      "execution_count": null,
      "outputs": []
    },
    {
      "cell_type": "markdown",
      "metadata": {
        "id": "ehmhDw8BUtLi"
      },
      "source": [
        "### Inference and Greeks"
      ]
    },
    {
      "cell_type": "markdown",
      "metadata": {
        "id": "Uiro43mOU0Ro"
      },
      "source": [
        "We can load the model parameters and use it to do inference"
      ]
    },
    {
      "cell_type": "code",
      "metadata": {
        "id": "svlu6tGTRx1F",
        "colab": {
          "base_uri": "https://localhost:8080/"
        },
        "outputId": "29497782-26be-432f-86bf-de354c236fea"
      },
      "source": [
        "import torch\n",
        "\n",
        "inputs = torch.tensor([[1, 110.0, 110.0, 0.35, 0.1, 0.05] * nstock]).cuda()\n",
        "model(inputs.float())"
      ],
      "execution_count": 69,
      "outputs": [
        {
          "output_type": "execute_result",
          "data": {
            "text/plain": [
              "tensor([[9.1730]], device='cuda:0', grad_fn=<AddmmBackward>)"
            ]
          },
          "metadata": {
            "tags": []
          },
          "execution_count": 69
        }
      ]
    },
    {
      "cell_type": "markdown",
      "metadata": {
        "id": "M1Iy-9pWVRDO"
      },
      "source": [
        "One of the benefits of building a deep learning model is that the [Greeks](<https://en.wikipedia.org/wiki/Greeks_(finance)#First-order_Greeks>) can be easily computed. \n",
        "We just need to take advantage of the auto-grad feature in Pytorch. We can use `grad` function to compute the first order differentiation for parameters 'K, B, S0, sigma, mu, r'"
      ]
    },
    {
      "cell_type": "code",
      "metadata": {
        "id": "ytBZaYHKSnDu",
        "colab": {
          "base_uri": "https://localhost:8080/"
        },
        "outputId": "c38b6b8a-041b-4fa2-e825-e79aaaf4b7bd"
      },
      "source": [
        "inputs = torch.tensor([[1, 110.0, 110.0, 0.35, 0.1, 0.05] * nstock]).cuda()\n",
        "inputs.requires_grad = True\n",
        "x = model(inputs.float())\n",
        "x.backward()\n",
        "first_order_gradient = inputs.grad\n",
        "first_order_gradient"
      ],
      "execution_count": 70,
      "outputs": [
        {
          "output_type": "execute_result",
          "data": {
            "text/plain": [
              "tensor([[ 0.6027, -0.1020,  0.1437,  1.9296, -1.5117, 11.1093, -0.1999, -0.1315,\n",
              "          0.1428,  1.8771, -0.5472,  4.6450, -3.7673, -0.1433,  0.1415,  2.1072,\n",
              "         -0.8724, 15.4116, -4.2419, -0.1355,  0.1422,  1.9894,  1.1496, 26.3989,\n",
              "          2.6690, -0.1320,  0.1419,  2.4270, -0.8523,  7.8699]],\n",
              "       device='cuda:0')"
            ]
          },
          "metadata": {
            "tags": []
          },
          "execution_count": 70
        }
      ]
    },
    {
      "cell_type": "markdown",
      "metadata": {
        "id": "8KeijaDDVZGd"
      },
      "source": [
        "Here we are going to plot the Delta graph:-"
      ]
    },
    {
      "cell_type": "markdown",
      "metadata": {
        "id": "skwgeVDsA_Mr"
      },
      "source": [
        "# Delta"
      ]
    },
    {
      "cell_type": "markdown",
      "metadata": {
        "id": "Bi_2Dqnx3_oP"
      },
      "source": [
        "#### Using gradient, Change only 1 S0 at a time"
      ]
    },
    {
      "cell_type": "code",
      "metadata": {
        "id": "USh3qaADSYQp"
      },
      "source": [
        "#### Using gradient, Change only 1 S0 at a time\n",
        "%matplotlib inline\n",
        "from torch.autograd import grad\n",
        "import pylab\n",
        "import numpy as np\n",
        "def compute_delta(S, ith):\n",
        "    inputs = torch.tensor([[1, 110.0, 110.0, 0.35, 0.1, 0.05]*(ith-1)\\\n",
        "                           + [1, 110.0, S, 0.35, 0.1, 0.05]\\\n",
        "                           + ([1, 110.0, 110.0, 0.35, 0.1, 0.05]*(nstock-ith))]).cuda()\n",
        "    inputs.requires_grad = True\n",
        "    x = model(inputs.float())\n",
        "    #x = model(inputs)\n",
        "    x.backward()\n",
        "    first_order_gradient = inputs.grad\n",
        "    return first_order_gradient[0][2]"
      ],
      "execution_count": 84,
      "outputs": []
    },
    {
      "cell_type": "code",
      "metadata": {
        "colab": {
          "base_uri": "https://localhost:8080/",
          "height": 282
        },
        "id": "4MfZKJlv13SC",
        "outputId": "2686009b-2242-4011-e619-393095ad08d5"
      },
      "source": [
        "for i in range(1, nstock+1):\n",
        "  prices = np.arange(0, 150, 0.1)\n",
        "  deltas = []\n",
        "  for p in prices:\n",
        "      deltas.append(compute_delta(p, i).item())\n",
        "  fig = pylab.plot(prices, deltas, label = f'{i}th stock')\n",
        "  pylab.legend(loc = 'lower right')\n",
        "  pylab.xlabel('prices')\n",
        "  pylab.ylabel('Delta')\n",
        "  fig"
      ],
      "execution_count": 85,
      "outputs": [
        {
          "output_type": "display_data",
          "data": {
            "image/png": "[encoded data removed]",
            "text/plain": [
              "<Figure size 432x288 with 1 Axes>"
            ]
          },
          "metadata": {
            "tags": [],
            "needs_background": "light"
          }
        }
      ]
    },
    {
      "cell_type": "markdown",
      "metadata": {
        "id": "iXixHQic35iI"
      },
      "source": [
        "#### Using Finite Difference, Change only 1 S0 at a time"
      ]
    },
    {
      "cell_type": "code",
      "metadata": {
        "colab": {
          "base_uri": "https://localhost:8080/",
          "height": 281
        },
        "id": "VGk5Hw64fMdh",
        "outputId": "7068f258-6e5c-49d4-d8a5-445329d26ce8"
      },
      "source": [
        "## Using Finite Difference, Change only 1 S0 at a time\n",
        "%matplotlib inline\n",
        "import numpy as np\n",
        "def compute_delta(S, ith):\n",
        "    epsilon = 0.01\n",
        "    inputs1 = torch.tensor([[1, 110.0, 110.0, 0.35, 0.1, 0.05]*(ith-1)\\\n",
        "                           + [1, 110.0, S, 0.35, 0.1, 0.05]\\\n",
        "                           + ([1, 110.0, 110.0, 0.35, 0.1, 0.05]*(nstock-ith))]).cuda()\n",
        "    inputs2 = torch.tensor([[1, 110.0, 110.0, 0.35, 0.1, 0.05]*(ith-1)\\\n",
        "                           + [1, 110.0, S + epsilon, 0.35, 0.1, 0.05]\\\n",
        "                           + ([1, 110.0, 110.0, 0.35, 0.1, 0.05]*(nstock-ith))]).cuda()\n",
        "    delta = (model(inputs2.float()) - model(inputs1.float()))/epsilon\n",
        "    return delta\n",
        "\n",
        "for i in range(1, nstock+1):\n",
        "  prices = np.arange(0, 150, 0.1)\n",
        "  deltas = []\n",
        "  for p in prices:\n",
        "      deltas.append(compute_delta(p, i).item())\n",
        "  fig = pylab.plot(prices, deltas, label = f'{i}th stock')\n",
        "  pylab.legend(loc = 'lower right')\n",
        "  pylab.xlabel('prices')\n",
        "  pylab.ylabel('Delta')\n",
        "  fig"
      ],
      "execution_count": 86,
      "outputs": [
        {
          "output_type": "display_data",
          "data": {
            "image/png": "[encoded data removed]",
            "text/plain": [
              "<Figure size 432x288 with 1 Axes>"
            ]
          },
          "metadata": {
            "tags": [],
            "needs_background": "light"
          }
        }
      ]
    },
    {
      "cell_type": "markdown",
      "metadata": {
        "id": "fIJe36fJ4JFO"
      },
      "source": [
        "#### Using Finite Difference, Change 3 S0 at a time"
      ]
    },
    {
      "cell_type": "code",
      "metadata": {
        "colab": {
          "base_uri": "https://localhost:8080/",
          "height": 296
        },
        "id": "4O1I8COnUxnz",
        "outputId": "95a66e3c-51dd-4f3a-dd91-c5bebe288316"
      },
      "source": [
        "##Using Finite Difference, Change 3 S0 at a time\n",
        "%matplotlib inline\n",
        "import numpy as np\n",
        "def compute_delta(S):\n",
        "    epsilon = 0.01\n",
        "    inputs1 = torch.tensor([[1, 110.0, S, 0.35, 0.1, 0.05]*nstock]).cuda()\n",
        "    inputs2 = torch.tensor([[1, 110.0, S + epsilon, 0.35, 0.1, 0.05]*nstock]).cuda()\n",
        "    delta = (model(inputs2.float()) - model(inputs1.float()))/epsilon\n",
        "    return delta\n",
        "\n",
        "\n",
        "prices = np.arange(0, 150, 0.1)\n",
        "deltas = []\n",
        "for p in prices:\n",
        "    deltas.append(compute_delta(p).item())\n",
        "fig = pylab.plot(prices, deltas)\n",
        "pylab.xlabel('prices')\n",
        "pylab.ylabel('Delta')\n",
        "fig"
      ],
      "execution_count": 87,
      "outputs": [
        {
          "output_type": "execute_result",
          "data": {
            "text/plain": [
              "[<matplotlib.lines.Line2D at 0x7f77de4d7710>]"
            ]
          },
          "metadata": {
            "tags": []
          },
          "execution_count": 87
        },
        {
          "output_type": "display_data",
          "data": {
            "image/png": "[encoded data removed]",
            "text/plain": [
              "<Figure size 432x288 with 1 Axes>"
            ]
          },
          "metadata": {
            "tags": [],
            "needs_background": "light"
          }
        }
      ]
    },
    {
      "cell_type": "markdown",
      "metadata": {
        "id": "yNB8LPwfBMHQ"
      },
      "source": [
        "# Gamma"
      ]
    },
    {
      "cell_type": "markdown",
      "metadata": {
        "id": "oLO_5nEGVcEc"
      },
      "source": [
        "Calculating the second order derivative is easy in PyTorch too. We just need to apply the `grad` function twice. Use this mechanism, we can calculate the second order derivatives $\\frac{\\partial^2 P}{\\partial K \\partial S_0}$, $\\frac{\\partial^2 P}{\\partial B \\partial S_0}$, $\\frac{\\partial^2 P}{\\partial S_0^2}$, $\\frac{\\partial^2 P}{\\partial \\sigma \\partial S_0}$, $\\frac{\\partial^2 P}{\\partial \\mu \\partial S_0}$, $\\frac{\\partial^2 P}{\\partial r \\partial S_0}$ in the following example."
      ]
    },
    {
      "cell_type": "code",
      "metadata": {
        "id": "nGzj7A3sThZK",
        "colab": {
          "base_uri": "https://localhost:8080/"
        },
        "outputId": "dd52b3a6-5225-4d55-9e0b-444669288c4a"
      },
      "source": [
        "import torch\n",
        "from torch import Tensor\n",
        "from torch.autograd import Variable\n",
        "from torch.autograd import grad\n",
        "from torch import nn\n",
        "\n",
        "inputs = torch.tensor([[1, 110.0, 110.0, 0.35, 0.1, 0.05]*nstock]).cuda()\n",
        "inputs.requires_grad = True\n",
        "x = model(inputs)\n",
        "\n",
        "# instead of using loss.backward(), use torch.autograd.grad() to compute gradients\n",
        "# https://pytorch.org/docs/stable/autograd.html#torch.autograd.grad\n",
        "loss_grads = grad(x, inputs, create_graph=True)\n",
        "drv = grad(loss_grads[0][0][2], inputs)\n",
        "drv"
      ],
      "execution_count": 88,
      "outputs": [
        {
          "output_type": "execute_result",
          "data": {
            "text/plain": [
              "(tensor([[ 0.0029, -0.0007,  0.0009, -0.0031, -0.0098,  0.0730, -0.0050, -0.0009,\n",
              "           0.0009, -0.0038,  0.0032,  0.0376, -0.0262, -0.0010,  0.0009, -0.0073,\n",
              "          -0.0061,  0.1165, -0.0297, -0.0009,  0.0009, -0.0051,  0.0124,  0.1863,\n",
              "           0.0174, -0.0009,  0.0009, -0.0015, -0.0071,  0.0485]],\n",
              "        device='cuda:0'),)"
            ]
          },
          "metadata": {
            "tags": []
          },
          "execution_count": 88
        }
      ]
    },
    {
      "cell_type": "markdown",
      "metadata": {
        "id": "WJbZYtvhVmSo"
      },
      "source": [
        "Gamma is the second order differenation of `S`. We can plot the the Gamma curve as a function of the stock price"
      ]
    },
    {
      "cell_type": "markdown",
      "metadata": {
        "id": "dlXVePiK4UH5"
      },
      "source": [
        "#### Using gradient, Change only 1 S0 at a time"
      ]
    },
    {
      "cell_type": "code",
      "metadata": {
        "id": "3JpQa3EJToA0",
        "colab": {
          "base_uri": "https://localhost:8080/",
          "height": 279
        },
        "outputId": "6c8b4474-566f-4573-b972-1af67971413c"
      },
      "source": [
        "##Using gradient, Change only 1 S0 at a time\n",
        "import pylab\n",
        "import numpy as np\n",
        "def compute_gamma(S, ith):\n",
        "  inputs = torch.tensor([[1, 110.0, 110.0, 0.35, 0.1, 0.05]*(ith-1)\\\n",
        "                           + [1, 110.0, S, 0.35, 0.1, 0.05]\\\n",
        "                           + ([1, 110.0, 110.0, 0.35, 0.1, 0.05]*(nstock-ith))]).cuda()\n",
        "  # inputs = torch.tensor([[1, 110.0, S, 0.35, 0.1, 0.05] + ([1, 110.0, 110.0, 0.35, 0.1, 0.05]*2)]).cuda()\n",
        "  inputs.requires_grad = True\n",
        "  x = model(inputs.float())\n",
        "  #x = model(inputs)\n",
        "  loss_grads = grad(x, inputs, create_graph=True)\n",
        "  drv = grad(loss_grads[0][0][2], inputs)\n",
        "  return drv[0][0][2]\n",
        "\n",
        "for i in range(1, nstock+1):\n",
        "  prices = np.arange(0, 150, 0.1)\n",
        "  gammas = []\n",
        "  for p in prices:\n",
        "      gammas.append(compute_gamma(p, i).item())\n",
        "  fig2 = pylab.plot(prices, gammas, label = f'{i}th stock')\n",
        "  pylab.legend(loc = 'upper right')\n",
        "  pylab.xlabel('prices')\n",
        "  pylab.ylabel('Gamma')\n",
        "  fig2"
      ],
      "execution_count": 89,
      "outputs": [
        {
          "output_type": "display_data",
          "data": {
            "image/png": "[encoded data removed]",
            "text/plain": [
              "<Figure size 432x288 with 1 Axes>"
            ]
          },
          "metadata": {
            "tags": [],
            "needs_background": "light"
          }
        }
      ]
    },
    {
      "cell_type": "markdown",
      "metadata": {
        "id": "RDEmn97t4xxJ"
      },
      "source": [
        "#### Using Finite Difference, Change only 1 S0 at a time"
      ]
    },
    {
      "cell_type": "code",
      "metadata": {
        "id": "BsoaOyCDxQy0",
        "colab": {
          "base_uri": "https://localhost:8080/",
          "height": 279
        },
        "outputId": "329159c4-83e0-4fd9-c8bd-ebb32bfb39de"
      },
      "source": [
        "##Using Finite Difference, Change only 1 S0 at a time\n",
        "%matplotlib inline\n",
        "import numpy as np\n",
        "def compute_gamma(S, ith):\n",
        "    epsilon = 0.5\n",
        "    inputs1 = torch.tensor([[1, 110.0, 110.0, 0.35, 0.1, 0.05]*(ith-1)\\\n",
        "                           + [1, 110.0, S, 0.35, 0.1, 0.05]\\\n",
        "                           + ([1, 110.0, 110.0, 0.35, 0.1, 0.05]*(nstock-ith))]).cuda()\n",
        "    inputs2 = torch.tensor([[1, 110.0, 110.0, 0.35, 0.1, 0.05]*(ith-1)\\\n",
        "                           + [1, 110.0, S+epsilon, 0.35, 0.1, 0.05]\\\n",
        "                           + ([1, 110.0, 110.0, 0.35, 0.1, 0.05]*(nstock-ith))]).cuda()\n",
        "    inputs3 = torch.tensor([[1, 110.0, 110.0, 0.35, 0.1, 0.05]*(ith-1)\\\n",
        "                           + [1, 110.0, S-epsilon, 0.35, 0.1, 0.05]\\\n",
        "                           + ([1, 110.0, 110.0, 0.35, 0.1, 0.05]*(nstock-ith))]).cuda()\n",
        "    # inputs1 = torch.tensor([[1, 110.0, S, 0.35, 0.1, 0.05]  + ([1, 110.0, 110.0, 0.35, 0.1, 0.05]*2)]).cuda()\n",
        "    # inputs2 = torch.tensor([[1, 110.0, S + epsilon, 0.35, 0.1, 0.05]  + ([1, 110.0, 110.0, 0.35, 0.1, 0.05]*2)]).cuda()\n",
        "    # inputs3 = torch.tensor([[1, 110.0, S - epsilon, 0.35, 0.1, 0.05]  + ([1, 110.0, 110.0, 0.35, 0.1, 0.05]*2)]).cuda()\n",
        "    gamma = (model(inputs2.float()) - 2*model(inputs1.float()) + model(inputs3.float()))/(epsilon**2)\n",
        "    return gamma\n",
        "\n",
        "for i in range(1, nstock+1):\n",
        "  prices = np.arange(0, 150, 0.1)\n",
        "  gammas = []\n",
        "  for p in prices:\n",
        "      gammas.append(compute_gamma(p, i).item())\n",
        "  fig = pylab.plot(prices, gammas, label = f'{i}th stock')\n",
        "  pylab.legend(loc = 'upper right')\n",
        "  pylab.xlabel('prices')\n",
        "  pylab.ylabel('Gamma')\n",
        "  fig"
      ],
      "execution_count": 90,
      "outputs": [
        {
          "output_type": "display_data",
          "data": {
            "image/png": "[encoded data removed]",
            "text/plain": [
              "<Figure size 432x288 with 1 Axes>"
            ]
          },
          "metadata": {
            "tags": [],
            "needs_background": "light"
          }
        }
      ]
    },
    {
      "cell_type": "markdown",
      "metadata": {
        "id": "SnRaSM685NCq"
      },
      "source": [
        "#### Using Finite Difference, Change 3 S0 at a time"
      ]
    },
    {
      "cell_type": "code",
      "metadata": {
        "colab": {
          "base_uri": "https://localhost:8080/",
          "height": 296
        },
        "id": "aOsXgOwWZ_ru",
        "outputId": "e1ffdc31-6e6c-4d3d-e40a-148f62e25662"
      },
      "source": [
        "##Using Finite Difference, Change 3 S0 at a time\n",
        "%matplotlib inline\n",
        "import numpy as np\n",
        "def compute_gamma(S):\n",
        "    epsilon = 0.5\n",
        "    inputs1 = torch.tensor([[1, 110.0, S, 0.35, 0.1, 0.05]*nstock]).cuda()\n",
        "    inputs2 = torch.tensor([[1, 110.0, S + epsilon, 0.35, 0.1, 0.05]*nstock]).cuda()\n",
        "    inputs3 = torch.tensor([[1, 110.0, S - epsilon, 0.35, 0.1, 0.05]*nstock]).cuda()\n",
        "    gamma = (model(inputs2.float()) - 2*model(inputs1.float()) + model(inputs3.float()))/(epsilon**2)\n",
        "    return gamma\n",
        "\n",
        "prices = np.arange(0, 150, 0.1)\n",
        "gammas = []\n",
        "for p in prices:\n",
        "    gammas.append(compute_gamma(p).item())\n",
        "fig = pylab.plot(prices, gammas)\n",
        "pylab.xlabel('prices')\n",
        "pylab.ylabel('Gamma')\n",
        "fig"
      ],
      "execution_count": 91,
      "outputs": [
        {
          "output_type": "execute_result",
          "data": {
            "text/plain": [
              "[<matplotlib.lines.Line2D at 0x7f77ded1b210>]"
            ]
          },
          "metadata": {
            "tags": []
          },
          "execution_count": 91
        },
        {
          "output_type": "display_data",
          "data": {
            "image/png": "[encoded data removed]",
            "text/plain": [
              "<Figure size 432x288 with 1 Axes>"
            ]
          },
          "metadata": {
            "tags": [],
            "needs_background": "light"
          }
        }
      ]
    },
    {
      "cell_type": "markdown",
      "metadata": {
        "id": "67lca2xrBh9a"
      },
      "source": [
        "# Vega"
      ]
    },
    {
      "cell_type": "markdown",
      "metadata": {
        "id": "iuETeg-e53wz"
      },
      "source": [
        "#### Using finite difference, Change only 1 S0 at a time"
      ]
    },
    {
      "cell_type": "code",
      "metadata": {
        "id": "muozc-hzhSGA",
        "colab": {
          "base_uri": "https://localhost:8080/",
          "height": 279
        },
        "outputId": "efd1d25c-688a-4b01-e354-685d74a15c16"
      },
      "source": [
        "##Using finite difference, Change only 1 S0 at a time\n",
        "# vega\n",
        "%matplotlib inline\n",
        "import numpy as np\n",
        "def compute_vega(S, ith):\n",
        "    epsilon = 0.5\n",
        "\n",
        "    inputs1 = torch.tensor([[1, 110.0, 110.0, 0.35, 0.1, 0.05]*(ith-1)\\\n",
        "                           + [1, 110.0, S, 0.35, 0.1, 0.05]\\\n",
        "                           + ([1, 110.0, 110.0, 0.35, 0.1, 0.05]*(nstock-ith))]).cuda()\n",
        "    inputs2 = torch.tensor([[1, 110.0, 110.0, 0.35, 0.1, 0.05]*(ith-1)\\\n",
        "                           + [1, 110.0, S, 0.35+epsilon, 0.1, 0.05]\\\n",
        "                           + ([1, 110.0, 110.0, 0.35, 0.1, 0.05]*(nstock-ith))]).cuda()\n",
        "\n",
        "    vega = (model(inputs2.float()) - model(inputs1.float()))/epsilon\n",
        "    return vega\n",
        "\n",
        "for i in range(1, nstock+1):\n",
        "  prices = np.arange(0, 150, 0.1)\n",
        "  vegas = []\n",
        "  for p in prices:\n",
        "      vegas.append(compute_vega(p, i).item())\n",
        "  fig = pylab.plot(prices, vegas, label = f'{i}th stock')\n",
        "  pylab.legend(loc = 'lower right')\n",
        "  pylab.xlabel('prices')\n",
        "  pylab.ylabel('Vega')\n",
        "  fig"
      ],
      "execution_count": 92,
      "outputs": [
        {
          "output_type": "display_data",
          "data": {
            "image/png": "[encoded data removed]",
            "text/plain": [
              "<Figure size 432x288 with 1 Axes>"
            ]
          },
          "metadata": {
            "tags": [],
            "needs_background": "light"
          }
        }
      ]
    },
    {
      "cell_type": "markdown",
      "metadata": {
        "id": "y_BYyL9d584w"
      },
      "source": [
        "#### Using Finite Difference, Change 3 S0 at a time"
      ]
    },
    {
      "cell_type": "code",
      "metadata": {
        "colab": {
          "base_uri": "https://localhost:8080/",
          "height": 296
        },
        "id": "0KATxBCAdlFt",
        "outputId": "5b350a33-a172-46ea-bdd6-5db92db07546"
      },
      "source": [
        "##Using Finite Difference, Change 3 S0 at a time\n",
        "# vega\n",
        "%matplotlib inline\n",
        "import numpy as np\n",
        "def compute_vega(S):\n",
        "    epsilon = 0.5\n",
        "    inputs1 = torch.tensor([[1, 110.0, S, 0.35, 0.1, 0.05]*nstock]).cuda()\n",
        "    inputs2 = torch.tensor([[1, 110.0, S, 0.35 + epsilon, 0.1, 0.05]*nstock]).cuda()\n",
        "    vega = (model(inputs2.float()) - model(inputs1.float()))/epsilon\n",
        "    return vega\n",
        "\n",
        "\n",
        "prices = np.arange(0, 150, 0.1)\n",
        "vegas = []\n",
        "for p in prices:\n",
        "    vegas.append(compute_vega(p).item())\n",
        "fig = pylab.plot(prices, vegas)\n",
        "pylab.xlabel('prices')\n",
        "pylab.ylabel('Vega')\n",
        "fig"
      ],
      "execution_count": 93,
      "outputs": [
        {
          "output_type": "execute_result",
          "data": {
            "text/plain": [
              "[<matplotlib.lines.Line2D at 0x7f77de3bd990>]"
            ]
          },
          "metadata": {
            "tags": []
          },
          "execution_count": 93
        },
        {
          "output_type": "display_data",
          "data": {
            "image/png": "[encoded data removed]",
            "text/plain": [
              "<Figure size 432x288 with 1 Axes>"
            ]
          },
          "metadata": {
            "tags": [],
            "needs_background": "light"
          }
        }
      ]
    },
    {
      "cell_type": "markdown",
      "metadata": {
        "id": "Rj7NlW6GVqSA"
      },
      "source": [
        "[Implied volatility](https://en.wikipedia.org/wiki/Implied_volatility) is the forecasted volatility of the underlying asset based on the quoted prices of the option. It is the reverse mapping of price to the option parameter given the model which is hard to do with the Monte Carlo simulation approach. But if we have the deep learning pricing model, it is an easy task. We can first plot the relationship between volatility and the option price"
      ]
    },
    {
      "cell_type": "code",
      "metadata": {
        "id": "4yrCw5UNT07t"
      },
      "source": [
        "# import pylab\n",
        "# import numpy as np\n",
        "# def compute_price(sigma):\n",
        "#     inputs = torch.tensor([[1, 110.0, 110.0, sigma, 0.1, 0.05]]).cuda()\n",
        "#     x = model(inputs.float())\n",
        "#     #x = model(inputs)\n",
        "#     return x.item()\n",
        "# sigmas = np.arange(0, 0.5, 0.1)\n",
        "# prices = []\n",
        "# for s in sigmas:\n",
        "#     prices.append(compute_price(s))\n",
        "# fig3 = pylab.plot(sigmas, prices)\n",
        "# pylab.xlabel('Sigma')\n",
        "# pylab.ylabel('Price')\n",
        "# fig3"
      ],
      "execution_count": 94,
      "outputs": []
    },
    {
      "cell_type": "markdown",
      "metadata": {
        "id": "EU25Cj29VtCa"
      },
      "source": [
        "Given the prices `P`, the implied volatility is the root of the function `compute_price`. We can use bisection to find the root."
      ]
    },
    {
      "cell_type": "code",
      "metadata": {
        "id": "ddHnwm_zUBYD"
      },
      "source": [
        "# def bisection_root(small, large, fun, target, EPS=1e-6):\n",
        "#     if fun(large) - target < 0:\n",
        "#         print('upper bound is too small')\n",
        "#         return None\n",
        "#     if fun(small) - target > 0:\n",
        "#         print('lower bound is too large')\n",
        "#         return None\n",
        "#     while large - small > EPS:\n",
        "#         mid = (large + small) / 2.0\n",
        "#         if fun(mid) - target >= 0:\n",
        "#             large = mid\n",
        "#         else:\n",
        "#             small = mid\n",
        "#     mid = (large + small) / 2.0\n",
        "#     return mid, abs(fun(mid) - target)\n",
        "# quoted_price = 16.0\n",
        "# sigma, err = bisection_root(0, 0.5, compute_price, quoted_price)\n",
        "# print('implied volativity', sigma, 'error', err)     "
      ],
      "execution_count": 95,
      "outputs": []
    },
    {
      "cell_type": "code",
      "metadata": {
        "id": "DEiAredqQGxf"
      },
      "source": [
        ""
      ],
      "execution_count": 95,
      "outputs": []
    }
  ]
}