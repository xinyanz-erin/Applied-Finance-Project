{
  "nbformat": 4,
  "nbformat_minor": 0,
  "metadata": {
    "colab": {
      "name": "Peter_jnp.ipynb",
      "provenance": [],
      "include_colab_link": true
    },
    "kernelspec": {
      "name": "python3",
      "display_name": "Python 3"
    },
    "language_info": {
      "name": "python"
    }
  },
  "cells": [
    {
      "cell_type": "markdown",
      "metadata": {
        "id": "view-in-github",
        "colab_type": "text"
      },
      "source": [
        "<a href=\"https://colab.research.google.com/github/xinyanz-erin/Applied-Finance-Project/blob/Pui/European_Call_jax.ipynb\" target=\"_parent\"><img src=\"https://colab.research.google.com/assets/colab-badge.svg\" alt=\"Open In Colab\"/></a>"
      ]
    },
    {
      "cell_type": "code",
      "metadata": {
        "id": "Z1TgzBZmOpEc",
        "outputId": "be5cd50d-5abb-4175-a219-69417c6d0689",
        "colab": {
          "base_uri": "https://localhost:8080/"
        }
      },
      "source": [
        "import jax.numpy as jnp\n",
        "from jax import random\n",
        "from jax import jit\n",
        "from jax import device_put\n",
        "\n",
        "def test():\n",
        "  paths=100000\n",
        "  steps=252\n",
        "  stocks=3\n",
        "  key = random.PRNGKey(10)\n",
        "  x = random.normal(key, (paths,steps,stocks))\n",
        "  s0=random.randint(key,(stocks,1),50,100)*1.\n",
        "  s=s0\n",
        "  s = device_put(s)\n",
        "  for i in range(steps):\n",
        "    for j in range(stocks):\n",
        "      s+=x[:,i,j]\n",
        "  return(s0,s)\n",
        "\n",
        "a,b=test()\n",
        "\n",
        "print(a,np.mean(b,axis=1))\n",
        "\n",
        "jtest=jit(test)\n",
        "\n",
        "c,d=jtest()\n",
        "\n",
        "print(c,np.mean(d,axis=1))"
      ],
      "execution_count": 36,
      "outputs": [
        {
          "output_type": "stream",
          "text": [
            "[[86.]\n",
            " [56.]\n",
            " [71.]] [85.99678  55.996777 70.99677 ]\n",
            "[[86.]\n",
            " [56.]\n",
            " [71.]] [85.99678  55.996777 70.99677 ]\n"
          ],
          "name": "stdout"
        }
      ]
    },
    {
      "cell_type": "code",
      "metadata": {
        "id": "lZWaZ_PdRZs1",
        "outputId": "cc269f2c-282b-4d02-936d-3245b3ddd45b",
        "colab": {
          "base_uri": "https://localhost:8080/"
        }
      },
      "source": [
        "paths=10\n",
        "steps=5\n",
        "stocks=3\n",
        "key = random.PRNGKey(10)\n",
        "x = random.normal(key, (paths,steps,stocks))\n",
        "s0=random.randint(key,(stocks,1),50,100)*1.\n",
        "s=s0\n",
        "s = device_put(s)\n",
        "print(s)\n",
        "print(x[:,1,1])\n",
        "print(s+x[:,1,1])"
      ],
      "execution_count": 37,
      "outputs": [
        {
          "output_type": "stream",
          "text": [
            "[[86.]\n",
            " [56.]\n",
            " [71.]]\n",
            "[-0.32907748 -0.3529078  -0.5357338  -2.402825   -1.3187171  -0.4300647\n",
            " -0.42437345  0.22680947  0.3185347  -0.9541187 ]\n",
            "[[85.67092  85.647095 85.464264 83.597176 84.68128  85.56994  85.57563\n",
            "  86.22681  86.318535 85.04588 ]\n",
            " [55.67092  55.64709  55.464268 53.597176 54.681282 55.569935 55.575626\n",
            "  56.22681  56.318535 55.045883]\n",
            " [70.67092  70.647095 70.464264 68.597176 69.68128  70.56994  70.57563\n",
            "  71.22681  71.318535 70.04588 ]]\n"
          ],
          "name": "stdout"
        }
      ]
    },
    {
      "cell_type": "code",
      "metadata": {
        "id": "AM9Sjorq3aPK",
        "outputId": "deaf0d76-429a-4b5a-84dd-0099ebedd4cb",
        "colab": {
          "base_uri": "https://localhost:8080/"
        }
      },
      "source": [
        "import jax.numpy as jnp\n",
        "def simple_process(key, initial_values, numsteps, drift, cov):\n",
        "    stocks_init = jnp.zeros((numsteps + 1,initial_values.shape[0]))\n",
        "    stocks_init=jax.ops.index_update(stocks_init,  # jax.ops.index_update(x, idx, y) <-> Pure equivalent of x[idx] = y\n",
        "                            jax.ops.index[0],\n",
        "                            initial_values)\n",
        "    noise = jax.random.multivariate_normal(key, drift, cov, (numsteps,))\n",
        "    #return(noise)\n",
        "    def time_step(t, val):\n",
        "        dx =  drift+noise[t,:]\n",
        "        val = jax.ops.index_update(val,\n",
        "                            jax.ops.index[t],\n",
        "                            val[t-1] + dx)\n",
        "        return val\n",
        "    return jax.lax.fori_loop(1, numsteps+1, time_step, stocks_init)[1:] # jax.lax.fori_loop(lower, upper, body_fun, init_val)\n",
        "\n",
        "# def fori_loop(lower, upper, body_fun, init_val): # upper is exclusive\n",
        "#   val = init_val\n",
        "#   for i in range(lower, upper):\n",
        "#     val = body_fun(i, val)\n",
        "#   return val\n",
        "\n",
        "numsteps=5\n",
        "key = random.PRNGKey(10)\n",
        "drift=jnp.array([0.0]*3)\n",
        "cov=np.random.random((3,3))\n",
        "cov=np.matmul(cov,cov.T)\n",
        "initial_values=jnp.array([100.]*3)\n",
        "fast_simple = jax.jit(simple_process, static_argnums=2)\n",
        "init_stocks=jnp.array([100.]*3)\n",
        "fast_simple(key,init_stocks,numsteps,drift,cov)\n",
        "# Batch OU sample via vmap\n",
        "batch_simple = jax.vmap(fast_simple, in_axes=(0, None, None, None, None)) \n",
        "# An integer or None indicates which array axis to map over for all arguments (with None indicating not to map any axis)\n",
        "\n",
        "%timeit fast_simple(key, init_stocks, 12, drift, cov)\n",
        "\n",
        "numsamples=100000 # num of paths\n",
        "keys = jax.random.split(key, numsamples)\n",
        "batch_simple = jax.vmap(fast_simple, in_axes=(0, None, None, None, None))\n",
        "%timeit batch_simple(keys, init_stocks, 12, drift, cov)\n",
        "\n",
        "batch_simple(keys, init_stocks, numsteps, drift, cov).shape"
      ],
      "execution_count": 65,
      "outputs": [
        {
          "output_type": "stream",
          "text": [
            "The slowest run took 45672.07 times longer than the fastest. This could mean that an intermediate result is being cached.\n",
            "1 loop, best of 5: 10.2 µs per loop\n",
            "1 loop, best of 5: 184 ms per loop\n"
          ],
          "name": "stdout"
        },
        {
          "output_type": "execute_result",
          "data": {
            "text/plain": [
              "(100000, 5, 3)"
            ]
          },
          "metadata": {},
          "execution_count": 65
        }
      ]
    },
    {
      "cell_type": "code",
      "metadata": {
        "id": "k7KFGhPVWJu9",
        "outputId": "1c6e42b0-1dde-4afa-9b63-12d3c489aa3c",
        "colab": {
          "base_uri": "https://localhost:8080/"
        }
      },
      "source": [
        "key = random.PRNGKey(10)\n",
        "initial_values=jnp.array([100.]*3)\n",
        "numsteps=5\n",
        "drift=jnp.array([0.0]*3)\n",
        "cov=np.random.random((3,3))\n",
        "cov=np.matmul(cov, cov.T)\n",
        "\n",
        "print(key)\n",
        "print(initial_values)\n",
        "print(numsteps)\n",
        "print(drift)\n",
        "print(cov)"
      ],
      "execution_count": 52,
      "outputs": [
        {
          "output_type": "stream",
          "text": [
            "[ 0 10]\n",
            "[100. 100. 100.]\n",
            "5\n",
            "[0. 0. 0.]\n",
            "[[1.54747825 0.99664178 0.78596654]\n",
            " [0.99664178 0.71180915 0.49595259]\n",
            " [0.78596654 0.49595259 0.81469483]]\n"
          ],
          "name": "stdout"
        }
      ]
    },
    {
      "cell_type": "code",
      "metadata": {
        "id": "5F1U2n21WuDC",
        "outputId": "7cdf3cfc-b74f-45c0-cfee-c9cb26fcae3e",
        "colab": {
          "base_uri": "https://localhost:8080/"
        }
      },
      "source": [
        "stocks_init = jnp.zeros((numsteps + 1, initial_values.shape[0]))\n",
        "print(stocks_init)\n",
        "stocks_init=jax.ops.index_update(stocks_init,\n",
        "                        jax.ops.index[0],\n",
        "                        initial_values)\n",
        "print(stocks_init)\n",
        "noise = jax.random.multivariate_normal(key, drift, cov, (numsteps,))\n",
        "print(noise)"
      ],
      "execution_count": 49,
      "outputs": [
        {
          "output_type": "stream",
          "text": [
            "[[0. 0. 0.]\n",
            " [0. 0. 0.]\n",
            " [0. 0. 0.]\n",
            " [0. 0. 0.]\n",
            " [0. 0. 0.]\n",
            " [0. 0. 0.]]\n",
            "[[100. 100. 100.]\n",
            " [  0.   0.   0.]\n",
            " [  0.   0.   0.]\n",
            " [  0.   0.   0.]\n",
            " [  0.   0.   0.]\n",
            " [  0.   0.   0.]]\n",
            "[[-0.04484753 -0.9199365   1.5313144 ]\n",
            " [ 0.5629996  -0.19369014 -0.08328605]\n",
            " [ 0.09276688 -0.04558031 -0.5952471 ]\n",
            " [ 0.3374979  -0.36135596 -1.0123413 ]\n",
            " [-0.19334996 -0.20442696 -0.20229332]]\n"
          ],
          "name": "stdout"
        }
      ]
    }
  ]
}