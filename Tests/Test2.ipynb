{
  "nbformat": 4,
  "nbformat_minor": 0,
  "metadata": {
    "kernelspec": {
      "display_name": "Python 3",
      "language": "python",
      "name": "python3"
    },
    "language_info": {
      "codemirror_mode": {
        "name": "ipython",
        "version": 3
      },
      "file_extension": ".py",
      "mimetype": "text/x-python",
      "name": "python",
      "nbconvert_exporter": "python",
      "pygments_lexer": "ipython3",
      "version": "3.6.9"
    },
    "colab": {
      "name": "Combined.ipynb",
      "provenance": [],
      "collapsed_sections": [
        "NwN6aLFDnwiy",
        "dBOv_RiBsCWa",
        "u2_89jOknwjH"
      ],
      "include_colab_link": true
    },
    "accelerator": "GPU"
  },
  "cells": [
    {
      "cell_type": "markdown",
      "metadata": {
        "id": "view-in-github",
        "colab_type": "text"
      },
      "source": [
        "<a href=\"https://colab.research.google.com/github/xinyanz-erin/Applied-Finance-Project/blob/main/Tests/Test2.ipynb\" target=\"_parent\"><img src=\"https://colab.research.google.com/assets/colab-badge.svg\" alt=\"Open In Colab\"/></a>"
      ]
    },
    {
      "cell_type": "code",
      "metadata": {
        "id": "gCR6hhw5Xq_R"
      },
      "source": [
        "import warnings\n",
        "warnings.filterwarnings('ignore')"
      ],
      "execution_count": 1,
      "outputs": []
    },
    {
      "cell_type": "code",
      "metadata": {
        "colab": {
          "base_uri": "https://localhost:8080/"
        },
        "id": "gSxOZk3ls2XQ",
        "outputId": "cb1ccb8d-ecae-4ea2-ac66-2e95f172a1ba"
      },
      "source": [
        "!curl https://colab.chainer.org/install |sh -\n",
        "import cupy"
      ],
      "execution_count": 2,
      "outputs": [
        {
          "output_type": "stream",
          "text": [
            "  % Total    % Received % Xferd  Average Speed   Time    Time     Time  Current\n",
            "                                 Dload  Upload   Total   Spent    Left  Speed\n",
            "\r  0     0    0     0    0     0      0      0 --:--:-- --:--:-- --:--:--     0\r100  1580  100  1580    0     0   9186      0 --:--:-- --:--:-- --:--:--  9186\n",
            "+ apt -y -q install cuda-libraries-dev-10-0\n",
            "Reading package lists...\n",
            "Building dependency tree...\n",
            "Reading state information...\n",
            "cuda-libraries-dev-10-0 is already the newest version (10.0.130-1).\n",
            "0 upgraded, 0 newly installed, 0 to remove and 39 not upgraded.\n",
            "+ pip install -q cupy-cuda100  chainer \n",
            "\u001b[K     |████████████████████████████████| 58.9MB 89kB/s \n",
            "\u001b[K     |████████████████████████████████| 1.0MB 45.3MB/s \n",
            "\u001b[?25h  Building wheel for chainer (setup.py) ... \u001b[?25l\u001b[?25hdone\n",
            "+ set +ex\n",
            "Installation succeeded!\n"
          ],
          "name": "stdout"
        }
      ]
    },
    {
      "cell_type": "markdown",
      "metadata": {
        "id": "NwN6aLFDnwiy"
      },
      "source": [
        "### Deep Learning Barrier Option\n",
        "\n",
        "We used Numba and CuPy in the previous notebook to run Monte Carlo simulation to determine the price of the Asian Barrier option. A Monte Carlo simulation needs millions of paths to get an accurate answer which is computationally intensive. [Ryan et al (2018)](https://arxiv.org/abs/1809.02233) showed that a deep learning model can be trained to value derivatives. The deep learning model is accurate and very fast, capable of producing valuations a million times faster than traditional models. In the this notebook, we will use a fully connected network to learn the pricing mode of the Asian Barrier option. Monte Carlo simulation is used as pricing ground truth for the training. We use the same Asian Barrier Option model as last notebook with parameters listed as following:\n",
        "\n",
        "```\n",
        "T - Maturity (yrs.)\n",
        "S - Spot (usd)\n",
        "K - Strike (usd)\n",
        "sigma - Volatility (per.)\n",
        "r - Risk Free Rate (per.)\n",
        "mu - Stock Drift Rate (per.)\n",
        "B - Barrier (usd)\n",
        "```\n",
        "\n",
        "### Batched Data generation\n",
        "\n",
        "The dataset is an important part of the Deep learning training. We will modify the previous single Asian Barrier Option pricing code to handle a batch of Barrier Option pricing. "
      ]
    },
    {
      "cell_type": "markdown",
      "metadata": {
        "id": "TY_9g3tbdLiY"
      },
      "source": [
        "# TEST_ERIN"
      ]
    },
    {
      "cell_type": "code",
      "metadata": {
        "colab": {
          "base_uri": "https://localhost:8080/"
        },
        "id": "qBxT9Eida-c_",
        "outputId": "65b2d5c6-a950-46e9-e784-01861991b43d"
      },
      "source": [
        "################################# TEST ########################################\n",
        "%%writefile cupy_dataset.py\n",
        "\n",
        "import numba\n",
        "from numba import cuda\n",
        "import random\n",
        "import cupy\n",
        "import numpy as np\n",
        "import math\n",
        "import time\n",
        "import torch\n",
        "cupy.cuda.set_allocator(None)\n",
        "from torch.utils.dlpack import from_dlpack\n",
        "\n",
        "@cuda.jit\n",
        "def batch_barrier_option(d_s, T, K, B, S0, sigma, mu, r, d_normals, N_STEPS, N_PATHS, N_BATCH):\n",
        "    # ii - overall thread index\n",
        "    ii = cuda.threadIdx.x + cuda.blockIdx.x * cuda.blockDim.x\n",
        "    stride = cuda.gridDim.x * cuda.blockDim.x\n",
        "    tmp3 = math.sqrt(T/N_STEPS)\n",
        "    for i in range(ii, N_PATHS * N_BATCH, stride):\n",
        "        batch_id = i // N_PATHS\n",
        "        path_id = i % N_PATHS\n",
        "        tmp1 = mu[batch_id]*T/N_STEPS\n",
        "        tmp2 = math.exp(-r[batch_id]*T)\n",
        "        running_average = 0.0\n",
        "        s_curr = S0[batch_id]\n",
        "        for n in range(N_STEPS):\n",
        "            s_curr += tmp1 * s_curr + sigma[batch_id]*s_curr*tmp3*d_normals[path_id + batch_id * N_PATHS + n * N_PATHS * N_BATCH] # stock price\n",
        "            running_average = running_average + 1.0/(n + 1.0) * (s_curr - running_average) # average of the path\n",
        "            if i==0 and batch_id == 2:\n",
        "                print(s_curr)\n",
        "            if running_average <= B[batch_id]: # if reach barrier, drop out the path\n",
        "                break\n",
        "        payoff = running_average - K[batch_id] if running_average > K[batch_id] else 0\n",
        "        d_s[i] = tmp2 * payoff\n",
        "\n",
        "class NumbaOptionDataSet(object):\n",
        "    \n",
        "    def __init__(self, max_len=10, number_path = 1000, batch=2, threads=512, seed=15, stocks=3):\n",
        "        self.num = 0\n",
        "        self.max_length = max_len\n",
        "        self.N_PATHS = number_path\n",
        "        self.N_STEPS = 365\n",
        "        self.N_BATCH = batch\n",
        "        self.N_STOCKS = stocks\n",
        "        self.T = np.float32(1.0)\n",
        "        self.output = cupy.zeros(self.N_STOCKS*self.N_PATHS, dtype=cupy.float32) \n",
        "        self.number_of_blocks = (self.N_PATHS * self.N_STOCKS - 1) // threads + 1\n",
        "        self.number_of_threads = threads\n",
        "        cupy.random.seed(seed)\n",
        "        \n",
        "    def __len__(self):\n",
        "        return self.max_length\n",
        "        \n",
        "    def __iter__(self):\n",
        "        self.num = 0\n",
        "        return self\n",
        "    \n",
        "    def __next__(self):\n",
        "        if self.num > self.max_length:\n",
        "            raise StopIteration\n",
        "        \n",
        "        Y = cupy.zeros(self.N_BATCH, dtype=cupy.float32)\n",
        "        paras = cupy.zeros((self.N_BATCH, self.N_STOCKS * 6), dtype = cupy.float32)\n",
        "        for op in range(self.N_BATCH):\n",
        "\n",
        "          X = cupy.random.rand(6 * self.N_STOCKS, dtype=cupy.float32)\n",
        "          #X = 0.9 + cupy.random.rand(6 * self.N_STOCKS, dtype=cupy.float32)*0.1\n",
        "\n",
        "          # scale the [0, 1) random numbers to the correct range for each of the option parameters\n",
        "          X = (X * cupy.array([200.0, 0.99, 200.0, 0.4, 0.2, 0.2] * self.N_STOCKS, dtype = cupy.float32)).reshape(self.N_STOCKS, 6)\n",
        "\n",
        "          # make sure the Barrier is smaller than the Strike price\n",
        "          # X[:, 1] = X[:, 0] * X[:, 1]\n",
        "          for i in range(self.N_STOCKS):\n",
        "            paras[op,i*6:(i+1)*6] = X[i,:]\n",
        "\n",
        "          stocks_randoms_mean = cupy.zeros(self.N_STOCKS, dtype = cupy.float32)\n",
        "          rho = cupy.random.normal(0, 1, self.N_STOCKS, dtype = cupy.float32)\n",
        "\n",
        "          #stocks_randoms_cov = cupy.ones((self.N_STOCKS, self.N_STOCKS), dtype = cupy.float32)\n",
        "          #cupy.fill_diagonal(stocks_randoms_cov, rho)\n",
        "\n",
        "          #stocks_randoms_cov = (-0.99 + cupy.random.rand(self.N_STOCKS*self.N_STOCKS, dtype=cupy.float32)*2*0.99).reshape(self.N_STOCKS,self.N_STOCKS)\n",
        "          stocks_randoms_cov = cupy.array([0.3] * self.N_STOCKS*self.N_STOCKS, dtype = cupy.float32).reshape(self.N_STOCKS,self.N_STOCKS)\n",
        "          cupy.fill_diagonal(stocks_randoms_cov, 1)\n",
        "\n",
        "          num_of_randoms_each_stock = self.N_PATHS * self.N_STEPS\n",
        "          randoms_gpu = cupy.random.multivariate_normal(stocks_randoms_mean, stocks_randoms_cov,\n",
        "                                                        num_of_randoms_each_stock, dtype=cupy.float32)\n",
        "          b1_r = randoms_gpu[:,0]\n",
        "          b2_r = randoms_gpu[:,1]\n",
        "          randoms = cupy.zeros(self.N_STOCKS * self.N_PATHS * self.N_STEPS, dtype=cupy.float32)\n",
        "          interval = int((self.N_PATHS * self.N_STEPS * self.N_STOCKS) / self.N_PATHS)\n",
        "          for i in range(interval):\n",
        "            if i % 2 == 0:\n",
        "                ind = int(i/2)\n",
        "                randoms[i*self.N_PATHS:(i+1)*self.N_PATHS] = b1_r[ind:(ind+self.N_PATHS)]\n",
        "            else:\n",
        "                ind = int(i//2)\n",
        "                randoms[i*self.N_PATHS:(i+1)*self.N_PATHS] = b2_r[ind:(ind+self.N_PATHS)]\n",
        "\n",
        "          randoms = cupy.random.normal(0, 1, self.N_STOCKS * self.N_PATHS * self.N_STEPS, dtype=cupy.float32)\n",
        "          batch_barrier_option[(self.number_of_blocks,), (self.number_of_threads,)](self.output, self.T, X[:, 0], \n",
        "                                X[:, 1], X[:, 2], X[:, 3], X[:, 4], X[:, 5], randoms, self.N_STEPS, self.N_PATHS, self.N_STOCKS)\n",
        "          \n",
        "          o = self.output.reshape(self.N_STOCKS, self.N_PATHS)\n",
        "          Y[op] = o.mean(axis = 0).mean()\n",
        "\n",
        "        self.num += 1\n",
        "        return (from_dlpack(paras.toDlpack()), from_dlpack(Y.toDlpack()))\n",
        "\n",
        "\n",
        "\n",
        "# ds = NumbaOptionDataSet(10, number_path=100000, batch=3, seed=random.randint(0,100), stocks=5)\n",
        "# for i in ds:\n",
        "#     print(i[0])\n",
        "################################# TEST ########################################"
      ],
      "execution_count": 3,
      "outputs": [
        {
          "output_type": "stream",
          "text": [
            "Writing cupy_dataset.py\n"
          ],
          "name": "stdout"
        }
      ]
    },
    {
      "cell_type": "markdown",
      "metadata": {
        "id": "u2_89jOknwjH"
      },
      "source": [
        "### Model\n",
        "To map the option parameters to price, we use 6 layers of fully connected neural network with hidden dimension 512 as inspired by [this paper](https://arxiv.org/abs/1809.02233). Writing this DL price model into a file `model.py`:-"
      ]
    },
    {
      "cell_type": "markdown",
      "metadata": {
        "id": "NMHqzJycx8XH"
      },
      "source": [
        "### Modified Model"
      ]
    },
    {
      "cell_type": "code",
      "metadata": {
        "id": "ZTn7iJQryAIH",
        "colab": {
          "base_uri": "https://localhost:8080/"
        },
        "outputId": "343dd6c5-0eee-440e-c4e1-832cc5982401"
      },
      "source": [
        "%%writefile model.py\n",
        "import torch.nn as nn\n",
        "import torch.nn.functional as F\n",
        "import torch\n",
        "import numpy as np\n",
        "\n",
        "\n",
        "class Net(nn.Module):\n",
        "\n",
        "    def __init__(self, hidden=1024):\n",
        "        super(Net, self).__init__()\n",
        "        self.fc1 = nn.Linear(60, hidden) # remember to change this!\n",
        "        self.fc2 = nn.Linear(hidden, hidden)\n",
        "        self.fc3 = nn.Linear(hidden, hidden)\n",
        "        self.fc4 = nn.Linear(hidden, hidden)\n",
        "        self.fc5 = nn.Linear(hidden, hidden)\n",
        "        self.fc6 = nn.Linear(hidden, 1)\n",
        "        # self.register_buffer('norm',\n",
        "        #                      torch.tensor([200.0, 198.0, 200.0, 0.4, 0.2, 0.2,\n",
        "        #                                    200.0, 198.0, 200.0, 0.4, 0.2, 0.2,\n",
        "        #                                    200.0, 198.0, 200.0, 0.4, 0.2, 0.2])) # don't use numpy here - will give error later\n",
        "        self.register_buffer('norm',\n",
        "                             torch.tensor([200.0, 198.0, 200.0, 0.4, 0.2, 0.2]*10)) # don't use numpy here - will give error later\n",
        "\n",
        "    def forward(self, x):\n",
        "        # normalize the parameter to range [0-1] \n",
        "        x = x / self.norm\n",
        "        x = F.elu(self.fc1(x))\n",
        "        x = F.elu(self.fc2(x))\n",
        "        x = F.elu(self.fc3(x))\n",
        "        x = F.elu(self.fc4(x))\n",
        "        x = F.elu(self.fc5(x))\n",
        "        return self.fc6(x)"
      ],
      "execution_count": 4,
      "outputs": [
        {
          "output_type": "stream",
          "text": [
            "Writing model.py\n"
          ],
          "name": "stdout"
        }
      ]
    },
    {
      "cell_type": "markdown",
      "metadata": {
        "id": "hSPRFqyznwjI"
      },
      "source": [
        "As we know the random parameters' scaling factors, the input parameters are first scaled back to a range of (0-1) by dividing them by (200.0, 198.0, 200.0, 0.4, 0.2, 0.2). Then they are projected 5 times to the hidden dimension of 512 after the `ELu` activation function. `ELu` is chosen because we need to compute the second order differentiation of the parameters. If use ReLu, the second order differentiation will always be zero. The last layer is a linear layer that maps the hidden dimension to the predicted option price. "
      ]
    },
    {
      "cell_type": "markdown",
      "metadata": {
        "id": "AM8J2liPnwjJ"
      },
      "source": [
        "For training, we use [Ignite](https://github.com/pytorch/ignite) which is a high-level library to train neural networks in PyTorch. We use `MSELoss` as the loss function, `Adam` as the optimizer and `CosineAnnealingScheduler` as the learning rate scheduler. The following code is feeding the random option data to the pricing model to train it."
      ]
    },
    {
      "cell_type": "markdown",
      "metadata": {
        "id": "yACi4ge13_rd"
      },
      "source": [
        "### Train"
      ]
    },
    {
      "cell_type": "code",
      "metadata": {
        "id": "1TyZT8_AH35M",
        "colab": {
          "base_uri": "https://localhost:8080/"
        },
        "outputId": "bf13803a-b4cf-49f7-f97e-4f94c9472ccd"
      },
      "source": [
        "!pip install pytorch-ignite"
      ],
      "execution_count": 5,
      "outputs": [
        {
          "output_type": "stream",
          "text": [
            "Collecting pytorch-ignite\n",
            "\u001b[?25l  Downloading https://files.pythonhosted.org/packages/cc/c3/f472843797b5ccbb2f0e806a6927f52c7c9522bfcea8e7e881d39258368b/pytorch_ignite-0.4.5-py3-none-any.whl (221kB)\n",
            "\r\u001b[K     |█▌                              | 10kB 20.2MB/s eta 0:00:01\r\u001b[K     |███                             | 20kB 27.1MB/s eta 0:00:01\r\u001b[K     |████▍                           | 30kB 32.2MB/s eta 0:00:01\r\u001b[K     |██████                          | 40kB 24.4MB/s eta 0:00:01\r\u001b[K     |███████▍                        | 51kB 15.3MB/s eta 0:00:01\r\u001b[K     |████████▉                       | 61kB 13.0MB/s eta 0:00:01\r\u001b[K     |██████████▍                     | 71kB 14.5MB/s eta 0:00:01\r\u001b[K     |███████████▉                    | 81kB 14.5MB/s eta 0:00:01\r\u001b[K     |█████████████▎                  | 92kB 13.0MB/s eta 0:00:01\r\u001b[K     |██████████████▉                 | 102kB 13.9MB/s eta 0:00:01\r\u001b[K     |████████████████▎               | 112kB 13.9MB/s eta 0:00:01\r\u001b[K     |█████████████████▊              | 122kB 13.9MB/s eta 0:00:01\r\u001b[K     |███████████████████▏            | 133kB 13.9MB/s eta 0:00:01\r\u001b[K     |████████████████████▊           | 143kB 13.9MB/s eta 0:00:01\r\u001b[K     |██████████████████████▏         | 153kB 13.9MB/s eta 0:00:01\r\u001b[K     |███████████████████████▋        | 163kB 13.9MB/s eta 0:00:01\r\u001b[K     |█████████████████████████▏      | 174kB 13.9MB/s eta 0:00:01\r\u001b[K     |██████████████████████████▋     | 184kB 13.9MB/s eta 0:00:01\r\u001b[K     |████████████████████████████    | 194kB 13.9MB/s eta 0:00:01\r\u001b[K     |█████████████████████████████▋  | 204kB 13.9MB/s eta 0:00:01\r\u001b[K     |███████████████████████████████ | 215kB 13.9MB/s eta 0:00:01\r\u001b[K     |████████████████████████████████| 225kB 13.9MB/s \n",
            "\u001b[?25hRequirement already satisfied: torch<2,>=1.3 in /usr/local/lib/python3.7/dist-packages (from pytorch-ignite) (1.9.0+cu102)\n",
            "Requirement already satisfied: typing-extensions in /usr/local/lib/python3.7/dist-packages (from torch<2,>=1.3->pytorch-ignite) (3.7.4.3)\n",
            "Installing collected packages: pytorch-ignite\n",
            "Successfully installed pytorch-ignite-0.4.5\n"
          ],
          "name": "stdout"
        }
      ]
    },
    {
      "cell_type": "code",
      "metadata": {
        "id": "G4Ej82G8nwjJ",
        "colab": {
          "base_uri": "https://localhost:8080/"
        },
        "outputId": "aeadf063-cb9d-4115-ca8b-80bfa6aa45a0"
      },
      "source": [
        "from ignite.engine import Engine, Events\n",
        "from ignite.handlers import Timer\n",
        "from torch.nn import MSELoss\n",
        "from torch.optim import Adam\n",
        "from ignite.contrib.handlers.param_scheduler import CosineAnnealingScheduler\n",
        "from ignite.handlers import ModelCheckpoint\n",
        "from model import Net\n",
        "from cupy_dataset import NumbaOptionDataSet\n",
        "timer = Timer(average=True)\n",
        "model = Net().cuda()\n",
        "loss_fn = MSELoss()\n",
        "optimizer = Adam(model.parameters(), lr=1e-3)\n",
        "# dataset = NumbaOptionDataSet(max_len=10000, number_path = 1024, batch=4800)\n",
        "dataset = NumbaOptionDataSet(max_len=100, number_path = 1024, batch=16, stocks=10)\n",
        "\n",
        "def train_update(engine, batch):\n",
        "    model.train()\n",
        "    optimizer.zero_grad()\n",
        "    x = batch[0]\n",
        "    y = batch[1]\n",
        "    y_pred = model(x)\n",
        "    loss = loss_fn(y_pred[:,0], y)\n",
        "    loss.backward()\n",
        "    optimizer.step()\n",
        "    return loss.item()\n",
        "\n",
        "trainer = Engine(train_update)\n",
        "log_interval = 100\n",
        "\n",
        "scheduler = CosineAnnealingScheduler(optimizer, 'lr', 1e-4, 1e-6, len(dataset))\n",
        "trainer.add_event_handler(Events.ITERATION_STARTED, scheduler)\n",
        "timer.attach(trainer,\n",
        "             start=Events.EPOCH_STARTED,\n",
        "             resume=Events.ITERATION_STARTED,\n",
        "             pause=Events.ITERATION_COMPLETED,\n",
        "             step=Events.ITERATION_COMPLETED)    \n",
        "@trainer.on(Events.ITERATION_COMPLETED)\n",
        "def log_training_loss(engine):\n",
        "    iter = (engine.state.iteration - 1) % len(dataset) + 1\n",
        "    if iter % log_interval == 0:\n",
        "        print('loss', engine.state.output, 'average time', timer.value(), 'iter num', iter)\n",
        "        \n",
        "trainer.run(dataset, max_epochs=300)"
      ],
      "execution_count": 22,
      "outputs": [
        {
          "output_type": "stream",
          "text": [
            "loss 303.23748779296875 average time 0.008034856130016123 iter num 100\n",
            "loss 234.1334991455078 average time 0.008100629409964312 iter num 100\n",
            "loss 53.61421585083008 average time 0.008170115699977032 iter num 100\n",
            "loss 81.87948608398438 average time 0.008177746760011359 iter num 100\n",
            "loss 18.34607696533203 average time 0.008145604119890777 iter num 100\n",
            "loss 53.31464385986328 average time 0.008111063150081463 iter num 100\n",
            "loss 51.216434478759766 average time 0.00818383220999749 iter num 100\n",
            "loss 36.55934143066406 average time 0.008294617319825193 iter num 100\n",
            "loss 40.44537353515625 average time 0.00845836643995426 iter num 100\n",
            "loss 44.841575622558594 average time 0.008696041659950424 iter num 100\n",
            "loss 34.50199890136719 average time 0.008125760250113672 iter num 100\n",
            "loss 47.69036102294922 average time 0.008234533630020451 iter num 100\n",
            "loss 60.41330337524414 average time 0.008038866259939824 iter num 100\n",
            "loss 23.74372100830078 average time 0.00804449150004075 iter num 100\n",
            "loss 76.9830093383789 average time 0.008123254109996196 iter num 100\n",
            "loss 57.077728271484375 average time 0.008019701000011991 iter num 100\n",
            "loss 46.31510925292969 average time 0.00823452874987197 iter num 100\n",
            "loss 35.33603286743164 average time 0.008115759920037817 iter num 100\n",
            "loss 44.92732238769531 average time 0.008078957529942272 iter num 100\n",
            "loss 76.98106384277344 average time 0.00813405919005163 iter num 100\n",
            "loss 34.507781982421875 average time 0.008110632639836695 iter num 100\n",
            "loss 54.651283264160156 average time 0.008118523439934506 iter num 100\n",
            "loss 61.78301239013672 average time 0.008230409610023344 iter num 100\n",
            "loss 41.49278259277344 average time 0.008117333780028275 iter num 100\n",
            "loss 60.056907653808594 average time 0.008225054549966445 iter num 100\n",
            "loss 39.674354553222656 average time 0.008551799710003251 iter num 100\n",
            "loss 40.92711639404297 average time 0.00807319568017192 iter num 100\n",
            "loss 74.32640075683594 average time 0.008186401990042214 iter num 100\n",
            "loss 60.659461975097656 average time 0.008353660879984091 iter num 100\n",
            "loss 51.559593200683594 average time 0.008096015390110551 iter num 100\n",
            "loss 72.03429412841797 average time 0.008088610309951037 iter num 100\n",
            "loss 38.450599670410156 average time 0.007962367880027158 iter num 100\n",
            "loss 38.96019744873047 average time 0.008407956049941276 iter num 100\n",
            "loss 28.109088897705078 average time 0.00809278094993715 iter num 100\n",
            "loss 40.80097961425781 average time 0.008123084459875828 iter num 100\n",
            "loss 33.66151809692383 average time 0.00814823893004359 iter num 100\n",
            "loss 21.398292541503906 average time 0.008146728509764216 iter num 100\n",
            "loss 29.52263069152832 average time 0.008184349770108384 iter num 100\n",
            "loss 32.7337532043457 average time 0.008074608049973904 iter num 100\n",
            "loss 34.8250846862793 average time 0.00799032440994779 iter num 100\n",
            "loss 55.66707992553711 average time 0.008101652510031272 iter num 100\n",
            "loss 62.8337516784668 average time 0.008175629979978111 iter num 100\n",
            "loss 29.39590072631836 average time 0.008120008309997501 iter num 100\n",
            "loss 49.686161041259766 average time 0.00815441225997347 iter num 100\n",
            "loss 27.43294906616211 average time 0.008121234120080771 iter num 100\n",
            "loss 34.3974609375 average time 0.008452883620029751 iter num 100\n",
            "loss 51.44890594482422 average time 0.008140824239944777 iter num 100\n",
            "loss 49.81181716918945 average time 0.008158172609946633 iter num 100\n",
            "loss 45.020992279052734 average time 0.00821126277991425 iter num 100\n",
            "loss 48.9969482421875 average time 0.0082028417899528 iter num 100\n",
            "loss 44.39314270019531 average time 0.00836300430997653 iter num 100\n",
            "loss 40.23860168457031 average time 0.008088027920002787 iter num 100\n",
            "loss 27.216598510742188 average time 0.007956573510036834 iter num 100\n",
            "loss 38.744232177734375 average time 0.008150688769965199 iter num 100\n",
            "loss 41.861270904541016 average time 0.008079493330078548 iter num 100\n",
            "loss 58.04634094238281 average time 0.008063752890066098 iter num 100\n",
            "loss 33.538116455078125 average time 0.008140246750008373 iter num 100\n",
            "loss 34.06836700439453 average time 0.008077860249977675 iter num 100\n",
            "loss 25.320222854614258 average time 0.00825650737993783 iter num 100\n",
            "loss 54.408111572265625 average time 0.008024499400016793 iter num 100\n",
            "loss 52.585487365722656 average time 0.00805308238012003 iter num 100\n",
            "loss 43.552528381347656 average time 0.008592701619982109 iter num 100\n",
            "loss 30.566936492919922 average time 0.008066868349978905 iter num 100\n",
            "loss 54.92920684814453 average time 0.007947379980014374 iter num 100\n",
            "loss 47.936344146728516 average time 0.008039471350039094 iter num 100\n",
            "loss 39.6456184387207 average time 0.008054919949900067 iter num 100\n",
            "loss 34.194786071777344 average time 0.008065632660036499 iter num 100\n",
            "loss 39.495521545410156 average time 0.008041985930067313 iter num 100\n",
            "loss 31.740964889526367 average time 0.008073361429887882 iter num 100\n",
            "loss 67.83158111572266 average time 0.008222484980014997 iter num 100\n",
            "loss 74.56192016601562 average time 0.008030769869856158 iter num 100\n",
            "loss 12.600029945373535 average time 0.008093376630131387 iter num 100\n",
            "loss 43.14063262939453 average time 0.007989442590023828 iter num 100\n",
            "loss 69.75379943847656 average time 0.008025503540065983 iter num 100\n",
            "loss 32.26152038574219 average time 0.008046539300030417 iter num 100\n",
            "loss 31.545724868774414 average time 0.008210215409908414 iter num 100\n",
            "loss 30.99832534790039 average time 0.008206885070067074 iter num 100\n",
            "loss 23.154064178466797 average time 0.008060487819966511 iter num 100\n",
            "loss 34.1868782043457 average time 0.008130650140046783 iter num 100\n",
            "loss 36.04488754272461 average time 0.00842297454995787 iter num 100\n",
            "loss 45.12902069091797 average time 0.008236781029991107 iter num 100\n",
            "loss 40.31682205200195 average time 0.008142699159852782 iter num 100\n",
            "loss 49.49067306518555 average time 0.008214922819915956 iter num 100\n",
            "loss 36.100311279296875 average time 0.008066827389884566 iter num 100\n",
            "loss 77.27843475341797 average time 0.008172299340058089 iter num 100\n",
            "loss 25.880477905273438 average time 0.008102074039943546 iter num 100\n",
            "loss 29.35432243347168 average time 0.008300668619904172 iter num 100\n",
            "loss 70.31553649902344 average time 0.008103823740020744 iter num 100\n",
            "loss 20.492076873779297 average time 0.00814845286007767 iter num 100\n",
            "loss 28.00055694580078 average time 0.008182770719959081 iter num 100\n",
            "loss 66.62348175048828 average time 0.008596603749901987 iter num 100\n",
            "loss 36.04169464111328 average time 0.00813513627006614 iter num 100\n",
            "loss 73.00625610351562 average time 0.008085198020035022 iter num 100\n",
            "loss 29.976459503173828 average time 0.008146668540048268 iter num 100\n",
            "loss 64.54158782958984 average time 0.008058684609986813 iter num 100\n",
            "loss 47.40500259399414 average time 0.008605389000022114 iter num 100\n",
            "loss 30.631582260131836 average time 0.008086998509988917 iter num 100\n",
            "loss 55.598243713378906 average time 0.008167357520014774 iter num 100\n",
            "loss 34.34745788574219 average time 0.008458227350056404 iter num 100\n",
            "loss 65.44390106201172 average time 0.00833675294994464 iter num 100\n",
            "loss 58.02904510498047 average time 0.00826273292008409 iter num 100\n",
            "loss 29.73779296875 average time 0.008531283679931221 iter num 100\n",
            "loss 35.449649810791016 average time 0.008124639770085196 iter num 100\n",
            "loss 20.468242645263672 average time 0.008419653980163276 iter num 100\n",
            "loss 32.131103515625 average time 0.008114233500073169 iter num 100\n",
            "loss 55.258888244628906 average time 0.007973610540084337 iter num 100\n",
            "loss 41.138668060302734 average time 0.00820482611994521 iter num 100\n",
            "loss 30.811748504638672 average time 0.00804330493996531 iter num 100\n",
            "loss 29.51436996459961 average time 0.008249514220005949 iter num 100\n",
            "loss 21.547042846679688 average time 0.0081751150801756 iter num 100\n",
            "loss 42.803062438964844 average time 0.007928357090113422 iter num 100\n",
            "loss 38.529781341552734 average time 0.008042415600175445 iter num 100\n",
            "loss 44.9981689453125 average time 0.008074893450084346 iter num 100\n",
            "loss 35.63672637939453 average time 0.008052626410080848 iter num 100\n",
            "loss 44.63733673095703 average time 0.008217378860099416 iter num 100\n",
            "loss 63.740440368652344 average time 0.008074770179810002 iter num 100\n",
            "loss 58.19991683959961 average time 0.008183495400026004 iter num 100\n",
            "loss 30.153186798095703 average time 0.008127288360119564 iter num 100\n",
            "loss 18.876934051513672 average time 0.008293147000003956 iter num 100\n",
            "loss 67.94409942626953 average time 0.008041578389911591 iter num 100\n",
            "loss 27.802194595336914 average time 0.008128262880018156 iter num 100\n",
            "loss 51.65989685058594 average time 0.007904183779974119 iter num 100\n",
            "loss 53.39796447753906 average time 0.00819313381005486 iter num 100\n",
            "loss 53.68716812133789 average time 0.008217578430067079 iter num 100\n",
            "loss 29.008636474609375 average time 0.00813908796008036 iter num 100\n",
            "loss 49.193885803222656 average time 0.008138186100040912 iter num 100\n",
            "loss 57.477333068847656 average time 0.00796874817009666 iter num 100\n",
            "loss 61.84587097167969 average time 0.007982459789873246 iter num 100\n",
            "loss 34.4809684753418 average time 0.008047378720148117 iter num 100\n",
            "loss 27.523250579833984 average time 0.008276021030123957 iter num 100\n",
            "loss 58.258758544921875 average time 0.008090881339958287 iter num 100\n",
            "loss 48.633914947509766 average time 0.008084679980020154 iter num 100\n",
            "loss 49.873260498046875 average time 0.008034862559979957 iter num 100\n",
            "loss 39.00084686279297 average time 0.008706948339986411 iter num 100\n",
            "loss 29.51613998413086 average time 0.008233977250038152 iter num 100\n",
            "loss 53.10211181640625 average time 0.008089956880176032 iter num 100\n",
            "loss 54.16815185546875 average time 0.008723831120078103 iter num 100\n",
            "loss 35.167076110839844 average time 0.008176021550134464 iter num 100\n",
            "loss 54.454532623291016 average time 0.008091821310044907 iter num 100\n",
            "loss 35.122642517089844 average time 0.00808705971994641 iter num 100\n",
            "loss 62.94386291503906 average time 0.008309140809906239 iter num 100\n",
            "loss 57.63331985473633 average time 0.008064178839922533 iter num 100\n",
            "loss 20.172653198242188 average time 0.008170088740043865 iter num 100\n",
            "loss 50.45927810668945 average time 0.008022925499972189 iter num 100\n",
            "loss 43.08631896972656 average time 0.008020845859828114 iter num 100\n",
            "loss 86.70353698730469 average time 0.008360343799758994 iter num 100\n",
            "loss 50.65079116821289 average time 0.0081037383500734 iter num 100\n",
            "loss 24.90582275390625 average time 0.0081454854200274 iter num 100\n",
            "loss 40.27150344848633 average time 0.008108341889965232 iter num 100\n",
            "loss 35.304969787597656 average time 0.007993995160068152 iter num 100\n",
            "loss 48.80284118652344 average time 0.008019157870112394 iter num 100\n",
            "loss 33.9094123840332 average time 0.008050106540104025 iter num 100\n",
            "loss 43.808258056640625 average time 0.008065901039917662 iter num 100\n",
            "loss 53.614891052246094 average time 0.008066301960025158 iter num 100\n",
            "loss 45.39091491699219 average time 0.0080306970599122 iter num 100\n",
            "loss 32.29217529296875 average time 0.008107955869818398 iter num 100\n",
            "loss 33.95355987548828 average time 0.00807761844000197 iter num 100\n",
            "loss 34.10855484008789 average time 0.008129984079860151 iter num 100\n",
            "loss 21.7734317779541 average time 0.008158084610222431 iter num 100\n",
            "loss 43.35725402832031 average time 0.008341178100126854 iter num 100\n",
            "loss 44.57796096801758 average time 0.008065364450012567 iter num 100\n",
            "loss 28.842304229736328 average time 0.00800104244008253 iter num 100\n",
            "loss 20.169525146484375 average time 0.008099124709988246 iter num 100\n",
            "loss 38.280738830566406 average time 0.008553011610165412 iter num 100\n",
            "loss 26.006561279296875 average time 0.008030819660161797 iter num 100\n",
            "loss 57.91952133178711 average time 0.008112917049984389 iter num 100\n",
            "loss 67.6416244506836 average time 0.008500722910139303 iter num 100\n",
            "loss 21.51764678955078 average time 0.008082442150043789 iter num 100\n",
            "loss 33.71759033203125 average time 0.00799823902991193 iter num 100\n",
            "loss 44.02230453491211 average time 0.008092045890152803 iter num 100\n",
            "loss 54.13186264038086 average time 0.008067964469846629 iter num 100\n",
            "loss 65.80049133300781 average time 0.007983058459831226 iter num 100\n",
            "loss 48.20000457763672 average time 0.008320918699682807 iter num 100\n",
            "loss 41.14781951904297 average time 0.008022391209924535 iter num 100\n",
            "loss 41.99833297729492 average time 0.00805491659026302 iter num 100\n",
            "loss 19.914592742919922 average time 0.007944528429907222 iter num 100\n",
            "loss 30.82138442993164 average time 0.008206083920013043 iter num 100\n",
            "loss 40.34733581542969 average time 0.007981674440088682 iter num 100\n",
            "loss 32.326866149902344 average time 0.00812461286001053 iter num 100\n",
            "loss 24.131519317626953 average time 0.00813093202013988 iter num 100\n",
            "loss 27.69122314453125 average time 0.008612547209886544 iter num 100\n",
            "loss 48.570411682128906 average time 0.008292103339881578 iter num 100\n",
            "loss 32.714141845703125 average time 0.00818913445011276 iter num 100\n",
            "loss 58.282020568847656 average time 0.00815637929008517 iter num 100\n",
            "loss 26.339427947998047 average time 0.008108986969891702 iter num 100\n",
            "loss 48.91944885253906 average time 0.008141269370062218 iter num 100\n",
            "loss 22.580244064331055 average time 0.008120326180178382 iter num 100\n",
            "loss 18.323402404785156 average time 0.008396599180086924 iter num 100\n",
            "loss 37.30451965332031 average time 0.008701438250136561 iter num 100\n",
            "loss 26.978130340576172 average time 0.00812041267985478 iter num 100\n",
            "loss 17.9988956451416 average time 0.008102547710113867 iter num 100\n",
            "loss 16.60284423828125 average time 0.0081351352400452 iter num 100\n",
            "loss 35.43721008300781 average time 0.008003014380010427 iter num 100\n",
            "loss 25.184358596801758 average time 0.00808072372990864 iter num 100\n",
            "loss 13.837749481201172 average time 0.008080269309903087 iter num 100\n",
            "loss 36.758644104003906 average time 0.008698827179941873 iter num 100\n",
            "loss 15.231847763061523 average time 0.00805972848971578 iter num 100\n",
            "loss 11.247307777404785 average time 0.00818257899984019 iter num 100\n",
            "loss 15.668456077575684 average time 0.008100525680056307 iter num 100\n",
            "loss 11.695932388305664 average time 0.008049619949924819 iter num 100\n",
            "loss 12.397597312927246 average time 0.008128383799958101 iter num 100\n",
            "loss 11.666473388671875 average time 0.008063351580094604 iter num 100\n",
            "loss 9.329017639160156 average time 0.008122776979980699 iter num 100\n",
            "loss 11.326508522033691 average time 0.008087745519915188 iter num 100\n",
            "loss 5.838667869567871 average time 0.008137589679936354 iter num 100\n",
            "loss 6.337447166442871 average time 0.008129045710011268 iter num 100\n",
            "loss 5.639461994171143 average time 0.00806519137990108 iter num 100\n",
            "loss 7.448593616485596 average time 0.008315453590148536 iter num 100\n",
            "loss 10.022026062011719 average time 0.008087886080029421 iter num 100\n",
            "loss 2.8999218940734863 average time 0.008044175709910633 iter num 100\n",
            "loss 2.6525967121124268 average time 0.008093656230121269 iter num 100\n",
            "loss 5.5394463539123535 average time 0.008209233639863669 iter num 100\n",
            "loss 3.970593214035034 average time 0.00810265231964877 iter num 100\n",
            "loss 1.9262067079544067 average time 0.008165931230141723 iter num 100\n",
            "loss 7.605729103088379 average time 0.008215323739859741 iter num 100\n",
            "loss 2.8805670738220215 average time 0.008110693209928285 iter num 100\n",
            "loss 4.740337371826172 average time 0.00836744711992651 iter num 100\n",
            "loss 5.385188102722168 average time 0.00813898036005412 iter num 100\n",
            "loss 4.011033058166504 average time 0.008120815500078607 iter num 100\n",
            "loss 6.58607292175293 average time 0.007934615129961457 iter num 100\n",
            "loss 3.224271535873413 average time 0.007941859499951534 iter num 100\n",
            "loss 5.106851100921631 average time 0.008109103719980339 iter num 100\n",
            "loss 1.9729996919631958 average time 0.007975267149959109 iter num 100\n",
            "loss 3.437804937362671 average time 0.008154496420065698 iter num 100\n",
            "loss 3.8632447719573975 average time 0.008043169359843887 iter num 100\n",
            "loss 2.8766889572143555 average time 0.008475498419866199 iter num 100\n",
            "loss 5.789254665374756 average time 0.008012760629862897 iter num 100\n",
            "loss 4.57478666305542 average time 0.008073813910232274 iter num 100\n",
            "loss 5.790346145629883 average time 0.008027988920039206 iter num 100\n",
            "loss 3.6131410598754883 average time 0.007948294109737616 iter num 100\n",
            "loss 5.5741400718688965 average time 0.008054434719888377 iter num 100\n",
            "loss 7.319239616394043 average time 0.008069272579923563 iter num 100\n",
            "loss 6.506725311279297 average time 0.008041901960132236 iter num 100\n",
            "loss 1.5814783573150635 average time 0.008120589729951461 iter num 100\n",
            "loss 2.8303275108337402 average time 0.008013166359705792 iter num 100\n",
            "loss 4.0884246826171875 average time 0.008116123340223567 iter num 100\n",
            "loss 3.970391273498535 average time 0.008216483699688979 iter num 100\n",
            "loss 2.644136428833008 average time 0.008017054869997082 iter num 100\n",
            "loss 7.1147003173828125 average time 0.008575289340042218 iter num 100\n",
            "loss 3.580031633377075 average time 0.008027369740193534 iter num 100\n",
            "loss 3.9507853984832764 average time 0.008249342429771787 iter num 100\n",
            "loss 1.9342085123062134 average time 0.008103711620460672 iter num 100\n",
            "loss 4.34352445602417 average time 0.00805248948992812 iter num 100\n",
            "loss 6.192610263824463 average time 0.008034877779828094 iter num 100\n",
            "loss 3.637965440750122 average time 0.00804950676014414 iter num 100\n",
            "loss 5.489809036254883 average time 0.008059569529905275 iter num 100\n",
            "loss 3.916172504425049 average time 0.007995219269942027 iter num 100\n",
            "loss 6.003042221069336 average time 0.008086769879882922 iter num 100\n",
            "loss 3.91078519821167 average time 0.007996353849848674 iter num 100\n",
            "loss 8.696883201599121 average time 0.008038509259640704 iter num 100\n",
            "loss 3.9906492233276367 average time 0.008096477839862927 iter num 100\n",
            "loss 4.812880516052246 average time 0.008016943020083999 iter num 100\n",
            "loss 4.47882080078125 average time 0.008031760430167196 iter num 100\n",
            "loss 3.8693904876708984 average time 0.008087996360045509 iter num 100\n",
            "loss 4.1992411613464355 average time 0.008187973180320114 iter num 100\n",
            "loss 3.9287798404693604 average time 0.008288944999912928 iter num 100\n",
            "loss 2.1681222915649414 average time 0.00869577412999206 iter num 100\n",
            "loss 5.697703838348389 average time 0.008312403290074145 iter num 100\n",
            "loss 1.0040444135665894 average time 0.007994422449919512 iter num 100\n",
            "loss 3.455465078353882 average time 0.008032465940050314 iter num 100\n",
            "loss 2.70385479927063 average time 0.008052627790057158 iter num 100\n",
            "loss 1.6960241794586182 average time 0.008124870439969527 iter num 100\n",
            "loss 7.930771350860596 average time 0.008021847479649296 iter num 100\n",
            "loss 3.810340404510498 average time 0.008049686710037349 iter num 100\n",
            "loss 3.7799315452575684 average time 0.008682121499914501 iter num 100\n",
            "loss 3.4893271923065186 average time 0.008166151140358124 iter num 100\n",
            "loss 4.0772881507873535 average time 0.008191073979942303 iter num 100\n",
            "loss 4.217813968658447 average time 0.008118647419942136 iter num 100\n",
            "loss 5.159431457519531 average time 0.007988822510233149 iter num 100\n",
            "loss 3.729581356048584 average time 0.008067594399835797 iter num 100\n",
            "loss 3.0069055557250977 average time 0.008183100660280615 iter num 100\n",
            "loss 2.3411662578582764 average time 0.008147854099952383 iter num 100\n",
            "loss 4.0428266525268555 average time 0.008193122620286885 iter num 100\n",
            "loss 5.628401756286621 average time 0.007984597489703447 iter num 100\n",
            "loss 6.672317981719971 average time 0.008023785299665178 iter num 100\n",
            "loss 6.538495063781738 average time 0.00803022529991722 iter num 100\n",
            "loss 3.5418996810913086 average time 0.008548250510139042 iter num 100\n",
            "loss 6.879951000213623 average time 0.007994256910023978 iter num 100\n",
            "loss 2.5149717330932617 average time 0.007981439280192716 iter num 100\n",
            "loss 2.9581000804901123 average time 0.007999117900180864 iter num 100\n",
            "loss 3.2292842864990234 average time 0.00800420392992237 iter num 100\n",
            "loss 4.757018089294434 average time 0.007955149779991188 iter num 100\n",
            "loss 3.8004496097564697 average time 0.007966182160016615 iter num 100\n",
            "loss 4.306015968322754 average time 0.00803952609992848 iter num 100\n",
            "loss 4.309551239013672 average time 0.008060509570022988 iter num 100\n",
            "loss 3.218831777572632 average time 0.007955943970155204 iter num 100\n",
            "loss 4.165575981140137 average time 0.008011253500189924 iter num 100\n",
            "loss 3.384459972381592 average time 0.007979250349926588 iter num 100\n",
            "loss 8.088719367980957 average time 0.007979557299950101 iter num 100\n",
            "loss 2.7097830772399902 average time 0.008020804869884159 iter num 100\n",
            "loss 4.251108169555664 average time 0.008278223309898749 iter num 100\n",
            "loss 3.34539794921875 average time 0.008196766929904698 iter num 100\n",
            "loss 1.9988689422607422 average time 0.008030827280017548 iter num 100\n",
            "loss 2.2264766693115234 average time 0.008047883050167001 iter num 100\n",
            "loss 4.358580589294434 average time 0.008136837989841297 iter num 100\n",
            "loss 3.882735252380371 average time 0.008057488699851092 iter num 100\n",
            "loss 2.034511089324951 average time 0.007994051279965789 iter num 100\n",
            "loss 2.4062609672546387 average time 0.008050297160043556 iter num 100\n",
            "loss 3.562394142150879 average time 0.00811065067005984 iter num 100\n",
            "loss 4.460245132446289 average time 0.008502115039991622 iter num 100\n"
          ],
          "name": "stdout"
        },
        {
          "output_type": "execute_result",
          "data": {
            "text/plain": [
              "State:\n",
              "\titeration: 30000\n",
              "\tepoch: 300\n",
              "\tepoch_length: 100\n",
              "\tmax_epochs: 300\n",
              "\toutput: 4.460245132446289\n",
              "\tbatch: <class 'tuple'>\n",
              "\tmetrics: <class 'dict'>\n",
              "\tdataloader: <class 'cupy_dataset.NumbaOptionDataSet'>\n",
              "\tseed: <class 'NoneType'>\n",
              "\ttimes: <class 'dict'>"
            ]
          },
          "metadata": {
            "tags": []
          },
          "execution_count": 22
        }
      ]
    },
    {
      "cell_type": "markdown",
      "metadata": {
        "id": "vU1EpGuInwjJ"
      },
      "source": [
        "The loss is keeping decreasing which means the pricing model can predict the option prices better. It takes about $12ms$ to compute one mini-batch in average, In the following sections, we will try to expore the full potentials of the GPU to accelerate the training."
      ]
    },
    {
      "cell_type": "markdown",
      "metadata": {
        "id": "ehmhDw8BUtLi"
      },
      "source": [
        "### Inference and Greeks"
      ]
    },
    {
      "cell_type": "markdown",
      "metadata": {
        "id": "Uiro43mOU0Ro"
      },
      "source": [
        "We can load the model parameters and use it to do inference"
      ]
    },
    {
      "cell_type": "code",
      "metadata": {
        "id": "svlu6tGTRx1F",
        "colab": {
          "base_uri": "https://localhost:8080/"
        },
        "outputId": "0c70eef1-04e4-40a6-d827-f2c8846e7f49"
      },
      "source": [
        "import torch\n",
        "inputs = torch.tensor([[110.0, 100.0, 120.0, 0.35, 0.1, 0.05]*10]).cuda()\n",
        "model(inputs.float())"
      ],
      "execution_count": 23,
      "outputs": [
        {
          "output_type": "execute_result",
          "data": {
            "text/plain": [
              "tensor([[8.8888]], device='cuda:0', grad_fn=<AddmmBackward>)"
            ]
          },
          "metadata": {
            "tags": []
          },
          "execution_count": 23
        }
      ]
    },
    {
      "cell_type": "markdown",
      "metadata": {
        "id": "M1Iy-9pWVRDO"
      },
      "source": [
        "One of the benefits of building a deep learning model is that the [Greeks](<https://en.wikipedia.org/wiki/Greeks_(finance)#First-order_Greeks>) can be easily computed. \n",
        "We just need to take advantage of the auto-grad feature in Pytorch. We can use `grad` function to compute the first order differentiation for parameters 'K, B, S0, sigma, mu, r'"
      ]
    },
    {
      "cell_type": "code",
      "metadata": {
        "id": "ytBZaYHKSnDu",
        "colab": {
          "base_uri": "https://localhost:8080/"
        },
        "outputId": "d355b707-76cf-4ae1-fef1-990a1cfaced0"
      },
      "source": [
        "inputs = torch.tensor([[110.0, 100.0, 120.0, 0.35, 0.1, 0.05]*10]).cuda()\n",
        "inputs.requires_grad = True\n",
        "x = model(inputs.float())\n",
        "x.backward()\n",
        "first_order_gradient = inputs.grad\n",
        "first_order_gradient"
      ],
      "execution_count": 25,
      "outputs": [
        {
          "output_type": "execute_result",
          "data": {
            "text/plain": [
              "tensor([[-3.3190e-02, -6.8024e-03,  4.0406e-02,  7.1551e-01,  3.6934e+00,\n",
              "         -4.2241e+00, -2.4204e-02,  1.0757e-03,  3.2375e-02,  1.5809e+00,\n",
              "         -3.6054e-01, -2.0697e+00, -2.2368e-02, -1.2811e-02,  2.9612e-02,\n",
              "          1.3492e+00,  3.7432e+00, -3.5720e+00, -4.5685e-02, -1.5914e-02,\n",
              "          5.4077e-02,  1.1930e+00,  5.8875e+00, -6.2974e+00, -3.8035e-02,\n",
              "         -1.5457e-02,  4.5165e-02,  2.1995e+00,  2.5406e+00,  4.9683e-01,\n",
              "         -2.9481e-02, -6.5766e-03,  3.9756e-02,  1.4767e+00,  6.2216e+00,\n",
              "         -2.9301e+00, -3.7061e-02, -6.9420e-03,  4.0077e-02,  1.3633e+00,\n",
              "          3.2187e+00, -6.3199e+00, -3.3045e-02, -7.0926e-03,  4.1046e-02,\n",
              "          1.2168e+00, -3.5831e-01, -1.4971e+00, -3.8251e-02, -2.8914e-03,\n",
              "          4.1947e-02,  1.0327e+00, -5.8363e-01, -2.0951e+00, -4.3308e-02,\n",
              "         -1.6717e-02,  4.8837e-02,  8.8746e-01,  4.5664e+00, -7.4679e+00]],\n",
              "       device='cuda:0')"
            ]
          },
          "metadata": {
            "tags": []
          },
          "execution_count": 25
        }
      ]
    },
    {
      "cell_type": "markdown",
      "metadata": {
        "id": "8KeijaDDVZGd"
      },
      "source": [
        "Here we are going to plot the Delta graph:-"
      ]
    },
    {
      "cell_type": "code",
      "metadata": {
        "id": "USh3qaADSYQp",
        "colab": {
          "base_uri": "https://localhost:8080/",
          "height": 296
        },
        "outputId": "82990993-aded-4ce8-a69f-5477169a7aed"
      },
      "source": [
        "%matplotlib inline\n",
        "from torch.autograd import grad\n",
        "import pylab\n",
        "import numpy as np\n",
        "def compute_delta(S):\n",
        "    inputs = torch.tensor([[110.0, 100.0, S, 0.35, 0.1, 0.05] + ([110.0, 100.0, 120.0, 0.35, 0.1, 0.05]*9)]).cuda()\n",
        "    inputs.requires_grad = True\n",
        "    x = model(inputs.float())\n",
        "    #x = model(inputs)\n",
        "    x.backward()\n",
        "    first_order_gradient = inputs.grad\n",
        "    return first_order_gradient[0][2]\n",
        "prices = np.arange(10, 300, 0.1)\n",
        "deltas = []\n",
        "for p in prices:\n",
        "    deltas.append(compute_delta(p).item())\n",
        "fig = pylab.plot(prices, deltas)\n",
        "pylab.xlabel('prices')\n",
        "pylab.ylabel('Delta')\n",
        "fig"
      ],
      "execution_count": 31,
      "outputs": [
        {
          "output_type": "execute_result",
          "data": {
            "text/plain": [
              "[<matplotlib.lines.Line2D at 0x7f7252d27cd0>]"
            ]
          },
          "metadata": {
            "tags": []
          },
          "execution_count": 31
        },
        {
          "output_type": "display_data",
          "data": {
            "image/png": "[encoded data removed]",
            "text/plain": [
              "<Figure size 432x288 with 1 Axes>"
            ]
          },
          "metadata": {
            "tags": [],
            "needs_background": "light"
          }
        }
      ]
    },
    {
      "cell_type": "markdown",
      "metadata": {
        "id": "oLO_5nEGVcEc"
      },
      "source": [
        "Calculating the second order derivative is easy in PyTorch too. We just need to apply the `grad` function twice. Use this mechanism, we can calculate the second order derivatives $\\frac{\\partial^2 P}{\\partial K \\partial S_0}$, $\\frac{\\partial^2 P}{\\partial B \\partial S_0}$, $\\frac{\\partial^2 P}{\\partial S_0^2}$, $\\frac{\\partial^2 P}{\\partial \\sigma \\partial S_0}$, $\\frac{\\partial^2 P}{\\partial \\mu \\partial S_0}$, $\\frac{\\partial^2 P}{\\partial r \\partial S_0}$ in the following example."
      ]
    },
    {
      "cell_type": "code",
      "metadata": {
        "id": "nGzj7A3sThZK",
        "colab": {
          "base_uri": "https://localhost:8080/"
        },
        "outputId": "7c2610c6-e8e4-4d3b-9611-1dbd360afb13"
      },
      "source": [
        "import torch\n",
        "from torch import Tensor\n",
        "from torch.autograd import Variable\n",
        "from torch.autograd import grad\n",
        "from torch import nn\n",
        "\n",
        "inputs = torch.tensor([[110.0, 100.0, 120.0, 0.35, 0.1, 0.05]*10]).cuda()\n",
        "inputs.requires_grad = True\n",
        "x = model(inputs)\n",
        "\n",
        "# instead of using loss.backward(), use torch.autograd.grad() to compute gradients\n",
        "# https://pytorch.org/docs/stable/autograd.html#torch.autograd.grad\n",
        "loss_grads = grad(x, inputs, create_graph=True)\n",
        "drv = grad(loss_grads[0][0][2], inputs)\n",
        "drv"
      ],
      "execution_count": 32,
      "outputs": [
        {
          "output_type": "execute_result",
          "data": {
            "text/plain": [
              "(tensor([[-7.4465e-04, -2.8638e-05,  7.6823e-04, -5.3477e-04,  6.2361e-02,\n",
              "          -8.0012e-02, -5.9937e-05, -3.7046e-05,  5.7979e-05,  6.5147e-03,\n",
              "          -9.4844e-04, -5.9900e-03, -5.4921e-05, -5.1203e-05,  6.7252e-05,\n",
              "           1.0131e-03,  1.1272e-02, -1.3352e-02, -7.1744e-05, -7.1100e-05,\n",
              "           7.4695e-05,  4.8369e-03,  1.0527e-02, -1.1261e-02, -4.7681e-05,\n",
              "          -2.8765e-05,  4.6975e-05,  5.1215e-03,  6.1947e-03,  8.5363e-03,\n",
              "          -5.1383e-05,  4.6382e-06,  6.0869e-05,  3.7714e-04,  9.8458e-03,\n",
              "          -4.3109e-03, -6.8546e-05,  3.0225e-05,  5.1435e-05,  5.3562e-03,\n",
              "           8.3908e-03, -1.8440e-02, -3.8319e-05, -1.7639e-05,  4.1045e-05,\n",
              "           7.1630e-03, -3.8234e-03, -3.3764e-03, -2.5716e-05, -1.5380e-05,\n",
              "           2.7715e-05,  1.7978e-03,  1.8710e-03, -2.2327e-03, -5.2896e-05,\n",
              "          -3.2788e-05,  6.4109e-05,  8.7442e-05,  4.0136e-03, -1.4433e-02]],\n",
              "        device='cuda:0'),)"
            ]
          },
          "metadata": {
            "tags": []
          },
          "execution_count": 32
        }
      ]
    },
    {
      "cell_type": "markdown",
      "metadata": {
        "id": "WJbZYtvhVmSo"
      },
      "source": [
        "Gamma is the second order differenation of `S`. We can plot the the Gamma curve as a function of the stock price"
      ]
    },
    {
      "cell_type": "code",
      "metadata": {
        "id": "3JpQa3EJToA0",
        "colab": {
          "base_uri": "https://localhost:8080/",
          "height": 296
        },
        "outputId": "73260606-f944-41ab-f4e2-cf65e33f19e0"
      },
      "source": [
        "import pylab\n",
        "import numpy as np\n",
        "def compute_gamma(S):\n",
        "    inputs = torch.tensor([[110.0, 100.0, S, 0.35, 0.1, 0.05] + ([110.0, 100.0, 120.0, 0.35, 0.1, 0.05]*9)]).cuda()\n",
        "    inputs.requires_grad = True\n",
        "    x = model(inputs.float())\n",
        "    #x = model(inputs)\n",
        "    loss_grads = grad(x, inputs, create_graph=True)\n",
        "    drv = grad(loss_grads[0][0][2], inputs)\n",
        "    return drv[0][0][2]\n",
        "\n",
        "prices = np.arange(10, 250, 0.1)\n",
        "deltas = []\n",
        "for p in prices:\n",
        "    deltas.append(compute_gamma(p).item())\n",
        "fig2 = pylab.plot(prices, deltas)\n",
        "pylab.xlabel('prices')\n",
        "pylab.ylabel('Gamma')\n",
        "fig2"
      ],
      "execution_count": 34,
      "outputs": [
        {
          "output_type": "execute_result",
          "data": {
            "text/plain": [
              "[<matplotlib.lines.Line2D at 0x7f7252c7d990>]"
            ]
          },
          "metadata": {
            "tags": []
          },
          "execution_count": 34
        },
        {
          "output_type": "display_data",
          "data": {
            "image/png": "[encoded data removed]",
            "text/plain": [
              "<Figure size 432x288 with 1 Axes>"
            ]
          },
          "metadata": {
            "tags": [],
            "needs_background": "light"
          }
        }
      ]
    },
    {
      "cell_type": "markdown",
      "metadata": {
        "id": "Rj7NlW6GVqSA"
      },
      "source": [
        "[Implied volatility](https://en.wikipedia.org/wiki/Implied_volatility) is the forecasted volatility of the underlying asset based on the quoted prices of the option. It is the reverse mapping of price to the option parameter given the model which is hard to do with the Monte Carlo simulation approach. But if we have the deep learning pricing model, it is an easy task. We can first plot the relationship between volatility and the option price"
      ]
    },
    {
      "cell_type": "code",
      "metadata": {
        "id": "4yrCw5UNT07t",
        "colab": {
          "base_uri": "https://localhost:8080/",
          "height": 296
        },
        "outputId": "ddd6f478-7d5a-4bc5-d51b-899c8508aa01"
      },
      "source": [
        "import pylab\n",
        "import numpy as np\n",
        "def compute_price(sigma):\n",
        "    inputs = torch.tensor([[110.0, 100.0, 120.0, sigma, 0.1, 0.05] + ([110.0, 100.0, 120.0, 0.35, 0.1, 0.05]*9)]).cuda()\n",
        "    x = model(inputs.float())\n",
        "    #x = model(inputs)\n",
        "    return x.item()\n",
        "sigmas = np.arange(0, 0.5, 0.1)\n",
        "prices = []\n",
        "for s in sigmas:\n",
        "    prices.append(compute_price(s))\n",
        "fig3 = pylab.plot(sigmas, prices)\n",
        "pylab.xlabel('Sigma')\n",
        "pylab.ylabel('Price')\n",
        "fig3"
      ],
      "execution_count": 35,
      "outputs": [
        {
          "output_type": "execute_result",
          "data": {
            "text/plain": [
              "[<matplotlib.lines.Line2D at 0x7f7252bb0790>]"
            ]
          },
          "metadata": {
            "tags": []
          },
          "execution_count": 35
        },
        {
          "output_type": "display_data",
          "data": {
            "image/png": "[encoded data removed]",
            "text/plain": [
              "<Figure size 432x288 with 1 Axes>"
            ]
          },
          "metadata": {
            "tags": [],
            "needs_background": "light"
          }
        }
      ]
    },
    {
      "cell_type": "markdown",
      "metadata": {
        "id": "EU25Cj29VtCa"
      },
      "source": [
        "Given the prices `P`, the implied volatility is the root of the function `compute_price`. We can use bisection to find the root."
      ]
    },
    {
      "cell_type": "code",
      "metadata": {
        "id": "ddHnwm_zUBYD",
        "colab": {
          "base_uri": "https://localhost:8080/",
          "height": 229
        },
        "outputId": "98963f21-9fdc-43cd-e214-a56278b4471b"
      },
      "source": [
        "def bisection_root(small, large, fun, target, EPS=1e-6):\n",
        "    if fun(large) - target < 0:\n",
        "        print('upper bound is too small')\n",
        "        return None\n",
        "    if fun(small) - target > 0:\n",
        "        print('lower bound is too large')\n",
        "        return None\n",
        "    while large - small > EPS:\n",
        "        mid = (large + small) / 2.0\n",
        "        if fun(mid) - target >= 0:\n",
        "            large = mid\n",
        "        else:\n",
        "            small = mid\n",
        "    mid = (large + small) / 2.0\n",
        "    return mid, abs(fun(mid) - target)\n",
        "quoted_price = 16.0\n",
        "sigma, err = bisection_root(0, 0.5, compute_price, quoted_price)\n",
        "print('implied volativity', sigma, 'error', err)     "
      ],
      "execution_count": 36,
      "outputs": [
        {
          "output_type": "stream",
          "text": [
            "upper bound is too small\n"
          ],
          "name": "stdout"
        },
        {
          "output_type": "error",
          "ename": "TypeError",
          "evalue": "ignored",
          "traceback": [
            "\u001b[0;31m---------------------------------------------------------------------------\u001b[0m",
            "\u001b[0;31mTypeError\u001b[0m                                 Traceback (most recent call last)",
            "\u001b[0;32m<ipython-input-36-ade689496c71>\u001b[0m in \u001b[0;36m<module>\u001b[0;34m()\u001b[0m\n\u001b[1;32m     15\u001b[0m     \u001b[0;32mreturn\u001b[0m \u001b[0mmid\u001b[0m\u001b[0;34m,\u001b[0m \u001b[0mabs\u001b[0m\u001b[0;34m(\u001b[0m\u001b[0mfun\u001b[0m\u001b[0;34m(\u001b[0m\u001b[0mmid\u001b[0m\u001b[0;34m)\u001b[0m \u001b[0;34m-\u001b[0m \u001b[0mtarget\u001b[0m\u001b[0;34m)\u001b[0m\u001b[0;34m\u001b[0m\u001b[0;34m\u001b[0m\u001b[0m\n\u001b[1;32m     16\u001b[0m \u001b[0mquoted_price\u001b[0m \u001b[0;34m=\u001b[0m \u001b[0;36m16.0\u001b[0m\u001b[0;34m\u001b[0m\u001b[0;34m\u001b[0m\u001b[0m\n\u001b[0;32m---> 17\u001b[0;31m \u001b[0msigma\u001b[0m\u001b[0;34m,\u001b[0m \u001b[0merr\u001b[0m \u001b[0;34m=\u001b[0m \u001b[0mbisection_root\u001b[0m\u001b[0;34m(\u001b[0m\u001b[0;36m0\u001b[0m\u001b[0;34m,\u001b[0m \u001b[0;36m0.5\u001b[0m\u001b[0;34m,\u001b[0m \u001b[0mcompute_price\u001b[0m\u001b[0;34m,\u001b[0m \u001b[0mquoted_price\u001b[0m\u001b[0;34m)\u001b[0m\u001b[0;34m\u001b[0m\u001b[0;34m\u001b[0m\u001b[0m\n\u001b[0m\u001b[1;32m     18\u001b[0m \u001b[0mprint\u001b[0m\u001b[0;34m(\u001b[0m\u001b[0;34m'implied volativity'\u001b[0m\u001b[0;34m,\u001b[0m \u001b[0msigma\u001b[0m\u001b[0;34m,\u001b[0m \u001b[0;34m'error'\u001b[0m\u001b[0;34m,\u001b[0m \u001b[0merr\u001b[0m\u001b[0;34m)\u001b[0m\u001b[0;34m\u001b[0m\u001b[0;34m\u001b[0m\u001b[0m\n",
            "\u001b[0;31mTypeError\u001b[0m: cannot unpack non-iterable NoneType object"
          ]
        }
      ]
    }
  ]
}