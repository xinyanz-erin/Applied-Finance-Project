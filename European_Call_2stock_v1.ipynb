{
  "nbformat": 4,
  "nbformat_minor": 0,
  "metadata": {
    "kernelspec": {
      "display_name": "Python 3",
      "language": "python",
      "name": "python3"
    },
    "language_info": {
      "codemirror_mode": {
        "name": "ipython",
        "version": 3
      },
      "file_extension": ".py",
      "mimetype": "text/x-python",
      "name": "python",
      "nbconvert_exporter": "python",
      "pygments_lexer": "ipython3",
      "version": "3.6.9"
    },
    "colab": {
      "name": "European_Call_nstock_auto.ipynb",
      "provenance": [],
      "collapsed_sections": [
        "NwN6aLFDnwiy",
        "TY_9g3tbdLiY",
        "JIa4c_aHz15a",
        "u2_89jOknwjH"
      ],
      "include_colab_link": true
    },
    "accelerator": "GPU"
  },
  "cells": [
    {
      "cell_type": "markdown",
      "metadata": {
        "id": "view-in-github",
        "colab_type": "text"
      },
      "source": [
        "<a href=\"https://colab.research.google.com/github/xinyanz-erin/Applied-Finance-Project/blob/Erin/European_Call_2stock_v1.ipynb\" target=\"_parent\"><img src=\"https://colab.research.google.com/assets/colab-badge.svg\" alt=\"Open In Colab\"/></a>"
      ]
    },
    {
      "cell_type": "code",
      "metadata": {
        "id": "9Xk52L4czj5x"
      },
      "source": [
        "nstock = 3"
      ],
      "execution_count": 1,
      "outputs": []
    },
    {
      "cell_type": "code",
      "metadata": {
        "id": "gCR6hhw5Xq_R"
      },
      "source": [
        "import warnings\n",
        "warnings.filterwarnings('ignore')"
      ],
      "execution_count": 2,
      "outputs": []
    },
    {
      "cell_type": "code",
      "metadata": {
        "colab": {
          "base_uri": "https://localhost:8080/"
        },
        "id": "gSxOZk3ls2XQ",
        "outputId": "76506674-ec90-4f06-9c76-2da7f051e46e"
      },
      "source": [
        "!curl https://colab.chainer.org/install |sh -\n",
        "import cupy"
      ],
      "execution_count": 3,
      "outputs": [
        {
          "output_type": "stream",
          "text": [
            "  % Total    % Received % Xferd  Average Speed   Time    Time     Time  Current\n",
            "                                 Dload  Upload   Total   Spent    Left  Speed\n",
            "100  1580  100  1580    0     0   4030      0 --:--:-- --:--:-- --:--:--  4020\n",
            "+ apt -y -q install cuda-libraries-dev-10-0\n",
            "Reading package lists...\n",
            "Building dependency tree...\n",
            "Reading state information...\n",
            "cuda-libraries-dev-10-0 is already the newest version (10.0.130-1).\n",
            "The following package was automatically installed and is no longer required:\n",
            "  libnvidia-common-460\n",
            "Use 'apt autoremove' to remove it.\n",
            "0 upgraded, 0 newly installed, 0 to remove and 40 not upgraded.\n",
            "+ pip install -q cupy-cuda100  chainer \n",
            "+ set +ex\n",
            "Installation succeeded!\n"
          ],
          "name": "stdout"
        }
      ]
    },
    {
      "cell_type": "markdown",
      "metadata": {
        "id": "NwN6aLFDnwiy"
      },
      "source": [
        "### Deep Learning Barrier Option\n",
        "\n",
        "We used Numba and CuPy in the previous notebook to run Monte Carlo simulation to determine the price of the Asian Barrier option. A Monte Carlo simulation needs millions of paths to get an accurate answer which is computationally intensive. [Ryan et al (2018)](https://arxiv.org/abs/1809.02233) showed that a deep learning model can be trained to value derivatives. The deep learning model is accurate and very fast, capable of producing valuations a million times faster than traditional models. In the this notebook, we will use a fully connected network to learn the pricing mode of the Asian Barrier option. Monte Carlo simulation is used as pricing ground truth for the training. We use the same Asian Barrier Option model as last notebook with parameters listed as following:\n",
        "\n",
        "```\n",
        "T - Maturity (yrs.)\n",
        "S - Spot (usd)\n",
        "K - Strike (usd)\n",
        "sigma - Volatility (per.)\n",
        "r - Risk Free Rate (per.)\n",
        "mu - Stock Drift Rate (per.)\n",
        "B - Barrier (usd)\n",
        "```\n",
        "\n",
        "### Batched Data generation\n",
        "\n",
        "The dataset is an important part of the Deep learning training. We will modify the previous single Asian Barrier Option pricing code to handle a batch of Barrier Option pricing. "
      ]
    },
    {
      "cell_type": "code",
      "metadata": {
        "id": "cHYrh4iYfP-n",
        "cellView": "form"
      },
      "source": [
        "#@title\n",
        "###Test: Judy's new X code\n",
        "#N_STOCKS = 3"
      ],
      "execution_count": 4,
      "outputs": []
    },
    {
      "cell_type": "code",
      "metadata": {
        "id": "hy7qGwT0jv4A",
        "cellView": "form"
      },
      "source": [
        "#@title\n",
        "#X = cupy.array([])\n",
        "#for i in range(0,N_STOCKS):\n",
        "  #X =  cupy.concatenate((X,cupy.array([1,1]), cupy.random.rand(3),cupy.array([1])))\n",
        "#X = X.reshape(N_STOCKS,6)\n",
        "#X"
      ],
      "execution_count": 5,
      "outputs": []
    },
    {
      "cell_type": "code",
      "metadata": {
        "id": "9OHtAXC8hVae",
        "cellView": "form"
      },
      "source": [
        "#@title\n",
        "#X = X * ((cupy.array([200.0, 0, 200.0, 0.4, 0.2, 0.2] * N_STOCKS, dtype = cupy.float32)).reshape(N_STOCKS, 6))\n",
        "#X"
      ],
      "execution_count": 6,
      "outputs": []
    },
    {
      "cell_type": "markdown",
      "metadata": {
        "id": "TY_9g3tbdLiY"
      },
      "source": [
        "### Train(Erin Version)"
      ]
    },
    {
      "cell_type": "code",
      "metadata": {
        "id": "qBxT9Eida-c_"
      },
      "source": [
        "# ################################# TEST ########################################\n",
        "# %%writefile cupy_dataset.py\n",
        "\n",
        "# import numba\n",
        "# from numba import cuda\n",
        "# import random\n",
        "# import cupy\n",
        "# import numpy as np\n",
        "# import math\n",
        "# import time\n",
        "# import torch\n",
        "# cupy.cuda.set_allocator(None)\n",
        "# from torch.utils.dlpack import from_dlpack\n",
        "\n",
        "# @cuda.jit\n",
        "# def batch_barrier_option(d_s, T, K, B, S0, sigma, mu, r, d_normals, N_STEPS, N_PATHS, N_BATCH):\n",
        "#     # ii - overall thread index\n",
        "#     ii = cuda.threadIdx.x + cuda.blockIdx.x * cuda.blockDim.x\n",
        "#     stride = cuda.gridDim.x * cuda.blockDim.x\n",
        "#     tmp3 = math.sqrt(T/N_STEPS)\n",
        "#     for i in range(ii, N_PATHS * N_BATCH, stride):\n",
        "#         batch_id = i // N_PATHS\n",
        "#         path_id = i % N_PATHS\n",
        "#         tmp1 = mu[batch_id]*T/N_STEPS\n",
        "#         tmp2 = math.exp(-r[batch_id]*T)\n",
        "#         running_average = 0.0\n",
        "#         s_curr = S0[batch_id]\n",
        "#         for n in range(N_STEPS):\n",
        "#             s_curr += tmp1 * s_curr + sigma[batch_id]*s_curr*tmp3*d_normals[path_id + batch_id * N_PATHS + n * N_PATHS * N_BATCH] # stock price\n",
        "#             running_average = running_average + 1.0/(n + 1.0) * (s_curr - running_average) # average of the path\n",
        "#             if i==0 and batch_id == 2:\n",
        "#                 print(s_curr)\n",
        "#             if running_average <= B[batch_id]: # if reach barrier, drop out the path\n",
        "#                 break\n",
        "#         payoff = running_average - K[batch_id] if running_average > K[batch_id] else 0\n",
        "#         d_s[i] = tmp2 * payoff\n",
        "\n",
        "# class NumbaOptionDataSet(object):\n",
        "    \n",
        "#     def __init__(self, max_len=10, number_path = 1000, batch=2, threads=512, seed=15, stocks=3):  # 3 stocks\n",
        "#         self.num = 0\n",
        "#         self.max_length = max_len\n",
        "#         self.N_PATHS = number_path\n",
        "#         self.N_STEPS = 365\n",
        "#         self.N_BATCH = batch\n",
        "#         self.N_STOCKS = stocks\n",
        "#         self.T = np.float32(1.0)\n",
        "#         self.output = cupy.zeros(self.N_STOCKS*self.N_PATHS, dtype=cupy.float32) \n",
        "#         self.number_of_blocks = (self.N_PATHS * self.N_STOCKS - 1) // threads + 1\n",
        "#         self.number_of_threads = threads\n",
        "#         cupy.random.seed(seed)\n",
        "        \n",
        "#     def __len__(self):\n",
        "#         return self.max_length\n",
        "        \n",
        "#     def __iter__(self):\n",
        "#         self.num = 0\n",
        "#         return self\n",
        "    \n",
        "#     def __next__(self):\n",
        "#         if self.num > self.max_length:\n",
        "#             raise StopIteration\n",
        "        \n",
        "#         Y = cupy.zeros(self.N_BATCH, dtype=cupy.float32)\n",
        "#         paras = cupy.zeros((self.N_BATCH, self.N_STOCKS * 6), dtype = cupy.float32)\n",
        "#         for op in range(self.N_BATCH):\n",
        "          \n",
        "#           X = cupy.array([])\n",
        "#           K_rand = cupy.random.rand(1)[0]\n",
        "#           B_rand = cupy.random.rand(1)[0]\n",
        "#           r_rand = cupy.random.rand(1)[0]\n",
        "#           for i in range(0,self.N_STOCKS):\n",
        "#             X =  cupy.concatenate((X,cupy.array([K_rand,B_rand]), cupy.random.rand(3),cupy.array([r_rand]))) #[K,B,S0,sigma,mu,r], K B r are shared\n",
        "#           X = X.reshape(self.N_STOCKS,6)\n",
        "#           X = X * ((cupy.array([200.0, 0.1, 200.0, 0.4, 0.2, 0.2] * self.N_STOCKS, dtype = cupy.float32)).reshape(self.N_STOCKS, 6))\n",
        "#           #X = cupy.random.rand(6 * self.N_STOCKS, dtype=cupy.float32)\n",
        "#           #X = 0.9 + cupy.random.rand(6 * self.N_STOCKS, dtype=cupy.float32)*0.1\n",
        "#           # scale the [0, 1) random numbers to the correct range for each of the option parameters\n",
        "#           #X = (X * cupy.array([200.0, 0.99, 200.0, 0.4, 0.2, 0.2] * self.N_STOCKS, dtype = cupy.float32)).reshape(self.N_STOCKS, 6)\n",
        "\n",
        "#           # make sure the Barrier is smaller than the Strike price\n",
        "#           # X[:, 1] = X[:, 0] * X[:, 1]\n",
        "#           for i in range(self.N_STOCKS):\n",
        "#             paras[op,i*6:(i+1)*6] = X[i,:]\n",
        "\n",
        "#           stocks_randoms_mean = cupy.zeros(self.N_STOCKS, dtype = cupy.float32)\n",
        "#           rho = cupy.random.normal(0, 1, self.N_STOCKS, dtype = cupy.float32)\n",
        "\n",
        "#           #stocks_randoms_cov = cupy.ones((self.N_STOCKS, self.N_STOCKS), dtype = cupy.float32)\n",
        "#           #cupy.fill_diagonal(stocks_randoms_cov, rho)\n",
        "\n",
        "#           #stocks_randoms_cov = (-0.99 + cupy.random.rand(self.N_STOCKS*self.N_STOCKS, dtype=cupy.float32)*2*0.99).reshape(self.N_STOCKS,self.N_STOCKS)\n",
        "#           stocks_randoms_cov = cupy.array([1] * self.N_STOCKS*self.N_STOCKS, dtype = cupy.float32).reshape(self.N_STOCKS,self.N_STOCKS)  #Covariance\n",
        "#           cupy.fill_diagonal(stocks_randoms_cov, 1)\n",
        "\n",
        "#           num_of_randoms_each_stock = self.N_PATHS * self.N_STEPS\n",
        "#           randoms_gpu = cupy.random.multivariate_normal(stocks_randoms_mean, stocks_randoms_cov,\n",
        "#                                                         num_of_randoms_each_stock, dtype=cupy.float32)\n",
        "#           b1_r = randoms_gpu[:,0]\n",
        "#           b2_r = randoms_gpu[:,1]\n",
        "#           randoms = cupy.zeros(self.N_STOCKS * self.N_PATHS * self.N_STEPS, dtype=cupy.float32)\n",
        "#           interval = int((self.N_PATHS * self.N_STEPS * self.N_STOCKS) / self.N_PATHS)\n",
        "#           for i in range(interval):\n",
        "#             if i % 2 == 0:\n",
        "#                 ind = int(i/2)\n",
        "#                 randoms[i*self.N_PATHS:(i+1)*self.N_PATHS] = b1_r[ind:(ind+self.N_PATHS)]\n",
        "#             else:\n",
        "#                 ind = int(i//2)\n",
        "#                 randoms[i*self.N_PATHS:(i+1)*self.N_PATHS] = b2_r[ind:(ind+self.N_PATHS)]\n",
        "\n",
        "#           randoms = cupy.random.normal(0, 1, self.N_STOCKS * self.N_PATHS * self.N_STEPS, dtype=cupy.float32)\n",
        "#           batch_barrier_option[(self.number_of_blocks,), (self.number_of_threads,)](self.output, self.T, X[:, 0], \n",
        "#                                 X[:, 1], X[:, 2], X[:, 3], X[:, 4], X[:, 5], randoms, self.N_STEPS, self.N_PATHS, self.N_STOCKS)\n",
        "          \n",
        "#           o = self.output.reshape(self.N_STOCKS, self.N_PATHS)\n",
        "#           Y[op] = o.mean(axis = 0).mean()\n",
        "\n",
        "#         self.num += 1\n",
        "#         return (from_dlpack(paras.toDlpack()), from_dlpack(Y.toDlpack()))\n",
        "\n",
        "\n",
        "\n",
        "# # ds = NumbaOptionDataSet(10, number_path=100000, batch=3, seed=random.randint(0,100), stocks=5)\n",
        "# # for i in ds:\n",
        "# #     print(i[0])\n",
        "# ################################# TEST ########################################"
      ],
      "execution_count": 7,
      "outputs": []
    },
    {
      "cell_type": "markdown",
      "metadata": {
        "id": "s6dZnWTTfbf1"
      },
      "source": [
        "### Train (European Call option)"
      ]
    },
    {
      "cell_type": "code",
      "metadata": {
        "colab": {
          "base_uri": "https://localhost:8080/"
        },
        "id": "CeREuPw0fguQ",
        "outputId": "4a82509f-5bdc-4b46-c3ce-77794c3ab252"
      },
      "source": [
        "################################# TEST ########################################\n",
        "%%writefile cupy_dataset.py\n",
        "\n",
        "import numba\n",
        "from numba import cuda\n",
        "import random\n",
        "import cupy\n",
        "import numpy as np\n",
        "import math\n",
        "import time\n",
        "import torch\n",
        "cupy.cuda.set_allocator(None)\n",
        "from torch.utils.dlpack import from_dlpack\n",
        "\n",
        "@cuda.jit\n",
        "def European_call_option(d_s, T, K, S0, sigma, mu, r, d_normals, N_STEPS, N_PATHS, N_BATCH):\n",
        "    # ii - overall thread index\n",
        "    ii = cuda.threadIdx.x + cuda.blockIdx.x * cuda.blockDim.x\n",
        "    stride = cuda.gridDim.x * cuda.blockDim.x\n",
        "    #tmp3 = math.sqrt(T/N_STEPS)\n",
        "    for i in range(ii, N_PATHS * N_BATCH, stride):\n",
        "        batch_id = i // N_PATHS\n",
        "        path_id = i % N_PATHS\n",
        "        h = T[batch_id] / N_STEPS\n",
        "        tmp1 = r[batch_id]*T[batch_id]/N_STEPS \n",
        "        tmp2 = math.exp(-r[batch_id]*T[batch_id]) # discount\n",
        "        tmp3 = math.sqrt(T[batch_id]/N_STEPS)\n",
        "        #running_average = 0.0\n",
        "        s_curr = S0[batch_id]\n",
        "        for n in range(N_STEPS):\n",
        "          s_curr += tmp1 * s_curr + sigma[batch_id]*s_curr*tmp3*d_normals[path_id + batch_id * N_PATHS + n * N_PATHS * N_BATCH] # stock price\n",
        "          #s_curr = s_curr * math.exp((r[batch_id] - (1/2)*sigma[batch_id]**2)*h + sigma[batch_id] * tmp3 * d_normals[path_id + batch_id * N_PATHS + n * N_PATHS * N_BATCH])\n",
        "          #running_average = running_average + 1.0/(n + 1.0) * (s_curr - running_average) # average of the path\n",
        "          #if i==0 and batch_id == 2:\n",
        "          #    print(s_curr)\n",
        "          #if running_average <= B[batch_id]: # if reach barrier, drop out the path\n",
        "          #    break\n",
        "        #payoff = running_average - K[batch_id] if running_average > K[batch_id] else 0\n",
        "        #payoff = s_curr - K[batch_id] if s_curr > K[batch_id] else 0\n",
        "        #d_s[i] = tmp2 * payoff\n",
        "        d_s[i] = s_curr\n",
        "\n",
        "class NumbaOptionDataSet(object):\n",
        "    \n",
        "    def __init__(self, max_len=10, number_path = 1000, batch=2, threads=512, seed=15, stocks=3):  # 3 stocks\n",
        "        self.num = 0\n",
        "        self.max_length = max_len\n",
        "        self.N_PATHS = number_path\n",
        "        #self.N_STEPS = 365\n",
        "        self.N_STEPS = 10000\n",
        "        self.N_BATCH = batch\n",
        "        self.N_STOCKS = stocks\n",
        "        #self.T = np.float32(1.0)\n",
        "        self.output = cupy.zeros(self.N_STOCKS*self.N_PATHS, dtype=cupy.float32)\n",
        "        self.number_of_blocks = (self.N_PATHS * self.N_STOCKS - 1) // threads + 1\n",
        "        self.number_of_threads = threads\n",
        "        cupy.random.seed(seed)\n",
        "        \n",
        "    def __len__(self):\n",
        "        return self.max_length\n",
        "        \n",
        "    def __iter__(self):\n",
        "        self.num = 0\n",
        "        return self\n",
        "    \n",
        "    def __next__(self):\n",
        "        if self.num > self.max_length:\n",
        "            raise StopIteration\n",
        "        \n",
        "        Y = cupy.zeros(self.N_BATCH, dtype=cupy.float32)\n",
        "        paras = cupy.zeros((self.N_BATCH, self.N_STOCKS * 6), dtype = cupy.float32)\n",
        "        #paras = cupy.zeros((self.N_BATCH, self.N_STOCKS * 5), dtype = cupy.float32)\n",
        "\n",
        "        for op in range(self.N_BATCH):\n",
        "          \n",
        "          X = cupy.array([])\n",
        "          #T_rand = cupy.random.rand(1)[0]\n",
        "          K_rand = cupy.random.rand(1)\n",
        "          #B_rand = cupy.random.rand(1)[0]\n",
        "          r_rand = cupy.random.rand(1)\n",
        "          for i in range(0, self.N_STOCKS):\n",
        "            #X =  cupy.concatenate((X, cupy.array([K_rand,B_rand]), cupy.random.rand(3), cupy.array([r_rand]))) #[K,B,S0,sigma,mu,r], K B r are shared\n",
        "            X = cupy.concatenate((X, cupy.array([1.0]), K_rand, cupy.random.rand(3), r_rand))\n",
        "          \n",
        "          X = X.reshape(self.N_STOCKS, 6)\n",
        "          #X = X * ((cupy.array([200.0, 0.1, 200.0, 0.4, 0.2, 0.2] * self.N_STOCKS, dtype = cupy.float32)).reshape(self.N_STOCKS, 6))\n",
        "          #[T, K, S0, sigma, mu, r]\n",
        "          X = X * ((cupy.array([1, 150.0, 150.0, 0.4, 0.2, 0.2] * self.N_STOCKS, dtype = cupy.float32)).reshape(self.N_STOCKS, 6))\n",
        "          #X = cupy.random.rand(6 * self.N_STOCKS, dtype=cupy.float32)\n",
        "          #X = 0.9 + cupy.random.rand(6 * self.N_STOCKS, dtype=cupy.float32)*0.1\n",
        "          # scale the [0, 1) random numbers to the correct range for each of the option parameters\n",
        "          #X = (X * cupy.array([200.0, 0.99, 200.0, 0.4, 0.2, 0.2] * self.N_STOCKS, dtype = cupy.float32)).reshape(self.N_STOCKS, 6)\n",
        "\n",
        "          # make sure the Barrier is smaller than the Strike price\n",
        "          # X[:, 1] = X[:, 0] * X[:, 1]\n",
        "          for i in range(self.N_STOCKS):\n",
        "            paras[op,i*6:(i+1)*6] = X[i,:]\n",
        "            #paras[op, i*5:(i+1)*5] = X[i,:]\n",
        "\n",
        "          stocks_randoms_mean = cupy.zeros(self.N_STOCKS, dtype = cupy.float32)\n",
        "          rho = cupy.random.normal(0, 1, self.N_STOCKS, dtype = cupy.float32)\n",
        "\n",
        "          #stocks_randoms_cov = cupy.ones((self.N_STOCKS, self.N_STOCKS), dtype = cupy.float32)\n",
        "          #cupy.fill_diagonal(stocks_randoms_cov, rho)\n",
        "\n",
        "          #stocks_randoms_cov = (-0.99 + cupy.random.rand(self.N_STOCKS*self.N_STOCKS, dtype=cupy.float32)*2*0.99).reshape(self.N_STOCKS,self.N_STOCKS)\n",
        "          if self.N_STOCKS != 1:\n",
        "            randoms = cupy.random.normal(0, 1, self.N_STOCKS * self.N_PATHS * self.N_STEPS, dtype=cupy.float32)\n",
        "            # stocks_randoms_cov = cupy.array([0] * self.N_STOCKS*self.N_STOCKS, dtype = cupy.float32).reshape(self.N_STOCKS,self.N_STOCKS)  #Covariance\n",
        "            # cupy.fill_diagonal(stocks_randoms_cov, 1)\n",
        "\n",
        "            # num_of_randoms_each_stock = self.N_PATHS * self.N_STEPS\n",
        "            # randoms_gpu = cupy.random.multivariate_normal(stocks_randoms_mean, stocks_randoms_cov,\n",
        "            #                                               num_of_randoms_each_stock, dtype=cupy.float32)\n",
        "            # b1_r = randoms_gpu[:,0]\n",
        "            # b2_r = randoms_gpu[:,1]\n",
        "            # randoms = cupy.zeros(self.N_STOCKS * self.N_PATHS * self.N_STEPS, dtype=cupy.float32)\n",
        "            # interval = int((self.N_PATHS * self.N_STEPS * self.N_STOCKS) / self.N_PATHS)\n",
        "            # for i in range(interval):\n",
        "            #   if i % 2 == 0:\n",
        "            #       ind = int(i/2)\n",
        "            #       randoms[i*self.N_PATHS:(i+1)*self.N_PATHS] = b1_r[ind:(ind+self.N_PATHS)]\n",
        "            #   else:\n",
        "            #       ind = int(i//2)\n",
        "            #       randoms[i*self.N_PATHS:(i+1)*self.N_PATHS] = b2_r[ind:(ind+self.N_PATHS)]\n",
        "          if self.N_STOCKS == 1:\n",
        "            randoms = cupy.random.normal(0, 1, self.N_STOCKS * self.N_PATHS * self.N_STEPS, dtype=cupy.float32)\n",
        "          \n",
        "          European_call_option[(self.number_of_blocks,), (self.number_of_threads,)](self.output, X[:, 0], \n",
        "                                X[:, 1], X[:, 2], X[:, 3], X[:, 4], X[:, 5], randoms, self.N_STEPS, self.N_PATHS, self.N_STOCKS)\n",
        "          \n",
        "          o = self.output.reshape(self.N_STOCKS, self.N_PATHS) # this contains prices for each stock for each path at time T\n",
        "          K = K_rand * 150\n",
        "          r = r_rand * 0.2\n",
        "          o = o.mean(axis = 0) # average across stocks end prices\n",
        "          payoff = np.maximum(o - K, 0) # compute payoff\n",
        "          payoff = payoff * np.exp(-r*1) # T=1, discount\n",
        "          Y[op] = payoff.mean()\n",
        "\n",
        "        self.num += 1\n",
        "        return (from_dlpack(paras.toDlpack()), from_dlpack(Y.toDlpack()))\n",
        "\n",
        "\n",
        "# ds = NumbaOptionDataSet(1, number_path = 10000, batch = 3, seed = random.randint(0,100), stocks=nstock)\n",
        "# for i in ds:\n",
        "#     print(i)\n",
        "################################# TEST ########################################"
      ],
      "execution_count": 8,
      "outputs": [
        {
          "output_type": "stream",
          "text": [
            "Overwriting cupy_dataset.py\n"
          ],
          "name": "stdout"
        }
      ]
    },
    {
      "cell_type": "markdown",
      "metadata": {
        "id": "JIa4c_aHz15a"
      },
      "source": [
        "### For verification (Monte Carlo for n-stocks basket)"
      ]
    },
    {
      "cell_type": "code",
      "metadata": {
        "id": "4DTuXR1ANZPC"
      },
      "source": [
        "# def test(array):\n",
        "#   S1 = array[2]\n",
        "#   S2 = array[8]\n",
        "#   S3 = array[14]\n",
        "#   sigma1 = array[3]\n",
        "#   sigma2 = array[9]\n",
        "#   sigma3 = array[15]\n",
        "#   T = 1  \n",
        "#   K = array[1]\n",
        "#   r = array[5]\n",
        "\n",
        "#   dt = 1/1000\n",
        "#   N = round(T/dt)\n",
        "#   t = np.linspace(0, T, N)\n",
        "\n",
        "#   out = []\n",
        "\n",
        "#   for i in range(10000):\n",
        "#     W1 = np.random.standard_normal(size = N)\n",
        "#     W1 = np.cumsum(W1) * np.sqrt(dt)\n",
        "#     W2 = np.random.standard_normal(size = N)\n",
        "#     W2 = np.cumsum(W2) * np.sqrt(dt)\n",
        "#     W3 = np.random.standard_normal(size = N)\n",
        "#     W3 = np.cumsum(W3) * np.sqrt(dt)\n",
        "\n",
        "#     # W = np.random.standard_normal(size = N)\n",
        "#     # W = np.cumsum(W) * np.sqrt(dt)\n",
        "    \n",
        "#     P1_T = (S1 * np.exp((r - 0.5*sigma1**2) *t + sigma1 * W1))[-1]\n",
        "#     P2_T = (S2 * np.exp((r - 0.5*sigma2**2) *t + sigma2 * W2))[-1]\n",
        "#     P3_T = (S3 * np.exp((r - 0.5*sigma3**2) *t + sigma3 * W3))[-1]\n",
        "#     payoff = (P1_T+P2_T+P3_T)/3 - K if (P1_T+P2_T+P3_T)/3 > K else 0\n",
        "#     out.append(payoff * np.exp(-r*T))\n",
        "  \n",
        "#   return(np.array(out).mean())\n",
        "\n",
        "# print(test(np.array([1.0000e+00, 5.8549e+00, 3.6871e+01, 2.6866e-01, 1.9026e-01, 1.8305e-01,\n",
        "#          1.0000e+00, 5.8549e+00, 4.1110e+00, 2.3714e-01, 5.9547e-02, 1.8305e-01,\n",
        "#          1.0000e+00, 5.8549e+00, 1.6189e+01, 7.3936e-02, 1.1713e-01, 1.8305e-01])))\n",
        "# print(test(np.array([1.0000e+00, 1.1296e+02, 7.4318e+01, 2.0409e-01, 1.9133e-01, 5.3904e-02,\n",
        "#          1.0000e+00, 1.1296e+02, 5.3453e+01, 4.8439e-02, 5.8557e-02, 5.3904e-02,\n",
        "#          1.0000e+00, 1.1296e+02, 3.8721e+01, 2.0259e-01, 6.0423e-02, 5.3904e-02])))\n",
        "# print(test(np.array([1.0000e+00, 3.2307e+01, 3.8874e+01, 2.5820e-01, 1.9522e-01, 8.6353e-02,\n",
        "#          1.0000e+00, 3.2307e+01, 3.6077e+01, 3.7123e-01, 1.8810e-01, 8.6353e-02,\n",
        "#          1.0000e+00, 3.2307e+01, 6.9274e+01, 2.4100e-01, 1.9839e-01, 8.6353e-02])))\n",
        "# print(test(np.array([1.0000e+00, 2.4764e+01, 6.6956e+01, 2.0769e-01, 9.8127e-02, 1.7302e-01,\n",
        "#          1.0000e+00, 2.4764e+01, 3.6483e+01, 8.9075e-02, 1.9375e-01, 1.7302e-01,\n",
        "#          1.0000e+00, 2.4764e+01, 9.4748e+01, 2.6420e-01, 1.2015e-01, 1.7302e-01])))\n",
        "# print(test(np.array([1.0000e+00, 8.4591e+01, 1.2730e+02, 2.8949e-02, 1.0954e-01, 1.3706e-01,\n",
        "#          1.0000e+00, 8.4591e+01, 1.2859e+02, 1.5262e-01, 1.4064e-03, 1.3706e-01,\n",
        "#          1.0000e+00, 8.4591e+01, 4.6679e+01, 2.6688e-01, 1.5895e-01, 1.3706e-01])))\n",
        "# print(test(np.array([1.0000e+00, 6.8433e+01, 3.5593e+01, 6.5870e-02, 6.8068e-02, 1.3578e-02,\n",
        "#          1.0000e+00, 6.8433e+01, 2.3864e+01, 9.5815e-02, 1.6075e-01, 1.3578e-02,\n",
        "#          1.0000e+00, 6.8433e+01, 1.1863e+02, 3.0400e-01, 5.6958e-02, 1.3578e-02])))"
      ],
      "execution_count": 9,
      "outputs": []
    },
    {
      "cell_type": "code",
      "metadata": {
        "id": "Bqx6hNuucM5U"
      },
      "source": [
        "# array = np.array([1.0000e+00, 8.3754e+01, 1.2787e+02, 2.7420e-01, 1.2507e-01, 1.7700e-01,\n",
        "#          1.0000e+00, 8.3754e+01, 4.0869e+01, 3.3302e-01, 1.7439e-01, 1.7700e-01,\n",
        "#          1.0000e+00, 8.3754e+01, 1.1031e+02, 3.5945e-01, 1.5382e-01, 1.7700e-01])\n",
        "\n",
        "# S1 = array[2]\n",
        "# S2 = array[8]\n",
        "# S3 = array[14]\n",
        "# sigma1 = array[3]\n",
        "# sigma2 = array[9]\n",
        "# sigma3 = array[15]\n",
        "# T = 1  \n",
        "# K = array[1]\n",
        "# r = array[5]\n",
        "\n",
        "# dt = 1/100\n",
        "# N = round(T/dt)\n",
        "# t = np.linspace(0, T, N)\n",
        "\n",
        "# out = []\n",
        "\n",
        "# #for i in range(1000):\n",
        "# W = np.random.standard_normal(size = N)\n",
        "# W = np.cumsum(W) * np.sqrt(dt)\n",
        "# P1_T = (S1 * np.exp((r - 0.5*sigma1**2) *t + sigma1 * W))\n",
        "# P2_T = (S2 * np.exp((r - 0.5*sigma2**2) *t + sigma2 * W))[-1]\n",
        "# P3_T = (S3 * np.exp((r - 0.5*sigma3**2) *t + sigma3 * W))[-1]\n",
        "# #ayoff = (P1_T+P2_T+P3_T)/3 - K if (P1_T+P2_T+P3_T)/3 > K else 0\n",
        "# #out.append(payoff * np.exp(-r*T))\n",
        "\n",
        "# #return(np.array(out).mean())\n",
        "# #P1_T\n",
        "# import matplotlib.pyplot as plt\n",
        "# plt.plot(t, P1_T)\n",
        "# plt.show()"
      ],
      "execution_count": 10,
      "outputs": []
    },
    {
      "cell_type": "code",
      "metadata": {
        "id": "8tpLw9WDhx8b"
      },
      "source": [
        "# stocks_randoms_cov = cupy.array([0.99999] * 3 * 3, dtype = cupy.float32).reshape(3,3)  #Covariance\n",
        "# cupy.fill_diagonal(stocks_randoms_cov, 1)\n",
        "\n",
        "# stocks_randoms_mean = cupy.zeros(3, dtype = cupy.float32)\n",
        "\n",
        "# num_of_randoms_each_stock = 2 * 3\n",
        "# randoms_gpu = cupy.random.multivariate_normal(stocks_randoms_mean, stocks_randoms_cov,\n",
        "#                                               num_of_randoms_each_stock, dtype=cupy.float32)\n",
        "# randoms_gpu"
      ],
      "execution_count": 11,
      "outputs": []
    },
    {
      "cell_type": "markdown",
      "metadata": {
        "id": "u2_89jOknwjH"
      },
      "source": [
        "### Model\n",
        "To map the option parameters to price, we use 6 layers of fully connected neural network with hidden dimension 512 as inspired by [this paper](https://arxiv.org/abs/1809.02233). Writing this DL price model into a file `model.py`:-"
      ]
    },
    {
      "cell_type": "markdown",
      "metadata": {
        "id": "NMHqzJycx8XH"
      },
      "source": [
        "### Modified Model"
      ]
    },
    {
      "cell_type": "code",
      "metadata": {
        "id": "ZTn7iJQryAIH",
        "colab": {
          "base_uri": "https://localhost:8080/"
        },
        "outputId": "e2188177-53a8-4992-e284-5a66261e1bd6"
      },
      "source": [
        "%%writefile model.py\n",
        "import torch.nn as nn\n",
        "import torch.nn.functional as F\n",
        "import torch\n",
        "import numpy as np\n",
        "\n",
        "\n",
        "class Net(nn.Module):\n",
        "\n",
        "    def __init__(self, hidden=1024, nstock=3):\n",
        "        super(Net, self).__init__()\n",
        "        self.nstock = nstock\n",
        "        self.fc1 = nn.Linear(6 * self.nstock, hidden)\n",
        "        self.fc2 = nn.Linear(hidden, hidden)\n",
        "        self.fc3 = nn.Linear(hidden, hidden)\n",
        "        self.fc4 = nn.Linear(hidden, hidden)\n",
        "        self.fc5 = nn.Linear(hidden, hidden)\n",
        "        self.fc6 = nn.Linear(hidden, 1)\n",
        "        self.register_buffer('norm',\n",
        "                             torch.tensor([1, 150.0, 150.0, 0.4, 0.2, 0.2] * self.nstock)) # don't use numpy here - will give error later\n",
        "\n",
        "    def forward(self, x):\n",
        "        # normalize the parameter to range [0-1] \n",
        "        x = x / self.norm\n",
        "        x = F.elu(self.fc1(x))\n",
        "        x = F.elu(self.fc2(x))\n",
        "        x = F.elu(self.fc3(x))\n",
        "        x = F.elu(self.fc4(x))\n",
        "        x = F.elu(self.fc5(x))\n",
        "        return self.fc6(x)"
      ],
      "execution_count": 12,
      "outputs": [
        {
          "output_type": "stream",
          "text": [
            "Overwriting model.py\n"
          ],
          "name": "stdout"
        }
      ]
    },
    {
      "cell_type": "markdown",
      "metadata": {
        "id": "hSPRFqyznwjI"
      },
      "source": [
        "As we know the random parameters' scaling factors, the input parameters are first scaled back to a range of (0-1) by dividing them by (200.0, 198.0, 200.0, 0.4, 0.2, 0.2). Then they are projected 5 times to the hidden dimension of 512 after the `ELu` activation function. `ELu` is chosen because we need to compute the second order differentiation of the parameters. If use ReLu, the second order differentiation will always be zero. The last layer is a linear layer that maps the hidden dimension to the predicted option price. "
      ]
    },
    {
      "cell_type": "markdown",
      "metadata": {
        "id": "AM8J2liPnwjJ"
      },
      "source": [
        "For training, we use [Ignite](https://github.com/pytorch/ignite) which is a high-level library to train neural networks in PyTorch. We use `MSELoss` as the loss function, `Adam` as the optimizer and `CosineAnnealingScheduler` as the learning rate scheduler. The following code is feeding the random option data to the pricing model to train it."
      ]
    },
    {
      "cell_type": "markdown",
      "metadata": {
        "id": "yACi4ge13_rd"
      },
      "source": [
        "### Train"
      ]
    },
    {
      "cell_type": "code",
      "metadata": {
        "id": "1TyZT8_AH35M",
        "colab": {
          "base_uri": "https://localhost:8080/"
        },
        "outputId": "580f48e8-835d-4d7c-c140-d9b5b31851e4"
      },
      "source": [
        "!pip install pytorch-ignite"
      ],
      "execution_count": 13,
      "outputs": [
        {
          "output_type": "stream",
          "text": [
            "Requirement already satisfied: pytorch-ignite in /usr/local/lib/python3.7/dist-packages (0.4.6)\n",
            "Requirement already satisfied: torch<2,>=1.3 in /usr/local/lib/python3.7/dist-packages (from pytorch-ignite) (1.9.0+cu102)\n",
            "Requirement already satisfied: typing-extensions in /usr/local/lib/python3.7/dist-packages (from torch<2,>=1.3->pytorch-ignite) (3.7.4.3)\n"
          ],
          "name": "stdout"
        }
      ]
    },
    {
      "cell_type": "code",
      "metadata": {
        "id": "G4Ej82G8nwjJ",
        "colab": {
          "base_uri": "https://localhost:8080/"
        },
        "outputId": "b45339c3-c5db-4bbe-ee9b-721562961449"
      },
      "source": [
        "from ignite.engine import Engine, Events\n",
        "from ignite.handlers import Timer\n",
        "from torch.nn import MSELoss\n",
        "from torch.optim import Adam\n",
        "from ignite.contrib.handlers.param_scheduler import CosineAnnealingScheduler\n",
        "from ignite.handlers import ModelCheckpoint\n",
        "from model import Net\n",
        "from cupy_dataset import NumbaOptionDataSet\n",
        "import random\n",
        "timer = Timer(average=True)\n",
        "model = Net(nstock = nstock).cuda()\n",
        "loss_fn = MSELoss()\n",
        "optimizer = Adam(model.parameters(), lr=1e-3)\n",
        "# dataset = NumbaOptionDataSet(max_len = 10000, number_path = 1024, batch = 4800)\n",
        "# dataset = NumbaOptionDataSet(max_len = 100, number_path = 1024, batch = 32, stocks = 3)\n",
        "dataset = NumbaOptionDataSet(max_len = 100, number_path = 1024, batch = 32, seed = random.randint(0, 100), stocks = nstock)\n",
        "\n",
        "def train_update(engine, batch):\n",
        "    model.train()\n",
        "    optimizer.zero_grad()\n",
        "    x = batch[0]\n",
        "    y = batch[1]\n",
        "    y_pred = model(x)\n",
        "    loss = loss_fn(y_pred[:,0], y)\n",
        "    loss.backward()\n",
        "    optimizer.step()\n",
        "    return loss.item()\n",
        "\n",
        "trainer = Engine(train_update)\n",
        "log_interval = 20\n",
        "\n",
        "scheduler = CosineAnnealingScheduler(optimizer, 'lr', 1e-4, 1e-6, len(dataset))\n",
        "trainer.add_event_handler(Events.ITERATION_STARTED, scheduler)\n",
        "timer.attach(trainer,\n",
        "             start=Events.EPOCH_STARTED,\n",
        "             resume=Events.ITERATION_STARTED,\n",
        "             pause=Events.ITERATION_COMPLETED,\n",
        "             step=Events.ITERATION_COMPLETED)    \n",
        "@trainer.on(Events.ITERATION_COMPLETED)\n",
        "def log_training_loss(engine):\n",
        "    iter = (engine.state.iteration - 1) % len(dataset) + 1\n",
        "    if iter % log_interval == 0:\n",
        "        print('loss', engine.state.output, 'average time', timer.value(), 'iter num', iter)\n",
        "        \n",
        "trainer.run(dataset, max_epochs = 100)"
      ],
      "execution_count": 14,
      "outputs": [
        {
          "output_type": "stream",
          "text": [
            "loss 984.9490966796875 average time 0.05131409325003915 iter num 20\n",
            "loss 1101.2193603515625 average time 0.027060062224700233 iter num 40\n",
            "loss 463.962158203125 average time 0.01893875340016772 iter num 60\n",
            "loss 258.77459716796875 average time 0.014864466862582049 iter num 80\n",
            "loss 382.77081298828125 average time 0.012468512870182167 iter num 100\n",
            "loss 108.07666015625 average time 0.019459510051092366 iter num 20\n",
            "loss 17.64797592163086 average time 0.011143636675842571 iter num 40\n",
            "loss 7.909684181213379 average time 0.008351148267198976 iter num 60\n",
            "loss 6.885837554931641 average time 0.007002563950481999 iter num 80\n",
            "loss 8.49212646484375 average time 0.006169664640692645 iter num 100\n",
            "loss 1.7763968706130981 average time 0.019607304250166636 iter num 20\n",
            "loss 2.673015832901001 average time 0.011177749450325791 iter num 40\n",
            "loss 2.7401957511901855 average time 0.008353394900041167 iter num 60\n",
            "loss 1.0272576808929443 average time 0.006934569999884843 iter num 80\n",
            "loss 1.119591236114502 average time 0.00608515799001907 iter num 100\n",
            "loss 2.4361274242401123 average time 0.01992297150027298 iter num 20\n",
            "loss 1.6013984680175781 average time 0.011325966750519001 iter num 40\n",
            "loss 2.707165002822876 average time 0.008493918966996717 iter num 60\n",
            "loss 0.8896878957748413 average time 0.00705563748788336 iter num 80\n",
            "loss 2.297542095184326 average time 0.0061879325403424446 iter num 100\n",
            "loss 1.3321856260299683 average time 0.019374337450426538 iter num 20\n",
            "loss 3.450392723083496 average time 0.011064556500059552 iter num 40\n",
            "loss 1.6795099973678589 average time 0.008278868149985404 iter num 60\n",
            "loss 1.0641694068908691 average time 0.0069077865375220425 iter num 80\n",
            "loss 1.6386606693267822 average time 0.006081758700238424 iter num 100\n",
            "loss 2.3911197185516357 average time 0.01966845764873142 iter num 20\n",
            "loss 1.2577687501907349 average time 0.011245233824047319 iter num 40\n",
            "loss 2.01568603515625 average time 0.008425062366222846 iter num 60\n",
            "loss 0.8358509540557861 average time 0.007026744537051854 iter num 80\n",
            "loss 1.1325879096984863 average time 0.0061722387695772344 iter num 100\n",
            "loss 1.206451177597046 average time 0.01933746229915414 iter num 20\n",
            "loss 1.1168020963668823 average time 0.011038660924532451 iter num 40\n",
            "loss 0.6746139526367188 average time 0.008268096882966347 iter num 60\n",
            "loss 1.6601158380508423 average time 0.006910451562271191 iter num 80\n",
            "loss 1.197872281074524 average time 0.006104345019775792 iter num 100\n",
            "loss 1.919219970703125 average time 0.019520642948555177 iter num 20\n",
            "loss 1.3975615501403809 average time 0.011142551049306348 iter num 40\n",
            "loss 1.9031634330749512 average time 0.008338363082657452 iter num 60\n",
            "loss 0.664591908454895 average time 0.006939187174521066 iter num 80\n",
            "loss 1.2195348739624023 average time 0.006136739529683837 iter num 100\n",
            "loss 1.972931981086731 average time 0.019635609000033583 iter num 20\n",
            "loss 2.7838382720947266 average time 0.011192737274905084 iter num 40\n",
            "loss 0.8214237689971924 average time 0.008377884282769326 iter num 60\n",
            "loss 1.1935392618179321 average time 0.006967467999766086 iter num 80\n",
            "loss 1.1367475986480713 average time 0.006124649109769962 iter num 100\n",
            "loss 1.193284034729004 average time 0.01967143430010765 iter num 20\n",
            "loss 0.8371672630310059 average time 0.011206202199718972 iter num 40\n",
            "loss 1.4950768947601318 average time 0.008395730916769631 iter num 60\n",
            "loss 0.7377110719680786 average time 0.006986199162565754 iter num 80\n",
            "loss 0.7247120141983032 average time 0.0061493366399372465 iter num 100\n",
            "loss 1.121361494064331 average time 0.019450596600290738 iter num 20\n",
            "loss 1.1761314868927002 average time 0.011179810400608402 iter num 40\n",
            "loss 2.0446481704711914 average time 0.008376009400186983 iter num 60\n",
            "loss 1.0866949558258057 average time 0.006969577337804367 iter num 80\n",
            "loss 1.1529778242111206 average time 0.006127095240663039 iter num 100\n",
            "loss 1.2231132984161377 average time 0.019569224099177517 iter num 20\n",
            "loss 1.1972438097000122 average time 0.011220687949571585 iter num 40\n",
            "loss 2.5895214080810547 average time 0.008455489316232464 iter num 60\n",
            "loss 0.5581756234169006 average time 0.007036434349629417 iter num 80\n",
            "loss 1.3131537437438965 average time 0.0061792536797293 iter num 100\n",
            "loss 1.222137451171875 average time 0.019867019950106625 iter num 20\n",
            "loss 1.044351577758789 average time 0.011308533475312289 iter num 40\n",
            "loss 1.8111077547073364 average time 0.008455209483145154 iter num 60\n",
            "loss 1.1051886081695557 average time 0.007038104774619569 iter num 80\n",
            "loss 1.5083931684494019 average time 0.0061922081895318115 iter num 100\n",
            "loss 0.7079155445098877 average time 0.01962580585022806 iter num 20\n",
            "loss 1.5939979553222656 average time 0.011218299249412667 iter num 40\n",
            "loss 0.8256372213363647 average time 0.008398008283014255 iter num 60\n",
            "loss 0.8100898265838623 average time 0.0069844873494730566 iter num 80\n",
            "loss 0.7728965282440186 average time 0.00619991636944178 iter num 100\n",
            "loss 1.2657029628753662 average time 0.019695268099894747 iter num 20\n",
            "loss 1.8138130903244019 average time 0.011246404524717946 iter num 40\n",
            "loss 0.22712847590446472 average time 0.008444599149637117 iter num 60\n",
            "loss 1.0579805374145508 average time 0.007020708574782475 iter num 80\n",
            "loss 1.1837809085845947 average time 0.006179955009647528 iter num 100\n",
            "loss 1.7995519638061523 average time 0.019446905999211596 iter num 20\n",
            "loss 0.7834035158157349 average time 0.011150563474620867 iter num 40\n",
            "loss 0.6934347748756409 average time 0.008357818116686152 iter num 60\n",
            "loss 0.7562329769134521 average time 0.0069585968626597605 iter num 80\n",
            "loss 0.35863035917282104 average time 0.006115933590335771 iter num 100\n",
            "loss 0.7706153988838196 average time 0.019687597900338007 iter num 20\n",
            "loss 2.123598337173462 average time 0.011248849550065642 iter num 40\n",
            "loss 1.1793522834777832 average time 0.008423484449789005 iter num 60\n",
            "loss 0.9459344148635864 average time 0.007002726637529122 iter num 80\n",
            "loss 0.7486089468002319 average time 0.006156257769907825 iter num 100\n",
            "loss 1.7577593326568604 average time 0.019922435199987376 iter num 20\n",
            "loss 1.3612339496612549 average time 0.011339998000221386 iter num 40\n",
            "loss 1.3310718536376953 average time 0.0084928146169356 iter num 60\n",
            "loss 0.6300963163375854 average time 0.007077573675451277 iter num 80\n",
            "loss 0.7757173776626587 average time 0.006213070320518455 iter num 100\n",
            "loss 0.8448559045791626 average time 0.019493209700885927 iter num 20\n",
            "loss 1.216033697128296 average time 0.011190242600605416 iter num 40\n",
            "loss 0.5957716703414917 average time 0.008383309983764775 iter num 60\n",
            "loss 0.6396678686141968 average time 0.006972724537627073 iter num 80\n",
            "loss 0.9056816101074219 average time 0.0061629121101577766 iter num 100\n",
            "loss 3.3215384483337402 average time 0.019742499199855955 iter num 20\n",
            "loss 0.8210604190826416 average time 0.011279386199930741 iter num 40\n",
            "loss 0.24672538042068481 average time 0.008452398149772004 iter num 60\n",
            "loss 0.2791242003440857 average time 0.007025165987306537 iter num 80\n",
            "loss 0.5594819784164429 average time 0.006175463980034692 iter num 100\n",
            "loss 0.9006279110908508 average time 0.02000336249911925 iter num 20\n",
            "loss 0.5677021741867065 average time 0.011381924574925506 iter num 40\n",
            "loss 0.640640377998352 average time 0.008502884666935035 iter num 60\n",
            "loss 0.441470742225647 average time 0.007057977950262284 iter num 80\n",
            "loss 0.624946653842926 average time 0.006201985740190139 iter num 100\n",
            "loss 0.9639788866043091 average time 0.01932390235051571 iter num 20\n",
            "loss 0.8436078429222107 average time 0.011063592325444915 iter num 40\n",
            "loss 0.6129062175750732 average time 0.00835888123389547 iter num 60\n",
            "loss 0.6215075254440308 average time 0.006954363312888745 iter num 80\n",
            "loss 0.5593410730361938 average time 0.006113389310339699 iter num 100\n",
            "loss 1.319922685623169 average time 0.019832972148651606 iter num 20\n",
            "loss 2.2204060554504395 average time 0.011302463449101196 iter num 40\n",
            "loss 1.0558812618255615 average time 0.008441892516202643 iter num 60\n",
            "loss 0.3755732774734497 average time 0.007016941399524512 iter num 80\n",
            "loss 0.8692187070846558 average time 0.00616237067959446 iter num 100\n",
            "loss 2.7634987831115723 average time 0.01936262010021892 iter num 20\n",
            "loss 0.6516495943069458 average time 0.011073237525124568 iter num 40\n",
            "loss 0.9074641466140747 average time 0.008302645483369512 iter num 60\n",
            "loss 0.2930406332015991 average time 0.006926745437613136 iter num 80\n",
            "loss 0.4986523985862732 average time 0.006119815199999721 iter num 100\n",
            "loss 0.726215660572052 average time 0.01967396865002229 iter num 20\n",
            "loss 0.4451209008693695 average time 0.011406601500493708 iter num 40\n",
            "loss 0.37625378370285034 average time 0.00851788353381077 iter num 60\n",
            "loss 0.5208725929260254 average time 0.007072799600155122 iter num 80\n",
            "loss 0.9648343324661255 average time 0.006212773630250012 iter num 100\n",
            "loss 0.7339481115341187 average time 0.019723536999663338 iter num 20\n",
            "loss 0.5965850949287415 average time 0.011241774074915157 iter num 40\n",
            "loss 0.5057140588760376 average time 0.008475756133217752 iter num 60\n",
            "loss 0.49482399225234985 average time 0.007059210137504124 iter num 80\n",
            "loss 0.24268853664398193 average time 0.006214817400250467 iter num 100\n",
            "loss 0.8974149823188782 average time 0.01983275694983604 iter num 20\n",
            "loss 0.6675326824188232 average time 0.011322132899658754 iter num 40\n",
            "loss 0.7037849426269531 average time 0.008478546350064183 iter num 60\n",
            "loss 0.38172340393066406 average time 0.007068966900169471 iter num 80\n",
            "loss 0.30848172307014465 average time 0.006215357760083862 iter num 100\n",
            "loss 0.461822509765625 average time 0.019736609950268758 iter num 20\n",
            "loss 1.2084121704101562 average time 0.011609106449941464 iter num 40\n",
            "loss 0.7428590059280396 average time 0.00872554933327289 iter num 60\n",
            "loss 0.41576558351516724 average time 0.007253584862428397 iter num 80\n",
            "loss 0.2705685496330261 average time 0.006369328540022252 iter num 100\n",
            "loss 0.7033548355102539 average time 0.01971768350013008 iter num 20\n",
            "loss 0.6345585584640503 average time 0.011274805000357446 iter num 40\n",
            "loss 0.49530211091041565 average time 0.008459551833584555 iter num 60\n",
            "loss 0.5198357105255127 average time 0.007049474899940833 iter num 80\n",
            "loss 0.44244149327278137 average time 0.006204051799941226 iter num 100\n",
            "loss 0.8133835792541504 average time 0.01977125655103009 iter num 20\n",
            "loss 0.6029064059257507 average time 0.011311922724962642 iter num 40\n",
            "loss 0.27753302454948425 average time 0.008476902216231489 iter num 60\n",
            "loss 0.29076114296913147 average time 0.007062221387241152 iter num 80\n",
            "loss 0.23340876400470734 average time 0.006229915099829668 iter num 100\n",
            "loss 0.1265171468257904 average time 0.01974265539975022 iter num 20\n",
            "loss 1.0400055646896362 average time 0.01132209619936475 iter num 40\n",
            "loss 0.8270440101623535 average time 0.008485585583063464 iter num 60\n",
            "loss 0.7270174026489258 average time 0.007072533550035587 iter num 80\n",
            "loss 0.3703905940055847 average time 0.006234863420031616 iter num 100\n",
            "loss 0.5039783120155334 average time 0.019569495348696363 iter num 20\n",
            "loss 0.5177774429321289 average time 0.011195231749661616 iter num 40\n",
            "loss 0.35193324089050293 average time 0.00840196881678518 iter num 60\n",
            "loss 0.3080744743347168 average time 0.0070028008000917906 iter num 80\n",
            "loss 0.35801559686660767 average time 0.00616480677992513 iter num 100\n",
            "loss 0.49363934993743896 average time 0.01966152964923822 iter num 20\n",
            "loss 0.4876839816570282 average time 0.011235770299390425 iter num 40\n",
            "loss 0.5144962072372437 average time 0.008420706382700397 iter num 60\n",
            "loss 0.3872550129890442 average time 0.007057489524595439 iter num 80\n",
            "loss 0.23539197444915771 average time 0.006215961679699831 iter num 100\n",
            "loss 0.26325657963752747 average time 0.020048737748948043 iter num 20\n",
            "loss 0.3347606062889099 average time 0.011435783649540099 iter num 40\n",
            "loss 0.25398939847946167 average time 0.008559201333264354 iter num 60\n",
            "loss 0.26902446150779724 average time 0.007123647537264332 iter num 80\n",
            "loss 0.4765104055404663 average time 0.006260792419925565 iter num 100\n",
            "loss 0.7458584904670715 average time 0.019473351900160196 iter num 20\n",
            "loss 0.3837448060512543 average time 0.011189204000584142 iter num 40\n",
            "loss 0.29117271304130554 average time 0.008554695650430707 iter num 60\n",
            "loss 0.42236754298210144 average time 0.007122500300374668 iter num 80\n",
            "loss 0.7024264335632324 average time 0.006259902750171023 iter num 100\n",
            "loss 0.3147411644458771 average time 0.019511134549975395 iter num 20\n",
            "loss 0.4102262854576111 average time 0.011167926100461046 iter num 40\n",
            "loss 0.6130205392837524 average time 0.008382420616908349 iter num 60\n",
            "loss 0.5001410245895386 average time 0.006988402212755318 iter num 80\n",
            "loss 0.28073278069496155 average time 0.00615284715036978 iter num 100\n",
            "loss 0.738767147064209 average time 0.0194889571503154 iter num 20\n",
            "loss 0.38071417808532715 average time 0.011206999775095029 iter num 40\n",
            "loss 0.3433629274368286 average time 0.008456454283077619 iter num 60\n",
            "loss 0.32365554571151733 average time 0.007078089649803587 iter num 80\n",
            "loss 0.3240079879760742 average time 0.006226343089656439 iter num 100\n",
            "loss 0.3633861541748047 average time 0.019653954700697796 iter num 20\n",
            "loss 0.5094457864761353 average time 0.011232577599730575 iter num 40\n",
            "loss 0.3248298764228821 average time 0.008419892050005729 iter num 60\n",
            "loss 0.4533866345882416 average time 0.007067751599788607 iter num 80\n",
            "loss 0.20108959078788757 average time 0.006295465569783118 iter num 100\n",
            "loss 0.4126059412956238 average time 0.01957538749993546 iter num 20\n",
            "loss 0.7929626703262329 average time 0.011194158374746622 iter num 40\n",
            "loss 0.37732821702957153 average time 0.008414045083191013 iter num 60\n",
            "loss 0.644921064376831 average time 0.0070133652000549775 iter num 80\n",
            "loss 0.40058499574661255 average time 0.006173990789975505 iter num 100\n",
            "loss 1.0381598472595215 average time 0.019916845398620354 iter num 20\n",
            "loss 0.34886178374290466 average time 0.011358177173860895 iter num 40\n",
            "loss 0.32615017890930176 average time 0.008512933815654832 iter num 60\n",
            "loss 0.27493369579315186 average time 0.007088506412037532 iter num 80\n",
            "loss 0.24444812536239624 average time 0.006237219129761797 iter num 100\n",
            "loss 0.6839815974235535 average time 0.01974007730023004 iter num 20\n",
            "loss 1.4060653448104858 average time 0.011263635124669236 iter num 40\n",
            "loss 0.3962697982788086 average time 0.008449354899494211 iter num 60\n",
            "loss 0.26749739050865173 average time 0.007038119562366774 iter num 80\n",
            "loss 0.35388708114624023 average time 0.006194208869928843 iter num 100\n",
            "loss 1.9356939792633057 average time 0.019835711800260468 iter num 20\n",
            "loss 1.989229440689087 average time 0.01131887209994602 iter num 40\n",
            "loss 0.3771713972091675 average time 0.00848162068335417 iter num 60\n",
            "loss 0.7129308581352234 average time 0.007110133887636039 iter num 80\n",
            "loss 0.5374598503112793 average time 0.006257968630088726 iter num 100\n",
            "loss 0.6144099235534668 average time 0.019581249449038295 iter num 20\n",
            "loss 0.36103561520576477 average time 0.011185637824019068 iter num 40\n",
            "loss 0.6117019653320312 average time 0.008400599199618834 iter num 60\n",
            "loss 0.1693502515554428 average time 0.0070329127872355455 iter num 80\n",
            "loss 0.47415250539779663 average time 0.006186931119882502 iter num 100\n",
            "loss 0.6737072467803955 average time 0.01986679834917595 iter num 20\n",
            "loss 0.8929774761199951 average time 0.01138238712464954 iter num 40\n",
            "loss 0.4806134104728699 average time 0.00854057934981635 iter num 60\n",
            "loss 0.5245453119277954 average time 0.007118947700018907 iter num 80\n",
            "loss 0.41002774238586426 average time 0.00626372626007651 iter num 100\n",
            "loss 1.086256980895996 average time 0.01951324085057422 iter num 20\n",
            "loss 0.4529091715812683 average time 0.01117347932577104 iter num 40\n",
            "loss 1.0923700332641602 average time 0.008383280283790857 iter num 60\n",
            "loss 0.3362271785736084 average time 0.006988705062849476 iter num 80\n",
            "loss 0.45996296405792236 average time 0.006155467000353383 iter num 100\n",
            "loss 1.0312122106552124 average time 0.01992986135010142 iter num 20\n",
            "loss 0.5502316355705261 average time 0.011443267950016888 iter num 40\n",
            "loss 0.25298380851745605 average time 0.008566968933155294 iter num 60\n",
            "loss 0.3354681730270386 average time 0.007125801587426395 iter num 80\n",
            "loss 0.15564554929733276 average time 0.006266197269796976 iter num 100\n",
            "loss 0.3281213939189911 average time 0.019914556349613123 iter num 20\n",
            "loss 1.5575313568115234 average time 0.011400521574796586 iter num 40\n",
            "loss 0.8103209137916565 average time 0.00853321726657062 iter num 60\n",
            "loss 0.5135511755943298 average time 0.00714498490006008 iter num 80\n",
            "loss 0.22278675436973572 average time 0.006328042179957265 iter num 100\n",
            "loss 0.3666822910308838 average time 0.01980451559938956 iter num 20\n",
            "loss 0.26448988914489746 average time 0.011295954524757689 iter num 40\n",
            "loss 0.5760897994041443 average time 0.00846118408323188 iter num 60\n",
            "loss 0.30282679200172424 average time 0.007048212274730759 iter num 80\n",
            "loss 0.43905967473983765 average time 0.006221211179872625 iter num 100\n",
            "loss 1.0681262016296387 average time 0.01959571674960898 iter num 20\n",
            "loss 9.162665367126465 average time 0.011235047999798553 iter num 40\n",
            "loss 1.19490647315979 average time 0.008423944016734216 iter num 60\n",
            "loss 0.43263065814971924 average time 0.007032717262882215 iter num 80\n",
            "loss 0.4599427282810211 average time 0.006233006210241001 iter num 100\n",
            "loss 0.7103496789932251 average time 0.01947086414984369 iter num 20\n",
            "loss 0.67008376121521 average time 0.011175742175328195 iter num 40\n",
            "loss 0.29620790481567383 average time 0.00838069396680415 iter num 60\n",
            "loss 0.24560461938381195 average time 0.006986083212450467 iter num 80\n",
            "loss 0.42919838428497314 average time 0.006155107639933703 iter num 100\n",
            "loss 0.26738518476486206 average time 0.01958261639883858 iter num 20\n",
            "loss 0.4660680890083313 average time 0.011195974724068946 iter num 40\n",
            "loss 0.5677478313446045 average time 0.008398262265958086 iter num 60\n",
            "loss 0.24025258421897888 average time 0.007008726274580113 iter num 80\n",
            "loss 0.48553183674812317 average time 0.006233291669486789 iter num 100\n",
            "loss 0.423776775598526 average time 0.019536547050302035 iter num 20\n",
            "loss 0.43115490674972534 average time 0.011177390200282388 iter num 40\n",
            "loss 0.6054487228393555 average time 0.008394134566454643 iter num 60\n",
            "loss 0.30085140466690063 average time 0.006997395925191085 iter num 80\n",
            "loss 0.2108776569366455 average time 0.006175915540079586 iter num 100\n",
            "loss 0.690680980682373 average time 0.019709835500543706 iter num 20\n",
            "loss 0.502508819103241 average time 0.011252242875525554 iter num 40\n",
            "loss 0.34971579909324646 average time 0.008435711266793077 iter num 60\n",
            "loss 0.2414238452911377 average time 0.007031315800031734 iter num 80\n",
            "loss 0.5746931433677673 average time 0.00618299787012802 iter num 100\n",
            "loss 0.9737736582756042 average time 0.019822917800047433 iter num 20\n",
            "loss 0.2966364324092865 average time 0.011326693024966517 iter num 40\n",
            "loss 0.2115182727575302 average time 0.00851255930053109 iter num 60\n",
            "loss 0.3393944203853607 average time 0.007119848600632394 iter num 80\n",
            "loss 0.333601713180542 average time 0.0062554255502618615 iter num 100\n",
            "loss 0.8365433216094971 average time 0.019684616999074932 iter num 20\n",
            "loss 0.2465260624885559 average time 0.011285167674577679 iter num 40\n",
            "loss 0.2962605953216553 average time 0.008488221999747718 iter num 60\n",
            "loss 0.3232845664024353 average time 0.007069211587258905 iter num 80\n",
            "loss 0.15627127885818481 average time 0.006218469019877375 iter num 100\n",
            "loss 0.2595905661582947 average time 0.01968514265063277 iter num 20\n",
            "loss 0.267248272895813 average time 0.011238463300651346 iter num 40\n",
            "loss 0.24550950527191162 average time 0.008427388167062115 iter num 60\n",
            "loss 0.24014978110790253 average time 0.0070275704754749315 iter num 80\n",
            "loss 0.30180174112319946 average time 0.006186438720324077 iter num 100\n",
            "loss 1.093008041381836 average time 0.019801877199643058 iter num 20\n",
            "loss 0.6373838782310486 average time 0.01133493465022184 iter num 40\n",
            "loss 0.4999314546585083 average time 0.008550930583684628 iter num 60\n",
            "loss 0.3616046905517578 average time 0.007115541325401864 iter num 80\n",
            "loss 0.31230852007865906 average time 0.006254092560411663 iter num 100\n",
            "loss 0.9505363702774048 average time 0.019466306749745855 iter num 20\n",
            "loss 0.3173658847808838 average time 0.011121189625191619 iter num 40\n",
            "loss 0.44306182861328125 average time 0.00835068149996611 iter num 60\n",
            "loss 0.2817687690258026 average time 0.006963209037257912 iter num 80\n",
            "loss 0.3377254009246826 average time 0.006133363659901078 iter num 100\n",
            "loss 0.8763996958732605 average time 0.020221062048949533 iter num 20\n",
            "loss 0.5964751839637756 average time 0.011571315474247968 iter num 40\n",
            "loss 0.4159463047981262 average time 0.008654858515850112 iter num 60\n",
            "loss 0.19502589106559753 average time 0.007193350986653968 iter num 80\n",
            "loss 0.3358513116836548 average time 0.0063217138592881385 iter num 100\n",
            "loss 0.6101259589195251 average time 0.01951874195037817 iter num 20\n",
            "loss 0.18685680627822876 average time 0.011183158724998065 iter num 40\n",
            "loss 0.22139744460582733 average time 0.008451374099968234 iter num 60\n",
            "loss 0.2866477966308594 average time 0.007112960399808799 iter num 80\n",
            "loss 0.38480085134506226 average time 0.006253671069935081 iter num 100\n",
            "loss 0.43874669075012207 average time 0.01942813610112353 iter num 20\n",
            "loss 0.6281813383102417 average time 0.011125973325397354 iter num 40\n",
            "loss 0.46728208661079407 average time 0.008421569517061774 iter num 60\n",
            "loss 0.14509925246238708 average time 0.007042051837834152 iter num 80\n",
            "loss 0.25492340326309204 average time 0.006213232270456501 iter num 100\n",
            "loss 1.0094084739685059 average time 0.019388129400249456 iter num 20\n",
            "loss 0.6638582348823547 average time 0.011091020325693535 iter num 40\n",
            "loss 0.28621554374694824 average time 0.008325928116998208 iter num 60\n",
            "loss 0.27544325590133667 average time 0.006944020687842567 iter num 80\n",
            "loss 0.5131963491439819 average time 0.0061202259302081076 iter num 100\n",
            "loss 0.5078372955322266 average time 0.01967471740063047 iter num 20\n",
            "loss 2.216275453567505 average time 0.011235198675785795 iter num 40\n",
            "loss 0.3555965721607208 average time 0.008424025083998761 iter num 60\n",
            "loss 0.43707984685897827 average time 0.007024563700269937 iter num 80\n",
            "loss 0.3380797207355499 average time 0.00618027984019136 iter num 100\n",
            "loss 3.4212183952331543 average time 0.019661940799778677 iter num 20\n",
            "loss 0.5496094226837158 average time 0.011282151625164261 iter num 40\n",
            "loss 0.4391385316848755 average time 0.008454858916593366 iter num 60\n",
            "loss 0.4952149987220764 average time 0.007036061324924958 iter num 80\n",
            "loss 0.3040838837623596 average time 0.00618376326005091 iter num 100\n",
            "loss 0.23269839584827423 average time 0.01983168009974179 iter num 20\n",
            "loss 0.47291457653045654 average time 0.011334870975042577 iter num 40\n",
            "loss 0.21391922235488892 average time 0.008537364683434134 iter num 60\n",
            "loss 0.33819442987442017 average time 0.007118701274794148 iter num 80\n",
            "loss 0.13142503798007965 average time 0.006264167869812809 iter num 100\n",
            "loss 0.32579541206359863 average time 0.019879355100056274 iter num 20\n",
            "loss 0.6552823185920715 average time 0.011347522950381972 iter num 40\n",
            "loss 0.28218215703964233 average time 0.008505238767247647 iter num 60\n",
            "loss 0.4681363105773926 average time 0.007118204925518512 iter num 80\n",
            "loss 0.231328085064888 average time 0.006323982240210171 iter num 100\n",
            "loss 0.3981582224369049 average time 0.019844733699574135 iter num 20\n",
            "loss 0.0917356088757515 average time 0.011322681525416555 iter num 40\n",
            "loss 0.3776940107345581 average time 0.0084916009332422 iter num 60\n",
            "loss 0.21297699213027954 average time 0.007066889499947137 iter num 80\n",
            "loss 0.1977352350950241 average time 0.00622448711998004 iter num 100\n",
            "loss 1.0331950187683105 average time 0.019505256798947813 iter num 20\n",
            "loss 0.18430452048778534 average time 0.01117741784928512 iter num 40\n",
            "loss 0.22671490907669067 average time 0.008386108766353572 iter num 60\n",
            "loss 0.7727519869804382 average time 0.006985901712323539 iter num 80\n",
            "loss 0.1270994395017624 average time 0.006148990469882847 iter num 100\n",
            "loss 1.3416600227355957 average time 0.01967607045044133 iter num 20\n",
            "loss 0.16051670908927917 average time 0.0112917094007571 iter num 40\n",
            "loss 0.22574977576732635 average time 0.008461030317266704 iter num 60\n",
            "loss 0.4807310998439789 average time 0.007044010200297634 iter num 80\n",
            "loss 0.12360811233520508 average time 0.006190997780286125 iter num 100\n",
            "loss 0.41992807388305664 average time 0.01970942739826569 iter num 20\n",
            "loss 0.7121951580047607 average time 0.011250980549630186 iter num 40\n",
            "loss 0.4201103448867798 average time 0.008483733732888746 iter num 60\n",
            "loss 0.14262491464614868 average time 0.007099264324733667 iter num 80\n",
            "loss 0.3060110807418823 average time 0.006248308159847511 iter num 100\n",
            "loss 0.34627461433410645 average time 0.01985991915098566 iter num 20\n",
            "loss 0.4107878804206848 average time 0.0113479110006665 iter num 40\n",
            "loss 0.2054581642150879 average time 0.008508408233925973 iter num 60\n",
            "loss 0.13256727159023285 average time 0.007077485637910286 iter num 80\n",
            "loss 0.2842295169830322 average time 0.006218209670259966 iter num 100\n",
            "loss 0.5693681836128235 average time 0.019573341800060005 iter num 20\n",
            "loss 0.7429656982421875 average time 0.011232666274918302 iter num 40\n",
            "loss 1.2082056999206543 average time 0.00843541673323974 iter num 60\n",
            "loss 0.23295049369335175 average time 0.007030492762532958 iter num 80\n",
            "loss 0.34701982140541077 average time 0.006189914969800156 iter num 100\n",
            "loss 0.5097091197967529 average time 0.019536134150257567 iter num 20\n",
            "loss 0.3763517141342163 average time 0.011169594074817723 iter num 40\n",
            "loss 0.19889794290065765 average time 0.008387441283169513 iter num 60\n",
            "loss 0.29825055599212646 average time 0.006996782774967869 iter num 80\n",
            "loss 0.5014614462852478 average time 0.006181089950041496 iter num 100\n",
            "loss 0.5342998504638672 average time 0.019744099599483887 iter num 20\n",
            "loss 1.7971440553665161 average time 0.011279897274653195 iter num 40\n",
            "loss 0.46055567264556885 average time 0.008476447183178 iter num 60\n",
            "loss 0.2888329029083252 average time 0.007055793099971197 iter num 80\n",
            "loss 0.07686446607112885 average time 0.00621098191018973 iter num 100\n",
            "loss 0.3396798372268677 average time 0.019763186801355914 iter num 20\n",
            "loss 0.604317307472229 average time 0.011389017850524397 iter num 40\n",
            "loss 0.421379953622818 average time 0.008551538883693866 iter num 60\n",
            "loss 0.15586550533771515 average time 0.0071281028130215415 iter num 80\n",
            "loss 0.362129271030426 average time 0.00626865999038273 iter num 100\n",
            "loss 0.5480297207832336 average time 0.019394355300391908 iter num 20\n",
            "loss 0.2191997766494751 average time 0.011121382000237646 iter num 40\n",
            "loss 0.462767094373703 average time 0.008368797700071203 iter num 60\n",
            "loss 0.16817842423915863 average time 0.007007330599753914 iter num 80\n",
            "loss 0.21821346879005432 average time 0.0061649131697049595 iter num 100\n",
            "loss 0.6586421132087708 average time 0.01946724405133864 iter num 20\n",
            "loss 0.36594218015670776 average time 0.011150530726081343 iter num 40\n",
            "loss 0.4357011914253235 average time 0.00836732518412949 iter num 60\n",
            "loss 0.3926456868648529 average time 0.007047130813225522 iter num 80\n",
            "loss 0.20530486106872559 average time 0.006206092620559502 iter num 100\n",
            "loss 0.6484808921813965 average time 0.019764976399528678 iter num 20\n",
            "loss 0.5082824230194092 average time 0.011329646399644844 iter num 40\n",
            "loss 0.1465107798576355 average time 0.008491432649680063 iter num 60\n",
            "loss 0.5040508508682251 average time 0.007099188662414236 iter num 80\n",
            "loss 0.42684561014175415 average time 0.006240563859901158 iter num 100\n",
            "loss 0.7992479205131531 average time 0.019606796099469647 iter num 20\n",
            "loss 0.24339625239372253 average time 0.011206310524539732 iter num 40\n",
            "loss 0.3227577805519104 average time 0.008421671782950094 iter num 60\n",
            "loss 0.3253469169139862 average time 0.0070142218999535546 iter num 80\n",
            "loss 0.2946574091911316 average time 0.006182494289751048 iter num 100\n",
            "loss 0.7414026260375977 average time 0.019631014600599885 iter num 20\n",
            "loss 1.172853708267212 average time 0.011227032850183605 iter num 40\n",
            "loss 0.5252642631530762 average time 0.008416173783310417 iter num 60\n",
            "loss 0.2129119634628296 average time 0.007013294925036462 iter num 80\n",
            "loss 0.4618459939956665 average time 0.006205556949935271 iter num 100\n",
            "loss 1.1429078578948975 average time 0.019828427599713906 iter num 20\n",
            "loss 0.849681556224823 average time 0.011329566350286768 iter num 40\n",
            "loss 0.5659090280532837 average time 0.008499495500169965 iter num 60\n",
            "loss 0.40808773040771484 average time 0.00709216803761592 iter num 80\n",
            "loss 0.194780170917511 average time 0.006282392190187238 iter num 100\n",
            "loss 0.5944662690162659 average time 0.019796318999215145 iter num 20\n",
            "loss 0.35967326164245605 average time 0.011293781499807665 iter num 40\n",
            "loss 0.37847447395324707 average time 0.008456170433419175 iter num 60\n",
            "loss 0.30223435163497925 average time 0.0070467118123815455 iter num 80\n",
            "loss 0.21795400977134705 average time 0.006197102590158465 iter num 100\n",
            "loss 1.9276800155639648 average time 0.019584392300021135 iter num 20\n",
            "loss 0.3458312153816223 average time 0.011197519125380495 iter num 40\n",
            "loss 0.3061879575252533 average time 0.008408348516604746 iter num 60\n",
            "loss 0.13195858895778656 average time 0.007004172024517174 iter num 80\n",
            "loss 0.34495261311531067 average time 0.006160774549498455 iter num 100\n",
            "loss 3.1477856636047363 average time 0.01942618334942381 iter num 20\n",
            "loss 0.40983474254608154 average time 0.011157152124906134 iter num 40\n",
            "loss 0.2631588578224182 average time 0.008371570666470991 iter num 60\n",
            "loss 0.28214991092681885 average time 0.006978462937513541 iter num 80\n",
            "loss 0.10326007008552551 average time 0.006143466250068741 iter num 100\n",
            "loss 1.3071473836898804 average time 0.01987889150150295 iter num 20\n",
            "loss 1.5384423732757568 average time 0.011380790925613837 iter num 40\n",
            "loss 0.7055964469909668 average time 0.008553202833718387 iter num 60\n",
            "loss 0.32186925411224365 average time 0.007125643037488772 iter num 80\n",
            "loss 0.1289944052696228 average time 0.006257684089723626 iter num 100\n",
            "loss 0.12722834944725037 average time 0.019396128849984963 iter num 20\n",
            "loss 0.2807239294052124 average time 0.011093443200115871 iter num 40\n",
            "loss 0.25848501920700073 average time 0.008336857583223415 iter num 60\n",
            "loss 0.2984476089477539 average time 0.006953804412569297 iter num 80\n",
            "loss 0.1584658920764923 average time 0.006128284509832156 iter num 100\n",
            "loss 0.18992756307125092 average time 0.01953641854925081 iter num 20\n",
            "loss 0.2562340199947357 average time 0.01115994597439567 iter num 40\n",
            "loss 0.36329787969589233 average time 0.00837249374962994 iter num 60\n",
            "loss 0.2905632555484772 average time 0.007050113587592932 iter num 80\n",
            "loss 0.1879219263792038 average time 0.006197174020271632 iter num 100\n",
            "loss 0.38322970271110535 average time 0.019423853599073483 iter num 20\n",
            "loss 0.5007009506225586 average time 0.011131412249596906 iter num 40\n",
            "loss 0.13167385756969452 average time 0.008362623016243258 iter num 60\n",
            "loss 0.1731024831533432 average time 0.0069701991747024294 iter num 80\n",
            "loss 0.5324062705039978 average time 0.006154212819819804 iter num 100\n",
            "loss 0.5198042392730713 average time 0.019633867000084137 iter num 20\n",
            "loss 0.26223450899124146 average time 0.011292210274768876 iter num 40\n",
            "loss 0.5005956888198853 average time 0.008486904999638984 iter num 60\n",
            "loss 0.3062517046928406 average time 0.007072057124696584 iter num 80\n",
            "loss 0.26818713545799255 average time 0.006218158359552035 iter num 100\n",
            "loss 1.5316050052642822 average time 0.01971014320006361 iter num 20\n",
            "loss 0.2833709120750427 average time 0.011250750200088078 iter num 40\n",
            "loss 0.5137848258018494 average time 0.008456975366546734 iter num 60\n",
            "loss 0.23184016346931458 average time 0.007181587312425108 iter num 80\n",
            "loss 0.47580692172050476 average time 0.0063084579499991375 iter num 100\n",
            "loss 1.966378927230835 average time 0.01951470994899864 iter num 20\n",
            "loss 0.7155096530914307 average time 0.0111548191998736 iter num 40\n",
            "loss 0.9481042623519897 average time 0.008374720766732935 iter num 60\n",
            "loss 0.14351385831832886 average time 0.006976915362429281 iter num 80\n",
            "loss 0.3658732771873474 average time 0.006138664920072188 iter num 100\n",
            "loss 0.3196830749511719 average time 0.019953629299925522 iter num 20\n",
            "loss 0.6430621147155762 average time 0.011405435350025073 iter num 40\n",
            "loss 0.6135656833648682 average time 0.008544163049615841 iter num 60\n",
            "loss 0.3242878317832947 average time 0.007107753887339641 iter num 80\n",
            "loss 0.2198353409767151 average time 0.006248453699954553 iter num 100\n",
            "loss 0.4614880681037903 average time 0.019866340399312322 iter num 20\n",
            "loss 0.5438836216926575 average time 0.011369373224988521 iter num 40\n",
            "loss 0.18615445494651794 average time 0.00850882020034381 iter num 60\n",
            "loss 0.16684657335281372 average time 0.007125948262910242 iter num 80\n",
            "loss 0.15330073237419128 average time 0.00627523118047975 iter num 100\n",
            "loss 0.8602542877197266 average time 0.01993804279991309 iter num 20\n",
            "loss 0.28030070662498474 average time 0.011362039549931069 iter num 40\n",
            "loss 0.15489110350608826 average time 0.008505122767019202 iter num 60\n",
            "loss 0.28919532895088196 average time 0.007092091737740702 iter num 80\n",
            "loss 0.3099616467952728 average time 0.006276990950354957 iter num 100\n",
            "loss 0.49747729301452637 average time 0.019810609650812695 iter num 20\n",
            "loss 0.4635731279850006 average time 0.011345870200602803 iter num 40\n",
            "loss 0.6057800054550171 average time 0.008511104283631237 iter num 60\n",
            "loss 0.21912260353565216 average time 0.007084239012601756 iter num 80\n",
            "loss 0.27811506390571594 average time 0.006235858160071075 iter num 100\n",
            "loss 0.2890474200248718 average time 0.01990790485033358 iter num 20\n",
            "loss 0.7452681064605713 average time 0.01137293750016397 iter num 40\n",
            "loss 2.121886968612671 average time 0.00851701585003563 iter num 60\n",
            "loss 0.28271666169166565 average time 0.007091877162474702 iter num 80\n",
            "loss 0.09311830997467041 average time 0.006234636259978288 iter num 100\n",
            "loss 0.35870105028152466 average time 0.0196386669005733 iter num 20\n",
            "loss 0.4538111388683319 average time 0.011350605150073533 iter num 40\n",
            "loss 0.28671982884407043 average time 0.008497752050243435 iter num 60\n",
            "loss 0.16605430841445923 average time 0.007074499912505416 iter num 80\n",
            "loss 0.2917717397212982 average time 0.006215184189859429 iter num 100\n",
            "loss 0.2897047996520996 average time 0.019822962100079167 iter num 20\n",
            "loss 0.4407161772251129 average time 0.011453043800247541 iter num 40\n",
            "loss 0.18635928630828857 average time 0.008578577800168812 iter num 60\n",
            "loss 0.22966432571411133 average time 0.007134867037711956 iter num 80\n",
            "loss 0.25012528896331787 average time 0.006268541470271885 iter num 100\n",
            "loss 0.38691723346710205 average time 0.01991256849905767 iter num 20\n",
            "loss 0.43195319175720215 average time 0.011386076199232775 iter num 40\n",
            "loss 0.15261894464492798 average time 0.008530276649617008 iter num 60\n",
            "loss 0.24529960751533508 average time 0.007106916524844564 iter num 80\n",
            "loss 0.1690695732831955 average time 0.006248459839625866 iter num 100\n",
            "loss 0.5670626163482666 average time 0.019620093050252762 iter num 20\n",
            "loss 0.8427537679672241 average time 0.011204244849614043 iter num 40\n",
            "loss 0.33107563853263855 average time 0.008415557416446973 iter num 60\n",
            "loss 0.36634522676467896 average time 0.0070239578875771255 iter num 80\n",
            "loss 0.3326890766620636 average time 0.0061923628400836605 iter num 100\n"
          ],
          "name": "stdout"
        },
        {
          "output_type": "execute_result",
          "data": {
            "text/plain": [
              "State:\n",
              "\titeration: 10000\n",
              "\tepoch: 100\n",
              "\tepoch_length: 100\n",
              "\tmax_epochs: 100\n",
              "\toutput: 0.3326890766620636\n",
              "\tbatch: <class 'tuple'>\n",
              "\tmetrics: <class 'dict'>\n",
              "\tdataloader: <class 'cupy_dataset.NumbaOptionDataSet'>\n",
              "\tseed: <class 'NoneType'>\n",
              "\ttimes: <class 'dict'>"
            ]
          },
          "metadata": {},
          "execution_count": 14
        }
      ]
    },
    {
      "cell_type": "markdown",
      "metadata": {
        "id": "vU1EpGuInwjJ"
      },
      "source": [
        "$2365$ seconds The loss is keeping decreasing which means the pricing model can predict the option prices better. It takes about $12ms$ to compute one mini-batch in average, In the following sections, we will try to expore the full potentials of the GPU to accelerate the training."
      ]
    },
    {
      "cell_type": "markdown",
      "metadata": {
        "id": "A8McNtejRNFT"
      },
      "source": [
        "**Save Model**"
      ]
    },
    {
      "cell_type": "code",
      "metadata": {
        "id": "YRtOr1XIPOvF",
        "colab": {
          "base_uri": "https://localhost:8080/"
        },
        "outputId": "f5c7c3c1-0fe6-41ca-f245-8c84dcadf221"
      },
      "source": [
        "from google.colab import drive\n",
        "drive.mount('/content/drive')"
      ],
      "execution_count": 15,
      "outputs": [
        {
          "output_type": "stream",
          "text": [
            "Drive already mounted at /content/drive; to attempt to forcibly remount, call drive.mount(\"/content/drive\", force_remount=True).\n"
          ],
          "name": "stdout"
        }
      ]
    },
    {
      "cell_type": "code",
      "metadata": {
        "id": "ndftly2yPEaM"
      },
      "source": [
        "import torch\n",
        "model_save_name = f'EuCall_{str(nstock)}_v1_Erin.pth'\n",
        "path = F\"/content/drive/MyDrive/AFP/Save_Models/{model_save_name}\" \n",
        "torch.save(model.state_dict(), path)"
      ],
      "execution_count": 16,
      "outputs": []
    },
    {
      "cell_type": "markdown",
      "metadata": {
        "id": "y6DRO9K2RQoJ"
      },
      "source": [
        "**Load Model**"
      ]
    },
    {
      "cell_type": "code",
      "metadata": {
        "id": "wnn917db7hkG"
      },
      "source": [
        "model_save_name = f'EuCall_{str(nstock)}_v1_Erin.pth'"
      ],
      "execution_count": 17,
      "outputs": []
    },
    {
      "cell_type": "code",
      "metadata": {
        "id": "HGXZSV_YRT8v",
        "colab": {
          "base_uri": "https://localhost:8080/"
        },
        "outputId": "6becf0f7-4a63-4ebd-cdd8-d408da5eab4e"
      },
      "source": [
        "from google.colab import drive\n",
        "drive.mount('/content/drive')"
      ],
      "execution_count": 18,
      "outputs": [
        {
          "output_type": "stream",
          "text": [
            "Drive already mounted at /content/drive; to attempt to forcibly remount, call drive.mount(\"/content/drive\", force_remount=True).\n"
          ],
          "name": "stdout"
        }
      ]
    },
    {
      "cell_type": "code",
      "metadata": {
        "id": "3ntY-N5bOqdq",
        "colab": {
          "base_uri": "https://localhost:8080/"
        },
        "outputId": "63291db0-a128-46df-ec20-e8a60624d243"
      },
      "source": [
        "import torch\n",
        "path = F\"/content/drive/MyDrive/AFP/Save_Models/{model_save_name}\" \n",
        "state_dict = torch.load(path)\n",
        "print(state_dict.keys())"
      ],
      "execution_count": 19,
      "outputs": [
        {
          "output_type": "stream",
          "text": [
            "odict_keys(['norm', 'fc1.weight', 'fc1.bias', 'fc2.weight', 'fc2.bias', 'fc3.weight', 'fc3.bias', 'fc4.weight', 'fc4.bias', 'fc5.weight', 'fc5.bias', 'fc6.weight', 'fc6.bias'])\n"
          ],
          "name": "stdout"
        }
      ]
    },
    {
      "cell_type": "code",
      "metadata": {
        "id": "j0GAGPAgPmgh",
        "colab": {
          "base_uri": "https://localhost:8080/"
        },
        "outputId": "e25ad67b-9c1f-4fb6-bbca-0f85326d0939"
      },
      "source": [
        "# need to run 'Writing cupy_dataset.py' and 'Writing model.py' above before this\n",
        "from model import Net\n",
        "model = Net(nstock = nstock).cuda()\n",
        "\n",
        "model.load_state_dict(state_dict)\n",
        "print(model)"
      ],
      "execution_count": 20,
      "outputs": [
        {
          "output_type": "stream",
          "text": [
            "Net(\n",
            "  (fc1): Linear(in_features=18, out_features=1024, bias=True)\n",
            "  (fc2): Linear(in_features=1024, out_features=1024, bias=True)\n",
            "  (fc3): Linear(in_features=1024, out_features=1024, bias=True)\n",
            "  (fc4): Linear(in_features=1024, out_features=1024, bias=True)\n",
            "  (fc5): Linear(in_features=1024, out_features=1024, bias=True)\n",
            "  (fc6): Linear(in_features=1024, out_features=1, bias=True)\n",
            ")\n"
          ],
          "name": "stdout"
        }
      ]
    },
    {
      "cell_type": "markdown",
      "metadata": {
        "id": "rXT4Bg0wdL7l"
      },
      "source": [
        "### Continue to train model"
      ]
    },
    {
      "cell_type": "code",
      "metadata": {
        "id": "Zfa9cp6CdG8T"
      },
      "source": [
        "# from ignite.engine import Engine, Events\n",
        "# from ignite.handlers import Timer\n",
        "# from torch.nn import MSELoss\n",
        "# from torch.optim import Adam\n",
        "# from ignite.contrib.handlers.param_scheduler import CosineAnnealingScheduler\n",
        "# from ignite.handlers import ModelCheckpoint\n",
        "# from model import Net\n",
        "# from cupy_dataset import NumbaOptionDataSet\n",
        "# timer = Timer(average=True)\n",
        "# #model = Net(nstock = nstock).cuda()\n",
        "# loss_fn = MSELoss()\n",
        "# optimizer = Adam(model.parameters(), lr=1e-3)\n",
        "# # dataset = NumbaOptionDataSet(max_len=10000, number_path = 1024, batch=4800)\n",
        "# dataset = NumbaOptionDataSet(max_len=100, number_path = 1024, batch=32, seed = random.randint(0, 100), stocks=nstock)\n",
        "\n",
        "# def train_update(engine, batch):\n",
        "#     model.train()\n",
        "#     optimizer.zero_grad()\n",
        "#     x = batch[0]\n",
        "#     y = batch[1]\n",
        "#     y_pred = model(x)\n",
        "#     loss = loss_fn(y_pred[:,0], y)\n",
        "#     loss.backward()\n",
        "#     optimizer.step()\n",
        "#     return loss.item()\n",
        "\n",
        "# trainer = Engine(train_update)\n",
        "# log_interval = 20\n",
        "\n",
        "# scheduler = CosineAnnealingScheduler(optimizer, 'lr', 1e-4, 1e-6, len(dataset))\n",
        "# trainer.add_event_handler(Events.ITERATION_STARTED, scheduler)\n",
        "# timer.attach(trainer,\n",
        "#              start=Events.EPOCH_STARTED,\n",
        "#              resume=Events.ITERATION_STARTED,\n",
        "#              pause=Events.ITERATION_COMPLETED,\n",
        "#              step=Events.ITERATION_COMPLETED)    \n",
        "# @trainer.on(Events.ITERATION_COMPLETED)\n",
        "# def log_training_loss(engine):\n",
        "#     iter = (engine.state.iteration - 1) % len(dataset) + 1\n",
        "#     if iter % log_interval == 0:\n",
        "#         print('loss', engine.state.output, 'average time', timer.value(), 'iter num', iter)\n",
        "        \n",
        "# trainer.run(dataset, max_epochs=100)"
      ],
      "execution_count": 21,
      "outputs": []
    },
    {
      "cell_type": "code",
      "metadata": {
        "id": "M_KTvu9N4oSY"
      },
      "source": [
        "# model_save_name = f'EuCall_{str(nstock)}_v3_Erin.pth'\n",
        "# path = F\"/content/drive/MyDrive/AFP/Save_Models/{model_save_name}\" \n",
        "# torch.save(model.state_dict(), path)"
      ],
      "execution_count": 22,
      "outputs": []
    },
    {
      "cell_type": "markdown",
      "metadata": {
        "id": "ehmhDw8BUtLi"
      },
      "source": [
        "### Inference and Greeks"
      ]
    },
    {
      "cell_type": "markdown",
      "metadata": {
        "id": "Uiro43mOU0Ro"
      },
      "source": [
        "We can load the model parameters and use it to do inference"
      ]
    },
    {
      "cell_type": "code",
      "metadata": {
        "id": "svlu6tGTRx1F",
        "colab": {
          "base_uri": "https://localhost:8080/"
        },
        "outputId": "8f336adb-bb16-45e5-d583-733495fecea6"
      },
      "source": [
        "import torch\n",
        "\n",
        "inputs = torch.tensor([[1, 110.0, 110.0, 0.35, 0.1, 0.05] * nstock]).cuda()\n",
        "model(inputs.float())"
      ],
      "execution_count": 23,
      "outputs": [
        {
          "output_type": "execute_result",
          "data": {
            "text/plain": [
              "tensor([[11.7879]], device='cuda:0', grad_fn=<AddmmBackward>)"
            ]
          },
          "metadata": {},
          "execution_count": 23
        }
      ]
    },
    {
      "cell_type": "markdown",
      "metadata": {
        "id": "M1Iy-9pWVRDO"
      },
      "source": [
        "One of the benefits of building a deep learning model is that the [Greeks](<https://en.wikipedia.org/wiki/Greeks_(finance)#First-order_Greeks>) can be easily computed. \n",
        "We just need to take advantage of the auto-grad feature in Pytorch. We can use `grad` function to compute the first order differentiation for parameters 'K, B, S0, sigma, mu, r'"
      ]
    },
    {
      "cell_type": "code",
      "metadata": {
        "id": "ytBZaYHKSnDu",
        "colab": {
          "base_uri": "https://localhost:8080/"
        },
        "outputId": "4049e725-c0a4-49a5-fc4b-ca911400fa7f"
      },
      "source": [
        "inputs = torch.tensor([[1, 110.0, 110.0, 0.35, 0.1, 0.05] * nstock]).cuda()\n",
        "inputs.requires_grad = True\n",
        "x = model(inputs.float())\n",
        "x.backward()\n",
        "first_order_gradient = inputs.grad\n",
        "first_order_gradient"
      ],
      "execution_count": 24,
      "outputs": [
        {
          "output_type": "execute_result",
          "data": {
            "text/plain": [
              "tensor([[-3.0166, -0.1898,  0.1990,  6.7653, -0.5620, 23.7569, -0.6298, -0.1766,\n",
              "          0.1986,  6.6410, -1.3927, 34.7440, -3.4330, -0.1457,  0.1998,  7.3827,\n",
              "         -0.6786, -0.8201]], device='cuda:0')"
            ]
          },
          "metadata": {},
          "execution_count": 24
        }
      ]
    },
    {
      "cell_type": "markdown",
      "metadata": {
        "id": "8KeijaDDVZGd"
      },
      "source": [
        "Here we are going to plot the Delta graph:-"
      ]
    },
    {
      "cell_type": "markdown",
      "metadata": {
        "id": "skwgeVDsA_Mr"
      },
      "source": [
        "# Delta"
      ]
    },
    {
      "cell_type": "markdown",
      "metadata": {
        "id": "Bi_2Dqnx3_oP"
      },
      "source": [
        "#### Using gradient, Change only 1 S0 at a time"
      ]
    },
    {
      "cell_type": "code",
      "metadata": {
        "id": "USh3qaADSYQp"
      },
      "source": [
        "#### Using gradient, Change only 1 S0 at a time\n",
        "%matplotlib inline\n",
        "from torch.autograd import grad\n",
        "import pylab\n",
        "import numpy as np\n",
        "def compute_delta(S, ith):\n",
        "    inputs = torch.tensor([[1, 110.0, 110.0, 0.35, 0.1, 0.05]*(ith-1)\\\n",
        "                           + [1, 110.0, S, 0.35, 0.1, 0.05]\\\n",
        "                           + ([1, 110.0, 110.0, 0.35, 0.1, 0.05]*(nstock-ith))]).cuda()\n",
        "    inputs.requires_grad = True\n",
        "    x = model(inputs.float())\n",
        "    #x = model(inputs)\n",
        "    x.backward()\n",
        "    first_order_gradient = inputs.grad\n",
        "    return first_order_gradient[0][2]"
      ],
      "execution_count": 25,
      "outputs": []
    },
    {
      "cell_type": "code",
      "metadata": {
        "colab": {
          "base_uri": "https://localhost:8080/",
          "height": 279
        },
        "id": "4MfZKJlv13SC",
        "outputId": "bfd50556-5fcc-46f1-de8c-023ccfc6d47c"
      },
      "source": [
        "for i in range(1, nstock+1):\n",
        "  prices = np.arange(0, 150, 0.1)\n",
        "  deltas = []\n",
        "  for p in prices:\n",
        "      deltas.append(compute_delta(p, i).item())\n",
        "  fig = pylab.plot(prices, deltas, label = f'{i}th stock')\n",
        "  pylab.legend(loc = 'lower right')\n",
        "  pylab.xlabel('prices')\n",
        "  pylab.ylabel('Delta')\n",
        "  fig"
      ],
      "execution_count": 26,
      "outputs": [
        {
          "output_type": "display_data",
          "data": {
            "image/png": "[encoded data removed]",
            "text/plain": [
              "<Figure size 432x288 with 1 Axes>"
            ]
          },
          "metadata": {
            "needs_background": "light"
          }
        }
      ]
    },
    {
      "cell_type": "markdown",
      "metadata": {
        "id": "iXixHQic35iI"
      },
      "source": [
        "#### Using Finite Difference, Change only 1 S0 at a time"
      ]
    },
    {
      "cell_type": "code",
      "metadata": {
        "colab": {
          "base_uri": "https://localhost:8080/",
          "height": 279
        },
        "id": "VGk5Hw64fMdh",
        "outputId": "71a245ff-ae19-42d8-a66c-1056d574425c"
      },
      "source": [
        "## Using Finite Difference, Change only 1 S0 at a time\n",
        "%matplotlib inline\n",
        "import numpy as np\n",
        "def compute_delta(S, ith):\n",
        "    epsilon = 0.01\n",
        "    inputs1 = torch.tensor([[1, 110.0, 110.0, 0.35, 0.1, 0.05]*(ith-1)\\\n",
        "                           + [1, 110.0, S, 0.35, 0.1, 0.05]\\\n",
        "                           + ([1, 110.0, 110.0, 0.35, 0.1, 0.05]*(nstock-ith))]).cuda()\n",
        "    inputs2 = torch.tensor([[1, 110.0, 110.0, 0.35, 0.1, 0.05]*(ith-1)\\\n",
        "                           + [1, 110.0, S + epsilon, 0.35, 0.1, 0.05]\\\n",
        "                           + ([1, 110.0, 110.0, 0.35, 0.1, 0.05]*(nstock-ith))]).cuda()\n",
        "    delta = (model(inputs2.float()) - model(inputs1.float()))/epsilon\n",
        "    return delta\n",
        "\n",
        "for i in range(1, nstock+1):\n",
        "  prices = np.arange(0, 150, 0.1)\n",
        "  deltas = []\n",
        "  for p in prices:\n",
        "      deltas.append(compute_delta(p, i).item())\n",
        "  fig = pylab.plot(prices, deltas, label = f'{i}th stock')\n",
        "  pylab.legend(loc = 'lower right')\n",
        "  pylab.xlabel('prices')\n",
        "  pylab.ylabel('Delta')\n",
        "  fig"
      ],
      "execution_count": 27,
      "outputs": [
        {
          "output_type": "display_data",
          "data": {
            "image/png": "[encoded data removed]",
            "text/plain": [
              "<Figure size 432x288 with 1 Axes>"
            ]
          },
          "metadata": {
            "needs_background": "light"
          }
        }
      ]
    },
    {
      "cell_type": "markdown",
      "metadata": {
        "id": "fIJe36fJ4JFO"
      },
      "source": [
        "#### Using Finite Difference, Change 3 S0 at a time"
      ]
    },
    {
      "cell_type": "code",
      "metadata": {
        "colab": {
          "base_uri": "https://localhost:8080/",
          "height": 296
        },
        "id": "4O1I8COnUxnz",
        "outputId": "b4449be7-d8ba-423f-83f8-65e4b77e3a34"
      },
      "source": [
        "##Using Finite Difference, Change 3 S0 at a time\n",
        "%matplotlib inline\n",
        "import numpy as np\n",
        "def compute_delta(S):\n",
        "    epsilon = 0.01\n",
        "    inputs1 = torch.tensor([[1, 110.0, S, 0.35, 0.1, 0.05]*nstock]).cuda()\n",
        "    inputs2 = torch.tensor([[1, 110.0, S + epsilon, 0.35, 0.1, 0.05]*nstock]).cuda()\n",
        "    delta = (model(inputs2.float()) - model(inputs1.float()))/epsilon\n",
        "    return delta\n",
        "\n",
        "\n",
        "prices = np.arange(0, 150, 0.1)\n",
        "deltas = []\n",
        "for p in prices:\n",
        "    deltas.append(compute_delta(p).item())\n",
        "fig = pylab.plot(prices, deltas)\n",
        "pylab.xlabel('prices')\n",
        "pylab.ylabel('Delta')\n",
        "fig"
      ],
      "execution_count": 28,
      "outputs": [
        {
          "output_type": "execute_result",
          "data": {
            "text/plain": [
              "[<matplotlib.lines.Line2D at 0x7f77fc953190>]"
            ]
          },
          "metadata": {},
          "execution_count": 28
        },
        {
          "output_type": "display_data",
          "data": {
            "image/png": "[encoded data removed]",
            "text/plain": [
              "<Figure size 432x288 with 1 Axes>"
            ]
          },
          "metadata": {
            "needs_background": "light"
          }
        }
      ]
    },
    {
      "cell_type": "code",
      "metadata": {
        "colab": {
          "base_uri": "https://localhost:8080/"
        },
        "id": "4DfOK_a4nuEt",
        "outputId": "d4131799-a203-46f2-e13b-7d914415d3ad"
      },
      "source": [
        "compute_delta(110)"
      ],
      "execution_count": 29,
      "outputs": [
        {
          "output_type": "execute_result",
          "data": {
            "text/plain": [
              "tensor([[0.5972]], device='cuda:0', grad_fn=<DivBackward0>)"
            ]
          },
          "metadata": {},
          "execution_count": 29
        }
      ]
    },
    {
      "cell_type": "markdown",
      "metadata": {
        "id": "yNB8LPwfBMHQ"
      },
      "source": [
        "# Gamma"
      ]
    },
    {
      "cell_type": "markdown",
      "metadata": {
        "id": "oLO_5nEGVcEc"
      },
      "source": [
        "Calculating the second order derivative is easy in PyTorch too. We just need to apply the `grad` function twice. Use this mechanism, we can calculate the second order derivatives $\\frac{\\partial^2 P}{\\partial K \\partial S_0}$, $\\frac{\\partial^2 P}{\\partial B \\partial S_0}$, $\\frac{\\partial^2 P}{\\partial S_0^2}$, $\\frac{\\partial^2 P}{\\partial \\sigma \\partial S_0}$, $\\frac{\\partial^2 P}{\\partial \\mu \\partial S_0}$, $\\frac{\\partial^2 P}{\\partial r \\partial S_0}$ in the following example."
      ]
    },
    {
      "cell_type": "code",
      "metadata": {
        "id": "nGzj7A3sThZK",
        "colab": {
          "base_uri": "https://localhost:8080/"
        },
        "outputId": "0f9c8af4-33d8-41e2-ee2f-fc4a64b5d08c"
      },
      "source": [
        "import torch\n",
        "from torch import Tensor\n",
        "from torch.autograd import Variable\n",
        "from torch.autograd import grad\n",
        "from torch import nn\n",
        "\n",
        "inputs = torch.tensor([[1, 110.0, 110.0, 0.35, 0.1, 0.05]*nstock]).cuda()\n",
        "inputs.requires_grad = True\n",
        "x = model(inputs)\n",
        "\n",
        "# instead of using loss.backward(), use torch.autograd.grad() to compute gradients\n",
        "# https://pytorch.org/docs/stable/autograd.html#torch.autograd.grad\n",
        "loss_grads = grad(x, inputs, create_graph=True)\n",
        "drv = grad(loss_grads[0][0][2], inputs)\n",
        "drv"
      ],
      "execution_count": 30,
      "outputs": [
        {
          "output_type": "execute_result",
          "data": {
            "text/plain": [
              "(tensor([[-0.0250, -0.0021,  0.0019, -0.0273,  0.0100,  0.2578, -0.0050, -0.0020,\n",
              "           0.0020, -0.0325, -0.0063,  0.3717, -0.0334, -0.0016,  0.0019, -0.0296,\n",
              "           0.0056,  0.0095]], device='cuda:0'),)"
            ]
          },
          "metadata": {},
          "execution_count": 30
        }
      ]
    },
    {
      "cell_type": "markdown",
      "metadata": {
        "id": "WJbZYtvhVmSo"
      },
      "source": [
        "Gamma is the second order differenation of `S`. We can plot the the Gamma curve as a function of the stock price"
      ]
    },
    {
      "cell_type": "markdown",
      "metadata": {
        "id": "dlXVePiK4UH5"
      },
      "source": [
        "#### Using gradient, Change only 1 S0 at a time"
      ]
    },
    {
      "cell_type": "code",
      "metadata": {
        "id": "3JpQa3EJToA0",
        "colab": {
          "base_uri": "https://localhost:8080/",
          "height": 279
        },
        "outputId": "5ed55258-5dac-4b9f-ea6d-f7aa62645a11"
      },
      "source": [
        "##Using gradient, Change only 1 S0 at a time\n",
        "import pylab\n",
        "import numpy as np\n",
        "def compute_gamma(S, ith):\n",
        "  inputs = torch.tensor([[1, 110.0, 110.0, 0.35, 0.1, 0.05]*(ith-1)\\\n",
        "                           + [1, 110.0, S, 0.35, 0.1, 0.05]\\\n",
        "                           + ([1, 110.0, 110.0, 0.35, 0.1, 0.05]*(nstock-ith))]).cuda()\n",
        "  # inputs = torch.tensor([[1, 110.0, S, 0.35, 0.1, 0.05] + ([1, 110.0, 110.0, 0.35, 0.1, 0.05]*2)]).cuda()\n",
        "  inputs.requires_grad = True\n",
        "  x = model(inputs.float())\n",
        "  #x = model(inputs)\n",
        "  loss_grads = grad(x, inputs, create_graph=True)\n",
        "  drv = grad(loss_grads[0][0][2], inputs)\n",
        "  return drv[0][0][2]\n",
        "\n",
        "for i in range(1, nstock+1):\n",
        "  prices = np.arange(0, 150, 0.1)\n",
        "  gammas = []\n",
        "  for p in prices:\n",
        "      gammas.append(compute_gamma(p, i).item())\n",
        "  fig2 = pylab.plot(prices, gammas, label = f'{i}th stock')\n",
        "  pylab.legend(loc = 'upper right')\n",
        "  pylab.xlabel('prices')\n",
        "  pylab.ylabel('Gamma')\n",
        "  fig2"
      ],
      "execution_count": 31,
      "outputs": [
        {
          "output_type": "display_data",
          "data": {
            "image/png": "[encoded data removed]",
            "text/plain": [
              "<Figure size 432x288 with 1 Axes>"
            ]
          },
          "metadata": {
            "needs_background": "light"
          }
        }
      ]
    },
    {
      "cell_type": "markdown",
      "metadata": {
        "id": "RDEmn97t4xxJ"
      },
      "source": [
        "#### Using Finite Difference, Change only 1 S0 at a time"
      ]
    },
    {
      "cell_type": "code",
      "metadata": {
        "id": "BsoaOyCDxQy0",
        "colab": {
          "base_uri": "https://localhost:8080/",
          "height": 279
        },
        "outputId": "9825536c-bf2f-4cf7-9af3-471cf499b7f2"
      },
      "source": [
        "##Using Finite Difference, Change only 1 S0 at a time\n",
        "%matplotlib inline\n",
        "import numpy as np\n",
        "def compute_gamma(S, ith):\n",
        "    epsilon = 0.5\n",
        "    inputs1 = torch.tensor([[1, 110.0, 110.0, 0.35, 0.1, 0.05]*(ith-1)\\\n",
        "                           + [1, 110.0, S, 0.35, 0.1, 0.05]\\\n",
        "                           + ([1, 110.0, 110.0, 0.35, 0.1, 0.05]*(nstock-ith))]).cuda()\n",
        "    inputs2 = torch.tensor([[1, 110.0, 110.0, 0.35, 0.1, 0.05]*(ith-1)\\\n",
        "                           + [1, 110.0, S+epsilon, 0.35, 0.1, 0.05]\\\n",
        "                           + ([1, 110.0, 110.0, 0.35, 0.1, 0.05]*(nstock-ith))]).cuda()\n",
        "    inputs3 = torch.tensor([[1, 110.0, 110.0, 0.35, 0.1, 0.05]*(ith-1)\\\n",
        "                           + [1, 110.0, S-epsilon, 0.35, 0.1, 0.05]\\\n",
        "                           + ([1, 110.0, 110.0, 0.35, 0.1, 0.05]*(nstock-ith))]).cuda()\n",
        "    # inputs1 = torch.tensor([[1, 110.0, S, 0.35, 0.1, 0.05]  + ([1, 110.0, 110.0, 0.35, 0.1, 0.05]*2)]).cuda()\n",
        "    # inputs2 = torch.tensor([[1, 110.0, S + epsilon, 0.35, 0.1, 0.05]  + ([1, 110.0, 110.0, 0.35, 0.1, 0.05]*2)]).cuda()\n",
        "    # inputs3 = torch.tensor([[1, 110.0, S - epsilon, 0.35, 0.1, 0.05]  + ([1, 110.0, 110.0, 0.35, 0.1, 0.05]*2)]).cuda()\n",
        "    gamma = (model(inputs2.float()) - 2*model(inputs1.float()) + model(inputs3.float()))/(epsilon**2)\n",
        "    return gamma\n",
        "\n",
        "for i in range(1, nstock+1):\n",
        "  prices = np.arange(0, 150, 0.1)\n",
        "  gammas = []\n",
        "  for p in prices:\n",
        "      gammas.append(compute_gamma(p, i).item())\n",
        "  fig = pylab.plot(prices, gammas, label = f'{i}th stock')\n",
        "  pylab.legend(loc = 'upper right')\n",
        "  pylab.xlabel('prices')\n",
        "  pylab.ylabel('Gamma')\n",
        "  fig"
      ],
      "execution_count": 32,
      "outputs": [
        {
          "output_type": "display_data",
          "data": {
            "image/png": "[encoded data removed]",
            "text/plain": [
              "<Figure size 432x288 with 1 Axes>"
            ]
          },
          "metadata": {
            "needs_background": "light"
          }
        }
      ]
    },
    {
      "cell_type": "markdown",
      "metadata": {
        "id": "SnRaSM685NCq"
      },
      "source": [
        "#### Using Finite Difference, Change 3 S0 at a time"
      ]
    },
    {
      "cell_type": "code",
      "metadata": {
        "colab": {
          "base_uri": "https://localhost:8080/",
          "height": 296
        },
        "id": "aOsXgOwWZ_ru",
        "outputId": "ee9cc577-6202-4d21-c074-9a36d9a6a14d"
      },
      "source": [
        "##Using Finite Difference, Change 3 S0 at a time\n",
        "%matplotlib inline\n",
        "import numpy as np\n",
        "def compute_gamma(S):\n",
        "    epsilon = 0.5\n",
        "    inputs1 = torch.tensor([[1, 110.0, S, 0.35, 0.1, 0.05]*nstock]).cuda()\n",
        "    inputs2 = torch.tensor([[1, 110.0, S + epsilon, 0.35, 0.1, 0.05]*nstock]).cuda()\n",
        "    inputs3 = torch.tensor([[1, 110.0, S - epsilon, 0.35, 0.1, 0.05]*nstock]).cuda()\n",
        "    gamma = (model(inputs2.float()) - 2*model(inputs1.float()) + model(inputs3.float()))/(epsilon**2)\n",
        "    return gamma\n",
        "\n",
        "prices = np.arange(0, 150, 0.1)\n",
        "gammas = []\n",
        "for p in prices:\n",
        "    gammas.append(compute_gamma(p).item())\n",
        "fig = pylab.plot(prices, gammas)\n",
        "pylab.xlabel('prices')\n",
        "pylab.ylabel('Gamma')\n",
        "fig"
      ],
      "execution_count": 33,
      "outputs": [
        {
          "output_type": "execute_result",
          "data": {
            "text/plain": [
              "[<matplotlib.lines.Line2D at 0x7f77fc76f790>]"
            ]
          },
          "metadata": {},
          "execution_count": 33
        },
        {
          "output_type": "display_data",
          "data": {
            "image/png": "[encoded data removed]",
            "text/plain": [
              "<Figure size 432x288 with 1 Axes>"
            ]
          },
          "metadata": {
            "needs_background": "light"
          }
        }
      ]
    },
    {
      "cell_type": "markdown",
      "metadata": {
        "id": "67lca2xrBh9a"
      },
      "source": [
        "# Vega"
      ]
    },
    {
      "cell_type": "markdown",
      "metadata": {
        "id": "iuETeg-e53wz"
      },
      "source": [
        "#### Using finite difference, Change only 1 S0 at a time"
      ]
    },
    {
      "cell_type": "code",
      "metadata": {
        "id": "muozc-hzhSGA",
        "colab": {
          "base_uri": "https://localhost:8080/",
          "height": 279
        },
        "outputId": "f272b441-12df-4fff-9223-3b96df7bec47"
      },
      "source": [
        "##Using finite difference, Change only 1 S0 at a time\n",
        "# vega\n",
        "%matplotlib inline\n",
        "import numpy as np\n",
        "def compute_vega(S, ith):\n",
        "    epsilon = 0.5\n",
        "\n",
        "    inputs1 = torch.tensor([[1, 110.0, 110.0, 0.35, 0.1, 0.05]*(ith-1)\\\n",
        "                           + [1, 110.0, S, 0.35, 0.1, 0.05]\\\n",
        "                           + ([1, 110.0, 110.0, 0.35, 0.1, 0.05]*(nstock-ith))]).cuda()\n",
        "    inputs2 = torch.tensor([[1, 110.0, 110.0, 0.35, 0.1, 0.05]*(ith-1)\\\n",
        "                           + [1, 110.0, S, 0.35+epsilon, 0.1, 0.05]\\\n",
        "                           + ([1, 110.0, 110.0, 0.35, 0.1, 0.05]*(nstock-ith))]).cuda()\n",
        "\n",
        "    vega = (model(inputs2.float()) - model(inputs1.float()))/epsilon\n",
        "    return vega\n",
        "\n",
        "for i in range(1, nstock+1):\n",
        "  prices = np.arange(0, 150, 0.1)\n",
        "  vegas = []\n",
        "  for p in prices:\n",
        "      vegas.append(compute_vega(p, i).item())\n",
        "  fig = pylab.plot(prices, vegas, label = f'{i}th stock')\n",
        "  pylab.legend(loc = 'upper left')\n",
        "  pylab.xlabel('prices')\n",
        "  pylab.ylabel('Vega')\n",
        "  fig"
      ],
      "execution_count": 34,
      "outputs": [
        {
          "output_type": "display_data",
          "data": {
            "image/png": "[encoded data removed]",
            "text/plain": [
              "<Figure size 432x288 with 1 Axes>"
            ]
          },
          "metadata": {
            "needs_background": "light"
          }
        }
      ]
    },
    {
      "cell_type": "markdown",
      "metadata": {
        "id": "y_BYyL9d584w"
      },
      "source": [
        "#### Using Finite Difference, Change 3 S0 at a time"
      ]
    },
    {
      "cell_type": "code",
      "metadata": {
        "colab": {
          "base_uri": "https://localhost:8080/",
          "height": 296
        },
        "id": "0KATxBCAdlFt",
        "outputId": "b0d0a93f-aa56-4fb1-eae7-104aca60b39b"
      },
      "source": [
        "##Using Finite Difference, Change 3 S0 at a time\n",
        "# vega\n",
        "%matplotlib inline\n",
        "import numpy as np\n",
        "def compute_vega(S):\n",
        "    epsilon = 0.5\n",
        "    inputs1 = torch.tensor([[1, 110.0, S, 0.35, 0.1, 0.05]*nstock]).cuda()\n",
        "    inputs2 = torch.tensor([[1, 110.0, S, 0.35 + epsilon, 0.1, 0.05]*nstock]).cuda()\n",
        "    vega = (model(inputs2.float()) - model(inputs1.float()))/epsilon\n",
        "    return vega\n",
        "\n",
        "\n",
        "prices = np.arange(0, 150, 0.1)\n",
        "vegas = []\n",
        "for p in prices:\n",
        "    vegas.append(compute_vega(p).item())\n",
        "fig = pylab.plot(prices, vegas)\n",
        "pylab.xlabel('prices')\n",
        "pylab.ylabel('Vega')\n",
        "fig"
      ],
      "execution_count": 35,
      "outputs": [
        {
          "output_type": "execute_result",
          "data": {
            "text/plain": [
              "[<matplotlib.lines.Line2D at 0x7f77fc823750>]"
            ]
          },
          "metadata": {},
          "execution_count": 35
        },
        {
          "output_type": "display_data",
          "data": {
            "image/png": "[encoded data removed]",
            "text/plain": [
              "<Figure size 432x288 with 1 Axes>"
            ]
          },
          "metadata": {
            "needs_background": "light"
          }
        }
      ]
    },
    {
      "cell_type": "markdown",
      "metadata": {
        "id": "Rj7NlW6GVqSA"
      },
      "source": [
        "[Implied volatility](https://en.wikipedia.org/wiki/Implied_volatility) is the forecasted volatility of the underlying asset based on the quoted prices of the option. It is the reverse mapping of price to the option parameter given the model which is hard to do with the Monte Carlo simulation approach. But if we have the deep learning pricing model, it is an easy task. We can first plot the relationship between volatility and the option price"
      ]
    },
    {
      "cell_type": "code",
      "metadata": {
        "id": "4yrCw5UNT07t"
      },
      "source": [
        "# import pylab\n",
        "# import numpy as np\n",
        "# def compute_price(sigma):\n",
        "#     inputs = torch.tensor([[1, 110.0, 110.0, sigma, 0.1, 0.05]]).cuda()\n",
        "#     x = model(inputs.float())\n",
        "#     #x = model(inputs)\n",
        "#     return x.item()\n",
        "# sigmas = np.arange(0, 0.5, 0.1)\n",
        "# prices = []\n",
        "# for s in sigmas:\n",
        "#     prices.append(compute_price(s))\n",
        "# fig3 = pylab.plot(sigmas, prices)\n",
        "# pylab.xlabel('Sigma')\n",
        "# pylab.ylabel('Price')\n",
        "# fig3"
      ],
      "execution_count": 36,
      "outputs": []
    },
    {
      "cell_type": "markdown",
      "metadata": {
        "id": "EU25Cj29VtCa"
      },
      "source": [
        "Given the prices `P`, the implied volatility is the root of the function `compute_price`. We can use bisection to find the root."
      ]
    },
    {
      "cell_type": "code",
      "metadata": {
        "id": "ddHnwm_zUBYD"
      },
      "source": [
        "# def bisection_root(small, large, fun, target, EPS=1e-6):\n",
        "#     if fun(large) - target < 0:\n",
        "#         print('upper bound is too small')\n",
        "#         return None\n",
        "#     if fun(small) - target > 0:\n",
        "#         print('lower bound is too large')\n",
        "#         return None\n",
        "#     while large - small > EPS:\n",
        "#         mid = (large + small) / 2.0\n",
        "#         if fun(mid) - target >= 0:\n",
        "#             large = mid\n",
        "#         else:\n",
        "#             small = mid\n",
        "#     mid = (large + small) / 2.0\n",
        "#     return mid, abs(fun(mid) - target)\n",
        "# quoted_price = 16.0\n",
        "# sigma, err = bisection_root(0, 0.5, compute_price, quoted_price)\n",
        "# print('implied volativity', sigma, 'error', err)     "
      ],
      "execution_count": 37,
      "outputs": []
    },
    {
      "cell_type": "code",
      "metadata": {
        "id": "DEiAredqQGxf"
      },
      "source": [
        ""
      ],
      "execution_count": 37,
      "outputs": []
    }
  ]
}