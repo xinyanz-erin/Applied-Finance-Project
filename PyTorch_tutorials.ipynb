{
  "nbformat": 4,
  "nbformat_minor": 0,
  "metadata": {
    "colab": {
      "name": "PyTorch_tutorials.ipynb",
      "provenance": [],
      "collapsed_sections": [
        "Lc0rYErNNdng"
      ],
      "authorship_tag": "ABX9TyNF6uS+1T98vJwvg1od9uTK",
      "include_colab_link": true
    },
    "kernelspec": {
      "name": "python3",
      "display_name": "Python 3"
    },
    "language_info": {
      "name": "python"
    }
  },
  "cells": [
    {
      "cell_type": "markdown",
      "metadata": {
        "id": "view-in-github",
        "colab_type": "text"
      },
      "source": [
        "<a href=\"https://colab.research.google.com/github/xinyanz-erin/Applied-Finance-Project/blob/Erin/PyTorch_tutorials.ipynb\" target=\"_parent\"><img src=\"https://colab.research.google.com/assets/colab-badge.svg\" alt=\"Open In Colab\"/></a>"
      ]
    },
    {
      "cell_type": "markdown",
      "metadata": {
        "id": "HT62TVSrNRqJ"
      },
      "source": [
        "# Imports"
      ]
    },
    {
      "cell_type": "code",
      "metadata": {
        "id": "GZh1WcrzNNMz"
      },
      "source": [
        "import torch\n",
        "import torch.nn as nn\n",
        "import numpy as np\n",
        "from sklearn import datasets\n",
        "import matplotlib.pyplot as plt"
      ],
      "execution_count": 1,
      "outputs": []
    },
    {
      "cell_type": "markdown",
      "metadata": {
        "id": "ORNWZrObNiZ2"
      },
      "source": [
        "# 1. Installation"
      ]
    },
    {
      "cell_type": "code",
      "metadata": {
        "id": "hH10SUICrkAO"
      },
      "source": [
        ""
      ],
      "execution_count": null,
      "outputs": []
    },
    {
      "cell_type": "markdown",
      "metadata": {
        "id": "Lc0rYErNNdng"
      },
      "source": [
        "# 2. Tensor Basics"
      ]
    },
    {
      "cell_type": "code",
      "metadata": {
        "colab": {
          "base_uri": "https://localhost:8080/"
        },
        "id": "bfRNGpNCNc5l",
        "outputId": "916487b2-5bb5-41bd-b255-5ab218668c46"
      },
      "source": [
        "x = torch.empty(2, 3, 2, 3)\n",
        "print(x)"
      ],
      "execution_count": 2,
      "outputs": [
        {
          "output_type": "stream",
          "text": [
            "tensor([[[[6.4880e-35, 3.0805e-41, 0.0000e+00],\n",
            "          [0.0000e+00, 0.0000e+00, 0.0000e+00]],\n",
            "\n",
            "         [[0.0000e+00, 0.0000e+00, 0.0000e+00],\n",
            "          [0.0000e+00, 0.0000e+00, 0.0000e+00]],\n",
            "\n",
            "         [[0.0000e+00, 0.0000e+00, 0.0000e+00],\n",
            "          [0.0000e+00, 0.0000e+00, 0.0000e+00]]],\n",
            "\n",
            "\n",
            "        [[[0.0000e+00, 0.0000e+00, 0.0000e+00],\n",
            "          [0.0000e+00, 0.0000e+00, 0.0000e+00]],\n",
            "\n",
            "         [[0.0000e+00, 0.0000e+00, 0.0000e+00],\n",
            "          [0.0000e+00, 0.0000e+00, 0.0000e+00]],\n",
            "\n",
            "         [[0.0000e+00, 0.0000e+00, 0.0000e+00],\n",
            "          [0.0000e+00, 0.0000e+00, 0.0000e+00]]]])\n"
          ],
          "name": "stdout"
        }
      ]
    },
    {
      "cell_type": "code",
      "metadata": {
        "colab": {
          "base_uri": "https://localhost:8080/"
        },
        "id": "Kof_6rtkNo_J",
        "outputId": "54b9d7d5-483f-4058-a516-244823b603fc"
      },
      "source": [
        "x = torch.rand(2, 2) # random numbers\n",
        "print(x)"
      ],
      "execution_count": 3,
      "outputs": [
        {
          "output_type": "stream",
          "text": [
            "tensor([[0.9546, 0.0911],\n",
            "        [0.5403, 0.5306]])\n"
          ],
          "name": "stdout"
        }
      ]
    },
    {
      "cell_type": "code",
      "metadata": {
        "colab": {
          "base_uri": "https://localhost:8080/"
        },
        "id": "Mfd7FTOPN63R",
        "outputId": "d417f070-c7c9-4fe0-ad72-6dec8884545e"
      },
      "source": [
        "x = torch.zeros(2, 2)\n",
        "print(x)"
      ],
      "execution_count": 4,
      "outputs": [
        {
          "output_type": "stream",
          "text": [
            "tensor([[0., 0.],\n",
            "        [0., 0.]])\n"
          ],
          "name": "stdout"
        }
      ]
    },
    {
      "cell_type": "code",
      "metadata": {
        "colab": {
          "base_uri": "https://localhost:8080/"
        },
        "id": "o_1v45ClN9Zk",
        "outputId": "4a6f5413-7bf9-41a7-e0a2-bcbf3b1e8151"
      },
      "source": [
        "x = torch.ones(2, 2)\n",
        "print(x)"
      ],
      "execution_count": 5,
      "outputs": [
        {
          "output_type": "stream",
          "text": [
            "tensor([[1., 1.],\n",
            "        [1., 1.]])\n"
          ],
          "name": "stdout"
        }
      ]
    },
    {
      "cell_type": "code",
      "metadata": {
        "colab": {
          "base_uri": "https://localhost:8080/"
        },
        "id": "fpTN5VjVN__m",
        "outputId": "d6b4f80f-cffd-487c-aea1-35d0f532db74"
      },
      "source": [
        "print(x.dtype)"
      ],
      "execution_count": 6,
      "outputs": [
        {
          "output_type": "stream",
          "text": [
            "torch.float32\n"
          ],
          "name": "stdout"
        }
      ]
    },
    {
      "cell_type": "code",
      "metadata": {
        "colab": {
          "base_uri": "https://localhost:8080/"
        },
        "id": "eydzq0X8OEIt",
        "outputId": "56964942-7a30-49f1-d9e3-03e75554f7bd"
      },
      "source": [
        "x = torch.ones(2, 2, dtype = torch.int)\n",
        "print(x)"
      ],
      "execution_count": 7,
      "outputs": [
        {
          "output_type": "stream",
          "text": [
            "tensor([[1, 1],\n",
            "        [1, 1]], dtype=torch.int32)\n"
          ],
          "name": "stdout"
        }
      ]
    },
    {
      "cell_type": "code",
      "metadata": {
        "colab": {
          "base_uri": "https://localhost:8080/"
        },
        "id": "CR_iSVw9OIVv",
        "outputId": "3a897b68-70fe-41a9-9b7a-4766d48d747f"
      },
      "source": [
        "x = torch.ones(2, 2, dtype = torch.float16)\n",
        "print(x)"
      ],
      "execution_count": 8,
      "outputs": [
        {
          "output_type": "stream",
          "text": [
            "tensor([[1., 1.],\n",
            "        [1., 1.]], dtype=torch.float16)\n"
          ],
          "name": "stdout"
        }
      ]
    },
    {
      "cell_type": "code",
      "metadata": {
        "colab": {
          "base_uri": "https://localhost:8080/"
        },
        "id": "HWsIdl0zOLP3",
        "outputId": "3a83f2d8-9bae-425d-9f3f-7682e36a9bfb"
      },
      "source": [
        "print(x.size())"
      ],
      "execution_count": 9,
      "outputs": [
        {
          "output_type": "stream",
          "text": [
            "torch.Size([2, 2])\n"
          ],
          "name": "stdout"
        }
      ]
    },
    {
      "cell_type": "code",
      "metadata": {
        "colab": {
          "base_uri": "https://localhost:8080/"
        },
        "id": "pjWYmMbEONLn",
        "outputId": "6f52840a-fc19-458d-8639-e67e694d2ad6"
      },
      "source": [
        "x = torch.tensor([2.5, 0.1])\n",
        "print(x)"
      ],
      "execution_count": 10,
      "outputs": [
        {
          "output_type": "stream",
          "text": [
            "tensor([2.5000, 0.1000])\n"
          ],
          "name": "stdout"
        }
      ]
    },
    {
      "cell_type": "code",
      "metadata": {
        "colab": {
          "base_uri": "https://localhost:8080/"
        },
        "id": "dF33nJ3pOVhv",
        "outputId": "dc8a5030-40ac-458c-fa8d-a9bf5da7011c"
      },
      "source": [
        "x = torch.rand(2, 2)\n",
        "y = torch.rand(2, 2)\n",
        "print(x)\n",
        "print(y)\n",
        "z = x + y\n",
        "print(z)"
      ],
      "execution_count": 11,
      "outputs": [
        {
          "output_type": "stream",
          "text": [
            "tensor([[0.3362, 0.0880],\n",
            "        [0.4182, 0.0709]])\n",
            "tensor([[0.0123, 0.5144],\n",
            "        [0.7061, 0.5814]])\n",
            "tensor([[0.3485, 0.6024],\n",
            "        [1.1243, 0.6523]])\n"
          ],
          "name": "stdout"
        }
      ]
    },
    {
      "cell_type": "code",
      "metadata": {
        "colab": {
          "base_uri": "https://localhost:8080/"
        },
        "id": "PRzupPsFOhzj",
        "outputId": "6d646e54-c67e-4d67-9b30-2bb8dc9a9f38"
      },
      "source": [
        "z = torch.add(x, y)\n",
        "print(z)"
      ],
      "execution_count": 12,
      "outputs": [
        {
          "output_type": "stream",
          "text": [
            "tensor([[0.3485, 0.6024],\n",
            "        [1.1243, 0.6523]])\n"
          ],
          "name": "stdout"
        }
      ]
    },
    {
      "cell_type": "code",
      "metadata": {
        "colab": {
          "base_uri": "https://localhost:8080/"
        },
        "id": "2evDqnK7OlVu",
        "outputId": "1800e96f-b6b5-4c7c-ad8b-d6a7709b5d7f"
      },
      "source": [
        "y.add_(x)\n",
        "print(y)"
      ],
      "execution_count": 13,
      "outputs": [
        {
          "output_type": "stream",
          "text": [
            "tensor([[0.3485, 0.6024],\n",
            "        [1.1243, 0.6523]])\n"
          ],
          "name": "stdout"
        }
      ]
    },
    {
      "cell_type": "code",
      "metadata": {
        "colab": {
          "base_uri": "https://localhost:8080/"
        },
        "id": "-Yf8PpJpOuk1",
        "outputId": "a752b771-eb77-4295-a452-1f7c6ac8f1fb"
      },
      "source": [
        "z = x - y\n",
        "z = torch.sub(x, y)\n",
        "print(z)"
      ],
      "execution_count": 14,
      "outputs": [
        {
          "output_type": "stream",
          "text": [
            "tensor([[-0.0123, -0.5144],\n",
            "        [-0.7061, -0.5814]])\n"
          ],
          "name": "stdout"
        }
      ]
    },
    {
      "cell_type": "code",
      "metadata": {
        "colab": {
          "base_uri": "https://localhost:8080/"
        },
        "id": "6TEBuAjEO1Vc",
        "outputId": "0fb5125c-4aa8-4018-86df-f9ec117b7b34"
      },
      "source": [
        "z = x * y\n",
        "z = torch.mul(x, y)\n",
        "print(z)"
      ],
      "execution_count": 15,
      "outputs": [
        {
          "output_type": "stream",
          "text": [
            "tensor([[0.1172, 0.0530],\n",
            "        [0.4702, 0.0463]])\n"
          ],
          "name": "stdout"
        }
      ]
    },
    {
      "cell_type": "code",
      "metadata": {
        "colab": {
          "base_uri": "https://localhost:8080/"
        },
        "id": "8fGfHzIEO5OB",
        "outputId": "f940a0f0-112e-4d2c-d2e6-0236855396ba"
      },
      "source": [
        "y.mul_(x)\n",
        "print(y)"
      ],
      "execution_count": 16,
      "outputs": [
        {
          "output_type": "stream",
          "text": [
            "tensor([[0.1172, 0.0530],\n",
            "        [0.4702, 0.0463]])\n"
          ],
          "name": "stdout"
        }
      ]
    },
    {
      "cell_type": "code",
      "metadata": {
        "colab": {
          "base_uri": "https://localhost:8080/"
        },
        "id": "qEhnIbu7O7aB",
        "outputId": "54f6bc3d-289d-45cf-dab3-c792d5b4e560"
      },
      "source": [
        "z = x / y\n",
        "z = torch.div(x, y)\n",
        "print(z)"
      ],
      "execution_count": 17,
      "outputs": [
        {
          "output_type": "stream",
          "text": [
            "tensor([[2.8693, 1.6599],\n",
            "        [0.8894, 1.5330]])\n"
          ],
          "name": "stdout"
        }
      ]
    },
    {
      "cell_type": "code",
      "metadata": {
        "colab": {
          "base_uri": "https://localhost:8080/"
        },
        "id": "VNHGy330O93l",
        "outputId": "c5d7df5c-ca99-41f7-e338-eb7fee0472de"
      },
      "source": [
        "x = torch.rand(5, 3)\n",
        "print(x)\n",
        "print(x[1, 1])\n",
        "print(x[1, 1].item())\n",
        "print(x[:,2])"
      ],
      "execution_count": 18,
      "outputs": [
        {
          "output_type": "stream",
          "text": [
            "tensor([[0.3851, 0.4006, 0.9133],\n",
            "        [0.2770, 0.3402, 0.1816],\n",
            "        [0.7197, 0.4773, 0.7210],\n",
            "        [0.9433, 0.9885, 0.6366],\n",
            "        [0.5377, 0.3686, 0.0881]])\n",
            "tensor(0.3402)\n",
            "0.3401545286178589\n",
            "tensor([0.9133, 0.1816, 0.7210, 0.6366, 0.0881])\n"
          ],
          "name": "stdout"
        }
      ]
    },
    {
      "cell_type": "code",
      "metadata": {
        "colab": {
          "base_uri": "https://localhost:8080/"
        },
        "id": "yerrs0vpPcQB",
        "outputId": "f3d51bcf-9800-449a-9bf6-7243139b0de5"
      },
      "source": [
        "x = torch.rand(4, 4)\n",
        "print(x)\n",
        "y = x.view(16)\n",
        "print(y)\n",
        "y = x.view(-1, 8)\n",
        "print(y)"
      ],
      "execution_count": 19,
      "outputs": [
        {
          "output_type": "stream",
          "text": [
            "tensor([[0.1487, 0.0156, 0.0161, 0.5940],\n",
            "        [0.9050, 0.8816, 0.3242, 0.7266],\n",
            "        [0.7466, 0.7181, 0.4525, 0.4894],\n",
            "        [0.2308, 0.2017, 0.0548, 0.5653]])\n",
            "tensor([0.1487, 0.0156, 0.0161, 0.5940, 0.9050, 0.8816, 0.3242, 0.7266, 0.7466,\n",
            "        0.7181, 0.4525, 0.4894, 0.2308, 0.2017, 0.0548, 0.5653])\n",
            "tensor([[0.1487, 0.0156, 0.0161, 0.5940, 0.9050, 0.8816, 0.3242, 0.7266],\n",
            "        [0.7466, 0.7181, 0.4525, 0.4894, 0.2308, 0.2017, 0.0548, 0.5653]])\n"
          ],
          "name": "stdout"
        }
      ]
    },
    {
      "cell_type": "code",
      "metadata": {
        "colab": {
          "base_uri": "https://localhost:8080/"
        },
        "id": "nklmpgsWPz-c",
        "outputId": "a9adcfae-dee7-4f38-946e-eaac38a1b718"
      },
      "source": [
        "a = torch.ones(5)\n",
        "print(a)\n",
        "b = a.numpy()\n",
        "print(b)"
      ],
      "execution_count": 20,
      "outputs": [
        {
          "output_type": "stream",
          "text": [
            "tensor([1., 1., 1., 1., 1.])\n",
            "[1. 1. 1. 1. 1.]\n"
          ],
          "name": "stdout"
        }
      ]
    },
    {
      "cell_type": "code",
      "metadata": {
        "colab": {
          "base_uri": "https://localhost:8080/"
        },
        "id": "zjkAuHNTQCEz",
        "outputId": "b5b3f680-80f5-4d1e-b6fd-6d9017cf9ff1"
      },
      "source": [
        "print(type(b))"
      ],
      "execution_count": 21,
      "outputs": [
        {
          "output_type": "stream",
          "text": [
            "<class 'numpy.ndarray'>\n"
          ],
          "name": "stdout"
        }
      ]
    },
    {
      "cell_type": "code",
      "metadata": {
        "colab": {
          "base_uri": "https://localhost:8080/"
        },
        "id": "I3yO_3CQQHOV",
        "outputId": "bc0f3afc-8584-478d-a0e6-5c0cfe90b970"
      },
      "source": [
        "a.add_(1)\n",
        "print(a)"
      ],
      "execution_count": 22,
      "outputs": [
        {
          "output_type": "stream",
          "text": [
            "tensor([2., 2., 2., 2., 2.])\n"
          ],
          "name": "stdout"
        }
      ]
    },
    {
      "cell_type": "code",
      "metadata": {
        "colab": {
          "base_uri": "https://localhost:8080/"
        },
        "id": "H1DU2wgAQTkA",
        "outputId": "6c3d88cb-2384-4cfc-e606-56a628515134"
      },
      "source": [
        "print(b)"
      ],
      "execution_count": 23,
      "outputs": [
        {
          "output_type": "stream",
          "text": [
            "[2. 2. 2. 2. 2.]\n"
          ],
          "name": "stdout"
        }
      ]
    },
    {
      "cell_type": "code",
      "metadata": {
        "colab": {
          "base_uri": "https://localhost:8080/"
        },
        "id": "jtaIIvJxQUQ-",
        "outputId": "e0c45a2f-6231-4ff2-a9ce-93d3068bafc0"
      },
      "source": [
        "a = np.ones(5)\n",
        "print(a)\n",
        "b = torch.from_numpy(a)\n",
        "print(b)"
      ],
      "execution_count": 24,
      "outputs": [
        {
          "output_type": "stream",
          "text": [
            "[1. 1. 1. 1. 1.]\n",
            "tensor([1., 1., 1., 1., 1.], dtype=torch.float64)\n"
          ],
          "name": "stdout"
        }
      ]
    },
    {
      "cell_type": "code",
      "metadata": {
        "colab": {
          "base_uri": "https://localhost:8080/"
        },
        "id": "cnJq0EO5QkD1",
        "outputId": "385ca5b3-70dc-41b6-af5f-a153b3c26ddb"
      },
      "source": [
        "a += 1\n",
        "print(a)"
      ],
      "execution_count": 25,
      "outputs": [
        {
          "output_type": "stream",
          "text": [
            "[2. 2. 2. 2. 2.]\n"
          ],
          "name": "stdout"
        }
      ]
    },
    {
      "cell_type": "code",
      "metadata": {
        "colab": {
          "base_uri": "https://localhost:8080/"
        },
        "id": "Oh3lMYYKQp_g",
        "outputId": "a93e5a2c-3f35-4776-f499-13396308ec14"
      },
      "source": [
        "print(b)"
      ],
      "execution_count": 26,
      "outputs": [
        {
          "output_type": "stream",
          "text": [
            "tensor([2., 2., 2., 2., 2.], dtype=torch.float64)\n"
          ],
          "name": "stdout"
        }
      ]
    },
    {
      "cell_type": "code",
      "metadata": {
        "id": "JPcQza4hQsGG"
      },
      "source": [
        "if torch.cuda.is_available():\n",
        "  device = torch.device('cuda')\n",
        "  x = torch.ones(5, device = device)\n",
        "  y = torch.ones(5)\n",
        "  y = y.to(device)\n",
        "  z = x + y # perform on gpu\n",
        "  # z.numpy() # return error if on gpu since numpy can only handle cpu\n",
        "  z = z.to('cpu') # on cpu again"
      ],
      "execution_count": 27,
      "outputs": []
    },
    {
      "cell_type": "code",
      "metadata": {
        "colab": {
          "base_uri": "https://localhost:8080/"
        },
        "id": "77krPk7wRaHK",
        "outputId": "9e618a63-4277-4d8e-ff9a-0e5181ae074b"
      },
      "source": [
        "torch.cuda.is_available()"
      ],
      "execution_count": 28,
      "outputs": [
        {
          "output_type": "execute_result",
          "data": {
            "text/plain": [
              "False"
            ]
          },
          "metadata": {
            "tags": []
          },
          "execution_count": 28
        }
      ]
    },
    {
      "cell_type": "code",
      "metadata": {
        "colab": {
          "base_uri": "https://localhost:8080/"
        },
        "id": "TguSyneKRcdx",
        "outputId": "fe5b6f97-0864-47bb-f626-be2167857e47"
      },
      "source": [
        "x = torch.ones(5, requires_grad=True)\n",
        "print(x)"
      ],
      "execution_count": 29,
      "outputs": [
        {
          "output_type": "stream",
          "text": [
            "tensor([1., 1., 1., 1., 1.], requires_grad=True)\n"
          ],
          "name": "stdout"
        }
      ]
    },
    {
      "cell_type": "markdown",
      "metadata": {
        "id": "oL6WAlgNRwu_"
      },
      "source": [
        "# 3. Gradient Calculation With Autograd"
      ]
    },
    {
      "cell_type": "code",
      "metadata": {
        "colab": {
          "base_uri": "https://localhost:8080/"
        },
        "id": "J-zIMmm7RvxL",
        "outputId": "d5b525c6-c688-4edf-ddeb-b906fb4f15a0"
      },
      "source": [
        "x = torch.randn(3, requires_grad=True)\n",
        "print(x)"
      ],
      "execution_count": 30,
      "outputs": [
        {
          "output_type": "stream",
          "text": [
            "tensor([0.1880, 0.5288, 1.9651], requires_grad=True)\n"
          ],
          "name": "stdout"
        }
      ]
    },
    {
      "cell_type": "code",
      "metadata": {
        "colab": {
          "base_uri": "https://localhost:8080/"
        },
        "id": "uBJ9xJ5KR5gZ",
        "outputId": "4a196f68-47cd-4b6f-8f75-6a6d952fcdf5"
      },
      "source": [
        "y = x + 2\n",
        "print(y)"
      ],
      "execution_count": 31,
      "outputs": [
        {
          "output_type": "stream",
          "text": [
            "tensor([2.1880, 2.5288, 3.9651], grad_fn=<AddBackward0>)\n"
          ],
          "name": "stdout"
        }
      ]
    },
    {
      "cell_type": "code",
      "metadata": {
        "colab": {
          "base_uri": "https://localhost:8080/"
        },
        "id": "3k1O1-dhSgmo",
        "outputId": "6afd071c-e431-440b-a8b4-f1553b5792fd"
      },
      "source": [
        "z = y*y*2\n",
        "z = z.mean()\n",
        "print(z)"
      ],
      "execution_count": 32,
      "outputs": [
        {
          "output_type": "stream",
          "text": [
            "tensor(17.9363, grad_fn=<MeanBackward0>)\n"
          ],
          "name": "stdout"
        }
      ]
    },
    {
      "cell_type": "code",
      "metadata": {
        "colab": {
          "base_uri": "https://localhost:8080/"
        },
        "id": "NbGkB9OxSzRv",
        "outputId": "fe4d8ddc-d8a1-4c40-efe8-91930427a246"
      },
      "source": [
        "z.backward() # dz/dx\n",
        "print(x.grad)"
      ],
      "execution_count": 33,
      "outputs": [
        {
          "output_type": "stream",
          "text": [
            "tensor([2.9173, 3.3718, 5.2869])\n"
          ],
          "name": "stdout"
        }
      ]
    },
    {
      "cell_type": "code",
      "metadata": {
        "colab": {
          "base_uri": "https://localhost:8080/"
        },
        "id": "-dJKGj24S6PI",
        "outputId": "ec1ad4a3-7458-4c94-8039-c7fdfa2cf116"
      },
      "source": [
        "z = y*y*2\n",
        "v = torch.tensor([0.1, 1.0, 0.01], dtype = torch.float32)\n",
        "z.backward(v) # dz/dx\n",
        "print(x.grad)"
      ],
      "execution_count": 34,
      "outputs": [
        {
          "output_type": "stream",
          "text": [
            "tensor([ 3.7924, 13.4871,  5.4455])\n"
          ],
          "name": "stdout"
        }
      ]
    },
    {
      "cell_type": "code",
      "metadata": {
        "colab": {
          "base_uri": "https://localhost:8080/"
        },
        "id": "cBzHoQQmTnNs",
        "outputId": "70d2acd4-ba36-4779-9111-bd54c83fc95f"
      },
      "source": [
        "x = torch.randn(3, requires_grad=True)\n",
        "print(x)\n",
        "x.requires_grad_(False)\n",
        "print(x)"
      ],
      "execution_count": 35,
      "outputs": [
        {
          "output_type": "stream",
          "text": [
            "tensor([-0.6340,  1.4689, -0.0076], requires_grad=True)\n",
            "tensor([-0.6340,  1.4689, -0.0076])\n"
          ],
          "name": "stdout"
        }
      ]
    },
    {
      "cell_type": "code",
      "metadata": {
        "id": "LLFw-VtyYNbi",
        "colab": {
          "base_uri": "https://localhost:8080/"
        },
        "outputId": "6effab37-693d-494d-ac40-100cca69b18a"
      },
      "source": [
        "y = x.detach()\n",
        "print(y)"
      ],
      "execution_count": 36,
      "outputs": [
        {
          "output_type": "stream",
          "text": [
            "tensor([-0.6340,  1.4689, -0.0076])\n"
          ],
          "name": "stdout"
        }
      ]
    },
    {
      "cell_type": "code",
      "metadata": {
        "colab": {
          "base_uri": "https://localhost:8080/"
        },
        "id": "Wp4cp-odrOlS",
        "outputId": "bf9c4c69-441d-48d1-bfa7-cd07389ab8d2"
      },
      "source": [
        "with torch.no_grad():\n",
        "  y = x + 2\n",
        "  print(y)"
      ],
      "execution_count": 37,
      "outputs": [
        {
          "output_type": "stream",
          "text": [
            "tensor([1.3660, 3.4689, 1.9924])\n"
          ],
          "name": "stdout"
        }
      ]
    },
    {
      "cell_type": "code",
      "metadata": {
        "colab": {
          "base_uri": "https://localhost:8080/"
        },
        "id": "0BUw1g18rVzl",
        "outputId": "520dd2e7-c66a-4bf4-e5e6-2c62144be8e7"
      },
      "source": [
        "weights = torch.ones(4, requires_grad=True)\n",
        "\n",
        "for epoch in range(3):\n",
        "  \n",
        "  model_output = (weights * 3).sum()\n",
        "\n",
        "  model_output.backward()\n",
        "\n",
        "  print(weights.grad)"
      ],
      "execution_count": 41,
      "outputs": [
        {
          "output_type": "stream",
          "text": [
            "tensor([3., 3., 3., 3.])\n",
            "tensor([6., 6., 6., 6.])\n",
            "tensor([9., 9., 9., 9.])\n"
          ],
          "name": "stdout"
        }
      ]
    },
    {
      "cell_type": "code",
      "metadata": {
        "colab": {
          "base_uri": "https://localhost:8080/"
        },
        "id": "lNTPyqpXr8AY",
        "outputId": "e5d33653-38cc-4bb3-ca81-0ad116e9b276"
      },
      "source": [
        "weights = torch.ones(4, requires_grad=True)\n",
        "\n",
        "for epoch in range(3):\n",
        "  \n",
        "  model_output = (weights * 3).sum()\n",
        "\n",
        "  model_output.backward()\n",
        "\n",
        "  print(weights.grad)\n",
        "\n",
        "  weights.grad.zero_() # empty the gradient "
      ],
      "execution_count": 45,
      "outputs": [
        {
          "output_type": "stream",
          "text": [
            "tensor([3., 3., 3., 3.])\n",
            "tensor([3., 3., 3., 3.])\n",
            "tensor([3., 3., 3., 3.])\n"
          ],
          "name": "stdout"
        }
      ]
    },
    {
      "cell_type": "markdown",
      "metadata": {
        "id": "W2zu3t_k3Suu"
      },
      "source": [
        "# 4. Backpropagation"
      ]
    },
    {
      "cell_type": "code",
      "metadata": {
        "id": "sMnkkxZH3WlH"
      },
      "source": [
        ""
      ],
      "execution_count": null,
      "outputs": []
    }
  ]
}