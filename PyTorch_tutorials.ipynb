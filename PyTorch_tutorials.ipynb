{
  "nbformat": 4,
  "nbformat_minor": 0,
  "metadata": {
    "colab": {
      "name": "PyTorch_tutorials.ipynb",
      "provenance": [],
      "collapsed_sections": [],
      "authorship_tag": "ABX9TyPPq3KosB1Sr3s8yZ61zS0c",
      "include_colab_link": true
    },
    "kernelspec": {
      "name": "python3",
      "display_name": "Python 3"
    },
    "language_info": {
      "name": "python"
    }
  },
  "cells": [
    {
      "cell_type": "markdown",
      "metadata": {
        "id": "view-in-github",
        "colab_type": "text"
      },
      "source": [
        "<a href=\"https://colab.research.google.com/github/xinyanz-erin/Applied-Finance-Project/blob/Erin/PyTorch_tutorials.ipynb\" target=\"_parent\"><img src=\"https://colab.research.google.com/assets/colab-badge.svg\" alt=\"Open In Colab\"/></a>"
      ]
    },
    {
      "cell_type": "code",
      "metadata": {
        "id": "R9vhJRIkMaGw"
      },
      "source": [
        "import torch\n",
        "import torch.nn as nn"
      ],
      "execution_count": 47,
      "outputs": []
    },
    {
      "cell_type": "code",
      "metadata": {
        "colab": {
          "base_uri": "https://localhost:8080/"
        },
        "id": "xIFjpShsMcqp",
        "outputId": "57fa78fa-fa33-41fa-dc26-d83e6b6b908a"
      },
      "source": [
        "x = torch.tensor([2.5, 0.1])\n",
        "print(x)"
      ],
      "execution_count": 2,
      "outputs": [
        {
          "output_type": "stream",
          "text": [
            "tensor([2.5000, 0.1000])\n"
          ],
          "name": "stdout"
        }
      ]
    },
    {
      "cell_type": "code",
      "metadata": {
        "colab": {
          "base_uri": "https://localhost:8080/"
        },
        "id": "wMTswatNMi6W",
        "outputId": "ddead523-8b32-4509-89bf-bf03a38f4ad4"
      },
      "source": [
        "x = torch.rand(2, 2)\n",
        "y = torch.rand(2, 2)\n",
        "\n",
        "print(x)\n",
        "print(y)"
      ],
      "execution_count": 3,
      "outputs": [
        {
          "output_type": "stream",
          "text": [
            "tensor([[0.2271, 0.8029],\n",
            "        [0.5635, 0.3506]])\n",
            "tensor([[0.2330, 0.3312],\n",
            "        [0.6936, 0.7319]])\n"
          ],
          "name": "stdout"
        }
      ]
    },
    {
      "cell_type": "code",
      "metadata": {
        "colab": {
          "base_uri": "https://localhost:8080/"
        },
        "id": "DRaAszcCMjFb",
        "outputId": "3ea66aac-1895-4ad1-dd3d-6d10a60e9d37"
      },
      "source": [
        "z = x + y\n",
        "print(z)"
      ],
      "execution_count": 4,
      "outputs": [
        {
          "output_type": "stream",
          "text": [
            "tensor([[0.4601, 1.1341],\n",
            "        [1.2571, 1.0825]])\n"
          ],
          "name": "stdout"
        }
      ]
    },
    {
      "cell_type": "code",
      "metadata": {
        "colab": {
          "base_uri": "https://localhost:8080/"
        },
        "id": "shiTnQVtNIIB",
        "outputId": "d1e754a0-625f-4d93-8ba9-29123a8df92c"
      },
      "source": [
        "z = torch.add(x, y)\n",
        "print(z)"
      ],
      "execution_count": 5,
      "outputs": [
        {
          "output_type": "stream",
          "text": [
            "tensor([[0.4601, 1.1341],\n",
            "        [1.2571, 1.0825]])\n"
          ],
          "name": "stdout"
        }
      ]
    },
    {
      "cell_type": "code",
      "metadata": {
        "colab": {
          "base_uri": "https://localhost:8080/"
        },
        "id": "11_cQ1bnNOu-",
        "outputId": "768c0b7b-fffe-41cd-d692-d71fa0d62e2f"
      },
      "source": [
        "y.add_(x)\n",
        "print(y)"
      ],
      "execution_count": 6,
      "outputs": [
        {
          "output_type": "stream",
          "text": [
            "tensor([[0.4601, 1.1341],\n",
            "        [1.2571, 1.0825]])\n"
          ],
          "name": "stdout"
        }
      ]
    },
    {
      "cell_type": "code",
      "metadata": {
        "colab": {
          "base_uri": "https://localhost:8080/"
        },
        "id": "uLnR-11ZNSVv",
        "outputId": "391316cf-3d8b-46b7-abed-fefe75bd650c"
      },
      "source": [
        "z = torch.sub(x, y)\n",
        "print(z)"
      ],
      "execution_count": 7,
      "outputs": [
        {
          "output_type": "stream",
          "text": [
            "tensor([[-0.2330, -0.3312],\n",
            "        [-0.6936, -0.7319]])\n"
          ],
          "name": "stdout"
        }
      ]
    },
    {
      "cell_type": "code",
      "metadata": {
        "colab": {
          "base_uri": "https://localhost:8080/"
        },
        "id": "1T_R31B_Neyo",
        "outputId": "1e5a49cc-5513-4e03-e3b1-948f96fdead4"
      },
      "source": [
        "z = torch.mul(x, y)\n",
        "print(z)"
      ],
      "execution_count": 8,
      "outputs": [
        {
          "output_type": "stream",
          "text": [
            "tensor([[0.1045, 0.9105],\n",
            "        [0.7084, 0.3795]])\n"
          ],
          "name": "stdout"
        }
      ]
    },
    {
      "cell_type": "code",
      "metadata": {
        "colab": {
          "base_uri": "https://localhost:8080/"
        },
        "id": "T_rfvkzRNhph",
        "outputId": "f26a2141-06ac-4619-99cc-65f206580aba"
      },
      "source": [
        "y .mul_(x)"
      ],
      "execution_count": 9,
      "outputs": [
        {
          "output_type": "execute_result",
          "data": {
            "text/plain": [
              "tensor([[0.1045, 0.9105],\n",
              "        [0.7084, 0.3795]])"
            ]
          },
          "metadata": {
            "tags": []
          },
          "execution_count": 9
        }
      ]
    },
    {
      "cell_type": "code",
      "metadata": {
        "id": "Ey4EM5tmNl8J"
      },
      "source": [
        "z = x / y\n",
        "z = torch.div(x, y)"
      ],
      "execution_count": 10,
      "outputs": []
    },
    {
      "cell_type": "code",
      "metadata": {
        "colab": {
          "base_uri": "https://localhost:8080/"
        },
        "id": "_hVJLUG8NqVn",
        "outputId": "d6e95313-03e6-442e-f029-df8af7ffa7d2"
      },
      "source": [
        "z"
      ],
      "execution_count": 11,
      "outputs": [
        {
          "output_type": "execute_result",
          "data": {
            "text/plain": [
              "tensor([[2.1732, 0.8818],\n",
              "        [0.7955, 0.9238]])"
            ]
          },
          "metadata": {
            "tags": []
          },
          "execution_count": 11
        }
      ]
    },
    {
      "cell_type": "code",
      "metadata": {
        "colab": {
          "base_uri": "https://localhost:8080/"
        },
        "id": "1NXNMUYnNqyY",
        "outputId": "b6845277-33f5-4f39-9a73-7229ff1ea66f"
      },
      "source": [
        "x = torch.rand(5, 3)\n",
        "print(x[:, 0])"
      ],
      "execution_count": 12,
      "outputs": [
        {
          "output_type": "stream",
          "text": [
            "tensor([2.1300e-01, 2.6226e-01, 7.3961e-01, 4.7028e-04, 3.5263e-01])\n"
          ],
          "name": "stdout"
        }
      ]
    },
    {
      "cell_type": "code",
      "metadata": {
        "colab": {
          "base_uri": "https://localhost:8080/"
        },
        "id": "qFzOOg6NN2Qd",
        "outputId": "3da2d3dc-9ae6-4d7a-b6cf-02f7d12c0b03"
      },
      "source": [
        "print(x)"
      ],
      "execution_count": 13,
      "outputs": [
        {
          "output_type": "stream",
          "text": [
            "tensor([[2.1300e-01, 6.3804e-01, 3.6742e-01],\n",
            "        [2.6226e-01, 1.1899e-02, 2.3420e-01],\n",
            "        [7.3961e-01, 1.8617e-01, 1.2943e-01],\n",
            "        [4.7028e-04, 8.2000e-01, 5.1187e-01],\n",
            "        [3.5263e-01, 4.6207e-01, 4.6281e-03]])\n"
          ],
          "name": "stdout"
        }
      ]
    },
    {
      "cell_type": "code",
      "metadata": {
        "colab": {
          "base_uri": "https://localhost:8080/"
        },
        "id": "OB633wkrN3WR",
        "outputId": "23674c10-9041-47c8-8893-f307ccabb82c"
      },
      "source": [
        "print(x[1, 1])"
      ],
      "execution_count": 14,
      "outputs": [
        {
          "output_type": "stream",
          "text": [
            "tensor(0.0119)\n"
          ],
          "name": "stdout"
        }
      ]
    },
    {
      "cell_type": "code",
      "metadata": {
        "colab": {
          "base_uri": "https://localhost:8080/"
        },
        "id": "__LWfv_XN_5d",
        "outputId": "d0088d9e-8d1f-4e49-d687-ab79646aad0f"
      },
      "source": [
        "print(x[1, 1].item())"
      ],
      "execution_count": 15,
      "outputs": [
        {
          "output_type": "stream",
          "text": [
            "0.011899232864379883\n"
          ],
          "name": "stdout"
        }
      ]
    },
    {
      "cell_type": "code",
      "metadata": {
        "colab": {
          "base_uri": "https://localhost:8080/"
        },
        "id": "TKHqdfFIOInN",
        "outputId": "2fd6d135-33ff-4b89-e3ea-7d1c6954ba8e"
      },
      "source": [
        "x = torch.rand(4, 4)\n",
        "print(x)"
      ],
      "execution_count": 16,
      "outputs": [
        {
          "output_type": "stream",
          "text": [
            "tensor([[0.6791, 0.9708, 0.6766, 0.5781],\n",
            "        [0.0217, 0.8539, 0.5545, 0.6247],\n",
            "        [0.4823, 0.5198, 0.4475, 0.4811],\n",
            "        [0.6973, 0.0847, 0.0341, 0.1251]])\n"
          ],
          "name": "stdout"
        }
      ]
    },
    {
      "cell_type": "code",
      "metadata": {
        "colab": {
          "base_uri": "https://localhost:8080/"
        },
        "id": "_ZQIzJuzOMZ4",
        "outputId": "e056e2cd-c099-497d-e64c-a515260588a8"
      },
      "source": [
        "y = x.view(16)\n",
        "print(y)"
      ],
      "execution_count": 17,
      "outputs": [
        {
          "output_type": "stream",
          "text": [
            "tensor([0.6791, 0.9708, 0.6766, 0.5781, 0.0217, 0.8539, 0.5545, 0.6247, 0.4823,\n",
            "        0.5198, 0.4475, 0.4811, 0.6973, 0.0847, 0.0341, 0.1251])\n"
          ],
          "name": "stdout"
        }
      ]
    },
    {
      "cell_type": "code",
      "metadata": {
        "colab": {
          "base_uri": "https://localhost:8080/"
        },
        "id": "y0bsiE0wORGz",
        "outputId": "dc306551-6659-49bf-8222-5a213eee2d67"
      },
      "source": [
        "y = x.view(-1, 8)\n",
        "print(y.size())\n",
        "print(y)"
      ],
      "execution_count": 18,
      "outputs": [
        {
          "output_type": "stream",
          "text": [
            "torch.Size([2, 8])\n",
            "tensor([[0.6791, 0.9708, 0.6766, 0.5781, 0.0217, 0.8539, 0.5545, 0.6247],\n",
            "        [0.4823, 0.5198, 0.4475, 0.4811, 0.6973, 0.0847, 0.0341, 0.1251]])\n"
          ],
          "name": "stdout"
        }
      ]
    },
    {
      "cell_type": "code",
      "metadata": {
        "id": "tJiodBklOiOm"
      },
      "source": [
        "import numpy as np"
      ],
      "execution_count": 19,
      "outputs": []
    },
    {
      "cell_type": "code",
      "metadata": {
        "colab": {
          "base_uri": "https://localhost:8080/"
        },
        "id": "m8MqY9gbPSwz",
        "outputId": "ec15f027-6af6-48fd-d303-761f561c7d11"
      },
      "source": [
        "a = torch.ones(5)\n",
        "print(a)"
      ],
      "execution_count": 20,
      "outputs": [
        {
          "output_type": "stream",
          "text": [
            "tensor([1., 1., 1., 1., 1.])\n"
          ],
          "name": "stdout"
        }
      ]
    },
    {
      "cell_type": "code",
      "metadata": {
        "colab": {
          "base_uri": "https://localhost:8080/"
        },
        "id": "rt4UYGHTPVK8",
        "outputId": "3f255c65-c811-4814-80b8-4bdb16679f45"
      },
      "source": [
        "b = a.numpy()\n",
        "print(b)"
      ],
      "execution_count": 21,
      "outputs": [
        {
          "output_type": "stream",
          "text": [
            "[1. 1. 1. 1. 1.]\n"
          ],
          "name": "stdout"
        }
      ]
    },
    {
      "cell_type": "code",
      "metadata": {
        "colab": {
          "base_uri": "https://localhost:8080/"
        },
        "id": "IJwO41yJPYvs",
        "outputId": "a66f7b10-1b4c-46e5-bf0d-b2dd932533c3"
      },
      "source": [
        "print(type(b))"
      ],
      "execution_count": 22,
      "outputs": [
        {
          "output_type": "stream",
          "text": [
            "<class 'numpy.ndarray'>\n"
          ],
          "name": "stdout"
        }
      ]
    },
    {
      "cell_type": "code",
      "metadata": {
        "colab": {
          "base_uri": "https://localhost:8080/"
        },
        "id": "US1jpCPIPbGs",
        "outputId": "191d42a6-e872-4091-ab55-35ab9c344398"
      },
      "source": [
        "a.add_(1)\n",
        "print(a)\n",
        "print(b)"
      ],
      "execution_count": 23,
      "outputs": [
        {
          "output_type": "stream",
          "text": [
            "tensor([2., 2., 2., 2., 2.])\n",
            "[2. 2. 2. 2. 2.]\n"
          ],
          "name": "stdout"
        }
      ]
    },
    {
      "cell_type": "code",
      "metadata": {
        "colab": {
          "base_uri": "https://localhost:8080/"
        },
        "id": "1yBGY5oOPvjP",
        "outputId": "bfd6859f-86fb-427f-ab72-195387c29230"
      },
      "source": [
        "a = np.ones(5)\n",
        "b = torch.from_numpy(a)\n",
        "print(a)\n",
        "print(b)"
      ],
      "execution_count": 24,
      "outputs": [
        {
          "output_type": "stream",
          "text": [
            "[1. 1. 1. 1. 1.]\n",
            "tensor([1., 1., 1., 1., 1.], dtype=torch.float64)\n"
          ],
          "name": "stdout"
        }
      ]
    },
    {
      "cell_type": "code",
      "metadata": {
        "colab": {
          "base_uri": "https://localhost:8080/"
        },
        "id": "vHKCV8_-QBye",
        "outputId": "9f68a5ce-7b46-45e6-9a3f-9138b419c3b8"
      },
      "source": [
        "a += 1\n",
        "print(a)\n",
        "print(b)"
      ],
      "execution_count": 25,
      "outputs": [
        {
          "output_type": "stream",
          "text": [
            "[2. 2. 2. 2. 2.]\n",
            "tensor([2., 2., 2., 2., 2.], dtype=torch.float64)\n"
          ],
          "name": "stdout"
        }
      ]
    },
    {
      "cell_type": "code",
      "metadata": {
        "id": "APe9BHKpQOP7"
      },
      "source": [
        "if torch.cuda.is_available():\n",
        "  device = torch.device('cude')\n",
        "  x = torch.ones(5, device = device)\n",
        "  y = torch.ones(5)\n",
        "  y = y.to(device)\n",
        "  z = x + y\n",
        "  z = z.to('cpu')"
      ],
      "execution_count": 26,
      "outputs": []
    },
    {
      "cell_type": "code",
      "metadata": {
        "colab": {
          "base_uri": "https://localhost:8080/"
        },
        "id": "wErgE6HkQyGn",
        "outputId": "9b2e5640-c116-4d0a-9c3d-cc8700ecbbb6"
      },
      "source": [
        "x = torch.ones(5, requires_grad=True)\n",
        "print(x)"
      ],
      "execution_count": 27,
      "outputs": [
        {
          "output_type": "stream",
          "text": [
            "tensor([1., 1., 1., 1., 1.], requires_grad=True)\n"
          ],
          "name": "stdout"
        }
      ]
    },
    {
      "cell_type": "code",
      "metadata": {
        "colab": {
          "base_uri": "https://localhost:8080/"
        },
        "id": "5uLgtHLnREER",
        "outputId": "f7d326d7-1e75-4988-a40a-105d55ab67e0"
      },
      "source": [
        "x = torch.randn(3, requires_grad=True)\n",
        "print(x)"
      ],
      "execution_count": 28,
      "outputs": [
        {
          "output_type": "stream",
          "text": [
            "tensor([ 0.3688, -0.5061, -0.2591], requires_grad=True)\n"
          ],
          "name": "stdout"
        }
      ]
    },
    {
      "cell_type": "code",
      "metadata": {
        "colab": {
          "base_uri": "https://localhost:8080/"
        },
        "id": "-akllCRurBKb",
        "outputId": "a3e25045-adf5-4be6-9368-835821e5a0f2"
      },
      "source": [
        "y = x + 2\n",
        "print(y)"
      ],
      "execution_count": 29,
      "outputs": [
        {
          "output_type": "stream",
          "text": [
            "tensor([2.3688, 1.4939, 1.7409], grad_fn=<AddBackward0>)\n"
          ],
          "name": "stdout"
        }
      ]
    },
    {
      "cell_type": "code",
      "metadata": {
        "colab": {
          "base_uri": "https://localhost:8080/"
        },
        "id": "t4y4h34NrmSs",
        "outputId": "1f0f95fb-2cd1-44dd-bbe2-24d2590aa7f5"
      },
      "source": [
        "z = y * y * 2\n",
        "print(z)"
      ],
      "execution_count": 30,
      "outputs": [
        {
          "output_type": "stream",
          "text": [
            "tensor([11.2226,  4.4633,  6.0615], grad_fn=<MulBackward0>)\n"
          ],
          "name": "stdout"
        }
      ]
    },
    {
      "cell_type": "code",
      "metadata": {
        "id": "QtSo89i1rx5U"
      },
      "source": [
        "# z = z.mean()\n",
        "# print(z)"
      ],
      "execution_count": 31,
      "outputs": []
    },
    {
      "cell_type": "code",
      "metadata": {
        "colab": {
          "base_uri": "https://localhost:8080/"
        },
        "id": "iLe1IGgXr1xJ",
        "outputId": "5e003469-e899-4514-82fa-03a37402f05b"
      },
      "source": [
        "v = torch.tensor([0.1, 1.0, 0.001], dtype = torch.float32)\n",
        "z.backward(v) #dz/dx\n",
        "print(x.grad)"
      ],
      "execution_count": 32,
      "outputs": [
        {
          "output_type": "stream",
          "text": [
            "tensor([0.9475, 5.9755, 0.0070])\n"
          ],
          "name": "stdout"
        }
      ]
    },
    {
      "cell_type": "code",
      "metadata": {
        "id": "MlX52tnHr9B2"
      },
      "source": [
        "# x.requires_grad_(False)\n",
        "# x.detach()\n",
        "# with torch.no_grad():\n",
        "#   y = x + 2\n",
        "#   print(y)"
      ],
      "execution_count": 33,
      "outputs": []
    },
    {
      "cell_type": "code",
      "metadata": {
        "id": "BLqFKAkvum5Y"
      },
      "source": [
        "weights = torch.ones(4, requires_grad=True)"
      ],
      "execution_count": 34,
      "outputs": []
    },
    {
      "cell_type": "code",
      "metadata": {
        "colab": {
          "base_uri": "https://localhost:8080/"
        },
        "id": "jWJHOTWEuz4Z",
        "outputId": "d52f4f87-43ba-40f7-cd32-7fcbebebd307"
      },
      "source": [
        "for epoch in range(2):\n",
        "  model_output = (weights * 3).sum()\n",
        "\n",
        "  model_output.backward()\n",
        "\n",
        "  print(weights.grad)\n",
        "\n",
        "  weights.grad.zero_()"
      ],
      "execution_count": 35,
      "outputs": [
        {
          "output_type": "stream",
          "text": [
            "tensor([3., 3., 3., 3.])\n",
            "tensor([3., 3., 3., 3.])\n"
          ],
          "name": "stdout"
        }
      ]
    },
    {
      "cell_type": "code",
      "metadata": {
        "id": "A_BpK6MwvHjQ"
      },
      "source": [
        "# opimizer = torch.optim.SGD(weights, lr = 0.01)\n",
        "# optimizer.step()\n",
        "# optimizer.zero_grad_()"
      ],
      "execution_count": 36,
      "outputs": []
    },
    {
      "cell_type": "code",
      "metadata": {
        "colab": {
          "base_uri": "https://localhost:8080/"
        },
        "id": "fZjuEuuqwXUT",
        "outputId": "a823a076-1da2-4508-9c3c-b7139a975b59"
      },
      "source": [
        "x = torch.tensor(1.0)\n",
        "y = torch.tensor(2.0)\n",
        "\n",
        "w = torch.tensor(1.0, requires_grad=True)\n",
        "\n",
        "# forward pass and compute the loss\n",
        "y_hat = w * x\n",
        "loss = (y_hat - y) ** 2\n",
        "\n",
        "print(loss)\n",
        "\n",
        "# backward pass\n",
        "loss.backward()\n",
        "print(w.grad)\n",
        "\n",
        "## update weights\n",
        "## next forward and backwards"
      ],
      "execution_count": 37,
      "outputs": [
        {
          "output_type": "stream",
          "text": [
            "tensor(1., grad_fn=<PowBackward0>)\n",
            "tensor(-2.)\n"
          ],
          "name": "stdout"
        }
      ]
    },
    {
      "cell_type": "code",
      "metadata": {
        "id": "ZRCa4Pzz0UEI"
      },
      "source": [
        "import numpy as np"
      ],
      "execution_count": 38,
      "outputs": []
    },
    {
      "cell_type": "code",
      "metadata": {
        "id": "lFr2lDXB0brY"
      },
      "source": [
        "X = np.array([1, 2, 3, 4], dtype=np.float32)\n",
        "Y = np.array([2, 4, 6, 8], dtype=np.float32)\n",
        "\n",
        "w = 0.0"
      ],
      "execution_count": 39,
      "outputs": []
    },
    {
      "cell_type": "code",
      "metadata": {
        "colab": {
          "base_uri": "https://localhost:8080/"
        },
        "id": "EWKCJKAt4oXq",
        "outputId": "d29de924-56a2-434a-b5ff-1546dd46a549"
      },
      "source": [
        "def forward(x):\n",
        "  return w * x\n",
        "\n",
        "def loss(y, y_pred):\n",
        "  return((y_pred - y) ** 2).mean()\n",
        "\n",
        "# gradient\n",
        "# MSE = 1/N * (w * x - y) ** 2\n",
        "# dJ/dw = 1/N * 2x * (w*x - y)\n",
        "\n",
        "def gradient(x, y, y_pre):\n",
        "  return np.dot(2*x, y_pre - y).mean()\n",
        "\n",
        "print(f'Prediction before training: f(5) = {forward(5): .3f}')\n",
        "\n",
        "# Training\n",
        "learning_rate = 0.01\n",
        "n_iters = 19\n",
        "\n",
        "for epoch in range(n_iters):\n",
        "  y_pred = forward(X)\n",
        "  l = loss(Y, y_pred)\n",
        "  dw = gradient(X, Y, y_pred)\n",
        "\n",
        "  w -= learning_rate * dw\n",
        "\n",
        "  if epoch % 1 == 0:\n",
        "    print(f'epoch {epoch + 1}: w = {w: .3f}, loss = {l: .8f}')\n",
        "\n",
        "print(f'Prediction after training: f(5) = {forward(5):.3f}')"
      ],
      "execution_count": 40,
      "outputs": [
        {
          "output_type": "stream",
          "text": [
            "Prediction before training: f(5) =  0.000\n",
            "epoch 1: w =  1.200, loss =  30.00000000\n",
            "epoch 2: w =  1.680, loss =  4.79999924\n",
            "epoch 3: w =  1.872, loss =  0.76800019\n",
            "epoch 4: w =  1.949, loss =  0.12288000\n",
            "epoch 5: w =  1.980, loss =  0.01966083\n",
            "epoch 6: w =  1.992, loss =  0.00314574\n",
            "epoch 7: w =  1.997, loss =  0.00050331\n",
            "epoch 8: w =  1.999, loss =  0.00008053\n",
            "epoch 9: w =  1.999, loss =  0.00001288\n",
            "epoch 10: w =  2.000, loss =  0.00000206\n",
            "epoch 11: w =  2.000, loss =  0.00000033\n",
            "epoch 12: w =  2.000, loss =  0.00000005\n",
            "epoch 13: w =  2.000, loss =  0.00000001\n",
            "epoch 14: w =  2.000, loss =  0.00000000\n",
            "epoch 15: w =  2.000, loss =  0.00000000\n",
            "epoch 16: w =  2.000, loss =  0.00000000\n",
            "epoch 17: w =  2.000, loss =  0.00000000\n",
            "epoch 18: w =  2.000, loss =  0.00000000\n",
            "epoch 19: w =  2.000, loss =  0.00000000\n",
            "Prediction after training: f(5) = 10.000\n"
          ],
          "name": "stdout"
        }
      ]
    },
    {
      "cell_type": "code",
      "metadata": {
        "colab": {
          "base_uri": "https://localhost:8080/"
        },
        "id": "Xb8GovgH6evn",
        "outputId": "06f1206c-cc4f-4103-9fd4-7af4ebe40493"
      },
      "source": [
        "X = torch.tensor([1, 2, 3, 4], dtype=torch.float32)\n",
        "Y = torch.tensor([2, 4, 6, 8], dtype=torch.float32)\n",
        "\n",
        "w = torch.tensor(0.0, dtype=torch.float32, requires_grad=True)\n",
        "\n",
        "def forward(x):\n",
        "  return w * x\n",
        "\n",
        "def loss(y, y_pred):\n",
        "  return((y_pred - y) ** 2).mean()\n",
        "\n",
        "print(f'Prediction before training: f(5) = {forward(5): .3f}')\n",
        "\n",
        "# Training\n",
        "learning_rate = 0.01\n",
        "n_iters = 100\n",
        "\n",
        "for epoch in range(n_iters):\n",
        "  y_pred = forward(X)\n",
        "  l = loss(Y, y_pred)\n",
        "  l.backward() # dl/dw\n",
        "\n",
        "  with torch.no_grad():\n",
        "    w -= learning_rate * w.grad\n",
        "\n",
        "  # zero gradients\n",
        "  w.grad.zero_()\n",
        "\n",
        "  if epoch % 10 == 0:\n",
        "    print(f'epoch {epoch + 1}: w = {w: .3f}, loss = {l: .8f}')\n",
        "\n",
        "print(f'Prediction after training: f(5) = {forward(5):.3f}')"
      ],
      "execution_count": 41,
      "outputs": [
        {
          "output_type": "stream",
          "text": [
            "Prediction before training: f(5) =  0.000\n",
            "epoch 1: w =  0.300, loss =  30.00000000\n",
            "epoch 11: w =  1.665, loss =  1.16278565\n",
            "epoch 21: w =  1.934, loss =  0.04506890\n",
            "epoch 31: w =  1.987, loss =  0.00174685\n",
            "epoch 41: w =  1.997, loss =  0.00006770\n",
            "epoch 51: w =  1.999, loss =  0.00000262\n",
            "epoch 61: w =  2.000, loss =  0.00000010\n",
            "epoch 71: w =  2.000, loss =  0.00000000\n",
            "epoch 81: w =  2.000, loss =  0.00000000\n",
            "epoch 91: w =  2.000, loss =  0.00000000\n",
            "Prediction after training: f(5) = 10.000\n"
          ],
          "name": "stdout"
        }
      ]
    },
    {
      "cell_type": "code",
      "metadata": {
        "id": "jN41dj6F8H4Q"
      },
      "source": [
        "X = torch.tensor([1, 2, 3, 4], dtype = torch.float32)\n",
        "Y = torch.tensor([4, 8, 12, 16], dtype = torch.float32)\n",
        "\n",
        "w = torch.tensor(0.0, dtype = torch.float32, requires_grad=True)\n",
        "\n",
        "def forward(x):\n",
        "  return w * x\n",
        "\n",
        "learning_rate = 0.01\n",
        "n_iters = 100\n",
        "\n",
        "loss = nn.MSELoss()\n",
        "optimizer = torch.optim.SGD([w], lr = learning_rate)"
      ],
      "execution_count": 52,
      "outputs": []
    },
    {
      "cell_type": "code",
      "metadata": {
        "colab": {
          "base_uri": "https://localhost:8080/"
        },
        "id": "ANeqrI3hR_mI",
        "outputId": "5d49b7de-b095-4dd9-f417-20f3f65b93a2"
      },
      "source": [
        "for epoch in range(n_iters):\n",
        "  y_pred = forward(X)\n",
        "\n",
        "  l = loss(Y, y_pred)\n",
        "\n",
        "  l.backward()\n",
        "\n",
        "  optimizer.step() #update weights\n",
        "\n",
        "  optimizer.zero_grad()\n",
        "\n",
        "  if epoch % 10 == 0:\n",
        "    print(f'epoch {epoch + 1}: w = {w: .3f}, loss = {l: .8f}')\n",
        "\n",
        "print(f'Prediction after training: f(5) = {forward(5):.3f}')"
      ],
      "execution_count": 53,
      "outputs": [
        {
          "output_type": "stream",
          "text": [
            "epoch 1: w =  0.600, loss =  120.00000000\n",
            "epoch 11: w =  3.331, loss =  4.65114260\n",
            "epoch 21: w =  3.868, loss =  0.18027559\n",
            "epoch 31: w =  3.974, loss =  0.00698742\n",
            "epoch 41: w =  3.995, loss =  0.00027082\n",
            "epoch 51: w =  3.999, loss =  0.00001050\n",
            "epoch 61: w =  4.000, loss =  0.00000041\n",
            "epoch 71: w =  4.000, loss =  0.00000002\n",
            "epoch 81: w =  4.000, loss =  0.00000000\n",
            "epoch 91: w =  4.000, loss =  0.00000000\n",
            "Prediction after training: f(5) = 20.000\n"
          ],
          "name": "stdout"
        }
      ]
    },
    {
      "cell_type": "code",
      "metadata": {
        "id": "V_khF0vESFrS"
      },
      "source": [
        ""
      ],
      "execution_count": 44,
      "outputs": []
    },
    {
      "cell_type": "code",
      "metadata": {
        "id": "uyJyMVZ7SOOV"
      },
      "source": [
        ""
      ],
      "execution_count": 45,
      "outputs": []
    },
    {
      "cell_type": "code",
      "metadata": {
        "id": "jGzmL7cCSSHV"
      },
      "source": [
        ""
      ],
      "execution_count": 46,
      "outputs": []
    },
    {
      "cell_type": "code",
      "metadata": {
        "id": "_rFJ1fMnSVYI"
      },
      "source": [
        ""
      ],
      "execution_count": null,
      "outputs": []
    }
  ]
}