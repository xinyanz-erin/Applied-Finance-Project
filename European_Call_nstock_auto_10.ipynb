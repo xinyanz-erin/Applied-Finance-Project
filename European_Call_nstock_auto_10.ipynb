{
  "nbformat": 4,
  "nbformat_minor": 0,
  "metadata": {
    "kernelspec": {
      "display_name": "Python 3",
      "language": "python",
      "name": "python3"
    },
    "language_info": {
      "codemirror_mode": {
        "name": "ipython",
        "version": 3
      },
      "file_extension": ".py",
      "mimetype": "text/x-python",
      "name": "python",
      "nbconvert_exporter": "python",
      "pygments_lexer": "ipython3",
      "version": "3.6.9"
    },
    "colab": {
      "name": "European_Call_nstock_auto.ipynb",
      "provenance": [],
      "collapsed_sections": [
        "NwN6aLFDnwiy",
        "JIa4c_aHz15a",
        "u2_89jOknwjH",
        "rXT4Bg0wdL7l"
      ],
      "include_colab_link": true
    },
    "accelerator": "GPU"
  },
  "cells": [
    {
      "cell_type": "markdown",
      "metadata": {
        "id": "view-in-github",
        "colab_type": "text"
      },
      "source": [
        "<a href=\"https://colab.research.google.com/github/xinyanz-erin/Applied-Finance-Project/blob/Lilian/European_Call_nstock_auto_10.ipynb\" target=\"_parent\"><img src=\"https://colab.research.google.com/assets/colab-badge.svg\" alt=\"Open In Colab\"/></a>"
      ]
    },
    {
      "cell_type": "code",
      "metadata": {
        "id": "9Xk52L4czj5x"
      },
      "source": [
        "nstock = 10"
      ],
      "execution_count": 2,
      "outputs": []
    },
    {
      "cell_type": "code",
      "metadata": {
        "id": "gCR6hhw5Xq_R"
      },
      "source": [
        "import warnings\n",
        "warnings.filterwarnings('ignore')"
      ],
      "execution_count": 3,
      "outputs": []
    },
    {
      "cell_type": "code",
      "metadata": {
        "colab": {
          "base_uri": "https://localhost:8080/"
        },
        "id": "gSxOZk3ls2XQ",
        "outputId": "ec681bff-db52-4df6-b9fb-f232a72c8462"
      },
      "source": [
        "!curl https://colab.chainer.org/install |sh -\n",
        "import cupy"
      ],
      "execution_count": 4,
      "outputs": [
        {
          "output_type": "stream",
          "text": [
            "  % Total    % Received % Xferd  Average Speed   Time    Time     Time  Current\n",
            "                                 Dload  Upload   Total   Spent    Left  Speed\n",
            "100  1580  100  1580    0     0   5787      0 --:--:-- --:--:-- --:--:--  5787\n",
            "+ apt -y -q install cuda-libraries-dev-10-0\n",
            "Reading package lists...\n",
            "Building dependency tree...\n",
            "Reading state information...\n",
            "cuda-libraries-dev-10-0 is already the newest version (10.0.130-1).\n",
            "The following package was automatically installed and is no longer required:\n",
            "  libnvidia-common-460\n",
            "Use 'apt autoremove' to remove it.\n",
            "0 upgraded, 0 newly installed, 0 to remove and 40 not upgraded.\n",
            "+ pip install -q cupy-cuda100  chainer \n",
            "\u001b[K     |████████████████████████████████| 58.9 MB 28 kB/s \n",
            "\u001b[K     |████████████████████████████████| 1.0 MB 54.8 MB/s \n",
            "\u001b[?25h  Building wheel for chainer (setup.py) ... \u001b[?25l\u001b[?25hdone\n",
            "+ set +ex\n",
            "Installation succeeded!\n"
          ],
          "name": "stdout"
        }
      ]
    },
    {
      "cell_type": "markdown",
      "metadata": {
        "id": "NwN6aLFDnwiy"
      },
      "source": [
        "### Deep Learning Barrier Option\n",
        "\n",
        "We used Numba and CuPy in the previous notebook to run Monte Carlo simulation to determine the price of the Asian Barrier option. A Monte Carlo simulation needs millions of paths to get an accurate answer which is computationally intensive. [Ryan et al (2018)](https://arxiv.org/abs/1809.02233) showed that a deep learning model can be trained to value derivatives. The deep learning model is accurate and very fast, capable of producing valuations a million times faster than traditional models. In the this notebook, we will use a fully connected network to learn the pricing mode of the Asian Barrier option. Monte Carlo simulation is used as pricing ground truth for the training. We use the same Asian Barrier Option model as last notebook with parameters listed as following:\n",
        "\n",
        "```\n",
        "T - Maturity (yrs.)\n",
        "S - Spot (usd)\n",
        "K - Strike (usd)\n",
        "sigma - Volatility (per.)\n",
        "r - Risk Free Rate (per.)\n",
        "mu - Stock Drift Rate (per.)\n",
        "B - Barrier (usd)\n",
        "```\n",
        "\n",
        "### Batched Data generation\n",
        "\n",
        "The dataset is an important part of the Deep learning training. We will modify the previous single Asian Barrier Option pricing code to handle a batch of Barrier Option pricing. "
      ]
    },
    {
      "cell_type": "code",
      "metadata": {
        "id": "cHYrh4iYfP-n",
        "cellView": "form"
      },
      "source": [
        "#@title\n",
        "###Test: Judy's new X code\n",
        "#N_STOCKS = 3"
      ],
      "execution_count": null,
      "outputs": []
    },
    {
      "cell_type": "code",
      "metadata": {
        "id": "hy7qGwT0jv4A",
        "cellView": "form"
      },
      "source": [
        "#@title\n",
        "#X = cupy.array([])\n",
        "#for i in range(0,N_STOCKS):\n",
        "  #X =  cupy.concatenate((X,cupy.array([1,1]), cupy.random.rand(3),cupy.array([1])))\n",
        "#X = X.reshape(N_STOCKS,6)\n",
        "#X"
      ],
      "execution_count": null,
      "outputs": []
    },
    {
      "cell_type": "code",
      "metadata": {
        "id": "9OHtAXC8hVae",
        "cellView": "form"
      },
      "source": [
        "#@title\n",
        "#X = X * ((cupy.array([200.0, 0, 200.0, 0.4, 0.2, 0.2] * N_STOCKS, dtype = cupy.float32)).reshape(N_STOCKS, 6))\n",
        "#X"
      ],
      "execution_count": null,
      "outputs": []
    },
    {
      "cell_type": "markdown",
      "metadata": {
        "id": "TY_9g3tbdLiY"
      },
      "source": [
        "### Train(Erin Version)"
      ]
    },
    {
      "cell_type": "code",
      "metadata": {
        "id": "qBxT9Eida-c_",
        "cellView": "form"
      },
      "source": [
        "#@title\n",
        "# ################################# TEST ########################################\n",
        "# %%writefile cupy_dataset.py\n",
        "\n",
        "# import numba\n",
        "# from numba import cuda\n",
        "# import random\n",
        "# import cupy\n",
        "# import numpy as np\n",
        "# import math\n",
        "# import time\n",
        "# import torch\n",
        "# cupy.cuda.set_allocator(None)\n",
        "# from torch.utils.dlpack import from_dlpack\n",
        "\n",
        "# @cuda.jit\n",
        "# def batch_barrier_option(d_s, T, K, B, S0, sigma, mu, r, d_normals, N_STEPS, N_PATHS, N_BATCH):\n",
        "#     # ii - overall thread index\n",
        "#     ii = cuda.threadIdx.x + cuda.blockIdx.x * cuda.blockDim.x\n",
        "#     stride = cuda.gridDim.x * cuda.blockDim.x\n",
        "#     tmp3 = math.sqrt(T/N_STEPS)\n",
        "#     for i in range(ii, N_PATHS * N_BATCH, stride):\n",
        "#         batch_id = i // N_PATHS\n",
        "#         path_id = i % N_PATHS\n",
        "#         tmp1 = mu[batch_id]*T/N_STEPS\n",
        "#         tmp2 = math.exp(-r[batch_id]*T)\n",
        "#         running_average = 0.0\n",
        "#         s_curr = S0[batch_id]\n",
        "#         for n in range(N_STEPS):\n",
        "#             s_curr += tmp1 * s_curr + sigma[batch_id]*s_curr*tmp3*d_normals[path_id + batch_id * N_PATHS + n * N_PATHS * N_BATCH] # stock price\n",
        "#             running_average = running_average + 1.0/(n + 1.0) * (s_curr - running_average) # average of the path\n",
        "#             if i==0 and batch_id == 2:\n",
        "#                 print(s_curr)\n",
        "#             if running_average <= B[batch_id]: # if reach barrier, drop out the path\n",
        "#                 break\n",
        "#         payoff = running_average - K[batch_id] if running_average > K[batch_id] else 0\n",
        "#         d_s[i] = tmp2 * payoff\n",
        "\n",
        "# class NumbaOptionDataSet(object):\n",
        "    \n",
        "#     def __init__(self, max_len=10, number_path = 1000, batch=2, threads=512, seed=15, stocks=3):  # 3 stocks\n",
        "#         self.num = 0\n",
        "#         self.max_length = max_len\n",
        "#         self.N_PATHS = number_path\n",
        "#         self.N_STEPS = 365\n",
        "#         self.N_BATCH = batch\n",
        "#         self.N_STOCKS = stocks\n",
        "#         self.T = np.float32(1.0)\n",
        "#         self.output = cupy.zeros(self.N_STOCKS*self.N_PATHS, dtype=cupy.float32) \n",
        "#         self.number_of_blocks = (self.N_PATHS * self.N_STOCKS - 1) // threads + 1\n",
        "#         self.number_of_threads = threads\n",
        "#         cupy.random.seed(seed)\n",
        "        \n",
        "#     def __len__(self):\n",
        "#         return self.max_length\n",
        "        \n",
        "#     def __iter__(self):\n",
        "#         self.num = 0\n",
        "#         return self\n",
        "    \n",
        "#     def __next__(self):\n",
        "#         if self.num > self.max_length:\n",
        "#             raise StopIteration\n",
        "        \n",
        "#         Y = cupy.zeros(self.N_BATCH, dtype=cupy.float32)\n",
        "#         paras = cupy.zeros((self.N_BATCH, self.N_STOCKS * 6), dtype = cupy.float32)\n",
        "#         for op in range(self.N_BATCH):\n",
        "          \n",
        "#           X = cupy.array([])\n",
        "#           K_rand = cupy.random.rand(1)[0]\n",
        "#           B_rand = cupy.random.rand(1)[0]\n",
        "#           r_rand = cupy.random.rand(1)[0]\n",
        "#           for i in range(0,self.N_STOCKS):\n",
        "#             X =  cupy.concatenate((X,cupy.array([K_rand,B_rand]), cupy.random.rand(3),cupy.array([r_rand]))) #[K,B,S0,sigma,mu,r], K B r are shared\n",
        "#           X = X.reshape(self.N_STOCKS,6)\n",
        "#           X = X * ((cupy.array([200.0, 0.1, 200.0, 0.4, 0.2, 0.2] * self.N_STOCKS, dtype = cupy.float32)).reshape(self.N_STOCKS, 6))\n",
        "#           #X = cupy.random.rand(6 * self.N_STOCKS, dtype=cupy.float32)\n",
        "#           #X = 0.9 + cupy.random.rand(6 * self.N_STOCKS, dtype=cupy.float32)*0.1\n",
        "#           # scale the [0, 1) random numbers to the correct range for each of the option parameters\n",
        "#           #X = (X * cupy.array([200.0, 0.99, 200.0, 0.4, 0.2, 0.2] * self.N_STOCKS, dtype = cupy.float32)).reshape(self.N_STOCKS, 6)\n",
        "\n",
        "#           # make sure the Barrier is smaller than the Strike price\n",
        "#           # X[:, 1] = X[:, 0] * X[:, 1]\n",
        "#           for i in range(self.N_STOCKS):\n",
        "#             paras[op,i*6:(i+1)*6] = X[i,:]\n",
        "\n",
        "#           stocks_randoms_mean = cupy.zeros(self.N_STOCKS, dtype = cupy.float32)\n",
        "#           rho = cupy.random.normal(0, 1, self.N_STOCKS, dtype = cupy.float32)\n",
        "\n",
        "#           #stocks_randoms_cov = cupy.ones((self.N_STOCKS, self.N_STOCKS), dtype = cupy.float32)\n",
        "#           #cupy.fill_diagonal(stocks_randoms_cov, rho)\n",
        "\n",
        "#           #stocks_randoms_cov = (-0.99 + cupy.random.rand(self.N_STOCKS*self.N_STOCKS, dtype=cupy.float32)*2*0.99).reshape(self.N_STOCKS,self.N_STOCKS)\n",
        "#           stocks_randoms_cov = cupy.array([1] * self.N_STOCKS*self.N_STOCKS, dtype = cupy.float32).reshape(self.N_STOCKS,self.N_STOCKS)  #Covariance\n",
        "#           cupy.fill_diagonal(stocks_randoms_cov, 1)\n",
        "\n",
        "#           num_of_randoms_each_stock = self.N_PATHS * self.N_STEPS\n",
        "#           randoms_gpu = cupy.random.multivariate_normal(stocks_randoms_mean, stocks_randoms_cov,\n",
        "#                                                         num_of_randoms_each_stock, dtype=cupy.float32)\n",
        "#           b1_r = randoms_gpu[:,0]\n",
        "#           b2_r = randoms_gpu[:,1]\n",
        "#           randoms = cupy.zeros(self.N_STOCKS * self.N_PATHS * self.N_STEPS, dtype=cupy.float32)\n",
        "#           interval = int((self.N_PATHS * self.N_STEPS * self.N_STOCKS) / self.N_PATHS)\n",
        "#           for i in range(interval):\n",
        "#             if i % 2 == 0:\n",
        "#                 ind = int(i/2)\n",
        "#                 randoms[i*self.N_PATHS:(i+1)*self.N_PATHS] = b1_r[ind:(ind+self.N_PATHS)]\n",
        "#             else:\n",
        "#                 ind = int(i//2)\n",
        "#                 randoms[i*self.N_PATHS:(i+1)*self.N_PATHS] = b2_r[ind:(ind+self.N_PATHS)]\n",
        "\n",
        "#           randoms = cupy.random.normal(0, 1, self.N_STOCKS * self.N_PATHS * self.N_STEPS, dtype=cupy.float32)\n",
        "#           batch_barrier_option[(self.number_of_blocks,), (self.number_of_threads,)](self.output, self.T, X[:, 0], \n",
        "#                                 X[:, 1], X[:, 2], X[:, 3], X[:, 4], X[:, 5], randoms, self.N_STEPS, self.N_PATHS, self.N_STOCKS)\n",
        "          \n",
        "#           o = self.output.reshape(self.N_STOCKS, self.N_PATHS)\n",
        "#           Y[op] = o.mean(axis = 0).mean()\n",
        "\n",
        "#         self.num += 1\n",
        "#         return (from_dlpack(paras.toDlpack()), from_dlpack(Y.toDlpack()))\n",
        "\n",
        "\n",
        "\n",
        "# # ds = NumbaOptionDataSet(10, number_path=100000, batch=3, seed=random.randint(0,100), stocks=5)\n",
        "# # for i in ds:\n",
        "# #     print(i[0])\n",
        "# ################################# TEST ########################################"
      ],
      "execution_count": null,
      "outputs": []
    },
    {
      "cell_type": "markdown",
      "metadata": {
        "id": "s6dZnWTTfbf1"
      },
      "source": [
        "### Train (European Call option)"
      ]
    },
    {
      "cell_type": "code",
      "metadata": {
        "colab": {
          "base_uri": "https://localhost:8080/"
        },
        "id": "CeREuPw0fguQ",
        "outputId": "67c9e830-d985-45b7-e294-e9d0205a2c13"
      },
      "source": [
        "################################# TEST ########################################\n",
        "%%writefile cupy_dataset.py\n",
        "\n",
        "import numba\n",
        "from numba import cuda\n",
        "import random\n",
        "import cupy\n",
        "import numpy as np\n",
        "import math\n",
        "import time\n",
        "import torch\n",
        "cupy.cuda.set_allocator(None)\n",
        "from torch.utils.dlpack import from_dlpack\n",
        "\n",
        "@cuda.jit\n",
        "def European_call_option(d_s, T, K, S0, sigma, mu, r, d_normals, N_STEPS, N_PATHS, N_BATCH):\n",
        "    # ii - overall thread index\n",
        "    ii = cuda.threadIdx.x + cuda.blockIdx.x * cuda.blockDim.x\n",
        "    stride = cuda.gridDim.x * cuda.blockDim.x\n",
        "    #tmp3 = math.sqrt(T/N_STEPS)\n",
        "    for i in range(ii, N_PATHS * N_BATCH, stride):\n",
        "        batch_id = i // N_PATHS\n",
        "        path_id = i % N_PATHS\n",
        "        h = T[batch_id] / N_STEPS\n",
        "        tmp1 = r[batch_id]*T[batch_id]/N_STEPS \n",
        "        tmp2 = math.exp(-r[batch_id]*T[batch_id]) # discount\n",
        "        tmp3 = math.sqrt(T[batch_id]/N_STEPS)\n",
        "        #running_average = 0.0\n",
        "        s_curr = S0[batch_id]\n",
        "        for n in range(N_STEPS):\n",
        "          s_curr += tmp1 * s_curr + sigma[batch_id]*s_curr*tmp3*d_normals[path_id + batch_id * N_PATHS + n * N_PATHS * N_BATCH] # stock price\n",
        "          #s_curr = s_curr * math.exp((r[batch_id] - (1/2)*sigma[batch_id]**2)*h + sigma[batch_id] * tmp3 * d_normals[path_id + batch_id * N_PATHS + n * N_PATHS * N_BATCH])\n",
        "          #running_average = running_average + 1.0/(n + 1.0) * (s_curr - running_average) # average of the path\n",
        "          #if i==0 and batch_id == 2:\n",
        "          #    print(s_curr)\n",
        "          #if running_average <= B[batch_id]: # if reach barrier, drop out the path\n",
        "          #    break\n",
        "        #payoff = running_average - K[batch_id] if running_average > K[batch_id] else 0\n",
        "        #payoff = s_curr - K[batch_id] if s_curr > K[batch_id] else 0\n",
        "        #d_s[i] = tmp2 * payoff\n",
        "        d_s[i] = s_curr\n",
        "\n",
        "class NumbaOptionDataSet(object):\n",
        "    \n",
        "    def __init__(self, max_len=10, number_path = 1000, batch=2, threads=512, seed=15, stocks=3):  # 3 stocks\n",
        "        self.num = 0\n",
        "        self.max_length = max_len\n",
        "        self.N_PATHS = number_path\n",
        "        #self.N_STEPS = 365\n",
        "        self.N_STEPS = 10000\n",
        "        self.N_BATCH = batch\n",
        "        self.N_STOCKS = stocks\n",
        "        #self.T = np.float32(1.0)\n",
        "        self.output = cupy.zeros(self.N_STOCKS*self.N_PATHS, dtype=cupy.float32)\n",
        "        self.number_of_blocks = (self.N_PATHS * self.N_STOCKS - 1) // threads + 1\n",
        "        self.number_of_threads = threads\n",
        "        cupy.random.seed(seed)\n",
        "        \n",
        "    def __len__(self):\n",
        "        return self.max_length\n",
        "        \n",
        "    def __iter__(self):\n",
        "        self.num = 0\n",
        "        return self\n",
        "    \n",
        "    def __next__(self):\n",
        "        if self.num > self.max_length:\n",
        "            raise StopIteration\n",
        "        \n",
        "        Y = cupy.zeros(self.N_BATCH, dtype=cupy.float32)\n",
        "        paras = cupy.zeros((self.N_BATCH, self.N_STOCKS * 6), dtype = cupy.float32)\n",
        "        #paras = cupy.zeros((self.N_BATCH, self.N_STOCKS * 5), dtype = cupy.float32)\n",
        "\n",
        "        for op in range(self.N_BATCH):\n",
        "          \n",
        "          X = cupy.array([])\n",
        "          #T_rand = cupy.random.rand(1)[0]\n",
        "          K_rand = cupy.random.rand(1)\n",
        "          #B_rand = cupy.random.rand(1)[0]\n",
        "          r_rand = cupy.random.rand(1)\n",
        "          for i in range(0, self.N_STOCKS):\n",
        "            #X =  cupy.concatenate((X, cupy.array([K_rand,B_rand]), cupy.random.rand(3), cupy.array([r_rand]))) #[K,B,S0,sigma,mu,r], K B r are shared\n",
        "            X = cupy.concatenate((X, cupy.array([1.0]), K_rand, cupy.random.rand(3), r_rand))\n",
        "          \n",
        "          X = X.reshape(self.N_STOCKS, 6)\n",
        "          #X = X * ((cupy.array([200.0, 0.1, 200.0, 0.4, 0.2, 0.2] * self.N_STOCKS, dtype = cupy.float32)).reshape(self.N_STOCKS, 6))\n",
        "          #[T, K, S0, sigma, mu, r]\n",
        "          X = X * ((cupy.array([1, 150.0, 150.0, 0.4, 0.2, 0.2] * self.N_STOCKS, dtype = cupy.float32)).reshape(self.N_STOCKS, 6))\n",
        "          #X = cupy.random.rand(6 * self.N_STOCKS, dtype=cupy.float32)\n",
        "          #X = 0.9 + cupy.random.rand(6 * self.N_STOCKS, dtype=cupy.float32)*0.1\n",
        "          # scale the [0, 1) random numbers to the correct range for each of the option parameters\n",
        "          #X = (X * cupy.array([200.0, 0.99, 200.0, 0.4, 0.2, 0.2] * self.N_STOCKS, dtype = cupy.float32)).reshape(self.N_STOCKS, 6)\n",
        "\n",
        "          # make sure the Barrier is smaller than the Strike price\n",
        "          # X[:, 1] = X[:, 0] * X[:, 1]\n",
        "          for i in range(self.N_STOCKS):\n",
        "            paras[op,i*6:(i+1)*6] = X[i,:]\n",
        "            #paras[op, i*5:(i+1)*5] = X[i,:]\n",
        "\n",
        "          stocks_randoms_mean = cupy.zeros(self.N_STOCKS, dtype = cupy.float32)\n",
        "          rho = cupy.random.normal(0, 1, self.N_STOCKS, dtype = cupy.float32)\n",
        "\n",
        "          #stocks_randoms_cov = cupy.ones((self.N_STOCKS, self.N_STOCKS), dtype = cupy.float32)\n",
        "          #cupy.fill_diagonal(stocks_randoms_cov, rho)\n",
        "\n",
        "          #stocks_randoms_cov = (-0.99 + cupy.random.rand(self.N_STOCKS*self.N_STOCKS, dtype=cupy.float32)*2*0.99).reshape(self.N_STOCKS,self.N_STOCKS)\n",
        "          if self.N_STOCKS != 1:\n",
        "            randoms = cupy.random.normal(0, 1, self.N_STOCKS * self.N_PATHS * self.N_STEPS, dtype=cupy.float32)\n",
        "            # stocks_randoms_cov = cupy.array([0] * self.N_STOCKS*self.N_STOCKS, dtype = cupy.float32).reshape(self.N_STOCKS,self.N_STOCKS)  #Covariance\n",
        "            # cupy.fill_diagonal(stocks_randoms_cov, 1)\n",
        "\n",
        "            # num_of_randoms_each_stock = self.N_PATHS * self.N_STEPS\n",
        "            # randoms_gpu = cupy.random.multivariate_normal(stocks_randoms_mean, stocks_randoms_cov,\n",
        "            #                                               num_of_randoms_each_stock, dtype=cupy.float32)\n",
        "            # b1_r = randoms_gpu[:,0]\n",
        "            # b2_r = randoms_gpu[:,1]\n",
        "            # randoms = cupy.zeros(self.N_STOCKS * self.N_PATHS * self.N_STEPS, dtype=cupy.float32)\n",
        "            # interval = int((self.N_PATHS * self.N_STEPS * self.N_STOCKS) / self.N_PATHS)\n",
        "            # for i in range(interval):\n",
        "            #   if i % 2 == 0:\n",
        "            #       ind = int(i/2)\n",
        "            #       randoms[i*self.N_PATHS:(i+1)*self.N_PATHS] = b1_r[ind:(ind+self.N_PATHS)]\n",
        "            #   else:\n",
        "            #       ind = int(i//2)\n",
        "            #       randoms[i*self.N_PATHS:(i+1)*self.N_PATHS] = b2_r[ind:(ind+self.N_PATHS)]\n",
        "          if self.N_STOCKS == 1:\n",
        "            randoms = cupy.random.normal(0, 1, self.N_STOCKS * self.N_PATHS * self.N_STEPS, dtype=cupy.float32)\n",
        "          \n",
        "          European_call_option[(self.number_of_blocks,), (self.number_of_threads,)](self.output, X[:, 0], \n",
        "                                X[:, 1], X[:, 2], X[:, 3], X[:, 4], X[:, 5], randoms, self.N_STEPS, self.N_PATHS, self.N_STOCKS)\n",
        "          \n",
        "          o = self.output.reshape(self.N_STOCKS, self.N_PATHS) # this contains prices for each stock for each path at time T\n",
        "          K = K_rand * 150\n",
        "          r = r_rand * 0.2\n",
        "          o = o.mean(axis = 0) # average across stocks end prices\n",
        "          payoff = np.maximum(o - K, 0) # compute payoff\n",
        "          payoff = payoff * np.exp(-r*1) # T=1, discount\n",
        "          Y[op] = payoff.mean()\n",
        "\n",
        "        self.num += 1\n",
        "        return (from_dlpack(paras.toDlpack()), from_dlpack(Y.toDlpack()))\n",
        "\n",
        "\n",
        "# ds = NumbaOptionDataSet(1, number_path = 10000, batch = 3, seed = random.randint(0,100), stocks=nstock)\n",
        "# for i in ds:\n",
        "#     print(i)\n",
        "################################# TEST ########################################"
      ],
      "execution_count": 5,
      "outputs": [
        {
          "output_type": "stream",
          "text": [
            "Writing cupy_dataset.py\n"
          ],
          "name": "stdout"
        }
      ]
    },
    {
      "cell_type": "markdown",
      "metadata": {
        "id": "JIa4c_aHz15a"
      },
      "source": [
        "### For verification (Monte Carlo for n-stocks basket)"
      ]
    },
    {
      "cell_type": "code",
      "metadata": {
        "id": "4DTuXR1ANZPC"
      },
      "source": [
        "# def test(array):\n",
        "#   S1 = array[2]\n",
        "#   S2 = array[8]\n",
        "#   S3 = array[14]\n",
        "#   sigma1 = array[3]\n",
        "#   sigma2 = array[9]\n",
        "#   sigma3 = array[15]\n",
        "#   T = 1  \n",
        "#   K = array[1]\n",
        "#   r = array[5]\n",
        "\n",
        "#   dt = 1/1000\n",
        "#   N = round(T/dt)\n",
        "#   t = np.linspace(0, T, N)\n",
        "\n",
        "#   out = []\n",
        "\n",
        "#   for i in range(10000):\n",
        "#     W1 = np.random.standard_normal(size = N)\n",
        "#     W1 = np.cumsum(W1) * np.sqrt(dt)\n",
        "#     W2 = np.random.standard_normal(size = N)\n",
        "#     W2 = np.cumsum(W2) * np.sqrt(dt)\n",
        "#     W3 = np.random.standard_normal(size = N)\n",
        "#     W3 = np.cumsum(W3) * np.sqrt(dt)\n",
        "\n",
        "#     # W = np.random.standard_normal(size = N)\n",
        "#     # W = np.cumsum(W) * np.sqrt(dt)\n",
        "    \n",
        "#     P1_T = (S1 * np.exp((r - 0.5*sigma1**2) *t + sigma1 * W1))[-1]\n",
        "#     P2_T = (S2 * np.exp((r - 0.5*sigma2**2) *t + sigma2 * W2))[-1]\n",
        "#     P3_T = (S3 * np.exp((r - 0.5*sigma3**2) *t + sigma3 * W3))[-1]\n",
        "#     payoff = (P1_T+P2_T+P3_T)/3 - K if (P1_T+P2_T+P3_T)/3 > K else 0\n",
        "#     out.append(payoff * np.exp(-r*T))\n",
        "  \n",
        "#   return(np.array(out).mean())\n",
        "\n",
        "# print(test(np.array([1.0000e+00, 5.8549e+00, 3.6871e+01, 2.6866e-01, 1.9026e-01, 1.8305e-01,\n",
        "#          1.0000e+00, 5.8549e+00, 4.1110e+00, 2.3714e-01, 5.9547e-02, 1.8305e-01,\n",
        "#          1.0000e+00, 5.8549e+00, 1.6189e+01, 7.3936e-02, 1.1713e-01, 1.8305e-01])))\n",
        "# print(test(np.array([1.0000e+00, 1.1296e+02, 7.4318e+01, 2.0409e-01, 1.9133e-01, 5.3904e-02,\n",
        "#          1.0000e+00, 1.1296e+02, 5.3453e+01, 4.8439e-02, 5.8557e-02, 5.3904e-02,\n",
        "#          1.0000e+00, 1.1296e+02, 3.8721e+01, 2.0259e-01, 6.0423e-02, 5.3904e-02])))\n",
        "# print(test(np.array([1.0000e+00, 3.2307e+01, 3.8874e+01, 2.5820e-01, 1.9522e-01, 8.6353e-02,\n",
        "#          1.0000e+00, 3.2307e+01, 3.6077e+01, 3.7123e-01, 1.8810e-01, 8.6353e-02,\n",
        "#          1.0000e+00, 3.2307e+01, 6.9274e+01, 2.4100e-01, 1.9839e-01, 8.6353e-02])))\n",
        "# print(test(np.array([1.0000e+00, 2.4764e+01, 6.6956e+01, 2.0769e-01, 9.8127e-02, 1.7302e-01,\n",
        "#          1.0000e+00, 2.4764e+01, 3.6483e+01, 8.9075e-02, 1.9375e-01, 1.7302e-01,\n",
        "#          1.0000e+00, 2.4764e+01, 9.4748e+01, 2.6420e-01, 1.2015e-01, 1.7302e-01])))\n",
        "# print(test(np.array([1.0000e+00, 8.4591e+01, 1.2730e+02, 2.8949e-02, 1.0954e-01, 1.3706e-01,\n",
        "#          1.0000e+00, 8.4591e+01, 1.2859e+02, 1.5262e-01, 1.4064e-03, 1.3706e-01,\n",
        "#          1.0000e+00, 8.4591e+01, 4.6679e+01, 2.6688e-01, 1.5895e-01, 1.3706e-01])))\n",
        "# print(test(np.array([1.0000e+00, 6.8433e+01, 3.5593e+01, 6.5870e-02, 6.8068e-02, 1.3578e-02,\n",
        "#          1.0000e+00, 6.8433e+01, 2.3864e+01, 9.5815e-02, 1.6075e-01, 1.3578e-02,\n",
        "#          1.0000e+00, 6.8433e+01, 1.1863e+02, 3.0400e-01, 5.6958e-02, 1.3578e-02])))"
      ],
      "execution_count": null,
      "outputs": []
    },
    {
      "cell_type": "code",
      "metadata": {
        "id": "Bqx6hNuucM5U"
      },
      "source": [
        "# array = np.array([1.0000e+00, 8.3754e+01, 1.2787e+02, 2.7420e-01, 1.2507e-01, 1.7700e-01,\n",
        "#          1.0000e+00, 8.3754e+01, 4.0869e+01, 3.3302e-01, 1.7439e-01, 1.7700e-01,\n",
        "#          1.0000e+00, 8.3754e+01, 1.1031e+02, 3.5945e-01, 1.5382e-01, 1.7700e-01])\n",
        "\n",
        "# S1 = array[2]\n",
        "# S2 = array[8]\n",
        "# S3 = array[14]\n",
        "# sigma1 = array[3]\n",
        "# sigma2 = array[9]\n",
        "# sigma3 = array[15]\n",
        "# T = 1  \n",
        "# K = array[1]\n",
        "# r = array[5]\n",
        "\n",
        "# dt = 1/100\n",
        "# N = round(T/dt)\n",
        "# t = np.linspace(0, T, N)\n",
        "\n",
        "# out = []\n",
        "\n",
        "# #for i in range(1000):\n",
        "# W = np.random.standard_normal(size = N)\n",
        "# W = np.cumsum(W) * np.sqrt(dt)\n",
        "# P1_T = (S1 * np.exp((r - 0.5*sigma1**2) *t + sigma1 * W))\n",
        "# P2_T = (S2 * np.exp((r - 0.5*sigma2**2) *t + sigma2 * W))[-1]\n",
        "# P3_T = (S3 * np.exp((r - 0.5*sigma3**2) *t + sigma3 * W))[-1]\n",
        "# #ayoff = (P1_T+P2_T+P3_T)/3 - K if (P1_T+P2_T+P3_T)/3 > K else 0\n",
        "# #out.append(payoff * np.exp(-r*T))\n",
        "\n",
        "# #return(np.array(out).mean())\n",
        "# #P1_T\n",
        "# import matplotlib.pyplot as plt\n",
        "# plt.plot(t, P1_T)\n",
        "# plt.show()"
      ],
      "execution_count": null,
      "outputs": []
    },
    {
      "cell_type": "code",
      "metadata": {
        "id": "8tpLw9WDhx8b"
      },
      "source": [
        "# stocks_randoms_cov = cupy.array([0.99999] * 3 * 3, dtype = cupy.float32).reshape(3,3)  #Covariance\n",
        "# cupy.fill_diagonal(stocks_randoms_cov, 1)\n",
        "\n",
        "# stocks_randoms_mean = cupy.zeros(3, dtype = cupy.float32)\n",
        "\n",
        "# num_of_randoms_each_stock = 2 * 3\n",
        "# randoms_gpu = cupy.random.multivariate_normal(stocks_randoms_mean, stocks_randoms_cov,\n",
        "#                                               num_of_randoms_each_stock, dtype=cupy.float32)\n",
        "# randoms_gpu"
      ],
      "execution_count": null,
      "outputs": []
    },
    {
      "cell_type": "markdown",
      "metadata": {
        "id": "u2_89jOknwjH"
      },
      "source": [
        "### Model\n",
        "To map the option parameters to price, we use 6 layers of fully connected neural network with hidden dimension 512 as inspired by [this paper](https://arxiv.org/abs/1809.02233). Writing this DL price model into a file `model.py`:-"
      ]
    },
    {
      "cell_type": "markdown",
      "metadata": {
        "id": "NMHqzJycx8XH"
      },
      "source": [
        "### Modified Model"
      ]
    },
    {
      "cell_type": "code",
      "metadata": {
        "id": "ZTn7iJQryAIH",
        "colab": {
          "base_uri": "https://localhost:8080/"
        },
        "outputId": "2f4f02af-c749-4241-ac7d-8d65548e2de6"
      },
      "source": [
        "%%writefile model.py\n",
        "import torch.nn as nn\n",
        "import torch.nn.functional as F\n",
        "import torch\n",
        "import numpy as np\n",
        "\n",
        "\n",
        "class Net(nn.Module):\n",
        "\n",
        "    def __init__(self, hidden=1024, nstock=3):\n",
        "        super(Net, self).__init__()\n",
        "        self.nstock = nstock\n",
        "        self.fc1 = nn.Linear(6 * self.nstock, hidden)\n",
        "        self.fc2 = nn.Linear(hidden, hidden)\n",
        "        self.fc3 = nn.Linear(hidden, hidden)\n",
        "        self.fc4 = nn.Linear(hidden, hidden)\n",
        "        self.fc5 = nn.Linear(hidden, hidden)\n",
        "        self.fc6 = nn.Linear(hidden, 1)\n",
        "        self.register_buffer('norm',\n",
        "                             torch.tensor([1, 150.0, 150.0, 0.4, 0.2, 0.2] * self.nstock)) # don't use numpy here - will give error later\n",
        "\n",
        "    def forward(self, x):\n",
        "        # normalize the parameter to range [0-1] \n",
        "        x = x / self.norm\n",
        "        x = F.elu(self.fc1(x))\n",
        "        x = F.elu(self.fc2(x))\n",
        "        x = F.elu(self.fc3(x))\n",
        "        x = F.elu(self.fc4(x))\n",
        "        x = F.elu(self.fc5(x))\n",
        "        return self.fc6(x)"
      ],
      "execution_count": 6,
      "outputs": [
        {
          "output_type": "stream",
          "text": [
            "Writing model.py\n"
          ],
          "name": "stdout"
        }
      ]
    },
    {
      "cell_type": "markdown",
      "metadata": {
        "id": "hSPRFqyznwjI"
      },
      "source": [
        "As we know the random parameters' scaling factors, the input parameters are first scaled back to a range of (0-1) by dividing them by (200.0, 198.0, 200.0, 0.4, 0.2, 0.2). Then they are projected 5 times to the hidden dimension of 512 after the `ELu` activation function. `ELu` is chosen because we need to compute the second order differentiation of the parameters. If use ReLu, the second order differentiation will always be zero. The last layer is a linear layer that maps the hidden dimension to the predicted option price. "
      ]
    },
    {
      "cell_type": "markdown",
      "metadata": {
        "id": "AM8J2liPnwjJ"
      },
      "source": [
        "For training, we use [Ignite](https://github.com/pytorch/ignite) which is a high-level library to train neural networks in PyTorch. We use `MSELoss` as the loss function, `Adam` as the optimizer and `CosineAnnealingScheduler` as the learning rate scheduler. The following code is feeding the random option data to the pricing model to train it."
      ]
    },
    {
      "cell_type": "markdown",
      "metadata": {
        "id": "yACi4ge13_rd"
      },
      "source": [
        "### Train"
      ]
    },
    {
      "cell_type": "code",
      "metadata": {
        "id": "1TyZT8_AH35M",
        "colab": {
          "base_uri": "https://localhost:8080/"
        },
        "outputId": "da1a56a7-28e4-4520-d281-d54f09421646"
      },
      "source": [
        "!pip install pytorch-ignite"
      ],
      "execution_count": 7,
      "outputs": [
        {
          "output_type": "stream",
          "text": [
            "Collecting pytorch-ignite\n",
            "  Downloading pytorch_ignite-0.4.6-py3-none-any.whl (232 kB)\n",
            "\u001b[K     |████████████████████████████████| 232 kB 7.3 MB/s \n",
            "\u001b[?25hRequirement already satisfied: torch<2,>=1.3 in /usr/local/lib/python3.7/dist-packages (from pytorch-ignite) (1.9.0+cu102)\n",
            "Requirement already satisfied: typing-extensions in /usr/local/lib/python3.7/dist-packages (from torch<2,>=1.3->pytorch-ignite) (3.7.4.3)\n",
            "Installing collected packages: pytorch-ignite\n",
            "Successfully installed pytorch-ignite-0.4.6\n"
          ],
          "name": "stdout"
        }
      ]
    },
    {
      "cell_type": "code",
      "metadata": {
        "id": "G4Ej82G8nwjJ",
        "colab": {
          "base_uri": "https://localhost:8080/"
        },
        "outputId": "63e7b692-1b66-4a77-e771-aea937842723"
      },
      "source": [
        "from ignite.engine import Engine, Events\n",
        "from ignite.handlers import Timer\n",
        "from torch.nn import MSELoss\n",
        "from torch.optim import Adam\n",
        "from ignite.contrib.handlers.param_scheduler import CosineAnnealingScheduler\n",
        "from ignite.handlers import ModelCheckpoint\n",
        "from model import Net\n",
        "from cupy_dataset import NumbaOptionDataSet\n",
        "timer = Timer(average=True)\n",
        "model = Net(nstock = nstock).cuda()\n",
        "loss_fn = MSELoss()\n",
        "optimizer = Adam(model.parameters(), lr=1e-3)\n",
        "# dataset = NumbaOptionDataSet(max_len = 10000, number_path = 1024, batch = 4800)\n",
        "# dataset = NumbaOptionDataSet(max_len = 100, number_path = 1024, batch = 32, stocks = 3)\n",
        "dataset = NumbaOptionDataSet(max_len = 100, number_path = 1024, batch = 32, stocks = nstock)\n",
        "\n",
        "\n",
        "def train_update(engine, batch):\n",
        "    model.train()\n",
        "    optimizer.zero_grad()\n",
        "    x = batch[0]\n",
        "    y = batch[1]\n",
        "    y_pred = model(x)\n",
        "    loss = loss_fn(y_pred[:,0], y)\n",
        "    loss.backward()\n",
        "    optimizer.step()\n",
        "    return loss.item()\n",
        "\n",
        "trainer = Engine(train_update)\n",
        "log_interval = 20\n",
        "\n",
        "scheduler = CosineAnnealingScheduler(optimizer, 'lr', 1e-4, 1e-6, len(dataset))\n",
        "trainer.add_event_handler(Events.ITERATION_STARTED, scheduler)\n",
        "timer.attach(trainer,\n",
        "             start=Events.EPOCH_STARTED,\n",
        "             resume=Events.ITERATION_STARTED,\n",
        "             pause=Events.ITERATION_COMPLETED,\n",
        "             step=Events.ITERATION_COMPLETED)    \n",
        "@trainer.on(Events.ITERATION_COMPLETED)\n",
        "def log_training_loss(engine):\n",
        "    iter = (engine.state.iteration - 1) % len(dataset) + 1\n",
        "    if iter % log_interval == 0:\n",
        "        print('loss', engine.state.output, 'average time', timer.value(), 'iter num', iter)\n",
        "        \n",
        "trainer.run(dataset, max_epochs = 100)"
      ],
      "execution_count": 8,
      "outputs": [
        {
          "output_type": "stream",
          "text": [
            "loss 552.2044067382812 average time 0.2753786930000032 iter num 20\n",
            "loss 579.3694458007812 average time 0.1397104258500022 iter num 40\n",
            "loss 276.30133056640625 average time 0.09449697996666799 iter num 60\n",
            "loss 175.50607299804688 average time 0.07185247132500053 iter num 80\n",
            "loss 195.61265563964844 average time 0.05827633885000097 iter num 100\n",
            "loss 52.09331512451172 average time 0.03717038240000079 iter num 20\n",
            "loss 50.45796203613281 average time 0.02056199572500219 iter num 40\n",
            "loss 30.46112823486328 average time 0.0150492357000014 iter num 60\n",
            "loss 21.55694007873535 average time 0.01228376366249968 iter num 80\n",
            "loss 6.358014106750488 average time 0.010649055390001933 iter num 100\n",
            "loss 9.753979682922363 average time 0.03719541505000734 iter num 20\n",
            "loss 1.7757201194763184 average time 0.02055950652500229 iter num 40\n",
            "loss 2.0055181980133057 average time 0.015024664766668631 iter num 60\n",
            "loss 1.816706895828247 average time 0.012254830525003512 iter num 80\n",
            "loss 2.6711316108703613 average time 0.01060519924000289 iter num 100\n",
            "loss 1.6710020303726196 average time 0.03733342769999126 iter num 20\n",
            "loss 3.4270639419555664 average time 0.020619810299993446 iter num 40\n",
            "loss 1.3067235946655273 average time 0.015065953999995448 iter num 60\n",
            "loss 0.9709410667419434 average time 0.012285521549996048 iter num 80\n",
            "loss 0.6867293119430542 average time 0.010617145509996817 iter num 100\n",
            "loss 0.9942517280578613 average time 0.03746911419999606 iter num 20\n",
            "loss 1.2291589975357056 average time 0.02070170229999633 iter num 40\n",
            "loss 1.476344108581543 average time 0.015108882299993335 iter num 60\n",
            "loss 0.4273831248283386 average time 0.012321719324994974 iter num 80\n",
            "loss 0.3483828902244568 average time 0.010644469879995882 iter num 100\n",
            "loss 0.532457709312439 average time 0.0374657379000098 iter num 20\n",
            "loss 0.6106092929840088 average time 0.020696636025004978 iter num 40\n",
            "loss 1.586437702178955 average time 0.01509837051667091 iter num 60\n",
            "loss 1.0730669498443604 average time 0.01231056542500113 iter num 80\n",
            "loss 0.5017316937446594 average time 0.01063872577000211 iter num 100\n",
            "loss 2.2355828285217285 average time 0.037424511500006474 iter num 20\n",
            "loss 0.7780402898788452 average time 0.020684425599998234 iter num 40\n",
            "loss 0.22711388766765594 average time 0.015102607516665027 iter num 60\n",
            "loss 0.29808905720710754 average time 0.01231089722499661 iter num 80\n",
            "loss 0.6940015554428101 average time 0.010635726419998263 iter num 100\n",
            "loss 1.4342684745788574 average time 0.037188229299999875 iter num 20\n",
            "loss 1.1511927843093872 average time 0.020583321125002385 iter num 40\n",
            "loss 0.9550040364265442 average time 0.015039071699997445 iter num 60\n",
            "loss 0.3908792734146118 average time 0.01227065974999988 iter num 80\n",
            "loss 0.38886886835098267 average time 0.01060835530999725 iter num 100\n",
            "loss 1.0346214771270752 average time 0.03724202639998566 iter num 20\n",
            "loss 1.1739552021026611 average time 0.02059870617499939 iter num 40\n",
            "loss 0.3794260025024414 average time 0.015062633183329883 iter num 60\n",
            "loss 0.6236903071403503 average time 0.012290601312496107 iter num 80\n",
            "loss 0.312938928604126 average time 0.010630770259994052 iter num 100\n",
            "loss 0.5169690847396851 average time 0.0373562404999916 iter num 20\n",
            "loss 0.7552075386047363 average time 0.020673308074987063 iter num 40\n",
            "loss 0.2504724860191345 average time 0.015098911866656788 iter num 60\n",
            "loss 0.4180966019630432 average time 0.012333581399992966 iter num 80\n",
            "loss 0.28603553771972656 average time 0.010657872119993498 iter num 100\n",
            "loss 2.555917978286743 average time 0.03753092724998623 iter num 20\n",
            "loss 0.736797034740448 average time 0.020718375549998315 iter num 40\n",
            "loss 0.2514628767967224 average time 0.015148629266669407 iter num 60\n",
            "loss 0.22174596786499023 average time 0.012414640200003647 iter num 80\n",
            "loss 0.35266363620758057 average time 0.010734475620004104 iter num 100\n",
            "loss 0.4837205708026886 average time 0.0371361075999971 iter num 20\n",
            "loss 0.9126154184341431 average time 0.020524515150009394 iter num 40\n",
            "loss 0.2488332837820053 average time 0.014986806050010652 iter num 60\n",
            "loss 0.35684242844581604 average time 0.012228739825008005 iter num 80\n",
            "loss 0.23082581162452698 average time 0.010587183870005673 iter num 100\n",
            "loss 0.32895439863204956 average time 0.03723820414996339 iter num 20\n",
            "loss 1.0668716430664062 average time 0.020580685074978077 iter num 40\n",
            "loss 0.36334842443466187 average time 0.015034933349985144 iter num 60\n",
            "loss 0.17546667158603668 average time 0.012264818637490293 iter num 80\n",
            "loss 0.3677581548690796 average time 0.010610873299989408 iter num 100\n",
            "loss 0.44966667890548706 average time 0.037203807700012706 iter num 20\n",
            "loss 0.9153587818145752 average time 0.02055783695000457 iter num 40\n",
            "loss 0.2268199324607849 average time 0.015004322583340961 iter num 60\n",
            "loss 0.27351564168930054 average time 0.012235507437502235 iter num 80\n",
            "loss 0.3124048709869385 average time 0.010568667270002835 iter num 100\n",
            "loss 0.46779462695121765 average time 0.037462321049997624 iter num 20\n",
            "loss 0.477583110332489 average time 0.020685339699980432 iter num 40\n",
            "loss 0.3609899878501892 average time 0.01510693421665792 iter num 60\n",
            "loss 0.4941377341747284 average time 0.012327385987489947 iter num 80\n",
            "loss 0.3247261643409729 average time 0.010654810329988322 iter num 100\n",
            "loss 0.29858726263046265 average time 0.03715401439998232 iter num 20\n",
            "loss 0.22525833547115326 average time 0.02053517509999665 iter num 40\n",
            "loss 0.7147595286369324 average time 0.014993380333335912 iter num 60\n",
            "loss 0.2763342559337616 average time 0.012230886550003105 iter num 80\n",
            "loss 0.2210209220647812 average time 0.010570958539999538 iter num 100\n",
            "loss 0.42615142464637756 average time 0.03736794659999987 iter num 20\n",
            "loss 0.7427537441253662 average time 0.020658174524976404 iter num 40\n",
            "loss 0.357755571603775 average time 0.015102920749980816 iter num 60\n",
            "loss 0.3658250570297241 average time 0.012315778924980236 iter num 80\n",
            "loss 0.23363922536373138 average time 0.010644849199979944 iter num 100\n",
            "loss 0.639534592628479 average time 0.03698051199997963 iter num 20\n",
            "loss 0.3313567042350769 average time 0.020455742624983488 iter num 40\n",
            "loss 0.1476244479417801 average time 0.014937953650000205 iter num 60\n",
            "loss 0.22090646624565125 average time 0.012183780300000535 iter num 80\n",
            "loss 0.15640749037265778 average time 0.010527472750002289 iter num 100\n",
            "loss 0.18422748148441315 average time 0.03710514365000108 iter num 20\n",
            "loss 0.4259350597858429 average time 0.020525245824990178 iter num 40\n",
            "loss 0.15535038709640503 average time 0.015004056949987899 iter num 60\n",
            "loss 0.0973883718252182 average time 0.012238856762485284 iter num 80\n",
            "loss 0.18043890595436096 average time 0.010601691169990773 iter num 100\n",
            "loss 0.16187521815299988 average time 0.03709484600003634 iter num 20\n",
            "loss 0.3249540627002716 average time 0.020517340250023608 iter num 40\n",
            "loss 0.17302022874355316 average time 0.01499282846669227 iter num 60\n",
            "loss 0.4002750515937805 average time 0.01222537976252056 iter num 80\n",
            "loss 0.17473582923412323 average time 0.01057341499001268 iter num 100\n",
            "loss 0.8939387798309326 average time 0.03764341019997346 iter num 20\n",
            "loss 0.23955005407333374 average time 0.020794217624990098 iter num 40\n",
            "loss 0.1529742330312729 average time 0.015182270249992295 iter num 60\n",
            "loss 0.2833172678947449 average time 0.012371129549995885 iter num 80\n",
            "loss 0.2867589592933655 average time 0.01068243777999669 iter num 100\n",
            "loss 0.506313681602478 average time 0.03738422385002878 iter num 20\n",
            "loss 0.5781698226928711 average time 0.020673869550034852 iter num 40\n",
            "loss 0.3067701756954193 average time 0.015097312433351818 iter num 60\n",
            "loss 0.13705500960350037 average time 0.01231524330000866 iter num 80\n",
            "loss 0.1097954511642456 average time 0.010633634330010864 iter num 100\n",
            "loss 0.5087658762931824 average time 0.037205999250011244 iter num 20\n",
            "loss 0.48675239086151123 average time 0.020560442300012482 iter num 40\n",
            "loss 0.813737154006958 average time 0.015024125966673789 iter num 60\n",
            "loss 0.21937040984630585 average time 0.01227028523750846 iter num 80\n",
            "loss 0.15711775422096252 average time 0.01060330930001328 iter num 100\n",
            "loss 0.22696687281131744 average time 0.036955638049994376 iter num 20\n",
            "loss 0.18599838018417358 average time 0.020440917799993484 iter num 40\n",
            "loss 0.13984215259552002 average time 0.014941287083331645 iter num 60\n",
            "loss 0.14864888787269592 average time 0.01219876128749604 iter num 80\n",
            "loss 0.25876256823539734 average time 0.010555920799997693 iter num 100\n",
            "loss 1.2414865493774414 average time 0.03695731139999907 iter num 20\n",
            "loss 1.060546636581421 average time 0.020421237600010043 iter num 40\n",
            "loss 0.4654184579849243 average time 0.014919093033347508 iter num 60\n",
            "loss 0.10737095773220062 average time 0.012159620262514182 iter num 80\n",
            "loss 0.17293252050876617 average time 0.010540650870013905 iter num 100\n",
            "loss 0.6087183356285095 average time 0.03738962244998447 iter num 20\n",
            "loss 0.2606515884399414 average time 0.02066353472499145 iter num 40\n",
            "loss 0.2598803639411926 average time 0.015073079433341264 iter num 60\n",
            "loss 0.16290193796157837 average time 0.012273474837502362 iter num 80\n",
            "loss 0.33178091049194336 average time 0.010603218140008721 iter num 100\n",
            "loss 1.8015559911727905 average time 0.037158780400011436 iter num 20\n",
            "loss 0.2424982339143753 average time 0.0205456547250094 iter num 40\n",
            "loss 0.19482466578483582 average time 0.014991319149995281 iter num 60\n",
            "loss 0.20731870830059052 average time 0.01222698407499081 iter num 80\n",
            "loss 0.1802937090396881 average time 0.010584307019985317 iter num 100\n",
            "loss 0.4267614483833313 average time 0.03716824449996921 iter num 20\n",
            "loss 0.16128580272197723 average time 0.02065246214998524 iter num 40\n",
            "loss 0.21945975720882416 average time 0.015102563883321334 iter num 60\n",
            "loss 0.08445559442043304 average time 0.012304059412488754 iter num 80\n",
            "loss 0.07459524273872375 average time 0.010619480389989349 iter num 100\n",
            "loss 0.8039226531982422 average time 0.03708425184998987 iter num 20\n",
            "loss 0.31915706396102905 average time 0.020511802324989503 iter num 40\n",
            "loss 0.16180633008480072 average time 0.0149967740666663 iter num 60\n",
            "loss 0.11457198113203049 average time 0.012220316600010505 iter num 80\n",
            "loss 0.15574026107788086 average time 0.010553814070019598 iter num 100\n",
            "loss 0.22882071137428284 average time 0.037074784450010154 iter num 20\n",
            "loss 0.26230987906455994 average time 0.020509658449975633 iter num 40\n",
            "loss 0.23335304856300354 average time 0.01497427938331839 iter num 60\n",
            "loss 0.06081963703036308 average time 0.012204176712498339 iter num 80\n",
            "loss 0.10907945036888123 average time 0.01054402983998898 iter num 100\n",
            "loss 0.32944583892822266 average time 0.03742641889994047 iter num 20\n",
            "loss 0.1480686515569687 average time 0.02068981097497726 iter num 40\n",
            "loss 0.10396303236484528 average time 0.015129173466645322 iter num 60\n",
            "loss 0.058539338409900665 average time 0.012332583374984551 iter num 80\n",
            "loss 0.1160464808344841 average time 0.010644387309994272 iter num 100\n",
            "loss 0.7718691825866699 average time 0.03715614979998918 iter num 20\n",
            "loss 0.39418262243270874 average time 0.020536552375006067 iter num 40\n",
            "loss 0.18792837858200073 average time 0.01499737551665324 iter num 60\n",
            "loss 0.35979288816452026 average time 0.01222059549998562 iter num 80\n",
            "loss 0.14543309807777405 average time 0.010566272669980208 iter num 100\n",
            "loss 2.8497633934020996 average time 0.03739938010000969 iter num 20\n",
            "loss 1.097682237625122 average time 0.020647577149986773 iter num 40\n",
            "loss 0.17167675495147705 average time 0.01507923444998293 iter num 60\n",
            "loss 0.18034610152244568 average time 0.012307996274984134 iter num 80\n",
            "loss 0.0683709979057312 average time 0.010628666779994092 iter num 100\n",
            "loss 0.13158440589904785 average time 0.03690876074992957 iter num 20\n",
            "loss 0.14576919376850128 average time 0.020427196649973212 iter num 40\n",
            "loss 0.13744857907295227 average time 0.01495715221666766 iter num 60\n",
            "loss 0.1309768259525299 average time 0.012210049512509613 iter num 80\n",
            "loss 0.0751466453075409 average time 0.010548152700011996 iter num 100\n",
            "loss 0.13985812664031982 average time 0.03720356850008102 iter num 20\n",
            "loss 0.6734707355499268 average time 0.020540949800079034 iter num 40\n",
            "loss 0.14148414134979248 average time 0.01499569066671332 iter num 60\n",
            "loss 0.1762826144695282 average time 0.012220161425045718 iter num 80\n",
            "loss 0.09562292695045471 average time 0.010551999550043547 iter num 100\n",
            "loss 0.10951408743858337 average time 0.03721778204994734 iter num 20\n",
            "loss 0.42205286026000977 average time 0.020554242699927273 iter num 40\n",
            "loss 0.2599968910217285 average time 0.015002119949948186 iter num 60\n",
            "loss 0.10150156915187836 average time 0.012239548924975452 iter num 80\n",
            "loss 0.10525131225585938 average time 0.010578648989971953 iter num 100\n",
            "loss 0.10473962128162384 average time 0.037263190899966506 iter num 20\n",
            "loss 0.218530535697937 average time 0.020581089849997625 iter num 40\n",
            "loss 0.13336428999900818 average time 0.0150167715499947 iter num 60\n",
            "loss 0.2737949788570404 average time 0.012245753187499986 iter num 80\n",
            "loss 0.0903819352388382 average time 0.010572326709993831 iter num 100\n",
            "loss 0.4998672902584076 average time 0.03710132359999534 iter num 20\n",
            "loss 0.21217092871665955 average time 0.020503941749973366 iter num 40\n",
            "loss 0.10227110981941223 average time 0.014966793250005139 iter num 60\n",
            "loss 0.08244527876377106 average time 0.012209946062512245 iter num 80\n",
            "loss 0.07542770355939865 average time 0.010557144390013491 iter num 100\n",
            "loss 0.2192952036857605 average time 0.03704115625002942 iter num 20\n",
            "loss 0.37745368480682373 average time 0.020461231975014017 iter num 40\n",
            "loss 0.26209157705307007 average time 0.01494633976667501 iter num 60\n",
            "loss 0.1987004578113556 average time 0.012177729525001268 iter num 80\n",
            "loss 0.13417434692382812 average time 0.010520106550011406 iter num 100\n",
            "loss 0.42078763246536255 average time 0.03733872620000511 iter num 20\n",
            "loss 0.16804686188697815 average time 0.02063751552499298 iter num 40\n",
            "loss 0.18025434017181396 average time 0.015128996599992206 iter num 60\n",
            "loss 0.09054887294769287 average time 0.012325808362498946 iter num 80\n",
            "loss 0.06239688768982887 average time 0.010643763400003082 iter num 100\n",
            "loss 0.0959317684173584 average time 0.0371673232999683 iter num 20\n",
            "loss 0.37050876021385193 average time 0.02052719764997164 iter num 40\n",
            "loss 0.25526902079582214 average time 0.014987937349981923 iter num 60\n",
            "loss 0.14894229173660278 average time 0.012219163187478444 iter num 80\n",
            "loss 0.18886372447013855 average time 0.010556199219981863 iter num 100\n",
            "loss 0.9422168135643005 average time 0.037179663400024765 iter num 20\n",
            "loss 0.742624044418335 average time 0.020590539625004567 iter num 40\n",
            "loss 0.10425436496734619 average time 0.015028205083353896 iter num 60\n",
            "loss 0.14693447947502136 average time 0.012246000812513102 iter num 80\n",
            "loss 0.10024458169937134 average time 0.01058037621000949 iter num 100\n",
            "loss 1.1323424577713013 average time 0.037236742699997195 iter num 20\n",
            "loss 0.14968645572662354 average time 0.020555985825001243 iter num 40\n",
            "loss 0.14513441920280457 average time 0.015000494949981657 iter num 60\n",
            "loss 0.053724005818367004 average time 0.012222646162479122 iter num 80\n",
            "loss 0.04644389823079109 average time 0.010573857549984496 iter num 100\n",
            "loss 0.090975321829319 average time 0.03701279340009478 iter num 20\n",
            "loss 0.11389688402414322 average time 0.0204384522750388 iter num 40\n",
            "loss 0.20690375566482544 average time 0.014926160866722663 iter num 60\n",
            "loss 0.11074891686439514 average time 0.012169390387549583 iter num 80\n",
            "loss 0.09207300841808319 average time 0.01051127734005604 iter num 100\n",
            "loss 0.21963876485824585 average time 0.03715892884999903 iter num 20\n",
            "loss 0.09426029026508331 average time 0.020535581749993526 iter num 40\n",
            "loss 0.10749907046556473 average time 0.015004443599999225 iter num 60\n",
            "loss 0.10614962875843048 average time 0.012225478587492945 iter num 80\n",
            "loss 0.05839201435446739 average time 0.010561838299981901 iter num 100\n",
            "loss 0.22469434142112732 average time 0.037127165149991016 iter num 20\n",
            "loss 0.12478764355182648 average time 0.020503360325017185 iter num 40\n",
            "loss 0.0801023617386818 average time 0.014998261716649116 iter num 60\n",
            "loss 0.1518656611442566 average time 0.012270567062495274 iter num 80\n",
            "loss 0.17995527386665344 average time 0.010602704869988884 iter num 100\n",
            "loss 0.19196230173110962 average time 0.03741812584996751 iter num 20\n",
            "loss 0.07321611046791077 average time 0.0206458990499641 iter num 40\n",
            "loss 0.1046990230679512 average time 0.015059636116613243 iter num 60\n",
            "loss 0.06939836591482162 average time 0.01231019926246404 iter num 80\n",
            "loss 0.07362785935401917 average time 0.010618144009972639 iter num 100\n",
            "loss 0.31467753648757935 average time 0.03729555574996084 iter num 20\n",
            "loss 0.055554892867803574 average time 0.020575470324990873 iter num 40\n",
            "loss 0.06282408535480499 average time 0.015024995666658469 iter num 60\n",
            "loss 0.057165879756212234 average time 0.012235300837494379 iter num 80\n",
            "loss 0.07059182971715927 average time 0.010576638079996883 iter num 100\n",
            "loss 0.1960475742816925 average time 0.03702067950002856 iter num 20\n",
            "loss 0.5451184511184692 average time 0.020457074525052122 iter num 40\n",
            "loss 0.5867582559585571 average time 0.0149543090500174 iter num 60\n",
            "loss 0.13876140117645264 average time 0.012183019012513795 iter num 80\n",
            "loss 0.10634328424930573 average time 0.010528516560007119 iter num 100\n",
            "loss 0.7094883918762207 average time 0.037241857700018956 iter num 20\n",
            "loss 0.4598650634288788 average time 0.020674692099976254 iter num 40\n",
            "loss 0.12742576003074646 average time 0.015091401250000065 iter num 60\n",
            "loss 0.06014711782336235 average time 0.012298563799998875 iter num 80\n",
            "loss 0.053359754383563995 average time 0.01066331244000139 iter num 100\n",
            "loss 0.19937947392463684 average time 0.037519407000104366 iter num 20\n",
            "loss 0.18783573806285858 average time 0.020694229975060808 iter num 40\n",
            "loss 0.17468184232711792 average time 0.015088915100045596 iter num 60\n",
            "loss 0.13316166400909424 average time 0.012309509625021064 iter num 80\n",
            "loss 0.07966028898954391 average time 0.010628213760023755 iter num 100\n",
            "loss 0.6351056098937988 average time 0.03731783770003858 iter num 20\n",
            "loss 0.10229822993278503 average time 0.02057170552502612 iter num 40\n",
            "loss 0.12232748419046402 average time 0.01500507240002662 iter num 60\n",
            "loss 0.0987437516450882 average time 0.012230805825009839 iter num 80\n",
            "loss 0.12280583381652832 average time 0.010563536160007062 iter num 100\n",
            "loss 0.4054472744464874 average time 0.03709436124995591 iter num 20\n",
            "loss 0.2657673954963684 average time 0.020499338374975196 iter num 40\n",
            "loss 0.16415220499038696 average time 0.014956738149984024 iter num 60\n",
            "loss 0.0400749146938324 average time 0.012201536112468148 iter num 80\n",
            "loss 0.10873167216777802 average time 0.010538779169960434 iter num 100\n",
            "loss 0.19957950711250305 average time 0.03705171414999313 iter num 20\n",
            "loss 0.215336412191391 average time 0.0204778268999803 iter num 40\n",
            "loss 0.22334621846675873 average time 0.014943168899996332 iter num 60\n",
            "loss 0.09060108661651611 average time 0.012208651624996491 iter num 80\n",
            "loss 0.03482505679130554 average time 0.010550799640013793 iter num 100\n",
            "loss 0.3147163391113281 average time 0.03702194595000492 iter num 20\n",
            "loss 0.10272310674190521 average time 0.020462851300021612 iter num 40\n",
            "loss 0.32223057746887207 average time 0.015085112333341992 iter num 60\n",
            "loss 0.13801166415214539 average time 0.012291066725009615 iter num 80\n",
            "loss 0.09744346141815186 average time 0.010628456979998192 iter num 100\n",
            "loss 0.6240798234939575 average time 0.03717367580002247 iter num 20\n",
            "loss 0.20973727107048035 average time 0.02052583717501193 iter num 40\n",
            "loss 0.1635991632938385 average time 0.014981019066681256 iter num 60\n",
            "loss 0.10604450106620789 average time 0.012218410962509552 iter num 80\n",
            "loss 0.0722651556134224 average time 0.010543613070017272 iter num 100\n",
            "loss 0.15001988410949707 average time 0.03701204299993606 iter num 20\n",
            "loss 0.29443007707595825 average time 0.020444571349980834 iter num 40\n",
            "loss 0.11312645673751831 average time 0.01493977673332362 iter num 60\n",
            "loss 0.07722200453281403 average time 0.012173119012481947 iter num 80\n",
            "loss 0.07597190886735916 average time 0.0105184909899981 iter num 100\n",
            "loss 0.19983787834644318 average time 0.03700575684995329 iter num 20\n",
            "loss 0.06654876470565796 average time 0.02046437567493058 iter num 40\n",
            "loss 0.060641974210739136 average time 0.014945047366616867 iter num 60\n",
            "loss 0.049467578530311584 average time 0.012196685762455672 iter num 80\n",
            "loss 0.11072999238967896 average time 0.01053507844997057 iter num 100\n",
            "loss 0.22832950949668884 average time 0.037250367649994585 iter num 20\n",
            "loss 0.09919986128807068 average time 0.02059725124998977 iter num 40\n",
            "loss 0.38004928827285767 average time 0.015021852533338157 iter num 60\n",
            "loss 0.11591960489749908 average time 0.012242258000014772 iter num 80\n",
            "loss 0.08764295279979706 average time 0.01056863675002205 iter num 100\n",
            "loss 0.14736227691173553 average time 0.03699389150006027 iter num 20\n",
            "loss 0.1928652822971344 average time 0.020452183599991257 iter num 40\n",
            "loss 0.02487368881702423 average time 0.014932201433308971 iter num 60\n",
            "loss 0.0997006893157959 average time 0.012184388412481439 iter num 80\n",
            "loss 0.1013321578502655 average time 0.0105238637599723 iter num 100\n",
            "loss 0.17952974140644073 average time 0.03686711639993519 iter num 20\n",
            "loss 0.49408218264579773 average time 0.02035822664997795 iter num 40\n",
            "loss 0.14998815953731537 average time 0.01484928528329874 iter num 60\n",
            "loss 0.20597660541534424 average time 0.01213830579996511 iter num 80\n",
            "loss 0.06960336863994598 average time 0.010493680859954111 iter num 100\n",
            "loss 0.4198284149169922 average time 0.037065532949964106 iter num 20\n",
            "loss 0.167414590716362 average time 0.02047437567503039 iter num 40\n",
            "loss 0.06750939786434174 average time 0.014935205900034514 iter num 60\n",
            "loss 0.13338777422904968 average time 0.01216981031253681 iter num 80\n",
            "loss 0.04847720265388489 average time 0.01052274996005508 iter num 100\n",
            "loss 0.6654808521270752 average time 0.03704821744991023 iter num 20\n",
            "loss 0.18712380528450012 average time 0.020488984124995113 iter num 40\n",
            "loss 0.15650814771652222 average time 0.014991291249983382 iter num 60\n",
            "loss 0.09699594974517822 average time 0.012222329987469038 iter num 80\n",
            "loss 0.1141987070441246 average time 0.010567749959991489 iter num 100\n",
            "loss 5.095606327056885 average time 0.03713200790011797 iter num 20\n",
            "loss 1.4978547096252441 average time 0.020531372000073135 iter num 40\n",
            "loss 0.8607413172721863 average time 0.014988423966785073 iter num 60\n",
            "loss 0.11490409076213837 average time 0.012232398225091857 iter num 80\n",
            "loss 0.12381917983293533 average time 0.010570974300080707 iter num 100\n",
            "loss 1.0661709308624268 average time 0.037131449449952926 iter num 20\n",
            "loss 0.3746662139892578 average time 0.020713825499910854 iter num 40\n",
            "loss 0.12286984175443649 average time 0.015110653549966931 iter num 60\n",
            "loss 0.11004148423671722 average time 0.012305088162474932 iter num 80\n",
            "loss 0.10355512797832489 average time 0.0106201994899493 iter num 100\n",
            "loss 0.8085357546806335 average time 0.03709381345015572 iter num 20\n",
            "loss 0.25268465280532837 average time 0.020508780600016506 iter num 40\n",
            "loss 0.062257230281829834 average time 0.014979249600037292 iter num 60\n",
            "loss 0.09618684649467468 average time 0.012208699537518441 iter num 80\n",
            "loss 0.16528812050819397 average time 0.010550783480020982 iter num 100\n",
            "loss 0.08497512340545654 average time 0.036933383599989614 iter num 20\n",
            "loss 0.20404785871505737 average time 0.02040720052505094 iter num 40\n",
            "loss 0.13134193420410156 average time 0.014893310800046796 iter num 60\n",
            "loss 0.06530193239450455 average time 0.01214479070000607 iter num 80\n",
            "loss 0.08212289214134216 average time 0.010494584599973678 iter num 100\n",
            "loss 0.3151801824569702 average time 0.03708421300007103 iter num 20\n",
            "loss 0.44648241996765137 average time 0.020494381800017437 iter num 40\n",
            "loss 0.07163406908512115 average time 0.014966402433386369 iter num 60\n",
            "loss 0.0646735280752182 average time 0.012196656937578609 iter num 80\n",
            "loss 0.09302087128162384 average time 0.010537566640059594 iter num 100\n",
            "loss 0.155799001455307 average time 0.03709266749992821 iter num 20\n",
            "loss 0.17856183648109436 average time 0.020498898450000524 iter num 40\n",
            "loss 0.10018031299114227 average time 0.014953658983358764 iter num 60\n",
            "loss 0.08904380351305008 average time 0.012185040212477816 iter num 80\n",
            "loss 0.15369728207588196 average time 0.01052763521000088 iter num 100\n",
            "loss 0.13277529180049896 average time 0.036799590700184126 iter num 20\n",
            "loss 0.13131850957870483 average time 0.02032504945002529 iter num 40\n",
            "loss 0.0942145437002182 average time 0.014867338400017615 iter num 60\n",
            "loss 0.1353463977575302 average time 0.012123127687493707 iter num 80\n",
            "loss 0.06433290243148804 average time 0.010472574249988612 iter num 100\n",
            "loss 0.10517598688602448 average time 0.03694639370000914 iter num 20\n",
            "loss 0.09082785993814468 average time 0.020464896774979025 iter num 40\n",
            "loss 0.06671073287725449 average time 0.014940278616616827 iter num 60\n",
            "loss 0.08544812351465225 average time 0.012182957862455624 iter num 80\n",
            "loss 0.07200605422258377 average time 0.010514340990002893 iter num 100\n",
            "loss 1.083708643913269 average time 0.03714202600012868 iter num 20\n",
            "loss 0.20822757482528687 average time 0.020505974675097606 iter num 40\n",
            "loss 0.8198881149291992 average time 0.014980473183444094 iter num 60\n",
            "loss 0.11237476766109467 average time 0.012200616037591771 iter num 80\n",
            "loss 0.06804651021957397 average time 0.010537605030067424 iter num 100\n",
            "loss 0.06761205196380615 average time 0.03729358450004838 iter num 20\n",
            "loss 0.11401083320379257 average time 0.020603042025027208 iter num 40\n",
            "loss 0.2724784314632416 average time 0.01503703551666149 iter num 60\n",
            "loss 0.06697244942188263 average time 0.01226004949999151 iter num 80\n",
            "loss 0.07897141575813293 average time 0.010581409869973867 iter num 100\n",
            "loss 0.08813822269439697 average time 0.037120597799867025 iter num 20\n",
            "loss 0.19180291891098022 average time 0.020616061399960018 iter num 40\n",
            "loss 0.22400203347206116 average time 0.015034674949947657 iter num 60\n",
            "loss 0.07394517958164215 average time 0.012246617037476426 iter num 80\n",
            "loss 0.06608542799949646 average time 0.010574577439974746 iter num 100\n",
            "loss 0.07485951483249664 average time 0.03713215180009684 iter num 20\n",
            "loss 0.31884992122650146 average time 0.020505888450088605 iter num 40\n",
            "loss 0.23748959600925446 average time 0.0149725243667793 iter num 60\n",
            "loss 0.1530170440673828 average time 0.01220377601258633 iter num 80\n",
            "loss 0.39034155011177063 average time 0.010562096580079014 iter num 100\n",
            "loss 0.3155427575111389 average time 0.03733955845004857 iter num 20\n",
            "loss 0.1856500804424286 average time 0.02060744374994101 iter num 40\n",
            "loss 0.3090926706790924 average time 0.015031975949947688 iter num 60\n",
            "loss 0.052289221435785294 average time 0.012246143987488268 iter num 80\n",
            "loss 0.11500466614961624 average time 0.010580123089985136 iter num 100\n",
            "loss 0.19028574228286743 average time 0.0371502588500789 iter num 20\n",
            "loss 0.3374466896057129 average time 0.020524424850077595 iter num 40\n",
            "loss 0.07297945022583008 average time 0.014991692783451072 iter num 60\n",
            "loss 0.12751901149749756 average time 0.012231984837615072 iter num 80\n",
            "loss 0.07060916721820831 average time 0.010583079510097378 iter num 100\n",
            "loss 0.09856127202510834 average time 0.03717608119991382 iter num 20\n",
            "loss 0.07944995164871216 average time 0.020541434624965403 iter num 40\n",
            "loss 0.10644673556089401 average time 0.014996273166677081 iter num 60\n",
            "loss 0.10570371150970459 average time 0.012227305699980207 iter num 80\n",
            "loss 0.08075903356075287 average time 0.01057415628999479 iter num 100\n",
            "loss 0.09711135923862457 average time 0.03689539509982751 iter num 20\n",
            "loss 0.2818630039691925 average time 0.02039426654989711 iter num 40\n",
            "loss 0.11319142580032349 average time 0.014902072999924106 iter num 60\n",
            "loss 0.07652712613344193 average time 0.012152533174923975 iter num 80\n",
            "loss 0.06796801090240479 average time 0.01052011828994182 iter num 100\n",
            "loss 0.34226590394973755 average time 0.03701397195009122 iter num 20\n",
            "loss 0.07194973528385162 average time 0.020451457525041405 iter num 40\n",
            "loss 0.2007659524679184 average time 0.014934469300033015 iter num 60\n",
            "loss 0.11013440042734146 average time 0.012182500125027218 iter num 80\n",
            "loss 0.06320324540138245 average time 0.01054436277003333 iter num 100\n",
            "loss 0.3279576301574707 average time 0.03700606460006384 iter num 20\n",
            "loss 0.09252378344535828 average time 0.020437038675026997 iter num 40\n",
            "loss 0.07528612017631531 average time 0.014914644616692386 iter num 60\n",
            "loss 0.0897328108549118 average time 0.012159398937501464 iter num 80\n",
            "loss 0.047393135726451874 average time 0.010507436100006089 iter num 100\n",
            "loss 0.5477368831634521 average time 0.03712626624992481 iter num 20\n",
            "loss 0.2656378149986267 average time 0.020732198824998705 iter num 40\n",
            "loss 0.060809798538684845 average time 0.01515131441669837 iter num 60\n",
            "loss 0.18687516450881958 average time 0.012326695137517163 iter num 80\n",
            "loss 0.103360615670681 average time 0.010640374330005215 iter num 100\n",
            "loss 0.18203678727149963 average time 0.03710361244998239 iter num 20\n",
            "loss 0.1215377077460289 average time 0.020481147174973558 iter num 40\n",
            "loss 0.13390178978443146 average time 0.015036272900018351 iter num 60\n",
            "loss 0.08439059555530548 average time 0.012249677587544739 iter num 80\n",
            "loss 0.07016772776842117 average time 0.010573936460041296 iter num 100\n",
            "loss 1.1204830408096313 average time 0.03705969694992746 iter num 20\n",
            "loss 0.6539739966392517 average time 0.02049094067497208 iter num 40\n",
            "loss 0.17502568662166595 average time 0.014959247583283286 iter num 60\n",
            "loss 0.23732131719589233 average time 0.012194991187436699 iter num 80\n",
            "loss 0.10576450824737549 average time 0.01053306029994019 iter num 100\n",
            "loss 0.09831473976373672 average time 0.03713805769993996 iter num 20\n",
            "loss 0.11723765730857849 average time 0.0205214895499239 iter num 40\n",
            "loss 0.635611891746521 average time 0.014981711983273272 iter num 60\n",
            "loss 0.11036056280136108 average time 0.012202472399951602 iter num 80\n",
            "loss 0.08020710200071335 average time 0.010550984709943804 iter num 100\n",
            "loss 0.14662493765354156 average time 0.036826890099928275 iter num 20\n",
            "loss 0.21288688480854034 average time 0.02036004699998557 iter num 40\n",
            "loss 0.1745149940252304 average time 0.014878386066660218 iter num 60\n",
            "loss 0.16794654726982117 average time 0.012131170362476951 iter num 80\n",
            "loss 0.05938631668686867 average time 0.010488845730005778 iter num 100\n",
            "loss 0.11423605680465698 average time 0.03727524264991189 iter num 20\n",
            "loss 0.13300082087516785 average time 0.020605194824884165 iter num 40\n",
            "loss 0.17846359312534332 average time 0.015019767283244315 iter num 60\n",
            "loss 0.06988323479890823 average time 0.012235467187463201 iter num 80\n",
            "loss 0.08652892708778381 average time 0.010569343889974334 iter num 100\n",
            "loss 0.18643531203269958 average time 0.036981681799943544 iter num 20\n",
            "loss 0.11340172588825226 average time 0.020432547599921237 iter num 40\n",
            "loss 0.1055002510547638 average time 0.014927094899970446 iter num 60\n",
            "loss 0.05776885896921158 average time 0.012173478774946034 iter num 80\n",
            "loss 0.05088111013174057 average time 0.010516761429971665 iter num 100\n",
            "loss 0.13923735916614532 average time 0.03704712829994605 iter num 20\n",
            "loss 0.07374927401542664 average time 0.020469441925001775 iter num 40\n",
            "loss 0.049107857048511505 average time 0.014945978716696118 iter num 60\n",
            "loss 0.09559331834316254 average time 0.012181038912501663 iter num 80\n",
            "loss 0.05471576005220413 average time 0.010523484539999118 iter num 100\n",
            "loss 0.21869812905788422 average time 0.0371801966500243 iter num 20\n",
            "loss 0.08872716873884201 average time 0.020536486724995483 iter num 40\n",
            "loss 0.10427294671535492 average time 0.01498295166667655 iter num 60\n",
            "loss 0.08266452699899673 average time 0.012203479037520993 iter num 80\n",
            "loss 0.05223890393972397 average time 0.010546308089988087 iter num 100\n",
            "loss 0.11165231466293335 average time 0.03697729880018415 iter num 20\n",
            "loss 0.0815669447183609 average time 0.020417423225103447 iter num 40\n",
            "loss 0.061157964169979095 average time 0.014893941816717415 iter num 60\n",
            "loss 0.05013449862599373 average time 0.012150810800062573 iter num 80\n",
            "loss 0.09408807009458542 average time 0.01050025150003421 iter num 100\n",
            "loss 0.48383280634880066 average time 0.037196330899951134 iter num 20\n",
            "loss 0.6498171091079712 average time 0.020535601449978458 iter num 40\n",
            "loss 0.1418282836675644 average time 0.015061968833303277 iter num 60\n",
            "loss 0.13150858879089355 average time 0.012269686187471507 iter num 80\n",
            "loss 0.061882682144641876 average time 0.010592421389992524 iter num 100\n",
            "loss 0.16902543604373932 average time 0.03708788984995408 iter num 20\n",
            "loss 0.10810809582471848 average time 0.02050959507494099 iter num 40\n",
            "loss 0.14876598119735718 average time 0.014962862033341177 iter num 60\n",
            "loss 0.09859209507703781 average time 0.012208033874969715 iter num 80\n",
            "loss 0.05867438018321991 average time 0.010554813209955683 iter num 100\n",
            "loss 0.10440760850906372 average time 0.03726103765002335 iter num 20\n",
            "loss 0.22080755233764648 average time 0.020585417100005544 iter num 40\n",
            "loss 0.21943490207195282 average time 0.015032889900006315 iter num 60\n",
            "loss 0.03560187667608261 average time 0.012249132375040972 iter num 80\n",
            "loss 0.08269540965557098 average time 0.010571909790050994 iter num 100\n",
            "loss 2.934541702270508 average time 0.036933712599875435 iter num 20\n",
            "loss 2.3007004261016846 average time 0.020440033749946452 iter num 40\n",
            "loss 0.15253734588623047 average time 0.014979857866577125 iter num 60\n",
            "loss 0.09988847374916077 average time 0.012210194499903081 iter num 80\n",
            "loss 0.07360003888607025 average time 0.01053905516991108 iter num 100\n",
            "loss 0.2093515396118164 average time 0.037087889750000616 iter num 20\n",
            "loss 0.09701605141162872 average time 0.020481031174972485 iter num 40\n",
            "loss 0.13891859352588654 average time 0.01494105114999608 iter num 60\n",
            "loss 0.10624557733535767 average time 0.012177227300003323 iter num 80\n",
            "loss 0.1070680320262909 average time 0.010511749720008083 iter num 100\n",
            "loss 0.21804973483085632 average time 0.03701004970016584 iter num 20\n",
            "loss 0.03753073513507843 average time 0.020439213700160507 iter num 40\n",
            "loss 0.09348693490028381 average time 0.01491925230011475 iter num 60\n",
            "loss 0.11497016996145248 average time 0.012170881375107 iter num 80\n",
            "loss 0.05536052584648132 average time 0.010503526710062943 iter num 100\n",
            "loss 0.39448869228363037 average time 0.036857177049932945 iter num 20\n",
            "loss 0.07693047821521759 average time 0.02038612214996647 iter num 40\n",
            "loss 0.04868307709693909 average time 0.014887697699941782 iter num 60\n",
            "loss 0.20883695781230927 average time 0.01213642196245246 iter num 80\n",
            "loss 0.046611636877059937 average time 0.010476422259962419 iter num 100\n",
            "loss 0.13367390632629395 average time 0.03717269964995466 iter num 20\n",
            "loss 0.1263231337070465 average time 0.020514137874943116 iter num 40\n",
            "loss 0.06578737497329712 average time 0.01496714706666656 iter num 60\n",
            "loss 0.059701692312955856 average time 0.01220455796249098 iter num 80\n",
            "loss 0.09276140481233597 average time 0.010538693670005159 iter num 100\n",
            "loss 0.45533818006515503 average time 0.03703838805004125 iter num 20\n",
            "loss 0.09225648641586304 average time 0.020458906374938125 iter num 40\n",
            "loss 0.11437578499317169 average time 0.015003327249936168 iter num 60\n",
            "loss 0.07243913412094116 average time 0.012212065687447194 iter num 80\n",
            "loss 0.035645097494125366 average time 0.01055406928998309 iter num 100\n"
          ],
          "name": "stdout"
        },
        {
          "output_type": "execute_result",
          "data": {
            "text/plain": [
              "State:\n",
              "\titeration: 10000\n",
              "\tepoch: 100\n",
              "\tepoch_length: 100\n",
              "\tmax_epochs: 100\n",
              "\toutput: 0.035645097494125366\n",
              "\tbatch: <class 'tuple'>\n",
              "\tmetrics: <class 'dict'>\n",
              "\tdataloader: <class 'cupy_dataset.NumbaOptionDataSet'>\n",
              "\tseed: <class 'NoneType'>\n",
              "\ttimes: <class 'dict'>"
            ]
          },
          "metadata": {
            "tags": []
          },
          "execution_count": 8
        }
      ]
    },
    {
      "cell_type": "markdown",
      "metadata": {
        "id": "vU1EpGuInwjJ"
      },
      "source": [
        "$2365$ seconds The loss is keeping decreasing which means the pricing model can predict the option prices better. It takes about $12ms$ to compute one mini-batch in average, In the following sections, we will try to expore the full potentials of the GPU to accelerate the training."
      ]
    },
    {
      "cell_type": "markdown",
      "metadata": {
        "id": "A8McNtejRNFT"
      },
      "source": [
        "**Save Model**"
      ]
    },
    {
      "cell_type": "code",
      "metadata": {
        "id": "YRtOr1XIPOvF",
        "colab": {
          "base_uri": "https://localhost:8080/"
        },
        "outputId": "b97c18a3-96f4-4610-eed7-2bbc03e5b18c"
      },
      "source": [
        "from google.colab import drive\n",
        "drive.mount('/content/drive')"
      ],
      "execution_count": 9,
      "outputs": [
        {
          "output_type": "stream",
          "text": [
            "Mounted at /content/drive\n"
          ],
          "name": "stdout"
        }
      ]
    },
    {
      "cell_type": "code",
      "metadata": {
        "id": "ndftly2yPEaM"
      },
      "source": [
        "import torch\n",
        "model_save_name = f'EuCall_{str(nstock)}_2.pth'\n",
        "path = F\"/content/drive/MyDrive/AFP Project/Lilian/{model_save_name}\" \n",
        "torch.save(model.state_dict(), path)"
      ],
      "execution_count": 10,
      "outputs": []
    },
    {
      "cell_type": "markdown",
      "metadata": {
        "id": "y6DRO9K2RQoJ"
      },
      "source": [
        "**Load Model**"
      ]
    },
    {
      "cell_type": "code",
      "metadata": {
        "id": "HGXZSV_YRT8v",
        "colab": {
          "base_uri": "https://localhost:8080/"
        },
        "outputId": "a1477249-7a5e-4c3b-fd8b-3ffd54b99b5e"
      },
      "source": [
        "from google.colab import drive\n",
        "drive.mount('/content/drive')"
      ],
      "execution_count": 11,
      "outputs": [
        {
          "output_type": "stream",
          "text": [
            "Drive already mounted at /content/drive; to attempt to forcibly remount, call drive.mount(\"/content/drive\", force_remount=True).\n"
          ],
          "name": "stdout"
        }
      ]
    },
    {
      "cell_type": "code",
      "metadata": {
        "id": "3ntY-N5bOqdq",
        "colab": {
          "base_uri": "https://localhost:8080/"
        },
        "outputId": "7c4c752a-37e0-441f-86c1-19a07ba25012"
      },
      "source": [
        "import torch\n",
        "model_save_name = f'EuCall_{str(nstock)}_2.pth'\n",
        "path = F\"/content/drive/MyDrive/AFP Project/Lilian/{model_save_name}\" \n",
        "state_dict = torch.load(path)\n",
        "print(state_dict.keys())"
      ],
      "execution_count": 12,
      "outputs": [
        {
          "output_type": "stream",
          "text": [
            "odict_keys(['norm', 'fc1.weight', 'fc1.bias', 'fc2.weight', 'fc2.bias', 'fc3.weight', 'fc3.bias', 'fc4.weight', 'fc4.bias', 'fc5.weight', 'fc5.bias', 'fc6.weight', 'fc6.bias'])\n"
          ],
          "name": "stdout"
        }
      ]
    },
    {
      "cell_type": "code",
      "metadata": {
        "id": "j0GAGPAgPmgh",
        "colab": {
          "base_uri": "https://localhost:8080/"
        },
        "outputId": "e322e754-e268-4011-a6a6-4e1813b911cc"
      },
      "source": [
        "# need to run 'Writing cupy_dataset.py' and 'Writing model.py' above before this\n",
        "from model import Net\n",
        "model = Net(nstock = nstock).cuda()\n",
        "\n",
        "model.load_state_dict(state_dict)\n",
        "print(model)"
      ],
      "execution_count": 13,
      "outputs": [
        {
          "output_type": "stream",
          "text": [
            "Net(\n",
            "  (fc1): Linear(in_features=60, out_features=1024, bias=True)\n",
            "  (fc2): Linear(in_features=1024, out_features=1024, bias=True)\n",
            "  (fc3): Linear(in_features=1024, out_features=1024, bias=True)\n",
            "  (fc4): Linear(in_features=1024, out_features=1024, bias=True)\n",
            "  (fc5): Linear(in_features=1024, out_features=1024, bias=True)\n",
            "  (fc6): Linear(in_features=1024, out_features=1, bias=True)\n",
            ")\n"
          ],
          "name": "stdout"
        }
      ]
    },
    {
      "cell_type": "markdown",
      "metadata": {
        "id": "rXT4Bg0wdL7l"
      },
      "source": [
        "### Continue to train model"
      ]
    },
    {
      "cell_type": "code",
      "metadata": {
        "id": "Zfa9cp6CdG8T",
        "colab": {
          "base_uri": "https://localhost:8080/",
          "height": 1000
        },
        "outputId": "b9f12b1a-1561-4530-ddeb-9bfda9c61fcb"
      },
      "source": [
        "from ignite.engine import Engine, Events\n",
        "from ignite.handlers import Timer\n",
        "from torch.nn import MSELoss\n",
        "from torch.optim import Adam\n",
        "from ignite.contrib.handlers.param_scheduler import CosineAnnealingScheduler\n",
        "from ignite.handlers import ModelCheckpoint\n",
        "from model import Net\n",
        "from cupy_dataset import NumbaOptionDataSet\n",
        "timer = Timer(average=True)\n",
        "#model = Net().cuda()\n",
        "loss_fn = MSELoss()\n",
        "optimizer = Adam(model.parameters(), lr=1e-3)\n",
        "# dataset = NumbaOptionDataSet(max_len=10000, number_path = 1024, batch=4800)\n",
        "dataset = NumbaOptionDataSet(max_len=500, number_path = 1024*5, batch=32, stocks=nstock)\n",
        "\n",
        "def train_update(engine, batch):\n",
        "    model.train()\n",
        "    optimizer.zero_grad()\n",
        "    x = batch[0]\n",
        "    y = batch[1]\n",
        "    y_pred = model(x)\n",
        "    loss = loss_fn(y_pred[:,0], y)\n",
        "    loss.backward()\n",
        "    optimizer.step()\n",
        "    return loss.item()\n",
        "\n",
        "trainer = Engine(train_update)\n",
        "log_interval = 20\n",
        "\n",
        "scheduler = CosineAnnealingScheduler(optimizer, 'lr', 1e-4, 1e-6, len(dataset))\n",
        "trainer.add_event_handler(Events.ITERATION_STARTED, scheduler)\n",
        "timer.attach(trainer,\n",
        "             start=Events.EPOCH_STARTED,\n",
        "             resume=Events.ITERATION_STARTED,\n",
        "             pause=Events.ITERATION_COMPLETED,\n",
        "             step=Events.ITERATION_COMPLETED)    \n",
        "@trainer.on(Events.ITERATION_COMPLETED)\n",
        "def log_training_loss(engine):\n",
        "    iter = (engine.state.iteration - 1) % len(dataset) + 1\n",
        "    if iter % log_interval == 0:\n",
        "        print('loss', engine.state.output, 'average time', timer.value(), 'iter num', iter)\n",
        "        \n",
        "trainer.run(dataset, max_epochs=20)\n",
        "\n",
        "model_save_name = f'EuCall_{str(nstock)}_3.pth'\n",
        "path = F\"/content/drive/MyDrive/AFP Project/PUI/{model_save_name}\" \n",
        "torch.save(model.state_dict(), path)"
      ],
      "execution_count": null,
      "outputs": [
        {
          "output_type": "stream",
          "text": [
            "loss 7.059986591339111 average time 0.04759826130004967 iter num 20\n",
            "loss 0.7377104759216309 average time 0.02538309349998826 iter num 40\n",
            "loss 0.3201095461845398 average time 0.018032066300005076 iter num 60\n",
            "loss 0.07703474164009094 average time 0.014316345549997323 iter num 80\n",
            "loss 0.050223954021930695 average time 0.012062799819982501 iter num 100\n",
            "loss 0.13108834624290466 average time 0.010585665333322444 iter num 120\n",
            "loss 0.11377076059579849 average time 0.009525049014275413 iter num 140\n",
            "loss 0.11427728831768036 average time 0.008712263881236026 iter num 160\n",
            "loss 0.20735466480255127 average time 0.0080992937944403 iter num 180\n",
            "loss 0.11573576927185059 average time 0.007601682814995456 iter num 200\n",
            "loss 0.1029907688498497 average time 0.007189187477268371 iter num 220\n",
            "loss 0.16457496583461761 average time 0.00685153262499701 iter num 240\n",
            "loss 0.12314682453870773 average time 0.006572179353843939 iter num 260\n",
            "loss 0.09126634895801544 average time 0.006329065874998767 iter num 280\n",
            "loss 0.10946215689182281 average time 0.006111558849996376 iter num 300\n",
            "loss 0.10893210768699646 average time 0.005918897446873928 iter num 320\n",
            "loss 0.12456853687763214 average time 0.005755933735288048 iter num 340\n",
            "loss 0.2601250112056732 average time 0.005607607366663261 iter num 360\n",
            "loss 0.09012708067893982 average time 0.0054821139473664226 iter num 380\n",
            "loss 0.19030386209487915 average time 0.005362212 iter num 400\n",
            "loss 0.08687371015548706 average time 0.005251056664287933 iter num 420\n",
            "loss 0.09226089715957642 average time 0.005153504929548738 iter num 440\n",
            "loss 0.16858138144016266 average time 0.005069055306522268 iter num 460\n",
            "loss 0.20003417134284973 average time 0.004989901216668121 iter num 480\n",
            "loss 0.12093085050582886 average time 0.004918439802000648 iter num 500\n",
            "loss 0.11382515728473663 average time 0.06014542560001246 iter num 20\n",
            "loss 0.18678218126296997 average time 0.03164200652502132 iter num 40\n",
            "loss 0.08262313902378082 average time 0.022104781250004635 iter num 60\n",
            "loss 0.05021839588880539 average time 0.017351895987508213 iter num 80\n",
            "loss 0.0943891629576683 average time 0.014539059979992998 iter num 100\n",
            "loss 0.15546059608459473 average time 0.01262818697499218 iter num 120\n",
            "loss 0.17781555652618408 average time 0.01126862176427689 iter num 140\n",
            "loss 0.179973304271698 average time 0.010241674768727194 iter num 160\n",
            "loss 0.05752219632267952 average time 0.009443186083315899 iter num 180\n",
            "loss 0.2958551347255707 average time 0.008803472804981994 iter num 200\n",
            "loss 0.1767597496509552 average time 0.008291445195440743 iter num 220\n",
            "loss 0.15196740627288818 average time 0.007872943758324405 iter num 240\n",
            "loss 0.13388416171073914 average time 0.0075212450538366775 iter num 260\n",
            "loss 0.13081349432468414 average time 0.0072097865392817895 iter num 280\n",
            "loss 0.1653825342655182 average time 0.0069292731199918 iter num 300\n",
            "loss 0.11639458686113358 average time 0.00669173254374158 iter num 320\n",
            "loss 0.14759711921215057 average time 0.006480897699991735 iter num 340\n",
            "loss 0.08491778373718262 average time 0.006296667813885253 iter num 360\n",
            "loss 0.12004613876342773 average time 0.006125414676311218 iter num 380\n",
            "loss 0.13062341511249542 average time 0.005975679177494158 iter num 400\n",
            "loss 0.03320819139480591 average time 0.0058396233214233735 iter num 420\n",
            "loss 0.1347489356994629 average time 0.005711414681813535 iter num 440\n",
            "loss 0.21977075934410095 average time 0.0056050499412984445 iter num 460\n",
            "loss 0.09740681201219559 average time 0.005507600147910807 iter num 480\n",
            "loss 0.1420546919107437 average time 0.005407896775994231 iter num 500\n",
            "loss 0.21758361160755157 average time 0.0600834902500992 iter num 20\n",
            "loss 0.11504772305488586 average time 0.03159233535003523 iter num 40\n",
            "loss 0.27125024795532227 average time 0.0220715567667033 iter num 60\n",
            "loss 0.0777655690908432 average time 0.01733026323753393 iter num 80\n",
            "loss 0.36539870500564575 average time 0.014485707050043857 iter num 100\n",
            "loss 0.3223997950553894 average time 0.012614523291703487 iter num 120\n",
            "loss 0.06982071697711945 average time 0.011245907757168945 iter num 140\n",
            "loss 0.41957005858421326 average time 0.010229404262528875 iter num 160\n",
            "loss 0.20472198724746704 average time 0.009434904388912299 iter num 180\n",
            "loss 0.12644904851913452 average time 0.008792978490025688 iter num 200\n",
            "loss 0.0646146684885025 average time 0.008283924709117358 iter num 220\n",
            "loss 0.12723717093467712 average time 0.007858236495864427 iter num 240\n",
            "loss 0.07478979974985123 average time 0.007489995684643593 iter num 260\n",
            "loss 0.19716088473796844 average time 0.007191140782172819 iter num 280\n",
            "loss 0.10208234190940857 average time 0.006920003126698854 iter num 300\n",
            "loss 0.14853748679161072 average time 0.006679691368780993 iter num 320\n",
            "loss 0.20592118799686432 average time 0.006471705394148879 iter num 340\n",
            "loss 0.1655861735343933 average time 0.0062837022111390676 iter num 360\n",
            "loss 0.09495702385902405 average time 0.006112614273711427 iter num 380\n",
            "loss 0.08594897389411926 average time 0.005964091090024794 iter num 400\n",
            "loss 0.05819454789161682 average time 0.005835083719071441 iter num 420\n",
            "loss 0.07116512954235077 average time 0.005712060590931081 iter num 440\n",
            "loss 0.05045447498559952 average time 0.005596337943502081 iter num 460\n",
            "loss 0.07427122443914413 average time 0.005496847958360718 iter num 480\n",
            "loss 0.09306535869836807 average time 0.005404735372022514 iter num 500\n",
            "loss 0.18625745177268982 average time 0.060221442099964405 iter num 20\n",
            "loss 0.21490254998207092 average time 0.031708695725069444 iter num 40\n",
            "loss 0.23846492171287537 average time 0.022199883150036234 iter num 60\n",
            "loss 0.30108094215393066 average time 0.01742955335001852 iter num 80\n",
            "loss 0.9683578610420227 average time 0.014591748300026665 iter num 100\n",
            "loss 0.53455650806427 average time 0.012684285025026535 iter num 120\n",
            "loss 0.27157115936279297 average time 0.011330798164297967 iter num 140\n",
            "loss 0.20949530601501465 average time 0.010319180293748786 iter num 160\n",
            "loss 0.11132578551769257 average time 0.009533993494450341 iter num 180\n",
            "loss 0.1335921436548233 average time 0.008896793260000778 iter num 200\n",
            "loss 0.18008048832416534 average time 0.008361117845470289 iter num 220\n",
            "loss 0.11517120152711868 average time 0.007918634845839278 iter num 240\n",
            "loss 0.17992469668388367 average time 0.007543968669229938 iter num 260\n",
            "loss 0.1765805184841156 average time 0.007216662532148023 iter num 280\n",
            "loss 0.0912504494190216 average time 0.006943955246679252 iter num 300\n",
            "loss 0.0464203767478466 average time 0.00669952699376779 iter num 320\n",
            "loss 0.039905570447444916 average time 0.006489765985313223 iter num 340\n",
            "loss 0.24137234687805176 average time 0.0063133994194484126 iter num 360\n",
            "loss 0.08584004640579224 average time 0.006141224700006301 iter num 380\n",
            "loss 0.05746040493249893 average time 0.005979897562506267 iter num 400\n",
            "loss 0.052682019770145416 average time 0.005844354459529876 iter num 420\n",
            "loss 0.05889595299959183 average time 0.00572157609091474 iter num 440\n",
            "loss 0.08138926327228546 average time 0.005602873786965969 iter num 460\n",
            "loss 0.07881470024585724 average time 0.005495455097925136 iter num 480\n",
            "loss 0.09991005063056946 average time 0.005402020770014133 iter num 500\n",
            "loss 0.2244206815958023 average time 0.06003763275007259 iter num 20\n",
            "loss 0.4741230607032776 average time 0.031566224625021275 iter num 40\n",
            "loss 0.19387537240982056 average time 0.022074264283385978 iter num 60\n",
            "loss 1.6803604364395142 average time 0.017306902350071596 iter num 80\n",
            "loss 0.46183955669403076 average time 0.0144462713300436 iter num 100\n",
            "loss 0.24813354015350342 average time 0.012556836433357905 iter num 120\n",
            "loss 0.5080810189247131 average time 0.011221915978590654 iter num 140\n",
            "loss 0.988131582736969 average time 0.01019149665002601 iter num 160\n",
            "loss 3.46597957611084 average time 0.009405779483358856 iter num 180\n",
            "loss 0.34466487169265747 average time 0.008778118110017203 iter num 200\n",
            "loss 0.12355104833841324 average time 0.008259212213653716 iter num 220\n",
            "loss 0.11169958114624023 average time 0.007852616054193125 iter num 240\n",
            "loss 0.07572496682405472 average time 0.007488493546183096 iter num 260\n",
            "loss 0.08756645023822784 average time 0.007184628117878285 iter num 280\n",
            "loss 0.12807109951972961 average time 0.00691270157335263 iter num 300\n",
            "loss 0.0439760722219944 average time 0.00667243970314928 iter num 320\n",
            "loss 0.14895862340927124 average time 0.006471840808837763 iter num 340\n",
            "loss 0.05778948962688446 average time 0.006277793041681435 iter num 360\n",
            "loss 0.05647967383265495 average time 0.0061135740921192915 iter num 380\n",
            "loss 0.13903915882110596 average time 0.005959062075012298 iter num 400\n",
            "loss 0.04565205052495003 average time 0.005820313040487149 iter num 420\n",
            "loss 0.08561380207538605 average time 0.00570088749547143 iter num 440\n",
            "loss 0.057444386184215546 average time 0.005582515208712009 iter num 460\n",
            "loss 0.10806521773338318 average time 0.005476445852097337 iter num 480\n",
            "loss 0.0574403814971447 average time 0.005390768766013934 iter num 500\n",
            "loss 0.4730827212333679 average time 0.06004498530001001 iter num 20\n",
            "loss 0.3894979655742645 average time 0.031585723100033644 iter num 40\n",
            "loss 0.14196407794952393 average time 0.02209203713337047 iter num 60\n",
            "loss 0.20466098189353943 average time 0.017372898750022615 iter num 80\n",
            "loss 0.07626105099916458 average time 0.014510235310008284 iter num 100\n",
            "loss 0.3089956045150757 average time 0.01260925150835798 iter num 120\n",
            "loss 0.4639846384525299 average time 0.011256965871442454 iter num 140\n",
            "loss 0.18266130983829498 average time 0.010246633175006537 iter num 160\n",
            "loss 0.13690322637557983 average time 0.009451140349993795 iter num 180\n",
            "loss 0.06742000579833984 average time 0.0088263215950019 iter num 200\n",
            "loss 0.08975860476493835 average time 0.008296142159096317 iter num 220\n",
            "loss 0.1538199782371521 average time 0.007860012804186075 iter num 240\n",
            "loss 0.20026186108589172 average time 0.007507840407715076 iter num 260\n",
            "loss 0.06167495995759964 average time 0.007186328460725885 iter num 280\n",
            "loss 0.17637988924980164 average time 0.00691306999000517 iter num 300\n",
            "loss 0.04034889116883278 average time 0.006686294962503325 iter num 320\n",
            "loss 0.06446719914674759 average time 0.006478672226469772 iter num 340\n",
            "loss 0.11386008560657501 average time 0.00628895916389259 iter num 360\n",
            "loss 0.021261177957057953 average time 0.006118557784214461 iter num 380\n",
            "loss 0.056738946586847305 average time 0.0059721412750059245 iter num 400\n",
            "loss 0.1383611112833023 average time 0.005834353783343647 iter num 420\n",
            "loss 0.10751157999038696 average time 0.005709983354555251 iter num 440\n",
            "loss 0.07227927446365356 average time 0.005600857497835892 iter num 460\n",
            "loss 0.06585197895765305 average time 0.005493341808340801 iter num 480\n",
            "loss 0.10574746876955032 average time 0.005404755532013951 iter num 500\n",
            "loss 0.3329147398471832 average time 0.06029743750000307 iter num 20\n",
            "loss 0.19024917483329773 average time 0.0317416302500078 iter num 40\n",
            "loss 2.705002784729004 average time 0.022203475116627184 iter num 60\n",
            "loss 1.821535348892212 average time 0.017437996749958985 iter num 80\n",
            "loss 0.562332034111023 average time 0.014578981699987708 iter num 100\n",
            "loss 0.39013636112213135 average time 0.012668366883326598 iter num 120\n",
            "loss 0.24453631043434143 average time 0.011287848900006532 iter num 140\n",
            "loss 0.19200356304645538 average time 0.01027611014999934 iter num 160\n",
            "loss 0.11780942976474762 average time 0.009487245822229953 iter num 180\n",
            "loss 0.6542492508888245 average time 0.00884308703001352 iter num 200\n",
            "loss 1.2680249214172363 average time 0.008340585090933349 iter num 220\n",
            "loss 0.11546342074871063 average time 0.007903614204182455 iter num 240\n",
            "loss 0.1049545556306839 average time 0.007535436150020849 iter num 260\n",
            "loss 0.07182255387306213 average time 0.0072200935393051885 iter num 280\n",
            "loss 0.09511600434780121 average time 0.006955815536681864 iter num 300\n",
            "loss 0.038421157747507095 average time 0.006715518681264143 iter num 320\n",
            "loss 0.09612348675727844 average time 0.0065050954647176695 iter num 340\n",
            "loss 0.07727910578250885 average time 0.006314863847223427 iter num 360\n",
            "loss 0.06020395830273628 average time 0.006139211642106315 iter num 380\n",
            "loss 0.08562847971916199 average time 0.005993269827497443 iter num 400\n",
            "loss 0.05616077780723572 average time 0.005858977947614871 iter num 420\n",
            "loss 0.06085016578435898 average time 0.005730592452267626 iter num 440\n",
            "loss 0.11650245636701584 average time 0.005612122476079252 iter num 460\n",
            "loss 0.07048152387142181 average time 0.0055108399249945705 iter num 480\n",
            "loss 0.10469226539134979 average time 0.005413682721989972 iter num 500\n",
            "loss 0.08504756540060043 average time 0.061394323399917995 iter num 20\n",
            "loss 0.13229990005493164 average time 0.03227337022497068 iter num 40\n",
            "loss 0.7300393581390381 average time 0.022540054500010835 iter num 60\n",
            "loss 2.4468870162963867 average time 0.017674756450003316 iter num 80\n",
            "loss 0.4612303376197815 average time 0.014816402300039045 iter num 100\n",
            "loss 0.14839042723178864 average time 0.01286801149171121 iter num 120\n",
            "loss 0.11603815108537674 average time 0.011484432742879238 iter num 140\n",
            "loss 0.06895451247692108 average time 0.010462856631266958 iter num 160\n",
            "loss 0.16625922918319702 average time 0.009655253516686772 iter num 180\n",
            "loss 0.086812824010849 average time 0.009001404220025506 iter num 200\n",
            "loss 0.11705908179283142 average time 0.008459433727292973 iter num 220\n",
            "loss 0.14191694557666779 average time 0.008019300400015557 iter num 240\n",
            "loss 0.089545339345932 average time 0.007641257538475306 iter num 260\n",
            "loss 0.11366201192140579 average time 0.007323813285727608 iter num 280\n",
            "loss 0.10041944682598114 average time 0.00705314426001678 iter num 300\n",
            "loss 0.0804111659526825 average time 0.0068127313250187175 iter num 320\n",
            "loss 0.043045591562986374 average time 0.0065930957941338205 iter num 340\n",
            "loss 0.11881148815155029 average time 0.0064003594611247334 iter num 360\n",
            "loss 0.10529279708862305 average time 0.006223928736852413 iter num 380\n",
            "loss 0.041639264672994614 average time 0.006077081850007744 iter num 400\n",
            "loss 0.08163745701313019 average time 0.005940450733329445 iter num 420\n",
            "loss 0.04350608214735985 average time 0.0058139497704587486 iter num 440\n",
            "loss 0.030376223847270012 average time 0.005695938654353876 iter num 460\n",
            "loss 0.06175052747130394 average time 0.00558632615208694 iter num 480\n",
            "loss 0.05333857610821724 average time 0.005489684363996276 iter num 500\n",
            "loss 0.38961559534072876 average time 0.0599689973499153 iter num 20\n",
            "loss 0.08763861656188965 average time 0.03159547055001895 iter num 40\n",
            "loss 0.30789387226104736 average time 0.022112459833306276 iter num 60\n",
            "loss 0.330549955368042 average time 0.017367710999963037 iter num 80\n",
            "loss 1.4078073501586914 average time 0.01450815544994839 iter num 100\n",
            "loss 0.2735441029071808 average time 0.012602823466636437 iter num 120\n",
            "loss 0.22764451801776886 average time 0.011241957335700395 iter num 140\n",
            "loss 0.1668160855770111 average time 0.010242393806231575 iter num 160\n",
            "loss 0.29048576951026917 average time 0.009465755022210942 iter num 180\n",
            "loss 0.1436503380537033 average time 0.00883362051498807 iter num 200\n",
            "loss 0.1145346611738205 average time 0.008321186809077764 iter num 220\n"
          ],
          "name": "stdout"
        },
        {
          "output_type": "stream",
          "text": [
            "Engine run is terminating due to exception: \n"
          ],
          "name": "stderr"
        },
        {
          "output_type": "error",
          "ename": "KeyboardInterrupt",
          "evalue": "ignored",
          "traceback": [
            "\u001b[0;31m---------------------------------------------------------------------------\u001b[0m",
            "\u001b[0;31mKeyboardInterrupt\u001b[0m                         Traceback (most recent call last)",
            "\u001b[0;32m<ipython-input-51-2cb6668caea9>\u001b[0m in \u001b[0;36m<module>\u001b[0;34m()\u001b[0m\n\u001b[1;32m     41\u001b[0m         \u001b[0mprint\u001b[0m\u001b[0;34m(\u001b[0m\u001b[0;34m'loss'\u001b[0m\u001b[0;34m,\u001b[0m \u001b[0mengine\u001b[0m\u001b[0;34m.\u001b[0m\u001b[0mstate\u001b[0m\u001b[0;34m.\u001b[0m\u001b[0moutput\u001b[0m\u001b[0;34m,\u001b[0m \u001b[0;34m'average time'\u001b[0m\u001b[0;34m,\u001b[0m \u001b[0mtimer\u001b[0m\u001b[0;34m.\u001b[0m\u001b[0mvalue\u001b[0m\u001b[0;34m(\u001b[0m\u001b[0;34m)\u001b[0m\u001b[0;34m,\u001b[0m \u001b[0;34m'iter num'\u001b[0m\u001b[0;34m,\u001b[0m \u001b[0miter\u001b[0m\u001b[0;34m)\u001b[0m\u001b[0;34m\u001b[0m\u001b[0;34m\u001b[0m\u001b[0m\n\u001b[1;32m     42\u001b[0m \u001b[0;34m\u001b[0m\u001b[0m\n\u001b[0;32m---> 43\u001b[0;31m \u001b[0mtrainer\u001b[0m\u001b[0;34m.\u001b[0m\u001b[0mrun\u001b[0m\u001b[0;34m(\u001b[0m\u001b[0mdataset\u001b[0m\u001b[0;34m,\u001b[0m \u001b[0mmax_epochs\u001b[0m\u001b[0;34m=\u001b[0m\u001b[0;36m20\u001b[0m\u001b[0;34m)\u001b[0m\u001b[0;34m\u001b[0m\u001b[0;34m\u001b[0m\u001b[0m\n\u001b[0m\u001b[1;32m     44\u001b[0m \u001b[0;34m\u001b[0m\u001b[0m\n\u001b[1;32m     45\u001b[0m \u001b[0mmodel_save_name\u001b[0m \u001b[0;34m=\u001b[0m \u001b[0;34mf'EuCall_{str(nstock)}_3.pth'\u001b[0m\u001b[0;34m\u001b[0m\u001b[0;34m\u001b[0m\u001b[0m\n",
            "\u001b[0;32m/usr/local/lib/python3.7/dist-packages/ignite/engine/engine.py\u001b[0m in \u001b[0;36mrun\u001b[0;34m(self, data, max_epochs, epoch_length, seed)\u001b[0m\n\u001b[1;32m    699\u001b[0m \u001b[0;34m\u001b[0m\u001b[0m\n\u001b[1;32m    700\u001b[0m         \u001b[0mself\u001b[0m\u001b[0;34m.\u001b[0m\u001b[0mstate\u001b[0m\u001b[0;34m.\u001b[0m\u001b[0mdataloader\u001b[0m \u001b[0;34m=\u001b[0m \u001b[0mdata\u001b[0m\u001b[0;34m\u001b[0m\u001b[0;34m\u001b[0m\u001b[0m\n\u001b[0;32m--> 701\u001b[0;31m         \u001b[0;32mreturn\u001b[0m \u001b[0mself\u001b[0m\u001b[0;34m.\u001b[0m\u001b[0m_internal_run\u001b[0m\u001b[0;34m(\u001b[0m\u001b[0;34m)\u001b[0m\u001b[0;34m\u001b[0m\u001b[0;34m\u001b[0m\u001b[0m\n\u001b[0m\u001b[1;32m    702\u001b[0m \u001b[0;34m\u001b[0m\u001b[0m\n\u001b[1;32m    703\u001b[0m     \u001b[0;34m@\u001b[0m\u001b[0mstaticmethod\u001b[0m\u001b[0;34m\u001b[0m\u001b[0;34m\u001b[0m\u001b[0m\n",
            "\u001b[0;32m/usr/local/lib/python3.7/dist-packages/ignite/engine/engine.py\u001b[0m in \u001b[0;36m_internal_run\u001b[0;34m(self)\u001b[0m\n\u001b[1;32m    772\u001b[0m             \u001b[0mself\u001b[0m\u001b[0;34m.\u001b[0m\u001b[0m_dataloader_iter\u001b[0m \u001b[0;34m=\u001b[0m \u001b[0;32mNone\u001b[0m\u001b[0;34m\u001b[0m\u001b[0;34m\u001b[0m\u001b[0m\n\u001b[1;32m    773\u001b[0m             \u001b[0mself\u001b[0m\u001b[0;34m.\u001b[0m\u001b[0mlogger\u001b[0m\u001b[0;34m.\u001b[0m\u001b[0merror\u001b[0m\u001b[0;34m(\u001b[0m\u001b[0;34mf\"Engine run is terminating due to exception: {e}\"\u001b[0m\u001b[0;34m)\u001b[0m\u001b[0;34m\u001b[0m\u001b[0;34m\u001b[0m\u001b[0m\n\u001b[0;32m--> 774\u001b[0;31m             \u001b[0mself\u001b[0m\u001b[0;34m.\u001b[0m\u001b[0m_handle_exception\u001b[0m\u001b[0;34m(\u001b[0m\u001b[0me\u001b[0m\u001b[0;34m)\u001b[0m\u001b[0;34m\u001b[0m\u001b[0;34m\u001b[0m\u001b[0m\n\u001b[0m\u001b[1;32m    775\u001b[0m \u001b[0;34m\u001b[0m\u001b[0m\n\u001b[1;32m    776\u001b[0m         \u001b[0mself\u001b[0m\u001b[0;34m.\u001b[0m\u001b[0m_dataloader_iter\u001b[0m \u001b[0;34m=\u001b[0m \u001b[0;32mNone\u001b[0m\u001b[0;34m\u001b[0m\u001b[0;34m\u001b[0m\u001b[0m\n",
            "\u001b[0;32m/usr/local/lib/python3.7/dist-packages/ignite/engine/engine.py\u001b[0m in \u001b[0;36m_handle_exception\u001b[0;34m(self, e)\u001b[0m\n\u001b[1;32m    467\u001b[0m             \u001b[0mself\u001b[0m\u001b[0;34m.\u001b[0m\u001b[0m_fire_event\u001b[0m\u001b[0;34m(\u001b[0m\u001b[0mEvents\u001b[0m\u001b[0;34m.\u001b[0m\u001b[0mEXCEPTION_RAISED\u001b[0m\u001b[0;34m,\u001b[0m \u001b[0me\u001b[0m\u001b[0;34m)\u001b[0m\u001b[0;34m\u001b[0m\u001b[0;34m\u001b[0m\u001b[0m\n\u001b[1;32m    468\u001b[0m         \u001b[0;32melse\u001b[0m\u001b[0;34m:\u001b[0m\u001b[0;34m\u001b[0m\u001b[0;34m\u001b[0m\u001b[0m\n\u001b[0;32m--> 469\u001b[0;31m             \u001b[0;32mraise\u001b[0m \u001b[0me\u001b[0m\u001b[0;34m\u001b[0m\u001b[0;34m\u001b[0m\u001b[0m\n\u001b[0m\u001b[1;32m    470\u001b[0m \u001b[0;34m\u001b[0m\u001b[0m\n\u001b[1;32m    471\u001b[0m     \u001b[0;34m@\u001b[0m\u001b[0mproperty\u001b[0m\u001b[0;34m\u001b[0m\u001b[0;34m\u001b[0m\u001b[0m\n",
            "\u001b[0;32m/usr/local/lib/python3.7/dist-packages/ignite/engine/engine.py\u001b[0m in \u001b[0;36m_internal_run\u001b[0;34m(self)\u001b[0m\n\u001b[1;32m    742\u001b[0m                     \u001b[0mself\u001b[0m\u001b[0;34m.\u001b[0m\u001b[0m_setup_engine\u001b[0m\u001b[0;34m(\u001b[0m\u001b[0;34m)\u001b[0m\u001b[0;34m\u001b[0m\u001b[0;34m\u001b[0m\u001b[0m\n\u001b[1;32m    743\u001b[0m \u001b[0;34m\u001b[0m\u001b[0m\n\u001b[0;32m--> 744\u001b[0;31m                 \u001b[0mtime_taken\u001b[0m \u001b[0;34m=\u001b[0m \u001b[0mself\u001b[0m\u001b[0;34m.\u001b[0m\u001b[0m_run_once_on_dataset\u001b[0m\u001b[0;34m(\u001b[0m\u001b[0;34m)\u001b[0m\u001b[0;34m\u001b[0m\u001b[0;34m\u001b[0m\u001b[0m\n\u001b[0m\u001b[1;32m    745\u001b[0m                 \u001b[0;31m# time is available for handlers but must be update after fire\u001b[0m\u001b[0;34m\u001b[0m\u001b[0;34m\u001b[0m\u001b[0;34m\u001b[0m\u001b[0m\n\u001b[1;32m    746\u001b[0m                 \u001b[0mself\u001b[0m\u001b[0;34m.\u001b[0m\u001b[0mstate\u001b[0m\u001b[0;34m.\u001b[0m\u001b[0mtimes\u001b[0m\u001b[0;34m[\u001b[0m\u001b[0mEvents\u001b[0m\u001b[0;34m.\u001b[0m\u001b[0mEPOCH_COMPLETED\u001b[0m\u001b[0;34m.\u001b[0m\u001b[0mname\u001b[0m\u001b[0;34m]\u001b[0m \u001b[0;34m=\u001b[0m \u001b[0mtime_taken\u001b[0m\u001b[0;34m\u001b[0m\u001b[0;34m\u001b[0m\u001b[0m\n",
            "\u001b[0;32m/usr/local/lib/python3.7/dist-packages/ignite/engine/engine.py\u001b[0m in \u001b[0;36m_run_once_on_dataset\u001b[0;34m(self)\u001b[0m\n\u001b[1;32m    799\u001b[0m                     \u001b[0;32mif\u001b[0m \u001b[0mself\u001b[0m\u001b[0;34m.\u001b[0m\u001b[0mlast_event_name\u001b[0m \u001b[0;34m!=\u001b[0m \u001b[0mEvents\u001b[0m\u001b[0;34m.\u001b[0m\u001b[0mDATALOADER_STOP_ITERATION\u001b[0m\u001b[0;34m:\u001b[0m\u001b[0;34m\u001b[0m\u001b[0;34m\u001b[0m\u001b[0m\n\u001b[1;32m    800\u001b[0m                         \u001b[0mself\u001b[0m\u001b[0;34m.\u001b[0m\u001b[0m_fire_event\u001b[0m\u001b[0;34m(\u001b[0m\u001b[0mEvents\u001b[0m\u001b[0;34m.\u001b[0m\u001b[0mGET_BATCH_STARTED\u001b[0m\u001b[0;34m)\u001b[0m\u001b[0;34m\u001b[0m\u001b[0;34m\u001b[0m\u001b[0m\n\u001b[0;32m--> 801\u001b[0;31m                     \u001b[0mself\u001b[0m\u001b[0;34m.\u001b[0m\u001b[0mstate\u001b[0m\u001b[0;34m.\u001b[0m\u001b[0mbatch\u001b[0m \u001b[0;34m=\u001b[0m \u001b[0mnext\u001b[0m\u001b[0;34m(\u001b[0m\u001b[0mself\u001b[0m\u001b[0;34m.\u001b[0m\u001b[0m_dataloader_iter\u001b[0m\u001b[0;34m)\u001b[0m\u001b[0;34m\u001b[0m\u001b[0;34m\u001b[0m\u001b[0m\n\u001b[0m\u001b[1;32m    802\u001b[0m                     \u001b[0mself\u001b[0m\u001b[0;34m.\u001b[0m\u001b[0m_fire_event\u001b[0m\u001b[0;34m(\u001b[0m\u001b[0mEvents\u001b[0m\u001b[0;34m.\u001b[0m\u001b[0mGET_BATCH_COMPLETED\u001b[0m\u001b[0;34m)\u001b[0m\u001b[0;34m\u001b[0m\u001b[0;34m\u001b[0m\u001b[0m\n\u001b[1;32m    803\u001b[0m                     \u001b[0miter_counter\u001b[0m \u001b[0;34m+=\u001b[0m \u001b[0;36m1\u001b[0m\u001b[0;34m\u001b[0m\u001b[0;34m\u001b[0m\u001b[0m\n",
            "\u001b[0;32m/content/cupy_dataset.py\u001b[0m in \u001b[0;36m__next__\u001b[0;34m(self)\u001b[0m\n\u001b[1;32m    122\u001b[0m             \u001b[0;31m#       ind = int(i//2)\u001b[0m\u001b[0;34m\u001b[0m\u001b[0;34m\u001b[0m\u001b[0;34m\u001b[0m\u001b[0m\n\u001b[1;32m    123\u001b[0m             \u001b[0;31m#       randoms[i*self.N_PATHS:(i+1)*self.N_PATHS] = b2_r[ind:(ind+self.N_PATHS)]\u001b[0m\u001b[0;34m\u001b[0m\u001b[0;34m\u001b[0m\u001b[0;34m\u001b[0m\u001b[0m\n\u001b[0;32m--> 124\u001b[0;31m           \u001b[0;32mif\u001b[0m \u001b[0mself\u001b[0m\u001b[0;34m.\u001b[0m\u001b[0mN_STOCKS\u001b[0m \u001b[0;34m==\u001b[0m \u001b[0;36m1\u001b[0m\u001b[0;34m:\u001b[0m\u001b[0;34m\u001b[0m\u001b[0;34m\u001b[0m\u001b[0m\n\u001b[0m\u001b[1;32m    125\u001b[0m             \u001b[0mrandoms\u001b[0m \u001b[0;34m=\u001b[0m \u001b[0mcupy\u001b[0m\u001b[0;34m.\u001b[0m\u001b[0mrandom\u001b[0m\u001b[0;34m.\u001b[0m\u001b[0mnormal\u001b[0m\u001b[0;34m(\u001b[0m\u001b[0;36m0\u001b[0m\u001b[0;34m,\u001b[0m \u001b[0;36m1\u001b[0m\u001b[0;34m,\u001b[0m \u001b[0mself\u001b[0m\u001b[0;34m.\u001b[0m\u001b[0mN_STOCKS\u001b[0m \u001b[0;34m*\u001b[0m \u001b[0mself\u001b[0m\u001b[0;34m.\u001b[0m\u001b[0mN_PATHS\u001b[0m \u001b[0;34m*\u001b[0m \u001b[0mself\u001b[0m\u001b[0;34m.\u001b[0m\u001b[0mN_STEPS\u001b[0m\u001b[0;34m,\u001b[0m \u001b[0mdtype\u001b[0m\u001b[0;34m=\u001b[0m\u001b[0mcupy\u001b[0m\u001b[0;34m.\u001b[0m\u001b[0mfloat32\u001b[0m\u001b[0;34m)\u001b[0m\u001b[0;34m\u001b[0m\u001b[0;34m\u001b[0m\u001b[0m\n\u001b[1;32m    126\u001b[0m \u001b[0;34m\u001b[0m\u001b[0m\n",
            "\u001b[0;31mKeyboardInterrupt\u001b[0m: "
          ]
        }
      ]
    },
    {
      "cell_type": "markdown",
      "metadata": {
        "id": "ehmhDw8BUtLi"
      },
      "source": [
        "### Inference and Greeks"
      ]
    },
    {
      "cell_type": "markdown",
      "metadata": {
        "id": "Uiro43mOU0Ro"
      },
      "source": [
        "We can load the model parameters and use it to do inference"
      ]
    },
    {
      "cell_type": "code",
      "metadata": {
        "id": "svlu6tGTRx1F",
        "colab": {
          "base_uri": "https://localhost:8080/"
        },
        "outputId": "539fcde3-30be-4b87-d93c-371c3bf3db1b"
      },
      "source": [
        "import torch\n",
        "\n",
        "inputs = torch.tensor([[1, 110.0, 110.0, 0.35, 0.1, 0.05] * nstock]).cuda()\n",
        "model(inputs.float())"
      ],
      "execution_count": 14,
      "outputs": [
        {
          "output_type": "execute_result",
          "data": {
            "text/plain": [
              "tensor([[6.9993]], device='cuda:0', grad_fn=<AddmmBackward>)"
            ]
          },
          "metadata": {
            "tags": []
          },
          "execution_count": 14
        }
      ]
    },
    {
      "cell_type": "markdown",
      "metadata": {
        "id": "M1Iy-9pWVRDO"
      },
      "source": [
        "One of the benefits of building a deep learning model is that the [Greeks](<https://en.wikipedia.org/wiki/Greeks_(finance)#First-order_Greeks>) can be easily computed. \n",
        "We just need to take advantage of the auto-grad feature in Pytorch. We can use `grad` function to compute the first order differentiation for parameters 'K, B, S0, sigma, mu, r'"
      ]
    },
    {
      "cell_type": "code",
      "metadata": {
        "id": "ytBZaYHKSnDu",
        "colab": {
          "base_uri": "https://localhost:8080/"
        },
        "outputId": "fb40fbd7-dbca-4b2a-b64b-1a5ee754cbfb"
      },
      "source": [
        "inputs = torch.tensor([[1, 110.0, 110.0, 0.35, 0.1, 0.05] * nstock]).cuda()\n",
        "inputs.requires_grad = True\n",
        "x = model(inputs.float())\n",
        "x.backward()\n",
        "first_order_gradient = inputs.grad\n",
        "first_order_gradient"
      ],
      "execution_count": 15,
      "outputs": [
        {
          "output_type": "execute_result",
          "data": {
            "text/plain": [
              "tensor([[ 4.6191e-01, -5.0608e-02,  8.0345e-02,  5.9662e-01,  5.6489e-01,\n",
              "          5.7985e+00, -9.5208e-02, -7.2175e-02,  8.1526e-02,  6.7598e-01,\n",
              "         -3.9228e-02,  1.0251e+01, -2.5136e+00, -7.9009e-02,  7.9861e-02,\n",
              "          1.5206e-01,  2.1238e-01,  4.8084e+00, -8.4459e-01, -9.2754e-02,\n",
              "          8.0239e-02,  2.5680e-01, -2.3117e-01,  1.0205e+01, -1.0754e+00,\n",
              "         -6.0488e-02,  8.0576e-02,  5.7265e-01, -9.3877e-01,  5.5047e+00,\n",
              "         -1.0073e+00, -8.1572e-02,  8.1601e-02,  6.2809e-01, -4.0639e-01,\n",
              "          9.8063e+00, -2.2998e+00, -6.9690e-02,  8.0687e-02,  5.8527e-01,\n",
              "         -3.5421e-02,  1.7982e+01, -8.6199e-01, -7.6456e-02,  8.1165e-02,\n",
              "          3.0211e-01, -5.2425e-01,  5.8305e+00,  5.0347e-02, -8.6490e-02,\n",
              "          8.1711e-02,  6.3041e-01, -7.7686e-01, -1.6120e+00,  1.8980e+00,\n",
              "         -8.0227e-02,  8.0380e-02,  1.1083e-01,  8.6419e-03,  5.9648e+00]],\n",
              "       device='cuda:0')"
            ]
          },
          "metadata": {
            "tags": []
          },
          "execution_count": 15
        }
      ]
    },
    {
      "cell_type": "markdown",
      "metadata": {
        "id": "8KeijaDDVZGd"
      },
      "source": [
        "Here we are going to plot the Delta graph:-"
      ]
    },
    {
      "cell_type": "markdown",
      "metadata": {
        "id": "skwgeVDsA_Mr"
      },
      "source": [
        "# Delta"
      ]
    },
    {
      "cell_type": "markdown",
      "metadata": {
        "id": "Bi_2Dqnx3_oP"
      },
      "source": [
        "#### Using gradient, Change only 1 S0 at a time"
      ]
    },
    {
      "cell_type": "code",
      "metadata": {
        "id": "USh3qaADSYQp"
      },
      "source": [
        "#### Using gradient, Change only 1 S0 at a time\n",
        "%matplotlib inline\n",
        "from torch.autograd import grad\n",
        "import pylab\n",
        "import numpy as np\n",
        "def compute_delta(S, ith):\n",
        "    inputs = torch.tensor([[1, 110.0, 110.0, 0.35, 0.1, 0.05]*(ith-1)\\\n",
        "                           + [1, 110.0, S, 0.35, 0.1, 0.05]\\\n",
        "                           + ([1, 110.0, 110.0, 0.35, 0.1, 0.05]*(nstock-ith))]).cuda()\n",
        "    inputs.requires_grad = True\n",
        "    x = model(inputs.float())\n",
        "    #x = model(inputs)\n",
        "    x.backward()\n",
        "    first_order_gradient = inputs.grad\n",
        "    return first_order_gradient[0][2]"
      ],
      "execution_count": 16,
      "outputs": []
    },
    {
      "cell_type": "code",
      "metadata": {
        "colab": {
          "base_uri": "https://localhost:8080/",
          "height": 279
        },
        "id": "4MfZKJlv13SC",
        "outputId": "bce40be5-2744-4b7d-bb3c-be9b2ee83969"
      },
      "source": [
        "for i in range(1, nstock+1):\n",
        "  prices = np.arange(0, 150, 0.1)\n",
        "  deltas = []\n",
        "  for p in prices:\n",
        "      deltas.append(compute_delta(p, i).item())\n",
        "  fig = pylab.plot(prices, deltas, label = f'{i}th stock')\n",
        "  pylab.legend(loc = 'lower right')\n",
        "  pylab.xlabel('prices')\n",
        "  pylab.ylabel('Delta')\n",
        "  fig"
      ],
      "execution_count": 17,
      "outputs": [
        {
          "output_type": "display_data",
          "data": {
            "image/png": "[encoded data removed]",
            "text/plain": [
              "<Figure size 432x288 with 1 Axes>"
            ]
          },
          "metadata": {
            "tags": [],
            "needs_background": "light"
          }
        }
      ]
    },
    {
      "cell_type": "markdown",
      "metadata": {
        "id": "iXixHQic35iI"
      },
      "source": [
        "#### Using Finite Difference, Change only 1 S0 at a time"
      ]
    },
    {
      "cell_type": "code",
      "metadata": {
        "colab": {
          "base_uri": "https://localhost:8080/",
          "height": 279
        },
        "id": "VGk5Hw64fMdh",
        "outputId": "da67642d-40d2-4c5a-c59d-12206fe53ba6"
      },
      "source": [
        "## Using Finite Difference, Change only 1 S0 at a time\n",
        "%matplotlib inline\n",
        "import numpy as np\n",
        "def compute_delta(S, ith):\n",
        "    epsilon = 0.01\n",
        "    inputs1 = torch.tensor([[1, 110.0, 110.0, 0.35, 0.1, 0.05]*(ith-1)\\\n",
        "                           + [1, 110.0, S, 0.35, 0.1, 0.05]\\\n",
        "                           + ([1, 110.0, 110.0, 0.35, 0.1, 0.05]*(nstock-ith))]).cuda()\n",
        "    inputs2 = torch.tensor([[1, 110.0, 110.0, 0.35, 0.1, 0.05]*(ith-1)\\\n",
        "                           + [1, 110.0, S + epsilon, 0.35, 0.1, 0.05]\\\n",
        "                           + ([1, 110.0, 110.0, 0.35, 0.1, 0.05]*(nstock-ith))]).cuda()\n",
        "    delta = (model(inputs2.float()) - model(inputs1.float()))/epsilon\n",
        "    return delta\n",
        "\n",
        "for i in range(1, nstock+1):\n",
        "  prices = np.arange(0, 150, 0.1)\n",
        "  deltas = []\n",
        "  for p in prices:\n",
        "      deltas.append(compute_delta(p, i).item())\n",
        "  fig = pylab.plot(prices, deltas, label = f'{i}th stock')\n",
        "  pylab.legend(loc = 'lower right')\n",
        "  pylab.xlabel('prices')\n",
        "  pylab.ylabel('Delta')\n",
        "  fig"
      ],
      "execution_count": 18,
      "outputs": [
        {
          "output_type": "display_data",
          "data": {
            "image/png": "[encoded data removed]",
            "text/plain": [
              "<Figure size 432x288 with 1 Axes>"
            ]
          },
          "metadata": {
            "tags": [],
            "needs_background": "light"
          }
        }
      ]
    },
    {
      "cell_type": "markdown",
      "metadata": {
        "id": "fIJe36fJ4JFO"
      },
      "source": [
        "#### Using Finite Difference, Change 3 S0 at a time"
      ]
    },
    {
      "cell_type": "code",
      "metadata": {
        "colab": {
          "base_uri": "https://localhost:8080/",
          "height": 297
        },
        "id": "4O1I8COnUxnz",
        "outputId": "7ec6f12e-1feb-40b5-ca29-10941885c61f"
      },
      "source": [
        "##Using Finite Difference, Change 3 S0 at a time\n",
        "%matplotlib inline\n",
        "import numpy as np\n",
        "def compute_delta(S):\n",
        "    epsilon = 0.01\n",
        "    inputs1 = torch.tensor([[1, 110.0, S, 0.35, 0.1, 0.05]*nstock]).cuda()\n",
        "    inputs2 = torch.tensor([[1, 110.0, S + epsilon, 0.35, 0.1, 0.05]*nstock]).cuda()\n",
        "    delta = (model(inputs2.float()) - model(inputs1.float()))/epsilon\n",
        "    return delta\n",
        "\n",
        "\n",
        "prices = np.arange(0, 150, 0.1)\n",
        "deltas = []\n",
        "for p in prices:\n",
        "    deltas.append(compute_delta(p).item())\n",
        "fig = pylab.plot(prices, deltas)\n",
        "pylab.xlabel('prices')\n",
        "pylab.ylabel('Delta')\n",
        "fig"
      ],
      "execution_count": 19,
      "outputs": [
        {
          "output_type": "execute_result",
          "data": {
            "text/plain": [
              "[<matplotlib.lines.Line2D at 0x7fb417359990>]"
            ]
          },
          "metadata": {
            "tags": []
          },
          "execution_count": 19
        },
        {
          "output_type": "display_data",
          "data": {
            "image/png": "[encoded data removed]",
            "text/plain": [
              "<Figure size 432x288 with 1 Axes>"
            ]
          },
          "metadata": {
            "tags": [],
            "needs_background": "light"
          }
        }
      ]
    },
    {
      "cell_type": "markdown",
      "metadata": {
        "id": "yNB8LPwfBMHQ"
      },
      "source": [
        "# Gamma"
      ]
    },
    {
      "cell_type": "markdown",
      "metadata": {
        "id": "oLO_5nEGVcEc"
      },
      "source": [
        "Calculating the second order derivative is easy in PyTorch too. We just need to apply the `grad` function twice. Use this mechanism, we can calculate the second order derivatives $\\frac{\\partial^2 P}{\\partial K \\partial S_0}$, $\\frac{\\partial^2 P}{\\partial B \\partial S_0}$, $\\frac{\\partial^2 P}{\\partial S_0^2}$, $\\frac{\\partial^2 P}{\\partial \\sigma \\partial S_0}$, $\\frac{\\partial^2 P}{\\partial \\mu \\partial S_0}$, $\\frac{\\partial^2 P}{\\partial r \\partial S_0}$ in the following example."
      ]
    },
    {
      "cell_type": "code",
      "metadata": {
        "id": "nGzj7A3sThZK",
        "colab": {
          "base_uri": "https://localhost:8080/"
        },
        "outputId": "2b9df6c5-ffdb-4bda-ebd8-769569db2c09"
      },
      "source": [
        "import torch\n",
        "from torch import Tensor\n",
        "from torch.autograd import Variable\n",
        "from torch.autograd import grad\n",
        "from torch import nn\n",
        "\n",
        "inputs = torch.tensor([[1, 110.0, 110.0, 0.35, 0.1, 0.05]*nstock]).cuda()\n",
        "inputs.requires_grad = True\n",
        "x = model(inputs)\n",
        "\n",
        "# instead of using loss.backward(), use torch.autograd.grad() to compute gradients\n",
        "# https://pytorch.org/docs/stable/autograd.html#torch.autograd.grad\n",
        "loss_grads = grad(x, inputs, create_graph=True)\n",
        "drv = grad(loss_grads[0][0][2], inputs)\n",
        "drv"
      ],
      "execution_count": 20,
      "outputs": [
        {
          "output_type": "execute_result",
          "data": {
            "text/plain": [
              "(tensor([[ 0.0006, -0.0002,  0.0003, -0.0009,  0.0039,  0.0262, -0.0024, -0.0003,\n",
              "           0.0003, -0.0007, -0.0002,  0.0347, -0.0109, -0.0003,  0.0003, -0.0010,\n",
              "           0.0007,  0.0237, -0.0037, -0.0004,  0.0003, -0.0011, -0.0053,  0.0363,\n",
              "          -0.0044, -0.0002,  0.0003, -0.0018, -0.0022,  0.0241, -0.0044, -0.0003,\n",
              "           0.0003,  0.0010,  0.0059,  0.0386, -0.0113, -0.0003,  0.0003, -0.0011,\n",
              "          -0.0037,  0.0688, -0.0038, -0.0003,  0.0003, -0.0034, -0.0002,  0.0234,\n",
              "          -0.0008, -0.0003,  0.0003, -0.0007,  0.0012, -0.0043,  0.0061, -0.0003,\n",
              "           0.0003, -0.0030, -0.0011,  0.0257]], device='cuda:0'),)"
            ]
          },
          "metadata": {
            "tags": []
          },
          "execution_count": 20
        }
      ]
    },
    {
      "cell_type": "markdown",
      "metadata": {
        "id": "WJbZYtvhVmSo"
      },
      "source": [
        "Gamma is the second order differenation of `S`. We can plot the the Gamma curve as a function of the stock price"
      ]
    },
    {
      "cell_type": "markdown",
      "metadata": {
        "id": "dlXVePiK4UH5"
      },
      "source": [
        "#### Using gradient, Change only 1 S0 at a time"
      ]
    },
    {
      "cell_type": "code",
      "metadata": {
        "id": "3JpQa3EJToA0",
        "colab": {
          "base_uri": "https://localhost:8080/",
          "height": 279
        },
        "outputId": "7ca55a53-7952-475c-995e-240844dc4705"
      },
      "source": [
        "##Using gradient, Change only 1 S0 at a time\n",
        "import pylab\n",
        "import numpy as np\n",
        "def compute_gamma(S, ith):\n",
        "  inputs = torch.tensor([[1, 110.0, 110.0, 0.35, 0.1, 0.05]*(ith-1)\\\n",
        "                           + [1, 110.0, S, 0.35, 0.1, 0.05]\\\n",
        "                           + ([1, 110.0, 110.0, 0.35, 0.1, 0.05]*(nstock-ith))]).cuda()\n",
        "  # inputs = torch.tensor([[1, 110.0, S, 0.35, 0.1, 0.05] + ([1, 110.0, 110.0, 0.35, 0.1, 0.05]*2)]).cuda()\n",
        "  inputs.requires_grad = True\n",
        "  x = model(inputs.float())\n",
        "  #x = model(inputs)\n",
        "  loss_grads = grad(x, inputs, create_graph=True)\n",
        "  drv = grad(loss_grads[0][0][2], inputs)\n",
        "  return drv[0][0][2]\n",
        "\n",
        "for i in range(1, nstock+1):\n",
        "  prices = np.arange(0, 150, 0.1)\n",
        "  gammas = []\n",
        "  for p in prices:\n",
        "      gammas.append(compute_gamma(p, i).item())\n",
        "  fig2 = pylab.plot(prices, gammas, label = f'{i}th stock')\n",
        "  pylab.legend(loc = 'upper right')\n",
        "  pylab.xlabel('prices')\n",
        "  pylab.ylabel('Gamma')\n",
        "  fig2"
      ],
      "execution_count": 21,
      "outputs": [
        {
          "output_type": "display_data",
          "data": {
            "image/png": "[encoded data removed]",
            "text/plain": [
              "<Figure size 432x288 with 1 Axes>"
            ]
          },
          "metadata": {
            "tags": [],
            "needs_background": "light"
          }
        }
      ]
    },
    {
      "cell_type": "markdown",
      "metadata": {
        "id": "RDEmn97t4xxJ"
      },
      "source": [
        "#### Using Finite Difference, Change only 1 S0 at a time"
      ]
    },
    {
      "cell_type": "code",
      "metadata": {
        "id": "BsoaOyCDxQy0",
        "colab": {
          "base_uri": "https://localhost:8080/",
          "height": 279
        },
        "outputId": "0d8c0f89-dca3-41d9-d4fe-3c798225e0c9"
      },
      "source": [
        "##Using Finite Difference, Change only 1 S0 at a time\n",
        "%matplotlib inline\n",
        "import numpy as np\n",
        "def compute_gamma(S, ith):\n",
        "    epsilon = 0.5\n",
        "    inputs1 = torch.tensor([[1, 110.0, 110.0, 0.35, 0.1, 0.05]*(ith-1)\\\n",
        "                           + [1, 110.0, S, 0.35, 0.1, 0.05]\\\n",
        "                           + ([1, 110.0, 110.0, 0.35, 0.1, 0.05]*(nstock-ith))]).cuda()\n",
        "    inputs2 = torch.tensor([[1, 110.0, 110.0, 0.35, 0.1, 0.05]*(ith-1)\\\n",
        "                           + [1, 110.0, S+epsilon, 0.35, 0.1, 0.05]\\\n",
        "                           + ([1, 110.0, 110.0, 0.35, 0.1, 0.05]*(nstock-ith))]).cuda()\n",
        "    inputs3 = torch.tensor([[1, 110.0, 110.0, 0.35, 0.1, 0.05]*(ith-1)\\\n",
        "                           + [1, 110.0, S-epsilon, 0.35, 0.1, 0.05]\\\n",
        "                           + ([1, 110.0, 110.0, 0.35, 0.1, 0.05]*(nstock-ith))]).cuda()\n",
        "    # inputs1 = torch.tensor([[1, 110.0, S, 0.35, 0.1, 0.05]  + ([1, 110.0, 110.0, 0.35, 0.1, 0.05]*2)]).cuda()\n",
        "    # inputs2 = torch.tensor([[1, 110.0, S + epsilon, 0.35, 0.1, 0.05]  + ([1, 110.0, 110.0, 0.35, 0.1, 0.05]*2)]).cuda()\n",
        "    # inputs3 = torch.tensor([[1, 110.0, S - epsilon, 0.35, 0.1, 0.05]  + ([1, 110.0, 110.0, 0.35, 0.1, 0.05]*2)]).cuda()\n",
        "    gamma = (model(inputs2.float()) - 2*model(inputs1.float()) + model(inputs3.float()))/(epsilon**2)\n",
        "    return gamma\n",
        "\n",
        "for i in range(1, nstock+1):\n",
        "  prices = np.arange(0, 150, 0.1)\n",
        "  gammas = []\n",
        "  for p in prices:\n",
        "      gammas.append(compute_gamma(p, i).item())\n",
        "  fig = pylab.plot(prices, gammas, label = f'{i}th stock')\n",
        "  pylab.legend(loc = 'upper right')\n",
        "  pylab.xlabel('prices')\n",
        "  pylab.ylabel('Gamma')\n",
        "  fig"
      ],
      "execution_count": 22,
      "outputs": [
        {
          "output_type": "display_data",
          "data": {
            "image/png": "[encoded data removed]",
            "text/plain": [
              "<Figure size 432x288 with 1 Axes>"
            ]
          },
          "metadata": {
            "tags": [],
            "needs_background": "light"
          }
        }
      ]
    },
    {
      "cell_type": "markdown",
      "metadata": {
        "id": "SnRaSM685NCq"
      },
      "source": [
        "#### Using Finite Difference, Change 3 S0 at a time"
      ]
    },
    {
      "cell_type": "code",
      "metadata": {
        "colab": {
          "base_uri": "https://localhost:8080/",
          "height": 297
        },
        "id": "aOsXgOwWZ_ru",
        "outputId": "b8faf9ef-49dd-4a5f-fd07-a394be5a7e99"
      },
      "source": [
        "##Using Finite Difference, Change 3 S0 at a time\n",
        "%matplotlib inline\n",
        "import numpy as np\n",
        "def compute_gamma(S):\n",
        "    epsilon = 0.5\n",
        "    inputs1 = torch.tensor([[1, 110.0, S, 0.35, 0.1, 0.05]*nstock]).cuda()\n",
        "    inputs2 = torch.tensor([[1, 110.0, S + epsilon, 0.35, 0.1, 0.05]*nstock]).cuda()\n",
        "    inputs3 = torch.tensor([[1, 110.0, S - epsilon, 0.35, 0.1, 0.05]*nstock]).cuda()\n",
        "    gamma = (model(inputs2.float()) - 2*model(inputs1.float()) + model(inputs3.float()))/(epsilon**2)\n",
        "    return gamma\n",
        "\n",
        "prices = np.arange(0, 150, 0.1)\n",
        "gammas = []\n",
        "for p in prices:\n",
        "    gammas.append(compute_gamma(p).item())\n",
        "fig = pylab.plot(prices, gammas)\n",
        "pylab.xlabel('prices')\n",
        "pylab.ylabel('Gamma')\n",
        "fig"
      ],
      "execution_count": 23,
      "outputs": [
        {
          "output_type": "execute_result",
          "data": {
            "text/plain": [
              "[<matplotlib.lines.Line2D at 0x7fb47010bb90>]"
            ]
          },
          "metadata": {
            "tags": []
          },
          "execution_count": 23
        },
        {
          "output_type": "display_data",
          "data": {
            "image/png": "[encoded data removed]",
            "text/plain": [
              "<Figure size 432x288 with 1 Axes>"
            ]
          },
          "metadata": {
            "tags": [],
            "needs_background": "light"
          }
        }
      ]
    },
    {
      "cell_type": "markdown",
      "metadata": {
        "id": "67lca2xrBh9a"
      },
      "source": [
        "# Vega"
      ]
    },
    {
      "cell_type": "markdown",
      "metadata": {
        "id": "iuETeg-e53wz"
      },
      "source": [
        "#### Using finite difference, Change only 1 S0 at a time"
      ]
    },
    {
      "cell_type": "code",
      "metadata": {
        "id": "muozc-hzhSGA",
        "colab": {
          "base_uri": "https://localhost:8080/",
          "height": 283
        },
        "outputId": "baf8bbe5-4eaa-4537-a258-3ba4f7c6ace3"
      },
      "source": [
        "##Using finite difference, Change only 1 S0 at a time\n",
        "# vega\n",
        "%matplotlib inline\n",
        "import numpy as np\n",
        "def compute_vega(S, ith):\n",
        "    epsilon = 0.5\n",
        "\n",
        "    inputs1 = torch.tensor([[1, 110.0, 110.0, 0.35, 0.1, 0.05]*(ith-1)\\\n",
        "                           + [1, 110.0, S, 0.35, 0.1, 0.05]\\\n",
        "                           + ([1, 110.0, 110.0, 0.35, 0.1, 0.05]*(nstock-ith))]).cuda()\n",
        "    inputs2 = torch.tensor([[1, 110.0, 110.0, 0.35, 0.1, 0.05]*(ith-1)\\\n",
        "                           + [1, 110.0, S, 0.35+epsilon, 0.1, 0.05]\\\n",
        "                           + ([1, 110.0, 110.0, 0.35, 0.1, 0.05]*(nstock-ith))]).cuda()\n",
        "\n",
        "    vega = (model(inputs2.float()) - model(inputs1.float()))/epsilon\n",
        "    return vega\n",
        "\n",
        "for i in range(1, nstock+1):\n",
        "  prices = np.arange(0, 150, 0.1)\n",
        "  vegas = []\n",
        "  for p in prices:\n",
        "      vegas.append(compute_vega(p, i).item())\n",
        "  fig = pylab.plot(prices, vegas, label = f'{i}th stock')\n",
        "  pylab.legend(loc = 'upper right')\n",
        "  pylab.xlabel('prices')\n",
        "  pylab.ylabel('Vega')\n",
        "  fig"
      ],
      "execution_count": 24,
      "outputs": [
        {
          "output_type": "display_data",
          "data": {
            "image/png": "[encoded data removed]",
            "text/plain": [
              "<Figure size 432x288 with 1 Axes>"
            ]
          },
          "metadata": {
            "tags": [],
            "needs_background": "light"
          }
        }
      ]
    },
    {
      "cell_type": "markdown",
      "metadata": {
        "id": "y_BYyL9d584w"
      },
      "source": [
        "#### Using Finite Difference, Change 3 S0 at a time"
      ]
    },
    {
      "cell_type": "code",
      "metadata": {
        "colab": {
          "base_uri": "https://localhost:8080/",
          "height": 297
        },
        "id": "0KATxBCAdlFt",
        "outputId": "5b794a63-dd71-4d55-852b-96ddd25f56fb"
      },
      "source": [
        "##Using Finite Difference, Change 3 S0 at a time\n",
        "# vega\n",
        "%matplotlib inline\n",
        "import numpy as np\n",
        "def compute_vega(S):\n",
        "    epsilon = 0.5\n",
        "    inputs1 = torch.tensor([[1, 110.0, S, 0.35, 0.1, 0.05]*nstock]).cuda()\n",
        "    inputs2 = torch.tensor([[1, 110.0, S, 0.35 + epsilon, 0.1, 0.05]*nstock]).cuda()\n",
        "    vega = (model(inputs2.float()) - model(inputs1.float()))/epsilon\n",
        "    return vega\n",
        "\n",
        "\n",
        "prices = np.arange(0, 150, 0.1)\n",
        "vegas = []\n",
        "for p in prices:\n",
        "    vegas.append(compute_vega(p).item())\n",
        "fig = pylab.plot(prices, vegas)\n",
        "pylab.xlabel('prices')\n",
        "pylab.ylabel('Vega')\n",
        "fig"
      ],
      "execution_count": 25,
      "outputs": [
        {
          "output_type": "execute_result",
          "data": {
            "text/plain": [
              "[<matplotlib.lines.Line2D at 0x7fb417379490>]"
            ]
          },
          "metadata": {
            "tags": []
          },
          "execution_count": 25
        },
        {
          "output_type": "display_data",
          "data": {
            "image/png": "[encoded data removed]",
            "text/plain": [
              "<Figure size 432x288 with 1 Axes>"
            ]
          },
          "metadata": {
            "tags": [],
            "needs_background": "light"
          }
        }
      ]
    },
    {
      "cell_type": "markdown",
      "metadata": {
        "id": "Rj7NlW6GVqSA"
      },
      "source": [
        "[Implied volatility](https://en.wikipedia.org/wiki/Implied_volatility) is the forecasted volatility of the underlying asset based on the quoted prices of the option. It is the reverse mapping of price to the option parameter given the model which is hard to do with the Monte Carlo simulation approach. But if we have the deep learning pricing model, it is an easy task. We can first plot the relationship between volatility and the option price"
      ]
    },
    {
      "cell_type": "code",
      "metadata": {
        "id": "4yrCw5UNT07t"
      },
      "source": [
        "# import pylab\n",
        "# import numpy as np\n",
        "# def compute_price(sigma):\n",
        "#     inputs = torch.tensor([[1, 110.0, 110.0, sigma, 0.1, 0.05]]).cuda()\n",
        "#     x = model(inputs.float())\n",
        "#     #x = model(inputs)\n",
        "#     return x.item()\n",
        "# sigmas = np.arange(0, 0.5, 0.1)\n",
        "# prices = []\n",
        "# for s in sigmas:\n",
        "#     prices.append(compute_price(s))\n",
        "# fig3 = pylab.plot(sigmas, prices)\n",
        "# pylab.xlabel('Sigma')\n",
        "# pylab.ylabel('Price')\n",
        "# fig3"
      ],
      "execution_count": null,
      "outputs": []
    },
    {
      "cell_type": "markdown",
      "metadata": {
        "id": "EU25Cj29VtCa"
      },
      "source": [
        "Given the prices `P`, the implied volatility is the root of the function `compute_price`. We can use bisection to find the root."
      ]
    },
    {
      "cell_type": "code",
      "metadata": {
        "id": "ddHnwm_zUBYD"
      },
      "source": [
        "# def bisection_root(small, large, fun, target, EPS=1e-6):\n",
        "#     if fun(large) - target < 0:\n",
        "#         print('upper bound is too small')\n",
        "#         return None\n",
        "#     if fun(small) - target > 0:\n",
        "#         print('lower bound is too large')\n",
        "#         return None\n",
        "#     while large - small > EPS:\n",
        "#         mid = (large + small) / 2.0\n",
        "#         if fun(mid) - target >= 0:\n",
        "#             large = mid\n",
        "#         else:\n",
        "#             small = mid\n",
        "#     mid = (large + small) / 2.0\n",
        "#     return mid, abs(fun(mid) - target)\n",
        "# quoted_price = 16.0\n",
        "# sigma, err = bisection_root(0, 0.5, compute_price, quoted_price)\n",
        "# print('implied volativity', sigma, 'error', err)     "
      ],
      "execution_count": null,
      "outputs": []
    },
    {
      "cell_type": "code",
      "metadata": {
        "id": "DEiAredqQGxf"
      },
      "source": [
        ""
      ],
      "execution_count": null,
      "outputs": []
    }
  ]
}