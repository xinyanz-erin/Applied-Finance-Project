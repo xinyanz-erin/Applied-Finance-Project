{
  "nbformat": 4,
  "nbformat_minor": 0,
  "metadata": {
    "kernelspec": {
      "display_name": "Python 3",
      "language": "python",
      "name": "python3"
    },
    "language_info": {
      "codemirror_mode": {
        "name": "ipython",
        "version": 3
      },
      "file_extension": ".py",
      "mimetype": "text/x-python",
      "name": "python",
      "nbconvert_exporter": "python",
      "pygments_lexer": "ipython3",
      "version": "3.6.9"
    },
    "colab": {
      "name": "European_Call_nstock_auto.ipynb",
      "provenance": [],
      "collapsed_sections": [
        "NwN6aLFDnwiy",
        "JIa4c_aHz15a",
        "u2_89jOknwjH",
        "rXT4Bg0wdL7l"
      ],
      "include_colab_link": true
    },
    "accelerator": "GPU"
  },
  "cells": [
    {
      "cell_type": "markdown",
      "metadata": {
        "id": "view-in-github",
        "colab_type": "text"
      },
      "source": [
        "<a href=\"https://colab.research.google.com/github/xinyanz-erin/Applied-Finance-Project/blob/Lilian/European_Call_nstock_auto_temp.ipynb\" target=\"_parent\"><img src=\"https://colab.research.google.com/assets/colab-badge.svg\" alt=\"Open In Colab\"/></a>"
      ]
    },
    {
      "cell_type": "code",
      "metadata": {
        "id": "9Xk52L4czj5x"
      },
      "source": [
        "nstock = 10"
      ],
      "execution_count": null,
      "outputs": []
    },
    {
      "cell_type": "code",
      "metadata": {
        "id": "gCR6hhw5Xq_R"
      },
      "source": [
        "import warnings\n",
        "warnings.filterwarnings('ignore')"
      ],
      "execution_count": null,
      "outputs": []
    },
    {
      "cell_type": "code",
      "metadata": {
        "colab": {
          "base_uri": "https://localhost:8080/"
        },
        "id": "gSxOZk3ls2XQ",
        "outputId": "1fcd2958-b5ee-4c8a-dc75-323445122df5"
      },
      "source": [
        "!curl https://colab.chainer.org/install |sh -\n",
        "import cupy"
      ],
      "execution_count": null,
      "outputs": [
        {
          "output_type": "stream",
          "text": [
            "  % Total    % Received % Xferd  Average Speed   Time    Time     Time  Current\n",
            "                                 Dload  Upload   Total   Spent    Left  Speed\n",
            "100  1580  100  1580    0     0   4984      0 --:--:-- --:--:-- --:--:--  4984\n",
            "+ apt -y -q install cuda-libraries-dev-10-0\n",
            "Reading package lists...\n",
            "Building dependency tree...\n",
            "Reading state information...\n",
            "cuda-libraries-dev-10-0 is already the newest version (10.0.130-1).\n",
            "0 upgraded, 0 newly installed, 0 to remove and 40 not upgraded.\n",
            "+ pip install -q cupy-cuda100  chainer \n",
            "\u001b[K     |████████████████████████████████| 58.9 MB 27 kB/s \n",
            "\u001b[K     |████████████████████████████████| 1.0 MB 45.3 MB/s \n",
            "\u001b[?25h  Building wheel for chainer (setup.py) ... \u001b[?25l\u001b[?25hdone\n",
            "+ set +ex\n",
            "Installation succeeded!\n"
          ],
          "name": "stdout"
        }
      ]
    },
    {
      "cell_type": "markdown",
      "metadata": {
        "id": "NwN6aLFDnwiy"
      },
      "source": [
        "### Deep Learning Barrier Option\n",
        "\n",
        "We used Numba and CuPy in the previous notebook to run Monte Carlo simulation to determine the price of the Asian Barrier option. A Monte Carlo simulation needs millions of paths to get an accurate answer which is computationally intensive. [Ryan et al (2018)](https://arxiv.org/abs/1809.02233) showed that a deep learning model can be trained to value derivatives. The deep learning model is accurate and very fast, capable of producing valuations a million times faster than traditional models. In the this notebook, we will use a fully connected network to learn the pricing mode of the Asian Barrier option. Monte Carlo simulation is used as pricing ground truth for the training. We use the same Asian Barrier Option model as last notebook with parameters listed as following:\n",
        "\n",
        "```\n",
        "T - Maturity (yrs.)\n",
        "S - Spot (usd)\n",
        "K - Strike (usd)\n",
        "sigma - Volatility (per.)\n",
        "r - Risk Free Rate (per.)\n",
        "mu - Stock Drift Rate (per.)\n",
        "B - Barrier (usd)\n",
        "```\n",
        "\n",
        "### Batched Data generation\n",
        "\n",
        "The dataset is an important part of the Deep learning training. We will modify the previous single Asian Barrier Option pricing code to handle a batch of Barrier Option pricing. "
      ]
    },
    {
      "cell_type": "code",
      "metadata": {
        "id": "cHYrh4iYfP-n",
        "cellView": "form"
      },
      "source": [
        "#@title\n",
        "###Test: Judy's new X code\n",
        "#N_STOCKS = 3"
      ],
      "execution_count": null,
      "outputs": []
    },
    {
      "cell_type": "code",
      "metadata": {
        "id": "hy7qGwT0jv4A",
        "cellView": "form"
      },
      "source": [
        "#@title\n",
        "#X = cupy.array([])\n",
        "#for i in range(0,N_STOCKS):\n",
        "  #X =  cupy.concatenate((X,cupy.array([1,1]), cupy.random.rand(3),cupy.array([1])))\n",
        "#X = X.reshape(N_STOCKS,6)\n",
        "#X"
      ],
      "execution_count": null,
      "outputs": []
    },
    {
      "cell_type": "code",
      "metadata": {
        "id": "9OHtAXC8hVae",
        "cellView": "form"
      },
      "source": [
        "#@title\n",
        "#X = X * ((cupy.array([200.0, 0, 200.0, 0.4, 0.2, 0.2] * N_STOCKS, dtype = cupy.float32)).reshape(N_STOCKS, 6))\n",
        "#X"
      ],
      "execution_count": null,
      "outputs": []
    },
    {
      "cell_type": "markdown",
      "metadata": {
        "id": "TY_9g3tbdLiY"
      },
      "source": [
        "### Train(Erin Version)"
      ]
    },
    {
      "cell_type": "code",
      "metadata": {
        "id": "qBxT9Eida-c_"
      },
      "source": [
        "# ################################# TEST ########################################\n",
        "# %%writefile cupy_dataset.py\n",
        "\n",
        "# import numba\n",
        "# from numba import cuda\n",
        "# import random\n",
        "# import cupy\n",
        "# import numpy as np\n",
        "# import math\n",
        "# import time\n",
        "# import torch\n",
        "# cupy.cuda.set_allocator(None)\n",
        "# from torch.utils.dlpack import from_dlpack\n",
        "\n",
        "# @cuda.jit\n",
        "# def batch_barrier_option(d_s, T, K, B, S0, sigma, mu, r, d_normals, N_STEPS, N_PATHS, N_BATCH):\n",
        "#     # ii - overall thread index\n",
        "#     ii = cuda.threadIdx.x + cuda.blockIdx.x * cuda.blockDim.x\n",
        "#     stride = cuda.gridDim.x * cuda.blockDim.x\n",
        "#     tmp3 = math.sqrt(T/N_STEPS)\n",
        "#     for i in range(ii, N_PATHS * N_BATCH, stride):\n",
        "#         batch_id = i // N_PATHS\n",
        "#         path_id = i % N_PATHS\n",
        "#         tmp1 = mu[batch_id]*T/N_STEPS\n",
        "#         tmp2 = math.exp(-r[batch_id]*T)\n",
        "#         running_average = 0.0\n",
        "#         s_curr = S0[batch_id]\n",
        "#         for n in range(N_STEPS):\n",
        "#             s_curr += tmp1 * s_curr + sigma[batch_id]*s_curr*tmp3*d_normals[path_id + batch_id * N_PATHS + n * N_PATHS * N_BATCH] # stock price\n",
        "#             running_average = running_average + 1.0/(n + 1.0) * (s_curr - running_average) # average of the path\n",
        "#             if i==0 and batch_id == 2:\n",
        "#                 print(s_curr)\n",
        "#             if running_average <= B[batch_id]: # if reach barrier, drop out the path\n",
        "#                 break\n",
        "#         payoff = running_average - K[batch_id] if running_average > K[batch_id] else 0\n",
        "#         d_s[i] = tmp2 * payoff\n",
        "\n",
        "# class NumbaOptionDataSet(object):\n",
        "    \n",
        "#     def __init__(self, max_len=10, number_path = 1000, batch=2, threads=512, seed=15, stocks=3):  # 3 stocks\n",
        "#         self.num = 0\n",
        "#         self.max_length = max_len\n",
        "#         self.N_PATHS = number_path\n",
        "#         self.N_STEPS = 365\n",
        "#         self.N_BATCH = batch\n",
        "#         self.N_STOCKS = stocks\n",
        "#         self.T = np.float32(1.0)\n",
        "#         self.output = cupy.zeros(self.N_STOCKS*self.N_PATHS, dtype=cupy.float32) \n",
        "#         self.number_of_blocks = (self.N_PATHS * self.N_STOCKS - 1) // threads + 1\n",
        "#         self.number_of_threads = threads\n",
        "#         cupy.random.seed(seed)\n",
        "        \n",
        "#     def __len__(self):\n",
        "#         return self.max_length\n",
        "        \n",
        "#     def __iter__(self):\n",
        "#         self.num = 0\n",
        "#         return self\n",
        "    \n",
        "#     def __next__(self):\n",
        "#         if self.num > self.max_length:\n",
        "#             raise StopIteration\n",
        "        \n",
        "#         Y = cupy.zeros(self.N_BATCH, dtype=cupy.float32)\n",
        "#         paras = cupy.zeros((self.N_BATCH, self.N_STOCKS * 6), dtype = cupy.float32)\n",
        "#         for op in range(self.N_BATCH):\n",
        "          \n",
        "#           X = cupy.array([])\n",
        "#           K_rand = cupy.random.rand(1)[0]\n",
        "#           B_rand = cupy.random.rand(1)[0]\n",
        "#           r_rand = cupy.random.rand(1)[0]\n",
        "#           for i in range(0,self.N_STOCKS):\n",
        "#             X =  cupy.concatenate((X,cupy.array([K_rand,B_rand]), cupy.random.rand(3),cupy.array([r_rand]))) #[K,B,S0,sigma,mu,r], K B r are shared\n",
        "#           X = X.reshape(self.N_STOCKS,6)\n",
        "#           X = X * ((cupy.array([200.0, 0.1, 200.0, 0.4, 0.2, 0.2] * self.N_STOCKS, dtype = cupy.float32)).reshape(self.N_STOCKS, 6))\n",
        "#           #X = cupy.random.rand(6 * self.N_STOCKS, dtype=cupy.float32)\n",
        "#           #X = 0.9 + cupy.random.rand(6 * self.N_STOCKS, dtype=cupy.float32)*0.1\n",
        "#           # scale the [0, 1) random numbers to the correct range for each of the option parameters\n",
        "#           #X = (X * cupy.array([200.0, 0.99, 200.0, 0.4, 0.2, 0.2] * self.N_STOCKS, dtype = cupy.float32)).reshape(self.N_STOCKS, 6)\n",
        "\n",
        "#           # make sure the Barrier is smaller than the Strike price\n",
        "#           # X[:, 1] = X[:, 0] * X[:, 1]\n",
        "#           for i in range(self.N_STOCKS):\n",
        "#             paras[op,i*6:(i+1)*6] = X[i,:]\n",
        "\n",
        "#           stocks_randoms_mean = cupy.zeros(self.N_STOCKS, dtype = cupy.float32)\n",
        "#           rho = cupy.random.normal(0, 1, self.N_STOCKS, dtype = cupy.float32)\n",
        "\n",
        "#           #stocks_randoms_cov = cupy.ones((self.N_STOCKS, self.N_STOCKS), dtype = cupy.float32)\n",
        "#           #cupy.fill_diagonal(stocks_randoms_cov, rho)\n",
        "\n",
        "#           #stocks_randoms_cov = (-0.99 + cupy.random.rand(self.N_STOCKS*self.N_STOCKS, dtype=cupy.float32)*2*0.99).reshape(self.N_STOCKS,self.N_STOCKS)\n",
        "#           stocks_randoms_cov = cupy.array([1] * self.N_STOCKS*self.N_STOCKS, dtype = cupy.float32).reshape(self.N_STOCKS,self.N_STOCKS)  #Covariance\n",
        "#           cupy.fill_diagonal(stocks_randoms_cov, 1)\n",
        "\n",
        "#           num_of_randoms_each_stock = self.N_PATHS * self.N_STEPS\n",
        "#           randoms_gpu = cupy.random.multivariate_normal(stocks_randoms_mean, stocks_randoms_cov,\n",
        "#                                                         num_of_randoms_each_stock, dtype=cupy.float32)\n",
        "#           b1_r = randoms_gpu[:,0]\n",
        "#           b2_r = randoms_gpu[:,1]\n",
        "#           randoms = cupy.zeros(self.N_STOCKS * self.N_PATHS * self.N_STEPS, dtype=cupy.float32)\n",
        "#           interval = int((self.N_PATHS * self.N_STEPS * self.N_STOCKS) / self.N_PATHS)\n",
        "#           for i in range(interval):\n",
        "#             if i % 2 == 0:\n",
        "#                 ind = int(i/2)\n",
        "#                 randoms[i*self.N_PATHS:(i+1)*self.N_PATHS] = b1_r[ind:(ind+self.N_PATHS)]\n",
        "#             else:\n",
        "#                 ind = int(i//2)\n",
        "#                 randoms[i*self.N_PATHS:(i+1)*self.N_PATHS] = b2_r[ind:(ind+self.N_PATHS)]\n",
        "\n",
        "#           randoms = cupy.random.normal(0, 1, self.N_STOCKS * self.N_PATHS * self.N_STEPS, dtype=cupy.float32)\n",
        "#           batch_barrier_option[(self.number_of_blocks,), (self.number_of_threads,)](self.output, self.T, X[:, 0], \n",
        "#                                 X[:, 1], X[:, 2], X[:, 3], X[:, 4], X[:, 5], randoms, self.N_STEPS, self.N_PATHS, self.N_STOCKS)\n",
        "          \n",
        "#           o = self.output.reshape(self.N_STOCKS, self.N_PATHS)\n",
        "#           Y[op] = o.mean(axis = 0).mean()\n",
        "\n",
        "#         self.num += 1\n",
        "#         return (from_dlpack(paras.toDlpack()), from_dlpack(Y.toDlpack()))\n",
        "\n",
        "\n",
        "\n",
        "# # ds = NumbaOptionDataSet(10, number_path=100000, batch=3, seed=random.randint(0,100), stocks=5)\n",
        "# # for i in ds:\n",
        "# #     print(i[0])\n",
        "# ################################# TEST ########################################"
      ],
      "execution_count": null,
      "outputs": []
    },
    {
      "cell_type": "markdown",
      "metadata": {
        "id": "s6dZnWTTfbf1"
      },
      "source": [
        "### Train (European Call option)"
      ]
    },
    {
      "cell_type": "code",
      "metadata": {
        "colab": {
          "base_uri": "https://localhost:8080/"
        },
        "id": "CeREuPw0fguQ",
        "outputId": "961220d7-83d2-4cba-9b2a-87b1ea95e962"
      },
      "source": [
        "################################# TEST ########################################\n",
        "%%writefile cupy_dataset.py\n",
        "\n",
        "import numba\n",
        "from numba import cuda\n",
        "import random\n",
        "import cupy\n",
        "import numpy as np\n",
        "import math\n",
        "import time\n",
        "import torch\n",
        "cupy.cuda.set_allocator(None)\n",
        "from torch.utils.dlpack import from_dlpack\n",
        "\n",
        "@cuda.jit\n",
        "def European_call_option(d_s, T, K, S0, sigma, mu, r, d_normals, N_STEPS, N_PATHS, N_BATCH):\n",
        "    # ii - overall thread index\n",
        "    ii = cuda.threadIdx.x + cuda.blockIdx.x * cuda.blockDim.x\n",
        "    stride = cuda.gridDim.x * cuda.blockDim.x\n",
        "    #tmp3 = math.sqrt(T/N_STEPS)\n",
        "    for i in range(ii, N_PATHS * N_BATCH, stride):\n",
        "        batch_id = i // N_PATHS\n",
        "        path_id = i % N_PATHS\n",
        "        h = T[batch_id] / N_STEPS\n",
        "        tmp1 = r[batch_id]*T[batch_id]/N_STEPS \n",
        "        tmp2 = math.exp(-r[batch_id]*T[batch_id]) # discount\n",
        "        tmp3 = math.sqrt(T[batch_id]/N_STEPS)\n",
        "        #running_average = 0.0\n",
        "        s_curr = S0[batch_id]\n",
        "        for n in range(N_STEPS):\n",
        "          s_curr += tmp1 * s_curr + sigma[batch_id]*s_curr*tmp3*d_normals[path_id + batch_id * N_PATHS + n * N_PATHS * N_BATCH] # stock price\n",
        "          #s_curr = s_curr * math.exp((r[batch_id] - (1/2)*sigma[batch_id]**2)*h + sigma[batch_id] * tmp3 * d_normals[path_id + batch_id * N_PATHS + n * N_PATHS * N_BATCH])\n",
        "          #running_average = running_average + 1.0/(n + 1.0) * (s_curr - running_average) # average of the path\n",
        "          #if i==0 and batch_id == 2:\n",
        "          #    print(s_curr)\n",
        "          #if running_average <= B[batch_id]: # if reach barrier, drop out the path\n",
        "          #    break\n",
        "        #payoff = running_average - K[batch_id] if running_average > K[batch_id] else 0\n",
        "        #payoff = s_curr - K[batch_id] if s_curr > K[batch_id] else 0\n",
        "        #d_s[i] = tmp2 * payoff\n",
        "        d_s[i] = s_curr\n",
        "\n",
        "class NumbaOptionDataSet(object):\n",
        "    \n",
        "    def __init__(self, max_len=10, number_path = 1000, batch=2, threads=512, seed=15, stocks=3):  # 3 stocks\n",
        "        self.num = 0\n",
        "        self.max_length = max_len\n",
        "        self.N_PATHS = number_path\n",
        "        #self.N_STEPS = 365\n",
        "        self.N_STEPS = 10000\n",
        "        self.N_BATCH = batch\n",
        "        self.N_STOCKS = stocks\n",
        "        #self.T = np.float32(1.0)\n",
        "        self.output = cupy.zeros(self.N_STOCKS*self.N_PATHS, dtype=cupy.float32)\n",
        "        self.number_of_blocks = (self.N_PATHS * self.N_STOCKS - 1) // threads + 1\n",
        "        self.number_of_threads = threads\n",
        "        cupy.random.seed(seed)\n",
        "        \n",
        "    def __len__(self):\n",
        "        return self.max_length\n",
        "        \n",
        "    def __iter__(self):\n",
        "        self.num = 0\n",
        "        return self\n",
        "    \n",
        "    def __next__(self):\n",
        "        if self.num > self.max_length:\n",
        "            raise StopIteration\n",
        "        \n",
        "        Y = cupy.zeros(self.N_BATCH, dtype=cupy.float32)\n",
        "        paras = cupy.zeros((self.N_BATCH, self.N_STOCKS * 6), dtype = cupy.float32)\n",
        "        #paras = cupy.zeros((self.N_BATCH, self.N_STOCKS * 5), dtype = cupy.float32)\n",
        "\n",
        "        for op in range(self.N_BATCH):\n",
        "          \n",
        "          X = cupy.array([])\n",
        "          #T_rand = cupy.random.rand(1)[0]\n",
        "          K_rand = cupy.random.rand(1)\n",
        "          #B_rand = cupy.random.rand(1)[0]\n",
        "          r_rand = cupy.random.rand(1)\n",
        "          for i in range(0, self.N_STOCKS):\n",
        "            #X =  cupy.concatenate((X, cupy.array([K_rand,B_rand]), cupy.random.rand(3), cupy.array([r_rand]))) #[K,B,S0,sigma,mu,r], K B r are shared\n",
        "            X = cupy.concatenate((X, cupy.array([1.0]), K_rand, cupy.random.rand(3), r_rand))\n",
        "          \n",
        "          X = X.reshape(self.N_STOCKS, 6)\n",
        "          #X = X * ((cupy.array([200.0, 0.1, 200.0, 0.4, 0.2, 0.2] * self.N_STOCKS, dtype = cupy.float32)).reshape(self.N_STOCKS, 6))\n",
        "          #[T, K, S0, sigma, mu, r]\n",
        "          X = X * ((cupy.array([1, 150.0, 150.0, 0.4, 0.2, 0.2] * self.N_STOCKS, dtype = cupy.float32)).reshape(self.N_STOCKS, 6))\n",
        "          #X = cupy.random.rand(6 * self.N_STOCKS, dtype=cupy.float32)\n",
        "          #X = 0.9 + cupy.random.rand(6 * self.N_STOCKS, dtype=cupy.float32)*0.1\n",
        "          # scale the [0, 1) random numbers to the correct range for each of the option parameters\n",
        "          #X = (X * cupy.array([200.0, 0.99, 200.0, 0.4, 0.2, 0.2] * self.N_STOCKS, dtype = cupy.float32)).reshape(self.N_STOCKS, 6)\n",
        "\n",
        "          # make sure the Barrier is smaller than the Strike price\n",
        "          # X[:, 1] = X[:, 0] * X[:, 1]\n",
        "          for i in range(self.N_STOCKS):\n",
        "            paras[op,i*6:(i+1)*6] = X[i,:]\n",
        "            #paras[op, i*5:(i+1)*5] = X[i,:]\n",
        "\n",
        "          stocks_randoms_mean = cupy.zeros(self.N_STOCKS, dtype = cupy.float32)\n",
        "          rho = cupy.random.normal(0, 1, self.N_STOCKS, dtype = cupy.float32)\n",
        "\n",
        "          #stocks_randoms_cov = cupy.ones((self.N_STOCKS, self.N_STOCKS), dtype = cupy.float32)\n",
        "          #cupy.fill_diagonal(stocks_randoms_cov, rho)\n",
        "\n",
        "          #stocks_randoms_cov = (-0.99 + cupy.random.rand(self.N_STOCKS*self.N_STOCKS, dtype=cupy.float32)*2*0.99).reshape(self.N_STOCKS,self.N_STOCKS)\n",
        "          if self.N_STOCKS != 1:\n",
        "            randoms = cupy.random.normal(0, 1, self.N_STOCKS * self.N_PATHS * self.N_STEPS, dtype=cupy.float32)\n",
        "            # stocks_randoms_cov = cupy.array([0] * self.N_STOCKS*self.N_STOCKS, dtype = cupy.float32).reshape(self.N_STOCKS,self.N_STOCKS)  #Covariance\n",
        "            # cupy.fill_diagonal(stocks_randoms_cov, 1)\n",
        "\n",
        "            # num_of_randoms_each_stock = self.N_PATHS * self.N_STEPS\n",
        "            # randoms_gpu = cupy.random.multivariate_normal(stocks_randoms_mean, stocks_randoms_cov,\n",
        "            #                                               num_of_randoms_each_stock, dtype=cupy.float32)\n",
        "            # b1_r = randoms_gpu[:,0]\n",
        "            # b2_r = randoms_gpu[:,1]\n",
        "            # randoms = cupy.zeros(self.N_STOCKS * self.N_PATHS * self.N_STEPS, dtype=cupy.float32)\n",
        "            # interval = int((self.N_PATHS * self.N_STEPS * self.N_STOCKS) / self.N_PATHS)\n",
        "            # for i in range(interval):\n",
        "            #   if i % 2 == 0:\n",
        "            #       ind = int(i/2)\n",
        "            #       randoms[i*self.N_PATHS:(i+1)*self.N_PATHS] = b1_r[ind:(ind+self.N_PATHS)]\n",
        "            #   else:\n",
        "            #       ind = int(i//2)\n",
        "            #       randoms[i*self.N_PATHS:(i+1)*self.N_PATHS] = b2_r[ind:(ind+self.N_PATHS)]\n",
        "          if self.N_STOCKS == 1:\n",
        "            randoms = cupy.random.normal(0, 1, self.N_STOCKS * self.N_PATHS * self.N_STEPS, dtype=cupy.float32)\n",
        "          \n",
        "          European_call_option[(self.number_of_blocks,), (self.number_of_threads,)](self.output, X[:, 0], \n",
        "                                X[:, 1], X[:, 2], X[:, 3], X[:, 4], X[:, 5], randoms, self.N_STEPS, self.N_PATHS, self.N_STOCKS)\n",
        "          \n",
        "          o = self.output.reshape(self.N_STOCKS, self.N_PATHS) # this contains prices for each stock for each path at time T\n",
        "          K = K_rand * 150\n",
        "          r = r_rand * 0.2\n",
        "          o = o.mean(axis = 0) # average across stocks end prices\n",
        "          payoff = np.maximum(o - K, 0) # compute payoff\n",
        "          payoff = payoff * np.exp(-r*1) # T=1, discount\n",
        "          Y[op] = payoff.mean()\n",
        "\n",
        "        self.num += 1\n",
        "        return (from_dlpack(paras.toDlpack()), from_dlpack(Y.toDlpack()))\n",
        "\n",
        "\n",
        "# ds = NumbaOptionDataSet(1, number_path = 10000, batch = 3, seed = random.randint(0,100), stocks=nstock)\n",
        "# for i in ds:\n",
        "#     print(i)\n",
        "################################# TEST ########################################"
      ],
      "execution_count": null,
      "outputs": [
        {
          "output_type": "stream",
          "text": [
            "Writing cupy_dataset.py\n"
          ],
          "name": "stdout"
        }
      ]
    },
    {
      "cell_type": "markdown",
      "metadata": {
        "id": "JIa4c_aHz15a"
      },
      "source": [
        "### For verification (Monte Carlo for n-stocks basket)"
      ]
    },
    {
      "cell_type": "code",
      "metadata": {
        "id": "4DTuXR1ANZPC"
      },
      "source": [
        "# def test(array):\n",
        "#   S1 = array[2]\n",
        "#   S2 = array[8]\n",
        "#   S3 = array[14]\n",
        "#   sigma1 = array[3]\n",
        "#   sigma2 = array[9]\n",
        "#   sigma3 = array[15]\n",
        "#   T = 1  \n",
        "#   K = array[1]\n",
        "#   r = array[5]\n",
        "\n",
        "#   dt = 1/1000\n",
        "#   N = round(T/dt)\n",
        "#   t = np.linspace(0, T, N)\n",
        "\n",
        "#   out = []\n",
        "\n",
        "#   for i in range(10000):\n",
        "#     W1 = np.random.standard_normal(size = N)\n",
        "#     W1 = np.cumsum(W1) * np.sqrt(dt)\n",
        "#     W2 = np.random.standard_normal(size = N)\n",
        "#     W2 = np.cumsum(W2) * np.sqrt(dt)\n",
        "#     W3 = np.random.standard_normal(size = N)\n",
        "#     W3 = np.cumsum(W3) * np.sqrt(dt)\n",
        "\n",
        "#     # W = np.random.standard_normal(size = N)\n",
        "#     # W = np.cumsum(W) * np.sqrt(dt)\n",
        "    \n",
        "#     P1_T = (S1 * np.exp((r - 0.5*sigma1**2) *t + sigma1 * W1))[-1]\n",
        "#     P2_T = (S2 * np.exp((r - 0.5*sigma2**2) *t + sigma2 * W2))[-1]\n",
        "#     P3_T = (S3 * np.exp((r - 0.5*sigma3**2) *t + sigma3 * W3))[-1]\n",
        "#     payoff = (P1_T+P2_T+P3_T)/3 - K if (P1_T+P2_T+P3_T)/3 > K else 0\n",
        "#     out.append(payoff * np.exp(-r*T))\n",
        "  \n",
        "#   return(np.array(out).mean())\n",
        "\n",
        "# print(test(np.array([1.0000e+00, 5.8549e+00, 3.6871e+01, 2.6866e-01, 1.9026e-01, 1.8305e-01,\n",
        "#          1.0000e+00, 5.8549e+00, 4.1110e+00, 2.3714e-01, 5.9547e-02, 1.8305e-01,\n",
        "#          1.0000e+00, 5.8549e+00, 1.6189e+01, 7.3936e-02, 1.1713e-01, 1.8305e-01])))\n",
        "# print(test(np.array([1.0000e+00, 1.1296e+02, 7.4318e+01, 2.0409e-01, 1.9133e-01, 5.3904e-02,\n",
        "#          1.0000e+00, 1.1296e+02, 5.3453e+01, 4.8439e-02, 5.8557e-02, 5.3904e-02,\n",
        "#          1.0000e+00, 1.1296e+02, 3.8721e+01, 2.0259e-01, 6.0423e-02, 5.3904e-02])))\n",
        "# print(test(np.array([1.0000e+00, 3.2307e+01, 3.8874e+01, 2.5820e-01, 1.9522e-01, 8.6353e-02,\n",
        "#          1.0000e+00, 3.2307e+01, 3.6077e+01, 3.7123e-01, 1.8810e-01, 8.6353e-02,\n",
        "#          1.0000e+00, 3.2307e+01, 6.9274e+01, 2.4100e-01, 1.9839e-01, 8.6353e-02])))\n",
        "# print(test(np.array([1.0000e+00, 2.4764e+01, 6.6956e+01, 2.0769e-01, 9.8127e-02, 1.7302e-01,\n",
        "#          1.0000e+00, 2.4764e+01, 3.6483e+01, 8.9075e-02, 1.9375e-01, 1.7302e-01,\n",
        "#          1.0000e+00, 2.4764e+01, 9.4748e+01, 2.6420e-01, 1.2015e-01, 1.7302e-01])))\n",
        "# print(test(np.array([1.0000e+00, 8.4591e+01, 1.2730e+02, 2.8949e-02, 1.0954e-01, 1.3706e-01,\n",
        "#          1.0000e+00, 8.4591e+01, 1.2859e+02, 1.5262e-01, 1.4064e-03, 1.3706e-01,\n",
        "#          1.0000e+00, 8.4591e+01, 4.6679e+01, 2.6688e-01, 1.5895e-01, 1.3706e-01])))\n",
        "# print(test(np.array([1.0000e+00, 6.8433e+01, 3.5593e+01, 6.5870e-02, 6.8068e-02, 1.3578e-02,\n",
        "#          1.0000e+00, 6.8433e+01, 2.3864e+01, 9.5815e-02, 1.6075e-01, 1.3578e-02,\n",
        "#          1.0000e+00, 6.8433e+01, 1.1863e+02, 3.0400e-01, 5.6958e-02, 1.3578e-02])))"
      ],
      "execution_count": null,
      "outputs": []
    },
    {
      "cell_type": "code",
      "metadata": {
        "id": "Bqx6hNuucM5U"
      },
      "source": [
        "# array = np.array([1.0000e+00, 8.3754e+01, 1.2787e+02, 2.7420e-01, 1.2507e-01, 1.7700e-01,\n",
        "#          1.0000e+00, 8.3754e+01, 4.0869e+01, 3.3302e-01, 1.7439e-01, 1.7700e-01,\n",
        "#          1.0000e+00, 8.3754e+01, 1.1031e+02, 3.5945e-01, 1.5382e-01, 1.7700e-01])\n",
        "\n",
        "# S1 = array[2]\n",
        "# S2 = array[8]\n",
        "# S3 = array[14]\n",
        "# sigma1 = array[3]\n",
        "# sigma2 = array[9]\n",
        "# sigma3 = array[15]\n",
        "# T = 1  \n",
        "# K = array[1]\n",
        "# r = array[5]\n",
        "\n",
        "# dt = 1/100\n",
        "# N = round(T/dt)\n",
        "# t = np.linspace(0, T, N)\n",
        "\n",
        "# out = []\n",
        "\n",
        "# #for i in range(1000):\n",
        "# W = np.random.standard_normal(size = N)\n",
        "# W = np.cumsum(W) * np.sqrt(dt)\n",
        "# P1_T = (S1 * np.exp((r - 0.5*sigma1**2) *t + sigma1 * W))\n",
        "# P2_T = (S2 * np.exp((r - 0.5*sigma2**2) *t + sigma2 * W))[-1]\n",
        "# P3_T = (S3 * np.exp((r - 0.5*sigma3**2) *t + sigma3 * W))[-1]\n",
        "# #ayoff = (P1_T+P2_T+P3_T)/3 - K if (P1_T+P2_T+P3_T)/3 > K else 0\n",
        "# #out.append(payoff * np.exp(-r*T))\n",
        "\n",
        "# #return(np.array(out).mean())\n",
        "# #P1_T\n",
        "# import matplotlib.pyplot as plt\n",
        "# plt.plot(t, P1_T)\n",
        "# plt.show()"
      ],
      "execution_count": null,
      "outputs": []
    },
    {
      "cell_type": "code",
      "metadata": {
        "id": "8tpLw9WDhx8b"
      },
      "source": [
        "# stocks_randoms_cov = cupy.array([0.99999] * 3 * 3, dtype = cupy.float32).reshape(3,3)  #Covariance\n",
        "# cupy.fill_diagonal(stocks_randoms_cov, 1)\n",
        "\n",
        "# stocks_randoms_mean = cupy.zeros(3, dtype = cupy.float32)\n",
        "\n",
        "# num_of_randoms_each_stock = 2 * 3\n",
        "# randoms_gpu = cupy.random.multivariate_normal(stocks_randoms_mean, stocks_randoms_cov,\n",
        "#                                               num_of_randoms_each_stock, dtype=cupy.float32)\n",
        "# randoms_gpu"
      ],
      "execution_count": null,
      "outputs": []
    },
    {
      "cell_type": "markdown",
      "metadata": {
        "id": "u2_89jOknwjH"
      },
      "source": [
        "### Model\n",
        "To map the option parameters to price, we use 6 layers of fully connected neural network with hidden dimension 512 as inspired by [this paper](https://arxiv.org/abs/1809.02233). Writing this DL price model into a file `model.py`:-"
      ]
    },
    {
      "cell_type": "markdown",
      "metadata": {
        "id": "NMHqzJycx8XH"
      },
      "source": [
        "### Modified Model"
      ]
    },
    {
      "cell_type": "code",
      "metadata": {
        "id": "ZTn7iJQryAIH",
        "colab": {
          "base_uri": "https://localhost:8080/"
        },
        "outputId": "67979a0f-960a-49d9-8114-fbf4ea0537de"
      },
      "source": [
        "%%writefile model.py\n",
        "import torch.nn as nn\n",
        "import torch.nn.functional as F\n",
        "import torch\n",
        "import numpy as np\n",
        "\n",
        "\n",
        "class Net(nn.Module):\n",
        "\n",
        "    def __init__(self, hidden=1024, nstock=3):\n",
        "        super(Net, self).__init__()\n",
        "        self.nstock = nstock\n",
        "        self.fc1 = nn.Linear(6 * self.nstock, hidden)\n",
        "        self.fc2 = nn.Linear(hidden, hidden)\n",
        "        self.fc3 = nn.Linear(hidden, hidden)\n",
        "        self.fc4 = nn.Linear(hidden, hidden)\n",
        "        self.fc5 = nn.Linear(hidden, hidden)\n",
        "        self.fc6 = nn.Linear(hidden, 1)\n",
        "        self.register_buffer('norm',\n",
        "                             torch.tensor([1, 150.0, 150.0, 0.4, 0.2, 0.2] * self.nstock)) # don't use numpy here - will give error later\n",
        "\n",
        "    def forward(self, x):\n",
        "        # normalize the parameter to range [0-1] \n",
        "        x = x / self.norm\n",
        "        x = F.elu(self.fc1(x))\n",
        "        x = F.elu(self.fc2(x))\n",
        "        x = F.elu(self.fc3(x))\n",
        "        x = F.elu(self.fc4(x))\n",
        "        x = F.elu(self.fc5(x))\n",
        "        return self.fc6(x)"
      ],
      "execution_count": null,
      "outputs": [
        {
          "output_type": "stream",
          "text": [
            "Writing model.py\n"
          ],
          "name": "stdout"
        }
      ]
    },
    {
      "cell_type": "markdown",
      "metadata": {
        "id": "hSPRFqyznwjI"
      },
      "source": [
        "As we know the random parameters' scaling factors, the input parameters are first scaled back to a range of (0-1) by dividing them by (200.0, 198.0, 200.0, 0.4, 0.2, 0.2). Then they are projected 5 times to the hidden dimension of 512 after the `ELu` activation function. `ELu` is chosen because we need to compute the second order differentiation of the parameters. If use ReLu, the second order differentiation will always be zero. The last layer is a linear layer that maps the hidden dimension to the predicted option price. "
      ]
    },
    {
      "cell_type": "markdown",
      "metadata": {
        "id": "AM8J2liPnwjJ"
      },
      "source": [
        "For training, we use [Ignite](https://github.com/pytorch/ignite) which is a high-level library to train neural networks in PyTorch. We use `MSELoss` as the loss function, `Adam` as the optimizer and `CosineAnnealingScheduler` as the learning rate scheduler. The following code is feeding the random option data to the pricing model to train it."
      ]
    },
    {
      "cell_type": "markdown",
      "metadata": {
        "id": "yACi4ge13_rd"
      },
      "source": [
        "### Train"
      ]
    },
    {
      "cell_type": "code",
      "metadata": {
        "id": "1TyZT8_AH35M",
        "colab": {
          "base_uri": "https://localhost:8080/"
        },
        "outputId": "51e5f8de-4d45-49cc-8034-2814e0e0a557"
      },
      "source": [
        "!pip install pytorch-ignite"
      ],
      "execution_count": null,
      "outputs": [
        {
          "output_type": "stream",
          "text": [
            "Collecting pytorch-ignite\n",
            "  Downloading pytorch_ignite-0.4.6-py3-none-any.whl (232 kB)\n",
            "\u001b[?25l\r\u001b[K     |█▍                              | 10 kB 31.6 MB/s eta 0:00:01\r\u001b[K     |██▉                             | 20 kB 35.4 MB/s eta 0:00:01\r\u001b[K     |████▎                           | 30 kB 22.6 MB/s eta 0:00:01\r\u001b[K     |█████▋                          | 40 kB 17.9 MB/s eta 0:00:01\r\u001b[K     |███████                         | 51 kB 9.3 MB/s eta 0:00:01\r\u001b[K     |████████▌                       | 61 kB 9.4 MB/s eta 0:00:01\r\u001b[K     |█████████▉                      | 71 kB 9.0 MB/s eta 0:00:01\r\u001b[K     |███████████▎                    | 81 kB 10.1 MB/s eta 0:00:01\r\u001b[K     |████████████▊                   | 92 kB 10.3 MB/s eta 0:00:01\r\u001b[K     |██████████████                  | 102 kB 8.9 MB/s eta 0:00:01\r\u001b[K     |███████████████▌                | 112 kB 8.9 MB/s eta 0:00:01\r\u001b[K     |█████████████████               | 122 kB 8.9 MB/s eta 0:00:01\r\u001b[K     |██████████████████▎             | 133 kB 8.9 MB/s eta 0:00:01\r\u001b[K     |███████████████████▊            | 143 kB 8.9 MB/s eta 0:00:01\r\u001b[K     |█████████████████████▏          | 153 kB 8.9 MB/s eta 0:00:01\r\u001b[K     |██████████████████████▌         | 163 kB 8.9 MB/s eta 0:00:01\r\u001b[K     |████████████████████████        | 174 kB 8.9 MB/s eta 0:00:01\r\u001b[K     |█████████████████████████▍      | 184 kB 8.9 MB/s eta 0:00:01\r\u001b[K     |██████████████████████████▊     | 194 kB 8.9 MB/s eta 0:00:01\r\u001b[K     |████████████████████████████▏   | 204 kB 8.9 MB/s eta 0:00:01\r\u001b[K     |█████████████████████████████▋  | 215 kB 8.9 MB/s eta 0:00:01\r\u001b[K     |███████████████████████████████ | 225 kB 8.9 MB/s eta 0:00:01\r\u001b[K     |████████████████████████████████| 232 kB 8.9 MB/s \n",
            "\u001b[?25hRequirement already satisfied: torch<2,>=1.3 in /usr/local/lib/python3.7/dist-packages (from pytorch-ignite) (1.9.0+cu102)\n",
            "Requirement already satisfied: typing-extensions in /usr/local/lib/python3.7/dist-packages (from torch<2,>=1.3->pytorch-ignite) (3.7.4.3)\n",
            "Installing collected packages: pytorch-ignite\n",
            "Successfully installed pytorch-ignite-0.4.6\n"
          ],
          "name": "stdout"
        }
      ]
    },
    {
      "cell_type": "code",
      "metadata": {
        "id": "G4Ej82G8nwjJ",
        "colab": {
          "base_uri": "https://localhost:8080/",
          "height": 1000
        },
        "outputId": "d75f334a-04c4-4563-c462-674b1af00075"
      },
      "source": [
        "from ignite.engine import Engine, Events\n",
        "from ignite.handlers import Timer\n",
        "from torch.nn import MSELoss\n",
        "from torch.optim import Adam\n",
        "from ignite.contrib.handlers.param_scheduler import CosineAnnealingScheduler\n",
        "from ignite.handlers import ModelCheckpoint\n",
        "from model import Net\n",
        "from cupy_dataset import NumbaOptionDataSet\n",
        "timer = Timer(average=True)\n",
        "model = Net(nstock = nstock).cuda()\n",
        "loss_fn = MSELoss()\n",
        "optimizer = Adam(model.parameters(), lr=1e-3)\n",
        "# dataset = NumbaOptionDataSet(max_len = 10000, number_path = 1024, batch = 4800)\n",
        "# dataset = NumbaOptionDataSet(max_len = 100, number_path = 1024, batch = 32, stocks = 3)\n",
        "dataset = NumbaOptionDataSet(max_len = 100, number_path = 1024, batch = 32, stocks = nstock)\n",
        "\n",
        "\n",
        "def train_update(engine, batch):\n",
        "    model.train()\n",
        "    optimizer.zero_grad()\n",
        "    x = batch[0]\n",
        "    y = batch[1]\n",
        "    y_pred = model(x)\n",
        "    loss = loss_fn(y_pred[:,0], y)\n",
        "    loss.backward()\n",
        "    optimizer.step()\n",
        "    return loss.item()\n",
        "\n",
        "trainer = Engine(train_update)\n",
        "log_interval = 20\n",
        "\n",
        "scheduler = CosineAnnealingScheduler(optimizer, 'lr', 1e-4, 1e-6, len(dataset))\n",
        "trainer.add_event_handler(Events.ITERATION_STARTED, scheduler)\n",
        "timer.attach(trainer,\n",
        "             start=Events.EPOCH_STARTED,\n",
        "             resume=Events.ITERATION_STARTED,\n",
        "             pause=Events.ITERATION_COMPLETED,\n",
        "             step=Events.ITERATION_COMPLETED)    \n",
        "@trainer.on(Events.ITERATION_COMPLETED)\n",
        "def log_training_loss(engine):\n",
        "    iter = (engine.state.iteration - 1) % len(dataset) + 1\n",
        "    if iter % log_interval == 0:\n",
        "        print('loss', engine.state.output, 'average time', timer.value(), 'iter num', iter)\n",
        "        \n",
        "trainer.run(dataset, max_epochs = 100)"
      ],
      "execution_count": null,
      "outputs": [
        {
          "output_type": "stream",
          "text": [
            "loss 566.9605712890625 average time 0.0448838887000079 iter num 20\n",
            "loss 570.4921875 average time 0.024491180649994247 iter num 40\n",
            "loss 225.22239685058594 average time 0.01762218673331214 iter num 60\n",
            "loss 154.68075561523438 average time 0.0142265866749824 iter num 80\n",
            "loss 177.25177001953125 average time 0.012190218339990224 iter num 100\n",
            "loss 40.71112060546875 average time 0.03830999365003436 iter num 20\n",
            "loss 42.32828140258789 average time 0.021178385650011934 iter num 40\n",
            "loss 33.418182373046875 average time 0.015458912050000133 iter num 60\n",
            "loss 23.959014892578125 average time 0.012570231425007706 iter num 80\n",
            "loss 6.072011470794678 average time 0.01084808232000114 iter num 100\n",
            "loss 7.302041053771973 average time 0.03752139280002211 iter num 20\n",
            "loss 1.3715113401412964 average time 0.020775652450015513 iter num 40\n",
            "loss 1.5690009593963623 average time 0.01522968285001222 iter num 60\n",
            "loss 1.7051074504852295 average time 0.01239892651251182 iter num 80\n",
            "loss 3.108640193939209 average time 0.010702957130008598 iter num 100\n",
            "loss 1.8524426221847534 average time 0.03751918804997558 iter num 20\n",
            "loss 3.479259967803955 average time 0.020895591349972164 iter num 40\n",
            "loss 1.1495095491409302 average time 0.015264649516639868 iter num 60\n",
            "loss 1.073049783706665 average time 0.012413623687476161 iter num 80\n",
            "loss 0.7622082233428955 average time 0.010722059549975712 iter num 100\n",
            "loss 0.8996069431304932 average time 0.037399015400023924 iter num 20\n",
            "loss 1.313848614692688 average time 0.02072414680002339 iter num 40\n",
            "loss 1.4507176876068115 average time 0.015115591700013436 iter num 60\n",
            "loss 0.46994996070861816 average time 0.012316703700011544 iter num 80\n",
            "loss 0.39657384157180786 average time 0.010635850480009595 iter num 100\n",
            "loss 0.5961649417877197 average time 0.037787889650019224 iter num 20\n",
            "loss 0.7621156573295593 average time 0.020978702500019607 iter num 40\n",
            "loss 1.316835880279541 average time 0.0153250182000041 iter num 60\n",
            "loss 0.8410427570343018 average time 0.012491043137507063 iter num 80\n",
            "loss 0.4039120674133301 average time 0.010775814490004905 iter num 100\n",
            "loss 1.5798523426055908 average time 0.0376698203500041 iter num 20\n",
            "loss 0.6172108054161072 average time 0.020985257374996992 iter num 40\n",
            "loss 0.352989137172699 average time 0.01538112563332561 iter num 60\n",
            "loss 0.31768399477005005 average time 0.01254904298749011 iter num 80\n",
            "loss 0.6827834248542786 average time 0.010895344709995243 iter num 100\n",
            "loss 1.3815666437149048 average time 0.03726527994999742 iter num 20\n",
            "loss 0.7697561383247375 average time 0.020598909149981637 iter num 40\n",
            "loss 0.8517719507217407 average time 0.015057594933322586 iter num 60\n",
            "loss 0.3794291913509369 average time 0.012300047712491846 iter num 80\n",
            "loss 0.3356335759162903 average time 0.01061820047000083 iter num 100\n",
            "loss 1.003098726272583 average time 0.03735797839999577 iter num 20\n",
            "loss 1.2143604755401611 average time 0.02063854292497922 iter num 40\n",
            "loss 0.4094143807888031 average time 0.015129914116660833 iter num 60\n",
            "loss 0.6725621223449707 average time 0.012353482937490412 iter num 80\n",
            "loss 0.3247028589248657 average time 0.010678141789994697 iter num 100\n",
            "loss 0.4245452880859375 average time 0.037600013650001075 iter num 20\n",
            "loss 0.8566189408302307 average time 0.020752809624991642 iter num 40\n",
            "loss 0.14967340230941772 average time 0.015195338133317667 iter num 60\n",
            "loss 0.2801205515861511 average time 0.012384541987489683 iter num 80\n",
            "loss 0.3148841857910156 average time 0.010688726809987656 iter num 100\n",
            "loss 1.3890681266784668 average time 0.037466127900029275 iter num 20\n",
            "loss 0.46748825907707214 average time 0.020712428225021996 iter num 40\n",
            "loss 0.32787683606147766 average time 0.015155727316679683 iter num 60\n",
            "loss 0.2533460855484009 average time 0.012377892387505085 iter num 80\n",
            "loss 0.3152157962322235 average time 0.010721393460005401 iter num 100\n",
            "loss 0.5116221904754639 average time 0.038069229350014666 iter num 20\n",
            "loss 1.1693089008331299 average time 0.021137494474993447 iter num 40\n",
            "loss 0.2501159608364105 average time 0.01538614773333317 iter num 60\n",
            "loss 0.3561173677444458 average time 0.012513709962493635 iter num 80\n",
            "loss 0.2687067985534668 average time 0.010813060869998026 iter num 100\n",
            "loss 0.18872778117656708 average time 0.0380367365499751 iter num 20\n",
            "loss 1.2497912645339966 average time 0.02100825952500145 iter num 40\n",
            "loss 0.4618990123271942 average time 0.015293000166658051 iter num 60\n",
            "loss 0.22678466141223907 average time 0.012452259687492528 iter num 80\n",
            "loss 0.3988204002380371 average time 0.010757704719997036 iter num 100\n",
            "loss 0.3402644097805023 average time 0.03843433580003648 iter num 20\n",
            "loss 0.7084861397743225 average time 0.02117920717502102 iter num 40\n",
            "loss 0.22349566221237183 average time 0.015429526516671406 iter num 60\n",
            "loss 0.1943722367286682 average time 0.012559835300007195 iter num 80\n",
            "loss 0.3692772388458252 average time 0.010845265600007679 iter num 100\n",
            "loss 0.2278294563293457 average time 0.03826937405000308 iter num 20\n",
            "loss 0.36215895414352417 average time 0.02107945744998574 iter num 40\n",
            "loss 0.3021104335784912 average time 0.01535053311666843 iter num 60\n",
            "loss 0.48751911520957947 average time 0.012488655549995542 iter num 80\n",
            "loss 0.44942009449005127 average time 0.010790916519979418 iter num 100\n",
            "loss 0.28380459547042847 average time 0.03802764210006444 iter num 20\n",
            "loss 0.23132015764713287 average time 0.020981816650055406 iter num 40\n",
            "loss 0.3264063894748688 average time 0.015278220966676297 iter num 60\n",
            "loss 0.2543439567089081 average time 0.01243435600001135 iter num 80\n",
            "loss 0.15893913805484772 average time 0.010753487429997221 iter num 100\n",
            "loss 0.49870967864990234 average time 0.03807154854998771 iter num 20\n",
            "loss 1.0200693607330322 average time 0.021061170524967567 iter num 40\n",
            "loss 0.39394378662109375 average time 0.015416572749973056 iter num 60\n",
            "loss 0.39384904503822327 average time 0.012543358512476743 iter num 80\n",
            "loss 0.28330376744270325 average time 0.010806085589979374 iter num 100\n",
            "loss 1.0812745094299316 average time 0.037268924999898444 iter num 20\n",
            "loss 0.4632566571235657 average time 0.020714746224962256 iter num 40\n",
            "loss 0.4665275514125824 average time 0.015161585083296814 iter num 60\n",
            "loss 0.18443641066551208 average time 0.01233820793746645 iter num 80\n",
            "loss 0.15072937309741974 average time 0.01064632594996965 iter num 100\n",
            "loss 0.1655639111995697 average time 0.037489840000057485 iter num 20\n",
            "loss 0.6640429496765137 average time 0.020716247325026416 iter num 40\n",
            "loss 0.23257669806480408 average time 0.015134140066682752 iter num 60\n",
            "loss 0.14468702673912048 average time 0.012333857537521453 iter num 80\n",
            "loss 0.20567597448825836 average time 0.010640614640014973 iter num 100\n",
            "loss 0.22841058671474457 average time 0.03746236450003835 iter num 20\n",
            "loss 0.3739483952522278 average time 0.02076106015001642 iter num 40\n",
            "loss 0.16721752285957336 average time 0.015139652166673538 iter num 60\n",
            "loss 0.4075271785259247 average time 0.012332547400012573 iter num 80\n",
            "loss 0.17956963181495667 average time 0.010647338780004248 iter num 100\n",
            "loss 0.4327620267868042 average time 0.03744181505010147 iter num 20\n",
            "loss 0.24734801054000854 average time 0.02071712370005798 iter num 40\n",
            "loss 0.14089256525039673 average time 0.015109219850023692 iter num 60\n",
            "loss 0.19924181699752808 average time 0.012363093675003257 iter num 80\n",
            "loss 0.3123239576816559 average time 0.010686250059993654 iter num 100\n",
            "loss 0.6025134921073914 average time 0.03790188149996539 iter num 20\n",
            "loss 0.4458250403404236 average time 0.020886371599942777 iter num 40\n",
            "loss 0.20625773072242737 average time 0.015306822349960688 iter num 60\n",
            "loss 0.1320914775133133 average time 0.012474175037482382 iter num 80\n",
            "loss 0.11223895847797394 average time 0.010773908959981782 iter num 100\n",
            "loss 1.3553860187530518 average time 0.037420873350038165 iter num 20\n",
            "loss 0.5066165924072266 average time 0.02062942850005811 iter num 40\n",
            "loss 0.7669497728347778 average time 0.015047653300030106 iter num 60\n",
            "loss 0.1883801519870758 average time 0.012274659500025108 iter num 80\n",
            "loss 0.20210260152816772 average time 0.010632492680019822 iter num 100\n",
            "loss 0.233216792345047 average time 0.03749544500005868 iter num 20\n",
            "loss 0.1549859642982483 average time 0.020737790425005186 iter num 40\n",
            "loss 0.10256985574960709 average time 0.015159264366669352 iter num 60\n",
            "loss 0.16696134209632874 average time 0.0123833266499787 iter num 80\n",
            "loss 0.24909526109695435 average time 0.010690056519983955 iter num 100\n",
            "loss 0.7770512104034424 average time 0.03759317180001744 iter num 20\n",
            "loss 0.7362273335456848 average time 0.020733180550007547 iter num 40\n",
            "loss 0.3230969309806824 average time 0.015122711549997803 iter num 60\n",
            "loss 0.10845702886581421 average time 0.012345384387492686 iter num 80\n",
            "loss 0.17316782474517822 average time 0.010654819899991707 iter num 100\n",
            "loss 1.702661156654358 average time 0.037376323700073044 iter num 20\n",
            "loss 1.0829825401306152 average time 0.02067084022506833 iter num 40\n",
            "loss 0.17434322834014893 average time 0.015155302216688446 iter num 60\n",
            "loss 0.25421884655952454 average time 0.012372384962520754 iter num 80\n",
            "loss 0.2300882339477539 average time 0.010677405100013857 iter num 100\n",
            "loss 0.8322399854660034 average time 0.03783819624993612 iter num 20\n",
            "loss 0.22127071022987366 average time 0.020889156499970342 iter num 40\n",
            "loss 0.17750588059425354 average time 0.015207339483329937 iter num 60\n",
            "loss 0.17887862026691437 average time 0.012366300774993988 iter num 80\n",
            "loss 0.14581334590911865 average time 0.010680599219995202 iter num 100\n",
            "loss 0.3354755938053131 average time 0.03775794600001063 iter num 20\n",
            "loss 0.22406432032585144 average time 0.02082629620000489 iter num 40\n",
            "loss 0.3105117082595825 average time 0.015194062383329765 iter num 60\n",
            "loss 0.07044895738363266 average time 0.0123661824374949 iter num 80\n",
            "loss 0.078715480864048 average time 0.01068578529998831 iter num 100\n",
            "loss 0.9892508387565613 average time 0.038029009400065664 iter num 20\n",
            "loss 0.20729641616344452 average time 0.020973771025057885 iter num 40\n",
            "loss 0.10185135900974274 average time 0.015280277466710382 iter num 60\n",
            "loss 0.14178407192230225 average time 0.012428900000026033 iter num 80\n",
            "loss 0.1818317025899887 average time 0.01072999602001346 iter num 100\n",
            "loss 0.1933964341878891 average time 0.037990046350046214 iter num 20\n",
            "loss 0.19980987906455994 average time 0.020931432800045967 iter num 40\n",
            "loss 0.19596931338310242 average time 0.01532290501669801 iter num 60\n",
            "loss 0.11843431740999222 average time 0.012458223037521065 iter num 80\n",
            "loss 0.10799205303192139 average time 0.010793189550008719 iter num 100\n",
            "loss 0.8610724210739136 average time 0.03790770695002266 iter num 20\n",
            "loss 0.1713021695613861 average time 0.020931926100013244 iter num 40\n",
            "loss 0.0989624559879303 average time 0.015278767266681825 iter num 60\n",
            "loss 0.07584253698587418 average time 0.012461293862509137 iter num 80\n",
            "loss 0.12225274741649628 average time 0.010746747950001918 iter num 100\n",
            "loss 0.47040218114852905 average time 0.037177815050063144 iter num 20\n",
            "loss 0.4145258069038391 average time 0.02054933582501235 iter num 40\n",
            "loss 0.28695130348205566 average time 0.015064158399998936 iter num 60\n",
            "loss 0.25318533182144165 average time 0.012278906337508033 iter num 80\n",
            "loss 0.16876205801963806 average time 0.01060239034000915 iter num 100\n",
            "loss 3.0992050170898438 average time 0.03727123860003303 iter num 20\n",
            "loss 2.309605598449707 average time 0.020612921750023362 iter num 40\n",
            "loss 0.2930719256401062 average time 0.015092092233339826 iter num 60\n",
            "loss 0.17838594317436218 average time 0.012285244750012225 iter num 80\n",
            "loss 0.10527238249778748 average time 0.010626899520011647 iter num 100\n",
            "loss 0.21039941906929016 average time 0.0372386155499953 iter num 20\n",
            "loss 0.21027657389640808 average time 0.020595903650007585 iter num 40\n",
            "loss 0.12325304746627808 average time 0.01509104641666757 iter num 60\n",
            "loss 0.10812094807624817 average time 0.012287674712507624 iter num 80\n",
            "loss 0.05896642431616783 average time 0.010605481470001905 iter num 100\n",
            "loss 0.1990300416946411 average time 0.037611512850003234 iter num 20\n",
            "loss 0.4420790374279022 average time 0.020788239275032084 iter num 40\n",
            "loss 0.14656050503253937 average time 0.015203031416687433 iter num 60\n",
            "loss 0.14186930656433105 average time 0.012384174962511452 iter num 80\n",
            "loss 0.1020740270614624 average time 0.010788465030000225 iter num 100\n",
            "loss 0.29735010862350464 average time 0.037568931199984945 iter num 20\n",
            "loss 0.4088895916938782 average time 0.02083603047501583 iter num 40\n",
            "loss 0.25457221269607544 average time 0.015212540466677638 iter num 60\n",
            "loss 0.11011656373739243 average time 0.012429325750014186 iter num 80\n",
            "loss 0.13117274641990662 average time 0.010738100760004272 iter num 100\n",
            "loss 0.2795448899269104 average time 0.03799439784995684 iter num 20\n",
            "loss 0.19583706557750702 average time 0.020944016524981634 iter num 40\n",
            "loss 0.10446880757808685 average time 0.015254900716672636 iter num 60\n",
            "loss 0.2690734565258026 average time 0.012432307087493655 iter num 80\n",
            "loss 0.11340609192848206 average time 0.01075913284998478 iter num 100\n",
            "loss 0.6098721623420715 average time 0.037981764000005566 iter num 20\n",
            "loss 0.2942025363445282 average time 0.020931293074977476 iter num 40\n",
            "loss 0.059585314244031906 average time 0.015240634499991756 iter num 60\n",
            "loss 0.07065431028604507 average time 0.012417815687490475 iter num 80\n",
            "loss 0.09742488712072372 average time 0.01073223768999469 iter num 100\n",
            "loss 0.2014887034893036 average time 0.0379932497499567 iter num 20\n",
            "loss 0.3950330317020416 average time 0.02094132354998237 iter num 40\n",
            "loss 0.16565454006195068 average time 0.015260009049999705 iter num 60\n",
            "loss 0.13632293045520782 average time 0.01248497501249517 iter num 80\n",
            "loss 0.20398136973381042 average time 0.010780105970006844 iter num 100\n",
            "loss 1.11930513381958 average time 0.037417737200075865 iter num 20\n",
            "loss 0.4664555788040161 average time 0.02068094440001005 iter num 40\n",
            "loss 0.16245321929454803 average time 0.0151111305833183 iter num 60\n",
            "loss 0.10415187478065491 average time 0.012337009437482038 iter num 80\n",
            "loss 0.10105836391448975 average time 0.010686383649986055 iter num 100\n",
            "loss 0.344957172870636 average time 0.03770480314994984 iter num 20\n",
            "loss 0.1799316555261612 average time 0.020852811924953585 iter num 40\n",
            "loss 0.199371799826622 average time 0.015230870833291495 iter num 60\n",
            "loss 0.20491920411586761 average time 0.012402257474980161 iter num 80\n",
            "loss 0.18297341465950012 average time 0.010715216659987164 iter num 100\n",
            "loss 0.5169787406921387 average time 0.03731943319999118 iter num 20\n",
            "loss 0.7122503519058228 average time 0.02064267970004039 iter num 40\n",
            "loss 0.11699248105287552 average time 0.015080042350041368 iter num 60\n",
            "loss 0.1263188272714615 average time 0.01227670853755285 iter num 80\n",
            "loss 0.11791844666004181 average time 0.01059434648005208 iter num 100\n",
            "loss 1.304529070854187 average time 0.03741963085005864 iter num 20\n",
            "loss 0.10566753149032593 average time 0.020716271900050744 iter num 40\n",
            "loss 0.18451321125030518 average time 0.01510052333336868 iter num 60\n",
            "loss 0.167230024933815 average time 0.01229299452502346 iter num 80\n",
            "loss 0.06112690269947052 average time 0.010608940550018814 iter num 100\n",
            "loss 0.4613475203514099 average time 0.03787008850003985 iter num 20\n",
            "loss 0.38448283076286316 average time 0.02090438120002318 iter num 40\n",
            "loss 0.25942593812942505 average time 0.01522626728334823 iter num 60\n",
            "loss 0.17455515265464783 average time 0.012408214550004005 iter num 80\n",
            "loss 0.10492099821567535 average time 0.010699701100006677 iter num 100\n",
            "loss 0.13241907954216003 average time 0.03785972865000531 iter num 20\n",
            "loss 0.1421205699443817 average time 0.020940056774963977 iter num 40\n",
            "loss 0.07139244675636292 average time 0.015313120649921075 iter num 60\n",
            "loss 0.08573545515537262 average time 0.012457083137456948 iter num 80\n",
            "loss 0.05877872556447983 average time 0.010758354339973266 iter num 100\n",
            "loss 0.2101290225982666 average time 0.038083735999953204 iter num 20\n",
            "loss 0.12310461699962616 average time 0.021060077849983826 iter num 40\n",
            "loss 0.12348741292953491 average time 0.015456068933326605 iter num 60\n",
            "loss 0.24149683117866516 average time 0.012597440799981995 iter num 80\n",
            "loss 0.13469664752483368 average time 0.01085152878997178 iter num 100\n",
            "loss 0.08521819114685059 average time 0.03719601455018164 iter num 20\n",
            "loss 0.7519690990447998 average time 0.02053498787506669 iter num 40\n",
            "loss 0.18539822101593018 average time 0.015029803200089493 iter num 60\n",
            "loss 0.08832594752311707 average time 0.012266271487555968 iter num 80\n",
            "loss 0.10502685606479645 average time 0.010611132560061378 iter num 100\n",
            "loss 0.36141249537467957 average time 0.03745676269995783 iter num 20\n",
            "loss 0.23376744985580444 average time 0.02068868717494752 iter num 40\n",
            "loss 0.21909143030643463 average time 0.015112567316631005 iter num 60\n",
            "loss 0.05330049246549606 average time 0.012325706587500918 iter num 80\n",
            "loss 0.04649614542722702 average time 0.010645803310017072 iter num 100\n",
            "loss 0.896474301815033 average time 0.0373956682500193 iter num 20\n",
            "loss 0.4758855700492859 average time 0.020776646325043658 iter num 40\n",
            "loss 0.12509572505950928 average time 0.01518650570005775 iter num 60\n",
            "loss 0.08602310717105865 average time 0.012386194425062058 iter num 80\n",
            "loss 0.10975496470928192 average time 0.010692564400069387 iter num 100\n",
            "loss 0.09054752439260483 average time 0.037461192499949905 iter num 20\n",
            "loss 0.09182646125555038 average time 0.02067951114995594 iter num 40\n",
            "loss 0.12640595436096191 average time 0.015126029849958892 iter num 60\n",
            "loss 0.09843379259109497 average time 0.012318946524965213 iter num 80\n",
            "loss 0.08816543221473694 average time 0.010654128039968782 iter num 100\n",
            "loss 0.10605290532112122 average time 0.037949185900015434 iter num 20\n",
            "loss 0.1535901129245758 average time 0.02089548252504301 iter num 40\n",
            "loss 0.07857009768486023 average time 0.015234614650050085 iter num 60\n",
            "loss 0.09089218825101852 average time 0.012397614725045969 iter num 80\n",
            "loss 0.1244320273399353 average time 0.01071027403003427 iter num 100\n",
            "loss 0.09094110131263733 average time 0.038232873450033365 iter num 20\n",
            "loss 0.46808362007141113 average time 0.021069177050048894 iter num 40\n",
            "loss 0.08759741485118866 average time 0.015334397700022843 iter num 60\n",
            "loss 0.09826518595218658 average time 0.012481127587511765 iter num 80\n",
            "loss 0.13267046213150024 average time 0.010787612770009218 iter num 100\n",
            "loss 0.37253475189208984 average time 0.03788690450001013 iter num 20\n",
            "loss 0.14181959629058838 average time 0.020868680525018134 iter num 40\n",
            "loss 0.2384800910949707 average time 0.015217800816708404 iter num 60\n",
            "loss 0.07403586059808731 average time 0.012416271412541846 iter num 80\n",
            "loss 0.11824890971183777 average time 0.010730550200059951 iter num 100\n",
            "loss 0.5969273447990417 average time 0.03795096954995643 iter num 20\n",
            "loss 0.2457883059978485 average time 0.020972546299958594 iter num 40\n",
            "loss 0.2714393138885498 average time 0.015268179416655888 iter num 60\n",
            "loss 0.057428207248449326 average time 0.012429732525004056 iter num 80\n",
            "loss 0.07936184108257294 average time 0.01074605497000448 iter num 100\n",
            "loss 0.0954015925526619 average time 0.037906954099980794 iter num 20\n",
            "loss 0.2090233564376831 average time 0.02088455315001738 iter num 40\n",
            "loss 0.476837694644928 average time 0.01521282964998439 iter num 60\n",
            "loss 0.09209121763706207 average time 0.012393686137500026 iter num 80\n",
            "loss 0.07732506096363068 average time 0.01071824095998636 iter num 100\n",
            "loss 0.14553269743919373 average time 0.03802046450018679 iter num 20\n",
            "loss 0.1747833788394928 average time 0.02099963017508344 iter num 40\n",
            "loss 0.15607039630413055 average time 0.015334755816744898 iter num 60\n",
            "loss 0.09886789321899414 average time 0.01249290152507001 iter num 80\n",
            "loss 0.05068200081586838 average time 0.010766948780074018 iter num 100\n",
            "loss 0.3231799900531769 average time 0.03740042504982739 iter num 20\n",
            "loss 0.9039533138275146 average time 0.02069621609994101 iter num 40\n",
            "loss 0.07141362875699997 average time 0.015106521616598912 iter num 60\n",
            "loss 0.07680900394916534 average time 0.012298782949949327 iter num 80\n",
            "loss 0.06815493851900101 average time 0.010628239079969716 iter num 100\n",
            "loss 0.23712891340255737 average time 0.03709566024995183 iter num 20\n",
            "loss 0.16081982851028442 average time 0.020573314525040586 iter num 40\n",
            "loss 0.06520640105009079 average time 0.01505199815001106 iter num 60\n",
            "loss 0.04333268851041794 average time 0.012276845312510432 iter num 80\n",
            "loss 0.09140175580978394 average time 0.010601064590036912 iter num 100\n",
            "loss 0.05047806724905968 average time 0.03723073455007579 iter num 20\n",
            "loss 0.22604195773601532 average time 0.02064257460006047 iter num 40\n",
            "loss 0.09934419393539429 average time 0.015068077183362524 iter num 60\n",
            "loss 0.08874538540840149 average time 0.012269790887546605 iter num 80\n",
            "loss 0.0728144645690918 average time 0.010591707920038971 iter num 100\n",
            "loss 0.18928854167461395 average time 0.037455114650038014 iter num 20\n",
            "loss 0.16029055416584015 average time 0.020703897199973655 iter num 40\n",
            "loss 0.04733749479055405 average time 0.015119550549979977 iter num 60\n",
            "loss 0.10306022316217422 average time 0.012343508549963644 iter num 80\n",
            "loss 0.06739859282970428 average time 0.01069567079999615 iter num 100\n",
            "loss 0.06303135305643082 average time 0.037369847750005646 iter num 20\n",
            "loss 0.2521604597568512 average time 0.020650235399966733 iter num 40\n",
            "loss 0.09997835755348206 average time 0.01507003433330283 iter num 60\n",
            "loss 0.10114443302154541 average time 0.012306312399960006 iter num 80\n",
            "loss 0.048742182552814484 average time 0.010632182099971032 iter num 100\n",
            "loss 1.6750998497009277 average time 0.037291650000042864 iter num 20\n",
            "loss 0.7539210319519043 average time 0.020574889049908052 iter num 40\n",
            "loss 0.10656075179576874 average time 0.0150170179332387 iter num 60\n",
            "loss 0.22613525390625 average time 0.012269804899904101 iter num 80\n",
            "loss 0.07631564140319824 average time 0.010597414169915283 iter num 100\n",
            "loss 0.7088522911071777 average time 0.03745529760021782 iter num 20\n",
            "loss 0.3342534899711609 average time 0.02069204155013722 iter num 40\n",
            "loss 0.09857219457626343 average time 0.015097661050049282 iter num 60\n",
            "loss 0.11080373823642731 average time 0.01236319582503711 iter num 80\n",
            "loss 0.07697634398937225 average time 0.01066272743002628 iter num 100\n",
            "loss 0.20891974866390228 average time 0.03748651965006502 iter num 20\n",
            "loss 0.12405934184789658 average time 0.02067257365004025 iter num 40\n",
            "loss 0.20181617140769958 average time 0.015096345649984263 iter num 60\n",
            "loss 0.0660490095615387 average time 0.012340739862474947 iter num 80\n",
            "loss 0.07645656168460846 average time 0.010660987420005768 iter num 100\n",
            "loss 0.19292223453521729 average time 0.03792021195013149 iter num 20\n",
            "loss 0.07298114895820618 average time 0.020929567000030146 iter num 40\n",
            "loss 0.10578472912311554 average time 0.01523837035000118 iter num 60\n",
            "loss 0.0636633113026619 average time 0.012394252199953826 iter num 80\n",
            "loss 0.08967555314302444 average time 0.010702689919935438 iter num 100\n",
            "loss 0.13646335899829865 average time 0.03849121394996473 iter num 20\n",
            "loss 0.08643904328346252 average time 0.021194998875012062 iter num 40\n",
            "loss 0.06446205079555511 average time 0.015416375583345143 iter num 60\n",
            "loss 0.07534456253051758 average time 0.012529220325018287 iter num 80\n",
            "loss 0.10574254393577576 average time 0.010803186080011073 iter num 100\n",
            "loss 0.41435784101486206 average time 0.03788899925002624 iter num 20\n",
            "loss 0.16709336638450623 average time 0.020907984499945086 iter num 40\n",
            "loss 0.1311243623495102 average time 0.015234281699940766 iter num 60\n",
            "loss 0.10278166085481644 average time 0.012408274587448887 iter num 80\n",
            "loss 0.06359300762414932 average time 0.01072056357998008 iter num 100\n",
            "loss 0.3586575984954834 average time 0.038092191100122366 iter num 20\n",
            "loss 1.156617522239685 average time 0.020996502675097874 iter num 40\n",
            "loss 0.3890751004219055 average time 0.01529137393340534 iter num 60\n",
            "loss 0.1014125719666481 average time 0.012434508100056973 iter num 80\n",
            "loss 0.10901457071304321 average time 0.010745416030031265 iter num 100\n",
            "loss 0.11686408519744873 average time 0.03801229950013294 iter num 20\n",
            "loss 0.12289668619632721 average time 0.020948176499996408 iter num 40\n",
            "loss 0.1723441481590271 average time 0.015251551083292725 iter num 60\n",
            "loss 0.09945098310709 average time 0.012484246237465867 iter num 80\n",
            "loss 0.12272030115127563 average time 0.010782216289971985 iter num 100\n",
            "loss 0.1147158145904541 average time 0.03818933990005462 iter num 20\n",
            "loss 0.2655976116657257 average time 0.0210517775500648 iter num 40\n",
            "loss 0.4650600552558899 average time 0.015378997983422476 iter num 60\n",
            "loss 0.33954930305480957 average time 0.01250711807508651 iter num 80\n",
            "loss 0.0784405842423439 average time 0.010775862910095383 iter num 100\n",
            "loss 0.13033708930015564 average time 0.03755491425008586 iter num 20\n",
            "loss 0.1533699631690979 average time 0.020723862475074385 iter num 40\n",
            "loss 0.11437952518463135 average time 0.015130920416716738 iter num 60\n",
            "loss 0.07266375422477722 average time 0.012320179287542032 iter num 80\n",
            "loss 0.08549585938453674 average time 0.010627219020043412 iter num 100\n",
            "loss 0.5593066215515137 average time 0.03737383854995642 iter num 20\n",
            "loss 0.30971550941467285 average time 0.020643413249945296 iter num 40\n",
            "loss 0.18489545583724976 average time 0.015156172383270435 iter num 60\n",
            "loss 0.04683588072657585 average time 0.012352694837420585 iter num 80\n",
            "loss 0.06026215851306915 average time 0.010681036129944914 iter num 100\n",
            "loss 1.8078022003173828 average time 0.03748504065001725 iter num 20\n",
            "loss 0.7352743148803711 average time 0.020714129324960594 iter num 40\n",
            "loss 0.22010228037834167 average time 0.015137310166680133 iter num 60\n",
            "loss 0.09879687428474426 average time 0.012318732199992155 iter num 80\n",
            "loss 0.047467105090618134 average time 0.010633997750001073 iter num 100\n",
            "loss 0.25231367349624634 average time 0.03758717745008653 iter num 20\n",
            "loss 0.2026611715555191 average time 0.02082373257501331 iter num 40\n",
            "loss 0.3870156407356262 average time 0.015268934933343796 iter num 60\n",
            "loss 0.04686938598752022 average time 0.01251764630000025 iter num 80\n",
            "loss 0.07398161292076111 average time 0.01082094279001467 iter num 100\n",
            "loss 1.0088708400726318 average time 0.037870761800013496 iter num 20\n",
            "loss 3.260103702545166 average time 0.02093458277490754 iter num 40\n",
            "loss 0.39377427101135254 average time 0.015247192983269996 iter num 60\n",
            "loss 0.3631269335746765 average time 0.012445404374932422 iter num 80\n",
            "loss 0.5195358991622925 average time 0.010754545879945 iter num 100\n",
            "loss 0.2474697232246399 average time 0.03811392120001074 iter num 20\n",
            "loss 0.09036492556333542 average time 0.021009029700007887 iter num 40\n",
            "loss 0.13186264038085938 average time 0.015335261500013075 iter num 60\n",
            "loss 0.04639545828104019 average time 0.01250207588751664 iter num 80\n",
            "loss 0.07232006639242172 average time 0.010812879390023226 iter num 100\n",
            "loss 0.11761941760778427 average time 0.03825895799996033 iter num 20\n",
            "loss 0.29467692971229553 average time 0.021071018849943356 iter num 40\n",
            "loss 0.0747193992137909 average time 0.015404400233304234 iter num 60\n",
            "loss 0.11844202131032944 average time 0.012559351549964504 iter num 80\n",
            "loss 0.11390838027000427 average time 0.010840908049976861 iter num 100\n",
            "loss 0.3894311189651489 average time 0.03743697264994807 iter num 20\n",
            "loss 0.1052507609128952 average time 0.020665381749972768 iter num 40\n",
            "loss 0.2677665948867798 average time 0.015068929983332662 iter num 60\n",
            "loss 0.08443977683782578 average time 0.012319747299977734 iter num 80\n",
            "loss 0.07042451202869415 average time 0.010653020090012432 iter num 100\n",
            "loss 0.28818774223327637 average time 0.03723075135003455 iter num 20\n",
            "loss 0.12478417158126831 average time 0.020597220399986328 iter num 40\n",
            "loss 0.06940747052431107 average time 0.015032198583321587 iter num 60\n",
            "loss 0.046648986637592316 average time 0.012306120600044324 iter num 80\n",
            "loss 0.05482183396816254 average time 0.010636208210025871 iter num 100\n",
            "loss 0.07868225872516632 average time 0.0372281072000078 iter num 20\n",
            "loss 0.08589329570531845 average time 0.020604594125120456 iter num 40\n",
            "loss 0.10519944876432419 average time 0.01501753720005278 iter num 60\n",
            "loss 0.07963289320468903 average time 0.012224634687504477 iter num 80\n",
            "loss 0.05550670251250267 average time 0.010554876870028238 iter num 100\n",
            "loss 0.2998514771461487 average time 0.0372339709998414 iter num 20\n",
            "loss 0.11201687157154083 average time 0.02062060324997219 iter num 40\n",
            "loss 0.07443062216043472 average time 0.01503060714996233 iter num 60\n",
            "loss 0.05667746812105179 average time 0.01223708036249036 iter num 80\n",
            "loss 0.06277932971715927 average time 0.010588811469988286 iter num 100\n",
            "loss 0.13868899643421173 average time 0.03749188239999057 iter num 20\n",
            "loss 0.13910816609859467 average time 0.020758820874971207 iter num 40\n",
            "loss 0.05633193999528885 average time 0.015243250416627536 iter num 60\n",
            "loss 0.14276215434074402 average time 0.01238984506246652 iter num 80\n",
            "loss 0.0743418037891388 average time 0.010677996409967819 iter num 100\n",
            "loss 0.9766702651977539 average time 0.03806344100007664 iter num 20\n",
            "loss 0.7490421533584595 average time 0.02102053160010655 iter num 40\n",
            "loss 0.11714620888233185 average time 0.015392894450133098 iter num 60\n",
            "loss 0.07615333795547485 average time 0.012536922662582129 iter num 80\n",
            "loss 0.08944985270500183 average time 0.010810859730063384 iter num 100\n",
            "loss 0.15782956779003143 average time 0.03768634159996509 iter num 20\n",
            "loss 1.7380931377410889 average time 0.02081402297499153 iter num 40\n",
            "loss 0.2682703137397766 average time 0.015190488899997944 iter num 60\n",
            "loss 0.11259958893060684 average time 0.012404678962468552 iter num 80\n",
            "loss 0.08824039995670319 average time 0.010706048769970949 iter num 100\n",
            "loss 0.04705043509602547 average time 0.03756265859983614 iter num 20\n",
            "loss 0.1308838129043579 average time 0.020705262949877578 iter num 40\n",
            "loss 0.16242411732673645 average time 0.01514441548326128 iter num 60\n",
            "loss 0.055618301033973694 average time 0.012361973274948923 iter num 80\n",
            "loss 0.07986432313919067 average time 0.010669333859977996 iter num 100\n",
            "loss 0.19420072436332703 average time 0.037249781750142576 iter num 20\n",
            "loss 0.16133585572242737 average time 0.020595797625082922 iter num 40\n",
            "loss 0.17715606093406677 average time 0.015061163883365225 iter num 60\n",
            "loss 0.11074478924274445 average time 0.012286960500068745 iter num 80\n",
            "loss 0.08144823461771011 average time 0.010603359650076527 iter num 100\n",
            "loss 0.19016405940055847 average time 0.037290380899912635 iter num 20\n",
            "loss 0.06356334686279297 average time 0.020583302649947656 iter num 40\n",
            "loss 0.21100899577140808 average time 0.015036273516610283 iter num 60\n",
            "loss 0.0444352850317955 average time 0.012271296949950283 iter num 80\n",
            "loss 0.0882832258939743 average time 0.01063515189995087 iter num 100\n",
            "loss 0.10725218057632446 average time 0.037297893900131385 iter num 20\n",
            "loss 0.19120602309703827 average time 0.020810824425097962 iter num 40\n",
            "loss 0.09906384348869324 average time 0.01518819425006465 iter num 60\n",
            "loss 0.07314326614141464 average time 0.012371605375051331 iter num 80\n",
            "loss 0.06296750903129578 average time 0.010681127310053853 iter num 100\n",
            "loss 1.8480660915374756 average time 0.037365803999909984 iter num 20\n",
            "loss 0.2186557501554489 average time 0.020658901674983098 iter num 40\n",
            "loss 0.20381467044353485 average time 0.015095542483322788 iter num 60\n",
            "loss 0.11342646181583405 average time 0.012307810687480015 iter num 80\n",
            "loss 0.0470803827047348 average time 0.010646818849982082 iter num 100\n",
            "loss 0.14556477963924408 average time 0.03807710494993444 iter num 20\n",
            "loss 0.06846258789300919 average time 0.02098938172500766 iter num 40\n",
            "loss 0.13639603555202484 average time 0.015301408233350836 iter num 60\n",
            "loss 0.083708256483078 average time 0.012450449412517628 iter num 80\n",
            "loss 0.05039946734905243 average time 0.010876627660027225 iter num 100\n",
            "loss 0.09081929922103882 average time 0.03811170849999144 iter num 20\n",
            "loss 0.08641941100358963 average time 0.02098351277504662 iter num 40\n",
            "loss 0.05733419582247734 average time 0.015278000566695482 iter num 60\n",
            "loss 0.07437128573656082 average time 0.012430353162540087 iter num 80\n",
            "loss 0.054409220814704895 average time 0.01073626603003504 iter num 100\n",
            "loss 0.1290789097547531 average time 0.03817854505000469 iter num 20\n",
            "loss 0.2412904053926468 average time 0.021017876199994134 iter num 40\n",
            "loss 0.10724879801273346 average time 0.015297356833328498 iter num 60\n",
            "loss 0.08193231374025345 average time 0.012462468037529106 iter num 80\n",
            "loss 0.027765003964304924 average time 0.010772580760003621 iter num 100\n",
            "loss 1.13511323928833 average time 0.037837936950018046 iter num 20\n",
            "loss 0.16361626982688904 average time 0.02085541035000915 iter num 40\n",
            "loss 0.0537593699991703 average time 0.015207124616639096 iter num 60\n",
            "loss 0.11776718497276306 average time 0.012394323587488997 iter num 80\n",
            "loss 0.06335411965847015 average time 0.010712358359996869 iter num 100\n",
            "loss 0.19220390915870667 average time 0.03807026865001717 iter num 20\n"
          ],
          "name": "stdout"
        },
        {
          "output_type": "stream",
          "text": [
            "Engine run is terminating due to exception: \n"
          ],
          "name": "stderr"
        },
        {
          "output_type": "error",
          "ename": "KeyboardInterrupt",
          "evalue": "ignored",
          "traceback": [
            "\u001b[0;31m---------------------------------------------------------------------------\u001b[0m",
            "\u001b[0;31mKeyboardInterrupt\u001b[0m                         Traceback (most recent call last)",
            "\u001b[0;32m<ipython-input-14-9fa1b4b78323>\u001b[0m in \u001b[0;36m<module>\u001b[0;34m()\u001b[0m\n\u001b[1;32m     43\u001b[0m         \u001b[0mprint\u001b[0m\u001b[0;34m(\u001b[0m\u001b[0;34m'loss'\u001b[0m\u001b[0;34m,\u001b[0m \u001b[0mengine\u001b[0m\u001b[0;34m.\u001b[0m\u001b[0mstate\u001b[0m\u001b[0;34m.\u001b[0m\u001b[0moutput\u001b[0m\u001b[0;34m,\u001b[0m \u001b[0;34m'average time'\u001b[0m\u001b[0;34m,\u001b[0m \u001b[0mtimer\u001b[0m\u001b[0;34m.\u001b[0m\u001b[0mvalue\u001b[0m\u001b[0;34m(\u001b[0m\u001b[0;34m)\u001b[0m\u001b[0;34m,\u001b[0m \u001b[0;34m'iter num'\u001b[0m\u001b[0;34m,\u001b[0m \u001b[0miter\u001b[0m\u001b[0;34m)\u001b[0m\u001b[0;34m\u001b[0m\u001b[0;34m\u001b[0m\u001b[0m\n\u001b[1;32m     44\u001b[0m \u001b[0;34m\u001b[0m\u001b[0m\n\u001b[0;32m---> 45\u001b[0;31m \u001b[0mtrainer\u001b[0m\u001b[0;34m.\u001b[0m\u001b[0mrun\u001b[0m\u001b[0;34m(\u001b[0m\u001b[0mdataset\u001b[0m\u001b[0;34m,\u001b[0m \u001b[0mmax_epochs\u001b[0m \u001b[0;34m=\u001b[0m \u001b[0;36m100\u001b[0m\u001b[0;34m)\u001b[0m\u001b[0;34m\u001b[0m\u001b[0;34m\u001b[0m\u001b[0m\n\u001b[0m",
            "\u001b[0;32m/usr/local/lib/python3.7/dist-packages/ignite/engine/engine.py\u001b[0m in \u001b[0;36mrun\u001b[0;34m(self, data, max_epochs, epoch_length, seed)\u001b[0m\n\u001b[1;32m    699\u001b[0m \u001b[0;34m\u001b[0m\u001b[0m\n\u001b[1;32m    700\u001b[0m         \u001b[0mself\u001b[0m\u001b[0;34m.\u001b[0m\u001b[0mstate\u001b[0m\u001b[0;34m.\u001b[0m\u001b[0mdataloader\u001b[0m \u001b[0;34m=\u001b[0m \u001b[0mdata\u001b[0m\u001b[0;34m\u001b[0m\u001b[0;34m\u001b[0m\u001b[0m\n\u001b[0;32m--> 701\u001b[0;31m         \u001b[0;32mreturn\u001b[0m \u001b[0mself\u001b[0m\u001b[0;34m.\u001b[0m\u001b[0m_internal_run\u001b[0m\u001b[0;34m(\u001b[0m\u001b[0;34m)\u001b[0m\u001b[0;34m\u001b[0m\u001b[0;34m\u001b[0m\u001b[0m\n\u001b[0m\u001b[1;32m    702\u001b[0m \u001b[0;34m\u001b[0m\u001b[0m\n\u001b[1;32m    703\u001b[0m     \u001b[0;34m@\u001b[0m\u001b[0mstaticmethod\u001b[0m\u001b[0;34m\u001b[0m\u001b[0;34m\u001b[0m\u001b[0m\n",
            "\u001b[0;32m/usr/local/lib/python3.7/dist-packages/ignite/engine/engine.py\u001b[0m in \u001b[0;36m_internal_run\u001b[0;34m(self)\u001b[0m\n\u001b[1;32m    772\u001b[0m             \u001b[0mself\u001b[0m\u001b[0;34m.\u001b[0m\u001b[0m_dataloader_iter\u001b[0m \u001b[0;34m=\u001b[0m \u001b[0;32mNone\u001b[0m\u001b[0;34m\u001b[0m\u001b[0;34m\u001b[0m\u001b[0m\n\u001b[1;32m    773\u001b[0m             \u001b[0mself\u001b[0m\u001b[0;34m.\u001b[0m\u001b[0mlogger\u001b[0m\u001b[0;34m.\u001b[0m\u001b[0merror\u001b[0m\u001b[0;34m(\u001b[0m\u001b[0;34mf\"Engine run is terminating due to exception: {e}\"\u001b[0m\u001b[0;34m)\u001b[0m\u001b[0;34m\u001b[0m\u001b[0;34m\u001b[0m\u001b[0m\n\u001b[0;32m--> 774\u001b[0;31m             \u001b[0mself\u001b[0m\u001b[0;34m.\u001b[0m\u001b[0m_handle_exception\u001b[0m\u001b[0;34m(\u001b[0m\u001b[0me\u001b[0m\u001b[0;34m)\u001b[0m\u001b[0;34m\u001b[0m\u001b[0;34m\u001b[0m\u001b[0m\n\u001b[0m\u001b[1;32m    775\u001b[0m \u001b[0;34m\u001b[0m\u001b[0m\n\u001b[1;32m    776\u001b[0m         \u001b[0mself\u001b[0m\u001b[0;34m.\u001b[0m\u001b[0m_dataloader_iter\u001b[0m \u001b[0;34m=\u001b[0m \u001b[0;32mNone\u001b[0m\u001b[0;34m\u001b[0m\u001b[0;34m\u001b[0m\u001b[0m\n",
            "\u001b[0;32m/usr/local/lib/python3.7/dist-packages/ignite/engine/engine.py\u001b[0m in \u001b[0;36m_handle_exception\u001b[0;34m(self, e)\u001b[0m\n\u001b[1;32m    467\u001b[0m             \u001b[0mself\u001b[0m\u001b[0;34m.\u001b[0m\u001b[0m_fire_event\u001b[0m\u001b[0;34m(\u001b[0m\u001b[0mEvents\u001b[0m\u001b[0;34m.\u001b[0m\u001b[0mEXCEPTION_RAISED\u001b[0m\u001b[0;34m,\u001b[0m \u001b[0me\u001b[0m\u001b[0;34m)\u001b[0m\u001b[0;34m\u001b[0m\u001b[0;34m\u001b[0m\u001b[0m\n\u001b[1;32m    468\u001b[0m         \u001b[0;32melse\u001b[0m\u001b[0;34m:\u001b[0m\u001b[0;34m\u001b[0m\u001b[0;34m\u001b[0m\u001b[0m\n\u001b[0;32m--> 469\u001b[0;31m             \u001b[0;32mraise\u001b[0m \u001b[0me\u001b[0m\u001b[0;34m\u001b[0m\u001b[0;34m\u001b[0m\u001b[0m\n\u001b[0m\u001b[1;32m    470\u001b[0m \u001b[0;34m\u001b[0m\u001b[0m\n\u001b[1;32m    471\u001b[0m     \u001b[0;34m@\u001b[0m\u001b[0mproperty\u001b[0m\u001b[0;34m\u001b[0m\u001b[0;34m\u001b[0m\u001b[0m\n",
            "\u001b[0;32m/usr/local/lib/python3.7/dist-packages/ignite/engine/engine.py\u001b[0m in \u001b[0;36m_internal_run\u001b[0;34m(self)\u001b[0m\n\u001b[1;32m    742\u001b[0m                     \u001b[0mself\u001b[0m\u001b[0;34m.\u001b[0m\u001b[0m_setup_engine\u001b[0m\u001b[0;34m(\u001b[0m\u001b[0;34m)\u001b[0m\u001b[0;34m\u001b[0m\u001b[0;34m\u001b[0m\u001b[0m\n\u001b[1;32m    743\u001b[0m \u001b[0;34m\u001b[0m\u001b[0m\n\u001b[0;32m--> 744\u001b[0;31m                 \u001b[0mtime_taken\u001b[0m \u001b[0;34m=\u001b[0m \u001b[0mself\u001b[0m\u001b[0;34m.\u001b[0m\u001b[0m_run_once_on_dataset\u001b[0m\u001b[0;34m(\u001b[0m\u001b[0;34m)\u001b[0m\u001b[0;34m\u001b[0m\u001b[0;34m\u001b[0m\u001b[0m\n\u001b[0m\u001b[1;32m    745\u001b[0m                 \u001b[0;31m# time is available for handlers but must be update after fire\u001b[0m\u001b[0;34m\u001b[0m\u001b[0;34m\u001b[0m\u001b[0;34m\u001b[0m\u001b[0m\n\u001b[1;32m    746\u001b[0m                 \u001b[0mself\u001b[0m\u001b[0;34m.\u001b[0m\u001b[0mstate\u001b[0m\u001b[0;34m.\u001b[0m\u001b[0mtimes\u001b[0m\u001b[0;34m[\u001b[0m\u001b[0mEvents\u001b[0m\u001b[0;34m.\u001b[0m\u001b[0mEPOCH_COMPLETED\u001b[0m\u001b[0;34m.\u001b[0m\u001b[0mname\u001b[0m\u001b[0;34m]\u001b[0m \u001b[0;34m=\u001b[0m \u001b[0mtime_taken\u001b[0m\u001b[0;34m\u001b[0m\u001b[0;34m\u001b[0m\u001b[0m\n",
            "\u001b[0;32m/usr/local/lib/python3.7/dist-packages/ignite/engine/engine.py\u001b[0m in \u001b[0;36m_run_once_on_dataset\u001b[0;34m(self)\u001b[0m\n\u001b[1;32m    799\u001b[0m                     \u001b[0;32mif\u001b[0m \u001b[0mself\u001b[0m\u001b[0;34m.\u001b[0m\u001b[0mlast_event_name\u001b[0m \u001b[0;34m!=\u001b[0m \u001b[0mEvents\u001b[0m\u001b[0;34m.\u001b[0m\u001b[0mDATALOADER_STOP_ITERATION\u001b[0m\u001b[0;34m:\u001b[0m\u001b[0;34m\u001b[0m\u001b[0;34m\u001b[0m\u001b[0m\n\u001b[1;32m    800\u001b[0m                         \u001b[0mself\u001b[0m\u001b[0;34m.\u001b[0m\u001b[0m_fire_event\u001b[0m\u001b[0;34m(\u001b[0m\u001b[0mEvents\u001b[0m\u001b[0;34m.\u001b[0m\u001b[0mGET_BATCH_STARTED\u001b[0m\u001b[0;34m)\u001b[0m\u001b[0;34m\u001b[0m\u001b[0;34m\u001b[0m\u001b[0m\n\u001b[0;32m--> 801\u001b[0;31m                     \u001b[0mself\u001b[0m\u001b[0;34m.\u001b[0m\u001b[0mstate\u001b[0m\u001b[0;34m.\u001b[0m\u001b[0mbatch\u001b[0m \u001b[0;34m=\u001b[0m \u001b[0mnext\u001b[0m\u001b[0;34m(\u001b[0m\u001b[0mself\u001b[0m\u001b[0;34m.\u001b[0m\u001b[0m_dataloader_iter\u001b[0m\u001b[0;34m)\u001b[0m\u001b[0;34m\u001b[0m\u001b[0;34m\u001b[0m\u001b[0m\n\u001b[0m\u001b[1;32m    802\u001b[0m                     \u001b[0mself\u001b[0m\u001b[0;34m.\u001b[0m\u001b[0m_fire_event\u001b[0m\u001b[0;34m(\u001b[0m\u001b[0mEvents\u001b[0m\u001b[0;34m.\u001b[0m\u001b[0mGET_BATCH_COMPLETED\u001b[0m\u001b[0;34m)\u001b[0m\u001b[0;34m\u001b[0m\u001b[0;34m\u001b[0m\u001b[0m\n\u001b[1;32m    803\u001b[0m                     \u001b[0miter_counter\u001b[0m \u001b[0;34m+=\u001b[0m \u001b[0;36m1\u001b[0m\u001b[0;34m\u001b[0m\u001b[0;34m\u001b[0m\u001b[0m\n",
            "\u001b[0;32m/content/cupy_dataset.py\u001b[0m in \u001b[0;36m__next__\u001b[0;34m(self)\u001b[0m\n\u001b[1;32m    129\u001b[0m \u001b[0;34m\u001b[0m\u001b[0m\n\u001b[1;32m    130\u001b[0m           \u001b[0mo\u001b[0m \u001b[0;34m=\u001b[0m \u001b[0mself\u001b[0m\u001b[0;34m.\u001b[0m\u001b[0moutput\u001b[0m\u001b[0;34m.\u001b[0m\u001b[0mreshape\u001b[0m\u001b[0;34m(\u001b[0m\u001b[0mself\u001b[0m\u001b[0;34m.\u001b[0m\u001b[0mN_STOCKS\u001b[0m\u001b[0;34m,\u001b[0m \u001b[0mself\u001b[0m\u001b[0;34m.\u001b[0m\u001b[0mN_PATHS\u001b[0m\u001b[0;34m)\u001b[0m \u001b[0;31m# this contains prices for each stock for each path at time T\u001b[0m\u001b[0;34m\u001b[0m\u001b[0;34m\u001b[0m\u001b[0m\n\u001b[0;32m--> 131\u001b[0;31m           \u001b[0mK\u001b[0m \u001b[0;34m=\u001b[0m \u001b[0mK_rand\u001b[0m \u001b[0;34m*\u001b[0m \u001b[0;36m150\u001b[0m\u001b[0;34m\u001b[0m\u001b[0;34m\u001b[0m\u001b[0m\n\u001b[0m\u001b[1;32m    132\u001b[0m           \u001b[0mr\u001b[0m \u001b[0;34m=\u001b[0m \u001b[0mr_rand\u001b[0m \u001b[0;34m*\u001b[0m \u001b[0;36m0.2\u001b[0m\u001b[0;34m\u001b[0m\u001b[0;34m\u001b[0m\u001b[0m\n\u001b[1;32m    133\u001b[0m           \u001b[0mo\u001b[0m \u001b[0;34m=\u001b[0m \u001b[0mo\u001b[0m\u001b[0;34m.\u001b[0m\u001b[0mmean\u001b[0m\u001b[0;34m(\u001b[0m\u001b[0maxis\u001b[0m \u001b[0;34m=\u001b[0m \u001b[0;36m0\u001b[0m\u001b[0;34m)\u001b[0m \u001b[0;31m# average across stocks end prices\u001b[0m\u001b[0;34m\u001b[0m\u001b[0;34m\u001b[0m\u001b[0m\n",
            "\u001b[0;32mcupy/_core/core.pyx\u001b[0m in \u001b[0;36mcupy._core.core.ndarray.__mul__\u001b[0;34m()\u001b[0m\n",
            "\u001b[0;32mcupy/_core/core.pyx\u001b[0m in \u001b[0;36mcupy._core.core.ndarray.__array_ufunc__\u001b[0;34m()\u001b[0m\n",
            "\u001b[0;32mcupy/_core/_kernel.pyx\u001b[0m in \u001b[0;36mcupy._core._kernel.ufunc.__call__\u001b[0;34m()\u001b[0m\n",
            "\u001b[0;32mcupy/_core/_kernel.pyx\u001b[0m in \u001b[0;36mcupy._core._kernel._Ops.guess_routine\u001b[0;34m()\u001b[0m\n",
            "\u001b[0;32mcupy/_core/_kernel.pyx\u001b[0m in \u001b[0;36mcupy._core._kernel._min_scalar_type\u001b[0;34m()\u001b[0m\n",
            "\u001b[0;32m<__array_function__ internals>\u001b[0m in \u001b[0;36mmin_scalar_type\u001b[0;34m(*args, **kwargs)\u001b[0m\n",
            "\u001b[0;31mKeyboardInterrupt\u001b[0m: "
          ]
        }
      ]
    },
    {
      "cell_type": "markdown",
      "metadata": {
        "id": "vU1EpGuInwjJ"
      },
      "source": [
        "$2365$ seconds The loss is keeping decreasing which means the pricing model can predict the option prices better. It takes about $12ms$ to compute one mini-batch in average, In the following sections, we will try to expore the full potentials of the GPU to accelerate the training."
      ]
    },
    {
      "cell_type": "markdown",
      "metadata": {
        "id": "A8McNtejRNFT"
      },
      "source": [
        "**Save Model**"
      ]
    },
    {
      "cell_type": "code",
      "metadata": {
        "id": "YRtOr1XIPOvF",
        "colab": {
          "base_uri": "https://localhost:8080/"
        },
        "outputId": "124c4c17-807e-472e-f7f8-9319686bfcf9"
      },
      "source": [
        "from google.colab import drive\n",
        "drive.mount('/content/drive')"
      ],
      "execution_count": null,
      "outputs": [
        {
          "output_type": "stream",
          "text": [
            "Drive already mounted at /content/drive; to attempt to forcibly remount, call drive.mount(\"/content/drive\", force_remount=True).\n"
          ],
          "name": "stdout"
        }
      ]
    },
    {
      "cell_type": "code",
      "metadata": {
        "id": "ndftly2yPEaM"
      },
      "source": [
        "import torch\n",
        "model_save_name = f'EuCall_{str(nstock)}.pth'\n",
        "path = F\"/content/drive/MyDrive/AFP Project/Lilian/{model_save_name}\" \n",
        "torch.save(model.state_dict(), path)"
      ],
      "execution_count": null,
      "outputs": []
    },
    {
      "cell_type": "markdown",
      "metadata": {
        "id": "y6DRO9K2RQoJ"
      },
      "source": [
        "**Load Model**"
      ]
    },
    {
      "cell_type": "code",
      "metadata": {
        "id": "HGXZSV_YRT8v",
        "colab": {
          "base_uri": "https://localhost:8080/"
        },
        "outputId": "5b31781f-3f8f-4dc3-873b-b8c99ed6e4ef"
      },
      "source": [
        "from google.colab import drive\n",
        "drive.mount('/content/drive')"
      ],
      "execution_count": null,
      "outputs": [
        {
          "output_type": "stream",
          "text": [
            "Drive already mounted at /content/drive; to attempt to forcibly remount, call drive.mount(\"/content/drive\", force_remount=True).\n"
          ],
          "name": "stdout"
        }
      ]
    },
    {
      "cell_type": "code",
      "metadata": {
        "id": "3ntY-N5bOqdq",
        "colab": {
          "base_uri": "https://localhost:8080/"
        },
        "outputId": "064beae8-8b9a-4ce2-e7ba-e620915dc911"
      },
      "source": [
        "import torch\n",
        "model_save_name = f'EuCall_{str(nstock)}.pth'\n",
        "path = F\"/content/drive/MyDrive/AFP Project/Lilian/{model_save_name}\" \n",
        "state_dict = torch.load(path)\n",
        "print(state_dict.keys())"
      ],
      "execution_count": null,
      "outputs": [
        {
          "output_type": "stream",
          "text": [
            "odict_keys(['norm', 'fc1.weight', 'fc1.bias', 'fc2.weight', 'fc2.bias', 'fc3.weight', 'fc3.bias', 'fc4.weight', 'fc4.bias', 'fc5.weight', 'fc5.bias', 'fc6.weight', 'fc6.bias'])\n"
          ],
          "name": "stdout"
        }
      ]
    },
    {
      "cell_type": "code",
      "metadata": {
        "id": "j0GAGPAgPmgh",
        "colab": {
          "base_uri": "https://localhost:8080/"
        },
        "outputId": "84e4c5bd-0af8-4870-bb9e-b718351362a0"
      },
      "source": [
        "# need to run 'Writing cupy_dataset.py' and 'Writing model.py' above before this\n",
        "from model import Net\n",
        "model = Net(nstock = nstock).cuda()\n",
        "\n",
        "model.load_state_dict(state_dict)\n",
        "print(model)"
      ],
      "execution_count": null,
      "outputs": [
        {
          "output_type": "stream",
          "text": [
            "Net(\n",
            "  (fc1): Linear(in_features=60, out_features=1024, bias=True)\n",
            "  (fc2): Linear(in_features=1024, out_features=1024, bias=True)\n",
            "  (fc3): Linear(in_features=1024, out_features=1024, bias=True)\n",
            "  (fc4): Linear(in_features=1024, out_features=1024, bias=True)\n",
            "  (fc5): Linear(in_features=1024, out_features=1024, bias=True)\n",
            "  (fc6): Linear(in_features=1024, out_features=1, bias=True)\n",
            ")\n"
          ],
          "name": "stdout"
        }
      ]
    },
    {
      "cell_type": "markdown",
      "metadata": {
        "id": "rXT4Bg0wdL7l"
      },
      "source": [
        "### Continue to train model"
      ]
    },
    {
      "cell_type": "code",
      "metadata": {
        "id": "Zfa9cp6CdG8T"
      },
      "source": [
        " from ignite.engine import Engine, Events\n",
        " from ignite.handlers import Timer\n",
        " from torch.nn import MSELoss\n",
        " from torch.optim import Adam\n",
        " from ignite.contrib.handlers.param_scheduler import CosineAnnealingScheduler\n",
        " from ignite.handlers import ModelCheckpoint\n",
        " from model import Net\n",
        " from cupy_dataset import NumbaOptionDataSet\n",
        " timer = Timer(average=True)\n",
        " model = Net().cuda()\n",
        " loss_fn = MSELoss()\n",
        " optimizer = Adam(model.parameters(), lr=1e-3)\n",
        " dataset = NumbaOptionDataSet(max_len=10000, number_path = 1024, batch=4800)\n",
        " dataset = NumbaOptionDataSet(max_len=500, number_path = 1024, batch=32, stocks=nstock)\n",
        "\n",
        " def train_update(engine, batch):\n",
        "     model.train()\n",
        "     optimizer.zero_grad()\n",
        "     x = batch[0]\n",
        "     y = batch[1]\n",
        "     y_pred = model(x)\n",
        "     loss = loss_fn(y_pred[:,0], y)\n",
        "     loss.backward()\n",
        "     optimizer.step()\n",
        "     return loss.item()\n",
        "\n",
        " trainer = Engine(train_update)\n",
        " log_interval = 20\n",
        "\n",
        " scheduler = CosineAnnealingScheduler(optimizer, 'lr', 1e-4, 1e-6, len(dataset))\n",
        " trainer.add_event_handler(Events.ITERATION_STARTED, scheduler)\n",
        " timer.attach(trainer,\n",
        "              start=Events.EPOCH_STARTED,\n",
        "              resume=Events.ITERATION_STARTED,\n",
        "              pause=Events.ITERATION_COMPLETED,\n",
        "              step=Events.ITERATION_COMPLETED)    \n",
        " @trainer.on(Events.ITERATION_COMPLETED)\n",
        " def log_training_loss(engine):\n",
        "     iter = (engine.state.iteration - 1) % len(dataset) + 1\n",
        "     if iter % log_interval == 0:\n",
        "         print('loss', engine.state.output, 'average time', timer.value(), 'iter num', iter)\n",
        "        \n",
        " trainer.run(dataset, max_epochs=20)\n",
        "\n",
        " model_save_name = 'checkpoint15.pth'\n",
        " path = F\"/content/drive/MyDrive/AFP Project/Lilian/{model_save_name}\" \n",
        " torch.save(model.state_dict(), path)"
      ],
      "execution_count": null,
      "outputs": []
    },
    {
      "cell_type": "markdown",
      "metadata": {
        "id": "ehmhDw8BUtLi"
      },
      "source": [
        "### Inference and Greeks"
      ]
    },
    {
      "cell_type": "markdown",
      "metadata": {
        "id": "Uiro43mOU0Ro"
      },
      "source": [
        "We can load the model parameters and use it to do inference"
      ]
    },
    {
      "cell_type": "code",
      "metadata": {
        "id": "svlu6tGTRx1F",
        "colab": {
          "base_uri": "https://localhost:8080/"
        },
        "outputId": "fa4e0764-c535-4180-c752-cd65481f5dbd"
      },
      "source": [
        "import torch\n",
        "\n",
        "inputs = torch.tensor([[1, 110.0, 110.0, 0.35, 0.1, 0.05] * nstock]).cuda()\n",
        "model(inputs.float())"
      ],
      "execution_count": null,
      "outputs": [
        {
          "output_type": "execute_result",
          "data": {
            "text/plain": [
              "tensor([[6.7574]], device='cuda:0', grad_fn=<AddmmBackward>)"
            ]
          },
          "metadata": {
            "tags": []
          },
          "execution_count": 20
        }
      ]
    },
    {
      "cell_type": "markdown",
      "metadata": {
        "id": "M1Iy-9pWVRDO"
      },
      "source": [
        "One of the benefits of building a deep learning model is that the [Greeks](<https://en.wikipedia.org/wiki/Greeks_(finance)#First-order_Greeks>) can be easily computed. \n",
        "We just need to take advantage of the auto-grad feature in Pytorch. We can use `grad` function to compute the first order differentiation for parameters 'K, B, S0, sigma, mu, r'"
      ]
    },
    {
      "cell_type": "code",
      "metadata": {
        "id": "ytBZaYHKSnDu",
        "colab": {
          "base_uri": "https://localhost:8080/"
        },
        "outputId": "9672f747-a067-4e28-c090-375e728b53b5"
      },
      "source": [
        "inputs = torch.tensor([[1, 110.0, 110.0, 0.35, 0.1, 0.05] * nstock]).cuda()\n",
        "inputs.requires_grad = True\n",
        "x = model(inputs.float())\n",
        "x.backward()\n",
        "first_order_gradient = inputs.grad\n",
        "first_order_gradient"
      ],
      "execution_count": null,
      "outputs": [
        {
          "output_type": "execute_result",
          "data": {
            "text/plain": [
              "tensor([[ -0.5717,  -0.0932,   0.0814,   0.0559,  -0.6545,  18.3645,   0.2759,\n",
              "          -0.0754,   0.0828,  -0.0519,  -0.7507,  14.1842,  -1.8373,  -0.0669,\n",
              "           0.0820,   0.5587,  -0.0468,   9.2629,  -0.5405,  -0.0695,   0.0804,\n",
              "           0.1436,  -1.0225,  -2.7266,  -0.5963,  -0.0833,   0.0817,   0.7110,\n",
              "          -0.3268,  11.0988,   1.2659,  -0.0770,   0.0816,   1.2729,   0.2053,\n",
              "          10.7046,  -1.0384,  -0.0664,   0.0820,   0.0839,   0.6279,  15.9660,\n",
              "           0.7930,  -0.0840,   0.0820,   0.5934,  -0.6128,  -1.5332,  -2.7720,\n",
              "          -0.0626,   0.0818,   0.5947,   0.6052,  11.0074,   0.5836,  -0.0818,\n",
              "           0.0818,   0.4838,  -0.7380, -12.9466]], device='cuda:0')"
            ]
          },
          "metadata": {
            "tags": []
          },
          "execution_count": 21
        }
      ]
    },
    {
      "cell_type": "markdown",
      "metadata": {
        "id": "8KeijaDDVZGd"
      },
      "source": [
        "Here we are going to plot the Delta graph:-"
      ]
    },
    {
      "cell_type": "markdown",
      "metadata": {
        "id": "skwgeVDsA_Mr"
      },
      "source": [
        "# Delta"
      ]
    },
    {
      "cell_type": "markdown",
      "metadata": {
        "id": "Bi_2Dqnx3_oP"
      },
      "source": [
        "#### Using gradient, Change only 1 S0 at a time"
      ]
    },
    {
      "cell_type": "code",
      "metadata": {
        "id": "USh3qaADSYQp"
      },
      "source": [
        "#### Using gradient, Change only 1 S0 at a time\n",
        "%matplotlib inline\n",
        "from torch.autograd import grad\n",
        "import pylab\n",
        "import numpy as np\n",
        "def compute_delta(S, ith):\n",
        "    inputs = torch.tensor([[1, 110.0, 110.0, 0.35, 0.1, 0.05]*(ith-1)\\\n",
        "                           + [1, 110.0, S, 0.35, 0.1, 0.05]\\\n",
        "                           + ([1, 110.0, 110.0, 0.35, 0.1, 0.05]*(nstock-ith))]).cuda()\n",
        "    inputs.requires_grad = True\n",
        "    x = model(inputs.float())\n",
        "    #x = model(inputs)\n",
        "    x.backward()\n",
        "    first_order_gradient = inputs.grad\n",
        "    return first_order_gradient[0][2]"
      ],
      "execution_count": null,
      "outputs": []
    },
    {
      "cell_type": "code",
      "metadata": {
        "colab": {
          "base_uri": "https://localhost:8080/",
          "height": 279
        },
        "id": "4MfZKJlv13SC",
        "outputId": "3d5523fc-24a7-4ad3-898e-467712e5fb2d"
      },
      "source": [
        "for i in range(1, nstock+1):\n",
        "  prices = np.arange(0, 150, 0.1)\n",
        "  deltas = []\n",
        "  for p in prices:\n",
        "      deltas.append(compute_delta(p, i).item())\n",
        "  fig = pylab.plot(prices, deltas, label = f'{i}th stock')\n",
        "  pylab.legend(loc = 'upper right')\n",
        "  pylab.xlabel('prices')\n",
        "  pylab.ylabel('Delta')\n",
        "  fig"
      ],
      "execution_count": null,
      "outputs": [
        {
          "output_type": "display_data",
          "data": {
            "image/png": "[encoded data removed]",
            "text/plain": [
              "<Figure size 432x288 with 1 Axes>"
            ]
          },
          "metadata": {
            "tags": [],
            "needs_background": "light"
          }
        }
      ]
    },
    {
      "cell_type": "markdown",
      "metadata": {
        "id": "iXixHQic35iI"
      },
      "source": [
        "#### Using Finite Difference, Change only 1 S0 at a time"
      ]
    },
    {
      "cell_type": "code",
      "metadata": {
        "colab": {
          "base_uri": "https://localhost:8080/",
          "height": 279
        },
        "id": "VGk5Hw64fMdh",
        "outputId": "fdb1ad77-dfb4-48cb-b279-aa56bbd467ff"
      },
      "source": [
        "## Using Finite Difference, Change only 1 S0 at a time\n",
        "%matplotlib inline\n",
        "import numpy as np\n",
        "def compute_delta(S, ith):\n",
        "    epsilon = 0.01\n",
        "    inputs1 = torch.tensor([[1, 110.0, 110.0, 0.35, 0.1, 0.05]*(ith-1)\\\n",
        "                           + [1, 110.0, S, 0.35, 0.1, 0.05]\\\n",
        "                           + ([1, 110.0, 110.0, 0.35, 0.1, 0.05]*(nstock-ith))]).cuda()\n",
        "    inputs2 = torch.tensor([[1, 110.0, 110.0, 0.35, 0.1, 0.05]*(ith-1)\\\n",
        "                           + [1, 110.0, S + epsilon, 0.35, 0.1, 0.05]\\\n",
        "                           + ([1, 110.0, 110.0, 0.35, 0.1, 0.05]*(nstock-ith))]).cuda()\n",
        "    delta = (model(inputs2.float()) - model(inputs1.float()))/epsilon\n",
        "    return delta\n",
        "\n",
        "for i in range(1, nstock+1):\n",
        "  prices = np.arange(0, 200, 0.1)\n",
        "  deltas = []\n",
        "  for p in prices:\n",
        "      deltas.append(compute_delta(p, i).item())\n",
        "  fig = pylab.plot(prices, deltas, label = f'{i}th stock')\n",
        "  pylab.legend(loc = 'upper right')\n",
        "  pylab.xlabel('prices')\n",
        "  pylab.ylabel('Delta')\n",
        "  fig"
      ],
      "execution_count": null,
      "outputs": [
        {
          "output_type": "display_data",
          "data": {
            "image/png": "[encoded data removed]",
            "text/plain": [
              "<Figure size 432x288 with 1 Axes>"
            ]
          },
          "metadata": {
            "tags": [],
            "needs_background": "light"
          }
        }
      ]
    },
    {
      "cell_type": "markdown",
      "metadata": {
        "id": "fIJe36fJ4JFO"
      },
      "source": [
        "#### Using Finite Difference, Change 3 S0 at a time"
      ]
    },
    {
      "cell_type": "code",
      "metadata": {
        "colab": {
          "base_uri": "https://localhost:8080/",
          "height": 297
        },
        "id": "4O1I8COnUxnz",
        "outputId": "94adffa3-cb7b-46ac-95f7-a6eefa69ea29"
      },
      "source": [
        "##Using Finite Difference, Change 3 S0 at a time\n",
        "%matplotlib inline\n",
        "import numpy as np\n",
        "def compute_delta(S):\n",
        "    epsilon = 0.01\n",
        "    inputs1 = torch.tensor([[1, 110.0, S, 0.35, 0.1, 0.05]*nstock]).cuda()\n",
        "    inputs2 = torch.tensor([[1, 110.0, S + epsilon, 0.35, 0.1, 0.05]*nstock]).cuda()\n",
        "    delta = (model(inputs2.float()) - model(inputs1.float()))/epsilon\n",
        "    return delta\n",
        "\n",
        "\n",
        "prices = np.arange(0, 200, 0.1)\n",
        "deltas = []\n",
        "for p in prices:\n",
        "    deltas.append(compute_delta(p).item())\n",
        "fig = pylab.plot(prices, deltas)\n",
        "pylab.xlabel('prices')\n",
        "pylab.ylabel('Delta')\n",
        "fig"
      ],
      "execution_count": null,
      "outputs": [
        {
          "output_type": "execute_result",
          "data": {
            "text/plain": [
              "[<matplotlib.lines.Line2D at 0x7f3310f856d0>]"
            ]
          },
          "metadata": {
            "tags": []
          },
          "execution_count": 25
        },
        {
          "output_type": "display_data",
          "data": {
            "image/png": "[encoded data removed]",
            "text/plain": [
              "<Figure size 432x288 with 1 Axes>"
            ]
          },
          "metadata": {
            "tags": [],
            "needs_background": "light"
          }
        }
      ]
    },
    {
      "cell_type": "markdown",
      "metadata": {
        "id": "yNB8LPwfBMHQ"
      },
      "source": [
        "# Gamma"
      ]
    },
    {
      "cell_type": "markdown",
      "metadata": {
        "id": "oLO_5nEGVcEc"
      },
      "source": [
        "Calculating the second order derivative is easy in PyTorch too. We just need to apply the `grad` function twice. Use this mechanism, we can calculate the second order derivatives $\\frac{\\partial^2 P}{\\partial K \\partial S_0}$, $\\frac{\\partial^2 P}{\\partial B \\partial S_0}$, $\\frac{\\partial^2 P}{\\partial S_0^2}$, $\\frac{\\partial^2 P}{\\partial \\sigma \\partial S_0}$, $\\frac{\\partial^2 P}{\\partial \\mu \\partial S_0}$, $\\frac{\\partial^2 P}{\\partial r \\partial S_0}$ in the following example."
      ]
    },
    {
      "cell_type": "code",
      "metadata": {
        "id": "nGzj7A3sThZK",
        "colab": {
          "base_uri": "https://localhost:8080/"
        },
        "outputId": "28713254-95a4-4984-d061-a583bbcbe663"
      },
      "source": [
        "import torch\n",
        "from torch import Tensor\n",
        "from torch.autograd import Variable\n",
        "from torch.autograd import grad\n",
        "from torch import nn\n",
        "\n",
        "inputs = torch.tensor([[1, 110.0, 110.0, 0.35, 0.1, 0.05]*nstock]).cuda()\n",
        "inputs.requires_grad = True\n",
        "x = model(inputs)\n",
        "\n",
        "# instead of using loss.backward(), use torch.autograd.grad() to compute gradients\n",
        "# https://pytorch.org/docs/stable/autograd.html#torch.autograd.grad\n",
        "loss_grads = grad(x, inputs, create_graph=True)\n",
        "drv = grad(loss_grads[0][0][2], inputs)\n",
        "drv"
      ],
      "execution_count": null,
      "outputs": [
        {
          "output_type": "execute_result",
          "data": {
            "text/plain": [
              "(tensor([[-0.0030, -0.0004,  0.0003, -0.0026, -0.0050,  0.0771,  0.0002, -0.0003,\n",
              "           0.0003, -0.0031, -0.0021,  0.0597, -0.0086, -0.0003,  0.0003, -0.0020,\n",
              "           0.0010,  0.0390, -0.0041, -0.0003,  0.0003, -0.0036, -0.0078, -0.0084,\n",
              "          -0.0046, -0.0003,  0.0003, -0.0002,  0.0035,  0.0468,  0.0036, -0.0003,\n",
              "           0.0003,  0.0022,  0.0003,  0.0447, -0.0067, -0.0003,  0.0003, -0.0037,\n",
              "           0.0027,  0.0700,  0.0021, -0.0003,  0.0003, -0.0008, -0.0011, -0.0080,\n",
              "          -0.0125, -0.0003,  0.0003, -0.0015,  0.0026,  0.0382,  0.0012, -0.0003,\n",
              "           0.0003, -0.0007, -0.0013, -0.0546]], device='cuda:0'),)"
            ]
          },
          "metadata": {
            "tags": []
          },
          "execution_count": 26
        }
      ]
    },
    {
      "cell_type": "markdown",
      "metadata": {
        "id": "WJbZYtvhVmSo"
      },
      "source": [
        "Gamma is the second order differenation of `S`. We can plot the the Gamma curve as a function of the stock price"
      ]
    },
    {
      "cell_type": "markdown",
      "metadata": {
        "id": "dlXVePiK4UH5"
      },
      "source": [
        "#### Using gradient, Change only 1 S0 at a time"
      ]
    },
    {
      "cell_type": "code",
      "metadata": {
        "id": "3JpQa3EJToA0",
        "colab": {
          "base_uri": "https://localhost:8080/",
          "height": 280
        },
        "outputId": "e3098739-5862-4df4-9fe6-2ac207bb22d6"
      },
      "source": [
        "##Using gradient, Change only 1 S0 at a time\n",
        "import pylab\n",
        "import numpy as np\n",
        "def compute_gamma(S, ith):\n",
        "  inputs = torch.tensor([[1, 110.0, 110.0, 0.35, 0.1, 0.05]*(ith-1)\\\n",
        "                           + [1, 110.0, S, 0.35, 0.1, 0.05]\\\n",
        "                           + ([1, 110.0, 110.0, 0.35, 0.1, 0.05]*(nstock-ith))]).cuda()\n",
        "  # inputs = torch.tensor([[1, 110.0, S, 0.35, 0.1, 0.05] + ([1, 110.0, 110.0, 0.35, 0.1, 0.05]*2)]).cuda()\n",
        "  inputs.requires_grad = True\n",
        "  x = model(inputs.float())\n",
        "  #x = model(inputs)\n",
        "  loss_grads = grad(x, inputs, create_graph=True)\n",
        "  drv = grad(loss_grads[0][0][2], inputs)\n",
        "  return drv[0][0][2]\n",
        "\n",
        "for i in range(1, nstock+1):\n",
        "  prices = np.arange(0, 200, 0.1)\n",
        "  gammas = []\n",
        "  for p in prices:\n",
        "      gammas.append(compute_gamma(p, i).item())\n",
        "  fig2 = pylab.plot(prices, gammas, label = f'{i}th stock')\n",
        "  pylab.legend(loc = 'upper right')\n",
        "  pylab.xlabel('prices')\n",
        "  pylab.ylabel('Gamma')\n",
        "  fig2"
      ],
      "execution_count": null,
      "outputs": [
        {
          "output_type": "display_data",
          "data": {
            "image/png": "[encoded data removed]",
            "text/plain": [
              "<Figure size 432x288 with 1 Axes>"
            ]
          },
          "metadata": {
            "tags": [],
            "needs_background": "light"
          }
        }
      ]
    },
    {
      "cell_type": "markdown",
      "metadata": {
        "id": "RDEmn97t4xxJ"
      },
      "source": [
        "#### Using Finite Difference, Change only 1 S0 at a time"
      ]
    },
    {
      "cell_type": "code",
      "metadata": {
        "id": "BsoaOyCDxQy0",
        "colab": {
          "base_uri": "https://localhost:8080/",
          "height": 279
        },
        "outputId": "7f2bf964-2d0f-402d-e1d4-e7228790d7be"
      },
      "source": [
        "##Using Finite Difference, Change only 1 S0 at a time\n",
        "%matplotlib inline\n",
        "import numpy as np\n",
        "def compute_gamma(S, ith):\n",
        "    epsilon = 0.5\n",
        "    inputs1 = torch.tensor([[1, 110.0, 110.0, 0.35, 0.1, 0.05]*(ith-1)\\\n",
        "                           + [1, 110.0, S, 0.35, 0.1, 0.05]\\\n",
        "                           + ([1, 110.0, 110.0, 0.35, 0.1, 0.05]*(nstock-ith))]).cuda()\n",
        "    inputs2 = torch.tensor([[1, 110.0, 110.0, 0.35, 0.1, 0.05]*(ith-1)\\\n",
        "                           + [1, 110.0, S+epsilon, 0.35, 0.1, 0.05]\\\n",
        "                           + ([1, 110.0, 110.0, 0.35, 0.1, 0.05]*(nstock-ith))]).cuda()\n",
        "    inputs3 = torch.tensor([[1, 110.0, 110.0, 0.35, 0.1, 0.05]*(ith-1)\\\n",
        "                           + [1, 110.0, S-epsilon, 0.35, 0.1, 0.05]\\\n",
        "                           + ([1, 110.0, 110.0, 0.35, 0.1, 0.05]*(nstock-ith))]).cuda()\n",
        "    # inputs1 = torch.tensor([[1, 110.0, S, 0.35, 0.1, 0.05]  + ([1, 110.0, 110.0, 0.35, 0.1, 0.05]*2)]).cuda()\n",
        "    # inputs2 = torch.tensor([[1, 110.0, S + epsilon, 0.35, 0.1, 0.05]  + ([1, 110.0, 110.0, 0.35, 0.1, 0.05]*2)]).cuda()\n",
        "    # inputs3 = torch.tensor([[1, 110.0, S - epsilon, 0.35, 0.1, 0.05]  + ([1, 110.0, 110.0, 0.35, 0.1, 0.05]*2)]).cuda()\n",
        "    gamma = (model(inputs2.float()) - 2*model(inputs1.float()) + model(inputs3.float()))/(epsilon**2)\n",
        "    return gamma\n",
        "\n",
        "for i in range(1, nstock+1):\n",
        "  prices = np.arange(0, 200, 0.1)\n",
        "  gammas = []\n",
        "  for p in prices:\n",
        "      gammas.append(compute_gamma(p, i).item())\n",
        "  fig = pylab.plot(prices, gammas, label = f'{i}th stock')\n",
        "  pylab.legend(loc = 'upper right')\n",
        "  pylab.xlabel('prices')\n",
        "  pylab.ylabel('Gamma')\n",
        "  fig"
      ],
      "execution_count": null,
      "outputs": [
        {
          "output_type": "display_data",
          "data": {
            "image/png": "[encoded data removed]",
            "text/plain": [
              "<Figure size 432x288 with 1 Axes>"
            ]
          },
          "metadata": {
            "tags": [],
            "needs_background": "light"
          }
        }
      ]
    },
    {
      "cell_type": "markdown",
      "metadata": {
        "id": "SnRaSM685NCq"
      },
      "source": [
        "#### Using Finite Difference, Change 3 S0 at a time"
      ]
    },
    {
      "cell_type": "code",
      "metadata": {
        "colab": {
          "base_uri": "https://localhost:8080/",
          "height": 297
        },
        "id": "aOsXgOwWZ_ru",
        "outputId": "52f0cc52-6422-4375-da2e-01ae487bfa85"
      },
      "source": [
        "##Using Finite Difference, Change 3 S0 at a time\n",
        "%matplotlib inline\n",
        "import numpy as np\n",
        "def compute_gamma(S):\n",
        "    epsilon = 0.5\n",
        "    inputs1 = torch.tensor([[1, 110.0, S, 0.35, 0.1, 0.05]*nstock]).cuda()\n",
        "    inputs2 = torch.tensor([[1, 110.0, S + epsilon, 0.35, 0.1, 0.05]*nstock]).cuda()\n",
        "    inputs3 = torch.tensor([[1, 110.0, S - epsilon, 0.35, 0.1, 0.05]*nstock]).cuda()\n",
        "    gamma = (model(inputs2.float()) - 2*model(inputs1.float()) + model(inputs3.float()))/(epsilon**2)\n",
        "    return gamma\n",
        "\n",
        "prices = np.arange(0, 200, 0.1)\n",
        "gammas = []\n",
        "for p in prices:\n",
        "    gammas.append(compute_gamma(p).item())\n",
        "fig = pylab.plot(prices, gammas)\n",
        "pylab.xlabel('prices')\n",
        "pylab.ylabel('Gamma')\n",
        "fig"
      ],
      "execution_count": null,
      "outputs": [
        {
          "output_type": "execute_result",
          "data": {
            "text/plain": [
              "[<matplotlib.lines.Line2D at 0x7f33116bd6d0>]"
            ]
          },
          "metadata": {
            "tags": []
          },
          "execution_count": 29
        },
        {
          "output_type": "display_data",
          "data": {
            "image/png": "[encoded data removed]",
            "text/plain": [
              "<Figure size 432x288 with 1 Axes>"
            ]
          },
          "metadata": {
            "tags": [],
            "needs_background": "light"
          }
        }
      ]
    },
    {
      "cell_type": "markdown",
      "metadata": {
        "id": "67lca2xrBh9a"
      },
      "source": [
        "# Vega"
      ]
    },
    {
      "cell_type": "markdown",
      "metadata": {
        "id": "iuETeg-e53wz"
      },
      "source": [
        "#### Using finite difference, Change only 1 S0 at a time"
      ]
    },
    {
      "cell_type": "code",
      "metadata": {
        "id": "muozc-hzhSGA",
        "colab": {
          "base_uri": "https://localhost:8080/",
          "height": 279
        },
        "outputId": "270dfbc2-7261-44ac-8219-d440800a63d1"
      },
      "source": [
        "##Using finite difference, Change only 1 S0 at a time\n",
        "# vega\n",
        "%matplotlib inline\n",
        "import numpy as np\n",
        "def compute_vega(S, ith):\n",
        "    epsilon = 0.5\n",
        "\n",
        "    inputs1 = torch.tensor([[1, 110.0, 110.0, 0.35, 0.1, 0.05]*(ith-1)\\\n",
        "                           + [1, 110.0, S, 0.35, 0.1, 0.05]\\\n",
        "                           + ([1, 110.0, 110.0, 0.35, 0.1, 0.05]*(nstock-ith))]).cuda()\n",
        "    inputs2 = torch.tensor([[1, 110.0, 110.0, 0.35, 0.1, 0.05]*(ith-1)\\\n",
        "                           + [1, 110.0, S, 0.35+epsilon, 0.1, 0.05]\\\n",
        "                           + ([1, 110.0, 110.0, 0.35, 0.1, 0.05]*(nstock-ith))]).cuda()\n",
        "\n",
        "    vega = (model(inputs2.float()) - model(inputs1.float()))/epsilon\n",
        "    return vega\n",
        "\n",
        "for i in range(1, nstock+1):\n",
        "  prices = np.arange(0, 200, 0.1)\n",
        "  vegas = []\n",
        "  for p in prices:\n",
        "      vegas.append(compute_vega(p, i).item())\n",
        "  fig = pylab.plot(prices, vegas, label = f'{i}th stock')\n",
        "  pylab.legend(loc = 'upper right')\n",
        "  pylab.xlabel('prices')\n",
        "  pylab.ylabel('Vega')\n",
        "  fig"
      ],
      "execution_count": null,
      "outputs": [
        {
          "output_type": "display_data",
          "data": {
            "image/png": "[encoded data removed]",
            "text/plain": [
              "<Figure size 432x288 with 1 Axes>"
            ]
          },
          "metadata": {
            "tags": [],
            "needs_background": "light"
          }
        }
      ]
    },
    {
      "cell_type": "markdown",
      "metadata": {
        "id": "y_BYyL9d584w"
      },
      "source": [
        "#### Using Finite Difference, Change 3 S0 at a time"
      ]
    },
    {
      "cell_type": "code",
      "metadata": {
        "colab": {
          "base_uri": "https://localhost:8080/",
          "height": 297
        },
        "id": "0KATxBCAdlFt",
        "outputId": "71c5cc50-d0fc-426f-eae5-390a04839655"
      },
      "source": [
        "##Using Finite Difference, Change 3 S0 at a time\n",
        "# vega\n",
        "%matplotlib inline\n",
        "import numpy as np\n",
        "def compute_vega(S):\n",
        "    epsilon = 0.5\n",
        "    inputs1 = torch.tensor([[1, 110.0, S, 0.35, 0.1, 0.05]*nstock]).cuda()\n",
        "    inputs2 = torch.tensor([[1, 110.0, S, 0.35 + epsilon, 0.1, 0.05]*nstock]).cuda()\n",
        "    vega = (model(inputs2.float()) - model(inputs1.float()))/epsilon\n",
        "    return vega\n",
        "\n",
        "\n",
        "prices = np.arange(0, 200, 0.1)\n",
        "vegas = []\n",
        "for p in prices:\n",
        "    vegas.append(compute_vega(p).item())\n",
        "fig = pylab.plot(prices, vegas)\n",
        "pylab.xlabel('prices')\n",
        "pylab.ylabel('Vega')\n",
        "fig"
      ],
      "execution_count": null,
      "outputs": [
        {
          "output_type": "execute_result",
          "data": {
            "text/plain": [
              "[<matplotlib.lines.Line2D at 0x7f32f62073d0>]"
            ]
          },
          "metadata": {
            "tags": []
          },
          "execution_count": 31
        },
        {
          "output_type": "display_data",
          "data": {
            "image/png": "[encoded data removed]",
            "text/plain": [
              "<Figure size 432x288 with 1 Axes>"
            ]
          },
          "metadata": {
            "tags": [],
            "needs_background": "light"
          }
        }
      ]
    },
    {
      "cell_type": "markdown",
      "metadata": {
        "id": "Rj7NlW6GVqSA"
      },
      "source": [
        "[Implied volatility](https://en.wikipedia.org/wiki/Implied_volatility) is the forecasted volatility of the underlying asset based on the quoted prices of the option. It is the reverse mapping of price to the option parameter given the model which is hard to do with the Monte Carlo simulation approach. But if we have the deep learning pricing model, it is an easy task. We can first plot the relationship between volatility and the option price"
      ]
    },
    {
      "cell_type": "code",
      "metadata": {
        "id": "4yrCw5UNT07t"
      },
      "source": [
        "# import pylab\n",
        "# import numpy as np\n",
        "# def compute_price(sigma):\n",
        "#     inputs = torch.tensor([[1, 110.0, 110.0, sigma, 0.1, 0.05]]).cuda()\n",
        "#     x = model(inputs.float())\n",
        "#     #x = model(inputs)\n",
        "#     return x.item()\n",
        "# sigmas = np.arange(0, 0.5, 0.1)\n",
        "# prices = []\n",
        "# for s in sigmas:\n",
        "#     prices.append(compute_price(s))\n",
        "# fig3 = pylab.plot(sigmas, prices)\n",
        "# pylab.xlabel('Sigma')\n",
        "# pylab.ylabel('Price')\n",
        "# fig3"
      ],
      "execution_count": null,
      "outputs": []
    },
    {
      "cell_type": "markdown",
      "metadata": {
        "id": "EU25Cj29VtCa"
      },
      "source": [
        "Given the prices `P`, the implied volatility is the root of the function `compute_price`. We can use bisection to find the root."
      ]
    },
    {
      "cell_type": "code",
      "metadata": {
        "id": "ddHnwm_zUBYD"
      },
      "source": [
        "# def bisection_root(small, large, fun, target, EPS=1e-6):\n",
        "#     if fun(large) - target < 0:\n",
        "#         print('upper bound is too small')\n",
        "#         return None\n",
        "#     if fun(small) - target > 0:\n",
        "#         print('lower bound is too large')\n",
        "#         return None\n",
        "#     while large - small > EPS:\n",
        "#         mid = (large + small) / 2.0\n",
        "#         if fun(mid) - target >= 0:\n",
        "#             large = mid\n",
        "#         else:\n",
        "#             small = mid\n",
        "#     mid = (large + small) / 2.0\n",
        "#     return mid, abs(fun(mid) - target)\n",
        "# quoted_price = 16.0\n",
        "# sigma, err = bisection_root(0, 0.5, compute_price, quoted_price)\n",
        "# print('implied volativity', sigma, 'error', err)     "
      ],
      "execution_count": null,
      "outputs": []
    },
    {
      "cell_type": "code",
      "metadata": {
        "id": "DEiAredqQGxf"
      },
      "source": [
        ""
      ],
      "execution_count": null,
      "outputs": []
    }
  ]
}